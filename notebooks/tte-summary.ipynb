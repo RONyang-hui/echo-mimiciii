{
 "cells": [
  {
   "cell_type": "code",
   "execution_count": 1,
   "metadata": {},
   "outputs": [
    {
     "name": "stderr",
     "output_type": "stream",
     "text": [
      "Loading required package: DBI\n",
      "── Attaching packages ─────────────────────────────────────── tidyverse 1.2.1 ──\n",
      "✔ ggplot2 2.2.1     ✔ purrr   0.2.4\n",
      "✔ tibble  1.4.2     ✔ dplyr   0.7.4\n",
      "✔ tidyr   0.8.0     ✔ stringr 1.2.0\n",
      "✔ readr   1.1.1     ✔ forcats 0.2.0\n",
      "── Conflicts ────────────────────────────────────────── tidyverse_conflicts() ──\n",
      "✖ dplyr::filter() masks stats::filter()\n",
      "✖ dplyr::lag()    masks stats::lag()\n"
     ]
    }
   ],
   "source": [
    "library(RPostgreSQL)\n",
    "library(tidyverse)"
   ]
  },
  {
   "cell_type": "code",
   "execution_count": 2,
   "metadata": {},
   "outputs": [],
   "source": [
    "data_dir <- file.path(\"..\", \"data\")\n",
    "sql_dir <- file.path(\"..\", \"sql\")"
   ]
  },
  {
   "cell_type": "code",
   "execution_count": 3,
   "metadata": {},
   "outputs": [
    {
     "data": {
      "text/plain": [
       "<PostgreSQLResult>"
      ]
     },
     "metadata": {},
     "output_type": "display_data"
    }
   ],
   "source": [
    "drv <- dbDriver(\"PostgreSQL\")\n",
    "con <- dbConnect(drv, dbname = \"mimic\")\n",
    "dbSendQuery(con, \"set search_path=echo,public,mimiciii;\")"
   ]
  },
  {
   "cell_type": "code",
   "execution_count": 4,
   "metadata": {},
   "outputs": [
    {
     "data": {
      "text/html": [
       "<span style=white-space:pre-wrap>'with tte_1 as (\\n    select icu.icustay_id, ne.chartdate as echo_time\\n    from icustays icu left join noteevents ne using (hadm_id)\\n    where lower(ne.category) like \\'echo\\'\\n    and lower(ne.description) like \\'report\\'\\n    and (ne.chartdate between (date_trunc(\\'day\\', icu.intime)) and icu.outtime)\\n)\\n\\n, tte_2 as (\\n    select icustay_id, count(*) as echo_times\\n    from tte_1\\n    group by icustay_id\\n)\\n\\nselect icustay_id, echo_times\\nfrom merged_data left join tte_2 using (icustay_id) where echo = 1;\\n'</span>"
      ],
      "text/latex": [
       "'with tte\\_1 as (\\textbackslash{}n    select icu.icustay\\_id, ne.chartdate as echo\\_time\\textbackslash{}n    from icustays icu left join noteevents ne using (hadm\\_id)\\textbackslash{}n    where lower(ne.category) like \\textbackslash{}'echo\\textbackslash{}'\\textbackslash{}n    and lower(ne.description) like \\textbackslash{}'report\\textbackslash{}'\\textbackslash{}n    and (ne.chartdate between (date\\_trunc(\\textbackslash{}'day\\textbackslash{}', icu.intime)) and icu.outtime)\\textbackslash{}n)\\textbackslash{}n\\textbackslash{}n, tte\\_2 as (\\textbackslash{}n    select icustay\\_id, count(*) as echo\\_times\\textbackslash{}n    from tte\\_1\\textbackslash{}n    group by icustay\\_id\\textbackslash{}n)\\textbackslash{}n\\textbackslash{}nselect icustay\\_id, echo\\_times\\textbackslash{}nfrom merged\\_data left join tte\\_2 using (icustay\\_id) where echo = 1;\\textbackslash{}n'"
      ],
      "text/markdown": [
       "<span style=white-space:pre-wrap>'with tte_1 as (\\n    select icu.icustay_id, ne.chartdate as echo_time\\n    from icustays icu left join noteevents ne using (hadm_id)\\n    where lower(ne.category) like \\'echo\\'\\n    and lower(ne.description) like \\'report\\'\\n    and (ne.chartdate between (date_trunc(\\'day\\', icu.intime)) and icu.outtime)\\n)\\n\\n, tte_2 as (\\n    select icustay_id, count(*) as echo_times\\n    from tte_1\\n    group by icustay_id\\n)\\n\\nselect icustay_id, echo_times\\nfrom merged_data left join tte_2 using (icustay_id) where echo = 1;\\n'</span>"
      ],
      "text/plain": [
       "[1] \"with tte_1 as (\\n    select icu.icustay_id, ne.chartdate as echo_time\\n    from icustays icu left join noteevents ne using (hadm_id)\\n    where lower(ne.category) like 'echo'\\n    and lower(ne.description) like 'report'\\n    and (ne.chartdate between (date_trunc('day', icu.intime)) and icu.outtime)\\n)\\n\\n, tte_2 as (\\n    select icustay_id, count(*) as echo_times\\n    from tte_1\\n    group by icustay_id\\n)\\n\\nselect icustay_id, echo_times\\nfrom merged_data left join tte_2 using (icustay_id) where echo = 1;\\n\""
      ]
     },
     "metadata": {},
     "output_type": "display_data"
    }
   ],
   "source": [
    "sql <- readr::read_file(file.path(sql_dir, \"tte-summary.sql\"))\n",
    "sql"
   ]
  },
  {
   "cell_type": "code",
   "execution_count": 5,
   "metadata": {},
   "outputs": [
    {
     "data": {
      "text/html": [
       "<table>\n",
       "<thead><tr><th scope=col>icustay_id</th><th scope=col>echo_times</th></tr></thead>\n",
       "<tbody>\n",
       "\t<tr><td>228416</td><td>1     </td></tr>\n",
       "\t<tr><td>274174</td><td>1     </td></tr>\n",
       "\t<tr><td>214954</td><td>1     </td></tr>\n",
       "\t<tr><td>264413</td><td>1     </td></tr>\n",
       "\t<tr><td>214106</td><td>1     </td></tr>\n",
       "\t<tr><td>294908</td><td>1     </td></tr>\n",
       "</tbody>\n",
       "</table>\n"
      ],
      "text/latex": [
       "\\begin{tabular}{r|ll}\n",
       " icustay\\_id & echo\\_times\\\\\n",
       "\\hline\n",
       "\t 228416 & 1     \\\\\n",
       "\t 274174 & 1     \\\\\n",
       "\t 214954 & 1     \\\\\n",
       "\t 264413 & 1     \\\\\n",
       "\t 214106 & 1     \\\\\n",
       "\t 294908 & 1     \\\\\n",
       "\\end{tabular}\n"
      ],
      "text/markdown": [
       "\n",
       "icustay_id | echo_times | \n",
       "|---|---|---|---|---|---|\n",
       "| 228416 | 1      | \n",
       "| 274174 | 1      | \n",
       "| 214954 | 1      | \n",
       "| 264413 | 1      | \n",
       "| 214106 | 1      | \n",
       "| 294908 | 1      | \n",
       "\n",
       "\n"
      ],
      "text/plain": [
       "  icustay_id echo_times\n",
       "1 228416     1         \n",
       "2 274174     1         \n",
       "3 214954     1         \n",
       "4 264413     1         \n",
       "5 214106     1         \n",
       "6 294908     1         "
      ]
     },
     "metadata": {},
     "output_type": "display_data"
    },
    {
     "name": "stdout",
     "output_type": "stream",
     "text": [
      "'data.frame':\t3063 obs. of  2 variables:\n",
      " $ icustay_id: int  228416 274174 214954 264413 214106 294908 232091 222088 213342 213317 ...\n",
      " $ echo_times: num  1 1 1 1 1 1 1 1 1 1 ...\n"
     ]
    }
   ],
   "source": [
    "tte_summary <- dbGetQuery(con, sql)\n",
    "head(tte_summary)\n",
    "str(tte_summary)"
   ]
  },
  {
   "cell_type": "code",
   "execution_count": 6,
   "metadata": {},
   "outputs": [
    {
     "data": {
      "text/html": [
       "<table>\n",
       "<thead><tr><th scope=col>mean</th><th scope=col>sd</th></tr></thead>\n",
       "<tbody>\n",
       "\t<tr><td>1.263467 </td><td>0.6853849</td></tr>\n",
       "</tbody>\n",
       "</table>\n"
      ],
      "text/latex": [
       "\\begin{tabular}{r|ll}\n",
       " mean & sd\\\\\n",
       "\\hline\n",
       "\t 1.263467  & 0.6853849\\\\\n",
       "\\end{tabular}\n"
      ],
      "text/markdown": [
       "\n",
       "mean | sd | \n",
       "|---|\n",
       "| 1.263467  | 0.6853849 | \n",
       "\n",
       "\n"
      ],
      "text/plain": [
       "  mean     sd       \n",
       "1 1.263467 0.6853849"
      ]
     },
     "metadata": {},
     "output_type": "display_data"
    }
   ],
   "source": [
    "tte_summary %>%\n",
    "summarise(mean = mean(echo_times),\n",
    "          sd = sd(echo_times))"
   ]
  },
  {
   "cell_type": "code",
   "execution_count": 7,
   "metadata": {},
   "outputs": [
    {
     "data": {
      "text/html": [
       "TRUE"
      ],
      "text/latex": [
       "TRUE"
      ],
      "text/markdown": [
       "TRUE"
      ],
      "text/plain": [
       "[1] TRUE"
      ]
     },
     "metadata": {},
     "output_type": "display_data"
    },
    {
     "data": {
      "text/html": [
       "TRUE"
      ],
      "text/latex": [
       "TRUE"
      ],
      "text/markdown": [
       "TRUE"
      ],
      "text/plain": [
       "[1] TRUE"
      ]
     },
     "metadata": {},
     "output_type": "display_data"
    }
   ],
   "source": [
    "dbDisconnect(con)\n",
    "dbUnloadDriver(drv)"
   ]
  },
  {
   "cell_type": "code",
   "execution_count": 8,
   "metadata": {},
   "outputs": [],
   "source": [
    "data.table::fwrite(tte_summary, file.path(data_dir, \"echo_times.csv\"))"
   ]
  }
 ],
 "metadata": {
  "kernelspec": {
   "display_name": "R",
   "language": "R",
   "name": "ir"
  },
  "language_info": {
   "codemirror_mode": "r",
   "file_extension": ".r",
   "mimetype": "text/x-r-source",
   "name": "R",
   "pygments_lexer": "r",
   "version": "3.4.3"
  },
  "varInspector": {
   "cols": {
    "lenName": 16,
    "lenType": 16,
    "lenVar": 40
   },
   "kernels_config": {
    "python": {
     "delete_cmd_postfix": "",
     "delete_cmd_prefix": "del ",
     "library": "var_list.py",
     "varRefreshCmd": "print(var_dic_list())"
    },
    "r": {
     "delete_cmd_postfix": ") ",
     "delete_cmd_prefix": "rm(",
     "library": "var_list.r",
     "varRefreshCmd": "cat(var_dic_list()) "
    }
   },
   "types_to_exclude": [
    "module",
    "function",
    "builtin_function_or_method",
    "instance",
    "_Feature"
   ],
   "window_display": false
  }
 },
 "nbformat": 4,
 "nbformat_minor": 2
}
