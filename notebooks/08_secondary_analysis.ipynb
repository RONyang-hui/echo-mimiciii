{
 "cells": [
  {
   "cell_type": "code",
   "execution_count": 1,
   "metadata": {
    "scrolled": true
   },
   "outputs": [
    {
     "name": "stderr",
     "output_type": "stream",
     "text": [
      "Loading required package: DBI\n",
      "Loading required package: grid\n",
      "Loading required package: Matrix\n",
      "Loading required package: survival\n",
      "\n",
      "Attaching package: ‘survey’\n",
      "\n",
      "The following object is masked from ‘package:graphics’:\n",
      "\n",
      "    dotchart\n",
      "\n",
      "── Attaching packages ─────────────────────────────────────── tidyverse 1.2.1 ──\n",
      "✔ ggplot2 2.2.1     ✔ purrr   0.2.4\n",
      "✔ tibble  1.4.2     ✔ dplyr   0.7.4\n",
      "✔ tidyr   0.8.0     ✔ stringr 1.3.0\n",
      "✔ readr   1.1.1     ✔ forcats 0.3.0\n",
      "── Conflicts ────────────────────────────────────────── tidyverse_conflicts() ──\n",
      "✖ tidyr::expand() masks Matrix::expand()\n",
      "✖ dplyr::filter() masks stats::filter()\n",
      "✖ dplyr::lag()    masks stats::lag()\n"
     ]
    }
   ],
   "source": [
    "library(RPostgreSQL)\n",
    "library(survey)\n",
    "library(tidyverse)"
   ]
  },
  {
   "cell_type": "code",
   "execution_count": 2,
   "metadata": {},
   "outputs": [],
   "source": [
    "data_dir <- file.path(\"..\", \"data\")"
   ]
  },
  {
   "cell_type": "code",
   "execution_count": 3,
   "metadata": {},
   "outputs": [
    {
     "data": {
      "text/plain": [
       "<PostgreSQLResult>"
      ]
     },
     "metadata": {},
     "output_type": "display_data"
    }
   ],
   "source": [
    "drv <- dbDriver(\"PostgreSQL\")\n",
    "con <- dbConnect(drv, dbname = \"mimic\")\n",
    "dbSendQuery(con, \"set search_path=echo,public,mimiciii;\")"
   ]
  },
  {
   "cell_type": "code",
   "execution_count": 4,
   "metadata": {},
   "outputs": [],
   "source": [
    "sql <-\n",
    "\"select hadm_id, icustay_id, echo,\n",
    "    intime, outtime, echo_time, deathtime,\n",
    "    norepinephrine_max, dobutamine_flag,\n",
    "    vasofreeday28, ventfreeday28,\n",
    "    sofa, sofa_drop_2, sofa_drop_3,\n",
    "    day1, day2, day3, down2, down3,\n",
    "    lactate_diff, creatinine_diff,\n",
    "    lactate_diff_24, creatinine_diff_24\n",
    "from (select hadm_id, icustay_id, echo, intime, outtime, echo_time, deathtime from merged_data) co\n",
    "left join subgroup using (hadm_id, icustay_id, echo)\n",
    "left join lactate_diff using (hadm_id)\n",
    "left join creatinine_diff using (hadm_id)\n",
    "left join (select hadm_id, lactate_diff as lactate_diff_24 from lactate_diff_24) lt_24 using (hadm_id)\n",
    "left join (select hadm_id, creatinine_diff as creatinine_diff_24 from creatinine_diff_24) cr_24 using (hadm_id)\n",
    "left join (select icustay_id, day1, day2, day3, down2, down3 from fluid) fl using (icustay_id)\""
   ]
  },
  {
   "cell_type": "code",
   "execution_count": 5,
   "metadata": {},
   "outputs": [
    {
     "data": {
      "text/html": [
       "<table>\n",
       "<thead><tr><th scope=col>hadm_id</th><th scope=col>icustay_id</th><th scope=col>echo</th><th scope=col>intime</th><th scope=col>outtime</th><th scope=col>echo_time</th><th scope=col>deathtime</th><th scope=col>norepinephrine_max</th><th scope=col>dobutamine_flag</th><th scope=col>vasofreeday28</th><th scope=col>⋯</th><th scope=col>sofa_drop_3</th><th scope=col>day1</th><th scope=col>day2</th><th scope=col>day3</th><th scope=col>down2</th><th scope=col>down3</th><th scope=col>lactate_diff</th><th scope=col>creatinine_diff</th><th scope=col>lactate_diff_24</th><th scope=col>creatinine_diff_24</th></tr></thead>\n",
       "<tbody>\n",
       "\t<tr><td>163557             </td><td>200003             </td><td>1                  </td><td>2199-08-02 19:50:04</td><td>2199-08-08 17:09:18</td><td>2199-08-03         </td><td>2199-10-17 00:00:00</td><td>0.000000           </td><td>0                  </td><td>26.68750           </td><td>⋯                  </td><td> 3                 </td><td>1710.4062          </td><td>  276.9948         </td><td> -769.100          </td><td>1433.41146         </td><td> 2479.506          </td><td> 1.6               </td><td> 0.0               </td><td> 1.3               </td><td>-0.1               </td></tr>\n",
       "\t<tr><td>127229             </td><td>200014             </td><td>1                  </td><td>2105-02-16 23:16:48</td><td>2105-02-18 16:53:29</td><td>2105-02-18         </td><td>2105-02-27 00:00:00</td><td>0.000000           </td><td>0                  </td><td> 0.00000           </td><td>⋯                  </td><td> 2                 </td><td>1516.0000          </td><td>        NA         </td><td>       NA          </td><td>        NA         </td><td>       NA          </td><td>  NA               </td><td>-0.1               </td><td>  NA               </td><td>-0.2               </td></tr>\n",
       "\t<tr><td>165426             </td><td>200030             </td><td>1                  </td><td>2150-11-13 14:08:02</td><td>2150-11-19 17:51:59</td><td>2150-11-16         </td><td>2152-04-05 00:00:00</td><td>1.084800           </td><td>1                  </td><td>26.29167           </td><td>⋯                  </td><td> 5                 </td><td> 422.5490          </td><td>  327.0000         </td><td>-2115.000          </td><td>  95.54901         </td><td> 2537.549          </td><td>-1.1               </td><td> 0.0               </td><td>-1.1               </td><td> 0.0               </td></tr>\n",
       "\t<tr><td>198650             </td><td>200033             </td><td>0                  </td><td>2198-08-07 17:56:17</td><td>2198-08-21 14:59:18</td><td>NA                 </td><td>2198-08-21 11:15:00</td><td>0.000000           </td><td>0                  </td><td> 0.00000           </td><td>⋯                  </td><td>-5                 </td><td> 720.7583          </td><td>  346.7278         </td><td> 2223.795          </td><td> 374.03047         </td><td>-1503.037          </td><td>-0.1               </td><td> 0.1               </td><td>-0.4               </td><td> 0.0               </td></tr>\n",
       "\t<tr><td>159243             </td><td>200036             </td><td>0                  </td><td>2181-08-26 16:38:25</td><td>2181-08-29 16:28:48</td><td>NA                 </td><td>2184-11-13 00:00:00</td><td>0.000000           </td><td>0                  </td><td>28.00000           </td><td>⋯                  </td><td> 7                 </td><td>3750.0000          </td><td>  905.0000         </td><td> 1601.000          </td><td>2845.00000         </td><td> 2149.000          </td><td>  NA               </td><td> 0.5               </td><td>  NA               </td><td> 0.4               </td></tr>\n",
       "\t<tr><td>132255             </td><td>200075             </td><td>1                  </td><td>2159-09-23 00:13:20</td><td>2159-09-25 01:55:17</td><td>2159-09-25         </td><td>NA                 </td><td>1.058141           </td><td>0                  </td><td>27.66319           </td><td>⋯                  </td><td> 5                 </td><td>2616.9449          </td><td>-1983.8871         </td><td>       NA          </td><td>4600.83201         </td><td>       NA          </td><td>  NA               </td><td> 0.1               </td><td>  NA               </td><td> 0.0               </td></tr>\n",
       "</tbody>\n",
       "</table>\n"
      ],
      "text/latex": [
       "\\begin{tabular}{r|lllllllllllllllllllllll}\n",
       " hadm\\_id & icustay\\_id & echo & intime & outtime & echo\\_time & deathtime & norepinephrine\\_max & dobutamine\\_flag & vasofreeday28 & ⋯ & sofa\\_drop\\_3 & day1 & day2 & day3 & down2 & down3 & lactate\\_diff & creatinine\\_diff & lactate\\_diff\\_24 & creatinine\\_diff\\_24\\\\\n",
       "\\hline\n",
       "\t 163557              & 200003              & 1                   & 2199-08-02 19:50:04 & 2199-08-08 17:09:18 & 2199-08-03          & 2199-10-17 00:00:00 & 0.000000            & 0                   & 26.68750            & ⋯                   &  3                  & 1710.4062           &   276.9948          &  -769.100           & 1433.41146          &  2479.506           &  1.6                &  0.0                &  1.3                & -0.1               \\\\\n",
       "\t 127229              & 200014              & 1                   & 2105-02-16 23:16:48 & 2105-02-18 16:53:29 & 2105-02-18          & 2105-02-27 00:00:00 & 0.000000            & 0                   &  0.00000            & ⋯                   &  2                  & 1516.0000           &         NA          &        NA           &         NA          &        NA           &   NA                & -0.1                &   NA                & -0.2               \\\\\n",
       "\t 165426              & 200030              & 1                   & 2150-11-13 14:08:02 & 2150-11-19 17:51:59 & 2150-11-16          & 2152-04-05 00:00:00 & 1.084800            & 1                   & 26.29167            & ⋯                   &  5                  &  422.5490           &   327.0000          & -2115.000           &   95.54901          &  2537.549           & -1.1                &  0.0                & -1.1                &  0.0               \\\\\n",
       "\t 198650              & 200033              & 0                   & 2198-08-07 17:56:17 & 2198-08-21 14:59:18 & NA                  & 2198-08-21 11:15:00 & 0.000000            & 0                   &  0.00000            & ⋯                   & -5                  &  720.7583           &   346.7278          &  2223.795           &  374.03047          & -1503.037           & -0.1                &  0.1                & -0.4                &  0.0               \\\\\n",
       "\t 159243              & 200036              & 0                   & 2181-08-26 16:38:25 & 2181-08-29 16:28:48 & NA                  & 2184-11-13 00:00:00 & 0.000000            & 0                   & 28.00000            & ⋯                   &  7                  & 3750.0000           &   905.0000          &  1601.000           & 2845.00000          &  2149.000           &   NA                &  0.5                &   NA                &  0.4               \\\\\n",
       "\t 132255              & 200075              & 1                   & 2159-09-23 00:13:20 & 2159-09-25 01:55:17 & 2159-09-25          & NA                  & 1.058141            & 0                   & 27.66319            & ⋯                   &  5                  & 2616.9449           & -1983.8871          &        NA           & 4600.83201          &        NA           &   NA                &  0.1                &   NA                &  0.0               \\\\\n",
       "\\end{tabular}\n"
      ],
      "text/markdown": [
       "\n",
       "hadm_id | icustay_id | echo | intime | outtime | echo_time | deathtime | norepinephrine_max | dobutamine_flag | vasofreeday28 | ⋯ | sofa_drop_3 | day1 | day2 | day3 | down2 | down3 | lactate_diff | creatinine_diff | lactate_diff_24 | creatinine_diff_24 | \n",
       "|---|---|---|---|---|---|\n",
       "| 163557              | 200003              | 1                   | 2199-08-02 19:50:04 | 2199-08-08 17:09:18 | 2199-08-03          | 2199-10-17 00:00:00 | 0.000000            | 0                   | 26.68750            | ⋯                   |  3                  | 1710.4062           |   276.9948          |  -769.100           | 1433.41146          |  2479.506           |  1.6                |  0.0                |  1.3                | -0.1                | \n",
       "| 127229              | 200014              | 1                   | 2105-02-16 23:16:48 | 2105-02-18 16:53:29 | 2105-02-18          | 2105-02-27 00:00:00 | 0.000000            | 0                   |  0.00000            | ⋯                   |  2                  | 1516.0000           |         NA          |        NA           |         NA          |        NA           |   NA                | -0.1                |   NA                | -0.2                | \n",
       "| 165426              | 200030              | 1                   | 2150-11-13 14:08:02 | 2150-11-19 17:51:59 | 2150-11-16          | 2152-04-05 00:00:00 | 1.084800            | 1                   | 26.29167            | ⋯                   |  5                  |  422.5490           |   327.0000          | -2115.000           |   95.54901          |  2537.549           | -1.1                |  0.0                | -1.1                |  0.0                | \n",
       "| 198650              | 200033              | 0                   | 2198-08-07 17:56:17 | 2198-08-21 14:59:18 | NA                  | 2198-08-21 11:15:00 | 0.000000            | 0                   |  0.00000            | ⋯                   | -5                  |  720.7583           |   346.7278          |  2223.795           |  374.03047          | -1503.037           | -0.1                |  0.1                | -0.4                |  0.0                | \n",
       "| 159243              | 200036              | 0                   | 2181-08-26 16:38:25 | 2181-08-29 16:28:48 | NA                  | 2184-11-13 00:00:00 | 0.000000            | 0                   | 28.00000            | ⋯                   |  7                  | 3750.0000           |   905.0000          |  1601.000           | 2845.00000          |  2149.000           |   NA                |  0.5                |   NA                |  0.4                | \n",
       "| 132255              | 200075              | 1                   | 2159-09-23 00:13:20 | 2159-09-25 01:55:17 | 2159-09-25          | NA                  | 1.058141            | 0                   | 27.66319            | ⋯                   |  5                  | 2616.9449           | -1983.8871          |        NA           | 4600.83201          |        NA           |   NA                |  0.1                |   NA                |  0.0                | \n",
       "\n",
       "\n"
      ],
      "text/plain": [
       "  hadm_id icustay_id echo intime              outtime             echo_time \n",
       "1 163557  200003     1    2199-08-02 19:50:04 2199-08-08 17:09:18 2199-08-03\n",
       "2 127229  200014     1    2105-02-16 23:16:48 2105-02-18 16:53:29 2105-02-18\n",
       "3 165426  200030     1    2150-11-13 14:08:02 2150-11-19 17:51:59 2150-11-16\n",
       "4 198650  200033     0    2198-08-07 17:56:17 2198-08-21 14:59:18 <NA>      \n",
       "5 159243  200036     0    2181-08-26 16:38:25 2181-08-29 16:28:48 <NA>      \n",
       "6 132255  200075     1    2159-09-23 00:13:20 2159-09-25 01:55:17 2159-09-25\n",
       "  deathtime           norepinephrine_max dobutamine_flag vasofreeday28 ⋯\n",
       "1 2199-10-17 00:00:00 0.000000           0               26.68750      ⋯\n",
       "2 2105-02-27 00:00:00 0.000000           0                0.00000      ⋯\n",
       "3 2152-04-05 00:00:00 1.084800           1               26.29167      ⋯\n",
       "4 2198-08-21 11:15:00 0.000000           0                0.00000      ⋯\n",
       "5 2184-11-13 00:00:00 0.000000           0               28.00000      ⋯\n",
       "6 <NA>                1.058141           0               27.66319      ⋯\n",
       "  sofa_drop_3 day1      day2       day3      down2      down3     lactate_diff\n",
       "1  3          1710.4062   276.9948  -769.100 1433.41146  2479.506  1.6        \n",
       "2  2          1516.0000         NA        NA         NA        NA   NA        \n",
       "3  5           422.5490   327.0000 -2115.000   95.54901  2537.549 -1.1        \n",
       "4 -5           720.7583   346.7278  2223.795  374.03047 -1503.037 -0.1        \n",
       "5  7          3750.0000   905.0000  1601.000 2845.00000  2149.000   NA        \n",
       "6  5          2616.9449 -1983.8871        NA 4600.83201        NA   NA        \n",
       "  creatinine_diff lactate_diff_24 creatinine_diff_24\n",
       "1  0.0             1.3            -0.1              \n",
       "2 -0.1              NA            -0.2              \n",
       "3  0.0            -1.1             0.0              \n",
       "4  0.1            -0.4             0.0              \n",
       "5  0.5              NA             0.4              \n",
       "6  0.1              NA             0.0              "
      ]
     },
     "metadata": {},
     "output_type": "display_data"
    }
   ],
   "source": [
    "subgroup <- dbGetQuery(con, sql)\n",
    "head(subgroup)"
   ]
  },
  {
   "cell_type": "code",
   "execution_count": 6,
   "metadata": {},
   "outputs": [
    {
     "data": {
      "text/html": [
       "<ol class=list-inline>\n",
       "\t<li>'ventfreeday28'</li>\n",
       "\t<li>'vasofreeday28'</li>\n",
       "\t<li>'dobutamine_flag'</li>\n",
       "\t<li>'day1'</li>\n",
       "\t<li>'day2'</li>\n",
       "\t<li>'day3'</li>\n",
       "\t<li>'sofa_drop_2'</li>\n",
       "\t<li>'sofa_drop_3'</li>\n",
       "\t<li>'norepinephrine_max'</li>\n",
       "\t<li>'lactate_diff'</li>\n",
       "\t<li>'creatinine_diff'</li>\n",
       "\t<li>'lactate_diff_24'</li>\n",
       "\t<li>'creatinine_diff_24'</li>\n",
       "</ol>\n"
      ],
      "text/latex": [
       "\\begin{enumerate*}\n",
       "\\item 'ventfreeday28'\n",
       "\\item 'vasofreeday28'\n",
       "\\item 'dobutamine\\_flag'\n",
       "\\item 'day1'\n",
       "\\item 'day2'\n",
       "\\item 'day3'\n",
       "\\item 'sofa\\_drop\\_2'\n",
       "\\item 'sofa\\_drop\\_3'\n",
       "\\item 'norepinephrine\\_max'\n",
       "\\item 'lactate\\_diff'\n",
       "\\item 'creatinine\\_diff'\n",
       "\\item 'lactate\\_diff\\_24'\n",
       "\\item 'creatinine\\_diff\\_24'\n",
       "\\end{enumerate*}\n"
      ],
      "text/markdown": [
       "1. 'ventfreeday28'\n",
       "2. 'vasofreeday28'\n",
       "3. 'dobutamine_flag'\n",
       "4. 'day1'\n",
       "5. 'day2'\n",
       "6. 'day3'\n",
       "7. 'sofa_drop_2'\n",
       "8. 'sofa_drop_3'\n",
       "9. 'norepinephrine_max'\n",
       "10. 'lactate_diff'\n",
       "11. 'creatinine_diff'\n",
       "12. 'lactate_diff_24'\n",
       "13. 'creatinine_diff_24'\n",
       "\n",
       "\n"
      ],
      "text/plain": [
       " [1] \"ventfreeday28\"      \"vasofreeday28\"      \"dobutamine_flag\"   \n",
       " [4] \"day1\"               \"day2\"               \"day3\"              \n",
       " [7] \"sofa_drop_2\"        \"sofa_drop_3\"        \"norepinephrine_max\"\n",
       "[10] \"lactate_diff\"       \"creatinine_diff\"    \"lactate_diff_24\"   \n",
       "[13] \"creatinine_diff_24\""
      ]
     },
     "metadata": {},
     "output_type": "display_data"
    }
   ],
   "source": [
    "outcomes <- c(\"ventfreeday28\", \"vasofreeday28\", \"dobutamine_flag\", \"day1\", \"day2\", \"day3\",\n",
    "              \"sofa_drop_2\", \"sofa_drop_3\",\n",
    "              \"norepinephrine_max\", \"lactate_diff\", \"creatinine_diff\",\n",
    "              \"lactate_diff_24\", \"creatinine_diff_24\")\n",
    "outcomes"
   ]
  },
  {
   "cell_type": "code",
   "execution_count": 7,
   "metadata": {},
   "outputs": [
    {
     "data": {
      "text/html": [
       "<table>\n",
       "<thead><tr><th scope=col>icustay_id</th><th scope=col>ventfreeday28</th><th scope=col>vasofreeday28</th><th scope=col>dobutamine_flag</th><th scope=col>day1</th><th scope=col>day2</th><th scope=col>day3</th><th scope=col>sofa_drop_2</th><th scope=col>sofa_drop_3</th><th scope=col>norepinephrine_max</th><th scope=col>lactate_diff</th><th scope=col>creatinine_diff</th><th scope=col>lactate_diff_24</th><th scope=col>creatinine_diff_24</th></tr></thead>\n",
       "<tbody>\n",
       "\t<tr><td>200003    </td><td>24.20833  </td><td>26.68750  </td><td>0         </td><td>1710.4062 </td><td>  276.9948</td><td> -769.100 </td><td>4         </td><td> 3        </td><td>0.000000  </td><td> 1.6      </td><td> 0.0      </td><td> 1.3      </td><td>-0.1      </td></tr>\n",
       "\t<tr><td>200014    </td><td> 0.00000  </td><td> 0.00000  </td><td>0         </td><td>1516.0000 </td><td>        NA</td><td>       NA </td><td>1         </td><td> 2        </td><td>0.000000  </td><td>  NA      </td><td>-0.1      </td><td>  NA      </td><td>-0.2      </td></tr>\n",
       "\t<tr><td>200030    </td><td>28.00000  </td><td>26.29167  </td><td>1         </td><td> 422.5490 </td><td>  327.0000</td><td>-2115.000 </td><td>4         </td><td> 5        </td><td>1.084800  </td><td>-1.1      </td><td> 0.0      </td><td>-1.1      </td><td> 0.0      </td></tr>\n",
       "\t<tr><td>200033    </td><td> 0.00000  </td><td> 0.00000  </td><td>0         </td><td> 720.7583 </td><td>  346.7278</td><td> 2223.795 </td><td>0         </td><td>-5        </td><td>0.000000  </td><td>-0.1      </td><td> 0.1      </td><td>-0.4      </td><td> 0.0      </td></tr>\n",
       "\t<tr><td>200036    </td><td>28.00000  </td><td>28.00000  </td><td>0         </td><td>3750.0000 </td><td>  905.0000</td><td> 1601.000 </td><td>5         </td><td> 7        </td><td>0.000000  </td><td>  NA      </td><td> 0.5      </td><td>  NA      </td><td> 0.4      </td></tr>\n",
       "\t<tr><td>200075    </td><td>27.80903  </td><td>27.66319  </td><td>0         </td><td>2616.9449 </td><td>-1983.8871</td><td>       NA </td><td>4         </td><td> 5        </td><td>1.058141  </td><td>  NA      </td><td> 0.1      </td><td>  NA      </td><td> 0.0      </td></tr>\n",
       "</tbody>\n",
       "</table>\n"
      ],
      "text/latex": [
       "\\begin{tabular}{r|llllllllllllll}\n",
       " icustay\\_id & ventfreeday28 & vasofreeday28 & dobutamine\\_flag & day1 & day2 & day3 & sofa\\_drop\\_2 & sofa\\_drop\\_3 & norepinephrine\\_max & lactate\\_diff & creatinine\\_diff & lactate\\_diff\\_24 & creatinine\\_diff\\_24\\\\\n",
       "\\hline\n",
       "\t 200003     & 24.20833   & 26.68750   & 0          & 1710.4062  &   276.9948 &  -769.100  & 4          &  3         & 0.000000   &  1.6       &  0.0       &  1.3       & -0.1      \\\\\n",
       "\t 200014     &  0.00000   &  0.00000   & 0          & 1516.0000  &         NA &        NA  & 1          &  2         & 0.000000   &   NA       & -0.1       &   NA       & -0.2      \\\\\n",
       "\t 200030     & 28.00000   & 26.29167   & 1          &  422.5490  &   327.0000 & -2115.000  & 4          &  5         & 1.084800   & -1.1       &  0.0       & -1.1       &  0.0      \\\\\n",
       "\t 200033     &  0.00000   &  0.00000   & 0          &  720.7583  &   346.7278 &  2223.795  & 0          & -5         & 0.000000   & -0.1       &  0.1       & -0.4       &  0.0      \\\\\n",
       "\t 200036     & 28.00000   & 28.00000   & 0          & 3750.0000  &   905.0000 &  1601.000  & 5          &  7         & 0.000000   &   NA       &  0.5       &   NA       &  0.4      \\\\\n",
       "\t 200075     & 27.80903   & 27.66319   & 0          & 2616.9449  & -1983.8871 &        NA  & 4          &  5         & 1.058141   &   NA       &  0.1       &   NA       &  0.0      \\\\\n",
       "\\end{tabular}\n"
      ],
      "text/markdown": [
       "\n",
       "icustay_id | ventfreeday28 | vasofreeday28 | dobutamine_flag | day1 | day2 | day3 | sofa_drop_2 | sofa_drop_3 | norepinephrine_max | lactate_diff | creatinine_diff | lactate_diff_24 | creatinine_diff_24 | \n",
       "|---|---|---|---|---|---|\n",
       "| 200003     | 24.20833   | 26.68750   | 0          | 1710.4062  |   276.9948 |  -769.100  | 4          |  3         | 0.000000   |  1.6       |  0.0       |  1.3       | -0.1       | \n",
       "| 200014     |  0.00000   |  0.00000   | 0          | 1516.0000  |         NA |        NA  | 1          |  2         | 0.000000   |   NA       | -0.1       |   NA       | -0.2       | \n",
       "| 200030     | 28.00000   | 26.29167   | 1          |  422.5490  |   327.0000 | -2115.000  | 4          |  5         | 1.084800   | -1.1       |  0.0       | -1.1       |  0.0       | \n",
       "| 200033     |  0.00000   |  0.00000   | 0          |  720.7583  |   346.7278 |  2223.795  | 0          | -5         | 0.000000   | -0.1       |  0.1       | -0.4       |  0.0       | \n",
       "| 200036     | 28.00000   | 28.00000   | 0          | 3750.0000  |   905.0000 |  1601.000  | 5          |  7         | 0.000000   |   NA       |  0.5       |   NA       |  0.4       | \n",
       "| 200075     | 27.80903   | 27.66319   | 0          | 2616.9449  | -1983.8871 |        NA  | 4          |  5         | 1.058141   |   NA       |  0.1       |   NA       |  0.0       | \n",
       "\n",
       "\n"
      ],
      "text/plain": [
       "  icustay_id ventfreeday28 vasofreeday28 dobutamine_flag day1      day2      \n",
       "1 200003     24.20833      26.68750      0               1710.4062   276.9948\n",
       "2 200014      0.00000       0.00000      0               1516.0000         NA\n",
       "3 200030     28.00000      26.29167      1                422.5490   327.0000\n",
       "4 200033      0.00000       0.00000      0                720.7583   346.7278\n",
       "5 200036     28.00000      28.00000      0               3750.0000   905.0000\n",
       "6 200075     27.80903      27.66319      0               2616.9449 -1983.8871\n",
       "  day3      sofa_drop_2 sofa_drop_3 norepinephrine_max lactate_diff\n",
       "1  -769.100 4            3          0.000000            1.6        \n",
       "2        NA 1            2          0.000000             NA        \n",
       "3 -2115.000 4            5          1.084800           -1.1        \n",
       "4  2223.795 0           -5          0.000000           -0.1        \n",
       "5  1601.000 5            7          0.000000             NA        \n",
       "6        NA 4            5          1.058141             NA        \n",
       "  creatinine_diff lactate_diff_24 creatinine_diff_24\n",
       "1  0.0             1.3            -0.1              \n",
       "2 -0.1              NA            -0.2              \n",
       "3  0.0            -1.1             0.0              \n",
       "4  0.1            -0.4             0.0              \n",
       "5  0.5              NA             0.4              \n",
       "6  0.1              NA             0.0              "
      ]
     },
     "metadata": {},
     "output_type": "display_data"
    }
   ],
   "source": [
    "subgroup <- subgroup %>%\n",
    "select(!!! rlang::syms(c(\"icustay_id\", outcomes)))\n",
    "\n",
    "head(subgroup)"
   ]
  },
  {
   "cell_type": "code",
   "execution_count": 8,
   "metadata": {},
   "outputs": [
    {
     "data": {
      "text/html": [
       "6361"
      ],
      "text/latex": [
       "6361"
      ],
      "text/markdown": [
       "6361"
      ],
      "text/plain": [
       "[1] 6361"
      ]
     },
     "metadata": {},
     "output_type": "display_data"
    }
   ],
   "source": [
    "nrow(subgroup)"
   ]
  },
  {
   "cell_type": "code",
   "execution_count": 9,
   "metadata": {},
   "outputs": [
    {
     "data": {
      "text/html": [
       "TRUE"
      ],
      "text/latex": [
       "TRUE"
      ],
      "text/markdown": [
       "TRUE"
      ],
      "text/plain": [
       "[1] TRUE"
      ]
     },
     "metadata": {},
     "output_type": "display_data"
    },
    {
     "data": {
      "text/html": [
       "TRUE"
      ],
      "text/latex": [
       "TRUE"
      ],
      "text/markdown": [
       "TRUE"
      ],
      "text/plain": [
       "[1] TRUE"
      ]
     },
     "metadata": {},
     "output_type": "display_data"
    }
   ],
   "source": [
    "dbDisconnect(con)\n",
    "dbUnloadDriver(drv)"
   ]
  },
  {
   "cell_type": "code",
   "execution_count": 10,
   "metadata": {},
   "outputs": [
    {
     "data": {
      "text/html": [
       "<table>\n",
       "<thead><tr><th scope=col>icustay_id</th><th scope=col>hadm_id</th><th scope=col>subject_id</th><th scope=col>first_careunit</th><th scope=col>intime</th><th scope=col>outtime</th><th scope=col>angus</th><th scope=col>age</th><th scope=col>icu_order</th><th scope=col>echo_time</th><th scope=col>⋯</th><th scope=col>lab_pco2_flag</th><th scope=col>lab_creatinine_flag</th><th scope=col>lab_potassium_flag</th><th scope=col>lab_troponin_flag</th><th scope=col>lab_po2_flag</th><th scope=col>lab_lactate_flag</th><th scope=col>echo_int</th><th scope=col>mort_28_day_int</th><th scope=col>ps</th><th scope=col>ps_weight</th></tr></thead>\n",
       "<tbody>\n",
       "\t<tr><td>228416             </td><td>159895             </td><td> 5491              </td><td>MICU               </td><td>2151-06-29 01:18:27</td><td>2151-07-27 16:00:56</td><td>1                  </td><td>76.58225           </td><td>1                  </td><td>2151-06-30         </td><td>⋯                  </td><td>1                  </td><td>1                  </td><td>1                  </td><td>0                  </td><td>1                  </td><td>1                  </td><td>1                  </td><td>0                  </td><td>0.5525232          </td><td>1.809879           </td></tr>\n",
       "\t<tr><td>278148             </td><td>169700             </td><td>49395              </td><td>MICU               </td><td>2197-01-09 00:45:42</td><td>2197-01-10 06:46:29</td><td>1                  </td><td>82.72606           </td><td>1                  </td><td>NA                 </td><td>⋯                  </td><td>0                  </td><td>1                  </td><td>1                  </td><td>0                  </td><td>0                  </td><td>0                  </td><td>0                  </td><td>1                  </td><td>0.2804613          </td><td>1.389779           </td></tr>\n",
       "\t<tr><td>274174             </td><td>103722             </td><td>14855              </td><td>MICU               </td><td>2181-09-08 23:43:13</td><td>2181-09-26 16:52:02</td><td>1                  </td><td>61.84390           </td><td>1                  </td><td>2181-09-11         </td><td>⋯                  </td><td>1                  </td><td>1                  </td><td>1                  </td><td>0                  </td><td>1                  </td><td>1                  </td><td>1                  </td><td>0                  </td><td>0.3012020          </td><td>3.320031           </td></tr>\n",
       "\t<tr><td>214954             </td><td>170515             </td><td>54642              </td><td>MICU               </td><td>2176-03-11 04:58:23</td><td>2176-03-15 18:00:48</td><td>1                  </td><td>63.86507           </td><td>1                  </td><td>2176-03-11         </td><td>⋯                  </td><td>1                  </td><td>1                  </td><td>1                  </td><td>1                  </td><td>1                  </td><td>1                  </td><td>1                  </td><td>0                  </td><td>0.7982833          </td><td>1.252688           </td></tr>\n",
       "\t<tr><td>222457             </td><td>183493             </td><td>96815              </td><td>MICU               </td><td>2105-06-04 20:57:55</td><td>2105-06-06 20:01:51</td><td>1                  </td><td>62.84018           </td><td>1                  </td><td>NA                 </td><td>⋯                  </td><td>0                  </td><td>1                  </td><td>1                  </td><td>0                  </td><td>0                  </td><td>0                  </td><td>0                  </td><td>0                  </td><td>0.2244447          </td><td>1.289399           </td></tr>\n",
       "\t<tr><td>264413             </td><td>134244             </td><td>81436              </td><td>MICU               </td><td>2133-03-27 16:31:37</td><td>2133-04-04 16:15:28</td><td>1                  </td><td>62.60148           </td><td>1                  </td><td>2133-03-31         </td><td>⋯                  </td><td>0                  </td><td>1                  </td><td>1                  </td><td>0                  </td><td>0                  </td><td>1                  </td><td>1                  </td><td>0                  </td><td>0.3320492          </td><td>3.011602           </td></tr>\n",
       "</tbody>\n",
       "</table>\n"
      ],
      "text/latex": [
       "\\begin{tabular}{r|llllllllllllllllllllllllllllllllllllllllllllllllllllllllllllllllllllllllllllllllllllllllllllllllllllllllllllllllllllllllllllllllllllll}\n",
       " icustay\\_id & hadm\\_id & subject\\_id & first\\_careunit & intime & outtime & angus & age & icu\\_order & echo\\_time & ⋯ & lab\\_pco2\\_flag & lab\\_creatinine\\_flag & lab\\_potassium\\_flag & lab\\_troponin\\_flag & lab\\_po2\\_flag & lab\\_lactate\\_flag & echo\\_int & mort\\_28\\_day\\_int & ps & ps\\_weight\\\\\n",
       "\\hline\n",
       "\t 228416              & 159895              &  5491               & MICU                & 2151-06-29 01:18:27 & 2151-07-27 16:00:56 & 1                   & 76.58225            & 1                   & 2151-06-30          & ⋯                   & 1                   & 1                   & 1                   & 0                   & 1                   & 1                   & 1                   & 0                   & 0.5525232           & 1.809879           \\\\\n",
       "\t 278148              & 169700              & 49395               & MICU                & 2197-01-09 00:45:42 & 2197-01-10 06:46:29 & 1                   & 82.72606            & 1                   & NA                  & ⋯                   & 0                   & 1                   & 1                   & 0                   & 0                   & 0                   & 0                   & 1                   & 0.2804613           & 1.389779           \\\\\n",
       "\t 274174              & 103722              & 14855               & MICU                & 2181-09-08 23:43:13 & 2181-09-26 16:52:02 & 1                   & 61.84390            & 1                   & 2181-09-11          & ⋯                   & 1                   & 1                   & 1                   & 0                   & 1                   & 1                   & 1                   & 0                   & 0.3012020           & 3.320031           \\\\\n",
       "\t 214954              & 170515              & 54642               & MICU                & 2176-03-11 04:58:23 & 2176-03-15 18:00:48 & 1                   & 63.86507            & 1                   & 2176-03-11          & ⋯                   & 1                   & 1                   & 1                   & 1                   & 1                   & 1                   & 1                   & 0                   & 0.7982833           & 1.252688           \\\\\n",
       "\t 222457              & 183493              & 96815               & MICU                & 2105-06-04 20:57:55 & 2105-06-06 20:01:51 & 1                   & 62.84018            & 1                   & NA                  & ⋯                   & 0                   & 1                   & 1                   & 0                   & 0                   & 0                   & 0                   & 0                   & 0.2244447           & 1.289399           \\\\\n",
       "\t 264413              & 134244              & 81436               & MICU                & 2133-03-27 16:31:37 & 2133-04-04 16:15:28 & 1                   & 62.60148            & 1                   & 2133-03-31          & ⋯                   & 0                   & 1                   & 1                   & 0                   & 0                   & 1                   & 1                   & 0                   & 0.3320492           & 3.011602           \\\\\n",
       "\\end{tabular}\n"
      ],
      "text/markdown": [
       "\n",
       "icustay_id | hadm_id | subject_id | first_careunit | intime | outtime | angus | age | icu_order | echo_time | ⋯ | lab_pco2_flag | lab_creatinine_flag | lab_potassium_flag | lab_troponin_flag | lab_po2_flag | lab_lactate_flag | echo_int | mort_28_day_int | ps | ps_weight | \n",
       "|---|---|---|---|---|---|\n",
       "| 228416              | 159895              |  5491               | MICU                | 2151-06-29 01:18:27 | 2151-07-27 16:00:56 | 1                   | 76.58225            | 1                   | 2151-06-30          | ⋯                   | 1                   | 1                   | 1                   | 0                   | 1                   | 1                   | 1                   | 0                   | 0.5525232           | 1.809879            | \n",
       "| 278148              | 169700              | 49395               | MICU                | 2197-01-09 00:45:42 | 2197-01-10 06:46:29 | 1                   | 82.72606            | 1                   | NA                  | ⋯                   | 0                   | 1                   | 1                   | 0                   | 0                   | 0                   | 0                   | 1                   | 0.2804613           | 1.389779            | \n",
       "| 274174              | 103722              | 14855               | MICU                | 2181-09-08 23:43:13 | 2181-09-26 16:52:02 | 1                   | 61.84390            | 1                   | 2181-09-11          | ⋯                   | 1                   | 1                   | 1                   | 0                   | 1                   | 1                   | 1                   | 0                   | 0.3012020           | 3.320031            | \n",
       "| 214954              | 170515              | 54642               | MICU                | 2176-03-11 04:58:23 | 2176-03-15 18:00:48 | 1                   | 63.86507            | 1                   | 2176-03-11          | ⋯                   | 1                   | 1                   | 1                   | 1                   | 1                   | 1                   | 1                   | 0                   | 0.7982833           | 1.252688            | \n",
       "| 222457              | 183493              | 96815               | MICU                | 2105-06-04 20:57:55 | 2105-06-06 20:01:51 | 1                   | 62.84018            | 1                   | NA                  | ⋯                   | 0                   | 1                   | 1                   | 0                   | 0                   | 0                   | 0                   | 0                   | 0.2244447           | 1.289399            | \n",
       "| 264413              | 134244              | 81436               | MICU                | 2133-03-27 16:31:37 | 2133-04-04 16:15:28 | 1                   | 62.60148            | 1                   | 2133-03-31          | ⋯                   | 0                   | 1                   | 1                   | 0                   | 0                   | 1                   | 1                   | 0                   | 0.3320492           | 3.011602            | \n",
       "\n",
       "\n"
      ],
      "text/plain": [
       "  icustay_id hadm_id subject_id first_careunit intime             \n",
       "1 228416     159895   5491      MICU           2151-06-29 01:18:27\n",
       "2 278148     169700  49395      MICU           2197-01-09 00:45:42\n",
       "3 274174     103722  14855      MICU           2181-09-08 23:43:13\n",
       "4 214954     170515  54642      MICU           2176-03-11 04:58:23\n",
       "5 222457     183493  96815      MICU           2105-06-04 20:57:55\n",
       "6 264413     134244  81436      MICU           2133-03-27 16:31:37\n",
       "  outtime             angus age      icu_order echo_time  ⋯ lab_pco2_flag\n",
       "1 2151-07-27 16:00:56 1     76.58225 1         2151-06-30 ⋯ 1            \n",
       "2 2197-01-10 06:46:29 1     82.72606 1         <NA>       ⋯ 0            \n",
       "3 2181-09-26 16:52:02 1     61.84390 1         2181-09-11 ⋯ 1            \n",
       "4 2176-03-15 18:00:48 1     63.86507 1         2176-03-11 ⋯ 1            \n",
       "5 2105-06-06 20:01:51 1     62.84018 1         <NA>       ⋯ 0            \n",
       "6 2133-04-04 16:15:28 1     62.60148 1         2133-03-31 ⋯ 0            \n",
       "  lab_creatinine_flag lab_potassium_flag lab_troponin_flag lab_po2_flag\n",
       "1 1                   1                  0                 1           \n",
       "2 1                   1                  0                 0           \n",
       "3 1                   1                  0                 1           \n",
       "4 1                   1                  1                 1           \n",
       "5 1                   1                  0                 0           \n",
       "6 1                   1                  0                 0           \n",
       "  lab_lactate_flag echo_int mort_28_day_int ps        ps_weight\n",
       "1 1                1        0               0.5525232 1.809879 \n",
       "2 0                0        1               0.2804613 1.389779 \n",
       "3 1                1        0               0.3012020 3.320031 \n",
       "4 1                1        0               0.7982833 1.252688 \n",
       "5 0                0        0               0.2244447 1.289399 \n",
       "6 1                1        0               0.3320492 3.011602 "
      ]
     },
     "metadata": {},
     "output_type": "display_data"
    }
   ],
   "source": [
    "full_data <- readRDS(file.path(data_dir, \"full_data_ps.rds\"))\n",
    "head(full_data)"
   ]
  },
  {
   "cell_type": "code",
   "execution_count": 11,
   "metadata": {},
   "outputs": [
    {
     "data": {
      "text/html": [
       "<table>\n",
       "<thead><tr><th scope=col>icustay_id</th><th scope=col>hadm_id</th><th scope=col>subject_id</th><th scope=col>first_careunit</th><th scope=col>intime</th><th scope=col>outtime</th><th scope=col>angus</th><th scope=col>age</th><th scope=col>icu_order</th><th scope=col>echo_time</th><th scope=col>⋯</th><th scope=col>day1</th><th scope=col>day2</th><th scope=col>day3</th><th scope=col>sofa_drop_2</th><th scope=col>sofa_drop_3</th><th scope=col>norepinephrine_max</th><th scope=col>lactate_diff</th><th scope=col>creatinine_diff</th><th scope=col>lactate_diff_24</th><th scope=col>creatinine_diff_24</th></tr></thead>\n",
       "<tbody>\n",
       "\t<tr><td>228416             </td><td>159895             </td><td> 5491              </td><td>MICU               </td><td>2151-06-29 01:18:27</td><td>2151-07-27 16:00:56</td><td>1                  </td><td>76.58225           </td><td>1                  </td><td>2151-06-30         </td><td>⋯                  </td><td>-2110.000          </td><td>-1930.000          </td><td>-1475.000          </td><td>  1                </td><td>0                  </td><td>0.000000           </td><td>-0.2               </td><td>-0.7               </td><td>-0.2               </td><td>-0.2               </td></tr>\n",
       "\t<tr><td>278148             </td><td>169700             </td><td>49395              </td><td>MICU               </td><td>2197-01-09 00:45:42</td><td>2197-01-10 06:46:29</td><td>1                  </td><td>82.72606           </td><td>1                  </td><td>NA                 </td><td>⋯                  </td><td> 1966.617          </td><td>       NA          </td><td>       NA          </td><td>-16                </td><td>8                  </td><td>0.000000           </td><td>  NA               </td><td>  NA               </td><td>  NA               </td><td>  NA               </td></tr>\n",
       "\t<tr><td>274174             </td><td>103722             </td><td>14855              </td><td>MICU               </td><td>2181-09-08 23:43:13</td><td>2181-09-26 16:52:02</td><td>1                  </td><td>61.84390           </td><td>1                  </td><td>2181-09-11         </td><td>⋯                  </td><td> -300.000          </td><td>-1827.000          </td><td>  -10.000          </td><td>  3                </td><td>2                  </td><td>0.000000           </td><td>  NA               </td><td> 0.5               </td><td>  NA               </td><td> 0.4               </td></tr>\n",
       "\t<tr><td>214954             </td><td>170515             </td><td>54642              </td><td>MICU               </td><td>2176-03-11 04:58:23</td><td>2176-03-15 18:00:48</td><td>1                  </td><td>63.86507           </td><td>1                  </td><td>2176-03-11         </td><td>⋯                  </td><td> 4299.590          </td><td> 2899.645          </td><td>-1283.263          </td><td>  4                </td><td>5                  </td><td>7.977352           </td><td>  NA               </td><td> 0.2               </td><td> 0.2               </td><td> 0.3               </td></tr>\n",
       "\t<tr><td>222457             </td><td>183493             </td><td>96815              </td><td>MICU               </td><td>2105-06-04 20:57:55</td><td>2105-06-06 20:01:51</td><td>1                  </td><td>62.84018           </td><td>1                  </td><td>NA                 </td><td>⋯                  </td><td> 5988.072          </td><td> 2102.761          </td><td>       NA          </td><td>  0                </td><td>1                  </td><td>0.000000           </td><td>  NA               </td><td> 0.2               </td><td>  NA               </td><td> 0.1               </td></tr>\n",
       "\t<tr><td>264413             </td><td>134244             </td><td>81436              </td><td>MICU               </td><td>2133-03-27 16:31:37</td><td>2133-04-04 16:15:28</td><td>1                  </td><td>62.60148           </td><td>1                  </td><td>2133-03-31         </td><td>⋯                  </td><td> 1507.392          </td><td>-1400.000          </td><td>       NA          </td><td>  2                </td><td>3                  </td><td>2.748114           </td><td>  NA               </td><td>-0.1               </td><td>  NA               </td><td> 0.0               </td></tr>\n",
       "</tbody>\n",
       "</table>\n"
      ],
      "text/latex": [
       "\\begin{tabular}{r|lllllllllllllllllllllllllllllllllllllllllllllllllllllllllllllllllllllllllllllllllllllllllllllllllllllllllllllllllllllllllllllllllllllllllllllllllll}\n",
       " icustay\\_id & hadm\\_id & subject\\_id & first\\_careunit & intime & outtime & angus & age & icu\\_order & echo\\_time & ⋯ & day1 & day2 & day3 & sofa\\_drop\\_2 & sofa\\_drop\\_3 & norepinephrine\\_max & lactate\\_diff & creatinine\\_diff & lactate\\_diff\\_24 & creatinine\\_diff\\_24\\\\\n",
       "\\hline\n",
       "\t 228416              & 159895              &  5491               & MICU                & 2151-06-29 01:18:27 & 2151-07-27 16:00:56 & 1                   & 76.58225            & 1                   & 2151-06-30          & ⋯                   & -2110.000           & -1930.000           & -1475.000           &   1                 & 0                   & 0.000000            & -0.2                & -0.7                & -0.2                & -0.2               \\\\\n",
       "\t 278148              & 169700              & 49395               & MICU                & 2197-01-09 00:45:42 & 2197-01-10 06:46:29 & 1                   & 82.72606            & 1                   & NA                  & ⋯                   &  1966.617           &        NA           &        NA           & -16                 & 8                   & 0.000000            &   NA                &   NA                &   NA                &   NA               \\\\\n",
       "\t 274174              & 103722              & 14855               & MICU                & 2181-09-08 23:43:13 & 2181-09-26 16:52:02 & 1                   & 61.84390            & 1                   & 2181-09-11          & ⋯                   &  -300.000           & -1827.000           &   -10.000           &   3                 & 2                   & 0.000000            &   NA                &  0.5                &   NA                &  0.4               \\\\\n",
       "\t 214954              & 170515              & 54642               & MICU                & 2176-03-11 04:58:23 & 2176-03-15 18:00:48 & 1                   & 63.86507            & 1                   & 2176-03-11          & ⋯                   &  4299.590           &  2899.645           & -1283.263           &   4                 & 5                   & 7.977352            &   NA                &  0.2                &  0.2                &  0.3               \\\\\n",
       "\t 222457              & 183493              & 96815               & MICU                & 2105-06-04 20:57:55 & 2105-06-06 20:01:51 & 1                   & 62.84018            & 1                   & NA                  & ⋯                   &  5988.072           &  2102.761           &        NA           &   0                 & 1                   & 0.000000            &   NA                &  0.2                &   NA                &  0.1               \\\\\n",
       "\t 264413              & 134244              & 81436               & MICU                & 2133-03-27 16:31:37 & 2133-04-04 16:15:28 & 1                   & 62.60148            & 1                   & 2133-03-31          & ⋯                   &  1507.392           & -1400.000           &        NA           &   2                 & 3                   & 2.748114            &   NA                & -0.1                &   NA                &  0.0               \\\\\n",
       "\\end{tabular}\n"
      ],
      "text/markdown": [
       "\n",
       "icustay_id | hadm_id | subject_id | first_careunit | intime | outtime | angus | age | icu_order | echo_time | ⋯ | day1 | day2 | day3 | sofa_drop_2 | sofa_drop_3 | norepinephrine_max | lactate_diff | creatinine_diff | lactate_diff_24 | creatinine_diff_24 | \n",
       "|---|---|---|---|---|---|\n",
       "| 228416              | 159895              |  5491               | MICU                | 2151-06-29 01:18:27 | 2151-07-27 16:00:56 | 1                   | 76.58225            | 1                   | 2151-06-30          | ⋯                   | -2110.000           | -1930.000           | -1475.000           |   1                 | 0                   | 0.000000            | -0.2                | -0.7                | -0.2                | -0.2                | \n",
       "| 278148              | 169700              | 49395               | MICU                | 2197-01-09 00:45:42 | 2197-01-10 06:46:29 | 1                   | 82.72606            | 1                   | NA                  | ⋯                   |  1966.617           |        NA           |        NA           | -16                 | 8                   | 0.000000            |   NA                |   NA                |   NA                |   NA                | \n",
       "| 274174              | 103722              | 14855               | MICU                | 2181-09-08 23:43:13 | 2181-09-26 16:52:02 | 1                   | 61.84390            | 1                   | 2181-09-11          | ⋯                   |  -300.000           | -1827.000           |   -10.000           |   3                 | 2                   | 0.000000            |   NA                |  0.5                |   NA                |  0.4                | \n",
       "| 214954              | 170515              | 54642               | MICU                | 2176-03-11 04:58:23 | 2176-03-15 18:00:48 | 1                   | 63.86507            | 1                   | 2176-03-11          | ⋯                   |  4299.590           |  2899.645           | -1283.263           |   4                 | 5                   | 7.977352            |   NA                |  0.2                |  0.2                |  0.3                | \n",
       "| 222457              | 183493              | 96815               | MICU                | 2105-06-04 20:57:55 | 2105-06-06 20:01:51 | 1                   | 62.84018            | 1                   | NA                  | ⋯                   |  5988.072           |  2102.761           |        NA           |   0                 | 1                   | 0.000000            |   NA                |  0.2                |   NA                |  0.1                | \n",
       "| 264413              | 134244              | 81436               | MICU                | 2133-03-27 16:31:37 | 2133-04-04 16:15:28 | 1                   | 62.60148            | 1                   | 2133-03-31          | ⋯                   |  1507.392           | -1400.000           |        NA           |   2                 | 3                   | 2.748114            |   NA                | -0.1                |   NA                |  0.0                | \n",
       "\n",
       "\n"
      ],
      "text/plain": [
       "  icustay_id hadm_id subject_id first_careunit intime             \n",
       "1 228416     159895   5491      MICU           2151-06-29 01:18:27\n",
       "2 278148     169700  49395      MICU           2197-01-09 00:45:42\n",
       "3 274174     103722  14855      MICU           2181-09-08 23:43:13\n",
       "4 214954     170515  54642      MICU           2176-03-11 04:58:23\n",
       "5 222457     183493  96815      MICU           2105-06-04 20:57:55\n",
       "6 264413     134244  81436      MICU           2133-03-27 16:31:37\n",
       "  outtime             angus age      icu_order echo_time  ⋯ day1      day2     \n",
       "1 2151-07-27 16:00:56 1     76.58225 1         2151-06-30 ⋯ -2110.000 -1930.000\n",
       "2 2197-01-10 06:46:29 1     82.72606 1         <NA>       ⋯  1966.617        NA\n",
       "3 2181-09-26 16:52:02 1     61.84390 1         2181-09-11 ⋯  -300.000 -1827.000\n",
       "4 2176-03-15 18:00:48 1     63.86507 1         2176-03-11 ⋯  4299.590  2899.645\n",
       "5 2105-06-06 20:01:51 1     62.84018 1         <NA>       ⋯  5988.072  2102.761\n",
       "6 2133-04-04 16:15:28 1     62.60148 1         2133-03-31 ⋯  1507.392 -1400.000\n",
       "  day3      sofa_drop_2 sofa_drop_3 norepinephrine_max lactate_diff\n",
       "1 -1475.000   1         0           0.000000           -0.2        \n",
       "2        NA -16         8           0.000000             NA        \n",
       "3   -10.000   3         2           0.000000             NA        \n",
       "4 -1283.263   4         5           7.977352             NA        \n",
       "5        NA   0         1           0.000000             NA        \n",
       "6        NA   2         3           2.748114             NA        \n",
       "  creatinine_diff lactate_diff_24 creatinine_diff_24\n",
       "1 -0.7            -0.2            -0.2              \n",
       "2   NA              NA              NA              \n",
       "3  0.5              NA             0.4              \n",
       "4  0.2             0.2             0.3              \n",
       "5  0.2              NA             0.1              \n",
       "6 -0.1              NA             0.0              "
      ]
     },
     "metadata": {},
     "output_type": "display_data"
    }
   ],
   "source": [
    "full_data <- full_data %>%\n",
    "left_join(subgroup, by = \"icustay_id\") %>%\n",
    "mutate(dobutamine_flag = as.factor(dobutamine_flag))\n",
    "head(full_data)"
   ]
  },
  {
   "cell_type": "code",
   "execution_count": 12,
   "metadata": {},
   "outputs": [
    {
     "data": {
      "text/html": [
       "<table>\n",
       "<thead><tr><th scope=col>outcome</th><th scope=col>na</th></tr></thead>\n",
       "<tbody>\n",
       "\t<tr><td>ventfreeday28     </td><td>0.00000000        </td></tr>\n",
       "\t<tr><td>vasofreeday28     </td><td>0.00000000        </td></tr>\n",
       "\t<tr><td>dobutamine_flag   </td><td>0.00000000        </td></tr>\n",
       "\t<tr><td>day1              </td><td>0.03615784        </td></tr>\n",
       "\t<tr><td>day2              </td><td>0.15343499        </td></tr>\n",
       "\t<tr><td>day3              </td><td>0.33013677        </td></tr>\n",
       "\t<tr><td>sofa_drop_2       </td><td>0.00000000        </td></tr>\n",
       "\t<tr><td>sofa_drop_3       </td><td>0.00000000        </td></tr>\n",
       "\t<tr><td>norepinephrine_max</td><td>0.00000000        </td></tr>\n",
       "\t<tr><td>lactate_diff      </td><td>0.71608238        </td></tr>\n",
       "\t<tr><td>creatinine_diff   </td><td>0.17937431        </td></tr>\n",
       "\t<tr><td>lactate_diff_24   </td><td>0.65681497        </td></tr>\n",
       "\t<tr><td>creatinine_diff_24</td><td>0.13158308        </td></tr>\n",
       "</tbody>\n",
       "</table>\n"
      ],
      "text/latex": [
       "\\begin{tabular}{r|ll}\n",
       " outcome & na\\\\\n",
       "\\hline\n",
       "\t ventfreeday28      & 0.00000000        \\\\\n",
       "\t vasofreeday28      & 0.00000000        \\\\\n",
       "\t dobutamine\\_flag    & 0.00000000          \\\\\n",
       "\t day1               & 0.03615784        \\\\\n",
       "\t day2               & 0.15343499        \\\\\n",
       "\t day3               & 0.33013677        \\\\\n",
       "\t sofa\\_drop\\_2        & 0.00000000            \\\\\n",
       "\t sofa\\_drop\\_3        & 0.00000000            \\\\\n",
       "\t norepinephrine\\_max & 0.00000000          \\\\\n",
       "\t lactate\\_diff       & 0.71608238          \\\\\n",
       "\t creatinine\\_diff    & 0.17937431          \\\\\n",
       "\t lactate\\_diff\\_24    & 0.65681497            \\\\\n",
       "\t creatinine\\_diff\\_24 & 0.13158308            \\\\\n",
       "\\end{tabular}\n"
      ],
      "text/markdown": [
       "\n",
       "outcome | na | \n",
       "|---|---|---|---|---|---|---|---|---|---|---|---|---|\n",
       "| ventfreeday28      | 0.00000000         | \n",
       "| vasofreeday28      | 0.00000000         | \n",
       "| dobutamine_flag    | 0.00000000         | \n",
       "| day1               | 0.03615784         | \n",
       "| day2               | 0.15343499         | \n",
       "| day3               | 0.33013677         | \n",
       "| sofa_drop_2        | 0.00000000         | \n",
       "| sofa_drop_3        | 0.00000000         | \n",
       "| norepinephrine_max | 0.00000000         | \n",
       "| lactate_diff       | 0.71608238         | \n",
       "| creatinine_diff    | 0.17937431         | \n",
       "| lactate_diff_24    | 0.65681497         | \n",
       "| creatinine_diff_24 | 0.13158308         | \n",
       "\n",
       "\n"
      ],
      "text/plain": [
       "   outcome            na        \n",
       "1  ventfreeday28      0.00000000\n",
       "2  vasofreeday28      0.00000000\n",
       "3  dobutamine_flag    0.00000000\n",
       "4  day1               0.03615784\n",
       "5  day2               0.15343499\n",
       "6  day3               0.33013677\n",
       "7  sofa_drop_2        0.00000000\n",
       "8  sofa_drop_3        0.00000000\n",
       "9  norepinephrine_max 0.00000000\n",
       "10 lactate_diff       0.71608238\n",
       "11 creatinine_diff    0.17937431\n",
       "12 lactate_diff_24    0.65681497\n",
       "13 creatinine_diff_24 0.13158308"
      ]
     },
     "metadata": {},
     "output_type": "display_data"
    }
   ],
   "source": [
    "missing <- full_data %>%\n",
    "select(outcomes) %>%\n",
    "summarise_all(funs(sum(is.na(.)) / n())) %>%\n",
    "gather(\"outcome\", \"na\")\n",
    "\n",
    "missing"
   ]
  },
  {
   "cell_type": "code",
   "execution_count": 13,
   "metadata": {},
   "outputs": [
    {
     "data": {
      "text/html": [
       "<ol class=list-inline>\n",
       "\t<li>'first_careunit'</li>\n",
       "\t<li>'age'</li>\n",
       "\t<li>'gender'</li>\n",
       "\t<li>'weight'</li>\n",
       "\t<li>'saps'</li>\n",
       "\t<li>'sofa'</li>\n",
       "\t<li>'elix_score'</li>\n",
       "\t<li>'vent'</li>\n",
       "\t<li>'vaso'</li>\n",
       "\t<li>'icu_adm_weekday'</li>\n",
       "\t<li>'icu_adm_hour'</li>\n",
       "\t<li>'icd_chf'</li>\n",
       "\t<li>'icd_afib'</li>\n",
       "\t<li>'icd_renal'</li>\n",
       "\t<li>'icd_liver'</li>\n",
       "\t<li>'icd_copd'</li>\n",
       "\t<li>'icd_cad'</li>\n",
       "\t<li>'icd_stroke'</li>\n",
       "\t<li>'icd_malignancy'</li>\n",
       "\t<li>'vs_heart_rate_first'</li>\n",
       "\t<li>'vs_map_first'</li>\n",
       "\t<li>'vs_temp_first'</li>\n",
       "\t<li>'lab_hemoglobin_first'</li>\n",
       "\t<li>'lab_platelet_first'</li>\n",
       "\t<li>'lab_wbc_first'</li>\n",
       "\t<li>'lab_ph_first'</li>\n",
       "\t<li>'lab_chloride_first'</li>\n",
       "\t<li>'lab_sodium_first'</li>\n",
       "\t<li>'lab_bun_first'</li>\n",
       "\t<li>'lab_bicarbonate_first'</li>\n",
       "\t<li>'lab_pco2_first'</li>\n",
       "\t<li>'lab_creatinine_first'</li>\n",
       "\t<li>'lab_potassium_first'</li>\n",
       "\t<li>'lab_po2_first'</li>\n",
       "\t<li>'lab_lactate_first'</li>\n",
       "\t<li>'sedative'</li>\n",
       "\t<li>'vs_cvp_flag'</li>\n",
       "\t<li>'lab_creatinine_kinase_flag'</li>\n",
       "\t<li>'lab_bnp_flag'</li>\n",
       "\t<li>'lab_troponin_flag'</li>\n",
       "</ol>\n"
      ],
      "text/latex": [
       "\\begin{enumerate*}\n",
       "\\item 'first\\_careunit'\n",
       "\\item 'age'\n",
       "\\item 'gender'\n",
       "\\item 'weight'\n",
       "\\item 'saps'\n",
       "\\item 'sofa'\n",
       "\\item 'elix\\_score'\n",
       "\\item 'vent'\n",
       "\\item 'vaso'\n",
       "\\item 'icu\\_adm\\_weekday'\n",
       "\\item 'icu\\_adm\\_hour'\n",
       "\\item 'icd\\_chf'\n",
       "\\item 'icd\\_afib'\n",
       "\\item 'icd\\_renal'\n",
       "\\item 'icd\\_liver'\n",
       "\\item 'icd\\_copd'\n",
       "\\item 'icd\\_cad'\n",
       "\\item 'icd\\_stroke'\n",
       "\\item 'icd\\_malignancy'\n",
       "\\item 'vs\\_heart\\_rate\\_first'\n",
       "\\item 'vs\\_map\\_first'\n",
       "\\item 'vs\\_temp\\_first'\n",
       "\\item 'lab\\_hemoglobin\\_first'\n",
       "\\item 'lab\\_platelet\\_first'\n",
       "\\item 'lab\\_wbc\\_first'\n",
       "\\item 'lab\\_ph\\_first'\n",
       "\\item 'lab\\_chloride\\_first'\n",
       "\\item 'lab\\_sodium\\_first'\n",
       "\\item 'lab\\_bun\\_first'\n",
       "\\item 'lab\\_bicarbonate\\_first'\n",
       "\\item 'lab\\_pco2\\_first'\n",
       "\\item 'lab\\_creatinine\\_first'\n",
       "\\item 'lab\\_potassium\\_first'\n",
       "\\item 'lab\\_po2\\_first'\n",
       "\\item 'lab\\_lactate\\_first'\n",
       "\\item 'sedative'\n",
       "\\item 'vs\\_cvp\\_flag'\n",
       "\\item 'lab\\_creatinine\\_kinase\\_flag'\n",
       "\\item 'lab\\_bnp\\_flag'\n",
       "\\item 'lab\\_troponin\\_flag'\n",
       "\\end{enumerate*}\n"
      ],
      "text/markdown": [
       "1. 'first_careunit'\n",
       "2. 'age'\n",
       "3. 'gender'\n",
       "4. 'weight'\n",
       "5. 'saps'\n",
       "6. 'sofa'\n",
       "7. 'elix_score'\n",
       "8. 'vent'\n",
       "9. 'vaso'\n",
       "10. 'icu_adm_weekday'\n",
       "11. 'icu_adm_hour'\n",
       "12. 'icd_chf'\n",
       "13. 'icd_afib'\n",
       "14. 'icd_renal'\n",
       "15. 'icd_liver'\n",
       "16. 'icd_copd'\n",
       "17. 'icd_cad'\n",
       "18. 'icd_stroke'\n",
       "19. 'icd_malignancy'\n",
       "20. 'vs_heart_rate_first'\n",
       "21. 'vs_map_first'\n",
       "22. 'vs_temp_first'\n",
       "23. 'lab_hemoglobin_first'\n",
       "24. 'lab_platelet_first'\n",
       "25. 'lab_wbc_first'\n",
       "26. 'lab_ph_first'\n",
       "27. 'lab_chloride_first'\n",
       "28. 'lab_sodium_first'\n",
       "29. 'lab_bun_first'\n",
       "30. 'lab_bicarbonate_first'\n",
       "31. 'lab_pco2_first'\n",
       "32. 'lab_creatinine_first'\n",
       "33. 'lab_potassium_first'\n",
       "34. 'lab_po2_first'\n",
       "35. 'lab_lactate_first'\n",
       "36. 'sedative'\n",
       "37. 'vs_cvp_flag'\n",
       "38. 'lab_creatinine_kinase_flag'\n",
       "39. 'lab_bnp_flag'\n",
       "40. 'lab_troponin_flag'\n",
       "\n",
       "\n"
      ],
      "text/plain": [
       " [1] \"first_careunit\"             \"age\"                       \n",
       " [3] \"gender\"                     \"weight\"                    \n",
       " [5] \"saps\"                       \"sofa\"                      \n",
       " [7] \"elix_score\"                 \"vent\"                      \n",
       " [9] \"vaso\"                       \"icu_adm_weekday\"           \n",
       "[11] \"icu_adm_hour\"               \"icd_chf\"                   \n",
       "[13] \"icd_afib\"                   \"icd_renal\"                 \n",
       "[15] \"icd_liver\"                  \"icd_copd\"                  \n",
       "[17] \"icd_cad\"                    \"icd_stroke\"                \n",
       "[19] \"icd_malignancy\"             \"vs_heart_rate_first\"       \n",
       "[21] \"vs_map_first\"               \"vs_temp_first\"             \n",
       "[23] \"lab_hemoglobin_first\"       \"lab_platelet_first\"        \n",
       "[25] \"lab_wbc_first\"              \"lab_ph_first\"              \n",
       "[27] \"lab_chloride_first\"         \"lab_sodium_first\"          \n",
       "[29] \"lab_bun_first\"              \"lab_bicarbonate_first\"     \n",
       "[31] \"lab_pco2_first\"             \"lab_creatinine_first\"      \n",
       "[33] \"lab_potassium_first\"        \"lab_po2_first\"             \n",
       "[35] \"lab_lactate_first\"          \"sedative\"                  \n",
       "[37] \"vs_cvp_flag\"                \"lab_creatinine_kinase_flag\"\n",
       "[39] \"lab_bnp_flag\"               \"lab_troponin_flag\"         "
      ]
     },
     "metadata": {},
     "output_type": "display_data"
    },
    {
     "data": {
      "text/html": [
       "40"
      ],
      "text/latex": [
       "40"
      ],
      "text/markdown": [
       "40"
      ],
      "text/plain": [
       "[1] 40"
      ]
     },
     "metadata": {},
     "output_type": "display_data"
    }
   ],
   "source": [
    "features <- data.table::fread(file.path(data_dir, \"features.csv\"), data.table = FALSE) %>%\n",
    "pull(feature)\n",
    "\n",
    "features\n",
    "length(features)"
   ]
  },
  {
   "cell_type": "code",
   "execution_count": 14,
   "metadata": {},
   "outputs": [
    {
     "data": {
      "text/html": [
       "<ol class=list-inline>\n",
       "\t<li>'sofa'</li>\n",
       "\t<li>'vent'</li>\n",
       "\t<li>'vaso'</li>\n",
       "\t<li>'sedative'</li>\n",
       "\t<li>'icd_chf'</li>\n",
       "\t<li>'icd_afib'</li>\n",
       "\t<li>'lab_chloride_first'</li>\n",
       "\t<li>'lab_bnp_flag'</li>\n",
       "\t<li>'lab_troponin_flag'</li>\n",
       "\t<li>'lab_creatinine_kinase_flag'</li>\n",
       "</ol>\n"
      ],
      "text/latex": [
       "\\begin{enumerate*}\n",
       "\\item 'sofa'\n",
       "\\item 'vent'\n",
       "\\item 'vaso'\n",
       "\\item 'sedative'\n",
       "\\item 'icd\\_chf'\n",
       "\\item 'icd\\_afib'\n",
       "\\item 'lab\\_chloride\\_first'\n",
       "\\item 'lab\\_bnp\\_flag'\n",
       "\\item 'lab\\_troponin\\_flag'\n",
       "\\item 'lab\\_creatinine\\_kinase\\_flag'\n",
       "\\end{enumerate*}\n"
      ],
      "text/markdown": [
       "1. 'sofa'\n",
       "2. 'vent'\n",
       "3. 'vaso'\n",
       "4. 'sedative'\n",
       "5. 'icd_chf'\n",
       "6. 'icd_afib'\n",
       "7. 'lab_chloride_first'\n",
       "8. 'lab_bnp_flag'\n",
       "9. 'lab_troponin_flag'\n",
       "10. 'lab_creatinine_kinase_flag'\n",
       "\n",
       "\n"
      ],
      "text/plain": [
       " [1] \"sofa\"                       \"vent\"                      \n",
       " [3] \"vaso\"                       \"sedative\"                  \n",
       " [5] \"icd_chf\"                    \"icd_afib\"                  \n",
       " [7] \"lab_chloride_first\"         \"lab_bnp_flag\"              \n",
       " [9] \"lab_troponin_flag\"          \"lab_creatinine_kinase_flag\""
      ]
     },
     "metadata": {},
     "output_type": "display_data"
    }
   ],
   "source": [
    "wtd_pval <- data.table::fread(file.path(data_dir, \"wtd_pval.csv\"), data.table = FALSE)\n",
    "features_unbalanced <- wtd_pval %>%\n",
    "    filter(pval < 0.05) %>%\n",
    "    pull(cov)\n",
    "\n",
    "features_unbalanced"
   ]
  },
  {
   "cell_type": "code",
   "execution_count": 15,
   "metadata": {},
   "outputs": [],
   "source": [
    "ipw_svydesign <- svydesign(ids = ~ icustay_id, weights = ~ ps_weight, data = full_data)"
   ]
  },
  {
   "cell_type": "code",
   "execution_count": 16,
   "metadata": {},
   "outputs": [
    {
     "data": {
      "text/html": [
       "<table>\n",
       "<thead><tr><th scope=col>outcome</th><th scope=col>pval</th></tr></thead>\n",
       "<tbody>\n",
       "\t<tr><td>ventfreeday28     </td><td>1.464278e-01      </td></tr>\n",
       "\t<tr><td>vasofreeday28     </td><td>1.394802e-04      </td></tr>\n",
       "\t<tr><td>dobutamine_flag   </td><td>1.012378e-03      </td></tr>\n",
       "\t<tr><td>day1              </td><td>8.939215e-01      </td></tr>\n",
       "\t<tr><td>day2              </td><td>6.806586e-02      </td></tr>\n",
       "\t<tr><td>day3              </td><td>1.777849e-04      </td></tr>\n",
       "\t<tr><td>sofa_drop_2       </td><td>2.632704e-03      </td></tr>\n",
       "\t<tr><td>sofa_drop_3       </td><td>5.176941e-09      </td></tr>\n",
       "\t<tr><td>norepinephrine_max</td><td>2.367474e-05      </td></tr>\n",
       "\t<tr><td>lactate_diff      </td><td>1.403272e-02      </td></tr>\n",
       "\t<tr><td>creatinine_diff   </td><td>9.876927e-01      </td></tr>\n",
       "\t<tr><td>lactate_diff_24   </td><td>7.333304e-03      </td></tr>\n",
       "\t<tr><td>creatinine_diff_24</td><td>2.738664e-01      </td></tr>\n",
       "</tbody>\n",
       "</table>\n"
      ],
      "text/latex": [
       "\\begin{tabular}{r|ll}\n",
       " outcome & pval\\\\\n",
       "\\hline\n",
       "\t ventfreeday28      & 1.464278e-01      \\\\\n",
       "\t vasofreeday28      & 1.394802e-04      \\\\\n",
       "\t dobutamine\\_flag    & 1.012378e-03        \\\\\n",
       "\t day1               & 8.939215e-01      \\\\\n",
       "\t day2               & 6.806586e-02      \\\\\n",
       "\t day3               & 1.777849e-04      \\\\\n",
       "\t sofa\\_drop\\_2        & 2.632704e-03          \\\\\n",
       "\t sofa\\_drop\\_3        & 5.176941e-09          \\\\\n",
       "\t norepinephrine\\_max & 2.367474e-05        \\\\\n",
       "\t lactate\\_diff       & 1.403272e-02        \\\\\n",
       "\t creatinine\\_diff    & 9.876927e-01        \\\\\n",
       "\t lactate\\_diff\\_24    & 7.333304e-03          \\\\\n",
       "\t creatinine\\_diff\\_24 & 2.738664e-01          \\\\\n",
       "\\end{tabular}\n"
      ],
      "text/markdown": [
       "\n",
       "outcome | pval | \n",
       "|---|---|---|---|---|---|---|---|---|---|---|---|---|\n",
       "| ventfreeday28      | 1.464278e-01       | \n",
       "| vasofreeday28      | 1.394802e-04       | \n",
       "| dobutamine_flag    | 1.012378e-03       | \n",
       "| day1               | 8.939215e-01       | \n",
       "| day2               | 6.806586e-02       | \n",
       "| day3               | 1.777849e-04       | \n",
       "| sofa_drop_2        | 2.632704e-03       | \n",
       "| sofa_drop_3        | 5.176941e-09       | \n",
       "| norepinephrine_max | 2.367474e-05       | \n",
       "| lactate_diff       | 1.403272e-02       | \n",
       "| creatinine_diff    | 9.876927e-01       | \n",
       "| lactate_diff_24    | 7.333304e-03       | \n",
       "| creatinine_diff_24 | 2.738664e-01       | \n",
       "\n",
       "\n"
      ],
      "text/plain": [
       "   outcome            pval        \n",
       "1  ventfreeday28      1.464278e-01\n",
       "2  vasofreeday28      1.394802e-04\n",
       "3  dobutamine_flag    1.012378e-03\n",
       "4  day1               8.939215e-01\n",
       "5  day2               6.806586e-02\n",
       "6  day3               1.777849e-04\n",
       "7  sofa_drop_2        2.632704e-03\n",
       "8  sofa_drop_3        5.176941e-09\n",
       "9  norepinephrine_max 2.367474e-05\n",
       "10 lactate_diff       1.403272e-02\n",
       "11 creatinine_diff    9.876927e-01\n",
       "12 lactate_diff_24    7.333304e-03\n",
       "13 creatinine_diff_24 2.738664e-01"
      ]
     },
     "metadata": {},
     "output_type": "display_data"
    }
   ],
   "source": [
    "all_cov <- outcomes %>%\n",
    "map_dbl(function(outcome) {\n",
    "    fml <- features %>%\n",
    "    c(\"echo\", .) %>%\n",
    "    paste(collapse = \" + \") %>%\n",
    "    sprintf(\"%s ~ %s\", outcome, .)\n",
    "    \n",
    "    if (is.factor(full_data[[outcome]])) {\n",
    "        mod <- svyglm(as.formula(fml), family = quasibinomial, design = ipw_svydesign)\n",
    "    } else {\n",
    "        mod <- svyglm(as.formula(fml), family = quasi, design = ipw_svydesign)\n",
    "    }\n",
    "    \n",
    "    mod %>% summary %>% coefficients %>% .[\"echo1\", 4]\n",
    "}) %>%\n",
    "data.frame(outcome = outcomes, pval = ., stringsAsFactors = FALSE)\n",
    "\n",
    "all_cov"
   ]
  },
  {
   "cell_type": "code",
   "execution_count": 17,
   "metadata": {},
   "outputs": [
    {
     "data": {
      "text/html": [
       "<table>\n",
       "<thead><tr><th scope=col>outcome</th><th scope=col>pval</th></tr></thead>\n",
       "<tbody>\n",
       "\t<tr><td>ventfreeday28     </td><td>4.802945e-01      </td></tr>\n",
       "\t<tr><td>vasofreeday28     </td><td>4.531889e-03      </td></tr>\n",
       "\t<tr><td>dobutamine_flag   </td><td>1.846086e-05      </td></tr>\n",
       "\t<tr><td>day1              </td><td>9.104450e-01      </td></tr>\n",
       "\t<tr><td>day2              </td><td>2.880065e-03      </td></tr>\n",
       "\t<tr><td>day3              </td><td>1.103833e-06      </td></tr>\n",
       "\t<tr><td>sofa_drop_2       </td><td>4.953871e-06      </td></tr>\n",
       "\t<tr><td>sofa_drop_3       </td><td>6.183852e-24      </td></tr>\n",
       "\t<tr><td>norepinephrine_max</td><td>2.852326e-08      </td></tr>\n",
       "\t<tr><td>lactate_diff      </td><td>3.835708e-03      </td></tr>\n",
       "\t<tr><td>creatinine_diff   </td><td>1.074038e-01      </td></tr>\n",
       "\t<tr><td>lactate_diff_24   </td><td>3.873808e-04      </td></tr>\n",
       "\t<tr><td>creatinine_diff_24</td><td>6.792241e-02      </td></tr>\n",
       "</tbody>\n",
       "</table>\n"
      ],
      "text/latex": [
       "\\begin{tabular}{r|ll}\n",
       " outcome & pval\\\\\n",
       "\\hline\n",
       "\t ventfreeday28      & 4.802945e-01      \\\\\n",
       "\t vasofreeday28      & 4.531889e-03      \\\\\n",
       "\t dobutamine\\_flag    & 1.846086e-05        \\\\\n",
       "\t day1               & 9.104450e-01      \\\\\n",
       "\t day2               & 2.880065e-03      \\\\\n",
       "\t day3               & 1.103833e-06      \\\\\n",
       "\t sofa\\_drop\\_2        & 4.953871e-06          \\\\\n",
       "\t sofa\\_drop\\_3        & 6.183852e-24          \\\\\n",
       "\t norepinephrine\\_max & 2.852326e-08        \\\\\n",
       "\t lactate\\_diff       & 3.835708e-03        \\\\\n",
       "\t creatinine\\_diff    & 1.074038e-01        \\\\\n",
       "\t lactate\\_diff\\_24    & 3.873808e-04          \\\\\n",
       "\t creatinine\\_diff\\_24 & 6.792241e-02          \\\\\n",
       "\\end{tabular}\n"
      ],
      "text/markdown": [
       "\n",
       "outcome | pval | \n",
       "|---|---|---|---|---|---|---|---|---|---|---|---|---|\n",
       "| ventfreeday28      | 4.802945e-01       | \n",
       "| vasofreeday28      | 4.531889e-03       | \n",
       "| dobutamine_flag    | 1.846086e-05       | \n",
       "| day1               | 9.104450e-01       | \n",
       "| day2               | 2.880065e-03       | \n",
       "| day3               | 1.103833e-06       | \n",
       "| sofa_drop_2        | 4.953871e-06       | \n",
       "| sofa_drop_3        | 6.183852e-24       | \n",
       "| norepinephrine_max | 2.852326e-08       | \n",
       "| lactate_diff       | 3.835708e-03       | \n",
       "| creatinine_diff    | 1.074038e-01       | \n",
       "| lactate_diff_24    | 3.873808e-04       | \n",
       "| creatinine_diff_24 | 6.792241e-02       | \n",
       "\n",
       "\n"
      ],
      "text/plain": [
       "   outcome            pval        \n",
       "1  ventfreeday28      4.802945e-01\n",
       "2  vasofreeday28      4.531889e-03\n",
       "3  dobutamine_flag    1.846086e-05\n",
       "4  day1               9.104450e-01\n",
       "5  day2               2.880065e-03\n",
       "6  day3               1.103833e-06\n",
       "7  sofa_drop_2        4.953871e-06\n",
       "8  sofa_drop_3        6.183852e-24\n",
       "9  norepinephrine_max 2.852326e-08\n",
       "10 lactate_diff       3.835708e-03\n",
       "11 creatinine_diff    1.074038e-01\n",
       "12 lactate_diff_24    3.873808e-04\n",
       "13 creatinine_diff_24 6.792241e-02"
      ]
     },
     "metadata": {},
     "output_type": "display_data"
    }
   ],
   "source": [
    "unb_cov <- outcomes %>%\n",
    "map_dbl(function(outcome) {\n",
    "    fml <- features_unbalanced %>%\n",
    "    c(\"echo\", .) %>%\n",
    "    paste(collapse = \" + \") %>%\n",
    "    sprintf(\"%s ~ %s\", outcome, .)\n",
    "    \n",
    "    if (is.factor(full_data[[outcome]])) {\n",
    "        mod <- svyglm(as.formula(fml), family = quasibinomial, design = ipw_svydesign)\n",
    "    } else {\n",
    "        mod <- svyglm(as.formula(fml), family = quasi, design = ipw_svydesign)\n",
    "    }\n",
    "    \n",
    "    mod %>% summary %>% coefficients %>% .[\"echo1\", 4]\n",
    "}) %>%\n",
    "data.frame(outcome = outcomes, pval = ., stringsAsFactors = FALSE)\n",
    "\n",
    "unb_cov"
   ]
  },
  {
   "cell_type": "code",
   "execution_count": 18,
   "metadata": {},
   "outputs": [
    {
     "data": {
      "text/html": [
       "<table>\n",
       "<thead><tr><th scope=col>outcome</th><th scope=col>pval</th></tr></thead>\n",
       "<tbody>\n",
       "\t<tr><td>ventfreeday28     </td><td>9.651383e-02      </td></tr>\n",
       "\t<tr><td>vasofreeday28     </td><td>5.794427e-05      </td></tr>\n",
       "\t<tr><td>dobutamine_flag   </td><td>1.374514e-03      </td></tr>\n",
       "\t<tr><td>day1              </td><td>9.354837e-01      </td></tr>\n",
       "\t<tr><td>day2              </td><td>5.203845e-02      </td></tr>\n",
       "\t<tr><td>day3              </td><td>1.365362e-05      </td></tr>\n",
       "\t<tr><td>sofa_drop_2       </td><td>4.659638e-05      </td></tr>\n",
       "\t<tr><td>sofa_drop_3       </td><td>6.415538e-12      </td></tr>\n",
       "\t<tr><td>norepinephrine_max</td><td>3.385410e-03      </td></tr>\n",
       "\t<tr><td>lactate_diff      </td><td>6.352126e-03      </td></tr>\n",
       "\t<tr><td>creatinine_diff   </td><td>9.763957e-01      </td></tr>\n",
       "\t<tr><td>lactate_diff_24   </td><td>4.568477e-03      </td></tr>\n",
       "\t<tr><td>creatinine_diff_24</td><td>2.689636e-01      </td></tr>\n",
       "</tbody>\n",
       "</table>\n"
      ],
      "text/latex": [
       "\\begin{tabular}{r|ll}\n",
       " outcome & pval\\\\\n",
       "\\hline\n",
       "\t ventfreeday28      & 9.651383e-02      \\\\\n",
       "\t vasofreeday28      & 5.794427e-05      \\\\\n",
       "\t dobutamine\\_flag    & 1.374514e-03        \\\\\n",
       "\t day1               & 9.354837e-01      \\\\\n",
       "\t day2               & 5.203845e-02      \\\\\n",
       "\t day3               & 1.365362e-05      \\\\\n",
       "\t sofa\\_drop\\_2        & 4.659638e-05          \\\\\n",
       "\t sofa\\_drop\\_3        & 6.415538e-12          \\\\\n",
       "\t norepinephrine\\_max & 3.385410e-03        \\\\\n",
       "\t lactate\\_diff       & 6.352126e-03        \\\\\n",
       "\t creatinine\\_diff    & 9.763957e-01        \\\\\n",
       "\t lactate\\_diff\\_24    & 4.568477e-03          \\\\\n",
       "\t creatinine\\_diff\\_24 & 2.689636e-01          \\\\\n",
       "\\end{tabular}\n"
      ],
      "text/markdown": [
       "\n",
       "outcome | pval | \n",
       "|---|---|---|---|---|---|---|---|---|---|---|---|---|\n",
       "| ventfreeday28      | 9.651383e-02       | \n",
       "| vasofreeday28      | 5.794427e-05       | \n",
       "| dobutamine_flag    | 1.374514e-03       | \n",
       "| day1               | 9.354837e-01       | \n",
       "| day2               | 5.203845e-02       | \n",
       "| day3               | 1.365362e-05       | \n",
       "| sofa_drop_2        | 4.659638e-05       | \n",
       "| sofa_drop_3        | 6.415538e-12       | \n",
       "| norepinephrine_max | 3.385410e-03       | \n",
       "| lactate_diff       | 6.352126e-03       | \n",
       "| creatinine_diff    | 9.763957e-01       | \n",
       "| lactate_diff_24    | 4.568477e-03       | \n",
       "| creatinine_diff_24 | 2.689636e-01       | \n",
       "\n",
       "\n"
      ],
      "text/plain": [
       "   outcome            pval        \n",
       "1  ventfreeday28      9.651383e-02\n",
       "2  vasofreeday28      5.794427e-05\n",
       "3  dobutamine_flag    1.374514e-03\n",
       "4  day1               9.354837e-01\n",
       "5  day2               5.203845e-02\n",
       "6  day3               1.365362e-05\n",
       "7  sofa_drop_2        4.659638e-05\n",
       "8  sofa_drop_3        6.415538e-12\n",
       "9  norepinephrine_max 3.385410e-03\n",
       "10 lactate_diff       6.352126e-03\n",
       "11 creatinine_diff    9.763957e-01\n",
       "12 lactate_diff_24    4.568477e-03\n",
       "13 creatinine_diff_24 2.689636e-01"
      ]
     },
     "metadata": {},
     "output_type": "display_data"
    }
   ],
   "source": [
    "multivariate <- outcomes %>%\n",
    "map_dbl(function(outcome) {\n",
    "    fml <- features %>%\n",
    "    c(\"echo\", .) %>%\n",
    "    paste(collapse = \" + \") %>%\n",
    "    sprintf(\"%s ~ %s\", outcome, .)\n",
    "    \n",
    "    if (is.factor(full_data[[outcome]])) {\n",
    "        mod <- glm(as.formula(fml), family = binomial, data = full_data)\n",
    "    } else {\n",
    "        mod <- glm(as.formula(fml), family = gaussian, data = full_data)\n",
    "    }\n",
    "    \n",
    "    mod %>% summary %>% coefficients %>% .[\"echo1\", 4]\n",
    "}) %>%\n",
    "data.frame(outcome = outcomes, pval = ., stringsAsFactors = FALSE)\n",
    "\n",
    "multivariate"
   ]
  },
  {
   "cell_type": "code",
   "execution_count": 19,
   "metadata": {},
   "outputs": [
    {
     "data": {
      "text/html": [
       "<table>\n",
       "<thead><tr><th scope=col>outcome</th><th scope=col>dbwa</th><th scope=col>dbwu</th><th scope=col>multi</th><th scope=col>na</th></tr></thead>\n",
       "<tbody>\n",
       "\t<tr><td>ventfreeday28     </td><td>1.464278e-01      </td><td>4.802945e-01      </td><td>9.651383e-02      </td><td>0.00000000        </td></tr>\n",
       "\t<tr><td>vasofreeday28     </td><td>1.394802e-04      </td><td>4.531889e-03      </td><td>5.794427e-05      </td><td>0.00000000        </td></tr>\n",
       "\t<tr><td>dobutamine_flag   </td><td>1.012378e-03      </td><td>1.846086e-05      </td><td>1.374514e-03      </td><td>0.00000000        </td></tr>\n",
       "\t<tr><td>day1              </td><td>8.939215e-01      </td><td>9.104450e-01      </td><td>9.354837e-01      </td><td>0.03615784        </td></tr>\n",
       "\t<tr><td>day2              </td><td>6.806586e-02      </td><td>2.880065e-03      </td><td>5.203845e-02      </td><td>0.15343499        </td></tr>\n",
       "\t<tr><td>day3              </td><td>1.777849e-04      </td><td>1.103833e-06      </td><td>1.365362e-05      </td><td>0.33013677        </td></tr>\n",
       "\t<tr><td>sofa_drop_2       </td><td>2.632704e-03      </td><td>4.953871e-06      </td><td>4.659638e-05      </td><td>0.00000000        </td></tr>\n",
       "\t<tr><td>sofa_drop_3       </td><td>5.176941e-09      </td><td>6.183852e-24      </td><td>6.415538e-12      </td><td>0.00000000        </td></tr>\n",
       "\t<tr><td>norepinephrine_max</td><td>2.367474e-05      </td><td>2.852326e-08      </td><td>3.385410e-03      </td><td>0.00000000        </td></tr>\n",
       "\t<tr><td>lactate_diff      </td><td>1.403272e-02      </td><td>3.835708e-03      </td><td>6.352126e-03      </td><td>0.71608238        </td></tr>\n",
       "\t<tr><td>creatinine_diff   </td><td>9.876927e-01      </td><td>1.074038e-01      </td><td>9.763957e-01      </td><td>0.17937431        </td></tr>\n",
       "\t<tr><td>lactate_diff_24   </td><td>7.333304e-03      </td><td>3.873808e-04      </td><td>4.568477e-03      </td><td>0.65681497        </td></tr>\n",
       "\t<tr><td>creatinine_diff_24</td><td>2.738664e-01      </td><td>6.792241e-02      </td><td>2.689636e-01      </td><td>0.13158308        </td></tr>\n",
       "</tbody>\n",
       "</table>\n"
      ],
      "text/latex": [
       "\\begin{tabular}{r|lllll}\n",
       " outcome & dbwa & dbwu & multi & na\\\\\n",
       "\\hline\n",
       "\t ventfreeday28      & 1.464278e-01       & 4.802945e-01       & 9.651383e-02       & 0.00000000        \\\\\n",
       "\t vasofreeday28      & 1.394802e-04       & 4.531889e-03       & 5.794427e-05       & 0.00000000        \\\\\n",
       "\t dobutamine\\_flag    & 1.012378e-03         & 1.846086e-05         & 1.374514e-03         & 0.00000000          \\\\\n",
       "\t day1               & 8.939215e-01       & 9.104450e-01       & 9.354837e-01       & 0.03615784        \\\\\n",
       "\t day2               & 6.806586e-02       & 2.880065e-03       & 5.203845e-02       & 0.15343499        \\\\\n",
       "\t day3               & 1.777849e-04       & 1.103833e-06       & 1.365362e-05       & 0.33013677        \\\\\n",
       "\t sofa\\_drop\\_2        & 2.632704e-03           & 4.953871e-06           & 4.659638e-05           & 0.00000000            \\\\\n",
       "\t sofa\\_drop\\_3        & 5.176941e-09           & 6.183852e-24           & 6.415538e-12           & 0.00000000            \\\\\n",
       "\t norepinephrine\\_max & 2.367474e-05         & 2.852326e-08         & 3.385410e-03         & 0.00000000          \\\\\n",
       "\t lactate\\_diff       & 1.403272e-02         & 3.835708e-03         & 6.352126e-03         & 0.71608238          \\\\\n",
       "\t creatinine\\_diff    & 9.876927e-01         & 1.074038e-01         & 9.763957e-01         & 0.17937431          \\\\\n",
       "\t lactate\\_diff\\_24    & 7.333304e-03           & 3.873808e-04           & 4.568477e-03           & 0.65681497            \\\\\n",
       "\t creatinine\\_diff\\_24 & 2.738664e-01           & 6.792241e-02           & 2.689636e-01           & 0.13158308            \\\\\n",
       "\\end{tabular}\n"
      ],
      "text/markdown": [
       "\n",
       "outcome | dbwa | dbwu | multi | na | \n",
       "|---|---|---|---|---|---|---|---|---|---|---|---|---|\n",
       "| ventfreeday28      | 1.464278e-01       | 4.802945e-01       | 9.651383e-02       | 0.00000000         | \n",
       "| vasofreeday28      | 1.394802e-04       | 4.531889e-03       | 5.794427e-05       | 0.00000000         | \n",
       "| dobutamine_flag    | 1.012378e-03       | 1.846086e-05       | 1.374514e-03       | 0.00000000         | \n",
       "| day1               | 8.939215e-01       | 9.104450e-01       | 9.354837e-01       | 0.03615784         | \n",
       "| day2               | 6.806586e-02       | 2.880065e-03       | 5.203845e-02       | 0.15343499         | \n",
       "| day3               | 1.777849e-04       | 1.103833e-06       | 1.365362e-05       | 0.33013677         | \n",
       "| sofa_drop_2        | 2.632704e-03       | 4.953871e-06       | 4.659638e-05       | 0.00000000         | \n",
       "| sofa_drop_3        | 5.176941e-09       | 6.183852e-24       | 6.415538e-12       | 0.00000000         | \n",
       "| norepinephrine_max | 2.367474e-05       | 2.852326e-08       | 3.385410e-03       | 0.00000000         | \n",
       "| lactate_diff       | 1.403272e-02       | 3.835708e-03       | 6.352126e-03       | 0.71608238         | \n",
       "| creatinine_diff    | 9.876927e-01       | 1.074038e-01       | 9.763957e-01       | 0.17937431         | \n",
       "| lactate_diff_24    | 7.333304e-03       | 3.873808e-04       | 4.568477e-03       | 0.65681497         | \n",
       "| creatinine_diff_24 | 2.738664e-01       | 6.792241e-02       | 2.689636e-01       | 0.13158308         | \n",
       "\n",
       "\n"
      ],
      "text/plain": [
       "   outcome            dbwa         dbwu         multi        na        \n",
       "1  ventfreeday28      1.464278e-01 4.802945e-01 9.651383e-02 0.00000000\n",
       "2  vasofreeday28      1.394802e-04 4.531889e-03 5.794427e-05 0.00000000\n",
       "3  dobutamine_flag    1.012378e-03 1.846086e-05 1.374514e-03 0.00000000\n",
       "4  day1               8.939215e-01 9.104450e-01 9.354837e-01 0.03615784\n",
       "5  day2               6.806586e-02 2.880065e-03 5.203845e-02 0.15343499\n",
       "6  day3               1.777849e-04 1.103833e-06 1.365362e-05 0.33013677\n",
       "7  sofa_drop_2        2.632704e-03 4.953871e-06 4.659638e-05 0.00000000\n",
       "8  sofa_drop_3        5.176941e-09 6.183852e-24 6.415538e-12 0.00000000\n",
       "9  norepinephrine_max 2.367474e-05 2.852326e-08 3.385410e-03 0.00000000\n",
       "10 lactate_diff       1.403272e-02 3.835708e-03 6.352126e-03 0.71608238\n",
       "11 creatinine_diff    9.876927e-01 1.074038e-01 9.763957e-01 0.17937431\n",
       "12 lactate_diff_24    7.333304e-03 3.873808e-04 4.568477e-03 0.65681497\n",
       "13 creatinine_diff_24 2.738664e-01 6.792241e-02 2.689636e-01 0.13158308"
      ]
     },
     "metadata": {},
     "output_type": "display_data"
    }
   ],
   "source": [
    "tb_raw <- (all_cov %>% rename(dbwa = pval)) %>%\n",
    "full_join(unb_cov %>% rename(dbwu = pval), by = \"outcome\") %>%\n",
    "full_join(multivariate %>% rename(multi = pval), by = \"outcome\") %>%\n",
    "full_join(missing, by = \"outcome\")\n",
    "\n",
    "tb_raw"
   ]
  },
  {
   "cell_type": "code",
   "execution_count": 20,
   "metadata": {},
   "outputs": [
    {
     "data": {
      "text/html": [
       "<table>\n",
       "<thead><tr><th scope=col>cov</th><th scope=col>p value (Doubly Robust All Covariates)</th><th scope=col>p value (Doubly Robust Unbalanced Covariates)</th><th scope=col>p value (Multivariate)</th><th scope=col>Missing data (%)</th></tr></thead>\n",
       "<tbody>\n",
       "\t<tr><td>Ventilation free days in 28 days      </td><td>0.146                                 </td><td>0.48                                  </td><td>0.097                                 </td><td> 0.000                                </td></tr>\n",
       "\t<tr><td><span style=white-space:pre-wrap>Vasopressor free days in 28 days      </span></td><td>&lt;0.001                                                                     </td><td>0.005                                                                         </td><td>&lt;0.001                                                                     </td><td> 0.000                                                                        </td></tr>\n",
       "\t<tr><td><span style=white-space:pre-wrap>Dobutamine Use                        </span></td><td>0.001                                                                         </td><td>&lt;0.001                                                                     </td><td>0.001                                                                         </td><td> 0.000                                                                        </td></tr>\n",
       "\t<tr><td>IV Fluid Day 1 (mL)                   </td><td>0.894                                 </td><td>0.91                                  </td><td>0.935                                 </td><td> 3.616                                </td></tr>\n",
       "\t<tr><td>IV Fluid Day 2 (mL)                   </td><td>0.068                                 </td><td>0.003                                 </td><td>0.052                                 </td><td>15.343                                </td></tr>\n",
       "\t<tr><td><span style=white-space:pre-wrap>IV Fluid Day 3 (mL)                   </span></td><td>&lt;0.001                                                                     </td><td>&lt;0.001                                                                     </td><td>&lt;0.001                                                                     </td><td>33.014                                                                        </td></tr>\n",
       "\t<tr><td><span style=white-space:pre-wrap>SOFA Reduction Day 2                  </span></td><td>0.003                                                                         </td><td>&lt;0.001                                                                     </td><td>&lt;0.001                                                                     </td><td> 0.000                                                                        </td></tr>\n",
       "\t<tr><td><span style=white-space:pre-wrap>SOFA Reduction Day 3                  </span></td><td>&lt;0.001                                                                     </td><td>&lt;0.001                                                                     </td><td>&lt;0.001                                                                     </td><td> 0.000                                                                        </td></tr>\n",
       "\t<tr><td>Norepinephrine (maximum dosage mg/min)</td><td>&lt;0.001                             </td><td>&lt;0.001                             </td><td>0.003                                 </td><td> 0.000                                </td></tr>\n",
       "\t<tr><td>Serum Lactate Reduction (48 hours)    </td><td>0.014                                 </td><td>0.004                                 </td><td>0.006                                 </td><td>71.608                                </td></tr>\n",
       "\t<tr><td>Serum Creatinine Reduction (48 hours) </td><td>0.988                                 </td><td>0.107                                 </td><td>0.976                                 </td><td>17.937                                </td></tr>\n",
       "\t<tr><td><span style=white-space:pre-wrap>Serum Lactate Reduction (24 hours)    </span></td><td>0.007                                                                         </td><td>&lt;0.001                                                                     </td><td>0.005                                                                         </td><td>65.681                                                                        </td></tr>\n",
       "\t<tr><td>Serum Creatinine Reduction (24 hours) </td><td>0.274                                 </td><td>0.068                                 </td><td>0.269                                 </td><td>13.158                                </td></tr>\n",
       "</tbody>\n",
       "</table>\n"
      ],
      "text/latex": [
       "\\begin{tabular}{r|lllll}\n",
       " cov & p value (Doubly Robust All Covariates) & p value (Doubly Robust Unbalanced Covariates) & p value (Multivariate) & Missing data (\\%)\\\\\n",
       "\\hline\n",
       "\t Ventilation free days in 28 days       & 0.146                                  & 0.48                                   & 0.097                                  &  0.000                                \\\\\n",
       "\t Vasopressor free days in 28 days       & <0.001                                 & 0.005                                  & <0.001                                 &  0.000                                \\\\\n",
       "\t Dobutamine Use                         & 0.001                                  & <0.001                                 & 0.001                                  &  0.000                                \\\\\n",
       "\t IV Fluid Day 1 (mL)                    & 0.894                                  & 0.91                                   & 0.935                                  &  3.616                                \\\\\n",
       "\t IV Fluid Day 2 (mL)                    & 0.068                                  & 0.003                                  & 0.052                                  & 15.343                                \\\\\n",
       "\t IV Fluid Day 3 (mL)                    & <0.001                                 & <0.001                                 & <0.001                                 & 33.014                                \\\\\n",
       "\t SOFA Reduction Day 2                   & 0.003                                  & <0.001                                 & <0.001                                 &  0.000                                \\\\\n",
       "\t SOFA Reduction Day 3                   & <0.001                                 & <0.001                                 & <0.001                                 &  0.000                                \\\\\n",
       "\t Norepinephrine (maximum dosage mg/min) & <0.001                                 & <0.001                                 & 0.003                                  &  0.000                                \\\\\n",
       "\t Serum Lactate Reduction (48 hours)     & 0.014                                  & 0.004                                  & 0.006                                  & 71.608                                \\\\\n",
       "\t Serum Creatinine Reduction (48 hours)  & 0.988                                  & 0.107                                  & 0.976                                  & 17.937                                \\\\\n",
       "\t Serum Lactate Reduction (24 hours)     & 0.007                                  & <0.001                                 & 0.005                                  & 65.681                                \\\\\n",
       "\t Serum Creatinine Reduction (24 hours)  & 0.274                                  & 0.068                                  & 0.269                                  & 13.158                                \\\\\n",
       "\\end{tabular}\n"
      ],
      "text/markdown": [
       "\n",
       "cov | p value (Doubly Robust All Covariates) | p value (Doubly Robust Unbalanced Covariates) | p value (Multivariate) | Missing data (%) | \n",
       "|---|---|---|---|---|---|---|---|---|---|---|---|---|\n",
       "| Ventilation free days in 28 days       | 0.146                                  | 0.48                                   | 0.097                                  |  0.000                                 | \n",
       "| Vasopressor free days in 28 days       | <0.001                                 | 0.005                                  | <0.001                                 |  0.000                                 | \n",
       "| Dobutamine Use                         | 0.001                                  | <0.001                                 | 0.001                                  |  0.000                                 | \n",
       "| IV Fluid Day 1 (mL)                    | 0.894                                  | 0.91                                   | 0.935                                  |  3.616                                 | \n",
       "| IV Fluid Day 2 (mL)                    | 0.068                                  | 0.003                                  | 0.052                                  | 15.343                                 | \n",
       "| IV Fluid Day 3 (mL)                    | <0.001                                 | <0.001                                 | <0.001                                 | 33.014                                 | \n",
       "| SOFA Reduction Day 2                   | 0.003                                  | <0.001                                 | <0.001                                 |  0.000                                 | \n",
       "| SOFA Reduction Day 3                   | <0.001                                 | <0.001                                 | <0.001                                 |  0.000                                 | \n",
       "| Norepinephrine (maximum dosage mg/min) | <0.001                                 | <0.001                                 | 0.003                                  |  0.000                                 | \n",
       "| Serum Lactate Reduction (48 hours)     | 0.014                                  | 0.004                                  | 0.006                                  | 71.608                                 | \n",
       "| Serum Creatinine Reduction (48 hours)  | 0.988                                  | 0.107                                  | 0.976                                  | 17.937                                 | \n",
       "| Serum Lactate Reduction (24 hours)     | 0.007                                  | <0.001                                 | 0.005                                  | 65.681                                 | \n",
       "| Serum Creatinine Reduction (24 hours)  | 0.274                                  | 0.068                                  | 0.269                                  | 13.158                                 | \n",
       "\n",
       "\n"
      ],
      "text/plain": [
       "   cov                                   \n",
       "1  Ventilation free days in 28 days      \n",
       "2  Vasopressor free days in 28 days      \n",
       "3  Dobutamine Use                        \n",
       "4  IV Fluid Day 1 (mL)                   \n",
       "5  IV Fluid Day 2 (mL)                   \n",
       "6  IV Fluid Day 3 (mL)                   \n",
       "7  SOFA Reduction Day 2                  \n",
       "8  SOFA Reduction Day 3                  \n",
       "9  Norepinephrine (maximum dosage mg/min)\n",
       "10 Serum Lactate Reduction (48 hours)    \n",
       "11 Serum Creatinine Reduction (48 hours) \n",
       "12 Serum Lactate Reduction (24 hours)    \n",
       "13 Serum Creatinine Reduction (24 hours) \n",
       "   p value (Doubly Robust All Covariates)\n",
       "1  0.146                                 \n",
       "2  <0.001                                \n",
       "3  0.001                                 \n",
       "4  0.894                                 \n",
       "5  0.068                                 \n",
       "6  <0.001                                \n",
       "7  0.003                                 \n",
       "8  <0.001                                \n",
       "9  <0.001                                \n",
       "10 0.014                                 \n",
       "11 0.988                                 \n",
       "12 0.007                                 \n",
       "13 0.274                                 \n",
       "   p value (Doubly Robust Unbalanced Covariates) p value (Multivariate)\n",
       "1  0.48                                          0.097                 \n",
       "2  0.005                                         <0.001                \n",
       "3  <0.001                                        0.001                 \n",
       "4  0.91                                          0.935                 \n",
       "5  0.003                                         0.052                 \n",
       "6  <0.001                                        <0.001                \n",
       "7  <0.001                                        <0.001                \n",
       "8  <0.001                                        <0.001                \n",
       "9  <0.001                                        0.003                 \n",
       "10 0.004                                         0.006                 \n",
       "11 0.107                                         0.976                 \n",
       "12 <0.001                                        0.005                 \n",
       "13 0.068                                         0.269                 \n",
       "   Missing data (%)\n",
       "1   0.000          \n",
       "2   0.000          \n",
       "3   0.000          \n",
       "4   3.616          \n",
       "5  15.343          \n",
       "6  33.014          \n",
       "7   0.000          \n",
       "8   0.000          \n",
       "9   0.000          \n",
       "10 71.608          \n",
       "11 17.937          \n",
       "12 65.681          \n",
       "13 13.158          "
      ]
     },
     "metadata": {},
     "output_type": "display_data"
    }
   ],
   "source": [
    "tb_fmt <- tb_raw %>%\n",
    "mutate_at(vars(dbwa, dbwu, multi), funs(case_when(\n",
    "    . < 0.001 ~ \"<0.001\",\n",
    "    TRUE ~ as.character(round(., 3))\n",
    "))) %>%\n",
    "rename(cov = outcome) %>%\n",
    "mutate(cov = case_when(\n",
    "    cov == \"ventfreeday28\" ~ \"Ventilation free days in 28 days\",\n",
    "    cov == \"vasofreeday28\" ~ \"Vasopressor free days in 28 days\",\n",
    "    cov == \"dobutamine_flag\" ~ \"Dobutamine Use\",\n",
    "    cov == \"day1\" ~ \"IV Fluid Day 1 (mL)\",\n",
    "    cov == \"day2\" ~ \"IV Fluid Day 2 (mL)\",\n",
    "    cov == \"day3\" ~ \"IV Fluid Day 3 (mL)\",\n",
    "    cov == \"sofa_drop_2\" ~ \"SOFA Reduction Day 2\",\n",
    "    cov == \"sofa_drop_3\" ~ \"SOFA Reduction Day 3\",\n",
    "    cov == \"norepinephrine_max\" ~ \"Norepinephrine (maximum dosage mg/min)\",\n",
    "    cov == \"lactate_diff\" ~ \"Serum Lactate Reduction (48 hours)\",\n",
    "    cov == \"creatinine_diff\" ~ \"Serum Creatinine Reduction (48 hours)\",\n",
    "    cov == \"lactate_diff_24\" ~ \"Serum Lactate Reduction (24 hours)\",\n",
    "    cov == \"creatinine_diff_24\" ~ \"Serum Creatinine Reduction (24 hours)\",\n",
    "    TRUE ~ cov\n",
    ")) %>%\n",
    "mutate(na = round(na * 100, 3)) %>%\n",
    "setNames(c(\"cov\", \"p value (Doubly Robust All Covariates)\",\n",
    "           \"p value (Doubly Robust Unbalanced Covariates)\",\n",
    "           \"p value (Multivariate)\", \"Missing data (%)\"))\n",
    "\n",
    "tb_fmt"
   ]
  },
  {
   "cell_type": "code",
   "execution_count": 21,
   "metadata": {},
   "outputs": [
    {
     "data": {
      "text/html": [
       "<table>\n",
       "<thead><tr><th scope=col>cov</th><th scope=col>Non-Echo</th><th scope=col>Echo</th><th scope=col>p value</th><th scope=col>SMD</th><th scope=col>Non-Echo (weighted cohort)</th><th scope=col>Echo (weighted cohort)</th><th scope=col>p value (IPW)</th><th scope=col>SMD (weighted cohort)</th><th scope=col>Non-Echo (PS matching)</th><th scope=col>Echo (PS matching)</th><th scope=col>SMD (PS matching)</th><th scope=col>p value (PS matching)</th><th scope=col>Missing data</th></tr></thead>\n",
       "<tbody>\n",
       "\t<tr><td>n                                     </td><td>3099                                  </td><td>3262                                  </td><td>                                      </td><td>   NA                                 </td><td>5739.48                               </td><td>5842.36                               </td><td>                                      </td><td>   NA                                 </td><td>1626                                  </td><td>1626                                  </td><td>   NA                                 </td><td>                                      </td><td>                                      </td></tr>\n",
       "\t<tr><td>Ventilation free days in 28 days      </td><td>19.09 (13.53)                         </td><td>18.02 (25.13)                         </td><td>0.033                                 </td><td>0.053                                 </td><td>14.78 (16.31)                         </td><td>16.18 (36.90)                         </td><td>0.903                                 </td><td>0.003                                 </td><td>18.10 (14.70)                         </td><td>19.60 (32.64)                         </td><td>0.059                                 </td><td>0.089                                 </td><td>0%                                    </td></tr>\n",
       "\t<tr><td>Vasopressor free days in 28 days      </td><td>20.25 (12.61)                         </td><td>20.13 (14.91)                         </td><td>0.741                                 </td><td>0.008                                 </td><td>18.13 (13.84)                         </td><td>19.86 (20.23)                         </td><td>0.047                                 </td><td>0.054                                 </td><td>19.31 (12.73)                         </td><td>20.81 (16.95)                         </td><td>0.100                                 </td><td>0.004                                 </td><td>0%                                    </td></tr>\n",
       "\t<tr><td><span style=white-space:pre-wrap>Dobutamine Use                        </span></td><td><span style=white-space:pre-wrap>0.7%             </span>                     </td><td><span style=white-space:pre-wrap>4.2%             </span>                     </td><td>&lt;0.001                                                                     </td><td>0.224                                                                         </td><td><span style=white-space:pre-wrap>1.1%             </span>                     </td><td><span style=white-space:pre-wrap>3.4%             </span>                     </td><td>&lt;0.001                                                                     </td><td>0.155                                                                         </td><td><span style=white-space:pre-wrap>1.2%             </span>                     </td><td><span style=white-space:pre-wrap>2.1%             </span>                     </td><td>0.067                                                                         </td><td>0.077                                                                         </td><td><span style=white-space:pre-wrap>0%   </span>                                 </td></tr>\n",
       "\t<tr><td>IV Fluid Day 1 (mL)                   </td><td>2303.55 (3670.67)                     </td><td>2602.06 (4025.58)                     </td><td>0.002                                 </td><td>0.077                                 </td><td>3578.20 (3784.46)                     </td><td>3889.22 (4421.38)                     </td><td>0.394                                 </td><td>0.023                                 </td><td>2552.61 (3907.32)                     </td><td>2555.53 (3900.29)                     </td><td>0.001                                 </td><td>0.844                                 </td><td>3.6%                                  </td></tr>\n",
       "\t<tr><td><span style=white-space:pre-wrap>IV Fluid Day 2 (mL)                   </span></td><td>964.10 (2645.46)                                                              </td><td>1334.97 (3005.02)                                                             </td><td>&lt;0.001                                                                     </td><td>0.131                                                                         </td><td>2293.20 (2795.53)                                                             </td><td>2484.97 (3305.21)                                                             </td><td>0.001                                                                         </td><td>0.100                                                                         </td><td>1083.61 (2867.93)                                                             </td><td>1336.38 (2925.28)                                                             </td><td>0.087                                                                         </td><td>0.033                                                                         </td><td>15.3%                                                                         </td></tr>\n",
       "\t<tr><td><span style=white-space:pre-wrap>IV Fluid Day 3 (mL)                   </span></td><td>304.31 (2194.46)                                                              </td><td>720.55 (2638.10)                                                              </td><td>&lt;0.001                                                                     </td><td>0.172                                                                         </td><td>1077.95 (2689.29)                                                             </td><td>1683.90 (3066.03)                                                             </td><td>&lt;0.001                                                                     </td><td>0.170                                                                         </td><td>306.64 (2245.55)                                                              </td><td>813.12 (2718.42)                                                              </td><td>0.203                                                                         </td><td>0.001                                                                         </td><td><span style=white-space:pre-wrap>33%  </span>                                 </td></tr>\n",
       "\t<tr><td><span style=white-space:pre-wrap>SOFA Reduction Day 2                  </span></td><td><span style=white-space:pre-wrap>1.22 (4.34)      </span>                     </td><td><span style=white-space:pre-wrap>0.89 (3.39)      </span>                     </td><td>0.001                                                                         </td><td>0.086                                                                         </td><td><span style=white-space:pre-wrap>1.01 (2.83)      </span>                     </td><td><span style=white-space:pre-wrap>0.55 (3.03)      </span>                     </td><td>&lt;0.001                                                                     </td><td>0.128                                                                         </td><td><span style=white-space:pre-wrap>1.31 (4.55)      </span>                     </td><td><span style=white-space:pre-wrap>0.68 (3.26)      </span>                     </td><td>0.159                                                                         </td><td>&lt;0.001                                                                     </td><td><span style=white-space:pre-wrap>0%   </span>                                 </td></tr>\n",
       "\t<tr><td><span style=white-space:pre-wrap>SOFA Reduction Day 3                  </span></td><td><span style=white-space:pre-wrap>2.29 (4.49)      </span>                     </td><td><span style=white-space:pre-wrap>1.49 (4.07)      </span>                     </td><td>&lt;0.001                                                                     </td><td>0.186                                                                         </td><td><span style=white-space:pre-wrap>1.22 (3.32)      </span>                     </td><td><span style=white-space:pre-wrap>0.78 (3.57)      </span>                     </td><td>&lt;0.001                                                                     </td><td>0.247                                                                         </td><td><span style=white-space:pre-wrap>2.46 (4.76)      </span>                     </td><td><span style=white-space:pre-wrap>1.15 (3.99)      </span>                     </td><td>0.299                                                                         </td><td>&lt;0.001                                                                     </td><td><span style=white-space:pre-wrap>0%   </span>                                 </td></tr>\n",
       "\t<tr><td>Norepinephrine (maximum dosage mg/min)                   </td><td><span style=white-space:pre-wrap>0.81 (2.39)      </span></td><td><span style=white-space:pre-wrap>1.78 (5.69)      </span></td><td>&lt;0.001                                                </td><td>0.221                                                    </td><td><span style=white-space:pre-wrap>1.77 (3.26)      </span></td><td><span style=white-space:pre-wrap>3.05 (8.49)      </span></td><td>&lt;0.001                                                </td><td>0.154                                                    </td><td><span style=white-space:pre-wrap>1.04 (2.68)      </span></td><td><span style=white-space:pre-wrap>1.38 (3.13)      </span></td><td>0.117                                                    </td><td>&lt;0.001                                                </td><td><span style=white-space:pre-wrap>0%   </span>            </td></tr>\n",
       "\t<tr><td>Serum Lactate Reduction (48 hours)    </td><td>0.55 (2.39)                           </td><td>0.27 (1.86)                           </td><td>0.009                                 </td><td>0.130                                 </td><td>0.60 (2.12)                           </td><td>0.26 (1.77)                           </td><td>0.009                                 </td><td>0.144                                 </td><td>0.53 (2.40)                           </td><td>0.23 (1.94)                           </td><td>0.138                                 </td><td>0.558                                 </td><td>71.6%                                 </td></tr>\n",
       "\t<tr><td>Serum Creatinine Reduction (48 hours) </td><td>0.19 (0.87)                           </td><td>0.13 (0.85)                           </td><td>0.011                                 </td><td>0.071                                 </td><td>-0.03 (0.96)                          </td><td>0.06 (0.93)                           </td><td>0.064                                 </td><td>0.056                                 </td><td>0.17 (0.92)                           </td><td>0.13 (0.73)                           </td><td>0.056                                 </td><td>0.33                                  </td><td>17.9%                                 </td></tr>\n",
       "\t<tr><td><span style=white-space:pre-wrap>Serum Lactate Reduction (24 hours)    </span></td><td><span style=white-space:pre-wrap>0.48 (2.07)      </span>                     </td><td><span style=white-space:pre-wrap>0.14 (1.60)      </span>                     </td><td>&lt;0.001                                                                     </td><td>0.182                                                                         </td><td><span style=white-space:pre-wrap>0.54 (1.83)      </span>                     </td><td><span style=white-space:pre-wrap>0.16 (1.62)      </span>                     </td><td>&lt;0.001                                                                     </td><td>0.172                                                                         </td><td><span style=white-space:pre-wrap>0.37 (2.11)      </span>                     </td><td><span style=white-space:pre-wrap>0.12 (1.65)      </span>                     </td><td>0.128                                                                         </td><td>0.532                                                                         </td><td>65.7%                                                                         </td></tr>\n",
       "\t<tr><td>Serum Creatinine Reduction (24 hours) </td><td>0.13 (0.67)                           </td><td>0.03 (2.67)                           </td><td>0.049                                 </td><td>0.053                                 </td><td>-0.02 (0.67)                          </td><td>-0.10 (4.19)                          </td><td>0.055                                 </td><td>0.049                                 </td><td>0.12 (0.65)                           </td><td>0.08 (0.58)                           </td><td>0.055                                 </td><td>0.262                                 </td><td>13.2%                                 </td></tr>\n",
       "</tbody>\n",
       "</table>\n"
      ],
      "text/latex": [
       "\\begin{tabular}{r|llllllllllllll}\n",
       " cov & Non-Echo & Echo & p value & SMD & Non-Echo (weighted cohort) & Echo (weighted cohort) & p value (IPW) & SMD (weighted cohort) & Non-Echo (PS matching) & Echo (PS matching) & SMD (PS matching) & p value (PS matching) & Missing data\\\\\n",
       "\\hline\n",
       "\t n                                      & 3099                                   & 3262                                   &                                        &    NA                                  & 5739.48                                & 5842.36                                &                                        &    NA                                  & 1626                                   & 1626                                   &    NA                                  &                                        &                                       \\\\\n",
       "\t Ventilation free days in 28 days       & 19.09 (13.53)                          & 18.02 (25.13)                          & 0.033                                  & 0.053                                  & 14.78 (16.31)                          & 16.18 (36.90)                          & 0.903                                  & 0.003                                  & 18.10 (14.70)                          & 19.60 (32.64)                          & 0.059                                  & 0.089                                  & 0\\%                                  \\\\\n",
       "\t Vasopressor free days in 28 days       & 20.25 (12.61)                          & 20.13 (14.91)                          & 0.741                                  & 0.008                                  & 18.13 (13.84)                          & 19.86 (20.23)                          & 0.047                                  & 0.054                                  & 19.31 (12.73)                          & 20.81 (16.95)                          & 0.100                                  & 0.004                                  & 0\\%                                  \\\\\n",
       "\t Dobutamine Use                         & 0.7\\%                                 & 4.2\\%                                 & <0.001                                 & 0.224                                  & 1.1\\%                                 & 3.4\\%                                 & <0.001                                 & 0.155                                  & 1.2\\%                                 & 2.1\\%                                 & 0.067                                  & 0.077                                  & 0\\%                                  \\\\\n",
       "\t IV Fluid Day 1 (mL)                    & 2303.55 (3670.67)                      & 2602.06 (4025.58)                      & 0.002                                  & 0.077                                  & 3578.20 (3784.46)                      & 3889.22 (4421.38)                      & 0.394                                  & 0.023                                  & 2552.61 (3907.32)                      & 2555.53 (3900.29)                      & 0.001                                  & 0.844                                  & 3.6\\%                                \\\\\n",
       "\t IV Fluid Day 2 (mL)                    & 964.10 (2645.46)                       & 1334.97 (3005.02)                      & <0.001                                 & 0.131                                  & 2293.20 (2795.53)                      & 2484.97 (3305.21)                      & 0.001                                  & 0.100                                  & 1083.61 (2867.93)                      & 1336.38 (2925.28)                      & 0.087                                  & 0.033                                  & 15.3\\%                               \\\\\n",
       "\t IV Fluid Day 3 (mL)                    & 304.31 (2194.46)                       & 720.55 (2638.10)                       & <0.001                                 & 0.172                                  & 1077.95 (2689.29)                      & 1683.90 (3066.03)                      & <0.001                                 & 0.170                                  & 306.64 (2245.55)                       & 813.12 (2718.42)                       & 0.203                                  & 0.001                                  & 33\\%                                 \\\\\n",
       "\t SOFA Reduction Day 2                   & 1.22 (4.34)                            & 0.89 (3.39)                            & 0.001                                  & 0.086                                  & 1.01 (2.83)                            & 0.55 (3.03)                            & <0.001                                 & 0.128                                  & 1.31 (4.55)                            & 0.68 (3.26)                            & 0.159                                  & <0.001                                 & 0\\%                                  \\\\\n",
       "\t SOFA Reduction Day 3                   & 2.29 (4.49)                            & 1.49 (4.07)                            & <0.001                                 & 0.186                                  & 1.22 (3.32)                            & 0.78 (3.57)                            & <0.001                                 & 0.247                                  & 2.46 (4.76)                            & 1.15 (3.99)                            & 0.299                                  & <0.001                                 & 0\\%                                  \\\\\n",
       "\t Norepinephrine (maximum dosage mg/min) & 0.81 (2.39)                            & 1.78 (5.69)                            & <0.001                                 & 0.221                                  & 1.77 (3.26)                            & 3.05 (8.49)                            & <0.001                                 & 0.154                                  & 1.04 (2.68)                            & 1.38 (3.13)                            & 0.117                                  & <0.001                                 & 0\\%                                  \\\\\n",
       "\t Serum Lactate Reduction (48 hours)     & 0.55 (2.39)                            & 0.27 (1.86)                            & 0.009                                  & 0.130                                  & 0.60 (2.12)                            & 0.26 (1.77)                            & 0.009                                  & 0.144                                  & 0.53 (2.40)                            & 0.23 (1.94)                            & 0.138                                  & 0.558                                  & 71.6\\%                               \\\\\n",
       "\t Serum Creatinine Reduction (48 hours)  & 0.19 (0.87)                            & 0.13 (0.85)                            & 0.011                                  & 0.071                                  & -0.03 (0.96)                           & 0.06 (0.93)                            & 0.064                                  & 0.056                                  & 0.17 (0.92)                            & 0.13 (0.73)                            & 0.056                                  & 0.33                                   & 17.9\\%                               \\\\\n",
       "\t Serum Lactate Reduction (24 hours)     & 0.48 (2.07)                            & 0.14 (1.60)                            & <0.001                                 & 0.182                                  & 0.54 (1.83)                            & 0.16 (1.62)                            & <0.001                                 & 0.172                                  & 0.37 (2.11)                            & 0.12 (1.65)                            & 0.128                                  & 0.532                                  & 65.7\\%                               \\\\\n",
       "\t Serum Creatinine Reduction (24 hours)  & 0.13 (0.67)                            & 0.03 (2.67)                            & 0.049                                  & 0.053                                  & -0.02 (0.67)                           & -0.10 (4.19)                           & 0.055                                  & 0.049                                  & 0.12 (0.65)                            & 0.08 (0.58)                            & 0.055                                  & 0.262                                  & 13.2\\%                               \\\\\n",
       "\\end{tabular}\n"
      ],
      "text/markdown": [
       "\n",
       "cov | Non-Echo | Echo | p value | SMD | Non-Echo (weighted cohort) | Echo (weighted cohort) | p value (IPW) | SMD (weighted cohort) | Non-Echo (PS matching) | Echo (PS matching) | SMD (PS matching) | p value (PS matching) | Missing data | \n",
       "|---|---|---|---|---|---|---|---|---|---|---|---|---|---|\n",
       "| n                                      | 3099                                   | 3262                                   |                                        |    NA                                  | 5739.48                                | 5842.36                                |                                        |    NA                                  | 1626                                   | 1626                                   |    NA                                  |                                        |                                        | \n",
       "| Ventilation free days in 28 days       | 19.09 (13.53)                          | 18.02 (25.13)                          | 0.033                                  | 0.053                                  | 14.78 (16.31)                          | 16.18 (36.90)                          | 0.903                                  | 0.003                                  | 18.10 (14.70)                          | 19.60 (32.64)                          | 0.059                                  | 0.089                                  | 0%                                     | \n",
       "| Vasopressor free days in 28 days       | 20.25 (12.61)                          | 20.13 (14.91)                          | 0.741                                  | 0.008                                  | 18.13 (13.84)                          | 19.86 (20.23)                          | 0.047                                  | 0.054                                  | 19.31 (12.73)                          | 20.81 (16.95)                          | 0.100                                  | 0.004                                  | 0%                                     | \n",
       "| Dobutamine Use                         | 0.7%                                   | 4.2%                                   | <0.001                                 | 0.224                                  | 1.1%                                   | 3.4%                                   | <0.001                                 | 0.155                                  | 1.2%                                   | 2.1%                                   | 0.067                                  | 0.077                                  | 0%                                     | \n",
       "| IV Fluid Day 1 (mL)                    | 2303.55 (3670.67)                      | 2602.06 (4025.58)                      | 0.002                                  | 0.077                                  | 3578.20 (3784.46)                      | 3889.22 (4421.38)                      | 0.394                                  | 0.023                                  | 2552.61 (3907.32)                      | 2555.53 (3900.29)                      | 0.001                                  | 0.844                                  | 3.6%                                   | \n",
       "| IV Fluid Day 2 (mL)                    | 964.10 (2645.46)                       | 1334.97 (3005.02)                      | <0.001                                 | 0.131                                  | 2293.20 (2795.53)                      | 2484.97 (3305.21)                      | 0.001                                  | 0.100                                  | 1083.61 (2867.93)                      | 1336.38 (2925.28)                      | 0.087                                  | 0.033                                  | 15.3%                                  | \n",
       "| IV Fluid Day 3 (mL)                    | 304.31 (2194.46)                       | 720.55 (2638.10)                       | <0.001                                 | 0.172                                  | 1077.95 (2689.29)                      | 1683.90 (3066.03)                      | <0.001                                 | 0.170                                  | 306.64 (2245.55)                       | 813.12 (2718.42)                       | 0.203                                  | 0.001                                  | 33%                                    | \n",
       "| SOFA Reduction Day 2                   | 1.22 (4.34)                            | 0.89 (3.39)                            | 0.001                                  | 0.086                                  | 1.01 (2.83)                            | 0.55 (3.03)                            | <0.001                                 | 0.128                                  | 1.31 (4.55)                            | 0.68 (3.26)                            | 0.159                                  | <0.001                                 | 0%                                     | \n",
       "| SOFA Reduction Day 3                   | 2.29 (4.49)                            | 1.49 (4.07)                            | <0.001                                 | 0.186                                  | 1.22 (3.32)                            | 0.78 (3.57)                            | <0.001                                 | 0.247                                  | 2.46 (4.76)                            | 1.15 (3.99)                            | 0.299                                  | <0.001                                 | 0%                                     | \n",
       "| Norepinephrine (maximum dosage mg/min) | 0.81 (2.39)                            | 1.78 (5.69)                            | <0.001                                 | 0.221                                  | 1.77 (3.26)                            | 3.05 (8.49)                            | <0.001                                 | 0.154                                  | 1.04 (2.68)                            | 1.38 (3.13)                            | 0.117                                  | <0.001                                 | 0%                                     | \n",
       "| Serum Lactate Reduction (48 hours)     | 0.55 (2.39)                            | 0.27 (1.86)                            | 0.009                                  | 0.130                                  | 0.60 (2.12)                            | 0.26 (1.77)                            | 0.009                                  | 0.144                                  | 0.53 (2.40)                            | 0.23 (1.94)                            | 0.138                                  | 0.558                                  | 71.6%                                  | \n",
       "| Serum Creatinine Reduction (48 hours)  | 0.19 (0.87)                            | 0.13 (0.85)                            | 0.011                                  | 0.071                                  | -0.03 (0.96)                           | 0.06 (0.93)                            | 0.064                                  | 0.056                                  | 0.17 (0.92)                            | 0.13 (0.73)                            | 0.056                                  | 0.33                                   | 17.9%                                  | \n",
       "| Serum Lactate Reduction (24 hours)     | 0.48 (2.07)                            | 0.14 (1.60)                            | <0.001                                 | 0.182                                  | 0.54 (1.83)                            | 0.16 (1.62)                            | <0.001                                 | 0.172                                  | 0.37 (2.11)                            | 0.12 (1.65)                            | 0.128                                  | 0.532                                  | 65.7%                                  | \n",
       "| Serum Creatinine Reduction (24 hours)  | 0.13 (0.67)                            | 0.03 (2.67)                            | 0.049                                  | 0.053                                  | -0.02 (0.67)                           | -0.10 (4.19)                           | 0.055                                  | 0.049                                  | 0.12 (0.65)                            | 0.08 (0.58)                            | 0.055                                  | 0.262                                  | 13.2%                                  | \n",
       "\n",
       "\n"
      ],
      "text/plain": [
       "   cov                                    Non-Echo          Echo             \n",
       "1  n                                      3099              3262             \n",
       "2  Ventilation free days in 28 days       19.09 (13.53)     18.02 (25.13)    \n",
       "3  Vasopressor free days in 28 days       20.25 (12.61)     20.13 (14.91)    \n",
       "4  Dobutamine Use                         0.7%              4.2%             \n",
       "5  IV Fluid Day 1 (mL)                    2303.55 (3670.67) 2602.06 (4025.58)\n",
       "6  IV Fluid Day 2 (mL)                    964.10 (2645.46)  1334.97 (3005.02)\n",
       "7  IV Fluid Day 3 (mL)                    304.31 (2194.46)  720.55 (2638.10) \n",
       "8  SOFA Reduction Day 2                   1.22 (4.34)       0.89 (3.39)      \n",
       "9  SOFA Reduction Day 3                   2.29 (4.49)       1.49 (4.07)      \n",
       "10 Norepinephrine (maximum dosage mg/min) 0.81 (2.39)       1.78 (5.69)      \n",
       "11 Serum Lactate Reduction (48 hours)     0.55 (2.39)       0.27 (1.86)      \n",
       "12 Serum Creatinine Reduction (48 hours)  0.19 (0.87)       0.13 (0.85)      \n",
       "13 Serum Lactate Reduction (24 hours)     0.48 (2.07)       0.14 (1.60)      \n",
       "14 Serum Creatinine Reduction (24 hours)  0.13 (0.67)       0.03 (2.67)      \n",
       "   p value SMD   Non-Echo (weighted cohort) Echo (weighted cohort)\n",
       "1             NA 5739.48                    5842.36               \n",
       "2  0.033   0.053 14.78 (16.31)              16.18 (36.90)         \n",
       "3  0.741   0.008 18.13 (13.84)              19.86 (20.23)         \n",
       "4  <0.001  0.224 1.1%                       3.4%                  \n",
       "5  0.002   0.077 3578.20 (3784.46)          3889.22 (4421.38)     \n",
       "6  <0.001  0.131 2293.20 (2795.53)          2484.97 (3305.21)     \n",
       "7  <0.001  0.172 1077.95 (2689.29)          1683.90 (3066.03)     \n",
       "8  0.001   0.086 1.01 (2.83)                0.55 (3.03)           \n",
       "9  <0.001  0.186 1.22 (3.32)                0.78 (3.57)           \n",
       "10 <0.001  0.221 1.77 (3.26)                3.05 (8.49)           \n",
       "11 0.009   0.130 0.60 (2.12)                0.26 (1.77)           \n",
       "12 0.011   0.071 -0.03 (0.96)               0.06 (0.93)           \n",
       "13 <0.001  0.182 0.54 (1.83)                0.16 (1.62)           \n",
       "14 0.049   0.053 -0.02 (0.67)               -0.10 (4.19)          \n",
       "   p value (IPW) SMD (weighted cohort) Non-Echo (PS matching)\n",
       "1                   NA                 1626                  \n",
       "2  0.903         0.003                 18.10 (14.70)         \n",
       "3  0.047         0.054                 19.31 (12.73)         \n",
       "4  <0.001        0.155                 1.2%                  \n",
       "5  0.394         0.023                 2552.61 (3907.32)     \n",
       "6  0.001         0.100                 1083.61 (2867.93)     \n",
       "7  <0.001        0.170                 306.64 (2245.55)      \n",
       "8  <0.001        0.128                 1.31 (4.55)           \n",
       "9  <0.001        0.247                 2.46 (4.76)           \n",
       "10 <0.001        0.154                 1.04 (2.68)           \n",
       "11 0.009         0.144                 0.53 (2.40)           \n",
       "12 0.064         0.056                 0.17 (0.92)           \n",
       "13 <0.001        0.172                 0.37 (2.11)           \n",
       "14 0.055         0.049                 0.12 (0.65)           \n",
       "   Echo (PS matching) SMD (PS matching) p value (PS matching) Missing data\n",
       "1  1626                  NA                                               \n",
       "2  19.60 (32.64)      0.059             0.089                 0%          \n",
       "3  20.81 (16.95)      0.100             0.004                 0%          \n",
       "4  2.1%               0.067             0.077                 0%          \n",
       "5  2555.53 (3900.29)  0.001             0.844                 3.6%        \n",
       "6  1336.38 (2925.28)  0.087             0.033                 15.3%       \n",
       "7  813.12 (2718.42)   0.203             0.001                 33%         \n",
       "8  0.68 (3.26)        0.159             <0.001                0%          \n",
       "9  1.15 (3.99)        0.299             <0.001                0%          \n",
       "10 1.38 (3.13)        0.117             <0.001                0%          \n",
       "11 0.23 (1.94)        0.138             0.558                 71.6%       \n",
       "12 0.13 (0.73)        0.056             0.33                  17.9%       \n",
       "13 0.12 (1.65)        0.128             0.532                 65.7%       \n",
       "14 0.08 (0.58)        0.055             0.262                 13.2%       "
      ]
     },
     "metadata": {},
     "output_type": "display_data"
    }
   ],
   "source": [
    "subgroup_tb1 <- data.table::fread(file.path(data_dir, \"subgroup.csv\"), data.table = FALSE)\n",
    "subgroup_tb1"
   ]
  },
  {
   "cell_type": "code",
   "execution_count": 22,
   "metadata": {},
   "outputs": [],
   "source": [
    "subgroup_tb <- subgroup_tb1 %>%\n",
    "full_join(tb_fmt, by = \"cov\") %>%\n",
    "select(1, 2, 3, 5, 17, 6, 7, 9, 8, 15, 16, 10, 11, 12, 13)"
   ]
  },
  {
   "cell_type": "code",
   "execution_count": 23,
   "metadata": {},
   "outputs": [
    {
     "data": {
      "text/html": [
       "<table>\n",
       "<thead><tr><th scope=col>cov</th><th scope=col>Non-Echo</th><th scope=col>Echo</th><th scope=col>SMD</th><th scope=col>p value (Multivariate)</th><th scope=col>Non-Echo (weighted cohort)</th><th scope=col>Echo (weighted cohort)</th><th scope=col>SMD (weighted cohort)</th><th scope=col>p value (IPW)</th><th scope=col>p value (Doubly Robust All Covariates)</th><th scope=col>p value (Doubly Robust Unbalanced Covariates)</th><th scope=col>Non-Echo (PS matching)</th><th scope=col>Echo (PS matching)</th><th scope=col>SMD (PS matching)</th><th scope=col>p value (PS matching)</th></tr></thead>\n",
       "<tbody>\n",
       "\t<tr><td>n                                     </td><td>3099                                  </td><td>3262                                  </td><td>   NA                                 </td><td>NA                                    </td><td>5739.48                               </td><td>5842.36                               </td><td>   NA                                 </td><td>                                      </td><td>NA                                    </td><td>NA                                    </td><td>1626                                  </td><td>1626                                  </td><td>   NA                                 </td><td>                                      </td></tr>\n",
       "\t<tr><td>Ventilation free days in 28 days      </td><td>19.09 (13.53)                         </td><td>18.02 (25.13)                         </td><td>0.053                                 </td><td>0.097                                 </td><td>14.78 (16.31)                         </td><td>16.18 (36.90)                         </td><td>0.003                                 </td><td>0.903                                 </td><td>0.146                                 </td><td>0.48                                  </td><td>18.10 (14.70)                         </td><td>19.60 (32.64)                         </td><td>0.059                                 </td><td>0.089                                 </td></tr>\n",
       "\t<tr><td><span style=white-space:pre-wrap>Vasopressor free days in 28 days      </span></td><td><span style=white-space:pre-wrap>20.25 (12.61)    </span>                     </td><td><span style=white-space:pre-wrap>20.13 (14.91)    </span>                     </td><td>0.008                                                                         </td><td>&lt;0.001                                                                     </td><td><span style=white-space:pre-wrap>18.13 (13.84)    </span>                     </td><td><span style=white-space:pre-wrap>19.86 (20.23)    </span>                     </td><td>0.054                                                                         </td><td>0.047                                                                         </td><td>&lt;0.001                                                                     </td><td>0.005                                                                         </td><td><span style=white-space:pre-wrap>19.31 (12.73)    </span>                     </td><td><span style=white-space:pre-wrap>20.81 (16.95)    </span>                     </td><td>0.100                                                                         </td><td>0.004                                                                         </td></tr>\n",
       "\t<tr><td><span style=white-space:pre-wrap>Dobutamine Use                        </span></td><td><span style=white-space:pre-wrap>0.7%             </span>                     </td><td><span style=white-space:pre-wrap>4.2%             </span>                     </td><td>0.224                                                                         </td><td>0.001                                                                         </td><td><span style=white-space:pre-wrap>1.1%             </span>                     </td><td><span style=white-space:pre-wrap>3.4%             </span>                     </td><td>0.155                                                                         </td><td>&lt;0.001                                                                     </td><td>0.001                                                                         </td><td>&lt;0.001                                                                     </td><td><span style=white-space:pre-wrap>1.2%             </span>                     </td><td><span style=white-space:pre-wrap>2.1%             </span>                     </td><td>0.067                                                                         </td><td>0.077                                                                         </td></tr>\n",
       "\t<tr><td>IV Fluid Day 1 (mL)                   </td><td>2303.55 (3670.67)                     </td><td>2602.06 (4025.58)                     </td><td>0.077                                 </td><td>0.935                                 </td><td>3578.20 (3784.46)                     </td><td>3889.22 (4421.38)                     </td><td>0.023                                 </td><td>0.394                                 </td><td>0.894                                 </td><td>0.91                                  </td><td>2552.61 (3907.32)                     </td><td>2555.53 (3900.29)                     </td><td>0.001                                 </td><td>0.844                                 </td></tr>\n",
       "\t<tr><td>IV Fluid Day 2 (mL)                   </td><td>964.10 (2645.46)                      </td><td>1334.97 (3005.02)                     </td><td>0.131                                 </td><td>0.052                                 </td><td>2293.20 (2795.53)                     </td><td>2484.97 (3305.21)                     </td><td>0.100                                 </td><td>0.001                                 </td><td>0.068                                 </td><td>0.003                                 </td><td>1083.61 (2867.93)                     </td><td>1336.38 (2925.28)                     </td><td>0.087                                 </td><td>0.033                                 </td></tr>\n",
       "\t<tr><td><span style=white-space:pre-wrap>IV Fluid Day 3 (mL)                   </span></td><td>304.31 (2194.46)                                                              </td><td>720.55 (2638.10)                                                              </td><td>0.172                                                                         </td><td>&lt;0.001                                                                     </td><td>1077.95 (2689.29)                                                             </td><td>1683.90 (3066.03)                                                             </td><td>0.170                                                                         </td><td>&lt;0.001                                                                     </td><td>&lt;0.001                                                                     </td><td>&lt;0.001                                                                     </td><td>306.64 (2245.55)                                                              </td><td>813.12 (2718.42)                                                              </td><td>0.203                                                                         </td><td>0.001                                                                         </td></tr>\n",
       "\t<tr><td><span style=white-space:pre-wrap>SOFA Reduction Day 2                  </span></td><td><span style=white-space:pre-wrap>1.22 (4.34)      </span>                     </td><td><span style=white-space:pre-wrap>0.89 (3.39)      </span>                     </td><td>0.086                                                                         </td><td>&lt;0.001                                                                     </td><td><span style=white-space:pre-wrap>1.01 (2.83)      </span>                     </td><td><span style=white-space:pre-wrap>0.55 (3.03)      </span>                     </td><td>0.128                                                                         </td><td>&lt;0.001                                                                     </td><td>0.003                                                                         </td><td>&lt;0.001                                                                     </td><td><span style=white-space:pre-wrap>1.31 (4.55)      </span>                     </td><td><span style=white-space:pre-wrap>0.68 (3.26)      </span>                     </td><td>0.159                                                                         </td><td>&lt;0.001                                                                     </td></tr>\n",
       "\t<tr><td><span style=white-space:pre-wrap>SOFA Reduction Day 3                  </span></td><td><span style=white-space:pre-wrap>2.29 (4.49)      </span>                     </td><td><span style=white-space:pre-wrap>1.49 (4.07)      </span>                     </td><td>0.186                                                                         </td><td>&lt;0.001                                                                     </td><td><span style=white-space:pre-wrap>1.22 (3.32)      </span>                     </td><td><span style=white-space:pre-wrap>0.78 (3.57)      </span>                     </td><td>0.247                                                                         </td><td>&lt;0.001                                                                     </td><td>&lt;0.001                                                                     </td><td>&lt;0.001                                                                     </td><td><span style=white-space:pre-wrap>2.46 (4.76)      </span>                     </td><td><span style=white-space:pre-wrap>1.15 (3.99)      </span>                     </td><td>0.299                                                                         </td><td>&lt;0.001                                                                     </td></tr>\n",
       "\t<tr><td>Norepinephrine (maximum dosage mg/min)                   </td><td><span style=white-space:pre-wrap>0.81 (2.39)      </span></td><td><span style=white-space:pre-wrap>1.78 (5.69)      </span></td><td>0.221                                                    </td><td>0.003                                                    </td><td><span style=white-space:pre-wrap>1.77 (3.26)      </span></td><td><span style=white-space:pre-wrap>3.05 (8.49)      </span></td><td>0.154                                                    </td><td>&lt;0.001                                                </td><td>&lt;0.001                                                </td><td>&lt;0.001                                                </td><td><span style=white-space:pre-wrap>1.04 (2.68)      </span></td><td><span style=white-space:pre-wrap>1.38 (3.13)      </span></td><td>0.117                                                    </td><td>&lt;0.001                                                </td></tr>\n",
       "\t<tr><td>Serum Lactate Reduction (48 hours)    </td><td>0.55 (2.39)                           </td><td>0.27 (1.86)                           </td><td>0.130                                 </td><td>0.006                                 </td><td>0.60 (2.12)                           </td><td>0.26 (1.77)                           </td><td>0.144                                 </td><td>0.009                                 </td><td>0.014                                 </td><td>0.004                                 </td><td>0.53 (2.40)                           </td><td>0.23 (1.94)                           </td><td>0.138                                 </td><td>0.558                                 </td></tr>\n",
       "\t<tr><td>Serum Creatinine Reduction (48 hours) </td><td>0.19 (0.87)                           </td><td>0.13 (0.85)                           </td><td>0.071                                 </td><td>0.976                                 </td><td>-0.03 (0.96)                          </td><td>0.06 (0.93)                           </td><td>0.056                                 </td><td>0.064                                 </td><td>0.988                                 </td><td>0.107                                 </td><td>0.17 (0.92)                           </td><td>0.13 (0.73)                           </td><td>0.056                                 </td><td>0.33                                  </td></tr>\n",
       "\t<tr><td><span style=white-space:pre-wrap>Serum Lactate Reduction (24 hours)    </span></td><td><span style=white-space:pre-wrap>0.48 (2.07)      </span>                     </td><td><span style=white-space:pre-wrap>0.14 (1.60)      </span>                     </td><td>0.182                                                                         </td><td>0.005                                                                         </td><td><span style=white-space:pre-wrap>0.54 (1.83)      </span>                     </td><td><span style=white-space:pre-wrap>0.16 (1.62)      </span>                     </td><td>0.172                                                                         </td><td>&lt;0.001                                                                     </td><td>0.007                                                                         </td><td>&lt;0.001                                                                     </td><td><span style=white-space:pre-wrap>0.37 (2.11)      </span>                     </td><td><span style=white-space:pre-wrap>0.12 (1.65)      </span>                     </td><td>0.128                                                                         </td><td>0.532                                                                         </td></tr>\n",
       "\t<tr><td>Serum Creatinine Reduction (24 hours) </td><td>0.13 (0.67)                           </td><td>0.03 (2.67)                           </td><td>0.053                                 </td><td>0.269                                 </td><td>-0.02 (0.67)                          </td><td>-0.10 (4.19)                          </td><td>0.049                                 </td><td>0.055                                 </td><td>0.274                                 </td><td>0.068                                 </td><td>0.12 (0.65)                           </td><td>0.08 (0.58)                           </td><td>0.055                                 </td><td>0.262                                 </td></tr>\n",
       "</tbody>\n",
       "</table>\n"
      ],
      "text/latex": [
       "\\begin{tabular}{r|lllllllllllllll}\n",
       " cov & Non-Echo & Echo & SMD & p value (Multivariate) & Non-Echo (weighted cohort) & Echo (weighted cohort) & SMD (weighted cohort) & p value (IPW) & p value (Doubly Robust All Covariates) & p value (Doubly Robust Unbalanced Covariates) & Non-Echo (PS matching) & Echo (PS matching) & SMD (PS matching) & p value (PS matching)\\\\\n",
       "\\hline\n",
       "\t n                                      & 3099                                   & 3262                                   &    NA                                  & NA                                     & 5739.48                                & 5842.36                                &    NA                                  &                                        & NA                                     & NA                                     & 1626                                   & 1626                                   &    NA                                  &                                       \\\\\n",
       "\t Ventilation free days in 28 days       & 19.09 (13.53)                          & 18.02 (25.13)                          & 0.053                                  & 0.097                                  & 14.78 (16.31)                          & 16.18 (36.90)                          & 0.003                                  & 0.903                                  & 0.146                                  & 0.48                                   & 18.10 (14.70)                          & 19.60 (32.64)                          & 0.059                                  & 0.089                                 \\\\\n",
       "\t Vasopressor free days in 28 days       & 20.25 (12.61)                          & 20.13 (14.91)                          & 0.008                                  & <0.001                                 & 18.13 (13.84)                          & 19.86 (20.23)                          & 0.054                                  & 0.047                                  & <0.001                                 & 0.005                                  & 19.31 (12.73)                          & 20.81 (16.95)                          & 0.100                                  & 0.004                                 \\\\\n",
       "\t Dobutamine Use                         & 0.7\\%                                 & 4.2\\%                                 & 0.224                                  & 0.001                                  & 1.1\\%                                 & 3.4\\%                                 & 0.155                                  & <0.001                                 & 0.001                                  & <0.001                                 & 1.2\\%                                 & 2.1\\%                                 & 0.067                                  & 0.077                                 \\\\\n",
       "\t IV Fluid Day 1 (mL)                    & 2303.55 (3670.67)                      & 2602.06 (4025.58)                      & 0.077                                  & 0.935                                  & 3578.20 (3784.46)                      & 3889.22 (4421.38)                      & 0.023                                  & 0.394                                  & 0.894                                  & 0.91                                   & 2552.61 (3907.32)                      & 2555.53 (3900.29)                      & 0.001                                  & 0.844                                 \\\\\n",
       "\t IV Fluid Day 2 (mL)                    & 964.10 (2645.46)                       & 1334.97 (3005.02)                      & 0.131                                  & 0.052                                  & 2293.20 (2795.53)                      & 2484.97 (3305.21)                      & 0.100                                  & 0.001                                  & 0.068                                  & 0.003                                  & 1083.61 (2867.93)                      & 1336.38 (2925.28)                      & 0.087                                  & 0.033                                 \\\\\n",
       "\t IV Fluid Day 3 (mL)                    & 304.31 (2194.46)                       & 720.55 (2638.10)                       & 0.172                                  & <0.001                                 & 1077.95 (2689.29)                      & 1683.90 (3066.03)                      & 0.170                                  & <0.001                                 & <0.001                                 & <0.001                                 & 306.64 (2245.55)                       & 813.12 (2718.42)                       & 0.203                                  & 0.001                                 \\\\\n",
       "\t SOFA Reduction Day 2                   & 1.22 (4.34)                            & 0.89 (3.39)                            & 0.086                                  & <0.001                                 & 1.01 (2.83)                            & 0.55 (3.03)                            & 0.128                                  & <0.001                                 & 0.003                                  & <0.001                                 & 1.31 (4.55)                            & 0.68 (3.26)                            & 0.159                                  & <0.001                                \\\\\n",
       "\t SOFA Reduction Day 3                   & 2.29 (4.49)                            & 1.49 (4.07)                            & 0.186                                  & <0.001                                 & 1.22 (3.32)                            & 0.78 (3.57)                            & 0.247                                  & <0.001                                 & <0.001                                 & <0.001                                 & 2.46 (4.76)                            & 1.15 (3.99)                            & 0.299                                  & <0.001                                \\\\\n",
       "\t Norepinephrine (maximum dosage mg/min) & 0.81 (2.39)                            & 1.78 (5.69)                            & 0.221                                  & 0.003                                  & 1.77 (3.26)                            & 3.05 (8.49)                            & 0.154                                  & <0.001                                 & <0.001                                 & <0.001                                 & 1.04 (2.68)                            & 1.38 (3.13)                            & 0.117                                  & <0.001                                \\\\\n",
       "\t Serum Lactate Reduction (48 hours)     & 0.55 (2.39)                            & 0.27 (1.86)                            & 0.130                                  & 0.006                                  & 0.60 (2.12)                            & 0.26 (1.77)                            & 0.144                                  & 0.009                                  & 0.014                                  & 0.004                                  & 0.53 (2.40)                            & 0.23 (1.94)                            & 0.138                                  & 0.558                                 \\\\\n",
       "\t Serum Creatinine Reduction (48 hours)  & 0.19 (0.87)                            & 0.13 (0.85)                            & 0.071                                  & 0.976                                  & -0.03 (0.96)                           & 0.06 (0.93)                            & 0.056                                  & 0.064                                  & 0.988                                  & 0.107                                  & 0.17 (0.92)                            & 0.13 (0.73)                            & 0.056                                  & 0.33                                  \\\\\n",
       "\t Serum Lactate Reduction (24 hours)     & 0.48 (2.07)                            & 0.14 (1.60)                            & 0.182                                  & 0.005                                  & 0.54 (1.83)                            & 0.16 (1.62)                            & 0.172                                  & <0.001                                 & 0.007                                  & <0.001                                 & 0.37 (2.11)                            & 0.12 (1.65)                            & 0.128                                  & 0.532                                 \\\\\n",
       "\t Serum Creatinine Reduction (24 hours)  & 0.13 (0.67)                            & 0.03 (2.67)                            & 0.053                                  & 0.269                                  & -0.02 (0.67)                           & -0.10 (4.19)                           & 0.049                                  & 0.055                                  & 0.274                                  & 0.068                                  & 0.12 (0.65)                            & 0.08 (0.58)                            & 0.055                                  & 0.262                                 \\\\\n",
       "\\end{tabular}\n"
      ],
      "text/markdown": [
       "\n",
       "cov | Non-Echo | Echo | SMD | p value (Multivariate) | Non-Echo (weighted cohort) | Echo (weighted cohort) | SMD (weighted cohort) | p value (IPW) | p value (Doubly Robust All Covariates) | p value (Doubly Robust Unbalanced Covariates) | Non-Echo (PS matching) | Echo (PS matching) | SMD (PS matching) | p value (PS matching) | \n",
       "|---|---|---|---|---|---|---|---|---|---|---|---|---|---|\n",
       "| n                                      | 3099                                   | 3262                                   |    NA                                  | NA                                     | 5739.48                                | 5842.36                                |    NA                                  |                                        | NA                                     | NA                                     | 1626                                   | 1626                                   |    NA                                  |                                        | \n",
       "| Ventilation free days in 28 days       | 19.09 (13.53)                          | 18.02 (25.13)                          | 0.053                                  | 0.097                                  | 14.78 (16.31)                          | 16.18 (36.90)                          | 0.003                                  | 0.903                                  | 0.146                                  | 0.48                                   | 18.10 (14.70)                          | 19.60 (32.64)                          | 0.059                                  | 0.089                                  | \n",
       "| Vasopressor free days in 28 days       | 20.25 (12.61)                          | 20.13 (14.91)                          | 0.008                                  | <0.001                                 | 18.13 (13.84)                          | 19.86 (20.23)                          | 0.054                                  | 0.047                                  | <0.001                                 | 0.005                                  | 19.31 (12.73)                          | 20.81 (16.95)                          | 0.100                                  | 0.004                                  | \n",
       "| Dobutamine Use                         | 0.7%                                   | 4.2%                                   | 0.224                                  | 0.001                                  | 1.1%                                   | 3.4%                                   | 0.155                                  | <0.001                                 | 0.001                                  | <0.001                                 | 1.2%                                   | 2.1%                                   | 0.067                                  | 0.077                                  | \n",
       "| IV Fluid Day 1 (mL)                    | 2303.55 (3670.67)                      | 2602.06 (4025.58)                      | 0.077                                  | 0.935                                  | 3578.20 (3784.46)                      | 3889.22 (4421.38)                      | 0.023                                  | 0.394                                  | 0.894                                  | 0.91                                   | 2552.61 (3907.32)                      | 2555.53 (3900.29)                      | 0.001                                  | 0.844                                  | \n",
       "| IV Fluid Day 2 (mL)                    | 964.10 (2645.46)                       | 1334.97 (3005.02)                      | 0.131                                  | 0.052                                  | 2293.20 (2795.53)                      | 2484.97 (3305.21)                      | 0.100                                  | 0.001                                  | 0.068                                  | 0.003                                  | 1083.61 (2867.93)                      | 1336.38 (2925.28)                      | 0.087                                  | 0.033                                  | \n",
       "| IV Fluid Day 3 (mL)                    | 304.31 (2194.46)                       | 720.55 (2638.10)                       | 0.172                                  | <0.001                                 | 1077.95 (2689.29)                      | 1683.90 (3066.03)                      | 0.170                                  | <0.001                                 | <0.001                                 | <0.001                                 | 306.64 (2245.55)                       | 813.12 (2718.42)                       | 0.203                                  | 0.001                                  | \n",
       "| SOFA Reduction Day 2                   | 1.22 (4.34)                            | 0.89 (3.39)                            | 0.086                                  | <0.001                                 | 1.01 (2.83)                            | 0.55 (3.03)                            | 0.128                                  | <0.001                                 | 0.003                                  | <0.001                                 | 1.31 (4.55)                            | 0.68 (3.26)                            | 0.159                                  | <0.001                                 | \n",
       "| SOFA Reduction Day 3                   | 2.29 (4.49)                            | 1.49 (4.07)                            | 0.186                                  | <0.001                                 | 1.22 (3.32)                            | 0.78 (3.57)                            | 0.247                                  | <0.001                                 | <0.001                                 | <0.001                                 | 2.46 (4.76)                            | 1.15 (3.99)                            | 0.299                                  | <0.001                                 | \n",
       "| Norepinephrine (maximum dosage mg/min) | 0.81 (2.39)                            | 1.78 (5.69)                            | 0.221                                  | 0.003                                  | 1.77 (3.26)                            | 3.05 (8.49)                            | 0.154                                  | <0.001                                 | <0.001                                 | <0.001                                 | 1.04 (2.68)                            | 1.38 (3.13)                            | 0.117                                  | <0.001                                 | \n",
       "| Serum Lactate Reduction (48 hours)     | 0.55 (2.39)                            | 0.27 (1.86)                            | 0.130                                  | 0.006                                  | 0.60 (2.12)                            | 0.26 (1.77)                            | 0.144                                  | 0.009                                  | 0.014                                  | 0.004                                  | 0.53 (2.40)                            | 0.23 (1.94)                            | 0.138                                  | 0.558                                  | \n",
       "| Serum Creatinine Reduction (48 hours)  | 0.19 (0.87)                            | 0.13 (0.85)                            | 0.071                                  | 0.976                                  | -0.03 (0.96)                           | 0.06 (0.93)                            | 0.056                                  | 0.064                                  | 0.988                                  | 0.107                                  | 0.17 (0.92)                            | 0.13 (0.73)                            | 0.056                                  | 0.33                                   | \n",
       "| Serum Lactate Reduction (24 hours)     | 0.48 (2.07)                            | 0.14 (1.60)                            | 0.182                                  | 0.005                                  | 0.54 (1.83)                            | 0.16 (1.62)                            | 0.172                                  | <0.001                                 | 0.007                                  | <0.001                                 | 0.37 (2.11)                            | 0.12 (1.65)                            | 0.128                                  | 0.532                                  | \n",
       "| Serum Creatinine Reduction (24 hours)  | 0.13 (0.67)                            | 0.03 (2.67)                            | 0.053                                  | 0.269                                  | -0.02 (0.67)                           | -0.10 (4.19)                           | 0.049                                  | 0.055                                  | 0.274                                  | 0.068                                  | 0.12 (0.65)                            | 0.08 (0.58)                            | 0.055                                  | 0.262                                  | \n",
       "\n",
       "\n"
      ],
      "text/plain": [
       "   cov                                    Non-Echo          Echo             \n",
       "1  n                                      3099              3262             \n",
       "2  Ventilation free days in 28 days       19.09 (13.53)     18.02 (25.13)    \n",
       "3  Vasopressor free days in 28 days       20.25 (12.61)     20.13 (14.91)    \n",
       "4  Dobutamine Use                         0.7%              4.2%             \n",
       "5  IV Fluid Day 1 (mL)                    2303.55 (3670.67) 2602.06 (4025.58)\n",
       "6  IV Fluid Day 2 (mL)                    964.10 (2645.46)  1334.97 (3005.02)\n",
       "7  IV Fluid Day 3 (mL)                    304.31 (2194.46)  720.55 (2638.10) \n",
       "8  SOFA Reduction Day 2                   1.22 (4.34)       0.89 (3.39)      \n",
       "9  SOFA Reduction Day 3                   2.29 (4.49)       1.49 (4.07)      \n",
       "10 Norepinephrine (maximum dosage mg/min) 0.81 (2.39)       1.78 (5.69)      \n",
       "11 Serum Lactate Reduction (48 hours)     0.55 (2.39)       0.27 (1.86)      \n",
       "12 Serum Creatinine Reduction (48 hours)  0.19 (0.87)       0.13 (0.85)      \n",
       "13 Serum Lactate Reduction (24 hours)     0.48 (2.07)       0.14 (1.60)      \n",
       "14 Serum Creatinine Reduction (24 hours)  0.13 (0.67)       0.03 (2.67)      \n",
       "   SMD   p value (Multivariate) Non-Echo (weighted cohort)\n",
       "1     NA NA                     5739.48                   \n",
       "2  0.053 0.097                  14.78 (16.31)             \n",
       "3  0.008 <0.001                 18.13 (13.84)             \n",
       "4  0.224 0.001                  1.1%                      \n",
       "5  0.077 0.935                  3578.20 (3784.46)         \n",
       "6  0.131 0.052                  2293.20 (2795.53)         \n",
       "7  0.172 <0.001                 1077.95 (2689.29)         \n",
       "8  0.086 <0.001                 1.01 (2.83)               \n",
       "9  0.186 <0.001                 1.22 (3.32)               \n",
       "10 0.221 0.003                  1.77 (3.26)               \n",
       "11 0.130 0.006                  0.60 (2.12)               \n",
       "12 0.071 0.976                  -0.03 (0.96)              \n",
       "13 0.182 0.005                  0.54 (1.83)               \n",
       "14 0.053 0.269                  -0.02 (0.67)              \n",
       "   Echo (weighted cohort) SMD (weighted cohort) p value (IPW)\n",
       "1  5842.36                   NA                              \n",
       "2  16.18 (36.90)          0.003                 0.903        \n",
       "3  19.86 (20.23)          0.054                 0.047        \n",
       "4  3.4%                   0.155                 <0.001       \n",
       "5  3889.22 (4421.38)      0.023                 0.394        \n",
       "6  2484.97 (3305.21)      0.100                 0.001        \n",
       "7  1683.90 (3066.03)      0.170                 <0.001       \n",
       "8  0.55 (3.03)            0.128                 <0.001       \n",
       "9  0.78 (3.57)            0.247                 <0.001       \n",
       "10 3.05 (8.49)            0.154                 <0.001       \n",
       "11 0.26 (1.77)            0.144                 0.009        \n",
       "12 0.06 (0.93)            0.056                 0.064        \n",
       "13 0.16 (1.62)            0.172                 <0.001       \n",
       "14 -0.10 (4.19)           0.049                 0.055        \n",
       "   p value (Doubly Robust All Covariates)\n",
       "1  NA                                    \n",
       "2  0.146                                 \n",
       "3  <0.001                                \n",
       "4  0.001                                 \n",
       "5  0.894                                 \n",
       "6  0.068                                 \n",
       "7  <0.001                                \n",
       "8  0.003                                 \n",
       "9  <0.001                                \n",
       "10 <0.001                                \n",
       "11 0.014                                 \n",
       "12 0.988                                 \n",
       "13 0.007                                 \n",
       "14 0.274                                 \n",
       "   p value (Doubly Robust Unbalanced Covariates) Non-Echo (PS matching)\n",
       "1  NA                                            1626                  \n",
       "2  0.48                                          18.10 (14.70)         \n",
       "3  0.005                                         19.31 (12.73)         \n",
       "4  <0.001                                        1.2%                  \n",
       "5  0.91                                          2552.61 (3907.32)     \n",
       "6  0.003                                         1083.61 (2867.93)     \n",
       "7  <0.001                                        306.64 (2245.55)      \n",
       "8  <0.001                                        1.31 (4.55)           \n",
       "9  <0.001                                        2.46 (4.76)           \n",
       "10 <0.001                                        1.04 (2.68)           \n",
       "11 0.004                                         0.53 (2.40)           \n",
       "12 0.107                                         0.17 (0.92)           \n",
       "13 <0.001                                        0.37 (2.11)           \n",
       "14 0.068                                         0.12 (0.65)           \n",
       "   Echo (PS matching) SMD (PS matching) p value (PS matching)\n",
       "1  1626                  NA                                  \n",
       "2  19.60 (32.64)      0.059             0.089                \n",
       "3  20.81 (16.95)      0.100             0.004                \n",
       "4  2.1%               0.067             0.077                \n",
       "5  2555.53 (3900.29)  0.001             0.844                \n",
       "6  1336.38 (2925.28)  0.087             0.033                \n",
       "7  813.12 (2718.42)   0.203             0.001                \n",
       "8  0.68 (3.26)        0.159             <0.001               \n",
       "9  1.15 (3.99)        0.299             <0.001               \n",
       "10 1.38 (3.13)        0.117             <0.001               \n",
       "11 0.23 (1.94)        0.138             0.558                \n",
       "12 0.13 (0.73)        0.056             0.33                 \n",
       "13 0.12 (1.65)        0.128             0.532                \n",
       "14 0.08 (0.58)        0.055             0.262                "
      ]
     },
     "metadata": {},
     "output_type": "display_data"
    }
   ],
   "source": [
    "subgroup_tb"
   ]
  },
  {
   "cell_type": "code",
   "execution_count": 24,
   "metadata": {},
   "outputs": [],
   "source": [
    "data.table::fwrite(subgroup_tb, file.path(data_dir, \"secondary.csv\"))"
   ]
  }
 ],
 "metadata": {
  "kernelspec": {
   "display_name": "R",
   "language": "R",
   "name": "ir"
  },
  "language_info": {
   "codemirror_mode": "r",
   "file_extension": ".r",
   "mimetype": "text/x-r-source",
   "name": "R",
   "pygments_lexer": "r",
   "version": "3.4.4"
  },
  "varInspector": {
   "cols": {
    "lenName": 16,
    "lenType": 16,
    "lenVar": 40
   },
   "kernels_config": {
    "python": {
     "delete_cmd_postfix": "",
     "delete_cmd_prefix": "del ",
     "library": "var_list.py",
     "varRefreshCmd": "print(var_dic_list())"
    },
    "r": {
     "delete_cmd_postfix": ") ",
     "delete_cmd_prefix": "rm(",
     "library": "var_list.r",
     "varRefreshCmd": "cat(var_dic_list()) "
    }
   },
   "types_to_exclude": [
    "module",
    "function",
    "builtin_function_or_method",
    "instance",
    "_Feature"
   ],
   "window_display": false
  }
 },
 "nbformat": 4,
 "nbformat_minor": 2
}
