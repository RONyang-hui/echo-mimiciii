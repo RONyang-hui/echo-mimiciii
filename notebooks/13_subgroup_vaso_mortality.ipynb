{
 "cells": [
  {
   "cell_type": "code",
   "execution_count": 1,
   "metadata": {},
   "outputs": [
    {
     "name": "stderr",
     "output_type": "stream",
     "text": [
      "Loading required package: DBI\n",
      "── Attaching packages ─────────────────────────────────────── tidyverse 1.2.1 ──\n",
      "✔ ggplot2 2.2.1     ✔ purrr   0.2.4\n",
      "✔ tibble  1.4.2     ✔ dplyr   0.7.4\n",
      "✔ tidyr   0.8.0     ✔ stringr 1.3.0\n",
      "✔ readr   1.1.1     ✔ forcats 0.3.0\n",
      "── Conflicts ────────────────────────────────────────── tidyverse_conflicts() ──\n",
      "✖ dplyr::filter() masks stats::filter()\n",
      "✖ dplyr::lag()    masks stats::lag()\n"
     ]
    }
   ],
   "source": [
    "library(RPostgreSQL)\n",
    "library(tidyverse)"
   ]
  },
  {
   "cell_type": "code",
   "execution_count": 2,
   "metadata": {},
   "outputs": [],
   "source": [
    "data_dir <- file.path(\"..\", \"data\")\n",
    "sql_dir <- file.path(\"..\", \"sql\")"
   ]
  },
  {
   "cell_type": "code",
   "execution_count": 3,
   "metadata": {},
   "outputs": [
    {
     "data": {
      "text/plain": [
       "<PostgreSQLResult>"
      ]
     },
     "metadata": {},
     "output_type": "display_data"
    }
   ],
   "source": [
    "drv <- dbDriver(\"PostgreSQL\")\n",
    "con <- dbConnect(drv, dbname = \"mimic\")\n",
    "dbSendQuery(con, \"set search_path=echo,public,mimiciii;\")"
   ]
  },
  {
   "cell_type": "code",
   "execution_count": 4,
   "metadata": {},
   "outputs": [],
   "source": [
    "sql <-\n",
    "\"\n",
    "with mort_0 as (\n",
    "    select echo,\n",
    "        sum(case when mort_28_day = 1 then 1 else null end) as death,\n",
    "        count(*) as total\n",
    "    from merged_data\n",
    "    where vaso = 1\n",
    "    group by echo\n",
    ")\n",
    "\n",
    ", mort as (\n",
    "    select echo, death, total, death / 1.0 / total as mortality\n",
    "    from mort_0\n",
    ")\n",
    "\n",
    "select * from mort\n",
    "\""
   ]
  },
  {
   "cell_type": "code",
   "execution_count": 5,
   "metadata": {},
   "outputs": [
    {
     "data": {
      "text/html": [
       "<table>\n",
       "<thead><tr><th scope=col>echo</th><th scope=col>death</th><th scope=col>total</th><th scope=col>mortality</th></tr></thead>\n",
       "<tbody>\n",
       "\t<tr><td>0        </td><td>368      </td><td> 839     </td><td>0.4386174</td></tr>\n",
       "\t<tr><td>1        </td><td>400      </td><td>1228     </td><td>0.3257329</td></tr>\n",
       "</tbody>\n",
       "</table>\n"
      ],
      "text/latex": [
       "\\begin{tabular}{r|llll}\n",
       " echo & death & total & mortality\\\\\n",
       "\\hline\n",
       "\t 0         & 368       &  839      & 0.4386174\\\\\n",
       "\t 1         & 400       & 1228      & 0.3257329\\\\\n",
       "\\end{tabular}\n"
      ],
      "text/markdown": [
       "\n",
       "echo | death | total | mortality | \n",
       "|---|---|\n",
       "| 0         | 368       |  839      | 0.4386174 | \n",
       "| 1         | 400       | 1228      | 0.3257329 | \n",
       "\n",
       "\n"
      ],
      "text/plain": [
       "  echo death total mortality\n",
       "1 0    368    839  0.4386174\n",
       "2 1    400   1228  0.3257329"
      ]
     },
     "metadata": {},
     "output_type": "display_data"
    }
   ],
   "source": [
    "mortality <- dbGetQuery(con, sql)\n",
    "mortality"
   ]
  },
  {
   "cell_type": "code",
   "execution_count": 6,
   "metadata": {},
   "outputs": [
    {
     "data": {
      "text/html": [
       "<table>\n",
       "<thead><tr><th scope=col>Method</th><th scope=col>Echo</th><th scope=col>Non_echo</th></tr></thead>\n",
       "<tbody>\n",
       "\t<tr><td>Raw      </td><td>0.3257329</td><td>0.4386174</td></tr>\n",
       "</tbody>\n",
       "</table>\n"
      ],
      "text/latex": [
       "\\begin{tabular}{r|lll}\n",
       " Method & Echo & Non\\_echo\\\\\n",
       "\\hline\n",
       "\t Raw       & 0.3257329 & 0.4386174\\\\\n",
       "\\end{tabular}\n"
      ],
      "text/markdown": [
       "\n",
       "Method | Echo | Non_echo | \n",
       "|---|\n",
       "| Raw       | 0.3257329 | 0.4386174 | \n",
       "\n",
       "\n"
      ],
      "text/plain": [
       "  Method Echo      Non_echo \n",
       "1 Raw    0.3257329 0.4386174"
      ]
     },
     "metadata": {},
     "output_type": "display_data"
    }
   ],
   "source": [
    "mort_fmt <- mortality %>%\n",
    "mutate(echo = case_when(\n",
    "    echo == 0 ~ \"Non_echo\",\n",
    "    echo == 1 ~ \"Echo\"\n",
    ")) %>%\n",
    "select(echo, mortality) %>%\n",
    "spread(echo, mortality) %>%\n",
    "mutate(Method = \"Raw\") %>%\n",
    "select(Method, Echo, Non_echo)\n",
    "mort_fmt"
   ]
  },
  {
   "cell_type": "code",
   "execution_count": 7,
   "metadata": {},
   "outputs": [],
   "source": [
    "data.table::fwrite(mort_fmt, file.path(data_dir, \"mort_raw_subgroup_vaso.csv\"))"
   ]
  },
  {
   "cell_type": "code",
   "execution_count": 8,
   "metadata": {},
   "outputs": [],
   "source": [
    "mort_ps <- data.table::fread(file.path(data_dir, \"mort_ps_subgroup_vaso.csv\"))"
   ]
  },
  {
   "cell_type": "code",
   "execution_count": 9,
   "metadata": {},
   "outputs": [
    {
     "data": {
      "text/html": [
       "<table>\n",
       "<thead><tr><th scope=col>Method</th><th scope=col>Echo</th><th scope=col>Non-Echo</th></tr></thead>\n",
       "<tbody>\n",
       "\t<tr><td>Raw      </td><td>0.3257329</td><td>0.4386174</td></tr>\n",
       "\t<tr><td>PS Match </td><td>0.3325243</td><td>0.4368932</td></tr>\n",
       "</tbody>\n",
       "</table>\n"
      ],
      "text/latex": [
       "\\begin{tabular}{r|lll}\n",
       " Method & Echo & Non-Echo\\\\\n",
       "\\hline\n",
       "\t Raw       & 0.3257329 & 0.4386174\\\\\n",
       "\t PS Match  & 0.3325243 & 0.4368932\\\\\n",
       "\\end{tabular}\n"
      ],
      "text/markdown": [
       "\n",
       "Method | Echo | Non-Echo | \n",
       "|---|---|\n",
       "| Raw       | 0.3257329 | 0.4386174 | \n",
       "| PS Match  | 0.3325243 | 0.4368932 | \n",
       "\n",
       "\n"
      ],
      "text/plain": [
       "  Method   Echo      Non-Echo \n",
       "1 Raw      0.3257329 0.4386174\n",
       "2 PS Match 0.3325243 0.4368932"
      ]
     },
     "metadata": {},
     "output_type": "display_data"
    }
   ],
   "source": [
    "mort_cmb <- rbind(mort_fmt, mort_ps) %>% setNames(c(\"Method\", \"Echo\", \"Non-Echo\"))\n",
    "mort_cmb"
   ]
  },
  {
   "cell_type": "code",
   "execution_count": 10,
   "metadata": {},
   "outputs": [],
   "source": [
    "data.table::fwrite(mort_cmb, file.path(data_dir, \"mortality_subgroup_vaso.csv\"))"
   ]
  },
  {
   "cell_type": "code",
   "execution_count": 11,
   "metadata": {},
   "outputs": [
    {
     "data": {
      "text/html": [
       "TRUE"
      ],
      "text/latex": [
       "TRUE"
      ],
      "text/markdown": [
       "TRUE"
      ],
      "text/plain": [
       "[1] TRUE"
      ]
     },
     "metadata": {},
     "output_type": "display_data"
    },
    {
     "data": {
      "text/html": [
       "TRUE"
      ],
      "text/latex": [
       "TRUE"
      ],
      "text/markdown": [
       "TRUE"
      ],
      "text/plain": [
       "[1] TRUE"
      ]
     },
     "metadata": {},
     "output_type": "display_data"
    }
   ],
   "source": [
    "dbDisconnect(con)\n",
    "dbUnloadDriver(drv)"
   ]
  }
 ],
 "metadata": {
  "kernelspec": {
   "display_name": "R",
   "language": "R",
   "name": "ir"
  },
  "language_info": {
   "codemirror_mode": "r",
   "file_extension": ".r",
   "mimetype": "text/x-r-source",
   "name": "R",
   "pygments_lexer": "r",
   "version": "3.4.4"
  },
  "varInspector": {
   "cols": {
    "lenName": 16,
    "lenType": 16,
    "lenVar": 40
   },
   "kernels_config": {
    "python": {
     "delete_cmd_postfix": "",
     "delete_cmd_prefix": "del ",
     "library": "var_list.py",
     "varRefreshCmd": "print(var_dic_list())"
    },
    "r": {
     "delete_cmd_postfix": ") ",
     "delete_cmd_prefix": "rm(",
     "library": "var_list.r",
     "varRefreshCmd": "cat(var_dic_list()) "
    }
   },
   "types_to_exclude": [
    "module",
    "function",
    "builtin_function_or_method",
    "instance",
    "_Feature"
   ],
   "window_display": false
  }
 },
 "nbformat": 4,
 "nbformat_minor": 2
}
