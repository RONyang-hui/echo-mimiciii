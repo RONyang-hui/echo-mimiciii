{
 "cells": [
  {
   "cell_type": "code",
   "execution_count": 1,
   "metadata": {},
   "outputs": [
    {
     "name": "stderr",
     "output_type": "stream",
     "text": [
      "── Attaching packages ─────────────────────────────────────── tidyverse 1.2.1 ──\n",
      "✔ ggplot2 2.2.1     ✔ purrr   0.2.4\n",
      "✔ tibble  1.4.2     ✔ dplyr   0.7.4\n",
      "✔ tidyr   0.8.0     ✔ stringr 1.2.0\n",
      "✔ readr   1.1.1     ✔ forcats 0.2.0\n",
      "── Conflicts ────────────────────────────────────────── tidyverse_conflicts() ──\n",
      "✖ dplyr::filter() masks stats::filter()\n",
      "✖ dplyr::lag()    masks stats::lag()\n"
     ]
    }
   ],
   "source": [
    "library(tidyverse)"
   ]
  },
  {
   "cell_type": "code",
   "execution_count": 2,
   "metadata": {},
   "outputs": [],
   "source": [
    "data_dir <- file.path(\"..\", \"data\")\n",
    "sql_dir <- file.path(\"..\", \"sql\")"
   ]
  },
  {
   "cell_type": "code",
   "execution_count": 3,
   "metadata": {},
   "outputs": [
    {
     "data": {
      "text/html": [
       "<table>\n",
       "<thead><tr><th></th><th scope=col>var</th><th scope=col>rel.inf</th></tr></thead>\n",
       "<tbody>\n",
       "\t<tr><th scope=row>icd_chf</th><td>icd_chf                   </td><td>17.69353614               </td></tr>\n",
       "\t<tr><th scope=row>icu_adm_hour</th><td>icu_adm_hour              </td><td>14.25634164               </td></tr>\n",
       "\t<tr><th scope=row>lab_creatinine_kinase_flag</th><td>lab_creatinine_kinase_flag</td><td> 8.25892858               </td></tr>\n",
       "\t<tr><th scope=row>lab_troponin_flag</th><td>lab_troponin_flag         </td><td> 7.26038542               </td></tr>\n",
       "\t<tr><th scope=row>lab_po2_first</th><td>lab_po2_first             </td><td> 6.71870987               </td></tr>\n",
       "\t<tr><th scope=row>age</th><td>age                       </td><td> 6.62750292               </td></tr>\n",
       "\t<tr><th scope=row>icd_afib</th><td>icd_afib                  </td><td> 4.02451485               </td></tr>\n",
       "\t<tr><th scope=row>sofa</th><td>sofa                      </td><td> 3.69510095               </td></tr>\n",
       "\t<tr><th scope=row>weight</th><td>weight                    </td><td> 3.66345251               </td></tr>\n",
       "\t<tr><th scope=row>vs_cvp_first</th><td>vs_cvp_first              </td><td> 3.35431490               </td></tr>\n",
       "\t<tr><th scope=row>lab_platelet_first</th><td>lab_platelet_first        </td><td> 2.27232478               </td></tr>\n",
       "\t<tr><th scope=row>vs_heart_rate_first</th><td>vs_heart_rate_first       </td><td> 1.91389996               </td></tr>\n",
       "\t<tr><th scope=row>lab_lactate_first</th><td>lab_lactate_first         </td><td> 1.89348635               </td></tr>\n",
       "\t<tr><th scope=row>saps</th><td>saps                      </td><td> 1.78952392               </td></tr>\n",
       "\t<tr><th scope=row>vs_temp_first</th><td>vs_temp_first             </td><td> 1.58804830               </td></tr>\n",
       "\t<tr><th scope=row>lab_bnp_flag</th><td>lab_bnp_flag              </td><td> 1.40300423               </td></tr>\n",
       "\t<tr><th scope=row>vs_map_first</th><td>vs_map_first              </td><td> 1.32526077               </td></tr>\n",
       "\t<tr><th scope=row>icu_adm_weekday</th><td>icu_adm_weekday           </td><td> 1.31895205               </td></tr>\n",
       "\t<tr><th scope=row>icd_stroke</th><td>icd_stroke                </td><td> 1.30044224               </td></tr>\n",
       "\t<tr><th scope=row>lab_sodium_first</th><td>lab_sodium_first          </td><td> 1.11615135               </td></tr>\n",
       "\t<tr><th scope=row>lab_chloride_first</th><td>lab_chloride_first        </td><td> 1.09456770               </td></tr>\n",
       "\t<tr><th scope=row>lab_bun_first</th><td>lab_bun_first             </td><td> 1.05505442               </td></tr>\n",
       "\t<tr><th scope=row>lab_ph_first</th><td>lab_ph_first              </td><td> 1.04352665               </td></tr>\n",
       "\t<tr><th scope=row>lab_potassium_first</th><td>lab_potassium_first       </td><td> 0.95128752               </td></tr>\n",
       "\t<tr><th scope=row>lab_wbc_first</th><td>lab_wbc_first             </td><td> 0.88122457               </td></tr>\n",
       "\t<tr><th scope=row>lab_bicarbonate_first</th><td>lab_bicarbonate_first     </td><td> 0.82105639               </td></tr>\n",
       "\t<tr><th scope=row>lab_hemoglobin_first</th><td>lab_hemoglobin_first      </td><td> 0.78558924               </td></tr>\n",
       "\t<tr><th scope=row>lab_pco2_first</th><td>lab_pco2_first            </td><td> 0.78206050               </td></tr>\n",
       "\t<tr><th scope=row>sedative</th><td>sedative                  </td><td> 0.31444583               </td></tr>\n",
       "\t<tr><th scope=row>lab_creatinine_first</th><td>lab_creatinine_first      </td><td> 0.26088687               </td></tr>\n",
       "\t<tr><th scope=row>elix_score</th><td>elix_score                </td><td> 0.22627430               </td></tr>\n",
       "\t<tr><th scope=row>first_careunit</th><td>first_careunit            </td><td> 0.07127621               </td></tr>\n",
       "\t<tr><th scope=row>vaso</th><td>vaso                      </td><td> 0.05946047               </td></tr>\n",
       "\t<tr><th scope=row>icd_malignancy</th><td>icd_malignancy            </td><td> 0.05865987               </td></tr>\n",
       "\t<tr><th scope=row>icd_renal</th><td>icd_renal                 </td><td> 0.05649034               </td></tr>\n",
       "\t<tr><th scope=row>vent</th><td>vent                      </td><td> 0.05359730               </td></tr>\n",
       "\t<tr><th scope=row>icd_copd</th><td>icd_copd                  </td><td> 0.01066010               </td></tr>\n",
       "\t<tr><th scope=row>gender</th><td>gender                    </td><td> 0.00000000               </td></tr>\n",
       "\t<tr><th scope=row>icd_liver</th><td>icd_liver                 </td><td> 0.00000000               </td></tr>\n",
       "\t<tr><th scope=row>icd_cad</th><td>icd_cad                   </td><td> 0.00000000               </td></tr>\n",
       "</tbody>\n",
       "</table>\n"
      ],
      "text/latex": [
       "\\begin{tabular}{r|ll}\n",
       "  & var & rel.inf\\\\\n",
       "\\hline\n",
       "\ticd\\_chf & icd\\_chf                    & 17.69353614                 \\\\\n",
       "\ticu\\_adm\\_hour & icu\\_adm\\_hour               & 14.25634164                   \\\\\n",
       "\tlab\\_creatinine\\_kinase\\_flag & lab\\_creatinine\\_kinase\\_flag &  8.25892858                     \\\\\n",
       "\tlab\\_troponin\\_flag & lab\\_troponin\\_flag          &  7.26038542                   \\\\\n",
       "\tlab\\_po2\\_first & lab\\_po2\\_first              &  6.71870987                   \\\\\n",
       "\tage & age                        &  6.62750292               \\\\\n",
       "\ticd\\_afib & icd\\_afib                   &  4.02451485                 \\\\\n",
       "\tsofa & sofa                       &  3.69510095               \\\\\n",
       "\tweight & weight                     &  3.66345251               \\\\\n",
       "\tvs\\_cvp\\_first & vs\\_cvp\\_first               &  3.35431490                   \\\\\n",
       "\tlab\\_platelet\\_first & lab\\_platelet\\_first         &  2.27232478                   \\\\\n",
       "\tvs\\_heart\\_rate\\_first & vs\\_heart\\_rate\\_first        &  1.91389996                     \\\\\n",
       "\tlab\\_lactate\\_first & lab\\_lactate\\_first          &  1.89348635                   \\\\\n",
       "\tsaps & saps                       &  1.78952392               \\\\\n",
       "\tvs\\_temp\\_first & vs\\_temp\\_first              &  1.58804830                   \\\\\n",
       "\tlab\\_bnp\\_flag & lab\\_bnp\\_flag               &  1.40300423                   \\\\\n",
       "\tvs\\_map\\_first & vs\\_map\\_first               &  1.32526077                   \\\\\n",
       "\ticu\\_adm\\_weekday & icu\\_adm\\_weekday            &  1.31895205                   \\\\\n",
       "\ticd\\_stroke & icd\\_stroke                 &  1.30044224                 \\\\\n",
       "\tlab\\_sodium\\_first & lab\\_sodium\\_first           &  1.11615135                   \\\\\n",
       "\tlab\\_chloride\\_first & lab\\_chloride\\_first         &  1.09456770                   \\\\\n",
       "\tlab\\_bun\\_first & lab\\_bun\\_first              &  1.05505442                   \\\\\n",
       "\tlab\\_ph\\_first & lab\\_ph\\_first               &  1.04352665                   \\\\\n",
       "\tlab\\_potassium\\_first & lab\\_potassium\\_first        &  0.95128752                   \\\\\n",
       "\tlab\\_wbc\\_first & lab\\_wbc\\_first              &  0.88122457                   \\\\\n",
       "\tlab\\_bicarbonate\\_first & lab\\_bicarbonate\\_first      &  0.82105639                   \\\\\n",
       "\tlab\\_hemoglobin\\_first & lab\\_hemoglobin\\_first       &  0.78558924                   \\\\\n",
       "\tlab\\_pco2\\_first & lab\\_pco2\\_first             &  0.78206050                   \\\\\n",
       "\tsedative & sedative                   &  0.31444583               \\\\\n",
       "\tlab\\_creatinine\\_first & lab\\_creatinine\\_first       &  0.26088687                   \\\\\n",
       "\telix\\_score & elix\\_score                 &  0.22627430                 \\\\\n",
       "\tfirst\\_careunit & first\\_careunit             &  0.07127621                 \\\\\n",
       "\tvaso & vaso                       &  0.05946047               \\\\\n",
       "\ticd\\_malignancy & icd\\_malignancy             &  0.05865987                 \\\\\n",
       "\ticd\\_renal & icd\\_renal                  &  0.05649034                 \\\\\n",
       "\tvent & vent                       &  0.05359730               \\\\\n",
       "\ticd\\_copd & icd\\_copd                   &  0.01066010                 \\\\\n",
       "\tgender & gender                     &  0.00000000               \\\\\n",
       "\ticd\\_liver & icd\\_liver                  &  0.00000000                 \\\\\n",
       "\ticd\\_cad & icd\\_cad                    &  0.00000000                 \\\\\n",
       "\\end{tabular}\n"
      ],
      "text/markdown": [
       "\n",
       "| <!--/--> | var | rel.inf | \n",
       "|---|---|---|---|---|---|---|---|---|---|---|---|---|---|---|---|---|---|---|---|---|---|---|---|---|---|---|---|---|---|---|---|---|---|---|---|---|---|---|---|\n",
       "| icd_chf | icd_chf                    | 17.69353614                | \n",
       "| icu_adm_hour | icu_adm_hour               | 14.25634164                | \n",
       "| lab_creatinine_kinase_flag | lab_creatinine_kinase_flag |  8.25892858                | \n",
       "| lab_troponin_flag | lab_troponin_flag          |  7.26038542                | \n",
       "| lab_po2_first | lab_po2_first              |  6.71870987                | \n",
       "| age | age                        |  6.62750292                | \n",
       "| icd_afib | icd_afib                   |  4.02451485                | \n",
       "| sofa | sofa                       |  3.69510095                | \n",
       "| weight | weight                     |  3.66345251                | \n",
       "| vs_cvp_first | vs_cvp_first               |  3.35431490                | \n",
       "| lab_platelet_first | lab_platelet_first         |  2.27232478                | \n",
       "| vs_heart_rate_first | vs_heart_rate_first        |  1.91389996                | \n",
       "| lab_lactate_first | lab_lactate_first          |  1.89348635                | \n",
       "| saps | saps                       |  1.78952392                | \n",
       "| vs_temp_first | vs_temp_first              |  1.58804830                | \n",
       "| lab_bnp_flag | lab_bnp_flag               |  1.40300423                | \n",
       "| vs_map_first | vs_map_first               |  1.32526077                | \n",
       "| icu_adm_weekday | icu_adm_weekday            |  1.31895205                | \n",
       "| icd_stroke | icd_stroke                 |  1.30044224                | \n",
       "| lab_sodium_first | lab_sodium_first           |  1.11615135                | \n",
       "| lab_chloride_first | lab_chloride_first         |  1.09456770                | \n",
       "| lab_bun_first | lab_bun_first              |  1.05505442                | \n",
       "| lab_ph_first | lab_ph_first               |  1.04352665                | \n",
       "| lab_potassium_first | lab_potassium_first        |  0.95128752                | \n",
       "| lab_wbc_first | lab_wbc_first              |  0.88122457                | \n",
       "| lab_bicarbonate_first | lab_bicarbonate_first      |  0.82105639                | \n",
       "| lab_hemoglobin_first | lab_hemoglobin_first       |  0.78558924                | \n",
       "| lab_pco2_first | lab_pco2_first             |  0.78206050                | \n",
       "| sedative | sedative                   |  0.31444583                | \n",
       "| lab_creatinine_first | lab_creatinine_first       |  0.26088687                | \n",
       "| elix_score | elix_score                 |  0.22627430                | \n",
       "| first_careunit | first_careunit             |  0.07127621                | \n",
       "| vaso | vaso                       |  0.05946047                | \n",
       "| icd_malignancy | icd_malignancy             |  0.05865987                | \n",
       "| icd_renal | icd_renal                  |  0.05649034                | \n",
       "| vent | vent                       |  0.05359730                | \n",
       "| icd_copd | icd_copd                   |  0.01066010                | \n",
       "| gender | gender                     |  0.00000000                | \n",
       "| icd_liver | icd_liver                  |  0.00000000                | \n",
       "| icd_cad | icd_cad                    |  0.00000000                | \n",
       "\n",
       "\n"
      ],
      "text/plain": [
       "                           var                        rel.inf    \n",
       "icd_chf                    icd_chf                    17.69353614\n",
       "icu_adm_hour               icu_adm_hour               14.25634164\n",
       "lab_creatinine_kinase_flag lab_creatinine_kinase_flag  8.25892858\n",
       "lab_troponin_flag          lab_troponin_flag           7.26038542\n",
       "lab_po2_first              lab_po2_first               6.71870987\n",
       "age                        age                         6.62750292\n",
       "icd_afib                   icd_afib                    4.02451485\n",
       "sofa                       sofa                        3.69510095\n",
       "weight                     weight                      3.66345251\n",
       "vs_cvp_first               vs_cvp_first                3.35431490\n",
       "lab_platelet_first         lab_platelet_first          2.27232478\n",
       "vs_heart_rate_first        vs_heart_rate_first         1.91389996\n",
       "lab_lactate_first          lab_lactate_first           1.89348635\n",
       "saps                       saps                        1.78952392\n",
       "vs_temp_first              vs_temp_first               1.58804830\n",
       "lab_bnp_flag               lab_bnp_flag                1.40300423\n",
       "vs_map_first               vs_map_first                1.32526077\n",
       "icu_adm_weekday            icu_adm_weekday             1.31895205\n",
       "icd_stroke                 icd_stroke                  1.30044224\n",
       "lab_sodium_first           lab_sodium_first            1.11615135\n",
       "lab_chloride_first         lab_chloride_first          1.09456770\n",
       "lab_bun_first              lab_bun_first               1.05505442\n",
       "lab_ph_first               lab_ph_first                1.04352665\n",
       "lab_potassium_first        lab_potassium_first         0.95128752\n",
       "lab_wbc_first              lab_wbc_first               0.88122457\n",
       "lab_bicarbonate_first      lab_bicarbonate_first       0.82105639\n",
       "lab_hemoglobin_first       lab_hemoglobin_first        0.78558924\n",
       "lab_pco2_first             lab_pco2_first              0.78206050\n",
       "sedative                   sedative                    0.31444583\n",
       "lab_creatinine_first       lab_creatinine_first        0.26088687\n",
       "elix_score                 elix_score                  0.22627430\n",
       "first_careunit             first_careunit              0.07127621\n",
       "vaso                       vaso                        0.05946047\n",
       "icd_malignancy             icd_malignancy              0.05865987\n",
       "icd_renal                  icd_renal                   0.05649034\n",
       "vent                       vent                        0.05359730\n",
       "icd_copd                   icd_copd                    0.01066010\n",
       "gender                     gender                      0.00000000\n",
       "icd_liver                  icd_liver                   0.00000000\n",
       "icd_cad                    icd_cad                     0.00000000"
      ]
     },
     "metadata": {},
     "output_type": "display_data"
    }
   ],
   "source": [
    "importance <- readRDS(file.path(data_dir, \"feature_importance.rds\"))\n",
    "importance"
   ]
  },
  {
   "cell_type": "code",
   "execution_count": 4,
   "metadata": {},
   "outputs": [],
   "source": [
    "data.table::fwrite(importance, file.path(data_dir, \"relative_influence.csv\"))"
   ]
  }
 ],
 "metadata": {
  "kernelspec": {
   "display_name": "R",
   "language": "R",
   "name": "ir"
  },
  "language_info": {
   "codemirror_mode": "r",
   "file_extension": ".r",
   "mimetype": "text/x-r-source",
   "name": "R",
   "pygments_lexer": "r",
   "version": "3.4.3"
  },
  "varInspector": {
   "cols": {
    "lenName": 16,
    "lenType": 16,
    "lenVar": 40
   },
   "kernels_config": {
    "python": {
     "delete_cmd_postfix": "",
     "delete_cmd_prefix": "del ",
     "library": "var_list.py",
     "varRefreshCmd": "print(var_dic_list())"
    },
    "r": {
     "delete_cmd_postfix": ") ",
     "delete_cmd_prefix": "rm(",
     "library": "var_list.r",
     "varRefreshCmd": "cat(var_dic_list()) "
    }
   },
   "types_to_exclude": [
    "module",
    "function",
    "builtin_function_or_method",
    "instance",
    "_Feature"
   ],
   "window_display": false
  }
 },
 "nbformat": 4,
 "nbformat_minor": 2
}
