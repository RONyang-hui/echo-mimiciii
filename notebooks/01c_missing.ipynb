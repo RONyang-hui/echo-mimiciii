{
 "cells": [
  {
   "cell_type": "code",
   "execution_count": 1,
   "metadata": {},
   "outputs": [
    {
     "name": "stderr",
     "output_type": "stream",
     "text": [
      "Loading required package: DBI\n",
      "── Attaching packages ─────────────────────────────────────── tidyverse 1.2.1 ──\n",
      "✔ ggplot2 2.2.1     ✔ purrr   0.2.4\n",
      "✔ tibble  1.4.2     ✔ dplyr   0.7.4\n",
      "✔ tidyr   0.8.0     ✔ stringr 1.2.0\n",
      "✔ readr   1.1.1     ✔ forcats 0.2.0\n",
      "── Conflicts ────────────────────────────────────────── tidyverse_conflicts() ──\n",
      "✖ dplyr::filter() masks stats::filter()\n",
      "✖ dplyr::lag()    masks stats::lag()\n"
     ]
    }
   ],
   "source": [
    "library(RPostgreSQL)\n",
    "library(tidyverse)"
   ]
  },
  {
   "cell_type": "code",
   "execution_count": 2,
   "metadata": {},
   "outputs": [],
   "source": [
    "data_dir <- file.path(\"..\", \"data\")\n",
    "sql_dir <- file.path(\"..\", \"sql\")"
   ]
  },
  {
   "cell_type": "code",
   "execution_count": 3,
   "metadata": {},
   "outputs": [
    {
     "data": {
      "text/plain": [
       "<PostgreSQLResult>"
      ]
     },
     "metadata": {},
     "output_type": "display_data"
    }
   ],
   "source": [
    "drv <- dbDriver(\"PostgreSQL\")\n",
    "con <- dbConnect(drv, dbname = \"mimic\")\n",
    "dbSendQuery(con, \"set search_path=echo,public,mimiciii;\")"
   ]
  },
  {
   "cell_type": "code",
   "execution_count": 4,
   "metadata": {},
   "outputs": [
    {
     "data": {
      "text/html": [
       "<table>\n",
       "<thead><tr><th scope=col>icustay_id</th><th scope=col>hadm_id</th><th scope=col>subject_id</th><th scope=col>first_careunit</th><th scope=col>intime</th><th scope=col>outtime</th><th scope=col>angus</th><th scope=col>age</th><th scope=col>icu_order</th><th scope=col>echo_time</th><th scope=col>⋯</th><th scope=col>lab_sodium_flag</th><th scope=col>lab_bun_flag</th><th scope=col>lab_bicarbonate_flag</th><th scope=col>lab_bnp_flag</th><th scope=col>lab_pco2_flag</th><th scope=col>lab_creatinine_flag</th><th scope=col>lab_potassium_flag</th><th scope=col>lab_troponin_flag</th><th scope=col>lab_po2_flag</th><th scope=col>lab_lactate_flag</th></tr></thead>\n",
       "<tbody>\n",
       "\t<tr><td>228416             </td><td>159895             </td><td> 5491              </td><td>MICU               </td><td>2151-06-29 01:18:27</td><td>2151-07-27 16:00:56</td><td>1                  </td><td>76.58225           </td><td>1                  </td><td>2151-06-30         </td><td>⋯                  </td><td>1                  </td><td>1                  </td><td>1                  </td><td>0                  </td><td>1                  </td><td>1                  </td><td>1                  </td><td>0                  </td><td>1                  </td><td>1                  </td></tr>\n",
       "\t<tr><td>278148             </td><td>169700             </td><td>49395              </td><td>MICU               </td><td>2197-01-09 00:45:42</td><td>2197-01-10 06:46:29</td><td>1                  </td><td>82.72606           </td><td>1                  </td><td>NA                 </td><td>⋯                  </td><td>1                  </td><td>1                  </td><td>1                  </td><td>0                  </td><td>0                  </td><td>1                  </td><td>1                  </td><td>0                  </td><td>0                  </td><td>0                  </td></tr>\n",
       "\t<tr><td>274174             </td><td>103722             </td><td>14855              </td><td>MICU               </td><td>2181-09-08 23:43:13</td><td>2181-09-26 16:52:02</td><td>1                  </td><td>61.84390           </td><td>1                  </td><td>2181-09-11         </td><td>⋯                  </td><td>1                  </td><td>1                  </td><td>1                  </td><td>0                  </td><td>1                  </td><td>1                  </td><td>1                  </td><td>0                  </td><td>1                  </td><td>1                  </td></tr>\n",
       "\t<tr><td>214954             </td><td>170515             </td><td>54642              </td><td>MICU               </td><td>2176-03-11 04:58:23</td><td>2176-03-15 18:00:48</td><td>1                  </td><td>63.86507           </td><td>1                  </td><td>2176-03-11         </td><td>⋯                  </td><td>1                  </td><td>1                  </td><td>1                  </td><td>0                  </td><td>1                  </td><td>1                  </td><td>1                  </td><td>1                  </td><td>1                  </td><td>1                  </td></tr>\n",
       "\t<tr><td>222457             </td><td>183493             </td><td>96815              </td><td>MICU               </td><td>2105-06-04 20:57:55</td><td>2105-06-06 20:01:51</td><td>1                  </td><td>62.84018           </td><td>1                  </td><td>NA                 </td><td>⋯                  </td><td>1                  </td><td>1                  </td><td>1                  </td><td>0                  </td><td>0                  </td><td>1                  </td><td>1                  </td><td>0                  </td><td>0                  </td><td>0                  </td></tr>\n",
       "\t<tr><td>264413             </td><td>134244             </td><td>81436              </td><td>MICU               </td><td>2133-03-27 16:31:37</td><td>2133-04-04 16:15:28</td><td>1                  </td><td>62.60148           </td><td>1                  </td><td>2133-03-31         </td><td>⋯                  </td><td>1                  </td><td>1                  </td><td>1                  </td><td>0                  </td><td>0                  </td><td>1                  </td><td>1                  </td><td>0                  </td><td>0                  </td><td>1                  </td></tr>\n",
       "</tbody>\n",
       "</table>\n"
      ],
      "text/latex": [
       "\\begin{tabular}{r|llllllllllllllllllllllllllllllllllllllllllllllllllllllllllllllllllllllllllllllllllllllllllllllllllllllllllllllllllllllllllllllllll}\n",
       " icustay\\_id & hadm\\_id & subject\\_id & first\\_careunit & intime & outtime & angus & age & icu\\_order & echo\\_time & ⋯ & lab\\_sodium\\_flag & lab\\_bun\\_flag & lab\\_bicarbonate\\_flag & lab\\_bnp\\_flag & lab\\_pco2\\_flag & lab\\_creatinine\\_flag & lab\\_potassium\\_flag & lab\\_troponin\\_flag & lab\\_po2\\_flag & lab\\_lactate\\_flag\\\\\n",
       "\\hline\n",
       "\t 228416              & 159895              &  5491               & MICU                & 2151-06-29 01:18:27 & 2151-07-27 16:00:56 & 1                   & 76.58225            & 1                   & 2151-06-30          & ⋯                   & 1                   & 1                   & 1                   & 0                   & 1                   & 1                   & 1                   & 0                   & 1                   & 1                  \\\\\n",
       "\t 278148              & 169700              & 49395               & MICU                & 2197-01-09 00:45:42 & 2197-01-10 06:46:29 & 1                   & 82.72606            & 1                   & NA                  & ⋯                   & 1                   & 1                   & 1                   & 0                   & 0                   & 1                   & 1                   & 0                   & 0                   & 0                  \\\\\n",
       "\t 274174              & 103722              & 14855               & MICU                & 2181-09-08 23:43:13 & 2181-09-26 16:52:02 & 1                   & 61.84390            & 1                   & 2181-09-11          & ⋯                   & 1                   & 1                   & 1                   & 0                   & 1                   & 1                   & 1                   & 0                   & 1                   & 1                  \\\\\n",
       "\t 214954              & 170515              & 54642               & MICU                & 2176-03-11 04:58:23 & 2176-03-15 18:00:48 & 1                   & 63.86507            & 1                   & 2176-03-11          & ⋯                   & 1                   & 1                   & 1                   & 0                   & 1                   & 1                   & 1                   & 1                   & 1                   & 1                  \\\\\n",
       "\t 222457              & 183493              & 96815               & MICU                & 2105-06-04 20:57:55 & 2105-06-06 20:01:51 & 1                   & 62.84018            & 1                   & NA                  & ⋯                   & 1                   & 1                   & 1                   & 0                   & 0                   & 1                   & 1                   & 0                   & 0                   & 0                  \\\\\n",
       "\t 264413              & 134244              & 81436               & MICU                & 2133-03-27 16:31:37 & 2133-04-04 16:15:28 & 1                   & 62.60148            & 1                   & 2133-03-31          & ⋯                   & 1                   & 1                   & 1                   & 0                   & 0                   & 1                   & 1                   & 0                   & 0                   & 1                  \\\\\n",
       "\\end{tabular}\n"
      ],
      "text/markdown": [
       "\n",
       "icustay_id | hadm_id | subject_id | first_careunit | intime | outtime | angus | age | icu_order | echo_time | ⋯ | lab_sodium_flag | lab_bun_flag | lab_bicarbonate_flag | lab_bnp_flag | lab_pco2_flag | lab_creatinine_flag | lab_potassium_flag | lab_troponin_flag | lab_po2_flag | lab_lactate_flag | \n",
       "|---|---|---|---|---|---|\n",
       "| 228416              | 159895              |  5491               | MICU                | 2151-06-29 01:18:27 | 2151-07-27 16:00:56 | 1                   | 76.58225            | 1                   | 2151-06-30          | ⋯                   | 1                   | 1                   | 1                   | 0                   | 1                   | 1                   | 1                   | 0                   | 1                   | 1                   | \n",
       "| 278148              | 169700              | 49395               | MICU                | 2197-01-09 00:45:42 | 2197-01-10 06:46:29 | 1                   | 82.72606            | 1                   | NA                  | ⋯                   | 1                   | 1                   | 1                   | 0                   | 0                   | 1                   | 1                   | 0                   | 0                   | 0                   | \n",
       "| 274174              | 103722              | 14855               | MICU                | 2181-09-08 23:43:13 | 2181-09-26 16:52:02 | 1                   | 61.84390            | 1                   | 2181-09-11          | ⋯                   | 1                   | 1                   | 1                   | 0                   | 1                   | 1                   | 1                   | 0                   | 1                   | 1                   | \n",
       "| 214954              | 170515              | 54642               | MICU                | 2176-03-11 04:58:23 | 2176-03-15 18:00:48 | 1                   | 63.86507            | 1                   | 2176-03-11          | ⋯                   | 1                   | 1                   | 1                   | 0                   | 1                   | 1                   | 1                   | 1                   | 1                   | 1                   | \n",
       "| 222457              | 183493              | 96815               | MICU                | 2105-06-04 20:57:55 | 2105-06-06 20:01:51 | 1                   | 62.84018            | 1                   | NA                  | ⋯                   | 1                   | 1                   | 1                   | 0                   | 0                   | 1                   | 1                   | 0                   | 0                   | 0                   | \n",
       "| 264413              | 134244              | 81436               | MICU                | 2133-03-27 16:31:37 | 2133-04-04 16:15:28 | 1                   | 62.60148            | 1                   | 2133-03-31          | ⋯                   | 1                   | 1                   | 1                   | 0                   | 0                   | 1                   | 1                   | 0                   | 0                   | 1                   | \n",
       "\n",
       "\n"
      ],
      "text/plain": [
       "  icustay_id hadm_id subject_id first_careunit intime             \n",
       "1 228416     159895   5491      MICU           2151-06-29 01:18:27\n",
       "2 278148     169700  49395      MICU           2197-01-09 00:45:42\n",
       "3 274174     103722  14855      MICU           2181-09-08 23:43:13\n",
       "4 214954     170515  54642      MICU           2176-03-11 04:58:23\n",
       "5 222457     183493  96815      MICU           2105-06-04 20:57:55\n",
       "6 264413     134244  81436      MICU           2133-03-27 16:31:37\n",
       "  outtime             angus age      icu_order echo_time  ⋯ lab_sodium_flag\n",
       "1 2151-07-27 16:00:56 1     76.58225 1         2151-06-30 ⋯ 1              \n",
       "2 2197-01-10 06:46:29 1     82.72606 1         <NA>       ⋯ 1              \n",
       "3 2181-09-26 16:52:02 1     61.84390 1         2181-09-11 ⋯ 1              \n",
       "4 2176-03-15 18:00:48 1     63.86507 1         2176-03-11 ⋯ 1              \n",
       "5 2105-06-06 20:01:51 1     62.84018 1         <NA>       ⋯ 1              \n",
       "6 2133-04-04 16:15:28 1     62.60148 1         2133-03-31 ⋯ 1              \n",
       "  lab_bun_flag lab_bicarbonate_flag lab_bnp_flag lab_pco2_flag\n",
       "1 1            1                    0            1            \n",
       "2 1            1                    0            0            \n",
       "3 1            1                    0            1            \n",
       "4 1            1                    0            1            \n",
       "5 1            1                    0            0            \n",
       "6 1            1                    0            0            \n",
       "  lab_creatinine_flag lab_potassium_flag lab_troponin_flag lab_po2_flag\n",
       "1 1                   1                  0                 1           \n",
       "2 1                   1                  0                 0           \n",
       "3 1                   1                  0                 1           \n",
       "4 1                   1                  1                 1           \n",
       "5 1                   1                  0                 0           \n",
       "6 1                   1                  0                 0           \n",
       "  lab_lactate_flag\n",
       "1 1               \n",
       "2 0               \n",
       "3 1               \n",
       "4 1               \n",
       "5 0               \n",
       "6 1               "
      ]
     },
     "metadata": {},
     "output_type": "display_data"
    }
   ],
   "source": [
    "full_data <- dbGetQuery(con, \"select * from merged_data\")\n",
    "head(full_data)"
   ]
  },
  {
   "cell_type": "code",
   "execution_count": 5,
   "metadata": {},
   "outputs": [
    {
     "data": {
      "text/html": [
       "TRUE"
      ],
      "text/latex": [
       "TRUE"
      ],
      "text/markdown": [
       "TRUE"
      ],
      "text/plain": [
       "[1] TRUE"
      ]
     },
     "metadata": {},
     "output_type": "display_data"
    },
    {
     "data": {
      "text/html": [
       "TRUE"
      ],
      "text/latex": [
       "TRUE"
      ],
      "text/markdown": [
       "TRUE"
      ],
      "text/plain": [
       "[1] TRUE"
      ]
     },
     "metadata": {},
     "output_type": "display_data"
    }
   ],
   "source": [
    "dbDisconnect(con)\n",
    "dbUnloadDriver(drv)"
   ]
  },
  {
   "cell_type": "code",
   "execution_count": 6,
   "metadata": {},
   "outputs": [
    {
     "data": {
      "text/html": [
       "<table>\n",
       "<thead><tr><th scope=col>cov</th><th scope=col>na</th></tr></thead>\n",
       "<tbody>\n",
       "\t<tr><td>Heart Rate       </td><td> 1.210501        </td></tr>\n",
       "\t<tr><td>Cvp              </td><td>64.486716        </td></tr>\n",
       "\t<tr><td>Map              </td><td> 1.210501        </td></tr>\n",
       "\t<tr><td>Temp             </td><td> 1.556359        </td></tr>\n",
       "\t<tr><td>Hemoglobin       </td><td> 4.008804        </td></tr>\n",
       "\t<tr><td>Platelet         </td><td> 4.087408        </td></tr>\n",
       "\t<tr><td>Creatinine Kinase</td><td>51.454174        </td></tr>\n",
       "\t<tr><td>Wbc              </td><td> 4.134570        </td></tr>\n",
       "\t<tr><td>Ph               </td><td>30.529791        </td></tr>\n",
       "\t<tr><td>Chloride         </td><td> 2.641094        </td></tr>\n",
       "\t<tr><td>Sodium           </td><td> 2.578211        </td></tr>\n",
       "\t<tr><td>Bun              </td><td> 2.845465        </td></tr>\n",
       "\t<tr><td>Bicarbonate      </td><td> 2.892627        </td></tr>\n",
       "\t<tr><td>Bnp              </td><td>97.154535        </td></tr>\n",
       "\t<tr><td>Pco2             </td><td>33.092281        </td></tr>\n",
       "\t<tr><td>Creatinine       </td><td> 2.829744        </td></tr>\n",
       "\t<tr><td>Potassium        </td><td> 2.373841        </td></tr>\n",
       "\t<tr><td>Troponin         </td><td>69.187235        </td></tr>\n",
       "\t<tr><td>Po2              </td><td>33.092281        </td></tr>\n",
       "\t<tr><td>Lactate          </td><td>38.232982        </td></tr>\n",
       "</tbody>\n",
       "</table>\n"
      ],
      "text/latex": [
       "\\begin{tabular}{r|ll}\n",
       " cov & na\\\\\n",
       "\\hline\n",
       "\t Heart Rate        &  1.210501        \\\\\n",
       "\t Cvp               & 64.486716        \\\\\n",
       "\t Map               &  1.210501        \\\\\n",
       "\t Temp              &  1.556359        \\\\\n",
       "\t Hemoglobin        &  4.008804        \\\\\n",
       "\t Platelet          &  4.087408        \\\\\n",
       "\t Creatinine Kinase & 51.454174        \\\\\n",
       "\t Wbc               &  4.134570        \\\\\n",
       "\t Ph                & 30.529791        \\\\\n",
       "\t Chloride          &  2.641094        \\\\\n",
       "\t Sodium            &  2.578211        \\\\\n",
       "\t Bun               &  2.845465        \\\\\n",
       "\t Bicarbonate       &  2.892627        \\\\\n",
       "\t Bnp               & 97.154535        \\\\\n",
       "\t Pco2              & 33.092281        \\\\\n",
       "\t Creatinine        &  2.829744        \\\\\n",
       "\t Potassium         &  2.373841        \\\\\n",
       "\t Troponin          & 69.187235        \\\\\n",
       "\t Po2               & 33.092281        \\\\\n",
       "\t Lactate           & 38.232982        \\\\\n",
       "\\end{tabular}\n"
      ],
      "text/markdown": [
       "\n",
       "cov | na | \n",
       "|---|---|---|---|---|---|---|---|---|---|---|---|---|---|---|---|---|---|---|---|\n",
       "| Heart Rate        |  1.210501         | \n",
       "| Cvp               | 64.486716         | \n",
       "| Map               |  1.210501         | \n",
       "| Temp              |  1.556359         | \n",
       "| Hemoglobin        |  4.008804         | \n",
       "| Platelet          |  4.087408         | \n",
       "| Creatinine Kinase | 51.454174         | \n",
       "| Wbc               |  4.134570         | \n",
       "| Ph                | 30.529791         | \n",
       "| Chloride          |  2.641094         | \n",
       "| Sodium            |  2.578211         | \n",
       "| Bun               |  2.845465         | \n",
       "| Bicarbonate       |  2.892627         | \n",
       "| Bnp               | 97.154535         | \n",
       "| Pco2              | 33.092281         | \n",
       "| Creatinine        |  2.829744         | \n",
       "| Potassium         |  2.373841         | \n",
       "| Troponin          | 69.187235         | \n",
       "| Po2               | 33.092281         | \n",
       "| Lactate           | 38.232982         | \n",
       "\n",
       "\n"
      ],
      "text/plain": [
       "   cov               na       \n",
       "1  Heart Rate         1.210501\n",
       "2  Cvp               64.486716\n",
       "3  Map                1.210501\n",
       "4  Temp               1.556359\n",
       "5  Hemoglobin         4.008804\n",
       "6  Platelet           4.087408\n",
       "7  Creatinine Kinase 51.454174\n",
       "8  Wbc                4.134570\n",
       "9  Ph                30.529791\n",
       "10 Chloride           2.641094\n",
       "11 Sodium             2.578211\n",
       "12 Bun                2.845465\n",
       "13 Bicarbonate        2.892627\n",
       "14 Bnp               97.154535\n",
       "15 Pco2              33.092281\n",
       "16 Creatinine         2.829744\n",
       "17 Potassium          2.373841\n",
       "18 Troponin          69.187235\n",
       "19 Po2               33.092281\n",
       "20 Lactate           38.232982"
      ]
     },
     "metadata": {},
     "output_type": "display_data"
    }
   ],
   "source": [
    "missing <- full_data %>%\n",
    "select(grep(\"flag\", names(.), value = TRUE)) %>%\n",
    "summarise_all(funs((1 - sum(.) / n()) * 100)) %>%\n",
    "gather(\"cov\", \"na\") %>%\n",
    "mutate(cov = str_replace_all(cov, \"_\", \" \")) %>%\n",
    "mutate(cov = str_replace_all(cov, \"lab|vs|flag|icd|first\", \"\")) %>%\n",
    "mutate(cov = str_replace_all(cov, \"\\\\s+$|^\\\\s+\", \"\")) %>%\n",
    "mutate(cov = tools::toTitleCase(cov))\n",
    "\n",
    "missing"
   ]
  }
 ],
 "metadata": {
  "kernelspec": {
   "display_name": "R",
   "language": "R",
   "name": "ir"
  },
  "language_info": {
   "codemirror_mode": "r",
   "file_extension": ".r",
   "mimetype": "text/x-r-source",
   "name": "R",
   "pygments_lexer": "r",
   "version": "3.4.3"
  }
 },
 "nbformat": 4,
 "nbformat_minor": 2
}
