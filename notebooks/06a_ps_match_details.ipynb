{
 "cells": [
  {
   "cell_type": "code",
   "execution_count": 1,
   "metadata": {},
   "outputs": [
    {
     "name": "stderr",
     "output_type": "stream",
     "text": [
      "Loading required package: DBI\n",
      "Loading required package: MASS\n",
      "## \n",
      "##  Matching (Version 4.9-2, Build Date: 2015-12-25)\n",
      "##  See http://sekhon.berkeley.edu/matching for additional documentation.\n",
      "##  Please cite software as:\n",
      "##   Jasjeet S. Sekhon. 2011. ``Multivariate and Propensity Score Matching\n",
      "##   Software with Automated Balance Optimization: The Matching package for R.''\n",
      "##   Journal of Statistical Software, 42(7): 1-52. \n",
      "##\n",
      "\n",
      "── Attaching packages ─────────────────────────────────────── tidyverse 1.2.1 ──\n",
      "✔ ggplot2 2.2.1     ✔ purrr   0.2.4\n",
      "✔ tibble  1.4.2     ✔ dplyr   0.7.4\n",
      "✔ tidyr   0.8.0     ✔ stringr 1.2.0\n",
      "✔ readr   1.1.1     ✔ forcats 0.2.0\n",
      "── Conflicts ────────────────────────────────────────── tidyverse_conflicts() ──\n",
      "✖ dplyr::filter() masks stats::filter()\n",
      "✖ dplyr::lag()    masks stats::lag()\n",
      "✖ dplyr::select() masks MASS::select()\n"
     ]
    }
   ],
   "source": [
    "library(RPostgreSQL)\n",
    "library(Matching)\n",
    "library(tidyverse)"
   ]
  },
  {
   "cell_type": "code",
   "execution_count": 2,
   "metadata": {},
   "outputs": [],
   "source": [
    "data_dir <- file.path(\"..\", \"data\")\n",
    "sql_dir <- file.path(\"..\", \"sql\")"
   ]
  },
  {
   "cell_type": "code",
   "execution_count": 3,
   "metadata": {},
   "outputs": [
    {
     "data": {
      "text/plain": [
       "<PostgreSQLResult>"
      ]
     },
     "metadata": {},
     "output_type": "display_data"
    }
   ],
   "source": [
    "drv <- dbDriver(\"PostgreSQL\")\n",
    "con <- dbConnect(drv, dbname = \"mimic\")\n",
    "dbSendQuery(con, \"set search_path=echo,public,mimiciii;\")"
   ]
  },
  {
   "cell_type": "code",
   "execution_count": 4,
   "metadata": {},
   "outputs": [
    {
     "data": {
      "text/html": [
       "<table>\n",
       "<thead><tr><th scope=col>icustay_id</th><th scope=col>ventfreeday28</th></tr></thead>\n",
       "<tbody>\n",
       "\t<tr><td>200003  </td><td>24.20833</td></tr>\n",
       "\t<tr><td>200014  </td><td> 0.00000</td></tr>\n",
       "\t<tr><td>200030  </td><td>28.00000</td></tr>\n",
       "\t<tr><td>200033  </td><td> 0.00000</td></tr>\n",
       "\t<tr><td>200036  </td><td>28.00000</td></tr>\n",
       "\t<tr><td>200075  </td><td>27.80903</td></tr>\n",
       "</tbody>\n",
       "</table>\n"
      ],
      "text/latex": [
       "\\begin{tabular}{r|ll}\n",
       " icustay\\_id & ventfreeday28\\\\\n",
       "\\hline\n",
       "\t 200003   & 24.20833\\\\\n",
       "\t 200014   &  0.00000\\\\\n",
       "\t 200030   & 28.00000\\\\\n",
       "\t 200033   &  0.00000\\\\\n",
       "\t 200036   & 28.00000\\\\\n",
       "\t 200075   & 27.80903\\\\\n",
       "\\end{tabular}\n"
      ],
      "text/markdown": [
       "\n",
       "icustay_id | ventfreeday28 | \n",
       "|---|---|---|---|---|---|\n",
       "| 200003   | 24.20833 | \n",
       "| 200014   |  0.00000 | \n",
       "| 200030   | 28.00000 | \n",
       "| 200033   |  0.00000 | \n",
       "| 200036   | 28.00000 | \n",
       "| 200075   | 27.80903 | \n",
       "\n",
       "\n"
      ],
      "text/plain": [
       "  icustay_id ventfreeday28\n",
       "1 200003     24.20833     \n",
       "2 200014      0.00000     \n",
       "3 200030     28.00000     \n",
       "4 200033      0.00000     \n",
       "5 200036     28.00000     \n",
       "6 200075     27.80903     "
      ]
     },
     "metadata": {},
     "output_type": "display_data"
    }
   ],
   "source": [
    "ventfreedays <- dbGetQuery(con, \"select icustay_id, ventfreeday28 from subgroup;\")\n",
    "head(ventfreedays)"
   ]
  },
  {
   "cell_type": "code",
   "execution_count": 5,
   "metadata": {},
   "outputs": [
    {
     "data": {
      "text/html": [
       "<table>\n",
       "<thead><tr><th scope=col>icustay_id</th><th scope=col>hadm_id</th><th scope=col>subject_id</th><th scope=col>first_careunit</th><th scope=col>intime</th><th scope=col>outtime</th><th scope=col>angus</th><th scope=col>age</th><th scope=col>icu_order</th><th scope=col>echo_time</th><th scope=col>⋯</th><th scope=col>lab_pco2_flag</th><th scope=col>lab_creatinine_flag</th><th scope=col>lab_potassium_flag</th><th scope=col>lab_troponin_flag</th><th scope=col>lab_po2_flag</th><th scope=col>lab_lactate_flag</th><th scope=col>echo_int</th><th scope=col>mort_28_day_int</th><th scope=col>ps</th><th scope=col>ps_weight</th></tr></thead>\n",
       "<tbody>\n",
       "\t<tr><td>228416             </td><td>159895             </td><td> 5491              </td><td>MICU               </td><td>2151-06-29 01:18:27</td><td>2151-07-27 16:00:56</td><td>1                  </td><td>76.58225           </td><td>1                  </td><td>2151-06-30         </td><td>⋯                  </td><td>1                  </td><td>1                  </td><td>1                  </td><td>0                  </td><td>1                  </td><td>1                  </td><td>1                  </td><td>0                  </td><td>0.5525232          </td><td>1.809879           </td></tr>\n",
       "\t<tr><td>278148             </td><td>169700             </td><td>49395              </td><td>MICU               </td><td>2197-01-09 00:45:42</td><td>2197-01-10 06:46:29</td><td>1                  </td><td>82.72606           </td><td>1                  </td><td>NA                 </td><td>⋯                  </td><td>0                  </td><td>1                  </td><td>1                  </td><td>0                  </td><td>0                  </td><td>0                  </td><td>0                  </td><td>1                  </td><td>0.2804613          </td><td>1.389779           </td></tr>\n",
       "\t<tr><td>274174             </td><td>103722             </td><td>14855              </td><td>MICU               </td><td>2181-09-08 23:43:13</td><td>2181-09-26 16:52:02</td><td>1                  </td><td>61.84390           </td><td>1                  </td><td>2181-09-11         </td><td>⋯                  </td><td>1                  </td><td>1                  </td><td>1                  </td><td>0                  </td><td>1                  </td><td>1                  </td><td>1                  </td><td>0                  </td><td>0.3012020          </td><td>3.320031           </td></tr>\n",
       "\t<tr><td>214954             </td><td>170515             </td><td>54642              </td><td>MICU               </td><td>2176-03-11 04:58:23</td><td>2176-03-15 18:00:48</td><td>1                  </td><td>63.86507           </td><td>1                  </td><td>2176-03-11         </td><td>⋯                  </td><td>1                  </td><td>1                  </td><td>1                  </td><td>1                  </td><td>1                  </td><td>1                  </td><td>1                  </td><td>0                  </td><td>0.7982833          </td><td>1.252688           </td></tr>\n",
       "\t<tr><td>222457             </td><td>183493             </td><td>96815              </td><td>MICU               </td><td>2105-06-04 20:57:55</td><td>2105-06-06 20:01:51</td><td>1                  </td><td>62.84018           </td><td>1                  </td><td>NA                 </td><td>⋯                  </td><td>0                  </td><td>1                  </td><td>1                  </td><td>0                  </td><td>0                  </td><td>0                  </td><td>0                  </td><td>0                  </td><td>0.2244447          </td><td>1.289399           </td></tr>\n",
       "\t<tr><td>264413             </td><td>134244             </td><td>81436              </td><td>MICU               </td><td>2133-03-27 16:31:37</td><td>2133-04-04 16:15:28</td><td>1                  </td><td>62.60148           </td><td>1                  </td><td>2133-03-31         </td><td>⋯                  </td><td>0                  </td><td>1                  </td><td>1                  </td><td>0                  </td><td>0                  </td><td>1                  </td><td>1                  </td><td>0                  </td><td>0.3320492          </td><td>3.011602           </td></tr>\n",
       "</tbody>\n",
       "</table>\n"
      ],
      "text/latex": [
       "\\begin{tabular}{r|llllllllllllllllllllllllllllllllllllllllllllllllllllllllllllllllllllllllllllllllllllllllllllllllllllllllllllllllllllllllllllllllllllll}\n",
       " icustay\\_id & hadm\\_id & subject\\_id & first\\_careunit & intime & outtime & angus & age & icu\\_order & echo\\_time & ⋯ & lab\\_pco2\\_flag & lab\\_creatinine\\_flag & lab\\_potassium\\_flag & lab\\_troponin\\_flag & lab\\_po2\\_flag & lab\\_lactate\\_flag & echo\\_int & mort\\_28\\_day\\_int & ps & ps\\_weight\\\\\n",
       "\\hline\n",
       "\t 228416              & 159895              &  5491               & MICU                & 2151-06-29 01:18:27 & 2151-07-27 16:00:56 & 1                   & 76.58225            & 1                   & 2151-06-30          & ⋯                   & 1                   & 1                   & 1                   & 0                   & 1                   & 1                   & 1                   & 0                   & 0.5525232           & 1.809879           \\\\\n",
       "\t 278148              & 169700              & 49395               & MICU                & 2197-01-09 00:45:42 & 2197-01-10 06:46:29 & 1                   & 82.72606            & 1                   & NA                  & ⋯                   & 0                   & 1                   & 1                   & 0                   & 0                   & 0                   & 0                   & 1                   & 0.2804613           & 1.389779           \\\\\n",
       "\t 274174              & 103722              & 14855               & MICU                & 2181-09-08 23:43:13 & 2181-09-26 16:52:02 & 1                   & 61.84390            & 1                   & 2181-09-11          & ⋯                   & 1                   & 1                   & 1                   & 0                   & 1                   & 1                   & 1                   & 0                   & 0.3012020           & 3.320031           \\\\\n",
       "\t 214954              & 170515              & 54642               & MICU                & 2176-03-11 04:58:23 & 2176-03-15 18:00:48 & 1                   & 63.86507            & 1                   & 2176-03-11          & ⋯                   & 1                   & 1                   & 1                   & 1                   & 1                   & 1                   & 1                   & 0                   & 0.7982833           & 1.252688           \\\\\n",
       "\t 222457              & 183493              & 96815               & MICU                & 2105-06-04 20:57:55 & 2105-06-06 20:01:51 & 1                   & 62.84018            & 1                   & NA                  & ⋯                   & 0                   & 1                   & 1                   & 0                   & 0                   & 0                   & 0                   & 0                   & 0.2244447           & 1.289399           \\\\\n",
       "\t 264413              & 134244              & 81436               & MICU                & 2133-03-27 16:31:37 & 2133-04-04 16:15:28 & 1                   & 62.60148            & 1                   & 2133-03-31          & ⋯                   & 0                   & 1                   & 1                   & 0                   & 0                   & 1                   & 1                   & 0                   & 0.3320492           & 3.011602           \\\\\n",
       "\\end{tabular}\n"
      ],
      "text/markdown": [
       "\n",
       "icustay_id | hadm_id | subject_id | first_careunit | intime | outtime | angus | age | icu_order | echo_time | ⋯ | lab_pco2_flag | lab_creatinine_flag | lab_potassium_flag | lab_troponin_flag | lab_po2_flag | lab_lactate_flag | echo_int | mort_28_day_int | ps | ps_weight | \n",
       "|---|---|---|---|---|---|\n",
       "| 228416              | 159895              |  5491               | MICU                | 2151-06-29 01:18:27 | 2151-07-27 16:00:56 | 1                   | 76.58225            | 1                   | 2151-06-30          | ⋯                   | 1                   | 1                   | 1                   | 0                   | 1                   | 1                   | 1                   | 0                   | 0.5525232           | 1.809879            | \n",
       "| 278148              | 169700              | 49395               | MICU                | 2197-01-09 00:45:42 | 2197-01-10 06:46:29 | 1                   | 82.72606            | 1                   | NA                  | ⋯                   | 0                   | 1                   | 1                   | 0                   | 0                   | 0                   | 0                   | 1                   | 0.2804613           | 1.389779            | \n",
       "| 274174              | 103722              | 14855               | MICU                | 2181-09-08 23:43:13 | 2181-09-26 16:52:02 | 1                   | 61.84390            | 1                   | 2181-09-11          | ⋯                   | 1                   | 1                   | 1                   | 0                   | 1                   | 1                   | 1                   | 0                   | 0.3012020           | 3.320031            | \n",
       "| 214954              | 170515              | 54642               | MICU                | 2176-03-11 04:58:23 | 2176-03-15 18:00:48 | 1                   | 63.86507            | 1                   | 2176-03-11          | ⋯                   | 1                   | 1                   | 1                   | 1                   | 1                   | 1                   | 1                   | 0                   | 0.7982833           | 1.252688            | \n",
       "| 222457              | 183493              | 96815               | MICU                | 2105-06-04 20:57:55 | 2105-06-06 20:01:51 | 1                   | 62.84018            | 1                   | NA                  | ⋯                   | 0                   | 1                   | 1                   | 0                   | 0                   | 0                   | 0                   | 0                   | 0.2244447           | 1.289399            | \n",
       "| 264413              | 134244              | 81436               | MICU                | 2133-03-27 16:31:37 | 2133-04-04 16:15:28 | 1                   | 62.60148            | 1                   | 2133-03-31          | ⋯                   | 0                   | 1                   | 1                   | 0                   | 0                   | 1                   | 1                   | 0                   | 0.3320492           | 3.011602            | \n",
       "\n",
       "\n"
      ],
      "text/plain": [
       "  icustay_id hadm_id subject_id first_careunit intime             \n",
       "1 228416     159895   5491      MICU           2151-06-29 01:18:27\n",
       "2 278148     169700  49395      MICU           2197-01-09 00:45:42\n",
       "3 274174     103722  14855      MICU           2181-09-08 23:43:13\n",
       "4 214954     170515  54642      MICU           2176-03-11 04:58:23\n",
       "5 222457     183493  96815      MICU           2105-06-04 20:57:55\n",
       "6 264413     134244  81436      MICU           2133-03-27 16:31:37\n",
       "  outtime             angus age      icu_order echo_time  ⋯ lab_pco2_flag\n",
       "1 2151-07-27 16:00:56 1     76.58225 1         2151-06-30 ⋯ 1            \n",
       "2 2197-01-10 06:46:29 1     82.72606 1         <NA>       ⋯ 0            \n",
       "3 2181-09-26 16:52:02 1     61.84390 1         2181-09-11 ⋯ 1            \n",
       "4 2176-03-15 18:00:48 1     63.86507 1         2176-03-11 ⋯ 1            \n",
       "5 2105-06-06 20:01:51 1     62.84018 1         <NA>       ⋯ 0            \n",
       "6 2133-04-04 16:15:28 1     62.60148 1         2133-03-31 ⋯ 0            \n",
       "  lab_creatinine_flag lab_potassium_flag lab_troponin_flag lab_po2_flag\n",
       "1 1                   1                  0                 1           \n",
       "2 1                   1                  0                 0           \n",
       "3 1                   1                  0                 1           \n",
       "4 1                   1                  1                 1           \n",
       "5 1                   1                  0                 0           \n",
       "6 1                   1                  0                 0           \n",
       "  lab_lactate_flag echo_int mort_28_day_int ps        ps_weight\n",
       "1 1                1        0               0.5525232 1.809879 \n",
       "2 0                0        1               0.2804613 1.389779 \n",
       "3 1                1        0               0.3012020 3.320031 \n",
       "4 1                1        0               0.7982833 1.252688 \n",
       "5 0                0        0               0.2244447 1.289399 \n",
       "6 1                1        0               0.3320492 3.011602 "
      ]
     },
     "metadata": {},
     "output_type": "display_data"
    }
   ],
   "source": [
    "full_data <- readRDS(file.path(data_dir, \"full_data_ps.rds\"))\n",
    "head(full_data)"
   ]
  },
  {
   "cell_type": "code",
   "execution_count": 6,
   "metadata": {},
   "outputs": [],
   "source": [
    "set.seed(4958)"
   ]
  },
  {
   "cell_type": "code",
   "execution_count": 7,
   "metadata": {},
   "outputs": [
    {
     "name": "stderr",
     "output_type": "stream",
     "text": [
      "Warning message in Match(Y = NULL, Tr = full_data$echo_int, X = full_data$ps, M = 1, :\n",
      "“replace==FALSE, but there are more (weighted) treated obs than control obs.  Some treated obs will not be matched.  You may want to estimate ATC instead.”"
     ]
    }
   ],
   "source": [
    "ps_matches <- Match(Y = NULL, Tr = full_data$echo_int, X = full_data$ps, M = 1,\n",
    "                    estimand = \"ATT\", caliper = 0.01,\n",
    "                    exact = FALSE, replace = FALSE)"
   ]
  },
  {
   "cell_type": "code",
   "execution_count": 8,
   "metadata": {},
   "outputs": [
    {
     "data": {
      "text/html": [
       "<table>\n",
       "<thead><tr><th scope=col>icustay_id</th><th scope=col>match</th></tr></thead>\n",
       "<tbody>\n",
       "\t<tr><td>228416</td><td>262436</td></tr>\n",
       "\t<tr><td>274174</td><td>244460</td></tr>\n",
       "\t<tr><td>214954</td><td>298177</td></tr>\n",
       "\t<tr><td>264413</td><td>290165</td></tr>\n",
       "\t<tr><td>214106</td><td>278397</td></tr>\n",
       "\t<tr><td>266275</td><td>212022</td></tr>\n",
       "</tbody>\n",
       "</table>\n"
      ],
      "text/latex": [
       "\\begin{tabular}{r|ll}\n",
       " icustay\\_id & match\\\\\n",
       "\\hline\n",
       "\t 228416 & 262436\\\\\n",
       "\t 274174 & 244460\\\\\n",
       "\t 214954 & 298177\\\\\n",
       "\t 264413 & 290165\\\\\n",
       "\t 214106 & 278397\\\\\n",
       "\t 266275 & 212022\\\\\n",
       "\\end{tabular}\n"
      ],
      "text/markdown": [
       "\n",
       "icustay_id | match | \n",
       "|---|---|---|---|---|---|\n",
       "| 228416 | 262436 | \n",
       "| 274174 | 244460 | \n",
       "| 214954 | 298177 | \n",
       "| 264413 | 290165 | \n",
       "| 214106 | 278397 | \n",
       "| 266275 | 212022 | \n",
       "\n",
       "\n"
      ],
      "text/plain": [
       "  icustay_id match \n",
       "1 228416     262436\n",
       "2 274174     244460\n",
       "3 214954     298177\n",
       "4 264413     290165\n",
       "5 214106     278397\n",
       "6 266275     212022"
      ]
     },
     "metadata": {},
     "output_type": "display_data"
    }
   ],
   "source": [
    "matches_df <-\n",
    "full_data[ps_matches$index.treated, \"icustay_id\", drop = FALSE] %>%\n",
    "mutate(match = full_data[ps_matches$index.control, \"icustay_id\"])\n",
    "\n",
    "head(matches_df)"
   ]
  },
  {
   "cell_type": "code",
   "execution_count": 9,
   "metadata": {},
   "outputs": [],
   "source": [
    "features <- c(\"age\", \"gender\", \"first_careunit\", \"weight\",\n",
    "              \"saps\", \"sofa\", \"elix_score\", \"vent\", \"vaso\", \"sedative\",\n",
    "              \"icd_chf\", \"icd_afib\", \"icd_renal\", \"icd_liver\",\n",
    "              \"icd_copd\", \"icd_cad\", \"icd_stroke\", \"icd_malignancy\",\n",
    "              \"icu_adm_weekday\", \"icu_adm_hour\",\n",
    "              \"vs_map_first\", \"vs_heart_rate_first\", \"vs_temp_first\", \"vs_cvp_flag\",\n",
    "              \"lab_wbc_first\", \"lab_hemoglobin_first\", \"lab_platelet_first\",\n",
    "              \"lab_sodium_first\", \"lab_potassium_first\", \"lab_bicarbonate_first\",\n",
    "              \"lab_chloride_first\", \"lab_bun_first\", \"lab_lactate_first\",\n",
    "              \"lab_creatinine_first\", \"lab_ph_first\", \"lab_po2_first\", \"lab_pco2_first\",\n",
    "              \"lab_bnp_flag\", \"lab_troponin_flag\", \"lab_creatinine_kinase_flag\")"
   ]
  },
  {
   "cell_type": "code",
   "execution_count": 10,
   "metadata": {},
   "outputs": [
    {
     "data": {
      "text/html": [
       "<table>\n",
       "<thead><tr><th scope=col>icustay_id</th><th scope=col>age</th><th scope=col>gender</th><th scope=col>first careunit</th><th scope=col>weight</th><th scope=col>saps</th><th scope=col>sofa</th><th scope=col>elixhauser score</th><th scope=col>ventilation use</th><th scope=col>vasopressor use</th><th scope=col>⋯</th><th scope=col>chloride</th><th scope=col>bun</th><th scope=col>lactate</th><th scope=col>creatinine</th><th scope=col>ph</th><th scope=col>po2</th><th scope=col>pco2</th><th scope=col>bnp (tested)</th><th scope=col>troponin (tested)</th><th scope=col>creatinine kinase (tested)</th></tr></thead>\n",
       "<tbody>\n",
       "\t<tr><td>228416  </td><td>76.58225</td><td>M       </td><td>MICU    </td><td>  NA    </td><td>24      </td><td>3       </td><td>10      </td><td>1       </td><td>0       </td><td>⋯       </td><td> 92     </td><td>35      </td><td>1.4     </td><td>1.2     </td><td>7.50    </td><td> 98     </td><td>56      </td><td>0       </td><td>0       </td><td>0       </td></tr>\n",
       "\t<tr><td>278148  </td><td>82.72606</td><td>F       </td><td>MICU    </td><td>90.3    </td><td>25      </td><td>8       </td><td>15      </td><td>0       </td><td>0       </td><td>⋯       </td><td>113     </td><td>32      </td><td> NA     </td><td>1.6     </td><td>  NA    </td><td> NA     </td><td>NA      </td><td>0       </td><td>0       </td><td>0       </td></tr>\n",
       "\t<tr><td>274174  </td><td>61.84390</td><td>M       </td><td>MICU    </td><td>53.6    </td><td>20      </td><td>5       </td><td> 6      </td><td>0       </td><td>0       </td><td>⋯       </td><td> 90     </td><td>64      </td><td>1.6     </td><td>2.7     </td><td>7.38    </td><td>110     </td><td>40      </td><td>0       </td><td>0       </td><td>0       </td></tr>\n",
       "\t<tr><td>214954  </td><td>63.86507</td><td>M       </td><td>MICU    </td><td>92.9    </td><td>24      </td><td>8       </td><td> 6      </td><td>1       </td><td>1       </td><td>⋯       </td><td>111     </td><td>34      </td><td>3.8     </td><td>1.3     </td><td>7.20    </td><td> 85     </td><td>42      </td><td>0       </td><td>1       </td><td>1       </td></tr>\n",
       "\t<tr><td>222457  </td><td>62.84018</td><td>F       </td><td>MICU    </td><td>75.0    </td><td>10      </td><td>1       </td><td> 6      </td><td>0       </td><td>0       </td><td>⋯       </td><td>112     </td><td>17      </td><td> NA     </td><td>0.9     </td><td>  NA    </td><td> NA     </td><td>NA      </td><td>0       </td><td>0       </td><td>0       </td></tr>\n",
       "\t<tr><td>264413  </td><td>62.60148</td><td>F       </td><td>MICU    </td><td>80.0    </td><td>15      </td><td>4       </td><td> 2      </td><td>0       </td><td>1       </td><td>⋯       </td><td>103     </td><td>17      </td><td>1.4     </td><td>0.8     </td><td>  NA    </td><td> NA     </td><td>NA      </td><td>0       </td><td>0       </td><td>0       </td></tr>\n",
       "</tbody>\n",
       "</table>\n"
      ],
      "text/latex": [
       "\\begin{tabular}{r|lllllllllllllllllllllllllllllllllllllllll}\n",
       " icustay\\_id & age & gender & first careunit & weight & saps & sofa & elixhauser score & ventilation use & vasopressor use & ⋯ & chloride & bun & lactate & creatinine & ph & po2 & pco2 & bnp (tested) & troponin (tested) & creatinine kinase (tested)\\\\\n",
       "\\hline\n",
       "\t 228416   & 76.58225 & M        & MICU     &   NA     & 24       & 3        & 10       & 1        & 0        & ⋯        &  92      & 35       & 1.4      & 1.2      & 7.50     &  98      & 56       & 0        & 0        & 0       \\\\\n",
       "\t 278148   & 82.72606 & F        & MICU     & 90.3     & 25       & 8        & 15       & 0        & 0        & ⋯        & 113      & 32       &  NA      & 1.6      &   NA     &  NA      & NA       & 0        & 0        & 0       \\\\\n",
       "\t 274174   & 61.84390 & M        & MICU     & 53.6     & 20       & 5        &  6       & 0        & 0        & ⋯        &  90      & 64       & 1.6      & 2.7      & 7.38     & 110      & 40       & 0        & 0        & 0       \\\\\n",
       "\t 214954   & 63.86507 & M        & MICU     & 92.9     & 24       & 8        &  6       & 1        & 1        & ⋯        & 111      & 34       & 3.8      & 1.3      & 7.20     &  85      & 42       & 0        & 1        & 1       \\\\\n",
       "\t 222457   & 62.84018 & F        & MICU     & 75.0     & 10       & 1        &  6       & 0        & 0        & ⋯        & 112      & 17       &  NA      & 0.9      &   NA     &  NA      & NA       & 0        & 0        & 0       \\\\\n",
       "\t 264413   & 62.60148 & F        & MICU     & 80.0     & 15       & 4        &  2       & 0        & 1        & ⋯        & 103      & 17       & 1.4      & 0.8      &   NA     &  NA      & NA       & 0        & 0        & 0       \\\\\n",
       "\\end{tabular}\n"
      ],
      "text/markdown": [
       "\n",
       "icustay_id | age | gender | first careunit | weight | saps | sofa | elixhauser score | ventilation use | vasopressor use | ⋯ | chloride | bun | lactate | creatinine | ph | po2 | pco2 | bnp (tested) | troponin (tested) | creatinine kinase (tested) | \n",
       "|---|---|---|---|---|---|\n",
       "| 228416   | 76.58225 | M        | MICU     |   NA     | 24       | 3        | 10       | 1        | 0        | ⋯        |  92      | 35       | 1.4      | 1.2      | 7.50     |  98      | 56       | 0        | 0        | 0        | \n",
       "| 278148   | 82.72606 | F        | MICU     | 90.3     | 25       | 8        | 15       | 0        | 0        | ⋯        | 113      | 32       |  NA      | 1.6      |   NA     |  NA      | NA       | 0        | 0        | 0        | \n",
       "| 274174   | 61.84390 | M        | MICU     | 53.6     | 20       | 5        |  6       | 0        | 0        | ⋯        |  90      | 64       | 1.6      | 2.7      | 7.38     | 110      | 40       | 0        | 0        | 0        | \n",
       "| 214954   | 63.86507 | M        | MICU     | 92.9     | 24       | 8        |  6       | 1        | 1        | ⋯        | 111      | 34       | 3.8      | 1.3      | 7.20     |  85      | 42       | 0        | 1        | 1        | \n",
       "| 222457   | 62.84018 | F        | MICU     | 75.0     | 10       | 1        |  6       | 0        | 0        | ⋯        | 112      | 17       |  NA      | 0.9      |   NA     |  NA      | NA       | 0        | 0        | 0        | \n",
       "| 264413   | 62.60148 | F        | MICU     | 80.0     | 15       | 4        |  2       | 0        | 1        | ⋯        | 103      | 17       | 1.4      | 0.8      |   NA     |  NA      | NA       | 0        | 0        | 0        | \n",
       "\n",
       "\n"
      ],
      "text/plain": [
       "  icustay_id age      gender first careunit weight saps sofa elixhauser score\n",
       "1 228416     76.58225 M      MICU             NA   24   3    10              \n",
       "2 278148     82.72606 F      MICU           90.3   25   8    15              \n",
       "3 274174     61.84390 M      MICU           53.6   20   5     6              \n",
       "4 214954     63.86507 M      MICU           92.9   24   8     6              \n",
       "5 222457     62.84018 F      MICU           75.0   10   1     6              \n",
       "6 264413     62.60148 F      MICU           80.0   15   4     2              \n",
       "  ventilation use vasopressor use ⋯ chloride bun lactate creatinine ph   po2\n",
       "1 1               0               ⋯  92      35  1.4     1.2        7.50  98\n",
       "2 0               0               ⋯ 113      32   NA     1.6          NA  NA\n",
       "3 0               0               ⋯  90      64  1.6     2.7        7.38 110\n",
       "4 1               1               ⋯ 111      34  3.8     1.3        7.20  85\n",
       "5 0               0               ⋯ 112      17   NA     0.9          NA  NA\n",
       "6 0               1               ⋯ 103      17  1.4     0.8          NA  NA\n",
       "  pco2 bnp (tested) troponin (tested) creatinine kinase (tested)\n",
       "1 56   0            0                 0                         \n",
       "2 NA   0            0                 0                         \n",
       "3 40   0            0                 0                         \n",
       "4 42   0            1                 1                         \n",
       "5 NA   0            0                 0                         \n",
       "6 NA   0            0                 0                         "
      ]
     },
     "metadata": {},
     "output_type": "display_data"
    },
    {
     "data": {
      "text/html": [
       "<ol class=list-inline>\n",
       "\t<li>'icustay_id'</li>\n",
       "\t<li>'age'</li>\n",
       "\t<li>'gender'</li>\n",
       "\t<li>'first careunit'</li>\n",
       "\t<li>'weight'</li>\n",
       "\t<li>'saps'</li>\n",
       "\t<li>'sofa'</li>\n",
       "\t<li>'elixhauser score'</li>\n",
       "\t<li>'ventilation use'</li>\n",
       "\t<li>'vasopressor use'</li>\n",
       "\t<li>'sedative use'</li>\n",
       "\t<li>'chf'</li>\n",
       "\t<li>'afib'</li>\n",
       "\t<li>'renal'</li>\n",
       "\t<li>'liver'</li>\n",
       "\t<li>'copd'</li>\n",
       "\t<li>'cad'</li>\n",
       "\t<li>'stroke'</li>\n",
       "\t<li>'malignancy'</li>\n",
       "\t<li>'icu adm weekday'</li>\n",
       "\t<li>'icu adm hour'</li>\n",
       "\t<li>'map'</li>\n",
       "\t<li>'heart rate'</li>\n",
       "\t<li>'temp'</li>\n",
       "\t<li>'cvp (measured)'</li>\n",
       "\t<li>'wbc'</li>\n",
       "\t<li>'hemoglobin'</li>\n",
       "\t<li>'platelet'</li>\n",
       "\t<li>'sodium'</li>\n",
       "\t<li>'potassium'</li>\n",
       "\t<li>'bicarbonate'</li>\n",
       "\t<li>'chloride'</li>\n",
       "\t<li>'bun'</li>\n",
       "\t<li>'lactate'</li>\n",
       "\t<li>'creatinine'</li>\n",
       "\t<li>'ph'</li>\n",
       "\t<li>'po2'</li>\n",
       "\t<li>'pco2'</li>\n",
       "\t<li>'bnp (tested)'</li>\n",
       "\t<li>'troponin (tested)'</li>\n",
       "\t<li>'creatinine kinase (tested)'</li>\n",
       "</ol>\n"
      ],
      "text/latex": [
       "\\begin{enumerate*}\n",
       "\\item 'icustay\\_id'\n",
       "\\item 'age'\n",
       "\\item 'gender'\n",
       "\\item 'first careunit'\n",
       "\\item 'weight'\n",
       "\\item 'saps'\n",
       "\\item 'sofa'\n",
       "\\item 'elixhauser score'\n",
       "\\item 'ventilation use'\n",
       "\\item 'vasopressor use'\n",
       "\\item 'sedative use'\n",
       "\\item 'chf'\n",
       "\\item 'afib'\n",
       "\\item 'renal'\n",
       "\\item 'liver'\n",
       "\\item 'copd'\n",
       "\\item 'cad'\n",
       "\\item 'stroke'\n",
       "\\item 'malignancy'\n",
       "\\item 'icu adm weekday'\n",
       "\\item 'icu adm hour'\n",
       "\\item 'map'\n",
       "\\item 'heart rate'\n",
       "\\item 'temp'\n",
       "\\item 'cvp (measured)'\n",
       "\\item 'wbc'\n",
       "\\item 'hemoglobin'\n",
       "\\item 'platelet'\n",
       "\\item 'sodium'\n",
       "\\item 'potassium'\n",
       "\\item 'bicarbonate'\n",
       "\\item 'chloride'\n",
       "\\item 'bun'\n",
       "\\item 'lactate'\n",
       "\\item 'creatinine'\n",
       "\\item 'ph'\n",
       "\\item 'po2'\n",
       "\\item 'pco2'\n",
       "\\item 'bnp (tested)'\n",
       "\\item 'troponin (tested)'\n",
       "\\item 'creatinine kinase (tested)'\n",
       "\\end{enumerate*}\n"
      ],
      "text/markdown": [
       "1. 'icustay_id'\n",
       "2. 'age'\n",
       "3. 'gender'\n",
       "4. 'first careunit'\n",
       "5. 'weight'\n",
       "6. 'saps'\n",
       "7. 'sofa'\n",
       "8. 'elixhauser score'\n",
       "9. 'ventilation use'\n",
       "10. 'vasopressor use'\n",
       "11. 'sedative use'\n",
       "12. 'chf'\n",
       "13. 'afib'\n",
       "14. 'renal'\n",
       "15. 'liver'\n",
       "16. 'copd'\n",
       "17. 'cad'\n",
       "18. 'stroke'\n",
       "19. 'malignancy'\n",
       "20. 'icu adm weekday'\n",
       "21. 'icu adm hour'\n",
       "22. 'map'\n",
       "23. 'heart rate'\n",
       "24. 'temp'\n",
       "25. 'cvp (measured)'\n",
       "26. 'wbc'\n",
       "27. 'hemoglobin'\n",
       "28. 'platelet'\n",
       "29. 'sodium'\n",
       "30. 'potassium'\n",
       "31. 'bicarbonate'\n",
       "32. 'chloride'\n",
       "33. 'bun'\n",
       "34. 'lactate'\n",
       "35. 'creatinine'\n",
       "36. 'ph'\n",
       "37. 'po2'\n",
       "38. 'pco2'\n",
       "39. 'bnp (tested)'\n",
       "40. 'troponin (tested)'\n",
       "41. 'creatinine kinase (tested)'\n",
       "\n",
       "\n"
      ],
      "text/plain": [
       " [1] \"icustay_id\"                 \"age\"                       \n",
       " [3] \"gender\"                     \"first careunit\"            \n",
       " [5] \"weight\"                     \"saps\"                      \n",
       " [7] \"sofa\"                       \"elixhauser score\"          \n",
       " [9] \"ventilation use\"            \"vasopressor use\"           \n",
       "[11] \"sedative use\"               \"chf\"                       \n",
       "[13] \"afib\"                       \"renal\"                     \n",
       "[15] \"liver\"                      \"copd\"                      \n",
       "[17] \"cad\"                        \"stroke\"                    \n",
       "[19] \"malignancy\"                 \"icu adm weekday\"           \n",
       "[21] \"icu adm hour\"               \"map\"                       \n",
       "[23] \"heart rate\"                 \"temp\"                      \n",
       "[25] \"cvp (measured)\"             \"wbc\"                       \n",
       "[27] \"hemoglobin\"                 \"platelet\"                  \n",
       "[29] \"sodium\"                     \"potassium\"                 \n",
       "[31] \"bicarbonate\"                \"chloride\"                  \n",
       "[33] \"bun\"                        \"lactate\"                   \n",
       "[35] \"creatinine\"                 \"ph\"                        \n",
       "[37] \"po2\"                        \"pco2\"                      \n",
       "[39] \"bnp (tested)\"               \"troponin (tested)\"         \n",
       "[41] \"creatinine kinase (tested)\""
      ]
     },
     "metadata": {},
     "output_type": "display_data"
    }
   ],
   "source": [
    "covariates <- full_data %>%\n",
    "select(c(\"icustay_id\", features))\n",
    "\n",
    "names(covariates) <- names(covariates) %>%\n",
    "str_replace_all(\"lab_|vs_|icd_|_first\", \" \") %>%\n",
    "str_replace_all(\"_\", \" \") %>%\n",
    "str_replace_all(\"\\\\s+$|^\\\\s+\", \"\") %>%\n",
    "str_replace_all(\"vent\", \"ventilation use\") %>%\n",
    "str_replace_all(\"vaso\", \"vasopressor use\") %>%\n",
    "str_replace_all(\"sedative\", \"sedative use\") %>%\n",
    "str_replace_all(\"elix score\", \"elixhauser score\") %>%\n",
    "str_replace_all(\"flag\", \"(tested)\") %>%\n",
    "str_replace_all(\"cvp \\\\(tested\\\\)\", \"cvp (measured)\") %>%\n",
    "str_replace_all(\"icustay id\", \"icustay_id\")\n",
    "\n",
    "head(covariates)\n",
    "names(covariates)"
   ]
  },
  {
   "cell_type": "code",
   "execution_count": 11,
   "metadata": {},
   "outputs": [
    {
     "data": {
      "text/html": [
       "<table>\n",
       "<thead><tr><th scope=col>icustay_id</th><th scope=col>echo</th><th scope=col>icu length of stay</th><th scope=col>28 day mortality</th><th scope=col>ventilation free days (28 days)</th><th scope=col>match id</th><th scope=col>propensity score</th><th scope=col>age</th><th scope=col>gender</th><th scope=col>first careunit</th><th scope=col>⋯</th><th scope=col>chloride</th><th scope=col>bun</th><th scope=col>lactate</th><th scope=col>creatinine</th><th scope=col>ph</th><th scope=col>po2</th><th scope=col>pco2</th><th scope=col>bnp (tested)</th><th scope=col>troponin (tested)</th><th scope=col>creatinine kinase (tested)</th></tr></thead>\n",
       "<tbody>\n",
       "\t<tr><td>228416   </td><td>1        </td><td>28.612836</td><td>0        </td><td> 7.581632</td><td>262436   </td><td>0.5525232</td><td>76.58225 </td><td>M        </td><td>MICU     </td><td>⋯        </td><td> 92      </td><td>35       </td><td>1.4      </td><td>1.2      </td><td>7.50     </td><td> 98      </td><td>56       </td><td>0        </td><td>0        </td><td>0        </td></tr>\n",
       "\t<tr><td>278148   </td><td>0        </td><td> 1.250544</td><td>1        </td><td> 0.000000</td><td>    NA   </td><td>0.2804613</td><td>82.72606 </td><td>F        </td><td>MICU     </td><td>⋯        </td><td>113      </td><td>32       </td><td> NA      </td><td>1.6      </td><td>  NA     </td><td> NA      </td><td>NA       </td><td>0        </td><td>0        </td><td>0        </td></tr>\n",
       "\t<tr><td>274174   </td><td>1        </td><td>17.714456</td><td>0        </td><td>28.000000</td><td>244460   </td><td>0.3012020</td><td>61.84390 </td><td>M        </td><td>MICU     </td><td>⋯        </td><td> 90      </td><td>64       </td><td>1.6      </td><td>2.7      </td><td>7.38     </td><td>110      </td><td>40       </td><td>0        </td><td>0        </td><td>0        </td></tr>\n",
       "\t<tr><td>214954   </td><td>1        </td><td> 4.543345</td><td>0        </td><td>24.854167</td><td>298177   </td><td>0.7982833</td><td>63.86507 </td><td>M        </td><td>MICU     </td><td>⋯        </td><td>111      </td><td>34       </td><td>3.8      </td><td>1.3      </td><td>7.20     </td><td> 85      </td><td>42       </td><td>0        </td><td>1        </td><td>1        </td></tr>\n",
       "\t<tr><td>222457   </td><td>0        </td><td> 1.961065</td><td>0        </td><td>28.000000</td><td>    NA   </td><td>0.2244447</td><td>62.84018 </td><td>F        </td><td>MICU     </td><td>⋯        </td><td>112      </td><td>17       </td><td> NA      </td><td>0.9      </td><td>  NA     </td><td> NA      </td><td>NA       </td><td>0        </td><td>0        </td><td>0        </td></tr>\n",
       "\t<tr><td>264413   </td><td>1        </td><td> 7.988785</td><td>0        </td><td>24.250000</td><td>290165   </td><td>0.3320492</td><td>62.60148 </td><td>F        </td><td>MICU     </td><td>⋯        </td><td>103      </td><td>17       </td><td>1.4      </td><td>0.8      </td><td>  NA     </td><td> NA      </td><td>NA       </td><td>0        </td><td>0        </td><td>0        </td></tr>\n",
       "</tbody>\n",
       "</table>\n"
      ],
      "text/latex": [
       "\\begin{tabular}{r|lllllllllllllllllllllllllllllllllllllllllllllll}\n",
       " icustay\\_id & echo & icu length of stay & 28 day mortality & ventilation free days (28 days) & match id & propensity score & age & gender & first careunit & ⋯ & chloride & bun & lactate & creatinine & ph & po2 & pco2 & bnp (tested) & troponin (tested) & creatinine kinase (tested)\\\\\n",
       "\\hline\n",
       "\t 228416    & 1         & 28.612836 & 0         &  7.581632 & 262436    & 0.5525232 & 76.58225  & M         & MICU      & ⋯         &  92       & 35        & 1.4       & 1.2       & 7.50      &  98       & 56        & 0         & 0         & 0        \\\\\n",
       "\t 278148    & 0         &  1.250544 & 1         &  0.000000 &     NA    & 0.2804613 & 82.72606  & F         & MICU      & ⋯         & 113       & 32        &  NA       & 1.6       &   NA      &  NA       & NA        & 0         & 0         & 0        \\\\\n",
       "\t 274174    & 1         & 17.714456 & 0         & 28.000000 & 244460    & 0.3012020 & 61.84390  & M         & MICU      & ⋯         &  90       & 64        & 1.6       & 2.7       & 7.38      & 110       & 40        & 0         & 0         & 0        \\\\\n",
       "\t 214954    & 1         &  4.543345 & 0         & 24.854167 & 298177    & 0.7982833 & 63.86507  & M         & MICU      & ⋯         & 111       & 34        & 3.8       & 1.3       & 7.20      &  85       & 42        & 0         & 1         & 1        \\\\\n",
       "\t 222457    & 0         &  1.961065 & 0         & 28.000000 &     NA    & 0.2244447 & 62.84018  & F         & MICU      & ⋯         & 112       & 17        &  NA       & 0.9       &   NA      &  NA       & NA        & 0         & 0         & 0        \\\\\n",
       "\t 264413    & 1         &  7.988785 & 0         & 24.250000 & 290165    & 0.3320492 & 62.60148  & F         & MICU      & ⋯         & 103       & 17        & 1.4       & 0.8       &   NA      &  NA       & NA        & 0         & 0         & 0        \\\\\n",
       "\\end{tabular}\n"
      ],
      "text/markdown": [
       "\n",
       "icustay_id | echo | icu length of stay | 28 day mortality | ventilation free days (28 days) | match id | propensity score | age | gender | first careunit | ⋯ | chloride | bun | lactate | creatinine | ph | po2 | pco2 | bnp (tested) | troponin (tested) | creatinine kinase (tested) | \n",
       "|---|---|---|---|---|---|\n",
       "| 228416    | 1         | 28.612836 | 0         |  7.581632 | 262436    | 0.5525232 | 76.58225  | M         | MICU      | ⋯         |  92       | 35        | 1.4       | 1.2       | 7.50      |  98       | 56        | 0         | 0         | 0         | \n",
       "| 278148    | 0         |  1.250544 | 1         |  0.000000 |     NA    | 0.2804613 | 82.72606  | F         | MICU      | ⋯         | 113       | 32        |  NA       | 1.6       |   NA      |  NA       | NA        | 0         | 0         | 0         | \n",
       "| 274174    | 1         | 17.714456 | 0         | 28.000000 | 244460    | 0.3012020 | 61.84390  | M         | MICU      | ⋯         |  90       | 64        | 1.6       | 2.7       | 7.38      | 110       | 40        | 0         | 0         | 0         | \n",
       "| 214954    | 1         |  4.543345 | 0         | 24.854167 | 298177    | 0.7982833 | 63.86507  | M         | MICU      | ⋯         | 111       | 34        | 3.8       | 1.3       | 7.20      |  85       | 42        | 0         | 1         | 1         | \n",
       "| 222457    | 0         |  1.961065 | 0         | 28.000000 |     NA    | 0.2244447 | 62.84018  | F         | MICU      | ⋯         | 112       | 17        |  NA       | 0.9       |   NA      |  NA       | NA        | 0         | 0         | 0         | \n",
       "| 264413    | 1         |  7.988785 | 0         | 24.250000 | 290165    | 0.3320492 | 62.60148  | F         | MICU      | ⋯         | 103       | 17        | 1.4       | 0.8       |   NA      |  NA       | NA        | 0         | 0         | 0         | \n",
       "\n",
       "\n"
      ],
      "text/plain": [
       "  icustay_id echo icu length of stay 28 day mortality\n",
       "1 228416     1    28.612836          0               \n",
       "2 278148     0     1.250544          1               \n",
       "3 274174     1    17.714456          0               \n",
       "4 214954     1     4.543345          0               \n",
       "5 222457     0     1.961065          0               \n",
       "6 264413     1     7.988785          0               \n",
       "  ventilation free days (28 days) match id propensity score age      gender\n",
       "1  7.581632                       262436   0.5525232        76.58225 M     \n",
       "2  0.000000                           NA   0.2804613        82.72606 F     \n",
       "3 28.000000                       244460   0.3012020        61.84390 M     \n",
       "4 24.854167                       298177   0.7982833        63.86507 M     \n",
       "5 28.000000                           NA   0.2244447        62.84018 F     \n",
       "6 24.250000                       290165   0.3320492        62.60148 F     \n",
       "  first careunit ⋯ chloride bun lactate creatinine ph   po2 pco2 bnp (tested)\n",
       "1 MICU           ⋯  92      35  1.4     1.2        7.50  98 56   0           \n",
       "2 MICU           ⋯ 113      32   NA     1.6          NA  NA NA   0           \n",
       "3 MICU           ⋯  90      64  1.6     2.7        7.38 110 40   0           \n",
       "4 MICU           ⋯ 111      34  3.8     1.3        7.20  85 42   0           \n",
       "5 MICU           ⋯ 112      17   NA     0.9          NA  NA NA   0           \n",
       "6 MICU           ⋯ 103      17  1.4     0.8          NA  NA NA   0           \n",
       "  troponin (tested) creatinine kinase (tested)\n",
       "1 0                 0                         \n",
       "2 0                 0                         \n",
       "3 0                 0                         \n",
       "4 1                 1                         \n",
       "5 0                 0                         \n",
       "6 0                 0                         "
      ]
     },
     "metadata": {},
     "output_type": "display_data"
    }
   ],
   "source": [
    "result <- full_data %>%\n",
    "left_join(ventfreedays, by = \"icustay_id\") %>%\n",
    "left_join(matches_df, by = \"icustay_id\") %>%\n",
    "select(icustay_id, echo_int, icu_los_day, mort_28_day_int, ventfreeday28, match, ps) %>%\n",
    "setNames(c(\"icustay_id\", \"echo\", \"icu length of stay\", \"28 day mortality\",\n",
    "           \"ventilation free days (28 days)\", \"match id\", \"propensity score\")) %>%\n",
    "left_join(covariates, by = \"icustay_id\")\n",
    "\n",
    "head(result)"
   ]
  },
  {
   "cell_type": "code",
   "execution_count": 12,
   "metadata": {},
   "outputs": [
    {
     "name": "stdout",
     "output_type": "stream",
     "text": [
      "\n",
      "Estimate...  0 \n",
      "SE.........  0 \n",
      "T-stat.....  NaN \n",
      "p.val......  NA \n",
      "\n",
      "Original number of observations..............  6361 \n",
      "Original number of treated obs...............  3262 \n",
      "Matched number of observations...............  1626 \n",
      "Matched number of observations  (unweighted).  1626 \n",
      "\n",
      "Number of obs dropped by 'exact' or 'caliper'  1636 \n",
      "\n"
     ]
    }
   ],
   "source": [
    "summary(ps_matches)"
   ]
  },
  {
   "cell_type": "code",
   "execution_count": 13,
   "metadata": {},
   "outputs": [
    {
     "data": {
      "text/plain": [
       "    Control\n",
       "Echo   0   1\n",
       "   0 869 343\n",
       "   1 267 147"
      ]
     },
     "metadata": {},
     "output_type": "display_data"
    }
   ],
   "source": [
    "tab <- table(full_data$mort_28_day[ps_matches$index.treated],\n",
    "             full_data$mort_28_day[ps_matches$index.control],\n",
    "             dnn = c(\"Echo\", \"Control\"))\n",
    "tab"
   ]
  },
  {
   "cell_type": "code",
   "execution_count": 14,
   "metadata": {},
   "outputs": [
    {
     "data": {
      "text/html": [
       "0.778425655976676"
      ],
      "text/latex": [
       "0.778425655976676"
      ],
      "text/markdown": [
       "0.778425655976676"
      ],
      "text/plain": [
       "[1] 0.7784257"
      ]
     },
     "metadata": {},
     "output_type": "display_data"
    },
    {
     "data": {
      "text/html": [
       "<ol class=list-inline>\n",
       "\t<li>'95% Confint 0.6633574'</li>\n",
       "\t<li>'95% Confint 0.9134541'</li>\n",
       "</ol>\n"
      ],
      "text/latex": [
       "\\begin{enumerate*}\n",
       "\\item '95\\% Confint 0.6633574'\n",
       "\\item '95\\% Confint 0.9134541'\n",
       "\\end{enumerate*}\n"
      ],
      "text/markdown": [
       "1. '95% Confint 0.6633574'\n",
       "2. '95% Confint 0.9134541'\n",
       "\n",
       "\n"
      ],
      "text/plain": [
       "[1] \"95% Confint 0.6633574\" \"95% Confint 0.9134541\""
      ]
     },
     "metadata": {},
     "output_type": "display_data"
    }
   ],
   "source": [
    "tab[2, 1] / tab[1, 2]\n",
    "paste(\"95% Confint\",\n",
    "      round(exp(c(log(tab[2, 1] / tab[1, 2]) - qnorm(0.975) * sqrt(1 / tab[1, 2] + 1 / tab[2, 1]),\n",
    "                  log(tab[2, 1] / tab[1, 2]) + qnorm(0.975) * sqrt(1 / tab[1, 2] + 1 / tab[2, 1]))), 7))"
   ]
  },
  {
   "cell_type": "code",
   "execution_count": 15,
   "metadata": {},
   "outputs": [
    {
     "data": {
      "text/plain": [
       "\n",
       "\tMcNemar's Chi-squared test with continuity correction\n",
       "\n",
       "data:  tab\n",
       "McNemar's chi-squared = 9.2213, df = 1, p-value = 0.002392\n"
      ]
     },
     "metadata": {},
     "output_type": "display_data"
    }
   ],
   "source": [
    "mcnemar.test(tab)"
   ]
  },
  {
   "cell_type": "code",
   "execution_count": 16,
   "metadata": {},
   "outputs": [],
   "source": [
    "data.table::fwrite(result, file.path(data_dir, \"ps_details.csv\"))"
   ]
  }
 ],
 "metadata": {
  "kernelspec": {
   "display_name": "R",
   "language": "R",
   "name": "ir"
  },
  "language_info": {
   "codemirror_mode": "r",
   "file_extension": ".r",
   "mimetype": "text/x-r-source",
   "name": "R",
   "pygments_lexer": "r",
   "version": "3.4.3"
  },
  "varInspector": {
   "cols": {
    "lenName": 16,
    "lenType": 16,
    "lenVar": 40
   },
   "kernels_config": {
    "python": {
     "delete_cmd_postfix": "",
     "delete_cmd_prefix": "del ",
     "library": "var_list.py",
     "varRefreshCmd": "print(var_dic_list())"
    },
    "r": {
     "delete_cmd_postfix": ") ",
     "delete_cmd_prefix": "rm(",
     "library": "var_list.r",
     "varRefreshCmd": "cat(var_dic_list()) "
    }
   },
   "types_to_exclude": [
    "module",
    "function",
    "builtin_function_or_method",
    "instance",
    "_Feature"
   ],
   "window_display": false
  }
 },
 "nbformat": 4,
 "nbformat_minor": 2
}
