{
 "cells": [
  {
   "cell_type": "code",
   "execution_count": 1,
   "metadata": {},
   "outputs": [
    {
     "name": "stderr",
     "output_type": "stream",
     "text": [
      "Loading required package: DBI\n",
      "Loading required package: MASS\n",
      "## \n",
      "##  Matching (Version 4.9-2, Build Date: 2015-12-25)\n",
      "##  See http://sekhon.berkeley.edu/matching for additional documentation.\n",
      "##  Please cite software as:\n",
      "##   Jasjeet S. Sekhon. 2011. ``Multivariate and Propensity Score Matching\n",
      "##   Software with Automated Balance Optimization: The Matching package for R.''\n",
      "##   Journal of Statistical Software, 42(7): 1-52. \n",
      "##\n",
      "\n",
      "── Attaching packages ─────────────────────────────────────── tidyverse 1.2.1 ──\n",
      "✔ ggplot2 2.2.1     ✔ purrr   0.2.4\n",
      "✔ tibble  1.4.2     ✔ dplyr   0.7.4\n",
      "✔ tidyr   0.8.0     ✔ stringr 1.3.0\n",
      "✔ readr   1.1.1     ✔ forcats 0.3.0\n",
      "── Conflicts ────────────────────────────────────────── tidyverse_conflicts() ──\n",
      "✖ dplyr::filter() masks stats::filter()\n",
      "✖ dplyr::lag()    masks stats::lag()\n",
      "✖ dplyr::select() masks MASS::select()\n"
     ]
    }
   ],
   "source": [
    "library(RPostgreSQL)\n",
    "library(Matching)\n",
    "library(tidyverse)"
   ]
  },
  {
   "cell_type": "code",
   "execution_count": 2,
   "metadata": {},
   "outputs": [],
   "source": [
    "data_dir <- file.path(\"..\", \"data\")\n",
    "sql_dir <- file.path(\"..\", \"sql\")"
   ]
  },
  {
   "cell_type": "code",
   "execution_count": 3,
   "metadata": {},
   "outputs": [
    {
     "data": {
      "text/plain": [
       "<PostgreSQLResult>"
      ]
     },
     "metadata": {},
     "output_type": "display_data"
    }
   ],
   "source": [
    "drv <- dbDriver(\"PostgreSQL\")\n",
    "con <- dbConnect(drv, dbname = \"mimic\")\n",
    "dbSendQuery(con, \"set search_path=echo,public,mimiciii;\")"
   ]
  },
  {
   "cell_type": "code",
   "execution_count": 4,
   "metadata": {},
   "outputs": [
    {
     "data": {
      "text/html": [
       "<table>\n",
       "<thead><tr><th scope=col>icustay_id</th><th scope=col>ventfreeday28</th></tr></thead>\n",
       "<tbody>\n",
       "\t<tr><td>200003  </td><td>24.20833</td></tr>\n",
       "\t<tr><td>200014  </td><td> 0.00000</td></tr>\n",
       "\t<tr><td>200030  </td><td>28.00000</td></tr>\n",
       "\t<tr><td>200033  </td><td> 0.00000</td></tr>\n",
       "\t<tr><td>200036  </td><td>28.00000</td></tr>\n",
       "\t<tr><td>200075  </td><td>27.80903</td></tr>\n",
       "</tbody>\n",
       "</table>\n"
      ],
      "text/latex": [
       "\\begin{tabular}{r|ll}\n",
       " icustay\\_id & ventfreeday28\\\\\n",
       "\\hline\n",
       "\t 200003   & 24.20833\\\\\n",
       "\t 200014   &  0.00000\\\\\n",
       "\t 200030   & 28.00000\\\\\n",
       "\t 200033   &  0.00000\\\\\n",
       "\t 200036   & 28.00000\\\\\n",
       "\t 200075   & 27.80903\\\\\n",
       "\\end{tabular}\n"
      ],
      "text/markdown": [
       "\n",
       "icustay_id | ventfreeday28 | \n",
       "|---|---|---|---|---|---|\n",
       "| 200003   | 24.20833 | \n",
       "| 200014   |  0.00000 | \n",
       "| 200030   | 28.00000 | \n",
       "| 200033   |  0.00000 | \n",
       "| 200036   | 28.00000 | \n",
       "| 200075   | 27.80903 | \n",
       "\n",
       "\n"
      ],
      "text/plain": [
       "  icustay_id ventfreeday28\n",
       "1 200003     24.20833     \n",
       "2 200014      0.00000     \n",
       "3 200030     28.00000     \n",
       "4 200033      0.00000     \n",
       "5 200036     28.00000     \n",
       "6 200075     27.80903     "
      ]
     },
     "metadata": {},
     "output_type": "display_data"
    }
   ],
   "source": [
    "ventfreedays <- dbGetQuery(con, \"select icustay_id, ventfreeday28 from subgroup;\")\n",
    "head(ventfreedays)"
   ]
  },
  {
   "cell_type": "code",
   "execution_count": 5,
   "metadata": {},
   "outputs": [
    {
     "data": {
      "text/html": [
       "<table>\n",
       "<thead><tr><th scope=col>icustay_id</th><th scope=col>hadm_id</th><th scope=col>subject_id</th><th scope=col>first_careunit</th><th scope=col>intime</th><th scope=col>outtime</th><th scope=col>angus</th><th scope=col>age</th><th scope=col>icu_order</th><th scope=col>echo_time</th><th scope=col>⋯</th><th scope=col>lab_pco2_flag</th><th scope=col>lab_creatinine_flag</th><th scope=col>lab_potassium_flag</th><th scope=col>lab_troponin_flag</th><th scope=col>lab_po2_flag</th><th scope=col>lab_lactate_flag</th><th scope=col>echo_int</th><th scope=col>mort_28_day_int</th><th scope=col>ps</th><th scope=col>ps_weight</th></tr></thead>\n",
       "<tbody>\n",
       "\t<tr><td>228416             </td><td>159895             </td><td> 5491              </td><td>MICU               </td><td>2151-06-29 01:18:27</td><td>2151-07-27 16:00:56</td><td>1                  </td><td>76.58225           </td><td>1                  </td><td>2151-06-30         </td><td>⋯                  </td><td>1                  </td><td>1                  </td><td>1                  </td><td>0                  </td><td>1                  </td><td>1                  </td><td>1                  </td><td>0                  </td><td>0.5525232          </td><td>1.809879           </td></tr>\n",
       "\t<tr><td>278148             </td><td>169700             </td><td>49395              </td><td>MICU               </td><td>2197-01-09 00:45:42</td><td>2197-01-10 06:46:29</td><td>1                  </td><td>82.72606           </td><td>1                  </td><td>NA                 </td><td>⋯                  </td><td>0                  </td><td>1                  </td><td>1                  </td><td>0                  </td><td>0                  </td><td>0                  </td><td>0                  </td><td>1                  </td><td>0.2804613          </td><td>1.389779           </td></tr>\n",
       "\t<tr><td>274174             </td><td>103722             </td><td>14855              </td><td>MICU               </td><td>2181-09-08 23:43:13</td><td>2181-09-26 16:52:02</td><td>1                  </td><td>61.84390           </td><td>1                  </td><td>2181-09-11         </td><td>⋯                  </td><td>1                  </td><td>1                  </td><td>1                  </td><td>0                  </td><td>1                  </td><td>1                  </td><td>1                  </td><td>0                  </td><td>0.3012020          </td><td>3.320031           </td></tr>\n",
       "\t<tr><td>214954             </td><td>170515             </td><td>54642              </td><td>MICU               </td><td>2176-03-11 04:58:23</td><td>2176-03-15 18:00:48</td><td>1                  </td><td>63.86507           </td><td>1                  </td><td>2176-03-11         </td><td>⋯                  </td><td>1                  </td><td>1                  </td><td>1                  </td><td>1                  </td><td>1                  </td><td>1                  </td><td>1                  </td><td>0                  </td><td>0.7982833          </td><td>1.252688           </td></tr>\n",
       "\t<tr><td>222457             </td><td>183493             </td><td>96815              </td><td>MICU               </td><td>2105-06-04 20:57:55</td><td>2105-06-06 20:01:51</td><td>1                  </td><td>62.84018           </td><td>1                  </td><td>NA                 </td><td>⋯                  </td><td>0                  </td><td>1                  </td><td>1                  </td><td>0                  </td><td>0                  </td><td>0                  </td><td>0                  </td><td>0                  </td><td>0.2244447          </td><td>1.289399           </td></tr>\n",
       "\t<tr><td>264413             </td><td>134244             </td><td>81436              </td><td>MICU               </td><td>2133-03-27 16:31:37</td><td>2133-04-04 16:15:28</td><td>1                  </td><td>62.60148           </td><td>1                  </td><td>2133-03-31         </td><td>⋯                  </td><td>0                  </td><td>1                  </td><td>1                  </td><td>0                  </td><td>0                  </td><td>1                  </td><td>1                  </td><td>0                  </td><td>0.3320492          </td><td>3.011602           </td></tr>\n",
       "</tbody>\n",
       "</table>\n"
      ],
      "text/latex": [
       "\\begin{tabular}{r|llllllllllllllllllllllllllllllllllllllllllllllllllllllllllllllllllllllllllllllllllllllllllllllllllllllllllllllllllllllllllllllllllllll}\n",
       " icustay\\_id & hadm\\_id & subject\\_id & first\\_careunit & intime & outtime & angus & age & icu\\_order & echo\\_time & ⋯ & lab\\_pco2\\_flag & lab\\_creatinine\\_flag & lab\\_potassium\\_flag & lab\\_troponin\\_flag & lab\\_po2\\_flag & lab\\_lactate\\_flag & echo\\_int & mort\\_28\\_day\\_int & ps & ps\\_weight\\\\\n",
       "\\hline\n",
       "\t 228416              & 159895              &  5491               & MICU                & 2151-06-29 01:18:27 & 2151-07-27 16:00:56 & 1                   & 76.58225            & 1                   & 2151-06-30          & ⋯                   & 1                   & 1                   & 1                   & 0                   & 1                   & 1                   & 1                   & 0                   & 0.5525232           & 1.809879           \\\\\n",
       "\t 278148              & 169700              & 49395               & MICU                & 2197-01-09 00:45:42 & 2197-01-10 06:46:29 & 1                   & 82.72606            & 1                   & NA                  & ⋯                   & 0                   & 1                   & 1                   & 0                   & 0                   & 0                   & 0                   & 1                   & 0.2804613           & 1.389779           \\\\\n",
       "\t 274174              & 103722              & 14855               & MICU                & 2181-09-08 23:43:13 & 2181-09-26 16:52:02 & 1                   & 61.84390            & 1                   & 2181-09-11          & ⋯                   & 1                   & 1                   & 1                   & 0                   & 1                   & 1                   & 1                   & 0                   & 0.3012020           & 3.320031           \\\\\n",
       "\t 214954              & 170515              & 54642               & MICU                & 2176-03-11 04:58:23 & 2176-03-15 18:00:48 & 1                   & 63.86507            & 1                   & 2176-03-11          & ⋯                   & 1                   & 1                   & 1                   & 1                   & 1                   & 1                   & 1                   & 0                   & 0.7982833           & 1.252688           \\\\\n",
       "\t 222457              & 183493              & 96815               & MICU                & 2105-06-04 20:57:55 & 2105-06-06 20:01:51 & 1                   & 62.84018            & 1                   & NA                  & ⋯                   & 0                   & 1                   & 1                   & 0                   & 0                   & 0                   & 0                   & 0                   & 0.2244447           & 1.289399           \\\\\n",
       "\t 264413              & 134244              & 81436               & MICU                & 2133-03-27 16:31:37 & 2133-04-04 16:15:28 & 1                   & 62.60148            & 1                   & 2133-03-31          & ⋯                   & 0                   & 1                   & 1                   & 0                   & 0                   & 1                   & 1                   & 0                   & 0.3320492           & 3.011602           \\\\\n",
       "\\end{tabular}\n"
      ],
      "text/markdown": [
       "\n",
       "icustay_id | hadm_id | subject_id | first_careunit | intime | outtime | angus | age | icu_order | echo_time | ⋯ | lab_pco2_flag | lab_creatinine_flag | lab_potassium_flag | lab_troponin_flag | lab_po2_flag | lab_lactate_flag | echo_int | mort_28_day_int | ps | ps_weight | \n",
       "|---|---|---|---|---|---|\n",
       "| 228416              | 159895              |  5491               | MICU                | 2151-06-29 01:18:27 | 2151-07-27 16:00:56 | 1                   | 76.58225            | 1                   | 2151-06-30          | ⋯                   | 1                   | 1                   | 1                   | 0                   | 1                   | 1                   | 1                   | 0                   | 0.5525232           | 1.809879            | \n",
       "| 278148              | 169700              | 49395               | MICU                | 2197-01-09 00:45:42 | 2197-01-10 06:46:29 | 1                   | 82.72606            | 1                   | NA                  | ⋯                   | 0                   | 1                   | 1                   | 0                   | 0                   | 0                   | 0                   | 1                   | 0.2804613           | 1.389779            | \n",
       "| 274174              | 103722              | 14855               | MICU                | 2181-09-08 23:43:13 | 2181-09-26 16:52:02 | 1                   | 61.84390            | 1                   | 2181-09-11          | ⋯                   | 1                   | 1                   | 1                   | 0                   | 1                   | 1                   | 1                   | 0                   | 0.3012020           | 3.320031            | \n",
       "| 214954              | 170515              | 54642               | MICU                | 2176-03-11 04:58:23 | 2176-03-15 18:00:48 | 1                   | 63.86507            | 1                   | 2176-03-11          | ⋯                   | 1                   | 1                   | 1                   | 1                   | 1                   | 1                   | 1                   | 0                   | 0.7982833           | 1.252688            | \n",
       "| 222457              | 183493              | 96815               | MICU                | 2105-06-04 20:57:55 | 2105-06-06 20:01:51 | 1                   | 62.84018            | 1                   | NA                  | ⋯                   | 0                   | 1                   | 1                   | 0                   | 0                   | 0                   | 0                   | 0                   | 0.2244447           | 1.289399            | \n",
       "| 264413              | 134244              | 81436               | MICU                | 2133-03-27 16:31:37 | 2133-04-04 16:15:28 | 1                   | 62.60148            | 1                   | 2133-03-31          | ⋯                   | 0                   | 1                   | 1                   | 0                   | 0                   | 1                   | 1                   | 0                   | 0.3320492           | 3.011602            | \n",
       "\n",
       "\n"
      ],
      "text/plain": [
       "  icustay_id hadm_id subject_id first_careunit intime             \n",
       "1 228416     159895   5491      MICU           2151-06-29 01:18:27\n",
       "2 278148     169700  49395      MICU           2197-01-09 00:45:42\n",
       "3 274174     103722  14855      MICU           2181-09-08 23:43:13\n",
       "4 214954     170515  54642      MICU           2176-03-11 04:58:23\n",
       "5 222457     183493  96815      MICU           2105-06-04 20:57:55\n",
       "6 264413     134244  81436      MICU           2133-03-27 16:31:37\n",
       "  outtime             angus age      icu_order echo_time  ⋯ lab_pco2_flag\n",
       "1 2151-07-27 16:00:56 1     76.58225 1         2151-06-30 ⋯ 1            \n",
       "2 2197-01-10 06:46:29 1     82.72606 1         <NA>       ⋯ 0            \n",
       "3 2181-09-26 16:52:02 1     61.84390 1         2181-09-11 ⋯ 1            \n",
       "4 2176-03-15 18:00:48 1     63.86507 1         2176-03-11 ⋯ 1            \n",
       "5 2105-06-06 20:01:51 1     62.84018 1         <NA>       ⋯ 0            \n",
       "6 2133-04-04 16:15:28 1     62.60148 1         2133-03-31 ⋯ 0            \n",
       "  lab_creatinine_flag lab_potassium_flag lab_troponin_flag lab_po2_flag\n",
       "1 1                   1                  0                 1           \n",
       "2 1                   1                  0                 0           \n",
       "3 1                   1                  0                 1           \n",
       "4 1                   1                  1                 1           \n",
       "5 1                   1                  0                 0           \n",
       "6 1                   1                  0                 0           \n",
       "  lab_lactate_flag echo_int mort_28_day_int ps        ps_weight\n",
       "1 1                1        0               0.5525232 1.809879 \n",
       "2 0                0        1               0.2804613 1.389779 \n",
       "3 1                1        0               0.3012020 3.320031 \n",
       "4 1                1        0               0.7982833 1.252688 \n",
       "5 0                0        0               0.2244447 1.289399 \n",
       "6 1                1        0               0.3320492 3.011602 "
      ]
     },
     "metadata": {},
     "output_type": "display_data"
    }
   ],
   "source": [
    "full_data <- readRDS(file.path(data_dir, \"full_data_ps.rds\"))\n",
    "head(full_data)"
   ]
  },
  {
   "cell_type": "code",
   "execution_count": 6,
   "metadata": {},
   "outputs": [
    {
     "data": {
      "text/html": [
       "<table>\n",
       "<thead><tr><th scope=col>icustay_id</th><th scope=col>group</th><th scope=col>match</th></tr></thead>\n",
       "<tbody>\n",
       "\t<tr><td>262436</td><td>ctrl  </td><td>1     </td></tr>\n",
       "\t<tr><td>244460</td><td>ctrl  </td><td>2     </td></tr>\n",
       "\t<tr><td>298177</td><td>ctrl  </td><td>3     </td></tr>\n",
       "\t<tr><td>290165</td><td>ctrl  </td><td>4     </td></tr>\n",
       "\t<tr><td>278397</td><td>ctrl  </td><td>5     </td></tr>\n",
       "\t<tr><td>212022</td><td>ctrl  </td><td>6     </td></tr>\n",
       "</tbody>\n",
       "</table>\n"
      ],
      "text/latex": [
       "\\begin{tabular}{r|lll}\n",
       " icustay\\_id & group & match\\\\\n",
       "\\hline\n",
       "\t 262436 & ctrl   & 1     \\\\\n",
       "\t 244460 & ctrl   & 2     \\\\\n",
       "\t 298177 & ctrl   & 3     \\\\\n",
       "\t 290165 & ctrl   & 4     \\\\\n",
       "\t 278397 & ctrl   & 5     \\\\\n",
       "\t 212022 & ctrl   & 6     \\\\\n",
       "\\end{tabular}\n"
      ],
      "text/markdown": [
       "\n",
       "icustay_id | group | match | \n",
       "|---|---|---|---|---|---|\n",
       "| 262436 | ctrl   | 1      | \n",
       "| 244460 | ctrl   | 2      | \n",
       "| 298177 | ctrl   | 3      | \n",
       "| 290165 | ctrl   | 4      | \n",
       "| 278397 | ctrl   | 5      | \n",
       "| 212022 | ctrl   | 6      | \n",
       "\n",
       "\n"
      ],
      "text/plain": [
       "  icustay_id group match\n",
       "1 262436     ctrl  1    \n",
       "2 244460     ctrl  2    \n",
       "3 298177     ctrl  3    \n",
       "4 290165     ctrl  4    \n",
       "5 278397     ctrl  5    \n",
       "6 212022     ctrl  6    "
      ]
     },
     "metadata": {},
     "output_type": "display_data"
    }
   ],
   "source": [
    "ps_matches_df <- data.table::fread(file.path(data_dir, \"ps_matches_df.csv\"), data.table = FALSE)\n",
    "\n",
    "head(ps_matches_df)"
   ]
  },
  {
   "cell_type": "code",
   "execution_count": 7,
   "metadata": {},
   "outputs": [
    {
     "data": {
      "text/html": [
       "<table>\n",
       "<thead><tr><th scope=col>icustay_id</th><th scope=col>match</th></tr></thead>\n",
       "<tbody>\n",
       "\t<tr><td>262436</td><td>228416</td></tr>\n",
       "\t<tr><td>244460</td><td>274174</td></tr>\n",
       "\t<tr><td>298177</td><td>214954</td></tr>\n",
       "\t<tr><td>290165</td><td>264413</td></tr>\n",
       "\t<tr><td>278397</td><td>214106</td></tr>\n",
       "\t<tr><td>212022</td><td>266275</td></tr>\n",
       "</tbody>\n",
       "</table>\n"
      ],
      "text/latex": [
       "\\begin{tabular}{r|ll}\n",
       " icustay\\_id & match\\\\\n",
       "\\hline\n",
       "\t 262436 & 228416\\\\\n",
       "\t 244460 & 274174\\\\\n",
       "\t 298177 & 214954\\\\\n",
       "\t 290165 & 264413\\\\\n",
       "\t 278397 & 214106\\\\\n",
       "\t 212022 & 266275\\\\\n",
       "\\end{tabular}\n"
      ],
      "text/markdown": [
       "\n",
       "icustay_id | match | \n",
       "|---|---|---|---|---|---|\n",
       "| 262436 | 228416 | \n",
       "| 244460 | 274174 | \n",
       "| 298177 | 214954 | \n",
       "| 290165 | 264413 | \n",
       "| 278397 | 214106 | \n",
       "| 212022 | 266275 | \n",
       "\n",
       "\n"
      ],
      "text/plain": [
       "  icustay_id match \n",
       "1 262436     228416\n",
       "2 244460     274174\n",
       "3 298177     214954\n",
       "4 290165     264413\n",
       "5 278397     214106\n",
       "6 212022     266275"
      ]
     },
     "metadata": {},
     "output_type": "display_data"
    }
   ],
   "source": [
    "matches_df <- ps_matches_df %>%\n",
    "spread(group, icustay_id) %>%\n",
    "select(ctrl, trtd) %>%\n",
    "rename(icustay_id = ctrl, match = trtd)\n",
    "\n",
    "head(matches_df)"
   ]
  },
  {
   "cell_type": "code",
   "execution_count": 8,
   "metadata": {},
   "outputs": [],
   "source": [
    "features <- c(\"age\", \"gender\", \"first_careunit\", \"weight\",\n",
    "              \"saps\", \"sofa\", \"elix_score\", \"vent\", \"vaso\", \"sedative\",\n",
    "              \"icd_chf\", \"icd_afib\", \"icd_renal\", \"icd_liver\",\n",
    "              \"icd_copd\", \"icd_cad\", \"icd_stroke\", \"icd_malignancy\",\n",
    "              \"icu_adm_weekday\", \"icu_adm_hour\",\n",
    "              \"vs_map_first\", \"vs_heart_rate_first\", \"vs_temp_first\", \"vs_cvp_flag\",\n",
    "              \"lab_wbc_first\", \"lab_hemoglobin_first\", \"lab_platelet_first\",\n",
    "              \"lab_sodium_first\", \"lab_potassium_first\", \"lab_bicarbonate_first\",\n",
    "              \"lab_chloride_first\", \"lab_bun_first\", \"lab_lactate_first\",\n",
    "              \"lab_creatinine_first\", \"lab_ph_first\", \"lab_po2_first\", \"lab_pco2_first\",\n",
    "              \"lab_bnp_flag\", \"lab_troponin_flag\", \"lab_creatinine_kinase_flag\")"
   ]
  },
  {
   "cell_type": "code",
   "execution_count": 9,
   "metadata": {},
   "outputs": [
    {
     "data": {
      "text/html": [
       "<table>\n",
       "<thead><tr><th scope=col>icustay_id</th><th scope=col>age</th><th scope=col>gender</th><th scope=col>first careunit</th><th scope=col>weight</th><th scope=col>saps</th><th scope=col>sofa</th><th scope=col>elixhauser score</th><th scope=col>ventilation use</th><th scope=col>vasopressor use</th><th scope=col>⋯</th><th scope=col>chloride</th><th scope=col>bun</th><th scope=col>lactate</th><th scope=col>creatinine</th><th scope=col>ph</th><th scope=col>po2</th><th scope=col>pco2</th><th scope=col>bnp (tested)</th><th scope=col>troponin (tested)</th><th scope=col>creatinine kinase (tested)</th></tr></thead>\n",
       "<tbody>\n",
       "\t<tr><td>228416  </td><td>76.58225</td><td>M       </td><td>MICU    </td><td>  NA    </td><td>24      </td><td>3       </td><td>10      </td><td>1       </td><td>0       </td><td>⋯       </td><td> 92     </td><td>35      </td><td>1.4     </td><td>1.2     </td><td>7.50    </td><td> 98     </td><td>56      </td><td>0       </td><td>0       </td><td>0       </td></tr>\n",
       "\t<tr><td>278148  </td><td>82.72606</td><td>F       </td><td>MICU    </td><td>90.3    </td><td>25      </td><td>8       </td><td>15      </td><td>0       </td><td>0       </td><td>⋯       </td><td>113     </td><td>32      </td><td> NA     </td><td>1.6     </td><td>  NA    </td><td> NA     </td><td>NA      </td><td>0       </td><td>0       </td><td>0       </td></tr>\n",
       "\t<tr><td>274174  </td><td>61.84390</td><td>M       </td><td>MICU    </td><td>53.6    </td><td>20      </td><td>5       </td><td> 6      </td><td>0       </td><td>0       </td><td>⋯       </td><td> 90     </td><td>64      </td><td>1.6     </td><td>2.7     </td><td>7.38    </td><td>110     </td><td>40      </td><td>0       </td><td>0       </td><td>0       </td></tr>\n",
       "\t<tr><td>214954  </td><td>63.86507</td><td>M       </td><td>MICU    </td><td>92.9    </td><td>24      </td><td>8       </td><td> 6      </td><td>1       </td><td>1       </td><td>⋯       </td><td>111     </td><td>34      </td><td>3.8     </td><td>1.3     </td><td>7.20    </td><td> 85     </td><td>42      </td><td>0       </td><td>1       </td><td>1       </td></tr>\n",
       "\t<tr><td>222457  </td><td>62.84018</td><td>F       </td><td>MICU    </td><td>75.0    </td><td>10      </td><td>1       </td><td> 6      </td><td>0       </td><td>0       </td><td>⋯       </td><td>112     </td><td>17      </td><td> NA     </td><td>0.9     </td><td>  NA    </td><td> NA     </td><td>NA      </td><td>0       </td><td>0       </td><td>0       </td></tr>\n",
       "\t<tr><td>264413  </td><td>62.60148</td><td>F       </td><td>MICU    </td><td>80.0    </td><td>15      </td><td>4       </td><td> 2      </td><td>0       </td><td>1       </td><td>⋯       </td><td>103     </td><td>17      </td><td>1.4     </td><td>0.8     </td><td>  NA    </td><td> NA     </td><td>NA      </td><td>0       </td><td>0       </td><td>0       </td></tr>\n",
       "</tbody>\n",
       "</table>\n"
      ],
      "text/latex": [
       "\\begin{tabular}{r|lllllllllllllllllllllllllllllllllllllllll}\n",
       " icustay\\_id & age & gender & first careunit & weight & saps & sofa & elixhauser score & ventilation use & vasopressor use & ⋯ & chloride & bun & lactate & creatinine & ph & po2 & pco2 & bnp (tested) & troponin (tested) & creatinine kinase (tested)\\\\\n",
       "\\hline\n",
       "\t 228416   & 76.58225 & M        & MICU     &   NA     & 24       & 3        & 10       & 1        & 0        & ⋯        &  92      & 35       & 1.4      & 1.2      & 7.50     &  98      & 56       & 0        & 0        & 0       \\\\\n",
       "\t 278148   & 82.72606 & F        & MICU     & 90.3     & 25       & 8        & 15       & 0        & 0        & ⋯        & 113      & 32       &  NA      & 1.6      &   NA     &  NA      & NA       & 0        & 0        & 0       \\\\\n",
       "\t 274174   & 61.84390 & M        & MICU     & 53.6     & 20       & 5        &  6       & 0        & 0        & ⋯        &  90      & 64       & 1.6      & 2.7      & 7.38     & 110      & 40       & 0        & 0        & 0       \\\\\n",
       "\t 214954   & 63.86507 & M        & MICU     & 92.9     & 24       & 8        &  6       & 1        & 1        & ⋯        & 111      & 34       & 3.8      & 1.3      & 7.20     &  85      & 42       & 0        & 1        & 1       \\\\\n",
       "\t 222457   & 62.84018 & F        & MICU     & 75.0     & 10       & 1        &  6       & 0        & 0        & ⋯        & 112      & 17       &  NA      & 0.9      &   NA     &  NA      & NA       & 0        & 0        & 0       \\\\\n",
       "\t 264413   & 62.60148 & F        & MICU     & 80.0     & 15       & 4        &  2       & 0        & 1        & ⋯        & 103      & 17       & 1.4      & 0.8      &   NA     &  NA      & NA       & 0        & 0        & 0       \\\\\n",
       "\\end{tabular}\n"
      ],
      "text/markdown": [
       "\n",
       "icustay_id | age | gender | first careunit | weight | saps | sofa | elixhauser score | ventilation use | vasopressor use | ⋯ | chloride | bun | lactate | creatinine | ph | po2 | pco2 | bnp (tested) | troponin (tested) | creatinine kinase (tested) | \n",
       "|---|---|---|---|---|---|\n",
       "| 228416   | 76.58225 | M        | MICU     |   NA     | 24       | 3        | 10       | 1        | 0        | ⋯        |  92      | 35       | 1.4      | 1.2      | 7.50     |  98      | 56       | 0        | 0        | 0        | \n",
       "| 278148   | 82.72606 | F        | MICU     | 90.3     | 25       | 8        | 15       | 0        | 0        | ⋯        | 113      | 32       |  NA      | 1.6      |   NA     |  NA      | NA       | 0        | 0        | 0        | \n",
       "| 274174   | 61.84390 | M        | MICU     | 53.6     | 20       | 5        |  6       | 0        | 0        | ⋯        |  90      | 64       | 1.6      | 2.7      | 7.38     | 110      | 40       | 0        | 0        | 0        | \n",
       "| 214954   | 63.86507 | M        | MICU     | 92.9     | 24       | 8        |  6       | 1        | 1        | ⋯        | 111      | 34       | 3.8      | 1.3      | 7.20     |  85      | 42       | 0        | 1        | 1        | \n",
       "| 222457   | 62.84018 | F        | MICU     | 75.0     | 10       | 1        |  6       | 0        | 0        | ⋯        | 112      | 17       |  NA      | 0.9      |   NA     |  NA      | NA       | 0        | 0        | 0        | \n",
       "| 264413   | 62.60148 | F        | MICU     | 80.0     | 15       | 4        |  2       | 0        | 1        | ⋯        | 103      | 17       | 1.4      | 0.8      |   NA     |  NA      | NA       | 0        | 0        | 0        | \n",
       "\n",
       "\n"
      ],
      "text/plain": [
       "  icustay_id age      gender first careunit weight saps sofa elixhauser score\n",
       "1 228416     76.58225 M      MICU             NA   24   3    10              \n",
       "2 278148     82.72606 F      MICU           90.3   25   8    15              \n",
       "3 274174     61.84390 M      MICU           53.6   20   5     6              \n",
       "4 214954     63.86507 M      MICU           92.9   24   8     6              \n",
       "5 222457     62.84018 F      MICU           75.0   10   1     6              \n",
       "6 264413     62.60148 F      MICU           80.0   15   4     2              \n",
       "  ventilation use vasopressor use ⋯ chloride bun lactate creatinine ph   po2\n",
       "1 1               0               ⋯  92      35  1.4     1.2        7.50  98\n",
       "2 0               0               ⋯ 113      32   NA     1.6          NA  NA\n",
       "3 0               0               ⋯  90      64  1.6     2.7        7.38 110\n",
       "4 1               1               ⋯ 111      34  3.8     1.3        7.20  85\n",
       "5 0               0               ⋯ 112      17   NA     0.9          NA  NA\n",
       "6 0               1               ⋯ 103      17  1.4     0.8          NA  NA\n",
       "  pco2 bnp (tested) troponin (tested) creatinine kinase (tested)\n",
       "1 56   0            0                 0                         \n",
       "2 NA   0            0                 0                         \n",
       "3 40   0            0                 0                         \n",
       "4 42   0            1                 1                         \n",
       "5 NA   0            0                 0                         \n",
       "6 NA   0            0                 0                         "
      ]
     },
     "metadata": {},
     "output_type": "display_data"
    },
    {
     "data": {
      "text/html": [
       "<ol class=list-inline>\n",
       "\t<li>'icustay_id'</li>\n",
       "\t<li>'age'</li>\n",
       "\t<li>'gender'</li>\n",
       "\t<li>'first careunit'</li>\n",
       "\t<li>'weight'</li>\n",
       "\t<li>'saps'</li>\n",
       "\t<li>'sofa'</li>\n",
       "\t<li>'elixhauser score'</li>\n",
       "\t<li>'ventilation use'</li>\n",
       "\t<li>'vasopressor use'</li>\n",
       "\t<li>'sedative use'</li>\n",
       "\t<li>'chf'</li>\n",
       "\t<li>'afib'</li>\n",
       "\t<li>'renal'</li>\n",
       "\t<li>'liver'</li>\n",
       "\t<li>'copd'</li>\n",
       "\t<li>'cad'</li>\n",
       "\t<li>'stroke'</li>\n",
       "\t<li>'malignancy'</li>\n",
       "\t<li>'icu adm weekday'</li>\n",
       "\t<li>'icu adm hour'</li>\n",
       "\t<li>'map'</li>\n",
       "\t<li>'heart rate'</li>\n",
       "\t<li>'temp'</li>\n",
       "\t<li>'cvp (measured)'</li>\n",
       "\t<li>'wbc'</li>\n",
       "\t<li>'hemoglobin'</li>\n",
       "\t<li>'platelet'</li>\n",
       "\t<li>'sodium'</li>\n",
       "\t<li>'potassium'</li>\n",
       "\t<li>'bicarbonate'</li>\n",
       "\t<li>'chloride'</li>\n",
       "\t<li>'bun'</li>\n",
       "\t<li>'lactate'</li>\n",
       "\t<li>'creatinine'</li>\n",
       "\t<li>'ph'</li>\n",
       "\t<li>'po2'</li>\n",
       "\t<li>'pco2'</li>\n",
       "\t<li>'bnp (tested)'</li>\n",
       "\t<li>'troponin (tested)'</li>\n",
       "\t<li>'creatinine kinase (tested)'</li>\n",
       "</ol>\n"
      ],
      "text/latex": [
       "\\begin{enumerate*}\n",
       "\\item 'icustay\\_id'\n",
       "\\item 'age'\n",
       "\\item 'gender'\n",
       "\\item 'first careunit'\n",
       "\\item 'weight'\n",
       "\\item 'saps'\n",
       "\\item 'sofa'\n",
       "\\item 'elixhauser score'\n",
       "\\item 'ventilation use'\n",
       "\\item 'vasopressor use'\n",
       "\\item 'sedative use'\n",
       "\\item 'chf'\n",
       "\\item 'afib'\n",
       "\\item 'renal'\n",
       "\\item 'liver'\n",
       "\\item 'copd'\n",
       "\\item 'cad'\n",
       "\\item 'stroke'\n",
       "\\item 'malignancy'\n",
       "\\item 'icu adm weekday'\n",
       "\\item 'icu adm hour'\n",
       "\\item 'map'\n",
       "\\item 'heart rate'\n",
       "\\item 'temp'\n",
       "\\item 'cvp (measured)'\n",
       "\\item 'wbc'\n",
       "\\item 'hemoglobin'\n",
       "\\item 'platelet'\n",
       "\\item 'sodium'\n",
       "\\item 'potassium'\n",
       "\\item 'bicarbonate'\n",
       "\\item 'chloride'\n",
       "\\item 'bun'\n",
       "\\item 'lactate'\n",
       "\\item 'creatinine'\n",
       "\\item 'ph'\n",
       "\\item 'po2'\n",
       "\\item 'pco2'\n",
       "\\item 'bnp (tested)'\n",
       "\\item 'troponin (tested)'\n",
       "\\item 'creatinine kinase (tested)'\n",
       "\\end{enumerate*}\n"
      ],
      "text/markdown": [
       "1. 'icustay_id'\n",
       "2. 'age'\n",
       "3. 'gender'\n",
       "4. 'first careunit'\n",
       "5. 'weight'\n",
       "6. 'saps'\n",
       "7. 'sofa'\n",
       "8. 'elixhauser score'\n",
       "9. 'ventilation use'\n",
       "10. 'vasopressor use'\n",
       "11. 'sedative use'\n",
       "12. 'chf'\n",
       "13. 'afib'\n",
       "14. 'renal'\n",
       "15. 'liver'\n",
       "16. 'copd'\n",
       "17. 'cad'\n",
       "18. 'stroke'\n",
       "19. 'malignancy'\n",
       "20. 'icu adm weekday'\n",
       "21. 'icu adm hour'\n",
       "22. 'map'\n",
       "23. 'heart rate'\n",
       "24. 'temp'\n",
       "25. 'cvp (measured)'\n",
       "26. 'wbc'\n",
       "27. 'hemoglobin'\n",
       "28. 'platelet'\n",
       "29. 'sodium'\n",
       "30. 'potassium'\n",
       "31. 'bicarbonate'\n",
       "32. 'chloride'\n",
       "33. 'bun'\n",
       "34. 'lactate'\n",
       "35. 'creatinine'\n",
       "36. 'ph'\n",
       "37. 'po2'\n",
       "38. 'pco2'\n",
       "39. 'bnp (tested)'\n",
       "40. 'troponin (tested)'\n",
       "41. 'creatinine kinase (tested)'\n",
       "\n",
       "\n"
      ],
      "text/plain": [
       " [1] \"icustay_id\"                 \"age\"                       \n",
       " [3] \"gender\"                     \"first careunit\"            \n",
       " [5] \"weight\"                     \"saps\"                      \n",
       " [7] \"sofa\"                       \"elixhauser score\"          \n",
       " [9] \"ventilation use\"            \"vasopressor use\"           \n",
       "[11] \"sedative use\"               \"chf\"                       \n",
       "[13] \"afib\"                       \"renal\"                     \n",
       "[15] \"liver\"                      \"copd\"                      \n",
       "[17] \"cad\"                        \"stroke\"                    \n",
       "[19] \"malignancy\"                 \"icu adm weekday\"           \n",
       "[21] \"icu adm hour\"               \"map\"                       \n",
       "[23] \"heart rate\"                 \"temp\"                      \n",
       "[25] \"cvp (measured)\"             \"wbc\"                       \n",
       "[27] \"hemoglobin\"                 \"platelet\"                  \n",
       "[29] \"sodium\"                     \"potassium\"                 \n",
       "[31] \"bicarbonate\"                \"chloride\"                  \n",
       "[33] \"bun\"                        \"lactate\"                   \n",
       "[35] \"creatinine\"                 \"ph\"                        \n",
       "[37] \"po2\"                        \"pco2\"                      \n",
       "[39] \"bnp (tested)\"               \"troponin (tested)\"         \n",
       "[41] \"creatinine kinase (tested)\""
      ]
     },
     "metadata": {},
     "output_type": "display_data"
    }
   ],
   "source": [
    "covariates <- full_data %>%\n",
    "select(c(\"icustay_id\", features))\n",
    "\n",
    "names(covariates) <- names(covariates) %>%\n",
    "str_replace_all(\"lab_|vs_|icd_|_first\", \" \") %>%\n",
    "str_replace_all(\"_\", \" \") %>%\n",
    "str_replace_all(\"\\\\s+$|^\\\\s+\", \"\") %>%\n",
    "str_replace_all(\"vent\", \"ventilation use\") %>%\n",
    "str_replace_all(\"vaso\", \"vasopressor use\") %>%\n",
    "str_replace_all(\"sedative\", \"sedative use\") %>%\n",
    "str_replace_all(\"elix score\", \"elixhauser score\") %>%\n",
    "str_replace_all(\"flag\", \"(tested)\") %>%\n",
    "str_replace_all(\"cvp \\\\(tested\\\\)\", \"cvp (measured)\") %>%\n",
    "str_replace_all(\"icustay id\", \"icustay_id\")\n",
    "\n",
    "head(covariates)\n",
    "names(covariates)"
   ]
  },
  {
   "cell_type": "code",
   "execution_count": 10,
   "metadata": {},
   "outputs": [
    {
     "data": {
      "text/html": [
       "<table>\n",
       "<thead><tr><th scope=col>icustay_id</th><th scope=col>echo</th><th scope=col>icu length of stay</th><th scope=col>28 day mortality</th><th scope=col>ventilation free days (28 days)</th><th scope=col>match id</th><th scope=col>propensity score</th><th scope=col>age</th><th scope=col>gender</th><th scope=col>first careunit</th><th scope=col>⋯</th><th scope=col>chloride</th><th scope=col>bun</th><th scope=col>lactate</th><th scope=col>creatinine</th><th scope=col>ph</th><th scope=col>po2</th><th scope=col>pco2</th><th scope=col>bnp (tested)</th><th scope=col>troponin (tested)</th><th scope=col>creatinine kinase (tested)</th></tr></thead>\n",
       "<tbody>\n",
       "\t<tr><td>228416   </td><td>1        </td><td>28.612836</td><td>0        </td><td> 7.581632</td><td>    NA   </td><td>0.5525232</td><td>76.58225 </td><td>M        </td><td>MICU     </td><td>⋯        </td><td> 92      </td><td>35       </td><td>1.4      </td><td>1.2      </td><td>7.50     </td><td> 98      </td><td>56       </td><td>0        </td><td>0        </td><td>0        </td></tr>\n",
       "\t<tr><td>278148   </td><td>0        </td><td> 1.250544</td><td>1        </td><td> 0.000000</td><td>233959   </td><td>0.2804613</td><td>82.72606 </td><td>F        </td><td>MICU     </td><td>⋯        </td><td>113      </td><td>32       </td><td> NA      </td><td>1.6      </td><td>  NA     </td><td> NA      </td><td>NA       </td><td>0        </td><td>0        </td><td>0        </td></tr>\n",
       "\t<tr><td>274174   </td><td>1        </td><td>17.714456</td><td>0        </td><td>28.000000</td><td>    NA   </td><td>0.3012020</td><td>61.84390 </td><td>M        </td><td>MICU     </td><td>⋯        </td><td> 90      </td><td>64       </td><td>1.6      </td><td>2.7      </td><td>7.38     </td><td>110      </td><td>40       </td><td>0        </td><td>0        </td><td>0        </td></tr>\n",
       "\t<tr><td>214954   </td><td>1        </td><td> 4.543345</td><td>0        </td><td>24.854167</td><td>    NA   </td><td>0.7982833</td><td>63.86507 </td><td>M        </td><td>MICU     </td><td>⋯        </td><td>111      </td><td>34       </td><td>3.8      </td><td>1.3      </td><td>7.20     </td><td> 85      </td><td>42       </td><td>0        </td><td>1        </td><td>1        </td></tr>\n",
       "\t<tr><td>222457   </td><td>0        </td><td> 1.961065</td><td>0        </td><td>28.000000</td><td>272569   </td><td>0.2244447</td><td>62.84018 </td><td>F        </td><td>MICU     </td><td>⋯        </td><td>112      </td><td>17       </td><td> NA      </td><td>0.9      </td><td>  NA     </td><td> NA      </td><td>NA       </td><td>0        </td><td>0        </td><td>0        </td></tr>\n",
       "\t<tr><td>264413   </td><td>1        </td><td> 7.988785</td><td>0        </td><td>24.250000</td><td>    NA   </td><td>0.3320492</td><td>62.60148 </td><td>F        </td><td>MICU     </td><td>⋯        </td><td>103      </td><td>17       </td><td>1.4      </td><td>0.8      </td><td>  NA     </td><td> NA      </td><td>NA       </td><td>0        </td><td>0        </td><td>0        </td></tr>\n",
       "</tbody>\n",
       "</table>\n"
      ],
      "text/latex": [
       "\\begin{tabular}{r|lllllllllllllllllllllllllllllllllllllllllllllll}\n",
       " icustay\\_id & echo & icu length of stay & 28 day mortality & ventilation free days (28 days) & match id & propensity score & age & gender & first careunit & ⋯ & chloride & bun & lactate & creatinine & ph & po2 & pco2 & bnp (tested) & troponin (tested) & creatinine kinase (tested)\\\\\n",
       "\\hline\n",
       "\t 228416    & 1         & 28.612836 & 0         &  7.581632 &     NA    & 0.5525232 & 76.58225  & M         & MICU      & ⋯         &  92       & 35        & 1.4       & 1.2       & 7.50      &  98       & 56        & 0         & 0         & 0        \\\\\n",
       "\t 278148    & 0         &  1.250544 & 1         &  0.000000 & 233959    & 0.2804613 & 82.72606  & F         & MICU      & ⋯         & 113       & 32        &  NA       & 1.6       &   NA      &  NA       & NA        & 0         & 0         & 0        \\\\\n",
       "\t 274174    & 1         & 17.714456 & 0         & 28.000000 &     NA    & 0.3012020 & 61.84390  & M         & MICU      & ⋯         &  90       & 64        & 1.6       & 2.7       & 7.38      & 110       & 40        & 0         & 0         & 0        \\\\\n",
       "\t 214954    & 1         &  4.543345 & 0         & 24.854167 &     NA    & 0.7982833 & 63.86507  & M         & MICU      & ⋯         & 111       & 34        & 3.8       & 1.3       & 7.20      &  85       & 42        & 0         & 1         & 1        \\\\\n",
       "\t 222457    & 0         &  1.961065 & 0         & 28.000000 & 272569    & 0.2244447 & 62.84018  & F         & MICU      & ⋯         & 112       & 17        &  NA       & 0.9       &   NA      &  NA       & NA        & 0         & 0         & 0        \\\\\n",
       "\t 264413    & 1         &  7.988785 & 0         & 24.250000 &     NA    & 0.3320492 & 62.60148  & F         & MICU      & ⋯         & 103       & 17        & 1.4       & 0.8       &   NA      &  NA       & NA        & 0         & 0         & 0        \\\\\n",
       "\\end{tabular}\n"
      ],
      "text/markdown": [
       "\n",
       "icustay_id | echo | icu length of stay | 28 day mortality | ventilation free days (28 days) | match id | propensity score | age | gender | first careunit | ⋯ | chloride | bun | lactate | creatinine | ph | po2 | pco2 | bnp (tested) | troponin (tested) | creatinine kinase (tested) | \n",
       "|---|---|---|---|---|---|\n",
       "| 228416    | 1         | 28.612836 | 0         |  7.581632 |     NA    | 0.5525232 | 76.58225  | M         | MICU      | ⋯         |  92       | 35        | 1.4       | 1.2       | 7.50      |  98       | 56        | 0         | 0         | 0         | \n",
       "| 278148    | 0         |  1.250544 | 1         |  0.000000 | 233959    | 0.2804613 | 82.72606  | F         | MICU      | ⋯         | 113       | 32        |  NA       | 1.6       |   NA      |  NA       | NA        | 0         | 0         | 0         | \n",
       "| 274174    | 1         | 17.714456 | 0         | 28.000000 |     NA    | 0.3012020 | 61.84390  | M         | MICU      | ⋯         |  90       | 64        | 1.6       | 2.7       | 7.38      | 110       | 40        | 0         | 0         | 0         | \n",
       "| 214954    | 1         |  4.543345 | 0         | 24.854167 |     NA    | 0.7982833 | 63.86507  | M         | MICU      | ⋯         | 111       | 34        | 3.8       | 1.3       | 7.20      |  85       | 42        | 0         | 1         | 1         | \n",
       "| 222457    | 0         |  1.961065 | 0         | 28.000000 | 272569    | 0.2244447 | 62.84018  | F         | MICU      | ⋯         | 112       | 17        |  NA       | 0.9       |   NA      |  NA       | NA        | 0         | 0         | 0         | \n",
       "| 264413    | 1         |  7.988785 | 0         | 24.250000 |     NA    | 0.3320492 | 62.60148  | F         | MICU      | ⋯         | 103       | 17        | 1.4       | 0.8       |   NA      |  NA       | NA        | 0         | 0         | 0         | \n",
       "\n",
       "\n"
      ],
      "text/plain": [
       "  icustay_id echo icu length of stay 28 day mortality\n",
       "1 228416     1    28.612836          0               \n",
       "2 278148     0     1.250544          1               \n",
       "3 274174     1    17.714456          0               \n",
       "4 214954     1     4.543345          0               \n",
       "5 222457     0     1.961065          0               \n",
       "6 264413     1     7.988785          0               \n",
       "  ventilation free days (28 days) match id propensity score age      gender\n",
       "1  7.581632                           NA   0.5525232        76.58225 M     \n",
       "2  0.000000                       233959   0.2804613        82.72606 F     \n",
       "3 28.000000                           NA   0.3012020        61.84390 M     \n",
       "4 24.854167                           NA   0.7982833        63.86507 M     \n",
       "5 28.000000                       272569   0.2244447        62.84018 F     \n",
       "6 24.250000                           NA   0.3320492        62.60148 F     \n",
       "  first careunit ⋯ chloride bun lactate creatinine ph   po2 pco2 bnp (tested)\n",
       "1 MICU           ⋯  92      35  1.4     1.2        7.50  98 56   0           \n",
       "2 MICU           ⋯ 113      32   NA     1.6          NA  NA NA   0           \n",
       "3 MICU           ⋯  90      64  1.6     2.7        7.38 110 40   0           \n",
       "4 MICU           ⋯ 111      34  3.8     1.3        7.20  85 42   0           \n",
       "5 MICU           ⋯ 112      17   NA     0.9          NA  NA NA   0           \n",
       "6 MICU           ⋯ 103      17  1.4     0.8          NA  NA NA   0           \n",
       "  troponin (tested) creatinine kinase (tested)\n",
       "1 0                 0                         \n",
       "2 0                 0                         \n",
       "3 0                 0                         \n",
       "4 1                 1                         \n",
       "5 0                 0                         \n",
       "6 0                 0                         "
      ]
     },
     "metadata": {},
     "output_type": "display_data"
    },
    {
     "name": "stdout",
     "output_type": "stream",
     "text": [
      "'data.frame':\t6361 obs. of  47 variables:\n",
      " $ icustay_id                     : int  228416 278148 274174 214954 222457 264413 252782 296006 214106 266275 ...\n",
      " $ echo                           : int  1 0 1 1 0 1 0 0 1 1 ...\n",
      " $ icu length of stay             : num  28.61 1.25 17.71 4.54 1.96 ...\n",
      " $ 28 day mortality               : int  0 1 0 0 0 0 0 0 1 0 ...\n",
      " $ ventilation free days (28 days): num  7.58 0 28 24.85 28 ...\n",
      " $ match id                       : int  NA 233959 NA NA 272569 NA 248199 NA NA NA ...\n",
      " $ propensity score               : num  0.553 0.28 0.301 0.798 0.224 ...\n",
      " $ age                            : num  76.6 82.7 61.8 63.9 62.8 ...\n",
      " $ gender                         : Factor w/ 2 levels \"M\",\"F\": 1 2 1 1 2 2 1 2 2 1 ...\n",
      " $ first careunit                 : Factor w/ 2 levels \"SICU\",\"MICU\": 2 2 2 2 2 2 2 2 2 2 ...\n",
      " $ weight                         : num  NA 90.3 53.6 92.9 75 80 60.8 56.6 61 82 ...\n",
      " $ saps                           : int  24 25 20 24 10 15 24 28 21 12 ...\n",
      " $ sofa                           : int  3 8 5 8 1 4 4 6 17 3 ...\n",
      " $ elixhauser score               : int  10 15 6 6 6 2 11 11 17 5 ...\n",
      " $ ventilation use                : Factor w/ 2 levels \"0\",\"1\": 2 1 1 2 1 1 2 1 2 1 ...\n",
      " $ vasopressor use                : Factor w/ 2 levels \"0\",\"1\": 1 1 1 2 1 2 1 1 2 1 ...\n",
      " $ sedative use                   : Factor w/ 2 levels \"0\",\"1\": 1 1 1 2 1 1 1 1 2 1 ...\n",
      " $ chf                            : Factor w/ 2 levels \"0\",\"1\": 2 1 1 1 1 1 1 1 1 1 ...\n",
      " $ afib                           : Factor w/ 2 levels \"0\",\"1\": 1 2 1 2 1 1 1 1 1 1 ...\n",
      " $ renal                          : Factor w/ 2 levels \"0\",\"1\": 1 1 1 1 1 1 1 1 1 1 ...\n",
      " $ liver                          : Factor w/ 2 levels \"0\",\"1\": 1 1 1 1 1 1 1 1 2 1 ...\n",
      " $ copd                           : Factor w/ 2 levels \"0\",\"1\": 1 1 2 1 1 1 1 1 1 1 ...\n",
      " $ cad                            : Factor w/ 2 levels \"0\",\"1\": 2 1 1 1 1 1 1 1 1 2 ...\n",
      " $ stroke                         : Factor w/ 2 levels \"0\",\"1\": 1 1 1 1 1 1 1 1 1 1 ...\n",
      " $ malignancy                     : Factor w/ 2 levels \"0\",\"1\": 1 2 1 1 1 1 1 1 1 1 ...\n",
      " $ icu adm weekday                : Factor w/ 7 levels \"sunday\",\"monday\",..: 3 2 7 2 5 6 7 7 7 4 ...\n",
      " $ icu adm hour                   : Factor w/ 24 levels \"0\",\"1\",\"2\",\"3\",..: 2 1 24 5 21 17 14 23 18 12 ...\n",
      " $ map                            : num  67.7 81 71 76 104 ...\n",
      " $ heart rate                     : num  59 143 97 111 108 125 69 95 120 108 ...\n",
      " $ temp                           : num  37.4 36.6 35.5 38.4 37.6 ...\n",
      " $ cvp (measured)                 : Factor w/ 2 levels \"0\",\"1\": 1 1 2 2 1 2 1 1 2 1 ...\n",
      " $ wbc                            : num  7.2 NA 9.1 39.6 10.7 16.6 12.9 14.6 14.2 4.7 ...\n",
      " $ hemoglobin                     : num  9.7 NA 10.1 12.8 9.9 9.2 12.8 12.3 11.1 11.1 ...\n",
      " $ platelet                       : num  434 NA 279 210 284 154 274 200 65 224 ...\n",
      " $ sodium                         : num  139 145 130 139 141 132 146 159 137 138 ...\n",
      " $ potassium                      : num  4.4 5.7 4.1 4.2 3.5 3.5 3.5 3.7 5 3.8 ...\n",
      " $ bicarbonate                    : num  40 17 23 18 20 21 21 18 18 27 ...\n",
      " $ chloride                       : num  92 113 90 111 112 103 113 132 114 104 ...\n",
      " $ bun                            : num  35 32 64 34 17 17 46 61 21 14 ...\n",
      " $ lactate                        : num  1.4 NA 1.6 3.8 NA 1.4 NA 1.5 1.5 NA ...\n",
      " $ creatinine                     : num  1.2 1.6 2.7 1.3 0.9 0.8 1.5 1 0.4 0.9 ...\n",
      " $ ph                             : num  7.5 NA 7.38 7.2 NA NA 7.43 7.47 7.38 NA ...\n",
      " $ po2                            : num  98 NA 110 85 NA NA 85 115 94 NA ...\n",
      " $ pco2                           : num  56 NA 40 42 NA NA 29 29 38 NA ...\n",
      " $ bnp (tested)                   : Factor w/ 2 levels \"0\",\"1\": 1 1 1 1 1 1 1 1 1 1 ...\n",
      " $ troponin (tested)              : Factor w/ 2 levels \"0\",\"1\": 1 1 1 2 1 1 2 1 2 1 ...\n",
      " $ creatinine kinase (tested)     : Factor w/ 2 levels \"0\",\"1\": 1 1 1 2 1 1 2 2 2 1 ...\n"
     ]
    }
   ],
   "source": [
    "result <- full_data %>%\n",
    "left_join(ventfreedays, by = \"icustay_id\") %>%\n",
    "left_join(matches_df, by = \"icustay_id\") %>%\n",
    "select(icustay_id, echo_int, icu_los_day, mort_28_day_int, ventfreeday28, match, ps) %>%\n",
    "setNames(c(\"icustay_id\", \"echo\", \"icu length of stay\", \"28 day mortality\",\n",
    "           \"ventilation free days (28 days)\", \"match id\", \"propensity score\")) %>%\n",
    "left_join(covariates, by = \"icustay_id\")\n",
    "\n",
    "head(result)\n",
    "str(result)"
   ]
  },
  {
   "cell_type": "code",
   "execution_count": 11,
   "metadata": {},
   "outputs": [],
   "source": [
    "data.table::fwrite(result, file.path(data_dir, \"ps_details.csv\"))"
   ]
  }
 ],
 "metadata": {
  "kernelspec": {
   "display_name": "R",
   "language": "R",
   "name": "ir"
  },
  "language_info": {
   "codemirror_mode": "r",
   "file_extension": ".r",
   "mimetype": "text/x-r-source",
   "name": "R",
   "pygments_lexer": "r",
   "version": "3.4.4"
  },
  "varInspector": {
   "cols": {
    "lenName": 16,
    "lenType": 16,
    "lenVar": 40
   },
   "kernels_config": {
    "python": {
     "delete_cmd_postfix": "",
     "delete_cmd_prefix": "del ",
     "library": "var_list.py",
     "varRefreshCmd": "print(var_dic_list())"
    },
    "r": {
     "delete_cmd_postfix": ") ",
     "delete_cmd_prefix": "rm(",
     "library": "var_list.r",
     "varRefreshCmd": "cat(var_dic_list()) "
    }
   },
   "types_to_exclude": [
    "module",
    "function",
    "builtin_function_or_method",
    "instance",
    "_Feature"
   ],
   "window_display": false
  }
 },
 "nbformat": 4,
 "nbformat_minor": 2
}
