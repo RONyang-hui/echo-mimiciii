{
 "cells": [
  {
   "cell_type": "code",
   "execution_count": 1,
   "metadata": {
    "scrolled": true
   },
   "outputs": [
    {
     "name": "stderr",
     "output_type": "stream",
     "text": [
      "Loading required package: DBI\n",
      "── Attaching packages ─────────────────────────────────────── tidyverse 1.2.1 ──\n",
      "✔ ggplot2 2.2.1     ✔ purrr   0.2.4\n",
      "✔ tibble  1.4.1     ✔ dplyr   0.7.4\n",
      "✔ tidyr   0.7.2     ✔ stringr 1.2.0\n",
      "✔ readr   1.1.1     ✔ forcats 0.2.0\n",
      "── Conflicts ────────────────────────────────────────── tidyverse_conflicts() ──\n",
      "✖ dplyr::filter() masks stats::filter()\n",
      "✖ dplyr::lag()    masks stats::lag()\n"
     ]
    }
   ],
   "source": [
    "library(RPostgreSQL)\n",
    "library(tableone)\n",
    "library(tidyverse)"
   ]
  },
  {
   "cell_type": "code",
   "execution_count": 2,
   "metadata": {},
   "outputs": [],
   "source": [
    "data_dir <- file.path(\"..\", \"data\")"
   ]
  },
  {
   "cell_type": "code",
   "execution_count": 3,
   "metadata": {},
   "outputs": [
    {
     "data": {
      "text/plain": [
       "<PostgreSQLResult>"
      ]
     },
     "metadata": {},
     "output_type": "display_data"
    }
   ],
   "source": [
    "drv <- dbDriver(\"PostgreSQL\")\n",
    "con <- dbConnect(drv, dbname = \"mimic\")\n",
    "dbSendQuery(con, \"set search_path=echo,public,mimiciii;\")"
   ]
  },
  {
   "cell_type": "code",
   "execution_count": 4,
   "metadata": {},
   "outputs": [],
   "source": [
    "sql <-\n",
    "\"\n",
    "select hadm_id, icustay_id, echo,\n",
    "    norepinephrine_max, dobutamine_flag,\n",
    "    vasofreeday28, ventfreeday28,\n",
    "    lactate_reduction, creatinine_reduction,\n",
    "    sofa, sofa_drop_2, sofa_drop_3, day1, day2, day3,\n",
    "    down2, down3,\n",
    "    creatinine_diff,\n",
    "    lactate_diff\n",
    "from (select hadm_id, icustay_id, echo from merged_data) co\n",
    "left join subgroup using (hadm_id,icustay_id,echo)\n",
    "left join serum_diff using (hadm_id)\n",
    "left join (select icustay_id, day1, day2, day3, down2, down3 from fluid) fl using (icustay_id)\n",
    "\""
   ]
  },
  {
   "cell_type": "code",
   "execution_count": 5,
   "metadata": {},
   "outputs": [
    {
     "data": {
      "text/html": [
       "<table>\n",
       "<thead><tr><th scope=col>hadm_id</th><th scope=col>icustay_id</th><th scope=col>echo</th><th scope=col>norepinephrine_max</th><th scope=col>dobutamine_flag</th><th scope=col>vasofreeday28</th><th scope=col>ventfreeday28</th><th scope=col>lactate_reduction</th><th scope=col>creatinine_reduction</th><th scope=col>sofa</th><th scope=col>sofa_drop_2</th><th scope=col>sofa_drop_3</th><th scope=col>day1</th><th scope=col>day2</th><th scope=col>day3</th><th scope=col>down2</th><th scope=col>down3</th><th scope=col>creatinine_diff</th><th scope=col>lactate_diff</th></tr></thead>\n",
       "<tbody>\n",
       "\t<tr><td>161851    </td><td>200325    </td><td>1         </td><td>0.0000000 </td><td>0         </td><td>28.00000  </td><td>21.95833  </td><td>1.4       </td><td>0.4       </td><td>1         </td><td>-5        </td><td>1         </td><td> 466.1858 </td><td>1797.677  </td><td> 1141.1389</td><td>-1331.4914</td><td>-674.9530 </td><td>  NA      </td><td>NA        </td></tr>\n",
       "\t<tr><td>150324    </td><td>200339    </td><td>0         </td><td>0.0000000 </td><td>0         </td><td>28.00000  </td><td>21.10000  </td><td>0.0       </td><td>0.3       </td><td>1         </td><td> 1        </td><td>0         </td><td>4210.8575 </td><td>2719.824  </td><td>  987.8543</td><td> 1491.0330</td><td>3223.0032 </td><td>-0.1      </td><td> 0        </td></tr>\n",
       "\t<tr><td>177351    </td><td>200820    </td><td>0         </td><td>0.0000000 </td><td>0         </td><td>27.94792  </td><td>28.00000  </td><td>1.4       </td><td>0.2       </td><td>5         </td><td> 3        </td><td>3         </td><td>1473.0000 </td><td>1391.000  </td><td>  850.0000</td><td>   82.0000</td><td> 623.0000 </td><td> 0.1      </td><td>NA        </td></tr>\n",
       "\t<tr><td>163480    </td><td>201528    </td><td>1         </td><td>0.0000000 </td><td>0         </td><td>27.95556  </td><td>12.10417  </td><td>0.3       </td><td>0.1       </td><td>4         </td><td> 2        </td><td>4         </td><td>1159.4792 </td><td>7190.407  </td><td>  174.4947</td><td>-6030.9274</td><td> 984.9844 </td><td>  NA      </td><td>NA        </td></tr>\n",
       "\t<tr><td>179631    </td><td>201598    </td><td>0         </td><td>0.3919988 </td><td>0         </td><td>27.59028  </td><td>28.00000  </td><td>0.0       </td><td>0.1       </td><td>7         </td><td> 4        </td><td>7         </td><td>-210.9838 </td><td>-835.000  </td><td>-2065.0000</td><td>  624.0162</td><td>1854.0162 </td><td> 0.1      </td><td>NA        </td></tr>\n",
       "\t<tr><td>123870    </td><td>201741    </td><td>1         </td><td>0.0000000 </td><td>0         </td><td> 0.00000  </td><td> 0.00000  </td><td> NA       </td><td>0.3       </td><td>4         </td><td>-1        </td><td>0         </td><td> 887.0000 </td><td>2180.000  </td><td> 1180.0000</td><td>-1293.0000</td><td>-293.0000 </td><td>  NA      </td><td>NA        </td></tr>\n",
       "</tbody>\n",
       "</table>\n"
      ],
      "text/latex": [
       "\\begin{tabular}{r|lllllllllllllllllll}\n",
       " hadm\\_id & icustay\\_id & echo & norepinephrine\\_max & dobutamine\\_flag & vasofreeday28 & ventfreeday28 & lactate\\_reduction & creatinine\\_reduction & sofa & sofa\\_drop\\_2 & sofa\\_drop\\_3 & day1 & day2 & day3 & down2 & down3 & creatinine\\_diff & lactate\\_diff\\\\\n",
       "\\hline\n",
       "\t 161851     & 200325     & 1          & 0.0000000  & 0          & 28.00000   & 21.95833   & 1.4        & 0.4        & 1          & -5         & 1          &  466.1858  & 1797.677   &  1141.1389 & -1331.4914 & -674.9530  &   NA       & NA        \\\\\n",
       "\t 150324     & 200339     & 0          & 0.0000000  & 0          & 28.00000   & 21.10000   & 0.0        & 0.3        & 1          &  1         & 0          & 4210.8575  & 2719.824   &   987.8543 &  1491.0330 & 3223.0032  & -0.1       &  0        \\\\\n",
       "\t 177351     & 200820     & 0          & 0.0000000  & 0          & 27.94792   & 28.00000   & 1.4        & 0.2        & 5          &  3         & 3          & 1473.0000  & 1391.000   &   850.0000 &    82.0000 &  623.0000  &  0.1       & NA        \\\\\n",
       "\t 163480     & 201528     & 1          & 0.0000000  & 0          & 27.95556   & 12.10417   & 0.3        & 0.1        & 4          &  2         & 4          & 1159.4792  & 7190.407   &   174.4947 & -6030.9274 &  984.9844  &   NA       & NA        \\\\\n",
       "\t 179631     & 201598     & 0          & 0.3919988  & 0          & 27.59028   & 28.00000   & 0.0        & 0.1        & 7          &  4         & 7          & -210.9838  & -835.000   & -2065.0000 &   624.0162 & 1854.0162  &  0.1       & NA        \\\\\n",
       "\t 123870     & 201741     & 1          & 0.0000000  & 0          &  0.00000   &  0.00000   &  NA        & 0.3        & 4          & -1         & 0          &  887.0000  & 2180.000   &  1180.0000 & -1293.0000 & -293.0000  &   NA       & NA        \\\\\n",
       "\\end{tabular}\n"
      ],
      "text/markdown": [
       "\n",
       "hadm_id | icustay_id | echo | norepinephrine_max | dobutamine_flag | vasofreeday28 | ventfreeday28 | lactate_reduction | creatinine_reduction | sofa | sofa_drop_2 | sofa_drop_3 | day1 | day2 | day3 | down2 | down3 | creatinine_diff | lactate_diff | \n",
       "|---|---|---|---|---|---|\n",
       "| 161851     | 200325     | 1          | 0.0000000  | 0          | 28.00000   | 21.95833   | 1.4        | 0.4        | 1          | -5         | 1          |  466.1858  | 1797.677   |  1141.1389 | -1331.4914 | -674.9530  |   NA       | NA         | \n",
       "| 150324     | 200339     | 0          | 0.0000000  | 0          | 28.00000   | 21.10000   | 0.0        | 0.3        | 1          |  1         | 0          | 4210.8575  | 2719.824   |   987.8543 |  1491.0330 | 3223.0032  | -0.1       |  0         | \n",
       "| 177351     | 200820     | 0          | 0.0000000  | 0          | 27.94792   | 28.00000   | 1.4        | 0.2        | 5          |  3         | 3          | 1473.0000  | 1391.000   |   850.0000 |    82.0000 |  623.0000  |  0.1       | NA         | \n",
       "| 163480     | 201528     | 1          | 0.0000000  | 0          | 27.95556   | 12.10417   | 0.3        | 0.1        | 4          |  2         | 4          | 1159.4792  | 7190.407   |   174.4947 | -6030.9274 |  984.9844  |   NA       | NA         | \n",
       "| 179631     | 201598     | 0          | 0.3919988  | 0          | 27.59028   | 28.00000   | 0.0        | 0.1        | 7          |  4         | 7          | -210.9838  | -835.000   | -2065.0000 |   624.0162 | 1854.0162  |  0.1       | NA         | \n",
       "| 123870     | 201741     | 1          | 0.0000000  | 0          |  0.00000   |  0.00000   |  NA        | 0.3        | 4          | -1         | 0          |  887.0000  | 2180.000   |  1180.0000 | -1293.0000 | -293.0000  |   NA       | NA         | \n",
       "\n",
       "\n"
      ],
      "text/plain": [
       "  hadm_id icustay_id echo norepinephrine_max dobutamine_flag vasofreeday28\n",
       "1 161851  200325     1    0.0000000          0               28.00000     \n",
       "2 150324  200339     0    0.0000000          0               28.00000     \n",
       "3 177351  200820     0    0.0000000          0               27.94792     \n",
       "4 163480  201528     1    0.0000000          0               27.95556     \n",
       "5 179631  201598     0    0.3919988          0               27.59028     \n",
       "6 123870  201741     1    0.0000000          0                0.00000     \n",
       "  ventfreeday28 lactate_reduction creatinine_reduction sofa sofa_drop_2\n",
       "1 21.95833      1.4               0.4                  1    -5         \n",
       "2 21.10000      0.0               0.3                  1     1         \n",
       "3 28.00000      1.4               0.2                  5     3         \n",
       "4 12.10417      0.3               0.1                  4     2         \n",
       "5 28.00000      0.0               0.1                  7     4         \n",
       "6  0.00000       NA               0.3                  4    -1         \n",
       "  sofa_drop_3 day1      day2     day3       down2      down3    \n",
       "1 1            466.1858 1797.677  1141.1389 -1331.4914 -674.9530\n",
       "2 0           4210.8575 2719.824   987.8543  1491.0330 3223.0032\n",
       "3 3           1473.0000 1391.000   850.0000    82.0000  623.0000\n",
       "4 4           1159.4792 7190.407   174.4947 -6030.9274  984.9844\n",
       "5 7           -210.9838 -835.000 -2065.0000   624.0162 1854.0162\n",
       "6 0            887.0000 2180.000  1180.0000 -1293.0000 -293.0000\n",
       "  creatinine_diff lactate_diff\n",
       "1   NA            NA          \n",
       "2 -0.1             0          \n",
       "3  0.1            NA          \n",
       "4   NA            NA          \n",
       "5  0.1            NA          \n",
       "6   NA            NA          "
      ]
     },
     "metadata": {},
     "output_type": "display_data"
    }
   ],
   "source": [
    "subgroup <- dbGetQuery(con, \"select * from subgroup left join fluid using (icustay_id) left join serum_diff using (hadm_id);\")\n",
    "subgroup <- dbGetQuery(con, sql)\n",
    "head(subgroup)"
   ]
  },
  {
   "cell_type": "code",
   "execution_count": 6,
   "metadata": {},
   "outputs": [
    {
     "data": {
      "text/html": [
       "6162"
      ],
      "text/latex": [
       "6162"
      ],
      "text/markdown": [
       "6162"
      ],
      "text/plain": [
       "[1] 6162"
      ]
     },
     "metadata": {},
     "output_type": "display_data"
    }
   ],
   "source": [
    "nrow(subgroup)"
   ]
  },
  {
   "cell_type": "code",
   "execution_count": 7,
   "metadata": {},
   "outputs": [
    {
     "data": {
      "text/html": [
       "TRUE"
      ],
      "text/latex": [
       "TRUE"
      ],
      "text/markdown": [
       "TRUE"
      ],
      "text/plain": [
       "[1] TRUE"
      ]
     },
     "metadata": {},
     "output_type": "display_data"
    },
    {
     "data": {
      "text/html": [
       "TRUE"
      ],
      "text/latex": [
       "TRUE"
      ],
      "text/markdown": [
       "TRUE"
      ],
      "text/plain": [
       "[1] TRUE"
      ]
     },
     "metadata": {},
     "output_type": "display_data"
    }
   ],
   "source": [
    "dbDisconnect(con)\n",
    "dbUnloadDriver(drv)"
   ]
  },
  {
   "cell_type": "code",
   "execution_count": 8,
   "metadata": {},
   "outputs": [
    {
     "data": {
      "text/html": [
       "<ol class=list-inline>\n",
       "\t<li>'ventfreeday28'</li>\n",
       "\t<li>'vasofreeday28'</li>\n",
       "\t<li>'dobutamine_flag'</li>\n",
       "\t<li>'day1'</li>\n",
       "\t<li>'day2'</li>\n",
       "\t<li>'day3'</li>\n",
       "\t<li>'sofa_drop_2'</li>\n",
       "\t<li>'sofa_drop_3'</li>\n",
       "\t<li>'norepinephrine_max'</li>\n",
       "\t<li>'lactate_diff'</li>\n",
       "\t<li>'creatinine_diff'</li>\n",
       "</ol>\n"
      ],
      "text/latex": [
       "\\begin{enumerate*}\n",
       "\\item 'ventfreeday28'\n",
       "\\item 'vasofreeday28'\n",
       "\\item 'dobutamine\\_flag'\n",
       "\\item 'day1'\n",
       "\\item 'day2'\n",
       "\\item 'day3'\n",
       "\\item 'sofa\\_drop\\_2'\n",
       "\\item 'sofa\\_drop\\_3'\n",
       "\\item 'norepinephrine\\_max'\n",
       "\\item 'lactate\\_diff'\n",
       "\\item 'creatinine\\_diff'\n",
       "\\end{enumerate*}\n"
      ],
      "text/markdown": [
       "1. 'ventfreeday28'\n",
       "2. 'vasofreeday28'\n",
       "3. 'dobutamine_flag'\n",
       "4. 'day1'\n",
       "5. 'day2'\n",
       "6. 'day3'\n",
       "7. 'sofa_drop_2'\n",
       "8. 'sofa_drop_3'\n",
       "9. 'norepinephrine_max'\n",
       "10. 'lactate_diff'\n",
       "11. 'creatinine_diff'\n",
       "\n",
       "\n"
      ],
      "text/plain": [
       " [1] \"ventfreeday28\"      \"vasofreeday28\"      \"dobutamine_flag\"   \n",
       " [4] \"day1\"               \"day2\"               \"day3\"              \n",
       " [7] \"sofa_drop_2\"        \"sofa_drop_3\"        \"norepinephrine_max\"\n",
       "[10] \"lactate_diff\"       \"creatinine_diff\"   "
      ]
     },
     "metadata": {},
     "output_type": "display_data"
    }
   ],
   "source": [
    "# features <- names(subgroup) %>%\n",
    "#     discard(~ .x %in% c(\"hadm_id\", \"icustay_id\", \"echo\"))\n",
    "features <- c(\"ventfreeday28\", \"vasofreeday28\", \"dobutamine_flag\", \"day1\", \"day2\", \"day3\",\n",
    "              \"sofa_drop_2\", \"sofa_drop_3\",\n",
    "              \"norepinephrine_max\", \"lactate_diff\", \"creatinine_diff\")\n",
    "features"
   ]
  },
  {
   "cell_type": "code",
   "execution_count": 9,
   "metadata": {},
   "outputs": [
    {
     "data": {
      "text/plain": [
       "                                Stratified by echo\n",
       "                                 0                 1                 p     \n",
       "  n                                 3099              3063                 \n",
       "  ventfreeday28 (mean (sd))        19.09 (13.53)     18.08 (24.22)    0.043\n",
       "  vasofreeday28 (mean (sd))        20.25 (12.61)     20.30 (14.83)    0.888\n",
       "  dobutamine_flag = 1 (%)             23 (0.7)         126 (4.1)     <0.001\n",
       "  day1 (mean (sd))               1939.14 (3181.88) 2527.35 (3891.01) <0.001\n",
       "  day2 (mean (sd))                835.26 (2429.91) 1294.66 (2964.32) <0.001\n",
       "  day3 (mean (sd))                256.15 (2108.02)  687.19 (2623.07) <0.001\n",
       "  sofa_drop_2 (mean (sd))           1.22 (4.34)       0.89 (3.43)     0.001\n",
       "  sofa_drop_3 (mean (sd))           2.29 (4.49)       1.54 (4.09)    <0.001\n",
       "  norepinephrine_max (mean (sd))    0.81 (2.39)       1.76 (5.77)    <0.001\n",
       "  lactate_diff (mean (sd))          0.54 (2.44)       1.24 (2.50)     0.003\n",
       "  creatinine_diff (mean (sd))       0.11 (0.80)       0.17 (1.17)     0.272\n",
       "                                Stratified by echo\n",
       "                                 test\n",
       "  n                                  \n",
       "  ventfreeday28 (mean (sd))          \n",
       "  vasofreeday28 (mean (sd))          \n",
       "  dobutamine_flag = 1 (%)            \n",
       "  day1 (mean (sd))                   \n",
       "  day2 (mean (sd))                   \n",
       "  day3 (mean (sd))                   \n",
       "  sofa_drop_2 (mean (sd))            \n",
       "  sofa_drop_3 (mean (sd))            \n",
       "  norepinephrine_max (mean (sd))     \n",
       "  lactate_diff (mean (sd))           \n",
       "  creatinine_diff (mean (sd))        "
      ]
     },
     "metadata": {},
     "output_type": "display_data"
    }
   ],
   "source": [
    "tab <- CreateTableOne(vars = features, strata = \"echo\",\n",
    "                      factorVars = \"dobutamine_flag\",\n",
    "                      data = subgroup, test = TRUE, testNormal = oneway.test)\n",
    "tab"
   ]
  },
  {
   "cell_type": "code",
   "execution_count": 10,
   "metadata": {},
   "outputs": [],
   "source": [
    "tb <- features %>%\n",
    "data.frame(covariate = ., stringsAsFactors = FALSE) %>%\n",
    "rowwise() %>%\n",
    "mutate(mean_0 = mean(subgroup[subgroup$echo == 0, covariate], na.rm = TRUE)) %>%\n",
    "mutate(mean_1 = mean(subgroup[subgroup$echo == 1, covariate], na.rm = TRUE)) %>%\n",
    "mutate(sd_0 = sd(subgroup[subgroup$echo == 0, covariate], na.rm = TRUE)) %>%\n",
    "mutate(sd_1 = sd(subgroup[subgroup$echo == 1, covariate], na.rm = TRUE)) %>%\n",
    "mutate(f_0 = mean_0 - sd_0 / sqrt(length(na.omit(subgroup[subgroup$echo == 0, covariate]))) * qnorm(.975)) %>%\n",
    "mutate(f_1 = mean_1 - sd_1 / sqrt(length(na.omit(subgroup[subgroup$echo == 1, covariate]))) * qnorm(.975)) %>%\n",
    "mutate(t_0 = mean_0 + sd_0 / sqrt(length(na.omit(subgroup[subgroup$echo == 0, covariate]))) * qnorm(.975)) %>%\n",
    "mutate(t_1 = mean_1 + sd_1 / sqrt(length(na.omit(subgroup[subgroup$echo == 1, covariate]))) * qnorm(.975)) %>%\n",
    "mutate(fstq_0 = quantile(subgroup[subgroup$echo == 0, covariate], .025, na.rm = TRUE, names = FALSE)) %>%\n",
    "mutate(fstq_1 = quantile(subgroup[subgroup$echo == 1, covariate], .025, na.rm = TRUE, names = FALSE)) %>%\n",
    "mutate(thrq_0 = quantile(subgroup[subgroup$echo == 0, covariate], .975, na.rm = TRUE, names = FALSE)) %>%\n",
    "mutate(thrq_1 = quantile(subgroup[subgroup$echo == 1, covariate], .975, na.rm = TRUE, names = FALSE))"
   ]
  },
  {
   "cell_type": "code",
   "execution_count": 11,
   "metadata": {},
   "outputs": [],
   "source": [
    "cis <- features %>%\n",
    "map(function(x) {\n",
    "    tt = t.test(subgroup[subgroup$echo == 1, x],\n",
    "                subgroup[subgroup$echo == 0, x])\n",
    "    dif <- tt$estimate[1] - tt$estimate[2]\n",
    "    ci <- dif - tt$conf.int[1]\n",
    "    ci2 <- tt$conf.int[2] - dif\n",
    "    p.value <- tt$p.value\n",
    "    data.frame(covariate = x, dif = dif, ci = ci, ci2 = ci2, p.value = p.value,\n",
    "               stringsAsFactors = FALSE)\n",
    "}) %>%\n",
    "data.table::rbindlist() %>%\n",
    "as.data.frame"
   ]
  },
  {
   "cell_type": "code",
   "execution_count": 12,
   "metadata": {},
   "outputs": [
    {
     "data": {
      "text/html": [
       "<table>\n",
       "<thead><tr><th scope=col>covariate</th><th scope=col>non_echo</th><th scope=col>echo</th><th scope=col>effect_size</th><th scope=col>p.value</th></tr></thead>\n",
       "<tbody>\n",
       "\t<tr><td>ventfreeday28        </td><td>19.09 (+/- 13.53)    </td><td>18.08 (+/- 24.22)    </td><td>-1.01 (+/- 0.98)     </td><td>0.0437               </td></tr>\n",
       "\t<tr><td>vasofreeday28        </td><td>20.25 (+/- 12.61)    </td><td>20.30 (+/- 14.83)    </td><td>0.05 (+/- 0.69)      </td><td>0.8884               </td></tr>\n",
       "\t<tr><td>dobutamine_flag      </td><td>0.01 (+/- 0.09)      </td><td>0.04 (+/- 0.20)      </td><td>0.03 (+/- 0.01)      </td><td>0.0000               </td></tr>\n",
       "\t<tr><td>day1                 </td><td>1939.14 (+/- 3181.88)</td><td>2527.35 (+/- 3891.01)</td><td>588.21 (+/- 187.45)  </td><td>0.0000               </td></tr>\n",
       "\t<tr><td>day2                 </td><td>835.26 (+/- 2429.91) </td><td>1294.66 (+/- 2964.32)</td><td>459.40 (+/- 149.72)  </td><td>0.0000               </td></tr>\n",
       "\t<tr><td>day3                 </td><td>256.15 (+/- 2108.02) </td><td>687.19 (+/- 2623.07) </td><td>431.04 (+/- 146.75)  </td><td>0.0000               </td></tr>\n",
       "\t<tr><td>sofa_drop_2          </td><td>1.22 (+/- 4.34)      </td><td>0.89 (+/- 3.43)      </td><td>-0.33 (+/- 0.20)     </td><td>0.0010               </td></tr>\n",
       "\t<tr><td>sofa_drop_3          </td><td>2.29 (+/- 4.49)      </td><td>1.54 (+/- 4.09)      </td><td>-0.75 (+/- 0.21)     </td><td>0.0000               </td></tr>\n",
       "\t<tr><td>norepinephrine_max   </td><td>0.81 (+/- 2.39)      </td><td>1.76 (+/- 5.77)      </td><td>0.95 (+/- 0.22)      </td><td>0.0000               </td></tr>\n",
       "\t<tr><td>lactate_diff         </td><td>0.54 (+/- 2.44)      </td><td>1.24 (+/- 2.50)      </td><td>0.70 (+/- 0.46)      </td><td>0.0032               </td></tr>\n",
       "\t<tr><td>creatinine_diff      </td><td>0.11 (+/- 0.80)      </td><td>0.17 (+/- 1.17)      </td><td>0.06 (+/- 0.13)      </td><td>0.3821               </td></tr>\n",
       "</tbody>\n",
       "</table>\n"
      ],
      "text/latex": [
       "\\begin{tabular}{r|lllll}\n",
       " covariate & non\\_echo & echo & effect\\_size & p.value\\\\\n",
       "\\hline\n",
       "\t ventfreeday28         & 19.09 (+/- 13.53)     & 18.08 (+/- 24.22)     & -1.01 (+/- 0.98)      & 0.0437               \\\\\n",
       "\t vasofreeday28         & 20.25 (+/- 12.61)     & 20.30 (+/- 14.83)     & 0.05 (+/- 0.69)       & 0.8884               \\\\\n",
       "\t dobutamine\\_flag     & 0.01 (+/- 0.09)       & 0.04 (+/- 0.20)       & 0.03 (+/- 0.01)       & 0.0000               \\\\\n",
       "\t day1                  & 1939.14 (+/- 3181.88) & 2527.35 (+/- 3891.01) & 588.21 (+/- 187.45)   & 0.0000               \\\\\n",
       "\t day2                  & 835.26 (+/- 2429.91)  & 1294.66 (+/- 2964.32) & 459.40 (+/- 149.72)   & 0.0000               \\\\\n",
       "\t day3                  & 256.15 (+/- 2108.02)  & 687.19 (+/- 2623.07)  & 431.04 (+/- 146.75)   & 0.0000               \\\\\n",
       "\t sofa\\_drop\\_2        & 1.22 (+/- 4.34)        & 0.89 (+/- 3.43)        & -0.33 (+/- 0.20)       & 0.0010                \\\\\n",
       "\t sofa\\_drop\\_3        & 2.29 (+/- 4.49)        & 1.54 (+/- 4.09)        & -0.75 (+/- 0.21)       & 0.0000                \\\\\n",
       "\t norepinephrine\\_max  & 0.81 (+/- 2.39)       & 1.76 (+/- 5.77)       & 0.95 (+/- 0.22)       & 0.0000               \\\\\n",
       "\t lactate\\_diff        & 0.54 (+/- 2.44)       & 1.24 (+/- 2.50)       & 0.70 (+/- 0.46)       & 0.0032               \\\\\n",
       "\t creatinine\\_diff     & 0.11 (+/- 0.80)       & 0.17 (+/- 1.17)       & 0.06 (+/- 0.13)       & 0.3821               \\\\\n",
       "\\end{tabular}\n"
      ],
      "text/markdown": [
       "\n",
       "covariate | non_echo | echo | effect_size | p.value | \n",
       "|---|---|---|---|---|---|---|---|---|---|---|\n",
       "| ventfreeday28         | 19.09 (+/- 13.53)     | 18.08 (+/- 24.22)     | -1.01 (+/- 0.98)      | 0.0437                | \n",
       "| vasofreeday28         | 20.25 (+/- 12.61)     | 20.30 (+/- 14.83)     | 0.05 (+/- 0.69)       | 0.8884                | \n",
       "| dobutamine_flag       | 0.01 (+/- 0.09)       | 0.04 (+/- 0.20)       | 0.03 (+/- 0.01)       | 0.0000                | \n",
       "| day1                  | 1939.14 (+/- 3181.88) | 2527.35 (+/- 3891.01) | 588.21 (+/- 187.45)   | 0.0000                | \n",
       "| day2                  | 835.26 (+/- 2429.91)  | 1294.66 (+/- 2964.32) | 459.40 (+/- 149.72)   | 0.0000                | \n",
       "| day3                  | 256.15 (+/- 2108.02)  | 687.19 (+/- 2623.07)  | 431.04 (+/- 146.75)   | 0.0000                | \n",
       "| sofa_drop_2           | 1.22 (+/- 4.34)       | 0.89 (+/- 3.43)       | -0.33 (+/- 0.20)      | 0.0010                | \n",
       "| sofa_drop_3           | 2.29 (+/- 4.49)       | 1.54 (+/- 4.09)       | -0.75 (+/- 0.21)      | 0.0000                | \n",
       "| norepinephrine_max    | 0.81 (+/- 2.39)       | 1.76 (+/- 5.77)       | 0.95 (+/- 0.22)       | 0.0000                | \n",
       "| lactate_diff          | 0.54 (+/- 2.44)       | 1.24 (+/- 2.50)       | 0.70 (+/- 0.46)       | 0.0032                | \n",
       "| creatinine_diff       | 0.11 (+/- 0.80)       | 0.17 (+/- 1.17)       | 0.06 (+/- 0.13)       | 0.3821                | \n",
       "\n",
       "\n"
      ],
      "text/plain": [
       "   covariate          non_echo              echo                 \n",
       "1  ventfreeday28      19.09 (+/- 13.53)     18.08 (+/- 24.22)    \n",
       "2  vasofreeday28      20.25 (+/- 12.61)     20.30 (+/- 14.83)    \n",
       "3  dobutamine_flag    0.01 (+/- 0.09)       0.04 (+/- 0.20)      \n",
       "4  day1               1939.14 (+/- 3181.88) 2527.35 (+/- 3891.01)\n",
       "5  day2               835.26 (+/- 2429.91)  1294.66 (+/- 2964.32)\n",
       "6  day3               256.15 (+/- 2108.02)  687.19 (+/- 2623.07) \n",
       "7  sofa_drop_2        1.22 (+/- 4.34)       0.89 (+/- 3.43)      \n",
       "8  sofa_drop_3        2.29 (+/- 4.49)       1.54 (+/- 4.09)      \n",
       "9  norepinephrine_max 0.81 (+/- 2.39)       1.76 (+/- 5.77)      \n",
       "10 lactate_diff       0.54 (+/- 2.44)       1.24 (+/- 2.50)      \n",
       "11 creatinine_diff    0.11 (+/- 0.80)       0.17 (+/- 1.17)      \n",
       "   effect_size         p.value\n",
       "1  -1.01 (+/- 0.98)    0.0437 \n",
       "2  0.05 (+/- 0.69)     0.8884 \n",
       "3  0.03 (+/- 0.01)     0.0000 \n",
       "4  588.21 (+/- 187.45) 0.0000 \n",
       "5  459.40 (+/- 149.72) 0.0000 \n",
       "6  431.04 (+/- 146.75) 0.0000 \n",
       "7  -0.33 (+/- 0.20)    0.0010 \n",
       "8  -0.75 (+/- 0.21)    0.0000 \n",
       "9  0.95 (+/- 0.22)     0.0000 \n",
       "10 0.70 (+/- 0.46)     0.0032 \n",
       "11 0.06 (+/- 0.13)     0.3821 "
      ]
     },
     "metadata": {},
     "output_type": "display_data"
    }
   ],
   "source": [
    "tab <- tb %>%\n",
    "inner_join(cis, by = \"covariate\") %>%\n",
    "mutate(non_echo = sprintf(\"%.2f (+/- %.2f)\", mean_0, sd_0)) %>%\n",
    "mutate(echo = sprintf(\"%.2f (+/- %.2f)\", mean_1, sd_1)) %>%\n",
    "mutate(non_echo_ci = sprintf(\"%.2f - %.2f\", f_0, t_0)) %>%\n",
    "mutate(echo_ci = sprintf(\"%.2f - %.2f\", f_1, t_1)) %>%\n",
    "mutate(effect_size = sprintf(\"%.2f (+/- %.2f)\", dif, ci)) %>%\n",
    "mutate(p.value = sprintf(\"%.4f\", p.value)) %>%\n",
    "select(covariate, non_echo, echo, effect_size, p.value)\n",
    "tab"
   ]
  },
  {
   "cell_type": "code",
   "execution_count": 13,
   "metadata": {},
   "outputs": [],
   "source": [
    "data.table::fwrite(tab, file.path(data_dir, \"subgroup_tableone.csv\"))"
   ]
  }
 ],
 "metadata": {
  "kernelspec": {
   "display_name": "R",
   "language": "R",
   "name": "ir"
  },
  "language_info": {
   "codemirror_mode": "r",
   "file_extension": ".r",
   "mimetype": "text/x-r-source",
   "name": "R",
   "pygments_lexer": "r",
   "version": "3.4.3"
  },
  "varInspector": {
   "cols": {
    "lenName": 16,
    "lenType": 16,
    "lenVar": 40
   },
   "kernels_config": {
    "python": {
     "delete_cmd_postfix": "",
     "delete_cmd_prefix": "del ",
     "library": "var_list.py",
     "varRefreshCmd": "print(var_dic_list())"
    },
    "r": {
     "delete_cmd_postfix": ") ",
     "delete_cmd_prefix": "rm(",
     "library": "var_list.r",
     "varRefreshCmd": "cat(var_dic_list()) "
    }
   },
   "types_to_exclude": [
    "module",
    "function",
    "builtin_function_or_method",
    "instance",
    "_Feature"
   ],
   "window_display": false
  }
 },
 "nbformat": 4,
 "nbformat_minor": 2
}
