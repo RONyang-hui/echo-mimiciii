{
 "cells": [
  {
   "cell_type": "code",
   "execution_count": 1,
   "metadata": {
    "scrolled": true
   },
   "outputs": [
    {
     "name": "stderr",
     "output_type": "stream",
     "text": [
      "Loading required package: DBI\n",
      "── Attaching packages ─────────────────────────────────────── tidyverse 1.2.1 ──\n",
      "✔ ggplot2 2.2.1     ✔ purrr   0.2.4\n",
      "✔ tibble  1.3.4     ✔ dplyr   0.7.4\n",
      "✔ tidyr   0.7.2     ✔ stringr 1.2.0\n",
      "✔ readr   1.1.1     ✔ forcats 0.2.0\n",
      "── Conflicts ────────────────────────────────────────── tidyverse_conflicts() ──\n",
      "✖ dplyr::filter() masks stats::filter()\n",
      "✖ dplyr::lag()    masks stats::lag()\n"
     ]
    }
   ],
   "source": [
    "library(RPostgreSQL)\n",
    "library(tableone)\n",
    "library(tidyverse)"
   ]
  },
  {
   "cell_type": "code",
   "execution_count": 2,
   "metadata": {},
   "outputs": [],
   "source": [
    "data_dir <- file.path(\"..\", \"data\")"
   ]
  },
  {
   "cell_type": "code",
   "execution_count": 3,
   "metadata": {},
   "outputs": [
    {
     "data": {
      "text/plain": [
       "<PostgreSQLResult>"
      ]
     },
     "metadata": {},
     "output_type": "display_data"
    }
   ],
   "source": [
    "drv <- dbDriver(\"PostgreSQL\")\n",
    "con <- dbConnect(drv, dbname = \"mimic\")\n",
    "dbSendQuery(con, \"set search_path=echo,public,mimiciii;\")"
   ]
  },
  {
   "cell_type": "code",
   "execution_count": 4,
   "metadata": {},
   "outputs": [
    {
     "data": {
      "text/html": [
       "<table>\n",
       "<thead><tr><th scope=col>icustay_id</th><th scope=col>hadm_id</th><th scope=col>echo</th><th scope=col>norepinephrine_max</th><th scope=col>dobutamine_flag</th><th scope=col>vasofreeday28</th><th scope=col>ventfreeday28</th><th scope=col>lactate_reduction</th><th scope=col>creatinine_reduction</th><th scope=col>sofa</th><th scope=col>sofa_drop_2</th><th scope=col>sofa_drop_3</th></tr></thead>\n",
       "<tbody>\n",
       "\t<tr><td>200325   </td><td>161851   </td><td>1        </td><td>0.0000000</td><td>0        </td><td>      NA </td><td>21.95833 </td><td>1.4      </td><td>0.4      </td><td>1        </td><td>-5       </td><td>1        </td></tr>\n",
       "\t<tr><td>200339   </td><td>150324   </td><td>0        </td><td>0.0000000</td><td>0        </td><td>      NA </td><td>21.10000 </td><td>0.0      </td><td>0.3      </td><td>1        </td><td> 1       </td><td>0        </td></tr>\n",
       "\t<tr><td>200820   </td><td>177351   </td><td>0        </td><td>0.0000000</td><td>0        </td><td>27.94792 </td><td>      NA </td><td>1.4      </td><td>0.2      </td><td>5        </td><td> 3       </td><td>3        </td></tr>\n",
       "\t<tr><td>201528   </td><td>163480   </td><td>1        </td><td>0.0000000</td><td>0        </td><td>27.95556 </td><td>12.10417 </td><td>0.3      </td><td>0.1      </td><td>4        </td><td> 2       </td><td>4        </td></tr>\n",
       "\t<tr><td>201598   </td><td>179631   </td><td>0        </td><td>0.3919988</td><td>0        </td><td>27.59028 </td><td>      NA </td><td>0.0      </td><td>0.1      </td><td>7        </td><td> 4       </td><td>7        </td></tr>\n",
       "\t<tr><td>201741   </td><td>123870   </td><td>1        </td><td>0.0000000</td><td>0        </td><td> 0.00000 </td><td> 0.00000 </td><td> NA      </td><td>0.3      </td><td>4        </td><td>-1       </td><td>0        </td></tr>\n",
       "</tbody>\n",
       "</table>\n"
      ],
      "text/latex": [
       "\\begin{tabular}{r|llllllllllll}\n",
       " icustay\\_id & hadm\\_id & echo & norepinephrine\\_max & dobutamine\\_flag & vasofreeday28 & ventfreeday28 & lactate\\_reduction & creatinine\\_reduction & sofa & sofa\\_drop\\_2 & sofa\\_drop\\_3\\\\\n",
       "\\hline\n",
       "\t 200325    & 161851    & 1         & 0.0000000 & 0         &       NA  & 21.95833  & 1.4       & 0.4       & 1         & -5        & 1        \\\\\n",
       "\t 200339    & 150324    & 0         & 0.0000000 & 0         &       NA  & 21.10000  & 0.0       & 0.3       & 1         &  1        & 0        \\\\\n",
       "\t 200820    & 177351    & 0         & 0.0000000 & 0         & 27.94792  &       NA  & 1.4       & 0.2       & 5         &  3        & 3        \\\\\n",
       "\t 201528    & 163480    & 1         & 0.0000000 & 0         & 27.95556  & 12.10417  & 0.3       & 0.1       & 4         &  2        & 4        \\\\\n",
       "\t 201598    & 179631    & 0         & 0.3919988 & 0         & 27.59028  &       NA  & 0.0       & 0.1       & 7         &  4        & 7        \\\\\n",
       "\t 201741    & 123870    & 1         & 0.0000000 & 0         &  0.00000  &  0.00000  &  NA       & 0.3       & 4         & -1        & 0        \\\\\n",
       "\\end{tabular}\n"
      ],
      "text/markdown": [
       "\n",
       "icustay_id | hadm_id | echo | norepinephrine_max | dobutamine_flag | vasofreeday28 | ventfreeday28 | lactate_reduction | creatinine_reduction | sofa | sofa_drop_2 | sofa_drop_3 | \n",
       "|---|---|---|---|---|---|\n",
       "| 200325    | 161851    | 1         | 0.0000000 | 0         |       NA  | 21.95833  | 1.4       | 0.4       | 1         | -5        | 1         | \n",
       "| 200339    | 150324    | 0         | 0.0000000 | 0         |       NA  | 21.10000  | 0.0       | 0.3       | 1         |  1        | 0         | \n",
       "| 200820    | 177351    | 0         | 0.0000000 | 0         | 27.94792  |       NA  | 1.4       | 0.2       | 5         |  3        | 3         | \n",
       "| 201528    | 163480    | 1         | 0.0000000 | 0         | 27.95556  | 12.10417  | 0.3       | 0.1       | 4         |  2        | 4         | \n",
       "| 201598    | 179631    | 0         | 0.3919988 | 0         | 27.59028  |       NA  | 0.0       | 0.1       | 7         |  4        | 7         | \n",
       "| 201741    | 123870    | 1         | 0.0000000 | 0         |  0.00000  |  0.00000  |  NA       | 0.3       | 4         | -1        | 0         | \n",
       "\n",
       "\n"
      ],
      "text/plain": [
       "  icustay_id hadm_id echo norepinephrine_max dobutamine_flag vasofreeday28\n",
       "1 200325     161851  1    0.0000000          0                     NA     \n",
       "2 200339     150324  0    0.0000000          0                     NA     \n",
       "3 200820     177351  0    0.0000000          0               27.94792     \n",
       "4 201528     163480  1    0.0000000          0               27.95556     \n",
       "5 201598     179631  0    0.3919988          0               27.59028     \n",
       "6 201741     123870  1    0.0000000          0                0.00000     \n",
       "  ventfreeday28 lactate_reduction creatinine_reduction sofa sofa_drop_2\n",
       "1 21.95833      1.4               0.4                  1    -5         \n",
       "2 21.10000      0.0               0.3                  1     1         \n",
       "3       NA      1.4               0.2                  5     3         \n",
       "4 12.10417      0.3               0.1                  4     2         \n",
       "5       NA      0.0               0.1                  7     4         \n",
       "6  0.00000       NA               0.3                  4    -1         \n",
       "  sofa_drop_3\n",
       "1 1          \n",
       "2 0          \n",
       "3 3          \n",
       "4 4          \n",
       "5 7          \n",
       "6 0          "
      ]
     },
     "metadata": {},
     "output_type": "display_data"
    }
   ],
   "source": [
    "subgroup <- dbGetQuery(con, \"select * from subgroup;\")\n",
    "head(subgroup)"
   ]
  },
  {
   "cell_type": "code",
   "execution_count": 5,
   "metadata": {},
   "outputs": [
    {
     "data": {
      "text/html": [
       "TRUE"
      ],
      "text/latex": [
       "TRUE"
      ],
      "text/markdown": [
       "TRUE"
      ],
      "text/plain": [
       "[1] TRUE"
      ]
     },
     "metadata": {},
     "output_type": "display_data"
    },
    {
     "data": {
      "text/html": [
       "TRUE"
      ],
      "text/latex": [
       "TRUE"
      ],
      "text/markdown": [
       "TRUE"
      ],
      "text/plain": [
       "[1] TRUE"
      ]
     },
     "metadata": {},
     "output_type": "display_data"
    }
   ],
   "source": [
    "dbDisconnect(con)\n",
    "dbUnloadDriver(drv)"
   ]
  },
  {
   "cell_type": "code",
   "execution_count": 6,
   "metadata": {},
   "outputs": [],
   "source": [
    "ids <- subgroup %>% select(icustay_id, echo)\n",
    "data.table::fwrite(ids, \"ids.csv\")"
   ]
  },
  {
   "cell_type": "code",
   "execution_count": 7,
   "metadata": {},
   "outputs": [
    {
     "data": {
      "text/html": [
       "<ol class=list-inline>\n",
       "\t<li>'ventfreeday28'</li>\n",
       "\t<li>'vasofreeday28'</li>\n",
       "\t<li>'dobutamine_flag'</li>\n",
       "\t<li>'sofa_drop_2'</li>\n",
       "\t<li>'sofa_drop_3'</li>\n",
       "\t<li>'norepinephrine_max'</li>\n",
       "\t<li>'lactate_reduction'</li>\n",
       "\t<li>'creatinine_reduction'</li>\n",
       "</ol>\n"
      ],
      "text/latex": [
       "\\begin{enumerate*}\n",
       "\\item 'ventfreeday28'\n",
       "\\item 'vasofreeday28'\n",
       "\\item 'dobutamine\\_flag'\n",
       "\\item 'sofa\\_drop\\_2'\n",
       "\\item 'sofa\\_drop\\_3'\n",
       "\\item 'norepinephrine\\_max'\n",
       "\\item 'lactate\\_reduction'\n",
       "\\item 'creatinine\\_reduction'\n",
       "\\end{enumerate*}\n"
      ],
      "text/markdown": [
       "1. 'ventfreeday28'\n",
       "2. 'vasofreeday28'\n",
       "3. 'dobutamine_flag'\n",
       "4. 'sofa_drop_2'\n",
       "5. 'sofa_drop_3'\n",
       "6. 'norepinephrine_max'\n",
       "7. 'lactate_reduction'\n",
       "8. 'creatinine_reduction'\n",
       "\n",
       "\n"
      ],
      "text/plain": [
       "[1] \"ventfreeday28\"        \"vasofreeday28\"        \"dobutamine_flag\"     \n",
       "[4] \"sofa_drop_2\"          \"sofa_drop_3\"          \"norepinephrine_max\"  \n",
       "[7] \"lactate_reduction\"    \"creatinine_reduction\""
      ]
     },
     "metadata": {},
     "output_type": "display_data"
    }
   ],
   "source": [
    "# features <- names(subgroup) %>%\n",
    "#     discard(~ .x %in% c(\"hadm_id\", \"icustay_id\", \"echo\"))\n",
    "features <- c(\"ventfreeday28\", \"vasofreeday28\", \"dobutamine_flag\", \"sofa_drop_2\", \"sofa_drop_3\",\n",
    "              \"norepinephrine_max\", \"lactate_reduction\", \"creatinine_reduction\")\n",
    "features"
   ]
  },
  {
   "cell_type": "code",
   "execution_count": 8,
   "metadata": {},
   "outputs": [
    {
     "data": {
      "text/plain": [
       "                                  Stratified by echo\n",
       "                                   0             1             p      test\n",
       "  n                                 3099          3063                    \n",
       "  ventfreeday28 (mean (sd))        13.47 (14.73) 14.72 (27.21)  0.072     \n",
       "  vasofreeday28 (mean (sd))        10.99 (13.83) 15.41 (17.26) <0.001     \n",
       "  dobutamine_flag = 1 (%)             23 (0.7)     126 (4.1)   <0.001     \n",
       "  sofa_drop_2 (mean (sd))           1.22 (4.34)   0.89 (3.43)   0.001     \n",
       "  sofa_drop_3 (mean (sd))           2.29 (4.49)   1.54 (4.09)  <0.001     \n",
       "  norepinephrine_max (mean (sd))    0.81 (2.39)   1.76 (5.77)  <0.001     \n",
       "  lactate_reduction (mean (sd))     0.84 (1.75)   1.35 (2.26)  <0.001     \n",
       "  creatinine_reduction (mean (sd))  0.37 (0.75)   0.79 (2.78)  <0.001     "
      ]
     },
     "metadata": {},
     "output_type": "display_data"
    }
   ],
   "source": [
    "tab <- CreateTableOne(vars = features, strata = \"echo\",\n",
    "                      factorVars = \"dobutamine_flag\",\n",
    "                      data = subgroup, test = TRUE, testNormal = oneway.test)\n",
    "tab"
   ]
  },
  {
   "cell_type": "code",
   "execution_count": 9,
   "metadata": {},
   "outputs": [],
   "source": [
    "tb <- features %>%\n",
    "data.frame(covariate = ., stringsAsFactors = FALSE) %>%\n",
    "rowwise() %>%\n",
    "mutate(mean_0 = mean(subgroup[subgroup$echo == 0, covariate], na.rm = TRUE)) %>%\n",
    "mutate(mean_1 = mean(subgroup[subgroup$echo == 1, covariate], na.rm = TRUE)) %>%\n",
    "mutate(sd_0 = sd(subgroup[subgroup$echo == 0, covariate], na.rm = TRUE)) %>%\n",
    "mutate(sd_1 = sd(subgroup[subgroup$echo == 1, covariate], na.rm = TRUE)) %>%\n",
    "mutate(f_0 = mean_0 - sd_0 / sqrt(length(na.omit(subgroup[subgroup$echo == 0, covariate]))) * qnorm(.975)) %>%\n",
    "mutate(f_1 = mean_1 - sd_1 / sqrt(length(na.omit(subgroup[subgroup$echo == 1, covariate]))) * qnorm(.975)) %>%\n",
    "mutate(t_0 = mean_0 + sd_0 / sqrt(length(na.omit(subgroup[subgroup$echo == 0, covariate]))) * qnorm(.975)) %>%\n",
    "mutate(t_1 = mean_1 + sd_1 / sqrt(length(na.omit(subgroup[subgroup$echo == 1, covariate]))) * qnorm(.975)) %>%\n",
    "mutate(fstq_0 = quantile(subgroup[subgroup$echo == 0, covariate], .025, na.rm = TRUE, names = FALSE)) %>%\n",
    "mutate(fstq_1 = quantile(subgroup[subgroup$echo == 1, covariate], .025, na.rm = TRUE, names = FALSE)) %>%\n",
    "mutate(thrq_0 = quantile(subgroup[subgroup$echo == 0, covariate], .975, na.rm = TRUE, names = FALSE)) %>%\n",
    "mutate(thrq_1 = quantile(subgroup[subgroup$echo == 1, covariate], .975, na.rm = TRUE, names = FALSE))"
   ]
  },
  {
   "cell_type": "code",
   "execution_count": 10,
   "metadata": {},
   "outputs": [],
   "source": [
    "cis <- features %>%\n",
    "map(function(x) {\n",
    "    tt = t.test(subgroup[subgroup$echo == 1, x],\n",
    "                subgroup[subgroup$echo == 0, x])\n",
    "    dif <- tt$estimate[1] - tt$estimate[2]\n",
    "    ci <- dif - tt$conf.int[1]\n",
    "    ci2 <- tt$conf.int[2] - dif\n",
    "    p.value <- tt$p.value\n",
    "    data.frame(covariate = x, dif = dif, ci = ci, ci2 = ci2, p.value = p.value,\n",
    "               stringsAsFactors = FALSE)\n",
    "}) %>%\n",
    "data.table::rbindlist() %>%\n",
    "as.data.frame"
   ]
  },
  {
   "cell_type": "code",
   "execution_count": 11,
   "metadata": {},
   "outputs": [
    {
     "data": {
      "text/html": [
       "<table>\n",
       "<thead><tr><th scope=col>covariate</th><th scope=col>non_echo</th><th scope=col>non_echo_ci</th><th scope=col>echo</th><th scope=col>echo_ci</th><th scope=col>effect_size</th><th scope=col>p.value</th></tr></thead>\n",
       "<tbody>\n",
       "\t<tr><td>ventfreeday28       </td><td>13.47 (+/- 14.73)   </td><td>12.81 - 14.14       </td><td>14.72 (+/- 27.21)   </td><td>13.61 - 15.84       </td><td>1.25 (+/- 1.30)     </td><td>0.0587              </td></tr>\n",
       "\t<tr><td>vasofreeday28       </td><td>10.99 (+/- 13.83)   </td><td>10.27 - 11.71       </td><td>15.41 (+/- 17.26)   </td><td>14.63 - 16.19       </td><td>4.42 (+/- 1.06)     </td><td>0.0000              </td></tr>\n",
       "\t<tr><td>dobutamine_flag     </td><td>0.01 (+/- 0.09)     </td><td>0.00 - 0.01         </td><td>0.04 (+/- 0.20)     </td><td>0.03 - 0.05         </td><td>0.03 (+/- 0.01)     </td><td>0.0000              </td></tr>\n",
       "\t<tr><td>sofa_drop_2         </td><td>1.22 (+/- 4.34)     </td><td>1.07 - 1.38         </td><td>0.89 (+/- 3.43)     </td><td>0.77 - 1.02         </td><td>-0.33 (+/- 0.20)    </td><td>0.0010              </td></tr>\n",
       "\t<tr><td>sofa_drop_3         </td><td>2.29 (+/- 4.49)     </td><td>2.13 - 2.45         </td><td>1.54 (+/- 4.09)     </td><td>1.40 - 1.69         </td><td>-0.75 (+/- 0.21)    </td><td>0.0000              </td></tr>\n",
       "\t<tr><td>norepinephrine_max  </td><td>0.81 (+/- 2.39)     </td><td>0.73 - 0.90         </td><td>1.76 (+/- 5.77)     </td><td>1.56 - 1.97         </td><td>0.95 (+/- 0.22)     </td><td>0.0000              </td></tr>\n",
       "\t<tr><td>lactate_reduction   </td><td>0.84 (+/- 1.75)     </td><td>0.77 - 0.92         </td><td>1.35 (+/- 2.26)     </td><td>1.26 - 1.44         </td><td>0.51 (+/- 0.12)     </td><td>0.0000              </td></tr>\n",
       "\t<tr><td>creatinine_reduction</td><td>0.37 (+/- 0.75)     </td><td>0.34 - 0.39         </td><td>0.79 (+/- 2.78)     </td><td>0.69 - 0.89         </td><td>0.42 (+/- 0.10)     </td><td>0.0000              </td></tr>\n",
       "</tbody>\n",
       "</table>\n"
      ],
      "text/latex": [
       "\\begin{tabular}{r|lllllll}\n",
       " covariate & non\\_echo & non\\_echo\\_ci & echo & echo\\_ci & effect\\_size & p.value\\\\\n",
       "\\hline\n",
       "\t ventfreeday28        & 13.47 (+/- 14.73)    & 12.81 - 14.14        & 14.72 (+/- 27.21)    & 13.61 - 15.84        & 1.25 (+/- 1.30)      & 0.0587              \\\\\n",
       "\t vasofreeday28        & 10.99 (+/- 13.83)    & 10.27 - 11.71        & 15.41 (+/- 17.26)    & 14.63 - 16.19        & 4.42 (+/- 1.06)      & 0.0000              \\\\\n",
       "\t dobutamine\\_flag      & 0.01 (+/- 0.09)        & 0.00 - 0.01            & 0.04 (+/- 0.20)        & 0.03 - 0.05            & 0.03 (+/- 0.01)        & 0.0000                \\\\\n",
       "\t sofa\\_drop\\_2          & 1.22 (+/- 4.34)          & 1.07 - 1.38              & 0.89 (+/- 3.43)          & 0.77 - 1.02              & -0.33 (+/- 0.20)         & 0.0010                  \\\\\n",
       "\t sofa\\_drop\\_3          & 2.29 (+/- 4.49)          & 2.13 - 2.45              & 1.54 (+/- 4.09)          & 1.40 - 1.69              & -0.75 (+/- 0.21)         & 0.0000                  \\\\\n",
       "\t norepinephrine\\_max   & 0.81 (+/- 2.39)        & 0.73 - 0.90            & 1.76 (+/- 5.77)        & 1.56 - 1.97            & 0.95 (+/- 0.22)        & 0.0000                \\\\\n",
       "\t lactate\\_reduction    & 0.84 (+/- 1.75)        & 0.77 - 0.92            & 1.35 (+/- 2.26)        & 1.26 - 1.44            & 0.51 (+/- 0.12)        & 0.0000                \\\\\n",
       "\t creatinine\\_reduction & 0.37 (+/- 0.75)        & 0.34 - 0.39            & 0.79 (+/- 2.78)        & 0.69 - 0.89            & 0.42 (+/- 0.10)        & 0.0000                \\\\\n",
       "\\end{tabular}\n"
      ],
      "text/markdown": [
       "\n",
       "covariate | non_echo | non_echo_ci | echo | echo_ci | effect_size | p.value | \n",
       "|---|---|---|---|---|---|---|---|\n",
       "| ventfreeday28        | 13.47 (+/- 14.73)    | 12.81 - 14.14        | 14.72 (+/- 27.21)    | 13.61 - 15.84        | 1.25 (+/- 1.30)      | 0.0587               | \n",
       "| vasofreeday28        | 10.99 (+/- 13.83)    | 10.27 - 11.71        | 15.41 (+/- 17.26)    | 14.63 - 16.19        | 4.42 (+/- 1.06)      | 0.0000               | \n",
       "| dobutamine_flag      | 0.01 (+/- 0.09)      | 0.00 - 0.01          | 0.04 (+/- 0.20)      | 0.03 - 0.05          | 0.03 (+/- 0.01)      | 0.0000               | \n",
       "| sofa_drop_2          | 1.22 (+/- 4.34)      | 1.07 - 1.38          | 0.89 (+/- 3.43)      | 0.77 - 1.02          | -0.33 (+/- 0.20)     | 0.0010               | \n",
       "| sofa_drop_3          | 2.29 (+/- 4.49)      | 2.13 - 2.45          | 1.54 (+/- 4.09)      | 1.40 - 1.69          | -0.75 (+/- 0.21)     | 0.0000               | \n",
       "| norepinephrine_max   | 0.81 (+/- 2.39)      | 0.73 - 0.90          | 1.76 (+/- 5.77)      | 1.56 - 1.97          | 0.95 (+/- 0.22)      | 0.0000               | \n",
       "| lactate_reduction    | 0.84 (+/- 1.75)      | 0.77 - 0.92          | 1.35 (+/- 2.26)      | 1.26 - 1.44          | 0.51 (+/- 0.12)      | 0.0000               | \n",
       "| creatinine_reduction | 0.37 (+/- 0.75)      | 0.34 - 0.39          | 0.79 (+/- 2.78)      | 0.69 - 0.89          | 0.42 (+/- 0.10)      | 0.0000               | \n",
       "\n",
       "\n"
      ],
      "text/plain": [
       "  covariate            non_echo          non_echo_ci   echo             \n",
       "1 ventfreeday28        13.47 (+/- 14.73) 12.81 - 14.14 14.72 (+/- 27.21)\n",
       "2 vasofreeday28        10.99 (+/- 13.83) 10.27 - 11.71 15.41 (+/- 17.26)\n",
       "3 dobutamine_flag      0.01 (+/- 0.09)   0.00 - 0.01   0.04 (+/- 0.20)  \n",
       "4 sofa_drop_2          1.22 (+/- 4.34)   1.07 - 1.38   0.89 (+/- 3.43)  \n",
       "5 sofa_drop_3          2.29 (+/- 4.49)   2.13 - 2.45   1.54 (+/- 4.09)  \n",
       "6 norepinephrine_max   0.81 (+/- 2.39)   0.73 - 0.90   1.76 (+/- 5.77)  \n",
       "7 lactate_reduction    0.84 (+/- 1.75)   0.77 - 0.92   1.35 (+/- 2.26)  \n",
       "8 creatinine_reduction 0.37 (+/- 0.75)   0.34 - 0.39   0.79 (+/- 2.78)  \n",
       "  echo_ci       effect_size      p.value\n",
       "1 13.61 - 15.84 1.25 (+/- 1.30)  0.0587 \n",
       "2 14.63 - 16.19 4.42 (+/- 1.06)  0.0000 \n",
       "3 0.03 - 0.05   0.03 (+/- 0.01)  0.0000 \n",
       "4 0.77 - 1.02   -0.33 (+/- 0.20) 0.0010 \n",
       "5 1.40 - 1.69   -0.75 (+/- 0.21) 0.0000 \n",
       "6 1.56 - 1.97   0.95 (+/- 0.22)  0.0000 \n",
       "7 1.26 - 1.44   0.51 (+/- 0.12)  0.0000 \n",
       "8 0.69 - 0.89   0.42 (+/- 0.10)  0.0000 "
      ]
     },
     "metadata": {},
     "output_type": "display_data"
    }
   ],
   "source": [
    "tab <- tb %>%\n",
    "inner_join(cis, by = \"covariate\") %>%\n",
    "mutate(non_echo = sprintf(\"%.2f (+/- %.2f)\", mean_0, sd_0)) %>%\n",
    "mutate(echo = sprintf(\"%.2f (+/- %.2f)\", mean_1, sd_1)) %>%\n",
    "mutate(non_echo_ci = sprintf(\"%.2f - %.2f\", f_0, t_0)) %>%\n",
    "mutate(echo_ci = sprintf(\"%.2f - %.2f\", f_1, t_1)) %>%\n",
    "mutate(effect_size = sprintf(\"%.2f (+/- %.2f)\", dif, ci)) %>%\n",
    "mutate(p.value = sprintf(\"%.4f\", p.value)) %>%\n",
    "select(covariate, non_echo, non_echo_ci, echo, echo_ci, effect_size, p.value)\n",
    "tab"
   ]
  },
  {
   "cell_type": "code",
   "execution_count": 12,
   "metadata": {},
   "outputs": [],
   "source": [
    "data.table::fwrite(tab, file.path(data_dir, \"subgroup_tableone.csv\"))"
   ]
  }
 ],
 "metadata": {
  "kernelspec": {
   "display_name": "R",
   "language": "R",
   "name": "ir"
  },
  "language_info": {
   "codemirror_mode": "r",
   "file_extension": ".r",
   "mimetype": "text/x-r-source",
   "name": "R",
   "pygments_lexer": "r",
   "version": "3.4.3"
  },
  "varInspector": {
   "cols": {
    "lenName": 16,
    "lenType": 16,
    "lenVar": 40
   },
   "kernels_config": {
    "python": {
     "delete_cmd_postfix": "",
     "delete_cmd_prefix": "del ",
     "library": "var_list.py",
     "varRefreshCmd": "print(var_dic_list())"
    },
    "r": {
     "delete_cmd_postfix": ") ",
     "delete_cmd_prefix": "rm(",
     "library": "var_list.r",
     "varRefreshCmd": "cat(var_dic_list()) "
    }
   },
   "types_to_exclude": [
    "module",
    "function",
    "builtin_function_or_method",
    "instance",
    "_Feature"
   ],
   "window_display": false
  }
 },
 "nbformat": 4,
 "nbformat_minor": 2
}
