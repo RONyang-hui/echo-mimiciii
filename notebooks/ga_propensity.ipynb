{
 "cells": [
  {
   "cell_type": "code",
   "execution_count": null,
   "metadata": {},
   "outputs": [],
   "source": [
    "library(RPostgreSQL)\n",
    "library(memoise)\n",
    "library(xgboost)\n",
    "library(caret)\n",
    "library(GA)\n",
    "library(tidyverse)"
   ]
  },
  {
   "cell_type": "code",
   "execution_count": null,
   "metadata": {},
   "outputs": [],
   "source": [
    "drv <- dbDriver(\"PostgreSQL\")\n",
    "con <- dbConnect(drv, dbname = \"mimic\")\n",
    "dbSendQuery(con, \"set search_path=echo,public,mimiciii;\")"
   ]
  },
  {
   "cell_type": "code",
   "execution_count": null,
   "metadata": {},
   "outputs": [],
   "source": [
    "full_data <- dbGetQuery(con, \"select * from merged_data\")"
   ]
  },
  {
   "cell_type": "code",
   "execution_count": null,
   "metadata": {},
   "outputs": [],
   "source": [
    "dbDisconnect(con)\n",
    "dbUnloadDriver(drv)"
   ]
  },
  {
   "cell_type": "code",
   "execution_count": null,
   "metadata": {},
   "outputs": [],
   "source": [
    "head(full_data)\n",
    "names(full_data)\n",
    "dim(full_data)"
   ]
  },
  {
   "cell_type": "code",
   "execution_count": null,
   "metadata": {},
   "outputs": [],
   "source": [
    "feature_names <- full_data %>%\n",
    "    names %>%\n",
    "    keep(grepl(\"vs|lab|icd|age|gender|weight|saps|sofa|elix_score|vent|vaso|los\", .)) %>%\n",
    "    discard(grepl(\"vs|lab\", .) & grepl(\"flag\", .) & !grepl(\"bnp|troponin|kinase\", .)) %>%\n",
    "    discard(grepl(\"bnp|troponin|kinase\", .) & !grepl(\"flag\", .)) %>%\n",
    "    discard(grepl(\"min|max\", .))\n",
    "feature_names\n",
    "length(feature_names)"
   ]
  },
  {
   "cell_type": "code",
   "execution_count": null,
   "metadata": {},
   "outputs": [],
   "source": [
    "features <- full_data %>%\n",
    "    select(!!!rlang::syms(feature_names)) %>%\n",
    "    mutate(gender = as.integer(as.factor(gender)))\n",
    "head(features)"
   ]
  },
  {
   "cell_type": "code",
   "execution_count": null,
   "metadata": {},
   "outputs": [],
   "source": [
    "label <- full_data %>% pull(echo)\n",
    "head(label)"
   ]
  },
  {
   "cell_type": "code",
   "execution_count": null,
   "metadata": {},
   "outputs": [],
   "source": [
    "cost <- function(string, x, y) {\n",
    "    features_mtx <- x[, which(string == 1)] %>% data.matrix\n",
    "    label <- y\n",
    "    1:nrow(features_mtx) %>%\n",
    "    createFolds(5) %>%\n",
    "    map_dbl(function(index) {\n",
    "        model <- xgboost(features_mtx[index, ], label[index],\n",
    "                         params = list(objective = \"binary:logistic\"),\n",
    "                         nrounds = 100, verbose = 0)\n",
    "        pred <- predict(model, features_mtx[-index, ])\n",
    "        ROCR::performance(ROCR::prediction(pred, label[-index]), \"auc\")@y.values %>% first\n",
    "    }) %>% mean\n",
    "}"
   ]
  },
  {
   "cell_type": "code",
   "execution_count": null,
   "metadata": {},
   "outputs": [],
   "source": [
    "cost(base::sample(0:1, ncol(features), replace = TRUE), features, label)"
   ]
  },
  {
   "cell_type": "code",
   "execution_count": null,
   "metadata": {},
   "outputs": [],
   "source": [
    "mcost <- memoise(cost)\n",
    "is.memoised(mcost)"
   ]
  },
  {
   "cell_type": "code",
   "execution_count": null,
   "metadata": {},
   "outputs": [],
   "source": [
    "initialPop <- function(object, ...) {\n",
    "    population <- sample(0:1, \n",
    "                         replace = TRUE, \n",
    "                         size = object@nBits * object@popSize, \n",
    "                         prob = c(0.9, 0.1))\n",
    "    population <- matrix(population, \n",
    "                         nrow = object@popSize, \n",
    "                         ncol = object@nBits)\n",
    "    return(population)\n",
    "}"
   ]
  },
  {
   "cell_type": "code",
   "execution_count": null,
   "metadata": {},
   "outputs": [],
   "source": [
    "ga_results <- ga(type = \"binary\",\n",
    "                 fitness = mcost,\n",
    "                 x = features,\n",
    "                 y = label,\n",
    "                 min = 0, max = 1,\n",
    "                 maxiter = 1,\n",
    "                 popSize = 10,\n",
    "                 population = initialPop,\n",
    "                 nBits = ncol(features),\n",
    "                 names = feature_names,\n",
    "                 keepBest = TRUE,\n",
    "                 parallel = 4)"
   ]
  },
  {
   "cell_type": "code",
   "execution_count": null,
   "metadata": {},
   "outputs": [],
   "source": [
    "ga_results"
   ]
  }
 ],
 "metadata": {
  "kernelspec": {
   "display_name": "R",
   "language": "R",
   "name": "ir"
  },
  "language_info": {
   "codemirror_mode": "r",
   "file_extension": ".r",
   "mimetype": "text/x-r-source",
   "name": "R",
   "pygments_lexer": "r",
   "version": "3.4.3"
  }
 },
 "nbformat": 4,
 "nbformat_minor": 2
}
