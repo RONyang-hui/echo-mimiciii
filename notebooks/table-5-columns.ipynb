{
 "cells": [
  {
   "cell_type": "code",
   "execution_count": 1,
   "metadata": {},
   "outputs": [
    {
     "name": "stderr",
     "output_type": "stream",
     "text": [
      "Loading required package: DBI\n",
      "Loading required package: MASS\n",
      "## \n",
      "##  Matching (Version 4.9-2, Build Date: 2015-12-25)\n",
      "##  See http://sekhon.berkeley.edu/matching for additional documentation.\n",
      "##  Please cite software as:\n",
      "##   Jasjeet S. Sekhon. 2011. ``Multivariate and Propensity Score Matching\n",
      "##   Software with Automated Balance Optimization: The Matching package for R.''\n",
      "##   Journal of Statistical Software, 42(7): 1-52. \n",
      "##\n",
      "\n",
      "── Attaching packages ─────────────────────────────────────── tidyverse 1.2.1 ──\n",
      "✔ ggplot2 2.2.1     ✔ purrr   0.2.4\n",
      "✔ tibble  1.4.1     ✔ dplyr   0.7.4\n",
      "✔ tidyr   0.7.2     ✔ stringr 1.2.0\n",
      "✔ readr   1.1.1     ✔ forcats 0.2.0\n",
      "── Conflicts ────────────────────────────────────────── tidyverse_conflicts() ──\n",
      "✖ dplyr::filter() masks stats::filter()\n",
      "✖ dplyr::lag()    masks stats::lag()\n",
      "✖ dplyr::select() masks MASS::select()\n"
     ]
    }
   ],
   "source": [
    "library(RPostgreSQL)\n",
    "library(Matching)\n",
    "library(tidyverse)"
   ]
  },
  {
   "cell_type": "code",
   "execution_count": 2,
   "metadata": {},
   "outputs": [],
   "source": [
    "data_dir <- file.path(\"..\", \"data\")\n",
    "sql_dir <- file.path(\"..\", \"sql\")"
   ]
  },
  {
   "cell_type": "code",
   "execution_count": 3,
   "metadata": {},
   "outputs": [
    {
     "data": {
      "text/plain": [
       "<PostgreSQLResult>"
      ]
     },
     "metadata": {},
     "output_type": "display_data"
    }
   ],
   "source": [
    "drv <- dbDriver(\"PostgreSQL\")\n",
    "con <- dbConnect(drv, dbname = \"mimic\")\n",
    "dbSendQuery(con, \"set search_path=echo,public,mimiciii;\")"
   ]
  },
  {
   "cell_type": "code",
   "execution_count": 4,
   "metadata": {},
   "outputs": [
    {
     "data": {
      "text/html": [
       "<table>\n",
       "<thead><tr><th scope=col>icustay_id</th><th scope=col>ventfreeday28</th></tr></thead>\n",
       "<tbody>\n",
       "\t<tr><td>200325  </td><td>21.95833</td></tr>\n",
       "\t<tr><td>200339  </td><td>21.10000</td></tr>\n",
       "\t<tr><td>200820  </td><td>28.00000</td></tr>\n",
       "\t<tr><td>201528  </td><td>12.10417</td></tr>\n",
       "\t<tr><td>201598  </td><td>28.00000</td></tr>\n",
       "\t<tr><td>201741  </td><td> 0.00000</td></tr>\n",
       "</tbody>\n",
       "</table>\n"
      ],
      "text/latex": [
       "\\begin{tabular}{r|ll}\n",
       " icustay\\_id & ventfreeday28\\\\\n",
       "\\hline\n",
       "\t 200325   & 21.95833\\\\\n",
       "\t 200339   & 21.10000\\\\\n",
       "\t 200820   & 28.00000\\\\\n",
       "\t 201528   & 12.10417\\\\\n",
       "\t 201598   & 28.00000\\\\\n",
       "\t 201741   &  0.00000\\\\\n",
       "\\end{tabular}\n"
      ],
      "text/markdown": [
       "\n",
       "icustay_id | ventfreeday28 | \n",
       "|---|---|---|---|---|---|\n",
       "| 200325   | 21.95833 | \n",
       "| 200339   | 21.10000 | \n",
       "| 200820   | 28.00000 | \n",
       "| 201528   | 12.10417 | \n",
       "| 201598   | 28.00000 | \n",
       "| 201741   |  0.00000 | \n",
       "\n",
       "\n"
      ],
      "text/plain": [
       "  icustay_id ventfreeday28\n",
       "1 200325     21.95833     \n",
       "2 200339     21.10000     \n",
       "3 200820     28.00000     \n",
       "4 201528     12.10417     \n",
       "5 201598     28.00000     \n",
       "6 201741      0.00000     "
      ]
     },
     "metadata": {},
     "output_type": "display_data"
    }
   ],
   "source": [
    "ventfreedays <- dbGetQuery(con, \"select icustay_id, ventfreeday28 from subgroup;\")\n",
    "head(ventfreedays)"
   ]
  },
  {
   "cell_type": "code",
   "execution_count": 5,
   "metadata": {},
   "outputs": [],
   "source": [
    "full_data <- readRDS(file.path(data_dir, \"full_data_ps.rds\"))"
   ]
  },
  {
   "cell_type": "code",
   "execution_count": 6,
   "metadata": {},
   "outputs": [
    {
     "data": {
      "text/html": [
       "<ol class=list-inline>\n",
       "\t<li>'icustay_id'</li>\n",
       "\t<li>'hadm_id'</li>\n",
       "\t<li>'subject_id'</li>\n",
       "\t<li>'first_careunit'</li>\n",
       "\t<li>'intime'</li>\n",
       "\t<li>'outtime'</li>\n",
       "\t<li>'angus'</li>\n",
       "\t<li>'age'</li>\n",
       "\t<li>'icu_order'</li>\n",
       "\t<li>'echo_time'</li>\n",
       "\t<li>'echo'</li>\n",
       "\t<li>'gender'</li>\n",
       "\t<li>'weight'</li>\n",
       "\t<li>'saps'</li>\n",
       "\t<li>'sofa'</li>\n",
       "\t<li>'elix_score'</li>\n",
       "\t<li>'vent'</li>\n",
       "\t<li>'vaso'</li>\n",
       "\t<li>'icu_adm_weekday'</li>\n",
       "\t<li>'icu_adm_hour'</li>\n",
       "\t<li>'mort_28_day'</li>\n",
       "\t<li>'icu_los_day'</li>\n",
       "\t<li>'icd_chf'</li>\n",
       "\t<li>'icd_afib'</li>\n",
       "\t<li>'icd_renal'</li>\n",
       "\t<li>'icd_liver'</li>\n",
       "\t<li>'icd_copd'</li>\n",
       "\t<li>'icd_cad'</li>\n",
       "\t<li>'icd_stroke'</li>\n",
       "\t<li>'icd_malignancy'</li>\n",
       "\t<li>'vs_temp_flag'</li>\n",
       "\t<li>'vs_temp_first'</li>\n",
       "\t<li>'vs_temp_min'</li>\n",
       "\t<li>'vs_temp_max'</li>\n",
       "\t<li>'vs_map_flag'</li>\n",
       "\t<li>'vs_map_first'</li>\n",
       "\t<li>'vs_map_min'</li>\n",
       "\t<li>'vs_map_max'</li>\n",
       "\t<li>'vs_cvp_flag'</li>\n",
       "\t<li>'vs_cvp_first'</li>\n",
       "\t<li>'vs_cvp_min'</li>\n",
       "\t<li>'vs_cvp_max'</li>\n",
       "\t<li>'vs_heart_rate_flag'</li>\n",
       "\t<li>'vs_heart_rate_first'</li>\n",
       "\t<li>'vs_heart_rate_min'</li>\n",
       "\t<li>'vs_heart_rate_max'</li>\n",
       "\t<li>'lab_hemoglobin_flag'</li>\n",
       "\t<li>'lab_hemoglobin_first'</li>\n",
       "\t<li>'lab_hemoglobin_min'</li>\n",
       "\t<li>'lab_hemoglobin_max'</li>\n",
       "\t<li>'lab_hemoglobin_abnormal'</li>\n",
       "\t<li>'lab_wbc_flag'</li>\n",
       "\t<li>'lab_wbc_first'</li>\n",
       "\t<li>'lab_wbc_min'</li>\n",
       "\t<li>'lab_wbc_max'</li>\n",
       "\t<li>'lab_wbc_abnormal'</li>\n",
       "\t<li>'lab_lactate_flag'</li>\n",
       "\t<li>'lab_lactate_first'</li>\n",
       "\t<li>'lab_lactate_min'</li>\n",
       "\t<li>'lab_lactate_max'</li>\n",
       "\t<li>'lab_lactate_abnormal'</li>\n",
       "\t<li>'lab_po2_flag'</li>\n",
       "\t<li>'lab_po2_first'</li>\n",
       "\t<li>'lab_po2_min'</li>\n",
       "\t<li>'lab_po2_max'</li>\n",
       "\t<li>'lab_po2_abnormal'</li>\n",
       "\t<li>'lab_troponin_flag'</li>\n",
       "\t<li>'lab_troponin_first'</li>\n",
       "\t<li>'lab_troponin_min'</li>\n",
       "\t<li>'lab_troponin_max'</li>\n",
       "\t<li>'lab_troponin_abnormal'</li>\n",
       "\t<li>'lab_potassium_flag'</li>\n",
       "\t<li>'lab_potassium_first'</li>\n",
       "\t<li>'lab_potassium_min'</li>\n",
       "\t<li>'lab_potassium_max'</li>\n",
       "\t<li>'lab_potassium_abnormal'</li>\n",
       "\t<li>'lab_creatinine_kinase_flag'</li>\n",
       "\t<li>'lab_creatinine_kinase_first'</li>\n",
       "\t<li>'lab_creatinine_kinase_min'</li>\n",
       "\t<li>'lab_creatinine_kinase_max'</li>\n",
       "\t<li>'lab_creatinine_kinase_abnormal'</li>\n",
       "\t<li>'lab_creatinine_flag'</li>\n",
       "\t<li>'lab_creatinine_first'</li>\n",
       "\t<li>'lab_creatinine_min'</li>\n",
       "\t<li>'lab_creatinine_max'</li>\n",
       "\t<li>'lab_creatinine_abnormal'</li>\n",
       "\t<li>'lab_pco2_flag'</li>\n",
       "\t<li>'lab_pco2_first'</li>\n",
       "\t<li>'lab_pco2_min'</li>\n",
       "\t<li>'lab_pco2_max'</li>\n",
       "\t<li>'lab_pco2_abnormal'</li>\n",
       "\t<li>'lab_bnp_flag'</li>\n",
       "\t<li>'lab_bnp_first'</li>\n",
       "\t<li>'lab_bnp_min'</li>\n",
       "\t<li>'lab_bnp_max'</li>\n",
       "\t<li>'lab_bnp_abnormal'</li>\n",
       "\t<li>'lab_bicarbonate_flag'</li>\n",
       "\t<li>'lab_bicarbonate_first'</li>\n",
       "\t<li>'lab_bicarbonate_min'</li>\n",
       "\t<li>'lab_bicarbonate_max'</li>\n",
       "\t<li>'lab_bicarbonate_abnormal'</li>\n",
       "\t<li>'lab_bun_flag'</li>\n",
       "\t<li>'lab_bun_first'</li>\n",
       "\t<li>'lab_bun_min'</li>\n",
       "\t<li>'lab_bun_max'</li>\n",
       "\t<li>'lab_bun_abnormal'</li>\n",
       "\t<li>'lab_platelet_flag'</li>\n",
       "\t<li>'lab_platelet_first'</li>\n",
       "\t<li>'lab_platelet_min'</li>\n",
       "\t<li>'lab_platelet_max'</li>\n",
       "\t<li>'lab_platelet_abnormal'</li>\n",
       "\t<li>'lab_sodium_flag'</li>\n",
       "\t<li>'lab_sodium_first'</li>\n",
       "\t<li>'lab_sodium_min'</li>\n",
       "\t<li>'lab_sodium_max'</li>\n",
       "\t<li>'lab_sodium_abnormal'</li>\n",
       "\t<li>'lab_chloride_flag'</li>\n",
       "\t<li>'lab_chloride_first'</li>\n",
       "\t<li>'lab_chloride_min'</li>\n",
       "\t<li>'lab_chloride_max'</li>\n",
       "\t<li>'lab_chloride_abnormal'</li>\n",
       "\t<li>'lab_ph_flag'</li>\n",
       "\t<li>'lab_ph_first'</li>\n",
       "\t<li>'lab_ph_min'</li>\n",
       "\t<li>'lab_ph_max'</li>\n",
       "\t<li>'lab_ph_abnormal'</li>\n",
       "\t<li>'sedative'</li>\n",
       "\t<li>'echo_int'</li>\n",
       "\t<li>'mort_28_day_int'</li>\n",
       "\t<li>'ps'</li>\n",
       "\t<li>'ps_weight'</li>\n",
       "</ol>\n"
      ],
      "text/latex": [
       "\\begin{enumerate*}\n",
       "\\item 'icustay\\_id'\n",
       "\\item 'hadm\\_id'\n",
       "\\item 'subject\\_id'\n",
       "\\item 'first\\_careunit'\n",
       "\\item 'intime'\n",
       "\\item 'outtime'\n",
       "\\item 'angus'\n",
       "\\item 'age'\n",
       "\\item 'icu\\_order'\n",
       "\\item 'echo\\_time'\n",
       "\\item 'echo'\n",
       "\\item 'gender'\n",
       "\\item 'weight'\n",
       "\\item 'saps'\n",
       "\\item 'sofa'\n",
       "\\item 'elix\\_score'\n",
       "\\item 'vent'\n",
       "\\item 'vaso'\n",
       "\\item 'icu\\_adm\\_weekday'\n",
       "\\item 'icu\\_adm\\_hour'\n",
       "\\item 'mort\\_28\\_day'\n",
       "\\item 'icu\\_los\\_day'\n",
       "\\item 'icd\\_chf'\n",
       "\\item 'icd\\_afib'\n",
       "\\item 'icd\\_renal'\n",
       "\\item 'icd\\_liver'\n",
       "\\item 'icd\\_copd'\n",
       "\\item 'icd\\_cad'\n",
       "\\item 'icd\\_stroke'\n",
       "\\item 'icd\\_malignancy'\n",
       "\\item 'vs\\_temp\\_flag'\n",
       "\\item 'vs\\_temp\\_first'\n",
       "\\item 'vs\\_temp\\_min'\n",
       "\\item 'vs\\_temp\\_max'\n",
       "\\item 'vs\\_map\\_flag'\n",
       "\\item 'vs\\_map\\_first'\n",
       "\\item 'vs\\_map\\_min'\n",
       "\\item 'vs\\_map\\_max'\n",
       "\\item 'vs\\_cvp\\_flag'\n",
       "\\item 'vs\\_cvp\\_first'\n",
       "\\item 'vs\\_cvp\\_min'\n",
       "\\item 'vs\\_cvp\\_max'\n",
       "\\item 'vs\\_heart\\_rate\\_flag'\n",
       "\\item 'vs\\_heart\\_rate\\_first'\n",
       "\\item 'vs\\_heart\\_rate\\_min'\n",
       "\\item 'vs\\_heart\\_rate\\_max'\n",
       "\\item 'lab\\_hemoglobin\\_flag'\n",
       "\\item 'lab\\_hemoglobin\\_first'\n",
       "\\item 'lab\\_hemoglobin\\_min'\n",
       "\\item 'lab\\_hemoglobin\\_max'\n",
       "\\item 'lab\\_hemoglobin\\_abnormal'\n",
       "\\item 'lab\\_wbc\\_flag'\n",
       "\\item 'lab\\_wbc\\_first'\n",
       "\\item 'lab\\_wbc\\_min'\n",
       "\\item 'lab\\_wbc\\_max'\n",
       "\\item 'lab\\_wbc\\_abnormal'\n",
       "\\item 'lab\\_lactate\\_flag'\n",
       "\\item 'lab\\_lactate\\_first'\n",
       "\\item 'lab\\_lactate\\_min'\n",
       "\\item 'lab\\_lactate\\_max'\n",
       "\\item 'lab\\_lactate\\_abnormal'\n",
       "\\item 'lab\\_po2\\_flag'\n",
       "\\item 'lab\\_po2\\_first'\n",
       "\\item 'lab\\_po2\\_min'\n",
       "\\item 'lab\\_po2\\_max'\n",
       "\\item 'lab\\_po2\\_abnormal'\n",
       "\\item 'lab\\_troponin\\_flag'\n",
       "\\item 'lab\\_troponin\\_first'\n",
       "\\item 'lab\\_troponin\\_min'\n",
       "\\item 'lab\\_troponin\\_max'\n",
       "\\item 'lab\\_troponin\\_abnormal'\n",
       "\\item 'lab\\_potassium\\_flag'\n",
       "\\item 'lab\\_potassium\\_first'\n",
       "\\item 'lab\\_potassium\\_min'\n",
       "\\item 'lab\\_potassium\\_max'\n",
       "\\item 'lab\\_potassium\\_abnormal'\n",
       "\\item 'lab\\_creatinine\\_kinase\\_flag'\n",
       "\\item 'lab\\_creatinine\\_kinase\\_first'\n",
       "\\item 'lab\\_creatinine\\_kinase\\_min'\n",
       "\\item 'lab\\_creatinine\\_kinase\\_max'\n",
       "\\item 'lab\\_creatinine\\_kinase\\_abnormal'\n",
       "\\item 'lab\\_creatinine\\_flag'\n",
       "\\item 'lab\\_creatinine\\_first'\n",
       "\\item 'lab\\_creatinine\\_min'\n",
       "\\item 'lab\\_creatinine\\_max'\n",
       "\\item 'lab\\_creatinine\\_abnormal'\n",
       "\\item 'lab\\_pco2\\_flag'\n",
       "\\item 'lab\\_pco2\\_first'\n",
       "\\item 'lab\\_pco2\\_min'\n",
       "\\item 'lab\\_pco2\\_max'\n",
       "\\item 'lab\\_pco2\\_abnormal'\n",
       "\\item 'lab\\_bnp\\_flag'\n",
       "\\item 'lab\\_bnp\\_first'\n",
       "\\item 'lab\\_bnp\\_min'\n",
       "\\item 'lab\\_bnp\\_max'\n",
       "\\item 'lab\\_bnp\\_abnormal'\n",
       "\\item 'lab\\_bicarbonate\\_flag'\n",
       "\\item 'lab\\_bicarbonate\\_first'\n",
       "\\item 'lab\\_bicarbonate\\_min'\n",
       "\\item 'lab\\_bicarbonate\\_max'\n",
       "\\item 'lab\\_bicarbonate\\_abnormal'\n",
       "\\item 'lab\\_bun\\_flag'\n",
       "\\item 'lab\\_bun\\_first'\n",
       "\\item 'lab\\_bun\\_min'\n",
       "\\item 'lab\\_bun\\_max'\n",
       "\\item 'lab\\_bun\\_abnormal'\n",
       "\\item 'lab\\_platelet\\_flag'\n",
       "\\item 'lab\\_platelet\\_first'\n",
       "\\item 'lab\\_platelet\\_min'\n",
       "\\item 'lab\\_platelet\\_max'\n",
       "\\item 'lab\\_platelet\\_abnormal'\n",
       "\\item 'lab\\_sodium\\_flag'\n",
       "\\item 'lab\\_sodium\\_first'\n",
       "\\item 'lab\\_sodium\\_min'\n",
       "\\item 'lab\\_sodium\\_max'\n",
       "\\item 'lab\\_sodium\\_abnormal'\n",
       "\\item 'lab\\_chloride\\_flag'\n",
       "\\item 'lab\\_chloride\\_first'\n",
       "\\item 'lab\\_chloride\\_min'\n",
       "\\item 'lab\\_chloride\\_max'\n",
       "\\item 'lab\\_chloride\\_abnormal'\n",
       "\\item 'lab\\_ph\\_flag'\n",
       "\\item 'lab\\_ph\\_first'\n",
       "\\item 'lab\\_ph\\_min'\n",
       "\\item 'lab\\_ph\\_max'\n",
       "\\item 'lab\\_ph\\_abnormal'\n",
       "\\item 'sedative'\n",
       "\\item 'echo\\_int'\n",
       "\\item 'mort\\_28\\_day\\_int'\n",
       "\\item 'ps'\n",
       "\\item 'ps\\_weight'\n",
       "\\end{enumerate*}\n"
      ],
      "text/markdown": [
       "1. 'icustay_id'\n",
       "2. 'hadm_id'\n",
       "3. 'subject_id'\n",
       "4. 'first_careunit'\n",
       "5. 'intime'\n",
       "6. 'outtime'\n",
       "7. 'angus'\n",
       "8. 'age'\n",
       "9. 'icu_order'\n",
       "10. 'echo_time'\n",
       "11. 'echo'\n",
       "12. 'gender'\n",
       "13. 'weight'\n",
       "14. 'saps'\n",
       "15. 'sofa'\n",
       "16. 'elix_score'\n",
       "17. 'vent'\n",
       "18. 'vaso'\n",
       "19. 'icu_adm_weekday'\n",
       "20. 'icu_adm_hour'\n",
       "21. 'mort_28_day'\n",
       "22. 'icu_los_day'\n",
       "23. 'icd_chf'\n",
       "24. 'icd_afib'\n",
       "25. 'icd_renal'\n",
       "26. 'icd_liver'\n",
       "27. 'icd_copd'\n",
       "28. 'icd_cad'\n",
       "29. 'icd_stroke'\n",
       "30. 'icd_malignancy'\n",
       "31. 'vs_temp_flag'\n",
       "32. 'vs_temp_first'\n",
       "33. 'vs_temp_min'\n",
       "34. 'vs_temp_max'\n",
       "35. 'vs_map_flag'\n",
       "36. 'vs_map_first'\n",
       "37. 'vs_map_min'\n",
       "38. 'vs_map_max'\n",
       "39. 'vs_cvp_flag'\n",
       "40. 'vs_cvp_first'\n",
       "41. 'vs_cvp_min'\n",
       "42. 'vs_cvp_max'\n",
       "43. 'vs_heart_rate_flag'\n",
       "44. 'vs_heart_rate_first'\n",
       "45. 'vs_heart_rate_min'\n",
       "46. 'vs_heart_rate_max'\n",
       "47. 'lab_hemoglobin_flag'\n",
       "48. 'lab_hemoglobin_first'\n",
       "49. 'lab_hemoglobin_min'\n",
       "50. 'lab_hemoglobin_max'\n",
       "51. 'lab_hemoglobin_abnormal'\n",
       "52. 'lab_wbc_flag'\n",
       "53. 'lab_wbc_first'\n",
       "54. 'lab_wbc_min'\n",
       "55. 'lab_wbc_max'\n",
       "56. 'lab_wbc_abnormal'\n",
       "57. 'lab_lactate_flag'\n",
       "58. 'lab_lactate_first'\n",
       "59. 'lab_lactate_min'\n",
       "60. 'lab_lactate_max'\n",
       "61. 'lab_lactate_abnormal'\n",
       "62. 'lab_po2_flag'\n",
       "63. 'lab_po2_first'\n",
       "64. 'lab_po2_min'\n",
       "65. 'lab_po2_max'\n",
       "66. 'lab_po2_abnormal'\n",
       "67. 'lab_troponin_flag'\n",
       "68. 'lab_troponin_first'\n",
       "69. 'lab_troponin_min'\n",
       "70. 'lab_troponin_max'\n",
       "71. 'lab_troponin_abnormal'\n",
       "72. 'lab_potassium_flag'\n",
       "73. 'lab_potassium_first'\n",
       "74. 'lab_potassium_min'\n",
       "75. 'lab_potassium_max'\n",
       "76. 'lab_potassium_abnormal'\n",
       "77. 'lab_creatinine_kinase_flag'\n",
       "78. 'lab_creatinine_kinase_first'\n",
       "79. 'lab_creatinine_kinase_min'\n",
       "80. 'lab_creatinine_kinase_max'\n",
       "81. 'lab_creatinine_kinase_abnormal'\n",
       "82. 'lab_creatinine_flag'\n",
       "83. 'lab_creatinine_first'\n",
       "84. 'lab_creatinine_min'\n",
       "85. 'lab_creatinine_max'\n",
       "86. 'lab_creatinine_abnormal'\n",
       "87. 'lab_pco2_flag'\n",
       "88. 'lab_pco2_first'\n",
       "89. 'lab_pco2_min'\n",
       "90. 'lab_pco2_max'\n",
       "91. 'lab_pco2_abnormal'\n",
       "92. 'lab_bnp_flag'\n",
       "93. 'lab_bnp_first'\n",
       "94. 'lab_bnp_min'\n",
       "95. 'lab_bnp_max'\n",
       "96. 'lab_bnp_abnormal'\n",
       "97. 'lab_bicarbonate_flag'\n",
       "98. 'lab_bicarbonate_first'\n",
       "99. 'lab_bicarbonate_min'\n",
       "100. 'lab_bicarbonate_max'\n",
       "101. 'lab_bicarbonate_abnormal'\n",
       "102. 'lab_bun_flag'\n",
       "103. 'lab_bun_first'\n",
       "104. 'lab_bun_min'\n",
       "105. 'lab_bun_max'\n",
       "106. 'lab_bun_abnormal'\n",
       "107. 'lab_platelet_flag'\n",
       "108. 'lab_platelet_first'\n",
       "109. 'lab_platelet_min'\n",
       "110. 'lab_platelet_max'\n",
       "111. 'lab_platelet_abnormal'\n",
       "112. 'lab_sodium_flag'\n",
       "113. 'lab_sodium_first'\n",
       "114. 'lab_sodium_min'\n",
       "115. 'lab_sodium_max'\n",
       "116. 'lab_sodium_abnormal'\n",
       "117. 'lab_chloride_flag'\n",
       "118. 'lab_chloride_first'\n",
       "119. 'lab_chloride_min'\n",
       "120. 'lab_chloride_max'\n",
       "121. 'lab_chloride_abnormal'\n",
       "122. 'lab_ph_flag'\n",
       "123. 'lab_ph_first'\n",
       "124. 'lab_ph_min'\n",
       "125. 'lab_ph_max'\n",
       "126. 'lab_ph_abnormal'\n",
       "127. 'sedative'\n",
       "128. 'echo_int'\n",
       "129. 'mort_28_day_int'\n",
       "130. 'ps'\n",
       "131. 'ps_weight'\n",
       "\n",
       "\n"
      ],
      "text/plain": [
       "  [1] \"icustay_id\"                     \"hadm_id\"                       \n",
       "  [3] \"subject_id\"                     \"first_careunit\"                \n",
       "  [5] \"intime\"                         \"outtime\"                       \n",
       "  [7] \"angus\"                          \"age\"                           \n",
       "  [9] \"icu_order\"                      \"echo_time\"                     \n",
       " [11] \"echo\"                           \"gender\"                        \n",
       " [13] \"weight\"                         \"saps\"                          \n",
       " [15] \"sofa\"                           \"elix_score\"                    \n",
       " [17] \"vent\"                           \"vaso\"                          \n",
       " [19] \"icu_adm_weekday\"                \"icu_adm_hour\"                  \n",
       " [21] \"mort_28_day\"                    \"icu_los_day\"                   \n",
       " [23] \"icd_chf\"                        \"icd_afib\"                      \n",
       " [25] \"icd_renal\"                      \"icd_liver\"                     \n",
       " [27] \"icd_copd\"                       \"icd_cad\"                       \n",
       " [29] \"icd_stroke\"                     \"icd_malignancy\"                \n",
       " [31] \"vs_temp_flag\"                   \"vs_temp_first\"                 \n",
       " [33] \"vs_temp_min\"                    \"vs_temp_max\"                   \n",
       " [35] \"vs_map_flag\"                    \"vs_map_first\"                  \n",
       " [37] \"vs_map_min\"                     \"vs_map_max\"                    \n",
       " [39] \"vs_cvp_flag\"                    \"vs_cvp_first\"                  \n",
       " [41] \"vs_cvp_min\"                     \"vs_cvp_max\"                    \n",
       " [43] \"vs_heart_rate_flag\"             \"vs_heart_rate_first\"           \n",
       " [45] \"vs_heart_rate_min\"              \"vs_heart_rate_max\"             \n",
       " [47] \"lab_hemoglobin_flag\"            \"lab_hemoglobin_first\"          \n",
       " [49] \"lab_hemoglobin_min\"             \"lab_hemoglobin_max\"            \n",
       " [51] \"lab_hemoglobin_abnormal\"        \"lab_wbc_flag\"                  \n",
       " [53] \"lab_wbc_first\"                  \"lab_wbc_min\"                   \n",
       " [55] \"lab_wbc_max\"                    \"lab_wbc_abnormal\"              \n",
       " [57] \"lab_lactate_flag\"               \"lab_lactate_first\"             \n",
       " [59] \"lab_lactate_min\"                \"lab_lactate_max\"               \n",
       " [61] \"lab_lactate_abnormal\"           \"lab_po2_flag\"                  \n",
       " [63] \"lab_po2_first\"                  \"lab_po2_min\"                   \n",
       " [65] \"lab_po2_max\"                    \"lab_po2_abnormal\"              \n",
       " [67] \"lab_troponin_flag\"              \"lab_troponin_first\"            \n",
       " [69] \"lab_troponin_min\"               \"lab_troponin_max\"              \n",
       " [71] \"lab_troponin_abnormal\"          \"lab_potassium_flag\"            \n",
       " [73] \"lab_potassium_first\"            \"lab_potassium_min\"             \n",
       " [75] \"lab_potassium_max\"              \"lab_potassium_abnormal\"        \n",
       " [77] \"lab_creatinine_kinase_flag\"     \"lab_creatinine_kinase_first\"   \n",
       " [79] \"lab_creatinine_kinase_min\"      \"lab_creatinine_kinase_max\"     \n",
       " [81] \"lab_creatinine_kinase_abnormal\" \"lab_creatinine_flag\"           \n",
       " [83] \"lab_creatinine_first\"           \"lab_creatinine_min\"            \n",
       " [85] \"lab_creatinine_max\"             \"lab_creatinine_abnormal\"       \n",
       " [87] \"lab_pco2_flag\"                  \"lab_pco2_first\"                \n",
       " [89] \"lab_pco2_min\"                   \"lab_pco2_max\"                  \n",
       " [91] \"lab_pco2_abnormal\"              \"lab_bnp_flag\"                  \n",
       " [93] \"lab_bnp_first\"                  \"lab_bnp_min\"                   \n",
       " [95] \"lab_bnp_max\"                    \"lab_bnp_abnormal\"              \n",
       " [97] \"lab_bicarbonate_flag\"           \"lab_bicarbonate_first\"         \n",
       " [99] \"lab_bicarbonate_min\"            \"lab_bicarbonate_max\"           \n",
       "[101] \"lab_bicarbonate_abnormal\"       \"lab_bun_flag\"                  \n",
       "[103] \"lab_bun_first\"                  \"lab_bun_min\"                   \n",
       "[105] \"lab_bun_max\"                    \"lab_bun_abnormal\"              \n",
       "[107] \"lab_platelet_flag\"              \"lab_platelet_first\"            \n",
       "[109] \"lab_platelet_min\"               \"lab_platelet_max\"              \n",
       "[111] \"lab_platelet_abnormal\"          \"lab_sodium_flag\"               \n",
       "[113] \"lab_sodium_first\"               \"lab_sodium_min\"                \n",
       "[115] \"lab_sodium_max\"                 \"lab_sodium_abnormal\"           \n",
       "[117] \"lab_chloride_flag\"              \"lab_chloride_first\"            \n",
       "[119] \"lab_chloride_min\"               \"lab_chloride_max\"              \n",
       "[121] \"lab_chloride_abnormal\"          \"lab_ph_flag\"                   \n",
       "[123] \"lab_ph_first\"                   \"lab_ph_min\"                    \n",
       "[125] \"lab_ph_max\"                     \"lab_ph_abnormal\"               \n",
       "[127] \"sedative\"                       \"echo_int\"                      \n",
       "[129] \"mort_28_day_int\"                \"ps\"                            \n",
       "[131] \"ps_weight\"                     "
      ]
     },
     "metadata": {},
     "output_type": "display_data"
    }
   ],
   "source": [
    "names(full_data)"
   ]
  },
  {
   "cell_type": "code",
   "execution_count": 7,
   "metadata": {},
   "outputs": [],
   "source": [
    "set.seed(4958)"
   ]
  },
  {
   "cell_type": "code",
   "execution_count": 8,
   "metadata": {},
   "outputs": [],
   "source": [
    "ps_matches <- Match(Y = NULL, Tr = full_data$echo_int, X = full_data$ps, M = 1,\n",
    "                    estimand = \"ATT\", caliper = 0.01,\n",
    "                    exact = FALSE, replace = FALSE)"
   ]
  },
  {
   "cell_type": "code",
   "execution_count": 9,
   "metadata": {},
   "outputs": [
    {
     "data": {
      "text/html": [
       "<table>\n",
       "<thead><tr><th scope=col>icustay_id</th><th scope=col>match</th></tr></thead>\n",
       "<tbody>\n",
       "\t<tr><td>289157</td><td>288615</td></tr>\n",
       "\t<tr><td>284489</td><td>217156</td></tr>\n",
       "\t<tr><td>251858</td><td>238836</td></tr>\n",
       "\t<tr><td>269654</td><td>259409</td></tr>\n",
       "\t<tr><td>281742</td><td>280230</td></tr>\n",
       "\t<tr><td>238407</td><td>203972</td></tr>\n",
       "</tbody>\n",
       "</table>\n"
      ],
      "text/latex": [
       "\\begin{tabular}{r|ll}\n",
       " icustay\\_id & match\\\\\n",
       "\\hline\n",
       "\t 289157 & 288615\\\\\n",
       "\t 284489 & 217156\\\\\n",
       "\t 251858 & 238836\\\\\n",
       "\t 269654 & 259409\\\\\n",
       "\t 281742 & 280230\\\\\n",
       "\t 238407 & 203972\\\\\n",
       "\\end{tabular}\n"
      ],
      "text/markdown": [
       "\n",
       "icustay_id | match | \n",
       "|---|---|---|---|---|---|\n",
       "| 289157 | 288615 | \n",
       "| 284489 | 217156 | \n",
       "| 251858 | 238836 | \n",
       "| 269654 | 259409 | \n",
       "| 281742 | 280230 | \n",
       "| 238407 | 203972 | \n",
       "\n",
       "\n"
      ],
      "text/plain": [
       "  icustay_id match \n",
       "1 289157     288615\n",
       "2 284489     217156\n",
       "3 251858     238836\n",
       "4 269654     259409\n",
       "5 281742     280230\n",
       "6 238407     203972"
      ]
     },
     "metadata": {},
     "output_type": "display_data"
    }
   ],
   "source": [
    "matches_df <-\n",
    "full_data[ps_matches$index.treated, \"icustay_id\", drop = FALSE] %>%\n",
    "mutate(match = full_data[ps_matches$index.control, \"icustay_id\"])\n",
    "\n",
    "head(matches_df)"
   ]
  },
  {
   "cell_type": "code",
   "execution_count": 10,
   "metadata": {},
   "outputs": [
    {
     "data": {
      "text/html": [
       "<table>\n",
       "<thead><tr><th scope=col>icustay_id</th><th scope=col>Echo</th><th scope=col>ICU length of stay</th><th scope=col>28 day mortality</th><th scope=col>Ventilation free days (28 days)</th><th scope=col>Match id</th><th scope=col>Propensity score</th></tr></thead>\n",
       "<tbody>\n",
       "\t<tr><td>201220   </td><td>0        </td><td> 4.401343</td><td>1        </td><td> 0.00000 </td><td>    NA   </td><td>0.4544669</td></tr>\n",
       "\t<tr><td>215842   </td><td>0        </td><td> 1.718438</td><td>0        </td><td>28.00000 </td><td>    NA   </td><td>0.1568838</td></tr>\n",
       "\t<tr><td>234312   </td><td>0        </td><td>15.505602</td><td>0        </td><td>18.58125 </td><td>    NA   </td><td>0.3002571</td></tr>\n",
       "\t<tr><td>289157   </td><td>1        </td><td> 6.791667</td><td>0        </td><td>28.00000 </td><td>288615   </td><td>0.6991412</td></tr>\n",
       "\t<tr><td>211964   </td><td>0        </td><td> 1.350949</td><td>0        </td><td>28.00000 </td><td>    NA   </td><td>0.3432285</td></tr>\n",
       "\t<tr><td>230173   </td><td>0        </td><td> 2.918218</td><td>1        </td><td> 0.00000 </td><td>    NA   </td><td>0.2464983</td></tr>\n",
       "</tbody>\n",
       "</table>\n"
      ],
      "text/latex": [
       "\\begin{tabular}{r|lllllll}\n",
       " icustay\\_id & Echo & ICU length of stay & 28 day mortality & Ventilation free days (28 days) & Match id & Propensity score\\\\\n",
       "\\hline\n",
       "\t 201220    & 0         &  4.401343 & 1         &  0.00000  &     NA    & 0.4544669\\\\\n",
       "\t 215842    & 0         &  1.718438 & 0         & 28.00000  &     NA    & 0.1568838\\\\\n",
       "\t 234312    & 0         & 15.505602 & 0         & 18.58125  &     NA    & 0.3002571\\\\\n",
       "\t 289157    & 1         &  6.791667 & 0         & 28.00000  & 288615    & 0.6991412\\\\\n",
       "\t 211964    & 0         &  1.350949 & 0         & 28.00000  &     NA    & 0.3432285\\\\\n",
       "\t 230173    & 0         &  2.918218 & 1         &  0.00000  &     NA    & 0.2464983\\\\\n",
       "\\end{tabular}\n"
      ],
      "text/markdown": [
       "\n",
       "icustay_id | Echo | ICU length of stay | 28 day mortality | Ventilation free days (28 days) | Match id | Propensity score | \n",
       "|---|---|---|---|---|---|\n",
       "| 201220    | 0         |  4.401343 | 1         |  0.00000  |     NA    | 0.4544669 | \n",
       "| 215842    | 0         |  1.718438 | 0         | 28.00000  |     NA    | 0.1568838 | \n",
       "| 234312    | 0         | 15.505602 | 0         | 18.58125  |     NA    | 0.3002571 | \n",
       "| 289157    | 1         |  6.791667 | 0         | 28.00000  | 288615    | 0.6991412 | \n",
       "| 211964    | 0         |  1.350949 | 0         | 28.00000  |     NA    | 0.3432285 | \n",
       "| 230173    | 0         |  2.918218 | 1         |  0.00000  |     NA    | 0.2464983 | \n",
       "\n",
       "\n"
      ],
      "text/plain": [
       "  icustay_id Echo ICU length of stay 28 day mortality\n",
       "1 201220     0     4.401343          1               \n",
       "2 215842     0     1.718438          0               \n",
       "3 234312     0    15.505602          0               \n",
       "4 289157     1     6.791667          0               \n",
       "5 211964     0     1.350949          0               \n",
       "6 230173     0     2.918218          1               \n",
       "  Ventilation free days (28 days) Match id Propensity score\n",
       "1  0.00000                            NA   0.4544669       \n",
       "2 28.00000                            NA   0.1568838       \n",
       "3 18.58125                            NA   0.3002571       \n",
       "4 28.00000                        288615   0.6991412       \n",
       "5 28.00000                            NA   0.3432285       \n",
       "6  0.00000                            NA   0.2464983       "
      ]
     },
     "metadata": {},
     "output_type": "display_data"
    }
   ],
   "source": [
    "result <- full_data %>%\n",
    "left_join(ventfreedays, by = \"icustay_id\") %>%\n",
    "left_join(matches_df, by = \"icustay_id\") %>%\n",
    "select(icustay_id, echo_int, icu_los_day, mort_28_day_int, ventfreeday28, match, ps) %>%\n",
    "setNames(c(\"icustay_id\", \"Echo\", \"ICU length of stay\", \"28 day mortality\",\n",
    "           \"Ventilation free days (28 days)\", \"Match id\", \"Propensity score\"))\n",
    "\n",
    "head(result)"
   ]
  },
  {
   "cell_type": "code",
   "execution_count": 11,
   "metadata": {},
   "outputs": [
    {
     "name": "stdout",
     "output_type": "stream",
     "text": [
      "\n",
      "Estimate...  0 \n",
      "SE.........  0 \n",
      "T-stat.....  NaN \n",
      "p.val......  NA \n",
      "\n",
      "Original number of observations..............  6162 \n",
      "Original number of treated obs...............  3063 \n",
      "Matched number of observations...............  1550 \n",
      "Matched number of observations  (unweighted).  1550 \n",
      "\n",
      "Number of obs dropped by 'exact' or 'caliper'  1513 \n",
      "\n"
     ]
    }
   ],
   "source": [
    "summary(ps_matches)"
   ]
  },
  {
   "cell_type": "code",
   "execution_count": 12,
   "metadata": {},
   "outputs": [
    {
     "data": {
      "text/plain": [
       "    Control\n",
       "Echo   0   1\n",
       "   0 817 349\n",
       "   1 261 123"
      ]
     },
     "metadata": {},
     "output_type": "display_data"
    }
   ],
   "source": [
    "tab <- table(full_data$mort_28_day[ps_matches$index.treated],\n",
    "             full_data$mort_28_day[ps_matches$index.control],\n",
    "             dnn = c(\"Echo\", \"Control\"))\n",
    "tab"
   ]
  },
  {
   "cell_type": "code",
   "execution_count": 13,
   "metadata": {},
   "outputs": [
    {
     "data": {
      "text/html": [
       "0.747851002865329"
      ],
      "text/latex": [
       "0.747851002865329"
      ],
      "text/markdown": [
       "0.747851002865329"
      ],
      "text/plain": [
       "[1] 0.747851"
      ]
     },
     "metadata": {},
     "output_type": "display_data"
    },
    {
     "data": {
      "text/html": [
       "<ol class=list-inline>\n",
       "\t<li>'95% Confint 0.6370274'</li>\n",
       "\t<li>'95% Confint 0.8779545'</li>\n",
       "</ol>\n"
      ],
      "text/latex": [
       "\\begin{enumerate*}\n",
       "\\item '95\\% Confint 0.6370274'\n",
       "\\item '95\\% Confint 0.8779545'\n",
       "\\end{enumerate*}\n"
      ],
      "text/markdown": [
       "1. '95% Confint 0.6370274'\n",
       "2. '95% Confint 0.8779545'\n",
       "\n",
       "\n"
      ],
      "text/plain": [
       "[1] \"95% Confint 0.6370274\" \"95% Confint 0.8779545\""
      ]
     },
     "metadata": {},
     "output_type": "display_data"
    }
   ],
   "source": [
    "tab[2, 1] / tab[1, 2]\n",
    "paste(\"95% Confint\",\n",
    "      round(exp(c(log(tab[2, 1] / tab[1, 2]) - qnorm(0.975) * sqrt(1 / tab[1, 2] + 1 / tab[2, 1]),\n",
    "                  log(tab[2, 1] / tab[1, 2]) + qnorm(0.975) * sqrt(1 / tab[1, 2] + 1 / tab[2, 1]))), 7))"
   ]
  },
  {
   "cell_type": "code",
   "execution_count": 14,
   "metadata": {},
   "outputs": [
    {
     "data": {
      "text/plain": [
       "\n",
       "\tMcNemar's Chi-squared test with continuity correction\n",
       "\n",
       "data:  tab\n",
       "McNemar's chi-squared = 12.408, df = 1, p-value = 0.0004275\n"
      ]
     },
     "metadata": {},
     "output_type": "display_data"
    }
   ],
   "source": [
    "mcnemar.test(tab)"
   ]
  },
  {
   "cell_type": "code",
   "execution_count": 15,
   "metadata": {},
   "outputs": [],
   "source": [
    "data.table::fwrite(result, file.path(data_dir, \"table-5-columns.csv\"))"
   ]
  }
 ],
 "metadata": {
  "kernelspec": {
   "display_name": "R",
   "language": "R",
   "name": "ir"
  },
  "language_info": {
   "codemirror_mode": "r",
   "file_extension": ".r",
   "mimetype": "text/x-r-source",
   "name": "R",
   "pygments_lexer": "r",
   "version": "3.4.3"
  },
  "varInspector": {
   "cols": {
    "lenName": 16,
    "lenType": 16,
    "lenVar": 40
   },
   "kernels_config": {
    "python": {
     "delete_cmd_postfix": "",
     "delete_cmd_prefix": "del ",
     "library": "var_list.py",
     "varRefreshCmd": "print(var_dic_list())"
    },
    "r": {
     "delete_cmd_postfix": ") ",
     "delete_cmd_prefix": "rm(",
     "library": "var_list.r",
     "varRefreshCmd": "cat(var_dic_list()) "
    }
   },
   "types_to_exclude": [
    "module",
    "function",
    "builtin_function_or_method",
    "instance",
    "_Feature"
   ],
   "window_display": false
  }
 },
 "nbformat": 4,
 "nbformat_minor": 2
}
