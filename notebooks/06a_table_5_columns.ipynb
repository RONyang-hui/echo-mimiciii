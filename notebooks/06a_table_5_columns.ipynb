{
 "cells": [
  {
   "cell_type": "code",
   "execution_count": 1,
   "metadata": {},
   "outputs": [
    {
     "name": "stderr",
     "output_type": "stream",
     "text": [
      "Loading required package: DBI\n",
      "Loading required package: MASS\n",
      "## \n",
      "##  Matching (Version 4.9-2, Build Date: 2015-12-25)\n",
      "##  See http://sekhon.berkeley.edu/matching for additional documentation.\n",
      "##  Please cite software as:\n",
      "##   Jasjeet S. Sekhon. 2011. ``Multivariate and Propensity Score Matching\n",
      "##   Software with Automated Balance Optimization: The Matching package for R.''\n",
      "##   Journal of Statistical Software, 42(7): 1-52. \n",
      "##\n",
      "\n",
      "── Attaching packages ─────────────────────────────────────── tidyverse 1.2.1 ──\n",
      "✔ ggplot2 2.2.1     ✔ purrr   0.2.4\n",
      "✔ tibble  1.4.2     ✔ dplyr   0.7.4\n",
      "✔ tidyr   0.8.0     ✔ stringr 1.2.0\n",
      "✔ readr   1.1.1     ✔ forcats 0.2.0\n",
      "── Conflicts ────────────────────────────────────────── tidyverse_conflicts() ──\n",
      "✖ dplyr::filter() masks stats::filter()\n",
      "✖ dplyr::lag()    masks stats::lag()\n",
      "✖ dplyr::select() masks MASS::select()\n"
     ]
    }
   ],
   "source": [
    "library(RPostgreSQL)\n",
    "library(Matching)\n",
    "library(tidyverse)"
   ]
  },
  {
   "cell_type": "code",
   "execution_count": 2,
   "metadata": {},
   "outputs": [],
   "source": [
    "data_dir <- file.path(\"..\", \"data\")\n",
    "sql_dir <- file.path(\"..\", \"sql\")"
   ]
  },
  {
   "cell_type": "code",
   "execution_count": 3,
   "metadata": {},
   "outputs": [
    {
     "data": {
      "text/plain": [
       "<PostgreSQLResult>"
      ]
     },
     "metadata": {},
     "output_type": "display_data"
    }
   ],
   "source": [
    "drv <- dbDriver(\"PostgreSQL\")\n",
    "con <- dbConnect(drv, dbname = \"mimic\")\n",
    "dbSendQuery(con, \"set search_path=echo,public,mimiciii;\")"
   ]
  },
  {
   "cell_type": "code",
   "execution_count": 4,
   "metadata": {},
   "outputs": [
    {
     "data": {
      "text/html": [
       "<table>\n",
       "<thead><tr><th scope=col>icustay_id</th><th scope=col>ventfreeday28</th></tr></thead>\n",
       "<tbody>\n",
       "\t<tr><td>200003  </td><td>24.20833</td></tr>\n",
       "\t<tr><td>200014  </td><td> 0.00000</td></tr>\n",
       "\t<tr><td>200030  </td><td>28.00000</td></tr>\n",
       "\t<tr><td>200033  </td><td> 0.00000</td></tr>\n",
       "\t<tr><td>200036  </td><td>28.00000</td></tr>\n",
       "\t<tr><td>200075  </td><td>27.80903</td></tr>\n",
       "</tbody>\n",
       "</table>\n"
      ],
      "text/latex": [
       "\\begin{tabular}{r|ll}\n",
       " icustay\\_id & ventfreeday28\\\\\n",
       "\\hline\n",
       "\t 200003   & 24.20833\\\\\n",
       "\t 200014   &  0.00000\\\\\n",
       "\t 200030   & 28.00000\\\\\n",
       "\t 200033   &  0.00000\\\\\n",
       "\t 200036   & 28.00000\\\\\n",
       "\t 200075   & 27.80903\\\\\n",
       "\\end{tabular}\n"
      ],
      "text/markdown": [
       "\n",
       "icustay_id | ventfreeday28 | \n",
       "|---|---|---|---|---|---|\n",
       "| 200003   | 24.20833 | \n",
       "| 200014   |  0.00000 | \n",
       "| 200030   | 28.00000 | \n",
       "| 200033   |  0.00000 | \n",
       "| 200036   | 28.00000 | \n",
       "| 200075   | 27.80903 | \n",
       "\n",
       "\n"
      ],
      "text/plain": [
       "  icustay_id ventfreeday28\n",
       "1 200003     24.20833     \n",
       "2 200014      0.00000     \n",
       "3 200030     28.00000     \n",
       "4 200033      0.00000     \n",
       "5 200036     28.00000     \n",
       "6 200075     27.80903     "
      ]
     },
     "metadata": {},
     "output_type": "display_data"
    }
   ],
   "source": [
    "ventfreedays <- dbGetQuery(con, \"select icustay_id, ventfreeday28 from subgroup;\")\n",
    "head(ventfreedays)"
   ]
  },
  {
   "cell_type": "code",
   "execution_count": 5,
   "metadata": {},
   "outputs": [],
   "source": [
    "full_data <- readRDS(file.path(data_dir, \"full_data_ps.rds\"))"
   ]
  },
  {
   "cell_type": "code",
   "execution_count": 6,
   "metadata": {},
   "outputs": [
    {
     "data": {
      "text/html": [
       "<ol class=list-inline>\n",
       "\t<li>'icustay_id'</li>\n",
       "\t<li>'hadm_id'</li>\n",
       "\t<li>'subject_id'</li>\n",
       "\t<li>'first_careunit'</li>\n",
       "\t<li>'intime'</li>\n",
       "\t<li>'outtime'</li>\n",
       "\t<li>'angus'</li>\n",
       "\t<li>'age'</li>\n",
       "\t<li>'icu_order'</li>\n",
       "\t<li>'echo_time'</li>\n",
       "\t<li>'echo_exclude'</li>\n",
       "\t<li>'echo_include'</li>\n",
       "\t<li>'echo'</li>\n",
       "\t<li>'gender'</li>\n",
       "\t<li>'weight'</li>\n",
       "\t<li>'saps'</li>\n",
       "\t<li>'sofa'</li>\n",
       "\t<li>'elix_score'</li>\n",
       "\t<li>'vent'</li>\n",
       "\t<li>'vaso'</li>\n",
       "\t<li>'icu_adm_weekday'</li>\n",
       "\t<li>'icu_adm_hour'</li>\n",
       "\t<li>'deathtime'</li>\n",
       "\t<li>'mort_28_day'</li>\n",
       "\t<li>'icu_los_day'</li>\n",
       "\t<li>'icd_chf'</li>\n",
       "\t<li>'icd_afib'</li>\n",
       "\t<li>'icd_renal'</li>\n",
       "\t<li>'icd_liver'</li>\n",
       "\t<li>'icd_copd'</li>\n",
       "\t<li>'icd_cad'</li>\n",
       "\t<li>'icd_stroke'</li>\n",
       "\t<li>'icd_malignancy'</li>\n",
       "\t<li>'vs_heart_rate_first'</li>\n",
       "\t<li>'vs_heart_rate_min'</li>\n",
       "\t<li>'vs_heart_rate_max'</li>\n",
       "\t<li>'vs_cvp_first'</li>\n",
       "\t<li>'vs_cvp_min'</li>\n",
       "\t<li>'vs_cvp_max'</li>\n",
       "\t<li>'vs_map_first'</li>\n",
       "\t<li>'vs_map_min'</li>\n",
       "\t<li>'vs_map_max'</li>\n",
       "\t<li>'vs_temp_first'</li>\n",
       "\t<li>'vs_temp_min'</li>\n",
       "\t<li>'vs_temp_max'</li>\n",
       "\t<li>'lab_hemoglobin_first'</li>\n",
       "\t<li>'lab_hemoglobin_min'</li>\n",
       "\t<li>'lab_hemoglobin_max'</li>\n",
       "\t<li>'lab_hemoglobin_abnormal'</li>\n",
       "\t<li>'lab_platelet_first'</li>\n",
       "\t<li>'lab_platelet_min'</li>\n",
       "\t<li>'lab_platelet_max'</li>\n",
       "\t<li>'lab_platelet_abnormal'</li>\n",
       "\t<li>'lab_creatinine_kinase_first'</li>\n",
       "\t<li>'lab_creatinine_kinase_min'</li>\n",
       "\t<li>'lab_creatinine_kinase_max'</li>\n",
       "\t<li>'lab_creatinine_kinase_abnormal'</li>\n",
       "\t<li>'lab_wbc_first'</li>\n",
       "\t<li>'lab_wbc_min'</li>\n",
       "\t<li>'lab_wbc_max'</li>\n",
       "\t<li>'lab_wbc_abnormal'</li>\n",
       "\t<li>'lab_ph_first'</li>\n",
       "\t<li>'lab_ph_min'</li>\n",
       "\t<li>'lab_ph_max'</li>\n",
       "\t<li>'lab_ph_abnormal'</li>\n",
       "\t<li>'lab_chloride_first'</li>\n",
       "\t<li>'lab_chloride_min'</li>\n",
       "\t<li>'lab_chloride_max'</li>\n",
       "\t<li>'lab_chloride_abnormal'</li>\n",
       "\t<li>'lab_sodium_first'</li>\n",
       "\t<li>'lab_sodium_min'</li>\n",
       "\t<li>'lab_sodium_max'</li>\n",
       "\t<li>'lab_sodium_abnormal'</li>\n",
       "\t<li>'lab_bun_first'</li>\n",
       "\t<li>'lab_bun_min'</li>\n",
       "\t<li>'lab_bun_max'</li>\n",
       "\t<li>'lab_bun_abnormal'</li>\n",
       "\t<li>'lab_bicarbonate_first'</li>\n",
       "\t<li>'lab_bicarbonate_min'</li>\n",
       "\t<li>'lab_bicarbonate_max'</li>\n",
       "\t<li>'lab_bicarbonate_abnormal'</li>\n",
       "\t<li>'lab_bnp_first'</li>\n",
       "\t<li>'lab_bnp_min'</li>\n",
       "\t<li>'lab_bnp_max'</li>\n",
       "\t<li>'lab_bnp_abnormal'</li>\n",
       "\t<li>'lab_pco2_first'</li>\n",
       "\t<li>'lab_pco2_min'</li>\n",
       "\t<li>'lab_pco2_max'</li>\n",
       "\t<li>'lab_pco2_abnormal'</li>\n",
       "\t<li>'lab_creatinine_first'</li>\n",
       "\t<li>'lab_creatinine_min'</li>\n",
       "\t<li>'lab_creatinine_max'</li>\n",
       "\t<li>'lab_creatinine_abnormal'</li>\n",
       "\t<li>'lab_potassium_first'</li>\n",
       "\t<li>'lab_potassium_min'</li>\n",
       "\t<li>'lab_potassium_max'</li>\n",
       "\t<li>'lab_potassium_abnormal'</li>\n",
       "\t<li>'lab_troponin_first'</li>\n",
       "\t<li>'lab_troponin_min'</li>\n",
       "\t<li>'lab_troponin_max'</li>\n",
       "\t<li>'lab_troponin_abnormal'</li>\n",
       "\t<li>'lab_po2_first'</li>\n",
       "\t<li>'lab_po2_min'</li>\n",
       "\t<li>'lab_po2_max'</li>\n",
       "\t<li>'lab_po2_abnormal'</li>\n",
       "\t<li>'lab_lactate_first'</li>\n",
       "\t<li>'lab_lactate_min'</li>\n",
       "\t<li>'lab_lactate_max'</li>\n",
       "\t<li>'lab_lactate_abnormal'</li>\n",
       "\t<li>'sedative'</li>\n",
       "\t<li>'vs_heart_rate_flag'</li>\n",
       "\t<li>'vs_cvp_flag'</li>\n",
       "\t<li>'vs_map_flag'</li>\n",
       "\t<li>'vs_temp_flag'</li>\n",
       "\t<li>'lab_hemoglobin_flag'</li>\n",
       "\t<li>'lab_platelet_flag'</li>\n",
       "\t<li>'lab_creatinine_kinase_flag'</li>\n",
       "\t<li>'lab_wbc_flag'</li>\n",
       "\t<li>'lab_ph_flag'</li>\n",
       "\t<li>'lab_chloride_flag'</li>\n",
       "\t<li>'lab_sodium_flag'</li>\n",
       "\t<li>'lab_bun_flag'</li>\n",
       "\t<li>'lab_bicarbonate_flag'</li>\n",
       "\t<li>'lab_bnp_flag'</li>\n",
       "\t<li>'lab_pco2_flag'</li>\n",
       "\t<li>'lab_creatinine_flag'</li>\n",
       "\t<li>'lab_potassium_flag'</li>\n",
       "\t<li>'lab_troponin_flag'</li>\n",
       "\t<li>'lab_po2_flag'</li>\n",
       "\t<li>'lab_lactate_flag'</li>\n",
       "\t<li>'echo_int'</li>\n",
       "\t<li>'mort_28_day_int'</li>\n",
       "\t<li>'ps'</li>\n",
       "\t<li>'ps_weight'</li>\n",
       "</ol>\n"
      ],
      "text/latex": [
       "\\begin{enumerate*}\n",
       "\\item 'icustay\\_id'\n",
       "\\item 'hadm\\_id'\n",
       "\\item 'subject\\_id'\n",
       "\\item 'first\\_careunit'\n",
       "\\item 'intime'\n",
       "\\item 'outtime'\n",
       "\\item 'angus'\n",
       "\\item 'age'\n",
       "\\item 'icu\\_order'\n",
       "\\item 'echo\\_time'\n",
       "\\item 'echo\\_exclude'\n",
       "\\item 'echo\\_include'\n",
       "\\item 'echo'\n",
       "\\item 'gender'\n",
       "\\item 'weight'\n",
       "\\item 'saps'\n",
       "\\item 'sofa'\n",
       "\\item 'elix\\_score'\n",
       "\\item 'vent'\n",
       "\\item 'vaso'\n",
       "\\item 'icu\\_adm\\_weekday'\n",
       "\\item 'icu\\_adm\\_hour'\n",
       "\\item 'deathtime'\n",
       "\\item 'mort\\_28\\_day'\n",
       "\\item 'icu\\_los\\_day'\n",
       "\\item 'icd\\_chf'\n",
       "\\item 'icd\\_afib'\n",
       "\\item 'icd\\_renal'\n",
       "\\item 'icd\\_liver'\n",
       "\\item 'icd\\_copd'\n",
       "\\item 'icd\\_cad'\n",
       "\\item 'icd\\_stroke'\n",
       "\\item 'icd\\_malignancy'\n",
       "\\item 'vs\\_heart\\_rate\\_first'\n",
       "\\item 'vs\\_heart\\_rate\\_min'\n",
       "\\item 'vs\\_heart\\_rate\\_max'\n",
       "\\item 'vs\\_cvp\\_first'\n",
       "\\item 'vs\\_cvp\\_min'\n",
       "\\item 'vs\\_cvp\\_max'\n",
       "\\item 'vs\\_map\\_first'\n",
       "\\item 'vs\\_map\\_min'\n",
       "\\item 'vs\\_map\\_max'\n",
       "\\item 'vs\\_temp\\_first'\n",
       "\\item 'vs\\_temp\\_min'\n",
       "\\item 'vs\\_temp\\_max'\n",
       "\\item 'lab\\_hemoglobin\\_first'\n",
       "\\item 'lab\\_hemoglobin\\_min'\n",
       "\\item 'lab\\_hemoglobin\\_max'\n",
       "\\item 'lab\\_hemoglobin\\_abnormal'\n",
       "\\item 'lab\\_platelet\\_first'\n",
       "\\item 'lab\\_platelet\\_min'\n",
       "\\item 'lab\\_platelet\\_max'\n",
       "\\item 'lab\\_platelet\\_abnormal'\n",
       "\\item 'lab\\_creatinine\\_kinase\\_first'\n",
       "\\item 'lab\\_creatinine\\_kinase\\_min'\n",
       "\\item 'lab\\_creatinine\\_kinase\\_max'\n",
       "\\item 'lab\\_creatinine\\_kinase\\_abnormal'\n",
       "\\item 'lab\\_wbc\\_first'\n",
       "\\item 'lab\\_wbc\\_min'\n",
       "\\item 'lab\\_wbc\\_max'\n",
       "\\item 'lab\\_wbc\\_abnormal'\n",
       "\\item 'lab\\_ph\\_first'\n",
       "\\item 'lab\\_ph\\_min'\n",
       "\\item 'lab\\_ph\\_max'\n",
       "\\item 'lab\\_ph\\_abnormal'\n",
       "\\item 'lab\\_chloride\\_first'\n",
       "\\item 'lab\\_chloride\\_min'\n",
       "\\item 'lab\\_chloride\\_max'\n",
       "\\item 'lab\\_chloride\\_abnormal'\n",
       "\\item 'lab\\_sodium\\_first'\n",
       "\\item 'lab\\_sodium\\_min'\n",
       "\\item 'lab\\_sodium\\_max'\n",
       "\\item 'lab\\_sodium\\_abnormal'\n",
       "\\item 'lab\\_bun\\_first'\n",
       "\\item 'lab\\_bun\\_min'\n",
       "\\item 'lab\\_bun\\_max'\n",
       "\\item 'lab\\_bun\\_abnormal'\n",
       "\\item 'lab\\_bicarbonate\\_first'\n",
       "\\item 'lab\\_bicarbonate\\_min'\n",
       "\\item 'lab\\_bicarbonate\\_max'\n",
       "\\item 'lab\\_bicarbonate\\_abnormal'\n",
       "\\item 'lab\\_bnp\\_first'\n",
       "\\item 'lab\\_bnp\\_min'\n",
       "\\item 'lab\\_bnp\\_max'\n",
       "\\item 'lab\\_bnp\\_abnormal'\n",
       "\\item 'lab\\_pco2\\_first'\n",
       "\\item 'lab\\_pco2\\_min'\n",
       "\\item 'lab\\_pco2\\_max'\n",
       "\\item 'lab\\_pco2\\_abnormal'\n",
       "\\item 'lab\\_creatinine\\_first'\n",
       "\\item 'lab\\_creatinine\\_min'\n",
       "\\item 'lab\\_creatinine\\_max'\n",
       "\\item 'lab\\_creatinine\\_abnormal'\n",
       "\\item 'lab\\_potassium\\_first'\n",
       "\\item 'lab\\_potassium\\_min'\n",
       "\\item 'lab\\_potassium\\_max'\n",
       "\\item 'lab\\_potassium\\_abnormal'\n",
       "\\item 'lab\\_troponin\\_first'\n",
       "\\item 'lab\\_troponin\\_min'\n",
       "\\item 'lab\\_troponin\\_max'\n",
       "\\item 'lab\\_troponin\\_abnormal'\n",
       "\\item 'lab\\_po2\\_first'\n",
       "\\item 'lab\\_po2\\_min'\n",
       "\\item 'lab\\_po2\\_max'\n",
       "\\item 'lab\\_po2\\_abnormal'\n",
       "\\item 'lab\\_lactate\\_first'\n",
       "\\item 'lab\\_lactate\\_min'\n",
       "\\item 'lab\\_lactate\\_max'\n",
       "\\item 'lab\\_lactate\\_abnormal'\n",
       "\\item 'sedative'\n",
       "\\item 'vs\\_heart\\_rate\\_flag'\n",
       "\\item 'vs\\_cvp\\_flag'\n",
       "\\item 'vs\\_map\\_flag'\n",
       "\\item 'vs\\_temp\\_flag'\n",
       "\\item 'lab\\_hemoglobin\\_flag'\n",
       "\\item 'lab\\_platelet\\_flag'\n",
       "\\item 'lab\\_creatinine\\_kinase\\_flag'\n",
       "\\item 'lab\\_wbc\\_flag'\n",
       "\\item 'lab\\_ph\\_flag'\n",
       "\\item 'lab\\_chloride\\_flag'\n",
       "\\item 'lab\\_sodium\\_flag'\n",
       "\\item 'lab\\_bun\\_flag'\n",
       "\\item 'lab\\_bicarbonate\\_flag'\n",
       "\\item 'lab\\_bnp\\_flag'\n",
       "\\item 'lab\\_pco2\\_flag'\n",
       "\\item 'lab\\_creatinine\\_flag'\n",
       "\\item 'lab\\_potassium\\_flag'\n",
       "\\item 'lab\\_troponin\\_flag'\n",
       "\\item 'lab\\_po2\\_flag'\n",
       "\\item 'lab\\_lactate\\_flag'\n",
       "\\item 'echo\\_int'\n",
       "\\item 'mort\\_28\\_day\\_int'\n",
       "\\item 'ps'\n",
       "\\item 'ps\\_weight'\n",
       "\\end{enumerate*}\n"
      ],
      "text/markdown": [
       "1. 'icustay_id'\n",
       "2. 'hadm_id'\n",
       "3. 'subject_id'\n",
       "4. 'first_careunit'\n",
       "5. 'intime'\n",
       "6. 'outtime'\n",
       "7. 'angus'\n",
       "8. 'age'\n",
       "9. 'icu_order'\n",
       "10. 'echo_time'\n",
       "11. 'echo_exclude'\n",
       "12. 'echo_include'\n",
       "13. 'echo'\n",
       "14. 'gender'\n",
       "15. 'weight'\n",
       "16. 'saps'\n",
       "17. 'sofa'\n",
       "18. 'elix_score'\n",
       "19. 'vent'\n",
       "20. 'vaso'\n",
       "21. 'icu_adm_weekday'\n",
       "22. 'icu_adm_hour'\n",
       "23. 'deathtime'\n",
       "24. 'mort_28_day'\n",
       "25. 'icu_los_day'\n",
       "26. 'icd_chf'\n",
       "27. 'icd_afib'\n",
       "28. 'icd_renal'\n",
       "29. 'icd_liver'\n",
       "30. 'icd_copd'\n",
       "31. 'icd_cad'\n",
       "32. 'icd_stroke'\n",
       "33. 'icd_malignancy'\n",
       "34. 'vs_heart_rate_first'\n",
       "35. 'vs_heart_rate_min'\n",
       "36. 'vs_heart_rate_max'\n",
       "37. 'vs_cvp_first'\n",
       "38. 'vs_cvp_min'\n",
       "39. 'vs_cvp_max'\n",
       "40. 'vs_map_first'\n",
       "41. 'vs_map_min'\n",
       "42. 'vs_map_max'\n",
       "43. 'vs_temp_first'\n",
       "44. 'vs_temp_min'\n",
       "45. 'vs_temp_max'\n",
       "46. 'lab_hemoglobin_first'\n",
       "47. 'lab_hemoglobin_min'\n",
       "48. 'lab_hemoglobin_max'\n",
       "49. 'lab_hemoglobin_abnormal'\n",
       "50. 'lab_platelet_first'\n",
       "51. 'lab_platelet_min'\n",
       "52. 'lab_platelet_max'\n",
       "53. 'lab_platelet_abnormal'\n",
       "54. 'lab_creatinine_kinase_first'\n",
       "55. 'lab_creatinine_kinase_min'\n",
       "56. 'lab_creatinine_kinase_max'\n",
       "57. 'lab_creatinine_kinase_abnormal'\n",
       "58. 'lab_wbc_first'\n",
       "59. 'lab_wbc_min'\n",
       "60. 'lab_wbc_max'\n",
       "61. 'lab_wbc_abnormal'\n",
       "62. 'lab_ph_first'\n",
       "63. 'lab_ph_min'\n",
       "64. 'lab_ph_max'\n",
       "65. 'lab_ph_abnormal'\n",
       "66. 'lab_chloride_first'\n",
       "67. 'lab_chloride_min'\n",
       "68. 'lab_chloride_max'\n",
       "69. 'lab_chloride_abnormal'\n",
       "70. 'lab_sodium_first'\n",
       "71. 'lab_sodium_min'\n",
       "72. 'lab_sodium_max'\n",
       "73. 'lab_sodium_abnormal'\n",
       "74. 'lab_bun_first'\n",
       "75. 'lab_bun_min'\n",
       "76. 'lab_bun_max'\n",
       "77. 'lab_bun_abnormal'\n",
       "78. 'lab_bicarbonate_first'\n",
       "79. 'lab_bicarbonate_min'\n",
       "80. 'lab_bicarbonate_max'\n",
       "81. 'lab_bicarbonate_abnormal'\n",
       "82. 'lab_bnp_first'\n",
       "83. 'lab_bnp_min'\n",
       "84. 'lab_bnp_max'\n",
       "85. 'lab_bnp_abnormal'\n",
       "86. 'lab_pco2_first'\n",
       "87. 'lab_pco2_min'\n",
       "88. 'lab_pco2_max'\n",
       "89. 'lab_pco2_abnormal'\n",
       "90. 'lab_creatinine_first'\n",
       "91. 'lab_creatinine_min'\n",
       "92. 'lab_creatinine_max'\n",
       "93. 'lab_creatinine_abnormal'\n",
       "94. 'lab_potassium_first'\n",
       "95. 'lab_potassium_min'\n",
       "96. 'lab_potassium_max'\n",
       "97. 'lab_potassium_abnormal'\n",
       "98. 'lab_troponin_first'\n",
       "99. 'lab_troponin_min'\n",
       "100. 'lab_troponin_max'\n",
       "101. 'lab_troponin_abnormal'\n",
       "102. 'lab_po2_first'\n",
       "103. 'lab_po2_min'\n",
       "104. 'lab_po2_max'\n",
       "105. 'lab_po2_abnormal'\n",
       "106. 'lab_lactate_first'\n",
       "107. 'lab_lactate_min'\n",
       "108. 'lab_lactate_max'\n",
       "109. 'lab_lactate_abnormal'\n",
       "110. 'sedative'\n",
       "111. 'vs_heart_rate_flag'\n",
       "112. 'vs_cvp_flag'\n",
       "113. 'vs_map_flag'\n",
       "114. 'vs_temp_flag'\n",
       "115. 'lab_hemoglobin_flag'\n",
       "116. 'lab_platelet_flag'\n",
       "117. 'lab_creatinine_kinase_flag'\n",
       "118. 'lab_wbc_flag'\n",
       "119. 'lab_ph_flag'\n",
       "120. 'lab_chloride_flag'\n",
       "121. 'lab_sodium_flag'\n",
       "122. 'lab_bun_flag'\n",
       "123. 'lab_bicarbonate_flag'\n",
       "124. 'lab_bnp_flag'\n",
       "125. 'lab_pco2_flag'\n",
       "126. 'lab_creatinine_flag'\n",
       "127. 'lab_potassium_flag'\n",
       "128. 'lab_troponin_flag'\n",
       "129. 'lab_po2_flag'\n",
       "130. 'lab_lactate_flag'\n",
       "131. 'echo_int'\n",
       "132. 'mort_28_day_int'\n",
       "133. 'ps'\n",
       "134. 'ps_weight'\n",
       "\n",
       "\n"
      ],
      "text/plain": [
       "  [1] \"icustay_id\"                     \"hadm_id\"                       \n",
       "  [3] \"subject_id\"                     \"first_careunit\"                \n",
       "  [5] \"intime\"                         \"outtime\"                       \n",
       "  [7] \"angus\"                          \"age\"                           \n",
       "  [9] \"icu_order\"                      \"echo_time\"                     \n",
       " [11] \"echo_exclude\"                   \"echo_include\"                  \n",
       " [13] \"echo\"                           \"gender\"                        \n",
       " [15] \"weight\"                         \"saps\"                          \n",
       " [17] \"sofa\"                           \"elix_score\"                    \n",
       " [19] \"vent\"                           \"vaso\"                          \n",
       " [21] \"icu_adm_weekday\"                \"icu_adm_hour\"                  \n",
       " [23] \"deathtime\"                      \"mort_28_day\"                   \n",
       " [25] \"icu_los_day\"                    \"icd_chf\"                       \n",
       " [27] \"icd_afib\"                       \"icd_renal\"                     \n",
       " [29] \"icd_liver\"                      \"icd_copd\"                      \n",
       " [31] \"icd_cad\"                        \"icd_stroke\"                    \n",
       " [33] \"icd_malignancy\"                 \"vs_heart_rate_first\"           \n",
       " [35] \"vs_heart_rate_min\"              \"vs_heart_rate_max\"             \n",
       " [37] \"vs_cvp_first\"                   \"vs_cvp_min\"                    \n",
       " [39] \"vs_cvp_max\"                     \"vs_map_first\"                  \n",
       " [41] \"vs_map_min\"                     \"vs_map_max\"                    \n",
       " [43] \"vs_temp_first\"                  \"vs_temp_min\"                   \n",
       " [45] \"vs_temp_max\"                    \"lab_hemoglobin_first\"          \n",
       " [47] \"lab_hemoglobin_min\"             \"lab_hemoglobin_max\"            \n",
       " [49] \"lab_hemoglobin_abnormal\"        \"lab_platelet_first\"            \n",
       " [51] \"lab_platelet_min\"               \"lab_platelet_max\"              \n",
       " [53] \"lab_platelet_abnormal\"          \"lab_creatinine_kinase_first\"   \n",
       " [55] \"lab_creatinine_kinase_min\"      \"lab_creatinine_kinase_max\"     \n",
       " [57] \"lab_creatinine_kinase_abnormal\" \"lab_wbc_first\"                 \n",
       " [59] \"lab_wbc_min\"                    \"lab_wbc_max\"                   \n",
       " [61] \"lab_wbc_abnormal\"               \"lab_ph_first\"                  \n",
       " [63] \"lab_ph_min\"                     \"lab_ph_max\"                    \n",
       " [65] \"lab_ph_abnormal\"                \"lab_chloride_first\"            \n",
       " [67] \"lab_chloride_min\"               \"lab_chloride_max\"              \n",
       " [69] \"lab_chloride_abnormal\"          \"lab_sodium_first\"              \n",
       " [71] \"lab_sodium_min\"                 \"lab_sodium_max\"                \n",
       " [73] \"lab_sodium_abnormal\"            \"lab_bun_first\"                 \n",
       " [75] \"lab_bun_min\"                    \"lab_bun_max\"                   \n",
       " [77] \"lab_bun_abnormal\"               \"lab_bicarbonate_first\"         \n",
       " [79] \"lab_bicarbonate_min\"            \"lab_bicarbonate_max\"           \n",
       " [81] \"lab_bicarbonate_abnormal\"       \"lab_bnp_first\"                 \n",
       " [83] \"lab_bnp_min\"                    \"lab_bnp_max\"                   \n",
       " [85] \"lab_bnp_abnormal\"               \"lab_pco2_first\"                \n",
       " [87] \"lab_pco2_min\"                   \"lab_pco2_max\"                  \n",
       " [89] \"lab_pco2_abnormal\"              \"lab_creatinine_first\"          \n",
       " [91] \"lab_creatinine_min\"             \"lab_creatinine_max\"            \n",
       " [93] \"lab_creatinine_abnormal\"        \"lab_potassium_first\"           \n",
       " [95] \"lab_potassium_min\"              \"lab_potassium_max\"             \n",
       " [97] \"lab_potassium_abnormal\"         \"lab_troponin_first\"            \n",
       " [99] \"lab_troponin_min\"               \"lab_troponin_max\"              \n",
       "[101] \"lab_troponin_abnormal\"          \"lab_po2_first\"                 \n",
       "[103] \"lab_po2_min\"                    \"lab_po2_max\"                   \n",
       "[105] \"lab_po2_abnormal\"               \"lab_lactate_first\"             \n",
       "[107] \"lab_lactate_min\"                \"lab_lactate_max\"               \n",
       "[109] \"lab_lactate_abnormal\"           \"sedative\"                      \n",
       "[111] \"vs_heart_rate_flag\"             \"vs_cvp_flag\"                   \n",
       "[113] \"vs_map_flag\"                    \"vs_temp_flag\"                  \n",
       "[115] \"lab_hemoglobin_flag\"            \"lab_platelet_flag\"             \n",
       "[117] \"lab_creatinine_kinase_flag\"     \"lab_wbc_flag\"                  \n",
       "[119] \"lab_ph_flag\"                    \"lab_chloride_flag\"             \n",
       "[121] \"lab_sodium_flag\"                \"lab_bun_flag\"                  \n",
       "[123] \"lab_bicarbonate_flag\"           \"lab_bnp_flag\"                  \n",
       "[125] \"lab_pco2_flag\"                  \"lab_creatinine_flag\"           \n",
       "[127] \"lab_potassium_flag\"             \"lab_troponin_flag\"             \n",
       "[129] \"lab_po2_flag\"                   \"lab_lactate_flag\"              \n",
       "[131] \"echo_int\"                       \"mort_28_day_int\"               \n",
       "[133] \"ps\"                             \"ps_weight\"                     "
      ]
     },
     "metadata": {},
     "output_type": "display_data"
    }
   ],
   "source": [
    "names(full_data)"
   ]
  },
  {
   "cell_type": "code",
   "execution_count": 7,
   "metadata": {},
   "outputs": [],
   "source": [
    "set.seed(4958)"
   ]
  },
  {
   "cell_type": "code",
   "execution_count": 8,
   "metadata": {},
   "outputs": [
    {
     "name": "stderr",
     "output_type": "stream",
     "text": [
      "Warning message in Match(Y = NULL, Tr = full_data$echo_int, X = full_data$ps, M = 1, :\n",
      "“replace==FALSE, but there are more (weighted) treated obs than control obs.  Some treated obs will not be matched.  You may want to estimate ATC instead.”"
     ]
    }
   ],
   "source": [
    "ps_matches <- Match(Y = NULL, Tr = full_data$echo_int, X = full_data$ps, M = 1,\n",
    "                    estimand = \"ATT\", caliper = 0.01,\n",
    "                    exact = FALSE, replace = FALSE)"
   ]
  },
  {
   "cell_type": "code",
   "execution_count": 9,
   "metadata": {},
   "outputs": [
    {
     "data": {
      "text/html": [
       "<table>\n",
       "<thead><tr><th scope=col>icustay_id</th><th scope=col>match</th></tr></thead>\n",
       "<tbody>\n",
       "\t<tr><td>228416</td><td>262436</td></tr>\n",
       "\t<tr><td>274174</td><td>244460</td></tr>\n",
       "\t<tr><td>214954</td><td>298177</td></tr>\n",
       "\t<tr><td>264413</td><td>290165</td></tr>\n",
       "\t<tr><td>214106</td><td>278397</td></tr>\n",
       "\t<tr><td>266275</td><td>212022</td></tr>\n",
       "</tbody>\n",
       "</table>\n"
      ],
      "text/latex": [
       "\\begin{tabular}{r|ll}\n",
       " icustay\\_id & match\\\\\n",
       "\\hline\n",
       "\t 228416 & 262436\\\\\n",
       "\t 274174 & 244460\\\\\n",
       "\t 214954 & 298177\\\\\n",
       "\t 264413 & 290165\\\\\n",
       "\t 214106 & 278397\\\\\n",
       "\t 266275 & 212022\\\\\n",
       "\\end{tabular}\n"
      ],
      "text/markdown": [
       "\n",
       "icustay_id | match | \n",
       "|---|---|---|---|---|---|\n",
       "| 228416 | 262436 | \n",
       "| 274174 | 244460 | \n",
       "| 214954 | 298177 | \n",
       "| 264413 | 290165 | \n",
       "| 214106 | 278397 | \n",
       "| 266275 | 212022 | \n",
       "\n",
       "\n"
      ],
      "text/plain": [
       "  icustay_id match \n",
       "1 228416     262436\n",
       "2 274174     244460\n",
       "3 214954     298177\n",
       "4 264413     290165\n",
       "5 214106     278397\n",
       "6 266275     212022"
      ]
     },
     "metadata": {},
     "output_type": "display_data"
    }
   ],
   "source": [
    "matches_df <-\n",
    "full_data[ps_matches$index.treated, \"icustay_id\", drop = FALSE] %>%\n",
    "mutate(match = full_data[ps_matches$index.control, \"icustay_id\"])\n",
    "\n",
    "head(matches_df)"
   ]
  },
  {
   "cell_type": "code",
   "execution_count": 10,
   "metadata": {},
   "outputs": [
    {
     "data": {
      "text/html": [
       "<table>\n",
       "<thead><tr><th scope=col>icustay_id</th><th scope=col>Echo</th><th scope=col>ICU length of stay</th><th scope=col>28 day mortality</th><th scope=col>Ventilation free days (28 days)</th><th scope=col>Match id</th><th scope=col>Propensity score</th></tr></thead>\n",
       "<tbody>\n",
       "\t<tr><td>228416   </td><td>1        </td><td>28.612836</td><td>0        </td><td> 7.581632</td><td>262436   </td><td>0.5525232</td></tr>\n",
       "\t<tr><td>278148   </td><td>0        </td><td> 1.250544</td><td>1        </td><td> 0.000000</td><td>    NA   </td><td>0.2804613</td></tr>\n",
       "\t<tr><td>274174   </td><td>1        </td><td>17.714456</td><td>0        </td><td>28.000000</td><td>244460   </td><td>0.3012020</td></tr>\n",
       "\t<tr><td>214954   </td><td>1        </td><td> 4.543345</td><td>0        </td><td>24.854167</td><td>298177   </td><td>0.7982833</td></tr>\n",
       "\t<tr><td>222457   </td><td>0        </td><td> 1.961065</td><td>0        </td><td>28.000000</td><td>    NA   </td><td>0.2244447</td></tr>\n",
       "\t<tr><td>264413   </td><td>1        </td><td> 7.988785</td><td>0        </td><td>24.250000</td><td>290165   </td><td>0.3320492</td></tr>\n",
       "</tbody>\n",
       "</table>\n"
      ],
      "text/latex": [
       "\\begin{tabular}{r|lllllll}\n",
       " icustay\\_id & Echo & ICU length of stay & 28 day mortality & Ventilation free days (28 days) & Match id & Propensity score\\\\\n",
       "\\hline\n",
       "\t 228416    & 1         & 28.612836 & 0         &  7.581632 & 262436    & 0.5525232\\\\\n",
       "\t 278148    & 0         &  1.250544 & 1         &  0.000000 &     NA    & 0.2804613\\\\\n",
       "\t 274174    & 1         & 17.714456 & 0         & 28.000000 & 244460    & 0.3012020\\\\\n",
       "\t 214954    & 1         &  4.543345 & 0         & 24.854167 & 298177    & 0.7982833\\\\\n",
       "\t 222457    & 0         &  1.961065 & 0         & 28.000000 &     NA    & 0.2244447\\\\\n",
       "\t 264413    & 1         &  7.988785 & 0         & 24.250000 & 290165    & 0.3320492\\\\\n",
       "\\end{tabular}\n"
      ],
      "text/markdown": [
       "\n",
       "icustay_id | Echo | ICU length of stay | 28 day mortality | Ventilation free days (28 days) | Match id | Propensity score | \n",
       "|---|---|---|---|---|---|\n",
       "| 228416    | 1         | 28.612836 | 0         |  7.581632 | 262436    | 0.5525232 | \n",
       "| 278148    | 0         |  1.250544 | 1         |  0.000000 |     NA    | 0.2804613 | \n",
       "| 274174    | 1         | 17.714456 | 0         | 28.000000 | 244460    | 0.3012020 | \n",
       "| 214954    | 1         |  4.543345 | 0         | 24.854167 | 298177    | 0.7982833 | \n",
       "| 222457    | 0         |  1.961065 | 0         | 28.000000 |     NA    | 0.2244447 | \n",
       "| 264413    | 1         |  7.988785 | 0         | 24.250000 | 290165    | 0.3320492 | \n",
       "\n",
       "\n"
      ],
      "text/plain": [
       "  icustay_id Echo ICU length of stay 28 day mortality\n",
       "1 228416     1    28.612836          0               \n",
       "2 278148     0     1.250544          1               \n",
       "3 274174     1    17.714456          0               \n",
       "4 214954     1     4.543345          0               \n",
       "5 222457     0     1.961065          0               \n",
       "6 264413     1     7.988785          0               \n",
       "  Ventilation free days (28 days) Match id Propensity score\n",
       "1  7.581632                       262436   0.5525232       \n",
       "2  0.000000                           NA   0.2804613       \n",
       "3 28.000000                       244460   0.3012020       \n",
       "4 24.854167                       298177   0.7982833       \n",
       "5 28.000000                           NA   0.2244447       \n",
       "6 24.250000                       290165   0.3320492       "
      ]
     },
     "metadata": {},
     "output_type": "display_data"
    }
   ],
   "source": [
    "result <- full_data %>%\n",
    "left_join(ventfreedays, by = \"icustay_id\") %>%\n",
    "left_join(matches_df, by = \"icustay_id\") %>%\n",
    "select(icustay_id, echo_int, icu_los_day, mort_28_day_int, ventfreeday28, match, ps) %>%\n",
    "setNames(c(\"icustay_id\", \"Echo\", \"ICU length of stay\", \"28 day mortality\",\n",
    "           \"Ventilation free days (28 days)\", \"Match id\", \"Propensity score\"))\n",
    "\n",
    "head(result)"
   ]
  },
  {
   "cell_type": "code",
   "execution_count": 11,
   "metadata": {},
   "outputs": [
    {
     "name": "stdout",
     "output_type": "stream",
     "text": [
      "\n",
      "Estimate...  0 \n",
      "SE.........  0 \n",
      "T-stat.....  NaN \n",
      "p.val......  NA \n",
      "\n",
      "Original number of observations..............  6361 \n",
      "Original number of treated obs...............  3262 \n",
      "Matched number of observations...............  1626 \n",
      "Matched number of observations  (unweighted).  1626 \n",
      "\n",
      "Number of obs dropped by 'exact' or 'caliper'  1636 \n",
      "\n"
     ]
    }
   ],
   "source": [
    "summary(ps_matches)"
   ]
  },
  {
   "cell_type": "code",
   "execution_count": 12,
   "metadata": {},
   "outputs": [
    {
     "data": {
      "text/plain": [
       "    Control\n",
       "Echo   0   1\n",
       "   0 869 343\n",
       "   1 267 147"
      ]
     },
     "metadata": {},
     "output_type": "display_data"
    }
   ],
   "source": [
    "tab <- table(full_data$mort_28_day[ps_matches$index.treated],\n",
    "             full_data$mort_28_day[ps_matches$index.control],\n",
    "             dnn = c(\"Echo\", \"Control\"))\n",
    "tab"
   ]
  },
  {
   "cell_type": "code",
   "execution_count": 13,
   "metadata": {},
   "outputs": [
    {
     "data": {
      "text/html": [
       "0.778425655976676"
      ],
      "text/latex": [
       "0.778425655976676"
      ],
      "text/markdown": [
       "0.778425655976676"
      ],
      "text/plain": [
       "[1] 0.7784257"
      ]
     },
     "metadata": {},
     "output_type": "display_data"
    },
    {
     "data": {
      "text/html": [
       "<ol class=list-inline>\n",
       "\t<li>'95% Confint 0.6633574'</li>\n",
       "\t<li>'95% Confint 0.9134541'</li>\n",
       "</ol>\n"
      ],
      "text/latex": [
       "\\begin{enumerate*}\n",
       "\\item '95\\% Confint 0.6633574'\n",
       "\\item '95\\% Confint 0.9134541'\n",
       "\\end{enumerate*}\n"
      ],
      "text/markdown": [
       "1. '95% Confint 0.6633574'\n",
       "2. '95% Confint 0.9134541'\n",
       "\n",
       "\n"
      ],
      "text/plain": [
       "[1] \"95% Confint 0.6633574\" \"95% Confint 0.9134541\""
      ]
     },
     "metadata": {},
     "output_type": "display_data"
    }
   ],
   "source": [
    "tab[2, 1] / tab[1, 2]\n",
    "paste(\"95% Confint\",\n",
    "      round(exp(c(log(tab[2, 1] / tab[1, 2]) - qnorm(0.975) * sqrt(1 / tab[1, 2] + 1 / tab[2, 1]),\n",
    "                  log(tab[2, 1] / tab[1, 2]) + qnorm(0.975) * sqrt(1 / tab[1, 2] + 1 / tab[2, 1]))), 7))"
   ]
  },
  {
   "cell_type": "code",
   "execution_count": 14,
   "metadata": {},
   "outputs": [
    {
     "data": {
      "text/plain": [
       "\n",
       "\tMcNemar's Chi-squared test with continuity correction\n",
       "\n",
       "data:  tab\n",
       "McNemar's chi-squared = 9.2213, df = 1, p-value = 0.002392\n"
      ]
     },
     "metadata": {},
     "output_type": "display_data"
    }
   ],
   "source": [
    "mcnemar.test(tab)"
   ]
  },
  {
   "cell_type": "code",
   "execution_count": 15,
   "metadata": {},
   "outputs": [],
   "source": [
    "data.table::fwrite(result, file.path(data_dir, \"table-5-columns.csv\"))"
   ]
  }
 ],
 "metadata": {
  "kernelspec": {
   "display_name": "R",
   "language": "R",
   "name": "ir"
  },
  "language_info": {
   "codemirror_mode": "r",
   "file_extension": ".r",
   "mimetype": "text/x-r-source",
   "name": "R",
   "pygments_lexer": "r",
   "version": "3.4.3"
  },
  "varInspector": {
   "cols": {
    "lenName": 16,
    "lenType": 16,
    "lenVar": 40
   },
   "kernels_config": {
    "python": {
     "delete_cmd_postfix": "",
     "delete_cmd_prefix": "del ",
     "library": "var_list.py",
     "varRefreshCmd": "print(var_dic_list())"
    },
    "r": {
     "delete_cmd_postfix": ") ",
     "delete_cmd_prefix": "rm(",
     "library": "var_list.r",
     "varRefreshCmd": "cat(var_dic_list()) "
    }
   },
   "types_to_exclude": [
    "module",
    "function",
    "builtin_function_or_method",
    "instance",
    "_Feature"
   ],
   "window_display": false
  }
 },
 "nbformat": 4,
 "nbformat_minor": 2
}
