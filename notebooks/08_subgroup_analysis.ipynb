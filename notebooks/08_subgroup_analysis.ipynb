{
 "cells": [
  {
   "cell_type": "code",
   "execution_count": 1,
   "metadata": {
    "scrolled": true
   },
   "outputs": [
    {
     "name": "stderr",
     "output_type": "stream",
     "text": [
      "Loading required package: DBI\n",
      "Loading required package: grid\n",
      "Loading required package: Matrix\n",
      "Loading required package: survival\n",
      "\n",
      "Attaching package: ‘survey’\n",
      "\n",
      "The following object is masked from ‘package:graphics’:\n",
      "\n",
      "    dotchart\n",
      "\n",
      "── Attaching packages ─────────────────────────────────────── tidyverse 1.2.1 ──\n",
      "✔ ggplot2 2.2.1     ✔ purrr   0.2.4\n",
      "✔ tibble  1.4.2     ✔ dplyr   0.7.4\n",
      "✔ tidyr   0.8.0     ✔ stringr 1.3.0\n",
      "✔ readr   1.1.1     ✔ forcats 0.3.0\n",
      "── Conflicts ────────────────────────────────────────── tidyverse_conflicts() ──\n",
      "✖ tidyr::expand() masks Matrix::expand()\n",
      "✖ dplyr::filter() masks stats::filter()\n",
      "✖ dplyr::lag()    masks stats::lag()\n"
     ]
    }
   ],
   "source": [
    "library(RPostgreSQL)\n",
    "library(survey)\n",
    "library(tidyverse)"
   ]
  },
  {
   "cell_type": "code",
   "execution_count": 2,
   "metadata": {},
   "outputs": [],
   "source": [
    "data_dir <- file.path(\"..\", \"data\")"
   ]
  },
  {
   "cell_type": "code",
   "execution_count": 3,
   "metadata": {},
   "outputs": [
    {
     "data": {
      "text/plain": [
       "<PostgreSQLResult>"
      ]
     },
     "metadata": {},
     "output_type": "display_data"
    }
   ],
   "source": [
    "drv <- dbDriver(\"PostgreSQL\")\n",
    "con <- dbConnect(drv, dbname = \"mimic\")\n",
    "dbSendQuery(con, \"set search_path=echo,public,mimiciii;\")"
   ]
  },
  {
   "cell_type": "code",
   "execution_count": 4,
   "metadata": {},
   "outputs": [],
   "source": [
    "sql <-\n",
    "\"select hadm_id, icustay_id, echo,\n",
    "    norepinephrine_max, dobutamine_flag,\n",
    "    vasofreeday28, ventfreeday28,\n",
    "    lactate_reduction, creatinine_reduction,\n",
    "    sofa, sofa_drop_2, sofa_drop_3, day1, day2, day3,\n",
    "    down2, down3,\n",
    "    creatinine_diff,\n",
    "    lactate_diff\n",
    "from (select hadm_id, icustay_id, echo from merged_data) co\n",
    "left join subgroup using (hadm_id, icustay_id, echo)\n",
    "left join serum_diff using (hadm_id)\n",
    "left join (select icustay_id, day1, day2, day3, down2, down3 from fluid) fl using (icustay_id)\""
   ]
  },
  {
   "cell_type": "code",
   "execution_count": 5,
   "metadata": {},
   "outputs": [
    {
     "data": {
      "text/html": [
       "<table>\n",
       "<thead><tr><th scope=col>hadm_id</th><th scope=col>icustay_id</th><th scope=col>echo</th><th scope=col>norepinephrine_max</th><th scope=col>dobutamine_flag</th><th scope=col>vasofreeday28</th><th scope=col>ventfreeday28</th><th scope=col>lactate_reduction</th><th scope=col>creatinine_reduction</th><th scope=col>sofa</th><th scope=col>sofa_drop_2</th><th scope=col>sofa_drop_3</th><th scope=col>day1</th><th scope=col>day2</th><th scope=col>day3</th><th scope=col>down2</th><th scope=col>down3</th><th scope=col>creatinine_diff</th><th scope=col>lactate_diff</th></tr></thead>\n",
       "<tbody>\n",
       "\t<tr><td>159895   </td><td>228416   </td><td>1        </td><td>0.000000 </td><td>0        </td><td>28.00000 </td><td> 7.581632</td><td>0.0      </td><td>1.3      </td><td>3        </td><td>  1      </td><td>0        </td><td>-2110.000</td><td>-1930.000</td><td>-1475.000</td><td>-180.000 </td><td>-635.000 </td><td> NA      </td><td>NA       </td></tr>\n",
       "\t<tr><td>169700   </td><td>278148   </td><td>0        </td><td>0.000000 </td><td>0        </td><td> 0.00000 </td><td> 0.000000</td><td> NA      </td><td>0.1      </td><td>8        </td><td>-16      </td><td>8        </td><td>       NA</td><td>       NA</td><td>       NA</td><td>      NA </td><td>      NA </td><td> NA      </td><td>NA       </td></tr>\n",
       "\t<tr><td>103722   </td><td>274174   </td><td>1        </td><td>0.000000 </td><td>0        </td><td>28.00000 </td><td>28.000000</td><td>0.0      </td><td>2.0      </td><td>5        </td><td>  3      </td><td>2        </td><td> -300.000</td><td>-1827.000</td><td>  -10.000</td><td>1527.000 </td><td>-290.000 </td><td> NA      </td><td>NA       </td></tr>\n",
       "\t<tr><td>170515   </td><td>214954   </td><td>1        </td><td>7.977352 </td><td>0        </td><td>26.04167 </td><td>24.854167</td><td>1.8      </td><td>0.4      </td><td>8        </td><td>  4      </td><td>5        </td><td> 4299.590</td><td> 2899.645</td><td>-1283.263</td><td>1399.945 </td><td>5582.853 </td><td>0.5      </td><td>NA       </td></tr>\n",
       "\t<tr><td>183493   </td><td>222457   </td><td>0        </td><td>0.000000 </td><td>0        </td><td>28.00000 </td><td>28.000000</td><td> NA      </td><td>0.1      </td><td>1        </td><td>  0      </td><td>1        </td><td> 5988.072</td><td> 2102.761</td><td>       NA</td><td>3885.311 </td><td>      NA </td><td> NA      </td><td>NA       </td></tr>\n",
       "\t<tr><td>134244   </td><td>264413   </td><td>1        </td><td>2.748114 </td><td>0        </td><td>27.37778 </td><td>24.250000</td><td>0.5      </td><td>0.1      </td><td>4        </td><td>  2      </td><td>3        </td><td> 1507.392</td><td>-1400.000</td><td>       NA</td><td>2907.392 </td><td>      NA </td><td> NA      </td><td>NA       </td></tr>\n",
       "</tbody>\n",
       "</table>\n"
      ],
      "text/latex": [
       "\\begin{tabular}{r|lllllllllllllllllll}\n",
       " hadm\\_id & icustay\\_id & echo & norepinephrine\\_max & dobutamine\\_flag & vasofreeday28 & ventfreeday28 & lactate\\_reduction & creatinine\\_reduction & sofa & sofa\\_drop\\_2 & sofa\\_drop\\_3 & day1 & day2 & day3 & down2 & down3 & creatinine\\_diff & lactate\\_diff\\\\\n",
       "\\hline\n",
       "\t 159895    & 228416    & 1         & 0.000000  & 0         & 28.00000  &  7.581632 & 0.0       & 1.3       & 3         &   1       & 0         & -2110.000 & -1930.000 & -1475.000 & -180.000  & -635.000  &  NA       & NA       \\\\\n",
       "\t 169700    & 278148    & 0         & 0.000000  & 0         &  0.00000  &  0.000000 &  NA       & 0.1       & 8         & -16       & 8         &        NA &        NA &        NA &       NA  &       NA  &  NA       & NA       \\\\\n",
       "\t 103722    & 274174    & 1         & 0.000000  & 0         & 28.00000  & 28.000000 & 0.0       & 2.0       & 5         &   3       & 2         &  -300.000 & -1827.000 &   -10.000 & 1527.000  & -290.000  &  NA       & NA       \\\\\n",
       "\t 170515    & 214954    & 1         & 7.977352  & 0         & 26.04167  & 24.854167 & 1.8       & 0.4       & 8         &   4       & 5         &  4299.590 &  2899.645 & -1283.263 & 1399.945  & 5582.853  & 0.5       & NA       \\\\\n",
       "\t 183493    & 222457    & 0         & 0.000000  & 0         & 28.00000  & 28.000000 &  NA       & 0.1       & 1         &   0       & 1         &  5988.072 &  2102.761 &        NA & 3885.311  &       NA  &  NA       & NA       \\\\\n",
       "\t 134244    & 264413    & 1         & 2.748114  & 0         & 27.37778  & 24.250000 & 0.5       & 0.1       & 4         &   2       & 3         &  1507.392 & -1400.000 &        NA & 2907.392  &       NA  &  NA       & NA       \\\\\n",
       "\\end{tabular}\n"
      ],
      "text/markdown": [
       "\n",
       "hadm_id | icustay_id | echo | norepinephrine_max | dobutamine_flag | vasofreeday28 | ventfreeday28 | lactate_reduction | creatinine_reduction | sofa | sofa_drop_2 | sofa_drop_3 | day1 | day2 | day3 | down2 | down3 | creatinine_diff | lactate_diff | \n",
       "|---|---|---|---|---|---|\n",
       "| 159895    | 228416    | 1         | 0.000000  | 0         | 28.00000  |  7.581632 | 0.0       | 1.3       | 3         |   1       | 0         | -2110.000 | -1930.000 | -1475.000 | -180.000  | -635.000  |  NA       | NA        | \n",
       "| 169700    | 278148    | 0         | 0.000000  | 0         |  0.00000  |  0.000000 |  NA       | 0.1       | 8         | -16       | 8         |        NA |        NA |        NA |       NA  |       NA  |  NA       | NA        | \n",
       "| 103722    | 274174    | 1         | 0.000000  | 0         | 28.00000  | 28.000000 | 0.0       | 2.0       | 5         |   3       | 2         |  -300.000 | -1827.000 |   -10.000 | 1527.000  | -290.000  |  NA       | NA        | \n",
       "| 170515    | 214954    | 1         | 7.977352  | 0         | 26.04167  | 24.854167 | 1.8       | 0.4       | 8         |   4       | 5         |  4299.590 |  2899.645 | -1283.263 | 1399.945  | 5582.853  | 0.5       | NA        | \n",
       "| 183493    | 222457    | 0         | 0.000000  | 0         | 28.00000  | 28.000000 |  NA       | 0.1       | 1         |   0       | 1         |  5988.072 |  2102.761 |        NA | 3885.311  |       NA  |  NA       | NA        | \n",
       "| 134244    | 264413    | 1         | 2.748114  | 0         | 27.37778  | 24.250000 | 0.5       | 0.1       | 4         |   2       | 3         |  1507.392 | -1400.000 |        NA | 2907.392  |       NA  |  NA       | NA        | \n",
       "\n",
       "\n"
      ],
      "text/plain": [
       "  hadm_id icustay_id echo norepinephrine_max dobutamine_flag vasofreeday28\n",
       "1 159895  228416     1    0.000000           0               28.00000     \n",
       "2 169700  278148     0    0.000000           0                0.00000     \n",
       "3 103722  274174     1    0.000000           0               28.00000     \n",
       "4 170515  214954     1    7.977352           0               26.04167     \n",
       "5 183493  222457     0    0.000000           0               28.00000     \n",
       "6 134244  264413     1    2.748114           0               27.37778     \n",
       "  ventfreeday28 lactate_reduction creatinine_reduction sofa sofa_drop_2\n",
       "1  7.581632     0.0               1.3                  3      1        \n",
       "2  0.000000      NA               0.1                  8    -16        \n",
       "3 28.000000     0.0               2.0                  5      3        \n",
       "4 24.854167     1.8               0.4                  8      4        \n",
       "5 28.000000      NA               0.1                  1      0        \n",
       "6 24.250000     0.5               0.1                  4      2        \n",
       "  sofa_drop_3 day1      day2      day3      down2    down3    creatinine_diff\n",
       "1 0           -2110.000 -1930.000 -1475.000 -180.000 -635.000  NA            \n",
       "2 8                  NA        NA        NA       NA       NA  NA            \n",
       "3 2            -300.000 -1827.000   -10.000 1527.000 -290.000  NA            \n",
       "4 5            4299.590  2899.645 -1283.263 1399.945 5582.853 0.5            \n",
       "5 1            5988.072  2102.761        NA 3885.311       NA  NA            \n",
       "6 3            1507.392 -1400.000        NA 2907.392       NA  NA            \n",
       "  lactate_diff\n",
       "1 NA          \n",
       "2 NA          \n",
       "3 NA          \n",
       "4 NA          \n",
       "5 NA          \n",
       "6 NA          "
      ]
     },
     "metadata": {},
     "output_type": "display_data"
    }
   ],
   "source": [
    "subgroup <- dbGetQuery(con, sql)\n",
    "head(subgroup)"
   ]
  },
  {
   "cell_type": "code",
   "execution_count": 6,
   "metadata": {},
   "outputs": [
    {
     "data": {
      "text/html": [
       "<ol class=list-inline>\n",
       "\t<li>'ventfreeday28'</li>\n",
       "\t<li>'vasofreeday28'</li>\n",
       "\t<li>'dobutamine_flag'</li>\n",
       "\t<li>'day1'</li>\n",
       "\t<li>'day2'</li>\n",
       "\t<li>'day3'</li>\n",
       "\t<li>'sofa_drop_2'</li>\n",
       "\t<li>'sofa_drop_3'</li>\n",
       "\t<li>'norepinephrine_max'</li>\n",
       "\t<li>'lactate_diff'</li>\n",
       "\t<li>'creatinine_diff'</li>\n",
       "</ol>\n"
      ],
      "text/latex": [
       "\\begin{enumerate*}\n",
       "\\item 'ventfreeday28'\n",
       "\\item 'vasofreeday28'\n",
       "\\item 'dobutamine\\_flag'\n",
       "\\item 'day1'\n",
       "\\item 'day2'\n",
       "\\item 'day3'\n",
       "\\item 'sofa\\_drop\\_2'\n",
       "\\item 'sofa\\_drop\\_3'\n",
       "\\item 'norepinephrine\\_max'\n",
       "\\item 'lactate\\_diff'\n",
       "\\item 'creatinine\\_diff'\n",
       "\\end{enumerate*}\n"
      ],
      "text/markdown": [
       "1. 'ventfreeday28'\n",
       "2. 'vasofreeday28'\n",
       "3. 'dobutamine_flag'\n",
       "4. 'day1'\n",
       "5. 'day2'\n",
       "6. 'day3'\n",
       "7. 'sofa_drop_2'\n",
       "8. 'sofa_drop_3'\n",
       "9. 'norepinephrine_max'\n",
       "10. 'lactate_diff'\n",
       "11. 'creatinine_diff'\n",
       "\n",
       "\n"
      ],
      "text/plain": [
       " [1] \"ventfreeday28\"      \"vasofreeday28\"      \"dobutamine_flag\"   \n",
       " [4] \"day1\"               \"day2\"               \"day3\"              \n",
       " [7] \"sofa_drop_2\"        \"sofa_drop_3\"        \"norepinephrine_max\"\n",
       "[10] \"lactate_diff\"       \"creatinine_diff\"   "
      ]
     },
     "metadata": {},
     "output_type": "display_data"
    }
   ],
   "source": [
    "outcomes <- c(\"ventfreeday28\", \"vasofreeday28\", \"dobutamine_flag\", \"day1\", \"day2\", \"day3\",\n",
    "              \"sofa_drop_2\", \"sofa_drop_3\",\n",
    "              \"norepinephrine_max\", \"lactate_diff\", \"creatinine_diff\")\n",
    "outcomes"
   ]
  },
  {
   "cell_type": "code",
   "execution_count": 7,
   "metadata": {},
   "outputs": [
    {
     "data": {
      "text/html": [
       "<table>\n",
       "<thead><tr><th scope=col>icustay_id</th><th scope=col>ventfreeday28</th><th scope=col>vasofreeday28</th><th scope=col>dobutamine_flag</th><th scope=col>day1</th><th scope=col>day2</th><th scope=col>day3</th><th scope=col>sofa_drop_2</th><th scope=col>sofa_drop_3</th><th scope=col>norepinephrine_max</th><th scope=col>lactate_diff</th><th scope=col>creatinine_diff</th></tr></thead>\n",
       "<tbody>\n",
       "\t<tr><td>228416   </td><td> 7.581632</td><td>28.00000 </td><td>0        </td><td>-2110.000</td><td>-1930.000</td><td>-1475.000</td><td>  1      </td><td>0        </td><td>0.000000 </td><td>NA       </td><td> NA      </td></tr>\n",
       "\t<tr><td>278148   </td><td> 0.000000</td><td> 0.00000 </td><td>0        </td><td>       NA</td><td>       NA</td><td>       NA</td><td>-16      </td><td>8        </td><td>0.000000 </td><td>NA       </td><td> NA      </td></tr>\n",
       "\t<tr><td>274174   </td><td>28.000000</td><td>28.00000 </td><td>0        </td><td> -300.000</td><td>-1827.000</td><td>  -10.000</td><td>  3      </td><td>2        </td><td>0.000000 </td><td>NA       </td><td> NA      </td></tr>\n",
       "\t<tr><td>214954   </td><td>24.854167</td><td>26.04167 </td><td>0        </td><td> 4299.590</td><td> 2899.645</td><td>-1283.263</td><td>  4      </td><td>5        </td><td>7.977352 </td><td>NA       </td><td>0.5      </td></tr>\n",
       "\t<tr><td>222457   </td><td>28.000000</td><td>28.00000 </td><td>0        </td><td> 5988.072</td><td> 2102.761</td><td>       NA</td><td>  0      </td><td>1        </td><td>0.000000 </td><td>NA       </td><td> NA      </td></tr>\n",
       "\t<tr><td>264413   </td><td>24.250000</td><td>27.37778 </td><td>0        </td><td> 1507.392</td><td>-1400.000</td><td>       NA</td><td>  2      </td><td>3        </td><td>2.748114 </td><td>NA       </td><td> NA      </td></tr>\n",
       "</tbody>\n",
       "</table>\n"
      ],
      "text/latex": [
       "\\begin{tabular}{r|llllllllllll}\n",
       " icustay\\_id & ventfreeday28 & vasofreeday28 & dobutamine\\_flag & day1 & day2 & day3 & sofa\\_drop\\_2 & sofa\\_drop\\_3 & norepinephrine\\_max & lactate\\_diff & creatinine\\_diff\\\\\n",
       "\\hline\n",
       "\t 228416    &  7.581632 & 28.00000  & 0         & -2110.000 & -1930.000 & -1475.000 &   1       & 0         & 0.000000  & NA        &  NA      \\\\\n",
       "\t 278148    &  0.000000 &  0.00000  & 0         &        NA &        NA &        NA & -16       & 8         & 0.000000  & NA        &  NA      \\\\\n",
       "\t 274174    & 28.000000 & 28.00000  & 0         &  -300.000 & -1827.000 &   -10.000 &   3       & 2         & 0.000000  & NA        &  NA      \\\\\n",
       "\t 214954    & 24.854167 & 26.04167  & 0         &  4299.590 &  2899.645 & -1283.263 &   4       & 5         & 7.977352  & NA        & 0.5      \\\\\n",
       "\t 222457    & 28.000000 & 28.00000  & 0         &  5988.072 &  2102.761 &        NA &   0       & 1         & 0.000000  & NA        &  NA      \\\\\n",
       "\t 264413    & 24.250000 & 27.37778  & 0         &  1507.392 & -1400.000 &        NA &   2       & 3         & 2.748114  & NA        &  NA      \\\\\n",
       "\\end{tabular}\n"
      ],
      "text/markdown": [
       "\n",
       "icustay_id | ventfreeday28 | vasofreeday28 | dobutamine_flag | day1 | day2 | day3 | sofa_drop_2 | sofa_drop_3 | norepinephrine_max | lactate_diff | creatinine_diff | \n",
       "|---|---|---|---|---|---|\n",
       "| 228416    |  7.581632 | 28.00000  | 0         | -2110.000 | -1930.000 | -1475.000 |   1       | 0         | 0.000000  | NA        |  NA       | \n",
       "| 278148    |  0.000000 |  0.00000  | 0         |        NA |        NA |        NA | -16       | 8         | 0.000000  | NA        |  NA       | \n",
       "| 274174    | 28.000000 | 28.00000  | 0         |  -300.000 | -1827.000 |   -10.000 |   3       | 2         | 0.000000  | NA        |  NA       | \n",
       "| 214954    | 24.854167 | 26.04167  | 0         |  4299.590 |  2899.645 | -1283.263 |   4       | 5         | 7.977352  | NA        | 0.5       | \n",
       "| 222457    | 28.000000 | 28.00000  | 0         |  5988.072 |  2102.761 |        NA |   0       | 1         | 0.000000  | NA        |  NA       | \n",
       "| 264413    | 24.250000 | 27.37778  | 0         |  1507.392 | -1400.000 |        NA |   2       | 3         | 2.748114  | NA        |  NA       | \n",
       "\n",
       "\n"
      ],
      "text/plain": [
       "  icustay_id ventfreeday28 vasofreeday28 dobutamine_flag day1      day2     \n",
       "1 228416      7.581632     28.00000      0               -2110.000 -1930.000\n",
       "2 278148      0.000000      0.00000      0                      NA        NA\n",
       "3 274174     28.000000     28.00000      0                -300.000 -1827.000\n",
       "4 214954     24.854167     26.04167      0                4299.590  2899.645\n",
       "5 222457     28.000000     28.00000      0                5988.072  2102.761\n",
       "6 264413     24.250000     27.37778      0                1507.392 -1400.000\n",
       "  day3      sofa_drop_2 sofa_drop_3 norepinephrine_max lactate_diff\n",
       "1 -1475.000   1         0           0.000000           NA          \n",
       "2        NA -16         8           0.000000           NA          \n",
       "3   -10.000   3         2           0.000000           NA          \n",
       "4 -1283.263   4         5           7.977352           NA          \n",
       "5        NA   0         1           0.000000           NA          \n",
       "6        NA   2         3           2.748114           NA          \n",
       "  creatinine_diff\n",
       "1  NA            \n",
       "2  NA            \n",
       "3  NA            \n",
       "4 0.5            \n",
       "5  NA            \n",
       "6  NA            "
      ]
     },
     "metadata": {},
     "output_type": "display_data"
    }
   ],
   "source": [
    "subgroup <- subgroup %>%\n",
    "select(!!! rlang::syms(c(\"icustay_id\", outcomes)))\n",
    "\n",
    "head(subgroup)"
   ]
  },
  {
   "cell_type": "code",
   "execution_count": 8,
   "metadata": {},
   "outputs": [
    {
     "data": {
      "text/html": [
       "6361"
      ],
      "text/latex": [
       "6361"
      ],
      "text/markdown": [
       "6361"
      ],
      "text/plain": [
       "[1] 6361"
      ]
     },
     "metadata": {},
     "output_type": "display_data"
    }
   ],
   "source": [
    "nrow(subgroup)"
   ]
  },
  {
   "cell_type": "code",
   "execution_count": 9,
   "metadata": {},
   "outputs": [
    {
     "data": {
      "text/html": [
       "TRUE"
      ],
      "text/latex": [
       "TRUE"
      ],
      "text/markdown": [
       "TRUE"
      ],
      "text/plain": [
       "[1] TRUE"
      ]
     },
     "metadata": {},
     "output_type": "display_data"
    },
    {
     "data": {
      "text/html": [
       "TRUE"
      ],
      "text/latex": [
       "TRUE"
      ],
      "text/markdown": [
       "TRUE"
      ],
      "text/plain": [
       "[1] TRUE"
      ]
     },
     "metadata": {},
     "output_type": "display_data"
    }
   ],
   "source": [
    "dbDisconnect(con)\n",
    "dbUnloadDriver(drv)"
   ]
  },
  {
   "cell_type": "code",
   "execution_count": 10,
   "metadata": {},
   "outputs": [
    {
     "data": {
      "text/html": [
       "<table>\n",
       "<thead><tr><th scope=col>icustay_id</th><th scope=col>hadm_id</th><th scope=col>subject_id</th><th scope=col>first_careunit</th><th scope=col>intime</th><th scope=col>outtime</th><th scope=col>angus</th><th scope=col>age</th><th scope=col>icu_order</th><th scope=col>echo_time</th><th scope=col>⋯</th><th scope=col>lab_pco2_flag</th><th scope=col>lab_creatinine_flag</th><th scope=col>lab_potassium_flag</th><th scope=col>lab_troponin_flag</th><th scope=col>lab_po2_flag</th><th scope=col>lab_lactate_flag</th><th scope=col>echo_int</th><th scope=col>mort_28_day_int</th><th scope=col>ps</th><th scope=col>ps_weight</th></tr></thead>\n",
       "<tbody>\n",
       "\t<tr><td>228416             </td><td>159895             </td><td> 5491              </td><td>MICU               </td><td>2151-06-29 01:18:27</td><td>2151-07-27 16:00:56</td><td>1                  </td><td>76.58225           </td><td>1                  </td><td>2151-06-30         </td><td>⋯                  </td><td>1                  </td><td>1                  </td><td>1                  </td><td>0                  </td><td>1                  </td><td>1                  </td><td>1                  </td><td>0                  </td><td>0.5525232          </td><td>1.809879           </td></tr>\n",
       "\t<tr><td>278148             </td><td>169700             </td><td>49395              </td><td>MICU               </td><td>2197-01-09 00:45:42</td><td>2197-01-10 06:46:29</td><td>1                  </td><td>82.72606           </td><td>1                  </td><td>NA                 </td><td>⋯                  </td><td>0                  </td><td>1                  </td><td>1                  </td><td>0                  </td><td>0                  </td><td>0                  </td><td>0                  </td><td>1                  </td><td>0.2804613          </td><td>1.389779           </td></tr>\n",
       "\t<tr><td>274174             </td><td>103722             </td><td>14855              </td><td>MICU               </td><td>2181-09-08 23:43:13</td><td>2181-09-26 16:52:02</td><td>1                  </td><td>61.84390           </td><td>1                  </td><td>2181-09-11         </td><td>⋯                  </td><td>1                  </td><td>1                  </td><td>1                  </td><td>0                  </td><td>1                  </td><td>1                  </td><td>1                  </td><td>0                  </td><td>0.3012020          </td><td>3.320031           </td></tr>\n",
       "\t<tr><td>214954             </td><td>170515             </td><td>54642              </td><td>MICU               </td><td>2176-03-11 04:58:23</td><td>2176-03-15 18:00:48</td><td>1                  </td><td>63.86507           </td><td>1                  </td><td>2176-03-11         </td><td>⋯                  </td><td>1                  </td><td>1                  </td><td>1                  </td><td>1                  </td><td>1                  </td><td>1                  </td><td>1                  </td><td>0                  </td><td>0.7982833          </td><td>1.252688           </td></tr>\n",
       "\t<tr><td>222457             </td><td>183493             </td><td>96815              </td><td>MICU               </td><td>2105-06-04 20:57:55</td><td>2105-06-06 20:01:51</td><td>1                  </td><td>62.84018           </td><td>1                  </td><td>NA                 </td><td>⋯                  </td><td>0                  </td><td>1                  </td><td>1                  </td><td>0                  </td><td>0                  </td><td>0                  </td><td>0                  </td><td>0                  </td><td>0.2244447          </td><td>1.289399           </td></tr>\n",
       "\t<tr><td>264413             </td><td>134244             </td><td>81436              </td><td>MICU               </td><td>2133-03-27 16:31:37</td><td>2133-04-04 16:15:28</td><td>1                  </td><td>62.60148           </td><td>1                  </td><td>2133-03-31         </td><td>⋯                  </td><td>0                  </td><td>1                  </td><td>1                  </td><td>0                  </td><td>0                  </td><td>1                  </td><td>1                  </td><td>0                  </td><td>0.3320492          </td><td>3.011602           </td></tr>\n",
       "</tbody>\n",
       "</table>\n"
      ],
      "text/latex": [
       "\\begin{tabular}{r|llllllllllllllllllllllllllllllllllllllllllllllllllllllllllllllllllllllllllllllllllllllllllllllllllllllllllllllllllllllllllllllllllllll}\n",
       " icustay\\_id & hadm\\_id & subject\\_id & first\\_careunit & intime & outtime & angus & age & icu\\_order & echo\\_time & ⋯ & lab\\_pco2\\_flag & lab\\_creatinine\\_flag & lab\\_potassium\\_flag & lab\\_troponin\\_flag & lab\\_po2\\_flag & lab\\_lactate\\_flag & echo\\_int & mort\\_28\\_day\\_int & ps & ps\\_weight\\\\\n",
       "\\hline\n",
       "\t 228416              & 159895              &  5491               & MICU                & 2151-06-29 01:18:27 & 2151-07-27 16:00:56 & 1                   & 76.58225            & 1                   & 2151-06-30          & ⋯                   & 1                   & 1                   & 1                   & 0                   & 1                   & 1                   & 1                   & 0                   & 0.5525232           & 1.809879           \\\\\n",
       "\t 278148              & 169700              & 49395               & MICU                & 2197-01-09 00:45:42 & 2197-01-10 06:46:29 & 1                   & 82.72606            & 1                   & NA                  & ⋯                   & 0                   & 1                   & 1                   & 0                   & 0                   & 0                   & 0                   & 1                   & 0.2804613           & 1.389779           \\\\\n",
       "\t 274174              & 103722              & 14855               & MICU                & 2181-09-08 23:43:13 & 2181-09-26 16:52:02 & 1                   & 61.84390            & 1                   & 2181-09-11          & ⋯                   & 1                   & 1                   & 1                   & 0                   & 1                   & 1                   & 1                   & 0                   & 0.3012020           & 3.320031           \\\\\n",
       "\t 214954              & 170515              & 54642               & MICU                & 2176-03-11 04:58:23 & 2176-03-15 18:00:48 & 1                   & 63.86507            & 1                   & 2176-03-11          & ⋯                   & 1                   & 1                   & 1                   & 1                   & 1                   & 1                   & 1                   & 0                   & 0.7982833           & 1.252688           \\\\\n",
       "\t 222457              & 183493              & 96815               & MICU                & 2105-06-04 20:57:55 & 2105-06-06 20:01:51 & 1                   & 62.84018            & 1                   & NA                  & ⋯                   & 0                   & 1                   & 1                   & 0                   & 0                   & 0                   & 0                   & 0                   & 0.2244447           & 1.289399           \\\\\n",
       "\t 264413              & 134244              & 81436               & MICU                & 2133-03-27 16:31:37 & 2133-04-04 16:15:28 & 1                   & 62.60148            & 1                   & 2133-03-31          & ⋯                   & 0                   & 1                   & 1                   & 0                   & 0                   & 1                   & 1                   & 0                   & 0.3320492           & 3.011602           \\\\\n",
       "\\end{tabular}\n"
      ],
      "text/markdown": [
       "\n",
       "icustay_id | hadm_id | subject_id | first_careunit | intime | outtime | angus | age | icu_order | echo_time | ⋯ | lab_pco2_flag | lab_creatinine_flag | lab_potassium_flag | lab_troponin_flag | lab_po2_flag | lab_lactate_flag | echo_int | mort_28_day_int | ps | ps_weight | \n",
       "|---|---|---|---|---|---|\n",
       "| 228416              | 159895              |  5491               | MICU                | 2151-06-29 01:18:27 | 2151-07-27 16:00:56 | 1                   | 76.58225            | 1                   | 2151-06-30          | ⋯                   | 1                   | 1                   | 1                   | 0                   | 1                   | 1                   | 1                   | 0                   | 0.5525232           | 1.809879            | \n",
       "| 278148              | 169700              | 49395               | MICU                | 2197-01-09 00:45:42 | 2197-01-10 06:46:29 | 1                   | 82.72606            | 1                   | NA                  | ⋯                   | 0                   | 1                   | 1                   | 0                   | 0                   | 0                   | 0                   | 1                   | 0.2804613           | 1.389779            | \n",
       "| 274174              | 103722              | 14855               | MICU                | 2181-09-08 23:43:13 | 2181-09-26 16:52:02 | 1                   | 61.84390            | 1                   | 2181-09-11          | ⋯                   | 1                   | 1                   | 1                   | 0                   | 1                   | 1                   | 1                   | 0                   | 0.3012020           | 3.320031            | \n",
       "| 214954              | 170515              | 54642               | MICU                | 2176-03-11 04:58:23 | 2176-03-15 18:00:48 | 1                   | 63.86507            | 1                   | 2176-03-11          | ⋯                   | 1                   | 1                   | 1                   | 1                   | 1                   | 1                   | 1                   | 0                   | 0.7982833           | 1.252688            | \n",
       "| 222457              | 183493              | 96815               | MICU                | 2105-06-04 20:57:55 | 2105-06-06 20:01:51 | 1                   | 62.84018            | 1                   | NA                  | ⋯                   | 0                   | 1                   | 1                   | 0                   | 0                   | 0                   | 0                   | 0                   | 0.2244447           | 1.289399            | \n",
       "| 264413              | 134244              | 81436               | MICU                | 2133-03-27 16:31:37 | 2133-04-04 16:15:28 | 1                   | 62.60148            | 1                   | 2133-03-31          | ⋯                   | 0                   | 1                   | 1                   | 0                   | 0                   | 1                   | 1                   | 0                   | 0.3320492           | 3.011602            | \n",
       "\n",
       "\n"
      ],
      "text/plain": [
       "  icustay_id hadm_id subject_id first_careunit intime             \n",
       "1 228416     159895   5491      MICU           2151-06-29 01:18:27\n",
       "2 278148     169700  49395      MICU           2197-01-09 00:45:42\n",
       "3 274174     103722  14855      MICU           2181-09-08 23:43:13\n",
       "4 214954     170515  54642      MICU           2176-03-11 04:58:23\n",
       "5 222457     183493  96815      MICU           2105-06-04 20:57:55\n",
       "6 264413     134244  81436      MICU           2133-03-27 16:31:37\n",
       "  outtime             angus age      icu_order echo_time  ⋯ lab_pco2_flag\n",
       "1 2151-07-27 16:00:56 1     76.58225 1         2151-06-30 ⋯ 1            \n",
       "2 2197-01-10 06:46:29 1     82.72606 1         <NA>       ⋯ 0            \n",
       "3 2181-09-26 16:52:02 1     61.84390 1         2181-09-11 ⋯ 1            \n",
       "4 2176-03-15 18:00:48 1     63.86507 1         2176-03-11 ⋯ 1            \n",
       "5 2105-06-06 20:01:51 1     62.84018 1         <NA>       ⋯ 0            \n",
       "6 2133-04-04 16:15:28 1     62.60148 1         2133-03-31 ⋯ 0            \n",
       "  lab_creatinine_flag lab_potassium_flag lab_troponin_flag lab_po2_flag\n",
       "1 1                   1                  0                 1           \n",
       "2 1                   1                  0                 0           \n",
       "3 1                   1                  0                 1           \n",
       "4 1                   1                  1                 1           \n",
       "5 1                   1                  0                 0           \n",
       "6 1                   1                  0                 0           \n",
       "  lab_lactate_flag echo_int mort_28_day_int ps        ps_weight\n",
       "1 1                1        0               0.5525232 1.809879 \n",
       "2 0                0        1               0.2804613 1.389779 \n",
       "3 1                1        0               0.3012020 3.320031 \n",
       "4 1                1        0               0.7982833 1.252688 \n",
       "5 0                0        0               0.2244447 1.289399 \n",
       "6 1                1        0               0.3320492 3.011602 "
      ]
     },
     "metadata": {},
     "output_type": "display_data"
    }
   ],
   "source": [
    "full_data <- readRDS(file.path(data_dir, \"full_data_ps.rds\"))\n",
    "head(full_data)"
   ]
  },
  {
   "cell_type": "code",
   "execution_count": 11,
   "metadata": {},
   "outputs": [
    {
     "data": {
      "text/html": [
       "<table>\n",
       "<thead><tr><th scope=col>icustay_id</th><th scope=col>hadm_id</th><th scope=col>subject_id</th><th scope=col>first_careunit</th><th scope=col>intime</th><th scope=col>outtime</th><th scope=col>angus</th><th scope=col>age</th><th scope=col>icu_order</th><th scope=col>echo_time</th><th scope=col>⋯</th><th scope=col>vasofreeday28</th><th scope=col>dobutamine_flag</th><th scope=col>day1</th><th scope=col>day2</th><th scope=col>day3</th><th scope=col>sofa_drop_2</th><th scope=col>sofa_drop_3</th><th scope=col>norepinephrine_max</th><th scope=col>lactate_diff</th><th scope=col>creatinine_diff</th></tr></thead>\n",
       "<tbody>\n",
       "\t<tr><td>228416             </td><td>159895             </td><td> 5491              </td><td>MICU               </td><td>2151-06-29 01:18:27</td><td>2151-07-27 16:00:56</td><td>1                  </td><td>76.58225           </td><td>1                  </td><td>2151-06-30         </td><td>⋯                  </td><td>28.00000           </td><td>0                  </td><td>-2110.000          </td><td>-1930.000          </td><td>-1475.000          </td><td>  1                </td><td>0                  </td><td>0.000000           </td><td>NA                 </td><td> NA                </td></tr>\n",
       "\t<tr><td>278148             </td><td>169700             </td><td>49395              </td><td>MICU               </td><td>2197-01-09 00:45:42</td><td>2197-01-10 06:46:29</td><td>1                  </td><td>82.72606           </td><td>1                  </td><td>NA                 </td><td>⋯                  </td><td> 0.00000           </td><td>0                  </td><td>       NA          </td><td>       NA          </td><td>       NA          </td><td>-16                </td><td>8                  </td><td>0.000000           </td><td>NA                 </td><td> NA                </td></tr>\n",
       "\t<tr><td>274174             </td><td>103722             </td><td>14855              </td><td>MICU               </td><td>2181-09-08 23:43:13</td><td>2181-09-26 16:52:02</td><td>1                  </td><td>61.84390           </td><td>1                  </td><td>2181-09-11         </td><td>⋯                  </td><td>28.00000           </td><td>0                  </td><td> -300.000          </td><td>-1827.000          </td><td>  -10.000          </td><td>  3                </td><td>2                  </td><td>0.000000           </td><td>NA                 </td><td> NA                </td></tr>\n",
       "\t<tr><td>214954             </td><td>170515             </td><td>54642              </td><td>MICU               </td><td>2176-03-11 04:58:23</td><td>2176-03-15 18:00:48</td><td>1                  </td><td>63.86507           </td><td>1                  </td><td>2176-03-11         </td><td>⋯                  </td><td>26.04167           </td><td>0                  </td><td> 4299.590          </td><td> 2899.645          </td><td>-1283.263          </td><td>  4                </td><td>5                  </td><td>7.977352           </td><td>NA                 </td><td>0.5                </td></tr>\n",
       "\t<tr><td>222457             </td><td>183493             </td><td>96815              </td><td>MICU               </td><td>2105-06-04 20:57:55</td><td>2105-06-06 20:01:51</td><td>1                  </td><td>62.84018           </td><td>1                  </td><td>NA                 </td><td>⋯                  </td><td>28.00000           </td><td>0                  </td><td> 5988.072          </td><td> 2102.761          </td><td>       NA          </td><td>  0                </td><td>1                  </td><td>0.000000           </td><td>NA                 </td><td> NA                </td></tr>\n",
       "\t<tr><td>264413             </td><td>134244             </td><td>81436              </td><td>MICU               </td><td>2133-03-27 16:31:37</td><td>2133-04-04 16:15:28</td><td>1                  </td><td>62.60148           </td><td>1                  </td><td>2133-03-31         </td><td>⋯                  </td><td>27.37778           </td><td>0                  </td><td> 1507.392          </td><td>-1400.000          </td><td>       NA          </td><td>  2                </td><td>3                  </td><td>2.748114           </td><td>NA                 </td><td> NA                </td></tr>\n",
       "</tbody>\n",
       "</table>\n"
      ],
      "text/latex": [
       "\\begin{tabular}{r|lllllllllllllllllllllllllllllllllllllllllllllllllllllllllllllllllllllllllllllllllllllllllllllllllllllllllllllllllllllllllllllllllllllllllllllllll}\n",
       " icustay\\_id & hadm\\_id & subject\\_id & first\\_careunit & intime & outtime & angus & age & icu\\_order & echo\\_time & ⋯ & vasofreeday28 & dobutamine\\_flag & day1 & day2 & day3 & sofa\\_drop\\_2 & sofa\\_drop\\_3 & norepinephrine\\_max & lactate\\_diff & creatinine\\_diff\\\\\n",
       "\\hline\n",
       "\t 228416              & 159895              &  5491               & MICU                & 2151-06-29 01:18:27 & 2151-07-27 16:00:56 & 1                   & 76.58225            & 1                   & 2151-06-30          & ⋯                   & 28.00000            & 0                   & -2110.000           & -1930.000           & -1475.000           &   1                 & 0                   & 0.000000            & NA                  &  NA                \\\\\n",
       "\t 278148              & 169700              & 49395               & MICU                & 2197-01-09 00:45:42 & 2197-01-10 06:46:29 & 1                   & 82.72606            & 1                   & NA                  & ⋯                   &  0.00000            & 0                   &        NA           &        NA           &        NA           & -16                 & 8                   & 0.000000            & NA                  &  NA                \\\\\n",
       "\t 274174              & 103722              & 14855               & MICU                & 2181-09-08 23:43:13 & 2181-09-26 16:52:02 & 1                   & 61.84390            & 1                   & 2181-09-11          & ⋯                   & 28.00000            & 0                   &  -300.000           & -1827.000           &   -10.000           &   3                 & 2                   & 0.000000            & NA                  &  NA                \\\\\n",
       "\t 214954              & 170515              & 54642               & MICU                & 2176-03-11 04:58:23 & 2176-03-15 18:00:48 & 1                   & 63.86507            & 1                   & 2176-03-11          & ⋯                   & 26.04167            & 0                   &  4299.590           &  2899.645           & -1283.263           &   4                 & 5                   & 7.977352            & NA                  & 0.5                \\\\\n",
       "\t 222457              & 183493              & 96815               & MICU                & 2105-06-04 20:57:55 & 2105-06-06 20:01:51 & 1                   & 62.84018            & 1                   & NA                  & ⋯                   & 28.00000            & 0                   &  5988.072           &  2102.761           &        NA           &   0                 & 1                   & 0.000000            & NA                  &  NA                \\\\\n",
       "\t 264413              & 134244              & 81436               & MICU                & 2133-03-27 16:31:37 & 2133-04-04 16:15:28 & 1                   & 62.60148            & 1                   & 2133-03-31          & ⋯                   & 27.37778            & 0                   &  1507.392           & -1400.000           &        NA           &   2                 & 3                   & 2.748114            & NA                  &  NA                \\\\\n",
       "\\end{tabular}\n"
      ],
      "text/markdown": [
       "\n",
       "icustay_id | hadm_id | subject_id | first_careunit | intime | outtime | angus | age | icu_order | echo_time | ⋯ | vasofreeday28 | dobutamine_flag | day1 | day2 | day3 | sofa_drop_2 | sofa_drop_3 | norepinephrine_max | lactate_diff | creatinine_diff | \n",
       "|---|---|---|---|---|---|\n",
       "| 228416              | 159895              |  5491               | MICU                | 2151-06-29 01:18:27 | 2151-07-27 16:00:56 | 1                   | 76.58225            | 1                   | 2151-06-30          | ⋯                   | 28.00000            | 0                   | -2110.000           | -1930.000           | -1475.000           |   1                 | 0                   | 0.000000            | NA                  |  NA                 | \n",
       "| 278148              | 169700              | 49395               | MICU                | 2197-01-09 00:45:42 | 2197-01-10 06:46:29 | 1                   | 82.72606            | 1                   | NA                  | ⋯                   |  0.00000            | 0                   |        NA           |        NA           |        NA           | -16                 | 8                   | 0.000000            | NA                  |  NA                 | \n",
       "| 274174              | 103722              | 14855               | MICU                | 2181-09-08 23:43:13 | 2181-09-26 16:52:02 | 1                   | 61.84390            | 1                   | 2181-09-11          | ⋯                   | 28.00000            | 0                   |  -300.000           | -1827.000           |   -10.000           |   3                 | 2                   | 0.000000            | NA                  |  NA                 | \n",
       "| 214954              | 170515              | 54642               | MICU                | 2176-03-11 04:58:23 | 2176-03-15 18:00:48 | 1                   | 63.86507            | 1                   | 2176-03-11          | ⋯                   | 26.04167            | 0                   |  4299.590           |  2899.645           | -1283.263           |   4                 | 5                   | 7.977352            | NA                  | 0.5                 | \n",
       "| 222457              | 183493              | 96815               | MICU                | 2105-06-04 20:57:55 | 2105-06-06 20:01:51 | 1                   | 62.84018            | 1                   | NA                  | ⋯                   | 28.00000            | 0                   |  5988.072           |  2102.761           |        NA           |   0                 | 1                   | 0.000000            | NA                  |  NA                 | \n",
       "| 264413              | 134244              | 81436               | MICU                | 2133-03-27 16:31:37 | 2133-04-04 16:15:28 | 1                   | 62.60148            | 1                   | 2133-03-31          | ⋯                   | 27.37778            | 0                   |  1507.392           | -1400.000           |        NA           |   2                 | 3                   | 2.748114            | NA                  |  NA                 | \n",
       "\n",
       "\n"
      ],
      "text/plain": [
       "  icustay_id hadm_id subject_id first_careunit intime             \n",
       "1 228416     159895   5491      MICU           2151-06-29 01:18:27\n",
       "2 278148     169700  49395      MICU           2197-01-09 00:45:42\n",
       "3 274174     103722  14855      MICU           2181-09-08 23:43:13\n",
       "4 214954     170515  54642      MICU           2176-03-11 04:58:23\n",
       "5 222457     183493  96815      MICU           2105-06-04 20:57:55\n",
       "6 264413     134244  81436      MICU           2133-03-27 16:31:37\n",
       "  outtime             angus age      icu_order echo_time  ⋯ vasofreeday28\n",
       "1 2151-07-27 16:00:56 1     76.58225 1         2151-06-30 ⋯ 28.00000     \n",
       "2 2197-01-10 06:46:29 1     82.72606 1         <NA>       ⋯  0.00000     \n",
       "3 2181-09-26 16:52:02 1     61.84390 1         2181-09-11 ⋯ 28.00000     \n",
       "4 2176-03-15 18:00:48 1     63.86507 1         2176-03-11 ⋯ 26.04167     \n",
       "5 2105-06-06 20:01:51 1     62.84018 1         <NA>       ⋯ 28.00000     \n",
       "6 2133-04-04 16:15:28 1     62.60148 1         2133-03-31 ⋯ 27.37778     \n",
       "  dobutamine_flag day1      day2      day3      sofa_drop_2 sofa_drop_3\n",
       "1 0               -2110.000 -1930.000 -1475.000   1         0          \n",
       "2 0                      NA        NA        NA -16         8          \n",
       "3 0                -300.000 -1827.000   -10.000   3         2          \n",
       "4 0                4299.590  2899.645 -1283.263   4         5          \n",
       "5 0                5988.072  2102.761        NA   0         1          \n",
       "6 0                1507.392 -1400.000        NA   2         3          \n",
       "  norepinephrine_max lactate_diff creatinine_diff\n",
       "1 0.000000           NA            NA            \n",
       "2 0.000000           NA            NA            \n",
       "3 0.000000           NA            NA            \n",
       "4 7.977352           NA           0.5            \n",
       "5 0.000000           NA            NA            \n",
       "6 2.748114           NA            NA            "
      ]
     },
     "metadata": {},
     "output_type": "display_data"
    }
   ],
   "source": [
    "full_data <- full_data %>%\n",
    "left_join(subgroup, by = \"icustay_id\") %>%\n",
    "mutate(dobutamine_flag = as.factor(dobutamine_flag))\n",
    "head(full_data)"
   ]
  },
  {
   "cell_type": "code",
   "execution_count": 12,
   "metadata": {},
   "outputs": [
    {
     "data": {
      "text/html": [
       "<table>\n",
       "<thead><tr><th scope=col>outcome</th><th scope=col>na</th></tr></thead>\n",
       "<tbody>\n",
       "\t<tr><td>ventfreeday28     </td><td>0.0000000         </td></tr>\n",
       "\t<tr><td>vasofreeday28     </td><td>0.0000000         </td></tr>\n",
       "\t<tr><td>dobutamine_flag   </td><td>0.0000000         </td></tr>\n",
       "\t<tr><td>day1              </td><td>0.1067442         </td></tr>\n",
       "\t<tr><td>day2              </td><td>0.1888068         </td></tr>\n",
       "\t<tr><td>day3              </td><td>0.3444427         </td></tr>\n",
       "\t<tr><td>sofa_drop_2       </td><td>0.0000000         </td></tr>\n",
       "\t<tr><td>sofa_drop_3       </td><td>0.0000000         </td></tr>\n",
       "\t<tr><td>norepinephrine_max</td><td>0.0000000         </td></tr>\n",
       "\t<tr><td>lactate_diff      </td><td>0.8739192         </td></tr>\n",
       "\t<tr><td>creatinine_diff   </td><td>0.7049206         </td></tr>\n",
       "</tbody>\n",
       "</table>\n"
      ],
      "text/latex": [
       "\\begin{tabular}{r|ll}\n",
       " outcome & na\\\\\n",
       "\\hline\n",
       "\t ventfreeday28      & 0.0000000         \\\\\n",
       "\t vasofreeday28      & 0.0000000         \\\\\n",
       "\t dobutamine\\_flag    & 0.0000000           \\\\\n",
       "\t day1               & 0.1067442         \\\\\n",
       "\t day2               & 0.1888068         \\\\\n",
       "\t day3               & 0.3444427         \\\\\n",
       "\t sofa\\_drop\\_2        & 0.0000000             \\\\\n",
       "\t sofa\\_drop\\_3        & 0.0000000             \\\\\n",
       "\t norepinephrine\\_max & 0.0000000           \\\\\n",
       "\t lactate\\_diff       & 0.8739192           \\\\\n",
       "\t creatinine\\_diff    & 0.7049206           \\\\\n",
       "\\end{tabular}\n"
      ],
      "text/markdown": [
       "\n",
       "outcome | na | \n",
       "|---|---|---|---|---|---|---|---|---|---|---|\n",
       "| ventfreeday28      | 0.0000000          | \n",
       "| vasofreeday28      | 0.0000000          | \n",
       "| dobutamine_flag    | 0.0000000          | \n",
       "| day1               | 0.1067442          | \n",
       "| day2               | 0.1888068          | \n",
       "| day3               | 0.3444427          | \n",
       "| sofa_drop_2        | 0.0000000          | \n",
       "| sofa_drop_3        | 0.0000000          | \n",
       "| norepinephrine_max | 0.0000000          | \n",
       "| lactate_diff       | 0.8739192          | \n",
       "| creatinine_diff    | 0.7049206          | \n",
       "\n",
       "\n"
      ],
      "text/plain": [
       "   outcome            na       \n",
       "1  ventfreeday28      0.0000000\n",
       "2  vasofreeday28      0.0000000\n",
       "3  dobutamine_flag    0.0000000\n",
       "4  day1               0.1067442\n",
       "5  day2               0.1888068\n",
       "6  day3               0.3444427\n",
       "7  sofa_drop_2        0.0000000\n",
       "8  sofa_drop_3        0.0000000\n",
       "9  norepinephrine_max 0.0000000\n",
       "10 lactate_diff       0.8739192\n",
       "11 creatinine_diff    0.7049206"
      ]
     },
     "metadata": {},
     "output_type": "display_data"
    }
   ],
   "source": [
    "missing <- full_data %>%\n",
    "select(outcomes) %>%\n",
    "summarise_all(funs(sum(is.na(.)) / n())) %>%\n",
    "gather(\"outcome\", \"na\")\n",
    "\n",
    "missing"
   ]
  },
  {
   "cell_type": "code",
   "execution_count": 13,
   "metadata": {},
   "outputs": [
    {
     "data": {
      "text/html": [
       "<ol class=list-inline>\n",
       "\t<li>'first_careunit'</li>\n",
       "\t<li>'age'</li>\n",
       "\t<li>'gender'</li>\n",
       "\t<li>'weight'</li>\n",
       "\t<li>'saps'</li>\n",
       "\t<li>'sofa'</li>\n",
       "\t<li>'elix_score'</li>\n",
       "\t<li>'vent'</li>\n",
       "\t<li>'vaso'</li>\n",
       "\t<li>'icu_adm_weekday'</li>\n",
       "\t<li>'icu_adm_hour'</li>\n",
       "\t<li>'icd_chf'</li>\n",
       "\t<li>'icd_afib'</li>\n",
       "\t<li>'icd_renal'</li>\n",
       "\t<li>'icd_liver'</li>\n",
       "\t<li>'icd_copd'</li>\n",
       "\t<li>'icd_cad'</li>\n",
       "\t<li>'icd_stroke'</li>\n",
       "\t<li>'icd_malignancy'</li>\n",
       "\t<li>'vs_heart_rate_first'</li>\n",
       "\t<li>'vs_map_first'</li>\n",
       "\t<li>'vs_temp_first'</li>\n",
       "\t<li>'lab_hemoglobin_first'</li>\n",
       "\t<li>'lab_platelet_first'</li>\n",
       "\t<li>'lab_wbc_first'</li>\n",
       "\t<li>'lab_ph_first'</li>\n",
       "\t<li>'lab_chloride_first'</li>\n",
       "\t<li>'lab_sodium_first'</li>\n",
       "\t<li>'lab_bun_first'</li>\n",
       "\t<li>'lab_bicarbonate_first'</li>\n",
       "\t<li>'lab_pco2_first'</li>\n",
       "\t<li>'lab_creatinine_first'</li>\n",
       "\t<li>'lab_potassium_first'</li>\n",
       "\t<li>'lab_po2_first'</li>\n",
       "\t<li>'lab_lactate_first'</li>\n",
       "\t<li>'sedative'</li>\n",
       "\t<li>'vs_cvp_flag'</li>\n",
       "\t<li>'lab_creatinine_kinase_flag'</li>\n",
       "\t<li>'lab_bnp_flag'</li>\n",
       "\t<li>'lab_troponin_flag'</li>\n",
       "</ol>\n"
      ],
      "text/latex": [
       "\\begin{enumerate*}\n",
       "\\item 'first\\_careunit'\n",
       "\\item 'age'\n",
       "\\item 'gender'\n",
       "\\item 'weight'\n",
       "\\item 'saps'\n",
       "\\item 'sofa'\n",
       "\\item 'elix\\_score'\n",
       "\\item 'vent'\n",
       "\\item 'vaso'\n",
       "\\item 'icu\\_adm\\_weekday'\n",
       "\\item 'icu\\_adm\\_hour'\n",
       "\\item 'icd\\_chf'\n",
       "\\item 'icd\\_afib'\n",
       "\\item 'icd\\_renal'\n",
       "\\item 'icd\\_liver'\n",
       "\\item 'icd\\_copd'\n",
       "\\item 'icd\\_cad'\n",
       "\\item 'icd\\_stroke'\n",
       "\\item 'icd\\_malignancy'\n",
       "\\item 'vs\\_heart\\_rate\\_first'\n",
       "\\item 'vs\\_map\\_first'\n",
       "\\item 'vs\\_temp\\_first'\n",
       "\\item 'lab\\_hemoglobin\\_first'\n",
       "\\item 'lab\\_platelet\\_first'\n",
       "\\item 'lab\\_wbc\\_first'\n",
       "\\item 'lab\\_ph\\_first'\n",
       "\\item 'lab\\_chloride\\_first'\n",
       "\\item 'lab\\_sodium\\_first'\n",
       "\\item 'lab\\_bun\\_first'\n",
       "\\item 'lab\\_bicarbonate\\_first'\n",
       "\\item 'lab\\_pco2\\_first'\n",
       "\\item 'lab\\_creatinine\\_first'\n",
       "\\item 'lab\\_potassium\\_first'\n",
       "\\item 'lab\\_po2\\_first'\n",
       "\\item 'lab\\_lactate\\_first'\n",
       "\\item 'sedative'\n",
       "\\item 'vs\\_cvp\\_flag'\n",
       "\\item 'lab\\_creatinine\\_kinase\\_flag'\n",
       "\\item 'lab\\_bnp\\_flag'\n",
       "\\item 'lab\\_troponin\\_flag'\n",
       "\\end{enumerate*}\n"
      ],
      "text/markdown": [
       "1. 'first_careunit'\n",
       "2. 'age'\n",
       "3. 'gender'\n",
       "4. 'weight'\n",
       "5. 'saps'\n",
       "6. 'sofa'\n",
       "7. 'elix_score'\n",
       "8. 'vent'\n",
       "9. 'vaso'\n",
       "10. 'icu_adm_weekday'\n",
       "11. 'icu_adm_hour'\n",
       "12. 'icd_chf'\n",
       "13. 'icd_afib'\n",
       "14. 'icd_renal'\n",
       "15. 'icd_liver'\n",
       "16. 'icd_copd'\n",
       "17. 'icd_cad'\n",
       "18. 'icd_stroke'\n",
       "19. 'icd_malignancy'\n",
       "20. 'vs_heart_rate_first'\n",
       "21. 'vs_map_first'\n",
       "22. 'vs_temp_first'\n",
       "23. 'lab_hemoglobin_first'\n",
       "24. 'lab_platelet_first'\n",
       "25. 'lab_wbc_first'\n",
       "26. 'lab_ph_first'\n",
       "27. 'lab_chloride_first'\n",
       "28. 'lab_sodium_first'\n",
       "29. 'lab_bun_first'\n",
       "30. 'lab_bicarbonate_first'\n",
       "31. 'lab_pco2_first'\n",
       "32. 'lab_creatinine_first'\n",
       "33. 'lab_potassium_first'\n",
       "34. 'lab_po2_first'\n",
       "35. 'lab_lactate_first'\n",
       "36. 'sedative'\n",
       "37. 'vs_cvp_flag'\n",
       "38. 'lab_creatinine_kinase_flag'\n",
       "39. 'lab_bnp_flag'\n",
       "40. 'lab_troponin_flag'\n",
       "\n",
       "\n"
      ],
      "text/plain": [
       " [1] \"first_careunit\"             \"age\"                       \n",
       " [3] \"gender\"                     \"weight\"                    \n",
       " [5] \"saps\"                       \"sofa\"                      \n",
       " [7] \"elix_score\"                 \"vent\"                      \n",
       " [9] \"vaso\"                       \"icu_adm_weekday\"           \n",
       "[11] \"icu_adm_hour\"               \"icd_chf\"                   \n",
       "[13] \"icd_afib\"                   \"icd_renal\"                 \n",
       "[15] \"icd_liver\"                  \"icd_copd\"                  \n",
       "[17] \"icd_cad\"                    \"icd_stroke\"                \n",
       "[19] \"icd_malignancy\"             \"vs_heart_rate_first\"       \n",
       "[21] \"vs_map_first\"               \"vs_temp_first\"             \n",
       "[23] \"lab_hemoglobin_first\"       \"lab_platelet_first\"        \n",
       "[25] \"lab_wbc_first\"              \"lab_ph_first\"              \n",
       "[27] \"lab_chloride_first\"         \"lab_sodium_first\"          \n",
       "[29] \"lab_bun_first\"              \"lab_bicarbonate_first\"     \n",
       "[31] \"lab_pco2_first\"             \"lab_creatinine_first\"      \n",
       "[33] \"lab_potassium_first\"        \"lab_po2_first\"             \n",
       "[35] \"lab_lactate_first\"          \"sedative\"                  \n",
       "[37] \"vs_cvp_flag\"                \"lab_creatinine_kinase_flag\"\n",
       "[39] \"lab_bnp_flag\"               \"lab_troponin_flag\"         "
      ]
     },
     "metadata": {},
     "output_type": "display_data"
    },
    {
     "data": {
      "text/html": [
       "40"
      ],
      "text/latex": [
       "40"
      ],
      "text/markdown": [
       "40"
      ],
      "text/plain": [
       "[1] 40"
      ]
     },
     "metadata": {},
     "output_type": "display_data"
    }
   ],
   "source": [
    "features <- data.table::fread(file.path(data_dir, \"features.csv\"), data.table = FALSE) %>%\n",
    "pull(feature)\n",
    "\n",
    "features\n",
    "length(features)"
   ]
  },
  {
   "cell_type": "code",
   "execution_count": 14,
   "metadata": {},
   "outputs": [
    {
     "data": {
      "text/html": [
       "<ol class=list-inline>\n",
       "\t<li>'sofa'</li>\n",
       "\t<li>'vent'</li>\n",
       "\t<li>'vaso'</li>\n",
       "\t<li>'sedative'</li>\n",
       "\t<li>'icd_chf'</li>\n",
       "\t<li>'icd_afib'</li>\n",
       "\t<li>'lab_chloride_first'</li>\n",
       "\t<li>'lab_bnp_flag'</li>\n",
       "\t<li>'lab_troponin_flag'</li>\n",
       "\t<li>'lab_creatinine_kinase_flag'</li>\n",
       "</ol>\n"
      ],
      "text/latex": [
       "\\begin{enumerate*}\n",
       "\\item 'sofa'\n",
       "\\item 'vent'\n",
       "\\item 'vaso'\n",
       "\\item 'sedative'\n",
       "\\item 'icd\\_chf'\n",
       "\\item 'icd\\_afib'\n",
       "\\item 'lab\\_chloride\\_first'\n",
       "\\item 'lab\\_bnp\\_flag'\n",
       "\\item 'lab\\_troponin\\_flag'\n",
       "\\item 'lab\\_creatinine\\_kinase\\_flag'\n",
       "\\end{enumerate*}\n"
      ],
      "text/markdown": [
       "1. 'sofa'\n",
       "2. 'vent'\n",
       "3. 'vaso'\n",
       "4. 'sedative'\n",
       "5. 'icd_chf'\n",
       "6. 'icd_afib'\n",
       "7. 'lab_chloride_first'\n",
       "8. 'lab_bnp_flag'\n",
       "9. 'lab_troponin_flag'\n",
       "10. 'lab_creatinine_kinase_flag'\n",
       "\n",
       "\n"
      ],
      "text/plain": [
       " [1] \"sofa\"                       \"vent\"                      \n",
       " [3] \"vaso\"                       \"sedative\"                  \n",
       " [5] \"icd_chf\"                    \"icd_afib\"                  \n",
       " [7] \"lab_chloride_first\"         \"lab_bnp_flag\"              \n",
       " [9] \"lab_troponin_flag\"          \"lab_creatinine_kinase_flag\""
      ]
     },
     "metadata": {},
     "output_type": "display_data"
    }
   ],
   "source": [
    "wtd_pval <- data.table::fread(file.path(data_dir, \"wtd_pval.csv\"), data.table = FALSE)\n",
    "features_unbalanced <- wtd_pval %>%\n",
    "    filter(pval < 0.05) %>%\n",
    "    pull(cov)\n",
    "\n",
    "features_unbalanced"
   ]
  },
  {
   "cell_type": "code",
   "execution_count": 15,
   "metadata": {},
   "outputs": [],
   "source": [
    "ipw_svydesign <- svydesign(ids = ~ icustay_id, weights = ~ ps_weight, data = full_data)"
   ]
  },
  {
   "cell_type": "code",
   "execution_count": 16,
   "metadata": {},
   "outputs": [
    {
     "data": {
      "text/html": [
       "<table>\n",
       "<thead><tr><th scope=col>outcome</th><th scope=col>pval</th></tr></thead>\n",
       "<tbody>\n",
       "\t<tr><td>ventfreeday28     </td><td>1.464278e-01      </td></tr>\n",
       "\t<tr><td>vasofreeday28     </td><td>1.394802e-04      </td></tr>\n",
       "\t<tr><td>dobutamine_flag   </td><td>1.012378e-03      </td></tr>\n",
       "\t<tr><td>day1              </td><td>2.712638e-01      </td></tr>\n",
       "\t<tr><td>day2              </td><td>1.562755e-02      </td></tr>\n",
       "\t<tr><td>day3              </td><td>7.977669e-05      </td></tr>\n",
       "\t<tr><td>sofa_drop_2       </td><td>2.632704e-03      </td></tr>\n",
       "\t<tr><td>sofa_drop_3       </td><td>5.176941e-09      </td></tr>\n",
       "\t<tr><td>norepinephrine_max</td><td>2.367474e-05      </td></tr>\n",
       "\t<tr><td>lactate_diff      </td><td>6.271623e-04      </td></tr>\n",
       "\t<tr><td>creatinine_diff   </td><td>2.503756e-01      </td></tr>\n",
       "</tbody>\n",
       "</table>\n"
      ],
      "text/latex": [
       "\\begin{tabular}{r|ll}\n",
       " outcome & pval\\\\\n",
       "\\hline\n",
       "\t ventfreeday28      & 1.464278e-01      \\\\\n",
       "\t vasofreeday28      & 1.394802e-04      \\\\\n",
       "\t dobutamine\\_flag    & 1.012378e-03        \\\\\n",
       "\t day1               & 2.712638e-01      \\\\\n",
       "\t day2               & 1.562755e-02      \\\\\n",
       "\t day3               & 7.977669e-05      \\\\\n",
       "\t sofa\\_drop\\_2        & 2.632704e-03          \\\\\n",
       "\t sofa\\_drop\\_3        & 5.176941e-09          \\\\\n",
       "\t norepinephrine\\_max & 2.367474e-05        \\\\\n",
       "\t lactate\\_diff       & 6.271623e-04        \\\\\n",
       "\t creatinine\\_diff    & 2.503756e-01        \\\\\n",
       "\\end{tabular}\n"
      ],
      "text/markdown": [
       "\n",
       "outcome | pval | \n",
       "|---|---|---|---|---|---|---|---|---|---|---|\n",
       "| ventfreeday28      | 1.464278e-01       | \n",
       "| vasofreeday28      | 1.394802e-04       | \n",
       "| dobutamine_flag    | 1.012378e-03       | \n",
       "| day1               | 2.712638e-01       | \n",
       "| day2               | 1.562755e-02       | \n",
       "| day3               | 7.977669e-05       | \n",
       "| sofa_drop_2        | 2.632704e-03       | \n",
       "| sofa_drop_3        | 5.176941e-09       | \n",
       "| norepinephrine_max | 2.367474e-05       | \n",
       "| lactate_diff       | 6.271623e-04       | \n",
       "| creatinine_diff    | 2.503756e-01       | \n",
       "\n",
       "\n"
      ],
      "text/plain": [
       "   outcome            pval        \n",
       "1  ventfreeday28      1.464278e-01\n",
       "2  vasofreeday28      1.394802e-04\n",
       "3  dobutamine_flag    1.012378e-03\n",
       "4  day1               2.712638e-01\n",
       "5  day2               1.562755e-02\n",
       "6  day3               7.977669e-05\n",
       "7  sofa_drop_2        2.632704e-03\n",
       "8  sofa_drop_3        5.176941e-09\n",
       "9  norepinephrine_max 2.367474e-05\n",
       "10 lactate_diff       6.271623e-04\n",
       "11 creatinine_diff    2.503756e-01"
      ]
     },
     "metadata": {},
     "output_type": "display_data"
    }
   ],
   "source": [
    "all_cov <- outcomes %>%\n",
    "map_dbl(function(outcome) {\n",
    "    fml <- features %>%\n",
    "    c(\"echo\", .) %>%\n",
    "    paste(collapse = \" + \") %>%\n",
    "    sprintf(\"%s ~ %s\", outcome, .)\n",
    "    \n",
    "    if (is.factor(full_data[[outcome]])) {\n",
    "        mod <- svyglm(as.formula(fml), family = quasibinomial, design = ipw_svydesign)\n",
    "    } else {\n",
    "        mod <- svyglm(as.formula(fml), family = quasi, design = ipw_svydesign)\n",
    "    }\n",
    "    \n",
    "    mod %>% summary %>% coefficients %>% .[\"echo1\", 4]\n",
    "}) %>%\n",
    "data.frame(outcome = outcomes, pval = ., stringsAsFactors = FALSE)\n",
    "\n",
    "all_cov"
   ]
  },
  {
   "cell_type": "code",
   "execution_count": 17,
   "metadata": {},
   "outputs": [
    {
     "data": {
      "text/html": [
       "<table>\n",
       "<thead><tr><th scope=col>outcome</th><th scope=col>pval</th></tr></thead>\n",
       "<tbody>\n",
       "\t<tr><td>ventfreeday28     </td><td>4.802945e-01      </td></tr>\n",
       "\t<tr><td>vasofreeday28     </td><td>4.531889e-03      </td></tr>\n",
       "\t<tr><td>dobutamine_flag   </td><td>1.846086e-05      </td></tr>\n",
       "\t<tr><td>day1              </td><td>1.057933e-01      </td></tr>\n",
       "\t<tr><td>day2              </td><td>1.423886e-04      </td></tr>\n",
       "\t<tr><td>day3              </td><td>5.007807e-07      </td></tr>\n",
       "\t<tr><td>sofa_drop_2       </td><td>4.953871e-06      </td></tr>\n",
       "\t<tr><td>sofa_drop_3       </td><td>6.183852e-24      </td></tr>\n",
       "\t<tr><td>norepinephrine_max</td><td>2.852326e-08      </td></tr>\n",
       "\t<tr><td>lactate_diff      </td><td>4.344303e-02      </td></tr>\n",
       "\t<tr><td>creatinine_diff   </td><td>4.458142e-01      </td></tr>\n",
       "</tbody>\n",
       "</table>\n"
      ],
      "text/latex": [
       "\\begin{tabular}{r|ll}\n",
       " outcome & pval\\\\\n",
       "\\hline\n",
       "\t ventfreeday28      & 4.802945e-01      \\\\\n",
       "\t vasofreeday28      & 4.531889e-03      \\\\\n",
       "\t dobutamine\\_flag    & 1.846086e-05        \\\\\n",
       "\t day1               & 1.057933e-01      \\\\\n",
       "\t day2               & 1.423886e-04      \\\\\n",
       "\t day3               & 5.007807e-07      \\\\\n",
       "\t sofa\\_drop\\_2        & 4.953871e-06          \\\\\n",
       "\t sofa\\_drop\\_3        & 6.183852e-24          \\\\\n",
       "\t norepinephrine\\_max & 2.852326e-08        \\\\\n",
       "\t lactate\\_diff       & 4.344303e-02        \\\\\n",
       "\t creatinine\\_diff    & 4.458142e-01        \\\\\n",
       "\\end{tabular}\n"
      ],
      "text/markdown": [
       "\n",
       "outcome | pval | \n",
       "|---|---|---|---|---|---|---|---|---|---|---|\n",
       "| ventfreeday28      | 4.802945e-01       | \n",
       "| vasofreeday28      | 4.531889e-03       | \n",
       "| dobutamine_flag    | 1.846086e-05       | \n",
       "| day1               | 1.057933e-01       | \n",
       "| day2               | 1.423886e-04       | \n",
       "| day3               | 5.007807e-07       | \n",
       "| sofa_drop_2        | 4.953871e-06       | \n",
       "| sofa_drop_3        | 6.183852e-24       | \n",
       "| norepinephrine_max | 2.852326e-08       | \n",
       "| lactate_diff       | 4.344303e-02       | \n",
       "| creatinine_diff    | 4.458142e-01       | \n",
       "\n",
       "\n"
      ],
      "text/plain": [
       "   outcome            pval        \n",
       "1  ventfreeday28      4.802945e-01\n",
       "2  vasofreeday28      4.531889e-03\n",
       "3  dobutamine_flag    1.846086e-05\n",
       "4  day1               1.057933e-01\n",
       "5  day2               1.423886e-04\n",
       "6  day3               5.007807e-07\n",
       "7  sofa_drop_2        4.953871e-06\n",
       "8  sofa_drop_3        6.183852e-24\n",
       "9  norepinephrine_max 2.852326e-08\n",
       "10 lactate_diff       4.344303e-02\n",
       "11 creatinine_diff    4.458142e-01"
      ]
     },
     "metadata": {},
     "output_type": "display_data"
    }
   ],
   "source": [
    "unb_cov <- outcomes %>%\n",
    "map_dbl(function(outcome) {\n",
    "    fml <- features_unbalanced %>%\n",
    "    c(\"echo\", .) %>%\n",
    "    paste(collapse = \" + \") %>%\n",
    "    sprintf(\"%s ~ %s\", outcome, .)\n",
    "    \n",
    "    if (is.factor(full_data[[outcome]])) {\n",
    "        mod <- svyglm(as.formula(fml), family = quasibinomial, design = ipw_svydesign)\n",
    "    } else {\n",
    "        mod <- svyglm(as.formula(fml), family = quasi, design = ipw_svydesign)\n",
    "    }\n",
    "    \n",
    "    mod %>% summary %>% coefficients %>% .[\"echo1\", 4]\n",
    "}) %>%\n",
    "data.frame(outcome = outcomes, pval = ., stringsAsFactors = FALSE)\n",
    "\n",
    "unb_cov"
   ]
  },
  {
   "cell_type": "code",
   "execution_count": 18,
   "metadata": {},
   "outputs": [
    {
     "data": {
      "text/html": [
       "<table>\n",
       "<thead><tr><th scope=col>outcome</th><th scope=col>pval</th></tr></thead>\n",
       "<tbody>\n",
       "\t<tr><td>ventfreeday28     </td><td>9.651383e-02      </td></tr>\n",
       "\t<tr><td>vasofreeday28     </td><td>5.794427e-05      </td></tr>\n",
       "\t<tr><td>dobutamine_flag   </td><td>1.374514e-03      </td></tr>\n",
       "\t<tr><td>day1              </td><td>3.067124e-01      </td></tr>\n",
       "\t<tr><td>day2              </td><td>7.482473e-03      </td></tr>\n",
       "\t<tr><td>day3              </td><td>4.250007e-06      </td></tr>\n",
       "\t<tr><td>sofa_drop_2       </td><td>4.659638e-05      </td></tr>\n",
       "\t<tr><td>sofa_drop_3       </td><td>6.415538e-12      </td></tr>\n",
       "\t<tr><td>norepinephrine_max</td><td>3.385410e-03      </td></tr>\n",
       "\t<tr><td>lactate_diff      </td><td>6.727393e-03      </td></tr>\n",
       "\t<tr><td>creatinine_diff   </td><td>3.577534e-01      </td></tr>\n",
       "</tbody>\n",
       "</table>\n"
      ],
      "text/latex": [
       "\\begin{tabular}{r|ll}\n",
       " outcome & pval\\\\\n",
       "\\hline\n",
       "\t ventfreeday28      & 9.651383e-02      \\\\\n",
       "\t vasofreeday28      & 5.794427e-05      \\\\\n",
       "\t dobutamine\\_flag    & 1.374514e-03        \\\\\n",
       "\t day1               & 3.067124e-01      \\\\\n",
       "\t day2               & 7.482473e-03      \\\\\n",
       "\t day3               & 4.250007e-06      \\\\\n",
       "\t sofa\\_drop\\_2        & 4.659638e-05          \\\\\n",
       "\t sofa\\_drop\\_3        & 6.415538e-12          \\\\\n",
       "\t norepinephrine\\_max & 3.385410e-03        \\\\\n",
       "\t lactate\\_diff       & 6.727393e-03        \\\\\n",
       "\t creatinine\\_diff    & 3.577534e-01        \\\\\n",
       "\\end{tabular}\n"
      ],
      "text/markdown": [
       "\n",
       "outcome | pval | \n",
       "|---|---|---|---|---|---|---|---|---|---|---|\n",
       "| ventfreeday28      | 9.651383e-02       | \n",
       "| vasofreeday28      | 5.794427e-05       | \n",
       "| dobutamine_flag    | 1.374514e-03       | \n",
       "| day1               | 3.067124e-01       | \n",
       "| day2               | 7.482473e-03       | \n",
       "| day3               | 4.250007e-06       | \n",
       "| sofa_drop_2        | 4.659638e-05       | \n",
       "| sofa_drop_3        | 6.415538e-12       | \n",
       "| norepinephrine_max | 3.385410e-03       | \n",
       "| lactate_diff       | 6.727393e-03       | \n",
       "| creatinine_diff    | 3.577534e-01       | \n",
       "\n",
       "\n"
      ],
      "text/plain": [
       "   outcome            pval        \n",
       "1  ventfreeday28      9.651383e-02\n",
       "2  vasofreeday28      5.794427e-05\n",
       "3  dobutamine_flag    1.374514e-03\n",
       "4  day1               3.067124e-01\n",
       "5  day2               7.482473e-03\n",
       "6  day3               4.250007e-06\n",
       "7  sofa_drop_2        4.659638e-05\n",
       "8  sofa_drop_3        6.415538e-12\n",
       "9  norepinephrine_max 3.385410e-03\n",
       "10 lactate_diff       6.727393e-03\n",
       "11 creatinine_diff    3.577534e-01"
      ]
     },
     "metadata": {},
     "output_type": "display_data"
    }
   ],
   "source": [
    "multivariate <- outcomes %>%\n",
    "map_dbl(function(outcome) {\n",
    "    fml <- features %>%\n",
    "    c(\"echo\", .) %>%\n",
    "    paste(collapse = \" + \") %>%\n",
    "    sprintf(\"%s ~ %s\", outcome, .)\n",
    "    \n",
    "    if (is.factor(full_data[[outcome]])) {\n",
    "        mod <- glm(as.formula(fml), family = binomial, data = full_data)\n",
    "    } else {\n",
    "        mod <- glm(as.formula(fml), family = gaussian, data = full_data)\n",
    "    }\n",
    "    \n",
    "    mod %>% summary %>% coefficients %>% .[\"echo1\", 4]\n",
    "}) %>%\n",
    "data.frame(outcome = outcomes, pval = ., stringsAsFactors = FALSE)\n",
    "\n",
    "multivariate"
   ]
  },
  {
   "cell_type": "code",
   "execution_count": 19,
   "metadata": {},
   "outputs": [
    {
     "data": {
      "text/html": [
       "<table>\n",
       "<thead><tr><th scope=col>outcome</th><th scope=col>dbwa</th><th scope=col>dbwu</th><th scope=col>multi</th><th scope=col>na</th></tr></thead>\n",
       "<tbody>\n",
       "\t<tr><td>ventfreeday28     </td><td>1.464278e-01      </td><td>4.802945e-01      </td><td>9.651383e-02      </td><td>0.0000000         </td></tr>\n",
       "\t<tr><td>vasofreeday28     </td><td>1.394802e-04      </td><td>4.531889e-03      </td><td>5.794427e-05      </td><td>0.0000000         </td></tr>\n",
       "\t<tr><td>dobutamine_flag   </td><td>1.012378e-03      </td><td>1.846086e-05      </td><td>1.374514e-03      </td><td>0.0000000         </td></tr>\n",
       "\t<tr><td>day1              </td><td>2.712638e-01      </td><td>1.057933e-01      </td><td>3.067124e-01      </td><td>0.1067442         </td></tr>\n",
       "\t<tr><td>day2              </td><td>1.562755e-02      </td><td>1.423886e-04      </td><td>7.482473e-03      </td><td>0.1888068         </td></tr>\n",
       "\t<tr><td>day3              </td><td>7.977669e-05      </td><td>5.007807e-07      </td><td>4.250007e-06      </td><td>0.3444427         </td></tr>\n",
       "\t<tr><td>sofa_drop_2       </td><td>2.632704e-03      </td><td>4.953871e-06      </td><td>4.659638e-05      </td><td>0.0000000         </td></tr>\n",
       "\t<tr><td>sofa_drop_3       </td><td>5.176941e-09      </td><td>6.183852e-24      </td><td>6.415538e-12      </td><td>0.0000000         </td></tr>\n",
       "\t<tr><td>norepinephrine_max</td><td>2.367474e-05      </td><td>2.852326e-08      </td><td>3.385410e-03      </td><td>0.0000000         </td></tr>\n",
       "\t<tr><td>lactate_diff      </td><td>6.271623e-04      </td><td>4.344303e-02      </td><td>6.727393e-03      </td><td>0.8739192         </td></tr>\n",
       "\t<tr><td>creatinine_diff   </td><td>2.503756e-01      </td><td>4.458142e-01      </td><td>3.577534e-01      </td><td>0.7049206         </td></tr>\n",
       "</tbody>\n",
       "</table>\n"
      ],
      "text/latex": [
       "\\begin{tabular}{r|lllll}\n",
       " outcome & dbwa & dbwu & multi & na\\\\\n",
       "\\hline\n",
       "\t ventfreeday28      & 1.464278e-01       & 4.802945e-01       & 9.651383e-02       & 0.0000000         \\\\\n",
       "\t vasofreeday28      & 1.394802e-04       & 4.531889e-03       & 5.794427e-05       & 0.0000000         \\\\\n",
       "\t dobutamine\\_flag    & 1.012378e-03         & 1.846086e-05         & 1.374514e-03         & 0.0000000           \\\\\n",
       "\t day1               & 2.712638e-01       & 1.057933e-01       & 3.067124e-01       & 0.1067442         \\\\\n",
       "\t day2               & 1.562755e-02       & 1.423886e-04       & 7.482473e-03       & 0.1888068         \\\\\n",
       "\t day3               & 7.977669e-05       & 5.007807e-07       & 4.250007e-06       & 0.3444427         \\\\\n",
       "\t sofa\\_drop\\_2        & 2.632704e-03           & 4.953871e-06           & 4.659638e-05           & 0.0000000             \\\\\n",
       "\t sofa\\_drop\\_3        & 5.176941e-09           & 6.183852e-24           & 6.415538e-12           & 0.0000000             \\\\\n",
       "\t norepinephrine\\_max & 2.367474e-05         & 2.852326e-08         & 3.385410e-03         & 0.0000000           \\\\\n",
       "\t lactate\\_diff       & 6.271623e-04         & 4.344303e-02         & 6.727393e-03         & 0.8739192           \\\\\n",
       "\t creatinine\\_diff    & 2.503756e-01         & 4.458142e-01         & 3.577534e-01         & 0.7049206           \\\\\n",
       "\\end{tabular}\n"
      ],
      "text/markdown": [
       "\n",
       "outcome | dbwa | dbwu | multi | na | \n",
       "|---|---|---|---|---|---|---|---|---|---|---|\n",
       "| ventfreeday28      | 1.464278e-01       | 4.802945e-01       | 9.651383e-02       | 0.0000000          | \n",
       "| vasofreeday28      | 1.394802e-04       | 4.531889e-03       | 5.794427e-05       | 0.0000000          | \n",
       "| dobutamine_flag    | 1.012378e-03       | 1.846086e-05       | 1.374514e-03       | 0.0000000          | \n",
       "| day1               | 2.712638e-01       | 1.057933e-01       | 3.067124e-01       | 0.1067442          | \n",
       "| day2               | 1.562755e-02       | 1.423886e-04       | 7.482473e-03       | 0.1888068          | \n",
       "| day3               | 7.977669e-05       | 5.007807e-07       | 4.250007e-06       | 0.3444427          | \n",
       "| sofa_drop_2        | 2.632704e-03       | 4.953871e-06       | 4.659638e-05       | 0.0000000          | \n",
       "| sofa_drop_3        | 5.176941e-09       | 6.183852e-24       | 6.415538e-12       | 0.0000000          | \n",
       "| norepinephrine_max | 2.367474e-05       | 2.852326e-08       | 3.385410e-03       | 0.0000000          | \n",
       "| lactate_diff       | 6.271623e-04       | 4.344303e-02       | 6.727393e-03       | 0.8739192          | \n",
       "| creatinine_diff    | 2.503756e-01       | 4.458142e-01       | 3.577534e-01       | 0.7049206          | \n",
       "\n",
       "\n"
      ],
      "text/plain": [
       "   outcome            dbwa         dbwu         multi        na       \n",
       "1  ventfreeday28      1.464278e-01 4.802945e-01 9.651383e-02 0.0000000\n",
       "2  vasofreeday28      1.394802e-04 4.531889e-03 5.794427e-05 0.0000000\n",
       "3  dobutamine_flag    1.012378e-03 1.846086e-05 1.374514e-03 0.0000000\n",
       "4  day1               2.712638e-01 1.057933e-01 3.067124e-01 0.1067442\n",
       "5  day2               1.562755e-02 1.423886e-04 7.482473e-03 0.1888068\n",
       "6  day3               7.977669e-05 5.007807e-07 4.250007e-06 0.3444427\n",
       "7  sofa_drop_2        2.632704e-03 4.953871e-06 4.659638e-05 0.0000000\n",
       "8  sofa_drop_3        5.176941e-09 6.183852e-24 6.415538e-12 0.0000000\n",
       "9  norepinephrine_max 2.367474e-05 2.852326e-08 3.385410e-03 0.0000000\n",
       "10 lactate_diff       6.271623e-04 4.344303e-02 6.727393e-03 0.8739192\n",
       "11 creatinine_diff    2.503756e-01 4.458142e-01 3.577534e-01 0.7049206"
      ]
     },
     "metadata": {},
     "output_type": "display_data"
    }
   ],
   "source": [
    "tb_raw <- (all_cov %>% rename(dbwa = pval)) %>%\n",
    "full_join(unb_cov %>% rename(dbwu = pval), by = \"outcome\") %>%\n",
    "full_join(multivariate %>% rename(multi = pval), by = \"outcome\") %>%\n",
    "full_join(missing, by = \"outcome\")\n",
    "\n",
    "tb_raw"
   ]
  },
  {
   "cell_type": "code",
   "execution_count": 20,
   "metadata": {},
   "outputs": [
    {
     "data": {
      "text/html": [
       "<table>\n",
       "<thead><tr><th scope=col>cov</th><th scope=col>p value (Doubly Robust All Covariates)</th><th scope=col>p value (Doubly Robust Unbalanced Covariates)</th><th scope=col>p value (Multivariate)</th><th scope=col>Missing data (%)</th></tr></thead>\n",
       "<tbody>\n",
       "\t<tr><td>Ventilation free days in 28 days      </td><td>0.146                                 </td><td>0.48                                  </td><td>0.097                                 </td><td> 0.000                                </td></tr>\n",
       "\t<tr><td><span style=white-space:pre-wrap>Vasopressor free days in 28 days      </span></td><td>&lt;0.001                                                                     </td><td>0.005                                                                         </td><td>&lt;0.001                                                                     </td><td> 0.000                                                                        </td></tr>\n",
       "\t<tr><td><span style=white-space:pre-wrap>Dobutamine Use                        </span></td><td>0.001                                                                         </td><td>&lt;0.001                                                                     </td><td>0.001                                                                         </td><td> 0.000                                                                        </td></tr>\n",
       "\t<tr><td>IV Fluid Day 1 (mL)                   </td><td>0.271                                 </td><td>0.106                                 </td><td>0.307                                 </td><td>10.674                                </td></tr>\n",
       "\t<tr><td><span style=white-space:pre-wrap>IV Fluid Day 2 (mL)                   </span></td><td>0.016                                                                         </td><td>&lt;0.001                                                                     </td><td>0.007                                                                         </td><td>18.881                                                                        </td></tr>\n",
       "\t<tr><td><span style=white-space:pre-wrap>IV Fluid Day 3 (mL)                   </span></td><td>&lt;0.001                                                                     </td><td>&lt;0.001                                                                     </td><td>&lt;0.001                                                                     </td><td>34.444                                                                        </td></tr>\n",
       "\t<tr><td><span style=white-space:pre-wrap>SOFA Reduction Day 2                  </span></td><td>0.003                                                                         </td><td>&lt;0.001                                                                     </td><td>&lt;0.001                                                                     </td><td> 0.000                                                                        </td></tr>\n",
       "\t<tr><td><span style=white-space:pre-wrap>SOFA Reduction Day 3                  </span></td><td>&lt;0.001                                                                     </td><td>&lt;0.001                                                                     </td><td>&lt;0.001                                                                     </td><td> 0.000                                                                        </td></tr>\n",
       "\t<tr><td>Norepinephrine (maximum dosage mg/min)</td><td>&lt;0.001                             </td><td>&lt;0.001                             </td><td>0.003                                 </td><td> 0.000                                </td></tr>\n",
       "\t<tr><td><span style=white-space:pre-wrap>Serum Lactate Reduction               </span></td><td>&lt;0.001                                                                     </td><td>0.043                                                                         </td><td>0.007                                                                         </td><td>87.392                                                                        </td></tr>\n",
       "\t<tr><td>Serum Creatinine Reduction            </td><td>0.25                                  </td><td>0.446                                 </td><td>0.358                                 </td><td>70.492                                </td></tr>\n",
       "</tbody>\n",
       "</table>\n"
      ],
      "text/latex": [
       "\\begin{tabular}{r|lllll}\n",
       " cov & p value (Doubly Robust All Covariates) & p value (Doubly Robust Unbalanced Covariates) & p value (Multivariate) & Missing data (\\%)\\\\\n",
       "\\hline\n",
       "\t Ventilation free days in 28 days       & 0.146                                  & 0.48                                   & 0.097                                  &  0.000                                \\\\\n",
       "\t Vasopressor free days in 28 days       & <0.001                                 & 0.005                                  & <0.001                                 &  0.000                                \\\\\n",
       "\t Dobutamine Use                         & 0.001                                  & <0.001                                 & 0.001                                  &  0.000                                \\\\\n",
       "\t IV Fluid Day 1 (mL)                    & 0.271                                  & 0.106                                  & 0.307                                  & 10.674                                \\\\\n",
       "\t IV Fluid Day 2 (mL)                    & 0.016                                  & <0.001                                 & 0.007                                  & 18.881                                \\\\\n",
       "\t IV Fluid Day 3 (mL)                    & <0.001                                 & <0.001                                 & <0.001                                 & 34.444                                \\\\\n",
       "\t SOFA Reduction Day 2                   & 0.003                                  & <0.001                                 & <0.001                                 &  0.000                                \\\\\n",
       "\t SOFA Reduction Day 3                   & <0.001                                 & <0.001                                 & <0.001                                 &  0.000                                \\\\\n",
       "\t Norepinephrine (maximum dosage mg/min) & <0.001                                 & <0.001                                 & 0.003                                  &  0.000                                \\\\\n",
       "\t Serum Lactate Reduction                & <0.001                                 & 0.043                                  & 0.007                                  & 87.392                                \\\\\n",
       "\t Serum Creatinine Reduction             & 0.25                                   & 0.446                                  & 0.358                                  & 70.492                                \\\\\n",
       "\\end{tabular}\n"
      ],
      "text/markdown": [
       "\n",
       "cov | p value (Doubly Robust All Covariates) | p value (Doubly Robust Unbalanced Covariates) | p value (Multivariate) | Missing data (%) | \n",
       "|---|---|---|---|---|---|---|---|---|---|---|\n",
       "| Ventilation free days in 28 days       | 0.146                                  | 0.48                                   | 0.097                                  |  0.000                                 | \n",
       "| Vasopressor free days in 28 days       | <0.001                                 | 0.005                                  | <0.001                                 |  0.000                                 | \n",
       "| Dobutamine Use                         | 0.001                                  | <0.001                                 | 0.001                                  |  0.000                                 | \n",
       "| IV Fluid Day 1 (mL)                    | 0.271                                  | 0.106                                  | 0.307                                  | 10.674                                 | \n",
       "| IV Fluid Day 2 (mL)                    | 0.016                                  | <0.001                                 | 0.007                                  | 18.881                                 | \n",
       "| IV Fluid Day 3 (mL)                    | <0.001                                 | <0.001                                 | <0.001                                 | 34.444                                 | \n",
       "| SOFA Reduction Day 2                   | 0.003                                  | <0.001                                 | <0.001                                 |  0.000                                 | \n",
       "| SOFA Reduction Day 3                   | <0.001                                 | <0.001                                 | <0.001                                 |  0.000                                 | \n",
       "| Norepinephrine (maximum dosage mg/min) | <0.001                                 | <0.001                                 | 0.003                                  |  0.000                                 | \n",
       "| Serum Lactate Reduction                | <0.001                                 | 0.043                                  | 0.007                                  | 87.392                                 | \n",
       "| Serum Creatinine Reduction             | 0.25                                   | 0.446                                  | 0.358                                  | 70.492                                 | \n",
       "\n",
       "\n"
      ],
      "text/plain": [
       "   cov                                   \n",
       "1  Ventilation free days in 28 days      \n",
       "2  Vasopressor free days in 28 days      \n",
       "3  Dobutamine Use                        \n",
       "4  IV Fluid Day 1 (mL)                   \n",
       "5  IV Fluid Day 2 (mL)                   \n",
       "6  IV Fluid Day 3 (mL)                   \n",
       "7  SOFA Reduction Day 2                  \n",
       "8  SOFA Reduction Day 3                  \n",
       "9  Norepinephrine (maximum dosage mg/min)\n",
       "10 Serum Lactate Reduction               \n",
       "11 Serum Creatinine Reduction            \n",
       "   p value (Doubly Robust All Covariates)\n",
       "1  0.146                                 \n",
       "2  <0.001                                \n",
       "3  0.001                                 \n",
       "4  0.271                                 \n",
       "5  0.016                                 \n",
       "6  <0.001                                \n",
       "7  0.003                                 \n",
       "8  <0.001                                \n",
       "9  <0.001                                \n",
       "10 <0.001                                \n",
       "11 0.25                                  \n",
       "   p value (Doubly Robust Unbalanced Covariates) p value (Multivariate)\n",
       "1  0.48                                          0.097                 \n",
       "2  0.005                                         <0.001                \n",
       "3  <0.001                                        0.001                 \n",
       "4  0.106                                         0.307                 \n",
       "5  <0.001                                        0.007                 \n",
       "6  <0.001                                        <0.001                \n",
       "7  <0.001                                        <0.001                \n",
       "8  <0.001                                        <0.001                \n",
       "9  <0.001                                        0.003                 \n",
       "10 0.043                                         0.007                 \n",
       "11 0.446                                         0.358                 \n",
       "   Missing data (%)\n",
       "1   0.000          \n",
       "2   0.000          \n",
       "3   0.000          \n",
       "4  10.674          \n",
       "5  18.881          \n",
       "6  34.444          \n",
       "7   0.000          \n",
       "8   0.000          \n",
       "9   0.000          \n",
       "10 87.392          \n",
       "11 70.492          "
      ]
     },
     "metadata": {},
     "output_type": "display_data"
    }
   ],
   "source": [
    "tb_fmt <- tb_raw %>%\n",
    "mutate_at(vars(dbwa, dbwu, multi), funs(case_when(\n",
    "    . < 0.001 ~ \"<0.001\",\n",
    "    TRUE ~ as.character(round(., 3))\n",
    "))) %>%\n",
    "rename(cov = outcome) %>%\n",
    "mutate(cov = case_when(\n",
    "    cov == \"ventfreeday28\" ~ \"Ventilation free days in 28 days\",\n",
    "    cov == \"vasofreeday28\" ~ \"Vasopressor free days in 28 days\",\n",
    "    cov == \"dobutamine_flag\" ~ \"Dobutamine Use\",\n",
    "    cov == \"day1\" ~ \"IV Fluid Day 1 (mL)\",\n",
    "    cov == \"day2\" ~ \"IV Fluid Day 2 (mL)\",\n",
    "    cov == \"day3\" ~ \"IV Fluid Day 3 (mL)\",\n",
    "    cov == \"sofa_drop_2\" ~ \"SOFA Reduction Day 2\",\n",
    "    cov == \"sofa_drop_3\" ~ \"SOFA Reduction Day 3\",\n",
    "    cov == \"norepinephrine_max\" ~ \"Norepinephrine (maximum dosage mg/min)\",\n",
    "    cov == \"lactate_diff\" ~ \"Serum Lactate Reduction\",\n",
    "    cov == \"creatinine_diff\" ~ \"Serum Creatinine Reduction\",\n",
    "    TRUE ~ cov\n",
    ")) %>%\n",
    "mutate(na = round(na * 100, 3)) %>%\n",
    "setNames(c(\"cov\", \"p value (Doubly Robust All Covariates)\",\n",
    "           \"p value (Doubly Robust Unbalanced Covariates)\",\n",
    "           \"p value (Multivariate)\", \"Missing data (%)\"))\n",
    "\n",
    "tb_fmt"
   ]
  },
  {
   "cell_type": "code",
   "execution_count": 21,
   "metadata": {},
   "outputs": [
    {
     "data": {
      "text/html": [
       "<table>\n",
       "<thead><tr><th scope=col>cov</th><th scope=col>Non-Echo</th><th scope=col>Echo</th><th scope=col>p value</th><th scope=col>SMD</th><th scope=col>Non-Echo (weighted cohort)</th><th scope=col>Echo (weighted cohort)</th><th scope=col>p value (IPW)</th><th scope=col>SMD (weighted cohort)</th><th scope=col>Non-Echo (PS matching)</th><th scope=col>Echo (PS matching)</th><th scope=col>SMD (PS matching)</th><th scope=col>p value (PS matching)</th><th scope=col>Missing data</th></tr></thead>\n",
       "<tbody>\n",
       "\t<tr><td>n                                     </td><td>3099                                  </td><td>3262                                  </td><td>                                      </td><td>   NA                                 </td><td>5739.48                               </td><td>5842.36                               </td><td>                                      </td><td>   NA                                 </td><td>1626                                  </td><td>1626                                  </td><td>   NA                                 </td><td>                                      </td><td>                                      </td></tr>\n",
       "\t<tr><td>Ventilation free days in 28 days      </td><td>19.09 (13.53)                         </td><td>18.02 (25.13)                         </td><td>0.033                                 </td><td>0.053                                 </td><td>14.50 (16.25)                         </td><td>19.67 (52.07)                         </td><td>0.903                                 </td><td>0.003                                 </td><td>18.10 (14.70)                         </td><td>19.60 (32.64)                         </td><td>0.059                                 </td><td>0.089                                 </td><td>0%                                    </td></tr>\n",
       "\t<tr><td>Vasopressor free days in 28 days      </td><td>20.25 (12.61)                         </td><td>20.13 (14.91)                         </td><td>0.741                                 </td><td>0.008                                 </td><td>18.24 (13.80)                         </td><td>19.00 (16.66)                         </td><td>0.047                                 </td><td>0.054                                 </td><td>19.31 (12.73)                         </td><td>20.81 (16.95)                         </td><td>0.100                                 </td><td>0.004                                 </td><td>0%                                    </td></tr>\n",
       "\t<tr><td><span style=white-space:pre-wrap>Dobutamine Use                        </span></td><td><span style=white-space:pre-wrap>0.7%             </span>                     </td><td><span style=white-space:pre-wrap>4.2%             </span>                     </td><td>&lt;0.001                                                                     </td><td>0.224                                                                         </td><td><span style=white-space:pre-wrap>1.1%             </span>                     </td><td><span style=white-space:pre-wrap>3.4%             </span>                     </td><td>&lt;0.001                                                                     </td><td>0.155                                                                         </td><td><span style=white-space:pre-wrap>1.2%             </span>                     </td><td><span style=white-space:pre-wrap>2.1%             </span>                     </td><td>0.067                                                                         </td><td>0.077                                                                         </td><td><span style=white-space:pre-wrap>0%   </span>                                 </td></tr>\n",
       "\t<tr><td><span style=white-space:pre-wrap>IV Fluid Day 1 (mL)                   </span></td><td>1939.14 (3181.88)                                                             </td><td>2456.26 (3853.10)                                                             </td><td>&lt;0.001                                                                     </td><td>0.146                                                                         </td><td>3370.89 (3737.35)                                                             </td><td>3199.19 (4899.17)                                                             </td><td>0.001                                                                         </td><td>0.096                                                                         </td><td>2112.35 (3372.21)                                                             </td><td>2432.39 (3768.86)                                                             </td><td>0.089                                                                         </td><td>0.047                                                                         </td><td>10.7%                                                                         </td></tr>\n",
       "\t<tr><td><span style=white-space:pre-wrap>IV Fluid Day 2 (mL)                   </span></td><td>835.26 (2429.91)                                                              </td><td>1258.22 (2933.92)                                                             </td><td>&lt;0.001                                                                     </td><td>0.157                                                                         </td><td>2285.64 (2698.15)                                                             </td><td>1514.82 (4086.83)                                                             </td><td>&lt;0.001                                                                     </td><td>0.132                                                                         </td><td>900.41 (2557.54)                                                              </td><td>1275.30 (2872.91)                                                             </td><td>0.138                                                                         </td><td>0.002                                                                         </td><td>18.9%                                                                         </td></tr>\n",
       "\t<tr><td><span style=white-space:pre-wrap>IV Fluid Day 3 (mL)                   </span></td><td>256.15 (2108.02)                                                              </td><td>686.56 (2614.26)                                                              </td><td>&lt;0.001                                                                     </td><td>0.181                                                                         </td><td>1113.52 (2598.95)                                                             </td><td>609.35 (2817.57)                                                              </td><td>&lt;0.001                                                                     </td><td>0.179                                                                         </td><td>253.25 (2147.55)                                                              </td><td>771.78 (2683.65)                                                              </td><td>0.213                                                                         </td><td>&lt;0.001                                                                     </td><td>34.4%                                                                         </td></tr>\n",
       "\t<tr><td><span style=white-space:pre-wrap>SOFA Reduction Day 2                  </span></td><td><span style=white-space:pre-wrap>1.22 (4.34)      </span>                     </td><td><span style=white-space:pre-wrap>0.89 (3.39)      </span>                     </td><td>0.001                                                                         </td><td>0.086                                                                         </td><td><span style=white-space:pre-wrap>0.92 (2.84)      </span>                     </td><td><span style=white-space:pre-wrap>0.98 (2.66)      </span>                     </td><td>&lt;0.001                                                                     </td><td>0.128                                                                         </td><td><span style=white-space:pre-wrap>1.31 (4.55)      </span>                     </td><td><span style=white-space:pre-wrap>0.68 (3.26)      </span>                     </td><td>0.159                                                                         </td><td>&lt;0.001                                                                     </td><td><span style=white-space:pre-wrap>0%   </span>                                 </td></tr>\n",
       "\t<tr><td><span style=white-space:pre-wrap>SOFA Reduction Day 3                  </span></td><td><span style=white-space:pre-wrap>2.29 (4.49)      </span>                     </td><td><span style=white-space:pre-wrap>1.49 (4.07)      </span>                     </td><td>&lt;0.001                                                                     </td><td>0.186                                                                         </td><td><span style=white-space:pre-wrap>1.18 (3.05)      </span>                     </td><td><span style=white-space:pre-wrap>1.15 (3.11)      </span>                     </td><td>&lt;0.001                                                                     </td><td>0.247                                                                         </td><td><span style=white-space:pre-wrap>2.46 (4.76)      </span>                     </td><td><span style=white-space:pre-wrap>1.15 (3.99)      </span>                     </td><td>0.299                                                                         </td><td>&lt;0.001                                                                     </td><td><span style=white-space:pre-wrap>0%   </span>                                 </td></tr>\n",
       "\t<tr><td>Norepinephrine (maximum dosage mg/min)                   </td><td><span style=white-space:pre-wrap>0.81 (2.39)      </span></td><td><span style=white-space:pre-wrap>1.78 (5.69)      </span></td><td>&lt;0.001                                                </td><td>0.221                                                    </td><td><span style=white-space:pre-wrap>1.81 (3.29)      </span></td><td><span style=white-space:pre-wrap>2.43 (4.20)      </span></td><td>&lt;0.001                                                </td><td>0.154                                                    </td><td><span style=white-space:pre-wrap>1.04 (2.68)      </span></td><td><span style=white-space:pre-wrap>1.38 (3.13)      </span></td><td>0.117                                                    </td><td>&lt;0.001                                                </td><td><span style=white-space:pre-wrap>0%   </span>            </td></tr>\n",
       "\t<tr><td>Serum Lactate Reduction               </td><td>0.54 (2.44)                           </td><td>1.11 (2.40)                           </td><td>0.006                                 </td><td>0.234                                 </td><td>0.63 (1.93)                           </td><td>1.05 (2.24)                           </td><td>0.009                                 </td><td>0.213                                 </td><td>0.50 (2.50)                           </td><td>0.92 (1.54)                           </td><td>0.202                                 </td><td>0.129                                 </td><td>87.4%                                 </td></tr>\n",
       "\t<tr><td>Serum Creatinine Reduction            </td><td>0.11 (0.80)                           </td><td>0.11 (1.06)                           </td><td>0.958                                 </td><td>0.003                                 </td><td>-0.05 (0.93)                          </td><td>0.09 (1.02)                           </td><td>0.304                                 </td><td>0.059                                 </td><td>0.09 (0.90)                           </td><td>0.21 (0.92)                           </td><td>0.127                                 </td><td>0.409                                 </td><td>70.5%                                 </td></tr>\n",
       "</tbody>\n",
       "</table>\n"
      ],
      "text/latex": [
       "\\begin{tabular}{r|llllllllllllll}\n",
       " cov & Non-Echo & Echo & p value & SMD & Non-Echo (weighted cohort) & Echo (weighted cohort) & p value (IPW) & SMD (weighted cohort) & Non-Echo (PS matching) & Echo (PS matching) & SMD (PS matching) & p value (PS matching) & Missing data\\\\\n",
       "\\hline\n",
       "\t n                                      & 3099                                   & 3262                                   &                                        &    NA                                  & 5739.48                                & 5842.36                                &                                        &    NA                                  & 1626                                   & 1626                                   &    NA                                  &                                        &                                       \\\\\n",
       "\t Ventilation free days in 28 days       & 19.09 (13.53)                          & 18.02 (25.13)                          & 0.033                                  & 0.053                                  & 14.50 (16.25)                          & 19.67 (52.07)                          & 0.903                                  & 0.003                                  & 18.10 (14.70)                          & 19.60 (32.64)                          & 0.059                                  & 0.089                                  & 0\\%                                  \\\\\n",
       "\t Vasopressor free days in 28 days       & 20.25 (12.61)                          & 20.13 (14.91)                          & 0.741                                  & 0.008                                  & 18.24 (13.80)                          & 19.00 (16.66)                          & 0.047                                  & 0.054                                  & 19.31 (12.73)                          & 20.81 (16.95)                          & 0.100                                  & 0.004                                  & 0\\%                                  \\\\\n",
       "\t Dobutamine Use                         & 0.7\\%                                 & 4.2\\%                                 & <0.001                                 & 0.224                                  & 1.1\\%                                 & 3.4\\%                                 & <0.001                                 & 0.155                                  & 1.2\\%                                 & 2.1\\%                                 & 0.067                                  & 0.077                                  & 0\\%                                  \\\\\n",
       "\t IV Fluid Day 1 (mL)                    & 1939.14 (3181.88)                      & 2456.26 (3853.10)                      & <0.001                                 & 0.146                                  & 3370.89 (3737.35)                      & 3199.19 (4899.17)                      & 0.001                                  & 0.096                                  & 2112.35 (3372.21)                      & 2432.39 (3768.86)                      & 0.089                                  & 0.047                                  & 10.7\\%                               \\\\\n",
       "\t IV Fluid Day 2 (mL)                    & 835.26 (2429.91)                       & 1258.22 (2933.92)                      & <0.001                                 & 0.157                                  & 2285.64 (2698.15)                      & 1514.82 (4086.83)                      & <0.001                                 & 0.132                                  & 900.41 (2557.54)                       & 1275.30 (2872.91)                      & 0.138                                  & 0.002                                  & 18.9\\%                               \\\\\n",
       "\t IV Fluid Day 3 (mL)                    & 256.15 (2108.02)                       & 686.56 (2614.26)                       & <0.001                                 & 0.181                                  & 1113.52 (2598.95)                      & 609.35 (2817.57)                       & <0.001                                 & 0.179                                  & 253.25 (2147.55)                       & 771.78 (2683.65)                       & 0.213                                  & <0.001                                 & 34.4\\%                               \\\\\n",
       "\t SOFA Reduction Day 2                   & 1.22 (4.34)                            & 0.89 (3.39)                            & 0.001                                  & 0.086                                  & 0.92 (2.84)                            & 0.98 (2.66)                            & <0.001                                 & 0.128                                  & 1.31 (4.55)                            & 0.68 (3.26)                            & 0.159                                  & <0.001                                 & 0\\%                                  \\\\\n",
       "\t SOFA Reduction Day 3                   & 2.29 (4.49)                            & 1.49 (4.07)                            & <0.001                                 & 0.186                                  & 1.18 (3.05)                            & 1.15 (3.11)                            & <0.001                                 & 0.247                                  & 2.46 (4.76)                            & 1.15 (3.99)                            & 0.299                                  & <0.001                                 & 0\\%                                  \\\\\n",
       "\t Norepinephrine (maximum dosage mg/min) & 0.81 (2.39)                            & 1.78 (5.69)                            & <0.001                                 & 0.221                                  & 1.81 (3.29)                            & 2.43 (4.20)                            & <0.001                                 & 0.154                                  & 1.04 (2.68)                            & 1.38 (3.13)                            & 0.117                                  & <0.001                                 & 0\\%                                  \\\\\n",
       "\t Serum Lactate Reduction                & 0.54 (2.44)                            & 1.11 (2.40)                            & 0.006                                  & 0.234                                  & 0.63 (1.93)                            & 1.05 (2.24)                            & 0.009                                  & 0.213                                  & 0.50 (2.50)                            & 0.92 (1.54)                            & 0.202                                  & 0.129                                  & 87.4\\%                               \\\\\n",
       "\t Serum Creatinine Reduction             & 0.11 (0.80)                            & 0.11 (1.06)                            & 0.958                                  & 0.003                                  & -0.05 (0.93)                           & 0.09 (1.02)                            & 0.304                                  & 0.059                                  & 0.09 (0.90)                            & 0.21 (0.92)                            & 0.127                                  & 0.409                                  & 70.5\\%                               \\\\\n",
       "\\end{tabular}\n"
      ],
      "text/markdown": [
       "\n",
       "cov | Non-Echo | Echo | p value | SMD | Non-Echo (weighted cohort) | Echo (weighted cohort) | p value (IPW) | SMD (weighted cohort) | Non-Echo (PS matching) | Echo (PS matching) | SMD (PS matching) | p value (PS matching) | Missing data | \n",
       "|---|---|---|---|---|---|---|---|---|---|---|---|\n",
       "| n                                      | 3099                                   | 3262                                   |                                        |    NA                                  | 5739.48                                | 5842.36                                |                                        |    NA                                  | 1626                                   | 1626                                   |    NA                                  |                                        |                                        | \n",
       "| Ventilation free days in 28 days       | 19.09 (13.53)                          | 18.02 (25.13)                          | 0.033                                  | 0.053                                  | 14.50 (16.25)                          | 19.67 (52.07)                          | 0.903                                  | 0.003                                  | 18.10 (14.70)                          | 19.60 (32.64)                          | 0.059                                  | 0.089                                  | 0%                                     | \n",
       "| Vasopressor free days in 28 days       | 20.25 (12.61)                          | 20.13 (14.91)                          | 0.741                                  | 0.008                                  | 18.24 (13.80)                          | 19.00 (16.66)                          | 0.047                                  | 0.054                                  | 19.31 (12.73)                          | 20.81 (16.95)                          | 0.100                                  | 0.004                                  | 0%                                     | \n",
       "| Dobutamine Use                         | 0.7%                                   | 4.2%                                   | <0.001                                 | 0.224                                  | 1.1%                                   | 3.4%                                   | <0.001                                 | 0.155                                  | 1.2%                                   | 2.1%                                   | 0.067                                  | 0.077                                  | 0%                                     | \n",
       "| IV Fluid Day 1 (mL)                    | 1939.14 (3181.88)                      | 2456.26 (3853.10)                      | <0.001                                 | 0.146                                  | 3370.89 (3737.35)                      | 3199.19 (4899.17)                      | 0.001                                  | 0.096                                  | 2112.35 (3372.21)                      | 2432.39 (3768.86)                      | 0.089                                  | 0.047                                  | 10.7%                                  | \n",
       "| IV Fluid Day 2 (mL)                    | 835.26 (2429.91)                       | 1258.22 (2933.92)                      | <0.001                                 | 0.157                                  | 2285.64 (2698.15)                      | 1514.82 (4086.83)                      | <0.001                                 | 0.132                                  | 900.41 (2557.54)                       | 1275.30 (2872.91)                      | 0.138                                  | 0.002                                  | 18.9%                                  | \n",
       "| IV Fluid Day 3 (mL)                    | 256.15 (2108.02)                       | 686.56 (2614.26)                       | <0.001                                 | 0.181                                  | 1113.52 (2598.95)                      | 609.35 (2817.57)                       | <0.001                                 | 0.179                                  | 253.25 (2147.55)                       | 771.78 (2683.65)                       | 0.213                                  | <0.001                                 | 34.4%                                  | \n",
       "| SOFA Reduction Day 2                   | 1.22 (4.34)                            | 0.89 (3.39)                            | 0.001                                  | 0.086                                  | 0.92 (2.84)                            | 0.98 (2.66)                            | <0.001                                 | 0.128                                  | 1.31 (4.55)                            | 0.68 (3.26)                            | 0.159                                  | <0.001                                 | 0%                                     | \n",
       "| SOFA Reduction Day 3                   | 2.29 (4.49)                            | 1.49 (4.07)                            | <0.001                                 | 0.186                                  | 1.18 (3.05)                            | 1.15 (3.11)                            | <0.001                                 | 0.247                                  | 2.46 (4.76)                            | 1.15 (3.99)                            | 0.299                                  | <0.001                                 | 0%                                     | \n",
       "| Norepinephrine (maximum dosage mg/min) | 0.81 (2.39)                            | 1.78 (5.69)                            | <0.001                                 | 0.221                                  | 1.81 (3.29)                            | 2.43 (4.20)                            | <0.001                                 | 0.154                                  | 1.04 (2.68)                            | 1.38 (3.13)                            | 0.117                                  | <0.001                                 | 0%                                     | \n",
       "| Serum Lactate Reduction                | 0.54 (2.44)                            | 1.11 (2.40)                            | 0.006                                  | 0.234                                  | 0.63 (1.93)                            | 1.05 (2.24)                            | 0.009                                  | 0.213                                  | 0.50 (2.50)                            | 0.92 (1.54)                            | 0.202                                  | 0.129                                  | 87.4%                                  | \n",
       "| Serum Creatinine Reduction             | 0.11 (0.80)                            | 0.11 (1.06)                            | 0.958                                  | 0.003                                  | -0.05 (0.93)                           | 0.09 (1.02)                            | 0.304                                  | 0.059                                  | 0.09 (0.90)                            | 0.21 (0.92)                            | 0.127                                  | 0.409                                  | 70.5%                                  | \n",
       "\n",
       "\n"
      ],
      "text/plain": [
       "   cov                                    Non-Echo          Echo             \n",
       "1  n                                      3099              3262             \n",
       "2  Ventilation free days in 28 days       19.09 (13.53)     18.02 (25.13)    \n",
       "3  Vasopressor free days in 28 days       20.25 (12.61)     20.13 (14.91)    \n",
       "4  Dobutamine Use                         0.7%              4.2%             \n",
       "5  IV Fluid Day 1 (mL)                    1939.14 (3181.88) 2456.26 (3853.10)\n",
       "6  IV Fluid Day 2 (mL)                    835.26 (2429.91)  1258.22 (2933.92)\n",
       "7  IV Fluid Day 3 (mL)                    256.15 (2108.02)  686.56 (2614.26) \n",
       "8  SOFA Reduction Day 2                   1.22 (4.34)       0.89 (3.39)      \n",
       "9  SOFA Reduction Day 3                   2.29 (4.49)       1.49 (4.07)      \n",
       "10 Norepinephrine (maximum dosage mg/min) 0.81 (2.39)       1.78 (5.69)      \n",
       "11 Serum Lactate Reduction                0.54 (2.44)       1.11 (2.40)      \n",
       "12 Serum Creatinine Reduction             0.11 (0.80)       0.11 (1.06)      \n",
       "   p value SMD   Non-Echo (weighted cohort) Echo (weighted cohort)\n",
       "1             NA 5739.48                    5842.36               \n",
       "2  0.033   0.053 14.50 (16.25)              19.67 (52.07)         \n",
       "3  0.741   0.008 18.24 (13.80)              19.00 (16.66)         \n",
       "4  <0.001  0.224 1.1%                       3.4%                  \n",
       "5  <0.001  0.146 3370.89 (3737.35)          3199.19 (4899.17)     \n",
       "6  <0.001  0.157 2285.64 (2698.15)          1514.82 (4086.83)     \n",
       "7  <0.001  0.181 1113.52 (2598.95)          609.35 (2817.57)      \n",
       "8  0.001   0.086 0.92 (2.84)                0.98 (2.66)           \n",
       "9  <0.001  0.186 1.18 (3.05)                1.15 (3.11)           \n",
       "10 <0.001  0.221 1.81 (3.29)                2.43 (4.20)           \n",
       "11 0.006   0.234 0.63 (1.93)                1.05 (2.24)           \n",
       "12 0.958   0.003 -0.05 (0.93)               0.09 (1.02)           \n",
       "   p value (IPW) SMD (weighted cohort) Non-Echo (PS matching)\n",
       "1                   NA                 1626                  \n",
       "2  0.903         0.003                 18.10 (14.70)         \n",
       "3  0.047         0.054                 19.31 (12.73)         \n",
       "4  <0.001        0.155                 1.2%                  \n",
       "5  0.001         0.096                 2112.35 (3372.21)     \n",
       "6  <0.001        0.132                 900.41 (2557.54)      \n",
       "7  <0.001        0.179                 253.25 (2147.55)      \n",
       "8  <0.001        0.128                 1.31 (4.55)           \n",
       "9  <0.001        0.247                 2.46 (4.76)           \n",
       "10 <0.001        0.154                 1.04 (2.68)           \n",
       "11 0.009         0.213                 0.50 (2.50)           \n",
       "12 0.304         0.059                 0.09 (0.90)           \n",
       "   Echo (PS matching) SMD (PS matching) p value (PS matching) Missing data\n",
       "1  1626                  NA                                               \n",
       "2  19.60 (32.64)      0.059             0.089                 0%          \n",
       "3  20.81 (16.95)      0.100             0.004                 0%          \n",
       "4  2.1%               0.067             0.077                 0%          \n",
       "5  2432.39 (3768.86)  0.089             0.047                 10.7%       \n",
       "6  1275.30 (2872.91)  0.138             0.002                 18.9%       \n",
       "7  771.78 (2683.65)   0.213             <0.001                34.4%       \n",
       "8  0.68 (3.26)        0.159             <0.001                0%          \n",
       "9  1.15 (3.99)        0.299             <0.001                0%          \n",
       "10 1.38 (3.13)        0.117             <0.001                0%          \n",
       "11 0.92 (1.54)        0.202             0.129                 87.4%       \n",
       "12 0.21 (0.92)        0.127             0.409                 70.5%       "
      ]
     },
     "metadata": {},
     "output_type": "display_data"
    }
   ],
   "source": [
    "subgroup_tb1 <- data.table::fread(file.path(data_dir, \"subgroup.csv\"), data.table = FALSE)\n",
    "subgroup_tb1"
   ]
  },
  {
   "cell_type": "code",
   "execution_count": 22,
   "metadata": {},
   "outputs": [],
   "source": [
    "subgroup_tb <- subgroup_tb1 %>%\n",
    "full_join(tb_fmt, by = \"cov\") %>%\n",
    "select(1, 2, 3, 5, 17, 6, 7, 9, 8, 15, 16, 10, 11, 12, 13, 14)"
   ]
  },
  {
   "cell_type": "code",
   "execution_count": 23,
   "metadata": {},
   "outputs": [
    {
     "data": {
      "text/html": [
       "<table>\n",
       "<thead><tr><th scope=col>cov</th><th scope=col>Non-Echo</th><th scope=col>Echo</th><th scope=col>SMD</th><th scope=col>p value (Multivariate)</th><th scope=col>Non-Echo (weighted cohort)</th><th scope=col>Echo (weighted cohort)</th><th scope=col>SMD (weighted cohort)</th><th scope=col>p value (IPW)</th><th scope=col>p value (Doubly Robust All Covariates)</th><th scope=col>p value (Doubly Robust Unbalanced Covariates)</th><th scope=col>Non-Echo (PS matching)</th><th scope=col>Echo (PS matching)</th><th scope=col>SMD (PS matching)</th><th scope=col>p value (PS matching)</th><th scope=col>Missing data</th></tr></thead>\n",
       "<tbody>\n",
       "\t<tr><td>n                                     </td><td>3099                                  </td><td>3262                                  </td><td>   NA                                 </td><td>NA                                    </td><td>5739.48                               </td><td>5842.36                               </td><td>   NA                                 </td><td>                                      </td><td>NA                                    </td><td>NA                                    </td><td>1626                                  </td><td>1626                                  </td><td>   NA                                 </td><td>                                      </td><td>                                      </td></tr>\n",
       "\t<tr><td>Ventilation free days in 28 days      </td><td>19.09 (13.53)                         </td><td>18.02 (25.13)                         </td><td>0.053                                 </td><td>0.097                                 </td><td>14.50 (16.25)                         </td><td>19.67 (52.07)                         </td><td>0.003                                 </td><td>0.903                                 </td><td>0.146                                 </td><td>0.48                                  </td><td>18.10 (14.70)                         </td><td>19.60 (32.64)                         </td><td>0.059                                 </td><td>0.089                                 </td><td>0%                                    </td></tr>\n",
       "\t<tr><td><span style=white-space:pre-wrap>Vasopressor free days in 28 days      </span></td><td><span style=white-space:pre-wrap>20.25 (12.61)    </span>                     </td><td><span style=white-space:pre-wrap>20.13 (14.91)    </span>                     </td><td>0.008                                                                         </td><td>&lt;0.001                                                                     </td><td><span style=white-space:pre-wrap>18.24 (13.80)    </span>                     </td><td><span style=white-space:pre-wrap>19.00 (16.66)    </span>                     </td><td>0.054                                                                         </td><td>0.047                                                                         </td><td>&lt;0.001                                                                     </td><td>0.005                                                                         </td><td><span style=white-space:pre-wrap>19.31 (12.73)    </span>                     </td><td><span style=white-space:pre-wrap>20.81 (16.95)    </span>                     </td><td>0.100                                                                         </td><td>0.004                                                                         </td><td><span style=white-space:pre-wrap>0%   </span>                                 </td></tr>\n",
       "\t<tr><td><span style=white-space:pre-wrap>Dobutamine Use                        </span></td><td><span style=white-space:pre-wrap>0.7%             </span>                     </td><td><span style=white-space:pre-wrap>4.2%             </span>                     </td><td>0.224                                                                         </td><td>0.001                                                                         </td><td><span style=white-space:pre-wrap>1.1%             </span>                     </td><td><span style=white-space:pre-wrap>3.4%             </span>                     </td><td>0.155                                                                         </td><td>&lt;0.001                                                                     </td><td>0.001                                                                         </td><td>&lt;0.001                                                                     </td><td><span style=white-space:pre-wrap>1.2%             </span>                     </td><td><span style=white-space:pre-wrap>2.1%             </span>                     </td><td>0.067                                                                         </td><td>0.077                                                                         </td><td><span style=white-space:pre-wrap>0%   </span>                                 </td></tr>\n",
       "\t<tr><td>IV Fluid Day 1 (mL)                   </td><td>1939.14 (3181.88)                     </td><td>2456.26 (3853.10)                     </td><td>0.146                                 </td><td>0.307                                 </td><td>3370.89 (3737.35)                     </td><td>3199.19 (4899.17)                     </td><td>0.096                                 </td><td>0.001                                 </td><td>0.271                                 </td><td>0.106                                 </td><td>2112.35 (3372.21)                     </td><td>2432.39 (3768.86)                     </td><td>0.089                                 </td><td>0.047                                 </td><td>10.7%                                 </td></tr>\n",
       "\t<tr><td><span style=white-space:pre-wrap>IV Fluid Day 2 (mL)                   </span></td><td>835.26 (2429.91)                                                              </td><td>1258.22 (2933.92)                                                             </td><td>0.157                                                                         </td><td>0.007                                                                         </td><td>2285.64 (2698.15)                                                             </td><td>1514.82 (4086.83)                                                             </td><td>0.132                                                                         </td><td>&lt;0.001                                                                     </td><td>0.016                                                                         </td><td>&lt;0.001                                                                     </td><td>900.41 (2557.54)                                                              </td><td>1275.30 (2872.91)                                                             </td><td>0.138                                                                         </td><td>0.002                                                                         </td><td>18.9%                                                                         </td></tr>\n",
       "\t<tr><td><span style=white-space:pre-wrap>IV Fluid Day 3 (mL)                   </span></td><td>256.15 (2108.02)                                                              </td><td>686.56 (2614.26)                                                              </td><td>0.181                                                                         </td><td>&lt;0.001                                                                     </td><td>1113.52 (2598.95)                                                             </td><td>609.35 (2817.57)                                                              </td><td>0.179                                                                         </td><td>&lt;0.001                                                                     </td><td>&lt;0.001                                                                     </td><td>&lt;0.001                                                                     </td><td>253.25 (2147.55)                                                              </td><td>771.78 (2683.65)                                                              </td><td>0.213                                                                         </td><td>&lt;0.001                                                                     </td><td>34.4%                                                                         </td></tr>\n",
       "\t<tr><td><span style=white-space:pre-wrap>SOFA Reduction Day 2                  </span></td><td><span style=white-space:pre-wrap>1.22 (4.34)      </span>                     </td><td><span style=white-space:pre-wrap>0.89 (3.39)      </span>                     </td><td>0.086                                                                         </td><td>&lt;0.001                                                                     </td><td><span style=white-space:pre-wrap>0.92 (2.84)      </span>                     </td><td><span style=white-space:pre-wrap>0.98 (2.66)      </span>                     </td><td>0.128                                                                         </td><td>&lt;0.001                                                                     </td><td>0.003                                                                         </td><td>&lt;0.001                                                                     </td><td><span style=white-space:pre-wrap>1.31 (4.55)      </span>                     </td><td><span style=white-space:pre-wrap>0.68 (3.26)      </span>                     </td><td>0.159                                                                         </td><td>&lt;0.001                                                                     </td><td><span style=white-space:pre-wrap>0%   </span>                                 </td></tr>\n",
       "\t<tr><td><span style=white-space:pre-wrap>SOFA Reduction Day 3                  </span></td><td><span style=white-space:pre-wrap>2.29 (4.49)      </span>                     </td><td><span style=white-space:pre-wrap>1.49 (4.07)      </span>                     </td><td>0.186                                                                         </td><td>&lt;0.001                                                                     </td><td><span style=white-space:pre-wrap>1.18 (3.05)      </span>                     </td><td><span style=white-space:pre-wrap>1.15 (3.11)      </span>                     </td><td>0.247                                                                         </td><td>&lt;0.001                                                                     </td><td>&lt;0.001                                                                     </td><td>&lt;0.001                                                                     </td><td><span style=white-space:pre-wrap>2.46 (4.76)      </span>                     </td><td><span style=white-space:pre-wrap>1.15 (3.99)      </span>                     </td><td>0.299                                                                         </td><td>&lt;0.001                                                                     </td><td><span style=white-space:pre-wrap>0%   </span>                                 </td></tr>\n",
       "\t<tr><td>Norepinephrine (maximum dosage mg/min)                   </td><td><span style=white-space:pre-wrap>0.81 (2.39)      </span></td><td><span style=white-space:pre-wrap>1.78 (5.69)      </span></td><td>0.221                                                    </td><td>0.003                                                    </td><td><span style=white-space:pre-wrap>1.81 (3.29)      </span></td><td><span style=white-space:pre-wrap>2.43 (4.20)      </span></td><td>0.154                                                    </td><td>&lt;0.001                                                </td><td>&lt;0.001                                                </td><td>&lt;0.001                                                </td><td><span style=white-space:pre-wrap>1.04 (2.68)      </span></td><td><span style=white-space:pre-wrap>1.38 (3.13)      </span></td><td>0.117                                                    </td><td>&lt;0.001                                                </td><td><span style=white-space:pre-wrap>0%   </span>            </td></tr>\n",
       "\t<tr><td><span style=white-space:pre-wrap>Serum Lactate Reduction               </span></td><td><span style=white-space:pre-wrap>0.54 (2.44)      </span>                     </td><td><span style=white-space:pre-wrap>1.11 (2.40)      </span>                     </td><td>0.234                                                                         </td><td>0.007                                                                         </td><td><span style=white-space:pre-wrap>0.63 (1.93)      </span>                     </td><td><span style=white-space:pre-wrap>1.05 (2.24)      </span>                     </td><td>0.213                                                                         </td><td>0.009                                                                         </td><td>&lt;0.001                                                                     </td><td>0.043                                                                         </td><td><span style=white-space:pre-wrap>0.50 (2.50)      </span>                     </td><td><span style=white-space:pre-wrap>0.92 (1.54)      </span>                     </td><td>0.202                                                                         </td><td>0.129                                                                         </td><td>87.4%                                                                         </td></tr>\n",
       "\t<tr><td>Serum Creatinine Reduction            </td><td>0.11 (0.80)                           </td><td>0.11 (1.06)                           </td><td>0.003                                 </td><td>0.358                                 </td><td>-0.05 (0.93)                          </td><td>0.09 (1.02)                           </td><td>0.059                                 </td><td>0.304                                 </td><td>0.25                                  </td><td>0.446                                 </td><td>0.09 (0.90)                           </td><td>0.21 (0.92)                           </td><td>0.127                                 </td><td>0.409                                 </td><td>70.5%                                 </td></tr>\n",
       "</tbody>\n",
       "</table>\n"
      ],
      "text/latex": [
       "\\begin{tabular}{r|llllllllllllllll}\n",
       " cov & Non-Echo & Echo & SMD & p value (Multivariate) & Non-Echo (weighted cohort) & Echo (weighted cohort) & SMD (weighted cohort) & p value (IPW) & p value (Doubly Robust All Covariates) & p value (Doubly Robust Unbalanced Covariates) & Non-Echo (PS matching) & Echo (PS matching) & SMD (PS matching) & p value (PS matching) & Missing data\\\\\n",
       "\\hline\n",
       "\t n                                      & 3099                                   & 3262                                   &    NA                                  & NA                                     & 5739.48                                & 5842.36                                &    NA                                  &                                        & NA                                     & NA                                     & 1626                                   & 1626                                   &    NA                                  &                                        &                                       \\\\\n",
       "\t Ventilation free days in 28 days       & 19.09 (13.53)                          & 18.02 (25.13)                          & 0.053                                  & 0.097                                  & 14.50 (16.25)                          & 19.67 (52.07)                          & 0.003                                  & 0.903                                  & 0.146                                  & 0.48                                   & 18.10 (14.70)                          & 19.60 (32.64)                          & 0.059                                  & 0.089                                  & 0\\%                                  \\\\\n",
       "\t Vasopressor free days in 28 days       & 20.25 (12.61)                          & 20.13 (14.91)                          & 0.008                                  & <0.001                                 & 18.24 (13.80)                          & 19.00 (16.66)                          & 0.054                                  & 0.047                                  & <0.001                                 & 0.005                                  & 19.31 (12.73)                          & 20.81 (16.95)                          & 0.100                                  & 0.004                                  & 0\\%                                  \\\\\n",
       "\t Dobutamine Use                         & 0.7\\%                                 & 4.2\\%                                 & 0.224                                  & 0.001                                  & 1.1\\%                                 & 3.4\\%                                 & 0.155                                  & <0.001                                 & 0.001                                  & <0.001                                 & 1.2\\%                                 & 2.1\\%                                 & 0.067                                  & 0.077                                  & 0\\%                                  \\\\\n",
       "\t IV Fluid Day 1 (mL)                    & 1939.14 (3181.88)                      & 2456.26 (3853.10)                      & 0.146                                  & 0.307                                  & 3370.89 (3737.35)                      & 3199.19 (4899.17)                      & 0.096                                  & 0.001                                  & 0.271                                  & 0.106                                  & 2112.35 (3372.21)                      & 2432.39 (3768.86)                      & 0.089                                  & 0.047                                  & 10.7\\%                               \\\\\n",
       "\t IV Fluid Day 2 (mL)                    & 835.26 (2429.91)                       & 1258.22 (2933.92)                      & 0.157                                  & 0.007                                  & 2285.64 (2698.15)                      & 1514.82 (4086.83)                      & 0.132                                  & <0.001                                 & 0.016                                  & <0.001                                 & 900.41 (2557.54)                       & 1275.30 (2872.91)                      & 0.138                                  & 0.002                                  & 18.9\\%                               \\\\\n",
       "\t IV Fluid Day 3 (mL)                    & 256.15 (2108.02)                       & 686.56 (2614.26)                       & 0.181                                  & <0.001                                 & 1113.52 (2598.95)                      & 609.35 (2817.57)                       & 0.179                                  & <0.001                                 & <0.001                                 & <0.001                                 & 253.25 (2147.55)                       & 771.78 (2683.65)                       & 0.213                                  & <0.001                                 & 34.4\\%                               \\\\\n",
       "\t SOFA Reduction Day 2                   & 1.22 (4.34)                            & 0.89 (3.39)                            & 0.086                                  & <0.001                                 & 0.92 (2.84)                            & 0.98 (2.66)                            & 0.128                                  & <0.001                                 & 0.003                                  & <0.001                                 & 1.31 (4.55)                            & 0.68 (3.26)                            & 0.159                                  & <0.001                                 & 0\\%                                  \\\\\n",
       "\t SOFA Reduction Day 3                   & 2.29 (4.49)                            & 1.49 (4.07)                            & 0.186                                  & <0.001                                 & 1.18 (3.05)                            & 1.15 (3.11)                            & 0.247                                  & <0.001                                 & <0.001                                 & <0.001                                 & 2.46 (4.76)                            & 1.15 (3.99)                            & 0.299                                  & <0.001                                 & 0\\%                                  \\\\\n",
       "\t Norepinephrine (maximum dosage mg/min) & 0.81 (2.39)                            & 1.78 (5.69)                            & 0.221                                  & 0.003                                  & 1.81 (3.29)                            & 2.43 (4.20)                            & 0.154                                  & <0.001                                 & <0.001                                 & <0.001                                 & 1.04 (2.68)                            & 1.38 (3.13)                            & 0.117                                  & <0.001                                 & 0\\%                                  \\\\\n",
       "\t Serum Lactate Reduction                & 0.54 (2.44)                            & 1.11 (2.40)                            & 0.234                                  & 0.007                                  & 0.63 (1.93)                            & 1.05 (2.24)                            & 0.213                                  & 0.009                                  & <0.001                                 & 0.043                                  & 0.50 (2.50)                            & 0.92 (1.54)                            & 0.202                                  & 0.129                                  & 87.4\\%                               \\\\\n",
       "\t Serum Creatinine Reduction             & 0.11 (0.80)                            & 0.11 (1.06)                            & 0.003                                  & 0.358                                  & -0.05 (0.93)                           & 0.09 (1.02)                            & 0.059                                  & 0.304                                  & 0.25                                   & 0.446                                  & 0.09 (0.90)                            & 0.21 (0.92)                            & 0.127                                  & 0.409                                  & 70.5\\%                               \\\\\n",
       "\\end{tabular}\n"
      ],
      "text/markdown": [
       "\n",
       "cov | Non-Echo | Echo | SMD | p value (Multivariate) | Non-Echo (weighted cohort) | Echo (weighted cohort) | SMD (weighted cohort) | p value (IPW) | p value (Doubly Robust All Covariates) | p value (Doubly Robust Unbalanced Covariates) | Non-Echo (PS matching) | Echo (PS matching) | SMD (PS matching) | p value (PS matching) | Missing data | \n",
       "|---|---|---|---|---|---|---|---|---|---|---|---|\n",
       "| n                                      | 3099                                   | 3262                                   |    NA                                  | NA                                     | 5739.48                                | 5842.36                                |    NA                                  |                                        | NA                                     | NA                                     | 1626                                   | 1626                                   |    NA                                  |                                        |                                        | \n",
       "| Ventilation free days in 28 days       | 19.09 (13.53)                          | 18.02 (25.13)                          | 0.053                                  | 0.097                                  | 14.50 (16.25)                          | 19.67 (52.07)                          | 0.003                                  | 0.903                                  | 0.146                                  | 0.48                                   | 18.10 (14.70)                          | 19.60 (32.64)                          | 0.059                                  | 0.089                                  | 0%                                     | \n",
       "| Vasopressor free days in 28 days       | 20.25 (12.61)                          | 20.13 (14.91)                          | 0.008                                  | <0.001                                 | 18.24 (13.80)                          | 19.00 (16.66)                          | 0.054                                  | 0.047                                  | <0.001                                 | 0.005                                  | 19.31 (12.73)                          | 20.81 (16.95)                          | 0.100                                  | 0.004                                  | 0%                                     | \n",
       "| Dobutamine Use                         | 0.7%                                   | 4.2%                                   | 0.224                                  | 0.001                                  | 1.1%                                   | 3.4%                                   | 0.155                                  | <0.001                                 | 0.001                                  | <0.001                                 | 1.2%                                   | 2.1%                                   | 0.067                                  | 0.077                                  | 0%                                     | \n",
       "| IV Fluid Day 1 (mL)                    | 1939.14 (3181.88)                      | 2456.26 (3853.10)                      | 0.146                                  | 0.307                                  | 3370.89 (3737.35)                      | 3199.19 (4899.17)                      | 0.096                                  | 0.001                                  | 0.271                                  | 0.106                                  | 2112.35 (3372.21)                      | 2432.39 (3768.86)                      | 0.089                                  | 0.047                                  | 10.7%                                  | \n",
       "| IV Fluid Day 2 (mL)                    | 835.26 (2429.91)                       | 1258.22 (2933.92)                      | 0.157                                  | 0.007                                  | 2285.64 (2698.15)                      | 1514.82 (4086.83)                      | 0.132                                  | <0.001                                 | 0.016                                  | <0.001                                 | 900.41 (2557.54)                       | 1275.30 (2872.91)                      | 0.138                                  | 0.002                                  | 18.9%                                  | \n",
       "| IV Fluid Day 3 (mL)                    | 256.15 (2108.02)                       | 686.56 (2614.26)                       | 0.181                                  | <0.001                                 | 1113.52 (2598.95)                      | 609.35 (2817.57)                       | 0.179                                  | <0.001                                 | <0.001                                 | <0.001                                 | 253.25 (2147.55)                       | 771.78 (2683.65)                       | 0.213                                  | <0.001                                 | 34.4%                                  | \n",
       "| SOFA Reduction Day 2                   | 1.22 (4.34)                            | 0.89 (3.39)                            | 0.086                                  | <0.001                                 | 0.92 (2.84)                            | 0.98 (2.66)                            | 0.128                                  | <0.001                                 | 0.003                                  | <0.001                                 | 1.31 (4.55)                            | 0.68 (3.26)                            | 0.159                                  | <0.001                                 | 0%                                     | \n",
       "| SOFA Reduction Day 3                   | 2.29 (4.49)                            | 1.49 (4.07)                            | 0.186                                  | <0.001                                 | 1.18 (3.05)                            | 1.15 (3.11)                            | 0.247                                  | <0.001                                 | <0.001                                 | <0.001                                 | 2.46 (4.76)                            | 1.15 (3.99)                            | 0.299                                  | <0.001                                 | 0%                                     | \n",
       "| Norepinephrine (maximum dosage mg/min) | 0.81 (2.39)                            | 1.78 (5.69)                            | 0.221                                  | 0.003                                  | 1.81 (3.29)                            | 2.43 (4.20)                            | 0.154                                  | <0.001                                 | <0.001                                 | <0.001                                 | 1.04 (2.68)                            | 1.38 (3.13)                            | 0.117                                  | <0.001                                 | 0%                                     | \n",
       "| Serum Lactate Reduction                | 0.54 (2.44)                            | 1.11 (2.40)                            | 0.234                                  | 0.007                                  | 0.63 (1.93)                            | 1.05 (2.24)                            | 0.213                                  | 0.009                                  | <0.001                                 | 0.043                                  | 0.50 (2.50)                            | 0.92 (1.54)                            | 0.202                                  | 0.129                                  | 87.4%                                  | \n",
       "| Serum Creatinine Reduction             | 0.11 (0.80)                            | 0.11 (1.06)                            | 0.003                                  | 0.358                                  | -0.05 (0.93)                           | 0.09 (1.02)                            | 0.059                                  | 0.304                                  | 0.25                                   | 0.446                                  | 0.09 (0.90)                            | 0.21 (0.92)                            | 0.127                                  | 0.409                                  | 70.5%                                  | \n",
       "\n",
       "\n"
      ],
      "text/plain": [
       "   cov                                    Non-Echo          Echo             \n",
       "1  n                                      3099              3262             \n",
       "2  Ventilation free days in 28 days       19.09 (13.53)     18.02 (25.13)    \n",
       "3  Vasopressor free days in 28 days       20.25 (12.61)     20.13 (14.91)    \n",
       "4  Dobutamine Use                         0.7%              4.2%             \n",
       "5  IV Fluid Day 1 (mL)                    1939.14 (3181.88) 2456.26 (3853.10)\n",
       "6  IV Fluid Day 2 (mL)                    835.26 (2429.91)  1258.22 (2933.92)\n",
       "7  IV Fluid Day 3 (mL)                    256.15 (2108.02)  686.56 (2614.26) \n",
       "8  SOFA Reduction Day 2                   1.22 (4.34)       0.89 (3.39)      \n",
       "9  SOFA Reduction Day 3                   2.29 (4.49)       1.49 (4.07)      \n",
       "10 Norepinephrine (maximum dosage mg/min) 0.81 (2.39)       1.78 (5.69)      \n",
       "11 Serum Lactate Reduction                0.54 (2.44)       1.11 (2.40)      \n",
       "12 Serum Creatinine Reduction             0.11 (0.80)       0.11 (1.06)      \n",
       "   SMD   p value (Multivariate) Non-Echo (weighted cohort)\n",
       "1     NA NA                     5739.48                   \n",
       "2  0.053 0.097                  14.50 (16.25)             \n",
       "3  0.008 <0.001                 18.24 (13.80)             \n",
       "4  0.224 0.001                  1.1%                      \n",
       "5  0.146 0.307                  3370.89 (3737.35)         \n",
       "6  0.157 0.007                  2285.64 (2698.15)         \n",
       "7  0.181 <0.001                 1113.52 (2598.95)         \n",
       "8  0.086 <0.001                 0.92 (2.84)               \n",
       "9  0.186 <0.001                 1.18 (3.05)               \n",
       "10 0.221 0.003                  1.81 (3.29)               \n",
       "11 0.234 0.007                  0.63 (1.93)               \n",
       "12 0.003 0.358                  -0.05 (0.93)              \n",
       "   Echo (weighted cohort) SMD (weighted cohort) p value (IPW)\n",
       "1  5842.36                   NA                              \n",
       "2  19.67 (52.07)          0.003                 0.903        \n",
       "3  19.00 (16.66)          0.054                 0.047        \n",
       "4  3.4%                   0.155                 <0.001       \n",
       "5  3199.19 (4899.17)      0.096                 0.001        \n",
       "6  1514.82 (4086.83)      0.132                 <0.001       \n",
       "7  609.35 (2817.57)       0.179                 <0.001       \n",
       "8  0.98 (2.66)            0.128                 <0.001       \n",
       "9  1.15 (3.11)            0.247                 <0.001       \n",
       "10 2.43 (4.20)            0.154                 <0.001       \n",
       "11 1.05 (2.24)            0.213                 0.009        \n",
       "12 0.09 (1.02)            0.059                 0.304        \n",
       "   p value (Doubly Robust All Covariates)\n",
       "1  NA                                    \n",
       "2  0.146                                 \n",
       "3  <0.001                                \n",
       "4  0.001                                 \n",
       "5  0.271                                 \n",
       "6  0.016                                 \n",
       "7  <0.001                                \n",
       "8  0.003                                 \n",
       "9  <0.001                                \n",
       "10 <0.001                                \n",
       "11 <0.001                                \n",
       "12 0.25                                  \n",
       "   p value (Doubly Robust Unbalanced Covariates) Non-Echo (PS matching)\n",
       "1  NA                                            1626                  \n",
       "2  0.48                                          18.10 (14.70)         \n",
       "3  0.005                                         19.31 (12.73)         \n",
       "4  <0.001                                        1.2%                  \n",
       "5  0.106                                         2112.35 (3372.21)     \n",
       "6  <0.001                                        900.41 (2557.54)      \n",
       "7  <0.001                                        253.25 (2147.55)      \n",
       "8  <0.001                                        1.31 (4.55)           \n",
       "9  <0.001                                        2.46 (4.76)           \n",
       "10 <0.001                                        1.04 (2.68)           \n",
       "11 0.043                                         0.50 (2.50)           \n",
       "12 0.446                                         0.09 (0.90)           \n",
       "   Echo (PS matching) SMD (PS matching) p value (PS matching) Missing data\n",
       "1  1626                  NA                                               \n",
       "2  19.60 (32.64)      0.059             0.089                 0%          \n",
       "3  20.81 (16.95)      0.100             0.004                 0%          \n",
       "4  2.1%               0.067             0.077                 0%          \n",
       "5  2432.39 (3768.86)  0.089             0.047                 10.7%       \n",
       "6  1275.30 (2872.91)  0.138             0.002                 18.9%       \n",
       "7  771.78 (2683.65)   0.213             <0.001                34.4%       \n",
       "8  0.68 (3.26)        0.159             <0.001                0%          \n",
       "9  1.15 (3.99)        0.299             <0.001                0%          \n",
       "10 1.38 (3.13)        0.117             <0.001                0%          \n",
       "11 0.92 (1.54)        0.202             0.129                 87.4%       \n",
       "12 0.21 (0.92)        0.127             0.409                 70.5%       "
      ]
     },
     "metadata": {},
     "output_type": "display_data"
    }
   ],
   "source": [
    "subgroup_tb"
   ]
  },
  {
   "cell_type": "code",
   "execution_count": 24,
   "metadata": {},
   "outputs": [],
   "source": [
    "data.table::fwrite(subgroup_tb, file.path(data_dir, \"secondary.csv\"))"
   ]
  }
 ],
 "metadata": {
  "kernelspec": {
   "display_name": "R",
   "language": "R",
   "name": "ir"
  },
  "language_info": {
   "codemirror_mode": "r",
   "file_extension": ".r",
   "mimetype": "text/x-r-source",
   "name": "R",
   "pygments_lexer": "r",
   "version": "3.4.4"
  },
  "varInspector": {
   "cols": {
    "lenName": 16,
    "lenType": 16,
    "lenVar": 40
   },
   "kernels_config": {
    "python": {
     "delete_cmd_postfix": "",
     "delete_cmd_prefix": "del ",
     "library": "var_list.py",
     "varRefreshCmd": "print(var_dic_list())"
    },
    "r": {
     "delete_cmd_postfix": ") ",
     "delete_cmd_prefix": "rm(",
     "library": "var_list.r",
     "varRefreshCmd": "cat(var_dic_list()) "
    }
   },
   "types_to_exclude": [
    "module",
    "function",
    "builtin_function_or_method",
    "instance",
    "_Feature"
   ],
   "window_display": false
  }
 },
 "nbformat": 4,
 "nbformat_minor": 2
}
