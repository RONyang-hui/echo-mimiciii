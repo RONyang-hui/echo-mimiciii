{
 "cells": [
  {
   "cell_type": "code",
   "execution_count": null,
   "metadata": {
    "scrolled": true
   },
   "outputs": [],
   "source": [
    "library(twang)\n",
    "library(weights)\n",
    "library(Matching)\n",
    "library(tidyverse)"
   ]
  },
  {
   "cell_type": "code",
   "execution_count": null,
   "metadata": {},
   "outputs": [],
   "source": [
    "data_dir <- file.path(\"..\", \"data\")"
   ]
  },
  {
   "cell_type": "code",
   "execution_count": null,
   "metadata": {},
   "outputs": [],
   "source": [
    "full_data <- readRDS(file.path(data_dir, \"full_data_ps.rds\"))\n",
    "head(full_data)"
   ]
  },
  {
   "cell_type": "code",
   "execution_count": null,
   "metadata": {},
   "outputs": [],
   "source": [
    "library(tableone)"
   ]
  },
  {
   "cell_type": "code",
   "execution_count": null,
   "metadata": {},
   "outputs": [],
   "source": [
    "features <- c(\"age\", \"gender\", \"first_careunit\", \"weight\", \"elix_score\",\n",
    "              \"saps\", \"sofa\", \"vent\", \"vaso\", \"sedative\",\n",
    "              \"icd_chf\", \"icd_afib\", \"icd_renal\", \"icd_liver\",\n",
    "              \"icd_copd\", \"icd_cad\", \"icd_stroke\", \"icd_malignancy\", \"icu_adm_weekday\",\n",
    "              \"vs_map_first\", \"vs_heart_rate_first\", \"vs_temp_first\", \"vs_cvp_first\",\n",
    "              \"lab_wbc_first\", \"lab_hemoglobin_first\", \"lab_platelet_first\",\n",
    "              \"lab_sodium_first\", \"lab_potassium_first\", \"lab_bicarbonate_first\",\n",
    "              \"lab_chloride_first\", \"lab_bun_first\", \"lab_lactate_first\",\n",
    "              \"lab_creatinine_first\", \"lab_ph_first\", \"lab_po2_first\", \"lab_pco2_first\",\n",
    "              \"lab_bnp_flag\", \"lab_troponin_flag\", \"lab_creatinine_kinase_flag\")"
   ]
  },
  {
   "cell_type": "code",
   "execution_count": null,
   "metadata": {},
   "outputs": [],
   "source": [
    "tab <- CreateTableOne(vars = features,\n",
    "                      argsNormal = list(var.equal = FALSE),\n",
    "                      strata = \"echo\",\n",
    "                      data = full_data,)\n",
    "capture.output(tab_df <- tab %>% print(smd = TRUE) %>% as.data.frame(stringsAsFactors = FALSE)) %>% invisible"
   ]
  },
  {
   "cell_type": "code",
   "execution_count": null,
   "metadata": {
    "scrolled": true
   },
   "outputs": [],
   "source": [
    "tab_df"
   ]
  },
  {
   "cell_type": "code",
   "execution_count": null,
   "metadata": {},
   "outputs": [],
   "source": [
    "ipw_svydesign <- readRDS(file.path(data_dir, \"ipw_svydesign.rds\"))"
   ]
  },
  {
   "cell_type": "code",
   "execution_count": null,
   "metadata": {},
   "outputs": [],
   "source": [
    "tab_wtd <- svyCreateTableOne(vars = features, strata = \"echo\", data = ipw_svydesign)"
   ]
  },
  {
   "cell_type": "code",
   "execution_count": null,
   "metadata": {},
   "outputs": [],
   "source": [
    "capture.output(tab_wtd_df <- tab_wtd %>% print %>% as.data.frame(stringsAsFactors = FALSE)) %>% invisible"
   ]
  },
  {
   "cell_type": "code",
   "execution_count": null,
   "metadata": {
    "scrolled": true
   },
   "outputs": [],
   "source": [
    "tab_wtd_df"
   ]
  },
  {
   "cell_type": "code",
   "execution_count": null,
   "metadata": {},
   "outputs": [],
   "source": [
    "ps_icustay_id <- data.table::fread(file.path(data_dir, \"ps_icustay_id\"), data.table = FALSE) %>% pull(icustay_id)"
   ]
  },
  {
   "cell_type": "code",
   "execution_count": null,
   "metadata": {},
   "outputs": [],
   "source": [
    "ps_df <- full_data %>% filter(icustay_id %in% ps_icustay_id)"
   ]
  },
  {
   "cell_type": "code",
   "execution_count": null,
   "metadata": {},
   "outputs": [],
   "source": [
    "tab_ps <- CreateTableOne(vars = features,\n",
    "                         strata = \"echo\",\n",
    "                         argsNormal = list(var.equal = FALSE),\n",
    "                         data = ps_df)"
   ]
  },
  {
   "cell_type": "code",
   "execution_count": null,
   "metadata": {},
   "outputs": [],
   "source": [
    "capture.output(tab_ps_df <- tab_ps %>% print(smd = TRUE) %>% as.data.frame(stringsAsFactors = FALSE)) %>% invisible"
   ]
  },
  {
   "cell_type": "code",
   "execution_count": null,
   "metadata": {
    "scrolled": true
   },
   "outputs": [],
   "source": [
    "tab_ps_df"
   ]
  }
 ],
 "metadata": {
  "kernelspec": {
   "display_name": "R",
   "language": "R",
   "name": "ir"
  },
  "language_info": {
   "codemirror_mode": "r",
   "file_extension": ".r",
   "mimetype": "text/x-r-source",
   "name": "R",
   "pygments_lexer": "r",
   "version": "3.4.3"
  },
  "varInspector": {
   "cols": {
    "lenName": 16,
    "lenType": 16,
    "lenVar": 40
   },
   "kernels_config": {
    "python": {
     "delete_cmd_postfix": "",
     "delete_cmd_prefix": "del ",
     "library": "var_list.py",
     "varRefreshCmd": "print(var_dic_list())"
    },
    "r": {
     "delete_cmd_postfix": ") ",
     "delete_cmd_prefix": "rm(",
     "library": "var_list.r",
     "varRefreshCmd": "cat(var_dic_list()) "
    }
   },
   "types_to_exclude": [
    "module",
    "function",
    "builtin_function_or_method",
    "instance",
    "_Feature"
   ],
   "window_display": false
  }
 },
 "nbformat": 4,
 "nbformat_minor": 2
}
