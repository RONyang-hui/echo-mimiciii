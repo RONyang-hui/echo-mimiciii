{
 "cells": [
  {
   "cell_type": "code",
   "execution_count": null,
   "metadata": {
    "scrolled": true
   },
   "outputs": [],
   "source": [
    "library(twang)\n",
    "library(weights)\n",
    "library(tidyverse)"
   ]
  },
  {
   "cell_type": "code",
   "execution_count": null,
   "metadata": {},
   "outputs": [],
   "source": [
    "data_dir <- file.path(\"..\", \"data\")"
   ]
  },
  {
   "cell_type": "code",
   "execution_count": null,
   "metadata": {},
   "outputs": [],
   "source": [
    "full_data <- readRDS(file.path(data_dir, \"full_data_ps.rds\"))\n",
    "head(full_data)"
   ]
  },
  {
   "cell_type": "code",
   "execution_count": null,
   "metadata": {},
   "outputs": [],
   "source": [
    "library(tableone)"
   ]
  },
  {
   "cell_type": "code",
   "execution_count": null,
   "metadata": {},
   "outputs": [],
   "source": [
    "features <- c(\"age\", \"gender\", \"first_careunit\", \"weight\", \"elix_score\",\n",
    "              \"saps\", \"sofa\", \"vent\", \"vaso\", \"sedative\",\n",
    "              \"icd_chf\", \"icd_afib\", \"icd_renal\", \"icd_liver\",\n",
    "              \"icd_copd\", \"icd_cad\", \"icd_stroke\", \"icd_malignancy\", \"icu_adm_weekday\",\n",
    "              \"vs_map_first\", \"vs_heart_rate_first\", \"vs_temp_first\", \"vs_cvp_first\",\n",
    "              \"lab_wbc_first\", \"lab_hemoglobin_first\", \"lab_platelet_first\",\n",
    "              \"lab_sodium_first\", \"lab_potassium_first\", \"lab_bicarbonate_first\",\n",
    "              \"lab_chloride_first\", \"lab_bun_first\", \"lab_lactate_first\",\n",
    "              \"lab_creatinine_first\", \"lab_ph_first\", \"lab_po2_first\", \"lab_pco2_first\",\n",
    "              \"lab_bnp_flag\", \"lab_troponin_flag\", \"lab_creatinine_kinase_flag\")"
   ]
  },
  {
   "cell_type": "code",
   "execution_count": null,
   "metadata": {},
   "outputs": [],
   "source": [
    "tab_basics <- CreateTableOne(vars = features,\n",
    "                             strata = \"echo\",\n",
    "                             data = full_data)\n",
    "tab_basics %>% print(smd = TRUE) %>% as.data.frame(stringsAsFactors = FALSE)"
   ]
  },
  {
   "cell_type": "code",
   "execution_count": null,
   "metadata": {},
   "outputs": [],
   "source": [
    "design_echo_ps_ate <- svydesign(ids = ~ icustay_id, weights = ~ ps_weight, data = full_data)"
   ]
  },
  {
   "cell_type": "code",
   "execution_count": null,
   "metadata": {},
   "outputs": [],
   "source": [
    "tabWeighted <- svyCreateTableOne(vars = features, strata = \"echo\", data = design_echo_ps_ate)"
   ]
  },
  {
   "cell_type": "code",
   "execution_count": null,
   "metadata": {},
   "outputs": [],
   "source": [
    "tabWeighted %>% print %>% as.data.frame"
   ]
  },
  {
   "cell_type": "code",
   "execution_count": null,
   "metadata": {},
   "outputs": [],
   "source": [
    "table_one_raw <- c(\"age\", \"female\", \"weight\", \"elix_score\",\n",
    "  \"saps\", \"sofa\", \"vent\", \"vaso\", \"sedative\",\n",
    "  \"icd_chf\", \"icd_afib\", \"icd_renal\", \"icd_liver\",\n",
    "  \"icd_copd\", \"icd_cad\", \"icd_stroke\", \"icd_malignancy\",\n",
    "  \"sunday\", \"monday\", \"tuesday\", \"wednesday\",\n",
    "  \"thursday\", \"friday\", \"saturday\",\n",
    "  \"vs_map_first\", \"vs_heart_rate_first\", \"vs_temp_first\", \"vs_cvp_first\",\n",
    "  \"lab_wbc_first\", \"lab_hemoglobin_first\", \"lab_platelet_first\",\n",
    "  \"lab_sodium_first\", \"lab_potassium_first\", \"lab_bicarbonate_first\",\n",
    "  \"lab_chloride_first\", \"lab_bun_first\", \"lab_lactate_first\",\n",
    "  \"lab_creatinine_first\", \"lab_ph_first\", \"lab_po2_first\", \"lab_pco2_first\",\n",
    "  \"lab_bnp_flag\", \"lab_troponin_flag\", \"lab_creatinine_kinase_flag\") %>%\n",
    "map(function(var) {\n",
    "    x <- full_data[[var]]\n",
    "    sym_var <- rlang::sym(var)\n",
    "    if (is.numeric(x)) {\n",
    "        res <- full_data %>%\n",
    "            group_by(echo) %>%\n",
    "            summarise(main = mean(!!sym_var, na.rm = TRUE),\n",
    "                      sub = sd(!!sym_var, na.rm = TRUE),\n",
    "                      wtd_main = wtd.mean(!!sym_var, ps_weight),\n",
    "                      wtd_sub = sqrt(wtd.var(!!sym_var, ps_weight))) %>%\n",
    "            cbind(\n",
    "                full_data %>%\n",
    "                { split(.[[var]], .$echo) } %>%\n",
    "                setNames(c(\"x\", \"y\")) %>%\n",
    "                do.call(t.test, .) %>%\n",
    "                .$p.value %>%\n",
    "                data.frame(p_val = .)\n",
    "            ) %>%\n",
    "            cbind(\n",
    "                full_data %>%\n",
    "                { split(select(., !!sym_var, ps_weight), .$echo) } %>%\n",
    "                setNames(c(\"fst\", \"sec\")) %>%\n",
    "                {\n",
    "                    list(x = { pull(pluck(., \"fst\"), !!sym_var) },\n",
    "                         y = { pull(pluck(., \"sec\"), !!sym_var) },\n",
    "                         weight = { pull(pluck(., \"fst\"), ps_weight) },\n",
    "                         weighty = { pull(pluck(., \"sec\"), ps_weight) },\n",
    "                         samedata = FALSE)\n",
    "                }\n",
    "                %>%\n",
    "                do.call(wtd.t.test, .) %>%\n",
    "                .$coefficients %>%\n",
    "                .[\"p.value\"] %>%\n",
    "                unname %>%\n",
    "                data.frame(wtd_p_val = .)\n",
    "            )\n",
    "    }\n",
    "    \n",
    "    if (is.factor(x)) {\n",
    "        if (length(levels(x)) == 2) {\n",
    "            res <- full_data %>%\n",
    "                mutate(!!sym_var := as.integer(as.character(!!sym_var))) %>%\n",
    "                group_by(echo) %>%\n",
    "                summarise(main = mean(!!sym_var, na.rm = TRUE) * 100,\n",
    "                          sub = NA,\n",
    "                          wtd_main = wtd.mean(!!sym_var, ps_weight) * 100,\n",
    "                          wtd_sub = NA) %>%\n",
    "                cbind(\n",
    "                    full_data %>%\n",
    "                    {\n",
    "                        list(x = pull(., !!sym_var),\n",
    "                             y = pull(., echo))\n",
    "                    } %>%\n",
    "                    do.call(chisq.test, .) %>%\n",
    "                    pluck(\"p.value\") %>%\n",
    "                    unname %>%\n",
    "                    data.frame(p_val = .)\n",
    "                ) %>%\n",
    "                cbind(\n",
    "                    full_data %>%\n",
    "                    {\n",
    "                        list(var1 = pull(., !!sym_var),\n",
    "                             var2 = pull(., echo),\n",
    "                             weight = pull(., ps_weight))\n",
    "                    } %>%\n",
    "                    do.call(wtd.chi.sq, .) %>%\n",
    "                    pluck(\"p.value\") %>%\n",
    "                    unname %>%\n",
    "                    data.frame(wtd_p_val = .)\n",
    "                )\n",
    "        } else return(NULL)\n",
    "    }\n",
    "    \n",
    "    res %>%\n",
    "    gather(\"key\", \"value\", main, sub, wtd_main, wtd_sub) %>%\n",
    "    unite(\"key\", key, echo) %>%\n",
    "    spread(key, value) %>%\n",
    "    mutate(var = var) %>%\n",
    "    return\n",
    "}) %>%\n",
    "discard(is.null) %>%\n",
    "data.table::rbindlist() %>%\n",
    "as.data.frame\n",
    "\n",
    "head(table_one_raw)"
   ]
  },
  {
   "cell_type": "code",
   "execution_count": null,
   "metadata": {},
   "outputs": [],
   "source": [
    "table_one_fmt <- table_one_raw %>%\n",
    "mutate(raw_0 = ifelse(is.na(sub_0), sprintf(\"%.2f%%\", main_0),\n",
    "                      sprintf(\"%.2f (%.2f)\", main_0, sub_0)),\n",
    "       raw_1 = ifelse(is.na(sub_1), sprintf(\"%.2f%%\", main_1),\n",
    "                      sprintf(\"%.2f (%.2f)\", main_1, sub_1)),\n",
    "       wtd_raw_0 = ifelse(is.na(wtd_sub_0), sprintf(\"%.2f%%\", wtd_main_0),\n",
    "                          sprintf(\"%.2f (%.2f)\", wtd_main_0, wtd_sub_0)),\n",
    "       wtd_raw_1 = ifelse(is.na(wtd_sub_1), sprintf(\"%.2f%%\", wtd_main_1),\n",
    "                          sprintf(\"%.2f (%.2f)\", wtd_main_1, wtd_sub_1)),\n",
    "       p_val = ifelse(p_val < 0.001, \"<0.001\", as.character(round(p_val, 3))),\n",
    "       wtd_p_val = ifelse(wtd_p_val < 0.001, \"<0.001\", as.character(round(wtd_p_val, 3)))) %>%\n",
    "select(var, raw_1, raw_0, p_val, wtd_raw_1, wtd_raw_0, wtd_p_val) %>%\n",
    "mutate(var = gsub(\"vs_\", \"\", var)) %>%\n",
    "mutate(var = gsub(\"lab_\", \"\", var)) %>%\n",
    "mutate(var = gsub(\"icd_\", \"\", var)) %>%\n",
    "mutate(var = gsub(\"_flag\", \"\", var)) %>%\n",
    "mutate(var = gsub(\"_first\", \"\", var)) %>%\n",
    "mutate(var = gsub(\"_\", \" \", var)) %>%\n",
    "mutate(var = tools::toTitleCase(var)) %>%\n",
    "setNames(c(\"Covariate\", \"Echo\", \"Non-Echo\", \"p value\",\n",
    "           \"Echo (weighted cohort)\", \"Non-Echo (weighted cohort)\",\n",
    "           \"p value (weighted cohort)\"))\n",
    "\n",
    "table_one_fmt"
   ]
  },
  {
   "cell_type": "code",
   "execution_count": null,
   "metadata": {},
   "outputs": [],
   "source": [
    "data.table::fwrite(table_one_fmt, file.path(data_dir, \"tableone.csv\"))\n",
    "data.table::fwrite(table_one_raw, file.path(data_dir, \"tableone_raw.csv\"))"
   ]
  }
 ],
 "metadata": {
  "kernelspec": {
   "display_name": "R",
   "language": "R",
   "name": "ir"
  },
  "language_info": {
   "codemirror_mode": "r",
   "file_extension": ".r",
   "mimetype": "text/x-r-source",
   "name": "R",
   "pygments_lexer": "r",
   "version": "3.4.3"
  },
  "varInspector": {
   "cols": {
    "lenName": 16,
    "lenType": 16,
    "lenVar": 40
   },
   "kernels_config": {
    "python": {
     "delete_cmd_postfix": "",
     "delete_cmd_prefix": "del ",
     "library": "var_list.py",
     "varRefreshCmd": "print(var_dic_list())"
    },
    "r": {
     "delete_cmd_postfix": ") ",
     "delete_cmd_prefix": "rm(",
     "library": "var_list.r",
     "varRefreshCmd": "cat(var_dic_list()) "
    }
   },
   "types_to_exclude": [
    "module",
    "function",
    "builtin_function_or_method",
    "instance",
    "_Feature"
   ],
   "window_display": false
  }
 },
 "nbformat": 4,
 "nbformat_minor": 2
}
