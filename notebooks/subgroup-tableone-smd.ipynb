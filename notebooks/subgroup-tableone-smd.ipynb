{
 "cells": [
  {
   "cell_type": "code",
   "execution_count": 1,
   "metadata": {
    "scrolled": true
   },
   "outputs": [
    {
     "name": "stderr",
     "output_type": "stream",
     "text": [
      "Loading required package: DBI\n",
      "Loading required package: Hmisc\n",
      "Loading required package: lattice\n",
      "Loading required package: survival\n",
      "Loading required package: Formula\n",
      "Loading required package: ggplot2\n",
      "\n",
      "Attaching package: ‘Hmisc’\n",
      "\n",
      "The following objects are masked from ‘package:base’:\n",
      "\n",
      "    format.pval, units\n",
      "\n",
      "Loading required package: gdata\n",
      "gdata: read.xls support for 'XLS' (Excel 97-2004) files ENABLED.\n",
      "\n",
      "gdata: read.xls support for 'XLSX' (Excel 2007+) files ENABLED.\n",
      "\n",
      "Attaching package: ‘gdata’\n",
      "\n",
      "The following object is masked from ‘package:stats’:\n",
      "\n",
      "    nobs\n",
      "\n",
      "The following object is masked from ‘package:utils’:\n",
      "\n",
      "    object.size\n",
      "\n",
      "The following object is masked from ‘package:base’:\n",
      "\n",
      "    startsWith\n",
      "\n",
      "Loading required package: mice\n",
      "Loading required package: MASS\n",
      "## \n",
      "##  Matching (Version 4.9-2, Build Date: 2015-12-25)\n",
      "##  See http://sekhon.berkeley.edu/matching for additional documentation.\n",
      "##  Please cite software as:\n",
      "##   Jasjeet S. Sekhon. 2011. ``Multivariate and Propensity Score Matching\n",
      "##   Software with Automated Balance Optimization: The Matching package for R.''\n",
      "##   Journal of Statistical Software, 42(7): 1-52. \n",
      "##\n",
      "\n",
      "── Attaching packages ─────────────────────────────────────── tidyverse 1.2.1 ──\n",
      "✔ tibble  1.4.2     ✔ purrr   0.2.4\n",
      "✔ tidyr   0.8.0     ✔ dplyr   0.7.4\n",
      "✔ readr   1.1.1     ✔ stringr 1.2.0\n",
      "✔ tibble  1.4.2     ✔ forcats 0.2.0\n",
      "── Conflicts ────────────────────────────────────────── tidyverse_conflicts() ──\n",
      "✖ dplyr::combine()   masks gdata::combine()\n",
      "✖ tidyr::complete()  masks mice::complete()\n",
      "✖ dplyr::filter()    masks stats::filter()\n",
      "✖ dplyr::first()     masks gdata::first()\n",
      "✖ purrr::keep()      masks gdata::keep()\n",
      "✖ dplyr::lag()       masks stats::lag()\n",
      "✖ dplyr::last()      masks gdata::last()\n",
      "✖ dplyr::select()    masks MASS::select()\n",
      "✖ dplyr::src()       masks Hmisc::src()\n",
      "✖ dplyr::summarize() masks Hmisc::summarize()\n"
     ]
    }
   ],
   "source": [
    "library(RPostgreSQL)\n",
    "library(tableone)\n",
    "library(weights)\n",
    "library(Matching)\n",
    "library(tidyverse)"
   ]
  },
  {
   "cell_type": "code",
   "execution_count": 2,
   "metadata": {},
   "outputs": [],
   "source": [
    "data_dir <- file.path(\"..\", \"data\")"
   ]
  },
  {
   "cell_type": "code",
   "execution_count": 3,
   "metadata": {},
   "outputs": [
    {
     "data": {
      "text/plain": [
       "<PostgreSQLResult>"
      ]
     },
     "metadata": {},
     "output_type": "display_data"
    }
   ],
   "source": [
    "drv <- dbDriver(\"PostgreSQL\")\n",
    "con <- dbConnect(drv, dbname = \"mimic\")\n",
    "dbSendQuery(con, \"set search_path=echo,public,mimiciii;\")"
   ]
  },
  {
   "cell_type": "code",
   "execution_count": 4,
   "metadata": {},
   "outputs": [],
   "source": [
    "sql <-\n",
    "\"\n",
    "select hadm_id, icustay_id, echo,\n",
    "    norepinephrine_max, dobutamine_flag,\n",
    "    vasofreeday28, ventfreeday28,\n",
    "    lactate_reduction, creatinine_reduction,\n",
    "    sofa, sofa_drop_2, sofa_drop_3, day1, day2, day3,\n",
    "    down2, down3,\n",
    "    creatinine_diff,\n",
    "    lactate_diff\n",
    "from (select hadm_id, icustay_id, echo from merged_data) co\n",
    "left join subgroup using (hadm_id,icustay_id,echo)\n",
    "left join serum_diff using (hadm_id)\n",
    "left join (select icustay_id, day1, day2, day3, down2, down3 from fluid) fl using (icustay_id)\n",
    "\""
   ]
  },
  {
   "cell_type": "code",
   "execution_count": 5,
   "metadata": {},
   "outputs": [
    {
     "data": {
      "text/html": [
       "<table>\n",
       "<thead><tr><th scope=col>hadm_id</th><th scope=col>icustay_id</th><th scope=col>echo</th><th scope=col>norepinephrine_max</th><th scope=col>dobutamine_flag</th><th scope=col>vasofreeday28</th><th scope=col>ventfreeday28</th><th scope=col>lactate_reduction</th><th scope=col>creatinine_reduction</th><th scope=col>sofa</th><th scope=col>sofa_drop_2</th><th scope=col>sofa_drop_3</th><th scope=col>day1</th><th scope=col>day2</th><th scope=col>day3</th><th scope=col>down2</th><th scope=col>down3</th><th scope=col>creatinine_diff</th><th scope=col>lactate_diff</th></tr></thead>\n",
       "<tbody>\n",
       "\t<tr><td>159895   </td><td>228416   </td><td>1        </td><td>0.000000 </td><td>0        </td><td>28.00000 </td><td> 7.581632</td><td>0.0      </td><td>1.3      </td><td>3        </td><td>  1      </td><td>0        </td><td>-2110.000</td><td>-1930.000</td><td>-1475.000</td><td>-180.000 </td><td>-635.000 </td><td> NA      </td><td>NA       </td></tr>\n",
       "\t<tr><td>169700   </td><td>278148   </td><td>0        </td><td>0.000000 </td><td>0        </td><td> 0.00000 </td><td> 0.000000</td><td> NA      </td><td>0.1      </td><td>8        </td><td>-16      </td><td>8        </td><td>       NA</td><td>       NA</td><td>       NA</td><td>      NA </td><td>      NA </td><td> NA      </td><td>NA       </td></tr>\n",
       "\t<tr><td>103722   </td><td>274174   </td><td>1        </td><td>0.000000 </td><td>0        </td><td>28.00000 </td><td>28.000000</td><td>0.0      </td><td>2.0      </td><td>5        </td><td>  3      </td><td>2        </td><td> -300.000</td><td>-1827.000</td><td>  -10.000</td><td>1527.000 </td><td>-290.000 </td><td> NA      </td><td>NA       </td></tr>\n",
       "\t<tr><td>170515   </td><td>214954   </td><td>1        </td><td>7.977352 </td><td>0        </td><td>26.04167 </td><td>24.854167</td><td>1.8      </td><td>0.4      </td><td>8        </td><td>  4      </td><td>5        </td><td> 4299.590</td><td> 2899.645</td><td>-1283.263</td><td>1399.945 </td><td>5582.853 </td><td>0.5      </td><td>NA       </td></tr>\n",
       "\t<tr><td>183493   </td><td>222457   </td><td>0        </td><td>0.000000 </td><td>0        </td><td>28.00000 </td><td>28.000000</td><td> NA      </td><td>0.1      </td><td>1        </td><td>  0      </td><td>1        </td><td> 5988.072</td><td> 2102.761</td><td>       NA</td><td>3885.311 </td><td>      NA </td><td> NA      </td><td>NA       </td></tr>\n",
       "\t<tr><td>134244   </td><td>264413   </td><td>1        </td><td>2.748114 </td><td>0        </td><td>27.37778 </td><td>24.250000</td><td>0.5      </td><td>0.1      </td><td>4        </td><td>  2      </td><td>3        </td><td> 1507.392</td><td>-1400.000</td><td>       NA</td><td>2907.392 </td><td>      NA </td><td> NA      </td><td>NA       </td></tr>\n",
       "</tbody>\n",
       "</table>\n"
      ],
      "text/latex": [
       "\\begin{tabular}{r|lllllllllllllllllll}\n",
       " hadm\\_id & icustay\\_id & echo & norepinephrine\\_max & dobutamine\\_flag & vasofreeday28 & ventfreeday28 & lactate\\_reduction & creatinine\\_reduction & sofa & sofa\\_drop\\_2 & sofa\\_drop\\_3 & day1 & day2 & day3 & down2 & down3 & creatinine\\_diff & lactate\\_diff\\\\\n",
       "\\hline\n",
       "\t 159895    & 228416    & 1         & 0.000000  & 0         & 28.00000  &  7.581632 & 0.0       & 1.3       & 3         &   1       & 0         & -2110.000 & -1930.000 & -1475.000 & -180.000  & -635.000  &  NA       & NA       \\\\\n",
       "\t 169700    & 278148    & 0         & 0.000000  & 0         &  0.00000  &  0.000000 &  NA       & 0.1       & 8         & -16       & 8         &        NA &        NA &        NA &       NA  &       NA  &  NA       & NA       \\\\\n",
       "\t 103722    & 274174    & 1         & 0.000000  & 0         & 28.00000  & 28.000000 & 0.0       & 2.0       & 5         &   3       & 2         &  -300.000 & -1827.000 &   -10.000 & 1527.000  & -290.000  &  NA       & NA       \\\\\n",
       "\t 170515    & 214954    & 1         & 7.977352  & 0         & 26.04167  & 24.854167 & 1.8       & 0.4       & 8         &   4       & 5         &  4299.590 &  2899.645 & -1283.263 & 1399.945  & 5582.853  & 0.5       & NA       \\\\\n",
       "\t 183493    & 222457    & 0         & 0.000000  & 0         & 28.00000  & 28.000000 &  NA       & 0.1       & 1         &   0       & 1         &  5988.072 &  2102.761 &        NA & 3885.311  &       NA  &  NA       & NA       \\\\\n",
       "\t 134244    & 264413    & 1         & 2.748114  & 0         & 27.37778  & 24.250000 & 0.5       & 0.1       & 4         &   2       & 3         &  1507.392 & -1400.000 &        NA & 2907.392  &       NA  &  NA       & NA       \\\\\n",
       "\\end{tabular}\n"
      ],
      "text/markdown": [
       "\n",
       "hadm_id | icustay_id | echo | norepinephrine_max | dobutamine_flag | vasofreeday28 | ventfreeday28 | lactate_reduction | creatinine_reduction | sofa | sofa_drop_2 | sofa_drop_3 | day1 | day2 | day3 | down2 | down3 | creatinine_diff | lactate_diff | \n",
       "|---|---|---|---|---|---|\n",
       "| 159895    | 228416    | 1         | 0.000000  | 0         | 28.00000  |  7.581632 | 0.0       | 1.3       | 3         |   1       | 0         | -2110.000 | -1930.000 | -1475.000 | -180.000  | -635.000  |  NA       | NA        | \n",
       "| 169700    | 278148    | 0         | 0.000000  | 0         |  0.00000  |  0.000000 |  NA       | 0.1       | 8         | -16       | 8         |        NA |        NA |        NA |       NA  |       NA  |  NA       | NA        | \n",
       "| 103722    | 274174    | 1         | 0.000000  | 0         | 28.00000  | 28.000000 | 0.0       | 2.0       | 5         |   3       | 2         |  -300.000 | -1827.000 |   -10.000 | 1527.000  | -290.000  |  NA       | NA        | \n",
       "| 170515    | 214954    | 1         | 7.977352  | 0         | 26.04167  | 24.854167 | 1.8       | 0.4       | 8         |   4       | 5         |  4299.590 |  2899.645 | -1283.263 | 1399.945  | 5582.853  | 0.5       | NA        | \n",
       "| 183493    | 222457    | 0         | 0.000000  | 0         | 28.00000  | 28.000000 |  NA       | 0.1       | 1         |   0       | 1         |  5988.072 |  2102.761 |        NA | 3885.311  |       NA  |  NA       | NA        | \n",
       "| 134244    | 264413    | 1         | 2.748114  | 0         | 27.37778  | 24.250000 | 0.5       | 0.1       | 4         |   2       | 3         |  1507.392 | -1400.000 |        NA | 2907.392  |       NA  |  NA       | NA        | \n",
       "\n",
       "\n"
      ],
      "text/plain": [
       "  hadm_id icustay_id echo norepinephrine_max dobutamine_flag vasofreeday28\n",
       "1 159895  228416     1    0.000000           0               28.00000     \n",
       "2 169700  278148     0    0.000000           0                0.00000     \n",
       "3 103722  274174     1    0.000000           0               28.00000     \n",
       "4 170515  214954     1    7.977352           0               26.04167     \n",
       "5 183493  222457     0    0.000000           0               28.00000     \n",
       "6 134244  264413     1    2.748114           0               27.37778     \n",
       "  ventfreeday28 lactate_reduction creatinine_reduction sofa sofa_drop_2\n",
       "1  7.581632     0.0               1.3                  3      1        \n",
       "2  0.000000      NA               0.1                  8    -16        \n",
       "3 28.000000     0.0               2.0                  5      3        \n",
       "4 24.854167     1.8               0.4                  8      4        \n",
       "5 28.000000      NA               0.1                  1      0        \n",
       "6 24.250000     0.5               0.1                  4      2        \n",
       "  sofa_drop_3 day1      day2      day3      down2    down3    creatinine_diff\n",
       "1 0           -2110.000 -1930.000 -1475.000 -180.000 -635.000  NA            \n",
       "2 8                  NA        NA        NA       NA       NA  NA            \n",
       "3 2            -300.000 -1827.000   -10.000 1527.000 -290.000  NA            \n",
       "4 5            4299.590  2899.645 -1283.263 1399.945 5582.853 0.5            \n",
       "5 1            5988.072  2102.761        NA 3885.311       NA  NA            \n",
       "6 3            1507.392 -1400.000        NA 2907.392       NA  NA            \n",
       "  lactate_diff\n",
       "1 NA          \n",
       "2 NA          \n",
       "3 NA          \n",
       "4 NA          \n",
       "5 NA          \n",
       "6 NA          "
      ]
     },
     "metadata": {},
     "output_type": "display_data"
    }
   ],
   "source": [
    "subgroup <- dbGetQuery(con, \"select * from subgroup left join fluid using (icustay_id) left join serum_diff using (hadm_id);\")\n",
    "subgroup <- dbGetQuery(con, sql)\n",
    "head(subgroup)"
   ]
  },
  {
   "cell_type": "code",
   "execution_count": 6,
   "metadata": {},
   "outputs": [
    {
     "data": {
      "text/html": [
       "6162"
      ],
      "text/latex": [
       "6162"
      ],
      "text/markdown": [
       "6162"
      ],
      "text/plain": [
       "[1] 6162"
      ]
     },
     "metadata": {},
     "output_type": "display_data"
    }
   ],
   "source": [
    "nrow(subgroup)"
   ]
  },
  {
   "cell_type": "code",
   "execution_count": 7,
   "metadata": {},
   "outputs": [
    {
     "data": {
      "text/html": [
       "TRUE"
      ],
      "text/latex": [
       "TRUE"
      ],
      "text/markdown": [
       "TRUE"
      ],
      "text/plain": [
       "[1] TRUE"
      ]
     },
     "metadata": {},
     "output_type": "display_data"
    },
    {
     "data": {
      "text/html": [
       "TRUE"
      ],
      "text/latex": [
       "TRUE"
      ],
      "text/markdown": [
       "TRUE"
      ],
      "text/plain": [
       "[1] TRUE"
      ]
     },
     "metadata": {},
     "output_type": "display_data"
    }
   ],
   "source": [
    "dbDisconnect(con)\n",
    "dbUnloadDriver(drv)"
   ]
  },
  {
   "cell_type": "code",
   "execution_count": 8,
   "metadata": {},
   "outputs": [
    {
     "data": {
      "text/html": [
       "<table>\n",
       "<thead><tr><th scope=col>icustay_id</th><th scope=col>hadm_id</th><th scope=col>subject_id</th><th scope=col>first_careunit</th><th scope=col>intime</th><th scope=col>outtime</th><th scope=col>angus</th><th scope=col>age</th><th scope=col>icu_order</th><th scope=col>echo_time</th><th scope=col>⋯</th><th scope=col>lab_ph_flag</th><th scope=col>lab_ph_first</th><th scope=col>lab_ph_min</th><th scope=col>lab_ph_max</th><th scope=col>lab_ph_abnormal</th><th scope=col>sedative</th><th scope=col>echo_int</th><th scope=col>mort_28_day_int</th><th scope=col>ps</th><th scope=col>ps_weight</th></tr></thead>\n",
       "<tbody>\n",
       "\t<tr><td>201220             </td><td>125078             </td><td>66690              </td><td>0                  </td><td>2106-04-27 09:47:50</td><td>2106-05-01 19:25:46</td><td>1                  </td><td>62.67646           </td><td>1                  </td><td>NA                 </td><td>⋯                  </td><td>1                  </td><td>7.45               </td><td>7.42               </td><td>7.45               </td><td>1                  </td><td>1                  </td><td>0                  </td><td>1                  </td><td>0.4544669          </td><td>1.833069           </td></tr>\n",
       "\t<tr><td>215842             </td><td>151232             </td><td>11663              </td><td>0                  </td><td>2188-02-14 09:48:15</td><td>2188-02-16 03:02:48</td><td>1                  </td><td>86.76186           </td><td>1                  </td><td>NA                 </td><td>⋯                  </td><td>0                  </td><td>  NA               </td><td>  NA               </td><td>  NA               </td><td>NA                 </td><td>0                  </td><td>0                  </td><td>0                  </td><td>0.1568838          </td><td>1.186076           </td></tr>\n",
       "\t<tr><td>234312             </td><td>164444             </td><td>86645              </td><td>1                  </td><td>2165-06-22 09:47:16</td><td>2165-07-07 21:55:20</td><td>1                  </td><td>56.08904           </td><td>1                  </td><td>NA                 </td><td>⋯                  </td><td>1                  </td><td>7.49               </td><td>7.49               </td><td>7.49               </td><td>1                  </td><td>0                  </td><td>0                  </td><td>0                  </td><td>0.3002571          </td><td>1.429096           </td></tr>\n",
       "\t<tr><td>289157             </td><td>146726             </td><td>10304              </td><td>0                  </td><td>2156-06-23 22:26:00</td><td>2156-06-30 17:26:00</td><td>1                  </td><td>45.91093           </td><td>1                  </td><td>2156-06-25 08:00:00</td><td>⋯                  </td><td>1                  </td><td>7.44               </td><td>7.44               </td><td>7.44               </td><td>1                  </td><td>0                  </td><td>1                  </td><td>0                  </td><td>0.6991412          </td><td>1.430326           </td></tr>\n",
       "\t<tr><td>211964             </td><td>160170             </td><td>94534              </td><td>0                  </td><td>2160-03-05 22:23:19</td><td>2160-03-07 06:48:41</td><td>1                  </td><td>59.38693           </td><td>1                  </td><td>NA                 </td><td>⋯                  </td><td>0                  </td><td>  NA               </td><td>  NA               </td><td>  NA               </td><td>NA                 </td><td>0                  </td><td>0                  </td><td>0                  </td><td>0.3432285          </td><td>1.522600           </td></tr>\n",
       "\t<tr><td>230173             </td><td>112553             </td><td>31544              </td><td>0                  </td><td>2140-01-31 04:39:25</td><td>2140-02-03 02:41:39</td><td>1                  </td><td>91.50000           </td><td>1                  </td><td>NA                 </td><td>⋯                  </td><td>0                  </td><td>  NA               </td><td>  NA               </td><td>  NA               </td><td>NA                 </td><td>0                  </td><td>0                  </td><td>1                  </td><td>0.2464983          </td><td>1.327137           </td></tr>\n",
       "</tbody>\n",
       "</table>\n"
      ],
      "text/latex": [
       "\\begin{tabular}{r|lllllllllllllllllllllllllllllllllllllllllllllllllllllllllllllllllllllllllllllllllllllllllllllllllllllllllllllllllllllllllllllllllll}\n",
       " icustay\\_id & hadm\\_id & subject\\_id & first\\_careunit & intime & outtime & angus & age & icu\\_order & echo\\_time & ⋯ & lab\\_ph\\_flag & lab\\_ph\\_first & lab\\_ph\\_min & lab\\_ph\\_max & lab\\_ph\\_abnormal & sedative & echo\\_int & mort\\_28\\_day\\_int & ps & ps\\_weight\\\\\n",
       "\\hline\n",
       "\t 201220              & 125078              & 66690               & 0                   & 2106-04-27 09:47:50 & 2106-05-01 19:25:46 & 1                   & 62.67646            & 1                   & NA                  & ⋯                   & 1                   & 7.45                & 7.42                & 7.45                & 1                   & 1                   & 0                   & 1                   & 0.4544669           & 1.833069           \\\\\n",
       "\t 215842              & 151232              & 11663               & 0                   & 2188-02-14 09:48:15 & 2188-02-16 03:02:48 & 1                   & 86.76186            & 1                   & NA                  & ⋯                   & 0                   &   NA                &   NA                &   NA                & NA                  & 0                   & 0                   & 0                   & 0.1568838           & 1.186076           \\\\\n",
       "\t 234312              & 164444              & 86645               & 1                   & 2165-06-22 09:47:16 & 2165-07-07 21:55:20 & 1                   & 56.08904            & 1                   & NA                  & ⋯                   & 1                   & 7.49                & 7.49                & 7.49                & 1                   & 0                   & 0                   & 0                   & 0.3002571           & 1.429096           \\\\\n",
       "\t 289157              & 146726              & 10304               & 0                   & 2156-06-23 22:26:00 & 2156-06-30 17:26:00 & 1                   & 45.91093            & 1                   & 2156-06-25 08:00:00 & ⋯                   & 1                   & 7.44                & 7.44                & 7.44                & 1                   & 0                   & 1                   & 0                   & 0.6991412           & 1.430326           \\\\\n",
       "\t 211964              & 160170              & 94534               & 0                   & 2160-03-05 22:23:19 & 2160-03-07 06:48:41 & 1                   & 59.38693            & 1                   & NA                  & ⋯                   & 0                   &   NA                &   NA                &   NA                & NA                  & 0                   & 0                   & 0                   & 0.3432285           & 1.522600           \\\\\n",
       "\t 230173              & 112553              & 31544               & 0                   & 2140-01-31 04:39:25 & 2140-02-03 02:41:39 & 1                   & 91.50000            & 1                   & NA                  & ⋯                   & 0                   &   NA                &   NA                &   NA                & NA                  & 0                   & 0                   & 1                   & 0.2464983           & 1.327137           \\\\\n",
       "\\end{tabular}\n"
      ],
      "text/markdown": [
       "\n",
       "icustay_id | hadm_id | subject_id | first_careunit | intime | outtime | angus | age | icu_order | echo_time | ⋯ | lab_ph_flag | lab_ph_first | lab_ph_min | lab_ph_max | lab_ph_abnormal | sedative | echo_int | mort_28_day_int | ps | ps_weight | \n",
       "|---|---|---|---|---|---|\n",
       "| 201220              | 125078              | 66690               | 0                   | 2106-04-27 09:47:50 | 2106-05-01 19:25:46 | 1                   | 62.67646            | 1                   | NA                  | ⋯                   | 1                   | 7.45                | 7.42                | 7.45                | 1                   | 1                   | 0                   | 1                   | 0.4544669           | 1.833069            | \n",
       "| 215842              | 151232              | 11663               | 0                   | 2188-02-14 09:48:15 | 2188-02-16 03:02:48 | 1                   | 86.76186            | 1                   | NA                  | ⋯                   | 0                   |   NA                |   NA                |   NA                | NA                  | 0                   | 0                   | 0                   | 0.1568838           | 1.186076            | \n",
       "| 234312              | 164444              | 86645               | 1                   | 2165-06-22 09:47:16 | 2165-07-07 21:55:20 | 1                   | 56.08904            | 1                   | NA                  | ⋯                   | 1                   | 7.49                | 7.49                | 7.49                | 1                   | 0                   | 0                   | 0                   | 0.3002571           | 1.429096            | \n",
       "| 289157              | 146726              | 10304               | 0                   | 2156-06-23 22:26:00 | 2156-06-30 17:26:00 | 1                   | 45.91093            | 1                   | 2156-06-25 08:00:00 | ⋯                   | 1                   | 7.44                | 7.44                | 7.44                | 1                   | 0                   | 1                   | 0                   | 0.6991412           | 1.430326            | \n",
       "| 211964              | 160170              | 94534               | 0                   | 2160-03-05 22:23:19 | 2160-03-07 06:48:41 | 1                   | 59.38693            | 1                   | NA                  | ⋯                   | 0                   |   NA                |   NA                |   NA                | NA                  | 0                   | 0                   | 0                   | 0.3432285           | 1.522600            | \n",
       "| 230173              | 112553              | 31544               | 0                   | 2140-01-31 04:39:25 | 2140-02-03 02:41:39 | 1                   | 91.50000            | 1                   | NA                  | ⋯                   | 0                   |   NA                |   NA                |   NA                | NA                  | 0                   | 0                   | 1                   | 0.2464983           | 1.327137            | \n",
       "\n",
       "\n"
      ],
      "text/plain": [
       "  icustay_id hadm_id subject_id first_careunit intime             \n",
       "1 201220     125078  66690      0              2106-04-27 09:47:50\n",
       "2 215842     151232  11663      0              2188-02-14 09:48:15\n",
       "3 234312     164444  86645      1              2165-06-22 09:47:16\n",
       "4 289157     146726  10304      0              2156-06-23 22:26:00\n",
       "5 211964     160170  94534      0              2160-03-05 22:23:19\n",
       "6 230173     112553  31544      0              2140-01-31 04:39:25\n",
       "  outtime             angus age      icu_order echo_time           ⋯\n",
       "1 2106-05-01 19:25:46 1     62.67646 1         <NA>                ⋯\n",
       "2 2188-02-16 03:02:48 1     86.76186 1         <NA>                ⋯\n",
       "3 2165-07-07 21:55:20 1     56.08904 1         <NA>                ⋯\n",
       "4 2156-06-30 17:26:00 1     45.91093 1         2156-06-25 08:00:00 ⋯\n",
       "5 2160-03-07 06:48:41 1     59.38693 1         <NA>                ⋯\n",
       "6 2140-02-03 02:41:39 1     91.50000 1         <NA>                ⋯\n",
       "  lab_ph_flag lab_ph_first lab_ph_min lab_ph_max lab_ph_abnormal sedative\n",
       "1 1           7.45         7.42       7.45       1               1       \n",
       "2 0             NA           NA         NA       NA              0       \n",
       "3 1           7.49         7.49       7.49       1               0       \n",
       "4 1           7.44         7.44       7.44       1               0       \n",
       "5 0             NA           NA         NA       NA              0       \n",
       "6 0             NA           NA         NA       NA              0       \n",
       "  echo_int mort_28_day_int ps        ps_weight\n",
       "1 0        1               0.4544669 1.833069 \n",
       "2 0        0               0.1568838 1.186076 \n",
       "3 0        0               0.3002571 1.429096 \n",
       "4 1        0               0.6991412 1.430326 \n",
       "5 0        0               0.3432285 1.522600 \n",
       "6 0        1               0.2464983 1.327137 "
      ]
     },
     "metadata": {},
     "output_type": "display_data"
    }
   ],
   "source": [
    "full_data <- readRDS(file.path(data_dir, \"full_data_ps.rds\"))\n",
    "head(full_data)"
   ]
  },
  {
   "cell_type": "code",
   "execution_count": 9,
   "metadata": {},
   "outputs": [
    {
     "data": {
      "text/html": [
       "<table>\n",
       "<thead><tr><th scope=col>hadm_id</th><th scope=col>icustay_id</th><th scope=col>echo</th><th scope=col>norepinephrine_max</th><th scope=col>dobutamine_flag</th><th scope=col>vasofreeday28</th><th scope=col>ventfreeday28</th><th scope=col>lactate_reduction</th><th scope=col>creatinine_reduction</th><th scope=col>sofa</th><th scope=col>⋯</th><th scope=col>sofa_drop_3</th><th scope=col>day1</th><th scope=col>day2</th><th scope=col>day3</th><th scope=col>down2</th><th scope=col>down3</th><th scope=col>creatinine_diff</th><th scope=col>lactate_diff</th><th scope=col>ps_weight</th><th scope=col>ps</th></tr></thead>\n",
       "<tbody>\n",
       "\t<tr><td>159895   </td><td>228416   </td><td>1        </td><td>0.000000 </td><td>0        </td><td>28.00000 </td><td> 7.581632</td><td>0.0      </td><td>1.3      </td><td>3        </td><td>⋯        </td><td>0        </td><td>-2110.000</td><td>-1930.000</td><td>-1475.000</td><td>-180.000 </td><td>-635.000 </td><td> NA      </td><td>NA       </td><td>1.800733 </td><td>0.5553295</td></tr>\n",
       "\t<tr><td>169700   </td><td>278148   </td><td>0        </td><td>0.000000 </td><td>0        </td><td> 0.00000 </td><td> 0.000000</td><td> NA      </td><td>0.1      </td><td>8        </td><td>⋯        </td><td>8        </td><td>       NA</td><td>       NA</td><td>       NA</td><td>      NA </td><td>      NA </td><td> NA      </td><td>NA       </td><td>1.443761 </td><td>0.3073646</td></tr>\n",
       "\t<tr><td>103722   </td><td>274174   </td><td>1        </td><td>0.000000 </td><td>0        </td><td>28.00000 </td><td>28.000000</td><td>0.0      </td><td>2.0      </td><td>5        </td><td>⋯        </td><td>2        </td><td> -300.000</td><td>-1827.000</td><td>  -10.000</td><td>1527.000 </td><td>-290.000 </td><td> NA      </td><td>NA       </td><td>3.262187 </td><td>0.3065429</td></tr>\n",
       "\t<tr><td>170515   </td><td>214954   </td><td>1        </td><td>7.977352 </td><td>0        </td><td>26.04167 </td><td>24.854167</td><td>1.8      </td><td>0.4      </td><td>8        </td><td>⋯        </td><td>5        </td><td> 4299.590</td><td> 2899.645</td><td>-1283.263</td><td>1399.945 </td><td>5582.853 </td><td>0.5      </td><td>NA       </td><td>1.240880 </td><td>0.8058798</td></tr>\n",
       "\t<tr><td>183493   </td><td>222457   </td><td>0        </td><td>0.000000 </td><td>0        </td><td>28.00000 </td><td>28.000000</td><td> NA      </td><td>0.1      </td><td>1        </td><td>⋯        </td><td>1        </td><td> 5988.072</td><td> 2102.761</td><td>       NA</td><td>3885.311 </td><td>      NA </td><td> NA      </td><td>NA       </td><td>1.270479 </td><td>0.2128954</td></tr>\n",
       "\t<tr><td>134244   </td><td>264413   </td><td>1        </td><td>2.748114 </td><td>0        </td><td>27.37778 </td><td>24.250000</td><td>0.5      </td><td>0.1      </td><td>4        </td><td>⋯        </td><td>3        </td><td> 1507.392</td><td>-1400.000</td><td>       NA</td><td>2907.392 </td><td>      NA </td><td> NA      </td><td>NA       </td><td>3.148667 </td><td>0.3175947</td></tr>\n",
       "</tbody>\n",
       "</table>\n"
      ],
      "text/latex": [
       "\\begin{tabular}{r|lllllllllllllllllllll}\n",
       " hadm\\_id & icustay\\_id & echo & norepinephrine\\_max & dobutamine\\_flag & vasofreeday28 & ventfreeday28 & lactate\\_reduction & creatinine\\_reduction & sofa & ⋯ & sofa\\_drop\\_3 & day1 & day2 & day3 & down2 & down3 & creatinine\\_diff & lactate\\_diff & ps\\_weight & ps\\\\\n",
       "\\hline\n",
       "\t 159895    & 228416    & 1         & 0.000000  & 0         & 28.00000  &  7.581632 & 0.0       & 1.3       & 3         & ⋯         & 0         & -2110.000 & -1930.000 & -1475.000 & -180.000  & -635.000  &  NA       & NA        & 1.800733  & 0.5553295\\\\\n",
       "\t 169700    & 278148    & 0         & 0.000000  & 0         &  0.00000  &  0.000000 &  NA       & 0.1       & 8         & ⋯         & 8         &        NA &        NA &        NA &       NA  &       NA  &  NA       & NA        & 1.443761  & 0.3073646\\\\\n",
       "\t 103722    & 274174    & 1         & 0.000000  & 0         & 28.00000  & 28.000000 & 0.0       & 2.0       & 5         & ⋯         & 2         &  -300.000 & -1827.000 &   -10.000 & 1527.000  & -290.000  &  NA       & NA        & 3.262187  & 0.3065429\\\\\n",
       "\t 170515    & 214954    & 1         & 7.977352  & 0         & 26.04167  & 24.854167 & 1.8       & 0.4       & 8         & ⋯         & 5         &  4299.590 &  2899.645 & -1283.263 & 1399.945  & 5582.853  & 0.5       & NA        & 1.240880  & 0.8058798\\\\\n",
       "\t 183493    & 222457    & 0         & 0.000000  & 0         & 28.00000  & 28.000000 &  NA       & 0.1       & 1         & ⋯         & 1         &  5988.072 &  2102.761 &        NA & 3885.311  &       NA  &  NA       & NA        & 1.270479  & 0.2128954\\\\\n",
       "\t 134244    & 264413    & 1         & 2.748114  & 0         & 27.37778  & 24.250000 & 0.5       & 0.1       & 4         & ⋯         & 3         &  1507.392 & -1400.000 &        NA & 2907.392  &       NA  &  NA       & NA        & 3.148667  & 0.3175947\\\\\n",
       "\\end{tabular}\n"
      ],
      "text/markdown": [
       "\n",
       "hadm_id | icustay_id | echo | norepinephrine_max | dobutamine_flag | vasofreeday28 | ventfreeday28 | lactate_reduction | creatinine_reduction | sofa | ⋯ | sofa_drop_3 | day1 | day2 | day3 | down2 | down3 | creatinine_diff | lactate_diff | ps_weight | ps | \n",
       "|---|---|---|---|---|---|\n",
       "| 159895    | 228416    | 1         | 0.000000  | 0         | 28.00000  |  7.581632 | 0.0       | 1.3       | 3         | ⋯         | 0         | -2110.000 | -1930.000 | -1475.000 | -180.000  | -635.000  |  NA       | NA        | 1.800733  | 0.5553295 | \n",
       "| 169700    | 278148    | 0         | 0.000000  | 0         |  0.00000  |  0.000000 |  NA       | 0.1       | 8         | ⋯         | 8         |        NA |        NA |        NA |       NA  |       NA  |  NA       | NA        | 1.443761  | 0.3073646 | \n",
       "| 103722    | 274174    | 1         | 0.000000  | 0         | 28.00000  | 28.000000 | 0.0       | 2.0       | 5         | ⋯         | 2         |  -300.000 | -1827.000 |   -10.000 | 1527.000  | -290.000  |  NA       | NA        | 3.262187  | 0.3065429 | \n",
       "| 170515    | 214954    | 1         | 7.977352  | 0         | 26.04167  | 24.854167 | 1.8       | 0.4       | 8         | ⋯         | 5         |  4299.590 |  2899.645 | -1283.263 | 1399.945  | 5582.853  | 0.5       | NA        | 1.240880  | 0.8058798 | \n",
       "| 183493    | 222457    | 0         | 0.000000  | 0         | 28.00000  | 28.000000 |  NA       | 0.1       | 1         | ⋯         | 1         |  5988.072 |  2102.761 |        NA | 3885.311  |       NA  |  NA       | NA        | 1.270479  | 0.2128954 | \n",
       "| 134244    | 264413    | 1         | 2.748114  | 0         | 27.37778  | 24.250000 | 0.5       | 0.1       | 4         | ⋯         | 3         |  1507.392 | -1400.000 |        NA | 2907.392  |       NA  |  NA       | NA        | 3.148667  | 0.3175947 | \n",
       "\n",
       "\n"
      ],
      "text/plain": [
       "  hadm_id icustay_id echo norepinephrine_max dobutamine_flag vasofreeday28\n",
       "1 159895  228416     1    0.000000           0               28.00000     \n",
       "2 169700  278148     0    0.000000           0                0.00000     \n",
       "3 103722  274174     1    0.000000           0               28.00000     \n",
       "4 170515  214954     1    7.977352           0               26.04167     \n",
       "5 183493  222457     0    0.000000           0               28.00000     \n",
       "6 134244  264413     1    2.748114           0               27.37778     \n",
       "  ventfreeday28 lactate_reduction creatinine_reduction sofa ⋯ sofa_drop_3\n",
       "1  7.581632     0.0               1.3                  3    ⋯ 0          \n",
       "2  0.000000      NA               0.1                  8    ⋯ 8          \n",
       "3 28.000000     0.0               2.0                  5    ⋯ 2          \n",
       "4 24.854167     1.8               0.4                  8    ⋯ 5          \n",
       "5 28.000000      NA               0.1                  1    ⋯ 1          \n",
       "6 24.250000     0.5               0.1                  4    ⋯ 3          \n",
       "  day1      day2      day3      down2    down3    creatinine_diff lactate_diff\n",
       "1 -2110.000 -1930.000 -1475.000 -180.000 -635.000  NA             NA          \n",
       "2        NA        NA        NA       NA       NA  NA             NA          \n",
       "3  -300.000 -1827.000   -10.000 1527.000 -290.000  NA             NA          \n",
       "4  4299.590  2899.645 -1283.263 1399.945 5582.853 0.5             NA          \n",
       "5  5988.072  2102.761        NA 3885.311       NA  NA             NA          \n",
       "6  1507.392 -1400.000        NA 2907.392       NA  NA             NA          \n",
       "  ps_weight ps       \n",
       "1 1.800733  0.5553295\n",
       "2 1.443761  0.3073646\n",
       "3 3.262187  0.3065429\n",
       "4 1.240880  0.8058798\n",
       "5 1.270479  0.2128954\n",
       "6 3.148667  0.3175947"
      ]
     },
     "metadata": {},
     "output_type": "display_data"
    }
   ],
   "source": [
    "subgroup <- subgroup %>%\n",
    "left_join(full_data %>% select(icustay_id, ps_weight, ps), by = \"icustay_id\") %>%\n",
    "mutate(dobutamine_flag = as.factor(dobutamine_flag))\n",
    "head(subgroup)"
   ]
  },
  {
   "cell_type": "code",
   "execution_count": 10,
   "metadata": {},
   "outputs": [
    {
     "data": {
      "text/html": [
       "<ol class=list-inline>\n",
       "\t<li>'ventfreeday28'</li>\n",
       "\t<li>'vasofreeday28'</li>\n",
       "\t<li>'dobutamine_flag'</li>\n",
       "\t<li>'day1'</li>\n",
       "\t<li>'day2'</li>\n",
       "\t<li>'day3'</li>\n",
       "\t<li>'sofa_drop_2'</li>\n",
       "\t<li>'sofa_drop_3'</li>\n",
       "\t<li>'norepinephrine_max'</li>\n",
       "\t<li>'lactate_diff'</li>\n",
       "\t<li>'creatinine_diff'</li>\n",
       "</ol>\n"
      ],
      "text/latex": [
       "\\begin{enumerate*}\n",
       "\\item 'ventfreeday28'\n",
       "\\item 'vasofreeday28'\n",
       "\\item 'dobutamine\\_flag'\n",
       "\\item 'day1'\n",
       "\\item 'day2'\n",
       "\\item 'day3'\n",
       "\\item 'sofa\\_drop\\_2'\n",
       "\\item 'sofa\\_drop\\_3'\n",
       "\\item 'norepinephrine\\_max'\n",
       "\\item 'lactate\\_diff'\n",
       "\\item 'creatinine\\_diff'\n",
       "\\end{enumerate*}\n"
      ],
      "text/markdown": [
       "1. 'ventfreeday28'\n",
       "2. 'vasofreeday28'\n",
       "3. 'dobutamine_flag'\n",
       "4. 'day1'\n",
       "5. 'day2'\n",
       "6. 'day3'\n",
       "7. 'sofa_drop_2'\n",
       "8. 'sofa_drop_3'\n",
       "9. 'norepinephrine_max'\n",
       "10. 'lactate_diff'\n",
       "11. 'creatinine_diff'\n",
       "\n",
       "\n"
      ],
      "text/plain": [
       " [1] \"ventfreeday28\"      \"vasofreeday28\"      \"dobutamine_flag\"   \n",
       " [4] \"day1\"               \"day2\"               \"day3\"              \n",
       " [7] \"sofa_drop_2\"        \"sofa_drop_3\"        \"norepinephrine_max\"\n",
       "[10] \"lactate_diff\"       \"creatinine_diff\"   "
      ]
     },
     "metadata": {},
     "output_type": "display_data"
    }
   ],
   "source": [
    "# features <- names(subgroup) %>%\n",
    "#     discard(~ .x %in% c(\"hadm_id\", \"icustay_id\", \"echo\"))\n",
    "features <- c(\"ventfreeday28\", \"vasofreeday28\", \"dobutamine_flag\", \"day1\", \"day2\", \"day3\",\n",
    "              \"sofa_drop_2\", \"sofa_drop_3\",\n",
    "              \"norepinephrine_max\", \"lactate_diff\", \"creatinine_diff\")\n",
    "features"
   ]
  },
  {
   "cell_type": "code",
   "execution_count": 11,
   "metadata": {},
   "outputs": [
    {
     "data": {
      "text/html": [
       "'dobutamine_flag'"
      ],
      "text/latex": [
       "'dobutamine\\_flag'"
      ],
      "text/markdown": [
       "'dobutamine_flag'"
      ],
      "text/plain": [
       "[1] \"dobutamine_flag\""
      ]
     },
     "metadata": {},
     "output_type": "display_data"
    }
   ],
   "source": [
    "factor_vars <- \"dobutamine_flag\"\n",
    "factor_vars"
   ]
  },
  {
   "cell_type": "code",
   "execution_count": 12,
   "metadata": {},
   "outputs": [
    {
     "data": {
      "text/plain": [
       "                                Stratified by echo\n",
       "                                 0                 1                 p     \n",
       "  n                                 3099              3063                 \n",
       "  ventfreeday28 (mean (sd))        19.09 (13.53)     18.08 (24.22)    0.043\n",
       "  vasofreeday28 (mean (sd))        20.25 (12.61)     20.30 (14.83)    0.888\n",
       "  dobutamine_flag = 1 (%)             23 (0.7)         126 (4.1)     <0.001\n",
       "  day1 (mean (sd))               1939.14 (3181.88) 2527.35 (3891.01) <0.001\n",
       "  day2 (mean (sd))                835.26 (2429.91) 1294.66 (2964.32) <0.001\n",
       "  day3 (mean (sd))                256.15 (2108.02)  687.19 (2623.07) <0.001\n",
       "  sofa_drop_2 (mean (sd))           1.22 (4.34)       0.89 (3.43)     0.001\n",
       "  sofa_drop_3 (mean (sd))           2.29 (4.49)       1.54 (4.09)    <0.001\n",
       "  norepinephrine_max (mean (sd))    0.81 (2.39)       1.76 (5.77)    <0.001\n",
       "  lactate_diff (mean (sd))          0.54 (2.44)       1.24 (2.50)     0.003\n",
       "  creatinine_diff (mean (sd))       0.11 (0.80)       0.17 (1.17)     0.272\n",
       "                                Stratified by echo\n",
       "                                 test\n",
       "  n                                  \n",
       "  ventfreeday28 (mean (sd))          \n",
       "  vasofreeday28 (mean (sd))          \n",
       "  dobutamine_flag = 1 (%)            \n",
       "  day1 (mean (sd))                   \n",
       "  day2 (mean (sd))                   \n",
       "  day3 (mean (sd))                   \n",
       "  sofa_drop_2 (mean (sd))            \n",
       "  sofa_drop_3 (mean (sd))            \n",
       "  norepinephrine_max (mean (sd))     \n",
       "  lactate_diff (mean (sd))           \n",
       "  creatinine_diff (mean (sd))        "
      ]
     },
     "metadata": {},
     "output_type": "display_data"
    }
   ],
   "source": [
    "tab <- CreateTableOne(vars = features, strata = \"echo\",\n",
    "                      factorVars = \"dobutamine_flag\",\n",
    "                      data = subgroup, test = TRUE, testNormal = oneway.test)\n",
    "tab"
   ]
  },
  {
   "cell_type": "code",
   "execution_count": 13,
   "metadata": {},
   "outputs": [
    {
     "data": {
      "text/html": [
       "<table>\n",
       "<thead><tr><th scope=col>Covariate</th><th scope=col>Echo</th><th scope=col>Non-Echo</th><th scope=col>p value</th><th scope=col>Echo (weighted cohort)</th><th scope=col>Non-Echo (weighted cohort)</th><th scope=col>p value (weighted cohort)</th></tr></thead>\n",
       "<tbody>\n",
       "\t<tr><td>ventfreeday28     </td><td>18.08 (24.22)     </td><td>19.09 (13.53)     </td><td>0.044             </td><td>18.37 (23.79)     </td><td>18.43 (13.38)     </td><td>0.901             </td></tr>\n",
       "\t<tr><td>vasofreeday28     </td><td>20.30 (14.83)     </td><td>20.25 (12.61)     </td><td>0.888             </td><td>20.45 (14.70)     </td><td>19.67 (12.80)     </td><td>0.026             </td></tr>\n",
       "\t<tr><td><span style=white-space:pre-wrap>dobutamine_flag   </span></td><td><span style=white-space:pre-wrap>4.11%            </span> </td><td><span style=white-space:pre-wrap>0.74%            </span> </td><td>&lt;0.001                                                 </td><td><span style=white-space:pre-wrap>3.18%            </span> </td><td><span style=white-space:pre-wrap>1.10%            </span> </td><td>&lt;0.001                                                 </td></tr>\n",
       "\t<tr><td><span style=white-space:pre-wrap>day1              </span></td><td>2527.35 (3891.01)                                         </td><td>1939.14 (3181.88)                                         </td><td>&lt;0.001                                                 </td><td>2379.64 (3751.78)                                         </td><td>2032.59 (3267.94)                                         </td><td>&lt;0.001                                                 </td></tr>\n",
       "\t<tr><td><span style=white-space:pre-wrap>day2              </span></td><td>1294.66 (2964.32)                                         </td><td>835.26 (2429.91)                                          </td><td>&lt;0.001                                                 </td><td>1266.24 (2877.40)                                         </td><td>899.16 (2491.55)                                          </td><td>&lt;0.001                                                 </td></tr>\n",
       "\t<tr><td><span style=white-space:pre-wrap>day3              </span></td><td>687.19 (2623.07)                                          </td><td>256.15 (2108.02)                                          </td><td>&lt;0.001                                                 </td><td>714.09 (2588.89)                                          </td><td>301.67 (2138.92)                                          </td><td>&lt;0.001                                                 </td></tr>\n",
       "\t<tr><td><span style=white-space:pre-wrap>sofa_drop_2       </span></td><td><span style=white-space:pre-wrap>0.89 (3.43)      </span> </td><td><span style=white-space:pre-wrap>1.22 (4.34)      </span> </td><td>&lt;0.001                                                 </td><td><span style=white-space:pre-wrap>0.74 (3.36)      </span> </td><td><span style=white-space:pre-wrap>1.25 (4.49)      </span> </td><td>&lt;0.001                                                 </td></tr>\n",
       "\t<tr><td><span style=white-space:pre-wrap>sofa_drop_3       </span></td><td><span style=white-space:pre-wrap>1.54 (4.09)      </span> </td><td><span style=white-space:pre-wrap>2.29 (4.49)      </span> </td><td>&lt;0.001                                                 </td><td><span style=white-space:pre-wrap>1.35 (3.99)      </span> </td><td><span style=white-space:pre-wrap>2.38 (4.59)      </span> </td><td>&lt;0.001                                                 </td></tr>\n",
       "\t<tr><td>norepinephrine_max                                       </td><td><span style=white-space:pre-wrap>1.76 (5.77)      </span></td><td><span style=white-space:pre-wrap>0.81 (2.39)      </span></td><td>&lt;0.001                                                </td><td><span style=white-space:pre-wrap>1.55 (5.21)      </span></td><td><span style=white-space:pre-wrap>0.96 (2.56)      </span></td><td>&lt;0.001                                                </td></tr>\n",
       "\t<tr><td>lactate_diff      </td><td>1.24 (2.50)       </td><td>0.54 (2.44)       </td><td>0.003             </td><td>1.17 (2.31)       </td><td>0.55 (2.51)       </td><td>0.008             </td></tr>\n",
       "\t<tr><td>creatinine_diff   </td><td>0.17 (1.17)       </td><td>0.11 (0.80)       </td><td>0.382             </td><td>0.22 (1.10)       </td><td>0.09 (0.86)       </td><td>0.066             </td></tr>\n",
       "</tbody>\n",
       "</table>\n"
      ],
      "text/latex": [
       "\\begin{tabular}{r|lllllll}\n",
       " Covariate & Echo & Non-Echo & p value & Echo (weighted cohort) & Non-Echo (weighted cohort) & p value (weighted cohort)\\\\\n",
       "\\hline\n",
       "\t ventfreeday28      & 18.08 (24.22)      & 19.09 (13.53)      & 0.044              & 18.37 (23.79)      & 18.43 (13.38)      & 0.901             \\\\\n",
       "\t vasofreeday28      & 20.30 (14.83)      & 20.25 (12.61)      & 0.888              & 20.45 (14.70)      & 19.67 (12.80)      & 0.026             \\\\\n",
       "\t dobutamine\\_flag    & 4.11\\%              & 0.74\\%              & <0.001               & 3.18\\%              & 1.10\\%              & <0.001              \\\\\n",
       "\t day1               & 2527.35 (3891.01)  & 1939.14 (3181.88)  & <0.001             & 2379.64 (3751.78)  & 2032.59 (3267.94)  & <0.001            \\\\\n",
       "\t day2               & 1294.66 (2964.32)  & 835.26 (2429.91)   & <0.001             & 1266.24 (2877.40)  & 899.16 (2491.55)   & <0.001            \\\\\n",
       "\t day3               & 687.19 (2623.07)   & 256.15 (2108.02)   & <0.001             & 714.09 (2588.89)   & 301.67 (2138.92)   & <0.001            \\\\\n",
       "\t sofa\\_drop\\_2        & 0.89 (3.43)            & 1.22 (4.34)            & <0.001                 & 0.74 (3.36)            & 1.25 (4.49)            & <0.001                \\\\\n",
       "\t sofa\\_drop\\_3        & 1.54 (4.09)            & 2.29 (4.49)            & <0.001                 & 1.35 (3.99)            & 2.38 (4.59)            & <0.001                \\\\\n",
       "\t norepinephrine\\_max & 1.76 (5.77)          & 0.81 (2.39)          & <0.001               & 1.55 (5.21)          & 0.96 (2.56)          & <0.001              \\\\\n",
       "\t lactate\\_diff       & 1.24 (2.50)          & 0.54 (2.44)          & 0.003                & 1.17 (2.31)          & 0.55 (2.51)          & 0.008               \\\\\n",
       "\t creatinine\\_diff    & 0.17 (1.17)          & 0.11 (0.80)          & 0.382                & 0.22 (1.10)          & 0.09 (0.86)          & 0.066               \\\\\n",
       "\\end{tabular}\n"
      ],
      "text/markdown": [
       "\n",
       "Covariate | Echo | Non-Echo | p value | Echo (weighted cohort) | Non-Echo (weighted cohort) | p value (weighted cohort) | \n",
       "|---|---|---|---|---|---|---|---|---|---|---|\n",
       "| ventfreeday28      | 18.08 (24.22)      | 19.09 (13.53)      | 0.044              | 18.37 (23.79)      | 18.43 (13.38)      | 0.901              | \n",
       "| vasofreeday28      | 20.30 (14.83)      | 20.25 (12.61)      | 0.888              | 20.45 (14.70)      | 19.67 (12.80)      | 0.026              | \n",
       "| dobutamine_flag    | 4.11%              | 0.74%              | <0.001             | 3.18%              | 1.10%              | <0.001             | \n",
       "| day1               | 2527.35 (3891.01)  | 1939.14 (3181.88)  | <0.001             | 2379.64 (3751.78)  | 2032.59 (3267.94)  | <0.001             | \n",
       "| day2               | 1294.66 (2964.32)  | 835.26 (2429.91)   | <0.001             | 1266.24 (2877.40)  | 899.16 (2491.55)   | <0.001             | \n",
       "| day3               | 687.19 (2623.07)   | 256.15 (2108.02)   | <0.001             | 714.09 (2588.89)   | 301.67 (2138.92)   | <0.001             | \n",
       "| sofa_drop_2        | 0.89 (3.43)        | 1.22 (4.34)        | <0.001             | 0.74 (3.36)        | 1.25 (4.49)        | <0.001             | \n",
       "| sofa_drop_3        | 1.54 (4.09)        | 2.29 (4.49)        | <0.001             | 1.35 (3.99)        | 2.38 (4.59)        | <0.001             | \n",
       "| norepinephrine_max | 1.76 (5.77)        | 0.81 (2.39)        | <0.001             | 1.55 (5.21)        | 0.96 (2.56)        | <0.001             | \n",
       "| lactate_diff       | 1.24 (2.50)        | 0.54 (2.44)        | 0.003              | 1.17 (2.31)        | 0.55 (2.51)        | 0.008              | \n",
       "| creatinine_diff    | 0.17 (1.17)        | 0.11 (0.80)        | 0.382              | 0.22 (1.10)        | 0.09 (0.86)        | 0.066              | \n",
       "\n",
       "\n"
      ],
      "text/plain": [
       "   Covariate          Echo              Non-Echo          p value\n",
       "1  ventfreeday28      18.08 (24.22)     19.09 (13.53)     0.044  \n",
       "2  vasofreeday28      20.30 (14.83)     20.25 (12.61)     0.888  \n",
       "3  dobutamine_flag    4.11%             0.74%             <0.001 \n",
       "4  day1               2527.35 (3891.01) 1939.14 (3181.88) <0.001 \n",
       "5  day2               1294.66 (2964.32) 835.26 (2429.91)  <0.001 \n",
       "6  day3               687.19 (2623.07)  256.15 (2108.02)  <0.001 \n",
       "7  sofa_drop_2        0.89 (3.43)       1.22 (4.34)       <0.001 \n",
       "8  sofa_drop_3        1.54 (4.09)       2.29 (4.49)       <0.001 \n",
       "9  norepinephrine_max 1.76 (5.77)       0.81 (2.39)       <0.001 \n",
       "10 lactate_diff       1.24 (2.50)       0.54 (2.44)       0.003  \n",
       "11 creatinine_diff    0.17 (1.17)       0.11 (0.80)       0.382  \n",
       "   Echo (weighted cohort) Non-Echo (weighted cohort) p value (weighted cohort)\n",
       "1  18.37 (23.79)          18.43 (13.38)              0.901                    \n",
       "2  20.45 (14.70)          19.67 (12.80)              0.026                    \n",
       "3  3.18%                  1.10%                      <0.001                   \n",
       "4  2379.64 (3751.78)      2032.59 (3267.94)          <0.001                   \n",
       "5  1266.24 (2877.40)      899.16 (2491.55)           <0.001                   \n",
       "6  714.09 (2588.89)       301.67 (2138.92)           <0.001                   \n",
       "7  0.74 (3.36)            1.25 (4.49)                <0.001                   \n",
       "8  1.35 (3.99)            2.38 (4.59)                <0.001                   \n",
       "9  1.55 (5.21)            0.96 (2.56)                <0.001                   \n",
       "10 1.17 (2.31)            0.55 (2.51)                0.008                    \n",
       "11 0.22 (1.10)            0.09 (0.86)                0.066                    "
      ]
     },
     "metadata": {},
     "output_type": "display_data"
    }
   ],
   "source": [
    "tbone <- features %>%\n",
    "map(function(var) {\n",
    "    x <- subgroup[[var]]\n",
    "    sym_var <- rlang::sym(var)\n",
    "    if (is.numeric(x)) {\n",
    "        res <- subgroup %>%\n",
    "            group_by(echo) %>%\n",
    "            summarise(main = mean(!!sym_var, na.rm = TRUE),\n",
    "                      sub = sd(!!sym_var, na.rm = TRUE),\n",
    "                      wtd_main = wtd.mean(!!sym_var, ps_weight),\n",
    "                      wtd_sub = sqrt(wtd.var(!!sym_var, ps_weight))) %>%\n",
    "            cbind(\n",
    "                subgroup %>%\n",
    "                { split(.[[var]], .$echo) } %>%\n",
    "                setNames(c(\"x\", \"y\")) %>%\n",
    "                do.call(t.test, .) %>%\n",
    "                .$p.value %>%\n",
    "                data.frame(p_val = .)\n",
    "            ) %>%\n",
    "            cbind(\n",
    "                subgroup %>%\n",
    "                { split(select(., !!sym_var, ps_weight), .$echo) } %>%\n",
    "                setNames(c(\"fst\", \"sec\")) %>%\n",
    "                {\n",
    "                    list(x = { pull(pluck(., \"fst\"), !!sym_var) },\n",
    "                         y = { pull(pluck(., \"sec\"), !!sym_var) },\n",
    "                         weight = { pull(pluck(., \"fst\"), ps_weight) },\n",
    "                         weighty = { pull(pluck(., \"sec\"), ps_weight) },\n",
    "                         samedata = FALSE)\n",
    "                }\n",
    "                %>%\n",
    "                do.call(wtd.t.test, .) %>%\n",
    "                .$coefficients %>%\n",
    "                .[\"p.value\"] %>%\n",
    "                unname %>%\n",
    "                data.frame(wtd_p_val = .)\n",
    "            )\n",
    "    }\n",
    "    \n",
    "    if (is.factor(x)) {\n",
    "        if (length(levels(x)) == 2) {\n",
    "            res <- subgroup %>%\n",
    "                mutate(!!sym_var := as.integer(as.character(!!sym_var))) %>%\n",
    "                group_by(echo) %>%\n",
    "                summarise(main = mean(!!sym_var, na.rm = TRUE) * 100,\n",
    "                          sub = NA,\n",
    "                          wtd_main = wtd.mean(!!sym_var, ps_weight) * 100,\n",
    "                          wtd_sub = NA) %>%\n",
    "                cbind(\n",
    "                    subgroup %>%\n",
    "                    {\n",
    "                        list(x = pull(., !!sym_var),\n",
    "                             y = pull(., echo))\n",
    "                    } %>%\n",
    "                    do.call(chisq.test, .) %>%\n",
    "                    pluck(\"p.value\") %>%\n",
    "                    unname %>%\n",
    "                    data.frame(p_val = .)\n",
    "                ) %>%\n",
    "                cbind(\n",
    "                    subgroup %>%\n",
    "                    {\n",
    "                        list(var1 = pull(., !!sym_var),\n",
    "                             var2 = pull(., echo),\n",
    "                             weight = pull(., ps_weight))\n",
    "                    } %>%\n",
    "                    do.call(wtd.chi.sq, .) %>%\n",
    "                    pluck(\"p.value\") %>%\n",
    "                    unname %>%\n",
    "                    data.frame(wtd_p_val = .)\n",
    "                )\n",
    "        } else return(NULL)\n",
    "    }\n",
    "    \n",
    "    res %>%\n",
    "    gather(\"key\", \"value\", main, sub, wtd_main, wtd_sub) %>%\n",
    "    unite(\"key\", key, echo) %>%\n",
    "    spread(key, value) %>%\n",
    "    mutate(var = var) %>%\n",
    "    return\n",
    "}) %>%\n",
    "discard(is.null) %>%\n",
    "data.table::rbindlist() %>%\n",
    "as.data.frame(stringsAsFactors = FALSE) %>%\n",
    "mutate(raw_0 = ifelse(is.na(sub_0), sprintf(\"%.2f%%\", main_0),\n",
    "                      sprintf(\"%.2f (%.2f)\", main_0, sub_0)),\n",
    "       raw_1 = ifelse(is.na(sub_1), sprintf(\"%.2f%%\", main_1),\n",
    "                      sprintf(\"%.2f (%.2f)\", main_1, sub_1)),\n",
    "       wtd_raw_0 = ifelse(is.na(wtd_sub_0), sprintf(\"%.2f%%\", wtd_main_0),\n",
    "                          sprintf(\"%.2f (%.2f)\", wtd_main_0, wtd_sub_0)),\n",
    "       wtd_raw_1 = ifelse(is.na(wtd_sub_1), sprintf(\"%.2f%%\", wtd_main_1),\n",
    "                          sprintf(\"%.2f (%.2f)\", wtd_main_1, wtd_sub_1)),\n",
    "       p_val = ifelse(p_val < 0.001, \"<0.001\", as.character(round(p_val, 3))),\n",
    "       wtd_p_val = ifelse(wtd_p_val < 0.001, \"<0.001\", as.character(round(wtd_p_val, 3)))) %>%\n",
    "select(var, raw_1, raw_0, p_val, wtd_raw_1, wtd_raw_0, wtd_p_val) %>%\n",
    "setNames(c(\"Covariate\", \"Echo\", \"Non-Echo\", \"p value\",\n",
    "           \"Echo (weighted cohort)\", \"Non-Echo (weighted cohort)\",\n",
    "           \"p value (weighted cohort)\"))\n",
    "\n",
    "tbone"
   ]
  },
  {
   "cell_type": "code",
   "execution_count": 14,
   "metadata": {},
   "outputs": [
    {
     "data": {
      "text/plain": [
       "\n",
       "\tTwo Sample t-test\n",
       "\n",
       "data:  subgroup %>% filter(echo == 0) %>% pull(creatinine_diff) and subgroup %>% filter(echo == 1) %>% pull(creatinine_diff)\n",
       "t = -1.099, df = 1770, p-value = 0.2719\n",
       "alternative hypothesis: true difference in means is not equal to 0\n",
       "95 percent confidence interval:\n",
       " -0.1639749  0.0462049\n",
       "sample estimates:\n",
       "mean of x mean of y \n",
       "0.1114743 0.1703593 \n"
      ]
     },
     "metadata": {},
     "output_type": "display_data"
    }
   ],
   "source": [
    "t.test(subgroup %>% filter(echo == 0) %>% pull(creatinine_diff), var.equal = TRUE,\n",
    "subgroup %>% filter(echo == 1) %>% pull(creatinine_diff))"
   ]
  },
  {
   "cell_type": "code",
   "execution_count": 15,
   "metadata": {},
   "outputs": [
    {
     "name": "stdout",
     "output_type": "stream",
     "text": [
      "                                Stratified by echo\n",
      "                                 0                 1                 p     \n",
      "  n                                 3099              3063                 \n",
      "  ventfreeday28 (mean (sd))        19.09 (13.53)     18.08 (24.22)    0.044\n",
      "  vasofreeday28 (mean (sd))        20.25 (12.61)     20.30 (14.83)    0.888\n",
      "  dobutamine_flag = 1 (%)             23 (0.7)         126 (4.1)     <0.001\n",
      "  day1 (mean (sd))               1939.14 (3181.88) 2527.35 (3891.01) <0.001\n",
      "  day2 (mean (sd))                835.26 (2429.91) 1294.66 (2964.32) <0.001\n",
      "  day3 (mean (sd))                256.15 (2108.02)  687.19 (2623.07) <0.001\n",
      "  sofa_drop_2 (mean (sd))           1.22 (4.34)       0.89 (3.43)     0.001\n",
      "  sofa_drop_3 (mean (sd))           2.29 (4.49)       1.54 (4.09)    <0.001\n",
      "  norepinephrine_max (mean (sd))    0.81 (2.39)       1.76 (5.77)    <0.001\n",
      "  lactate_diff (mean (sd))          0.54 (2.44)       1.24 (2.50)     0.003\n",
      "  creatinine_diff (mean (sd))       0.11 (0.80)       0.17 (1.17)     0.382\n",
      "                                Stratified by echo\n",
      "                                 test SMD   \n",
      "  n                                         \n",
      "  ventfreeday28 (mean (sd))            0.051\n",
      "  vasofreeday28 (mean (sd))            0.004\n",
      "  dobutamine_flag = 1 (%)              0.220\n",
      "  day1 (mean (sd))                     0.165\n",
      "  day2 (mean (sd))                     0.170\n",
      "  day3 (mean (sd))                     0.181\n",
      "  sofa_drop_2 (mean (sd))              0.084\n",
      "  sofa_drop_3 (mean (sd))              0.175\n",
      "  norepinephrine_max (mean (sd))       0.214\n",
      "  lactate_diff (mean (sd))             0.283\n",
      "  creatinine_diff (mean (sd))          0.059\n"
     ]
    }
   ],
   "source": [
    "tabs <- CreateTableOne(vars = features, factorVars = factor_vars, strata = \"echo\", data = subgroup,\n",
    "                       argsNormal = list(var.equal = FALSE))\n",
    "tabs_df <- tabs %>% print(smd = TRUE) %>% as.data.frame(stringsAsFactors = FALSE)"
   ]
  },
  {
   "cell_type": "code",
   "execution_count": 16,
   "metadata": {},
   "outputs": [],
   "source": [
    "tabs_df_fmt <- tabs_df %>%\n",
    "setNames(c(\"control\", \"treated\", \"pval\", \"test\", \"smd\")) %>%\n",
    "mutate(cov = rownames(.)) %>%\n",
    "mutate(cov_name = str_split(cov, \" \") %>% map_chr(first)) %>%\n",
    "mutate(cate = cov_name %in% factor_vars) %>%\n",
    "mutate(ctrl = ifelse(cate,\n",
    "                     str_extract(control, \"\\\\((.*?)\\\\)\") %>% str_replace_all(\"\\\\(|\\\\)\", \"\") %>% sprintf(\"%s%%\", .),\n",
    "                     control)) %>%\n",
    "mutate(trtd = ifelse(cate,\n",
    "                     str_extract(treated, \"\\\\((.*?)\\\\)\") %>% str_replace_all(\"\\\\(|\\\\)\", \"\") %>% sprintf(\"%s%%\", .),\n",
    "                     treated)) %>%\n",
    "# mutate(cov_fmt = str_replace_all(cov_name, \"_\", \" \")) %>%\n",
    "# mutate(cov_fmt = str_replace_all(cov_fmt, \"lab|vs|flag|icd|first\", \"\")) %>%\n",
    "mutate_all(funs(str_replace_all(., \"\\\\s+$|^\\\\s+\", \"\"))) %>%\n",
    "# mutate(cov_fmt = tools::toTitleCase(cov_fmt)) %>%\n",
    "select(cov_name, ctrl, trtd, pval, smd) %>%\n",
    "setNames(c(\"Covariate\", \"Non-Echo\", \"Echo\", \"p value\", \"SMD\"))"
   ]
  },
  {
   "cell_type": "code",
   "execution_count": 17,
   "metadata": {},
   "outputs": [
    {
     "data": {
      "text/html": [
       "<table>\n",
       "<thead><tr><th scope=col>Covariate</th><th scope=col>Non-Echo</th><th scope=col>Echo</th><th scope=col>p value</th><th scope=col>SMD</th></tr></thead>\n",
       "<tbody>\n",
       "\t<tr><td>n                 </td><td>3099              </td><td>3063              </td><td>                  </td><td>                  </td></tr>\n",
       "\t<tr><td>ventfreeday28     </td><td>19.09 (13.53)     </td><td>18.08 (24.22)     </td><td>0.044             </td><td>0.051             </td></tr>\n",
       "\t<tr><td>vasofreeday28     </td><td>20.25 (12.61)     </td><td>20.30 (14.83)     </td><td>0.888             </td><td>0.004             </td></tr>\n",
       "\t<tr><td><span style=white-space:pre-wrap>dobutamine_flag   </span></td><td><span style=white-space:pre-wrap>0.7%             </span> </td><td><span style=white-space:pre-wrap>4.1%             </span> </td><td>&lt;0.001                                                 </td><td>0.220                                                     </td></tr>\n",
       "\t<tr><td><span style=white-space:pre-wrap>day1              </span></td><td>1939.14 (3181.88)                                         </td><td>2527.35 (3891.01)                                         </td><td>&lt;0.001                                                 </td><td>0.165                                                     </td></tr>\n",
       "\t<tr><td><span style=white-space:pre-wrap>day2              </span></td><td>835.26 (2429.91)                                          </td><td>1294.66 (2964.32)                                         </td><td>&lt;0.001                                                 </td><td>0.170                                                     </td></tr>\n",
       "\t<tr><td><span style=white-space:pre-wrap>day3              </span></td><td>256.15 (2108.02)                                          </td><td>687.19 (2623.07)                                          </td><td>&lt;0.001                                                 </td><td>0.181                                                     </td></tr>\n",
       "\t<tr><td>sofa_drop_2       </td><td>1.22 (4.34)       </td><td>0.89 (3.43)       </td><td>0.001             </td><td>0.084             </td></tr>\n",
       "\t<tr><td><span style=white-space:pre-wrap>sofa_drop_3       </span></td><td><span style=white-space:pre-wrap>2.29 (4.49)      </span> </td><td><span style=white-space:pre-wrap>1.54 (4.09)      </span> </td><td>&lt;0.001                                                 </td><td>0.175                                                     </td></tr>\n",
       "\t<tr><td>norepinephrine_max                                       </td><td><span style=white-space:pre-wrap>0.81 (2.39)      </span></td><td><span style=white-space:pre-wrap>1.76 (5.77)      </span></td><td>&lt;0.001                                                </td><td>0.214                                                    </td></tr>\n",
       "\t<tr><td>lactate_diff      </td><td>0.54 (2.44)       </td><td>1.24 (2.50)       </td><td>0.003             </td><td>0.283             </td></tr>\n",
       "\t<tr><td>creatinine_diff   </td><td>0.11 (0.80)       </td><td>0.17 (1.17)       </td><td>0.382             </td><td>0.059             </td></tr>\n",
       "</tbody>\n",
       "</table>\n"
      ],
      "text/latex": [
       "\\begin{tabular}{r|lllll}\n",
       " Covariate & Non-Echo & Echo & p value & SMD\\\\\n",
       "\\hline\n",
       "\t n                  & 3099               & 3063               &                    &                   \\\\\n",
       "\t ventfreeday28      & 19.09 (13.53)      & 18.08 (24.22)      & 0.044              & 0.051             \\\\\n",
       "\t vasofreeday28      & 20.25 (12.61)      & 20.30 (14.83)      & 0.888              & 0.004             \\\\\n",
       "\t dobutamine\\_flag    & 0.7\\%               & 4.1\\%               & <0.001               & 0.220               \\\\\n",
       "\t day1               & 1939.14 (3181.88)  & 2527.35 (3891.01)  & <0.001             & 0.165             \\\\\n",
       "\t day2               & 835.26 (2429.91)   & 1294.66 (2964.32)  & <0.001             & 0.170             \\\\\n",
       "\t day3               & 256.15 (2108.02)   & 687.19 (2623.07)   & <0.001             & 0.181             \\\\\n",
       "\t sofa\\_drop\\_2        & 1.22 (4.34)            & 0.89 (3.43)            & 0.001                  & 0.084                 \\\\\n",
       "\t sofa\\_drop\\_3        & 2.29 (4.49)            & 1.54 (4.09)            & <0.001                 & 0.175                 \\\\\n",
       "\t norepinephrine\\_max & 0.81 (2.39)          & 1.76 (5.77)          & <0.001               & 0.214               \\\\\n",
       "\t lactate\\_diff       & 0.54 (2.44)          & 1.24 (2.50)          & 0.003                & 0.283               \\\\\n",
       "\t creatinine\\_diff    & 0.11 (0.80)          & 0.17 (1.17)          & 0.382                & 0.059               \\\\\n",
       "\\end{tabular}\n"
      ],
      "text/markdown": [
       "\n",
       "Covariate | Non-Echo | Echo | p value | SMD | \n",
       "|---|---|---|---|---|---|---|---|---|---|---|---|\n",
       "| n                  | 3099               | 3063               |                    |                    | \n",
       "| ventfreeday28      | 19.09 (13.53)      | 18.08 (24.22)      | 0.044              | 0.051              | \n",
       "| vasofreeday28      | 20.25 (12.61)      | 20.30 (14.83)      | 0.888              | 0.004              | \n",
       "| dobutamine_flag    | 0.7%               | 4.1%               | <0.001             | 0.220              | \n",
       "| day1               | 1939.14 (3181.88)  | 2527.35 (3891.01)  | <0.001             | 0.165              | \n",
       "| day2               | 835.26 (2429.91)   | 1294.66 (2964.32)  | <0.001             | 0.170              | \n",
       "| day3               | 256.15 (2108.02)   | 687.19 (2623.07)   | <0.001             | 0.181              | \n",
       "| sofa_drop_2        | 1.22 (4.34)        | 0.89 (3.43)        | 0.001              | 0.084              | \n",
       "| sofa_drop_3        | 2.29 (4.49)        | 1.54 (4.09)        | <0.001             | 0.175              | \n",
       "| norepinephrine_max | 0.81 (2.39)        | 1.76 (5.77)        | <0.001             | 0.214              | \n",
       "| lactate_diff       | 0.54 (2.44)        | 1.24 (2.50)        | 0.003              | 0.283              | \n",
       "| creatinine_diff    | 0.11 (0.80)        | 0.17 (1.17)        | 0.382              | 0.059              | \n",
       "\n",
       "\n"
      ],
      "text/plain": [
       "   Covariate          Non-Echo          Echo              p value SMD  \n",
       "1  n                  3099              3063                           \n",
       "2  ventfreeday28      19.09 (13.53)     18.08 (24.22)     0.044   0.051\n",
       "3  vasofreeday28      20.25 (12.61)     20.30 (14.83)     0.888   0.004\n",
       "4  dobutamine_flag    0.7%              4.1%              <0.001  0.220\n",
       "5  day1               1939.14 (3181.88) 2527.35 (3891.01) <0.001  0.165\n",
       "6  day2               835.26 (2429.91)  1294.66 (2964.32) <0.001  0.170\n",
       "7  day3               256.15 (2108.02)  687.19 (2623.07)  <0.001  0.181\n",
       "8  sofa_drop_2        1.22 (4.34)       0.89 (3.43)       0.001   0.084\n",
       "9  sofa_drop_3        2.29 (4.49)       1.54 (4.09)       <0.001  0.175\n",
       "10 norepinephrine_max 0.81 (2.39)       1.76 (5.77)       <0.001  0.214\n",
       "11 lactate_diff       0.54 (2.44)       1.24 (2.50)       0.003   0.283\n",
       "12 creatinine_diff    0.11 (0.80)       0.17 (1.17)       0.382   0.059"
      ]
     },
     "metadata": {},
     "output_type": "display_data"
    }
   ],
   "source": [
    "tabs_df_fmt"
   ]
  },
  {
   "cell_type": "code",
   "execution_count": 18,
   "metadata": {},
   "outputs": [],
   "source": [
    "set.seed(4958)"
   ]
  },
  {
   "cell_type": "code",
   "execution_count": 19,
   "metadata": {},
   "outputs": [],
   "source": [
    "ps_matches <- Match(Y = NULL, Tr = full_data$echo_int, X = full_data$ps, M = 1,\n",
    "                    estimand = \"ATT\", caliper = 0.01,\n",
    "                    exact = FALSE, replace = FALSE)"
   ]
  },
  {
   "cell_type": "code",
   "execution_count": 20,
   "metadata": {},
   "outputs": [
    {
     "data": {
      "text/plain": [
       "    Control\n",
       "Echo   0   1\n",
       "   0 817 349\n",
       "   1 261 123"
      ]
     },
     "metadata": {},
     "output_type": "display_data"
    }
   ],
   "source": [
    "tab <- table(full_data$mort_28_day[ps_matches$index.treated],\n",
    "             full_data$mort_28_day[ps_matches$index.control],\n",
    "             dnn = c(\"Echo\", \"Control\"))\n",
    "tab"
   ]
  },
  {
   "cell_type": "code",
   "execution_count": 21,
   "metadata": {},
   "outputs": [],
   "source": [
    "icu_id_ps <- full_data[unlist(ps_matches[c(\"index.treated\", \"index.control\")]), ] %>% pull(icustay_id)"
   ]
  },
  {
   "cell_type": "code",
   "execution_count": 22,
   "metadata": {},
   "outputs": [
    {
     "name": "stdout",
     "output_type": "stream",
     "text": [
      "                                Stratified by echo\n",
      "                                 0                 1                 p     \n",
      "  n                                 1550              1550                 \n",
      "  ventfreeday28 (mean (sd))        17.87 (12.68)     18.11 (14.72)    0.634\n",
      "  vasofreeday28 (mean (sd))        19.29 (13.26)     20.62 (13.86)    0.007\n",
      "  dobutamine_flag = 1 (%)             22 (1.4)          39 (2.5)      0.039\n",
      "  day1 (mean (sd))               2142.91 (3314.23) 2322.70 (3624.03)  0.173\n",
      "  day2 (mean (sd))                947.04 (2450.91) 1233.58 (2702.74)  0.005\n",
      "  day3 (mean (sd))                256.93 (2105.38)  772.36 (2515.72) <0.001\n",
      "  sofa_drop_2 (mean (sd))           1.33 (4.52)       0.68 (3.47)    <0.001\n",
      "  sofa_drop_3 (mean (sd))           2.38 (4.79)       1.34 (3.89)    <0.001\n",
      "  norepinephrine_max (mean (sd))    1.07 (2.73)       1.34 (3.05)     0.011\n",
      "  lactate_diff (mean (sd))          0.57 (2.59)       1.11 (2.23)     0.107\n",
      "  creatinine_diff (mean (sd))       0.09 (0.91)       0.16 (0.94)     0.370\n",
      "                                Stratified by echo\n",
      "                                 test SMD   \n",
      "  n                                         \n",
      "  ventfreeday28 (mean (sd))            0.017\n",
      "  vasofreeday28 (mean (sd))            0.098\n",
      "  dobutamine_flag = 1 (%)              0.079\n",
      "  day1 (mean (sd))                     0.052\n",
      "  day2 (mean (sd))                     0.111\n",
      "  day3 (mean (sd))                     0.222\n",
      "  sofa_drop_2 (mean (sd))              0.163\n",
      "  sofa_drop_3 (mean (sd))              0.238\n",
      "  norepinephrine_max (mean (sd))       0.091\n",
      "  lactate_diff (mean (sd))             0.224\n",
      "  creatinine_diff (mean (sd))          0.081\n"
     ]
    }
   ],
   "source": [
    "tabs_ps <- CreateTableOne(vars = features, factorVars = factor_vars, strata = \"echo\",\n",
    "                          data = subgroup %>% filter(icustay_id %in% icu_id_ps),\n",
    "                          argsNormal = list(var.equal = FALSE))\n",
    "tabs_ps_df <- tabs_ps %>% print(smd = TRUE) %>% as.data.frame(stringsAsFactors = FALSE)"
   ]
  },
  {
   "cell_type": "code",
   "execution_count": 23,
   "metadata": {},
   "outputs": [],
   "source": [
    "tabs_ps_df_fmt <- tabs_ps_df %>%\n",
    "setNames(c(\"control\", \"treated\", \"pval\", \"test\", \"smd\")) %>%\n",
    "mutate(cov = rownames(.)) %>%\n",
    "mutate(cov_name = str_split(cov, \" \") %>% map_chr(first)) %>%\n",
    "mutate(cate = cov_name %in% factor_vars) %>%\n",
    "mutate(ctrl = ifelse(cate,\n",
    "                     str_extract(control, \"\\\\((.*?)\\\\)\") %>% str_replace_all(\"\\\\(|\\\\)\", \"\") %>% sprintf(\"%s%%\", .),\n",
    "                     control)) %>%\n",
    "mutate(trtd = ifelse(cate,\n",
    "                     str_extract(treated, \"\\\\((.*?)\\\\)\") %>% str_replace_all(\"\\\\(|\\\\)\", \"\") %>% sprintf(\"%s%%\", .),\n",
    "                     treated)) %>%\n",
    "# mutate(cov_fmt = str_replace_all(cov_name, \"_\", \" \")) %>%\n",
    "# mutate(cov_fmt = str_replace_all(cov_fmt, \"lab|vs|flag|icd|first\", \"\")) %>%\n",
    "mutate_all(funs(str_replace_all(., \"\\\\s+$|^\\\\s+\", \"\"))) %>%\n",
    "# mutate(cov_fmt = tools::toTitleCase(cov_fmt)) %>%\n",
    "select(cov_name, ctrl, trtd, pval, smd) %>%\n",
    "setNames(c(\"Covariate\", \"Non-Echo (PS matching)\", \"Echo (PS matching)\", \"p value (PS matching)\", \"SMD (PS matching)\"))"
   ]
  },
  {
   "cell_type": "code",
   "execution_count": 24,
   "metadata": {},
   "outputs": [
    {
     "data": {
      "text/html": [
       "<table>\n",
       "<thead><tr><th scope=col>Covariate</th><th scope=col>Non-Echo (PS matching)</th><th scope=col>Echo (PS matching)</th><th scope=col>p value (PS matching)</th><th scope=col>SMD (PS matching)</th></tr></thead>\n",
       "<tbody>\n",
       "\t<tr><td>n                 </td><td>1550              </td><td>1550              </td><td>                  </td><td>                  </td></tr>\n",
       "\t<tr><td>ventfreeday28     </td><td>17.87 (12.68)     </td><td>18.11 (14.72)     </td><td>0.634             </td><td>0.017             </td></tr>\n",
       "\t<tr><td>vasofreeday28     </td><td>19.29 (13.26)     </td><td>20.62 (13.86)     </td><td>0.007             </td><td>0.098             </td></tr>\n",
       "\t<tr><td>dobutamine_flag   </td><td>1.4%              </td><td>2.5%              </td><td>0.039             </td><td>0.079             </td></tr>\n",
       "\t<tr><td>day1              </td><td>2142.91 (3314.23) </td><td>2322.70 (3624.03) </td><td>0.173             </td><td>0.052             </td></tr>\n",
       "\t<tr><td>day2              </td><td>947.04 (2450.91)  </td><td>1233.58 (2702.74) </td><td>0.005             </td><td>0.111             </td></tr>\n",
       "\t<tr><td><span style=white-space:pre-wrap>day3              </span></td><td>256.93 (2105.38)                                          </td><td>772.36 (2515.72)                                          </td><td>&lt;0.001                                                 </td><td>0.222                                                     </td></tr>\n",
       "\t<tr><td><span style=white-space:pre-wrap>sofa_drop_2       </span></td><td><span style=white-space:pre-wrap>1.33 (4.52)      </span> </td><td><span style=white-space:pre-wrap>0.68 (3.47)      </span> </td><td>&lt;0.001                                                 </td><td>0.163                                                     </td></tr>\n",
       "\t<tr><td><span style=white-space:pre-wrap>sofa_drop_3       </span></td><td><span style=white-space:pre-wrap>2.38 (4.79)      </span> </td><td><span style=white-space:pre-wrap>1.34 (3.89)      </span> </td><td>&lt;0.001                                                 </td><td>0.238                                                     </td></tr>\n",
       "\t<tr><td>norepinephrine_max</td><td>1.07 (2.73)       </td><td>1.34 (3.05)       </td><td>0.011             </td><td>0.091             </td></tr>\n",
       "\t<tr><td>lactate_diff      </td><td>0.57 (2.59)       </td><td>1.11 (2.23)       </td><td>0.107             </td><td>0.224             </td></tr>\n",
       "\t<tr><td>creatinine_diff   </td><td>0.09 (0.91)       </td><td>0.16 (0.94)       </td><td>0.370             </td><td>0.081             </td></tr>\n",
       "</tbody>\n",
       "</table>\n"
      ],
      "text/latex": [
       "\\begin{tabular}{r|lllll}\n",
       " Covariate & Non-Echo (PS matching) & Echo (PS matching) & p value (PS matching) & SMD (PS matching)\\\\\n",
       "\\hline\n",
       "\t n                  & 1550               & 1550               &                    &                   \\\\\n",
       "\t ventfreeday28      & 17.87 (12.68)      & 18.11 (14.72)      & 0.634              & 0.017             \\\\\n",
       "\t vasofreeday28      & 19.29 (13.26)      & 20.62 (13.86)      & 0.007              & 0.098             \\\\\n",
       "\t dobutamine\\_flag    & 1.4\\%               & 2.5\\%               & 0.039                & 0.079               \\\\\n",
       "\t day1               & 2142.91 (3314.23)  & 2322.70 (3624.03)  & 0.173              & 0.052             \\\\\n",
       "\t day2               & 947.04 (2450.91)   & 1233.58 (2702.74)  & 0.005              & 0.111             \\\\\n",
       "\t day3               & 256.93 (2105.38)   & 772.36 (2515.72)   & <0.001             & 0.222             \\\\\n",
       "\t sofa\\_drop\\_2        & 1.33 (4.52)            & 0.68 (3.47)            & <0.001                 & 0.163                 \\\\\n",
       "\t sofa\\_drop\\_3        & 2.38 (4.79)            & 1.34 (3.89)            & <0.001                 & 0.238                 \\\\\n",
       "\t norepinephrine\\_max & 1.07 (2.73)          & 1.34 (3.05)          & 0.011                & 0.091               \\\\\n",
       "\t lactate\\_diff       & 0.57 (2.59)          & 1.11 (2.23)          & 0.107                & 0.224               \\\\\n",
       "\t creatinine\\_diff    & 0.09 (0.91)          & 0.16 (0.94)          & 0.370                & 0.081               \\\\\n",
       "\\end{tabular}\n"
      ],
      "text/markdown": [
       "\n",
       "Covariate | Non-Echo (PS matching) | Echo (PS matching) | p value (PS matching) | SMD (PS matching) | \n",
       "|---|---|---|---|---|---|---|---|---|---|---|---|\n",
       "| n                  | 1550               | 1550               |                    |                    | \n",
       "| ventfreeday28      | 17.87 (12.68)      | 18.11 (14.72)      | 0.634              | 0.017              | \n",
       "| vasofreeday28      | 19.29 (13.26)      | 20.62 (13.86)      | 0.007              | 0.098              | \n",
       "| dobutamine_flag    | 1.4%               | 2.5%               | 0.039              | 0.079              | \n",
       "| day1               | 2142.91 (3314.23)  | 2322.70 (3624.03)  | 0.173              | 0.052              | \n",
       "| day2               | 947.04 (2450.91)   | 1233.58 (2702.74)  | 0.005              | 0.111              | \n",
       "| day3               | 256.93 (2105.38)   | 772.36 (2515.72)   | <0.001             | 0.222              | \n",
       "| sofa_drop_2        | 1.33 (4.52)        | 0.68 (3.47)        | <0.001             | 0.163              | \n",
       "| sofa_drop_3        | 2.38 (4.79)        | 1.34 (3.89)        | <0.001             | 0.238              | \n",
       "| norepinephrine_max | 1.07 (2.73)        | 1.34 (3.05)        | 0.011              | 0.091              | \n",
       "| lactate_diff       | 0.57 (2.59)        | 1.11 (2.23)        | 0.107              | 0.224              | \n",
       "| creatinine_diff    | 0.09 (0.91)        | 0.16 (0.94)        | 0.370              | 0.081              | \n",
       "\n",
       "\n"
      ],
      "text/plain": [
       "   Covariate          Non-Echo (PS matching) Echo (PS matching)\n",
       "1  n                  1550                   1550              \n",
       "2  ventfreeday28      17.87 (12.68)          18.11 (14.72)     \n",
       "3  vasofreeday28      19.29 (13.26)          20.62 (13.86)     \n",
       "4  dobutamine_flag    1.4%                   2.5%              \n",
       "5  day1               2142.91 (3314.23)      2322.70 (3624.03) \n",
       "6  day2               947.04 (2450.91)       1233.58 (2702.74) \n",
       "7  day3               256.93 (2105.38)       772.36 (2515.72)  \n",
       "8  sofa_drop_2        1.33 (4.52)            0.68 (3.47)       \n",
       "9  sofa_drop_3        2.38 (4.79)            1.34 (3.89)       \n",
       "10 norepinephrine_max 1.07 (2.73)            1.34 (3.05)       \n",
       "11 lactate_diff       0.57 (2.59)            1.11 (2.23)       \n",
       "12 creatinine_diff    0.09 (0.91)            0.16 (0.94)       \n",
       "   p value (PS matching) SMD (PS matching)\n",
       "1                                         \n",
       "2  0.634                 0.017            \n",
       "3  0.007                 0.098            \n",
       "4  0.039                 0.079            \n",
       "5  0.173                 0.052            \n",
       "6  0.005                 0.111            \n",
       "7  <0.001                0.222            \n",
       "8  <0.001                0.163            \n",
       "9  <0.001                0.238            \n",
       "10 0.011                 0.091            \n",
       "11 0.107                 0.224            \n",
       "12 0.370                 0.081            "
      ]
     },
     "metadata": {},
     "output_type": "display_data"
    }
   ],
   "source": [
    "tabs_ps_df_fmt"
   ]
  },
  {
   "cell_type": "code",
   "execution_count": 25,
   "metadata": {},
   "outputs": [
    {
     "data": {
      "text/html": [
       "<table>\n",
       "<thead><tr><th scope=col>Covariate</th><th scope=col>SMD</th><th scope=col>Echo</th><th scope=col>Non-Echo</th><th scope=col>p value</th><th scope=col>Echo (weighted cohort)</th><th scope=col>Non-Echo (weighted cohort)</th><th scope=col>p value (weighted cohort)</th><th scope=col>Non-Echo (PS matching)</th><th scope=col>Echo (PS matching)</th><th scope=col>p value (PS matching)</th><th scope=col>SMD (PS matching)</th></tr></thead>\n",
       "<tbody>\n",
       "\t<tr><td>n                 </td><td>                  </td><td>NA                </td><td>NA                </td><td>NA                </td><td>NA                </td><td>NA                </td><td>NA                </td><td>1550              </td><td>1550              </td><td>                  </td><td>                  </td></tr>\n",
       "\t<tr><td>ventfreeday28     </td><td>0.051             </td><td>18.08 (24.22)     </td><td>19.09 (13.53)     </td><td>0.044             </td><td>18.37 (23.79)     </td><td>18.43 (13.38)     </td><td>0.901             </td><td>17.87 (12.68)     </td><td>18.11 (14.72)     </td><td>0.634             </td><td>0.017             </td></tr>\n",
       "\t<tr><td>vasofreeday28     </td><td>0.004             </td><td>20.30 (14.83)     </td><td>20.25 (12.61)     </td><td>0.888             </td><td>20.45 (14.70)     </td><td>19.67 (12.80)     </td><td>0.026             </td><td>19.29 (13.26)     </td><td>20.62 (13.86)     </td><td>0.007             </td><td>0.098             </td></tr>\n",
       "\t<tr><td><span style=white-space:pre-wrap>dobutamine_flag   </span></td><td>0.220                                                     </td><td><span style=white-space:pre-wrap>4.11%            </span> </td><td><span style=white-space:pre-wrap>0.74%            </span> </td><td>&lt;0.001                                                 </td><td><span style=white-space:pre-wrap>3.18%            </span> </td><td><span style=white-space:pre-wrap>1.10%            </span> </td><td>&lt;0.001                                                 </td><td><span style=white-space:pre-wrap>1.4%             </span> </td><td><span style=white-space:pre-wrap>2.5%             </span> </td><td>0.039                                                     </td><td>0.079                                                     </td></tr>\n",
       "\t<tr><td><span style=white-space:pre-wrap>day1              </span></td><td>0.165                                                     </td><td>2527.35 (3891.01)                                         </td><td>1939.14 (3181.88)                                         </td><td>&lt;0.001                                                 </td><td>2379.64 (3751.78)                                         </td><td>2032.59 (3267.94)                                         </td><td>&lt;0.001                                                 </td><td>2142.91 (3314.23)                                         </td><td>2322.70 (3624.03)                                         </td><td>0.173                                                     </td><td>0.052                                                     </td></tr>\n",
       "\t<tr><td><span style=white-space:pre-wrap>day2              </span></td><td>0.170                                                     </td><td>1294.66 (2964.32)                                         </td><td>835.26 (2429.91)                                          </td><td>&lt;0.001                                                 </td><td>1266.24 (2877.40)                                         </td><td>899.16 (2491.55)                                          </td><td>&lt;0.001                                                 </td><td>947.04 (2450.91)                                          </td><td>1233.58 (2702.74)                                         </td><td>0.005                                                     </td><td>0.111                                                     </td></tr>\n",
       "\t<tr><td><span style=white-space:pre-wrap>day3              </span></td><td>0.181                                                     </td><td>687.19 (2623.07)                                          </td><td>256.15 (2108.02)                                          </td><td>&lt;0.001                                                 </td><td>714.09 (2588.89)                                          </td><td>301.67 (2138.92)                                          </td><td>&lt;0.001                                                 </td><td>256.93 (2105.38)                                          </td><td>772.36 (2515.72)                                          </td><td>&lt;0.001                                                 </td><td>0.222                                                     </td></tr>\n",
       "\t<tr><td><span style=white-space:pre-wrap>sofa_drop_2       </span></td><td>0.084                                                     </td><td><span style=white-space:pre-wrap>0.89 (3.43)      </span> </td><td><span style=white-space:pre-wrap>1.22 (4.34)      </span> </td><td>&lt;0.001                                                 </td><td><span style=white-space:pre-wrap>0.74 (3.36)      </span> </td><td><span style=white-space:pre-wrap>1.25 (4.49)      </span> </td><td>&lt;0.001                                                 </td><td><span style=white-space:pre-wrap>1.33 (4.52)      </span> </td><td><span style=white-space:pre-wrap>0.68 (3.47)      </span> </td><td>&lt;0.001                                                 </td><td>0.163                                                     </td></tr>\n",
       "\t<tr><td><span style=white-space:pre-wrap>sofa_drop_3       </span></td><td>0.175                                                     </td><td><span style=white-space:pre-wrap>1.54 (4.09)      </span> </td><td><span style=white-space:pre-wrap>2.29 (4.49)      </span> </td><td>&lt;0.001                                                 </td><td><span style=white-space:pre-wrap>1.35 (3.99)      </span> </td><td><span style=white-space:pre-wrap>2.38 (4.59)      </span> </td><td>&lt;0.001                                                 </td><td><span style=white-space:pre-wrap>2.38 (4.79)      </span> </td><td><span style=white-space:pre-wrap>1.34 (3.89)      </span> </td><td>&lt;0.001                                                 </td><td>0.238                                                     </td></tr>\n",
       "\t<tr><td>norepinephrine_max                                       </td><td>0.214                                                    </td><td><span style=white-space:pre-wrap>1.76 (5.77)      </span></td><td><span style=white-space:pre-wrap>0.81 (2.39)      </span></td><td>&lt;0.001                                                </td><td><span style=white-space:pre-wrap>1.55 (5.21)      </span></td><td><span style=white-space:pre-wrap>0.96 (2.56)      </span></td><td>&lt;0.001                                                </td><td><span style=white-space:pre-wrap>1.07 (2.73)      </span></td><td><span style=white-space:pre-wrap>1.34 (3.05)      </span></td><td>0.011                                                    </td><td>0.091                                                    </td></tr>\n",
       "\t<tr><td>lactate_diff      </td><td>0.283             </td><td>1.24 (2.50)       </td><td>0.54 (2.44)       </td><td>0.003             </td><td>1.17 (2.31)       </td><td>0.55 (2.51)       </td><td>0.008             </td><td>0.57 (2.59)       </td><td>1.11 (2.23)       </td><td>0.107             </td><td>0.224             </td></tr>\n",
       "\t<tr><td>creatinine_diff   </td><td>0.059             </td><td>0.17 (1.17)       </td><td>0.11 (0.80)       </td><td>0.382             </td><td>0.22 (1.10)       </td><td>0.09 (0.86)       </td><td>0.066             </td><td>0.09 (0.91)       </td><td>0.16 (0.94)       </td><td>0.370             </td><td>0.081             </td></tr>\n",
       "</tbody>\n",
       "</table>\n"
      ],
      "text/latex": [
       "\\begin{tabular}{r|llllllllllll}\n",
       " Covariate & SMD & Echo & Non-Echo & p value & Echo (weighted cohort) & Non-Echo (weighted cohort) & p value (weighted cohort) & Non-Echo (PS matching) & Echo (PS matching) & p value (PS matching) & SMD (PS matching)\\\\\n",
       "\\hline\n",
       "\t n                  &                    & NA                 & NA                 & NA                 & NA                 & NA                 & NA                 & 1550               & 1550               &                    &                   \\\\\n",
       "\t ventfreeday28      & 0.051              & 18.08 (24.22)      & 19.09 (13.53)      & 0.044              & 18.37 (23.79)      & 18.43 (13.38)      & 0.901              & 17.87 (12.68)      & 18.11 (14.72)      & 0.634              & 0.017             \\\\\n",
       "\t vasofreeday28      & 0.004              & 20.30 (14.83)      & 20.25 (12.61)      & 0.888              & 20.45 (14.70)      & 19.67 (12.80)      & 0.026              & 19.29 (13.26)      & 20.62 (13.86)      & 0.007              & 0.098             \\\\\n",
       "\t dobutamine\\_flag    & 0.220                & 4.11\\%              & 0.74\\%              & <0.001               & 3.18\\%              & 1.10\\%              & <0.001               & 1.4\\%               & 2.5\\%               & 0.039                & 0.079               \\\\\n",
       "\t day1               & 0.165              & 2527.35 (3891.01)  & 1939.14 (3181.88)  & <0.001             & 2379.64 (3751.78)  & 2032.59 (3267.94)  & <0.001             & 2142.91 (3314.23)  & 2322.70 (3624.03)  & 0.173              & 0.052             \\\\\n",
       "\t day2               & 0.170              & 1294.66 (2964.32)  & 835.26 (2429.91)   & <0.001             & 1266.24 (2877.40)  & 899.16 (2491.55)   & <0.001             & 947.04 (2450.91)   & 1233.58 (2702.74)  & 0.005              & 0.111             \\\\\n",
       "\t day3               & 0.181              & 687.19 (2623.07)   & 256.15 (2108.02)   & <0.001             & 714.09 (2588.89)   & 301.67 (2138.92)   & <0.001             & 256.93 (2105.38)   & 772.36 (2515.72)   & <0.001             & 0.222             \\\\\n",
       "\t sofa\\_drop\\_2        & 0.084                  & 0.89 (3.43)            & 1.22 (4.34)            & <0.001                 & 0.74 (3.36)            & 1.25 (4.49)            & <0.001                 & 1.33 (4.52)            & 0.68 (3.47)            & <0.001                 & 0.163                 \\\\\n",
       "\t sofa\\_drop\\_3        & 0.175                  & 1.54 (4.09)            & 2.29 (4.49)            & <0.001                 & 1.35 (3.99)            & 2.38 (4.59)            & <0.001                 & 2.38 (4.79)            & 1.34 (3.89)            & <0.001                 & 0.238                 \\\\\n",
       "\t norepinephrine\\_max & 0.214                & 1.76 (5.77)          & 0.81 (2.39)          & <0.001               & 1.55 (5.21)          & 0.96 (2.56)          & <0.001               & 1.07 (2.73)          & 1.34 (3.05)          & 0.011                & 0.091               \\\\\n",
       "\t lactate\\_diff       & 0.283                & 1.24 (2.50)          & 0.54 (2.44)          & 0.003                & 1.17 (2.31)          & 0.55 (2.51)          & 0.008                & 0.57 (2.59)          & 1.11 (2.23)          & 0.107                & 0.224               \\\\\n",
       "\t creatinine\\_diff    & 0.059                & 0.17 (1.17)          & 0.11 (0.80)          & 0.382                & 0.22 (1.10)          & 0.09 (0.86)          & 0.066                & 0.09 (0.91)          & 0.16 (0.94)          & 0.370                & 0.081               \\\\\n",
       "\\end{tabular}\n"
      ],
      "text/markdown": [
       "\n",
       "Covariate | SMD | Echo | Non-Echo | p value | Echo (weighted cohort) | Non-Echo (weighted cohort) | p value (weighted cohort) | Non-Echo (PS matching) | Echo (PS matching) | p value (PS matching) | SMD (PS matching) | \n",
       "|---|---|---|---|---|---|---|---|---|---|---|---|\n",
       "| n                  |                    | NA                 | NA                 | NA                 | NA                 | NA                 | NA                 | 1550               | 1550               |                    |                    | \n",
       "| ventfreeday28      | 0.051              | 18.08 (24.22)      | 19.09 (13.53)      | 0.044              | 18.37 (23.79)      | 18.43 (13.38)      | 0.901              | 17.87 (12.68)      | 18.11 (14.72)      | 0.634              | 0.017              | \n",
       "| vasofreeday28      | 0.004              | 20.30 (14.83)      | 20.25 (12.61)      | 0.888              | 20.45 (14.70)      | 19.67 (12.80)      | 0.026              | 19.29 (13.26)      | 20.62 (13.86)      | 0.007              | 0.098              | \n",
       "| dobutamine_flag    | 0.220              | 4.11%              | 0.74%              | <0.001             | 3.18%              | 1.10%              | <0.001             | 1.4%               | 2.5%               | 0.039              | 0.079              | \n",
       "| day1               | 0.165              | 2527.35 (3891.01)  | 1939.14 (3181.88)  | <0.001             | 2379.64 (3751.78)  | 2032.59 (3267.94)  | <0.001             | 2142.91 (3314.23)  | 2322.70 (3624.03)  | 0.173              | 0.052              | \n",
       "| day2               | 0.170              | 1294.66 (2964.32)  | 835.26 (2429.91)   | <0.001             | 1266.24 (2877.40)  | 899.16 (2491.55)   | <0.001             | 947.04 (2450.91)   | 1233.58 (2702.74)  | 0.005              | 0.111              | \n",
       "| day3               | 0.181              | 687.19 (2623.07)   | 256.15 (2108.02)   | <0.001             | 714.09 (2588.89)   | 301.67 (2138.92)   | <0.001             | 256.93 (2105.38)   | 772.36 (2515.72)   | <0.001             | 0.222              | \n",
       "| sofa_drop_2        | 0.084              | 0.89 (3.43)        | 1.22 (4.34)        | <0.001             | 0.74 (3.36)        | 1.25 (4.49)        | <0.001             | 1.33 (4.52)        | 0.68 (3.47)        | <0.001             | 0.163              | \n",
       "| sofa_drop_3        | 0.175              | 1.54 (4.09)        | 2.29 (4.49)        | <0.001             | 1.35 (3.99)        | 2.38 (4.59)        | <0.001             | 2.38 (4.79)        | 1.34 (3.89)        | <0.001             | 0.238              | \n",
       "| norepinephrine_max | 0.214              | 1.76 (5.77)        | 0.81 (2.39)        | <0.001             | 1.55 (5.21)        | 0.96 (2.56)        | <0.001             | 1.07 (2.73)        | 1.34 (3.05)        | 0.011              | 0.091              | \n",
       "| lactate_diff       | 0.283              | 1.24 (2.50)        | 0.54 (2.44)        | 0.003              | 1.17 (2.31)        | 0.55 (2.51)        | 0.008              | 0.57 (2.59)        | 1.11 (2.23)        | 0.107              | 0.224              | \n",
       "| creatinine_diff    | 0.059              | 0.17 (1.17)        | 0.11 (0.80)        | 0.382              | 0.22 (1.10)        | 0.09 (0.86)        | 0.066              | 0.09 (0.91)        | 0.16 (0.94)        | 0.370              | 0.081              | \n",
       "\n",
       "\n"
      ],
      "text/plain": [
       "   Covariate          SMD   Echo              Non-Echo          p value\n",
       "1  n                        NA                NA                NA     \n",
       "2  ventfreeday28      0.051 18.08 (24.22)     19.09 (13.53)     0.044  \n",
       "3  vasofreeday28      0.004 20.30 (14.83)     20.25 (12.61)     0.888  \n",
       "4  dobutamine_flag    0.220 4.11%             0.74%             <0.001 \n",
       "5  day1               0.165 2527.35 (3891.01) 1939.14 (3181.88) <0.001 \n",
       "6  day2               0.170 1294.66 (2964.32) 835.26 (2429.91)  <0.001 \n",
       "7  day3               0.181 687.19 (2623.07)  256.15 (2108.02)  <0.001 \n",
       "8  sofa_drop_2        0.084 0.89 (3.43)       1.22 (4.34)       <0.001 \n",
       "9  sofa_drop_3        0.175 1.54 (4.09)       2.29 (4.49)       <0.001 \n",
       "10 norepinephrine_max 0.214 1.76 (5.77)       0.81 (2.39)       <0.001 \n",
       "11 lactate_diff       0.283 1.24 (2.50)       0.54 (2.44)       0.003  \n",
       "12 creatinine_diff    0.059 0.17 (1.17)       0.11 (0.80)       0.382  \n",
       "   Echo (weighted cohort) Non-Echo (weighted cohort) p value (weighted cohort)\n",
       "1  NA                     NA                         NA                       \n",
       "2  18.37 (23.79)          18.43 (13.38)              0.901                    \n",
       "3  20.45 (14.70)          19.67 (12.80)              0.026                    \n",
       "4  3.18%                  1.10%                      <0.001                   \n",
       "5  2379.64 (3751.78)      2032.59 (3267.94)          <0.001                   \n",
       "6  1266.24 (2877.40)      899.16 (2491.55)           <0.001                   \n",
       "7  714.09 (2588.89)       301.67 (2138.92)           <0.001                   \n",
       "8  0.74 (3.36)            1.25 (4.49)                <0.001                   \n",
       "9  1.35 (3.99)            2.38 (4.59)                <0.001                   \n",
       "10 1.55 (5.21)            0.96 (2.56)                <0.001                   \n",
       "11 1.17 (2.31)            0.55 (2.51)                0.008                    \n",
       "12 0.22 (1.10)            0.09 (0.86)                0.066                    \n",
       "   Non-Echo (PS matching) Echo (PS matching) p value (PS matching)\n",
       "1  1550                   1550                                    \n",
       "2  17.87 (12.68)          18.11 (14.72)      0.634                \n",
       "3  19.29 (13.26)          20.62 (13.86)      0.007                \n",
       "4  1.4%                   2.5%               0.039                \n",
       "5  2142.91 (3314.23)      2322.70 (3624.03)  0.173                \n",
       "6  947.04 (2450.91)       1233.58 (2702.74)  0.005                \n",
       "7  256.93 (2105.38)       772.36 (2515.72)   <0.001               \n",
       "8  1.33 (4.52)            0.68 (3.47)        <0.001               \n",
       "9  2.38 (4.79)            1.34 (3.89)        <0.001               \n",
       "10 1.07 (2.73)            1.34 (3.05)        0.011                \n",
       "11 0.57 (2.59)            1.11 (2.23)        0.107                \n",
       "12 0.09 (0.91)            0.16 (0.94)        0.370                \n",
       "   SMD (PS matching)\n",
       "1                   \n",
       "2  0.017            \n",
       "3  0.098            \n",
       "4  0.079            \n",
       "5  0.052            \n",
       "6  0.111            \n",
       "7  0.222            \n",
       "8  0.163            \n",
       "9  0.238            \n",
       "10 0.091            \n",
       "11 0.224            \n",
       "12 0.081            "
      ]
     },
     "metadata": {},
     "output_type": "display_data"
    }
   ],
   "source": [
    "tabs_subgroup_full <- tabs_df_fmt %>% select(Covariate, SMD) %>%\n",
    "full_join(tbone, by = \"Covariate\") %>%\n",
    "full_join(tabs_ps_df_fmt, by = \"Covariate\")\n",
    "\n",
    "tabs_subgroup_full"
   ]
  },
  {
   "cell_type": "code",
   "execution_count": 26,
   "metadata": {},
   "outputs": [],
   "source": [
    "data.table::fwrite(tabs_subgroup_full, file.path(data_dir, \"subgroup_full.csv\"))"
   ]
  }
 ],
 "metadata": {
  "kernelspec": {
   "display_name": "R",
   "language": "R",
   "name": "ir"
  },
  "language_info": {
   "codemirror_mode": "r",
   "file_extension": ".r",
   "mimetype": "text/x-r-source",
   "name": "R",
   "pygments_lexer": "r",
   "version": "3.4.3"
  },
  "varInspector": {
   "cols": {
    "lenName": 16,
    "lenType": 16,
    "lenVar": 40
   },
   "kernels_config": {
    "python": {
     "delete_cmd_postfix": "",
     "delete_cmd_prefix": "del ",
     "library": "var_list.py",
     "varRefreshCmd": "print(var_dic_list())"
    },
    "r": {
     "delete_cmd_postfix": ") ",
     "delete_cmd_prefix": "rm(",
     "library": "var_list.r",
     "varRefreshCmd": "cat(var_dic_list()) "
    }
   },
   "types_to_exclude": [
    "module",
    "function",
    "builtin_function_or_method",
    "instance",
    "_Feature"
   ],
   "window_display": false
  }
 },
 "nbformat": 4,
 "nbformat_minor": 2
}
