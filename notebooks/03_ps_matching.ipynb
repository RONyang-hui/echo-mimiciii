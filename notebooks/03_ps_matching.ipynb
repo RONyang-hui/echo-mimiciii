{
 "cells": [
  {
   "cell_type": "code",
   "execution_count": 1,
   "metadata": {},
   "outputs": [
    {
     "name": "stderr",
     "output_type": "stream",
     "text": [
      "Loading required package: MASS\n",
      "## \n",
      "##  Matching (Version 4.9-2, Build Date: 2015-12-25)\n",
      "##  See http://sekhon.berkeley.edu/matching for additional documentation.\n",
      "##  Please cite software as:\n",
      "##   Jasjeet S. Sekhon. 2011. ``Multivariate and Propensity Score Matching\n",
      "##   Software with Automated Balance Optimization: The Matching package for R.''\n",
      "##   Journal of Statistical Software, 42(7): 1-52. \n",
      "##\n",
      "\n",
      "── Attaching packages ─────────────────────────────────────── tidyverse 1.2.1 ──\n",
      "✔ ggplot2 2.2.1     ✔ purrr   0.2.4\n",
      "✔ tibble  1.4.2     ✔ dplyr   0.7.4\n",
      "✔ tidyr   0.8.0     ✔ stringr 1.2.0\n",
      "✔ readr   1.1.1     ✔ forcats 0.2.0\n",
      "── Conflicts ────────────────────────────────────────── tidyverse_conflicts() ──\n",
      "✖ dplyr::filter() masks stats::filter()\n",
      "✖ dplyr::lag()    masks stats::lag()\n",
      "✖ dplyr::select() masks MASS::select()\n"
     ]
    }
   ],
   "source": [
    "library(Matching)\n",
    "library(tidyverse)"
   ]
  },
  {
   "cell_type": "code",
   "execution_count": 2,
   "metadata": {},
   "outputs": [],
   "source": [
    "data_dir <- file.path(\"..\", \"data\")"
   ]
  },
  {
   "cell_type": "code",
   "execution_count": 3,
   "metadata": {},
   "outputs": [
    {
     "data": {
      "text/html": [
       "<table>\n",
       "<thead><tr><th scope=col>icustay_id</th><th scope=col>hadm_id</th><th scope=col>subject_id</th><th scope=col>first_careunit</th><th scope=col>intime</th><th scope=col>outtime</th><th scope=col>angus</th><th scope=col>age</th><th scope=col>icu_order</th><th scope=col>echo_time</th><th scope=col>⋯</th><th scope=col>lab_pco2_flag</th><th scope=col>lab_creatinine_flag</th><th scope=col>lab_potassium_flag</th><th scope=col>lab_troponin_flag</th><th scope=col>lab_po2_flag</th><th scope=col>lab_lactate_flag</th><th scope=col>echo_int</th><th scope=col>mort_28_day_int</th><th scope=col>ps</th><th scope=col>ps_weight</th></tr></thead>\n",
       "<tbody>\n",
       "\t<tr><td>228416             </td><td>159895             </td><td> 5491              </td><td>MICU               </td><td>2151-06-29 01:18:27</td><td>2151-07-27 16:00:56</td><td>1                  </td><td>76.58225           </td><td>1                  </td><td>2151-06-30         </td><td>⋯                  </td><td>1                  </td><td>1                  </td><td>1                  </td><td>0                  </td><td>1                  </td><td>1                  </td><td>1                  </td><td>0                  </td><td>0.5525232          </td><td>1.809879           </td></tr>\n",
       "\t<tr><td>278148             </td><td>169700             </td><td>49395              </td><td>MICU               </td><td>2197-01-09 00:45:42</td><td>2197-01-10 06:46:29</td><td>1                  </td><td>82.72606           </td><td>1                  </td><td>NA                 </td><td>⋯                  </td><td>0                  </td><td>1                  </td><td>1                  </td><td>0                  </td><td>0                  </td><td>0                  </td><td>0                  </td><td>1                  </td><td>0.2804613          </td><td>1.389779           </td></tr>\n",
       "\t<tr><td>274174             </td><td>103722             </td><td>14855              </td><td>MICU               </td><td>2181-09-08 23:43:13</td><td>2181-09-26 16:52:02</td><td>1                  </td><td>61.84390           </td><td>1                  </td><td>2181-09-11         </td><td>⋯                  </td><td>1                  </td><td>1                  </td><td>1                  </td><td>0                  </td><td>1                  </td><td>1                  </td><td>1                  </td><td>0                  </td><td>0.3012020          </td><td>3.320031           </td></tr>\n",
       "\t<tr><td>214954             </td><td>170515             </td><td>54642              </td><td>MICU               </td><td>2176-03-11 04:58:23</td><td>2176-03-15 18:00:48</td><td>1                  </td><td>63.86507           </td><td>1                  </td><td>2176-03-11         </td><td>⋯                  </td><td>1                  </td><td>1                  </td><td>1                  </td><td>1                  </td><td>1                  </td><td>1                  </td><td>1                  </td><td>0                  </td><td>0.7982833          </td><td>1.252688           </td></tr>\n",
       "\t<tr><td>222457             </td><td>183493             </td><td>96815              </td><td>MICU               </td><td>2105-06-04 20:57:55</td><td>2105-06-06 20:01:51</td><td>1                  </td><td>62.84018           </td><td>1                  </td><td>NA                 </td><td>⋯                  </td><td>0                  </td><td>1                  </td><td>1                  </td><td>0                  </td><td>0                  </td><td>0                  </td><td>0                  </td><td>0                  </td><td>0.2244447          </td><td>1.289399           </td></tr>\n",
       "\t<tr><td>264413             </td><td>134244             </td><td>81436              </td><td>MICU               </td><td>2133-03-27 16:31:37</td><td>2133-04-04 16:15:28</td><td>1                  </td><td>62.60148           </td><td>1                  </td><td>2133-03-31         </td><td>⋯                  </td><td>0                  </td><td>1                  </td><td>1                  </td><td>0                  </td><td>0                  </td><td>1                  </td><td>1                  </td><td>0                  </td><td>0.3320492          </td><td>3.011602           </td></tr>\n",
       "</tbody>\n",
       "</table>\n"
      ],
      "text/latex": [
       "\\begin{tabular}{r|llllllllllllllllllllllllllllllllllllllllllllllllllllllllllllllllllllllllllllllllllllllllllllllllllllllllllllllllllllllllllllllllllllll}\n",
       " icustay\\_id & hadm\\_id & subject\\_id & first\\_careunit & intime & outtime & angus & age & icu\\_order & echo\\_time & ⋯ & lab\\_pco2\\_flag & lab\\_creatinine\\_flag & lab\\_potassium\\_flag & lab\\_troponin\\_flag & lab\\_po2\\_flag & lab\\_lactate\\_flag & echo\\_int & mort\\_28\\_day\\_int & ps & ps\\_weight\\\\\n",
       "\\hline\n",
       "\t 228416              & 159895              &  5491               & MICU                & 2151-06-29 01:18:27 & 2151-07-27 16:00:56 & 1                   & 76.58225            & 1                   & 2151-06-30          & ⋯                   & 1                   & 1                   & 1                   & 0                   & 1                   & 1                   & 1                   & 0                   & 0.5525232           & 1.809879           \\\\\n",
       "\t 278148              & 169700              & 49395               & MICU                & 2197-01-09 00:45:42 & 2197-01-10 06:46:29 & 1                   & 82.72606            & 1                   & NA                  & ⋯                   & 0                   & 1                   & 1                   & 0                   & 0                   & 0                   & 0                   & 1                   & 0.2804613           & 1.389779           \\\\\n",
       "\t 274174              & 103722              & 14855               & MICU                & 2181-09-08 23:43:13 & 2181-09-26 16:52:02 & 1                   & 61.84390            & 1                   & 2181-09-11          & ⋯                   & 1                   & 1                   & 1                   & 0                   & 1                   & 1                   & 1                   & 0                   & 0.3012020           & 3.320031           \\\\\n",
       "\t 214954              & 170515              & 54642               & MICU                & 2176-03-11 04:58:23 & 2176-03-15 18:00:48 & 1                   & 63.86507            & 1                   & 2176-03-11          & ⋯                   & 1                   & 1                   & 1                   & 1                   & 1                   & 1                   & 1                   & 0                   & 0.7982833           & 1.252688           \\\\\n",
       "\t 222457              & 183493              & 96815               & MICU                & 2105-06-04 20:57:55 & 2105-06-06 20:01:51 & 1                   & 62.84018            & 1                   & NA                  & ⋯                   & 0                   & 1                   & 1                   & 0                   & 0                   & 0                   & 0                   & 0                   & 0.2244447           & 1.289399           \\\\\n",
       "\t 264413              & 134244              & 81436               & MICU                & 2133-03-27 16:31:37 & 2133-04-04 16:15:28 & 1                   & 62.60148            & 1                   & 2133-03-31          & ⋯                   & 0                   & 1                   & 1                   & 0                   & 0                   & 1                   & 1                   & 0                   & 0.3320492           & 3.011602           \\\\\n",
       "\\end{tabular}\n"
      ],
      "text/markdown": [
       "\n",
       "icustay_id | hadm_id | subject_id | first_careunit | intime | outtime | angus | age | icu_order | echo_time | ⋯ | lab_pco2_flag | lab_creatinine_flag | lab_potassium_flag | lab_troponin_flag | lab_po2_flag | lab_lactate_flag | echo_int | mort_28_day_int | ps | ps_weight | \n",
       "|---|---|---|---|---|---|\n",
       "| 228416              | 159895              |  5491               | MICU                | 2151-06-29 01:18:27 | 2151-07-27 16:00:56 | 1                   | 76.58225            | 1                   | 2151-06-30          | ⋯                   | 1                   | 1                   | 1                   | 0                   | 1                   | 1                   | 1                   | 0                   | 0.5525232           | 1.809879            | \n",
       "| 278148              | 169700              | 49395               | MICU                | 2197-01-09 00:45:42 | 2197-01-10 06:46:29 | 1                   | 82.72606            | 1                   | NA                  | ⋯                   | 0                   | 1                   | 1                   | 0                   | 0                   | 0                   | 0                   | 1                   | 0.2804613           | 1.389779            | \n",
       "| 274174              | 103722              | 14855               | MICU                | 2181-09-08 23:43:13 | 2181-09-26 16:52:02 | 1                   | 61.84390            | 1                   | 2181-09-11          | ⋯                   | 1                   | 1                   | 1                   | 0                   | 1                   | 1                   | 1                   | 0                   | 0.3012020           | 3.320031            | \n",
       "| 214954              | 170515              | 54642               | MICU                | 2176-03-11 04:58:23 | 2176-03-15 18:00:48 | 1                   | 63.86507            | 1                   | 2176-03-11          | ⋯                   | 1                   | 1                   | 1                   | 1                   | 1                   | 1                   | 1                   | 0                   | 0.7982833           | 1.252688            | \n",
       "| 222457              | 183493              | 96815               | MICU                | 2105-06-04 20:57:55 | 2105-06-06 20:01:51 | 1                   | 62.84018            | 1                   | NA                  | ⋯                   | 0                   | 1                   | 1                   | 0                   | 0                   | 0                   | 0                   | 0                   | 0.2244447           | 1.289399            | \n",
       "| 264413              | 134244              | 81436               | MICU                | 2133-03-27 16:31:37 | 2133-04-04 16:15:28 | 1                   | 62.60148            | 1                   | 2133-03-31          | ⋯                   | 0                   | 1                   | 1                   | 0                   | 0                   | 1                   | 1                   | 0                   | 0.3320492           | 3.011602            | \n",
       "\n",
       "\n"
      ],
      "text/plain": [
       "  icustay_id hadm_id subject_id first_careunit intime             \n",
       "1 228416     159895   5491      MICU           2151-06-29 01:18:27\n",
       "2 278148     169700  49395      MICU           2197-01-09 00:45:42\n",
       "3 274174     103722  14855      MICU           2181-09-08 23:43:13\n",
       "4 214954     170515  54642      MICU           2176-03-11 04:58:23\n",
       "5 222457     183493  96815      MICU           2105-06-04 20:57:55\n",
       "6 264413     134244  81436      MICU           2133-03-27 16:31:37\n",
       "  outtime             angus age      icu_order echo_time  ⋯ lab_pco2_flag\n",
       "1 2151-07-27 16:00:56 1     76.58225 1         2151-06-30 ⋯ 1            \n",
       "2 2197-01-10 06:46:29 1     82.72606 1         <NA>       ⋯ 0            \n",
       "3 2181-09-26 16:52:02 1     61.84390 1         2181-09-11 ⋯ 1            \n",
       "4 2176-03-15 18:00:48 1     63.86507 1         2176-03-11 ⋯ 1            \n",
       "5 2105-06-06 20:01:51 1     62.84018 1         <NA>       ⋯ 0            \n",
       "6 2133-04-04 16:15:28 1     62.60148 1         2133-03-31 ⋯ 0            \n",
       "  lab_creatinine_flag lab_potassium_flag lab_troponin_flag lab_po2_flag\n",
       "1 1                   1                  0                 1           \n",
       "2 1                   1                  0                 0           \n",
       "3 1                   1                  0                 1           \n",
       "4 1                   1                  1                 1           \n",
       "5 1                   1                  0                 0           \n",
       "6 1                   1                  0                 0           \n",
       "  lab_lactate_flag echo_int mort_28_day_int ps        ps_weight\n",
       "1 1                1        0               0.5525232 1.809879 \n",
       "2 0                0        1               0.2804613 1.389779 \n",
       "3 1                1        0               0.3012020 3.320031 \n",
       "4 1                1        0               0.7982833 1.252688 \n",
       "5 0                0        0               0.2244447 1.289399 \n",
       "6 1                1        0               0.3320492 3.011602 "
      ]
     },
     "metadata": {},
     "output_type": "display_data"
    }
   ],
   "source": [
    "full_data <- readRDS(file.path(data_dir, \"full_data_ps.rds\"))\n",
    "head(full_data)"
   ]
  },
  {
   "cell_type": "code",
   "execution_count": 4,
   "metadata": {},
   "outputs": [],
   "source": [
    "set.seed(4958)"
   ]
  },
  {
   "cell_type": "code",
   "execution_count": 5,
   "metadata": {},
   "outputs": [
    {
     "name": "stderr",
     "output_type": "stream",
     "text": [
      "Warning message in Match(Y = full_data$mort_28_day_int, Tr = full_data$echo_int, :\n",
      "“replace==FALSE, but there are more (weighted) treated obs than control obs.  Some treated obs will not be matched.  You may want to estimate ATC instead.”"
     ]
    }
   ],
   "source": [
    "ps_matches <- Match(Y = full_data$mort_28_day_int, Tr = full_data$echo_int,\n",
    "                    X = full_data$ps, M = 1, estimand = \"ATT\", caliper = 0.01,\n",
    "                    exact = FALSE, replace = FALSE, ties = FALSE)"
   ]
  },
  {
   "cell_type": "code",
   "execution_count": 6,
   "metadata": {},
   "outputs": [
    {
     "data": {
      "text/html": [
       "<table>\n",
       "<thead><tr><th scope=col>icustay_id</th><th scope=col>group</th><th scope=col>match</th></tr></thead>\n",
       "<tbody>\n",
       "\t<tr><td>262436</td><td>ctrl  </td><td>1     </td></tr>\n",
       "\t<tr><td>244460</td><td>ctrl  </td><td>2     </td></tr>\n",
       "\t<tr><td>298177</td><td>ctrl  </td><td>3     </td></tr>\n",
       "\t<tr><td>290165</td><td>ctrl  </td><td>4     </td></tr>\n",
       "\t<tr><td>278397</td><td>ctrl  </td><td>5     </td></tr>\n",
       "\t<tr><td>212022</td><td>ctrl  </td><td>6     </td></tr>\n",
       "</tbody>\n",
       "</table>\n"
      ],
      "text/latex": [
       "\\begin{tabular}{r|lll}\n",
       " icustay\\_id & group & match\\\\\n",
       "\\hline\n",
       "\t 262436 & ctrl   & 1     \\\\\n",
       "\t 244460 & ctrl   & 2     \\\\\n",
       "\t 298177 & ctrl   & 3     \\\\\n",
       "\t 290165 & ctrl   & 4     \\\\\n",
       "\t 278397 & ctrl   & 5     \\\\\n",
       "\t 212022 & ctrl   & 6     \\\\\n",
       "\\end{tabular}\n"
      ],
      "text/markdown": [
       "\n",
       "icustay_id | group | match | \n",
       "|---|---|---|---|---|---|\n",
       "| 262436 | ctrl   | 1      | \n",
       "| 244460 | ctrl   | 2      | \n",
       "| 298177 | ctrl   | 3      | \n",
       "| 290165 | ctrl   | 4      | \n",
       "| 278397 | ctrl   | 5      | \n",
       "| 212022 | ctrl   | 6      | \n",
       "\n",
       "\n"
      ],
      "text/plain": [
       "  icustay_id group match\n",
       "1 262436     ctrl  1    \n",
       "2 244460     ctrl  2    \n",
       "3 298177     ctrl  3    \n",
       "4 290165     ctrl  4    \n",
       "5 278397     ctrl  5    \n",
       "6 212022     ctrl  6    "
      ]
     },
     "metadata": {},
     "output_type": "display_data"
    }
   ],
   "source": [
    "ps_matches_df <-\n",
    "full_data[ps_matches$index.treated, \"icustay_id\", drop = FALSE] %>%\n",
    "mutate(match = full_data[ps_matches$index.control, \"icustay_id\"]) %>%\n",
    "rename(trtd = icustay_id, ctrl = match) %>%\n",
    "mutate(match = 1:n()) %>%\n",
    "gather(\"group\", \"icustay_id\", trtd, ctrl) %>%\n",
    "select(icustay_id, group, match) %>%\n",
    "arrange(group, match)\n",
    "\n",
    "head(ps_matches_df)"
   ]
  },
  {
   "cell_type": "code",
   "execution_count": 7,
   "metadata": {},
   "outputs": [],
   "source": [
    "# saveRDS(ps_matches, file = file.path(data_dir, \"ps_matches.rds\"))\n",
    "data.table::fwrite(ps_matches_df, file.path(data_dir, \"ps_matches_df.csv\"))"
   ]
  },
  {
   "cell_type": "code",
   "execution_count": 8,
   "metadata": {},
   "outputs": [
    {
     "data": {
      "text/html": [
       "1626"
      ],
      "text/latex": [
       "1626"
      ],
      "text/markdown": [
       "1626"
      ],
      "text/plain": [
       "[1] 1626"
      ]
     },
     "metadata": {},
     "output_type": "display_data"
    },
    {
     "data": {
      "text/html": [
       "<ol class=list-inline>\n",
       "\t<li>262436</li>\n",
       "\t<li>244460</li>\n",
       "\t<li>298177</li>\n",
       "\t<li>290165</li>\n",
       "\t<li>278397</li>\n",
       "\t<li>212022</li>\n",
       "</ol>\n"
      ],
      "text/latex": [
       "\\begin{enumerate*}\n",
       "\\item 262436\n",
       "\\item 244460\n",
       "\\item 298177\n",
       "\\item 290165\n",
       "\\item 278397\n",
       "\\item 212022\n",
       "\\end{enumerate*}\n"
      ],
      "text/markdown": [
       "1. 262436\n",
       "2. 244460\n",
       "3. 298177\n",
       "4. 290165\n",
       "5. 278397\n",
       "6. 212022\n",
       "\n",
       "\n"
      ],
      "text/plain": [
       "[1] 262436 244460 298177 290165 278397 212022"
      ]
     },
     "metadata": {},
     "output_type": "display_data"
    }
   ],
   "source": [
    "ids <- full_data[unlist(ps_matches[c(\"index.control\", \"index.treated\")]), \"icustay_id\"]\n",
    "length(ids) / 2\n",
    "head(ids)"
   ]
  },
  {
   "cell_type": "code",
   "execution_count": 9,
   "metadata": {},
   "outputs": [],
   "source": [
    "data.table::fwrite(data.frame(icustay_id = ids), file = file.path(data_dir, \"ps_icustay_id\"))"
   ]
  },
  {
   "cell_type": "code",
   "execution_count": 10,
   "metadata": {},
   "outputs": [
    {
     "name": "stdout",
     "output_type": "stream",
     "text": [
      "\n",
      "Estimate...  -0.04674 \n",
      "SE.........  0.015145 \n",
      "T-stat.....  -3.0861 \n",
      "p.val......  0.0020277 \n",
      "\n",
      "Original number of observations..............  6361 \n",
      "Original number of treated obs...............  3262 \n",
      "Matched number of observations...............  1626 \n",
      "Matched number of observations  (unweighted).  1626 \n",
      "\n",
      "Number of obs dropped by 'exact' or 'caliper'  1636 \n",
      "\n"
     ]
    }
   ],
   "source": [
    "summary(ps_matches)"
   ]
  },
  {
   "cell_type": "code",
   "execution_count": 11,
   "metadata": {},
   "outputs": [],
   "source": [
    "outcome <- data.frame(echo_pt = full_data$mort_28_day_int[ps_matches$index.treated],\n",
    "                      match_pt = full_data$mort_28_day_int[ps_matches$index.control])"
   ]
  },
  {
   "cell_type": "code",
   "execution_count": 12,
   "metadata": {},
   "outputs": [
    {
     "data": {
      "text/html": [
       "<table>\n",
       "<thead><tr><th scope=col>echo_pt</th><th scope=col>match_pt</th></tr></thead>\n",
       "<tbody>\n",
       "\t<tr><td>0</td><td>1</td></tr>\n",
       "\t<tr><td>0</td><td>0</td></tr>\n",
       "\t<tr><td>0</td><td>1</td></tr>\n",
       "\t<tr><td>0</td><td>0</td></tr>\n",
       "\t<tr><td>1</td><td>0</td></tr>\n",
       "\t<tr><td>0</td><td>1</td></tr>\n",
       "</tbody>\n",
       "</table>\n"
      ],
      "text/latex": [
       "\\begin{tabular}{r|ll}\n",
       " echo\\_pt & match\\_pt\\\\\n",
       "\\hline\n",
       "\t 0 & 1\\\\\n",
       "\t 0 & 0\\\\\n",
       "\t 0 & 1\\\\\n",
       "\t 0 & 0\\\\\n",
       "\t 1 & 0\\\\\n",
       "\t 0 & 1\\\\\n",
       "\\end{tabular}\n"
      ],
      "text/markdown": [
       "\n",
       "echo_pt | match_pt | \n",
       "|---|---|---|---|---|---|\n",
       "| 0 | 1 | \n",
       "| 0 | 0 | \n",
       "| 0 | 1 | \n",
       "| 0 | 0 | \n",
       "| 1 | 0 | \n",
       "| 0 | 1 | \n",
       "\n",
       "\n"
      ],
      "text/plain": [
       "  echo_pt match_pt\n",
       "1 0       1       \n",
       "2 0       0       \n",
       "3 0       1       \n",
       "4 0       0       \n",
       "5 1       0       \n",
       "6 0       1       "
      ]
     },
     "metadata": {},
     "output_type": "display_data"
    }
   ],
   "source": [
    "head(outcome)"
   ]
  },
  {
   "cell_type": "code",
   "execution_count": 13,
   "metadata": {},
   "outputs": [
    {
     "data": {
      "text/plain": [
       "    Non-Echo\n",
       "Echo   0   1\n",
       "   0 869 343\n",
       "   1 267 147"
      ]
     },
     "metadata": {},
     "output_type": "display_data"
    },
    {
     "data": {
      "text/html": [
       "0.778425655976676"
      ],
      "text/latex": [
       "0.778425655976676"
      ],
      "text/markdown": [
       "0.778425655976676"
      ],
      "text/plain": [
       "[1] 0.7784257"
      ]
     },
     "metadata": {},
     "output_type": "display_data"
    },
    {
     "data": {
      "text/html": [
       "<ol class=list-inline>\n",
       "\t<li>'95% Confint 0.6633574'</li>\n",
       "\t<li>'95% Confint 0.9134541'</li>\n",
       "</ol>\n"
      ],
      "text/latex": [
       "\\begin{enumerate*}\n",
       "\\item '95\\% Confint 0.6633574'\n",
       "\\item '95\\% Confint 0.9134541'\n",
       "\\end{enumerate*}\n"
      ],
      "text/markdown": [
       "1. '95% Confint 0.6633574'\n",
       "2. '95% Confint 0.9134541'\n",
       "\n",
       "\n"
      ],
      "text/plain": [
       "[1] \"95% Confint 0.6633574\" \"95% Confint 0.9134541\""
      ]
     },
     "metadata": {},
     "output_type": "display_data"
    },
    {
     "data": {
      "text/plain": [
       "\n",
       "\tMcNemar's Chi-squared test with continuity correction\n",
       "\n",
       "data:  tab\n",
       "McNemar's chi-squared = 9.2213, df = 1, p-value = 0.002392\n"
      ]
     },
     "metadata": {},
     "output_type": "display_data"
    }
   ],
   "source": [
    "tab <- table(outcome$echo_pt, outcome$match_pt, dnn = c(\"Echo\", \"Non-Echo\"))\n",
    "tab\n",
    "tab[2, 1] / tab[1, 2]\n",
    "paste(\"95% Confint\",\n",
    "      round(exp(c(log(tab[2, 1] / tab[1, 2]) - qnorm(0.975) * sqrt(1 / tab[1, 2] + 1 / tab[2, 1]),\n",
    "                  log(tab[2, 1] / tab[1, 2]) + qnorm(0.975) * sqrt(1 / tab[1, 2] + 1 / tab[2, 1]))), 7))\n",
    "mcnemar.test(tab) # for 1-1 pairs"
   ]
  },
  {
   "cell_type": "code",
   "execution_count": 14,
   "metadata": {},
   "outputs": [
    {
     "data": {
      "text/html": [
       "0.301353013530135"
      ],
      "text/latex": [
       "0.301353013530135"
      ],
      "text/markdown": [
       "0.301353013530135"
      ],
      "text/plain": [
       "[1] 0.301353"
      ]
     },
     "metadata": {},
     "output_type": "display_data"
    },
    {
     "data": {
      "text/html": [
       "0.254612546125461"
      ],
      "text/latex": [
       "0.254612546125461"
      ],
      "text/markdown": [
       "0.254612546125461"
      ],
      "text/plain": [
       "[1] 0.2546125"
      ]
     },
     "metadata": {},
     "output_type": "display_data"
    }
   ],
   "source": [
    "(tab[2, 2] + tab[1, 2]) / sum(tab)\n",
    "(tab[2, 2] + tab[2, 1]) / sum(tab)"
   ]
  },
  {
   "cell_type": "code",
   "execution_count": 15,
   "metadata": {},
   "outputs": [
    {
     "data": {
      "text/html": [
       "<table>\n",
       "<thead><tr><th scope=col>echo</th><th scope=col>mortality</th></tr></thead>\n",
       "<tbody>\n",
       "\t<tr><td>0        </td><td>0.3013530</td></tr>\n",
       "\t<tr><td>1        </td><td>0.2546125</td></tr>\n",
       "</tbody>\n",
       "</table>\n"
      ],
      "text/latex": [
       "\\begin{tabular}{r|ll}\n",
       " echo & mortality\\\\\n",
       "\\hline\n",
       "\t 0         & 0.3013530\\\\\n",
       "\t 1         & 0.2546125\\\\\n",
       "\\end{tabular}\n"
      ],
      "text/markdown": [
       "\n",
       "echo | mortality | \n",
       "|---|---|\n",
       "| 0         | 0.3013530 | \n",
       "| 1         | 0.2546125 | \n",
       "\n",
       "\n"
      ],
      "text/plain": [
       "  echo mortality\n",
       "1 0    0.3013530\n",
       "2 1    0.2546125"
      ]
     },
     "metadata": {},
     "output_type": "display_data"
    }
   ],
   "source": [
    "mortality <- data.frame(echo = c(0, 1),\n",
    "                        mortality = c((tab[2, 2] + tab[1, 2]) / sum(tab),\n",
    "                                      (tab[2, 2] + tab[2, 1]) / sum(tab)))\n",
    "mortality"
   ]
  },
  {
   "cell_type": "code",
   "execution_count": 16,
   "metadata": {},
   "outputs": [
    {
     "data": {
      "text/html": [
       "<table>\n",
       "<thead><tr><th scope=col>Method</th><th scope=col>Echo</th><th scope=col>Non_echo</th></tr></thead>\n",
       "<tbody>\n",
       "\t<tr><td>PS Match </td><td>0.2546125</td><td>0.301353 </td></tr>\n",
       "</tbody>\n",
       "</table>\n"
      ],
      "text/latex": [
       "\\begin{tabular}{r|lll}\n",
       " Method & Echo & Non\\_echo\\\\\n",
       "\\hline\n",
       "\t PS Match  & 0.2546125 & 0.301353 \\\\\n",
       "\\end{tabular}\n"
      ],
      "text/markdown": [
       "\n",
       "Method | Echo | Non_echo | \n",
       "|---|\n",
       "| PS Match  | 0.2546125 | 0.301353  | \n",
       "\n",
       "\n"
      ],
      "text/plain": [
       "  Method   Echo      Non_echo\n",
       "1 PS Match 0.2546125 0.301353"
      ]
     },
     "metadata": {},
     "output_type": "display_data"
    }
   ],
   "source": [
    "mort_fmt <- mortality %>%\n",
    "mutate(echo = case_when(\n",
    "    echo == 0 ~ \"Non_echo\",\n",
    "    echo == 1 ~ \"Echo\"\n",
    ")) %>%\n",
    "select(echo, mortality) %>%\n",
    "spread(echo, mortality) %>%\n",
    "mutate(Method = \"PS Match\") %>%\n",
    "select(Method, Echo, Non_echo)\n",
    "mort_fmt"
   ]
  },
  {
   "cell_type": "code",
   "execution_count": 17,
   "metadata": {},
   "outputs": [],
   "source": [
    "data.table::fwrite(mort_fmt, file.path(data_dir, \"mort_ps.csv\"))"
   ]
  }
 ],
 "metadata": {
  "kernelspec": {
   "display_name": "R",
   "language": "R",
   "name": "ir"
  },
  "language_info": {
   "codemirror_mode": "r",
   "file_extension": ".r",
   "mimetype": "text/x-r-source",
   "name": "R",
   "pygments_lexer": "r",
   "version": "3.4.3"
  },
  "varInspector": {
   "cols": {
    "lenName": 16,
    "lenType": 16,
    "lenVar": 40
   },
   "kernels_config": {
    "python": {
     "delete_cmd_postfix": "",
     "delete_cmd_prefix": "del ",
     "library": "var_list.py",
     "varRefreshCmd": "print(var_dic_list())"
    },
    "r": {
     "delete_cmd_postfix": ") ",
     "delete_cmd_prefix": "rm(",
     "library": "var_list.r",
     "varRefreshCmd": "cat(var_dic_list()) "
    }
   },
   "types_to_exclude": [
    "module",
    "function",
    "builtin_function_or_method",
    "instance",
    "_Feature"
   ],
   "window_display": false
  }
 },
 "nbformat": 4,
 "nbformat_minor": 2
}
