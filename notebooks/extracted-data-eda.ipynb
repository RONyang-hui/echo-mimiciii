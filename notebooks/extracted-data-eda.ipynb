{
 "cells": [
  {
   "cell_type": "code",
   "execution_count": 1,
   "metadata": {},
   "outputs": [
    {
     "name": "stderr",
     "output_type": "stream",
     "text": [
      "── Attaching packages ─────────────────────────────────────── tidyverse 1.2.1 ──\n",
      "✔ ggplot2 2.2.1     ✔ purrr   0.2.4\n",
      "✔ tibble  1.3.4     ✔ dplyr   0.7.4\n",
      "✔ tidyr   0.7.2     ✔ stringr 1.2.0\n",
      "✔ readr   1.1.1     ✔ forcats 0.2.0\n",
      "── Conflicts ────────────────────────────────────────── tidyverse_conflicts() ──\n",
      "✖ dplyr::filter() masks stats::filter()\n",
      "✖ dplyr::lag()    masks stats::lag()\n",
      "Loading required package: DBI\n"
     ]
    }
   ],
   "source": [
    "library(tidyverse)\n",
    "library(RPostgreSQL)"
   ]
  },
  {
   "cell_type": "code",
   "execution_count": 2,
   "metadata": {},
   "outputs": [],
   "source": [
    "data_dir <- file.path(\"..\", \"data\")\n",
    "sql_dir <- file.path(\"..\", \"sql\")"
   ]
  },
  {
   "cell_type": "code",
   "execution_count": 3,
   "metadata": {},
   "outputs": [
    {
     "data": {
      "text/plain": [
       "<PostgreSQLResult>"
      ]
     },
     "metadata": {},
     "output_type": "display_data"
    }
   ],
   "source": [
    "drv <- dbDriver(\"PostgreSQL\")\n",
    "con <- dbConnect(drv, dbname = \"mimic\")\n",
    "dbSendQuery(con, \"set search_path=echo,public,mimiciii;\")"
   ]
  },
  {
   "cell_type": "code",
   "execution_count": 4,
   "metadata": {},
   "outputs": [],
   "source": [
    "full_data <- dbGetQuery(con, \"select * from merged_data\")"
   ]
  },
  {
   "cell_type": "code",
   "execution_count": 5,
   "metadata": {},
   "outputs": [
    {
     "data": {
      "text/html": [
       "TRUE"
      ],
      "text/latex": [
       "TRUE"
      ],
      "text/markdown": [
       "TRUE"
      ],
      "text/plain": [
       "[1] TRUE"
      ]
     },
     "metadata": {},
     "output_type": "display_data"
    },
    {
     "data": {
      "text/html": [
       "TRUE"
      ],
      "text/latex": [
       "TRUE"
      ],
      "text/markdown": [
       "TRUE"
      ],
      "text/plain": [
       "[1] TRUE"
      ]
     },
     "metadata": {},
     "output_type": "display_data"
    }
   ],
   "source": [
    "dbDisconnect(con)\n",
    "dbUnloadDriver(drv)"
   ]
  },
  {
   "cell_type": "code",
   "execution_count": 6,
   "metadata": {},
   "outputs": [
    {
     "data": {
      "text/html": [
       "<table>\n",
       "<thead><tr><th scope=col>covariate</th><th scope=col>missing</th></tr></thead>\n",
       "<tbody>\n",
       "\t<tr><td>lab_bnp_first                 </td><td>97.24                         </td></tr>\n",
       "\t<tr><td>lab_bnp_min                   </td><td>97.24                         </td></tr>\n",
       "\t<tr><td>lab_bnp_max                   </td><td>97.24                         </td></tr>\n",
       "\t<tr><td>lab_bnp_abnormal              </td><td>97.24                         </td></tr>\n",
       "\t<tr><td>lab_troponin_first            </td><td>69.02                         </td></tr>\n",
       "\t<tr><td>lab_troponin_min              </td><td>69.02                         </td></tr>\n",
       "\t<tr><td>lab_troponin_max              </td><td>69.02                         </td></tr>\n",
       "\t<tr><td>lab_troponin_abnormal         </td><td>69.02                         </td></tr>\n",
       "\t<tr><td>vs_cvp_first                  </td><td>64.59                         </td></tr>\n",
       "\t<tr><td>vs_cvp_min                    </td><td>64.59                         </td></tr>\n",
       "\t<tr><td>vs_cvp_max                    </td><td>64.59                         </td></tr>\n",
       "\t<tr><td>lab_creatinine_kinase_first   </td><td>51.27                         </td></tr>\n",
       "\t<tr><td>lab_creatinine_kinase_min     </td><td>51.27                         </td></tr>\n",
       "\t<tr><td>lab_creatinine_kinase_max     </td><td>51.27                         </td></tr>\n",
       "\t<tr><td>lab_creatinine_kinase_abnormal</td><td>51.27                         </td></tr>\n",
       "\t<tr><td>echo_time                     </td><td>50.29                         </td></tr>\n",
       "\t<tr><td>lab_lactate_first             </td><td>38.10                         </td></tr>\n",
       "\t<tr><td>lab_lactate_min               </td><td>38.10                         </td></tr>\n",
       "\t<tr><td>lab_lactate_max               </td><td>38.10                         </td></tr>\n",
       "\t<tr><td>lab_lactate_abnormal          </td><td>38.10                         </td></tr>\n",
       "\t<tr><td>lab_po2_first                 </td><td>33.20                         </td></tr>\n",
       "\t<tr><td>lab_po2_min                   </td><td>33.20                         </td></tr>\n",
       "\t<tr><td>lab_po2_max                   </td><td>33.20                         </td></tr>\n",
       "\t<tr><td>lab_po2_abnormal              </td><td>33.20                         </td></tr>\n",
       "\t<tr><td>lab_pco2_first                </td><td>33.20                         </td></tr>\n",
       "\t<tr><td>lab_pco2_min                  </td><td>33.20                         </td></tr>\n",
       "\t<tr><td>lab_pco2_max                  </td><td>33.20                         </td></tr>\n",
       "\t<tr><td>lab_pco2_abnormal             </td><td>33.20                         </td></tr>\n",
       "\t<tr><td>lab_ph_first                  </td><td>30.61                         </td></tr>\n",
       "\t<tr><td>lab_ph_min                    </td><td>30.61                         </td></tr>\n",
       "\t<tr><td>⋮</td><td>⋮</td></tr>\n",
       "\t<tr><td>vs_heart_rate_max</td><td>1.2              </td></tr>\n",
       "\t<tr><td>icustay_id       </td><td>0.0              </td></tr>\n",
       "\t<tr><td>hadm_id          </td><td>0.0              </td></tr>\n",
       "\t<tr><td>subject_id       </td><td>0.0              </td></tr>\n",
       "\t<tr><td>first_careunit   </td><td>0.0              </td></tr>\n",
       "\t<tr><td>intime           </td><td>0.0              </td></tr>\n",
       "\t<tr><td>outtime          </td><td>0.0              </td></tr>\n",
       "\t<tr><td>angus            </td><td>0.0              </td></tr>\n",
       "\t<tr><td>age              </td><td>0.0              </td></tr>\n",
       "\t<tr><td>icu_order        </td><td>0.0              </td></tr>\n",
       "\t<tr><td>echo             </td><td>0.0              </td></tr>\n",
       "\t<tr><td>gender           </td><td>0.0              </td></tr>\n",
       "\t<tr><td>saps             </td><td>0.0              </td></tr>\n",
       "\t<tr><td>sofa             </td><td>0.0              </td></tr>\n",
       "\t<tr><td>elix_score       </td><td>0.0              </td></tr>\n",
       "\t<tr><td>vent             </td><td>0.0              </td></tr>\n",
       "\t<tr><td>vaso             </td><td>0.0              </td></tr>\n",
       "\t<tr><td>icu_adm_weekday  </td><td>0.0              </td></tr>\n",
       "\t<tr><td>icu_adm_hour     </td><td>0.0              </td></tr>\n",
       "\t<tr><td>mort_28_day      </td><td>0.0              </td></tr>\n",
       "\t<tr><td>icu_los_day      </td><td>0.0              </td></tr>\n",
       "\t<tr><td>icd_chf          </td><td>0.0              </td></tr>\n",
       "\t<tr><td>icd_afib         </td><td>0.0              </td></tr>\n",
       "\t<tr><td>icd_renal        </td><td>0.0              </td></tr>\n",
       "\t<tr><td>icd_liver        </td><td>0.0              </td></tr>\n",
       "\t<tr><td>icd_copd         </td><td>0.0              </td></tr>\n",
       "\t<tr><td>icd_cad          </td><td>0.0              </td></tr>\n",
       "\t<tr><td>icd_stroke       </td><td>0.0              </td></tr>\n",
       "\t<tr><td>icd_malignancy   </td><td>0.0              </td></tr>\n",
       "\t<tr><td>sedative         </td><td>0.0              </td></tr>\n",
       "</tbody>\n",
       "</table>\n"
      ],
      "text/latex": [
       "\\begin{tabular}{r|ll}\n",
       " covariate & missing\\\\\n",
       "\\hline\n",
       "\t lab\\_bnp\\_first                  & 97.24                             \\\\\n",
       "\t lab\\_bnp\\_min                    & 97.24                             \\\\\n",
       "\t lab\\_bnp\\_max                    & 97.24                             \\\\\n",
       "\t lab\\_bnp\\_abnormal               & 97.24                             \\\\\n",
       "\t lab\\_troponin\\_first             & 69.02                             \\\\\n",
       "\t lab\\_troponin\\_min               & 69.02                             \\\\\n",
       "\t lab\\_troponin\\_max               & 69.02                             \\\\\n",
       "\t lab\\_troponin\\_abnormal          & 69.02                             \\\\\n",
       "\t vs\\_cvp\\_first                   & 64.59                             \\\\\n",
       "\t vs\\_cvp\\_min                     & 64.59                             \\\\\n",
       "\t vs\\_cvp\\_max                     & 64.59                             \\\\\n",
       "\t lab\\_creatinine\\_kinase\\_first    & 51.27                               \\\\\n",
       "\t lab\\_creatinine\\_kinase\\_min      & 51.27                               \\\\\n",
       "\t lab\\_creatinine\\_kinase\\_max      & 51.27                               \\\\\n",
       "\t lab\\_creatinine\\_kinase\\_abnormal & 51.27                               \\\\\n",
       "\t echo\\_time                      & 50.29                           \\\\\n",
       "\t lab\\_lactate\\_first              & 38.10                             \\\\\n",
       "\t lab\\_lactate\\_min                & 38.10                             \\\\\n",
       "\t lab\\_lactate\\_max                & 38.10                             \\\\\n",
       "\t lab\\_lactate\\_abnormal           & 38.10                             \\\\\n",
       "\t lab\\_po2\\_first                  & 33.20                             \\\\\n",
       "\t lab\\_po2\\_min                    & 33.20                             \\\\\n",
       "\t lab\\_po2\\_max                    & 33.20                             \\\\\n",
       "\t lab\\_po2\\_abnormal               & 33.20                             \\\\\n",
       "\t lab\\_pco2\\_first                 & 33.20                             \\\\\n",
       "\t lab\\_pco2\\_min                   & 33.20                             \\\\\n",
       "\t lab\\_pco2\\_max                   & 33.20                             \\\\\n",
       "\t lab\\_pco2\\_abnormal              & 33.20                             \\\\\n",
       "\t lab\\_ph\\_first                   & 30.61                             \\\\\n",
       "\t lab\\_ph\\_min                     & 30.61                             \\\\\n",
       "\t ⋮ & ⋮\\\\\n",
       "\t vs\\_heart\\_rate\\_max & 1.2                    \\\\\n",
       "\t icustay\\_id        & 0.0                \\\\\n",
       "\t hadm\\_id           & 0.0                \\\\\n",
       "\t subject\\_id        & 0.0                \\\\\n",
       "\t first\\_careunit    & 0.0                \\\\\n",
       "\t intime            & 0.0              \\\\\n",
       "\t outtime           & 0.0              \\\\\n",
       "\t angus             & 0.0              \\\\\n",
       "\t age               & 0.0              \\\\\n",
       "\t icu\\_order         & 0.0                \\\\\n",
       "\t echo              & 0.0              \\\\\n",
       "\t gender            & 0.0              \\\\\n",
       "\t saps              & 0.0              \\\\\n",
       "\t sofa              & 0.0              \\\\\n",
       "\t elix\\_score        & 0.0                \\\\\n",
       "\t vent              & 0.0              \\\\\n",
       "\t vaso              & 0.0              \\\\\n",
       "\t icu\\_adm\\_weekday   & 0.0                  \\\\\n",
       "\t icu\\_adm\\_hour      & 0.0                  \\\\\n",
       "\t mort\\_28\\_day       & 0.0                  \\\\\n",
       "\t icu\\_los\\_day       & 0.0                  \\\\\n",
       "\t icd\\_chf           & 0.0                \\\\\n",
       "\t icd\\_afib          & 0.0                \\\\\n",
       "\t icd\\_renal         & 0.0                \\\\\n",
       "\t icd\\_liver         & 0.0                \\\\\n",
       "\t icd\\_copd          & 0.0                \\\\\n",
       "\t icd\\_cad           & 0.0                \\\\\n",
       "\t icd\\_stroke        & 0.0                \\\\\n",
       "\t icd\\_malignancy    & 0.0                \\\\\n",
       "\t sedative          & 0.0              \\\\\n",
       "\\end{tabular}\n"
      ],
      "text/markdown": [
       "\n",
       "covariate | missing | \n",
       "|---|---|---|---|---|---|---|---|---|---|---|---|---|---|---|---|---|---|---|---|---|---|---|---|---|---|---|---|---|---|---|---|---|---|---|---|---|---|---|---|---|---|---|---|---|---|---|---|---|---|---|---|---|---|---|---|---|---|---|---|---|\n",
       "| lab_bnp_first                  | 97.24                          | \n",
       "| lab_bnp_min                    | 97.24                          | \n",
       "| lab_bnp_max                    | 97.24                          | \n",
       "| lab_bnp_abnormal               | 97.24                          | \n",
       "| lab_troponin_first             | 69.02                          | \n",
       "| lab_troponin_min               | 69.02                          | \n",
       "| lab_troponin_max               | 69.02                          | \n",
       "| lab_troponin_abnormal          | 69.02                          | \n",
       "| vs_cvp_first                   | 64.59                          | \n",
       "| vs_cvp_min                     | 64.59                          | \n",
       "| vs_cvp_max                     | 64.59                          | \n",
       "| lab_creatinine_kinase_first    | 51.27                          | \n",
       "| lab_creatinine_kinase_min      | 51.27                          | \n",
       "| lab_creatinine_kinase_max      | 51.27                          | \n",
       "| lab_creatinine_kinase_abnormal | 51.27                          | \n",
       "| echo_time                      | 50.29                          | \n",
       "| lab_lactate_first              | 38.10                          | \n",
       "| lab_lactate_min                | 38.10                          | \n",
       "| lab_lactate_max                | 38.10                          | \n",
       "| lab_lactate_abnormal           | 38.10                          | \n",
       "| lab_po2_first                  | 33.20                          | \n",
       "| lab_po2_min                    | 33.20                          | \n",
       "| lab_po2_max                    | 33.20                          | \n",
       "| lab_po2_abnormal               | 33.20                          | \n",
       "| lab_pco2_first                 | 33.20                          | \n",
       "| lab_pco2_min                   | 33.20                          | \n",
       "| lab_pco2_max                   | 33.20                          | \n",
       "| lab_pco2_abnormal              | 33.20                          | \n",
       "| lab_ph_first                   | 30.61                          | \n",
       "| lab_ph_min                     | 30.61                          | \n",
       "| ⋮ | ⋮ | \n",
       "| vs_heart_rate_max | 1.2               | \n",
       "| icustay_id        | 0.0               | \n",
       "| hadm_id           | 0.0               | \n",
       "| subject_id        | 0.0               | \n",
       "| first_careunit    | 0.0               | \n",
       "| intime            | 0.0               | \n",
       "| outtime           | 0.0               | \n",
       "| angus             | 0.0               | \n",
       "| age               | 0.0               | \n",
       "| icu_order         | 0.0               | \n",
       "| echo              | 0.0               | \n",
       "| gender            | 0.0               | \n",
       "| saps              | 0.0               | \n",
       "| sofa              | 0.0               | \n",
       "| elix_score        | 0.0               | \n",
       "| vent              | 0.0               | \n",
       "| vaso              | 0.0               | \n",
       "| icu_adm_weekday   | 0.0               | \n",
       "| icu_adm_hour      | 0.0               | \n",
       "| mort_28_day       | 0.0               | \n",
       "| icu_los_day       | 0.0               | \n",
       "| icd_chf           | 0.0               | \n",
       "| icd_afib          | 0.0               | \n",
       "| icd_renal         | 0.0               | \n",
       "| icd_liver         | 0.0               | \n",
       "| icd_copd          | 0.0               | \n",
       "| icd_cad           | 0.0               | \n",
       "| icd_stroke        | 0.0               | \n",
       "| icd_malignancy    | 0.0               | \n",
       "| sedative          | 0.0               | \n",
       "\n",
       "\n"
      ],
      "text/plain": [
       "    covariate                      missing\n",
       "1   lab_bnp_first                  97.24  \n",
       "2   lab_bnp_min                    97.24  \n",
       "3   lab_bnp_max                    97.24  \n",
       "4   lab_bnp_abnormal               97.24  \n",
       "5   lab_troponin_first             69.02  \n",
       "6   lab_troponin_min               69.02  \n",
       "7   lab_troponin_max               69.02  \n",
       "8   lab_troponin_abnormal          69.02  \n",
       "9   vs_cvp_first                   64.59  \n",
       "10  vs_cvp_min                     64.59  \n",
       "11  vs_cvp_max                     64.59  \n",
       "12  lab_creatinine_kinase_first    51.27  \n",
       "13  lab_creatinine_kinase_min      51.27  \n",
       "14  lab_creatinine_kinase_max      51.27  \n",
       "15  lab_creatinine_kinase_abnormal 51.27  \n",
       "16  echo_time                      50.29  \n",
       "17  lab_lactate_first              38.10  \n",
       "18  lab_lactate_min                38.10  \n",
       "19  lab_lactate_max                38.10  \n",
       "20  lab_lactate_abnormal           38.10  \n",
       "21  lab_po2_first                  33.20  \n",
       "22  lab_po2_min                    33.20  \n",
       "23  lab_po2_max                    33.20  \n",
       "24  lab_po2_abnormal               33.20  \n",
       "25  lab_pco2_first                 33.20  \n",
       "26  lab_pco2_min                   33.20  \n",
       "27  lab_pco2_max                   33.20  \n",
       "28  lab_pco2_abnormal              33.20  \n",
       "29  lab_ph_first                   30.61  \n",
       "30  lab_ph_min                     30.61  \n",
       "⋮   ⋮                              ⋮      \n",
       "98  vs_heart_rate_max              1.2    \n",
       "99  icustay_id                     0.0    \n",
       "100 hadm_id                        0.0    \n",
       "101 subject_id                     0.0    \n",
       "102 first_careunit                 0.0    \n",
       "103 intime                         0.0    \n",
       "104 outtime                        0.0    \n",
       "105 angus                          0.0    \n",
       "106 age                            0.0    \n",
       "107 icu_order                      0.0    \n",
       "108 echo                           0.0    \n",
       "109 gender                         0.0    \n",
       "110 saps                           0.0    \n",
       "111 sofa                           0.0    \n",
       "112 elix_score                     0.0    \n",
       "113 vent                           0.0    \n",
       "114 vaso                           0.0    \n",
       "115 icu_adm_weekday                0.0    \n",
       "116 icu_adm_hour                   0.0    \n",
       "117 mort_28_day                    0.0    \n",
       "118 icu_los_day                    0.0    \n",
       "119 icd_chf                        0.0    \n",
       "120 icd_afib                       0.0    \n",
       "121 icd_renal                      0.0    \n",
       "122 icd_liver                      0.0    \n",
       "123 icd_copd                       0.0    \n",
       "124 icd_cad                        0.0    \n",
       "125 icd_stroke                     0.0    \n",
       "126 icd_malignancy                 0.0    \n",
       "127 sedative                       0.0    "
      ]
     },
     "metadata": {},
     "output_type": "display_data"
    }
   ],
   "source": [
    "full_data %>%\n",
    "summarise_all(funs(round(sum(is.na(.)) / n() * 100, 2))) %>%\n",
    "gather(\"covariate\", \"missing\") %>%\n",
    "arrange(desc(missing))"
   ]
  }
 ],
 "metadata": {
  "kernelspec": {
   "display_name": "R",
   "language": "R",
   "name": "ir"
  },
  "language_info": {
   "codemirror_mode": "r",
   "file_extension": ".r",
   "mimetype": "text/x-r-source",
   "name": "R",
   "pygments_lexer": "r",
   "version": "3.4.3"
  }
 },
 "nbformat": 4,
 "nbformat_minor": 2
}
