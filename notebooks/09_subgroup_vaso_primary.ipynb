{
 "cells": [
  {
   "cell_type": "code",
   "execution_count": 1,
   "metadata": {},
   "outputs": [
    {
     "name": "stderr",
     "output_type": "stream",
     "text": [
      "Loading required package: DBI\n",
      "Loading required package: gbm\n",
      "Loading required package: survival\n",
      "Loading required package: lattice\n",
      "Loading required package: splines\n",
      "Loading required package: parallel\n",
      "Loaded gbm 2.1.3\n",
      "Loading required package: survey\n",
      "Loading required package: grid\n",
      "Loading required package: Matrix\n",
      "\n",
      "Attaching package: ‘survey’\n",
      "\n",
      "The following object is masked from ‘package:graphics’:\n",
      "\n",
      "    dotchart\n",
      "\n",
      "Loading required package: xtable\n",
      "Loading required package: latticeExtra\n",
      "Loading required package: RColorBrewer\n",
      "Loading required package: MASS\n",
      "## \n",
      "##  Matching (Version 4.9-2, Build Date: 2015-12-25)\n",
      "##  See http://sekhon.berkeley.edu/matching for additional documentation.\n",
      "##  Please cite software as:\n",
      "##   Jasjeet S. Sekhon. 2011. ``Multivariate and Propensity Score Matching\n",
      "##   Software with Automated Balance Optimization: The Matching package for R.''\n",
      "##   Journal of Statistical Software, 42(7): 1-52. \n",
      "##\n",
      "\n",
      "── Attaching packages ─────────────────────────────────────── tidyverse 1.2.1 ──\n",
      "✔ ggplot2 2.2.1     ✔ purrr   0.2.4\n",
      "✔ tibble  1.4.2     ✔ dplyr   0.7.4\n",
      "✔ tidyr   0.8.0     ✔ stringr 1.3.0\n",
      "✔ readr   1.1.1     ✔ forcats 0.3.0\n",
      "── Conflicts ────────────────────────────────────────── tidyverse_conflicts() ──\n",
      "✖ tidyr::expand()  masks Matrix::expand()\n",
      "✖ dplyr::filter()  masks stats::filter()\n",
      "✖ dplyr::lag()     masks stats::lag()\n",
      "✖ ggplot2::layer() masks latticeExtra::layer()\n",
      "✖ dplyr::select()  masks MASS::select()\n"
     ]
    }
   ],
   "source": [
    "library(RPostgreSQL)\n",
    "library(twang)\n",
    "library(Matching)\n",
    "library(tidyverse)"
   ]
  },
  {
   "cell_type": "code",
   "execution_count": 2,
   "metadata": {},
   "outputs": [],
   "source": [
    "data_dir <- file.path(\"..\", \"data\")\n",
    "sql_dir <- file.path(\"..\", \"sql\")"
   ]
  },
  {
   "cell_type": "code",
   "execution_count": 3,
   "metadata": {},
   "outputs": [
    {
     "data": {
      "text/plain": [
       "<PostgreSQLResult>"
      ]
     },
     "metadata": {},
     "output_type": "display_data"
    }
   ],
   "source": [
    "drv <- dbDriver(\"PostgreSQL\")\n",
    "con <- dbConnect(drv, dbname = \"mimic\")\n",
    "dbSendQuery(con, \"set search_path=echo,public,mimiciii;\")"
   ]
  },
  {
   "cell_type": "code",
   "execution_count": 4,
   "metadata": {},
   "outputs": [
    {
     "data": {
      "text/html": [
       "<table>\n",
       "<thead><tr><th scope=col>icustay_id</th><th scope=col>hadm_id</th><th scope=col>subject_id</th><th scope=col>first_careunit</th><th scope=col>intime</th><th scope=col>outtime</th><th scope=col>angus</th><th scope=col>age</th><th scope=col>icu_order</th><th scope=col>echo_time</th><th scope=col>⋯</th><th scope=col>lab_sodium_flag</th><th scope=col>lab_bun_flag</th><th scope=col>lab_bicarbonate_flag</th><th scope=col>lab_bnp_flag</th><th scope=col>lab_pco2_flag</th><th scope=col>lab_creatinine_flag</th><th scope=col>lab_potassium_flag</th><th scope=col>lab_troponin_flag</th><th scope=col>lab_po2_flag</th><th scope=col>lab_lactate_flag</th></tr></thead>\n",
       "<tbody>\n",
       "\t<tr><td>214954             </td><td>170515             </td><td>54642              </td><td>MICU               </td><td>2176-03-11 04:58:23</td><td>2176-03-15 18:00:48</td><td>1                  </td><td>63.86507           </td><td>1                  </td><td>2176-03-11         </td><td>⋯                  </td><td>1                  </td><td>1                  </td><td>1                  </td><td>0                  </td><td>1                  </td><td>1                  </td><td>1                  </td><td>1                  </td><td>1                  </td><td>1                  </td></tr>\n",
       "\t<tr><td>264413             </td><td>134244             </td><td>81436              </td><td>MICU               </td><td>2133-03-27 16:31:37</td><td>2133-04-04 16:15:28</td><td>1                  </td><td>62.60148           </td><td>1                  </td><td>2133-03-31         </td><td>⋯                  </td><td>1                  </td><td>1                  </td><td>1                  </td><td>0                  </td><td>0                  </td><td>1                  </td><td>1                  </td><td>0                  </td><td>0                  </td><td>1                  </td></tr>\n",
       "\t<tr><td>214106             </td><td>123152             </td><td>74869              </td><td>MICU               </td><td>2150-09-05 17:50:32</td><td>2150-09-12 21:40:59</td><td>1                  </td><td>74.13371           </td><td>1                  </td><td>2150-09-07         </td><td>⋯                  </td><td>1                  </td><td>1                  </td><td>1                  </td><td>0                  </td><td>1                  </td><td>1                  </td><td>1                  </td><td>1                  </td><td>1                  </td><td>1                  </td></tr>\n",
       "\t<tr><td>254478             </td><td>128652             </td><td>   31              </td><td>MICU               </td><td>2108-08-22 23:28:42</td><td>2108-08-30 21:59:20</td><td>1                  </td><td>72.26709           </td><td>1                  </td><td>NA                 </td><td>⋯                  </td><td>1                  </td><td>1                  </td><td>1                  </td><td>0                  </td><td>1                  </td><td>1                  </td><td>1                  </td><td>0                  </td><td>1                  </td><td>1                  </td></tr>\n",
       "\t<tr><td>264446             </td><td>165520             </td><td>10013              </td><td>MICU               </td><td>2125-10-04 23:38:00</td><td>2125-10-07 15:13:52</td><td>1                  </td><td>87.08742           </td><td>1                  </td><td>NA                 </td><td>⋯                  </td><td>1                  </td><td>1                  </td><td>1                  </td><td>0                  </td><td>1                  </td><td>1                  </td><td>1                  </td><td>0                  </td><td>1                  </td><td>0                  </td></tr>\n",
       "\t<tr><td>218143             </td><td>122936             </td><td>10370              </td><td>SICU               </td><td>2145-01-15 03:36:30</td><td>2145-01-20 19:00:30</td><td>1                  </td><td>45.06368           </td><td>1                  </td><td>2145-01-14         </td><td>⋯                  </td><td>1                  </td><td>1                  </td><td>1                  </td><td>0                  </td><td>1                  </td><td>1                  </td><td>1                  </td><td>0                  </td><td>1                  </td><td>1                  </td></tr>\n",
       "</tbody>\n",
       "</table>\n"
      ],
      "text/latex": [
       "\\begin{tabular}{r|llllllllllllllllllllllllllllllllllllllllllllllllllllllllllllllllllllllllllllllllllllllllllllllllllllllllllllllllllllllllllllllllll}\n",
       " icustay\\_id & hadm\\_id & subject\\_id & first\\_careunit & intime & outtime & angus & age & icu\\_order & echo\\_time & ⋯ & lab\\_sodium\\_flag & lab\\_bun\\_flag & lab\\_bicarbonate\\_flag & lab\\_bnp\\_flag & lab\\_pco2\\_flag & lab\\_creatinine\\_flag & lab\\_potassium\\_flag & lab\\_troponin\\_flag & lab\\_po2\\_flag & lab\\_lactate\\_flag\\\\\n",
       "\\hline\n",
       "\t 214954              & 170515              & 54642               & MICU                & 2176-03-11 04:58:23 & 2176-03-15 18:00:48 & 1                   & 63.86507            & 1                   & 2176-03-11          & ⋯                   & 1                   & 1                   & 1                   & 0                   & 1                   & 1                   & 1                   & 1                   & 1                   & 1                  \\\\\n",
       "\t 264413              & 134244              & 81436               & MICU                & 2133-03-27 16:31:37 & 2133-04-04 16:15:28 & 1                   & 62.60148            & 1                   & 2133-03-31          & ⋯                   & 1                   & 1                   & 1                   & 0                   & 0                   & 1                   & 1                   & 0                   & 0                   & 1                  \\\\\n",
       "\t 214106              & 123152              & 74869               & MICU                & 2150-09-05 17:50:32 & 2150-09-12 21:40:59 & 1                   & 74.13371            & 1                   & 2150-09-07          & ⋯                   & 1                   & 1                   & 1                   & 0                   & 1                   & 1                   & 1                   & 1                   & 1                   & 1                  \\\\\n",
       "\t 254478              & 128652              &    31               & MICU                & 2108-08-22 23:28:42 & 2108-08-30 21:59:20 & 1                   & 72.26709            & 1                   & NA                  & ⋯                   & 1                   & 1                   & 1                   & 0                   & 1                   & 1                   & 1                   & 0                   & 1                   & 1                  \\\\\n",
       "\t 264446              & 165520              & 10013               & MICU                & 2125-10-04 23:38:00 & 2125-10-07 15:13:52 & 1                   & 87.08742            & 1                   & NA                  & ⋯                   & 1                   & 1                   & 1                   & 0                   & 1                   & 1                   & 1                   & 0                   & 1                   & 0                  \\\\\n",
       "\t 218143              & 122936              & 10370               & SICU                & 2145-01-15 03:36:30 & 2145-01-20 19:00:30 & 1                   & 45.06368            & 1                   & 2145-01-14          & ⋯                   & 1                   & 1                   & 1                   & 0                   & 1                   & 1                   & 1                   & 0                   & 1                   & 1                  \\\\\n",
       "\\end{tabular}\n"
      ],
      "text/markdown": [
       "\n",
       "icustay_id | hadm_id | subject_id | first_careunit | intime | outtime | angus | age | icu_order | echo_time | ⋯ | lab_sodium_flag | lab_bun_flag | lab_bicarbonate_flag | lab_bnp_flag | lab_pco2_flag | lab_creatinine_flag | lab_potassium_flag | lab_troponin_flag | lab_po2_flag | lab_lactate_flag | \n",
       "|---|---|---|---|---|---|\n",
       "| 214954              | 170515              | 54642               | MICU                | 2176-03-11 04:58:23 | 2176-03-15 18:00:48 | 1                   | 63.86507            | 1                   | 2176-03-11          | ⋯                   | 1                   | 1                   | 1                   | 0                   | 1                   | 1                   | 1                   | 1                   | 1                   | 1                   | \n",
       "| 264413              | 134244              | 81436               | MICU                | 2133-03-27 16:31:37 | 2133-04-04 16:15:28 | 1                   | 62.60148            | 1                   | 2133-03-31          | ⋯                   | 1                   | 1                   | 1                   | 0                   | 0                   | 1                   | 1                   | 0                   | 0                   | 1                   | \n",
       "| 214106              | 123152              | 74869               | MICU                | 2150-09-05 17:50:32 | 2150-09-12 21:40:59 | 1                   | 74.13371            | 1                   | 2150-09-07          | ⋯                   | 1                   | 1                   | 1                   | 0                   | 1                   | 1                   | 1                   | 1                   | 1                   | 1                   | \n",
       "| 254478              | 128652              |    31               | MICU                | 2108-08-22 23:28:42 | 2108-08-30 21:59:20 | 1                   | 72.26709            | 1                   | NA                  | ⋯                   | 1                   | 1                   | 1                   | 0                   | 1                   | 1                   | 1                   | 0                   | 1                   | 1                   | \n",
       "| 264446              | 165520              | 10013               | MICU                | 2125-10-04 23:38:00 | 2125-10-07 15:13:52 | 1                   | 87.08742            | 1                   | NA                  | ⋯                   | 1                   | 1                   | 1                   | 0                   | 1                   | 1                   | 1                   | 0                   | 1                   | 0                   | \n",
       "| 218143              | 122936              | 10370               | SICU                | 2145-01-15 03:36:30 | 2145-01-20 19:00:30 | 1                   | 45.06368            | 1                   | 2145-01-14          | ⋯                   | 1                   | 1                   | 1                   | 0                   | 1                   | 1                   | 1                   | 0                   | 1                   | 1                   | \n",
       "\n",
       "\n"
      ],
      "text/plain": [
       "  icustay_id hadm_id subject_id first_careunit intime             \n",
       "1 214954     170515  54642      MICU           2176-03-11 04:58:23\n",
       "2 264413     134244  81436      MICU           2133-03-27 16:31:37\n",
       "3 214106     123152  74869      MICU           2150-09-05 17:50:32\n",
       "4 254478     128652     31      MICU           2108-08-22 23:28:42\n",
       "5 264446     165520  10013      MICU           2125-10-04 23:38:00\n",
       "6 218143     122936  10370      SICU           2145-01-15 03:36:30\n",
       "  outtime             angus age      icu_order echo_time  ⋯ lab_sodium_flag\n",
       "1 2176-03-15 18:00:48 1     63.86507 1         2176-03-11 ⋯ 1              \n",
       "2 2133-04-04 16:15:28 1     62.60148 1         2133-03-31 ⋯ 1              \n",
       "3 2150-09-12 21:40:59 1     74.13371 1         2150-09-07 ⋯ 1              \n",
       "4 2108-08-30 21:59:20 1     72.26709 1         <NA>       ⋯ 1              \n",
       "5 2125-10-07 15:13:52 1     87.08742 1         <NA>       ⋯ 1              \n",
       "6 2145-01-20 19:00:30 1     45.06368 1         2145-01-14 ⋯ 1              \n",
       "  lab_bun_flag lab_bicarbonate_flag lab_bnp_flag lab_pco2_flag\n",
       "1 1            1                    0            1            \n",
       "2 1            1                    0            0            \n",
       "3 1            1                    0            1            \n",
       "4 1            1                    0            1            \n",
       "5 1            1                    0            1            \n",
       "6 1            1                    0            1            \n",
       "  lab_creatinine_flag lab_potassium_flag lab_troponin_flag lab_po2_flag\n",
       "1 1                   1                  1                 1           \n",
       "2 1                   1                  0                 0           \n",
       "3 1                   1                  1                 1           \n",
       "4 1                   1                  0                 1           \n",
       "5 1                   1                  0                 1           \n",
       "6 1                   1                  0                 1           \n",
       "  lab_lactate_flag\n",
       "1 1               \n",
       "2 1               \n",
       "3 1               \n",
       "4 1               \n",
       "5 0               \n",
       "6 1               "
      ]
     },
     "metadata": {},
     "output_type": "display_data"
    }
   ],
   "source": [
    "full_data <- dbGetQuery(con, \"select * from merged_data where vaso = 1\")\n",
    "head(full_data)"
   ]
  },
  {
   "cell_type": "code",
   "execution_count": 5,
   "metadata": {},
   "outputs": [
    {
     "data": {
      "text/html": [
       "TRUE"
      ],
      "text/latex": [
       "TRUE"
      ],
      "text/markdown": [
       "TRUE"
      ],
      "text/plain": [
       "[1] TRUE"
      ]
     },
     "metadata": {},
     "output_type": "display_data"
    },
    {
     "data": {
      "text/html": [
       "TRUE"
      ],
      "text/latex": [
       "TRUE"
      ],
      "text/markdown": [
       "TRUE"
      ],
      "text/plain": [
       "[1] TRUE"
      ]
     },
     "metadata": {},
     "output_type": "display_data"
    }
   ],
   "source": [
    "dbDisconnect(con)\n",
    "dbUnloadDriver(drv)"
   ]
  },
  {
   "cell_type": "code",
   "execution_count": 6,
   "metadata": {},
   "outputs": [],
   "source": [
    "to_factor <- function(x) {\n",
    "    if(length(na.omit(unique(x))) <= 1) return(factor(x, levels = c(0, 1)))\n",
    "    return(factor(x))\n",
    "}"
   ]
  },
  {
   "cell_type": "code",
   "execution_count": 7,
   "metadata": {},
   "outputs": [
    {
     "data": {
      "text/html": [
       "<ol class=list-inline>\n",
       "\t<li>'icd_chf'</li>\n",
       "\t<li>'icd_afib'</li>\n",
       "\t<li>'icd_renal'</li>\n",
       "\t<li>'icd_liver'</li>\n",
       "\t<li>'icd_copd'</li>\n",
       "\t<li>'icd_cad'</li>\n",
       "\t<li>'icd_stroke'</li>\n",
       "\t<li>'icd_malignancy'</li>\n",
       "\t<li>'lab_hemoglobin_abnormal'</li>\n",
       "\t<li>'lab_platelet_abnormal'</li>\n",
       "\t<li>'lab_creatinine_kinase_abnormal'</li>\n",
       "\t<li>'lab_wbc_abnormal'</li>\n",
       "\t<li>'lab_ph_abnormal'</li>\n",
       "\t<li>'lab_chloride_abnormal'</li>\n",
       "\t<li>'lab_sodium_abnormal'</li>\n",
       "\t<li>'lab_bun_abnormal'</li>\n",
       "\t<li>'lab_bicarbonate_abnormal'</li>\n",
       "\t<li>'lab_bnp_abnormal'</li>\n",
       "\t<li>'lab_pco2_abnormal'</li>\n",
       "\t<li>'lab_creatinine_abnormal'</li>\n",
       "\t<li>'lab_potassium_abnormal'</li>\n",
       "\t<li>'lab_troponin_abnormal'</li>\n",
       "\t<li>'lab_po2_abnormal'</li>\n",
       "\t<li>'lab_lactate_abnormal'</li>\n",
       "\t<li>'sedative'</li>\n",
       "\t<li>'vs_heart_rate_flag'</li>\n",
       "\t<li>'vs_cvp_flag'</li>\n",
       "\t<li>'vs_map_flag'</li>\n",
       "\t<li>'vs_temp_flag'</li>\n",
       "\t<li>'lab_hemoglobin_flag'</li>\n",
       "\t<li>'lab_platelet_flag'</li>\n",
       "\t<li>'lab_creatinine_kinase_flag'</li>\n",
       "\t<li>'lab_wbc_flag'</li>\n",
       "\t<li>'lab_ph_flag'</li>\n",
       "\t<li>'lab_chloride_flag'</li>\n",
       "\t<li>'lab_sodium_flag'</li>\n",
       "\t<li>'lab_bun_flag'</li>\n",
       "\t<li>'lab_bicarbonate_flag'</li>\n",
       "\t<li>'lab_bnp_flag'</li>\n",
       "\t<li>'lab_pco2_flag'</li>\n",
       "\t<li>'lab_creatinine_flag'</li>\n",
       "\t<li>'lab_potassium_flag'</li>\n",
       "\t<li>'lab_troponin_flag'</li>\n",
       "\t<li>'lab_po2_flag'</li>\n",
       "\t<li>'lab_lactate_flag'</li>\n",
       "\t<li>'gender'</li>\n",
       "\t<li>'first_careunit'</li>\n",
       "\t<li>'echo'</li>\n",
       "\t<li>'vent'</li>\n",
       "\t<li>'vaso'</li>\n",
       "\t<li>'icu_adm_hour'</li>\n",
       "\t<li>'mort_28_day'</li>\n",
       "</ol>\n"
      ],
      "text/latex": [
       "\\begin{enumerate*}\n",
       "\\item 'icd\\_chf'\n",
       "\\item 'icd\\_afib'\n",
       "\\item 'icd\\_renal'\n",
       "\\item 'icd\\_liver'\n",
       "\\item 'icd\\_copd'\n",
       "\\item 'icd\\_cad'\n",
       "\\item 'icd\\_stroke'\n",
       "\\item 'icd\\_malignancy'\n",
       "\\item 'lab\\_hemoglobin\\_abnormal'\n",
       "\\item 'lab\\_platelet\\_abnormal'\n",
       "\\item 'lab\\_creatinine\\_kinase\\_abnormal'\n",
       "\\item 'lab\\_wbc\\_abnormal'\n",
       "\\item 'lab\\_ph\\_abnormal'\n",
       "\\item 'lab\\_chloride\\_abnormal'\n",
       "\\item 'lab\\_sodium\\_abnormal'\n",
       "\\item 'lab\\_bun\\_abnormal'\n",
       "\\item 'lab\\_bicarbonate\\_abnormal'\n",
       "\\item 'lab\\_bnp\\_abnormal'\n",
       "\\item 'lab\\_pco2\\_abnormal'\n",
       "\\item 'lab\\_creatinine\\_abnormal'\n",
       "\\item 'lab\\_potassium\\_abnormal'\n",
       "\\item 'lab\\_troponin\\_abnormal'\n",
       "\\item 'lab\\_po2\\_abnormal'\n",
       "\\item 'lab\\_lactate\\_abnormal'\n",
       "\\item 'sedative'\n",
       "\\item 'vs\\_heart\\_rate\\_flag'\n",
       "\\item 'vs\\_cvp\\_flag'\n",
       "\\item 'vs\\_map\\_flag'\n",
       "\\item 'vs\\_temp\\_flag'\n",
       "\\item 'lab\\_hemoglobin\\_flag'\n",
       "\\item 'lab\\_platelet\\_flag'\n",
       "\\item 'lab\\_creatinine\\_kinase\\_flag'\n",
       "\\item 'lab\\_wbc\\_flag'\n",
       "\\item 'lab\\_ph\\_flag'\n",
       "\\item 'lab\\_chloride\\_flag'\n",
       "\\item 'lab\\_sodium\\_flag'\n",
       "\\item 'lab\\_bun\\_flag'\n",
       "\\item 'lab\\_bicarbonate\\_flag'\n",
       "\\item 'lab\\_bnp\\_flag'\n",
       "\\item 'lab\\_pco2\\_flag'\n",
       "\\item 'lab\\_creatinine\\_flag'\n",
       "\\item 'lab\\_potassium\\_flag'\n",
       "\\item 'lab\\_troponin\\_flag'\n",
       "\\item 'lab\\_po2\\_flag'\n",
       "\\item 'lab\\_lactate\\_flag'\n",
       "\\item 'gender'\n",
       "\\item 'first\\_careunit'\n",
       "\\item 'echo'\n",
       "\\item 'vent'\n",
       "\\item 'vaso'\n",
       "\\item 'icu\\_adm\\_hour'\n",
       "\\item 'mort\\_28\\_day'\n",
       "\\end{enumerate*}\n"
      ],
      "text/markdown": [
       "1. 'icd_chf'\n",
       "2. 'icd_afib'\n",
       "3. 'icd_renal'\n",
       "4. 'icd_liver'\n",
       "5. 'icd_copd'\n",
       "6. 'icd_cad'\n",
       "7. 'icd_stroke'\n",
       "8. 'icd_malignancy'\n",
       "9. 'lab_hemoglobin_abnormal'\n",
       "10. 'lab_platelet_abnormal'\n",
       "11. 'lab_creatinine_kinase_abnormal'\n",
       "12. 'lab_wbc_abnormal'\n",
       "13. 'lab_ph_abnormal'\n",
       "14. 'lab_chloride_abnormal'\n",
       "15. 'lab_sodium_abnormal'\n",
       "16. 'lab_bun_abnormal'\n",
       "17. 'lab_bicarbonate_abnormal'\n",
       "18. 'lab_bnp_abnormal'\n",
       "19. 'lab_pco2_abnormal'\n",
       "20. 'lab_creatinine_abnormal'\n",
       "21. 'lab_potassium_abnormal'\n",
       "22. 'lab_troponin_abnormal'\n",
       "23. 'lab_po2_abnormal'\n",
       "24. 'lab_lactate_abnormal'\n",
       "25. 'sedative'\n",
       "26. 'vs_heart_rate_flag'\n",
       "27. 'vs_cvp_flag'\n",
       "28. 'vs_map_flag'\n",
       "29. 'vs_temp_flag'\n",
       "30. 'lab_hemoglobin_flag'\n",
       "31. 'lab_platelet_flag'\n",
       "32. 'lab_creatinine_kinase_flag'\n",
       "33. 'lab_wbc_flag'\n",
       "34. 'lab_ph_flag'\n",
       "35. 'lab_chloride_flag'\n",
       "36. 'lab_sodium_flag'\n",
       "37. 'lab_bun_flag'\n",
       "38. 'lab_bicarbonate_flag'\n",
       "39. 'lab_bnp_flag'\n",
       "40. 'lab_pco2_flag'\n",
       "41. 'lab_creatinine_flag'\n",
       "42. 'lab_potassium_flag'\n",
       "43. 'lab_troponin_flag'\n",
       "44. 'lab_po2_flag'\n",
       "45. 'lab_lactate_flag'\n",
       "46. 'gender'\n",
       "47. 'first_careunit'\n",
       "48. 'echo'\n",
       "49. 'vent'\n",
       "50. 'vaso'\n",
       "51. 'icu_adm_hour'\n",
       "52. 'mort_28_day'\n",
       "\n",
       "\n"
      ],
      "text/plain": [
       " [1] \"icd_chf\"                        \"icd_afib\"                      \n",
       " [3] \"icd_renal\"                      \"icd_liver\"                     \n",
       " [5] \"icd_copd\"                       \"icd_cad\"                       \n",
       " [7] \"icd_stroke\"                     \"icd_malignancy\"                \n",
       " [9] \"lab_hemoglobin_abnormal\"        \"lab_platelet_abnormal\"         \n",
       "[11] \"lab_creatinine_kinase_abnormal\" \"lab_wbc_abnormal\"              \n",
       "[13] \"lab_ph_abnormal\"                \"lab_chloride_abnormal\"         \n",
       "[15] \"lab_sodium_abnormal\"            \"lab_bun_abnormal\"              \n",
       "[17] \"lab_bicarbonate_abnormal\"       \"lab_bnp_abnormal\"              \n",
       "[19] \"lab_pco2_abnormal\"              \"lab_creatinine_abnormal\"       \n",
       "[21] \"lab_potassium_abnormal\"         \"lab_troponin_abnormal\"         \n",
       "[23] \"lab_po2_abnormal\"               \"lab_lactate_abnormal\"          \n",
       "[25] \"sedative\"                       \"vs_heart_rate_flag\"            \n",
       "[27] \"vs_cvp_flag\"                    \"vs_map_flag\"                   \n",
       "[29] \"vs_temp_flag\"                   \"lab_hemoglobin_flag\"           \n",
       "[31] \"lab_platelet_flag\"              \"lab_creatinine_kinase_flag\"    \n",
       "[33] \"lab_wbc_flag\"                   \"lab_ph_flag\"                   \n",
       "[35] \"lab_chloride_flag\"              \"lab_sodium_flag\"               \n",
       "[37] \"lab_bun_flag\"                   \"lab_bicarbonate_flag\"          \n",
       "[39] \"lab_bnp_flag\"                   \"lab_pco2_flag\"                 \n",
       "[41] \"lab_creatinine_flag\"            \"lab_potassium_flag\"            \n",
       "[43] \"lab_troponin_flag\"              \"lab_po2_flag\"                  \n",
       "[45] \"lab_lactate_flag\"               \"gender\"                        \n",
       "[47] \"first_careunit\"                 \"echo\"                          \n",
       "[49] \"vent\"                           \"vaso\"                          \n",
       "[51] \"icu_adm_hour\"                   \"mort_28_day\"                   "
      ]
     },
     "metadata": {},
     "output_type": "display_data"
    }
   ],
   "source": [
    "factor_vars <- full_data %>%\n",
    "    names %>%\n",
    "    grep(\"flag|abnormal|icd|sedative\", ., value = TRUE) %>%\n",
    "    c(\"gender\", \"first_careunit\", \"echo\", \"vent\", \"vaso\",\n",
    "      \"icu_adm_hour\", \"mort_28_day\")\n",
    "factor_vars"
   ]
  },
  {
   "cell_type": "code",
   "execution_count": 8,
   "metadata": {},
   "outputs": [
    {
     "data": {
      "text/html": [
       "<ol class=list-inline>\n",
       "\t<li>'sunday'</li>\n",
       "\t<li>'monday'</li>\n",
       "\t<li>'tuesday'</li>\n",
       "\t<li>'wednesday'</li>\n",
       "\t<li>'thursday'</li>\n",
       "\t<li>'friday'</li>\n",
       "\t<li>'saturday'</li>\n",
       "</ol>\n"
      ],
      "text/latex": [
       "\\begin{enumerate*}\n",
       "\\item 'sunday'\n",
       "\\item 'monday'\n",
       "\\item 'tuesday'\n",
       "\\item 'wednesday'\n",
       "\\item 'thursday'\n",
       "\\item 'friday'\n",
       "\\item 'saturday'\n",
       "\\end{enumerate*}\n"
      ],
      "text/markdown": [
       "1. 'sunday'\n",
       "2. 'monday'\n",
       "3. 'tuesday'\n",
       "4. 'wednesday'\n",
       "5. 'thursday'\n",
       "6. 'friday'\n",
       "7. 'saturday'\n",
       "\n",
       "\n"
      ],
      "text/plain": [
       "[1] \"sunday\"    \"monday\"    \"tuesday\"   \"wednesday\" \"thursday\"  \"friday\"   \n",
       "[7] \"saturday\" "
      ]
     },
     "metadata": {},
     "output_type": "display_data"
    }
   ],
   "source": [
    "weekday <- c(\"sun\", \"mon\", \"tues\", \"wednes\", \"thurs\", \"fri\", \"satur\") %>%\n",
    "paste0(\"day\")\n",
    "weekday"
   ]
  },
  {
   "cell_type": "code",
   "execution_count": 9,
   "metadata": {},
   "outputs": [
    {
     "data": {
      "text/html": [
       "<ol class=list-inline>\n",
       "\t<li>1</li>\n",
       "\t<li>1</li>\n",
       "\t<li>1</li>\n",
       "\t<li>0</li>\n",
       "\t<li>0</li>\n",
       "\t<li>1</li>\n",
       "</ol>\n"
      ],
      "text/latex": [
       "\\begin{enumerate*}\n",
       "\\item 1\n",
       "\\item 1\n",
       "\\item 1\n",
       "\\item 0\n",
       "\\item 0\n",
       "\\item 1\n",
       "\\end{enumerate*}\n"
      ],
      "text/markdown": [
       "1. 1\n",
       "2. 1\n",
       "3. 1\n",
       "4. 0\n",
       "5. 0\n",
       "6. 1\n",
       "\n",
       "\n"
      ],
      "text/plain": [
       "[1] 1 1 1 0 0 1\n",
       "Levels: 0 1"
      ]
     },
     "metadata": {},
     "output_type": "display_data"
    }
   ],
   "source": [
    "full_data <- full_data %>%\n",
    "    mutate(echo_int = as.integer(echo)) %>%\n",
    "    mutate(icu_adm_weekday = weekday[icu_adm_weekday + 1]) %>%\n",
    "    mutate(mort_28_day_int = as.integer(mort_28_day)) %>%\n",
    "    mutate_at(factor_vars, to_factor) %>%\n",
    "    mutate(icu_adm_weekday = factor(icu_adm_weekday, levels = weekday)) %>%\n",
    "    mutate(gender = relevel(gender, \"M\")) %>%\n",
    "    mutate(first_careunit = relevel(first_careunit, \"SICU\"))\n",
    "full_data %>% pull(echo) %>% head"
   ]
  },
  {
   "cell_type": "code",
   "execution_count": 10,
   "metadata": {},
   "outputs": [
    {
     "data": {
      "text/html": [
       "<ol class=list-inline>\n",
       "\t<li>'first_careunit'</li>\n",
       "\t<li>'age'</li>\n",
       "\t<li>'gender'</li>\n",
       "\t<li>'weight'</li>\n",
       "\t<li>'saps'</li>\n",
       "\t<li>'sofa'</li>\n",
       "\t<li>'elix_score'</li>\n",
       "\t<li>'vent'</li>\n",
       "\t<li>'icu_adm_weekday'</li>\n",
       "\t<li>'icu_adm_hour'</li>\n",
       "\t<li>'icd_chf'</li>\n",
       "\t<li>'icd_afib'</li>\n",
       "\t<li>'icd_renal'</li>\n",
       "\t<li>'icd_liver'</li>\n",
       "\t<li>'icd_copd'</li>\n",
       "\t<li>'icd_cad'</li>\n",
       "\t<li>'icd_stroke'</li>\n",
       "\t<li>'icd_malignancy'</li>\n",
       "\t<li>'vs_heart_rate_first'</li>\n",
       "\t<li>'vs_map_first'</li>\n",
       "\t<li>'vs_temp_first'</li>\n",
       "\t<li>'lab_hemoglobin_first'</li>\n",
       "\t<li>'lab_platelet_first'</li>\n",
       "\t<li>'lab_wbc_first'</li>\n",
       "\t<li>'lab_ph_first'</li>\n",
       "\t<li>'lab_chloride_first'</li>\n",
       "\t<li>'lab_sodium_first'</li>\n",
       "\t<li>'lab_bun_first'</li>\n",
       "\t<li>'lab_bicarbonate_first'</li>\n",
       "\t<li>'lab_pco2_first'</li>\n",
       "\t<li>'lab_creatinine_first'</li>\n",
       "\t<li>'lab_potassium_first'</li>\n",
       "\t<li>'lab_po2_first'</li>\n",
       "\t<li>'lab_lactate_first'</li>\n",
       "\t<li>'sedative'</li>\n",
       "\t<li>'vs_cvp_flag'</li>\n",
       "\t<li>'lab_creatinine_kinase_flag'</li>\n",
       "\t<li>'lab_bnp_flag'</li>\n",
       "\t<li>'lab_troponin_flag'</li>\n",
       "</ol>\n"
      ],
      "text/latex": [
       "\\begin{enumerate*}\n",
       "\\item 'first\\_careunit'\n",
       "\\item 'age'\n",
       "\\item 'gender'\n",
       "\\item 'weight'\n",
       "\\item 'saps'\n",
       "\\item 'sofa'\n",
       "\\item 'elix\\_score'\n",
       "\\item 'vent'\n",
       "\\item 'icu\\_adm\\_weekday'\n",
       "\\item 'icu\\_adm\\_hour'\n",
       "\\item 'icd\\_chf'\n",
       "\\item 'icd\\_afib'\n",
       "\\item 'icd\\_renal'\n",
       "\\item 'icd\\_liver'\n",
       "\\item 'icd\\_copd'\n",
       "\\item 'icd\\_cad'\n",
       "\\item 'icd\\_stroke'\n",
       "\\item 'icd\\_malignancy'\n",
       "\\item 'vs\\_heart\\_rate\\_first'\n",
       "\\item 'vs\\_map\\_first'\n",
       "\\item 'vs\\_temp\\_first'\n",
       "\\item 'lab\\_hemoglobin\\_first'\n",
       "\\item 'lab\\_platelet\\_first'\n",
       "\\item 'lab\\_wbc\\_first'\n",
       "\\item 'lab\\_ph\\_first'\n",
       "\\item 'lab\\_chloride\\_first'\n",
       "\\item 'lab\\_sodium\\_first'\n",
       "\\item 'lab\\_bun\\_first'\n",
       "\\item 'lab\\_bicarbonate\\_first'\n",
       "\\item 'lab\\_pco2\\_first'\n",
       "\\item 'lab\\_creatinine\\_first'\n",
       "\\item 'lab\\_potassium\\_first'\n",
       "\\item 'lab\\_po2\\_first'\n",
       "\\item 'lab\\_lactate\\_first'\n",
       "\\item 'sedative'\n",
       "\\item 'vs\\_cvp\\_flag'\n",
       "\\item 'lab\\_creatinine\\_kinase\\_flag'\n",
       "\\item 'lab\\_bnp\\_flag'\n",
       "\\item 'lab\\_troponin\\_flag'\n",
       "\\end{enumerate*}\n"
      ],
      "text/markdown": [
       "1. 'first_careunit'\n",
       "2. 'age'\n",
       "3. 'gender'\n",
       "4. 'weight'\n",
       "5. 'saps'\n",
       "6. 'sofa'\n",
       "7. 'elix_score'\n",
       "8. 'vent'\n",
       "9. 'icu_adm_weekday'\n",
       "10. 'icu_adm_hour'\n",
       "11. 'icd_chf'\n",
       "12. 'icd_afib'\n",
       "13. 'icd_renal'\n",
       "14. 'icd_liver'\n",
       "15. 'icd_copd'\n",
       "16. 'icd_cad'\n",
       "17. 'icd_stroke'\n",
       "18. 'icd_malignancy'\n",
       "19. 'vs_heart_rate_first'\n",
       "20. 'vs_map_first'\n",
       "21. 'vs_temp_first'\n",
       "22. 'lab_hemoglobin_first'\n",
       "23. 'lab_platelet_first'\n",
       "24. 'lab_wbc_first'\n",
       "25. 'lab_ph_first'\n",
       "26. 'lab_chloride_first'\n",
       "27. 'lab_sodium_first'\n",
       "28. 'lab_bun_first'\n",
       "29. 'lab_bicarbonate_first'\n",
       "30. 'lab_pco2_first'\n",
       "31. 'lab_creatinine_first'\n",
       "32. 'lab_potassium_first'\n",
       "33. 'lab_po2_first'\n",
       "34. 'lab_lactate_first'\n",
       "35. 'sedative'\n",
       "36. 'vs_cvp_flag'\n",
       "37. 'lab_creatinine_kinase_flag'\n",
       "38. 'lab_bnp_flag'\n",
       "39. 'lab_troponin_flag'\n",
       "\n",
       "\n"
      ],
      "text/plain": [
       " [1] \"first_careunit\"             \"age\"                       \n",
       " [3] \"gender\"                     \"weight\"                    \n",
       " [5] \"saps\"                       \"sofa\"                      \n",
       " [7] \"elix_score\"                 \"vent\"                      \n",
       " [9] \"icu_adm_weekday\"            \"icu_adm_hour\"              \n",
       "[11] \"icd_chf\"                    \"icd_afib\"                  \n",
       "[13] \"icd_renal\"                  \"icd_liver\"                 \n",
       "[15] \"icd_copd\"                   \"icd_cad\"                   \n",
       "[17] \"icd_stroke\"                 \"icd_malignancy\"            \n",
       "[19] \"vs_heart_rate_first\"        \"vs_map_first\"              \n",
       "[21] \"vs_temp_first\"              \"lab_hemoglobin_first\"      \n",
       "[23] \"lab_platelet_first\"         \"lab_wbc_first\"             \n",
       "[25] \"lab_ph_first\"               \"lab_chloride_first\"        \n",
       "[27] \"lab_sodium_first\"           \"lab_bun_first\"             \n",
       "[29] \"lab_bicarbonate_first\"      \"lab_pco2_first\"            \n",
       "[31] \"lab_creatinine_first\"       \"lab_potassium_first\"       \n",
       "[33] \"lab_po2_first\"              \"lab_lactate_first\"         \n",
       "[35] \"sedative\"                   \"vs_cvp_flag\"               \n",
       "[37] \"lab_creatinine_kinase_flag\" \"lab_bnp_flag\"              \n",
       "[39] \"lab_troponin_flag\"         "
      ]
     },
     "metadata": {},
     "output_type": "display_data"
    },
    {
     "data": {
      "text/html": [
       "39"
      ],
      "text/latex": [
       "39"
      ],
      "text/markdown": [
       "39"
      ],
      "text/plain": [
       "[1] 39"
      ]
     },
     "metadata": {},
     "output_type": "display_data"
    }
   ],
   "source": [
    "feature_names <- full_data %>%\n",
    "    names %>%\n",
    "    keep(grepl(\"vs|lab|icd|age|gender|weight|saps|sofa|elix_score|vent|icu_adm|careunit|sedative\", .)) %>%\n",
    "    discard(grepl(\"vs|lab\", .) & grepl(\"flag\", .) & !grepl(\"bnp|troponin|kinase|cvp\", .)) %>%\n",
    "    discard(grepl(\"bnp|troponin|kinase|cvp\", .) & !grepl(\"flag\", .)) %>%\n",
    "    discard(grepl(\"min|max\", .)) %>%\n",
    "    discard(grepl(\"abnormal\", .))\n",
    "feature_names\n",
    "length(feature_names)"
   ]
  },
  {
   "cell_type": "code",
   "execution_count": 11,
   "metadata": {},
   "outputs": [],
   "source": [
    "feature_names %>%\n",
    "data.frame(feature = ., stringsAsFactors = FALSE) %>%\n",
    "data.table::fwrite(file = file.path(data_dir, \"features_subgroup_vaso.csv\"))"
   ]
  },
  {
   "cell_type": "code",
   "execution_count": 12,
   "metadata": {},
   "outputs": [
    {
     "data": {
      "text/html": [
       "<table>\n",
       "<thead><tr><th scope=col>first_careunit</th><th scope=col>age</th><th scope=col>gender</th><th scope=col>weight</th><th scope=col>saps</th><th scope=col>sofa</th><th scope=col>elix_score</th><th scope=col>vent</th><th scope=col>icu_adm_weekday</th><th scope=col>icu_adm_hour</th><th scope=col>⋯</th><th scope=col>lab_pco2_first</th><th scope=col>lab_creatinine_first</th><th scope=col>lab_potassium_first</th><th scope=col>lab_po2_first</th><th scope=col>lab_lactate_first</th><th scope=col>sedative</th><th scope=col>vs_cvp_flag</th><th scope=col>lab_creatinine_kinase_flag</th><th scope=col>lab_bnp_flag</th><th scope=col>lab_troponin_flag</th></tr></thead>\n",
       "<tbody>\n",
       "\t<tr><td>MICU     </td><td>63.86507 </td><td>M        </td><td>92.9     </td><td>24       </td><td> 8       </td><td> 6       </td><td>1        </td><td>monday   </td><td>4        </td><td>⋯        </td><td>42       </td><td>1.3      </td><td>4.2      </td><td> 85      </td><td>3.8      </td><td>1        </td><td>1        </td><td>1        </td><td>0        </td><td>1        </td></tr>\n",
       "\t<tr><td>MICU     </td><td>62.60148 </td><td>F        </td><td>80.0     </td><td>15       </td><td> 4       </td><td> 2       </td><td>0        </td><td>friday   </td><td>16       </td><td>⋯        </td><td>NA       </td><td>0.8      </td><td>3.5      </td><td> NA      </td><td>1.4      </td><td>0        </td><td>1        </td><td>0        </td><td>0        </td><td>0        </td></tr>\n",
       "\t<tr><td>MICU     </td><td>74.13371 </td><td>F        </td><td>61.0     </td><td>21       </td><td>17       </td><td>17       </td><td>1        </td><td>saturday </td><td>17       </td><td>⋯        </td><td>38       </td><td>0.4      </td><td>5.0      </td><td> 94      </td><td>1.5      </td><td>1        </td><td>1        </td><td>1        </td><td>0        </td><td>1        </td></tr>\n",
       "\t<tr><td>MICU     </td><td>72.26709 </td><td>M        </td><td>74.0     </td><td>17       </td><td> 2       </td><td> 9       </td><td>1        </td><td>wednesday</td><td>23       </td><td>⋯        </td><td>36       </td><td>0.7      </td><td>3.7      </td><td>148      </td><td>1.4      </td><td>0        </td><td>0        </td><td>0        </td><td>0        </td><td>0        </td></tr>\n",
       "\t<tr><td>MICU     </td><td>87.08742 </td><td>F        </td><td>95.0     </td><td>20       </td><td> 7       </td><td> 8       </td><td>1        </td><td>thursday </td><td>23       </td><td>⋯        </td><td>63       </td><td>1.7      </td><td>4.2      </td><td> 60      </td><td> NA      </td><td>0        </td><td>1        </td><td>1        </td><td>0        </td><td>0        </td></tr>\n",
       "\t<tr><td>SICU     </td><td>45.06368 </td><td>F        </td><td>49.4     </td><td>28       </td><td> 9       </td><td>18       </td><td>1        </td><td>friday   </td><td>3        </td><td>⋯        </td><td>33       </td><td>3.1      </td><td>4.1      </td><td> 99      </td><td>1.2      </td><td>1        </td><td>0        </td><td>1        </td><td>0        </td><td>0        </td></tr>\n",
       "</tbody>\n",
       "</table>\n"
      ],
      "text/latex": [
       "\\begin{tabular}{r|lllllllllllllllllllllllllllllllllllllll}\n",
       " first\\_careunit & age & gender & weight & saps & sofa & elix\\_score & vent & icu\\_adm\\_weekday & icu\\_adm\\_hour & ⋯ & lab\\_pco2\\_first & lab\\_creatinine\\_first & lab\\_potassium\\_first & lab\\_po2\\_first & lab\\_lactate\\_first & sedative & vs\\_cvp\\_flag & lab\\_creatinine\\_kinase\\_flag & lab\\_bnp\\_flag & lab\\_troponin\\_flag\\\\\n",
       "\\hline\n",
       "\t MICU      & 63.86507  & M         & 92.9      & 24        &  8        &  6        & 1         & monday    & 4         & ⋯         & 42        & 1.3       & 4.2       &  85       & 3.8       & 1         & 1         & 1         & 0         & 1        \\\\\n",
       "\t MICU      & 62.60148  & F         & 80.0      & 15        &  4        &  2        & 0         & friday    & 16        & ⋯         & NA        & 0.8       & 3.5       &  NA       & 1.4       & 0         & 1         & 0         & 0         & 0        \\\\\n",
       "\t MICU      & 74.13371  & F         & 61.0      & 21        & 17        & 17        & 1         & saturday  & 17        & ⋯         & 38        & 0.4       & 5.0       &  94       & 1.5       & 1         & 1         & 1         & 0         & 1        \\\\\n",
       "\t MICU      & 72.26709  & M         & 74.0      & 17        &  2        &  9        & 1         & wednesday & 23        & ⋯         & 36        & 0.7       & 3.7       & 148       & 1.4       & 0         & 0         & 0         & 0         & 0        \\\\\n",
       "\t MICU      & 87.08742  & F         & 95.0      & 20        &  7        &  8        & 1         & thursday  & 23        & ⋯         & 63        & 1.7       & 4.2       &  60       &  NA       & 0         & 1         & 1         & 0         & 0        \\\\\n",
       "\t SICU      & 45.06368  & F         & 49.4      & 28        &  9        & 18        & 1         & friday    & 3         & ⋯         & 33        & 3.1       & 4.1       &  99       & 1.2       & 1         & 0         & 1         & 0         & 0        \\\\\n",
       "\\end{tabular}\n"
      ],
      "text/markdown": [
       "\n",
       "first_careunit | age | gender | weight | saps | sofa | elix_score | vent | icu_adm_weekday | icu_adm_hour | ⋯ | lab_pco2_first | lab_creatinine_first | lab_potassium_first | lab_po2_first | lab_lactate_first | sedative | vs_cvp_flag | lab_creatinine_kinase_flag | lab_bnp_flag | lab_troponin_flag | \n",
       "|---|---|---|---|---|---|\n",
       "| MICU      | 63.86507  | M         | 92.9      | 24        |  8        |  6        | 1         | monday    | 4         | ⋯         | 42        | 1.3       | 4.2       |  85       | 3.8       | 1         | 1         | 1         | 0         | 1         | \n",
       "| MICU      | 62.60148  | F         | 80.0      | 15        |  4        |  2        | 0         | friday    | 16        | ⋯         | NA        | 0.8       | 3.5       |  NA       | 1.4       | 0         | 1         | 0         | 0         | 0         | \n",
       "| MICU      | 74.13371  | F         | 61.0      | 21        | 17        | 17        | 1         | saturday  | 17        | ⋯         | 38        | 0.4       | 5.0       |  94       | 1.5       | 1         | 1         | 1         | 0         | 1         | \n",
       "| MICU      | 72.26709  | M         | 74.0      | 17        |  2        |  9        | 1         | wednesday | 23        | ⋯         | 36        | 0.7       | 3.7       | 148       | 1.4       | 0         | 0         | 0         | 0         | 0         | \n",
       "| MICU      | 87.08742  | F         | 95.0      | 20        |  7        |  8        | 1         | thursday  | 23        | ⋯         | 63        | 1.7       | 4.2       |  60       |  NA       | 0         | 1         | 1         | 0         | 0         | \n",
       "| SICU      | 45.06368  | F         | 49.4      | 28        |  9        | 18        | 1         | friday    | 3         | ⋯         | 33        | 3.1       | 4.1       |  99       | 1.2       | 1         | 0         | 1         | 0         | 0         | \n",
       "\n",
       "\n"
      ],
      "text/plain": [
       "  first_careunit age      gender weight saps sofa elix_score vent\n",
       "1 MICU           63.86507 M      92.9   24    8    6         1   \n",
       "2 MICU           62.60148 F      80.0   15    4    2         0   \n",
       "3 MICU           74.13371 F      61.0   21   17   17         1   \n",
       "4 MICU           72.26709 M      74.0   17    2    9         1   \n",
       "5 MICU           87.08742 F      95.0   20    7    8         1   \n",
       "6 SICU           45.06368 F      49.4   28    9   18         1   \n",
       "  icu_adm_weekday icu_adm_hour ⋯ lab_pco2_first lab_creatinine_first\n",
       "1 monday          4            ⋯ 42             1.3                 \n",
       "2 friday          16           ⋯ NA             0.8                 \n",
       "3 saturday        17           ⋯ 38             0.4                 \n",
       "4 wednesday       23           ⋯ 36             0.7                 \n",
       "5 thursday        23           ⋯ 63             1.7                 \n",
       "6 friday          3            ⋯ 33             3.1                 \n",
       "  lab_potassium_first lab_po2_first lab_lactate_first sedative vs_cvp_flag\n",
       "1 4.2                  85           3.8               1        1          \n",
       "2 3.5                  NA           1.4               0        1          \n",
       "3 5.0                  94           1.5               1        1          \n",
       "4 3.7                 148           1.4               0        0          \n",
       "5 4.2                  60            NA               0        1          \n",
       "6 4.1                  99           1.2               1        0          \n",
       "  lab_creatinine_kinase_flag lab_bnp_flag lab_troponin_flag\n",
       "1 1                          0            1                \n",
       "2 0                          0            0                \n",
       "3 1                          0            1                \n",
       "4 0                          0            0                \n",
       "5 1                          0            0                \n",
       "6 1                          0            0                "
      ]
     },
     "metadata": {},
     "output_type": "display_data"
    }
   ],
   "source": [
    "features <- full_data %>%\n",
    "    select(!!!rlang::syms(feature_names))\n",
    "head(features)"
   ]
  },
  {
   "cell_type": "code",
   "execution_count": 13,
   "metadata": {},
   "outputs": [],
   "source": [
    "label_name <- \"echo\""
   ]
  },
  {
   "cell_type": "code",
   "execution_count": 14,
   "metadata": {},
   "outputs": [
    {
     "name": "stdout",
     "output_type": "stream",
     "text": [
      " Factor w/ 2 levels \"0\",\"1\": 2 2 2 1 1 2 2 2 2 1 ...\n"
     ]
    }
   ],
   "source": [
    "label <- full_data %>% pull(echo)\n",
    "str(label)"
   ]
  },
  {
   "cell_type": "code",
   "execution_count": 15,
   "metadata": {},
   "outputs": [
    {
     "data": {
      "text/html": [
       "'mort_28_day ~ echo + first_careunit + age + gender + weight + saps + sofa + elix_score + vent + icu_adm_weekday + icu_adm_hour + icd_chf + icd_afib + icd_renal + icd_liver + icd_copd + icd_cad + icd_stroke + icd_malignancy + vs_heart_rate_first + vs_map_first + vs_temp_first + lab_hemoglobin_first + lab_platelet_first + lab_wbc_first + lab_ph_first + lab_chloride_first + lab_sodium_first + lab_bun_first + lab_bicarbonate_first + lab_pco2_first + lab_creatinine_first + lab_potassium_first + lab_po2_first + lab_lactate_first + sedative + vs_cvp_flag + lab_creatinine_kinase_flag + lab_bnp_flag + lab_troponin_flag'"
      ],
      "text/latex": [
       "'mort\\_28\\_day \\textasciitilde{} echo + first\\_careunit + age + gender + weight + saps + sofa + elix\\_score + vent + icu\\_adm\\_weekday + icu\\_adm\\_hour + icd\\_chf + icd\\_afib + icd\\_renal + icd\\_liver + icd\\_copd + icd\\_cad + icd\\_stroke + icd\\_malignancy + vs\\_heart\\_rate\\_first + vs\\_map\\_first + vs\\_temp\\_first + lab\\_hemoglobin\\_first + lab\\_platelet\\_first + lab\\_wbc\\_first + lab\\_ph\\_first + lab\\_chloride\\_first + lab\\_sodium\\_first + lab\\_bun\\_first + lab\\_bicarbonate\\_first + lab\\_pco2\\_first + lab\\_creatinine\\_first + lab\\_potassium\\_first + lab\\_po2\\_first + lab\\_lactate\\_first + sedative + vs\\_cvp\\_flag + lab\\_creatinine\\_kinase\\_flag + lab\\_bnp\\_flag + lab\\_troponin\\_flag'"
      ],
      "text/markdown": [
       "'mort_28_day ~ echo + first_careunit + age + gender + weight + saps + sofa + elix_score + vent + icu_adm_weekday + icu_adm_hour + icd_chf + icd_afib + icd_renal + icd_liver + icd_copd + icd_cad + icd_stroke + icd_malignancy + vs_heart_rate_first + vs_map_first + vs_temp_first + lab_hemoglobin_first + lab_platelet_first + lab_wbc_first + lab_ph_first + lab_chloride_first + lab_sodium_first + lab_bun_first + lab_bicarbonate_first + lab_pco2_first + lab_creatinine_first + lab_potassium_first + lab_po2_first + lab_lactate_first + sedative + vs_cvp_flag + lab_creatinine_kinase_flag + lab_bnp_flag + lab_troponin_flag'"
      ],
      "text/plain": [
       "[1] \"mort_28_day ~ echo + first_careunit + age + gender + weight + saps + sofa + elix_score + vent + icu_adm_weekday + icu_adm_hour + icd_chf + icd_afib + icd_renal + icd_liver + icd_copd + icd_cad + icd_stroke + icd_malignancy + vs_heart_rate_first + vs_map_first + vs_temp_first + lab_hemoglobin_first + lab_platelet_first + lab_wbc_first + lab_ph_first + lab_chloride_first + lab_sodium_first + lab_bun_first + lab_bicarbonate_first + lab_pco2_first + lab_creatinine_first + lab_potassium_first + lab_po2_first + lab_lactate_first + sedative + vs_cvp_flag + lab_creatinine_kinase_flag + lab_bnp_flag + lab_troponin_flag\""
      ]
     },
     "metadata": {},
     "output_type": "display_data"
    }
   ],
   "source": [
    "fml <- feature_names %>%\n",
    "    c(\"echo\", .) %>%\n",
    "    paste(collapse = \" + \") %>%\n",
    "    sprintf(\"mort_28_day ~ %s\", .)\n",
    "fml"
   ]
  },
  {
   "cell_type": "code",
   "execution_count": 16,
   "metadata": {},
   "outputs": [
    {
     "data": {
      "text/plain": [
       "\n",
       "Call:\n",
       "glm(formula = as.formula(fml), family = binomial, data = full_data, \n",
       "    na.action = na.exclude)\n",
       "\n",
       "Deviance Residuals: \n",
       "    Min       1Q   Median       3Q      Max  \n",
       "-2.4191  -0.7801  -0.4057   0.8177   2.7933  \n",
       "\n",
       "Coefficients:\n",
       "                              Estimate Std. Error z value Pr(>|z|)    \n",
       "(Intercept)                 -7.5760499  8.9517792  -0.846 0.397375    \n",
       "echo1                       -0.6891420  0.1498730  -4.598 4.26e-06 ***\n",
       "first_careunitMICU           0.5677816  0.1847124   3.074 0.002113 ** \n",
       "age                          0.0174680  0.0055491   3.148 0.001644 ** \n",
       "genderF                     -0.1695708  0.1414976  -1.198 0.230761    \n",
       "weight                      -0.0079026  0.0029811  -2.651 0.008028 ** \n",
       "saps                         0.0673487  0.0179083   3.761 0.000169 ***\n",
       "sofa                         0.1520795  0.0265866   5.720 1.06e-08 ***\n",
       "elix_score                   0.0408843  0.0116811   3.500 0.000465 ***\n",
       "vent1                        0.4364957  0.2653001   1.645 0.099910 .  \n",
       "icu_adm_weekdaymonday        0.0139649  0.2513057   0.056 0.955685    \n",
       "icu_adm_weekdaytuesday      -0.0694528  0.2498052  -0.278 0.780991    \n",
       "icu_adm_weekdaywednesday     0.1932692  0.2467461   0.783 0.433468    \n",
       "icu_adm_weekdaythursday      0.0740118  0.2421101   0.306 0.759837    \n",
       "icu_adm_weekdayfriday        0.0296513  0.2499435   0.119 0.905567    \n",
       "icu_adm_weekdaysaturday     -0.1605726  0.2502748  -0.642 0.521143    \n",
       "icu_adm_hour1                0.0268682  0.4534796   0.059 0.952754    \n",
       "icu_adm_hour2               -0.4616754  0.4977292  -0.928 0.353634    \n",
       "icu_adm_hour3               -0.3120358  0.4684498  -0.666 0.505345    \n",
       "icu_adm_hour4                0.5358032  0.4596724   1.166 0.243768    \n",
       "icu_adm_hour5               -0.2063484  0.5042611  -0.409 0.682386    \n",
       "icu_adm_hour6               -0.2028158  0.5697420  -0.356 0.721857    \n",
       "icu_adm_hour7               -1.6222678  0.9034171  -1.796 0.072542 .  \n",
       "icu_adm_hour8               -0.5081748  0.6659260  -0.763 0.445398    \n",
       "icu_adm_hour9                0.7670639  0.5172404   1.483 0.138076    \n",
       "icu_adm_hour10              -0.5257479  0.5591670  -0.940 0.347097    \n",
       "icu_adm_hour11              -0.3869313  0.4759941  -0.813 0.416280    \n",
       "icu_adm_hour12              -0.2095663  0.4671570  -0.449 0.653721    \n",
       "icu_adm_hour13               0.3670480  0.4608967   0.796 0.425812    \n",
       "icu_adm_hour14               0.3747820  0.4398664   0.852 0.394194    \n",
       "icu_adm_hour15               0.1283596  0.4085631   0.314 0.753390    \n",
       "icu_adm_hour16              -0.1901680  0.4091481  -0.465 0.642082    \n",
       "icu_adm_hour17              -0.3245334  0.4260808  -0.762 0.446256    \n",
       "icu_adm_hour18              -0.1953640  0.4005899  -0.488 0.625769    \n",
       "icu_adm_hour19              -0.2579754  0.4182768  -0.617 0.537395    \n",
       "icu_adm_hour20               0.2950563  0.3958524   0.745 0.456048    \n",
       "icu_adm_hour21               0.2165950  0.3881265   0.558 0.576809    \n",
       "icu_adm_hour22               0.1754454  0.3982199   0.441 0.659521    \n",
       "icu_adm_hour23              -0.6370578  0.4329660  -1.471 0.141188    \n",
       "icd_chf1                    -0.2625687  0.1719434  -1.527 0.126745    \n",
       "icd_afib1                    0.2365421  0.1542056   1.534 0.125044    \n",
       "icd_renal1                  -0.2481051  0.2068887  -1.199 0.230442    \n",
       "icd_liver1                   0.6344490  0.2557628   2.481 0.013116 *  \n",
       "icd_copd1                    0.3105756  0.1927803   1.611 0.107172    \n",
       "icd_cad1                    -0.0595067  0.2010260  -0.296 0.767219    \n",
       "icd_stroke1                  0.2313684  0.2809767   0.823 0.410256    \n",
       "icd_malignancy1              0.5560207  0.1739221   3.197 0.001389 ** \n",
       "vs_heart_rate_first          0.0044738  0.0034497   1.297 0.194676    \n",
       "vs_map_first                -0.0081041  0.0033995  -2.384 0.017129 *  \n",
       "vs_temp_first               -0.0632168  0.0578539  -1.093 0.274527    \n",
       "lab_hemoglobin_first        -0.0223892  0.0354769  -0.631 0.527979    \n",
       "lab_platelet_first           0.0003533  0.0005536   0.638 0.523367    \n",
       "lab_wbc_first               -0.0038897  0.0048190  -0.807 0.419567    \n",
       "lab_ph_first                 0.8754368  1.1915868   0.735 0.462533    \n",
       "lab_chloride_first           0.0054250  0.0223424   0.243 0.808152    \n",
       "lab_sodium_first            -0.0219379  0.0242167  -0.906 0.364988    \n",
       "lab_bun_first                0.0062875  0.0034383   1.829 0.067450 .  \n",
       "lab_bicarbonate_first        0.0052059  0.0272217   0.191 0.848338    \n",
       "lab_pco2_first               0.0118377  0.0096420   1.228 0.219549    \n",
       "lab_creatinine_first        -0.1594258  0.0660868  -2.412 0.015849 *  \n",
       "lab_potassium_first          0.1820446  0.0803342   2.266 0.023446 *  \n",
       "lab_po2_first               -0.0007936  0.0007056  -1.125 0.260702    \n",
       "lab_lactate_first            0.1858791  0.0392877   4.731 2.23e-06 ***\n",
       "sedative1                   -0.2256254  0.2154681  -1.047 0.295035    \n",
       "vs_cvp_flag1                -0.5783918  0.1595067  -3.626 0.000288 ***\n",
       "lab_creatinine_kinase_flag1  0.0760872  0.2004349   0.380 0.704234    \n",
       "lab_bnp_flag1                0.2079857  0.3756290   0.554 0.579784    \n",
       "lab_troponin_flag1           0.1897808  0.1944934   0.976 0.329179    \n",
       "---\n",
       "Signif. codes:  0 ‘***’ 0.001 ‘**’ 0.01 ‘*’ 0.05 ‘.’ 0.1 ‘ ’ 1\n",
       "\n",
       "(Dispersion parameter for binomial family taken to be 1)\n",
       "\n",
       "    Null deviance: 1928.7  on 1448  degrees of freedom\n",
       "Residual deviance: 1429.6  on 1381  degrees of freedom\n",
       "  (618 observations deleted due to missingness)\n",
       "AIC: 1565.6\n",
       "\n",
       "Number of Fisher Scoring iterations: 5\n"
      ]
     },
     "metadata": {},
     "output_type": "display_data"
    },
    {
     "name": "stderr",
     "output_type": "stream",
     "text": [
      "Waiting for profiling to be done...\n"
     ]
    },
    {
     "data": {
      "text/html": [
       "<table>\n",
       "<thead><tr><th></th><th scope=col>OR</th><th scope=col>2.5 %</th><th scope=col>97.5 %</th></tr></thead>\n",
       "<tbody>\n",
       "\t<tr><th scope=row>(Intercept)</th><td>0.000512582 </td><td>1.049117e-11</td><td>1.851588e+04</td></tr>\n",
       "\t<tr><th scope=row>echo1</th><td>0.502006622 </td><td>3.737021e-01</td><td>6.727457e-01</td></tr>\n",
       "\t<tr><th scope=row>first_careunitMICU</th><td>1.764348658 </td><td>1.233076e+00</td><td>2.545576e+00</td></tr>\n",
       "\t<tr><th scope=row>age</th><td>1.017621476 </td><td>1.006696e+00</td><td>1.028853e+00</td></tr>\n",
       "\t<tr><th scope=row>genderF</th><td>0.844026978 </td><td>6.392590e-01</td><td>1.113562e+00</td></tr>\n",
       "\t<tr><th scope=row>weight</th><td>0.992128565 </td><td>9.862417e-01</td><td>9.978426e-01</td></tr>\n",
       "\t<tr><th scope=row>saps</th><td>1.069668355 </td><td>1.032928e+00</td><td>1.108110e+00</td></tr>\n",
       "\t<tr><th scope=row>sofa</th><td>1.164252804 </td><td>1.105622e+00</td><td>1.227166e+00</td></tr>\n",
       "\t<tr><th scope=row>elix_score</th><td>1.041731618 </td><td>1.018241e+00</td><td>1.065994e+00</td></tr>\n",
       "\t<tr><th scope=row>vent1</th><td>1.547275530 </td><td>9.202075e-01</td><td>2.606099e+00</td></tr>\n",
       "\t<tr><th scope=row>icu_adm_weekdaymonday</th><td>1.014062866 </td><td>6.193157e-01</td><td>1.660122e+00</td></tr>\n",
       "\t<tr><th scope=row>icu_adm_weekdaytuesday</th><td>0.932904123 </td><td>5.711072e-01</td><td>1.522044e+00</td></tr>\n",
       "\t<tr><th scope=row>icu_adm_weekdaywednesday</th><td>1.213209320 </td><td>7.483499e-01</td><td>1.970411e+00</td></tr>\n",
       "\t<tr><th scope=row>icu_adm_weekdaythursday</th><td>1.076819487 </td><td>6.699566e-01</td><td>1.732231e+00</td></tr>\n",
       "\t<tr><th scope=row>icu_adm_weekdayfriday</th><td>1.030095249 </td><td>6.305998e-01</td><td>1.681445e+00</td></tr>\n",
       "\t<tr><th scope=row>icu_adm_weekdaysaturday</th><td>0.851655979 </td><td>5.208049e-01</td><td>1.390484e+00</td></tr>\n",
       "\t<tr><th scope=row>icu_adm_hour1</th><td>1.027232370 </td><td>4.228302e-01</td><td>2.511163e+00</td></tr>\n",
       "\t<tr><th scope=row>icu_adm_hour2</th><td>0.630226855 </td><td>2.340033e-01</td><td>1.658214e+00</td></tr>\n",
       "\t<tr><th scope=row>icu_adm_hour3</th><td>0.731955316 </td><td>2.896964e-01</td><td>1.827585e+00</td></tr>\n",
       "\t<tr><th scope=row>icu_adm_hour4</th><td>1.708820237 </td><td>6.942748e-01</td><td>4.227358e+00</td></tr>\n",
       "\t<tr><th scope=row>icu_adm_hour5</th><td>0.813549565 </td><td>2.986754e-01</td><td>2.172327e+00</td></tr>\n",
       "\t<tr><th scope=row>icu_adm_hour6</th><td>0.816428579 </td><td>2.631421e-01</td><td>2.478626e+00</td></tr>\n",
       "\t<tr><th scope=row>icu_adm_hour7</th><td>0.197450404 </td><td>2.513815e-02</td><td>9.889238e-01</td></tr>\n",
       "\t<tr><th scope=row>icu_adm_hour8</th><td>0.601592584 </td><td>1.516464e-01</td><td>2.129071e+00</td></tr>\n",
       "\t<tr><th scope=row>icu_adm_hour9</th><td>2.153434205 </td><td>7.825498e-01</td><td>5.980308e+00</td></tr>\n",
       "\t<tr><th scope=row>icu_adm_hour10</th><td>0.591113076 </td><td>1.920946e-01</td><td>1.740068e+00</td></tr>\n",
       "\t<tr><th scope=row>icu_adm_hour11</th><td>0.679137716 </td><td>2.650084e-01</td><td>1.722440e+00</td></tr>\n",
       "\t<tr><th scope=row>icu_adm_hour12</th><td>0.810935871 </td><td>3.227130e-01</td><td>2.024414e+00</td></tr>\n",
       "\t<tr><th scope=row>icu_adm_hour13</th><td>1.443467141 </td><td>5.854598e-01</td><td>3.582015e+00</td></tr>\n",
       "\t<tr><th scope=row>icu_adm_hour14</th><td>1.454674217 </td><td>6.143017e-01</td><td>3.459033e+00</td></tr>\n",
       "\t<tr><th scope=row>⋮</th><td>⋮</td><td>⋮</td><td>⋮</td></tr>\n",
       "\t<tr><th scope=row>icu_adm_hour23</th><td>0.5288461 </td><td>0.2256122 </td><td> 1.2362391</td></tr>\n",
       "\t<tr><th scope=row>icd_chf1</th><td>0.7690735 </td><td>0.5484157 </td><td> 1.0765661</td></tr>\n",
       "\t<tr><th scope=row>icd_afib1</th><td>1.2668610 </td><td>0.9364148 </td><td> 1.7146279</td></tr>\n",
       "\t<tr><th scope=row>icd_renal1</th><td>0.7802780 </td><td>0.5190433 </td><td> 1.1688330</td></tr>\n",
       "\t<tr><th scope=row>icd_liver1</th><td>1.8859826 </td><td>1.1437589 </td><td> 3.1205045</td></tr>\n",
       "\t<tr><th scope=row>icd_copd1</th><td>1.3642102 </td><td>0.9335364 </td><td> 1.9890444</td></tr>\n",
       "\t<tr><th scope=row>icd_cad1</th><td>0.9422293 </td><td>0.6331274 </td><td> 1.3935551</td></tr>\n",
       "\t<tr><th scope=row>icd_stroke1</th><td>1.2603235 </td><td>0.7213792 </td><td> 2.1759893</td></tr>\n",
       "\t<tr><th scope=row>icd_malignancy1</th><td>1.7437198 </td><td>1.2401343 </td><td> 2.4535470</td></tr>\n",
       "\t<tr><th scope=row>vs_heart_rate_first</th><td>1.0044839 </td><td>0.9977380 </td><td> 1.0113203</td></tr>\n",
       "\t<tr><th scope=row>vs_map_first</th><td>0.9919286 </td><td>0.9852393 </td><td> 0.9984707</td></tr>\n",
       "\t<tr><th scope=row>vs_temp_first</th><td>0.9387400 </td><td>0.8366504 </td><td> 1.0331788</td></tr>\n",
       "\t<tr><th scope=row>lab_hemoglobin_first</th><td>0.9778595 </td><td>0.9120800 </td><td> 1.0482876</td></tr>\n",
       "\t<tr><th scope=row>lab_platelet_first</th><td>1.0003533 </td><td>0.9992613 </td><td> 1.0014351</td></tr>\n",
       "\t<tr><th scope=row>lab_wbc_first</th><td>0.9961178 </td><td>0.9871426 </td><td> 1.0063116</td></tr>\n",
       "\t<tr><th scope=row>lab_ph_first</th><td>2.3999233 </td><td>0.2368681 </td><td>25.3487178</td></tr>\n",
       "\t<tr><th scope=row>lab_chloride_first</th><td>1.0054397 </td><td>0.9622563 </td><td> 1.0504254</td></tr>\n",
       "\t<tr><th scope=row>lab_sodium_first</th><td>0.9783010 </td><td>0.9329918 </td><td> 1.0260152</td></tr>\n",
       "\t<tr><th scope=row>lab_bun_first</th><td>1.0063073 </td><td>0.9995567 </td><td> 1.0131523</td></tr>\n",
       "\t<tr><th scope=row>lab_bicarbonate_first</th><td>1.0052194 </td><td>0.9526195 </td><td> 1.0599333</td></tr>\n",
       "\t<tr><th scope=row>lab_pco2_first</th><td>1.0119081 </td><td>0.9930774 </td><td> 1.0314013</td></tr>\n",
       "\t<tr><th scope=row>lab_creatinine_first</th><td>0.8526332 </td><td>0.7478660 </td><td> 0.9693075</td></tr>\n",
       "\t<tr><th scope=row>lab_potassium_first</th><td>1.1996677 </td><td>1.0300645 </td><td> 1.4180314</td></tr>\n",
       "\t<tr><th scope=row>lab_po2_first</th><td>0.9992067 </td><td>0.9978166 </td><td> 1.0005835</td></tr>\n",
       "\t<tr><th scope=row>lab_lactate_first</th><td>1.2042767 </td><td>1.1161926 </td><td> 1.3021766</td></tr>\n",
       "\t<tr><th scope=row>sedative1</th><td>0.7980170 </td><td>0.5227614 </td><td> 1.2180021</td></tr>\n",
       "\t<tr><th scope=row>vs_cvp_flag1</th><td>0.5607995 </td><td>0.4097938 </td><td> 0.7661587</td></tr>\n",
       "\t<tr><th scope=row>lab_creatinine_kinase_flag1</th><td>1.0790567 </td><td>0.7272825 </td><td> 1.5968261</td></tr>\n",
       "\t<tr><th scope=row>lab_bnp_flag1</th><td>1.2311955 </td><td>0.5789499 </td><td> 2.5420909</td></tr>\n",
       "\t<tr><th scope=row>lab_troponin_flag1</th><td>1.2089845 </td><td>0.8270704 </td><td> 1.7740641</td></tr>\n",
       "</tbody>\n",
       "</table>\n"
      ],
      "text/latex": [
       "\\begin{tabular}{r|lll}\n",
       "  & OR & 2.5 \\% & 97.5 \\%\\\\\n",
       "\\hline\n",
       "\t(Intercept) & 0.000512582  & 1.049117e-11 & 1.851588e+04\\\\\n",
       "\techo1 & 0.502006622  & 3.737021e-01 & 6.727457e-01\\\\\n",
       "\tfirst\\_careunitMICU & 1.764348658  & 1.233076e+00 & 2.545576e+00\\\\\n",
       "\tage & 1.017621476  & 1.006696e+00 & 1.028853e+00\\\\\n",
       "\tgenderF & 0.844026978  & 6.392590e-01 & 1.113562e+00\\\\\n",
       "\tweight & 0.992128565  & 9.862417e-01 & 9.978426e-01\\\\\n",
       "\tsaps & 1.069668355  & 1.032928e+00 & 1.108110e+00\\\\\n",
       "\tsofa & 1.164252804  & 1.105622e+00 & 1.227166e+00\\\\\n",
       "\telix\\_score & 1.041731618  & 1.018241e+00 & 1.065994e+00\\\\\n",
       "\tvent1 & 1.547275530  & 9.202075e-01 & 2.606099e+00\\\\\n",
       "\ticu\\_adm\\_weekdaymonday & 1.014062866  & 6.193157e-01 & 1.660122e+00\\\\\n",
       "\ticu\\_adm\\_weekdaytuesday & 0.932904123  & 5.711072e-01 & 1.522044e+00\\\\\n",
       "\ticu\\_adm\\_weekdaywednesday & 1.213209320  & 7.483499e-01 & 1.970411e+00\\\\\n",
       "\ticu\\_adm\\_weekdaythursday & 1.076819487  & 6.699566e-01 & 1.732231e+00\\\\\n",
       "\ticu\\_adm\\_weekdayfriday & 1.030095249  & 6.305998e-01 & 1.681445e+00\\\\\n",
       "\ticu\\_adm\\_weekdaysaturday & 0.851655979  & 5.208049e-01 & 1.390484e+00\\\\\n",
       "\ticu\\_adm\\_hour1 & 1.027232370  & 4.228302e-01 & 2.511163e+00\\\\\n",
       "\ticu\\_adm\\_hour2 & 0.630226855  & 2.340033e-01 & 1.658214e+00\\\\\n",
       "\ticu\\_adm\\_hour3 & 0.731955316  & 2.896964e-01 & 1.827585e+00\\\\\n",
       "\ticu\\_adm\\_hour4 & 1.708820237  & 6.942748e-01 & 4.227358e+00\\\\\n",
       "\ticu\\_adm\\_hour5 & 0.813549565  & 2.986754e-01 & 2.172327e+00\\\\\n",
       "\ticu\\_adm\\_hour6 & 0.816428579  & 2.631421e-01 & 2.478626e+00\\\\\n",
       "\ticu\\_adm\\_hour7 & 0.197450404  & 2.513815e-02 & 9.889238e-01\\\\\n",
       "\ticu\\_adm\\_hour8 & 0.601592584  & 1.516464e-01 & 2.129071e+00\\\\\n",
       "\ticu\\_adm\\_hour9 & 2.153434205  & 7.825498e-01 & 5.980308e+00\\\\\n",
       "\ticu\\_adm\\_hour10 & 0.591113076  & 1.920946e-01 & 1.740068e+00\\\\\n",
       "\ticu\\_adm\\_hour11 & 0.679137716  & 2.650084e-01 & 1.722440e+00\\\\\n",
       "\ticu\\_adm\\_hour12 & 0.810935871  & 3.227130e-01 & 2.024414e+00\\\\\n",
       "\ticu\\_adm\\_hour13 & 1.443467141  & 5.854598e-01 & 3.582015e+00\\\\\n",
       "\ticu\\_adm\\_hour14 & 1.454674217  & 6.143017e-01 & 3.459033e+00\\\\\n",
       "\t⋮ & ⋮ & ⋮ & ⋮\\\\\n",
       "\ticu\\_adm\\_hour23 & 0.5288461  & 0.2256122  &  1.2362391\\\\\n",
       "\ticd\\_chf1 & 0.7690735  & 0.5484157  &  1.0765661\\\\\n",
       "\ticd\\_afib1 & 1.2668610  & 0.9364148  &  1.7146279\\\\\n",
       "\ticd\\_renal1 & 0.7802780  & 0.5190433  &  1.1688330\\\\\n",
       "\ticd\\_liver1 & 1.8859826  & 1.1437589  &  3.1205045\\\\\n",
       "\ticd\\_copd1 & 1.3642102  & 0.9335364  &  1.9890444\\\\\n",
       "\ticd\\_cad1 & 0.9422293  & 0.6331274  &  1.3935551\\\\\n",
       "\ticd\\_stroke1 & 1.2603235  & 0.7213792  &  2.1759893\\\\\n",
       "\ticd\\_malignancy1 & 1.7437198  & 1.2401343  &  2.4535470\\\\\n",
       "\tvs\\_heart\\_rate\\_first & 1.0044839  & 0.9977380  &  1.0113203\\\\\n",
       "\tvs\\_map\\_first & 0.9919286  & 0.9852393  &  0.9984707\\\\\n",
       "\tvs\\_temp\\_first & 0.9387400  & 0.8366504  &  1.0331788\\\\\n",
       "\tlab\\_hemoglobin\\_first & 0.9778595  & 0.9120800  &  1.0482876\\\\\n",
       "\tlab\\_platelet\\_first & 1.0003533  & 0.9992613  &  1.0014351\\\\\n",
       "\tlab\\_wbc\\_first & 0.9961178  & 0.9871426  &  1.0063116\\\\\n",
       "\tlab\\_ph\\_first & 2.3999233  & 0.2368681  & 25.3487178\\\\\n",
       "\tlab\\_chloride\\_first & 1.0054397  & 0.9622563  &  1.0504254\\\\\n",
       "\tlab\\_sodium\\_first & 0.9783010  & 0.9329918  &  1.0260152\\\\\n",
       "\tlab\\_bun\\_first & 1.0063073  & 0.9995567  &  1.0131523\\\\\n",
       "\tlab\\_bicarbonate\\_first & 1.0052194  & 0.9526195  &  1.0599333\\\\\n",
       "\tlab\\_pco2\\_first & 1.0119081  & 0.9930774  &  1.0314013\\\\\n",
       "\tlab\\_creatinine\\_first & 0.8526332  & 0.7478660  &  0.9693075\\\\\n",
       "\tlab\\_potassium\\_first & 1.1996677  & 1.0300645  &  1.4180314\\\\\n",
       "\tlab\\_po2\\_first & 0.9992067  & 0.9978166  &  1.0005835\\\\\n",
       "\tlab\\_lactate\\_first & 1.2042767  & 1.1161926  &  1.3021766\\\\\n",
       "\tsedative1 & 0.7980170  & 0.5227614  &  1.2180021\\\\\n",
       "\tvs\\_cvp\\_flag1 & 0.5607995  & 0.4097938  &  0.7661587\\\\\n",
       "\tlab\\_creatinine\\_kinase\\_flag1 & 1.0790567  & 0.7272825  &  1.5968261\\\\\n",
       "\tlab\\_bnp\\_flag1 & 1.2311955  & 0.5789499  &  2.5420909\\\\\n",
       "\tlab\\_troponin\\_flag1 & 1.2089845  & 0.8270704  &  1.7740641\\\\\n",
       "\\end{tabular}\n"
      ],
      "text/markdown": [
       "\n",
       "| <!--/--> | OR | 2.5 % | 97.5 % | \n",
       "|---|---|---|---|---|---|---|---|---|---|---|---|---|---|---|---|---|---|---|---|---|---|---|---|---|---|---|---|---|---|---|---|---|---|---|---|---|---|---|---|---|---|---|---|---|---|---|---|---|---|---|---|---|---|---|---|---|---|---|---|---|\n",
       "| (Intercept) | 0.000512582  | 1.049117e-11 | 1.851588e+04 | \n",
       "| echo1 | 0.502006622  | 3.737021e-01 | 6.727457e-01 | \n",
       "| first_careunitMICU | 1.764348658  | 1.233076e+00 | 2.545576e+00 | \n",
       "| age | 1.017621476  | 1.006696e+00 | 1.028853e+00 | \n",
       "| genderF | 0.844026978  | 6.392590e-01 | 1.113562e+00 | \n",
       "| weight | 0.992128565  | 9.862417e-01 | 9.978426e-01 | \n",
       "| saps | 1.069668355  | 1.032928e+00 | 1.108110e+00 | \n",
       "| sofa | 1.164252804  | 1.105622e+00 | 1.227166e+00 | \n",
       "| elix_score | 1.041731618  | 1.018241e+00 | 1.065994e+00 | \n",
       "| vent1 | 1.547275530  | 9.202075e-01 | 2.606099e+00 | \n",
       "| icu_adm_weekdaymonday | 1.014062866  | 6.193157e-01 | 1.660122e+00 | \n",
       "| icu_adm_weekdaytuesday | 0.932904123  | 5.711072e-01 | 1.522044e+00 | \n",
       "| icu_adm_weekdaywednesday | 1.213209320  | 7.483499e-01 | 1.970411e+00 | \n",
       "| icu_adm_weekdaythursday | 1.076819487  | 6.699566e-01 | 1.732231e+00 | \n",
       "| icu_adm_weekdayfriday | 1.030095249  | 6.305998e-01 | 1.681445e+00 | \n",
       "| icu_adm_weekdaysaturday | 0.851655979  | 5.208049e-01 | 1.390484e+00 | \n",
       "| icu_adm_hour1 | 1.027232370  | 4.228302e-01 | 2.511163e+00 | \n",
       "| icu_adm_hour2 | 0.630226855  | 2.340033e-01 | 1.658214e+00 | \n",
       "| icu_adm_hour3 | 0.731955316  | 2.896964e-01 | 1.827585e+00 | \n",
       "| icu_adm_hour4 | 1.708820237  | 6.942748e-01 | 4.227358e+00 | \n",
       "| icu_adm_hour5 | 0.813549565  | 2.986754e-01 | 2.172327e+00 | \n",
       "| icu_adm_hour6 | 0.816428579  | 2.631421e-01 | 2.478626e+00 | \n",
       "| icu_adm_hour7 | 0.197450404  | 2.513815e-02 | 9.889238e-01 | \n",
       "| icu_adm_hour8 | 0.601592584  | 1.516464e-01 | 2.129071e+00 | \n",
       "| icu_adm_hour9 | 2.153434205  | 7.825498e-01 | 5.980308e+00 | \n",
       "| icu_adm_hour10 | 0.591113076  | 1.920946e-01 | 1.740068e+00 | \n",
       "| icu_adm_hour11 | 0.679137716  | 2.650084e-01 | 1.722440e+00 | \n",
       "| icu_adm_hour12 | 0.810935871  | 3.227130e-01 | 2.024414e+00 | \n",
       "| icu_adm_hour13 | 1.443467141  | 5.854598e-01 | 3.582015e+00 | \n",
       "| icu_adm_hour14 | 1.454674217  | 6.143017e-01 | 3.459033e+00 | \n",
       "| ⋮ | ⋮ | ⋮ | ⋮ | \n",
       "| icu_adm_hour23 | 0.5288461  | 0.2256122  |  1.2362391 | \n",
       "| icd_chf1 | 0.7690735  | 0.5484157  |  1.0765661 | \n",
       "| icd_afib1 | 1.2668610  | 0.9364148  |  1.7146279 | \n",
       "| icd_renal1 | 0.7802780  | 0.5190433  |  1.1688330 | \n",
       "| icd_liver1 | 1.8859826  | 1.1437589  |  3.1205045 | \n",
       "| icd_copd1 | 1.3642102  | 0.9335364  |  1.9890444 | \n",
       "| icd_cad1 | 0.9422293  | 0.6331274  |  1.3935551 | \n",
       "| icd_stroke1 | 1.2603235  | 0.7213792  |  2.1759893 | \n",
       "| icd_malignancy1 | 1.7437198  | 1.2401343  |  2.4535470 | \n",
       "| vs_heart_rate_first | 1.0044839  | 0.9977380  |  1.0113203 | \n",
       "| vs_map_first | 0.9919286  | 0.9852393  |  0.9984707 | \n",
       "| vs_temp_first | 0.9387400  | 0.8366504  |  1.0331788 | \n",
       "| lab_hemoglobin_first | 0.9778595  | 0.9120800  |  1.0482876 | \n",
       "| lab_platelet_first | 1.0003533  | 0.9992613  |  1.0014351 | \n",
       "| lab_wbc_first | 0.9961178  | 0.9871426  |  1.0063116 | \n",
       "| lab_ph_first | 2.3999233  | 0.2368681  | 25.3487178 | \n",
       "| lab_chloride_first | 1.0054397  | 0.9622563  |  1.0504254 | \n",
       "| lab_sodium_first | 0.9783010  | 0.9329918  |  1.0260152 | \n",
       "| lab_bun_first | 1.0063073  | 0.9995567  |  1.0131523 | \n",
       "| lab_bicarbonate_first | 1.0052194  | 0.9526195  |  1.0599333 | \n",
       "| lab_pco2_first | 1.0119081  | 0.9930774  |  1.0314013 | \n",
       "| lab_creatinine_first | 0.8526332  | 0.7478660  |  0.9693075 | \n",
       "| lab_potassium_first | 1.1996677  | 1.0300645  |  1.4180314 | \n",
       "| lab_po2_first | 0.9992067  | 0.9978166  |  1.0005835 | \n",
       "| lab_lactate_first | 1.2042767  | 1.1161926  |  1.3021766 | \n",
       "| sedative1 | 0.7980170  | 0.5227614  |  1.2180021 | \n",
       "| vs_cvp_flag1 | 0.5607995  | 0.4097938  |  0.7661587 | \n",
       "| lab_creatinine_kinase_flag1 | 1.0790567  | 0.7272825  |  1.5968261 | \n",
       "| lab_bnp_flag1 | 1.2311955  | 0.5789499  |  2.5420909 | \n",
       "| lab_troponin_flag1 | 1.2089845  | 0.8270704  |  1.7740641 | \n",
       "\n",
       "\n"
      ],
      "text/plain": [
       "                            OR          2.5 %        97.5 %      \n",
       "(Intercept)                 0.000512582 1.049117e-11 1.851588e+04\n",
       "echo1                       0.502006622 3.737021e-01 6.727457e-01\n",
       "first_careunitMICU          1.764348658 1.233076e+00 2.545576e+00\n",
       "age                         1.017621476 1.006696e+00 1.028853e+00\n",
       "genderF                     0.844026978 6.392590e-01 1.113562e+00\n",
       "weight                      0.992128565 9.862417e-01 9.978426e-01\n",
       "saps                        1.069668355 1.032928e+00 1.108110e+00\n",
       "sofa                        1.164252804 1.105622e+00 1.227166e+00\n",
       "elix_score                  1.041731618 1.018241e+00 1.065994e+00\n",
       "vent1                       1.547275530 9.202075e-01 2.606099e+00\n",
       "icu_adm_weekdaymonday       1.014062866 6.193157e-01 1.660122e+00\n",
       "icu_adm_weekdaytuesday      0.932904123 5.711072e-01 1.522044e+00\n",
       "icu_adm_weekdaywednesday    1.213209320 7.483499e-01 1.970411e+00\n",
       "icu_adm_weekdaythursday     1.076819487 6.699566e-01 1.732231e+00\n",
       "icu_adm_weekdayfriday       1.030095249 6.305998e-01 1.681445e+00\n",
       "icu_adm_weekdaysaturday     0.851655979 5.208049e-01 1.390484e+00\n",
       "icu_adm_hour1               1.027232370 4.228302e-01 2.511163e+00\n",
       "icu_adm_hour2               0.630226855 2.340033e-01 1.658214e+00\n",
       "icu_adm_hour3               0.731955316 2.896964e-01 1.827585e+00\n",
       "icu_adm_hour4               1.708820237 6.942748e-01 4.227358e+00\n",
       "icu_adm_hour5               0.813549565 2.986754e-01 2.172327e+00\n",
       "icu_adm_hour6               0.816428579 2.631421e-01 2.478626e+00\n",
       "icu_adm_hour7               0.197450404 2.513815e-02 9.889238e-01\n",
       "icu_adm_hour8               0.601592584 1.516464e-01 2.129071e+00\n",
       "icu_adm_hour9               2.153434205 7.825498e-01 5.980308e+00\n",
       "icu_adm_hour10              0.591113076 1.920946e-01 1.740068e+00\n",
       "icu_adm_hour11              0.679137716 2.650084e-01 1.722440e+00\n",
       "icu_adm_hour12              0.810935871 3.227130e-01 2.024414e+00\n",
       "icu_adm_hour13              1.443467141 5.854598e-01 3.582015e+00\n",
       "icu_adm_hour14              1.454674217 6.143017e-01 3.459033e+00\n",
       "⋮                           ⋮           ⋮            ⋮           \n",
       "icu_adm_hour23              0.5288461   0.2256122     1.2362391  \n",
       "icd_chf1                    0.7690735   0.5484157     1.0765661  \n",
       "icd_afib1                   1.2668610   0.9364148     1.7146279  \n",
       "icd_renal1                  0.7802780   0.5190433     1.1688330  \n",
       "icd_liver1                  1.8859826   1.1437589     3.1205045  \n",
       "icd_copd1                   1.3642102   0.9335364     1.9890444  \n",
       "icd_cad1                    0.9422293   0.6331274     1.3935551  \n",
       "icd_stroke1                 1.2603235   0.7213792     2.1759893  \n",
       "icd_malignancy1             1.7437198   1.2401343     2.4535470  \n",
       "vs_heart_rate_first         1.0044839   0.9977380     1.0113203  \n",
       "vs_map_first                0.9919286   0.9852393     0.9984707  \n",
       "vs_temp_first               0.9387400   0.8366504     1.0331788  \n",
       "lab_hemoglobin_first        0.9778595   0.9120800     1.0482876  \n",
       "lab_platelet_first          1.0003533   0.9992613     1.0014351  \n",
       "lab_wbc_first               0.9961178   0.9871426     1.0063116  \n",
       "lab_ph_first                2.3999233   0.2368681    25.3487178  \n",
       "lab_chloride_first          1.0054397   0.9622563     1.0504254  \n",
       "lab_sodium_first            0.9783010   0.9329918     1.0260152  \n",
       "lab_bun_first               1.0063073   0.9995567     1.0131523  \n",
       "lab_bicarbonate_first       1.0052194   0.9526195     1.0599333  \n",
       "lab_pco2_first              1.0119081   0.9930774     1.0314013  \n",
       "lab_creatinine_first        0.8526332   0.7478660     0.9693075  \n",
       "lab_potassium_first         1.1996677   1.0300645     1.4180314  \n",
       "lab_po2_first               0.9992067   0.9978166     1.0005835  \n",
       "lab_lactate_first           1.2042767   1.1161926     1.3021766  \n",
       "sedative1                   0.7980170   0.5227614     1.2180021  \n",
       "vs_cvp_flag1                0.5607995   0.4097938     0.7661587  \n",
       "lab_creatinine_kinase_flag1 1.0790567   0.7272825     1.5968261  \n",
       "lab_bnp_flag1               1.2311955   0.5789499     2.5420909  \n",
       "lab_troponin_flag1          1.2089845   0.8270704     1.7740641  "
      ]
     },
     "metadata": {},
     "output_type": "display_data"
    }
   ],
   "source": [
    "unweighted <- glm(as.formula(fml), data = full_data, family = binomial, na.action = na.exclude)\n",
    "summary(unweighted)\n",
    "exp(cbind(OR = coef(unweighted), confint(unweighted)))"
   ]
  },
  {
   "cell_type": "code",
   "execution_count": 17,
   "metadata": {},
   "outputs": [],
   "source": [
    "saveRDS(unweighted, file = file.path(data_dir, \"multivariate_model_subgroup_vaso.rds\"))"
   ]
  },
  {
   "cell_type": "code",
   "execution_count": 18,
   "metadata": {},
   "outputs": [
    {
     "data": {
      "text/html": [
       "'echo_int ~ first_careunit + age + gender + weight + saps + sofa + elix_score + vent + icu_adm_weekday + icu_adm_hour + icd_chf + icd_afib + icd_renal + icd_liver + icd_copd + icd_cad + icd_stroke + icd_malignancy + vs_heart_rate_first + vs_map_first + vs_temp_first + lab_hemoglobin_first + lab_platelet_first + lab_wbc_first + lab_ph_first + lab_chloride_first + lab_sodium_first + lab_bun_first + lab_bicarbonate_first + lab_pco2_first + lab_creatinine_first + lab_potassium_first + lab_po2_first + lab_lactate_first + sedative + vs_cvp_flag + lab_creatinine_kinase_flag + lab_bnp_flag + lab_troponin_flag'"
      ],
      "text/latex": [
       "'echo\\_int \\textasciitilde{} first\\_careunit + age + gender + weight + saps + sofa + elix\\_score + vent + icu\\_adm\\_weekday + icu\\_adm\\_hour + icd\\_chf + icd\\_afib + icd\\_renal + icd\\_liver + icd\\_copd + icd\\_cad + icd\\_stroke + icd\\_malignancy + vs\\_heart\\_rate\\_first + vs\\_map\\_first + vs\\_temp\\_first + lab\\_hemoglobin\\_first + lab\\_platelet\\_first + lab\\_wbc\\_first + lab\\_ph\\_first + lab\\_chloride\\_first + lab\\_sodium\\_first + lab\\_bun\\_first + lab\\_bicarbonate\\_first + lab\\_pco2\\_first + lab\\_creatinine\\_first + lab\\_potassium\\_first + lab\\_po2\\_first + lab\\_lactate\\_first + sedative + vs\\_cvp\\_flag + lab\\_creatinine\\_kinase\\_flag + lab\\_bnp\\_flag + lab\\_troponin\\_flag'"
      ],
      "text/markdown": [
       "'echo_int ~ first_careunit + age + gender + weight + saps + sofa + elix_score + vent + icu_adm_weekday + icu_adm_hour + icd_chf + icd_afib + icd_renal + icd_liver + icd_copd + icd_cad + icd_stroke + icd_malignancy + vs_heart_rate_first + vs_map_first + vs_temp_first + lab_hemoglobin_first + lab_platelet_first + lab_wbc_first + lab_ph_first + lab_chloride_first + lab_sodium_first + lab_bun_first + lab_bicarbonate_first + lab_pco2_first + lab_creatinine_first + lab_potassium_first + lab_po2_first + lab_lactate_first + sedative + vs_cvp_flag + lab_creatinine_kinase_flag + lab_bnp_flag + lab_troponin_flag'"
      ],
      "text/plain": [
       "[1] \"echo_int ~ first_careunit + age + gender + weight + saps + sofa + elix_score + vent + icu_adm_weekday + icu_adm_hour + icd_chf + icd_afib + icd_renal + icd_liver + icd_copd + icd_cad + icd_stroke + icd_malignancy + vs_heart_rate_first + vs_map_first + vs_temp_first + lab_hemoglobin_first + lab_platelet_first + lab_wbc_first + lab_ph_first + lab_chloride_first + lab_sodium_first + lab_bun_first + lab_bicarbonate_first + lab_pco2_first + lab_creatinine_first + lab_potassium_first + lab_po2_first + lab_lactate_first + sedative + vs_cvp_flag + lab_creatinine_kinase_flag + lab_bnp_flag + lab_troponin_flag\""
      ]
     },
     "metadata": {},
     "output_type": "display_data"
    }
   ],
   "source": [
    "fml <- feature_names %>%\n",
    "    paste(collapse = \" + \") %>%\n",
    "    sprintf(\"echo_int ~ %s\", .)\n",
    "fml"
   ]
  },
  {
   "cell_type": "code",
   "execution_count": 19,
   "metadata": {},
   "outputs": [],
   "source": [
    "echo_ps_ate <- ps(as.formula(fml),\n",
    "                  data = full_data,\n",
    "                  interaction.depth = 2,\n",
    "                  shrinkage = 0.01,\n",
    "                  perm.test.iters = 0,\n",
    "                  estimand = \"ATE\",\n",
    "                  verbose = FALSE,\n",
    "                  stop.method = c(\"es.mean\", \"es.max\", \"ks.mean\", \"ks.max\"),\n",
    "                  n.trees = 10000,\n",
    "                  train.fraction = 0.8,\n",
    "                  cv.folds = 3,\n",
    "                  n.cores = 8)"
   ]
  },
  {
   "cell_type": "code",
   "execution_count": 20,
   "metadata": {},
   "outputs": [
    {
     "data": {
      "text/html": [
       "0.868714888594689"
      ],
      "text/latex": [
       "0.868714888594689"
      ],
      "text/markdown": [
       "0.868714888594689"
      ],
      "text/plain": [
       "[1] 0.8687149"
      ]
     },
     "metadata": {},
     "output_type": "display_data"
    }
   ],
   "source": [
    "pred <- echo_ps_ate$ps$es.mean.ATE\n",
    "full_data <- full_data %>% mutate(ps = pred)\n",
    "ROCR::performance(ROCR::prediction(pred, label), \"auc\")@y.values %>% first"
   ]
  },
  {
   "cell_type": "code",
   "execution_count": 21,
   "metadata": {},
   "outputs": [],
   "source": [
    "ft_importance <- summary(echo_ps_ate$gbm.obj,\n",
    "                         n.trees = echo_ps_ate$desc$es.mean.ATE$n.trees,\n",
    "                         plot = FALSE)"
   ]
  },
  {
   "cell_type": "code",
   "execution_count": 22,
   "metadata": {},
   "outputs": [],
   "source": [
    "full_data <- full_data %>%\n",
    "    mutate(ps_weight = get.weights(echo_ps_ate, stop.method = \"es.mean\"))"
   ]
  },
  {
   "cell_type": "code",
   "execution_count": 23,
   "metadata": {},
   "outputs": [],
   "source": [
    "saveRDS(full_data, file = file.path(data_dir, \"full_data_ps_subgroup_vaso.rds\"))"
   ]
  },
  {
   "cell_type": "code",
   "execution_count": 24,
   "metadata": {},
   "outputs": [],
   "source": [
    "saveRDS(ft_importance, file = file.path(data_dir, \"feature_importance_subgroup_vaso.rds\"))"
   ]
  },
  {
   "cell_type": "code",
   "execution_count": 25,
   "metadata": {},
   "outputs": [
    {
     "name": "stderr",
     "output_type": "stream",
     "text": [
      "Warning message in eval(family$initialize):\n",
      "“non-integer #successes in a binomial glm!”"
     ]
    },
    {
     "data": {
      "text/plain": [
       "\n",
       "Call:\n",
       "glm(formula = mort_28_day ~ echo, family = binomial, data = full_data, \n",
       "    weights = full_data$ps_weight)\n",
       "\n",
       "Deviance Residuals: \n",
       "   Min      1Q  Median      3Q     Max  \n",
       "-2.937  -1.246  -1.017   1.670   3.243  \n",
       "\n",
       "Coefficients:\n",
       "            Estimate Std. Error z value Pr(>|z|)    \n",
       "(Intercept) -0.25007    0.04888  -5.116 3.12e-07 ***\n",
       "echo1       -0.45392    0.06939  -6.541 6.09e-11 ***\n",
       "---\n",
       "Signif. codes:  0 ‘***’ 0.001 ‘**’ 0.01 ‘*’ 0.05 ‘.’ 0.1 ‘ ’ 1\n",
       "\n",
       "(Dispersion parameter for binomial family taken to be 1)\n",
       "\n",
       "    Null deviance: 4737.7  on 2066  degrees of freedom\n",
       "Residual deviance: 4694.7  on 2065  degrees of freedom\n",
       "AIC: 4573.1\n",
       "\n",
       "Number of Fisher Scoring iterations: 4\n"
      ]
     },
     "metadata": {},
     "output_type": "display_data"
    },
    {
     "name": "stderr",
     "output_type": "stream",
     "text": [
      "Waiting for profiling to be done...\n",
      "Warning message in eval(family$initialize):\n",
      "“non-integer #successes in a binomial glm!”Warning message in eval(family$initialize):\n",
      "“non-integer #successes in a binomial glm!”Warning message in eval(family$initialize):\n",
      "“non-integer #successes in a binomial glm!”Warning message in eval(family$initialize):\n",
      "“non-integer #successes in a binomial glm!”Warning message in eval(family$initialize):\n",
      "“non-integer #successes in a binomial glm!”Warning message in eval(family$initialize):\n",
      "“non-integer #successes in a binomial glm!”Warning message in eval(family$initialize):\n",
      "“non-integer #successes in a binomial glm!”Warning message in eval(family$initialize):\n",
      "“non-integer #successes in a binomial glm!”Warning message in eval(family$initialize):\n",
      "“non-integer #successes in a binomial glm!”Warning message in eval(family$initialize):\n",
      "“non-integer #successes in a binomial glm!”Warning message in eval(family$initialize):\n",
      "“non-integer #successes in a binomial glm!”Warning message in eval(family$initialize):\n",
      "“non-integer #successes in a binomial glm!”Warning message in eval(family$initialize):\n",
      "“non-integer #successes in a binomial glm!”Warning message in eval(family$initialize):\n",
      "“non-integer #successes in a binomial glm!”Warning message in eval(family$initialize):\n",
      "“non-integer #successes in a binomial glm!”Warning message in eval(family$initialize):\n",
      "“non-integer #successes in a binomial glm!”Warning message in eval(family$initialize):\n",
      "“non-integer #successes in a binomial glm!”Warning message in eval(family$initialize):\n",
      "“non-integer #successes in a binomial glm!”Warning message in eval(family$initialize):\n",
      "“non-integer #successes in a binomial glm!”Warning message in eval(family$initialize):\n",
      "“non-integer #successes in a binomial glm!”Warning message in eval(family$initialize):\n",
      "“non-integer #successes in a binomial glm!”Warning message in eval(family$initialize):\n",
      "“non-integer #successes in a binomial glm!”"
     ]
    },
    {
     "data": {
      "text/html": [
       "<table>\n",
       "<thead><tr><th></th><th scope=col>OR</th><th scope=col>2.5 %</th><th scope=col>97.5 %</th></tr></thead>\n",
       "<tbody>\n",
       "\t<tr><th scope=row>(Intercept)</th><td>0.7787484</td><td>0.707456 </td><td>0.8568983</td></tr>\n",
       "\t<tr><th scope=row>echo1</th><td>0.6351311</td><td>0.554263 </td><td>0.7275499</td></tr>\n",
       "</tbody>\n",
       "</table>\n"
      ],
      "text/latex": [
       "\\begin{tabular}{r|lll}\n",
       "  & OR & 2.5 \\% & 97.5 \\%\\\\\n",
       "\\hline\n",
       "\t(Intercept) & 0.7787484 & 0.707456  & 0.8568983\\\\\n",
       "\techo1 & 0.6351311 & 0.554263  & 0.7275499\\\\\n",
       "\\end{tabular}\n"
      ],
      "text/markdown": [
       "\n",
       "| <!--/--> | OR | 2.5 % | 97.5 % | \n",
       "|---|---|\n",
       "| (Intercept) | 0.7787484 | 0.707456  | 0.8568983 | \n",
       "| echo1 | 0.6351311 | 0.554263  | 0.7275499 | \n",
       "\n",
       "\n"
      ],
      "text/plain": [
       "            OR        2.5 %    97.5 %   \n",
       "(Intercept) 0.7787484 0.707456 0.8568983\n",
       "echo1       0.6351311 0.554263 0.7275499"
      ]
     },
     "metadata": {},
     "output_type": "display_data"
    }
   ],
   "source": [
    "primary_ipw <- glm(mort_28_day ~ echo, data = full_data,\n",
    "                   weights = full_data$ps_weight, family = binomial)\n",
    "summary(primary_ipw)\n",
    "exp(cbind(OR = coef(primary_ipw), confint(primary_ipw)))"
   ]
  },
  {
   "cell_type": "code",
   "execution_count": 26,
   "metadata": {},
   "outputs": [],
   "source": [
    "saveRDS(primary_ipw, file = file.path(data_dir, \"ipw_model_subgroup_vaso.rds\"))"
   ]
  },
  {
   "cell_type": "code",
   "execution_count": 27,
   "metadata": {},
   "outputs": [],
   "source": [
    "ipw_svydesign <- svydesign(ids = ~ icustay_id, weights = ~ ps_weight, data = full_data)"
   ]
  },
  {
   "cell_type": "code",
   "execution_count": 28,
   "metadata": {},
   "outputs": [],
   "source": [
    "saveRDS(ipw_svydesign, file = file.path(data_dir, \"ipw_svydesign_subgroup_vaso.rds\"))"
   ]
  },
  {
   "cell_type": "code",
   "execution_count": 29,
   "metadata": {},
   "outputs": [
    {
     "data": {
      "text/html": [
       "'mort_28_day ~ echo + first_careunit + age + gender + weight + saps + sofa + elix_score + vent + icu_adm_weekday + icu_adm_hour + icd_chf + icd_afib + icd_renal + icd_liver + icd_copd + icd_cad + icd_stroke + icd_malignancy + vs_heart_rate_first + vs_map_first + vs_temp_first + lab_hemoglobin_first + lab_platelet_first + lab_wbc_first + lab_ph_first + lab_chloride_first + lab_sodium_first + lab_bun_first + lab_bicarbonate_first + lab_pco2_first + lab_creatinine_first + lab_potassium_first + lab_po2_first + lab_lactate_first + sedative + vs_cvp_flag + lab_creatinine_kinase_flag + lab_bnp_flag + lab_troponin_flag'"
      ],
      "text/latex": [
       "'mort\\_28\\_day \\textasciitilde{} echo + first\\_careunit + age + gender + weight + saps + sofa + elix\\_score + vent + icu\\_adm\\_weekday + icu\\_adm\\_hour + icd\\_chf + icd\\_afib + icd\\_renal + icd\\_liver + icd\\_copd + icd\\_cad + icd\\_stroke + icd\\_malignancy + vs\\_heart\\_rate\\_first + vs\\_map\\_first + vs\\_temp\\_first + lab\\_hemoglobin\\_first + lab\\_platelet\\_first + lab\\_wbc\\_first + lab\\_ph\\_first + lab\\_chloride\\_first + lab\\_sodium\\_first + lab\\_bun\\_first + lab\\_bicarbonate\\_first + lab\\_pco2\\_first + lab\\_creatinine\\_first + lab\\_potassium\\_first + lab\\_po2\\_first + lab\\_lactate\\_first + sedative + vs\\_cvp\\_flag + lab\\_creatinine\\_kinase\\_flag + lab\\_bnp\\_flag + lab\\_troponin\\_flag'"
      ],
      "text/markdown": [
       "'mort_28_day ~ echo + first_careunit + age + gender + weight + saps + sofa + elix_score + vent + icu_adm_weekday + icu_adm_hour + icd_chf + icd_afib + icd_renal + icd_liver + icd_copd + icd_cad + icd_stroke + icd_malignancy + vs_heart_rate_first + vs_map_first + vs_temp_first + lab_hemoglobin_first + lab_platelet_first + lab_wbc_first + lab_ph_first + lab_chloride_first + lab_sodium_first + lab_bun_first + lab_bicarbonate_first + lab_pco2_first + lab_creatinine_first + lab_potassium_first + lab_po2_first + lab_lactate_first + sedative + vs_cvp_flag + lab_creatinine_kinase_flag + lab_bnp_flag + lab_troponin_flag'"
      ],
      "text/plain": [
       "[1] \"mort_28_day ~ echo + first_careunit + age + gender + weight + saps + sofa + elix_score + vent + icu_adm_weekday + icu_adm_hour + icd_chf + icd_afib + icd_renal + icd_liver + icd_copd + icd_cad + icd_stroke + icd_malignancy + vs_heart_rate_first + vs_map_first + vs_temp_first + lab_hemoglobin_first + lab_platelet_first + lab_wbc_first + lab_ph_first + lab_chloride_first + lab_sodium_first + lab_bun_first + lab_bicarbonate_first + lab_pco2_first + lab_creatinine_first + lab_potassium_first + lab_po2_first + lab_lactate_first + sedative + vs_cvp_flag + lab_creatinine_kinase_flag + lab_bnp_flag + lab_troponin_flag\""
      ]
     },
     "metadata": {},
     "output_type": "display_data"
    }
   ],
   "source": [
    "fml <- feature_names %>%\n",
    "    c(label_name, .) %>%\n",
    "    paste(collapse = \" + \") %>%\n",
    "    sprintf(\"mort_28_day ~ %s\", .)\n",
    "fml"
   ]
  },
  {
   "cell_type": "code",
   "execution_count": 30,
   "metadata": {},
   "outputs": [],
   "source": [
    "logi <- svyglm(as.formula(fml),\n",
    "               family = quasibinomial,\n",
    "               design = ipw_svydesign)"
   ]
  },
  {
   "cell_type": "code",
   "execution_count": 31,
   "metadata": {},
   "outputs": [
    {
     "data": {
      "text/plain": [
       "\n",
       "Call:\n",
       "svyglm(formula = as.formula(fml), family = quasibinomial, design = ipw_svydesign)\n",
       "\n",
       "Survey design:\n",
       "svydesign(ids = ~icustay_id, weights = ~ps_weight, data = full_data)\n",
       "\n",
       "Coefficients:\n",
       "                              Estimate Std. Error t value Pr(>|t|)    \n",
       "(Intercept)                 -2.9109858  9.3386097  -0.312 0.755304    \n",
       "echo1                       -0.7210549  0.1531726  -4.707 2.76e-06 ***\n",
       "first_careunitMICU           0.6858962  0.1925265   3.563 0.000380 ***\n",
       "age                          0.0193006  0.0060662   3.182 0.001497 ** \n",
       "genderF                     -0.1313274  0.1521379  -0.863 0.388170    \n",
       "weight                      -0.0081745  0.0031685  -2.580 0.009986 ** \n",
       "saps                         0.0667188  0.0194750   3.426 0.000631 ***\n",
       "sofa                         0.1724999  0.0282177   6.113 1.27e-09 ***\n",
       "elix_score                   0.0408743  0.0120360   3.396 0.000703 ***\n",
       "vent1                        0.5357448  0.2784233   1.924 0.054534 .  \n",
       "icu_adm_weekdaymonday       -0.0423855  0.2502990  -0.169 0.865554    \n",
       "icu_adm_weekdaytuesday      -0.1355843  0.2714333  -0.500 0.617498    \n",
       "icu_adm_weekdaywednesday     0.1641417  0.2558498   0.642 0.521269    \n",
       "icu_adm_weekdaythursday      0.0911408  0.2457657   0.371 0.710810    \n",
       "icu_adm_weekdayfriday       -0.0092133  0.2739165  -0.034 0.973173    \n",
       "icu_adm_weekdaysaturday     -0.1520443  0.2526413  -0.602 0.547393    \n",
       "icu_adm_hour1               -0.0110058  0.4524629  -0.024 0.980598    \n",
       "icu_adm_hour2               -0.2165168  0.5010935  -0.432 0.665745    \n",
       "icu_adm_hour3               -0.3805860  0.4521728  -0.842 0.400111    \n",
       "icu_adm_hour4                0.4459714  0.5201918   0.857 0.391416    \n",
       "icu_adm_hour5               -0.1596965  0.5254831  -0.304 0.761247    \n",
       "icu_adm_hour6               -0.2339270  0.5680865  -0.412 0.680564    \n",
       "icu_adm_hour7               -1.8754704  0.7934766  -2.364 0.018236 *  \n",
       "icu_adm_hour8               -0.1365756  0.5896653  -0.232 0.816871    \n",
       "icu_adm_hour9                0.8467501  0.5125037   1.652 0.098725 .  \n",
       "icu_adm_hour10              -0.6992673  0.5760656  -1.214 0.225006    \n",
       "icu_adm_hour11              -0.3750671  0.4710476  -0.796 0.426029    \n",
       "icu_adm_hour12               0.1308721  0.4902313   0.267 0.789540    \n",
       "icu_adm_hour13               0.4981335  0.5062632   0.984 0.325317    \n",
       "icu_adm_hour14               0.5657555  0.4473875   1.265 0.206237    \n",
       "icu_adm_hour15               0.2168085  0.4131844   0.525 0.599858    \n",
       "icu_adm_hour16               0.0255391  0.4187094   0.061 0.951372    \n",
       "icu_adm_hour17              -0.2800579  0.4259470  -0.657 0.510972    \n",
       "icu_adm_hour18              -0.1712466  0.4238071  -0.404 0.686226    \n",
       "icu_adm_hour19              -0.2186603  0.4343250  -0.503 0.614729    \n",
       "icu_adm_hour20               0.4519941  0.4032699   1.121 0.262558    \n",
       "icu_adm_hour21               0.2774478  0.4114173   0.674 0.500188    \n",
       "icu_adm_hour22               0.2102415  0.3959290   0.531 0.595498    \n",
       "icu_adm_hour23              -0.6349914  0.4454771  -1.425 0.154262    \n",
       "icd_chf1                    -0.2206060  0.1878329  -1.174 0.240405    \n",
       "icd_afib1                    0.2750969  0.1643020   1.674 0.094291 .  \n",
       "icd_renal1                  -0.2751249  0.2149745  -1.280 0.200830    \n",
       "icd_liver1                   0.7623420  0.2802428   2.720 0.006604 ** \n",
       "icd_copd1                    0.2909866  0.2017688   1.442 0.149479    \n",
       "icd_cad1                    -0.0395034  0.2117827  -0.187 0.852058    \n",
       "icd_stroke1                  0.3973509  0.3176225   1.251 0.211140    \n",
       "icd_malignancy1              0.6883690  0.1867575   3.686 0.000237 ***\n",
       "vs_heart_rate_first          0.0044534  0.0034963   1.274 0.202963    \n",
       "vs_map_first                -0.0059237  0.0036703  -1.614 0.106765    \n",
       "vs_temp_first               -0.0552452  0.0648772  -0.852 0.394621    \n",
       "lab_hemoglobin_first        -0.0218976  0.0370924  -0.590 0.555051    \n",
       "lab_platelet_first           0.0005147  0.0005884   0.875 0.381926    \n",
       "lab_wbc_first               -0.0048168  0.0044042  -1.094 0.274280    \n",
       "lab_ph_first                -0.0361190  1.2592919  -0.029 0.977122    \n",
       "lab_chloride_first          -0.0032216  0.0260624  -0.124 0.901642    \n",
       "lab_sodium_first            -0.0072481  0.0283245  -0.256 0.798069    \n",
       "lab_bun_first                0.0054271  0.0037935   1.431 0.152760    \n",
       "lab_bicarbonate_first        0.0101144  0.0292049   0.346 0.729152    \n",
       "lab_pco2_first               0.0055049  0.0098565   0.558 0.576594    \n",
       "lab_creatinine_first        -0.1756120  0.0790327  -2.222 0.026444 *  \n",
       "lab_potassium_first          0.2255323  0.1260301   1.790 0.073752 .  \n",
       "lab_po2_first               -0.0012587  0.0007895  -1.594 0.111106    \n",
       "lab_lactate_first            0.1742572  0.0423178   4.118 4.05e-05 ***\n",
       "sedative1                   -0.2589356  0.2247630  -1.152 0.249505    \n",
       "vs_cvp_flag1                -0.6282744  0.1675462  -3.750 0.000184 ***\n",
       "lab_creatinine_kinase_flag1  0.1800960  0.2102848   0.856 0.391904    \n",
       "lab_bnp_flag1                0.3507959  0.3546537   0.989 0.322777    \n",
       "lab_troponin_flag1           0.1151658  0.2069252   0.557 0.577920    \n",
       "---\n",
       "Signif. codes:  0 ‘***’ 0.001 ‘**’ 0.01 ‘*’ 0.05 ‘.’ 0.1 ‘ ’ 1\n",
       "\n",
       "(Dispersion parameter for quasibinomial family taken to be 1.057201)\n",
       "\n",
       "Number of Fisher Scoring iterations: 5\n"
      ]
     },
     "metadata": {},
     "output_type": "display_data"
    }
   ],
   "source": [
    "summary(logi)"
   ]
  },
  {
   "cell_type": "code",
   "execution_count": 32,
   "metadata": {},
   "outputs": [
    {
     "data": {
      "text/html": [
       "<table>\n",
       "<thead><tr><th></th><th scope=col>OR</th><th scope=col>2.5 %</th><th scope=col>97.5 %</th></tr></thead>\n",
       "<tbody>\n",
       "\t<tr><th scope=row>(Intercept)</th><td>0.05442205  </td><td>6.119782e-10</td><td>4.839649e+06</td></tr>\n",
       "\t<tr><th scope=row>echo1</th><td>0.48623906  </td><td>3.601381e-01</td><td>6.564937e-01</td></tr>\n",
       "\t<tr><th scope=row>first_careunitMICU</th><td>1.98555055  </td><td>1.361451e+00</td><td>2.895742e+00</td></tr>\n",
       "\t<tr><th scope=row>age</th><td>1.01948806  </td><td>1.007439e+00</td><td>1.031682e+00</td></tr>\n",
       "\t<tr><th scope=row>genderF</th><td>0.87693058  </td><td>6.508265e-01</td><td>1.181586e+00</td></tr>\n",
       "\t<tr><th scope=row>weight</th><td>0.99185881  </td><td>9.857182e-01</td><td>9.980377e-01</td></tr>\n",
       "\t<tr><th scope=row>saps</th><td>1.06899487  </td><td>1.028960e+00</td><td>1.110588e+00</td></tr>\n",
       "\t<tr><th scope=row>sofa</th><td>1.18827173  </td><td>1.124338e+00</td><td>1.255841e+00</td></tr>\n",
       "\t<tr><th scope=row>elix_score</th><td>1.04172120  </td><td>1.017434e+00</td><td>1.066588e+00</td></tr>\n",
       "\t<tr><th scope=row>vent1</th><td>1.70872051  </td><td>9.900945e-01</td><td>2.948936e+00</td></tr>\n",
       "\t<tr><th scope=row>icu_adm_weekdaymonday</th><td>0.95850022  </td><td>5.868638e-01</td><td>1.565479e+00</td></tr>\n",
       "\t<tr><th scope=row>icu_adm_weekdaytuesday</th><td>0.87320555  </td><td>5.129464e-01</td><td>1.486486e+00</td></tr>\n",
       "\t<tr><th scope=row>icu_adm_weekdaywednesday</th><td>1.17838133  </td><td>7.136842e-01</td><td>1.945654e+00</td></tr>\n",
       "\t<tr><th scope=row>icu_adm_weekdaythursday</th><td>1.09542325  </td><td>6.766839e-01</td><td>1.773283e+00</td></tr>\n",
       "\t<tr><th scope=row>icu_adm_weekdayfriday</th><td>0.99082903  </td><td>5.792161e-01</td><td>1.694950e+00</td></tr>\n",
       "\t<tr><th scope=row>icu_adm_weekdaysaturday</th><td>0.85895022  </td><td>5.235032e-01</td><td>1.409343e+00</td></tr>\n",
       "\t<tr><th scope=row>icu_adm_hour1</th><td>0.98905457  </td><td>4.074583e-01</td><td>2.400808e+00</td></tr>\n",
       "\t<tr><th scope=row>icu_adm_hour2</th><td>0.80531902  </td><td>3.016035e-01</td><td>2.150302e+00</td></tr>\n",
       "\t<tr><th scope=row>icu_adm_hour3</th><td>0.68346078  </td><td>2.817237e-01</td><td>1.658074e+00</td></tr>\n",
       "\t<tr><th scope=row>icu_adm_hour4</th><td>1.56200675  </td><td>5.635012e-01</td><td>4.329831e+00</td></tr>\n",
       "\t<tr><th scope=row>icu_adm_hour5</th><td>0.85240241  </td><td>3.043355e-01</td><td>2.387463e+00</td></tr>\n",
       "\t<tr><th scope=row>icu_adm_hour6</th><td>0.79141961  </td><td>2.599266e-01</td><td>2.409699e+00</td></tr>\n",
       "\t<tr><th scope=row>icu_adm_hour7</th><td>0.15328284  </td><td>3.236570e-02</td><td>7.259423e-01</td></tr>\n",
       "\t<tr><th scope=row>icu_adm_hour8</th><td>0.87234035  </td><td>2.746388e-01</td><td>2.770831e+00</td></tr>\n",
       "\t<tr><th scope=row>icu_adm_hour9</th><td>2.33205546  </td><td>8.540728e-01</td><td>6.367704e+00</td></tr>\n",
       "\t<tr><th scope=row>icu_adm_hour10</th><td>0.49694926  </td><td>1.606809e-01</td><td>1.536951e+00</td></tr>\n",
       "\t<tr><th scope=row>icu_adm_hour11</th><td>0.68724318  </td><td>2.729946e-01</td><td>1.730083e+00</td></tr>\n",
       "\t<tr><th scope=row>icu_adm_hour12</th><td>1.13982198  </td><td>4.360652e-01</td><td>2.979358e+00</td></tr>\n",
       "\t<tr><th scope=row>icu_adm_hour13</th><td>1.64564682  </td><td>6.101050e-01</td><td>4.438832e+00</td></tr>\n",
       "\t<tr><th scope=row>icu_adm_hour14</th><td>1.76077761  </td><td>7.326349e-01</td><td>4.231764e+00</td></tr>\n",
       "\t<tr><th scope=row>⋮</th><td>⋮</td><td>⋮</td><td>⋮</td></tr>\n",
       "\t<tr><th scope=row>icu_adm_hour23</th><td>0.5299400 </td><td>0.22132777</td><td> 1.2688713</td></tr>\n",
       "\t<tr><th scope=row>icd_chf1</th><td>0.8020326 </td><td>0.55501972</td><td> 1.1589792</td></tr>\n",
       "\t<tr><th scope=row>icd_afib1</th><td>1.3166583 </td><td>0.95415511</td><td> 1.8168839</td></tr>\n",
       "\t<tr><th scope=row>icd_renal1</th><td>0.7594773 </td><td>0.49834279</td><td> 1.1574477</td></tr>\n",
       "\t<tr><th scope=row>icd_liver1</th><td>2.1432899 </td><td>1.23747895</td><td> 3.7121373</td></tr>\n",
       "\t<tr><th scope=row>icd_copd1</th><td>1.3377466 </td><td>0.90079918</td><td> 1.9866427</td></tr>\n",
       "\t<tr><th scope=row>icd_cad1</th><td>0.9612667 </td><td>0.63470824</td><td> 1.4558401</td></tr>\n",
       "\t<tr><th scope=row>icd_stroke1</th><td>1.4878779 </td><td>0.79837428</td><td> 2.7728608</td></tr>\n",
       "\t<tr><th scope=row>icd_malignancy1</th><td>1.9904664 </td><td>1.38034158</td><td> 2.8702725</td></tr>\n",
       "\t<tr><th scope=row>vs_heart_rate_first</th><td>1.0044634 </td><td>0.99760371</td><td> 1.0113702</td></tr>\n",
       "\t<tr><th scope=row>vs_map_first</th><td>0.9940938 </td><td>0.98696822</td><td> 1.0012708</td></tr>\n",
       "\t<tr><th scope=row>vs_temp_first</th><td>0.9462531 </td><td>0.83326612</td><td> 1.0745607</td></tr>\n",
       "\t<tr><th scope=row>lab_hemoglobin_first</th><td>0.9783405 </td><td>0.90973926</td><td> 1.0521147</td></tr>\n",
       "\t<tr><th scope=row>lab_platelet_first</th><td>1.0005148 </td><td>0.99936155</td><td> 1.0016694</td></tr>\n",
       "\t<tr><th scope=row>lab_wbc_first</th><td>0.9951947 </td><td>0.98664115</td><td> 1.0038225</td></tr>\n",
       "\t<tr><th scope=row>lab_ph_first</th><td>0.9645255 </td><td>0.08173396</td><td>11.3821666</td></tr>\n",
       "\t<tr><th scope=row>lab_chloride_first</th><td>0.9967836 </td><td>0.94714517</td><td> 1.0490235</td></tr>\n",
       "\t<tr><th scope=row>lab_sodium_first</th><td>0.9927781 </td><td>0.93916593</td><td> 1.0494506</td></tr>\n",
       "\t<tr><th scope=row>lab_bun_first</th><td>1.0054418 </td><td>0.99799402</td><td> 1.0129453</td></tr>\n",
       "\t<tr><th scope=row>lab_bicarbonate_first</th><td>1.0101657 </td><td>0.95396698</td><td> 1.0696751</td></tr>\n",
       "\t<tr><th scope=row>lab_pco2_first</th><td>1.0055201 </td><td>0.98628137</td><td> 1.0251340</td></tr>\n",
       "\t<tr><th scope=row>lab_creatinine_first</th><td>0.8389434 </td><td>0.71855487</td><td> 0.9795022</td></tr>\n",
       "\t<tr><th scope=row>lab_potassium_first</th><td>1.2529895 </td><td>0.97874690</td><td> 1.6040742</td></tr>\n",
       "\t<tr><th scope=row>lab_po2_first</th><td>0.9987420 </td><td>0.99719771</td><td> 1.0002888</td></tr>\n",
       "\t<tr><th scope=row>lab_lactate_first</th><td>1.1903616 </td><td>1.09561499</td><td> 1.2933018</td></tr>\n",
       "\t<tr><th scope=row>sedative1</th><td>0.7718727 </td><td>0.49685202</td><td> 1.1991246</td></tr>\n",
       "\t<tr><th scope=row>vs_cvp_flag1</th><td>0.5335116 </td><td>0.38417430</td><td> 0.7408998</td></tr>\n",
       "\t<tr><th scope=row>lab_creatinine_kinase_flag1</th><td>1.1973323 </td><td>0.79290284</td><td> 1.8080457</td></tr>\n",
       "\t<tr><th scope=row>lab_bnp_flag1</th><td>1.4201974 </td><td>0.70870740</td><td> 2.8459708</td></tr>\n",
       "\t<tr><th scope=row>lab_troponin_flag1</th><td>1.1220595 </td><td>0.74796425</td><td> 1.6832589</td></tr>\n",
       "</tbody>\n",
       "</table>\n"
      ],
      "text/latex": [
       "\\begin{tabular}{r|lll}\n",
       "  & OR & 2.5 \\% & 97.5 \\%\\\\\n",
       "\\hline\n",
       "\t(Intercept) & 0.05442205   & 6.119782e-10 & 4.839649e+06\\\\\n",
       "\techo1 & 0.48623906   & 3.601381e-01 & 6.564937e-01\\\\\n",
       "\tfirst\\_careunitMICU & 1.98555055   & 1.361451e+00 & 2.895742e+00\\\\\n",
       "\tage & 1.01948806   & 1.007439e+00 & 1.031682e+00\\\\\n",
       "\tgenderF & 0.87693058   & 6.508265e-01 & 1.181586e+00\\\\\n",
       "\tweight & 0.99185881   & 9.857182e-01 & 9.980377e-01\\\\\n",
       "\tsaps & 1.06899487   & 1.028960e+00 & 1.110588e+00\\\\\n",
       "\tsofa & 1.18827173   & 1.124338e+00 & 1.255841e+00\\\\\n",
       "\telix\\_score & 1.04172120   & 1.017434e+00 & 1.066588e+00\\\\\n",
       "\tvent1 & 1.70872051   & 9.900945e-01 & 2.948936e+00\\\\\n",
       "\ticu\\_adm\\_weekdaymonday & 0.95850022   & 5.868638e-01 & 1.565479e+00\\\\\n",
       "\ticu\\_adm\\_weekdaytuesday & 0.87320555   & 5.129464e-01 & 1.486486e+00\\\\\n",
       "\ticu\\_adm\\_weekdaywednesday & 1.17838133   & 7.136842e-01 & 1.945654e+00\\\\\n",
       "\ticu\\_adm\\_weekdaythursday & 1.09542325   & 6.766839e-01 & 1.773283e+00\\\\\n",
       "\ticu\\_adm\\_weekdayfriday & 0.99082903   & 5.792161e-01 & 1.694950e+00\\\\\n",
       "\ticu\\_adm\\_weekdaysaturday & 0.85895022   & 5.235032e-01 & 1.409343e+00\\\\\n",
       "\ticu\\_adm\\_hour1 & 0.98905457   & 4.074583e-01 & 2.400808e+00\\\\\n",
       "\ticu\\_adm\\_hour2 & 0.80531902   & 3.016035e-01 & 2.150302e+00\\\\\n",
       "\ticu\\_adm\\_hour3 & 0.68346078   & 2.817237e-01 & 1.658074e+00\\\\\n",
       "\ticu\\_adm\\_hour4 & 1.56200675   & 5.635012e-01 & 4.329831e+00\\\\\n",
       "\ticu\\_adm\\_hour5 & 0.85240241   & 3.043355e-01 & 2.387463e+00\\\\\n",
       "\ticu\\_adm\\_hour6 & 0.79141961   & 2.599266e-01 & 2.409699e+00\\\\\n",
       "\ticu\\_adm\\_hour7 & 0.15328284   & 3.236570e-02 & 7.259423e-01\\\\\n",
       "\ticu\\_adm\\_hour8 & 0.87234035   & 2.746388e-01 & 2.770831e+00\\\\\n",
       "\ticu\\_adm\\_hour9 & 2.33205546   & 8.540728e-01 & 6.367704e+00\\\\\n",
       "\ticu\\_adm\\_hour10 & 0.49694926   & 1.606809e-01 & 1.536951e+00\\\\\n",
       "\ticu\\_adm\\_hour11 & 0.68724318   & 2.729946e-01 & 1.730083e+00\\\\\n",
       "\ticu\\_adm\\_hour12 & 1.13982198   & 4.360652e-01 & 2.979358e+00\\\\\n",
       "\ticu\\_adm\\_hour13 & 1.64564682   & 6.101050e-01 & 4.438832e+00\\\\\n",
       "\ticu\\_adm\\_hour14 & 1.76077761   & 7.326349e-01 & 4.231764e+00\\\\\n",
       "\t⋮ & ⋮ & ⋮ & ⋮\\\\\n",
       "\ticu\\_adm\\_hour23 & 0.5299400  & 0.22132777 &  1.2688713\\\\\n",
       "\ticd\\_chf1 & 0.8020326  & 0.55501972 &  1.1589792\\\\\n",
       "\ticd\\_afib1 & 1.3166583  & 0.95415511 &  1.8168839\\\\\n",
       "\ticd\\_renal1 & 0.7594773  & 0.49834279 &  1.1574477\\\\\n",
       "\ticd\\_liver1 & 2.1432899  & 1.23747895 &  3.7121373\\\\\n",
       "\ticd\\_copd1 & 1.3377466  & 0.90079918 &  1.9866427\\\\\n",
       "\ticd\\_cad1 & 0.9612667  & 0.63470824 &  1.4558401\\\\\n",
       "\ticd\\_stroke1 & 1.4878779  & 0.79837428 &  2.7728608\\\\\n",
       "\ticd\\_malignancy1 & 1.9904664  & 1.38034158 &  2.8702725\\\\\n",
       "\tvs\\_heart\\_rate\\_first & 1.0044634  & 0.99760371 &  1.0113702\\\\\n",
       "\tvs\\_map\\_first & 0.9940938  & 0.98696822 &  1.0012708\\\\\n",
       "\tvs\\_temp\\_first & 0.9462531  & 0.83326612 &  1.0745607\\\\\n",
       "\tlab\\_hemoglobin\\_first & 0.9783405  & 0.90973926 &  1.0521147\\\\\n",
       "\tlab\\_platelet\\_first & 1.0005148  & 0.99936155 &  1.0016694\\\\\n",
       "\tlab\\_wbc\\_first & 0.9951947  & 0.98664115 &  1.0038225\\\\\n",
       "\tlab\\_ph\\_first & 0.9645255  & 0.08173396 & 11.3821666\\\\\n",
       "\tlab\\_chloride\\_first & 0.9967836  & 0.94714517 &  1.0490235\\\\\n",
       "\tlab\\_sodium\\_first & 0.9927781  & 0.93916593 &  1.0494506\\\\\n",
       "\tlab\\_bun\\_first & 1.0054418  & 0.99799402 &  1.0129453\\\\\n",
       "\tlab\\_bicarbonate\\_first & 1.0101657  & 0.95396698 &  1.0696751\\\\\n",
       "\tlab\\_pco2\\_first & 1.0055201  & 0.98628137 &  1.0251340\\\\\n",
       "\tlab\\_creatinine\\_first & 0.8389434  & 0.71855487 &  0.9795022\\\\\n",
       "\tlab\\_potassium\\_first & 1.2529895  & 0.97874690 &  1.6040742\\\\\n",
       "\tlab\\_po2\\_first & 0.9987420  & 0.99719771 &  1.0002888\\\\\n",
       "\tlab\\_lactate\\_first & 1.1903616  & 1.09561499 &  1.2933018\\\\\n",
       "\tsedative1 & 0.7718727  & 0.49685202 &  1.1991246\\\\\n",
       "\tvs\\_cvp\\_flag1 & 0.5335116  & 0.38417430 &  0.7408998\\\\\n",
       "\tlab\\_creatinine\\_kinase\\_flag1 & 1.1973323  & 0.79290284 &  1.8080457\\\\\n",
       "\tlab\\_bnp\\_flag1 & 1.4201974  & 0.70870740 &  2.8459708\\\\\n",
       "\tlab\\_troponin\\_flag1 & 1.1220595  & 0.74796425 &  1.6832589\\\\\n",
       "\\end{tabular}\n"
      ],
      "text/markdown": [
       "\n",
       "| <!--/--> | OR | 2.5 % | 97.5 % | \n",
       "|---|---|---|---|---|---|---|---|---|---|---|---|---|---|---|---|---|---|---|---|---|---|---|---|---|---|---|---|---|---|---|---|---|---|---|---|---|---|---|---|---|---|---|---|---|---|---|---|---|---|---|---|---|---|---|---|---|---|---|---|---|\n",
       "| (Intercept) | 0.05442205   | 6.119782e-10 | 4.839649e+06 | \n",
       "| echo1 | 0.48623906   | 3.601381e-01 | 6.564937e-01 | \n",
       "| first_careunitMICU | 1.98555055   | 1.361451e+00 | 2.895742e+00 | \n",
       "| age | 1.01948806   | 1.007439e+00 | 1.031682e+00 | \n",
       "| genderF | 0.87693058   | 6.508265e-01 | 1.181586e+00 | \n",
       "| weight | 0.99185881   | 9.857182e-01 | 9.980377e-01 | \n",
       "| saps | 1.06899487   | 1.028960e+00 | 1.110588e+00 | \n",
       "| sofa | 1.18827173   | 1.124338e+00 | 1.255841e+00 | \n",
       "| elix_score | 1.04172120   | 1.017434e+00 | 1.066588e+00 | \n",
       "| vent1 | 1.70872051   | 9.900945e-01 | 2.948936e+00 | \n",
       "| icu_adm_weekdaymonday | 0.95850022   | 5.868638e-01 | 1.565479e+00 | \n",
       "| icu_adm_weekdaytuesday | 0.87320555   | 5.129464e-01 | 1.486486e+00 | \n",
       "| icu_adm_weekdaywednesday | 1.17838133   | 7.136842e-01 | 1.945654e+00 | \n",
       "| icu_adm_weekdaythursday | 1.09542325   | 6.766839e-01 | 1.773283e+00 | \n",
       "| icu_adm_weekdayfriday | 0.99082903   | 5.792161e-01 | 1.694950e+00 | \n",
       "| icu_adm_weekdaysaturday | 0.85895022   | 5.235032e-01 | 1.409343e+00 | \n",
       "| icu_adm_hour1 | 0.98905457   | 4.074583e-01 | 2.400808e+00 | \n",
       "| icu_adm_hour2 | 0.80531902   | 3.016035e-01 | 2.150302e+00 | \n",
       "| icu_adm_hour3 | 0.68346078   | 2.817237e-01 | 1.658074e+00 | \n",
       "| icu_adm_hour4 | 1.56200675   | 5.635012e-01 | 4.329831e+00 | \n",
       "| icu_adm_hour5 | 0.85240241   | 3.043355e-01 | 2.387463e+00 | \n",
       "| icu_adm_hour6 | 0.79141961   | 2.599266e-01 | 2.409699e+00 | \n",
       "| icu_adm_hour7 | 0.15328284   | 3.236570e-02 | 7.259423e-01 | \n",
       "| icu_adm_hour8 | 0.87234035   | 2.746388e-01 | 2.770831e+00 | \n",
       "| icu_adm_hour9 | 2.33205546   | 8.540728e-01 | 6.367704e+00 | \n",
       "| icu_adm_hour10 | 0.49694926   | 1.606809e-01 | 1.536951e+00 | \n",
       "| icu_adm_hour11 | 0.68724318   | 2.729946e-01 | 1.730083e+00 | \n",
       "| icu_adm_hour12 | 1.13982198   | 4.360652e-01 | 2.979358e+00 | \n",
       "| icu_adm_hour13 | 1.64564682   | 6.101050e-01 | 4.438832e+00 | \n",
       "| icu_adm_hour14 | 1.76077761   | 7.326349e-01 | 4.231764e+00 | \n",
       "| ⋮ | ⋮ | ⋮ | ⋮ | \n",
       "| icu_adm_hour23 | 0.5299400  | 0.22132777 |  1.2688713 | \n",
       "| icd_chf1 | 0.8020326  | 0.55501972 |  1.1589792 | \n",
       "| icd_afib1 | 1.3166583  | 0.95415511 |  1.8168839 | \n",
       "| icd_renal1 | 0.7594773  | 0.49834279 |  1.1574477 | \n",
       "| icd_liver1 | 2.1432899  | 1.23747895 |  3.7121373 | \n",
       "| icd_copd1 | 1.3377466  | 0.90079918 |  1.9866427 | \n",
       "| icd_cad1 | 0.9612667  | 0.63470824 |  1.4558401 | \n",
       "| icd_stroke1 | 1.4878779  | 0.79837428 |  2.7728608 | \n",
       "| icd_malignancy1 | 1.9904664  | 1.38034158 |  2.8702725 | \n",
       "| vs_heart_rate_first | 1.0044634  | 0.99760371 |  1.0113702 | \n",
       "| vs_map_first | 0.9940938  | 0.98696822 |  1.0012708 | \n",
       "| vs_temp_first | 0.9462531  | 0.83326612 |  1.0745607 | \n",
       "| lab_hemoglobin_first | 0.9783405  | 0.90973926 |  1.0521147 | \n",
       "| lab_platelet_first | 1.0005148  | 0.99936155 |  1.0016694 | \n",
       "| lab_wbc_first | 0.9951947  | 0.98664115 |  1.0038225 | \n",
       "| lab_ph_first | 0.9645255  | 0.08173396 | 11.3821666 | \n",
       "| lab_chloride_first | 0.9967836  | 0.94714517 |  1.0490235 | \n",
       "| lab_sodium_first | 0.9927781  | 0.93916593 |  1.0494506 | \n",
       "| lab_bun_first | 1.0054418  | 0.99799402 |  1.0129453 | \n",
       "| lab_bicarbonate_first | 1.0101657  | 0.95396698 |  1.0696751 | \n",
       "| lab_pco2_first | 1.0055201  | 0.98628137 |  1.0251340 | \n",
       "| lab_creatinine_first | 0.8389434  | 0.71855487 |  0.9795022 | \n",
       "| lab_potassium_first | 1.2529895  | 0.97874690 |  1.6040742 | \n",
       "| lab_po2_first | 0.9987420  | 0.99719771 |  1.0002888 | \n",
       "| lab_lactate_first | 1.1903616  | 1.09561499 |  1.2933018 | \n",
       "| sedative1 | 0.7718727  | 0.49685202 |  1.1991246 | \n",
       "| vs_cvp_flag1 | 0.5335116  | 0.38417430 |  0.7408998 | \n",
       "| lab_creatinine_kinase_flag1 | 1.1973323  | 0.79290284 |  1.8080457 | \n",
       "| lab_bnp_flag1 | 1.4201974  | 0.70870740 |  2.8459708 | \n",
       "| lab_troponin_flag1 | 1.1220595  | 0.74796425 |  1.6832589 | \n",
       "\n",
       "\n"
      ],
      "text/plain": [
       "                            OR         2.5 %        97.5 %      \n",
       "(Intercept)                 0.05442205 6.119782e-10 4.839649e+06\n",
       "echo1                       0.48623906 3.601381e-01 6.564937e-01\n",
       "first_careunitMICU          1.98555055 1.361451e+00 2.895742e+00\n",
       "age                         1.01948806 1.007439e+00 1.031682e+00\n",
       "genderF                     0.87693058 6.508265e-01 1.181586e+00\n",
       "weight                      0.99185881 9.857182e-01 9.980377e-01\n",
       "saps                        1.06899487 1.028960e+00 1.110588e+00\n",
       "sofa                        1.18827173 1.124338e+00 1.255841e+00\n",
       "elix_score                  1.04172120 1.017434e+00 1.066588e+00\n",
       "vent1                       1.70872051 9.900945e-01 2.948936e+00\n",
       "icu_adm_weekdaymonday       0.95850022 5.868638e-01 1.565479e+00\n",
       "icu_adm_weekdaytuesday      0.87320555 5.129464e-01 1.486486e+00\n",
       "icu_adm_weekdaywednesday    1.17838133 7.136842e-01 1.945654e+00\n",
       "icu_adm_weekdaythursday     1.09542325 6.766839e-01 1.773283e+00\n",
       "icu_adm_weekdayfriday       0.99082903 5.792161e-01 1.694950e+00\n",
       "icu_adm_weekdaysaturday     0.85895022 5.235032e-01 1.409343e+00\n",
       "icu_adm_hour1               0.98905457 4.074583e-01 2.400808e+00\n",
       "icu_adm_hour2               0.80531902 3.016035e-01 2.150302e+00\n",
       "icu_adm_hour3               0.68346078 2.817237e-01 1.658074e+00\n",
       "icu_adm_hour4               1.56200675 5.635012e-01 4.329831e+00\n",
       "icu_adm_hour5               0.85240241 3.043355e-01 2.387463e+00\n",
       "icu_adm_hour6               0.79141961 2.599266e-01 2.409699e+00\n",
       "icu_adm_hour7               0.15328284 3.236570e-02 7.259423e-01\n",
       "icu_adm_hour8               0.87234035 2.746388e-01 2.770831e+00\n",
       "icu_adm_hour9               2.33205546 8.540728e-01 6.367704e+00\n",
       "icu_adm_hour10              0.49694926 1.606809e-01 1.536951e+00\n",
       "icu_adm_hour11              0.68724318 2.729946e-01 1.730083e+00\n",
       "icu_adm_hour12              1.13982198 4.360652e-01 2.979358e+00\n",
       "icu_adm_hour13              1.64564682 6.101050e-01 4.438832e+00\n",
       "icu_adm_hour14              1.76077761 7.326349e-01 4.231764e+00\n",
       "⋮                           ⋮          ⋮            ⋮           \n",
       "icu_adm_hour23              0.5299400  0.22132777    1.2688713  \n",
       "icd_chf1                    0.8020326  0.55501972    1.1589792  \n",
       "icd_afib1                   1.3166583  0.95415511    1.8168839  \n",
       "icd_renal1                  0.7594773  0.49834279    1.1574477  \n",
       "icd_liver1                  2.1432899  1.23747895    3.7121373  \n",
       "icd_copd1                   1.3377466  0.90079918    1.9866427  \n",
       "icd_cad1                    0.9612667  0.63470824    1.4558401  \n",
       "icd_stroke1                 1.4878779  0.79837428    2.7728608  \n",
       "icd_malignancy1             1.9904664  1.38034158    2.8702725  \n",
       "vs_heart_rate_first         1.0044634  0.99760371    1.0113702  \n",
       "vs_map_first                0.9940938  0.98696822    1.0012708  \n",
       "vs_temp_first               0.9462531  0.83326612    1.0745607  \n",
       "lab_hemoglobin_first        0.9783405  0.90973926    1.0521147  \n",
       "lab_platelet_first          1.0005148  0.99936155    1.0016694  \n",
       "lab_wbc_first               0.9951947  0.98664115    1.0038225  \n",
       "lab_ph_first                0.9645255  0.08173396   11.3821666  \n",
       "lab_chloride_first          0.9967836  0.94714517    1.0490235  \n",
       "lab_sodium_first            0.9927781  0.93916593    1.0494506  \n",
       "lab_bun_first               1.0054418  0.99799402    1.0129453  \n",
       "lab_bicarbonate_first       1.0101657  0.95396698    1.0696751  \n",
       "lab_pco2_first              1.0055201  0.98628137    1.0251340  \n",
       "lab_creatinine_first        0.8389434  0.71855487    0.9795022  \n",
       "lab_potassium_first         1.2529895  0.97874690    1.6040742  \n",
       "lab_po2_first               0.9987420  0.99719771    1.0002888  \n",
       "lab_lactate_first           1.1903616  1.09561499    1.2933018  \n",
       "sedative1                   0.7718727  0.49685202    1.1991246  \n",
       "vs_cvp_flag1                0.5335116  0.38417430    0.7408998  \n",
       "lab_creatinine_kinase_flag1 1.1973323  0.79290284    1.8080457  \n",
       "lab_bnp_flag1               1.4201974  0.70870740    2.8459708  \n",
       "lab_troponin_flag1          1.1220595  0.74796425    1.6832589  "
      ]
     },
     "metadata": {},
     "output_type": "display_data"
    }
   ],
   "source": [
    "exp(cbind(OR = coef(logi), confint(logi)))"
   ]
  },
  {
   "cell_type": "code",
   "execution_count": 33,
   "metadata": {},
   "outputs": [],
   "source": [
    "saveRDS(logi, file = file.path(data_dir, \"doubly_robust_all_model_subgroup_vaso.rds\"))"
   ]
  }
 ],
 "metadata": {
  "kernelspec": {
   "display_name": "R",
   "language": "R",
   "name": "ir"
  },
  "language_info": {
   "codemirror_mode": "r",
   "file_extension": ".r",
   "mimetype": "text/x-r-source",
   "name": "R",
   "pygments_lexer": "r",
   "version": "3.4.4"
  },
  "varInspector": {
   "cols": {
    "lenName": 16,
    "lenType": 16,
    "lenVar": 40
   },
   "kernels_config": {
    "python": {
     "delete_cmd_postfix": "",
     "delete_cmd_prefix": "del ",
     "library": "var_list.py",
     "varRefreshCmd": "print(var_dic_list())"
    },
    "r": {
     "delete_cmd_postfix": ") ",
     "delete_cmd_prefix": "rm(",
     "library": "var_list.r",
     "varRefreshCmd": "cat(var_dic_list()) "
    }
   },
   "types_to_exclude": [
    "module",
    "function",
    "builtin_function_or_method",
    "instance",
    "_Feature"
   ],
   "window_display": false
  }
 },
 "nbformat": 4,
 "nbformat_minor": 2
}
