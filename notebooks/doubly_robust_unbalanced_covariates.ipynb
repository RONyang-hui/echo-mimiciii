{
 "cells": [
  {
   "cell_type": "code",
   "execution_count": 1,
   "metadata": {},
   "outputs": [
    {
     "name": "stderr",
     "output_type": "stream",
     "text": [
      "Loading required package: grid\n",
      "Loading required package: Matrix\n",
      "Loading required package: survival\n",
      "\n",
      "Attaching package: ‘survey’\n",
      "\n",
      "The following object is masked from ‘package:graphics’:\n",
      "\n",
      "    dotchart\n",
      "\n",
      "── Attaching packages ─────────────────────────────────────── tidyverse 1.2.1 ──\n",
      "✔ ggplot2 2.2.1     ✔ purrr   0.2.4\n",
      "✔ tibble  1.4.2     ✔ dplyr   0.7.4\n",
      "✔ tidyr   0.8.0     ✔ stringr 1.2.0\n",
      "✔ readr   1.1.1     ✔ forcats 0.2.0\n",
      "── Conflicts ────────────────────────────────────────── tidyverse_conflicts() ──\n",
      "✖ tidyr::expand() masks Matrix::expand()\n",
      "✖ dplyr::filter() masks stats::filter()\n",
      "✖ dplyr::lag()    masks stats::lag()\n"
     ]
    }
   ],
   "source": [
    "library(survey)\n",
    "library(tidyverse)"
   ]
  },
  {
   "cell_type": "code",
   "execution_count": 2,
   "metadata": {},
   "outputs": [],
   "source": [
    "data_dir <- file.path(\"..\", \"data\")"
   ]
  },
  {
   "cell_type": "code",
   "execution_count": 3,
   "metadata": {},
   "outputs": [
    {
     "data": {
      "text/html": [
       "<table>\n",
       "<thead><tr><th scope=col>icustay_id</th><th scope=col>hadm_id</th><th scope=col>subject_id</th><th scope=col>first_careunit</th><th scope=col>intime</th><th scope=col>outtime</th><th scope=col>angus</th><th scope=col>age</th><th scope=col>icu_order</th><th scope=col>echo_time</th><th scope=col>⋯</th><th scope=col>lab_lactate_flag</th><th scope=col>lab_lactate_first</th><th scope=col>lab_lactate_min</th><th scope=col>lab_lactate_max</th><th scope=col>lab_lactate_abnormal</th><th scope=col>sedative</th><th scope=col>echo_int</th><th scope=col>mort_28_day_int</th><th scope=col>ps</th><th scope=col>ps_weight</th></tr></thead>\n",
       "<tbody>\n",
       "\t<tr><td>228416             </td><td>159895             </td><td> 5491              </td><td>0                  </td><td>2151-06-29 01:18:27</td><td>2151-07-27 16:00:56</td><td>1                  </td><td>76.58225           </td><td>1                  </td><td>2151-06-30         </td><td>⋯                  </td><td>1                  </td><td>1.4                </td><td>1.4                </td><td>1.4                </td><td>0                  </td><td>0                  </td><td>1                  </td><td>0                  </td><td>0.5444486          </td><td>1.836721           </td></tr>\n",
       "\t<tr><td>278148             </td><td>169700             </td><td>49395              </td><td>0                  </td><td>2197-01-09 00:45:42</td><td>2197-01-10 06:46:29</td><td>1                  </td><td>82.72606           </td><td>1                  </td><td>NA                 </td><td>⋯                  </td><td>0                  </td><td> NA                </td><td> NA                </td><td> NA                </td><td>NA                 </td><td>0                  </td><td>0                  </td><td>1                  </td><td>0.2569337          </td><td>1.345775           </td></tr>\n",
       "\t<tr><td>274174             </td><td>103722             </td><td>14855              </td><td>0                  </td><td>2181-09-08 23:43:13</td><td>2181-09-26 16:52:02</td><td>1                  </td><td>61.84390           </td><td>1                  </td><td>2181-09-11         </td><td>⋯                  </td><td>1                  </td><td>1.6                </td><td>1.6                </td><td>2.6                </td><td>1                  </td><td>0                  </td><td>1                  </td><td>0                  </td><td>0.3264142          </td><td>3.063592           </td></tr>\n",
       "\t<tr><td>214954             </td><td>170515             </td><td>54642              </td><td>0                  </td><td>2176-03-11 04:58:23</td><td>2176-03-15 18:00:48</td><td>1                  </td><td>63.86507           </td><td>1                  </td><td>2176-03-11         </td><td>⋯                  </td><td>1                  </td><td>3.8                </td><td>2.2                </td><td>3.8                </td><td>1                  </td><td>1                  </td><td>1                  </td><td>0                  </td><td>0.8063102          </td><td>1.240217           </td></tr>\n",
       "\t<tr><td>222457             </td><td>183493             </td><td>96815              </td><td>0                  </td><td>2105-06-04 20:57:55</td><td>2105-06-06 20:01:51</td><td>1                  </td><td>62.84018           </td><td>1                  </td><td>NA                 </td><td>⋯                  </td><td>0                  </td><td> NA                </td><td> NA                </td><td> NA                </td><td>NA                 </td><td>0                  </td><td>0                  </td><td>0                  </td><td>0.2239520          </td><td>1.288580           </td></tr>\n",
       "\t<tr><td>264413             </td><td>134244             </td><td>81436              </td><td>0                  </td><td>2133-03-27 16:31:37</td><td>2133-04-04 16:15:28</td><td>1                  </td><td>62.60148           </td><td>1                  </td><td>2133-03-31         </td><td>⋯                  </td><td>1                  </td><td>1.4                </td><td>1.4                </td><td>1.4                </td><td>0                  </td><td>0                  </td><td>1                  </td><td>0                  </td><td>0.3457691          </td><td>2.892104           </td></tr>\n",
       "</tbody>\n",
       "</table>\n"
      ],
      "text/latex": [
       "\\begin{tabular}{r|llllllllllllllllllllllllllllllllllllllllllllllllllllllllllllllllllllllllllllllllllllllllllllllllllllllllllllllllllllllllllllllllllllll}\n",
       " icustay\\_id & hadm\\_id & subject\\_id & first\\_careunit & intime & outtime & angus & age & icu\\_order & echo\\_time & ⋯ & lab\\_lactate\\_flag & lab\\_lactate\\_first & lab\\_lactate\\_min & lab\\_lactate\\_max & lab\\_lactate\\_abnormal & sedative & echo\\_int & mort\\_28\\_day\\_int & ps & ps\\_weight\\\\\n",
       "\\hline\n",
       "\t 228416              & 159895              &  5491               & 0                   & 2151-06-29 01:18:27 & 2151-07-27 16:00:56 & 1                   & 76.58225            & 1                   & 2151-06-30          & ⋯                   & 1                   & 1.4                 & 1.4                 & 1.4                 & 0                   & 0                   & 1                   & 0                   & 0.5444486           & 1.836721           \\\\\n",
       "\t 278148              & 169700              & 49395               & 0                   & 2197-01-09 00:45:42 & 2197-01-10 06:46:29 & 1                   & 82.72606            & 1                   & NA                  & ⋯                   & 0                   &  NA                 &  NA                 &  NA                 & NA                  & 0                   & 0                   & 1                   & 0.2569337           & 1.345775           \\\\\n",
       "\t 274174              & 103722              & 14855               & 0                   & 2181-09-08 23:43:13 & 2181-09-26 16:52:02 & 1                   & 61.84390            & 1                   & 2181-09-11          & ⋯                   & 1                   & 1.6                 & 1.6                 & 2.6                 & 1                   & 0                   & 1                   & 0                   & 0.3264142           & 3.063592           \\\\\n",
       "\t 214954              & 170515              & 54642               & 0                   & 2176-03-11 04:58:23 & 2176-03-15 18:00:48 & 1                   & 63.86507            & 1                   & 2176-03-11          & ⋯                   & 1                   & 3.8                 & 2.2                 & 3.8                 & 1                   & 1                   & 1                   & 0                   & 0.8063102           & 1.240217           \\\\\n",
       "\t 222457              & 183493              & 96815               & 0                   & 2105-06-04 20:57:55 & 2105-06-06 20:01:51 & 1                   & 62.84018            & 1                   & NA                  & ⋯                   & 0                   &  NA                 &  NA                 &  NA                 & NA                  & 0                   & 0                   & 0                   & 0.2239520           & 1.288580           \\\\\n",
       "\t 264413              & 134244              & 81436               & 0                   & 2133-03-27 16:31:37 & 2133-04-04 16:15:28 & 1                   & 62.60148            & 1                   & 2133-03-31          & ⋯                   & 1                   & 1.4                 & 1.4                 & 1.4                 & 0                   & 0                   & 1                   & 0                   & 0.3457691           & 2.892104           \\\\\n",
       "\\end{tabular}\n"
      ],
      "text/markdown": [
       "\n",
       "icustay_id | hadm_id | subject_id | first_careunit | intime | outtime | angus | age | icu_order | echo_time | ⋯ | lab_lactate_flag | lab_lactate_first | lab_lactate_min | lab_lactate_max | lab_lactate_abnormal | sedative | echo_int | mort_28_day_int | ps | ps_weight | \n",
       "|---|---|---|---|---|---|\n",
       "| 228416              | 159895              |  5491               | 0                   | 2151-06-29 01:18:27 | 2151-07-27 16:00:56 | 1                   | 76.58225            | 1                   | 2151-06-30          | ⋯                   | 1                   | 1.4                 | 1.4                 | 1.4                 | 0                   | 0                   | 1                   | 0                   | 0.5444486           | 1.836721            | \n",
       "| 278148              | 169700              | 49395               | 0                   | 2197-01-09 00:45:42 | 2197-01-10 06:46:29 | 1                   | 82.72606            | 1                   | NA                  | ⋯                   | 0                   |  NA                 |  NA                 |  NA                 | NA                  | 0                   | 0                   | 1                   | 0.2569337           | 1.345775            | \n",
       "| 274174              | 103722              | 14855               | 0                   | 2181-09-08 23:43:13 | 2181-09-26 16:52:02 | 1                   | 61.84390            | 1                   | 2181-09-11          | ⋯                   | 1                   | 1.6                 | 1.6                 | 2.6                 | 1                   | 0                   | 1                   | 0                   | 0.3264142           | 3.063592            | \n",
       "| 214954              | 170515              | 54642               | 0                   | 2176-03-11 04:58:23 | 2176-03-15 18:00:48 | 1                   | 63.86507            | 1                   | 2176-03-11          | ⋯                   | 1                   | 3.8                 | 2.2                 | 3.8                 | 1                   | 1                   | 1                   | 0                   | 0.8063102           | 1.240217            | \n",
       "| 222457              | 183493              | 96815               | 0                   | 2105-06-04 20:57:55 | 2105-06-06 20:01:51 | 1                   | 62.84018            | 1                   | NA                  | ⋯                   | 0                   |  NA                 |  NA                 |  NA                 | NA                  | 0                   | 0                   | 0                   | 0.2239520           | 1.288580            | \n",
       "| 264413              | 134244              | 81436               | 0                   | 2133-03-27 16:31:37 | 2133-04-04 16:15:28 | 1                   | 62.60148            | 1                   | 2133-03-31          | ⋯                   | 1                   | 1.4                 | 1.4                 | 1.4                 | 0                   | 0                   | 1                   | 0                   | 0.3457691           | 2.892104            | \n",
       "\n",
       "\n"
      ],
      "text/plain": [
       "  icustay_id hadm_id subject_id first_careunit intime             \n",
       "1 228416     159895   5491      0              2151-06-29 01:18:27\n",
       "2 278148     169700  49395      0              2197-01-09 00:45:42\n",
       "3 274174     103722  14855      0              2181-09-08 23:43:13\n",
       "4 214954     170515  54642      0              2176-03-11 04:58:23\n",
       "5 222457     183493  96815      0              2105-06-04 20:57:55\n",
       "6 264413     134244  81436      0              2133-03-27 16:31:37\n",
       "  outtime             angus age      icu_order echo_time  ⋯ lab_lactate_flag\n",
       "1 2151-07-27 16:00:56 1     76.58225 1         2151-06-30 ⋯ 1               \n",
       "2 2197-01-10 06:46:29 1     82.72606 1         <NA>       ⋯ 0               \n",
       "3 2181-09-26 16:52:02 1     61.84390 1         2181-09-11 ⋯ 1               \n",
       "4 2176-03-15 18:00:48 1     63.86507 1         2176-03-11 ⋯ 1               \n",
       "5 2105-06-06 20:01:51 1     62.84018 1         <NA>       ⋯ 0               \n",
       "6 2133-04-04 16:15:28 1     62.60148 1         2133-03-31 ⋯ 1               \n",
       "  lab_lactate_first lab_lactate_min lab_lactate_max lab_lactate_abnormal\n",
       "1 1.4               1.4             1.4             0                   \n",
       "2  NA                NA              NA             NA                  \n",
       "3 1.6               1.6             2.6             1                   \n",
       "4 3.8               2.2             3.8             1                   \n",
       "5  NA                NA              NA             NA                  \n",
       "6 1.4               1.4             1.4             0                   \n",
       "  sedative echo_int mort_28_day_int ps        ps_weight\n",
       "1 0        1        0               0.5444486 1.836721 \n",
       "2 0        0        1               0.2569337 1.345775 \n",
       "3 0        1        0               0.3264142 3.063592 \n",
       "4 1        1        0               0.8063102 1.240217 \n",
       "5 0        0        0               0.2239520 1.288580 \n",
       "6 0        1        0               0.3457691 2.892104 "
      ]
     },
     "metadata": {},
     "output_type": "display_data"
    }
   ],
   "source": [
    "full_data <- readRDS(file.path(data_dir, \"full_data_ps.rds\"))\n",
    "head(full_data)"
   ]
  },
  {
   "cell_type": "code",
   "execution_count": 4,
   "metadata": {},
   "outputs": [
    {
     "data": {
      "text/html": [
       "<table>\n",
       "<thead><tr><th scope=col>p_val</th><th scope=col>wtd_p_val</th><th scope=col>main_0</th><th scope=col>main_1</th><th scope=col>sub_0</th><th scope=col>sub_1</th><th scope=col>wtd_main_0</th><th scope=col>wtd_main_1</th><th scope=col>wtd_sub_0</th><th scope=col>wtd_sub_1</th><th scope=col>var</th></tr></thead>\n",
       "<tbody>\n",
       "\t<tr><td>2.555251e-02</td><td>0.04837335  </td><td>66.68924    </td><td>65.742830   </td><td>17.207039   </td><td>16.554501   </td><td>66.819125   </td><td>65.992579   </td><td>16.751317   </td><td>16.619096   </td><td>age         </td></tr>\n",
       "\t<tr><td>1.571359e-02</td><td>0.43360290  </td><td>50.82285    </td><td>47.762109   </td><td>       NA   </td><td>       NA   </td><td>49.269948   </td><td>48.288405   </td><td>       NA   </td><td>       NA   </td><td>female      </td></tr>\n",
       "\t<tr><td>4.654788e-12</td><td>0.13519476  </td><td>78.56295    </td><td>83.168338   </td><td>23.579777   </td><td>26.872532   </td><td>80.382578   </td><td>81.361076   </td><td>24.347537   </td><td>25.392902   </td><td>weight      </td></tr>\n",
       "\t<tr><td>2.009720e-16</td><td>0.07229033  </td><td> 8.50597    </td><td>10.068670   </td><td> 7.451124   </td><td> 7.666592   </td><td> 9.142537   </td><td> 9.484882   </td><td> 7.554606   </td><td> 7.630381   </td><td>elix_score  </td></tr>\n",
       "\t<tr><td>1.179391e-15</td><td>0.10326054  </td><td>19.63246    </td><td>20.764255   </td><td> 5.788347   </td><td> 5.438449   </td><td>20.020541   </td><td>20.246750   </td><td> 5.638692   </td><td> 5.421080   </td><td>saps        </td></tr>\n",
       "\t<tr><td>3.538666e-28</td><td>0.02451590  </td><td> 5.30526    </td><td> 6.332618   </td><td> 3.618029   </td><td> 3.790436   </td><td> 5.678279   </td><td> 5.886310   </td><td> 3.671404   </td><td> 3.702144   </td><td>sofa        </td></tr>\n",
       "</tbody>\n",
       "</table>\n"
      ],
      "text/latex": [
       "\\begin{tabular}{r|lllllllllll}\n",
       " p\\_val & wtd\\_p\\_val & main\\_0 & main\\_1 & sub\\_0 & sub\\_1 & wtd\\_main\\_0 & wtd\\_main\\_1 & wtd\\_sub\\_0 & wtd\\_sub\\_1 & var\\\\\n",
       "\\hline\n",
       "\t 2.555251e-02 & 0.04837335   & 66.68924     & 65.742830    & 17.207039    & 16.554501    & 66.819125    & 65.992579    & 16.751317    & 16.619096    & age         \\\\\n",
       "\t 1.571359e-02 & 0.43360290   & 50.82285     & 47.762109    &        NA    &        NA    & 49.269948    & 48.288405    &        NA    &        NA    & female      \\\\\n",
       "\t 4.654788e-12 & 0.13519476   & 78.56295     & 83.168338    & 23.579777    & 26.872532    & 80.382578    & 81.361076    & 24.347537    & 25.392902    & weight      \\\\\n",
       "\t 2.009720e-16 & 0.07229033   &  8.50597     & 10.068670    &  7.451124    &  7.666592    &  9.142537    &  9.484882    &  7.554606    &  7.630381    & elix\\_score\\\\\n",
       "\t 1.179391e-15 & 0.10326054   & 19.63246     & 20.764255    &  5.788347    &  5.438449    & 20.020541    & 20.246750    &  5.638692    &  5.421080    & saps        \\\\\n",
       "\t 3.538666e-28 & 0.02451590   &  5.30526     &  6.332618    &  3.618029    &  3.790436    &  5.678279    &  5.886310    &  3.671404    &  3.702144    & sofa        \\\\\n",
       "\\end{tabular}\n"
      ],
      "text/markdown": [
       "\n",
       "p_val | wtd_p_val | main_0 | main_1 | sub_0 | sub_1 | wtd_main_0 | wtd_main_1 | wtd_sub_0 | wtd_sub_1 | var | \n",
       "|---|---|---|---|---|---|\n",
       "| 2.555251e-02 | 0.04837335   | 66.68924     | 65.742830    | 17.207039    | 16.554501    | 66.819125    | 65.992579    | 16.751317    | 16.619096    | age          | \n",
       "| 1.571359e-02 | 0.43360290   | 50.82285     | 47.762109    |        NA    |        NA    | 49.269948    | 48.288405    |        NA    |        NA    | female       | \n",
       "| 4.654788e-12 | 0.13519476   | 78.56295     | 83.168338    | 23.579777    | 26.872532    | 80.382578    | 81.361076    | 24.347537    | 25.392902    | weight       | \n",
       "| 2.009720e-16 | 0.07229033   |  8.50597     | 10.068670    |  7.451124    |  7.666592    |  9.142537    |  9.484882    |  7.554606    |  7.630381    | elix_score   | \n",
       "| 1.179391e-15 | 0.10326054   | 19.63246     | 20.764255    |  5.788347    |  5.438449    | 20.020541    | 20.246750    |  5.638692    |  5.421080    | saps         | \n",
       "| 3.538666e-28 | 0.02451590   |  5.30526     |  6.332618    |  3.618029    |  3.790436    |  5.678279    |  5.886310    |  3.671404    |  3.702144    | sofa         | \n",
       "\n",
       "\n"
      ],
      "text/plain": [
       "  p_val        wtd_p_val  main_0   main_1    sub_0     sub_1     wtd_main_0\n",
       "1 2.555251e-02 0.04837335 66.68924 65.742830 17.207039 16.554501 66.819125 \n",
       "2 1.571359e-02 0.43360290 50.82285 47.762109        NA        NA 49.269948 \n",
       "3 4.654788e-12 0.13519476 78.56295 83.168338 23.579777 26.872532 80.382578 \n",
       "4 2.009720e-16 0.07229033  8.50597 10.068670  7.451124  7.666592  9.142537 \n",
       "5 1.179391e-15 0.10326054 19.63246 20.764255  5.788347  5.438449 20.020541 \n",
       "6 3.538666e-28 0.02451590  5.30526  6.332618  3.618029  3.790436  5.678279 \n",
       "  wtd_main_1 wtd_sub_0 wtd_sub_1 var       \n",
       "1 65.992579  16.751317 16.619096 age       \n",
       "2 48.288405         NA        NA female    \n",
       "3 81.361076  24.347537 25.392902 weight    \n",
       "4  9.484882   7.554606  7.630381 elix_score\n",
       "5 20.246750   5.638692  5.421080 saps      \n",
       "6  5.886310   3.671404  3.702144 sofa      "
      ]
     },
     "metadata": {},
     "output_type": "display_data"
    }
   ],
   "source": [
    "table_one <- data.table::fread(file.path(data_dir, \"tableone_raw.csv\"), data.table = FALSE)\n",
    "head(table_one)"
   ]
  },
  {
   "cell_type": "code",
   "execution_count": 5,
   "metadata": {},
   "outputs": [
    {
     "data": {
      "text/html": [
       "<ol class=list-inline>\n",
       "\t<li>'age'</li>\n",
       "\t<li>'sofa'</li>\n",
       "\t<li>'vent'</li>\n",
       "\t<li>'vaso'</li>\n",
       "\t<li>'sedative'</li>\n",
       "\t<li>'icd_chf'</li>\n",
       "\t<li>'icd_afib'</li>\n",
       "\t<li>'lab_chloride_first'</li>\n",
       "\t<li>'lab_bnp_flag'</li>\n",
       "\t<li>'lab_troponin_flag'</li>\n",
       "\t<li>'lab_creatinine_kinase_flag'</li>\n",
       "</ol>\n"
      ],
      "text/latex": [
       "\\begin{enumerate*}\n",
       "\\item 'age'\n",
       "\\item 'sofa'\n",
       "\\item 'vent'\n",
       "\\item 'vaso'\n",
       "\\item 'sedative'\n",
       "\\item 'icd\\_chf'\n",
       "\\item 'icd\\_afib'\n",
       "\\item 'lab\\_chloride\\_first'\n",
       "\\item 'lab\\_bnp\\_flag'\n",
       "\\item 'lab\\_troponin\\_flag'\n",
       "\\item 'lab\\_creatinine\\_kinase\\_flag'\n",
       "\\end{enumerate*}\n"
      ],
      "text/markdown": [
       "1. 'age'\n",
       "2. 'sofa'\n",
       "3. 'vent'\n",
       "4. 'vaso'\n",
       "5. 'sedative'\n",
       "6. 'icd_chf'\n",
       "7. 'icd_afib'\n",
       "8. 'lab_chloride_first'\n",
       "9. 'lab_bnp_flag'\n",
       "10. 'lab_troponin_flag'\n",
       "11. 'lab_creatinine_kinase_flag'\n",
       "\n",
       "\n"
      ],
      "text/plain": [
       " [1] \"age\"                        \"sofa\"                      \n",
       " [3] \"vent\"                       \"vaso\"                      \n",
       " [5] \"sedative\"                   \"icd_chf\"                   \n",
       " [7] \"icd_afib\"                   \"lab_chloride_first\"        \n",
       " [9] \"lab_bnp_flag\"               \"lab_troponin_flag\"         \n",
       "[11] \"lab_creatinine_kinase_flag\""
      ]
     },
     "metadata": {},
     "output_type": "display_data"
    }
   ],
   "source": [
    "wpv <- table_one %>%\n",
    "    filter(wtd_p_val < 0.05) %>%\n",
    "    pull(var) %>%\n",
    "    gsub(\"female\", \"gender\", .)\n",
    "\n",
    "if (length(grep(\"day\", wpv)) > 0) wpv <- wpv %>% discard(grepl(\"day\", .)) %>% c(., \"icu_adm_weekday\")\n",
    "\n",
    "wpv"
   ]
  },
  {
   "cell_type": "code",
   "execution_count": 6,
   "metadata": {},
   "outputs": [],
   "source": [
    "design_echo_ps_ate <- svydesign(ids = ~ icustay_id, weights = ~ ps_weight, data = full_data)"
   ]
  },
  {
   "cell_type": "code",
   "execution_count": 7,
   "metadata": {},
   "outputs": [
    {
     "data": {
      "text/html": [
       "'mort_28_day ~ echo + age + sofa + vent + vaso + sedative + icd_chf + icd_afib + lab_chloride_first + lab_bnp_flag + lab_troponin_flag + lab_creatinine_kinase_flag'"
      ],
      "text/latex": [
       "'mort\\_28\\_day \\textasciitilde{} echo + age + sofa + vent + vaso + sedative + icd\\_chf + icd\\_afib + lab\\_chloride\\_first + lab\\_bnp\\_flag + lab\\_troponin\\_flag + lab\\_creatinine\\_kinase\\_flag'"
      ],
      "text/markdown": [
       "'mort_28_day ~ echo + age + sofa + vent + vaso + sedative + icd_chf + icd_afib + lab_chloride_first + lab_bnp_flag + lab_troponin_flag + lab_creatinine_kinase_flag'"
      ],
      "text/plain": [
       "[1] \"mort_28_day ~ echo + age + sofa + vent + vaso + sedative + icd_chf + icd_afib + lab_chloride_first + lab_bnp_flag + lab_troponin_flag + lab_creatinine_kinase_flag\""
      ]
     },
     "metadata": {},
     "output_type": "display_data"
    }
   ],
   "source": [
    "fml <- wpv %>%\n",
    "c(\"echo\", .) %>%\n",
    "paste(collapse = \" + \") %>%\n",
    "sprintf(\"mort_28_day ~ %s\", .)\n",
    "\n",
    "fml"
   ]
  },
  {
   "cell_type": "code",
   "execution_count": 8,
   "metadata": {},
   "outputs": [],
   "source": [
    "logi <- svyglm(as.formula(fml), family = quasibinomial, design = design_echo_ps_ate)"
   ]
  },
  {
   "cell_type": "code",
   "execution_count": 9,
   "metadata": {},
   "outputs": [
    {
     "data": {
      "text/plain": [
       "\n",
       "Call:\n",
       "svyglm(formula = as.formula(fml), family = quasibinomial, design = design_echo_ps_ate)\n",
       "\n",
       "Survey design:\n",
       "svydesign(ids = ~icustay_id, weights = ~ps_weight, data = full_data)\n",
       "\n",
       "Coefficients:\n",
       "                             Estimate Std. Error t value Pr(>|t|)    \n",
       "(Intercept)                 -2.504580   0.509142  -4.919 8.91e-07 ***\n",
       "echo1                       -0.199963   0.071140  -2.811 0.004957 ** \n",
       "age                          0.027256   0.002419  11.270  < 2e-16 ***\n",
       "sofa                         0.222233   0.011315  19.641  < 2e-16 ***\n",
       "vent1                        0.425563   0.108783   3.912 9.25e-05 ***\n",
       "vaso1                       -0.076297   0.083232  -0.917 0.359349    \n",
       "sedative1                   -0.378221   0.108702  -3.479 0.000506 ***\n",
       "icd_chf1                    -0.122164   0.081617  -1.497 0.134496    \n",
       "icd_afib1                    0.127511   0.080580   1.582 0.113604    \n",
       "lab_chloride_first          -0.015540   0.004583  -3.391 0.000702 ***\n",
       "lab_bnp_flag1                0.012540   0.213296   0.059 0.953121    \n",
       "lab_troponin_flag1           0.286603   0.100308   2.857 0.004288 ** \n",
       "lab_creatinine_kinase_flag1 -0.251350   0.094309  -2.665 0.007715 ** \n",
       "---\n",
       "Signif. codes:  0 ‘***’ 0.001 ‘**’ 0.01 ‘*’ 0.05 ‘.’ 0.1 ‘ ’ 1\n",
       "\n",
       "(Dispersion parameter for quasibinomial family taken to be 1.004385)\n",
       "\n",
       "Number of Fisher Scoring iterations: 4\n"
      ]
     },
     "metadata": {},
     "output_type": "display_data"
    }
   ],
   "source": [
    "summary(logi)"
   ]
  },
  {
   "cell_type": "code",
   "execution_count": 10,
   "metadata": {},
   "outputs": [
    {
     "data": {
      "text/html": [
       "<table>\n",
       "<thead><tr><th></th><th scope=col>OR</th><th scope=col>2.5 %</th><th scope=col>97.5 %</th></tr></thead>\n",
       "<tbody>\n",
       "\t<tr><th scope=row>(Intercept)</th><td>0.08170995</td><td>0.03012262</td><td>0.2216446 </td></tr>\n",
       "\t<tr><th scope=row>echo1</th><td>0.81876107</td><td>0.71220073</td><td>0.9412651 </td></tr>\n",
       "\t<tr><th scope=row>age</th><td>1.02763054</td><td>1.02277088</td><td>1.0325133 </td></tr>\n",
       "\t<tr><th scope=row>sofa</th><td>1.24886188</td><td>1.22147124</td><td>1.2768667 </td></tr>\n",
       "\t<tr><th scope=row>vent1</th><td>1.53045137</td><td>1.23658263</td><td>1.8941568 </td></tr>\n",
       "\t<tr><th scope=row>vaso1</th><td>0.92654140</td><td>0.78707790</td><td>1.0907166 </td></tr>\n",
       "\t<tr><th scope=row>sedative1</th><td>0.68507918</td><td>0.55362227</td><td>0.8477504 </td></tr>\n",
       "\t<tr><th scope=row>icd_chf1</th><td>0.88500286</td><td>0.75417494</td><td>1.0385257 </td></tr>\n",
       "\t<tr><th scope=row>icd_afib1</th><td>1.13599721</td><td>0.97003602</td><td>1.3303523 </td></tr>\n",
       "\t<tr><th scope=row>lab_chloride_first</th><td>0.98458006</td><td>0.97577532</td><td>0.9934642 </td></tr>\n",
       "\t<tr><th scope=row>lab_bnp_flag1</th><td>1.01261860</td><td>0.66663449</td><td>1.5381689 </td></tr>\n",
       "\t<tr><th scope=row>lab_troponin_flag1</th><td>1.33189590</td><td>1.09417690</td><td>1.6212613 </td></tr>\n",
       "\t<tr><th scope=row>lab_creatinine_kinase_flag1</th><td>0.77775030</td><td>0.64649349</td><td>0.9356560 </td></tr>\n",
       "</tbody>\n",
       "</table>\n"
      ],
      "text/latex": [
       "\\begin{tabular}{r|lll}\n",
       "  & OR & 2.5 \\% & 97.5 \\%\\\\\n",
       "\\hline\n",
       "\t(Intercept) & 0.08170995 & 0.03012262 & 0.2216446 \\\\\n",
       "\techo1 & 0.81876107 & 0.71220073 & 0.9412651 \\\\\n",
       "\tage & 1.02763054 & 1.02277088 & 1.0325133 \\\\\n",
       "\tsofa & 1.24886188 & 1.22147124 & 1.2768667 \\\\\n",
       "\tvent1 & 1.53045137 & 1.23658263 & 1.8941568 \\\\\n",
       "\tvaso1 & 0.92654140 & 0.78707790 & 1.0907166 \\\\\n",
       "\tsedative1 & 0.68507918 & 0.55362227 & 0.8477504 \\\\\n",
       "\ticd\\_chf1 & 0.88500286 & 0.75417494 & 1.0385257 \\\\\n",
       "\ticd\\_afib1 & 1.13599721 & 0.97003602 & 1.3303523 \\\\\n",
       "\tlab\\_chloride\\_first & 0.98458006 & 0.97577532 & 0.9934642 \\\\\n",
       "\tlab\\_bnp\\_flag1 & 1.01261860 & 0.66663449 & 1.5381689 \\\\\n",
       "\tlab\\_troponin\\_flag1 & 1.33189590 & 1.09417690 & 1.6212613 \\\\\n",
       "\tlab\\_creatinine\\_kinase\\_flag1 & 0.77775030 & 0.64649349 & 0.9356560 \\\\\n",
       "\\end{tabular}\n"
      ],
      "text/markdown": [
       "\n",
       "| <!--/--> | OR | 2.5 % | 97.5 % | \n",
       "|---|---|---|---|---|---|---|---|---|---|---|---|---|\n",
       "| (Intercept) | 0.08170995 | 0.03012262 | 0.2216446  | \n",
       "| echo1 | 0.81876107 | 0.71220073 | 0.9412651  | \n",
       "| age | 1.02763054 | 1.02277088 | 1.0325133  | \n",
       "| sofa | 1.24886188 | 1.22147124 | 1.2768667  | \n",
       "| vent1 | 1.53045137 | 1.23658263 | 1.8941568  | \n",
       "| vaso1 | 0.92654140 | 0.78707790 | 1.0907166  | \n",
       "| sedative1 | 0.68507918 | 0.55362227 | 0.8477504  | \n",
       "| icd_chf1 | 0.88500286 | 0.75417494 | 1.0385257  | \n",
       "| icd_afib1 | 1.13599721 | 0.97003602 | 1.3303523  | \n",
       "| lab_chloride_first | 0.98458006 | 0.97577532 | 0.9934642  | \n",
       "| lab_bnp_flag1 | 1.01261860 | 0.66663449 | 1.5381689  | \n",
       "| lab_troponin_flag1 | 1.33189590 | 1.09417690 | 1.6212613  | \n",
       "| lab_creatinine_kinase_flag1 | 0.77775030 | 0.64649349 | 0.9356560  | \n",
       "\n",
       "\n"
      ],
      "text/plain": [
       "                            OR         2.5 %      97.5 %   \n",
       "(Intercept)                 0.08170995 0.03012262 0.2216446\n",
       "echo1                       0.81876107 0.71220073 0.9412651\n",
       "age                         1.02763054 1.02277088 1.0325133\n",
       "sofa                        1.24886188 1.22147124 1.2768667\n",
       "vent1                       1.53045137 1.23658263 1.8941568\n",
       "vaso1                       0.92654140 0.78707790 1.0907166\n",
       "sedative1                   0.68507918 0.55362227 0.8477504\n",
       "icd_chf1                    0.88500286 0.75417494 1.0385257\n",
       "icd_afib1                   1.13599721 0.97003602 1.3303523\n",
       "lab_chloride_first          0.98458006 0.97577532 0.9934642\n",
       "lab_bnp_flag1               1.01261860 0.66663449 1.5381689\n",
       "lab_troponin_flag1          1.33189590 1.09417690 1.6212613\n",
       "lab_creatinine_kinase_flag1 0.77775030 0.64649349 0.9356560"
      ]
     },
     "metadata": {},
     "output_type": "display_data"
    }
   ],
   "source": [
    "exp(cbind(OR = coef(logi), confint(logi)))"
   ]
  }
 ],
 "metadata": {
  "kernelspec": {
   "display_name": "R",
   "language": "R",
   "name": "ir"
  },
  "language_info": {
   "codemirror_mode": "r",
   "file_extension": ".r",
   "mimetype": "text/x-r-source",
   "name": "R",
   "pygments_lexer": "r",
   "version": "3.4.3"
  },
  "varInspector": {
   "cols": {
    "lenName": 16,
    "lenType": 16,
    "lenVar": 40
   },
   "kernels_config": {
    "python": {
     "delete_cmd_postfix": "",
     "delete_cmd_prefix": "del ",
     "library": "var_list.py",
     "varRefreshCmd": "print(var_dic_list())"
    },
    "r": {
     "delete_cmd_postfix": ") ",
     "delete_cmd_prefix": "rm(",
     "library": "var_list.r",
     "varRefreshCmd": "cat(var_dic_list()) "
    }
   },
   "types_to_exclude": [
    "module",
    "function",
    "builtin_function_or_method",
    "instance",
    "_Feature"
   ],
   "window_display": false
  }
 },
 "nbformat": 4,
 "nbformat_minor": 2
}
