{
 "cells": [
  {
   "cell_type": "code",
   "execution_count": 1,
   "metadata": {},
   "outputs": [
    {
     "name": "stderr",
     "output_type": "stream",
     "text": [
      "Loading required package: grid\n",
      "Loading required package: Matrix\n",
      "Loading required package: survival\n",
      "\n",
      "Attaching package: ‘survey’\n",
      "\n",
      "The following object is masked from ‘package:graphics’:\n",
      "\n",
      "    dotchart\n",
      "\n",
      "── Attaching packages ─────────────────────────────────────── tidyverse 1.2.1 ──\n",
      "✔ ggplot2 2.2.1     ✔ purrr   0.2.4\n",
      "✔ tibble  1.3.4     ✔ dplyr   0.7.4\n",
      "✔ tidyr   0.7.2     ✔ stringr 1.2.0\n",
      "✔ readr   1.1.1     ✔ forcats 0.2.0\n",
      "── Conflicts ────────────────────────────────────────── tidyverse_conflicts() ──\n",
      "✖ tidyr::expand() masks Matrix::expand()\n",
      "✖ dplyr::filter() masks stats::filter()\n",
      "✖ dplyr::lag()    masks stats::lag()\n"
     ]
    }
   ],
   "source": [
    "library(survey)\n",
    "library(tidyverse)"
   ]
  },
  {
   "cell_type": "code",
   "execution_count": 2,
   "metadata": {},
   "outputs": [],
   "source": [
    "data_dir <- file.path(\"..\", \"data\")"
   ]
  },
  {
   "cell_type": "code",
   "execution_count": 3,
   "metadata": {},
   "outputs": [
    {
     "data": {
      "text/html": [
       "<table>\n",
       "<thead><tr><th scope=col>icustay_id</th><th scope=col>hadm_id</th><th scope=col>subject_id</th><th scope=col>first_careunit</th><th scope=col>intime</th><th scope=col>outtime</th><th scope=col>angus</th><th scope=col>age</th><th scope=col>icu_order</th><th scope=col>echo_time</th><th scope=col>⋯</th><th scope=col>lab_ph_flag</th><th scope=col>lab_ph_first</th><th scope=col>lab_ph_min</th><th scope=col>lab_ph_max</th><th scope=col>lab_ph_abnormal</th><th scope=col>sedative</th><th scope=col>echo_int</th><th scope=col>mort_28_day_int</th><th scope=col>ps</th><th scope=col>ps_weight</th></tr></thead>\n",
       "<tbody>\n",
       "\t<tr><td>201220             </td><td>125078             </td><td>66690              </td><td>0                  </td><td>2106-04-27 08:47:50</td><td>2106-05-01 18:25:46</td><td>1                  </td><td>62.67646           </td><td>1                  </td><td>NA                 </td><td>⋯                  </td><td>1                  </td><td>7.45               </td><td>7.42               </td><td>7.45               </td><td>1                  </td><td>1                  </td><td>0                  </td><td>1                  </td><td>0.4544669          </td><td>1.833069           </td></tr>\n",
       "\t<tr><td>215842             </td><td>151232             </td><td>11663              </td><td>0                  </td><td>2188-02-14 08:48:15</td><td>2188-02-16 02:02:48</td><td>1                  </td><td>86.76186           </td><td>1                  </td><td>NA                 </td><td>⋯                  </td><td>0                  </td><td>  NA               </td><td>  NA               </td><td>  NA               </td><td>NA                 </td><td>0                  </td><td>0                  </td><td>0                  </td><td>0.1568838          </td><td>1.186076           </td></tr>\n",
       "\t<tr><td>234312             </td><td>164444             </td><td>86645              </td><td>1                  </td><td>2165-06-22 08:47:16</td><td>2165-07-07 20:55:20</td><td>1                  </td><td>56.08904           </td><td>1                  </td><td>NA                 </td><td>⋯                  </td><td>1                  </td><td>7.49               </td><td>7.49               </td><td>7.49               </td><td>1                  </td><td>0                  </td><td>0                  </td><td>0                  </td><td>0.3002571          </td><td>1.429096           </td></tr>\n",
       "\t<tr><td>289157             </td><td>146726             </td><td>10304              </td><td>0                  </td><td>2156-06-23 21:26:00</td><td>2156-06-30 16:26:00</td><td>1                  </td><td>45.91093           </td><td>1                  </td><td>2156-06-25 07:00:00</td><td>⋯                  </td><td>1                  </td><td>7.44               </td><td>7.44               </td><td>7.44               </td><td>1                  </td><td>0                  </td><td>1                  </td><td>0                  </td><td>0.6991412          </td><td>1.430326           </td></tr>\n",
       "\t<tr><td>211964             </td><td>160170             </td><td>94534              </td><td>0                  </td><td>2160-03-05 21:23:19</td><td>2160-03-07 05:48:41</td><td>1                  </td><td>59.38693           </td><td>1                  </td><td>NA                 </td><td>⋯                  </td><td>0                  </td><td>  NA               </td><td>  NA               </td><td>  NA               </td><td>NA                 </td><td>0                  </td><td>0                  </td><td>0                  </td><td>0.3432285          </td><td>1.522600           </td></tr>\n",
       "\t<tr><td>230173             </td><td>112553             </td><td>31544              </td><td>0                  </td><td>2140-01-31 03:39:25</td><td>2140-02-03 01:41:39</td><td>1                  </td><td>91.50000           </td><td>1                  </td><td>NA                 </td><td>⋯                  </td><td>0                  </td><td>  NA               </td><td>  NA               </td><td>  NA               </td><td>NA                 </td><td>0                  </td><td>0                  </td><td>1                  </td><td>0.2464983          </td><td>1.327137           </td></tr>\n",
       "</tbody>\n",
       "</table>\n"
      ],
      "text/latex": [
       "\\begin{tabular}{r|lllllllllllllllllllllllllllllllllllllllllllllllllllllllllllllllllllllllllllllllllllllllllllllllllllllllllllllllllllllllllllllllllll}\n",
       " icustay\\_id & hadm\\_id & subject\\_id & first\\_careunit & intime & outtime & angus & age & icu\\_order & echo\\_time & ⋯ & lab\\_ph\\_flag & lab\\_ph\\_first & lab\\_ph\\_min & lab\\_ph\\_max & lab\\_ph\\_abnormal & sedative & echo\\_int & mort\\_28\\_day\\_int & ps & ps\\_weight\\\\\n",
       "\\hline\n",
       "\t 201220              & 125078              & 66690               & 0                   & 2106-04-27 08:47:50 & 2106-05-01 18:25:46 & 1                   & 62.67646            & 1                   & NA                  & ⋯                   & 1                   & 7.45                & 7.42                & 7.45                & 1                   & 1                   & 0                   & 1                   & 0.4544669           & 1.833069           \\\\\n",
       "\t 215842              & 151232              & 11663               & 0                   & 2188-02-14 08:48:15 & 2188-02-16 02:02:48 & 1                   & 86.76186            & 1                   & NA                  & ⋯                   & 0                   &   NA                &   NA                &   NA                & NA                  & 0                   & 0                   & 0                   & 0.1568838           & 1.186076           \\\\\n",
       "\t 234312              & 164444              & 86645               & 1                   & 2165-06-22 08:47:16 & 2165-07-07 20:55:20 & 1                   & 56.08904            & 1                   & NA                  & ⋯                   & 1                   & 7.49                & 7.49                & 7.49                & 1                   & 0                   & 0                   & 0                   & 0.3002571           & 1.429096           \\\\\n",
       "\t 289157              & 146726              & 10304               & 0                   & 2156-06-23 21:26:00 & 2156-06-30 16:26:00 & 1                   & 45.91093            & 1                   & 2156-06-25 07:00:00 & ⋯                   & 1                   & 7.44                & 7.44                & 7.44                & 1                   & 0                   & 1                   & 0                   & 0.6991412           & 1.430326           \\\\\n",
       "\t 211964              & 160170              & 94534               & 0                   & 2160-03-05 21:23:19 & 2160-03-07 05:48:41 & 1                   & 59.38693            & 1                   & NA                  & ⋯                   & 0                   &   NA                &   NA                &   NA                & NA                  & 0                   & 0                   & 0                   & 0.3432285           & 1.522600           \\\\\n",
       "\t 230173              & 112553              & 31544               & 0                   & 2140-01-31 03:39:25 & 2140-02-03 01:41:39 & 1                   & 91.50000            & 1                   & NA                  & ⋯                   & 0                   &   NA                &   NA                &   NA                & NA                  & 0                   & 0                   & 1                   & 0.2464983           & 1.327137           \\\\\n",
       "\\end{tabular}\n"
      ],
      "text/markdown": [
       "\n",
       "icustay_id | hadm_id | subject_id | first_careunit | intime | outtime | angus | age | icu_order | echo_time | ⋯ | lab_ph_flag | lab_ph_first | lab_ph_min | lab_ph_max | lab_ph_abnormal | sedative | echo_int | mort_28_day_int | ps | ps_weight | \n",
       "|---|---|---|---|---|---|\n",
       "| 201220              | 125078              | 66690               | 0                   | 2106-04-27 08:47:50 | 2106-05-01 18:25:46 | 1                   | 62.67646            | 1                   | NA                  | ⋯                   | 1                   | 7.45                | 7.42                | 7.45                | 1                   | 1                   | 0                   | 1                   | 0.4544669           | 1.833069            | \n",
       "| 215842              | 151232              | 11663               | 0                   | 2188-02-14 08:48:15 | 2188-02-16 02:02:48 | 1                   | 86.76186            | 1                   | NA                  | ⋯                   | 0                   |   NA                |   NA                |   NA                | NA                  | 0                   | 0                   | 0                   | 0.1568838           | 1.186076            | \n",
       "| 234312              | 164444              | 86645               | 1                   | 2165-06-22 08:47:16 | 2165-07-07 20:55:20 | 1                   | 56.08904            | 1                   | NA                  | ⋯                   | 1                   | 7.49                | 7.49                | 7.49                | 1                   | 0                   | 0                   | 0                   | 0.3002571           | 1.429096            | \n",
       "| 289157              | 146726              | 10304               | 0                   | 2156-06-23 21:26:00 | 2156-06-30 16:26:00 | 1                   | 45.91093            | 1                   | 2156-06-25 07:00:00 | ⋯                   | 1                   | 7.44                | 7.44                | 7.44                | 1                   | 0                   | 1                   | 0                   | 0.6991412           | 1.430326            | \n",
       "| 211964              | 160170              | 94534               | 0                   | 2160-03-05 21:23:19 | 2160-03-07 05:48:41 | 1                   | 59.38693            | 1                   | NA                  | ⋯                   | 0                   |   NA                |   NA                |   NA                | NA                  | 0                   | 0                   | 0                   | 0.3432285           | 1.522600            | \n",
       "| 230173              | 112553              | 31544               | 0                   | 2140-01-31 03:39:25 | 2140-02-03 01:41:39 | 1                   | 91.50000            | 1                   | NA                  | ⋯                   | 0                   |   NA                |   NA                |   NA                | NA                  | 0                   | 0                   | 1                   | 0.2464983           | 1.327137            | \n",
       "\n",
       "\n"
      ],
      "text/plain": [
       "  icustay_id hadm_id subject_id first_careunit intime             \n",
       "1 201220     125078  66690      0              2106-04-27 08:47:50\n",
       "2 215842     151232  11663      0              2188-02-14 08:48:15\n",
       "3 234312     164444  86645      1              2165-06-22 08:47:16\n",
       "4 289157     146726  10304      0              2156-06-23 21:26:00\n",
       "5 211964     160170  94534      0              2160-03-05 21:23:19\n",
       "6 230173     112553  31544      0              2140-01-31 03:39:25\n",
       "  outtime             angus age      icu_order echo_time           ⋯\n",
       "1 2106-05-01 18:25:46 1     62.67646 1         <NA>                ⋯\n",
       "2 2188-02-16 02:02:48 1     86.76186 1         <NA>                ⋯\n",
       "3 2165-07-07 20:55:20 1     56.08904 1         <NA>                ⋯\n",
       "4 2156-06-30 16:26:00 1     45.91093 1         2156-06-25 07:00:00 ⋯\n",
       "5 2160-03-07 05:48:41 1     59.38693 1         <NA>                ⋯\n",
       "6 2140-02-03 01:41:39 1     91.50000 1         <NA>                ⋯\n",
       "  lab_ph_flag lab_ph_first lab_ph_min lab_ph_max lab_ph_abnormal sedative\n",
       "1 1           7.45         7.42       7.45       1               1       \n",
       "2 0             NA           NA         NA       NA              0       \n",
       "3 1           7.49         7.49       7.49       1               0       \n",
       "4 1           7.44         7.44       7.44       1               0       \n",
       "5 0             NA           NA         NA       NA              0       \n",
       "6 0             NA           NA         NA       NA              0       \n",
       "  echo_int mort_28_day_int ps        ps_weight\n",
       "1 0        1               0.4544669 1.833069 \n",
       "2 0        0               0.1568838 1.186076 \n",
       "3 0        0               0.3002571 1.429096 \n",
       "4 1        0               0.6991412 1.430326 \n",
       "5 0        0               0.3432285 1.522600 \n",
       "6 0        1               0.2464983 1.327137 "
      ]
     },
     "metadata": {},
     "output_type": "display_data"
    }
   ],
   "source": [
    "full_data <- readRDS(file.path(data_dir, \"full_data_ps.rds\"))\n",
    "head(full_data)"
   ]
  },
  {
   "cell_type": "code",
   "execution_count": 4,
   "metadata": {},
   "outputs": [
    {
     "data": {
      "text/html": [
       "<table>\n",
       "<thead><tr><th scope=col>p_val</th><th scope=col>wtd_p_val</th><th scope=col>main_0</th><th scope=col>main_1</th><th scope=col>sub_0</th><th scope=col>sub_1</th><th scope=col>wtd_main_0</th><th scope=col>wtd_main_1</th><th scope=col>wtd_sub_0</th><th scope=col>wtd_sub_1</th><th scope=col>var</th></tr></thead>\n",
       "<tbody>\n",
       "\t<tr><td>4.472893e-02</td><td>0.06372199  </td><td>66.689241   </td><td>65.824051   </td><td>17.207039   </td><td>16.620088   </td><td>66.847503   </td><td>66.057657   </td><td>16.794715   </td><td>16.639186   </td><td>age         </td></tr>\n",
       "\t<tr><td>1.416420e-02</td><td>0.34952619  </td><td>50.822846   </td><td>47.665687   </td><td>       NA   </td><td>       NA   </td><td>49.390860   </td><td>48.199442   </td><td>       NA   </td><td>       NA   </td><td>female      </td></tr>\n",
       "\t<tr><td>6.415559e-11</td><td>0.12782063  </td><td>78.562949   </td><td>82.979049   </td><td>23.579777   </td><td>26.702495   </td><td>80.238931   </td><td>81.250426   </td><td>24.310882   </td><td>25.255760   </td><td>weight      </td></tr>\n",
       "\t<tr><td>1.705518e-15</td><td>0.07885866  </td><td> 8.505970   </td><td>10.045054   </td><td> 7.451124   </td><td> 7.681609   </td><td> 9.098576   </td><td> 9.438641   </td><td> 7.547186   </td><td> 7.639513   </td><td>elix_score  </td></tr>\n",
       "\t<tr><td>1.378591e-15</td><td>0.12030359  </td><td>19.632462   </td><td>20.778975   </td><td> 5.788347   </td><td> 5.446293   </td><td>20.013436   </td><td>20.232637   </td><td> 5.650021   </td><td> 5.423473   </td><td>saps        </td></tr>\n",
       "\t<tr><td>7.217556e-27</td><td>0.03089029  </td><td> 5.304937   </td><td> 6.323865   </td><td> 3.618100   </td><td> 3.796365   </td><td> 5.659572   </td><td> 5.861969   </td><td> 3.662696   </td><td> 3.695840   </td><td>sofa        </td></tr>\n",
       "</tbody>\n",
       "</table>\n"
      ],
      "text/latex": [
       "\\begin{tabular}{r|lllllllllll}\n",
       " p\\_val & wtd\\_p\\_val & main\\_0 & main\\_1 & sub\\_0 & sub\\_1 & wtd\\_main\\_0 & wtd\\_main\\_1 & wtd\\_sub\\_0 & wtd\\_sub\\_1 & var\\\\\n",
       "\\hline\n",
       "\t 4.472893e-02 & 0.06372199   & 66.689241    & 65.824051    & 17.207039    & 16.620088    & 66.847503    & 66.057657    & 16.794715    & 16.639186    & age         \\\\\n",
       "\t 1.416420e-02 & 0.34952619   & 50.822846    & 47.665687    &        NA    &        NA    & 49.390860    & 48.199442    &        NA    &        NA    & female      \\\\\n",
       "\t 6.415559e-11 & 0.12782063   & 78.562949    & 82.979049    & 23.579777    & 26.702495    & 80.238931    & 81.250426    & 24.310882    & 25.255760    & weight      \\\\\n",
       "\t 1.705518e-15 & 0.07885866   &  8.505970    & 10.045054    &  7.451124    &  7.681609    &  9.098576    &  9.438641    &  7.547186    &  7.639513    & elix\\_score\\\\\n",
       "\t 1.378591e-15 & 0.12030359   & 19.632462    & 20.778975    &  5.788347    &  5.446293    & 20.013436    & 20.232637    &  5.650021    &  5.423473    & saps        \\\\\n",
       "\t 7.217556e-27 & 0.03089029   &  5.304937    &  6.323865    &  3.618100    &  3.796365    &  5.659572    &  5.861969    &  3.662696    &  3.695840    & sofa        \\\\\n",
       "\\end{tabular}\n"
      ],
      "text/markdown": [
       "\n",
       "p_val | wtd_p_val | main_0 | main_1 | sub_0 | sub_1 | wtd_main_0 | wtd_main_1 | wtd_sub_0 | wtd_sub_1 | var | \n",
       "|---|---|---|---|---|---|\n",
       "| 4.472893e-02 | 0.06372199   | 66.689241    | 65.824051    | 17.207039    | 16.620088    | 66.847503    | 66.057657    | 16.794715    | 16.639186    | age          | \n",
       "| 1.416420e-02 | 0.34952619   | 50.822846    | 47.665687    |        NA    |        NA    | 49.390860    | 48.199442    |        NA    |        NA    | female       | \n",
       "| 6.415559e-11 | 0.12782063   | 78.562949    | 82.979049    | 23.579777    | 26.702495    | 80.238931    | 81.250426    | 24.310882    | 25.255760    | weight       | \n",
       "| 1.705518e-15 | 0.07885866   |  8.505970    | 10.045054    |  7.451124    |  7.681609    |  9.098576    |  9.438641    |  7.547186    |  7.639513    | elix_score   | \n",
       "| 1.378591e-15 | 0.12030359   | 19.632462    | 20.778975    |  5.788347    |  5.446293    | 20.013436    | 20.232637    |  5.650021    |  5.423473    | saps         | \n",
       "| 7.217556e-27 | 0.03089029   |  5.304937    |  6.323865    |  3.618100    |  3.796365    |  5.659572    |  5.861969    |  3.662696    |  3.695840    | sofa         | \n",
       "\n",
       "\n"
      ],
      "text/plain": [
       "  p_val        wtd_p_val  main_0    main_1    sub_0     sub_1     wtd_main_0\n",
       "1 4.472893e-02 0.06372199 66.689241 65.824051 17.207039 16.620088 66.847503 \n",
       "2 1.416420e-02 0.34952619 50.822846 47.665687        NA        NA 49.390860 \n",
       "3 6.415559e-11 0.12782063 78.562949 82.979049 23.579777 26.702495 80.238931 \n",
       "4 1.705518e-15 0.07885866  8.505970 10.045054  7.451124  7.681609  9.098576 \n",
       "5 1.378591e-15 0.12030359 19.632462 20.778975  5.788347  5.446293 20.013436 \n",
       "6 7.217556e-27 0.03089029  5.304937  6.323865  3.618100  3.796365  5.659572 \n",
       "  wtd_main_1 wtd_sub_0 wtd_sub_1 var       \n",
       "1 66.057657  16.794715 16.639186 age       \n",
       "2 48.199442         NA        NA female    \n",
       "3 81.250426  24.310882 25.255760 weight    \n",
       "4  9.438641   7.547186  7.639513 elix_score\n",
       "5 20.232637   5.650021  5.423473 saps      \n",
       "6  5.861969   3.662696  3.695840 sofa      "
      ]
     },
     "metadata": {},
     "output_type": "display_data"
    }
   ],
   "source": [
    "table_one <- data.table::fread(file.path(data_dir, \"tableone_raw.csv\"), data.table = FALSE)\n",
    "head(table_one)"
   ]
  },
  {
   "cell_type": "code",
   "execution_count": 5,
   "metadata": {},
   "outputs": [
    {
     "data": {
      "text/html": [
       "<ol class=list-inline>\n",
       "\t<li>'sofa'</li>\n",
       "\t<li>'vent'</li>\n",
       "\t<li>'vaso'</li>\n",
       "\t<li>'sedative'</li>\n",
       "\t<li>'icd_chf'</li>\n",
       "\t<li>'icd_afib'</li>\n",
       "\t<li>'lab_chloride_first'</li>\n",
       "\t<li>'lab_bnp_flag'</li>\n",
       "\t<li>'lab_troponin_flag'</li>\n",
       "\t<li>'lab_creatinine_kinase_flag'</li>\n",
       "</ol>\n"
      ],
      "text/latex": [
       "\\begin{enumerate*}\n",
       "\\item 'sofa'\n",
       "\\item 'vent'\n",
       "\\item 'vaso'\n",
       "\\item 'sedative'\n",
       "\\item 'icd\\_chf'\n",
       "\\item 'icd\\_afib'\n",
       "\\item 'lab\\_chloride\\_first'\n",
       "\\item 'lab\\_bnp\\_flag'\n",
       "\\item 'lab\\_troponin\\_flag'\n",
       "\\item 'lab\\_creatinine\\_kinase\\_flag'\n",
       "\\end{enumerate*}\n"
      ],
      "text/markdown": [
       "1. 'sofa'\n",
       "2. 'vent'\n",
       "3. 'vaso'\n",
       "4. 'sedative'\n",
       "5. 'icd_chf'\n",
       "6. 'icd_afib'\n",
       "7. 'lab_chloride_first'\n",
       "8. 'lab_bnp_flag'\n",
       "9. 'lab_troponin_flag'\n",
       "10. 'lab_creatinine_kinase_flag'\n",
       "\n",
       "\n"
      ],
      "text/plain": [
       " [1] \"sofa\"                       \"vent\"                      \n",
       " [3] \"vaso\"                       \"sedative\"                  \n",
       " [5] \"icd_chf\"                    \"icd_afib\"                  \n",
       " [7] \"lab_chloride_first\"         \"lab_bnp_flag\"              \n",
       " [9] \"lab_troponin_flag\"          \"lab_creatinine_kinase_flag\""
      ]
     },
     "metadata": {},
     "output_type": "display_data"
    }
   ],
   "source": [
    "wpv <- table_one %>%\n",
    "    filter(wtd_p_val < 0.05) %>%\n",
    "    pull(var) %>%\n",
    "    gsub(\"female\", \"gender\", .)\n",
    "\n",
    "if (length(grep(\"day\", wpv)) > 0) wpv <- wpv %>% discard(grepl(\"day\", .)) %>% c(., \"icu_adm_weekday\")\n",
    "\n",
    "wpv"
   ]
  },
  {
   "cell_type": "code",
   "execution_count": 6,
   "metadata": {},
   "outputs": [],
   "source": [
    "design_echo_ps_ate <- svydesign(ids = ~ icustay_id, weights = ~ ps_weight, data = full_data)"
   ]
  },
  {
   "cell_type": "code",
   "execution_count": 7,
   "metadata": {},
   "outputs": [
    {
     "data": {
      "text/html": [
       "'mort_28_day ~ echo + sofa + vent + vaso + sedative + icd_chf + icd_afib + lab_chloride_first + lab_bnp_flag + lab_troponin_flag + lab_creatinine_kinase_flag'"
      ],
      "text/latex": [
       "'mort\\_28\\_day \\textasciitilde{} echo + sofa + vent + vaso + sedative + icd\\_chf + icd\\_afib + lab\\_chloride\\_first + lab\\_bnp\\_flag + lab\\_troponin\\_flag + lab\\_creatinine\\_kinase\\_flag'"
      ],
      "text/markdown": [
       "'mort_28_day ~ echo + sofa + vent + vaso + sedative + icd_chf + icd_afib + lab_chloride_first + lab_bnp_flag + lab_troponin_flag + lab_creatinine_kinase_flag'"
      ],
      "text/plain": [
       "[1] \"mort_28_day ~ echo + sofa + vent + vaso + sedative + icd_chf + icd_afib + lab_chloride_first + lab_bnp_flag + lab_troponin_flag + lab_creatinine_kinase_flag\""
      ]
     },
     "metadata": {},
     "output_type": "display_data"
    }
   ],
   "source": [
    "fml <- wpv %>%\n",
    "c(\"echo\", .) %>%\n",
    "paste(collapse = \" + \") %>%\n",
    "sprintf(\"mort_28_day ~ %s\", .)\n",
    "\n",
    "fml"
   ]
  },
  {
   "cell_type": "code",
   "execution_count": 8,
   "metadata": {},
   "outputs": [],
   "source": [
    "logi <- svyglm(as.formula(fml), family = quasibinomial, design = design_echo_ps_ate)"
   ]
  },
  {
   "cell_type": "code",
   "execution_count": 9,
   "metadata": {},
   "outputs": [
    {
     "data": {
      "text/plain": [
       "\n",
       "Call:\n",
       "svyglm(formula = as.formula(fml), family = quasibinomial, design = design_echo_ps_ate)\n",
       "\n",
       "Survey design:\n",
       "svydesign(ids = ~icustay_id, weights = ~ps_weight, data = full_data)\n",
       "\n",
       "Coefficients:\n",
       "                             Estimate Std. Error t value Pr(>|t|)    \n",
       "(Intercept)                 -1.500261   0.494480  -3.034 0.002424 ** \n",
       "echo1                       -0.254347   0.071399  -3.562 0.000370 ***\n",
       "sofa                         0.199117   0.011091  17.953  < 2e-16 ***\n",
       "vent1                        0.403891   0.107968   3.741 0.000185 ***\n",
       "vaso1                        0.049657   0.082304   0.603 0.546307    \n",
       "sedative1                   -0.476685   0.107543  -4.433 9.48e-06 ***\n",
       "icd_chf1                     0.057116   0.080732   0.707 0.479295    \n",
       "icd_afib1                    0.344921   0.079118   4.360 1.32e-05 ***\n",
       "lab_chloride_first          -0.007504   0.004610  -1.628 0.103610    \n",
       "lab_bnp_flag1                0.022356   0.204183   0.109 0.912818    \n",
       "lab_troponin_flag1           0.412310   0.099858   4.129 3.69e-05 ***\n",
       "lab_creatinine_kinase_flag1 -0.218018   0.094339  -2.311 0.020867 *  \n",
       "---\n",
       "Signif. codes:  0 ‘***’ 0.001 ‘**’ 0.01 ‘*’ 0.05 ‘.’ 0.1 ‘ ’ 1\n",
       "\n",
       "(Dispersion parameter for quasibinomial family taken to be 1.017479)\n",
       "\n",
       "Number of Fisher Scoring iterations: 4\n"
      ]
     },
     "metadata": {},
     "output_type": "display_data"
    }
   ],
   "source": [
    "summary(logi)"
   ]
  },
  {
   "cell_type": "code",
   "execution_count": 10,
   "metadata": {},
   "outputs": [
    {
     "data": {
      "text/html": [
       "<table>\n",
       "<thead><tr><th></th><th scope=col>OR</th><th scope=col>2.5 %</th><th scope=col>97.5 %</th></tr></thead>\n",
       "<tbody>\n",
       "\t<tr><th scope=row>(Intercept)</th><td>0.2230720 </td><td>0.08463357</td><td>0.5879593 </td></tr>\n",
       "\t<tr><th scope=row>echo1</th><td>0.7754224 </td><td>0.67416127</td><td>0.8918934 </td></tr>\n",
       "\t<tr><th scope=row>sofa</th><td>1.2203253 </td><td>1.19408457</td><td>1.2471427 </td></tr>\n",
       "\t<tr><th scope=row>vent1</th><td>1.4976412 </td><td>1.21200753</td><td>1.8505900 </td></tr>\n",
       "\t<tr><th scope=row>vaso1</th><td>1.0509105 </td><td>0.89435227</td><td>1.2348747 </td></tr>\n",
       "\t<tr><th scope=row>sedative1</th><td>0.6208378 </td><td>0.50284857</td><td>0.7665121 </td></tr>\n",
       "\t<tr><th scope=row>icd_chf1</th><td>1.0587788 </td><td>0.90382905</td><td>1.2402927 </td></tr>\n",
       "\t<tr><th scope=row>icd_afib1</th><td>1.4118788 </td><td>1.20907262</td><td>1.6487031 </td></tr>\n",
       "\t<tr><th scope=row>lab_chloride_first</th><td>0.9925245 </td><td>0.98359783</td><td>1.0015321 </td></tr>\n",
       "\t<tr><th scope=row>lab_bnp_flag1</th><td>1.0226076 </td><td>0.68534383</td><td>1.5258419 </td></tr>\n",
       "\t<tr><th scope=row>lab_troponin_flag1</th><td>1.5103019 </td><td>1.24183644</td><td>1.8368054 </td></tr>\n",
       "\t<tr><th scope=row>lab_creatinine_kinase_flag1</th><td>0.8041107 </td><td>0.66836550</td><td>0.9674258 </td></tr>\n",
       "</tbody>\n",
       "</table>\n"
      ],
      "text/latex": [
       "\\begin{tabular}{r|lll}\n",
       "  & OR & 2.5 \\% & 97.5 \\%\\\\\n",
       "\\hline\n",
       "\t(Intercept) & 0.2230720  & 0.08463357 & 0.5879593 \\\\\n",
       "\techo1 & 0.7754224  & 0.67416127 & 0.8918934 \\\\\n",
       "\tsofa & 1.2203253  & 1.19408457 & 1.2471427 \\\\\n",
       "\tvent1 & 1.4976412  & 1.21200753 & 1.8505900 \\\\\n",
       "\tvaso1 & 1.0509105  & 0.89435227 & 1.2348747 \\\\\n",
       "\tsedative1 & 0.6208378  & 0.50284857 & 0.7665121 \\\\\n",
       "\ticd\\_chf1 & 1.0587788  & 0.90382905 & 1.2402927 \\\\\n",
       "\ticd\\_afib1 & 1.4118788  & 1.20907262 & 1.6487031 \\\\\n",
       "\tlab\\_chloride\\_first & 0.9925245  & 0.98359783 & 1.0015321 \\\\\n",
       "\tlab\\_bnp\\_flag1 & 1.0226076  & 0.68534383 & 1.5258419 \\\\\n",
       "\tlab\\_troponin\\_flag1 & 1.5103019  & 1.24183644 & 1.8368054 \\\\\n",
       "\tlab\\_creatinine\\_kinase\\_flag1 & 0.8041107  & 0.66836550 & 0.9674258 \\\\\n",
       "\\end{tabular}\n"
      ],
      "text/markdown": [
       "\n",
       "| <!--/--> | OR | 2.5 % | 97.5 % | \n",
       "|---|---|---|---|---|---|---|---|---|---|---|---|\n",
       "| (Intercept) | 0.2230720  | 0.08463357 | 0.5879593  | \n",
       "| echo1 | 0.7754224  | 0.67416127 | 0.8918934  | \n",
       "| sofa | 1.2203253  | 1.19408457 | 1.2471427  | \n",
       "| vent1 | 1.4976412  | 1.21200753 | 1.8505900  | \n",
       "| vaso1 | 1.0509105  | 0.89435227 | 1.2348747  | \n",
       "| sedative1 | 0.6208378  | 0.50284857 | 0.7665121  | \n",
       "| icd_chf1 | 1.0587788  | 0.90382905 | 1.2402927  | \n",
       "| icd_afib1 | 1.4118788  | 1.20907262 | 1.6487031  | \n",
       "| lab_chloride_first | 0.9925245  | 0.98359783 | 1.0015321  | \n",
       "| lab_bnp_flag1 | 1.0226076  | 0.68534383 | 1.5258419  | \n",
       "| lab_troponin_flag1 | 1.5103019  | 1.24183644 | 1.8368054  | \n",
       "| lab_creatinine_kinase_flag1 | 0.8041107  | 0.66836550 | 0.9674258  | \n",
       "\n",
       "\n"
      ],
      "text/plain": [
       "                            OR        2.5 %      97.5 %   \n",
       "(Intercept)                 0.2230720 0.08463357 0.5879593\n",
       "echo1                       0.7754224 0.67416127 0.8918934\n",
       "sofa                        1.2203253 1.19408457 1.2471427\n",
       "vent1                       1.4976412 1.21200753 1.8505900\n",
       "vaso1                       1.0509105 0.89435227 1.2348747\n",
       "sedative1                   0.6208378 0.50284857 0.7665121\n",
       "icd_chf1                    1.0587788 0.90382905 1.2402927\n",
       "icd_afib1                   1.4118788 1.20907262 1.6487031\n",
       "lab_chloride_first          0.9925245 0.98359783 1.0015321\n",
       "lab_bnp_flag1               1.0226076 0.68534383 1.5258419\n",
       "lab_troponin_flag1          1.5103019 1.24183644 1.8368054\n",
       "lab_creatinine_kinase_flag1 0.8041107 0.66836550 0.9674258"
      ]
     },
     "metadata": {},
     "output_type": "display_data"
    }
   ],
   "source": [
    "exp(cbind(OR = coef(logi), confint(logi)))"
   ]
  }
 ],
 "metadata": {
  "kernelspec": {
   "display_name": "R",
   "language": "R",
   "name": "ir"
  },
  "language_info": {
   "codemirror_mode": "r",
   "file_extension": ".r",
   "mimetype": "text/x-r-source",
   "name": "R",
   "pygments_lexer": "r",
   "version": "3.4.3"
  },
  "varInspector": {
   "cols": {
    "lenName": 16,
    "lenType": 16,
    "lenVar": 40
   },
   "kernels_config": {
    "python": {
     "delete_cmd_postfix": "",
     "delete_cmd_prefix": "del ",
     "library": "var_list.py",
     "varRefreshCmd": "print(var_dic_list())"
    },
    "r": {
     "delete_cmd_postfix": ") ",
     "delete_cmd_prefix": "rm(",
     "library": "var_list.r",
     "varRefreshCmd": "cat(var_dic_list()) "
    }
   },
   "types_to_exclude": [
    "module",
    "function",
    "builtin_function_or_method",
    "instance",
    "_Feature"
   ],
   "window_display": false
  }
 },
 "nbformat": 4,
 "nbformat_minor": 2
}
