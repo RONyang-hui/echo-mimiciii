{
 "cells": [
  {
   "cell_type": "code",
   "execution_count": 1,
   "metadata": {},
   "outputs": [
    {
     "name": "stderr",
     "output_type": "stream",
     "text": [
      "── Attaching packages ─────────────────────────────────────── tidyverse 1.2.1 ──\n",
      "✔ ggplot2 2.2.1     ✔ purrr   0.2.4\n",
      "✔ tibble  1.4.2     ✔ dplyr   0.7.4\n",
      "✔ tidyr   0.8.0     ✔ stringr 1.2.0\n",
      "✔ readr   1.1.1     ✔ forcats 0.2.0\n",
      "── Conflicts ────────────────────────────────────────── tidyverse_conflicts() ──\n",
      "✖ dplyr::filter() masks stats::filter()\n",
      "✖ dplyr::lag()    masks stats::lag()\n",
      "Loading required package: DBI\n"
     ]
    }
   ],
   "source": [
    "library(tidyverse)\n",
    "library(RPostgreSQL)"
   ]
  },
  {
   "cell_type": "code",
   "execution_count": 2,
   "metadata": {},
   "outputs": [],
   "source": [
    "source(\"utils.R\")"
   ]
  },
  {
   "cell_type": "code",
   "execution_count": 3,
   "metadata": {},
   "outputs": [],
   "source": [
    "sql_dir <- file.path(\"..\", \"sql\")"
   ]
  },
  {
   "cell_type": "code",
   "execution_count": 4,
   "metadata": {},
   "outputs": [
    {
     "data": {
      "text/plain": [
       "<PostgreSQLResult>"
      ]
     },
     "metadata": {},
     "output_type": "display_data"
    }
   ],
   "source": [
    "drv <- dbDriver(\"PostgreSQL\")\n",
    "con <- dbConnect(drv, dbname = \"mimic\")\n",
    "dbSendQuery(con, \"set search_path=echo,public,mimiciii;\")"
   ]
  },
  {
   "cell_type": "code",
   "execution_count": 5,
   "metadata": {},
   "outputs": [
    {
     "name": "stdout",
     "output_type": "stream",
     "text": [
      "-- Generate view population --\n"
     ]
    },
    {
     "data": {
      "text/plain": [
       "<PostgreSQLResult>"
      ]
     },
     "metadata": {},
     "output_type": "display_data"
    }
   ],
   "source": [
    "cat(\"-- Generate view population --\\n\")\n",
    "\n",
    "sql <- file_to_sql_view(file.path(sql_dir, \"population.sql\"),\n",
    "                        \"population\", \"view\")\n",
    "dbSendQuery(con, sql)"
   ]
  },
  {
   "cell_type": "code",
   "execution_count": 6,
   "metadata": {},
   "outputs": [
    {
     "name": "stdout",
     "output_type": "stream",
     "text": [
      "-- Generate materialized view cohort --\n",
      "-- Generate materialized view basics --\n",
      "-- Generate materialized view icd9 --\n",
      "-- Generate materialized view drugs --\n",
      "-- Generate materialized view lab_tests --\n",
      "-- Generate materialized view vital_signs --\n"
     ]
    }
   ],
   "source": [
    "c(\"cohort\", \"basics\", \"icd9\", \"drugs\", \"lab_tests\", \"vital_signs\") %>%\n",
    "walk(function(x) {\n",
    "    cat(sprintf(\"-- Generate materialized view %s --\\n\", x))\n",
    "    \n",
    "    x %>%\n",
    "    file_to_sql_view(file.path(sql_dir, paste0(., \".sql\")), .) %>%\n",
    "    dbSendQuery(con, .)\n",
    "})"
   ]
  },
  {
   "cell_type": "code",
   "execution_count": 7,
   "metadata": {},
   "outputs": [
    {
     "data": {
      "text/html": [
       "<ol class=list-inline>\n",
       "\t<li>'heart_rate'</li>\n",
       "\t<li>'cvp'</li>\n",
       "\t<li>'map'</li>\n",
       "\t<li>'temp'</li>\n",
       "</ol>\n"
      ],
      "text/latex": [
       "\\begin{enumerate*}\n",
       "\\item 'heart\\_rate'\n",
       "\\item 'cvp'\n",
       "\\item 'map'\n",
       "\\item 'temp'\n",
       "\\end{enumerate*}\n"
      ],
      "text/markdown": [
       "1. 'heart_rate'\n",
       "2. 'cvp'\n",
       "3. 'map'\n",
       "4. 'temp'\n",
       "\n",
       "\n"
      ],
      "text/plain": [
       "[1] \"heart_rate\" \"cvp\"        \"map\"        \"temp\"      "
      ]
     },
     "metadata": {},
     "output_type": "display_data"
    }
   ],
   "source": [
    "vs <- \"select distinct(label) from vital_signs\" %>%\n",
    "    dbGetQuery(con, .) %>%\n",
    "    pull(label)\n",
    "vs"
   ]
  },
  {
   "cell_type": "code",
   "execution_count": 8,
   "metadata": {},
   "outputs": [],
   "source": [
    "sql_template <- \"\n",
    "with summary as (\n",
    "    select distinct icustay_id, label\n",
    "    , first_value(valuenum) over (partition by icustay_id, label order by charttime) as fst_val\n",
    "    , first_value(valuenum) over (partition by icustay_id, label order by valuenum) as min_val\n",
    "    , first_value(valuenum) over (partition by icustay_id, label order by valuenum desc) as max_val\n",
    "    from vital_signs\n",
    ")\n",
    "\n",
    "select icustay_id\n",
    ", %s\n",
    "from summary\n",
    "group by icustay_id\n",
    "\""
   ]
  },
  {
   "cell_type": "code",
   "execution_count": 9,
   "metadata": {},
   "outputs": [],
   "source": [
    "sql <- c(\"max(case when label = '%1$s' then 1 else 0 end) as vs_%1$s_flag\",\n",
    "         \"max(case when label = '%1$s' then fst_val else null end) as vs_%1$s_first\",\n",
    "         \"max(case when label = '%1$s' then min_val else null end) as vs_%1$s_min\",\n",
    "         \"max(case when label = '%1$s' then max_val else null end) as vs_%1$s_max\") %>%\n",
    "paste(collapse = \"\\n, \") %>%\n",
    "sprintf(vs) %>%\n",
    "paste(collapse = \"\\n, \") %>%\n",
    "sprintf(sql_template, .)\n",
    "cat(sql, file = file.path(sql_dir, \"vital_signs_unpivot.sql\"))"
   ]
  },
  {
   "cell_type": "code",
   "execution_count": 10,
   "metadata": {},
   "outputs": [
    {
     "data": {
      "text/html": [
       "<ol class=list-inline>\n",
       "\t<li>'hemoglobin'</li>\n",
       "\t<li>'platelet'</li>\n",
       "\t<li>'creatinine_kinase'</li>\n",
       "\t<li>'wbc'</li>\n",
       "\t<li>'ph'</li>\n",
       "\t<li>'chloride'</li>\n",
       "\t<li>'sodium'</li>\n",
       "\t<li>'bun'</li>\n",
       "\t<li>'bicarbonate'</li>\n",
       "\t<li>'bnp'</li>\n",
       "\t<li>'pco2'</li>\n",
       "\t<li>'creatinine'</li>\n",
       "\t<li>'potassium'</li>\n",
       "\t<li>'troponin'</li>\n",
       "\t<li>'po2'</li>\n",
       "\t<li>'lactate'</li>\n",
       "</ol>\n"
      ],
      "text/latex": [
       "\\begin{enumerate*}\n",
       "\\item 'hemoglobin'\n",
       "\\item 'platelet'\n",
       "\\item 'creatinine\\_kinase'\n",
       "\\item 'wbc'\n",
       "\\item 'ph'\n",
       "\\item 'chloride'\n",
       "\\item 'sodium'\n",
       "\\item 'bun'\n",
       "\\item 'bicarbonate'\n",
       "\\item 'bnp'\n",
       "\\item 'pco2'\n",
       "\\item 'creatinine'\n",
       "\\item 'potassium'\n",
       "\\item 'troponin'\n",
       "\\item 'po2'\n",
       "\\item 'lactate'\n",
       "\\end{enumerate*}\n"
      ],
      "text/markdown": [
       "1. 'hemoglobin'\n",
       "2. 'platelet'\n",
       "3. 'creatinine_kinase'\n",
       "4. 'wbc'\n",
       "5. 'ph'\n",
       "6. 'chloride'\n",
       "7. 'sodium'\n",
       "8. 'bun'\n",
       "9. 'bicarbonate'\n",
       "10. 'bnp'\n",
       "11. 'pco2'\n",
       "12. 'creatinine'\n",
       "13. 'potassium'\n",
       "14. 'troponin'\n",
       "15. 'po2'\n",
       "16. 'lactate'\n",
       "\n",
       "\n"
      ],
      "text/plain": [
       " [1] \"hemoglobin\"        \"platelet\"          \"creatinine_kinase\"\n",
       " [4] \"wbc\"               \"ph\"                \"chloride\"         \n",
       " [7] \"sodium\"            \"bun\"               \"bicarbonate\"      \n",
       "[10] \"bnp\"               \"pco2\"              \"creatinine\"       \n",
       "[13] \"potassium\"         \"troponin\"          \"po2\"              \n",
       "[16] \"lactate\"          "
      ]
     },
     "metadata": {},
     "output_type": "display_data"
    }
   ],
   "source": [
    "labs <- \"select distinct(label) from lab_tests\" %>%\n",
    "    dbGetQuery(con, .) %>%\n",
    "    pull(label)\n",
    "labs"
   ]
  },
  {
   "cell_type": "code",
   "execution_count": 11,
   "metadata": {},
   "outputs": [],
   "source": [
    "sql_template <- \"\n",
    "with lab_summary as (\n",
    "    select distinct hadm_id, label\n",
    "    , first_value(valuenum) over (partition by hadm_id, label order by charttime) as fst_val\n",
    "    , first_value(valuenum) over (partition by hadm_id, label order by valuenum) as min_val\n",
    "    , first_value(valuenum) over (partition by hadm_id, label order by valuenum desc) as max_val\n",
    "    , first_value(abnormal) over (partition by hadm_id, label order by abnormal desc) as abnormal\n",
    "    from lab_tests\n",
    ")\n",
    "\n",
    "select hadm_id\n",
    ", %s\n",
    "from lab_summary\n",
    "group by hadm_id\n",
    "\""
   ]
  },
  {
   "cell_type": "code",
   "execution_count": 12,
   "metadata": {},
   "outputs": [],
   "source": [
    "sql <- c(\"max(case when label = '%1$s' then 1 else 0 end) as lab_%1$s_flag\",\n",
    "         \"max(case when label = '%1$s' then fst_val else null end) as lab_%1$s_first\",\n",
    "         \"max(case when label = '%1$s' then min_val else null end) as lab_%1$s_min\",\n",
    "         \"max(case when label = '%1$s' then max_val else null end) as lab_%1$s_max\",\n",
    "         \"max(case when label = '%1$s' then abnormal else null end) as lab_%1$s_abnormal\") %>%\n",
    "paste(collapse = \"\\n, \") %>%\n",
    "sprintf(labs) %>%\n",
    "paste(collapse = \"\\n, \") %>%\n",
    "sprintf(sql_template, .)\n",
    "cat(sql, file = file.path(sql_dir, \"lab_unpivot.sql\"))"
   ]
  },
  {
   "cell_type": "code",
   "execution_count": 13,
   "metadata": {},
   "outputs": [
    {
     "name": "stdout",
     "output_type": "stream",
     "text": [
      "-- Generate materialized view vital_signs_unpivot --\n",
      "-- Generate materialized view lab_unpivot --\n"
     ]
    }
   ],
   "source": [
    "c(\"vital_signs\", \"lab\") %>%\n",
    "walk(function(x) {\n",
    "    cat(sprintf(\"-- Generate materialized view %s_unpivot --\\n\", x))\n",
    "    \n",
    "    x %>%\n",
    "    { file_to_sql_view(file.path(sql_dir, sprintf(\"%s_unpivot.sql\", .)),\n",
    "                       sprintf(\"%s_unpivot\", .)) } %>%\n",
    "    dbSendQuery(con, .)\n",
    "})"
   ]
  },
  {
   "cell_type": "code",
   "execution_count": 14,
   "metadata": {},
   "outputs": [
    {
     "name": "stdout",
     "output_type": "stream",
     "text": [
      "-- Generate materialized view merged_data --\n"
     ]
    },
    {
     "data": {
      "text/plain": [
       "<PostgreSQLResult>"
      ]
     },
     "metadata": {},
     "output_type": "display_data"
    }
   ],
   "source": [
    "cat(\"-- Generate materialized view merged_data --\\n\")\n",
    "\n",
    "sql <- file_to_sql_view(file.path(sql_dir, \"merge_data.sql\"),\n",
    "                        \"merged_data\")\n",
    "dbSendQuery(con, sql)"
   ]
  },
  {
   "cell_type": "code",
   "execution_count": 15,
   "metadata": {},
   "outputs": [
    {
     "data": {
      "text/html": [
       "TRUE"
      ],
      "text/latex": [
       "TRUE"
      ],
      "text/markdown": [
       "TRUE"
      ],
      "text/plain": [
       "[1] TRUE"
      ]
     },
     "metadata": {},
     "output_type": "display_data"
    },
    {
     "data": {
      "text/html": [
       "TRUE"
      ],
      "text/latex": [
       "TRUE"
      ],
      "text/markdown": [
       "TRUE"
      ],
      "text/plain": [
       "[1] TRUE"
      ]
     },
     "metadata": {},
     "output_type": "display_data"
    }
   ],
   "source": [
    "dbDisconnect(con)\n",
    "dbUnloadDriver(drv)"
   ]
  }
 ],
 "metadata": {
  "kernelspec": {
   "display_name": "R",
   "language": "R",
   "name": "ir"
  },
  "language_info": {
   "codemirror_mode": "r",
   "file_extension": ".r",
   "mimetype": "text/x-r-source",
   "name": "R",
   "pygments_lexer": "r",
   "version": "3.4.3"
  },
  "varInspector": {
   "cols": {
    "lenName": 16,
    "lenType": 16,
    "lenVar": 40
   },
   "kernels_config": {
    "python": {
     "delete_cmd_postfix": "",
     "delete_cmd_prefix": "del ",
     "library": "var_list.py",
     "varRefreshCmd": "print(var_dic_list())"
    },
    "r": {
     "delete_cmd_postfix": ") ",
     "delete_cmd_prefix": "rm(",
     "library": "var_list.r",
     "varRefreshCmd": "cat(var_dic_list()) "
    }
   },
   "types_to_exclude": [
    "module",
    "function",
    "builtin_function_or_method",
    "instance",
    "_Feature"
   ],
   "window_display": false
  }
 },
 "nbformat": 4,
 "nbformat_minor": 2
}
