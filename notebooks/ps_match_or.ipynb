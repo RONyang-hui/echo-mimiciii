{
 "cells": [
  {
   "cell_type": "code",
   "execution_count": 1,
   "metadata": {},
   "outputs": [
    {
     "name": "stderr",
     "output_type": "stream",
     "text": [
      "Loading required package: MASS\n",
      "## \n",
      "##  Matching (Version 4.9-2, Build Date: 2015-12-25)\n",
      "##  See http://sekhon.berkeley.edu/matching for additional documentation.\n",
      "##  Please cite software as:\n",
      "##   Jasjeet S. Sekhon. 2011. ``Multivariate and Propensity Score Matching\n",
      "##   Software with Automated Balance Optimization: The Matching package for R.''\n",
      "##   Journal of Statistical Software, 42(7): 1-52. \n",
      "##\n",
      "\n",
      "── Attaching packages ─────────────────────────────────────── tidyverse 1.2.1 ──\n",
      "✔ ggplot2 2.2.1     ✔ purrr   0.2.4\n",
      "✔ tibble  1.4.1     ✔ dplyr   0.7.4\n",
      "✔ tidyr   0.7.2     ✔ stringr 1.2.0\n",
      "✔ readr   1.1.1     ✔ forcats 0.2.0\n",
      "── Conflicts ────────────────────────────────────────── tidyverse_conflicts() ──\n",
      "✖ dplyr::filter() masks stats::filter()\n",
      "✖ dplyr::lag()    masks stats::lag()\n",
      "✖ dplyr::select() masks MASS::select()\n"
     ]
    }
   ],
   "source": [
    "library(Matching)\n",
    "library(tidyverse)"
   ]
  },
  {
   "cell_type": "code",
   "execution_count": 2,
   "metadata": {},
   "outputs": [],
   "source": [
    "data_dir <- file.path(\"..\", \"data\")"
   ]
  },
  {
   "cell_type": "code",
   "execution_count": 3,
   "metadata": {},
   "outputs": [
    {
     "data": {
      "text/html": [
       "<table>\n",
       "<thead><tr><th scope=col>icustay_id</th><th scope=col>hadm_id</th><th scope=col>subject_id</th><th scope=col>first_careunit</th><th scope=col>intime</th><th scope=col>outtime</th><th scope=col>angus</th><th scope=col>age</th><th scope=col>icu_order</th><th scope=col>echo_time</th><th scope=col>⋯</th><th scope=col>lab_ph_flag</th><th scope=col>lab_ph_first</th><th scope=col>lab_ph_min</th><th scope=col>lab_ph_max</th><th scope=col>lab_ph_abnormal</th><th scope=col>sedative</th><th scope=col>echo_int</th><th scope=col>mort_28_day_int</th><th scope=col>ps</th><th scope=col>ps_weight</th></tr></thead>\n",
       "<tbody>\n",
       "\t<tr><td>201220             </td><td>125078             </td><td>66690              </td><td>0                  </td><td>2106-04-27 09:47:50</td><td>2106-05-01 19:25:46</td><td>1                  </td><td>62.67646           </td><td>1                  </td><td>NA                 </td><td>⋯                  </td><td>1                  </td><td>7.45               </td><td>7.42               </td><td>7.45               </td><td>1                  </td><td>1                  </td><td>0                  </td><td>1                  </td><td>0.4544669          </td><td>1.833069           </td></tr>\n",
       "\t<tr><td>215842             </td><td>151232             </td><td>11663              </td><td>0                  </td><td>2188-02-14 09:48:15</td><td>2188-02-16 03:02:48</td><td>1                  </td><td>86.76186           </td><td>1                  </td><td>NA                 </td><td>⋯                  </td><td>0                  </td><td>  NA               </td><td>  NA               </td><td>  NA               </td><td>NA                 </td><td>0                  </td><td>0                  </td><td>0                  </td><td>0.1568838          </td><td>1.186076           </td></tr>\n",
       "\t<tr><td>234312             </td><td>164444             </td><td>86645              </td><td>1                  </td><td>2165-06-22 09:47:16</td><td>2165-07-07 21:55:20</td><td>1                  </td><td>56.08904           </td><td>1                  </td><td>NA                 </td><td>⋯                  </td><td>1                  </td><td>7.49               </td><td>7.49               </td><td>7.49               </td><td>1                  </td><td>0                  </td><td>0                  </td><td>0                  </td><td>0.3002571          </td><td>1.429096           </td></tr>\n",
       "\t<tr><td>289157             </td><td>146726             </td><td>10304              </td><td>0                  </td><td>2156-06-23 22:26:00</td><td>2156-06-30 17:26:00</td><td>1                  </td><td>45.91093           </td><td>1                  </td><td>2156-06-25 08:00:00</td><td>⋯                  </td><td>1                  </td><td>7.44               </td><td>7.44               </td><td>7.44               </td><td>1                  </td><td>0                  </td><td>1                  </td><td>0                  </td><td>0.6991412          </td><td>1.430326           </td></tr>\n",
       "\t<tr><td>211964             </td><td>160170             </td><td>94534              </td><td>0                  </td><td>2160-03-05 22:23:19</td><td>2160-03-07 06:48:41</td><td>1                  </td><td>59.38693           </td><td>1                  </td><td>NA                 </td><td>⋯                  </td><td>0                  </td><td>  NA               </td><td>  NA               </td><td>  NA               </td><td>NA                 </td><td>0                  </td><td>0                  </td><td>0                  </td><td>0.3432285          </td><td>1.522600           </td></tr>\n",
       "\t<tr><td>230173             </td><td>112553             </td><td>31544              </td><td>0                  </td><td>2140-01-31 04:39:25</td><td>2140-02-03 02:41:39</td><td>1                  </td><td>91.50000           </td><td>1                  </td><td>NA                 </td><td>⋯                  </td><td>0                  </td><td>  NA               </td><td>  NA               </td><td>  NA               </td><td>NA                 </td><td>0                  </td><td>0                  </td><td>1                  </td><td>0.2464983          </td><td>1.327137           </td></tr>\n",
       "</tbody>\n",
       "</table>\n"
      ],
      "text/latex": [
       "\\begin{tabular}{r|lllllllllllllllllllllllllllllllllllllllllllllllllllllllllllllllllllllllllllllllllllllllllllllllllllllllllllllllllllllllllllllllllll}\n",
       " icustay\\_id & hadm\\_id & subject\\_id & first\\_careunit & intime & outtime & angus & age & icu\\_order & echo\\_time & ⋯ & lab\\_ph\\_flag & lab\\_ph\\_first & lab\\_ph\\_min & lab\\_ph\\_max & lab\\_ph\\_abnormal & sedative & echo\\_int & mort\\_28\\_day\\_int & ps & ps\\_weight\\\\\n",
       "\\hline\n",
       "\t 201220              & 125078              & 66690               & 0                   & 2106-04-27 09:47:50 & 2106-05-01 19:25:46 & 1                   & 62.67646            & 1                   & NA                  & ⋯                   & 1                   & 7.45                & 7.42                & 7.45                & 1                   & 1                   & 0                   & 1                   & 0.4544669           & 1.833069           \\\\\n",
       "\t 215842              & 151232              & 11663               & 0                   & 2188-02-14 09:48:15 & 2188-02-16 03:02:48 & 1                   & 86.76186            & 1                   & NA                  & ⋯                   & 0                   &   NA                &   NA                &   NA                & NA                  & 0                   & 0                   & 0                   & 0.1568838           & 1.186076           \\\\\n",
       "\t 234312              & 164444              & 86645               & 1                   & 2165-06-22 09:47:16 & 2165-07-07 21:55:20 & 1                   & 56.08904            & 1                   & NA                  & ⋯                   & 1                   & 7.49                & 7.49                & 7.49                & 1                   & 0                   & 0                   & 0                   & 0.3002571           & 1.429096           \\\\\n",
       "\t 289157              & 146726              & 10304               & 0                   & 2156-06-23 22:26:00 & 2156-06-30 17:26:00 & 1                   & 45.91093            & 1                   & 2156-06-25 08:00:00 & ⋯                   & 1                   & 7.44                & 7.44                & 7.44                & 1                   & 0                   & 1                   & 0                   & 0.6991412           & 1.430326           \\\\\n",
       "\t 211964              & 160170              & 94534               & 0                   & 2160-03-05 22:23:19 & 2160-03-07 06:48:41 & 1                   & 59.38693            & 1                   & NA                  & ⋯                   & 0                   &   NA                &   NA                &   NA                & NA                  & 0                   & 0                   & 0                   & 0.3432285           & 1.522600           \\\\\n",
       "\t 230173              & 112553              & 31544               & 0                   & 2140-01-31 04:39:25 & 2140-02-03 02:41:39 & 1                   & 91.50000            & 1                   & NA                  & ⋯                   & 0                   &   NA                &   NA                &   NA                & NA                  & 0                   & 0                   & 1                   & 0.2464983           & 1.327137           \\\\\n",
       "\\end{tabular}\n"
      ],
      "text/markdown": [
       "\n",
       "icustay_id | hadm_id | subject_id | first_careunit | intime | outtime | angus | age | icu_order | echo_time | ⋯ | lab_ph_flag | lab_ph_first | lab_ph_min | lab_ph_max | lab_ph_abnormal | sedative | echo_int | mort_28_day_int | ps | ps_weight | \n",
       "|---|---|---|---|---|---|\n",
       "| 201220              | 125078              | 66690               | 0                   | 2106-04-27 09:47:50 | 2106-05-01 19:25:46 | 1                   | 62.67646            | 1                   | NA                  | ⋯                   | 1                   | 7.45                | 7.42                | 7.45                | 1                   | 1                   | 0                   | 1                   | 0.4544669           | 1.833069            | \n",
       "| 215842              | 151232              | 11663               | 0                   | 2188-02-14 09:48:15 | 2188-02-16 03:02:48 | 1                   | 86.76186            | 1                   | NA                  | ⋯                   | 0                   |   NA                |   NA                |   NA                | NA                  | 0                   | 0                   | 0                   | 0.1568838           | 1.186076            | \n",
       "| 234312              | 164444              | 86645               | 1                   | 2165-06-22 09:47:16 | 2165-07-07 21:55:20 | 1                   | 56.08904            | 1                   | NA                  | ⋯                   | 1                   | 7.49                | 7.49                | 7.49                | 1                   | 0                   | 0                   | 0                   | 0.3002571           | 1.429096            | \n",
       "| 289157              | 146726              | 10304               | 0                   | 2156-06-23 22:26:00 | 2156-06-30 17:26:00 | 1                   | 45.91093            | 1                   | 2156-06-25 08:00:00 | ⋯                   | 1                   | 7.44                | 7.44                | 7.44                | 1                   | 0                   | 1                   | 0                   | 0.6991412           | 1.430326            | \n",
       "| 211964              | 160170              | 94534               | 0                   | 2160-03-05 22:23:19 | 2160-03-07 06:48:41 | 1                   | 59.38693            | 1                   | NA                  | ⋯                   | 0                   |   NA                |   NA                |   NA                | NA                  | 0                   | 0                   | 0                   | 0.3432285           | 1.522600            | \n",
       "| 230173              | 112553              | 31544               | 0                   | 2140-01-31 04:39:25 | 2140-02-03 02:41:39 | 1                   | 91.50000            | 1                   | NA                  | ⋯                   | 0                   |   NA                |   NA                |   NA                | NA                  | 0                   | 0                   | 1                   | 0.2464983           | 1.327137            | \n",
       "\n",
       "\n"
      ],
      "text/plain": [
       "  icustay_id hadm_id subject_id first_careunit intime             \n",
       "1 201220     125078  66690      0              2106-04-27 09:47:50\n",
       "2 215842     151232  11663      0              2188-02-14 09:48:15\n",
       "3 234312     164444  86645      1              2165-06-22 09:47:16\n",
       "4 289157     146726  10304      0              2156-06-23 22:26:00\n",
       "5 211964     160170  94534      0              2160-03-05 22:23:19\n",
       "6 230173     112553  31544      0              2140-01-31 04:39:25\n",
       "  outtime             angus age      icu_order echo_time           ⋯\n",
       "1 2106-05-01 19:25:46 1     62.67646 1         <NA>                ⋯\n",
       "2 2188-02-16 03:02:48 1     86.76186 1         <NA>                ⋯\n",
       "3 2165-07-07 21:55:20 1     56.08904 1         <NA>                ⋯\n",
       "4 2156-06-30 17:26:00 1     45.91093 1         2156-06-25 08:00:00 ⋯\n",
       "5 2160-03-07 06:48:41 1     59.38693 1         <NA>                ⋯\n",
       "6 2140-02-03 02:41:39 1     91.50000 1         <NA>                ⋯\n",
       "  lab_ph_flag lab_ph_first lab_ph_min lab_ph_max lab_ph_abnormal sedative\n",
       "1 1           7.45         7.42       7.45       1               1       \n",
       "2 0             NA           NA         NA       NA              0       \n",
       "3 1           7.49         7.49       7.49       1               0       \n",
       "4 1           7.44         7.44       7.44       1               0       \n",
       "5 0             NA           NA         NA       NA              0       \n",
       "6 0             NA           NA         NA       NA              0       \n",
       "  echo_int mort_28_day_int ps        ps_weight\n",
       "1 0        1               0.4544669 1.833069 \n",
       "2 0        0               0.1568838 1.186076 \n",
       "3 0        0               0.3002571 1.429096 \n",
       "4 1        0               0.6991412 1.430326 \n",
       "5 0        0               0.3432285 1.522600 \n",
       "6 0        1               0.2464983 1.327137 "
      ]
     },
     "metadata": {},
     "output_type": "display_data"
    }
   ],
   "source": [
    "full_data <- readRDS(file.path(data_dir, \"full_data_ps.rds\"))\n",
    "head(full_data)"
   ]
  },
  {
   "cell_type": "code",
   "execution_count": null,
   "metadata": {},
   "outputs": [],
   "source": [
    "set.seed(4958)"
   ]
  },
  {
   "cell_type": "code",
   "execution_count": 4,
   "metadata": {},
   "outputs": [],
   "source": [
    "ps_matches <- Match(Y = full_data$mort_28_day_int, Tr = full_data$echo_int,\n",
    "                    X = full_data$ps, M = 1, estimand = \"ATT\", caliper = 0.01,\n",
    "                    exact = FALSE, replace = FALSE, ties = FALSE)"
   ]
  },
  {
   "cell_type": "code",
   "execution_count": null,
   "metadata": {},
   "outputs": [],
   "source": [
    "summary(ps_matches)"
   ]
  },
  {
   "cell_type": "code",
   "execution_count": 5,
   "metadata": {},
   "outputs": [],
   "source": [
    "outcome <- data.frame(echo_pt=full_data$mort_28_day_int[ps_matches$index.treated],\n",
    "                      match_pt=full_data$mort_28_day_int[ps_matches$index.control])"
   ]
  },
  {
   "cell_type": "code",
   "execution_count": 6,
   "metadata": {},
   "outputs": [
    {
     "data": {
      "text/html": [
       "<table>\n",
       "<thead><tr><th scope=col>echo_pt</th><th scope=col>match_pt</th></tr></thead>\n",
       "<tbody>\n",
       "\t<tr><td>0</td><td>0</td></tr>\n",
       "\t<tr><td>1</td><td>0</td></tr>\n",
       "\t<tr><td>1</td><td>0</td></tr>\n",
       "\t<tr><td>1</td><td>1</td></tr>\n",
       "\t<tr><td>0</td><td>1</td></tr>\n",
       "\t<tr><td>1</td><td>1</td></tr>\n",
       "</tbody>\n",
       "</table>\n"
      ],
      "text/latex": [
       "\\begin{tabular}{r|ll}\n",
       " echo\\_pt & match\\_pt\\\\\n",
       "\\hline\n",
       "\t 0 & 0\\\\\n",
       "\t 1 & 0\\\\\n",
       "\t 1 & 0\\\\\n",
       "\t 1 & 1\\\\\n",
       "\t 0 & 1\\\\\n",
       "\t 1 & 1\\\\\n",
       "\\end{tabular}\n"
      ],
      "text/markdown": [
       "\n",
       "echo_pt | match_pt | \n",
       "|---|---|---|---|---|---|\n",
       "| 0 | 0 | \n",
       "| 1 | 0 | \n",
       "| 1 | 0 | \n",
       "| 1 | 1 | \n",
       "| 0 | 1 | \n",
       "| 1 | 1 | \n",
       "\n",
       "\n"
      ],
      "text/plain": [
       "  echo_pt match_pt\n",
       "1 0       0       \n",
       "2 1       0       \n",
       "3 1       0       \n",
       "4 1       1       \n",
       "5 0       1       \n",
       "6 1       1       "
      ]
     },
     "metadata": {},
     "output_type": "display_data"
    }
   ],
   "source": [
    "head(outcome)"
   ]
  },
  {
   "cell_type": "code",
   "execution_count": 8,
   "metadata": {},
   "outputs": [
    {
     "data": {
      "text/html": [
       "<table>\n",
       "<tbody>\n",
       "\t<tr><td>811</td><td>351</td></tr>\n",
       "\t<tr><td>281</td><td>105</td></tr>\n",
       "</tbody>\n",
       "</table>\n"
      ],
      "text/latex": [
       "\\begin{tabular}{ll}\n",
       "\t 811 & 351\\\\\n",
       "\t 281 & 105\\\\\n",
       "\\end{tabular}\n"
      ],
      "text/markdown": [
       "\n",
       "| 811 | 351 | \n",
       "| 281 | 105 | \n",
       "\n",
       "\n"
      ],
      "text/plain": [
       "     [,1] [,2]\n",
       "[1,] 811  351 \n",
       "[2,] 281  105 "
      ]
     },
     "metadata": {},
     "output_type": "display_data"
    },
    {
     "data": {
      "text/html": [
       "0.800569800569801"
      ],
      "text/latex": [
       "0.800569800569801"
      ],
      "text/markdown": [
       "0.800569800569801"
      ],
      "text/plain": [
       "[1] 0.8005698"
      ]
     },
     "metadata": {},
     "output_type": "display_data"
    },
    {
     "data": {
      "text/html": [
       "<ol class=list-inline>\n",
       "\t<li>'95% Confint 0.6843244'</li>\n",
       "\t<li>'95% Confint 0.9365617'</li>\n",
       "</ol>\n"
      ],
      "text/latex": [
       "\\begin{enumerate*}\n",
       "\\item '95\\% Confint 0.6843244'\n",
       "\\item '95\\% Confint 0.9365617'\n",
       "\\end{enumerate*}\n"
      ],
      "text/markdown": [
       "1. '95% Confint 0.6843244'\n",
       "2. '95% Confint 0.9365617'\n",
       "\n",
       "\n"
      ],
      "text/plain": [
       "[1] \"95% Confint 0.6843244\" \"95% Confint 0.9365617\""
      ]
     },
     "metadata": {},
     "output_type": "display_data"
    },
    {
     "data": {
      "text/plain": [
       "\n",
       "\tMcNemar's Chi-squared test with continuity correction\n",
       "\n",
       "data:  tab\n",
       "McNemar's chi-squared = 7.5332, df = 1, p-value = 0.006057\n"
      ]
     },
     "metadata": {},
     "output_type": "display_data"
    }
   ],
   "source": [
    "tab <- table(outcome$echo_pt, outcome$match_pt, dnn = c(\"Echo\",\"Non-Echo\"))\n",
    "tab\n",
    "tab[2, 1] / tab[1, 2]\n",
    "paste(\"95% Confint\",\n",
    "      round(exp(c(log(tab[2, 1] / tab[1, 2]) - qnorm(0.975) * sqrt(1 / tab[1, 2] + 1 / tab[2, 1]),\n",
    "                  log(tab[2, 1] / tab[1, 2]) + qnorm(0.975) * sqrt(1 / tab[1, 2] + 1 / tab[2, 1]))), 7))\n",
    "mcnemar.test(tab) # for 1-1 pairs"
   ]
  },
  {
   "cell_type": "code",
   "execution_count": 9,
   "metadata": {},
   "outputs": [
    {
     "data": {
      "text/html": [
       "0.294573643410853"
      ],
      "text/latex": [
       "0.294573643410853"
      ],
      "text/markdown": [
       "0.294573643410853"
      ],
      "text/plain": [
       "[1] 0.2945736"
      ]
     },
     "metadata": {},
     "output_type": "display_data"
    },
    {
     "data": {
      "text/html": [
       "0.249354005167959"
      ],
      "text/latex": [
       "0.249354005167959"
      ],
      "text/markdown": [
       "0.249354005167959"
      ],
      "text/plain": [
       "[1] 0.249354"
      ]
     },
     "metadata": {},
     "output_type": "display_data"
    }
   ],
   "source": [
    "(tab[2, 2] + tab[1, 2]) / sum(tab)\n",
    "(tab[2, 2] + tab[2, 1]) / sum(tab)"
   ]
  },
  {
   "cell_type": "code",
   "execution_count": 10,
   "metadata": {},
   "outputs": [
    {
     "data": {
      "text/html": [
       "<table>\n",
       "<thead><tr><th scope=col>echo</th><th scope=col>mortality</th></tr></thead>\n",
       "<tbody>\n",
       "\t<tr><td>0        </td><td>0.2945736</td></tr>\n",
       "\t<tr><td>1        </td><td>0.2493540</td></tr>\n",
       "</tbody>\n",
       "</table>\n"
      ],
      "text/latex": [
       "\\begin{tabular}{r|ll}\n",
       " echo & mortality\\\\\n",
       "\\hline\n",
       "\t 0         & 0.2945736\\\\\n",
       "\t 1         & 0.2493540\\\\\n",
       "\\end{tabular}\n"
      ],
      "text/markdown": [
       "\n",
       "echo | mortality | \n",
       "|---|---|\n",
       "| 0         | 0.2945736 | \n",
       "| 1         | 0.2493540 | \n",
       "\n",
       "\n"
      ],
      "text/plain": [
       "  echo mortality\n",
       "1 0    0.2945736\n",
       "2 1    0.2493540"
      ]
     },
     "metadata": {},
     "output_type": "display_data"
    }
   ],
   "source": [
    "mortality <- data.frame(echo = c(0, 1),\n",
    "                        mortality = c((tab[2, 2] + tab[1, 2]) / sum(tab),\n",
    "                                      (tab[2, 2] + tab[2, 1]) / sum(tab)))\n",
    "mortality"
   ]
  },
  {
   "cell_type": "code",
   "execution_count": 11,
   "metadata": {},
   "outputs": [
    {
     "data": {
      "text/html": [
       "<table>\n",
       "<thead><tr><th scope=col>Method</th><th scope=col>Echo</th><th scope=col>Non_echo</th></tr></thead>\n",
       "<tbody>\n",
       "\t<tr><td>PS Match </td><td>0.249354 </td><td>0.2945736</td></tr>\n",
       "</tbody>\n",
       "</table>\n"
      ],
      "text/latex": [
       "\\begin{tabular}{r|lll}\n",
       " Method & Echo & Non\\_echo\\\\\n",
       "\\hline\n",
       "\t PS Match  & 0.249354  & 0.2945736\\\\\n",
       "\\end{tabular}\n"
      ],
      "text/markdown": [
       "\n",
       "Method | Echo | Non_echo | \n",
       "|---|\n",
       "| PS Match  | 0.249354  | 0.2945736 | \n",
       "\n",
       "\n"
      ],
      "text/plain": [
       "  Method   Echo     Non_echo \n",
       "1 PS Match 0.249354 0.2945736"
      ]
     },
     "metadata": {},
     "output_type": "display_data"
    }
   ],
   "source": [
    "mort_fmt <- mortality %>%\n",
    "mutate(echo = case_when(\n",
    "    echo == 0 ~ \"Non_echo\",\n",
    "    echo == 1 ~ \"Echo\"\n",
    ")) %>%\n",
    "select(echo, mortality) %>%\n",
    "spread(echo, mortality) %>%\n",
    "mutate(Method = \"PS Match\") %>%\n",
    "select(Method, Echo, Non_echo)\n",
    "mort_fmt"
   ]
  },
  {
   "cell_type": "code",
   "execution_count": 12,
   "metadata": {},
   "outputs": [],
   "source": [
    "data.table::fwrite(mort_fmt, file.path(data_dir, \"mort_ps.csv\"))"
   ]
  }
 ],
 "metadata": {
  "kernelspec": {
   "display_name": "R",
   "language": "R",
   "name": "ir"
  },
  "language_info": {
   "codemirror_mode": "r",
   "file_extension": ".r",
   "mimetype": "text/x-r-source",
   "name": "R",
   "pygments_lexer": "r",
   "version": "3.4.3"
  },
  "varInspector": {
   "cols": {
    "lenName": 16,
    "lenType": 16,
    "lenVar": 40
   },
   "kernels_config": {
    "python": {
     "delete_cmd_postfix": "",
     "delete_cmd_prefix": "del ",
     "library": "var_list.py",
     "varRefreshCmd": "print(var_dic_list())"
    },
    "r": {
     "delete_cmd_postfix": ") ",
     "delete_cmd_prefix": "rm(",
     "library": "var_list.r",
     "varRefreshCmd": "cat(var_dic_list()) "
    }
   },
   "types_to_exclude": [
    "module",
    "function",
    "builtin_function_or_method",
    "instance",
    "_Feature"
   ],
   "window_display": false
  }
 },
 "nbformat": 4,
 "nbformat_minor": 2
}
