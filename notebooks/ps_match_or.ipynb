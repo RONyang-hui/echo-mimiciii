{
 "cells": [
  {
   "cell_type": "code",
   "execution_count": 1,
   "metadata": {},
   "outputs": [
    {
     "name": "stderr",
     "output_type": "stream",
     "text": [
      "Loading required package: MASS\n",
      "## \n",
      "##  Matching (Version 4.9-2, Build Date: 2015-12-25)\n",
      "##  See http://sekhon.berkeley.edu/matching for additional documentation.\n",
      "##  Please cite software as:\n",
      "##   Jasjeet S. Sekhon. 2011. ``Multivariate and Propensity Score Matching\n",
      "##   Software with Automated Balance Optimization: The Matching package for R.''\n",
      "##   Journal of Statistical Software, 42(7): 1-52. \n",
      "##\n",
      "\n",
      "── Attaching packages ─────────────────────────────────────── tidyverse 1.2.1 ──\n",
      "✔ ggplot2 2.2.1     ✔ purrr   0.2.4\n",
      "✔ tibble  1.4.2     ✔ dplyr   0.7.4\n",
      "✔ tidyr   0.8.0     ✔ stringr 1.2.0\n",
      "✔ readr   1.1.1     ✔ forcats 0.2.0\n",
      "── Conflicts ────────────────────────────────────────── tidyverse_conflicts() ──\n",
      "✖ dplyr::filter() masks stats::filter()\n",
      "✖ dplyr::lag()    masks stats::lag()\n",
      "✖ dplyr::select() masks MASS::select()\n"
     ]
    }
   ],
   "source": [
    "library(Matching)\n",
    "library(tidyverse)"
   ]
  },
  {
   "cell_type": "code",
   "execution_count": 2,
   "metadata": {},
   "outputs": [],
   "source": [
    "data_dir <- file.path(\"..\", \"data\")"
   ]
  },
  {
   "cell_type": "code",
   "execution_count": 3,
   "metadata": {},
   "outputs": [
    {
     "data": {
      "text/html": [
       "<table>\n",
       "<thead><tr><th scope=col>icustay_id</th><th scope=col>hadm_id</th><th scope=col>subject_id</th><th scope=col>first_careunit</th><th scope=col>intime</th><th scope=col>outtime</th><th scope=col>angus</th><th scope=col>age</th><th scope=col>icu_order</th><th scope=col>echo_time</th><th scope=col>⋯</th><th scope=col>lab_lactate_flag</th><th scope=col>lab_lactate_first</th><th scope=col>lab_lactate_min</th><th scope=col>lab_lactate_max</th><th scope=col>lab_lactate_abnormal</th><th scope=col>sedative</th><th scope=col>echo_int</th><th scope=col>mort_28_day_int</th><th scope=col>ps</th><th scope=col>ps_weight</th></tr></thead>\n",
       "<tbody>\n",
       "\t<tr><td>228416             </td><td>159895             </td><td> 5491              </td><td>0                  </td><td>2151-06-29 01:18:27</td><td>2151-07-27 16:00:56</td><td>1                  </td><td>76.58225           </td><td>1                  </td><td>2151-06-30         </td><td>⋯                  </td><td>1                  </td><td>1.4                </td><td>1.4                </td><td>1.4                </td><td>0                  </td><td>0                  </td><td>1                  </td><td>0                  </td><td>0.5444486          </td><td>1.836721           </td></tr>\n",
       "\t<tr><td>278148             </td><td>169700             </td><td>49395              </td><td>0                  </td><td>2197-01-09 00:45:42</td><td>2197-01-10 06:46:29</td><td>1                  </td><td>82.72606           </td><td>1                  </td><td>NA                 </td><td>⋯                  </td><td>0                  </td><td> NA                </td><td> NA                </td><td> NA                </td><td>NA                 </td><td>0                  </td><td>0                  </td><td>1                  </td><td>0.2569337          </td><td>1.345775           </td></tr>\n",
       "\t<tr><td>274174             </td><td>103722             </td><td>14855              </td><td>0                  </td><td>2181-09-08 23:43:13</td><td>2181-09-26 16:52:02</td><td>1                  </td><td>61.84390           </td><td>1                  </td><td>2181-09-11         </td><td>⋯                  </td><td>1                  </td><td>1.6                </td><td>1.6                </td><td>2.6                </td><td>1                  </td><td>0                  </td><td>1                  </td><td>0                  </td><td>0.3264142          </td><td>3.063592           </td></tr>\n",
       "\t<tr><td>214954             </td><td>170515             </td><td>54642              </td><td>0                  </td><td>2176-03-11 04:58:23</td><td>2176-03-15 18:00:48</td><td>1                  </td><td>63.86507           </td><td>1                  </td><td>2176-03-11         </td><td>⋯                  </td><td>1                  </td><td>3.8                </td><td>2.2                </td><td>3.8                </td><td>1                  </td><td>1                  </td><td>1                  </td><td>0                  </td><td>0.8063102          </td><td>1.240217           </td></tr>\n",
       "\t<tr><td>222457             </td><td>183493             </td><td>96815              </td><td>0                  </td><td>2105-06-04 20:57:55</td><td>2105-06-06 20:01:51</td><td>1                  </td><td>62.84018           </td><td>1                  </td><td>NA                 </td><td>⋯                  </td><td>0                  </td><td> NA                </td><td> NA                </td><td> NA                </td><td>NA                 </td><td>0                  </td><td>0                  </td><td>0                  </td><td>0.2239520          </td><td>1.288580           </td></tr>\n",
       "\t<tr><td>264413             </td><td>134244             </td><td>81436              </td><td>0                  </td><td>2133-03-27 16:31:37</td><td>2133-04-04 16:15:28</td><td>1                  </td><td>62.60148           </td><td>1                  </td><td>2133-03-31         </td><td>⋯                  </td><td>1                  </td><td>1.4                </td><td>1.4                </td><td>1.4                </td><td>0                  </td><td>0                  </td><td>1                  </td><td>0                  </td><td>0.3457691          </td><td>2.892104           </td></tr>\n",
       "</tbody>\n",
       "</table>\n"
      ],
      "text/latex": [
       "\\begin{tabular}{r|llllllllllllllllllllllllllllllllllllllllllllllllllllllllllllllllllllllllllllllllllllllllllllllllllllllllllllllllllllllllllllllllllllll}\n",
       " icustay\\_id & hadm\\_id & subject\\_id & first\\_careunit & intime & outtime & angus & age & icu\\_order & echo\\_time & ⋯ & lab\\_lactate\\_flag & lab\\_lactate\\_first & lab\\_lactate\\_min & lab\\_lactate\\_max & lab\\_lactate\\_abnormal & sedative & echo\\_int & mort\\_28\\_day\\_int & ps & ps\\_weight\\\\\n",
       "\\hline\n",
       "\t 228416              & 159895              &  5491               & 0                   & 2151-06-29 01:18:27 & 2151-07-27 16:00:56 & 1                   & 76.58225            & 1                   & 2151-06-30          & ⋯                   & 1                   & 1.4                 & 1.4                 & 1.4                 & 0                   & 0                   & 1                   & 0                   & 0.5444486           & 1.836721           \\\\\n",
       "\t 278148              & 169700              & 49395               & 0                   & 2197-01-09 00:45:42 & 2197-01-10 06:46:29 & 1                   & 82.72606            & 1                   & NA                  & ⋯                   & 0                   &  NA                 &  NA                 &  NA                 & NA                  & 0                   & 0                   & 1                   & 0.2569337           & 1.345775           \\\\\n",
       "\t 274174              & 103722              & 14855               & 0                   & 2181-09-08 23:43:13 & 2181-09-26 16:52:02 & 1                   & 61.84390            & 1                   & 2181-09-11          & ⋯                   & 1                   & 1.6                 & 1.6                 & 2.6                 & 1                   & 0                   & 1                   & 0                   & 0.3264142           & 3.063592           \\\\\n",
       "\t 214954              & 170515              & 54642               & 0                   & 2176-03-11 04:58:23 & 2176-03-15 18:00:48 & 1                   & 63.86507            & 1                   & 2176-03-11          & ⋯                   & 1                   & 3.8                 & 2.2                 & 3.8                 & 1                   & 1                   & 1                   & 0                   & 0.8063102           & 1.240217           \\\\\n",
       "\t 222457              & 183493              & 96815               & 0                   & 2105-06-04 20:57:55 & 2105-06-06 20:01:51 & 1                   & 62.84018            & 1                   & NA                  & ⋯                   & 0                   &  NA                 &  NA                 &  NA                 & NA                  & 0                   & 0                   & 0                   & 0.2239520           & 1.288580           \\\\\n",
       "\t 264413              & 134244              & 81436               & 0                   & 2133-03-27 16:31:37 & 2133-04-04 16:15:28 & 1                   & 62.60148            & 1                   & 2133-03-31          & ⋯                   & 1                   & 1.4                 & 1.4                 & 1.4                 & 0                   & 0                   & 1                   & 0                   & 0.3457691           & 2.892104           \\\\\n",
       "\\end{tabular}\n"
      ],
      "text/markdown": [
       "\n",
       "icustay_id | hadm_id | subject_id | first_careunit | intime | outtime | angus | age | icu_order | echo_time | ⋯ | lab_lactate_flag | lab_lactate_first | lab_lactate_min | lab_lactate_max | lab_lactate_abnormal | sedative | echo_int | mort_28_day_int | ps | ps_weight | \n",
       "|---|---|---|---|---|---|\n",
       "| 228416              | 159895              |  5491               | 0                   | 2151-06-29 01:18:27 | 2151-07-27 16:00:56 | 1                   | 76.58225            | 1                   | 2151-06-30          | ⋯                   | 1                   | 1.4                 | 1.4                 | 1.4                 | 0                   | 0                   | 1                   | 0                   | 0.5444486           | 1.836721            | \n",
       "| 278148              | 169700              | 49395               | 0                   | 2197-01-09 00:45:42 | 2197-01-10 06:46:29 | 1                   | 82.72606            | 1                   | NA                  | ⋯                   | 0                   |  NA                 |  NA                 |  NA                 | NA                  | 0                   | 0                   | 1                   | 0.2569337           | 1.345775            | \n",
       "| 274174              | 103722              | 14855               | 0                   | 2181-09-08 23:43:13 | 2181-09-26 16:52:02 | 1                   | 61.84390            | 1                   | 2181-09-11          | ⋯                   | 1                   | 1.6                 | 1.6                 | 2.6                 | 1                   | 0                   | 1                   | 0                   | 0.3264142           | 3.063592            | \n",
       "| 214954              | 170515              | 54642               | 0                   | 2176-03-11 04:58:23 | 2176-03-15 18:00:48 | 1                   | 63.86507            | 1                   | 2176-03-11          | ⋯                   | 1                   | 3.8                 | 2.2                 | 3.8                 | 1                   | 1                   | 1                   | 0                   | 0.8063102           | 1.240217            | \n",
       "| 222457              | 183493              | 96815               | 0                   | 2105-06-04 20:57:55 | 2105-06-06 20:01:51 | 1                   | 62.84018            | 1                   | NA                  | ⋯                   | 0                   |  NA                 |  NA                 |  NA                 | NA                  | 0                   | 0                   | 0                   | 0.2239520           | 1.288580            | \n",
       "| 264413              | 134244              | 81436               | 0                   | 2133-03-27 16:31:37 | 2133-04-04 16:15:28 | 1                   | 62.60148            | 1                   | 2133-03-31          | ⋯                   | 1                   | 1.4                 | 1.4                 | 1.4                 | 0                   | 0                   | 1                   | 0                   | 0.3457691           | 2.892104            | \n",
       "\n",
       "\n"
      ],
      "text/plain": [
       "  icustay_id hadm_id subject_id first_careunit intime             \n",
       "1 228416     159895   5491      0              2151-06-29 01:18:27\n",
       "2 278148     169700  49395      0              2197-01-09 00:45:42\n",
       "3 274174     103722  14855      0              2181-09-08 23:43:13\n",
       "4 214954     170515  54642      0              2176-03-11 04:58:23\n",
       "5 222457     183493  96815      0              2105-06-04 20:57:55\n",
       "6 264413     134244  81436      0              2133-03-27 16:31:37\n",
       "  outtime             angus age      icu_order echo_time  ⋯ lab_lactate_flag\n",
       "1 2151-07-27 16:00:56 1     76.58225 1         2151-06-30 ⋯ 1               \n",
       "2 2197-01-10 06:46:29 1     82.72606 1         <NA>       ⋯ 0               \n",
       "3 2181-09-26 16:52:02 1     61.84390 1         2181-09-11 ⋯ 1               \n",
       "4 2176-03-15 18:00:48 1     63.86507 1         2176-03-11 ⋯ 1               \n",
       "5 2105-06-06 20:01:51 1     62.84018 1         <NA>       ⋯ 0               \n",
       "6 2133-04-04 16:15:28 1     62.60148 1         2133-03-31 ⋯ 1               \n",
       "  lab_lactate_first lab_lactate_min lab_lactate_max lab_lactate_abnormal\n",
       "1 1.4               1.4             1.4             0                   \n",
       "2  NA                NA              NA             NA                  \n",
       "3 1.6               1.6             2.6             1                   \n",
       "4 3.8               2.2             3.8             1                   \n",
       "5  NA                NA              NA             NA                  \n",
       "6 1.4               1.4             1.4             0                   \n",
       "  sedative echo_int mort_28_day_int ps        ps_weight\n",
       "1 0        1        0               0.5444486 1.836721 \n",
       "2 0        0        1               0.2569337 1.345775 \n",
       "3 0        1        0               0.3264142 3.063592 \n",
       "4 1        1        0               0.8063102 1.240217 \n",
       "5 0        0        0               0.2239520 1.288580 \n",
       "6 0        1        0               0.3457691 2.892104 "
      ]
     },
     "metadata": {},
     "output_type": "display_data"
    }
   ],
   "source": [
    "full_data <- readRDS(file.path(data_dir, \"full_data_ps.rds\"))\n",
    "head(full_data)"
   ]
  },
  {
   "cell_type": "code",
   "execution_count": 4,
   "metadata": {},
   "outputs": [],
   "source": [
    "set.seed(4958)"
   ]
  },
  {
   "cell_type": "code",
   "execution_count": 5,
   "metadata": {},
   "outputs": [
    {
     "name": "stderr",
     "output_type": "stream",
     "text": [
      "Warning message in Match(Y = full_data$mort_28_day_int, Tr = full_data$echo_int, :\n",
      "“replace==FALSE, but there are more (weighted) treated obs than control obs.  Some treated obs will not be matched.  You may want to estimate ATC instead.”"
     ]
    }
   ],
   "source": [
    "ps_matches <- Match(Y = full_data$mort_28_day_int, Tr = full_data$echo_int,\n",
    "                    X = full_data$ps, M = 1, estimand = \"ATT\", caliper = 0.01,\n",
    "                    exact = FALSE, replace = FALSE, ties = FALSE)"
   ]
  },
  {
   "cell_type": "code",
   "execution_count": null,
   "metadata": {},
   "outputs": [],
   "source": [
    "saveRDS(ps_matches, file = file.path(data_dir, \"ps_matches.rds\"))"
   ]
  },
  {
   "cell_type": "code",
   "execution_count": 6,
   "metadata": {},
   "outputs": [
    {
     "name": "stdout",
     "output_type": "stream",
     "text": [
      "\n",
      "Estimate...  -0.063843 \n",
      "SE.........  0.015715 \n",
      "T-stat.....  -4.0625 \n",
      "p.val......  4.855e-05 \n",
      "\n",
      "Original number of observations..............  6361 \n",
      "Original number of treated obs...............  3262 \n",
      "Matched number of observations...............  1629 \n",
      "Matched number of observations  (unweighted).  1629 \n",
      "\n",
      "Number of obs dropped by 'exact' or 'caliper'  1633 \n",
      "\n"
     ]
    }
   ],
   "source": [
    "summary(ps_matches)"
   ]
  },
  {
   "cell_type": "code",
   "execution_count": 7,
   "metadata": {},
   "outputs": [],
   "source": [
    "outcome <- data.frame(echo_pt=full_data$mort_28_day_int[ps_matches$index.treated],\n",
    "                      match_pt=full_data$mort_28_day_int[ps_matches$index.control])"
   ]
  },
  {
   "cell_type": "code",
   "execution_count": 8,
   "metadata": {},
   "outputs": [
    {
     "data": {
      "text/html": [
       "<table>\n",
       "<thead><tr><th scope=col>echo_pt</th><th scope=col>match_pt</th></tr></thead>\n",
       "<tbody>\n",
       "\t<tr><td>0</td><td>0</td></tr>\n",
       "\t<tr><td>0</td><td>0</td></tr>\n",
       "\t<tr><td>0</td><td>0</td></tr>\n",
       "\t<tr><td>0</td><td>0</td></tr>\n",
       "\t<tr><td>1</td><td>0</td></tr>\n",
       "\t<tr><td>0</td><td>1</td></tr>\n",
       "</tbody>\n",
       "</table>\n"
      ],
      "text/latex": [
       "\\begin{tabular}{r|ll}\n",
       " echo\\_pt & match\\_pt\\\\\n",
       "\\hline\n",
       "\t 0 & 0\\\\\n",
       "\t 0 & 0\\\\\n",
       "\t 0 & 0\\\\\n",
       "\t 0 & 0\\\\\n",
       "\t 1 & 0\\\\\n",
       "\t 0 & 1\\\\\n",
       "\\end{tabular}\n"
      ],
      "text/markdown": [
       "\n",
       "echo_pt | match_pt | \n",
       "|---|---|---|---|---|---|\n",
       "| 0 | 0 | \n",
       "| 0 | 0 | \n",
       "| 0 | 0 | \n",
       "| 0 | 0 | \n",
       "| 1 | 0 | \n",
       "| 0 | 1 | \n",
       "\n",
       "\n"
      ],
      "text/plain": [
       "  echo_pt match_pt\n",
       "1 0       0       \n",
       "2 0       0       \n",
       "3 0       0       \n",
       "4 0       0       \n",
       "5 1       0       \n",
       "6 0       1       "
      ]
     },
     "metadata": {},
     "output_type": "display_data"
    }
   ],
   "source": [
    "head(outcome)"
   ]
  },
  {
   "cell_type": "code",
   "execution_count": 9,
   "metadata": {},
   "outputs": [
    {
     "data": {
      "text/plain": [
       "    Non-Echo\n",
       "Echo   0   1\n",
       "   0 846 383\n",
       "   1 279 121"
      ]
     },
     "metadata": {},
     "output_type": "display_data"
    },
    {
     "data": {
      "text/html": [
       "0.72845953002611"
      ],
      "text/latex": [
       "0.72845953002611"
      ],
      "text/markdown": [
       "0.72845953002611"
      ],
      "text/plain": [
       "[1] 0.7284595"
      ]
     },
     "metadata": {},
     "output_type": "display_data"
    },
    {
     "data": {
      "text/html": [
       "<ol class=list-inline>\n",
       "\t<li>'95% Confint 0.6243207'</li>\n",
       "\t<li>'95% Confint 0.8499691'</li>\n",
       "</ol>\n"
      ],
      "text/latex": [
       "\\begin{enumerate*}\n",
       "\\item '95\\% Confint 0.6243207'\n",
       "\\item '95\\% Confint 0.8499691'\n",
       "\\end{enumerate*}\n"
      ],
      "text/markdown": [
       "1. '95% Confint 0.6243207'\n",
       "2. '95% Confint 0.8499691'\n",
       "\n",
       "\n"
      ],
      "text/plain": [
       "[1] \"95% Confint 0.6243207\" \"95% Confint 0.8499691\""
      ]
     },
     "metadata": {},
     "output_type": "display_data"
    },
    {
     "data": {
      "text/plain": [
       "\n",
       "\tMcNemar's Chi-squared test with continuity correction\n",
       "\n",
       "data:  tab\n",
       "McNemar's chi-squared = 16.026, df = 1, p-value = 6.249e-05\n"
      ]
     },
     "metadata": {},
     "output_type": "display_data"
    }
   ],
   "source": [
    "tab <- table(outcome$echo_pt, outcome$match_pt, dnn = c(\"Echo\",\"Non-Echo\"))\n",
    "tab\n",
    "tab[2, 1] / tab[1, 2]\n",
    "paste(\"95% Confint\",\n",
    "      round(exp(c(log(tab[2, 1] / tab[1, 2]) - qnorm(0.975) * sqrt(1 / tab[1, 2] + 1 / tab[2, 1]),\n",
    "                  log(tab[2, 1] / tab[1, 2]) + qnorm(0.975) * sqrt(1 / tab[1, 2] + 1 / tab[2, 1]))), 7))\n",
    "mcnemar.test(tab) # for 1-1 pairs"
   ]
  },
  {
   "cell_type": "code",
   "execution_count": 10,
   "metadata": {},
   "outputs": [
    {
     "data": {
      "text/html": [
       "0.30939226519337"
      ],
      "text/latex": [
       "0.30939226519337"
      ],
      "text/markdown": [
       "0.30939226519337"
      ],
      "text/plain": [
       "[1] 0.3093923"
      ]
     },
     "metadata": {},
     "output_type": "display_data"
    },
    {
     "data": {
      "text/html": [
       "0.245549416820135"
      ],
      "text/latex": [
       "0.245549416820135"
      ],
      "text/markdown": [
       "0.245549416820135"
      ],
      "text/plain": [
       "[1] 0.2455494"
      ]
     },
     "metadata": {},
     "output_type": "display_data"
    }
   ],
   "source": [
    "(tab[2, 2] + tab[1, 2]) / sum(tab)\n",
    "(tab[2, 2] + tab[2, 1]) / sum(tab)"
   ]
  },
  {
   "cell_type": "code",
   "execution_count": 11,
   "metadata": {},
   "outputs": [
    {
     "data": {
      "text/html": [
       "<table>\n",
       "<thead><tr><th scope=col>echo</th><th scope=col>mortality</th></tr></thead>\n",
       "<tbody>\n",
       "\t<tr><td>0        </td><td>0.3093923</td></tr>\n",
       "\t<tr><td>1        </td><td>0.2455494</td></tr>\n",
       "</tbody>\n",
       "</table>\n"
      ],
      "text/latex": [
       "\\begin{tabular}{r|ll}\n",
       " echo & mortality\\\\\n",
       "\\hline\n",
       "\t 0         & 0.3093923\\\\\n",
       "\t 1         & 0.2455494\\\\\n",
       "\\end{tabular}\n"
      ],
      "text/markdown": [
       "\n",
       "echo | mortality | \n",
       "|---|---|\n",
       "| 0         | 0.3093923 | \n",
       "| 1         | 0.2455494 | \n",
       "\n",
       "\n"
      ],
      "text/plain": [
       "  echo mortality\n",
       "1 0    0.3093923\n",
       "2 1    0.2455494"
      ]
     },
     "metadata": {},
     "output_type": "display_data"
    }
   ],
   "source": [
    "mortality <- data.frame(echo = c(0, 1),\n",
    "                        mortality = c((tab[2, 2] + tab[1, 2]) / sum(tab),\n",
    "                                      (tab[2, 2] + tab[2, 1]) / sum(tab)))\n",
    "mortality"
   ]
  },
  {
   "cell_type": "code",
   "execution_count": 12,
   "metadata": {},
   "outputs": [
    {
     "data": {
      "text/html": [
       "<table>\n",
       "<thead><tr><th scope=col>Method</th><th scope=col>Echo</th><th scope=col>Non_echo</th></tr></thead>\n",
       "<tbody>\n",
       "\t<tr><td>PS Match </td><td>0.2455494</td><td>0.3093923</td></tr>\n",
       "</tbody>\n",
       "</table>\n"
      ],
      "text/latex": [
       "\\begin{tabular}{r|lll}\n",
       " Method & Echo & Non\\_echo\\\\\n",
       "\\hline\n",
       "\t PS Match  & 0.2455494 & 0.3093923\\\\\n",
       "\\end{tabular}\n"
      ],
      "text/markdown": [
       "\n",
       "Method | Echo | Non_echo | \n",
       "|---|\n",
       "| PS Match  | 0.2455494 | 0.3093923 | \n",
       "\n",
       "\n"
      ],
      "text/plain": [
       "  Method   Echo      Non_echo \n",
       "1 PS Match 0.2455494 0.3093923"
      ]
     },
     "metadata": {},
     "output_type": "display_data"
    }
   ],
   "source": [
    "mort_fmt <- mortality %>%\n",
    "mutate(echo = case_when(\n",
    "    echo == 0 ~ \"Non_echo\",\n",
    "    echo == 1 ~ \"Echo\"\n",
    ")) %>%\n",
    "select(echo, mortality) %>%\n",
    "spread(echo, mortality) %>%\n",
    "mutate(Method = \"PS Match\") %>%\n",
    "select(Method, Echo, Non_echo)\n",
    "mort_fmt"
   ]
  },
  {
   "cell_type": "code",
   "execution_count": 13,
   "metadata": {},
   "outputs": [],
   "source": [
    "data.table::fwrite(mort_fmt, file.path(data_dir, \"mort_ps.csv\"))"
   ]
  }
 ],
 "metadata": {
  "kernelspec": {
   "display_name": "R",
   "language": "R",
   "name": "ir"
  },
  "language_info": {
   "codemirror_mode": "r",
   "file_extension": ".r",
   "mimetype": "text/x-r-source",
   "name": "R",
   "pygments_lexer": "r",
   "version": "3.4.3"
  },
  "varInspector": {
   "cols": {
    "lenName": 16,
    "lenType": 16,
    "lenVar": 40
   },
   "kernels_config": {
    "python": {
     "delete_cmd_postfix": "",
     "delete_cmd_prefix": "del ",
     "library": "var_list.py",
     "varRefreshCmd": "print(var_dic_list())"
    },
    "r": {
     "delete_cmd_postfix": ") ",
     "delete_cmd_prefix": "rm(",
     "library": "var_list.r",
     "varRefreshCmd": "cat(var_dic_list()) "
    }
   },
   "types_to_exclude": [
    "module",
    "function",
    "builtin_function_or_method",
    "instance",
    "_Feature"
   ],
   "window_display": false
  }
 },
 "nbformat": 4,
 "nbformat_minor": 2
}
