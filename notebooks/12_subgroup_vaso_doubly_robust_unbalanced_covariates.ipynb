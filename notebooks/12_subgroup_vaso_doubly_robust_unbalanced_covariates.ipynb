{
 "cells": [
  {
   "cell_type": "code",
   "execution_count": 1,
   "metadata": {},
   "outputs": [
    {
     "name": "stderr",
     "output_type": "stream",
     "text": [
      "Loading required package: grid\n",
      "Loading required package: Matrix\n",
      "Loading required package: survival\n",
      "\n",
      "Attaching package: ‘survey’\n",
      "\n",
      "The following object is masked from ‘package:graphics’:\n",
      "\n",
      "    dotchart\n",
      "\n",
      "── Attaching packages ─────────────────────────────────────── tidyverse 1.2.1 ──\n",
      "✔ ggplot2 2.2.1     ✔ purrr   0.2.4\n",
      "✔ tibble  1.4.2     ✔ dplyr   0.7.4\n",
      "✔ tidyr   0.8.0     ✔ stringr 1.3.0\n",
      "✔ readr   1.1.1     ✔ forcats 0.3.0\n",
      "── Conflicts ────────────────────────────────────────── tidyverse_conflicts() ──\n",
      "✖ tidyr::expand() masks Matrix::expand()\n",
      "✖ dplyr::filter() masks stats::filter()\n",
      "✖ dplyr::lag()    masks stats::lag()\n"
     ]
    }
   ],
   "source": [
    "library(survey)\n",
    "library(tidyverse)"
   ]
  },
  {
   "cell_type": "code",
   "execution_count": 2,
   "metadata": {},
   "outputs": [],
   "source": [
    "data_dir <- file.path(\"..\", \"data\")"
   ]
  },
  {
   "cell_type": "code",
   "execution_count": 3,
   "metadata": {},
   "outputs": [
    {
     "data": {
      "text/html": [
       "<table>\n",
       "<thead><tr><th scope=col>icustay_id</th><th scope=col>hadm_id</th><th scope=col>subject_id</th><th scope=col>first_careunit</th><th scope=col>intime</th><th scope=col>outtime</th><th scope=col>angus</th><th scope=col>age</th><th scope=col>icu_order</th><th scope=col>echo_time</th><th scope=col>⋯</th><th scope=col>lab_pco2_flag</th><th scope=col>lab_creatinine_flag</th><th scope=col>lab_potassium_flag</th><th scope=col>lab_troponin_flag</th><th scope=col>lab_po2_flag</th><th scope=col>lab_lactate_flag</th><th scope=col>echo_int</th><th scope=col>mort_28_day_int</th><th scope=col>ps</th><th scope=col>ps_weight</th></tr></thead>\n",
       "<tbody>\n",
       "\t<tr><td>214954             </td><td>170515             </td><td>54642              </td><td>MICU               </td><td>2176-03-11 04:58:23</td><td>2176-03-15 18:00:48</td><td>1                  </td><td>63.86507           </td><td>1                  </td><td>2176-03-11         </td><td>⋯                  </td><td>1                  </td><td>1                  </td><td>1                  </td><td>1                  </td><td>1                  </td><td>1                  </td><td>1                  </td><td>0                  </td><td>0.7339584          </td><td>1.362475           </td></tr>\n",
       "\t<tr><td>264413             </td><td>134244             </td><td>81436              </td><td>MICU               </td><td>2133-03-27 16:31:37</td><td>2133-04-04 16:15:28</td><td>1                  </td><td>62.60148           </td><td>1                  </td><td>2133-03-31         </td><td>⋯                  </td><td>0                  </td><td>1                  </td><td>1                  </td><td>0                  </td><td>0                  </td><td>1                  </td><td>1                  </td><td>0                  </td><td>0.3889232          </td><td>2.571202           </td></tr>\n",
       "\t<tr><td>214106             </td><td>123152             </td><td>74869              </td><td>MICU               </td><td>2150-09-05 17:50:32</td><td>2150-09-12 21:40:59</td><td>1                  </td><td>74.13371           </td><td>1                  </td><td>2150-09-07         </td><td>⋯                  </td><td>1                  </td><td>1                  </td><td>1                  </td><td>1                  </td><td>1                  </td><td>1                  </td><td>1                  </td><td>1                  </td><td>0.7721262          </td><td>1.295125           </td></tr>\n",
       "\t<tr><td>254478             </td><td>128652             </td><td>   31              </td><td>MICU               </td><td>2108-08-22 23:28:42</td><td>2108-08-30 21:59:20</td><td>1                  </td><td>72.26709           </td><td>1                  </td><td>NA                 </td><td>⋯                  </td><td>1                  </td><td>1                  </td><td>1                  </td><td>0                  </td><td>1                  </td><td>1                  </td><td>0                  </td><td>1                  </td><td>0.1951075          </td><td>1.242402           </td></tr>\n",
       "\t<tr><td>264446             </td><td>165520             </td><td>10013              </td><td>MICU               </td><td>2125-10-04 23:38:00</td><td>2125-10-07 15:13:52</td><td>1                  </td><td>87.08742           </td><td>1                  </td><td>NA                 </td><td>⋯                  </td><td>1                  </td><td>1                  </td><td>1                  </td><td>0                  </td><td>1                  </td><td>0                  </td><td>0                  </td><td>1                  </td><td>0.4902299          </td><td>1.961669           </td></tr>\n",
       "\t<tr><td>218143             </td><td>122936             </td><td>10370              </td><td>SICU               </td><td>2145-01-15 03:36:30</td><td>2145-01-20 19:00:30</td><td>1                  </td><td>45.06368           </td><td>1                  </td><td>2145-01-14         </td><td>⋯                  </td><td>1                  </td><td>1                  </td><td>1                  </td><td>0                  </td><td>1                  </td><td>1                  </td><td>1                  </td><td>0                  </td><td>0.8799575          </td><td>1.136419           </td></tr>\n",
       "</tbody>\n",
       "</table>\n"
      ],
      "text/latex": [
       "\\begin{tabular}{r|llllllllllllllllllllllllllllllllllllllllllllllllllllllllllllllllllllllllllllllllllllllllllllllllllllllllllllllllllllllllllllllllllllll}\n",
       " icustay\\_id & hadm\\_id & subject\\_id & first\\_careunit & intime & outtime & angus & age & icu\\_order & echo\\_time & ⋯ & lab\\_pco2\\_flag & lab\\_creatinine\\_flag & lab\\_potassium\\_flag & lab\\_troponin\\_flag & lab\\_po2\\_flag & lab\\_lactate\\_flag & echo\\_int & mort\\_28\\_day\\_int & ps & ps\\_weight\\\\\n",
       "\\hline\n",
       "\t 214954              & 170515              & 54642               & MICU                & 2176-03-11 04:58:23 & 2176-03-15 18:00:48 & 1                   & 63.86507            & 1                   & 2176-03-11          & ⋯                   & 1                   & 1                   & 1                   & 1                   & 1                   & 1                   & 1                   & 0                   & 0.7339584           & 1.362475           \\\\\n",
       "\t 264413              & 134244              & 81436               & MICU                & 2133-03-27 16:31:37 & 2133-04-04 16:15:28 & 1                   & 62.60148            & 1                   & 2133-03-31          & ⋯                   & 0                   & 1                   & 1                   & 0                   & 0                   & 1                   & 1                   & 0                   & 0.3889232           & 2.571202           \\\\\n",
       "\t 214106              & 123152              & 74869               & MICU                & 2150-09-05 17:50:32 & 2150-09-12 21:40:59 & 1                   & 74.13371            & 1                   & 2150-09-07          & ⋯                   & 1                   & 1                   & 1                   & 1                   & 1                   & 1                   & 1                   & 1                   & 0.7721262           & 1.295125           \\\\\n",
       "\t 254478              & 128652              &    31               & MICU                & 2108-08-22 23:28:42 & 2108-08-30 21:59:20 & 1                   & 72.26709            & 1                   & NA                  & ⋯                   & 1                   & 1                   & 1                   & 0                   & 1                   & 1                   & 0                   & 1                   & 0.1951075           & 1.242402           \\\\\n",
       "\t 264446              & 165520              & 10013               & MICU                & 2125-10-04 23:38:00 & 2125-10-07 15:13:52 & 1                   & 87.08742            & 1                   & NA                  & ⋯                   & 1                   & 1                   & 1                   & 0                   & 1                   & 0                   & 0                   & 1                   & 0.4902299           & 1.961669           \\\\\n",
       "\t 218143              & 122936              & 10370               & SICU                & 2145-01-15 03:36:30 & 2145-01-20 19:00:30 & 1                   & 45.06368            & 1                   & 2145-01-14          & ⋯                   & 1                   & 1                   & 1                   & 0                   & 1                   & 1                   & 1                   & 0                   & 0.8799575           & 1.136419           \\\\\n",
       "\\end{tabular}\n"
      ],
      "text/markdown": [
       "\n",
       "icustay_id | hadm_id | subject_id | first_careunit | intime | outtime | angus | age | icu_order | echo_time | ⋯ | lab_pco2_flag | lab_creatinine_flag | lab_potassium_flag | lab_troponin_flag | lab_po2_flag | lab_lactate_flag | echo_int | mort_28_day_int | ps | ps_weight | \n",
       "|---|---|---|---|---|---|\n",
       "| 214954              | 170515              | 54642               | MICU                | 2176-03-11 04:58:23 | 2176-03-15 18:00:48 | 1                   | 63.86507            | 1                   | 2176-03-11          | ⋯                   | 1                   | 1                   | 1                   | 1                   | 1                   | 1                   | 1                   | 0                   | 0.7339584           | 1.362475            | \n",
       "| 264413              | 134244              | 81436               | MICU                | 2133-03-27 16:31:37 | 2133-04-04 16:15:28 | 1                   | 62.60148            | 1                   | 2133-03-31          | ⋯                   | 0                   | 1                   | 1                   | 0                   | 0                   | 1                   | 1                   | 0                   | 0.3889232           | 2.571202            | \n",
       "| 214106              | 123152              | 74869               | MICU                | 2150-09-05 17:50:32 | 2150-09-12 21:40:59 | 1                   | 74.13371            | 1                   | 2150-09-07          | ⋯                   | 1                   | 1                   | 1                   | 1                   | 1                   | 1                   | 1                   | 1                   | 0.7721262           | 1.295125            | \n",
       "| 254478              | 128652              |    31               | MICU                | 2108-08-22 23:28:42 | 2108-08-30 21:59:20 | 1                   | 72.26709            | 1                   | NA                  | ⋯                   | 1                   | 1                   | 1                   | 0                   | 1                   | 1                   | 0                   | 1                   | 0.1951075           | 1.242402            | \n",
       "| 264446              | 165520              | 10013               | MICU                | 2125-10-04 23:38:00 | 2125-10-07 15:13:52 | 1                   | 87.08742            | 1                   | NA                  | ⋯                   | 1                   | 1                   | 1                   | 0                   | 1                   | 0                   | 0                   | 1                   | 0.4902299           | 1.961669            | \n",
       "| 218143              | 122936              | 10370               | SICU                | 2145-01-15 03:36:30 | 2145-01-20 19:00:30 | 1                   | 45.06368            | 1                   | 2145-01-14          | ⋯                   | 1                   | 1                   | 1                   | 0                   | 1                   | 1                   | 1                   | 0                   | 0.8799575           | 1.136419            | \n",
       "\n",
       "\n"
      ],
      "text/plain": [
       "  icustay_id hadm_id subject_id first_careunit intime             \n",
       "1 214954     170515  54642      MICU           2176-03-11 04:58:23\n",
       "2 264413     134244  81436      MICU           2133-03-27 16:31:37\n",
       "3 214106     123152  74869      MICU           2150-09-05 17:50:32\n",
       "4 254478     128652     31      MICU           2108-08-22 23:28:42\n",
       "5 264446     165520  10013      MICU           2125-10-04 23:38:00\n",
       "6 218143     122936  10370      SICU           2145-01-15 03:36:30\n",
       "  outtime             angus age      icu_order echo_time  ⋯ lab_pco2_flag\n",
       "1 2176-03-15 18:00:48 1     63.86507 1         2176-03-11 ⋯ 1            \n",
       "2 2133-04-04 16:15:28 1     62.60148 1         2133-03-31 ⋯ 0            \n",
       "3 2150-09-12 21:40:59 1     74.13371 1         2150-09-07 ⋯ 1            \n",
       "4 2108-08-30 21:59:20 1     72.26709 1         <NA>       ⋯ 1            \n",
       "5 2125-10-07 15:13:52 1     87.08742 1         <NA>       ⋯ 1            \n",
       "6 2145-01-20 19:00:30 1     45.06368 1         2145-01-14 ⋯ 1            \n",
       "  lab_creatinine_flag lab_potassium_flag lab_troponin_flag lab_po2_flag\n",
       "1 1                   1                  1                 1           \n",
       "2 1                   1                  0                 0           \n",
       "3 1                   1                  1                 1           \n",
       "4 1                   1                  0                 1           \n",
       "5 1                   1                  0                 1           \n",
       "6 1                   1                  0                 1           \n",
       "  lab_lactate_flag echo_int mort_28_day_int ps        ps_weight\n",
       "1 1                1        0               0.7339584 1.362475 \n",
       "2 1                1        0               0.3889232 2.571202 \n",
       "3 1                1        1               0.7721262 1.295125 \n",
       "4 1                0        1               0.1951075 1.242402 \n",
       "5 0                0        1               0.4902299 1.961669 \n",
       "6 1                1        0               0.8799575 1.136419 "
      ]
     },
     "metadata": {},
     "output_type": "display_data"
    }
   ],
   "source": [
    "full_data <- readRDS(file.path(data_dir, \"full_data_ps_subgroup_vaso.rds\"))\n",
    "head(full_data)"
   ]
  },
  {
   "cell_type": "code",
   "execution_count": 4,
   "metadata": {},
   "outputs": [
    {
     "data": {
      "text/html": [
       "<table>\n",
       "<thead><tr><th scope=col>cov</th><th scope=col>pval</th></tr></thead>\n",
       "<tbody>\n",
       "\t<tr><td>age           </td><td>0.026         </td></tr>\n",
       "\t<tr><td>gender        </td><td>0.328         </td></tr>\n",
       "\t<tr><td>first_careunit</td><td>0.834         </td></tr>\n",
       "\t<tr><td>weight        </td><td>0.122         </td></tr>\n",
       "\t<tr><td>saps          </td><td>0.755         </td></tr>\n",
       "\t<tr><td>sofa          </td><td>0.145         </td></tr>\n",
       "</tbody>\n",
       "</table>\n"
      ],
      "text/latex": [
       "\\begin{tabular}{r|ll}\n",
       " cov & pval\\\\\n",
       "\\hline\n",
       "\t age            & 0.026         \\\\\n",
       "\t gender         & 0.328         \\\\\n",
       "\t first\\_careunit & 0.834           \\\\\n",
       "\t weight         & 0.122         \\\\\n",
       "\t saps           & 0.755         \\\\\n",
       "\t sofa           & 0.145         \\\\\n",
       "\\end{tabular}\n"
      ],
      "text/markdown": [
       "\n",
       "cov | pval | \n",
       "|---|---|---|---|---|---|\n",
       "| age            | 0.026          | \n",
       "| gender         | 0.328          | \n",
       "| first_careunit | 0.834          | \n",
       "| weight         | 0.122          | \n",
       "| saps           | 0.755          | \n",
       "| sofa           | 0.145          | \n",
       "\n",
       "\n"
      ],
      "text/plain": [
       "  cov            pval \n",
       "1 age            0.026\n",
       "2 gender         0.328\n",
       "3 first_careunit 0.834\n",
       "4 weight         0.122\n",
       "5 saps           0.755\n",
       "6 sofa           0.145"
      ]
     },
     "metadata": {},
     "output_type": "display_data"
    }
   ],
   "source": [
    "wtd_pval <- data.table::fread(file.path(data_dir, \"wtd_pval_subgroup_vaso.csv\"), data.table = FALSE)\n",
    "head(wtd_pval)"
   ]
  },
  {
   "cell_type": "code",
   "execution_count": 5,
   "metadata": {},
   "outputs": [
    {
     "data": {
      "text/html": [
       "<ol class=list-inline>\n",
       "\t<li>'age'</li>\n",
       "\t<li>'vent'</li>\n",
       "\t<li>'sedative'</li>\n",
       "\t<li>'icd_chf'</li>\n",
       "\t<li>'icd_afib'</li>\n",
       "\t<li>'icd_cad'</li>\n",
       "\t<li>'icd_stroke'</li>\n",
       "\t<li>'vs_cvp_first'</li>\n",
       "\t<li>'lab_lactate_first'</li>\n",
       "\t<li>'lab_creatinine_first'</li>\n",
       "\t<li>'lab_bnp_flag'</li>\n",
       "\t<li>'lab_troponin_flag'</li>\n",
       "\t<li>'lab_creatinine_kinase_flag'</li>\n",
       "</ol>\n"
      ],
      "text/latex": [
       "\\begin{enumerate*}\n",
       "\\item 'age'\n",
       "\\item 'vent'\n",
       "\\item 'sedative'\n",
       "\\item 'icd\\_chf'\n",
       "\\item 'icd\\_afib'\n",
       "\\item 'icd\\_cad'\n",
       "\\item 'icd\\_stroke'\n",
       "\\item 'vs\\_cvp\\_first'\n",
       "\\item 'lab\\_lactate\\_first'\n",
       "\\item 'lab\\_creatinine\\_first'\n",
       "\\item 'lab\\_bnp\\_flag'\n",
       "\\item 'lab\\_troponin\\_flag'\n",
       "\\item 'lab\\_creatinine\\_kinase\\_flag'\n",
       "\\end{enumerate*}\n"
      ],
      "text/markdown": [
       "1. 'age'\n",
       "2. 'vent'\n",
       "3. 'sedative'\n",
       "4. 'icd_chf'\n",
       "5. 'icd_afib'\n",
       "6. 'icd_cad'\n",
       "7. 'icd_stroke'\n",
       "8. 'vs_cvp_first'\n",
       "9. 'lab_lactate_first'\n",
       "10. 'lab_creatinine_first'\n",
       "11. 'lab_bnp_flag'\n",
       "12. 'lab_troponin_flag'\n",
       "13. 'lab_creatinine_kinase_flag'\n",
       "\n",
       "\n"
      ],
      "text/plain": [
       " [1] \"age\"                        \"vent\"                      \n",
       " [3] \"sedative\"                   \"icd_chf\"                   \n",
       " [5] \"icd_afib\"                   \"icd_cad\"                   \n",
       " [7] \"icd_stroke\"                 \"vs_cvp_first\"              \n",
       " [9] \"lab_lactate_first\"          \"lab_creatinine_first\"      \n",
       "[11] \"lab_bnp_flag\"               \"lab_troponin_flag\"         \n",
       "[13] \"lab_creatinine_kinase_flag\""
      ]
     },
     "metadata": {},
     "output_type": "display_data"
    }
   ],
   "source": [
    "wpv <- wtd_pval %>%\n",
    "    filter(pval < 0.05) %>%\n",
    "    pull(cov)\n",
    "\n",
    "wpv"
   ]
  },
  {
   "cell_type": "code",
   "execution_count": 6,
   "metadata": {},
   "outputs": [],
   "source": [
    "ipw_svydesign <- readRDS(file.path(data_dir, \"ipw_svydesign_subgroup_vaso.rds\"))"
   ]
  },
  {
   "cell_type": "code",
   "execution_count": 7,
   "metadata": {},
   "outputs": [
    {
     "data": {
      "text/html": [
       "'mort_28_day ~ echo + age + vent + sedative + icd_chf + icd_afib + icd_cad + icd_stroke + vs_cvp_first + lab_lactate_first + lab_creatinine_first + lab_bnp_flag + lab_troponin_flag + lab_creatinine_kinase_flag'"
      ],
      "text/latex": [
       "'mort\\_28\\_day \\textasciitilde{} echo + age + vent + sedative + icd\\_chf + icd\\_afib + icd\\_cad + icd\\_stroke + vs\\_cvp\\_first + lab\\_lactate\\_first + lab\\_creatinine\\_first + lab\\_bnp\\_flag + lab\\_troponin\\_flag + lab\\_creatinine\\_kinase\\_flag'"
      ],
      "text/markdown": [
       "'mort_28_day ~ echo + age + vent + sedative + icd_chf + icd_afib + icd_cad + icd_stroke + vs_cvp_first + lab_lactate_first + lab_creatinine_first + lab_bnp_flag + lab_troponin_flag + lab_creatinine_kinase_flag'"
      ],
      "text/plain": [
       "[1] \"mort_28_day ~ echo + age + vent + sedative + icd_chf + icd_afib + icd_cad + icd_stroke + vs_cvp_first + lab_lactate_first + lab_creatinine_first + lab_bnp_flag + lab_troponin_flag + lab_creatinine_kinase_flag\""
      ]
     },
     "metadata": {},
     "output_type": "display_data"
    }
   ],
   "source": [
    "fml <- wpv %>%\n",
    "c(\"echo\", .) %>%\n",
    "paste(collapse = \" + \") %>%\n",
    "sprintf(\"mort_28_day ~ %s\", .)\n",
    "\n",
    "fml"
   ]
  },
  {
   "cell_type": "code",
   "execution_count": 8,
   "metadata": {},
   "outputs": [],
   "source": [
    "logi <- svyglm(as.formula(fml), family = quasibinomial, design = ipw_svydesign)"
   ]
  },
  {
   "cell_type": "code",
   "execution_count": 9,
   "metadata": {},
   "outputs": [
    {
     "data": {
      "text/plain": [
       "\n",
       "Call:\n",
       "svyglm(formula = as.formula(fml), family = quasibinomial, design = ipw_svydesign)\n",
       "\n",
       "Survey design:\n",
       "svydesign(ids = ~icustay_id, weights = ~ps_weight, data = full_data)\n",
       "\n",
       "Coefficients:\n",
       "                             Estimate Std. Error t value Pr(>|t|)    \n",
       "(Intercept)                 -3.495515   0.398304  -8.776  < 2e-16 ***\n",
       "echo1                       -0.476362   0.147636  -3.227  0.00129 ** \n",
       "age                          0.022135   0.004726   4.684 3.12e-06 ***\n",
       "vent1                        0.738897   0.273536   2.701  0.00700 ** \n",
       "sedative1                    0.060931   0.245138   0.249  0.80374    \n",
       "icd_chf1                    -0.193666   0.170004  -1.139  0.25484    \n",
       "icd_afib1                    0.219342   0.159839   1.372  0.17023    \n",
       "icd_cad1                    -0.353070   0.205039  -1.722  0.08532 .  \n",
       "icd_stroke1                  0.483422   0.313863   1.540  0.12376    \n",
       "vs_cvp_first                 0.002408   0.003176   0.758  0.44836    \n",
       "lab_lactate_first            0.221657   0.028315   7.828 1.05e-14 ***\n",
       "lab_creatinine_first         0.121056   0.046947   2.579  0.01003 *  \n",
       "lab_bnp_flag1                0.520928   0.323903   1.608  0.10803    \n",
       "lab_troponin_flag1           0.202095   0.189720   1.065  0.28698    \n",
       "lab_creatinine_kinase_flag1  0.072947   0.188764   0.386  0.69923    \n",
       "---\n",
       "Signif. codes:  0 ‘***’ 0.001 ‘**’ 0.01 ‘*’ 0.05 ‘.’ 0.1 ‘ ’ 1\n",
       "\n",
       "(Dispersion parameter for quasibinomial family taken to be 0.986868)\n",
       "\n",
       "Number of Fisher Scoring iterations: 4\n"
      ]
     },
     "metadata": {},
     "output_type": "display_data"
    }
   ],
   "source": [
    "summary(logi)"
   ]
  },
  {
   "cell_type": "code",
   "execution_count": 10,
   "metadata": {},
   "outputs": [
    {
     "data": {
      "text/html": [
       "<table>\n",
       "<thead><tr><th></th><th scope=col>OR</th><th scope=col>2.5 %</th><th scope=col>97.5 %</th></tr></thead>\n",
       "<tbody>\n",
       "\t<tr><th scope=row>(Intercept)</th><td>0.03033314</td><td>0.0138957 </td><td>0.06621464</td></tr>\n",
       "\t<tr><th scope=row>echo1</th><td>0.62103869</td><td>0.4649972 </td><td>0.82944374</td></tr>\n",
       "\t<tr><th scope=row>age</th><td>1.02238142</td><td>1.0129557 </td><td>1.03189486</td></tr>\n",
       "\t<tr><th scope=row>vent1</th><td>2.09362509</td><td>1.2247994 </td><td>3.57876229</td></tr>\n",
       "\t<tr><th scope=row>sedative1</th><td>1.06282538</td><td>0.6573555 </td><td>1.71839715</td></tr>\n",
       "\t<tr><th scope=row>icd_chf1</th><td>0.82393269</td><td>0.5904508 </td><td>1.14974034</td></tr>\n",
       "\t<tr><th scope=row>icd_afib1</th><td>1.24525663</td><td>0.9103403 </td><td>1.70338947</td></tr>\n",
       "\t<tr><th scope=row>icd_cad1</th><td>0.70252835</td><td>0.4700399 </td><td>1.05000884</td></tr>\n",
       "\t<tr><th scope=row>icd_stroke1</th><td>1.62161389</td><td>0.8765702 </td><td>2.99990998</td></tr>\n",
       "\t<tr><th scope=row>vs_cvp_first</th><td>1.00241137</td><td>0.9961913 </td><td>1.00867025</td></tr>\n",
       "\t<tr><th scope=row>lab_lactate_first</th><td>1.24814323</td><td>1.1807617 </td><td>1.31936993</td></tr>\n",
       "\t<tr><th scope=row>lab_creatinine_first</th><td>1.12868863</td><td>1.0294686 </td><td>1.23747144</td></tr>\n",
       "\t<tr><th scope=row>lab_bnp_flag1</th><td>1.68358846</td><td>0.8923371 </td><td>3.17645661</td></tr>\n",
       "\t<tr><th scope=row>lab_troponin_flag1</th><td>1.22396399</td><td>0.8438755 </td><td>1.77524741</td></tr>\n",
       "\t<tr><th scope=row>lab_creatinine_kinase_flag1</th><td>1.07567323</td><td>0.7430258 </td><td>1.55724458</td></tr>\n",
       "</tbody>\n",
       "</table>\n"
      ],
      "text/latex": [
       "\\begin{tabular}{r|lll}\n",
       "  & OR & 2.5 \\% & 97.5 \\%\\\\\n",
       "\\hline\n",
       "\t(Intercept) & 0.03033314 & 0.0138957  & 0.06621464\\\\\n",
       "\techo1 & 0.62103869 & 0.4649972  & 0.82944374\\\\\n",
       "\tage & 1.02238142 & 1.0129557  & 1.03189486\\\\\n",
       "\tvent1 & 2.09362509 & 1.2247994  & 3.57876229\\\\\n",
       "\tsedative1 & 1.06282538 & 0.6573555  & 1.71839715\\\\\n",
       "\ticd\\_chf1 & 0.82393269 & 0.5904508  & 1.14974034\\\\\n",
       "\ticd\\_afib1 & 1.24525663 & 0.9103403  & 1.70338947\\\\\n",
       "\ticd\\_cad1 & 0.70252835 & 0.4700399  & 1.05000884\\\\\n",
       "\ticd\\_stroke1 & 1.62161389 & 0.8765702  & 2.99990998\\\\\n",
       "\tvs\\_cvp\\_first & 1.00241137 & 0.9961913  & 1.00867025\\\\\n",
       "\tlab\\_lactate\\_first & 1.24814323 & 1.1807617  & 1.31936993\\\\\n",
       "\tlab\\_creatinine\\_first & 1.12868863 & 1.0294686  & 1.23747144\\\\\n",
       "\tlab\\_bnp\\_flag1 & 1.68358846 & 0.8923371  & 3.17645661\\\\\n",
       "\tlab\\_troponin\\_flag1 & 1.22396399 & 0.8438755  & 1.77524741\\\\\n",
       "\tlab\\_creatinine\\_kinase\\_flag1 & 1.07567323 & 0.7430258  & 1.55724458\\\\\n",
       "\\end{tabular}\n"
      ],
      "text/markdown": [
       "\n",
       "| <!--/--> | OR | 2.5 % | 97.5 % | \n",
       "|---|---|---|---|---|---|---|---|---|---|---|---|---|---|---|\n",
       "| (Intercept) | 0.03033314 | 0.0138957  | 0.06621464 | \n",
       "| echo1 | 0.62103869 | 0.4649972  | 0.82944374 | \n",
       "| age | 1.02238142 | 1.0129557  | 1.03189486 | \n",
       "| vent1 | 2.09362509 | 1.2247994  | 3.57876229 | \n",
       "| sedative1 | 1.06282538 | 0.6573555  | 1.71839715 | \n",
       "| icd_chf1 | 0.82393269 | 0.5904508  | 1.14974034 | \n",
       "| icd_afib1 | 1.24525663 | 0.9103403  | 1.70338947 | \n",
       "| icd_cad1 | 0.70252835 | 0.4700399  | 1.05000884 | \n",
       "| icd_stroke1 | 1.62161389 | 0.8765702  | 2.99990998 | \n",
       "| vs_cvp_first | 1.00241137 | 0.9961913  | 1.00867025 | \n",
       "| lab_lactate_first | 1.24814323 | 1.1807617  | 1.31936993 | \n",
       "| lab_creatinine_first | 1.12868863 | 1.0294686  | 1.23747144 | \n",
       "| lab_bnp_flag1 | 1.68358846 | 0.8923371  | 3.17645661 | \n",
       "| lab_troponin_flag1 | 1.22396399 | 0.8438755  | 1.77524741 | \n",
       "| lab_creatinine_kinase_flag1 | 1.07567323 | 0.7430258  | 1.55724458 | \n",
       "\n",
       "\n"
      ],
      "text/plain": [
       "                            OR         2.5 %     97.5 %    \n",
       "(Intercept)                 0.03033314 0.0138957 0.06621464\n",
       "echo1                       0.62103869 0.4649972 0.82944374\n",
       "age                         1.02238142 1.0129557 1.03189486\n",
       "vent1                       2.09362509 1.2247994 3.57876229\n",
       "sedative1                   1.06282538 0.6573555 1.71839715\n",
       "icd_chf1                    0.82393269 0.5904508 1.14974034\n",
       "icd_afib1                   1.24525663 0.9103403 1.70338947\n",
       "icd_cad1                    0.70252835 0.4700399 1.05000884\n",
       "icd_stroke1                 1.62161389 0.8765702 2.99990998\n",
       "vs_cvp_first                1.00241137 0.9961913 1.00867025\n",
       "lab_lactate_first           1.24814323 1.1807617 1.31936993\n",
       "lab_creatinine_first        1.12868863 1.0294686 1.23747144\n",
       "lab_bnp_flag1               1.68358846 0.8923371 3.17645661\n",
       "lab_troponin_flag1          1.22396399 0.8438755 1.77524741\n",
       "lab_creatinine_kinase_flag1 1.07567323 0.7430258 1.55724458"
      ]
     },
     "metadata": {},
     "output_type": "display_data"
    }
   ],
   "source": [
    "exp(cbind(OR = coef(logi), confint(logi)))"
   ]
  }
 ],
 "metadata": {
  "kernelspec": {
   "display_name": "R",
   "language": "R",
   "name": "ir"
  },
  "language_info": {
   "codemirror_mode": "r",
   "file_extension": ".r",
   "mimetype": "text/x-r-source",
   "name": "R",
   "pygments_lexer": "r",
   "version": "3.4.4"
  },
  "varInspector": {
   "cols": {
    "lenName": 16,
    "lenType": 16,
    "lenVar": 40
   },
   "kernels_config": {
    "python": {
     "delete_cmd_postfix": "",
     "delete_cmd_prefix": "del ",
     "library": "var_list.py",
     "varRefreshCmd": "print(var_dic_list())"
    },
    "r": {
     "delete_cmd_postfix": ") ",
     "delete_cmd_prefix": "rm(",
     "library": "var_list.r",
     "varRefreshCmd": "cat(var_dic_list()) "
    }
   },
   "types_to_exclude": [
    "module",
    "function",
    "builtin_function_or_method",
    "instance",
    "_Feature"
   ],
   "window_display": false
  }
 },
 "nbformat": 4,
 "nbformat_minor": 2
}
