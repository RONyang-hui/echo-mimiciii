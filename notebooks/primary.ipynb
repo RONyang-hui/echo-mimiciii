{
 "cells": [
  {
   "cell_type": "code",
   "execution_count": 1,
   "metadata": {},
   "outputs": [
    {
     "name": "stderr",
     "output_type": "stream",
     "text": [
      "Loading required package: DBI\n",
      "Loading required package: gbm\n",
      "Loading required package: survival\n",
      "Loading required package: lattice\n",
      "Loading required package: splines\n",
      "Loading required package: parallel\n",
      "Loaded gbm 2.1.3\n",
      "Loading required package: survey\n",
      "Loading required package: grid\n",
      "Loading required package: Matrix\n",
      "\n",
      "Attaching package: ‘survey’\n",
      "\n",
      "The following object is masked from ‘package:graphics’:\n",
      "\n",
      "    dotchart\n",
      "\n",
      "Loading required package: xtable\n",
      "Loading required package: latticeExtra\n",
      "Loading required package: RColorBrewer\n",
      "Loading required package: MASS\n",
      "## \n",
      "##  Matching (Version 4.9-2, Build Date: 2015-12-25)\n",
      "##  See http://sekhon.berkeley.edu/matching for additional documentation.\n",
      "##  Please cite software as:\n",
      "##   Jasjeet S. Sekhon. 2011. ``Multivariate and Propensity Score Matching\n",
      "##   Software with Automated Balance Optimization: The Matching package for R.''\n",
      "##   Journal of Statistical Software, 42(7): 1-52. \n",
      "##\n",
      "\n",
      "── Attaching packages ─────────────────────────────────────── tidyverse 1.2.1 ──\n",
      "✔ ggplot2 2.2.1     ✔ purrr   0.2.4\n",
      "✔ tibble  1.4.2     ✔ dplyr   0.7.4\n",
      "✔ tidyr   0.8.0     ✔ stringr 1.2.0\n",
      "✔ readr   1.1.1     ✔ forcats 0.2.0\n",
      "── Conflicts ────────────────────────────────────────── tidyverse_conflicts() ──\n",
      "✖ tidyr::expand()  masks Matrix::expand()\n",
      "✖ dplyr::filter()  masks stats::filter()\n",
      "✖ dplyr::lag()     masks stats::lag()\n",
      "✖ ggplot2::layer() masks latticeExtra::layer()\n",
      "✖ dplyr::select()  masks MASS::select()\n"
     ]
    }
   ],
   "source": [
    "library(RPostgreSQL)\n",
    "library(twang)\n",
    "library(Matching)\n",
    "library(tidyverse)"
   ]
  },
  {
   "cell_type": "code",
   "execution_count": 2,
   "metadata": {},
   "outputs": [],
   "source": [
    "data_dir <- file.path(\"..\", \"data\")\n",
    "sql_dir <- file.path(\"..\", \"sql\")"
   ]
  },
  {
   "cell_type": "code",
   "execution_count": 3,
   "metadata": {},
   "outputs": [
    {
     "data": {
      "text/plain": [
       "<PostgreSQLResult>"
      ]
     },
     "metadata": {},
     "output_type": "display_data"
    }
   ],
   "source": [
    "drv <- dbDriver(\"PostgreSQL\")\n",
    "con <- dbConnect(drv, dbname = \"mimic\")\n",
    "dbSendQuery(con, \"set search_path=echo,public,mimiciii;\")"
   ]
  },
  {
   "cell_type": "code",
   "execution_count": 4,
   "metadata": {},
   "outputs": [
    {
     "data": {
      "text/html": [
       "<table>\n",
       "<thead><tr><th scope=col>icustay_id</th><th scope=col>hadm_id</th><th scope=col>subject_id</th><th scope=col>first_careunit</th><th scope=col>intime</th><th scope=col>outtime</th><th scope=col>angus</th><th scope=col>age</th><th scope=col>icu_order</th><th scope=col>echo_time</th><th scope=col>⋯</th><th scope=col>lab_po2_first</th><th scope=col>lab_po2_min</th><th scope=col>lab_po2_max</th><th scope=col>lab_po2_abnormal</th><th scope=col>lab_lactate_flag</th><th scope=col>lab_lactate_first</th><th scope=col>lab_lactate_min</th><th scope=col>lab_lactate_max</th><th scope=col>lab_lactate_abnormal</th><th scope=col>sedative</th></tr></thead>\n",
       "<tbody>\n",
       "\t<tr><td>228416             </td><td>159895             </td><td> 5491              </td><td>MICU               </td><td>2151-06-29 01:18:27</td><td>2151-07-27 16:00:56</td><td>1                  </td><td>76.58225           </td><td>1                  </td><td>2151-06-30         </td><td>⋯                  </td><td> 98                </td><td> 98                </td><td> 98                </td><td> 0                 </td><td>1                  </td><td>1.4                </td><td>1.4                </td><td>1.4                </td><td> 0                 </td><td>0                  </td></tr>\n",
       "\t<tr><td>278148             </td><td>169700             </td><td>49395              </td><td>MICU               </td><td>2197-01-09 00:45:42</td><td>2197-01-10 06:46:29</td><td>1                  </td><td>82.72606           </td><td>1                  </td><td>NA                 </td><td>⋯                  </td><td> NA                </td><td> NA                </td><td> NA                </td><td>NA                 </td><td>0                  </td><td> NA                </td><td> NA                </td><td> NA                </td><td>NA                 </td><td>0                  </td></tr>\n",
       "\t<tr><td>274174             </td><td>103722             </td><td>14855              </td><td>MICU               </td><td>2181-09-08 23:43:13</td><td>2181-09-26 16:52:02</td><td>1                  </td><td>61.84390           </td><td>1                  </td><td>2181-09-11         </td><td>⋯                  </td><td>110                </td><td>110                </td><td>110                </td><td> 1                 </td><td>1                  </td><td>1.6                </td><td>1.6                </td><td>2.6                </td><td> 1                 </td><td>0                  </td></tr>\n",
       "\t<tr><td>214954             </td><td>170515             </td><td>54642              </td><td>MICU               </td><td>2176-03-11 04:58:23</td><td>2176-03-15 18:00:48</td><td>1                  </td><td>63.86507           </td><td>1                  </td><td>2176-03-11         </td><td>⋯                  </td><td> 85                </td><td> 85                </td><td>149                </td><td> 1                 </td><td>1                  </td><td>3.8                </td><td>2.2                </td><td>3.8                </td><td> 1                 </td><td>1                  </td></tr>\n",
       "\t<tr><td>222457             </td><td>183493             </td><td>96815              </td><td>MICU               </td><td>2105-06-04 20:57:55</td><td>2105-06-06 20:01:51</td><td>1                  </td><td>62.84018           </td><td>1                  </td><td>NA                 </td><td>⋯                  </td><td> NA                </td><td> NA                </td><td> NA                </td><td>NA                 </td><td>0                  </td><td> NA                </td><td> NA                </td><td> NA                </td><td>NA                 </td><td>0                  </td></tr>\n",
       "\t<tr><td>264413             </td><td>134244             </td><td>81436              </td><td>MICU               </td><td>2133-03-27 16:31:37</td><td>2133-04-04 16:15:28</td><td>1                  </td><td>62.60148           </td><td>1                  </td><td>2133-03-31         </td><td>⋯                  </td><td> NA                </td><td> NA                </td><td> NA                </td><td>NA                 </td><td>1                  </td><td>1.4                </td><td>1.4                </td><td>1.4                </td><td> 0                 </td><td>0                  </td></tr>\n",
       "</tbody>\n",
       "</table>\n"
      ],
      "text/latex": [
       "\\begin{tabular}{r|llllllllllllllllllllllllllllllllllllllllllllllllllllllllllllllllllllllllllllllllllllllllllllllllllllllllllllllllllllllllllllllllll}\n",
       " icustay\\_id & hadm\\_id & subject\\_id & first\\_careunit & intime & outtime & angus & age & icu\\_order & echo\\_time & ⋯ & lab\\_po2\\_first & lab\\_po2\\_min & lab\\_po2\\_max & lab\\_po2\\_abnormal & lab\\_lactate\\_flag & lab\\_lactate\\_first & lab\\_lactate\\_min & lab\\_lactate\\_max & lab\\_lactate\\_abnormal & sedative\\\\\n",
       "\\hline\n",
       "\t 228416              & 159895              &  5491               & MICU                & 2151-06-29 01:18:27 & 2151-07-27 16:00:56 & 1                   & 76.58225            & 1                   & 2151-06-30          & ⋯                   &  98                 &  98                 &  98                 &  0                  & 1                   & 1.4                 & 1.4                 & 1.4                 &  0                  & 0                  \\\\\n",
       "\t 278148              & 169700              & 49395               & MICU                & 2197-01-09 00:45:42 & 2197-01-10 06:46:29 & 1                   & 82.72606            & 1                   & NA                  & ⋯                   &  NA                 &  NA                 &  NA                 & NA                  & 0                   &  NA                 &  NA                 &  NA                 & NA                  & 0                  \\\\\n",
       "\t 274174              & 103722              & 14855               & MICU                & 2181-09-08 23:43:13 & 2181-09-26 16:52:02 & 1                   & 61.84390            & 1                   & 2181-09-11          & ⋯                   & 110                 & 110                 & 110                 &  1                  & 1                   & 1.6                 & 1.6                 & 2.6                 &  1                  & 0                  \\\\\n",
       "\t 214954              & 170515              & 54642               & MICU                & 2176-03-11 04:58:23 & 2176-03-15 18:00:48 & 1                   & 63.86507            & 1                   & 2176-03-11          & ⋯                   &  85                 &  85                 & 149                 &  1                  & 1                   & 3.8                 & 2.2                 & 3.8                 &  1                  & 1                  \\\\\n",
       "\t 222457              & 183493              & 96815               & MICU                & 2105-06-04 20:57:55 & 2105-06-06 20:01:51 & 1                   & 62.84018            & 1                   & NA                  & ⋯                   &  NA                 &  NA                 &  NA                 & NA                  & 0                   &  NA                 &  NA                 &  NA                 & NA                  & 0                  \\\\\n",
       "\t 264413              & 134244              & 81436               & MICU                & 2133-03-27 16:31:37 & 2133-04-04 16:15:28 & 1                   & 62.60148            & 1                   & 2133-03-31          & ⋯                   &  NA                 &  NA                 &  NA                 & NA                  & 1                   & 1.4                 & 1.4                 & 1.4                 &  0                  & 0                  \\\\\n",
       "\\end{tabular}\n"
      ],
      "text/markdown": [
       "\n",
       "icustay_id | hadm_id | subject_id | first_careunit | intime | outtime | angus | age | icu_order | echo_time | ⋯ | lab_po2_first | lab_po2_min | lab_po2_max | lab_po2_abnormal | lab_lactate_flag | lab_lactate_first | lab_lactate_min | lab_lactate_max | lab_lactate_abnormal | sedative | \n",
       "|---|---|---|---|---|---|\n",
       "| 228416              | 159895              |  5491               | MICU                | 2151-06-29 01:18:27 | 2151-07-27 16:00:56 | 1                   | 76.58225            | 1                   | 2151-06-30          | ⋯                   |  98                 |  98                 |  98                 |  0                  | 1                   | 1.4                 | 1.4                 | 1.4                 |  0                  | 0                   | \n",
       "| 278148              | 169700              | 49395               | MICU                | 2197-01-09 00:45:42 | 2197-01-10 06:46:29 | 1                   | 82.72606            | 1                   | NA                  | ⋯                   |  NA                 |  NA                 |  NA                 | NA                  | 0                   |  NA                 |  NA                 |  NA                 | NA                  | 0                   | \n",
       "| 274174              | 103722              | 14855               | MICU                | 2181-09-08 23:43:13 | 2181-09-26 16:52:02 | 1                   | 61.84390            | 1                   | 2181-09-11          | ⋯                   | 110                 | 110                 | 110                 |  1                  | 1                   | 1.6                 | 1.6                 | 2.6                 |  1                  | 0                   | \n",
       "| 214954              | 170515              | 54642               | MICU                | 2176-03-11 04:58:23 | 2176-03-15 18:00:48 | 1                   | 63.86507            | 1                   | 2176-03-11          | ⋯                   |  85                 |  85                 | 149                 |  1                  | 1                   | 3.8                 | 2.2                 | 3.8                 |  1                  | 1                   | \n",
       "| 222457              | 183493              | 96815               | MICU                | 2105-06-04 20:57:55 | 2105-06-06 20:01:51 | 1                   | 62.84018            | 1                   | NA                  | ⋯                   |  NA                 |  NA                 |  NA                 | NA                  | 0                   |  NA                 |  NA                 |  NA                 | NA                  | 0                   | \n",
       "| 264413              | 134244              | 81436               | MICU                | 2133-03-27 16:31:37 | 2133-04-04 16:15:28 | 1                   | 62.60148            | 1                   | 2133-03-31          | ⋯                   |  NA                 |  NA                 |  NA                 | NA                  | 1                   | 1.4                 | 1.4                 | 1.4                 |  0                  | 0                   | \n",
       "\n",
       "\n"
      ],
      "text/plain": [
       "  icustay_id hadm_id subject_id first_careunit intime             \n",
       "1 228416     159895   5491      MICU           2151-06-29 01:18:27\n",
       "2 278148     169700  49395      MICU           2197-01-09 00:45:42\n",
       "3 274174     103722  14855      MICU           2181-09-08 23:43:13\n",
       "4 214954     170515  54642      MICU           2176-03-11 04:58:23\n",
       "5 222457     183493  96815      MICU           2105-06-04 20:57:55\n",
       "6 264413     134244  81436      MICU           2133-03-27 16:31:37\n",
       "  outtime             angus age      icu_order echo_time  ⋯ lab_po2_first\n",
       "1 2151-07-27 16:00:56 1     76.58225 1         2151-06-30 ⋯  98          \n",
       "2 2197-01-10 06:46:29 1     82.72606 1         <NA>       ⋯  NA          \n",
       "3 2181-09-26 16:52:02 1     61.84390 1         2181-09-11 ⋯ 110          \n",
       "4 2176-03-15 18:00:48 1     63.86507 1         2176-03-11 ⋯  85          \n",
       "5 2105-06-06 20:01:51 1     62.84018 1         <NA>       ⋯  NA          \n",
       "6 2133-04-04 16:15:28 1     62.60148 1         2133-03-31 ⋯  NA          \n",
       "  lab_po2_min lab_po2_max lab_po2_abnormal lab_lactate_flag lab_lactate_first\n",
       "1  98          98          0               1                1.4              \n",
       "2  NA          NA         NA               0                 NA              \n",
       "3 110         110          1               1                1.6              \n",
       "4  85         149          1               1                3.8              \n",
       "5  NA          NA         NA               0                 NA              \n",
       "6  NA          NA         NA               1                1.4              \n",
       "  lab_lactate_min lab_lactate_max lab_lactate_abnormal sedative\n",
       "1 1.4             1.4              0                   0       \n",
       "2  NA              NA             NA                   0       \n",
       "3 1.6             2.6              1                   0       \n",
       "4 2.2             3.8              1                   1       \n",
       "5  NA              NA             NA                   0       \n",
       "6 1.4             1.4              0                   0       "
      ]
     },
     "metadata": {},
     "output_type": "display_data"
    }
   ],
   "source": [
    "full_data <- dbGetQuery(con, \"select * from merged_data\")\n",
    "head(full_data)"
   ]
  },
  {
   "cell_type": "code",
   "execution_count": 5,
   "metadata": {},
   "outputs": [
    {
     "data": {
      "text/html": [
       "TRUE"
      ],
      "text/latex": [
       "TRUE"
      ],
      "text/markdown": [
       "TRUE"
      ],
      "text/plain": [
       "[1] TRUE"
      ]
     },
     "metadata": {},
     "output_type": "display_data"
    },
    {
     "data": {
      "text/html": [
       "TRUE"
      ],
      "text/latex": [
       "TRUE"
      ],
      "text/markdown": [
       "TRUE"
      ],
      "text/plain": [
       "[1] TRUE"
      ]
     },
     "metadata": {},
     "output_type": "display_data"
    }
   ],
   "source": [
    "dbDisconnect(con)\n",
    "dbUnloadDriver(drv)"
   ]
  },
  {
   "cell_type": "code",
   "execution_count": 6,
   "metadata": {},
   "outputs": [],
   "source": [
    "to_factor <- function(x) {\n",
    "    if(length(na.omit(unique(x))) <= 1) return(factor(x, levels = c(0, 1)))\n",
    "    return(factor(x))\n",
    "}"
   ]
  },
  {
   "cell_type": "code",
   "execution_count": 7,
   "metadata": {},
   "outputs": [
    {
     "data": {
      "text/html": [
       "<ol class=list-inline>\n",
       "\t<li>'icd_chf'</li>\n",
       "\t<li>'icd_afib'</li>\n",
       "\t<li>'icd_renal'</li>\n",
       "\t<li>'icd_liver'</li>\n",
       "\t<li>'icd_copd'</li>\n",
       "\t<li>'icd_cad'</li>\n",
       "\t<li>'icd_stroke'</li>\n",
       "\t<li>'icd_malignancy'</li>\n",
       "\t<li>'vs_heart_rate_flag'</li>\n",
       "\t<li>'vs_cvp_flag'</li>\n",
       "\t<li>'vs_map_flag'</li>\n",
       "\t<li>'vs_temp_flag'</li>\n",
       "\t<li>'lab_hemoglobin_flag'</li>\n",
       "\t<li>'lab_hemoglobin_abnormal'</li>\n",
       "\t<li>'lab_platelet_flag'</li>\n",
       "\t<li>'lab_platelet_abnormal'</li>\n",
       "\t<li>'lab_creatinine_kinase_flag'</li>\n",
       "\t<li>'lab_creatinine_kinase_abnormal'</li>\n",
       "\t<li>'lab_wbc_flag'</li>\n",
       "\t<li>'lab_wbc_abnormal'</li>\n",
       "\t<li>'lab_ph_flag'</li>\n",
       "\t<li>'lab_ph_abnormal'</li>\n",
       "\t<li>'lab_chloride_flag'</li>\n",
       "\t<li>'lab_chloride_abnormal'</li>\n",
       "\t<li>'lab_sodium_flag'</li>\n",
       "\t<li>'lab_sodium_abnormal'</li>\n",
       "\t<li>'lab_bun_flag'</li>\n",
       "\t<li>'lab_bun_abnormal'</li>\n",
       "\t<li>'lab_bicarbonate_flag'</li>\n",
       "\t<li>'lab_bicarbonate_abnormal'</li>\n",
       "\t<li>'lab_bnp_flag'</li>\n",
       "\t<li>'lab_bnp_abnormal'</li>\n",
       "\t<li>'lab_pco2_flag'</li>\n",
       "\t<li>'lab_pco2_abnormal'</li>\n",
       "\t<li>'lab_creatinine_flag'</li>\n",
       "\t<li>'lab_creatinine_abnormal'</li>\n",
       "\t<li>'lab_potassium_flag'</li>\n",
       "\t<li>'lab_potassium_abnormal'</li>\n",
       "\t<li>'lab_troponin_flag'</li>\n",
       "\t<li>'lab_troponin_abnormal'</li>\n",
       "\t<li>'lab_po2_flag'</li>\n",
       "\t<li>'lab_po2_abnormal'</li>\n",
       "\t<li>'lab_lactate_flag'</li>\n",
       "\t<li>'lab_lactate_abnormal'</li>\n",
       "\t<li>'sedative'</li>\n",
       "\t<li>'gender'</li>\n",
       "\t<li>'first_careunit'</li>\n",
       "\t<li>'echo'</li>\n",
       "\t<li>'vent'</li>\n",
       "\t<li>'vaso'</li>\n",
       "\t<li>'icu_adm_weekday'</li>\n",
       "\t<li>'icu_adm_hour'</li>\n",
       "\t<li>'mort_28_day'</li>\n",
       "</ol>\n"
      ],
      "text/latex": [
       "\\begin{enumerate*}\n",
       "\\item 'icd\\_chf'\n",
       "\\item 'icd\\_afib'\n",
       "\\item 'icd\\_renal'\n",
       "\\item 'icd\\_liver'\n",
       "\\item 'icd\\_copd'\n",
       "\\item 'icd\\_cad'\n",
       "\\item 'icd\\_stroke'\n",
       "\\item 'icd\\_malignancy'\n",
       "\\item 'vs\\_heart\\_rate\\_flag'\n",
       "\\item 'vs\\_cvp\\_flag'\n",
       "\\item 'vs\\_map\\_flag'\n",
       "\\item 'vs\\_temp\\_flag'\n",
       "\\item 'lab\\_hemoglobin\\_flag'\n",
       "\\item 'lab\\_hemoglobin\\_abnormal'\n",
       "\\item 'lab\\_platelet\\_flag'\n",
       "\\item 'lab\\_platelet\\_abnormal'\n",
       "\\item 'lab\\_creatinine\\_kinase\\_flag'\n",
       "\\item 'lab\\_creatinine\\_kinase\\_abnormal'\n",
       "\\item 'lab\\_wbc\\_flag'\n",
       "\\item 'lab\\_wbc\\_abnormal'\n",
       "\\item 'lab\\_ph\\_flag'\n",
       "\\item 'lab\\_ph\\_abnormal'\n",
       "\\item 'lab\\_chloride\\_flag'\n",
       "\\item 'lab\\_chloride\\_abnormal'\n",
       "\\item 'lab\\_sodium\\_flag'\n",
       "\\item 'lab\\_sodium\\_abnormal'\n",
       "\\item 'lab\\_bun\\_flag'\n",
       "\\item 'lab\\_bun\\_abnormal'\n",
       "\\item 'lab\\_bicarbonate\\_flag'\n",
       "\\item 'lab\\_bicarbonate\\_abnormal'\n",
       "\\item 'lab\\_bnp\\_flag'\n",
       "\\item 'lab\\_bnp\\_abnormal'\n",
       "\\item 'lab\\_pco2\\_flag'\n",
       "\\item 'lab\\_pco2\\_abnormal'\n",
       "\\item 'lab\\_creatinine\\_flag'\n",
       "\\item 'lab\\_creatinine\\_abnormal'\n",
       "\\item 'lab\\_potassium\\_flag'\n",
       "\\item 'lab\\_potassium\\_abnormal'\n",
       "\\item 'lab\\_troponin\\_flag'\n",
       "\\item 'lab\\_troponin\\_abnormal'\n",
       "\\item 'lab\\_po2\\_flag'\n",
       "\\item 'lab\\_po2\\_abnormal'\n",
       "\\item 'lab\\_lactate\\_flag'\n",
       "\\item 'lab\\_lactate\\_abnormal'\n",
       "\\item 'sedative'\n",
       "\\item 'gender'\n",
       "\\item 'first\\_careunit'\n",
       "\\item 'echo'\n",
       "\\item 'vent'\n",
       "\\item 'vaso'\n",
       "\\item 'icu\\_adm\\_weekday'\n",
       "\\item 'icu\\_adm\\_hour'\n",
       "\\item 'mort\\_28\\_day'\n",
       "\\end{enumerate*}\n"
      ],
      "text/markdown": [
       "1. 'icd_chf'\n",
       "2. 'icd_afib'\n",
       "3. 'icd_renal'\n",
       "4. 'icd_liver'\n",
       "5. 'icd_copd'\n",
       "6. 'icd_cad'\n",
       "7. 'icd_stroke'\n",
       "8. 'icd_malignancy'\n",
       "9. 'vs_heart_rate_flag'\n",
       "10. 'vs_cvp_flag'\n",
       "11. 'vs_map_flag'\n",
       "12. 'vs_temp_flag'\n",
       "13. 'lab_hemoglobin_flag'\n",
       "14. 'lab_hemoglobin_abnormal'\n",
       "15. 'lab_platelet_flag'\n",
       "16. 'lab_platelet_abnormal'\n",
       "17. 'lab_creatinine_kinase_flag'\n",
       "18. 'lab_creatinine_kinase_abnormal'\n",
       "19. 'lab_wbc_flag'\n",
       "20. 'lab_wbc_abnormal'\n",
       "21. 'lab_ph_flag'\n",
       "22. 'lab_ph_abnormal'\n",
       "23. 'lab_chloride_flag'\n",
       "24. 'lab_chloride_abnormal'\n",
       "25. 'lab_sodium_flag'\n",
       "26. 'lab_sodium_abnormal'\n",
       "27. 'lab_bun_flag'\n",
       "28. 'lab_bun_abnormal'\n",
       "29. 'lab_bicarbonate_flag'\n",
       "30. 'lab_bicarbonate_abnormal'\n",
       "31. 'lab_bnp_flag'\n",
       "32. 'lab_bnp_abnormal'\n",
       "33. 'lab_pco2_flag'\n",
       "34. 'lab_pco2_abnormal'\n",
       "35. 'lab_creatinine_flag'\n",
       "36. 'lab_creatinine_abnormal'\n",
       "37. 'lab_potassium_flag'\n",
       "38. 'lab_potassium_abnormal'\n",
       "39. 'lab_troponin_flag'\n",
       "40. 'lab_troponin_abnormal'\n",
       "41. 'lab_po2_flag'\n",
       "42. 'lab_po2_abnormal'\n",
       "43. 'lab_lactate_flag'\n",
       "44. 'lab_lactate_abnormal'\n",
       "45. 'sedative'\n",
       "46. 'gender'\n",
       "47. 'first_careunit'\n",
       "48. 'echo'\n",
       "49. 'vent'\n",
       "50. 'vaso'\n",
       "51. 'icu_adm_weekday'\n",
       "52. 'icu_adm_hour'\n",
       "53. 'mort_28_day'\n",
       "\n",
       "\n"
      ],
      "text/plain": [
       " [1] \"icd_chf\"                        \"icd_afib\"                      \n",
       " [3] \"icd_renal\"                      \"icd_liver\"                     \n",
       " [5] \"icd_copd\"                       \"icd_cad\"                       \n",
       " [7] \"icd_stroke\"                     \"icd_malignancy\"                \n",
       " [9] \"vs_heart_rate_flag\"             \"vs_cvp_flag\"                   \n",
       "[11] \"vs_map_flag\"                    \"vs_temp_flag\"                  \n",
       "[13] \"lab_hemoglobin_flag\"            \"lab_hemoglobin_abnormal\"       \n",
       "[15] \"lab_platelet_flag\"              \"lab_platelet_abnormal\"         \n",
       "[17] \"lab_creatinine_kinase_flag\"     \"lab_creatinine_kinase_abnormal\"\n",
       "[19] \"lab_wbc_flag\"                   \"lab_wbc_abnormal\"              \n",
       "[21] \"lab_ph_flag\"                    \"lab_ph_abnormal\"               \n",
       "[23] \"lab_chloride_flag\"              \"lab_chloride_abnormal\"         \n",
       "[25] \"lab_sodium_flag\"                \"lab_sodium_abnormal\"           \n",
       "[27] \"lab_bun_flag\"                   \"lab_bun_abnormal\"              \n",
       "[29] \"lab_bicarbonate_flag\"           \"lab_bicarbonate_abnormal\"      \n",
       "[31] \"lab_bnp_flag\"                   \"lab_bnp_abnormal\"              \n",
       "[33] \"lab_pco2_flag\"                  \"lab_pco2_abnormal\"             \n",
       "[35] \"lab_creatinine_flag\"            \"lab_creatinine_abnormal\"       \n",
       "[37] \"lab_potassium_flag\"             \"lab_potassium_abnormal\"        \n",
       "[39] \"lab_troponin_flag\"              \"lab_troponin_abnormal\"         \n",
       "[41] \"lab_po2_flag\"                   \"lab_po2_abnormal\"              \n",
       "[43] \"lab_lactate_flag\"               \"lab_lactate_abnormal\"          \n",
       "[45] \"sedative\"                       \"gender\"                        \n",
       "[47] \"first_careunit\"                 \"echo\"                          \n",
       "[49] \"vent\"                           \"vaso\"                          \n",
       "[51] \"icu_adm_weekday\"                \"icu_adm_hour\"                  \n",
       "[53] \"mort_28_day\"                   "
      ]
     },
     "metadata": {},
     "output_type": "display_data"
    }
   ],
   "source": [
    "factor_vars <- full_data %>%\n",
    "    names %>%\n",
    "    grep(\"flag|abnormal|icd|sedative\", ., value = TRUE) %>%\n",
    "    c(\"gender\", \"first_careunit\", \"echo\", \"vent\", \"vaso\",\n",
    "      \"icu_adm_weekday\", \"icu_adm_hour\", \"mort_28_day\")\n",
    "factor_vars"
   ]
  },
  {
   "cell_type": "code",
   "execution_count": 8,
   "metadata": {},
   "outputs": [
    {
     "data": {
      "text/html": [
       "<ol class=list-inline>\n",
       "\t<li>'sunday'</li>\n",
       "\t<li>'monday'</li>\n",
       "\t<li>'tuesday'</li>\n",
       "\t<li>'wednesday'</li>\n",
       "\t<li>'thursday'</li>\n",
       "\t<li>'friday'</li>\n",
       "\t<li>'saturday'</li>\n",
       "</ol>\n"
      ],
      "text/latex": [
       "\\begin{enumerate*}\n",
       "\\item 'sunday'\n",
       "\\item 'monday'\n",
       "\\item 'tuesday'\n",
       "\\item 'wednesday'\n",
       "\\item 'thursday'\n",
       "\\item 'friday'\n",
       "\\item 'saturday'\n",
       "\\end{enumerate*}\n"
      ],
      "text/markdown": [
       "1. 'sunday'\n",
       "2. 'monday'\n",
       "3. 'tuesday'\n",
       "4. 'wednesday'\n",
       "5. 'thursday'\n",
       "6. 'friday'\n",
       "7. 'saturday'\n",
       "\n",
       "\n"
      ],
      "text/plain": [
       "[1] \"sunday\"    \"monday\"    \"tuesday\"   \"wednesday\" \"thursday\"  \"friday\"   \n",
       "[7] \"saturday\" "
      ]
     },
     "metadata": {},
     "output_type": "display_data"
    }
   ],
   "source": [
    "weekday <- c(\"sun\", \"mon\", \"tues\", \"wednes\", \"thurs\", \"fri\", \"satur\") %>%\n",
    "paste0(\"day\")\n",
    "weekday"
   ]
  },
  {
   "cell_type": "code",
   "execution_count": 9,
   "metadata": {},
   "outputs": [
    {
     "data": {
      "text/html": [
       "<ol class=list-inline>\n",
       "\t<li>1</li>\n",
       "\t<li>0</li>\n",
       "\t<li>1</li>\n",
       "\t<li>1</li>\n",
       "\t<li>0</li>\n",
       "\t<li>1</li>\n",
       "</ol>\n"
      ],
      "text/latex": [
       "\\begin{enumerate*}\n",
       "\\item 1\n",
       "\\item 0\n",
       "\\item 1\n",
       "\\item 1\n",
       "\\item 0\n",
       "\\item 1\n",
       "\\end{enumerate*}\n"
      ],
      "text/markdown": [
       "1. 1\n",
       "2. 0\n",
       "3. 1\n",
       "4. 1\n",
       "5. 0\n",
       "6. 1\n",
       "\n",
       "\n"
      ],
      "text/plain": [
       "[1] 1 0 1 1 0 1\n",
       "Levels: 0 1"
      ]
     },
     "metadata": {},
     "output_type": "display_data"
    }
   ],
   "source": [
    "full_data <- full_data %>%\n",
    "    mutate(echo_int = as.integer(echo)) %>%\n",
    "    mutate(icu_adm_weekday = weekday[icu_adm_weekday + 1]) %>%\n",
    "    mutate(mort_28_day_int = as.integer(mort_28_day)) %>%\n",
    "    mutate_at(factor_vars, to_factor) %>%\n",
    "    mutate(gender = relevel(gender, \"M\")) %>%\n",
    "    mutate(first_careunit = relevel(first_careunit, \"SICU\"))\n",
    "full_data %>% pull(echo) %>% head"
   ]
  },
  {
   "cell_type": "code",
   "execution_count": 10,
   "metadata": {},
   "outputs": [
    {
     "data": {
      "text/html": [
       "<ol class=list-inline>\n",
       "\t<li>'first_careunit'</li>\n",
       "\t<li>'age'</li>\n",
       "\t<li>'gender'</li>\n",
       "\t<li>'weight'</li>\n",
       "\t<li>'saps'</li>\n",
       "\t<li>'sofa'</li>\n",
       "\t<li>'elix_score'</li>\n",
       "\t<li>'vent'</li>\n",
       "\t<li>'vaso'</li>\n",
       "\t<li>'icu_adm_weekday'</li>\n",
       "\t<li>'icu_adm_hour'</li>\n",
       "\t<li>'icd_chf'</li>\n",
       "\t<li>'icd_afib'</li>\n",
       "\t<li>'icd_renal'</li>\n",
       "\t<li>'icd_liver'</li>\n",
       "\t<li>'icd_copd'</li>\n",
       "\t<li>'icd_cad'</li>\n",
       "\t<li>'icd_stroke'</li>\n",
       "\t<li>'icd_malignancy'</li>\n",
       "\t<li>'vs_heart_rate_first'</li>\n",
       "\t<li>'vs_cvp_first'</li>\n",
       "\t<li>'vs_map_first'</li>\n",
       "\t<li>'vs_temp_first'</li>\n",
       "\t<li>'lab_hemoglobin_first'</li>\n",
       "\t<li>'lab_platelet_first'</li>\n",
       "\t<li>'lab_creatinine_kinase_flag'</li>\n",
       "\t<li>'lab_wbc_first'</li>\n",
       "\t<li>'lab_ph_first'</li>\n",
       "\t<li>'lab_chloride_first'</li>\n",
       "\t<li>'lab_sodium_first'</li>\n",
       "\t<li>'lab_bun_first'</li>\n",
       "\t<li>'lab_bicarbonate_first'</li>\n",
       "\t<li>'lab_bnp_flag'</li>\n",
       "\t<li>'lab_pco2_first'</li>\n",
       "\t<li>'lab_creatinine_first'</li>\n",
       "\t<li>'lab_potassium_first'</li>\n",
       "\t<li>'lab_troponin_flag'</li>\n",
       "\t<li>'lab_po2_first'</li>\n",
       "\t<li>'lab_lactate_first'</li>\n",
       "\t<li>'sedative'</li>\n",
       "</ol>\n"
      ],
      "text/latex": [
       "\\begin{enumerate*}\n",
       "\\item 'first\\_careunit'\n",
       "\\item 'age'\n",
       "\\item 'gender'\n",
       "\\item 'weight'\n",
       "\\item 'saps'\n",
       "\\item 'sofa'\n",
       "\\item 'elix\\_score'\n",
       "\\item 'vent'\n",
       "\\item 'vaso'\n",
       "\\item 'icu\\_adm\\_weekday'\n",
       "\\item 'icu\\_adm\\_hour'\n",
       "\\item 'icd\\_chf'\n",
       "\\item 'icd\\_afib'\n",
       "\\item 'icd\\_renal'\n",
       "\\item 'icd\\_liver'\n",
       "\\item 'icd\\_copd'\n",
       "\\item 'icd\\_cad'\n",
       "\\item 'icd\\_stroke'\n",
       "\\item 'icd\\_malignancy'\n",
       "\\item 'vs\\_heart\\_rate\\_first'\n",
       "\\item 'vs\\_cvp\\_first'\n",
       "\\item 'vs\\_map\\_first'\n",
       "\\item 'vs\\_temp\\_first'\n",
       "\\item 'lab\\_hemoglobin\\_first'\n",
       "\\item 'lab\\_platelet\\_first'\n",
       "\\item 'lab\\_creatinine\\_kinase\\_flag'\n",
       "\\item 'lab\\_wbc\\_first'\n",
       "\\item 'lab\\_ph\\_first'\n",
       "\\item 'lab\\_chloride\\_first'\n",
       "\\item 'lab\\_sodium\\_first'\n",
       "\\item 'lab\\_bun\\_first'\n",
       "\\item 'lab\\_bicarbonate\\_first'\n",
       "\\item 'lab\\_bnp\\_flag'\n",
       "\\item 'lab\\_pco2\\_first'\n",
       "\\item 'lab\\_creatinine\\_first'\n",
       "\\item 'lab\\_potassium\\_first'\n",
       "\\item 'lab\\_troponin\\_flag'\n",
       "\\item 'lab\\_po2\\_first'\n",
       "\\item 'lab\\_lactate\\_first'\n",
       "\\item 'sedative'\n",
       "\\end{enumerate*}\n"
      ],
      "text/markdown": [
       "1. 'first_careunit'\n",
       "2. 'age'\n",
       "3. 'gender'\n",
       "4. 'weight'\n",
       "5. 'saps'\n",
       "6. 'sofa'\n",
       "7. 'elix_score'\n",
       "8. 'vent'\n",
       "9. 'vaso'\n",
       "10. 'icu_adm_weekday'\n",
       "11. 'icu_adm_hour'\n",
       "12. 'icd_chf'\n",
       "13. 'icd_afib'\n",
       "14. 'icd_renal'\n",
       "15. 'icd_liver'\n",
       "16. 'icd_copd'\n",
       "17. 'icd_cad'\n",
       "18. 'icd_stroke'\n",
       "19. 'icd_malignancy'\n",
       "20. 'vs_heart_rate_first'\n",
       "21. 'vs_cvp_first'\n",
       "22. 'vs_map_first'\n",
       "23. 'vs_temp_first'\n",
       "24. 'lab_hemoglobin_first'\n",
       "25. 'lab_platelet_first'\n",
       "26. 'lab_creatinine_kinase_flag'\n",
       "27. 'lab_wbc_first'\n",
       "28. 'lab_ph_first'\n",
       "29. 'lab_chloride_first'\n",
       "30. 'lab_sodium_first'\n",
       "31. 'lab_bun_first'\n",
       "32. 'lab_bicarbonate_first'\n",
       "33. 'lab_bnp_flag'\n",
       "34. 'lab_pco2_first'\n",
       "35. 'lab_creatinine_first'\n",
       "36. 'lab_potassium_first'\n",
       "37. 'lab_troponin_flag'\n",
       "38. 'lab_po2_first'\n",
       "39. 'lab_lactate_first'\n",
       "40. 'sedative'\n",
       "\n",
       "\n"
      ],
      "text/plain": [
       " [1] \"first_careunit\"             \"age\"                       \n",
       " [3] \"gender\"                     \"weight\"                    \n",
       " [5] \"saps\"                       \"sofa\"                      \n",
       " [7] \"elix_score\"                 \"vent\"                      \n",
       " [9] \"vaso\"                       \"icu_adm_weekday\"           \n",
       "[11] \"icu_adm_hour\"               \"icd_chf\"                   \n",
       "[13] \"icd_afib\"                   \"icd_renal\"                 \n",
       "[15] \"icd_liver\"                  \"icd_copd\"                  \n",
       "[17] \"icd_cad\"                    \"icd_stroke\"                \n",
       "[19] \"icd_malignancy\"             \"vs_heart_rate_first\"       \n",
       "[21] \"vs_cvp_first\"               \"vs_map_first\"              \n",
       "[23] \"vs_temp_first\"              \"lab_hemoglobin_first\"      \n",
       "[25] \"lab_platelet_first\"         \"lab_creatinine_kinase_flag\"\n",
       "[27] \"lab_wbc_first\"              \"lab_ph_first\"              \n",
       "[29] \"lab_chloride_first\"         \"lab_sodium_first\"          \n",
       "[31] \"lab_bun_first\"              \"lab_bicarbonate_first\"     \n",
       "[33] \"lab_bnp_flag\"               \"lab_pco2_first\"            \n",
       "[35] \"lab_creatinine_first\"       \"lab_potassium_first\"       \n",
       "[37] \"lab_troponin_flag\"          \"lab_po2_first\"             \n",
       "[39] \"lab_lactate_first\"          \"sedative\"                  "
      ]
     },
     "metadata": {},
     "output_type": "display_data"
    },
    {
     "data": {
      "text/html": [
       "40"
      ],
      "text/latex": [
       "40"
      ],
      "text/markdown": [
       "40"
      ],
      "text/plain": [
       "[1] 40"
      ]
     },
     "metadata": {},
     "output_type": "display_data"
    }
   ],
   "source": [
    "feature_names <- full_data %>%\n",
    "    names %>%\n",
    "    keep(grepl(\"vs|lab|icd|age|gender|weight|saps|sofa|elix_score|vent|vaso|icu_adm|careunit|sedative\", .)) %>%\n",
    "    discard(grepl(\"vs|lab\", .) & grepl(\"flag\", .) & !grepl(\"bnp|troponin|kinase\", .)) %>%\n",
    "    discard(grepl(\"bnp|troponin|kinase\", .) & !grepl(\"flag\", .)) %>%\n",
    "    discard(grepl(\"min|max\", .)) %>%\n",
    "    discard(grepl(\"abnormal\", .))\n",
    "feature_names\n",
    "length(feature_names)"
   ]
  },
  {
   "cell_type": "code",
   "execution_count": 11,
   "metadata": {},
   "outputs": [
    {
     "data": {
      "text/html": [
       "<table>\n",
       "<thead><tr><th scope=col>first_careunit</th><th scope=col>age</th><th scope=col>gender</th><th scope=col>weight</th><th scope=col>saps</th><th scope=col>sofa</th><th scope=col>elix_score</th><th scope=col>vent</th><th scope=col>vaso</th><th scope=col>icu_adm_weekday</th><th scope=col>⋯</th><th scope=col>lab_bun_first</th><th scope=col>lab_bicarbonate_first</th><th scope=col>lab_bnp_flag</th><th scope=col>lab_pco2_first</th><th scope=col>lab_creatinine_first</th><th scope=col>lab_potassium_first</th><th scope=col>lab_troponin_flag</th><th scope=col>lab_po2_first</th><th scope=col>lab_lactate_first</th><th scope=col>sedative</th></tr></thead>\n",
       "<tbody>\n",
       "\t<tr><td>MICU    </td><td>76.58225</td><td>M       </td><td>  NA    </td><td>24      </td><td>3       </td><td>10      </td><td>1       </td><td>0       </td><td>tuesday </td><td>⋯       </td><td>35      </td><td>40      </td><td>0       </td><td>56      </td><td>1.2     </td><td>4.4     </td><td>0       </td><td> 98     </td><td>1.4     </td><td>0       </td></tr>\n",
       "\t<tr><td>MICU    </td><td>82.72606</td><td>F       </td><td>90.3    </td><td>25      </td><td>8       </td><td>15      </td><td>0       </td><td>0       </td><td>monday  </td><td>⋯       </td><td>32      </td><td>17      </td><td>0       </td><td>NA      </td><td>1.6     </td><td>5.7     </td><td>0       </td><td> NA     </td><td> NA     </td><td>0       </td></tr>\n",
       "\t<tr><td>MICU    </td><td>61.84390</td><td>M       </td><td>53.6    </td><td>20      </td><td>5       </td><td> 6      </td><td>0       </td><td>0       </td><td>saturday</td><td>⋯       </td><td>64      </td><td>23      </td><td>0       </td><td>40      </td><td>2.7     </td><td>4.1     </td><td>0       </td><td>110     </td><td>1.6     </td><td>0       </td></tr>\n",
       "\t<tr><td>MICU    </td><td>63.86507</td><td>M       </td><td>92.9    </td><td>24      </td><td>8       </td><td> 6      </td><td>1       </td><td>1       </td><td>monday  </td><td>⋯       </td><td>34      </td><td>18      </td><td>0       </td><td>42      </td><td>1.3     </td><td>4.2     </td><td>1       </td><td> 85     </td><td>3.8     </td><td>1       </td></tr>\n",
       "\t<tr><td>MICU    </td><td>62.84018</td><td>F       </td><td>75.0    </td><td>10      </td><td>1       </td><td> 6      </td><td>0       </td><td>0       </td><td>thursday</td><td>⋯       </td><td>17      </td><td>20      </td><td>0       </td><td>NA      </td><td>0.9     </td><td>3.5     </td><td>0       </td><td> NA     </td><td> NA     </td><td>0       </td></tr>\n",
       "\t<tr><td>MICU    </td><td>62.60148</td><td>F       </td><td>80.0    </td><td>15      </td><td>4       </td><td> 2      </td><td>0       </td><td>1       </td><td>friday  </td><td>⋯       </td><td>17      </td><td>21      </td><td>0       </td><td>NA      </td><td>0.8     </td><td>3.5     </td><td>0       </td><td> NA     </td><td>1.4     </td><td>0       </td></tr>\n",
       "</tbody>\n",
       "</table>\n"
      ],
      "text/latex": [
       "\\begin{tabular}{r|llllllllllllllllllllllllllllllllllllllll}\n",
       " first\\_careunit & age & gender & weight & saps & sofa & elix\\_score & vent & vaso & icu\\_adm\\_weekday & ⋯ & lab\\_bun\\_first & lab\\_bicarbonate\\_first & lab\\_bnp\\_flag & lab\\_pco2\\_first & lab\\_creatinine\\_first & lab\\_potassium\\_first & lab\\_troponin\\_flag & lab\\_po2\\_first & lab\\_lactate\\_first & sedative\\\\\n",
       "\\hline\n",
       "\t MICU     & 76.58225 & M        &   NA     & 24       & 3        & 10       & 1        & 0        & tuesday  & ⋯        & 35       & 40       & 0        & 56       & 1.2      & 4.4      & 0        &  98      & 1.4      & 0       \\\\\n",
       "\t MICU     & 82.72606 & F        & 90.3     & 25       & 8        & 15       & 0        & 0        & monday   & ⋯        & 32       & 17       & 0        & NA       & 1.6      & 5.7      & 0        &  NA      &  NA      & 0       \\\\\n",
       "\t MICU     & 61.84390 & M        & 53.6     & 20       & 5        &  6       & 0        & 0        & saturday & ⋯        & 64       & 23       & 0        & 40       & 2.7      & 4.1      & 0        & 110      & 1.6      & 0       \\\\\n",
       "\t MICU     & 63.86507 & M        & 92.9     & 24       & 8        &  6       & 1        & 1        & monday   & ⋯        & 34       & 18       & 0        & 42       & 1.3      & 4.2      & 1        &  85      & 3.8      & 1       \\\\\n",
       "\t MICU     & 62.84018 & F        & 75.0     & 10       & 1        &  6       & 0        & 0        & thursday & ⋯        & 17       & 20       & 0        & NA       & 0.9      & 3.5      & 0        &  NA      &  NA      & 0       \\\\\n",
       "\t MICU     & 62.60148 & F        & 80.0     & 15       & 4        &  2       & 0        & 1        & friday   & ⋯        & 17       & 21       & 0        & NA       & 0.8      & 3.5      & 0        &  NA      & 1.4      & 0       \\\\\n",
       "\\end{tabular}\n"
      ],
      "text/markdown": [
       "\n",
       "first_careunit | age | gender | weight | saps | sofa | elix_score | vent | vaso | icu_adm_weekday | ⋯ | lab_bun_first | lab_bicarbonate_first | lab_bnp_flag | lab_pco2_first | lab_creatinine_first | lab_potassium_first | lab_troponin_flag | lab_po2_first | lab_lactate_first | sedative | \n",
       "|---|---|---|---|---|---|\n",
       "| MICU     | 76.58225 | M        |   NA     | 24       | 3        | 10       | 1        | 0        | tuesday  | ⋯        | 35       | 40       | 0        | 56       | 1.2      | 4.4      | 0        |  98      | 1.4      | 0        | \n",
       "| MICU     | 82.72606 | F        | 90.3     | 25       | 8        | 15       | 0        | 0        | monday   | ⋯        | 32       | 17       | 0        | NA       | 1.6      | 5.7      | 0        |  NA      |  NA      | 0        | \n",
       "| MICU     | 61.84390 | M        | 53.6     | 20       | 5        |  6       | 0        | 0        | saturday | ⋯        | 64       | 23       | 0        | 40       | 2.7      | 4.1      | 0        | 110      | 1.6      | 0        | \n",
       "| MICU     | 63.86507 | M        | 92.9     | 24       | 8        |  6       | 1        | 1        | monday   | ⋯        | 34       | 18       | 0        | 42       | 1.3      | 4.2      | 1        |  85      | 3.8      | 1        | \n",
       "| MICU     | 62.84018 | F        | 75.0     | 10       | 1        |  6       | 0        | 0        | thursday | ⋯        | 17       | 20       | 0        | NA       | 0.9      | 3.5      | 0        |  NA      |  NA      | 0        | \n",
       "| MICU     | 62.60148 | F        | 80.0     | 15       | 4        |  2       | 0        | 1        | friday   | ⋯        | 17       | 21       | 0        | NA       | 0.8      | 3.5      | 0        |  NA      | 1.4      | 0        | \n",
       "\n",
       "\n"
      ],
      "text/plain": [
       "  first_careunit age      gender weight saps sofa elix_score vent vaso\n",
       "1 MICU           76.58225 M        NA   24   3    10         1    0   \n",
       "2 MICU           82.72606 F      90.3   25   8    15         0    0   \n",
       "3 MICU           61.84390 M      53.6   20   5     6         0    0   \n",
       "4 MICU           63.86507 M      92.9   24   8     6         1    1   \n",
       "5 MICU           62.84018 F      75.0   10   1     6         0    0   \n",
       "6 MICU           62.60148 F      80.0   15   4     2         0    1   \n",
       "  icu_adm_weekday ⋯ lab_bun_first lab_bicarbonate_first lab_bnp_flag\n",
       "1 tuesday         ⋯ 35            40                    0           \n",
       "2 monday          ⋯ 32            17                    0           \n",
       "3 saturday        ⋯ 64            23                    0           \n",
       "4 monday          ⋯ 34            18                    0           \n",
       "5 thursday        ⋯ 17            20                    0           \n",
       "6 friday          ⋯ 17            21                    0           \n",
       "  lab_pco2_first lab_creatinine_first lab_potassium_first lab_troponin_flag\n",
       "1 56             1.2                  4.4                 0                \n",
       "2 NA             1.6                  5.7                 0                \n",
       "3 40             2.7                  4.1                 0                \n",
       "4 42             1.3                  4.2                 1                \n",
       "5 NA             0.9                  3.5                 0                \n",
       "6 NA             0.8                  3.5                 0                \n",
       "  lab_po2_first lab_lactate_first sedative\n",
       "1  98           1.4               0       \n",
       "2  NA            NA               0       \n",
       "3 110           1.6               0       \n",
       "4  85           3.8               1       \n",
       "5  NA            NA               0       \n",
       "6  NA           1.4               0       "
      ]
     },
     "metadata": {},
     "output_type": "display_data"
    }
   ],
   "source": [
    "features <- full_data %>%\n",
    "    select(!!!rlang::syms(feature_names))\n",
    "head(features)"
   ]
  },
  {
   "cell_type": "code",
   "execution_count": 12,
   "metadata": {},
   "outputs": [],
   "source": [
    "label_name <- \"echo\""
   ]
  },
  {
   "cell_type": "code",
   "execution_count": 13,
   "metadata": {},
   "outputs": [
    {
     "name": "stdout",
     "output_type": "stream",
     "text": [
      " Factor w/ 2 levels \"0\",\"1\": 2 1 2 2 1 2 1 1 2 2 ...\n"
     ]
    }
   ],
   "source": [
    "label <- full_data %>% pull(echo)\n",
    "str(label)"
   ]
  },
  {
   "cell_type": "code",
   "execution_count": 14,
   "metadata": {},
   "outputs": [
    {
     "data": {
      "text/html": [
       "'mort_28_day ~ echo + first_careunit + age + gender + weight + saps + sofa + elix_score + vent + vaso + icu_adm_weekday + icu_adm_hour + icd_chf + icd_afib + icd_renal + icd_liver + icd_copd + icd_cad + icd_stroke + icd_malignancy + vs_heart_rate_first + vs_cvp_first + vs_map_first + vs_temp_first + lab_hemoglobin_first + lab_platelet_first + lab_creatinine_kinase_flag + lab_wbc_first + lab_ph_first + lab_chloride_first + lab_sodium_first + lab_bun_first + lab_bicarbonate_first + lab_bnp_flag + lab_pco2_first + lab_creatinine_first + lab_potassium_first + lab_troponin_flag + lab_po2_first + lab_lactate_first + sedative'"
      ],
      "text/latex": [
       "'mort\\_28\\_day \\textasciitilde{} echo + first\\_careunit + age + gender + weight + saps + sofa + elix\\_score + vent + vaso + icu\\_adm\\_weekday + icu\\_adm\\_hour + icd\\_chf + icd\\_afib + icd\\_renal + icd\\_liver + icd\\_copd + icd\\_cad + icd\\_stroke + icd\\_malignancy + vs\\_heart\\_rate\\_first + vs\\_cvp\\_first + vs\\_map\\_first + vs\\_temp\\_first + lab\\_hemoglobin\\_first + lab\\_platelet\\_first + lab\\_creatinine\\_kinase\\_flag + lab\\_wbc\\_first + lab\\_ph\\_first + lab\\_chloride\\_first + lab\\_sodium\\_first + lab\\_bun\\_first + lab\\_bicarbonate\\_first + lab\\_bnp\\_flag + lab\\_pco2\\_first + lab\\_creatinine\\_first + lab\\_potassium\\_first + lab\\_troponin\\_flag + lab\\_po2\\_first + lab\\_lactate\\_first + sedative'"
      ],
      "text/markdown": [
       "'mort_28_day ~ echo + first_careunit + age + gender + weight + saps + sofa + elix_score + vent + vaso + icu_adm_weekday + icu_adm_hour + icd_chf + icd_afib + icd_renal + icd_liver + icd_copd + icd_cad + icd_stroke + icd_malignancy + vs_heart_rate_first + vs_cvp_first + vs_map_first + vs_temp_first + lab_hemoglobin_first + lab_platelet_first + lab_creatinine_kinase_flag + lab_wbc_first + lab_ph_first + lab_chloride_first + lab_sodium_first + lab_bun_first + lab_bicarbonate_first + lab_bnp_flag + lab_pco2_first + lab_creatinine_first + lab_potassium_first + lab_troponin_flag + lab_po2_first + lab_lactate_first + sedative'"
      ],
      "text/plain": [
       "[1] \"mort_28_day ~ echo + first_careunit + age + gender + weight + saps + sofa + elix_score + vent + vaso + icu_adm_weekday + icu_adm_hour + icd_chf + icd_afib + icd_renal + icd_liver + icd_copd + icd_cad + icd_stroke + icd_malignancy + vs_heart_rate_first + vs_cvp_first + vs_map_first + vs_temp_first + lab_hemoglobin_first + lab_platelet_first + lab_creatinine_kinase_flag + lab_wbc_first + lab_ph_first + lab_chloride_first + lab_sodium_first + lab_bun_first + lab_bicarbonate_first + lab_bnp_flag + lab_pco2_first + lab_creatinine_first + lab_potassium_first + lab_troponin_flag + lab_po2_first + lab_lactate_first + sedative\""
      ]
     },
     "metadata": {},
     "output_type": "display_data"
    }
   ],
   "source": [
    "fml <- feature_names %>%\n",
    "    c(\"echo\", .) %>%\n",
    "    paste(collapse = \" + \") %>%\n",
    "    sprintf(\"mort_28_day ~ %s\", .)\n",
    "fml"
   ]
  },
  {
   "cell_type": "code",
   "execution_count": 15,
   "metadata": {},
   "outputs": [
    {
     "data": {
      "text/plain": [
       "\n",
       "Call:\n",
       "glm(formula = as.formula(fml), family = binomial, data = full_data, \n",
       "    na.action = na.exclude)\n",
       "\n",
       "Deviance Residuals: \n",
       "    Min       1Q   Median       3Q      Max  \n",
       "-2.0705  -0.7292  -0.4078   0.7568   2.8052  \n",
       "\n",
       "Coefficients:\n",
       "                              Estimate Std. Error z value Pr(>|z|)    \n",
       "(Intercept)                  5.8103652  8.7855575   0.661 0.508385    \n",
       "echo1                       -0.3164662  0.1478652  -2.140 0.032336 *  \n",
       "first_careunitMICU           0.6409615  0.1768372   3.625 0.000289 ***\n",
       "age                          0.0233073  0.0055442   4.204 2.62e-05 ***\n",
       "genderF                     -0.1821133  0.1412358  -1.289 0.197250    \n",
       "weight                      -0.0056337  0.0031028  -1.816 0.069419 .  \n",
       "saps                         0.0636993  0.0177010   3.599 0.000320 ***\n",
       "sofa                         0.1647531  0.0260785   6.318 2.66e-10 ***\n",
       "elix_score                   0.0260520  0.0112065   2.325 0.020087 *  \n",
       "vent1                        0.4009877  0.2637048   1.521 0.128362    \n",
       "vaso1                       -0.1481047  0.1723999  -0.859 0.390298    \n",
       "icu_adm_weekdaymonday       -0.1875252  0.2529590  -0.741 0.458495    \n",
       "icu_adm_weekdaysaturday     -0.1435544  0.2545357  -0.564 0.572764    \n",
       "icu_adm_weekdaysunday       -0.2192271  0.2503646  -0.876 0.381230    \n",
       "icu_adm_weekdaythursday      0.1847126  0.2361185   0.782 0.434045    \n",
       "icu_adm_weekdaytuesday      -0.0208884  0.2464606  -0.085 0.932457    \n",
       "icu_adm_weekdaywednesday     0.1091313  0.2358413   0.463 0.643557    \n",
       "icu_adm_hour1                0.0708180  0.4888528   0.145 0.884817    \n",
       "icu_adm_hour2               -0.6078665  0.5185353  -1.172 0.241086    \n",
       "icu_adm_hour3                0.1283790  0.4756192   0.270 0.787222    \n",
       "icu_adm_hour4                0.5648910  0.4766148   1.185 0.235932    \n",
       "icu_adm_hour5               -0.0026014  0.5189201  -0.005 0.996000    \n",
       "icu_adm_hour6                0.1509881  0.5664531   0.267 0.789816    \n",
       "icu_adm_hour7               -1.0272811  0.7639622  -1.345 0.178730    \n",
       "icu_adm_hour8               -0.4260571  0.7094332  -0.601 0.548133    \n",
       "icu_adm_hour9                0.7624318  0.4967861   1.535 0.124851    \n",
       "icu_adm_hour10              -0.5532640  0.5582274  -0.991 0.321633    \n",
       "icu_adm_hour11               0.0748568  0.4726060   0.158 0.874148    \n",
       "icu_adm_hour12               0.2466714  0.4489177   0.549 0.582676    \n",
       "icu_adm_hour13               0.7129161  0.4737366   1.505 0.132355    \n",
       "icu_adm_hour14               0.4674794  0.4319090   1.082 0.279094    \n",
       "icu_adm_hour15               0.3097742  0.4297403   0.721 0.471008    \n",
       "icu_adm_hour16              -0.0468615  0.4099758  -0.114 0.908998    \n",
       "icu_adm_hour17              -0.2337679  0.4276429  -0.547 0.584624    \n",
       "icu_adm_hour18               0.1067946  0.4158929   0.257 0.797346    \n",
       "icu_adm_hour19               0.2586960  0.4049189   0.639 0.522899    \n",
       "icu_adm_hour20               0.6022973  0.3978224   1.514 0.130030    \n",
       "icu_adm_hour21               0.5954936  0.3917083   1.520 0.128449    \n",
       "icu_adm_hour22               0.4280759  0.3921189   1.092 0.274965    \n",
       "icu_adm_hour23              -0.6759900  0.4445745  -1.521 0.128377    \n",
       "icd_chf1                    -0.4129813  0.1706925  -2.419 0.015544 *  \n",
       "icd_afib1                    0.1809043  0.1553855   1.164 0.244331    \n",
       "icd_renal1                   0.1610765  0.2126974   0.757 0.448868    \n",
       "icd_liver1                   0.5786354  0.2389348   2.422 0.015447 *  \n",
       "icd_copd1                    0.3137586  0.1908216   1.644 0.100124    \n",
       "icd_cad1                    -0.3858894  0.2106936  -1.832 0.067023 .  \n",
       "icd_stroke1                  0.4384159  0.2846176   1.540 0.123471    \n",
       "icd_malignancy1              0.4002276  0.1681214   2.381 0.017285 *  \n",
       "vs_heart_rate_first          0.0051116  0.0033828   1.511 0.130776    \n",
       "vs_cvp_first                -0.0014361  0.0029971  -0.479 0.631817    \n",
       "vs_map_first                -0.0067110  0.0033939  -1.977 0.048003 *  \n",
       "vs_temp_first               -0.1050939  0.0581884  -1.806 0.070903 .  \n",
       "lab_hemoglobin_first        -0.0430964  0.0349333  -1.234 0.217323    \n",
       "lab_platelet_first           0.0004195  0.0005580   0.752 0.452159    \n",
       "lab_creatinine_kinase_flag1 -0.1047500  0.1918608  -0.546 0.585088    \n",
       "lab_wbc_first               -0.0051287  0.0058281  -0.880 0.378865    \n",
       "lab_ph_first                -0.8025856  1.1693194  -0.686 0.492480    \n",
       "lab_chloride_first          -0.0032502  0.0210305  -0.155 0.877180    \n",
       "lab_sodium_first            -0.0202146  0.0227520  -0.888 0.374286    \n",
       "lab_bun_first                0.0097450  0.0033905   2.874 0.004051 ** \n",
       "lab_bicarbonate_first        0.0427008  0.0258585   1.651 0.098671 .  \n",
       "lab_bnp_flag1                0.4310568  0.3305308   1.304 0.192187    \n",
       "lab_pco2_first               0.0005584  0.0096424   0.058 0.953819    \n",
       "lab_creatinine_first        -0.2298424  0.0725456  -3.168 0.001534 ** \n",
       "lab_potassium_first          0.1253771  0.0752643   1.666 0.095749 .  \n",
       "lab_troponin_flag1           0.3097634  0.1907260   1.624 0.104349    \n",
       "lab_po2_first               -0.0009603  0.0007008  -1.370 0.170577    \n",
       "lab_lactate_first            0.1530632  0.0362872   4.218 2.46e-05 ***\n",
       "sedative1                   -0.1377738  0.2070419  -0.665 0.505769    \n",
       "---\n",
       "Signif. codes:  0 ‘***’ 0.001 ‘**’ 0.01 ‘*’ 0.05 ‘.’ 0.1 ‘ ’ 1\n",
       "\n",
       "(Dispersion parameter for binomial family taken to be 1)\n",
       "\n",
       "    Null deviance: 1998.9  on 1586  degrees of freedom\n",
       "Residual deviance: 1485.6  on 1518  degrees of freedom\n",
       "  (4774 observations deleted due to missingness)\n",
       "AIC: 1623.6\n",
       "\n",
       "Number of Fisher Scoring iterations: 5\n"
      ]
     },
     "metadata": {},
     "output_type": "display_data"
    },
    {
     "name": "stderr",
     "output_type": "stream",
     "text": [
      "Waiting for profiling to be done...\n"
     ]
    },
    {
     "data": {
      "text/html": [
       "<table>\n",
       "<thead><tr><th></th><th scope=col>OR</th><th scope=col>2.5 %</th><th scope=col>97.5 %</th></tr></thead>\n",
       "<tbody>\n",
       "\t<tr><th scope=row>(Intercept)</th><td>333.7409885 </td><td>9.808999e-06</td><td>9.081806e+09</td></tr>\n",
       "\t<tr><th scope=row>echo1</th><td>  0.7287197 </td><td>5.451337e-01</td><td>9.736551e-01</td></tr>\n",
       "\t<tr><th scope=row>first_careunitMICU</th><td>  1.8983052 </td><td>1.347629e+00</td><td>2.697309e+00</td></tr>\n",
       "\t<tr><th scope=row>age</th><td>  1.0235810 </td><td>1.012624e+00</td><td>1.034892e+00</td></tr>\n",
       "\t<tr><th scope=row>genderF</th><td>  0.8335069 </td><td>6.316321e-01</td><td>1.099152e+00</td></tr>\n",
       "\t<tr><th scope=row>weight</th><td>  0.9943822 </td><td>9.882848e-01</td><td>1.000391e+00</td></tr>\n",
       "\t<tr><th scope=row>saps</th><td>  1.0657719 </td><td>1.029548e+00</td><td>1.103583e+00</td></tr>\n",
       "\t<tr><th scope=row>sofa</th><td>  1.1791019 </td><td>1.120829e+00</td><td>1.241565e+00</td></tr>\n",
       "\t<tr><th scope=row>elix_score</th><td>  1.0263943 </td><td>1.004066e+00</td><td>1.049196e+00</td></tr>\n",
       "\t<tr><th scope=row>vent1</th><td>  1.4932989 </td><td>8.902867e-01</td><td>2.505506e+00</td></tr>\n",
       "\t<tr><th scope=row>vaso1</th><td>  0.8623409 </td><td>6.149480e-01</td><td>1.209415e+00</td></tr>\n",
       "\t<tr><th scope=row>icu_adm_weekdaymonday</th><td>  0.8290082 </td><td>5.040613e-01</td><td>1.360211e+00</td></tr>\n",
       "\t<tr><th scope=row>icu_adm_weekdaysaturday</th><td>  0.8662737 </td><td>5.251327e-01</td><td>1.425928e+00</td></tr>\n",
       "\t<tr><th scope=row>icu_adm_weekdaysunday</th><td>  0.8031393 </td><td>4.910187e-01</td><td>1.311561e+00</td></tr>\n",
       "\t<tr><th scope=row>icu_adm_weekdaythursday</th><td>  1.2028727 </td><td>7.577920e-01</td><td>1.913902e+00</td></tr>\n",
       "\t<tr><th scope=row>icu_adm_weekdaytuesday</th><td>  0.9793282 </td><td>6.037946e-01</td><td>1.588263e+00</td></tr>\n",
       "\t<tr><th scope=row>icu_adm_weekdaywednesday</th><td>  1.1153088 </td><td>7.030110e-01</td><td>1.773598e+00</td></tr>\n",
       "\t<tr><th scope=row>icu_adm_hour1</th><td>  1.0733858 </td><td>4.100475e-01</td><td>2.801418e+00</td></tr>\n",
       "\t<tr><th scope=row>icu_adm_hour2</th><td>  0.5445113 </td><td>1.929260e-01</td><td>1.486333e+00</td></tr>\n",
       "\t<tr><th scope=row>icu_adm_hour3</th><td>  1.1369839 </td><td>4.453372e-01</td><td>2.889784e+00</td></tr>\n",
       "\t<tr><th scope=row>icu_adm_hour4</th><td>  1.7592560 </td><td>6.897489e-01</td><td>4.492201e+00</td></tr>\n",
       "\t<tr><th scope=row>icu_adm_hour5</th><td>  0.9974020 </td><td>3.551448e-01</td><td>2.738660e+00</td></tr>\n",
       "\t<tr><th scope=row>icu_adm_hour6</th><td>  1.1629828 </td><td>3.759121e-01</td><td>3.499922e+00</td></tr>\n",
       "\t<tr><th scope=row>icu_adm_hour7</th><td>  0.3579790 </td><td>6.753754e-02</td><td>1.448349e+00</td></tr>\n",
       "\t<tr><th scope=row>icu_adm_hour8</th><td>  0.6530791 </td><td>1.470837e-01</td><td>2.477794e+00</td></tr>\n",
       "\t<tr><th scope=row>icu_adm_hour9</th><td>  2.1434825 </td><td>8.087013e-01</td><td>5.703658e+00</td></tr>\n",
       "\t<tr><th scope=row>icu_adm_hour10</th><td>  0.5750697 </td><td>1.862038e-01</td><td>1.682446e+00</td></tr>\n",
       "\t<tr><th scope=row>icu_adm_hour11</th><td>  1.0777298 </td><td>4.257605e-01</td><td>2.729374e+00</td></tr>\n",
       "\t<tr><th scope=row>icu_adm_hour12</th><td>  1.2797585 </td><td>5.302562e-01</td><td>3.097473e+00</td></tr>\n",
       "\t<tr><th scope=row>icu_adm_hour13</th><td>  2.0399312 </td><td>8.076529e-01</td><td>5.198113e+00</td></tr>\n",
       "\t<tr><th scope=row>⋮</th><td>⋮</td><td>⋮</td><td>⋮</td></tr>\n",
       "\t<tr><th scope=row>icu_adm_hour23</th><td>0.5086526 </td><td>0.21190940</td><td>1.2167250 </td></tr>\n",
       "\t<tr><th scope=row>icd_chf1</th><td>0.6616747 </td><td>0.47272738</td><td>0.9234167 </td></tr>\n",
       "\t<tr><th scope=row>icd_afib1</th><td>1.1983005 </td><td>0.88328616</td><td>1.6248442 </td></tr>\n",
       "\t<tr><th scope=row>icd_renal1</th><td>1.1747748 </td><td>0.77281028</td><td>1.7804892 </td></tr>\n",
       "\t<tr><th scope=row>icd_liver1</th><td>1.7836028 </td><td>1.11688408</td><td>2.8521172 </td></tr>\n",
       "\t<tr><th scope=row>icd_copd1</th><td>1.3685593 </td><td>0.93991079</td><td>1.9871968 </td></tr>\n",
       "\t<tr><th scope=row>icd_cad1</th><td>0.6798457 </td><td>0.44718078</td><td>1.0223904 </td></tr>\n",
       "\t<tr><th scope=row>icd_stroke1</th><td>1.5502496 </td><td>0.87939390</td><td>2.6911955 </td></tr>\n",
       "\t<tr><th scope=row>icd_malignancy1</th><td>1.4921642 </td><td>1.07278251</td><td>2.0746481 </td></tr>\n",
       "\t<tr><th scope=row>vs_heart_rate_first</th><td>1.0051246 </td><td>0.99848595</td><td>1.0118237 </td></tr>\n",
       "\t<tr><th scope=row>vs_cvp_first</th><td>0.9985649 </td><td>0.99233549</td><td>1.0043439 </td></tr>\n",
       "\t<tr><th scope=row>vs_map_first</th><td>0.9933115 </td><td>0.98659813</td><td>0.9998327 </td></tr>\n",
       "\t<tr><th scope=row>vs_temp_first</th><td>0.9002400 </td><td>0.80244477</td><td>1.0035858 </td></tr>\n",
       "\t<tr><th scope=row>lab_hemoglobin_first</th><td>0.9578190 </td><td>0.89419367</td><td>1.0255351 </td></tr>\n",
       "\t<tr><th scope=row>lab_platelet_first</th><td>1.0004196 </td><td>0.99932148</td><td>1.0015122 </td></tr>\n",
       "\t<tr><th scope=row>lab_creatinine_kinase_flag1</th><td>0.9005497 </td><td>0.61657315</td><td>1.3089505 </td></tr>\n",
       "\t<tr><th scope=row>lab_wbc_first</th><td>0.9948844 </td><td>0.98342995</td><td>1.0062221 </td></tr>\n",
       "\t<tr><th scope=row>lab_ph_first</th><td>0.4481687 </td><td>0.04601983</td><td>4.5200769 </td></tr>\n",
       "\t<tr><th scope=row>lab_chloride_first</th><td>0.9967551 </td><td>0.95640857</td><td>1.0386898 </td></tr>\n",
       "\t<tr><th scope=row>lab_sodium_first</th><td>0.9799884 </td><td>0.93721410</td><td>1.0247461 </td></tr>\n",
       "\t<tr><th scope=row>lab_bun_first</th><td>1.0097926 </td><td>1.00313989</td><td>1.0165817 </td></tr>\n",
       "\t<tr><th scope=row>lab_bicarbonate_first</th><td>1.0436256 </td><td>0.99180950</td><td>1.0977624 </td></tr>\n",
       "\t<tr><th scope=row>lab_bnp_flag1</th><td>1.5388830 </td><td>0.79559672</td><td>2.9192965 </td></tr>\n",
       "\t<tr><th scope=row>lab_pco2_first</th><td>1.0005586 </td><td>0.98184754</td><td>1.0197403 </td></tr>\n",
       "\t<tr><th scope=row>lab_creatinine_first</th><td>0.7946588 </td><td>0.68690151</td><td>0.9126974 </td></tr>\n",
       "\t<tr><th scope=row>lab_potassium_first</th><td>1.1335758 </td><td>0.97897258</td><td>1.3231998 </td></tr>\n",
       "\t<tr><th scope=row>lab_troponin_flag1</th><td>1.3631026 </td><td>0.93996501</td><td>1.9866202 </td></tr>\n",
       "\t<tr><th scope=row>lab_po2_first</th><td>0.9990402 </td><td>0.99765775</td><td>1.0004053 </td></tr>\n",
       "\t<tr><th scope=row>lab_lactate_first</th><td>1.1653987 </td><td>1.08632099</td><td>1.2525373 </td></tr>\n",
       "\t<tr><th scope=row>sedative1</th><td>0.8712957 </td><td>0.58134821</td><td>1.3102266 </td></tr>\n",
       "</tbody>\n",
       "</table>\n"
      ],
      "text/latex": [
       "\\begin{tabular}{r|lll}\n",
       "  & OR & 2.5 \\% & 97.5 \\%\\\\\n",
       "\\hline\n",
       "\t(Intercept) & 333.7409885  & 9.808999e-06 & 9.081806e+09\\\\\n",
       "\techo1 &   0.7287197  & 5.451337e-01 & 9.736551e-01\\\\\n",
       "\tfirst\\_careunitMICU &   1.8983052  & 1.347629e+00 & 2.697309e+00\\\\\n",
       "\tage &   1.0235810  & 1.012624e+00 & 1.034892e+00\\\\\n",
       "\tgenderF &   0.8335069  & 6.316321e-01 & 1.099152e+00\\\\\n",
       "\tweight &   0.9943822  & 9.882848e-01 & 1.000391e+00\\\\\n",
       "\tsaps &   1.0657719  & 1.029548e+00 & 1.103583e+00\\\\\n",
       "\tsofa &   1.1791019  & 1.120829e+00 & 1.241565e+00\\\\\n",
       "\telix\\_score &   1.0263943  & 1.004066e+00 & 1.049196e+00\\\\\n",
       "\tvent1 &   1.4932989  & 8.902867e-01 & 2.505506e+00\\\\\n",
       "\tvaso1 &   0.8623409  & 6.149480e-01 & 1.209415e+00\\\\\n",
       "\ticu\\_adm\\_weekdaymonday &   0.8290082  & 5.040613e-01 & 1.360211e+00\\\\\n",
       "\ticu\\_adm\\_weekdaysaturday &   0.8662737  & 5.251327e-01 & 1.425928e+00\\\\\n",
       "\ticu\\_adm\\_weekdaysunday &   0.8031393  & 4.910187e-01 & 1.311561e+00\\\\\n",
       "\ticu\\_adm\\_weekdaythursday &   1.2028727  & 7.577920e-01 & 1.913902e+00\\\\\n",
       "\ticu\\_adm\\_weekdaytuesday &   0.9793282  & 6.037946e-01 & 1.588263e+00\\\\\n",
       "\ticu\\_adm\\_weekdaywednesday &   1.1153088  & 7.030110e-01 & 1.773598e+00\\\\\n",
       "\ticu\\_adm\\_hour1 &   1.0733858  & 4.100475e-01 & 2.801418e+00\\\\\n",
       "\ticu\\_adm\\_hour2 &   0.5445113  & 1.929260e-01 & 1.486333e+00\\\\\n",
       "\ticu\\_adm\\_hour3 &   1.1369839  & 4.453372e-01 & 2.889784e+00\\\\\n",
       "\ticu\\_adm\\_hour4 &   1.7592560  & 6.897489e-01 & 4.492201e+00\\\\\n",
       "\ticu\\_adm\\_hour5 &   0.9974020  & 3.551448e-01 & 2.738660e+00\\\\\n",
       "\ticu\\_adm\\_hour6 &   1.1629828  & 3.759121e-01 & 3.499922e+00\\\\\n",
       "\ticu\\_adm\\_hour7 &   0.3579790  & 6.753754e-02 & 1.448349e+00\\\\\n",
       "\ticu\\_adm\\_hour8 &   0.6530791  & 1.470837e-01 & 2.477794e+00\\\\\n",
       "\ticu\\_adm\\_hour9 &   2.1434825  & 8.087013e-01 & 5.703658e+00\\\\\n",
       "\ticu\\_adm\\_hour10 &   0.5750697  & 1.862038e-01 & 1.682446e+00\\\\\n",
       "\ticu\\_adm\\_hour11 &   1.0777298  & 4.257605e-01 & 2.729374e+00\\\\\n",
       "\ticu\\_adm\\_hour12 &   1.2797585  & 5.302562e-01 & 3.097473e+00\\\\\n",
       "\ticu\\_adm\\_hour13 &   2.0399312  & 8.076529e-01 & 5.198113e+00\\\\\n",
       "\t⋮ & ⋮ & ⋮ & ⋮\\\\\n",
       "\ticu\\_adm\\_hour23 & 0.5086526  & 0.21190940 & 1.2167250 \\\\\n",
       "\ticd\\_chf1 & 0.6616747  & 0.47272738 & 0.9234167 \\\\\n",
       "\ticd\\_afib1 & 1.1983005  & 0.88328616 & 1.6248442 \\\\\n",
       "\ticd\\_renal1 & 1.1747748  & 0.77281028 & 1.7804892 \\\\\n",
       "\ticd\\_liver1 & 1.7836028  & 1.11688408 & 2.8521172 \\\\\n",
       "\ticd\\_copd1 & 1.3685593  & 0.93991079 & 1.9871968 \\\\\n",
       "\ticd\\_cad1 & 0.6798457  & 0.44718078 & 1.0223904 \\\\\n",
       "\ticd\\_stroke1 & 1.5502496  & 0.87939390 & 2.6911955 \\\\\n",
       "\ticd\\_malignancy1 & 1.4921642  & 1.07278251 & 2.0746481 \\\\\n",
       "\tvs\\_heart\\_rate\\_first & 1.0051246  & 0.99848595 & 1.0118237 \\\\\n",
       "\tvs\\_cvp\\_first & 0.9985649  & 0.99233549 & 1.0043439 \\\\\n",
       "\tvs\\_map\\_first & 0.9933115  & 0.98659813 & 0.9998327 \\\\\n",
       "\tvs\\_temp\\_first & 0.9002400  & 0.80244477 & 1.0035858 \\\\\n",
       "\tlab\\_hemoglobin\\_first & 0.9578190  & 0.89419367 & 1.0255351 \\\\\n",
       "\tlab\\_platelet\\_first & 1.0004196  & 0.99932148 & 1.0015122 \\\\\n",
       "\tlab\\_creatinine\\_kinase\\_flag1 & 0.9005497  & 0.61657315 & 1.3089505 \\\\\n",
       "\tlab\\_wbc\\_first & 0.9948844  & 0.98342995 & 1.0062221 \\\\\n",
       "\tlab\\_ph\\_first & 0.4481687  & 0.04601983 & 4.5200769 \\\\\n",
       "\tlab\\_chloride\\_first & 0.9967551  & 0.95640857 & 1.0386898 \\\\\n",
       "\tlab\\_sodium\\_first & 0.9799884  & 0.93721410 & 1.0247461 \\\\\n",
       "\tlab\\_bun\\_first & 1.0097926  & 1.00313989 & 1.0165817 \\\\\n",
       "\tlab\\_bicarbonate\\_first & 1.0436256  & 0.99180950 & 1.0977624 \\\\\n",
       "\tlab\\_bnp\\_flag1 & 1.5388830  & 0.79559672 & 2.9192965 \\\\\n",
       "\tlab\\_pco2\\_first & 1.0005586  & 0.98184754 & 1.0197403 \\\\\n",
       "\tlab\\_creatinine\\_first & 0.7946588  & 0.68690151 & 0.9126974 \\\\\n",
       "\tlab\\_potassium\\_first & 1.1335758  & 0.97897258 & 1.3231998 \\\\\n",
       "\tlab\\_troponin\\_flag1 & 1.3631026  & 0.93996501 & 1.9866202 \\\\\n",
       "\tlab\\_po2\\_first & 0.9990402  & 0.99765775 & 1.0004053 \\\\\n",
       "\tlab\\_lactate\\_first & 1.1653987  & 1.08632099 & 1.2525373 \\\\\n",
       "\tsedative1 & 0.8712957  & 0.58134821 & 1.3102266 \\\\\n",
       "\\end{tabular}\n"
      ],
      "text/markdown": [
       "\n",
       "| <!--/--> | OR | 2.5 % | 97.5 % | \n",
       "|---|---|---|---|---|---|---|---|---|---|---|---|---|---|---|---|---|---|---|---|---|---|---|---|---|---|---|---|---|---|---|---|---|---|---|---|---|---|---|---|---|---|---|---|---|---|---|---|---|---|---|---|---|---|---|---|---|---|---|---|---|\n",
       "| (Intercept) | 333.7409885  | 9.808999e-06 | 9.081806e+09 | \n",
       "| echo1 |   0.7287197  | 5.451337e-01 | 9.736551e-01 | \n",
       "| first_careunitMICU |   1.8983052  | 1.347629e+00 | 2.697309e+00 | \n",
       "| age |   1.0235810  | 1.012624e+00 | 1.034892e+00 | \n",
       "| genderF |   0.8335069  | 6.316321e-01 | 1.099152e+00 | \n",
       "| weight |   0.9943822  | 9.882848e-01 | 1.000391e+00 | \n",
       "| saps |   1.0657719  | 1.029548e+00 | 1.103583e+00 | \n",
       "| sofa |   1.1791019  | 1.120829e+00 | 1.241565e+00 | \n",
       "| elix_score |   1.0263943  | 1.004066e+00 | 1.049196e+00 | \n",
       "| vent1 |   1.4932989  | 8.902867e-01 | 2.505506e+00 | \n",
       "| vaso1 |   0.8623409  | 6.149480e-01 | 1.209415e+00 | \n",
       "| icu_adm_weekdaymonday |   0.8290082  | 5.040613e-01 | 1.360211e+00 | \n",
       "| icu_adm_weekdaysaturday |   0.8662737  | 5.251327e-01 | 1.425928e+00 | \n",
       "| icu_adm_weekdaysunday |   0.8031393  | 4.910187e-01 | 1.311561e+00 | \n",
       "| icu_adm_weekdaythursday |   1.2028727  | 7.577920e-01 | 1.913902e+00 | \n",
       "| icu_adm_weekdaytuesday |   0.9793282  | 6.037946e-01 | 1.588263e+00 | \n",
       "| icu_adm_weekdaywednesday |   1.1153088  | 7.030110e-01 | 1.773598e+00 | \n",
       "| icu_adm_hour1 |   1.0733858  | 4.100475e-01 | 2.801418e+00 | \n",
       "| icu_adm_hour2 |   0.5445113  | 1.929260e-01 | 1.486333e+00 | \n",
       "| icu_adm_hour3 |   1.1369839  | 4.453372e-01 | 2.889784e+00 | \n",
       "| icu_adm_hour4 |   1.7592560  | 6.897489e-01 | 4.492201e+00 | \n",
       "| icu_adm_hour5 |   0.9974020  | 3.551448e-01 | 2.738660e+00 | \n",
       "| icu_adm_hour6 |   1.1629828  | 3.759121e-01 | 3.499922e+00 | \n",
       "| icu_adm_hour7 |   0.3579790  | 6.753754e-02 | 1.448349e+00 | \n",
       "| icu_adm_hour8 |   0.6530791  | 1.470837e-01 | 2.477794e+00 | \n",
       "| icu_adm_hour9 |   2.1434825  | 8.087013e-01 | 5.703658e+00 | \n",
       "| icu_adm_hour10 |   0.5750697  | 1.862038e-01 | 1.682446e+00 | \n",
       "| icu_adm_hour11 |   1.0777298  | 4.257605e-01 | 2.729374e+00 | \n",
       "| icu_adm_hour12 |   1.2797585  | 5.302562e-01 | 3.097473e+00 | \n",
       "| icu_adm_hour13 |   2.0399312  | 8.076529e-01 | 5.198113e+00 | \n",
       "| ⋮ | ⋮ | ⋮ | ⋮ | \n",
       "| icu_adm_hour23 | 0.5086526  | 0.21190940 | 1.2167250  | \n",
       "| icd_chf1 | 0.6616747  | 0.47272738 | 0.9234167  | \n",
       "| icd_afib1 | 1.1983005  | 0.88328616 | 1.6248442  | \n",
       "| icd_renal1 | 1.1747748  | 0.77281028 | 1.7804892  | \n",
       "| icd_liver1 | 1.7836028  | 1.11688408 | 2.8521172  | \n",
       "| icd_copd1 | 1.3685593  | 0.93991079 | 1.9871968  | \n",
       "| icd_cad1 | 0.6798457  | 0.44718078 | 1.0223904  | \n",
       "| icd_stroke1 | 1.5502496  | 0.87939390 | 2.6911955  | \n",
       "| icd_malignancy1 | 1.4921642  | 1.07278251 | 2.0746481  | \n",
       "| vs_heart_rate_first | 1.0051246  | 0.99848595 | 1.0118237  | \n",
       "| vs_cvp_first | 0.9985649  | 0.99233549 | 1.0043439  | \n",
       "| vs_map_first | 0.9933115  | 0.98659813 | 0.9998327  | \n",
       "| vs_temp_first | 0.9002400  | 0.80244477 | 1.0035858  | \n",
       "| lab_hemoglobin_first | 0.9578190  | 0.89419367 | 1.0255351  | \n",
       "| lab_platelet_first | 1.0004196  | 0.99932148 | 1.0015122  | \n",
       "| lab_creatinine_kinase_flag1 | 0.9005497  | 0.61657315 | 1.3089505  | \n",
       "| lab_wbc_first | 0.9948844  | 0.98342995 | 1.0062221  | \n",
       "| lab_ph_first | 0.4481687  | 0.04601983 | 4.5200769  | \n",
       "| lab_chloride_first | 0.9967551  | 0.95640857 | 1.0386898  | \n",
       "| lab_sodium_first | 0.9799884  | 0.93721410 | 1.0247461  | \n",
       "| lab_bun_first | 1.0097926  | 1.00313989 | 1.0165817  | \n",
       "| lab_bicarbonate_first | 1.0436256  | 0.99180950 | 1.0977624  | \n",
       "| lab_bnp_flag1 | 1.5388830  | 0.79559672 | 2.9192965  | \n",
       "| lab_pco2_first | 1.0005586  | 0.98184754 | 1.0197403  | \n",
       "| lab_creatinine_first | 0.7946588  | 0.68690151 | 0.9126974  | \n",
       "| lab_potassium_first | 1.1335758  | 0.97897258 | 1.3231998  | \n",
       "| lab_troponin_flag1 | 1.3631026  | 0.93996501 | 1.9866202  | \n",
       "| lab_po2_first | 0.9990402  | 0.99765775 | 1.0004053  | \n",
       "| lab_lactate_first | 1.1653987  | 1.08632099 | 1.2525373  | \n",
       "| sedative1 | 0.8712957  | 0.58134821 | 1.3102266  | \n",
       "\n",
       "\n"
      ],
      "text/plain": [
       "                            OR          2.5 %        97.5 %      \n",
       "(Intercept)                 333.7409885 9.808999e-06 9.081806e+09\n",
       "echo1                         0.7287197 5.451337e-01 9.736551e-01\n",
       "first_careunitMICU            1.8983052 1.347629e+00 2.697309e+00\n",
       "age                           1.0235810 1.012624e+00 1.034892e+00\n",
       "genderF                       0.8335069 6.316321e-01 1.099152e+00\n",
       "weight                        0.9943822 9.882848e-01 1.000391e+00\n",
       "saps                          1.0657719 1.029548e+00 1.103583e+00\n",
       "sofa                          1.1791019 1.120829e+00 1.241565e+00\n",
       "elix_score                    1.0263943 1.004066e+00 1.049196e+00\n",
       "vent1                         1.4932989 8.902867e-01 2.505506e+00\n",
       "vaso1                         0.8623409 6.149480e-01 1.209415e+00\n",
       "icu_adm_weekdaymonday         0.8290082 5.040613e-01 1.360211e+00\n",
       "icu_adm_weekdaysaturday       0.8662737 5.251327e-01 1.425928e+00\n",
       "icu_adm_weekdaysunday         0.8031393 4.910187e-01 1.311561e+00\n",
       "icu_adm_weekdaythursday       1.2028727 7.577920e-01 1.913902e+00\n",
       "icu_adm_weekdaytuesday        0.9793282 6.037946e-01 1.588263e+00\n",
       "icu_adm_weekdaywednesday      1.1153088 7.030110e-01 1.773598e+00\n",
       "icu_adm_hour1                 1.0733858 4.100475e-01 2.801418e+00\n",
       "icu_adm_hour2                 0.5445113 1.929260e-01 1.486333e+00\n",
       "icu_adm_hour3                 1.1369839 4.453372e-01 2.889784e+00\n",
       "icu_adm_hour4                 1.7592560 6.897489e-01 4.492201e+00\n",
       "icu_adm_hour5                 0.9974020 3.551448e-01 2.738660e+00\n",
       "icu_adm_hour6                 1.1629828 3.759121e-01 3.499922e+00\n",
       "icu_adm_hour7                 0.3579790 6.753754e-02 1.448349e+00\n",
       "icu_adm_hour8                 0.6530791 1.470837e-01 2.477794e+00\n",
       "icu_adm_hour9                 2.1434825 8.087013e-01 5.703658e+00\n",
       "icu_adm_hour10                0.5750697 1.862038e-01 1.682446e+00\n",
       "icu_adm_hour11                1.0777298 4.257605e-01 2.729374e+00\n",
       "icu_adm_hour12                1.2797585 5.302562e-01 3.097473e+00\n",
       "icu_adm_hour13                2.0399312 8.076529e-01 5.198113e+00\n",
       "⋮                           ⋮           ⋮            ⋮           \n",
       "icu_adm_hour23              0.5086526   0.21190940   1.2167250   \n",
       "icd_chf1                    0.6616747   0.47272738   0.9234167   \n",
       "icd_afib1                   1.1983005   0.88328616   1.6248442   \n",
       "icd_renal1                  1.1747748   0.77281028   1.7804892   \n",
       "icd_liver1                  1.7836028   1.11688408   2.8521172   \n",
       "icd_copd1                   1.3685593   0.93991079   1.9871968   \n",
       "icd_cad1                    0.6798457   0.44718078   1.0223904   \n",
       "icd_stroke1                 1.5502496   0.87939390   2.6911955   \n",
       "icd_malignancy1             1.4921642   1.07278251   2.0746481   \n",
       "vs_heart_rate_first         1.0051246   0.99848595   1.0118237   \n",
       "vs_cvp_first                0.9985649   0.99233549   1.0043439   \n",
       "vs_map_first                0.9933115   0.98659813   0.9998327   \n",
       "vs_temp_first               0.9002400   0.80244477   1.0035858   \n",
       "lab_hemoglobin_first        0.9578190   0.89419367   1.0255351   \n",
       "lab_platelet_first          1.0004196   0.99932148   1.0015122   \n",
       "lab_creatinine_kinase_flag1 0.9005497   0.61657315   1.3089505   \n",
       "lab_wbc_first               0.9948844   0.98342995   1.0062221   \n",
       "lab_ph_first                0.4481687   0.04601983   4.5200769   \n",
       "lab_chloride_first          0.9967551   0.95640857   1.0386898   \n",
       "lab_sodium_first            0.9799884   0.93721410   1.0247461   \n",
       "lab_bun_first               1.0097926   1.00313989   1.0165817   \n",
       "lab_bicarbonate_first       1.0436256   0.99180950   1.0977624   \n",
       "lab_bnp_flag1               1.5388830   0.79559672   2.9192965   \n",
       "lab_pco2_first              1.0005586   0.98184754   1.0197403   \n",
       "lab_creatinine_first        0.7946588   0.68690151   0.9126974   \n",
       "lab_potassium_first         1.1335758   0.97897258   1.3231998   \n",
       "lab_troponin_flag1          1.3631026   0.93996501   1.9866202   \n",
       "lab_po2_first               0.9990402   0.99765775   1.0004053   \n",
       "lab_lactate_first           1.1653987   1.08632099   1.2525373   \n",
       "sedative1                   0.8712957   0.58134821   1.3102266   "
      ]
     },
     "metadata": {},
     "output_type": "display_data"
    }
   ],
   "source": [
    "unweighted <- glm(as.formula(fml), data = full_data, family = binomial, na.action = na.exclude)\n",
    "summary(unweighted)\n",
    "exp(cbind(OR = coef(unweighted), confint(unweighted)))"
   ]
  },
  {
   "cell_type": "code",
   "execution_count": 16,
   "metadata": {},
   "outputs": [],
   "source": [
    "saveRDS(unweighted, file = file.path(data_dir, \"multivariate_model.rds\"))"
   ]
  },
  {
   "cell_type": "code",
   "execution_count": 17,
   "metadata": {},
   "outputs": [
    {
     "data": {
      "text/html": [
       "'echo_int ~ first_careunit + age + gender + weight + saps + sofa + elix_score + vent + vaso + icu_adm_weekday + icu_adm_hour + icd_chf + icd_afib + icd_renal + icd_liver + icd_copd + icd_cad + icd_stroke + icd_malignancy + vs_heart_rate_first + vs_cvp_first + vs_map_first + vs_temp_first + lab_hemoglobin_first + lab_platelet_first + lab_creatinine_kinase_flag + lab_wbc_first + lab_ph_first + lab_chloride_first + lab_sodium_first + lab_bun_first + lab_bicarbonate_first + lab_bnp_flag + lab_pco2_first + lab_creatinine_first + lab_potassium_first + lab_troponin_flag + lab_po2_first + lab_lactate_first + sedative'"
      ],
      "text/latex": [
       "'echo\\_int \\textasciitilde{} first\\_careunit + age + gender + weight + saps + sofa + elix\\_score + vent + vaso + icu\\_adm\\_weekday + icu\\_adm\\_hour + icd\\_chf + icd\\_afib + icd\\_renal + icd\\_liver + icd\\_copd + icd\\_cad + icd\\_stroke + icd\\_malignancy + vs\\_heart\\_rate\\_first + vs\\_cvp\\_first + vs\\_map\\_first + vs\\_temp\\_first + lab\\_hemoglobin\\_first + lab\\_platelet\\_first + lab\\_creatinine\\_kinase\\_flag + lab\\_wbc\\_first + lab\\_ph\\_first + lab\\_chloride\\_first + lab\\_sodium\\_first + lab\\_bun\\_first + lab\\_bicarbonate\\_first + lab\\_bnp\\_flag + lab\\_pco2\\_first + lab\\_creatinine\\_first + lab\\_potassium\\_first + lab\\_troponin\\_flag + lab\\_po2\\_first + lab\\_lactate\\_first + sedative'"
      ],
      "text/markdown": [
       "'echo_int ~ first_careunit + age + gender + weight + saps + sofa + elix_score + vent + vaso + icu_adm_weekday + icu_adm_hour + icd_chf + icd_afib + icd_renal + icd_liver + icd_copd + icd_cad + icd_stroke + icd_malignancy + vs_heart_rate_first + vs_cvp_first + vs_map_first + vs_temp_first + lab_hemoglobin_first + lab_platelet_first + lab_creatinine_kinase_flag + lab_wbc_first + lab_ph_first + lab_chloride_first + lab_sodium_first + lab_bun_first + lab_bicarbonate_first + lab_bnp_flag + lab_pco2_first + lab_creatinine_first + lab_potassium_first + lab_troponin_flag + lab_po2_first + lab_lactate_first + sedative'"
      ],
      "text/plain": [
       "[1] \"echo_int ~ first_careunit + age + gender + weight + saps + sofa + elix_score + vent + vaso + icu_adm_weekday + icu_adm_hour + icd_chf + icd_afib + icd_renal + icd_liver + icd_copd + icd_cad + icd_stroke + icd_malignancy + vs_heart_rate_first + vs_cvp_first + vs_map_first + vs_temp_first + lab_hemoglobin_first + lab_platelet_first + lab_creatinine_kinase_flag + lab_wbc_first + lab_ph_first + lab_chloride_first + lab_sodium_first + lab_bun_first + lab_bicarbonate_first + lab_bnp_flag + lab_pco2_first + lab_creatinine_first + lab_potassium_first + lab_troponin_flag + lab_po2_first + lab_lactate_first + sedative\""
      ]
     },
     "metadata": {},
     "output_type": "display_data"
    }
   ],
   "source": [
    "fml <- feature_names %>%\n",
    "    paste(collapse = \" + \") %>%\n",
    "    sprintf(\"echo_int ~ %s\", .)\n",
    "fml"
   ]
  },
  {
   "cell_type": "code",
   "execution_count": 18,
   "metadata": {},
   "outputs": [],
   "source": [
    "echo_ps_ate <- ps(as.formula(fml),\n",
    "                  data = full_data,\n",
    "                  interaction.depth = 2,\n",
    "                  shrinkage = 0.01,\n",
    "                  perm.test.iters = 0,\n",
    "                  estimand = \"ATE\",\n",
    "                  verbose = FALSE,\n",
    "                  stop.method = c(\"es.mean\", \"es.max\", \"ks.mean\", \"ks.max\"),\n",
    "                  n.trees = 10000,\n",
    "                  train.fraction = 0.8,\n",
    "                  cv.folds = 3,\n",
    "                  n.cores = 8)"
   ]
  },
  {
   "cell_type": "code",
   "execution_count": 19,
   "metadata": {},
   "outputs": [
    {
     "data": {
      "text/html": [
       "0.818210181920195"
      ],
      "text/latex": [
       "0.818210181920195"
      ],
      "text/markdown": [
       "0.818210181920195"
      ],
      "text/plain": [
       "[1] 0.8182102"
      ]
     },
     "metadata": {},
     "output_type": "display_data"
    }
   ],
   "source": [
    "pred <- echo_ps_ate$ps$es.mean.ATE\n",
    "full_data <- full_data %>% mutate(ps = pred)\n",
    "ROCR::performance(ROCR::prediction(pred, label), \"auc\")@y.values %>% first"
   ]
  },
  {
   "cell_type": "code",
   "execution_count": 20,
   "metadata": {},
   "outputs": [],
   "source": [
    "ft_importance <- summary(echo_ps_ate$gbm.obj,\n",
    "                         n.trees = echo_ps_ate$desc$es.mean.ATE$n.trees,\n",
    "                         plot = FALSE)"
   ]
  },
  {
   "cell_type": "code",
   "execution_count": 21,
   "metadata": {},
   "outputs": [],
   "source": [
    "full_data <- full_data %>%\n",
    "    mutate(ps_weight = get.weights(echo_ps_ate, stop.method = \"es.mean\"))"
   ]
  },
  {
   "cell_type": "code",
   "execution_count": 22,
   "metadata": {},
   "outputs": [],
   "source": [
    "saveRDS(full_data, file = file.path(data_dir, \"full_data_ps.rds\"))"
   ]
  },
  {
   "cell_type": "code",
   "execution_count": 23,
   "metadata": {},
   "outputs": [],
   "source": [
    "saveRDS(ft_importance, file = file.path(data_dir, \"feature_importance.rds\"))"
   ]
  },
  {
   "cell_type": "code",
   "execution_count": 24,
   "metadata": {},
   "outputs": [
    {
     "name": "stderr",
     "output_type": "stream",
     "text": [
      "Warning message in eval(family$initialize):\n",
      "“non-integer #successes in a binomial glm!”"
     ]
    },
    {
     "data": {
      "text/plain": [
       "\n",
       "Call:\n",
       "glm(formula = mort_28_day ~ echo, family = binomial, data = full_data, \n",
       "    weights = full_data$ps_weight)\n",
       "\n",
       "Deviance Residuals: \n",
       "    Min       1Q   Median       3Q      Max  \n",
       "-2.3470  -1.0797  -0.9491   1.7377   4.5638  \n",
       "\n",
       "Coefficients:\n",
       "            Estimate Std. Error z value Pr(>|z|)    \n",
       "(Intercept) -0.88804    0.02904 -30.577  < 2e-16 ***\n",
       "echo1       -0.16434    0.04166  -3.945 7.98e-05 ***\n",
       "---\n",
       "Signif. codes:  0 ‘***’ 0.001 ‘**’ 0.01 ‘*’ 0.05 ‘.’ 0.1 ‘ ’ 1\n",
       "\n",
       "(Dispersion parameter for binomial family taken to be 1)\n",
       "\n",
       "    Null deviance: 13628  on 6360  degrees of freedom\n",
       "Residual deviance: 13613  on 6359  degrees of freedom\n",
       "AIC: 13246\n",
       "\n",
       "Number of Fisher Scoring iterations: 4\n"
      ]
     },
     "metadata": {},
     "output_type": "display_data"
    },
    {
     "name": "stderr",
     "output_type": "stream",
     "text": [
      "Waiting for profiling to be done...\n",
      "Warning message in eval(family$initialize):\n",
      "“non-integer #successes in a binomial glm!”Warning message in eval(family$initialize):\n",
      "“non-integer #successes in a binomial glm!”Warning message in eval(family$initialize):\n",
      "“non-integer #successes in a binomial glm!”Warning message in eval(family$initialize):\n",
      "“non-integer #successes in a binomial glm!”Warning message in eval(family$initialize):\n",
      "“non-integer #successes in a binomial glm!”Warning message in eval(family$initialize):\n",
      "“non-integer #successes in a binomial glm!”Warning message in eval(family$initialize):\n",
      "“non-integer #successes in a binomial glm!”Warning message in eval(family$initialize):\n",
      "“non-integer #successes in a binomial glm!”Warning message in eval(family$initialize):\n",
      "“non-integer #successes in a binomial glm!”Warning message in eval(family$initialize):\n",
      "“non-integer #successes in a binomial glm!”Warning message in eval(family$initialize):\n",
      "“non-integer #successes in a binomial glm!”Warning message in eval(family$initialize):\n",
      "“non-integer #successes in a binomial glm!”Warning message in eval(family$initialize):\n",
      "“non-integer #successes in a binomial glm!”Warning message in eval(family$initialize):\n",
      "“non-integer #successes in a binomial glm!”Warning message in eval(family$initialize):\n",
      "“non-integer #successes in a binomial glm!”Warning message in eval(family$initialize):\n",
      "“non-integer #successes in a binomial glm!”Warning message in eval(family$initialize):\n",
      "“non-integer #successes in a binomial glm!”Warning message in eval(family$initialize):\n",
      "“non-integer #successes in a binomial glm!”Warning message in eval(family$initialize):\n",
      "“non-integer #successes in a binomial glm!”Warning message in eval(family$initialize):\n",
      "“non-integer #successes in a binomial glm!”Warning message in eval(family$initialize):\n",
      "“non-integer #successes in a binomial glm!”Warning message in eval(family$initialize):\n",
      "“non-integer #successes in a binomial glm!”"
     ]
    },
    {
     "data": {
      "text/html": [
       "<table>\n",
       "<thead><tr><th></th><th scope=col>OR</th><th scope=col>2.5 %</th><th scope=col>97.5 %</th></tr></thead>\n",
       "<tbody>\n",
       "\t<tr><th scope=row>(Intercept)</th><td>0.4114605</td><td>0.3886034</td><td>0.4354656</td></tr>\n",
       "\t<tr><th scope=row>echo1</th><td>0.8484532</td><td>0.7819015</td><td>0.9206101</td></tr>\n",
       "</tbody>\n",
       "</table>\n"
      ],
      "text/latex": [
       "\\begin{tabular}{r|lll}\n",
       "  & OR & 2.5 \\% & 97.5 \\%\\\\\n",
       "\\hline\n",
       "\t(Intercept) & 0.4114605 & 0.3886034 & 0.4354656\\\\\n",
       "\techo1 & 0.8484532 & 0.7819015 & 0.9206101\\\\\n",
       "\\end{tabular}\n"
      ],
      "text/markdown": [
       "\n",
       "| <!--/--> | OR | 2.5 % | 97.5 % | \n",
       "|---|---|\n",
       "| (Intercept) | 0.4114605 | 0.3886034 | 0.4354656 | \n",
       "| echo1 | 0.8484532 | 0.7819015 | 0.9206101 | \n",
       "\n",
       "\n"
      ],
      "text/plain": [
       "            OR        2.5 %     97.5 %   \n",
       "(Intercept) 0.4114605 0.3886034 0.4354656\n",
       "echo1       0.8484532 0.7819015 0.9206101"
      ]
     },
     "metadata": {},
     "output_type": "display_data"
    }
   ],
   "source": [
    "primary_ipw <- glm(mort_28_day ~ echo, data = full_data,\n",
    "                   weights = full_data$ps_weight, family = binomial)\n",
    "summary(primary_ipw)\n",
    "exp(cbind(OR = coef(primary_ipw), confint(primary_ipw)))"
   ]
  },
  {
   "cell_type": "code",
   "execution_count": 25,
   "metadata": {},
   "outputs": [],
   "source": [
    "saveRDS(primary_ipw, file = file.path(data_dir, \"ipw_model.rds\"))"
   ]
  },
  {
   "cell_type": "code",
   "execution_count": 26,
   "metadata": {},
   "outputs": [],
   "source": [
    "ipw_svydesign <- svydesign(ids = ~ icustay_id, weights = ~ ps_weight, data = full_data)"
   ]
  },
  {
   "cell_type": "code",
   "execution_count": 27,
   "metadata": {},
   "outputs": [],
   "source": [
    "saveRDS(ipw_svydesign, file = file.path(data_dir, \"ipw_svydesign.rds\"))"
   ]
  },
  {
   "cell_type": "code",
   "execution_count": 28,
   "metadata": {},
   "outputs": [
    {
     "data": {
      "text/html": [
       "'mort_28_day ~ echo + first_careunit + age + gender + weight + saps + sofa + elix_score + vent + vaso + icu_adm_weekday + icu_adm_hour + icd_chf + icd_afib + icd_renal + icd_liver + icd_copd + icd_cad + icd_stroke + icd_malignancy + vs_heart_rate_first + vs_cvp_first + vs_map_first + vs_temp_first + lab_hemoglobin_first + lab_platelet_first + lab_creatinine_kinase_flag + lab_wbc_first + lab_ph_first + lab_chloride_first + lab_sodium_first + lab_bun_first + lab_bicarbonate_first + lab_bnp_flag + lab_pco2_first + lab_creatinine_first + lab_potassium_first + lab_troponin_flag + lab_po2_first + lab_lactate_first + sedative'"
      ],
      "text/latex": [
       "'mort\\_28\\_day \\textasciitilde{} echo + first\\_careunit + age + gender + weight + saps + sofa + elix\\_score + vent + vaso + icu\\_adm\\_weekday + icu\\_adm\\_hour + icd\\_chf + icd\\_afib + icd\\_renal + icd\\_liver + icd\\_copd + icd\\_cad + icd\\_stroke + icd\\_malignancy + vs\\_heart\\_rate\\_first + vs\\_cvp\\_first + vs\\_map\\_first + vs\\_temp\\_first + lab\\_hemoglobin\\_first + lab\\_platelet\\_first + lab\\_creatinine\\_kinase\\_flag + lab\\_wbc\\_first + lab\\_ph\\_first + lab\\_chloride\\_first + lab\\_sodium\\_first + lab\\_bun\\_first + lab\\_bicarbonate\\_first + lab\\_bnp\\_flag + lab\\_pco2\\_first + lab\\_creatinine\\_first + lab\\_potassium\\_first + lab\\_troponin\\_flag + lab\\_po2\\_first + lab\\_lactate\\_first + sedative'"
      ],
      "text/markdown": [
       "'mort_28_day ~ echo + first_careunit + age + gender + weight + saps + sofa + elix_score + vent + vaso + icu_adm_weekday + icu_adm_hour + icd_chf + icd_afib + icd_renal + icd_liver + icd_copd + icd_cad + icd_stroke + icd_malignancy + vs_heart_rate_first + vs_cvp_first + vs_map_first + vs_temp_first + lab_hemoglobin_first + lab_platelet_first + lab_creatinine_kinase_flag + lab_wbc_first + lab_ph_first + lab_chloride_first + lab_sodium_first + lab_bun_first + lab_bicarbonate_first + lab_bnp_flag + lab_pco2_first + lab_creatinine_first + lab_potassium_first + lab_troponin_flag + lab_po2_first + lab_lactate_first + sedative'"
      ],
      "text/plain": [
       "[1] \"mort_28_day ~ echo + first_careunit + age + gender + weight + saps + sofa + elix_score + vent + vaso + icu_adm_weekday + icu_adm_hour + icd_chf + icd_afib + icd_renal + icd_liver + icd_copd + icd_cad + icd_stroke + icd_malignancy + vs_heart_rate_first + vs_cvp_first + vs_map_first + vs_temp_first + lab_hemoglobin_first + lab_platelet_first + lab_creatinine_kinase_flag + lab_wbc_first + lab_ph_first + lab_chloride_first + lab_sodium_first + lab_bun_first + lab_bicarbonate_first + lab_bnp_flag + lab_pco2_first + lab_creatinine_first + lab_potassium_first + lab_troponin_flag + lab_po2_first + lab_lactate_first + sedative\""
      ]
     },
     "metadata": {},
     "output_type": "display_data"
    }
   ],
   "source": [
    "fml <- feature_names %>%\n",
    "    c(label_name, .) %>%\n",
    "    paste(collapse = \" + \") %>%\n",
    "    sprintf(\"mort_28_day ~ %s\", .)\n",
    "fml"
   ]
  },
  {
   "cell_type": "code",
   "execution_count": 29,
   "metadata": {},
   "outputs": [],
   "source": [
    "logi <- svyglm(as.formula(fml),\n",
    "               family = quasibinomial,\n",
    "               design = ipw_svydesign)"
   ]
  },
  {
   "cell_type": "code",
   "execution_count": 30,
   "metadata": {},
   "outputs": [
    {
     "data": {
      "text/plain": [
       "\n",
       "Call:\n",
       "svyglm(formula = as.formula(fml), family = quasibinomial, design = ipw_svydesign)\n",
       "\n",
       "Survey design:\n",
       "svydesign(ids = ~icustay_id, weights = ~ps_weight, data = full_data)\n",
       "\n",
       "Coefficients:\n",
       "                              Estimate Std. Error t value Pr(>|t|)    \n",
       "(Intercept)                  9.5185367  9.2642893   1.027 0.304375    \n",
       "echo1                       -0.3574270  0.1498180  -2.386 0.017167 *  \n",
       "first_careunitMICU           0.8356606  0.1855502   4.504 7.19e-06 ***\n",
       "age                          0.0230922  0.0061296   3.767 0.000171 ***\n",
       "genderF                     -0.1332097  0.1526063  -0.873 0.382857    \n",
       "weight                      -0.0074648  0.0034933  -2.137 0.032768 *  \n",
       "saps                         0.0605907  0.0190265   3.185 0.001479 ** \n",
       "sofa                         0.1812425  0.0273323   6.631 4.62e-11 ***\n",
       "elix_score                   0.0213227  0.0118552   1.799 0.072282 .  \n",
       "vent1                        0.6331011  0.2848776   2.222 0.026406 *  \n",
       "vaso1                       -0.1591472  0.1807766  -0.880 0.378807    \n",
       "icu_adm_weekdaymonday       -0.2515995  0.2711441  -0.928 0.353598    \n",
       "icu_adm_weekdaysaturday     -0.1486616  0.2819947  -0.527 0.598147    \n",
       "icu_adm_weekdaysunday       -0.1809719  0.2731633  -0.663 0.507749    \n",
       "icu_adm_weekdaythursday      0.3404630  0.2542066   1.339 0.180668    \n",
       "icu_adm_weekdaytuesday      -0.0257969  0.2712674  -0.095 0.924250    \n",
       "icu_adm_weekdaywednesday     0.1582778  0.2578646   0.614 0.539438    \n",
       "icu_adm_hour1                0.3410918  0.5225042   0.653 0.513983    \n",
       "icu_adm_hour2               -0.7432410  0.5282270  -1.407 0.159618    \n",
       "icu_adm_hour3               -0.0037630  0.5004347  -0.008 0.994001    \n",
       "icu_adm_hour4                0.5066743  0.5289847   0.958 0.338304    \n",
       "icu_adm_hour5               -0.1547483  0.6001429  -0.258 0.796556    \n",
       "icu_adm_hour6                0.0954282  0.6346610   0.150 0.880500    \n",
       "icu_adm_hour7               -1.2012999  0.7627321  -1.575 0.115466    \n",
       "icu_adm_hour8               -0.3697419  0.6434761  -0.575 0.565646    \n",
       "icu_adm_hour9                0.7113795  0.4846671   1.468 0.142374    \n",
       "icu_adm_hour10              -0.7711196  0.5591423  -1.379 0.168064    \n",
       "icu_adm_hour11               0.2013252  0.4872642   0.413 0.679537    \n",
       "icu_adm_hour12               0.7126170  0.4468620   1.595 0.110984    \n",
       "icu_adm_hour13               0.7773753  0.4757731   1.634 0.102483    \n",
       "icu_adm_hour14               0.4915298  0.4331125   1.135 0.256606    \n",
       "icu_adm_hour15               0.5000478  0.4171645   1.199 0.230838    \n",
       "icu_adm_hour16               0.1236231  0.4303177   0.287 0.773935    \n",
       "icu_adm_hour17              -0.0660161  0.4410956  -0.150 0.881050    \n",
       "icu_adm_hour18               0.1464524  0.4266524   0.343 0.731451    \n",
       "icu_adm_hour19               0.2573181  0.4140404   0.621 0.534377    \n",
       "icu_adm_hour20               0.7201992  0.3972394   1.813 0.070028 .  \n",
       "icu_adm_hour21               0.5623000  0.3955566   1.422 0.155365    \n",
       "icu_adm_hour22               0.5068834  0.3908156   1.297 0.194832    \n",
       "icu_adm_hour23              -0.3694608  0.4663564  -0.792 0.428351    \n",
       "icd_chf1                    -0.4093681  0.1896904  -2.158 0.031078 *  \n",
       "icd_afib1                    0.3002465  0.1733358   1.732 0.083447 .  \n",
       "icd_renal1                   0.1216238  0.2308298   0.527 0.598341    \n",
       "icd_liver1                   0.6782824  0.2485070   2.729 0.006418 ** \n",
       "icd_copd1                    0.1457788  0.2034918   0.716 0.473863    \n",
       "icd_cad1                    -0.3664716  0.2281481  -1.606 0.108419    \n",
       "icd_stroke1                  0.6418619  0.3543288   1.811 0.070263 .  \n",
       "icd_malignancy1              0.4854406  0.1770488   2.742 0.006181 ** \n",
       "vs_heart_rate_first          0.0048393  0.0035482   1.364 0.172803    \n",
       "vs_cvp_first                -0.0030432  0.0028841  -1.055 0.291521    \n",
       "vs_map_first                -0.0049134  0.0038096  -1.290 0.197341    \n",
       "vs_temp_first               -0.0621569  0.0674551  -0.921 0.356959    \n",
       "lab_hemoglobin_first        -0.0553654  0.0369087  -1.500 0.133806    \n",
       "lab_platelet_first           0.0006158  0.0005985   1.029 0.303716    \n",
       "lab_creatinine_kinase_flag1 -0.1484938  0.2018252  -0.736 0.461994    \n",
       "lab_wbc_first               -0.0042881  0.0055908  -0.767 0.443202    \n",
       "lab_ph_first                -1.6501189  1.2366547  -1.334 0.182292    \n",
       "lab_chloride_first          -0.0046924  0.0241483  -0.194 0.845953    \n",
       "lab_sodium_first            -0.0157002  0.0262493  -0.598 0.549849    \n",
       "lab_bun_first                0.0101914  0.0040158   2.538 0.011254 *  \n",
       "lab_bicarbonate_first        0.0557108  0.0267432   2.083 0.037403 *  \n",
       "lab_bnp_flag1                0.7230217  0.3366912   2.147 0.031917 *  \n",
       "lab_pco2_first              -0.0036970  0.0096234  -0.384 0.700910    \n",
       "lab_creatinine_first        -0.2402830  0.0876270  -2.742 0.006176 ** \n",
       "lab_potassium_first          0.1601002  0.0990356   1.617 0.106174    \n",
       "lab_troponin_flag1           0.3417331  0.2053668   1.664 0.096316 .  \n",
       "lab_po2_first               -0.0010442  0.0007875  -1.326 0.185008    \n",
       "lab_lactate_first            0.1569778  0.0386121   4.066 5.04e-05 ***\n",
       "sedative1                   -0.2610416  0.2272763  -1.149 0.250916    \n",
       "---\n",
       "Signif. codes:  0 ‘***’ 0.001 ‘**’ 0.01 ‘*’ 0.05 ‘.’ 0.1 ‘ ’ 1\n",
       "\n",
       "(Dispersion parameter for quasibinomial family taken to be 1.032826)\n",
       "\n",
       "Number of Fisher Scoring iterations: 5\n"
      ]
     },
     "metadata": {},
     "output_type": "display_data"
    }
   ],
   "source": [
    "summary(logi)"
   ]
  },
  {
   "cell_type": "code",
   "execution_count": 31,
   "metadata": {},
   "outputs": [
    {
     "data": {
      "text/html": [
       "<table>\n",
       "<thead><tr><th></th><th scope=col>OR</th><th scope=col>2.5 %</th><th scope=col>97.5 %</th></tr></thead>\n",
       "<tbody>\n",
       "\t<tr><th scope=row>(Intercept)</th><td>1.360968e+04</td><td>0.0001770397</td><td>1.046226e+12</td></tr>\n",
       "\t<tr><th scope=row>echo1</th><td>6.994738e-01</td><td>0.5214901854</td><td>9.382028e-01</td></tr>\n",
       "\t<tr><th scope=row>first_careunitMICU</th><td>2.306337e+00</td><td>1.6031796877</td><td>3.317900e+00</td></tr>\n",
       "\t<tr><th scope=row>age</th><td>1.023361e+00</td><td>1.0111399939</td><td>1.035730e+00</td></tr>\n",
       "\t<tr><th scope=row>genderF</th><td>8.752815e-01</td><td>0.6490064427</td><td>1.180447e+00</td></tr>\n",
       "\t<tr><th scope=row>weight</th><td>9.925630e-01</td><td>0.9857902958</td><td>9.993822e-01</td></tr>\n",
       "\t<tr><th scope=row>saps</th><td>1.062464e+00</td><td>1.0235729218</td><td>1.102833e+00</td></tr>\n",
       "\t<tr><th scope=row>sofa</th><td>1.198706e+00</td><td>1.1361804491</td><td>1.264672e+00</td></tr>\n",
       "\t<tr><th scope=row>elix_score</th><td>1.021552e+00</td><td>0.9980887221</td><td>1.045566e+00</td></tr>\n",
       "\t<tr><th scope=row>vent1</th><td>1.883442e+00</td><td>1.0776160439</td><td>3.291854e+00</td></tr>\n",
       "\t<tr><th scope=row>vaso1</th><td>8.528708e-01</td><td>0.5984197828</td><td>1.215516e+00</td></tr>\n",
       "\t<tr><th scope=row>icu_adm_weekdaymonday</th><td>7.775561e-01</td><td>0.4570181316</td><td>1.322909e+00</td></tr>\n",
       "\t<tr><th scope=row>icu_adm_weekdaysaturday</th><td>8.618607e-01</td><td>0.4959099147</td><td>1.497861e+00</td></tr>\n",
       "\t<tr><th scope=row>icu_adm_weekdaysunday</th><td>8.344588e-01</td><td>0.4885262426</td><td>1.425351e+00</td></tr>\n",
       "\t<tr><th scope=row>icu_adm_weekdaythursday</th><td>1.405598e+00</td><td>0.8540437907</td><td>2.313355e+00</td></tr>\n",
       "\t<tr><th scope=row>icu_adm_weekdaytuesday</th><td>9.745330e-01</td><td>0.5726553805</td><td>1.658440e+00</td></tr>\n",
       "\t<tr><th scope=row>icu_adm_weekdaywednesday</th><td>1.171492e+00</td><td>0.7067151262</td><td>1.941932e+00</td></tr>\n",
       "\t<tr><th scope=row>icu_adm_hour1</th><td>1.406482e+00</td><td>0.5051006192</td><td>3.916432e+00</td></tr>\n",
       "\t<tr><th scope=row>icu_adm_hour2</th><td>4.755701e-01</td><td>0.1688833873</td><td>1.339190e+00</td></tr>\n",
       "\t<tr><th scope=row>icu_adm_hour3</th><td>9.962440e-01</td><td>0.3735897430</td><td>2.656663e+00</td></tr>\n",
       "\t<tr><th scope=row>icu_adm_hour4</th><td>1.659762e+00</td><td>0.5885362510</td><td>4.680783e+00</td></tr>\n",
       "\t<tr><th scope=row>icu_adm_hour5</th><td>8.566308e-01</td><td>0.2642111344</td><td>2.777386e+00</td></tr>\n",
       "\t<tr><th scope=row>icu_adm_hour6</th><td>1.100130e+00</td><td>0.3171169981</td><td>3.816527e+00</td></tr>\n",
       "\t<tr><th scope=row>icu_adm_hour7</th><td>3.008029e-01</td><td>0.0674595341</td><td>1.341284e+00</td></tr>\n",
       "\t<tr><th scope=row>icu_adm_hour8</th><td>6.909126e-01</td><td>0.1957470924</td><td>2.438658e+00</td></tr>\n",
       "\t<tr><th scope=row>icu_adm_hour9</th><td>2.036799e+00</td><td>0.7877688350</td><td>5.266203e+00</td></tr>\n",
       "\t<tr><th scope=row>icu_adm_hour10</th><td>4.624950e-01</td><td>0.1545838774</td><td>1.383725e+00</td></tr>\n",
       "\t<tr><th scope=row>icu_adm_hour11</th><td>1.223022e+00</td><td>0.4706243774</td><td>3.178297e+00</td></tr>\n",
       "\t<tr><th scope=row>icu_adm_hour12</th><td>2.039321e+00</td><td>0.8494073555</td><td>4.896156e+00</td></tr>\n",
       "\t<tr><th scope=row>icu_adm_hour13</th><td>2.175754e+00</td><td>0.8563099545</td><td>5.528262e+00</td></tr>\n",
       "\t<tr><th scope=row>⋮</th><td>⋮</td><td>⋮</td><td>⋮</td></tr>\n",
       "\t<tr><th scope=row>icu_adm_hour23</th><td>0.6911069 </td><td>0.27706518</td><td>1.7238856 </td></tr>\n",
       "\t<tr><th scope=row>icd_chf1</th><td>0.6640697 </td><td>0.45787708</td><td>0.9631157 </td></tr>\n",
       "\t<tr><th scope=row>icd_afib1</th><td>1.3501916 </td><td>0.96128401</td><td>1.8964399 </td></tr>\n",
       "\t<tr><th scope=row>icd_renal1</th><td>1.1293292 </td><td>0.71835295</td><td>1.7754285 </td></tr>\n",
       "\t<tr><th scope=row>icd_liver1</th><td>1.9704903 </td><td>1.21072294</td><td>3.2070358 </td></tr>\n",
       "\t<tr><th scope=row>icd_copd1</th><td>1.1569403 </td><td>0.77642298</td><td>1.7239454 </td></tr>\n",
       "\t<tr><th scope=row>icd_cad1</th><td>0.6931758 </td><td>0.44324448</td><td>1.0840354 </td></tr>\n",
       "\t<tr><th scope=row>icd_stroke1</th><td>1.9000153 </td><td>0.94875021</td><td>3.8050671 </td></tr>\n",
       "\t<tr><th scope=row>icd_malignancy1</th><td>1.6248907 </td><td>1.14847071</td><td>2.2989440 </td></tr>\n",
       "\t<tr><th scope=row>vs_heart_rate_first</th><td>1.0048511 </td><td>0.99788727</td><td>1.0118635 </td></tr>\n",
       "\t<tr><th scope=row>vs_cvp_first</th><td>0.9969614 </td><td>0.99134165</td><td>1.0026130 </td></tr>\n",
       "\t<tr><th scope=row>vs_map_first</th><td>0.9950986 </td><td>0.98769614</td><td>1.0025566 </td></tr>\n",
       "\t<tr><th scope=row>vs_temp_first</th><td>0.9397354 </td><td>0.82335614</td><td>1.0725647 </td></tr>\n",
       "\t<tr><th scope=row>lab_hemoglobin_first</th><td>0.9461394 </td><td>0.88011293</td><td>1.0171192 </td></tr>\n",
       "\t<tr><th scope=row>lab_platelet_first</th><td>1.0006160 </td><td>0.99944288</td><td>1.0017904 </td></tr>\n",
       "\t<tr><th scope=row>lab_creatinine_kinase_flag1</th><td>0.8620054 </td><td>0.58038485</td><td>1.2802768 </td></tr>\n",
       "\t<tr><th scope=row>lab_wbc_first</th><td>0.9957211 </td><td>0.98486985</td><td>1.0066919 </td></tr>\n",
       "\t<tr><th scope=row>lab_ph_first</th><td>0.1920271 </td><td>0.01701062</td><td>2.1677283 </td></tr>\n",
       "\t<tr><th scope=row>lab_chloride_first</th><td>0.9953186 </td><td>0.94930777</td><td>1.0435594 </td></tr>\n",
       "\t<tr><th scope=row>lab_sodium_first</th><td>0.9844224 </td><td>0.93505697</td><td>1.0363940 </td></tr>\n",
       "\t<tr><th scope=row>lab_bun_first</th><td>1.0102435 </td><td>1.00232327</td><td>1.0182263 </td></tr>\n",
       "\t<tr><th scope=row>lab_bicarbonate_first</th><td>1.0572918 </td><td>1.00330041</td><td>1.1141888 </td></tr>\n",
       "\t<tr><th scope=row>lab_bnp_flag1</th><td>2.0606505 </td><td>1.06515373</td><td>3.9865423 </td></tr>\n",
       "\t<tr><th scope=row>lab_pco2_first</th><td>0.9963099 </td><td>0.97769412</td><td>1.0152801 </td></tr>\n",
       "\t<tr><th scope=row>lab_creatinine_first</th><td>0.7864053 </td><td>0.66230524</td><td>0.9337587 </td></tr>\n",
       "\t<tr><th scope=row>lab_potassium_first</th><td>1.1736285 </td><td>0.96656574</td><td>1.4250492 </td></tr>\n",
       "\t<tr><th scope=row>lab_troponin_flag1</th><td>1.4073846 </td><td>0.94103163</td><td>2.1048511 </td></tr>\n",
       "\t<tr><th scope=row>lab_po2_first</th><td>0.9989563 </td><td>0.99741572</td><td>1.0004993 </td></tr>\n",
       "\t<tr><th scope=row>lab_lactate_first</th><td>1.1699697 </td><td>1.08469581</td><td>1.2619474 </td></tr>\n",
       "\t<tr><th scope=row>sedative1</th><td>0.7702489 </td><td>0.49337040</td><td>1.2025109 </td></tr>\n",
       "</tbody>\n",
       "</table>\n"
      ],
      "text/latex": [
       "\\begin{tabular}{r|lll}\n",
       "  & OR & 2.5 \\% & 97.5 \\%\\\\\n",
       "\\hline\n",
       "\t(Intercept) & 1.360968e+04 & 0.0001770397 & 1.046226e+12\\\\\n",
       "\techo1 & 6.994738e-01 & 0.5214901854 & 9.382028e-01\\\\\n",
       "\tfirst\\_careunitMICU & 2.306337e+00 & 1.6031796877 & 3.317900e+00\\\\\n",
       "\tage & 1.023361e+00 & 1.0111399939 & 1.035730e+00\\\\\n",
       "\tgenderF & 8.752815e-01 & 0.6490064427 & 1.180447e+00\\\\\n",
       "\tweight & 9.925630e-01 & 0.9857902958 & 9.993822e-01\\\\\n",
       "\tsaps & 1.062464e+00 & 1.0235729218 & 1.102833e+00\\\\\n",
       "\tsofa & 1.198706e+00 & 1.1361804491 & 1.264672e+00\\\\\n",
       "\telix\\_score & 1.021552e+00 & 0.9980887221 & 1.045566e+00\\\\\n",
       "\tvent1 & 1.883442e+00 & 1.0776160439 & 3.291854e+00\\\\\n",
       "\tvaso1 & 8.528708e-01 & 0.5984197828 & 1.215516e+00\\\\\n",
       "\ticu\\_adm\\_weekdaymonday & 7.775561e-01 & 0.4570181316 & 1.322909e+00\\\\\n",
       "\ticu\\_adm\\_weekdaysaturday & 8.618607e-01 & 0.4959099147 & 1.497861e+00\\\\\n",
       "\ticu\\_adm\\_weekdaysunday & 8.344588e-01 & 0.4885262426 & 1.425351e+00\\\\\n",
       "\ticu\\_adm\\_weekdaythursday & 1.405598e+00 & 0.8540437907 & 2.313355e+00\\\\\n",
       "\ticu\\_adm\\_weekdaytuesday & 9.745330e-01 & 0.5726553805 & 1.658440e+00\\\\\n",
       "\ticu\\_adm\\_weekdaywednesday & 1.171492e+00 & 0.7067151262 & 1.941932e+00\\\\\n",
       "\ticu\\_adm\\_hour1 & 1.406482e+00 & 0.5051006192 & 3.916432e+00\\\\\n",
       "\ticu\\_adm\\_hour2 & 4.755701e-01 & 0.1688833873 & 1.339190e+00\\\\\n",
       "\ticu\\_adm\\_hour3 & 9.962440e-01 & 0.3735897430 & 2.656663e+00\\\\\n",
       "\ticu\\_adm\\_hour4 & 1.659762e+00 & 0.5885362510 & 4.680783e+00\\\\\n",
       "\ticu\\_adm\\_hour5 & 8.566308e-01 & 0.2642111344 & 2.777386e+00\\\\\n",
       "\ticu\\_adm\\_hour6 & 1.100130e+00 & 0.3171169981 & 3.816527e+00\\\\\n",
       "\ticu\\_adm\\_hour7 & 3.008029e-01 & 0.0674595341 & 1.341284e+00\\\\\n",
       "\ticu\\_adm\\_hour8 & 6.909126e-01 & 0.1957470924 & 2.438658e+00\\\\\n",
       "\ticu\\_adm\\_hour9 & 2.036799e+00 & 0.7877688350 & 5.266203e+00\\\\\n",
       "\ticu\\_adm\\_hour10 & 4.624950e-01 & 0.1545838774 & 1.383725e+00\\\\\n",
       "\ticu\\_adm\\_hour11 & 1.223022e+00 & 0.4706243774 & 3.178297e+00\\\\\n",
       "\ticu\\_adm\\_hour12 & 2.039321e+00 & 0.8494073555 & 4.896156e+00\\\\\n",
       "\ticu\\_adm\\_hour13 & 2.175754e+00 & 0.8563099545 & 5.528262e+00\\\\\n",
       "\t⋮ & ⋮ & ⋮ & ⋮\\\\\n",
       "\ticu\\_adm\\_hour23 & 0.6911069  & 0.27706518 & 1.7238856 \\\\\n",
       "\ticd\\_chf1 & 0.6640697  & 0.45787708 & 0.9631157 \\\\\n",
       "\ticd\\_afib1 & 1.3501916  & 0.96128401 & 1.8964399 \\\\\n",
       "\ticd\\_renal1 & 1.1293292  & 0.71835295 & 1.7754285 \\\\\n",
       "\ticd\\_liver1 & 1.9704903  & 1.21072294 & 3.2070358 \\\\\n",
       "\ticd\\_copd1 & 1.1569403  & 0.77642298 & 1.7239454 \\\\\n",
       "\ticd\\_cad1 & 0.6931758  & 0.44324448 & 1.0840354 \\\\\n",
       "\ticd\\_stroke1 & 1.9000153  & 0.94875021 & 3.8050671 \\\\\n",
       "\ticd\\_malignancy1 & 1.6248907  & 1.14847071 & 2.2989440 \\\\\n",
       "\tvs\\_heart\\_rate\\_first & 1.0048511  & 0.99788727 & 1.0118635 \\\\\n",
       "\tvs\\_cvp\\_first & 0.9969614  & 0.99134165 & 1.0026130 \\\\\n",
       "\tvs\\_map\\_first & 0.9950986  & 0.98769614 & 1.0025566 \\\\\n",
       "\tvs\\_temp\\_first & 0.9397354  & 0.82335614 & 1.0725647 \\\\\n",
       "\tlab\\_hemoglobin\\_first & 0.9461394  & 0.88011293 & 1.0171192 \\\\\n",
       "\tlab\\_platelet\\_first & 1.0006160  & 0.99944288 & 1.0017904 \\\\\n",
       "\tlab\\_creatinine\\_kinase\\_flag1 & 0.8620054  & 0.58038485 & 1.2802768 \\\\\n",
       "\tlab\\_wbc\\_first & 0.9957211  & 0.98486985 & 1.0066919 \\\\\n",
       "\tlab\\_ph\\_first & 0.1920271  & 0.01701062 & 2.1677283 \\\\\n",
       "\tlab\\_chloride\\_first & 0.9953186  & 0.94930777 & 1.0435594 \\\\\n",
       "\tlab\\_sodium\\_first & 0.9844224  & 0.93505697 & 1.0363940 \\\\\n",
       "\tlab\\_bun\\_first & 1.0102435  & 1.00232327 & 1.0182263 \\\\\n",
       "\tlab\\_bicarbonate\\_first & 1.0572918  & 1.00330041 & 1.1141888 \\\\\n",
       "\tlab\\_bnp\\_flag1 & 2.0606505  & 1.06515373 & 3.9865423 \\\\\n",
       "\tlab\\_pco2\\_first & 0.9963099  & 0.97769412 & 1.0152801 \\\\\n",
       "\tlab\\_creatinine\\_first & 0.7864053  & 0.66230524 & 0.9337587 \\\\\n",
       "\tlab\\_potassium\\_first & 1.1736285  & 0.96656574 & 1.4250492 \\\\\n",
       "\tlab\\_troponin\\_flag1 & 1.4073846  & 0.94103163 & 2.1048511 \\\\\n",
       "\tlab\\_po2\\_first & 0.9989563  & 0.99741572 & 1.0004993 \\\\\n",
       "\tlab\\_lactate\\_first & 1.1699697  & 1.08469581 & 1.2619474 \\\\\n",
       "\tsedative1 & 0.7702489  & 0.49337040 & 1.2025109 \\\\\n",
       "\\end{tabular}\n"
      ],
      "text/markdown": [
       "\n",
       "| <!--/--> | OR | 2.5 % | 97.5 % | \n",
       "|---|---|---|---|---|---|---|---|---|---|---|---|---|---|---|---|---|---|---|---|---|---|---|---|---|---|---|---|---|---|---|---|---|---|---|---|---|---|---|---|---|---|---|---|---|---|---|---|---|---|---|---|---|---|---|---|---|---|---|---|---|\n",
       "| (Intercept) | 1.360968e+04 | 0.0001770397 | 1.046226e+12 | \n",
       "| echo1 | 6.994738e-01 | 0.5214901854 | 9.382028e-01 | \n",
       "| first_careunitMICU | 2.306337e+00 | 1.6031796877 | 3.317900e+00 | \n",
       "| age | 1.023361e+00 | 1.0111399939 | 1.035730e+00 | \n",
       "| genderF | 8.752815e-01 | 0.6490064427 | 1.180447e+00 | \n",
       "| weight | 9.925630e-01 | 0.9857902958 | 9.993822e-01 | \n",
       "| saps | 1.062464e+00 | 1.0235729218 | 1.102833e+00 | \n",
       "| sofa | 1.198706e+00 | 1.1361804491 | 1.264672e+00 | \n",
       "| elix_score | 1.021552e+00 | 0.9980887221 | 1.045566e+00 | \n",
       "| vent1 | 1.883442e+00 | 1.0776160439 | 3.291854e+00 | \n",
       "| vaso1 | 8.528708e-01 | 0.5984197828 | 1.215516e+00 | \n",
       "| icu_adm_weekdaymonday | 7.775561e-01 | 0.4570181316 | 1.322909e+00 | \n",
       "| icu_adm_weekdaysaturday | 8.618607e-01 | 0.4959099147 | 1.497861e+00 | \n",
       "| icu_adm_weekdaysunday | 8.344588e-01 | 0.4885262426 | 1.425351e+00 | \n",
       "| icu_adm_weekdaythursday | 1.405598e+00 | 0.8540437907 | 2.313355e+00 | \n",
       "| icu_adm_weekdaytuesday | 9.745330e-01 | 0.5726553805 | 1.658440e+00 | \n",
       "| icu_adm_weekdaywednesday | 1.171492e+00 | 0.7067151262 | 1.941932e+00 | \n",
       "| icu_adm_hour1 | 1.406482e+00 | 0.5051006192 | 3.916432e+00 | \n",
       "| icu_adm_hour2 | 4.755701e-01 | 0.1688833873 | 1.339190e+00 | \n",
       "| icu_adm_hour3 | 9.962440e-01 | 0.3735897430 | 2.656663e+00 | \n",
       "| icu_adm_hour4 | 1.659762e+00 | 0.5885362510 | 4.680783e+00 | \n",
       "| icu_adm_hour5 | 8.566308e-01 | 0.2642111344 | 2.777386e+00 | \n",
       "| icu_adm_hour6 | 1.100130e+00 | 0.3171169981 | 3.816527e+00 | \n",
       "| icu_adm_hour7 | 3.008029e-01 | 0.0674595341 | 1.341284e+00 | \n",
       "| icu_adm_hour8 | 6.909126e-01 | 0.1957470924 | 2.438658e+00 | \n",
       "| icu_adm_hour9 | 2.036799e+00 | 0.7877688350 | 5.266203e+00 | \n",
       "| icu_adm_hour10 | 4.624950e-01 | 0.1545838774 | 1.383725e+00 | \n",
       "| icu_adm_hour11 | 1.223022e+00 | 0.4706243774 | 3.178297e+00 | \n",
       "| icu_adm_hour12 | 2.039321e+00 | 0.8494073555 | 4.896156e+00 | \n",
       "| icu_adm_hour13 | 2.175754e+00 | 0.8563099545 | 5.528262e+00 | \n",
       "| ⋮ | ⋮ | ⋮ | ⋮ | \n",
       "| icu_adm_hour23 | 0.6911069  | 0.27706518 | 1.7238856  | \n",
       "| icd_chf1 | 0.6640697  | 0.45787708 | 0.9631157  | \n",
       "| icd_afib1 | 1.3501916  | 0.96128401 | 1.8964399  | \n",
       "| icd_renal1 | 1.1293292  | 0.71835295 | 1.7754285  | \n",
       "| icd_liver1 | 1.9704903  | 1.21072294 | 3.2070358  | \n",
       "| icd_copd1 | 1.1569403  | 0.77642298 | 1.7239454  | \n",
       "| icd_cad1 | 0.6931758  | 0.44324448 | 1.0840354  | \n",
       "| icd_stroke1 | 1.9000153  | 0.94875021 | 3.8050671  | \n",
       "| icd_malignancy1 | 1.6248907  | 1.14847071 | 2.2989440  | \n",
       "| vs_heart_rate_first | 1.0048511  | 0.99788727 | 1.0118635  | \n",
       "| vs_cvp_first | 0.9969614  | 0.99134165 | 1.0026130  | \n",
       "| vs_map_first | 0.9950986  | 0.98769614 | 1.0025566  | \n",
       "| vs_temp_first | 0.9397354  | 0.82335614 | 1.0725647  | \n",
       "| lab_hemoglobin_first | 0.9461394  | 0.88011293 | 1.0171192  | \n",
       "| lab_platelet_first | 1.0006160  | 0.99944288 | 1.0017904  | \n",
       "| lab_creatinine_kinase_flag1 | 0.8620054  | 0.58038485 | 1.2802768  | \n",
       "| lab_wbc_first | 0.9957211  | 0.98486985 | 1.0066919  | \n",
       "| lab_ph_first | 0.1920271  | 0.01701062 | 2.1677283  | \n",
       "| lab_chloride_first | 0.9953186  | 0.94930777 | 1.0435594  | \n",
       "| lab_sodium_first | 0.9844224  | 0.93505697 | 1.0363940  | \n",
       "| lab_bun_first | 1.0102435  | 1.00232327 | 1.0182263  | \n",
       "| lab_bicarbonate_first | 1.0572918  | 1.00330041 | 1.1141888  | \n",
       "| lab_bnp_flag1 | 2.0606505  | 1.06515373 | 3.9865423  | \n",
       "| lab_pco2_first | 0.9963099  | 0.97769412 | 1.0152801  | \n",
       "| lab_creatinine_first | 0.7864053  | 0.66230524 | 0.9337587  | \n",
       "| lab_potassium_first | 1.1736285  | 0.96656574 | 1.4250492  | \n",
       "| lab_troponin_flag1 | 1.4073846  | 0.94103163 | 2.1048511  | \n",
       "| lab_po2_first | 0.9989563  | 0.99741572 | 1.0004993  | \n",
       "| lab_lactate_first | 1.1699697  | 1.08469581 | 1.2619474  | \n",
       "| sedative1 | 0.7702489  | 0.49337040 | 1.2025109  | \n",
       "\n",
       "\n"
      ],
      "text/plain": [
       "                            OR           2.5 %        97.5 %      \n",
       "(Intercept)                 1.360968e+04 0.0001770397 1.046226e+12\n",
       "echo1                       6.994738e-01 0.5214901854 9.382028e-01\n",
       "first_careunitMICU          2.306337e+00 1.6031796877 3.317900e+00\n",
       "age                         1.023361e+00 1.0111399939 1.035730e+00\n",
       "genderF                     8.752815e-01 0.6490064427 1.180447e+00\n",
       "weight                      9.925630e-01 0.9857902958 9.993822e-01\n",
       "saps                        1.062464e+00 1.0235729218 1.102833e+00\n",
       "sofa                        1.198706e+00 1.1361804491 1.264672e+00\n",
       "elix_score                  1.021552e+00 0.9980887221 1.045566e+00\n",
       "vent1                       1.883442e+00 1.0776160439 3.291854e+00\n",
       "vaso1                       8.528708e-01 0.5984197828 1.215516e+00\n",
       "icu_adm_weekdaymonday       7.775561e-01 0.4570181316 1.322909e+00\n",
       "icu_adm_weekdaysaturday     8.618607e-01 0.4959099147 1.497861e+00\n",
       "icu_adm_weekdaysunday       8.344588e-01 0.4885262426 1.425351e+00\n",
       "icu_adm_weekdaythursday     1.405598e+00 0.8540437907 2.313355e+00\n",
       "icu_adm_weekdaytuesday      9.745330e-01 0.5726553805 1.658440e+00\n",
       "icu_adm_weekdaywednesday    1.171492e+00 0.7067151262 1.941932e+00\n",
       "icu_adm_hour1               1.406482e+00 0.5051006192 3.916432e+00\n",
       "icu_adm_hour2               4.755701e-01 0.1688833873 1.339190e+00\n",
       "icu_adm_hour3               9.962440e-01 0.3735897430 2.656663e+00\n",
       "icu_adm_hour4               1.659762e+00 0.5885362510 4.680783e+00\n",
       "icu_adm_hour5               8.566308e-01 0.2642111344 2.777386e+00\n",
       "icu_adm_hour6               1.100130e+00 0.3171169981 3.816527e+00\n",
       "icu_adm_hour7               3.008029e-01 0.0674595341 1.341284e+00\n",
       "icu_adm_hour8               6.909126e-01 0.1957470924 2.438658e+00\n",
       "icu_adm_hour9               2.036799e+00 0.7877688350 5.266203e+00\n",
       "icu_adm_hour10              4.624950e-01 0.1545838774 1.383725e+00\n",
       "icu_adm_hour11              1.223022e+00 0.4706243774 3.178297e+00\n",
       "icu_adm_hour12              2.039321e+00 0.8494073555 4.896156e+00\n",
       "icu_adm_hour13              2.175754e+00 0.8563099545 5.528262e+00\n",
       "⋮                           ⋮            ⋮            ⋮           \n",
       "icu_adm_hour23              0.6911069    0.27706518   1.7238856   \n",
       "icd_chf1                    0.6640697    0.45787708   0.9631157   \n",
       "icd_afib1                   1.3501916    0.96128401   1.8964399   \n",
       "icd_renal1                  1.1293292    0.71835295   1.7754285   \n",
       "icd_liver1                  1.9704903    1.21072294   3.2070358   \n",
       "icd_copd1                   1.1569403    0.77642298   1.7239454   \n",
       "icd_cad1                    0.6931758    0.44324448   1.0840354   \n",
       "icd_stroke1                 1.9000153    0.94875021   3.8050671   \n",
       "icd_malignancy1             1.6248907    1.14847071   2.2989440   \n",
       "vs_heart_rate_first         1.0048511    0.99788727   1.0118635   \n",
       "vs_cvp_first                0.9969614    0.99134165   1.0026130   \n",
       "vs_map_first                0.9950986    0.98769614   1.0025566   \n",
       "vs_temp_first               0.9397354    0.82335614   1.0725647   \n",
       "lab_hemoglobin_first        0.9461394    0.88011293   1.0171192   \n",
       "lab_platelet_first          1.0006160    0.99944288   1.0017904   \n",
       "lab_creatinine_kinase_flag1 0.8620054    0.58038485   1.2802768   \n",
       "lab_wbc_first               0.9957211    0.98486985   1.0066919   \n",
       "lab_ph_first                0.1920271    0.01701062   2.1677283   \n",
       "lab_chloride_first          0.9953186    0.94930777   1.0435594   \n",
       "lab_sodium_first            0.9844224    0.93505697   1.0363940   \n",
       "lab_bun_first               1.0102435    1.00232327   1.0182263   \n",
       "lab_bicarbonate_first       1.0572918    1.00330041   1.1141888   \n",
       "lab_bnp_flag1               2.0606505    1.06515373   3.9865423   \n",
       "lab_pco2_first              0.9963099    0.97769412   1.0152801   \n",
       "lab_creatinine_first        0.7864053    0.66230524   0.9337587   \n",
       "lab_potassium_first         1.1736285    0.96656574   1.4250492   \n",
       "lab_troponin_flag1          1.4073846    0.94103163   2.1048511   \n",
       "lab_po2_first               0.9989563    0.99741572   1.0004993   \n",
       "lab_lactate_first           1.1699697    1.08469581   1.2619474   \n",
       "sedative1                   0.7702489    0.49337040   1.2025109   "
      ]
     },
     "metadata": {},
     "output_type": "display_data"
    }
   ],
   "source": [
    "exp(cbind(OR = coef(logi), confint(logi)))"
   ]
  },
  {
   "cell_type": "code",
   "execution_count": 32,
   "metadata": {},
   "outputs": [],
   "source": [
    "saveRDS(logi, file = file.path(data_dir, \"doubly_robust_all_model.rds\"))"
   ]
  }
 ],
 "metadata": {
  "kernelspec": {
   "display_name": "R",
   "language": "R",
   "name": "ir"
  },
  "language_info": {
   "codemirror_mode": "r",
   "file_extension": ".r",
   "mimetype": "text/x-r-source",
   "name": "R",
   "pygments_lexer": "r",
   "version": "3.4.3"
  },
  "varInspector": {
   "cols": {
    "lenName": 16,
    "lenType": 16,
    "lenVar": 40
   },
   "kernels_config": {
    "python": {
     "delete_cmd_postfix": "",
     "delete_cmd_prefix": "del ",
     "library": "var_list.py",
     "varRefreshCmd": "print(var_dic_list())"
    },
    "r": {
     "delete_cmd_postfix": ") ",
     "delete_cmd_prefix": "rm(",
     "library": "var_list.r",
     "varRefreshCmd": "cat(var_dic_list()) "
    }
   },
   "types_to_exclude": [
    "module",
    "function",
    "builtin_function_or_method",
    "instance",
    "_Feature"
   ],
   "window_display": false
  }
 },
 "nbformat": 4,
 "nbformat_minor": 2
}
