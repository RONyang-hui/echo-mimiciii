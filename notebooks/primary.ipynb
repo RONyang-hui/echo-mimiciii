{
 "cells": [
  {
   "cell_type": "code",
   "execution_count": 1,
   "metadata": {},
   "outputs": [
    {
     "name": "stderr",
     "output_type": "stream",
     "text": [
      "Loading required package: DBI\n",
      "Loading required package: gbm\n",
      "Loading required package: survival\n",
      "Loading required package: lattice\n",
      "Loading required package: splines\n",
      "Loading required package: parallel\n",
      "Loaded gbm 2.1.3\n",
      "Loading required package: survey\n",
      "Loading required package: grid\n",
      "Loading required package: Matrix\n",
      "\n",
      "Attaching package: ‘survey’\n",
      "\n",
      "The following object is masked from ‘package:graphics’:\n",
      "\n",
      "    dotchart\n",
      "\n",
      "Loading required package: xtable\n",
      "Loading required package: latticeExtra\n",
      "Loading required package: RColorBrewer\n",
      "Loading required package: MASS\n",
      "## \n",
      "##  Matching (Version 4.9-2, Build Date: 2015-12-25)\n",
      "##  See http://sekhon.berkeley.edu/matching for additional documentation.\n",
      "##  Please cite software as:\n",
      "##   Jasjeet S. Sekhon. 2011. ``Multivariate and Propensity Score Matching\n",
      "##   Software with Automated Balance Optimization: The Matching package for R.''\n",
      "##   Journal of Statistical Software, 42(7): 1-52. \n",
      "##\n",
      "\n",
      "── Attaching packages ─────────────────────────────────────── tidyverse 1.2.1 ──\n",
      "✔ ggplot2 2.2.1     ✔ purrr   0.2.4\n",
      "✔ tibble  1.3.4     ✔ dplyr   0.7.4\n",
      "✔ tidyr   0.7.2     ✔ stringr 1.2.0\n",
      "✔ readr   1.1.1     ✔ forcats 0.2.0\n",
      "── Conflicts ────────────────────────────────────────── tidyverse_conflicts() ──\n",
      "✖ tidyr::expand()  masks Matrix::expand()\n",
      "✖ dplyr::filter()  masks stats::filter()\n",
      "✖ dplyr::lag()     masks stats::lag()\n",
      "✖ ggplot2::layer() masks latticeExtra::layer()\n",
      "✖ dplyr::select()  masks MASS::select()\n"
     ]
    }
   ],
   "source": [
    "library(RPostgreSQL)\n",
    "library(twang)\n",
    "library(Matching)\n",
    "library(tidyverse)"
   ]
  },
  {
   "cell_type": "code",
   "execution_count": 2,
   "metadata": {},
   "outputs": [],
   "source": [
    "data_dir <- file.path(\"..\", \"data\")\n",
    "sql_dir <- file.path(\"..\", \"sql\")"
   ]
  },
  {
   "cell_type": "code",
   "execution_count": 3,
   "metadata": {},
   "outputs": [
    {
     "data": {
      "text/plain": [
       "<PostgreSQLResult>"
      ]
     },
     "metadata": {},
     "output_type": "display_data"
    }
   ],
   "source": [
    "drv <- dbDriver(\"PostgreSQL\")\n",
    "con <- dbConnect(drv, dbname = \"mimic\")\n",
    "dbSendQuery(con, \"set search_path=echo,public,mimiciii;\")"
   ]
  },
  {
   "cell_type": "code",
   "execution_count": 4,
   "metadata": {},
   "outputs": [],
   "source": [
    "full_data <- dbGetQuery(con, \"select * from merged_data\")"
   ]
  },
  {
   "cell_type": "code",
   "execution_count": 5,
   "metadata": {},
   "outputs": [
    {
     "data": {
      "text/html": [
       "TRUE"
      ],
      "text/latex": [
       "TRUE"
      ],
      "text/markdown": [
       "TRUE"
      ],
      "text/plain": [
       "[1] TRUE"
      ]
     },
     "metadata": {},
     "output_type": "display_data"
    },
    {
     "data": {
      "text/html": [
       "TRUE"
      ],
      "text/latex": [
       "TRUE"
      ],
      "text/markdown": [
       "TRUE"
      ],
      "text/plain": [
       "[1] TRUE"
      ]
     },
     "metadata": {},
     "output_type": "display_data"
    }
   ],
   "source": [
    "dbDisconnect(con)\n",
    "dbUnloadDriver(drv)"
   ]
  },
  {
   "cell_type": "code",
   "execution_count": 6,
   "metadata": {},
   "outputs": [],
   "source": [
    "to_factor <- function(x) {\n",
    "    res <- (x %>% as.factor %>% as.integer) - 1\n",
    "    if(length(na.omit(unique(res))) <= 1) return(factor(res, levels = c(0, 1)))\n",
    "    return(factor(res))\n",
    "}"
   ]
  },
  {
   "cell_type": "code",
   "execution_count": 7,
   "metadata": {},
   "outputs": [
    {
     "data": {
      "text/html": [
       "<ol class=list-inline>\n",
       "\t<li>'icd_chf'</li>\n",
       "\t<li>'icd_afib'</li>\n",
       "\t<li>'icd_renal'</li>\n",
       "\t<li>'icd_liver'</li>\n",
       "\t<li>'icd_copd'</li>\n",
       "\t<li>'icd_cad'</li>\n",
       "\t<li>'icd_stroke'</li>\n",
       "\t<li>'icd_malignancy'</li>\n",
       "\t<li>'vs_temp_flag'</li>\n",
       "\t<li>'vs_map_flag'</li>\n",
       "\t<li>'vs_cvp_flag'</li>\n",
       "\t<li>'vs_heart_rate_flag'</li>\n",
       "\t<li>'lab_hemoglobin_flag'</li>\n",
       "\t<li>'lab_hemoglobin_abnormal'</li>\n",
       "\t<li>'lab_wbc_flag'</li>\n",
       "\t<li>'lab_wbc_abnormal'</li>\n",
       "\t<li>'lab_lactate_flag'</li>\n",
       "\t<li>'lab_lactate_abnormal'</li>\n",
       "\t<li>'lab_po2_flag'</li>\n",
       "\t<li>'lab_po2_abnormal'</li>\n",
       "\t<li>'lab_troponin_flag'</li>\n",
       "\t<li>'lab_troponin_abnormal'</li>\n",
       "\t<li>'lab_potassium_flag'</li>\n",
       "\t<li>'lab_potassium_abnormal'</li>\n",
       "\t<li>'lab_creatinine_kinase_flag'</li>\n",
       "\t<li>'lab_creatinine_kinase_abnormal'</li>\n",
       "\t<li>'lab_creatinine_flag'</li>\n",
       "\t<li>'lab_creatinine_abnormal'</li>\n",
       "\t<li>'lab_pco2_flag'</li>\n",
       "\t<li>'lab_pco2_abnormal'</li>\n",
       "\t<li>'lab_bnp_flag'</li>\n",
       "\t<li>'lab_bnp_abnormal'</li>\n",
       "\t<li>'lab_bicarbonate_flag'</li>\n",
       "\t<li>'lab_bicarbonate_abnormal'</li>\n",
       "\t<li>'lab_bun_flag'</li>\n",
       "\t<li>'lab_bun_abnormal'</li>\n",
       "\t<li>'lab_platelet_flag'</li>\n",
       "\t<li>'lab_platelet_abnormal'</li>\n",
       "\t<li>'lab_sodium_flag'</li>\n",
       "\t<li>'lab_sodium_abnormal'</li>\n",
       "\t<li>'lab_chloride_flag'</li>\n",
       "\t<li>'lab_chloride_abnormal'</li>\n",
       "\t<li>'lab_ph_flag'</li>\n",
       "\t<li>'lab_ph_abnormal'</li>\n",
       "\t<li>'sedative'</li>\n",
       "\t<li>'gender'</li>\n",
       "\t<li>'first_careunit'</li>\n",
       "\t<li>'echo'</li>\n",
       "\t<li>'vent'</li>\n",
       "\t<li>'vaso'</li>\n",
       "\t<li>'icu_adm_weekday'</li>\n",
       "\t<li>'icu_adm_hour'</li>\n",
       "\t<li>'mort_28_day'</li>\n",
       "</ol>\n"
      ],
      "text/latex": [
       "\\begin{enumerate*}\n",
       "\\item 'icd\\_chf'\n",
       "\\item 'icd\\_afib'\n",
       "\\item 'icd\\_renal'\n",
       "\\item 'icd\\_liver'\n",
       "\\item 'icd\\_copd'\n",
       "\\item 'icd\\_cad'\n",
       "\\item 'icd\\_stroke'\n",
       "\\item 'icd\\_malignancy'\n",
       "\\item 'vs\\_temp\\_flag'\n",
       "\\item 'vs\\_map\\_flag'\n",
       "\\item 'vs\\_cvp\\_flag'\n",
       "\\item 'vs\\_heart\\_rate\\_flag'\n",
       "\\item 'lab\\_hemoglobin\\_flag'\n",
       "\\item 'lab\\_hemoglobin\\_abnormal'\n",
       "\\item 'lab\\_wbc\\_flag'\n",
       "\\item 'lab\\_wbc\\_abnormal'\n",
       "\\item 'lab\\_lactate\\_flag'\n",
       "\\item 'lab\\_lactate\\_abnormal'\n",
       "\\item 'lab\\_po2\\_flag'\n",
       "\\item 'lab\\_po2\\_abnormal'\n",
       "\\item 'lab\\_troponin\\_flag'\n",
       "\\item 'lab\\_troponin\\_abnormal'\n",
       "\\item 'lab\\_potassium\\_flag'\n",
       "\\item 'lab\\_potassium\\_abnormal'\n",
       "\\item 'lab\\_creatinine\\_kinase\\_flag'\n",
       "\\item 'lab\\_creatinine\\_kinase\\_abnormal'\n",
       "\\item 'lab\\_creatinine\\_flag'\n",
       "\\item 'lab\\_creatinine\\_abnormal'\n",
       "\\item 'lab\\_pco2\\_flag'\n",
       "\\item 'lab\\_pco2\\_abnormal'\n",
       "\\item 'lab\\_bnp\\_flag'\n",
       "\\item 'lab\\_bnp\\_abnormal'\n",
       "\\item 'lab\\_bicarbonate\\_flag'\n",
       "\\item 'lab\\_bicarbonate\\_abnormal'\n",
       "\\item 'lab\\_bun\\_flag'\n",
       "\\item 'lab\\_bun\\_abnormal'\n",
       "\\item 'lab\\_platelet\\_flag'\n",
       "\\item 'lab\\_platelet\\_abnormal'\n",
       "\\item 'lab\\_sodium\\_flag'\n",
       "\\item 'lab\\_sodium\\_abnormal'\n",
       "\\item 'lab\\_chloride\\_flag'\n",
       "\\item 'lab\\_chloride\\_abnormal'\n",
       "\\item 'lab\\_ph\\_flag'\n",
       "\\item 'lab\\_ph\\_abnormal'\n",
       "\\item 'sedative'\n",
       "\\item 'gender'\n",
       "\\item 'first\\_careunit'\n",
       "\\item 'echo'\n",
       "\\item 'vent'\n",
       "\\item 'vaso'\n",
       "\\item 'icu\\_adm\\_weekday'\n",
       "\\item 'icu\\_adm\\_hour'\n",
       "\\item 'mort\\_28\\_day'\n",
       "\\end{enumerate*}\n"
      ],
      "text/markdown": [
       "1. 'icd_chf'\n",
       "2. 'icd_afib'\n",
       "3. 'icd_renal'\n",
       "4. 'icd_liver'\n",
       "5. 'icd_copd'\n",
       "6. 'icd_cad'\n",
       "7. 'icd_stroke'\n",
       "8. 'icd_malignancy'\n",
       "9. 'vs_temp_flag'\n",
       "10. 'vs_map_flag'\n",
       "11. 'vs_cvp_flag'\n",
       "12. 'vs_heart_rate_flag'\n",
       "13. 'lab_hemoglobin_flag'\n",
       "14. 'lab_hemoglobin_abnormal'\n",
       "15. 'lab_wbc_flag'\n",
       "16. 'lab_wbc_abnormal'\n",
       "17. 'lab_lactate_flag'\n",
       "18. 'lab_lactate_abnormal'\n",
       "19. 'lab_po2_flag'\n",
       "20. 'lab_po2_abnormal'\n",
       "21. 'lab_troponin_flag'\n",
       "22. 'lab_troponin_abnormal'\n",
       "23. 'lab_potassium_flag'\n",
       "24. 'lab_potassium_abnormal'\n",
       "25. 'lab_creatinine_kinase_flag'\n",
       "26. 'lab_creatinine_kinase_abnormal'\n",
       "27. 'lab_creatinine_flag'\n",
       "28. 'lab_creatinine_abnormal'\n",
       "29. 'lab_pco2_flag'\n",
       "30. 'lab_pco2_abnormal'\n",
       "31. 'lab_bnp_flag'\n",
       "32. 'lab_bnp_abnormal'\n",
       "33. 'lab_bicarbonate_flag'\n",
       "34. 'lab_bicarbonate_abnormal'\n",
       "35. 'lab_bun_flag'\n",
       "36. 'lab_bun_abnormal'\n",
       "37. 'lab_platelet_flag'\n",
       "38. 'lab_platelet_abnormal'\n",
       "39. 'lab_sodium_flag'\n",
       "40. 'lab_sodium_abnormal'\n",
       "41. 'lab_chloride_flag'\n",
       "42. 'lab_chloride_abnormal'\n",
       "43. 'lab_ph_flag'\n",
       "44. 'lab_ph_abnormal'\n",
       "45. 'sedative'\n",
       "46. 'gender'\n",
       "47. 'first_careunit'\n",
       "48. 'echo'\n",
       "49. 'vent'\n",
       "50. 'vaso'\n",
       "51. 'icu_adm_weekday'\n",
       "52. 'icu_adm_hour'\n",
       "53. 'mort_28_day'\n",
       "\n",
       "\n"
      ],
      "text/plain": [
       " [1] \"icd_chf\"                        \"icd_afib\"                      \n",
       " [3] \"icd_renal\"                      \"icd_liver\"                     \n",
       " [5] \"icd_copd\"                       \"icd_cad\"                       \n",
       " [7] \"icd_stroke\"                     \"icd_malignancy\"                \n",
       " [9] \"vs_temp_flag\"                   \"vs_map_flag\"                   \n",
       "[11] \"vs_cvp_flag\"                    \"vs_heart_rate_flag\"            \n",
       "[13] \"lab_hemoglobin_flag\"            \"lab_hemoglobin_abnormal\"       \n",
       "[15] \"lab_wbc_flag\"                   \"lab_wbc_abnormal\"              \n",
       "[17] \"lab_lactate_flag\"               \"lab_lactate_abnormal\"          \n",
       "[19] \"lab_po2_flag\"                   \"lab_po2_abnormal\"              \n",
       "[21] \"lab_troponin_flag\"              \"lab_troponin_abnormal\"         \n",
       "[23] \"lab_potassium_flag\"             \"lab_potassium_abnormal\"        \n",
       "[25] \"lab_creatinine_kinase_flag\"     \"lab_creatinine_kinase_abnormal\"\n",
       "[27] \"lab_creatinine_flag\"            \"lab_creatinine_abnormal\"       \n",
       "[29] \"lab_pco2_flag\"                  \"lab_pco2_abnormal\"             \n",
       "[31] \"lab_bnp_flag\"                   \"lab_bnp_abnormal\"              \n",
       "[33] \"lab_bicarbonate_flag\"           \"lab_bicarbonate_abnormal\"      \n",
       "[35] \"lab_bun_flag\"                   \"lab_bun_abnormal\"              \n",
       "[37] \"lab_platelet_flag\"              \"lab_platelet_abnormal\"         \n",
       "[39] \"lab_sodium_flag\"                \"lab_sodium_abnormal\"           \n",
       "[41] \"lab_chloride_flag\"              \"lab_chloride_abnormal\"         \n",
       "[43] \"lab_ph_flag\"                    \"lab_ph_abnormal\"               \n",
       "[45] \"sedative\"                       \"gender\"                        \n",
       "[47] \"first_careunit\"                 \"echo\"                          \n",
       "[49] \"vent\"                           \"vaso\"                          \n",
       "[51] \"icu_adm_weekday\"                \"icu_adm_hour\"                  \n",
       "[53] \"mort_28_day\"                   "
      ]
     },
     "metadata": {},
     "output_type": "display_data"
    }
   ],
   "source": [
    "factor_vars <- full_data %>%\n",
    "    names %>%\n",
    "    grep(\"flag|abnormal|icd|sedative\", ., value = TRUE) %>%\n",
    "    c(\"gender\", \"first_careunit\", \"echo\", \"vent\", \"vaso\",\n",
    "      \"icu_adm_weekday\", \"icu_adm_hour\", \"mort_28_day\")\n",
    "factor_vars"
   ]
  },
  {
   "cell_type": "code",
   "execution_count": 8,
   "metadata": {},
   "outputs": [
    {
     "data": {
      "text/html": [
       "<ol class=list-inline>\n",
       "\t<li>0</li>\n",
       "\t<li>0</li>\n",
       "\t<li>0</li>\n",
       "\t<li>1</li>\n",
       "\t<li>0</li>\n",
       "\t<li>0</li>\n",
       "</ol>\n"
      ],
      "text/latex": [
       "\\begin{enumerate*}\n",
       "\\item 0\n",
       "\\item 0\n",
       "\\item 0\n",
       "\\item 1\n",
       "\\item 0\n",
       "\\item 0\n",
       "\\end{enumerate*}\n"
      ],
      "text/markdown": [
       "1. 0\n",
       "2. 0\n",
       "3. 0\n",
       "4. 1\n",
       "5. 0\n",
       "6. 0\n",
       "\n",
       "\n"
      ],
      "text/plain": [
       "[1] 0 0 0 1 0 0\n",
       "Levels: 0 1"
      ]
     },
     "metadata": {},
     "output_type": "display_data"
    }
   ],
   "source": [
    "full_data <- full_data %>%\n",
    "    mutate(echo_int = as.integer(echo)) %>%\n",
    "    mutate(mort_28_day_int = as.integer(mort_28_day)) %>%\n",
    "    mutate_at(factor_vars, to_factor)\n",
    "full_data %>% pull(echo) %>% head"
   ]
  },
  {
   "cell_type": "code",
   "execution_count": 9,
   "metadata": {},
   "outputs": [
    {
     "data": {
      "text/html": [
       "<ol class=list-inline>\n",
       "\t<li>'age'</li>\n",
       "\t<li>'gender'</li>\n",
       "\t<li>'weight'</li>\n",
       "\t<li>'saps'</li>\n",
       "\t<li>'sofa'</li>\n",
       "\t<li>'elix_score'</li>\n",
       "\t<li>'vent'</li>\n",
       "\t<li>'vaso'</li>\n",
       "\t<li>'icu_adm_weekday'</li>\n",
       "\t<li>'icu_adm_hour'</li>\n",
       "\t<li>'icd_chf'</li>\n",
       "\t<li>'icd_afib'</li>\n",
       "\t<li>'icd_renal'</li>\n",
       "\t<li>'icd_liver'</li>\n",
       "\t<li>'icd_copd'</li>\n",
       "\t<li>'icd_cad'</li>\n",
       "\t<li>'icd_stroke'</li>\n",
       "\t<li>'icd_malignancy'</li>\n",
       "\t<li>'vs_temp_first'</li>\n",
       "\t<li>'vs_map_first'</li>\n",
       "\t<li>'vs_cvp_first'</li>\n",
       "\t<li>'vs_heart_rate_first'</li>\n",
       "\t<li>'lab_hemoglobin_first'</li>\n",
       "\t<li>'lab_wbc_first'</li>\n",
       "\t<li>'lab_lactate_first'</li>\n",
       "\t<li>'lab_po2_first'</li>\n",
       "\t<li>'lab_troponin_flag'</li>\n",
       "\t<li>'lab_potassium_first'</li>\n",
       "\t<li>'lab_creatinine_kinase_flag'</li>\n",
       "\t<li>'lab_creatinine_first'</li>\n",
       "\t<li>'lab_pco2_first'</li>\n",
       "\t<li>'lab_bnp_flag'</li>\n",
       "\t<li>'lab_bicarbonate_first'</li>\n",
       "\t<li>'lab_bun_first'</li>\n",
       "\t<li>'lab_platelet_first'</li>\n",
       "\t<li>'lab_sodium_first'</li>\n",
       "\t<li>'lab_chloride_first'</li>\n",
       "\t<li>'lab_ph_first'</li>\n",
       "\t<li>'sedative'</li>\n",
       "</ol>\n"
      ],
      "text/latex": [
       "\\begin{enumerate*}\n",
       "\\item 'age'\n",
       "\\item 'gender'\n",
       "\\item 'weight'\n",
       "\\item 'saps'\n",
       "\\item 'sofa'\n",
       "\\item 'elix\\_score'\n",
       "\\item 'vent'\n",
       "\\item 'vaso'\n",
       "\\item 'icu\\_adm\\_weekday'\n",
       "\\item 'icu\\_adm\\_hour'\n",
       "\\item 'icd\\_chf'\n",
       "\\item 'icd\\_afib'\n",
       "\\item 'icd\\_renal'\n",
       "\\item 'icd\\_liver'\n",
       "\\item 'icd\\_copd'\n",
       "\\item 'icd\\_cad'\n",
       "\\item 'icd\\_stroke'\n",
       "\\item 'icd\\_malignancy'\n",
       "\\item 'vs\\_temp\\_first'\n",
       "\\item 'vs\\_map\\_first'\n",
       "\\item 'vs\\_cvp\\_first'\n",
       "\\item 'vs\\_heart\\_rate\\_first'\n",
       "\\item 'lab\\_hemoglobin\\_first'\n",
       "\\item 'lab\\_wbc\\_first'\n",
       "\\item 'lab\\_lactate\\_first'\n",
       "\\item 'lab\\_po2\\_first'\n",
       "\\item 'lab\\_troponin\\_flag'\n",
       "\\item 'lab\\_potassium\\_first'\n",
       "\\item 'lab\\_creatinine\\_kinase\\_flag'\n",
       "\\item 'lab\\_creatinine\\_first'\n",
       "\\item 'lab\\_pco2\\_first'\n",
       "\\item 'lab\\_bnp\\_flag'\n",
       "\\item 'lab\\_bicarbonate\\_first'\n",
       "\\item 'lab\\_bun\\_first'\n",
       "\\item 'lab\\_platelet\\_first'\n",
       "\\item 'lab\\_sodium\\_first'\n",
       "\\item 'lab\\_chloride\\_first'\n",
       "\\item 'lab\\_ph\\_first'\n",
       "\\item 'sedative'\n",
       "\\end{enumerate*}\n"
      ],
      "text/markdown": [
       "1. 'age'\n",
       "2. 'gender'\n",
       "3. 'weight'\n",
       "4. 'saps'\n",
       "5. 'sofa'\n",
       "6. 'elix_score'\n",
       "7. 'vent'\n",
       "8. 'vaso'\n",
       "9. 'icu_adm_weekday'\n",
       "10. 'icu_adm_hour'\n",
       "11. 'icd_chf'\n",
       "12. 'icd_afib'\n",
       "13. 'icd_renal'\n",
       "14. 'icd_liver'\n",
       "15. 'icd_copd'\n",
       "16. 'icd_cad'\n",
       "17. 'icd_stroke'\n",
       "18. 'icd_malignancy'\n",
       "19. 'vs_temp_first'\n",
       "20. 'vs_map_first'\n",
       "21. 'vs_cvp_first'\n",
       "22. 'vs_heart_rate_first'\n",
       "23. 'lab_hemoglobin_first'\n",
       "24. 'lab_wbc_first'\n",
       "25. 'lab_lactate_first'\n",
       "26. 'lab_po2_first'\n",
       "27. 'lab_troponin_flag'\n",
       "28. 'lab_potassium_first'\n",
       "29. 'lab_creatinine_kinase_flag'\n",
       "30. 'lab_creatinine_first'\n",
       "31. 'lab_pco2_first'\n",
       "32. 'lab_bnp_flag'\n",
       "33. 'lab_bicarbonate_first'\n",
       "34. 'lab_bun_first'\n",
       "35. 'lab_platelet_first'\n",
       "36. 'lab_sodium_first'\n",
       "37. 'lab_chloride_first'\n",
       "38. 'lab_ph_first'\n",
       "39. 'sedative'\n",
       "\n",
       "\n"
      ],
      "text/plain": [
       " [1] \"age\"                        \"gender\"                    \n",
       " [3] \"weight\"                     \"saps\"                      \n",
       " [5] \"sofa\"                       \"elix_score\"                \n",
       " [7] \"vent\"                       \"vaso\"                      \n",
       " [9] \"icu_adm_weekday\"            \"icu_adm_hour\"              \n",
       "[11] \"icd_chf\"                    \"icd_afib\"                  \n",
       "[13] \"icd_renal\"                  \"icd_liver\"                 \n",
       "[15] \"icd_copd\"                   \"icd_cad\"                   \n",
       "[17] \"icd_stroke\"                 \"icd_malignancy\"            \n",
       "[19] \"vs_temp_first\"              \"vs_map_first\"              \n",
       "[21] \"vs_cvp_first\"               \"vs_heart_rate_first\"       \n",
       "[23] \"lab_hemoglobin_first\"       \"lab_wbc_first\"             \n",
       "[25] \"lab_lactate_first\"          \"lab_po2_first\"             \n",
       "[27] \"lab_troponin_flag\"          \"lab_potassium_first\"       \n",
       "[29] \"lab_creatinine_kinase_flag\" \"lab_creatinine_first\"      \n",
       "[31] \"lab_pco2_first\"             \"lab_bnp_flag\"              \n",
       "[33] \"lab_bicarbonate_first\"      \"lab_bun_first\"             \n",
       "[35] \"lab_platelet_first\"         \"lab_sodium_first\"          \n",
       "[37] \"lab_chloride_first\"         \"lab_ph_first\"              \n",
       "[39] \"sedative\"                  "
      ]
     },
     "metadata": {},
     "output_type": "display_data"
    },
    {
     "data": {
      "text/html": [
       "39"
      ],
      "text/latex": [
       "39"
      ],
      "text/markdown": [
       "39"
      ],
      "text/plain": [
       "[1] 39"
      ]
     },
     "metadata": {},
     "output_type": "display_data"
    }
   ],
   "source": [
    "feature_names <- full_data %>%\n",
    "    names %>%\n",
    "    keep(grepl(\"vs|lab|icd|age|gender|weight|saps|sofa|elix_score|vent|vaso|icu_adm|sedative\", .)) %>%\n",
    "    discard(grepl(\"vs|lab\", .) & grepl(\"flag\", .) & !grepl(\"bnp|troponin|kinase\", .)) %>%\n",
    "    discard(grepl(\"bnp|troponin|kinase\", .) & !grepl(\"flag\", .)) %>%\n",
    "    discard(grepl(\"min|max\", .)) %>%\n",
    "    discard(grepl(\"abnormal\", .))\n",
    "feature_names\n",
    "length(feature_names)"
   ]
  },
  {
   "cell_type": "code",
   "execution_count": 10,
   "metadata": {},
   "outputs": [
    {
     "data": {
      "text/html": [
       "<table>\n",
       "<thead><tr><th scope=col>age</th><th scope=col>gender</th><th scope=col>weight</th><th scope=col>saps</th><th scope=col>sofa</th><th scope=col>elix_score</th><th scope=col>vent</th><th scope=col>vaso</th><th scope=col>icu_adm_weekday</th><th scope=col>icu_adm_hour</th><th scope=col>⋯</th><th scope=col>lab_creatinine_first</th><th scope=col>lab_pco2_first</th><th scope=col>lab_bnp_flag</th><th scope=col>lab_bicarbonate_first</th><th scope=col>lab_bun_first</th><th scope=col>lab_platelet_first</th><th scope=col>lab_sodium_first</th><th scope=col>lab_chloride_first</th><th scope=col>lab_ph_first</th><th scope=col>sedative</th></tr></thead>\n",
       "<tbody>\n",
       "\t<tr><td>62.67646</td><td>1       </td><td>74.3    </td><td>25      </td><td>5       </td><td> 5      </td><td>1       </td><td>0       </td><td>2       </td><td>1       </td><td>⋯       </td><td>3.7     </td><td>32      </td><td>0       </td><td>22      </td><td>208     </td><td>313     </td><td>160     </td><td>123     </td><td>7.45    </td><td>1       </td></tr>\n",
       "\t<tr><td>86.76186</td><td>0       </td><td>  NA    </td><td>13      </td><td>1       </td><td>10      </td><td>0       </td><td>0       </td><td>4       </td><td>1       </td><td>⋯       </td><td>0.9     </td><td>NA      </td><td>0       </td><td>27      </td><td> 17     </td><td>189     </td><td>139     </td><td>105     </td><td>  NA    </td><td>0       </td></tr>\n",
       "\t<tr><td>56.08904</td><td>1       </td><td>65.0    </td><td>18      </td><td>5       </td><td>14      </td><td>1       </td><td>0       </td><td>6       </td><td>1       </td><td>⋯       </td><td>0.9     </td><td>32      </td><td>0       </td><td>24      </td><td> 15     </td><td>231     </td><td>144     </td><td>108     </td><td>7.49    </td><td>0       </td></tr>\n",
       "\t<tr><td>45.91093</td><td>1       </td><td>  NA    </td><td>16      </td><td>9       </td><td>13      </td><td>0       </td><td>0       </td><td>3       </td><td>14      </td><td>⋯       </td><td>0.8     </td><td>30      </td><td>0       </td><td>20      </td><td> 19     </td><td> 28     </td><td>134     </td><td>100     </td><td>7.44    </td><td>0       </td></tr>\n",
       "\t<tr><td>59.38693</td><td>1       </td><td>91.4    </td><td>13      </td><td>3       </td><td>22      </td><td>0       </td><td>0       </td><td>3       </td><td>14      </td><td>⋯       </td><td>0.7     </td><td>NA      </td><td>0       </td><td>26      </td><td>  7     </td><td> 40     </td><td>138     </td><td>103     </td><td>  NA    </td><td>0       </td></tr>\n",
       "\t<tr><td>91.50000</td><td>0       </td><td>55.0    </td><td>25      </td><td>5       </td><td> 0      </td><td>0       </td><td>0       </td><td>6       </td><td>20      </td><td>⋯       </td><td>0.8     </td><td>NA      </td><td>0       </td><td>20      </td><td> 19     </td><td>249     </td><td>147     </td><td>118     </td><td>  NA    </td><td>0       </td></tr>\n",
       "</tbody>\n",
       "</table>\n"
      ],
      "text/latex": [
       "\\begin{tabular}{r|lllllllllllllllllllllllllllllllllllllll}\n",
       " age & gender & weight & saps & sofa & elix\\_score & vent & vaso & icu\\_adm\\_weekday & icu\\_adm\\_hour & ⋯ & lab\\_creatinine\\_first & lab\\_pco2\\_first & lab\\_bnp\\_flag & lab\\_bicarbonate\\_first & lab\\_bun\\_first & lab\\_platelet\\_first & lab\\_sodium\\_first & lab\\_chloride\\_first & lab\\_ph\\_first & sedative\\\\\n",
       "\\hline\n",
       "\t 62.67646 & 1        & 74.3     & 25       & 5        &  5       & 1        & 0        & 2        & 1        & ⋯        & 3.7      & 32       & 0        & 22       & 208      & 313      & 160      & 123      & 7.45     & 1       \\\\\n",
       "\t 86.76186 & 0        &   NA     & 13       & 1        & 10       & 0        & 0        & 4        & 1        & ⋯        & 0.9      & NA       & 0        & 27       &  17      & 189      & 139      & 105      &   NA     & 0       \\\\\n",
       "\t 56.08904 & 1        & 65.0     & 18       & 5        & 14       & 1        & 0        & 6        & 1        & ⋯        & 0.9      & 32       & 0        & 24       &  15      & 231      & 144      & 108      & 7.49     & 0       \\\\\n",
       "\t 45.91093 & 1        &   NA     & 16       & 9        & 13       & 0        & 0        & 3        & 14       & ⋯        & 0.8      & 30       & 0        & 20       &  19      &  28      & 134      & 100      & 7.44     & 0       \\\\\n",
       "\t 59.38693 & 1        & 91.4     & 13       & 3        & 22       & 0        & 0        & 3        & 14       & ⋯        & 0.7      & NA       & 0        & 26       &   7      &  40      & 138      & 103      &   NA     & 0       \\\\\n",
       "\t 91.50000 & 0        & 55.0     & 25       & 5        &  0       & 0        & 0        & 6        & 20       & ⋯        & 0.8      & NA       & 0        & 20       &  19      & 249      & 147      & 118      &   NA     & 0       \\\\\n",
       "\\end{tabular}\n"
      ],
      "text/markdown": [
       "\n",
       "age | gender | weight | saps | sofa | elix_score | vent | vaso | icu_adm_weekday | icu_adm_hour | ⋯ | lab_creatinine_first | lab_pco2_first | lab_bnp_flag | lab_bicarbonate_first | lab_bun_first | lab_platelet_first | lab_sodium_first | lab_chloride_first | lab_ph_first | sedative | \n",
       "|---|---|---|---|---|---|\n",
       "| 62.67646 | 1        | 74.3     | 25       | 5        |  5       | 1        | 0        | 2        | 1        | ⋯        | 3.7      | 32       | 0        | 22       | 208      | 313      | 160      | 123      | 7.45     | 1        | \n",
       "| 86.76186 | 0        |   NA     | 13       | 1        | 10       | 0        | 0        | 4        | 1        | ⋯        | 0.9      | NA       | 0        | 27       |  17      | 189      | 139      | 105      |   NA     | 0        | \n",
       "| 56.08904 | 1        | 65.0     | 18       | 5        | 14       | 1        | 0        | 6        | 1        | ⋯        | 0.9      | 32       | 0        | 24       |  15      | 231      | 144      | 108      | 7.49     | 0        | \n",
       "| 45.91093 | 1        |   NA     | 16       | 9        | 13       | 0        | 0        | 3        | 14       | ⋯        | 0.8      | 30       | 0        | 20       |  19      |  28      | 134      | 100      | 7.44     | 0        | \n",
       "| 59.38693 | 1        | 91.4     | 13       | 3        | 22       | 0        | 0        | 3        | 14       | ⋯        | 0.7      | NA       | 0        | 26       |   7      |  40      | 138      | 103      |   NA     | 0        | \n",
       "| 91.50000 | 0        | 55.0     | 25       | 5        |  0       | 0        | 0        | 6        | 20       | ⋯        | 0.8      | NA       | 0        | 20       |  19      | 249      | 147      | 118      |   NA     | 0        | \n",
       "\n",
       "\n"
      ],
      "text/plain": [
       "  age      gender weight saps sofa elix_score vent vaso icu_adm_weekday\n",
       "1 62.67646 1      74.3   25   5     5         1    0    2              \n",
       "2 86.76186 0        NA   13   1    10         0    0    4              \n",
       "3 56.08904 1      65.0   18   5    14         1    0    6              \n",
       "4 45.91093 1        NA   16   9    13         0    0    3              \n",
       "5 59.38693 1      91.4   13   3    22         0    0    3              \n",
       "6 91.50000 0      55.0   25   5     0         0    0    6              \n",
       "  icu_adm_hour ⋯ lab_creatinine_first lab_pco2_first lab_bnp_flag\n",
       "1 1            ⋯ 3.7                  32             0           \n",
       "2 1            ⋯ 0.9                  NA             0           \n",
       "3 1            ⋯ 0.9                  32             0           \n",
       "4 14           ⋯ 0.8                  30             0           \n",
       "5 14           ⋯ 0.7                  NA             0           \n",
       "6 20           ⋯ 0.8                  NA             0           \n",
       "  lab_bicarbonate_first lab_bun_first lab_platelet_first lab_sodium_first\n",
       "1 22                    208           313                160             \n",
       "2 27                     17           189                139             \n",
       "3 24                     15           231                144             \n",
       "4 20                     19            28                134             \n",
       "5 26                      7            40                138             \n",
       "6 20                     19           249                147             \n",
       "  lab_chloride_first lab_ph_first sedative\n",
       "1 123                7.45         1       \n",
       "2 105                  NA         0       \n",
       "3 108                7.49         0       \n",
       "4 100                7.44         0       \n",
       "5 103                  NA         0       \n",
       "6 118                  NA         0       "
      ]
     },
     "metadata": {},
     "output_type": "display_data"
    }
   ],
   "source": [
    "features <- full_data %>%\n",
    "    select(!!!rlang::syms(feature_names))\n",
    "head(features)"
   ]
  },
  {
   "cell_type": "code",
   "execution_count": 11,
   "metadata": {},
   "outputs": [],
   "source": [
    "label_name <- \"echo\""
   ]
  },
  {
   "cell_type": "code",
   "execution_count": 12,
   "metadata": {},
   "outputs": [
    {
     "data": {
      "text/html": [
       "<ol class=list-inline>\n",
       "\t<li>0</li>\n",
       "\t<li>0</li>\n",
       "\t<li>0</li>\n",
       "\t<li>1</li>\n",
       "\t<li>0</li>\n",
       "\t<li>0</li>\n",
       "</ol>\n"
      ],
      "text/latex": [
       "\\begin{enumerate*}\n",
       "\\item 0\n",
       "\\item 0\n",
       "\\item 0\n",
       "\\item 1\n",
       "\\item 0\n",
       "\\item 0\n",
       "\\end{enumerate*}\n"
      ],
      "text/markdown": [
       "1. 0\n",
       "2. 0\n",
       "3. 0\n",
       "4. 1\n",
       "5. 0\n",
       "6. 0\n",
       "\n",
       "\n"
      ],
      "text/plain": [
       "[1] 0 0 0 1 0 0\n",
       "Levels: 0 1"
      ]
     },
     "metadata": {},
     "output_type": "display_data"
    }
   ],
   "source": [
    "label <- full_data %>% pull(echo)\n",
    "head(label)"
   ]
  },
  {
   "cell_type": "code",
   "execution_count": 13,
   "metadata": {},
   "outputs": [
    {
     "data": {
      "text/html": [
       "'mort_28_day ~ echo + age + gender + weight + saps + sofa + elix_score + vent + vaso + icu_adm_weekday + icu_adm_hour + icd_chf + icd_afib + icd_renal + icd_liver + icd_copd + icd_cad + icd_stroke + icd_malignancy + vs_temp_first + vs_map_first + vs_cvp_first + vs_heart_rate_first + lab_hemoglobin_first + lab_wbc_first + lab_lactate_first + lab_po2_first + lab_troponin_flag + lab_potassium_first + lab_creatinine_kinase_flag + lab_creatinine_first + lab_pco2_first + lab_bnp_flag + lab_bicarbonate_first + lab_bun_first + lab_platelet_first + lab_sodium_first + lab_chloride_first + lab_ph_first + sedative'"
      ],
      "text/latex": [
       "'mort\\_28\\_day \\textasciitilde{} echo + age + gender + weight + saps + sofa + elix\\_score + vent + vaso + icu\\_adm\\_weekday + icu\\_adm\\_hour + icd\\_chf + icd\\_afib + icd\\_renal + icd\\_liver + icd\\_copd + icd\\_cad + icd\\_stroke + icd\\_malignancy + vs\\_temp\\_first + vs\\_map\\_first + vs\\_cvp\\_first + vs\\_heart\\_rate\\_first + lab\\_hemoglobin\\_first + lab\\_wbc\\_first + lab\\_lactate\\_first + lab\\_po2\\_first + lab\\_troponin\\_flag + lab\\_potassium\\_first + lab\\_creatinine\\_kinase\\_flag + lab\\_creatinine\\_first + lab\\_pco2\\_first + lab\\_bnp\\_flag + lab\\_bicarbonate\\_first + lab\\_bun\\_first + lab\\_platelet\\_first + lab\\_sodium\\_first + lab\\_chloride\\_first + lab\\_ph\\_first + sedative'"
      ],
      "text/markdown": [
       "'mort_28_day ~ echo + age + gender + weight + saps + sofa + elix_score + vent + vaso + icu_adm_weekday + icu_adm_hour + icd_chf + icd_afib + icd_renal + icd_liver + icd_copd + icd_cad + icd_stroke + icd_malignancy + vs_temp_first + vs_map_first + vs_cvp_first + vs_heart_rate_first + lab_hemoglobin_first + lab_wbc_first + lab_lactate_first + lab_po2_first + lab_troponin_flag + lab_potassium_first + lab_creatinine_kinase_flag + lab_creatinine_first + lab_pco2_first + lab_bnp_flag + lab_bicarbonate_first + lab_bun_first + lab_platelet_first + lab_sodium_first + lab_chloride_first + lab_ph_first + sedative'"
      ],
      "text/plain": [
       "[1] \"mort_28_day ~ echo + age + gender + weight + saps + sofa + elix_score + vent + vaso + icu_adm_weekday + icu_adm_hour + icd_chf + icd_afib + icd_renal + icd_liver + icd_copd + icd_cad + icd_stroke + icd_malignancy + vs_temp_first + vs_map_first + vs_cvp_first + vs_heart_rate_first + lab_hemoglobin_first + lab_wbc_first + lab_lactate_first + lab_po2_first + lab_troponin_flag + lab_potassium_first + lab_creatinine_kinase_flag + lab_creatinine_first + lab_pco2_first + lab_bnp_flag + lab_bicarbonate_first + lab_bun_first + lab_platelet_first + lab_sodium_first + lab_chloride_first + lab_ph_first + sedative\""
      ]
     },
     "metadata": {},
     "output_type": "display_data"
    }
   ],
   "source": [
    "fml <- feature_names %>%\n",
    "    c(\"echo\", .) %>%\n",
    "    paste(collapse = \" + \") %>%\n",
    "    sprintf(\"mort_28_day ~ %s\", .)\n",
    "fml"
   ]
  },
  {
   "cell_type": "code",
   "execution_count": 14,
   "metadata": {},
   "outputs": [
    {
     "data": {
      "text/plain": [
       "\n",
       "Call:\n",
       "glm(formula = as.formula(fml), family = binomial, data = full_data, \n",
       "    na.action = na.exclude)\n",
       "\n",
       "Deviance Residuals: \n",
       "    Min       1Q   Median       3Q      Max  \n",
       "-2.1250  -0.7347  -0.4077   0.7494   2.8886  \n",
       "\n",
       "Coefficients:\n",
       "                              Estimate Std. Error z value Pr(>|z|)    \n",
       "(Intercept)                  8.2731508  8.8177268   0.938 0.348121    \n",
       "echo1                       -0.2987650  0.1489311  -2.006 0.044850 *  \n",
       "age                          0.0241281  0.0056105   4.301  1.7e-05 ***\n",
       "gender1                      0.2641650  0.1438090   1.837 0.066222 .  \n",
       "weight                      -0.0080908  0.0031720  -2.551 0.010751 *  \n",
       "saps                         0.0632920  0.0179328   3.529 0.000417 ***\n",
       "sofa                         0.1708259  0.0263574   6.481  9.1e-11 ***\n",
       "elix_score                   0.0293990  0.0115937   2.536 0.011220 *  \n",
       "vent1                        0.3336840  0.2675541   1.247 0.212337    \n",
       "vaso1                       -0.0079091  0.1762429  -0.045 0.964206    \n",
       "icu_adm_weekday1            -0.0119907  0.2603573  -0.046 0.963266    \n",
       "icu_adm_weekday2             0.1357941  0.2541661   0.534 0.593153    \n",
       "icu_adm_weekday3             0.3427495  0.2442443   1.403 0.160526    \n",
       "icu_adm_weekday4             0.3451215  0.2450684   1.408 0.159052    \n",
       "icu_adm_weekday5             0.1404175  0.2531528   0.555 0.579117    \n",
       "icu_adm_weekday6             0.0023634  0.2631767   0.009 0.992835    \n",
       "icu_adm_hour1                0.0585817  0.4869522   0.120 0.904243    \n",
       "icu_adm_hour2               -0.6276104  0.5239299  -1.198 0.230960    \n",
       "icu_adm_hour3               -0.0771312  0.4858629  -0.159 0.873865    \n",
       "icu_adm_hour4                0.4803010  0.4757568   1.010 0.312710    \n",
       "icu_adm_hour5                0.0006887  0.5202045   0.001 0.998944    \n",
       "icu_adm_hour6               -0.0016288  0.5704234  -0.003 0.997722    \n",
       "icu_adm_hour7               -0.9676714  0.7766099  -1.246 0.212757    \n",
       "icu_adm_hour8               -0.3050340  0.7131550  -0.428 0.668852    \n",
       "icu_adm_hour9                0.6640638  0.5060190   1.312 0.189409    \n",
       "icu_adm_hour10              -0.4118498  0.5652378  -0.729 0.466227    \n",
       "icu_adm_hour11              -0.0579256  0.4821577  -0.120 0.904374    \n",
       "icu_adm_hour12               0.1528418  0.4560023   0.335 0.737491    \n",
       "icu_adm_hour13               0.6155696  0.4811634   1.279 0.200779    \n",
       "icu_adm_hour14               0.4483131  0.4418288   1.015 0.310260    \n",
       "icu_adm_hour15               0.2186508  0.4299705   0.509 0.611085    \n",
       "icu_adm_hour16               0.0050123  0.4130180   0.012 0.990317    \n",
       "icu_adm_hour17              -0.1350803  0.4299108  -0.314 0.753365    \n",
       "icu_adm_hour18              -0.0066622  0.4178505  -0.016 0.987279    \n",
       "icu_adm_hour19               0.2861370  0.4100422   0.698 0.485288    \n",
       "icu_adm_hour20               0.5811445  0.3979180   1.460 0.144163    \n",
       "icu_adm_hour21               0.5254762  0.3940596   1.333 0.182370    \n",
       "icu_adm_hour22               0.3908273  0.3929262   0.995 0.319902    \n",
       "icu_adm_hour23              -0.6872798  0.4442554  -1.547 0.121854    \n",
       "icd_chf1                    -0.4637667  0.1762063  -2.632 0.008490 ** \n",
       "icd_afib1                    0.1234767  0.1578933   0.782 0.434199    \n",
       "icd_renal1                   0.2052116  0.2155039   0.952 0.340975    \n",
       "icd_liver1                   0.5106624  0.2423735   2.107 0.035124 *  \n",
       "icd_copd1                    0.3999547  0.1943797   2.058 0.039629 *  \n",
       "icd_cad1                    -0.3711018  0.2134173  -1.739 0.082060 .  \n",
       "icd_stroke1                  0.4573890  0.2875114   1.591 0.111642    \n",
       "icd_malignancy1              0.3651013  0.1727906   2.113 0.034603 *  \n",
       "vs_temp_first               -0.1092102  0.0588139  -1.857 0.063328 .  \n",
       "vs_map_first                -0.0092004  0.0037046  -2.484 0.013009 *  \n",
       "vs_cvp_first                -0.0032791  0.0035221  -0.931 0.351841    \n",
       "vs_heart_rate_first          0.0069908  0.0034293   2.039 0.041496 *  \n",
       "lab_hemoglobin_first        -0.0428915  0.0352920  -1.215 0.224240    \n",
       "lab_wbc_first               -0.0048331  0.0058773  -0.822 0.410887    \n",
       "lab_lactate_first            0.1370727  0.0363506   3.771 0.000163 ***\n",
       "lab_po2_first               -0.0010259  0.0007126  -1.440 0.149964    \n",
       "lab_troponin_flag1           0.3006180  0.1930417   1.557 0.119406    \n",
       "lab_potassium_first          0.1258106  0.0751926   1.673 0.094292 .  \n",
       "lab_creatinine_kinase_flag1 -0.0595552  0.1946052  -0.306 0.759581    \n",
       "lab_creatinine_first        -0.2172691  0.0729280  -2.979 0.002890 ** \n",
       "lab_pco2_first              -0.0006333  0.0098263  -0.064 0.948611    \n",
       "lab_bnp_flag1                0.6016155  0.3343107   1.800 0.071929 .  \n",
       "lab_bicarbonate_first        0.0424608  0.0260256   1.631 0.102785    \n",
       "lab_bun_first                0.0085806  0.0034438   2.492 0.012718 *  \n",
       "lab_platelet_first           0.0004324  0.0005608   0.771 0.440632    \n",
       "lab_sodium_first            -0.0118269  0.0228874  -0.517 0.605336    \n",
       "lab_chloride_first          -0.0118948  0.0211191  -0.563 0.573281    \n",
       "lab_ph_first                -1.1049551  1.1783169  -0.938 0.348378    \n",
       "sedative1                   -0.2220385  0.2101967  -1.056 0.290814    \n",
       "---\n",
       "Signif. codes:  0 ‘***’ 0.001 ‘**’ 0.01 ‘*’ 0.05 ‘.’ 0.1 ‘ ’ 1\n",
       "\n",
       "(Dispersion parameter for binomial family taken to be 1)\n",
       "\n",
       "    Null deviance: 1933.8  on 1533  degrees of freedom\n",
       "Residual deviance: 1439.0  on 1466  degrees of freedom\n",
       "  (4628 observations deleted due to missingness)\n",
       "AIC: 1575\n",
       "\n",
       "Number of Fisher Scoring iterations: 5\n"
      ]
     },
     "metadata": {},
     "output_type": "display_data"
    },
    {
     "name": "stderr",
     "output_type": "stream",
     "text": [
      "Waiting for profiling to be done...\n"
     ]
    },
    {
     "data": {
      "text/html": [
       "<table>\n",
       "<thead><tr><th></th><th scope=col>OR</th><th scope=col>2.5 %</th><th scope=col>97.5 %</th></tr></thead>\n",
       "<tbody>\n",
       "\t<tr><th scope=row>(Intercept)</th><td>3917.2721313</td><td>0.0001096094</td><td>1.162089e+11</td></tr>\n",
       "\t<tr><th scope=row>echo1</th><td>   0.7417337</td><td>0.5537001114</td><td>9.931019e-01</td></tr>\n",
       "\t<tr><th scope=row>age</th><td>   1.0244215</td><td>1.0133309067</td><td>1.035883e+00</td></tr>\n",
       "\t<tr><th scope=row>gender1</th><td>   1.3023431</td><td>0.9828208020</td><td>1.727652e+00</td></tr>\n",
       "\t<tr><th scope=row>weight</th><td>   0.9919419</td><td>0.9857148521</td><td>9.980611e-01</td></tr>\n",
       "\t<tr><th scope=row>saps</th><td>   1.0653379</td><td>1.0286705483</td><td>1.103648e+00</td></tr>\n",
       "\t<tr><th scope=row>sofa</th><td>   1.1862842</td><td>1.1270799972</td><td>1.249862e+00</td></tr>\n",
       "\t<tr><th scope=row>elix_score</th><td>   1.0298355</td><td>1.0066711605</td><td>1.053518e+00</td></tr>\n",
       "\t<tr><th scope=row>vent1</th><td>   1.3961019</td><td>0.8261955832</td><td>2.360505e+00</td></tr>\n",
       "\t<tr><th scope=row>vaso1</th><td>   0.9921221</td><td>0.7025945135</td><td>1.402833e+00</td></tr>\n",
       "\t<tr><th scope=row>icu_adm_weekday1</th><td>   0.9880809</td><td>0.5926042731</td><td>1.646331e+00</td></tr>\n",
       "\t<tr><th scope=row>icu_adm_weekday2</th><td>   1.1454460</td><td>0.6960634075</td><td>1.887284e+00</td></tr>\n",
       "\t<tr><th scope=row>icu_adm_weekday3</th><td>   1.4088157</td><td>0.8742856083</td><td>2.279716e+00</td></tr>\n",
       "\t<tr><th scope=row>icu_adm_weekday4</th><td>   1.4121615</td><td>0.8746842320</td><td>2.288158e+00</td></tr>\n",
       "\t<tr><th scope=row>icu_adm_weekday5</th><td>   1.1507541</td><td>0.7006104832</td><td>1.892025e+00</td></tr>\n",
       "\t<tr><th scope=row>icu_adm_weekday6</th><td>   1.0023662</td><td>0.5978182137</td><td>1.679324e+00</td></tr>\n",
       "\t<tr><th scope=row>icu_adm_hour1</th><td>   1.0603316</td><td>0.4067114757</td><td>2.757946e+00</td></tr>\n",
       "\t<tr><th scope=row>icu_adm_hour2</th><td>   0.5338660</td><td>0.1870426224</td><td>1.471317e+00</td></tr>\n",
       "\t<tr><th scope=row>icu_adm_hour3</th><td>   0.9257684</td><td>0.3550717281</td><td>2.398909e+00</td></tr>\n",
       "\t<tr><th scope=row>icu_adm_hour4</th><td>   1.6165609</td><td>0.6354297639</td><td>4.124357e+00</td></tr>\n",
       "\t<tr><th scope=row>icu_adm_hour5</th><td>   1.0006889</td><td>0.3554524405</td><td>2.754255e+00</td></tr>\n",
       "\t<tr><th scope=row>icu_adm_hour6</th><td>   0.9983725</td><td>0.3203198951</td><td>3.029492e+00</td></tr>\n",
       "\t<tr><th scope=row>icu_adm_hour7</th><td>   0.3799668</td><td>0.0700390623</td><td>1.575494e+00</td></tr>\n",
       "\t<tr><th scope=row>icu_adm_hour8</th><td>   0.7370983</td><td>0.1648712609</td><td>2.819420e+00</td></tr>\n",
       "\t<tr><th scope=row>icu_adm_hour9</th><td>   1.9426709</td><td>0.7190178891</td><td>5.258644e+00</td></tr>\n",
       "\t<tr><th scope=row>icu_adm_hour10</th><td>   0.6624238</td><td>0.2119148621</td><td>1.966496e+00</td></tr>\n",
       "\t<tr><th scope=row>icu_adm_hour11</th><td>   0.9437201</td><td>0.3646276581</td><td>2.428535e+00</td></tr>\n",
       "\t<tr><th scope=row>icu_adm_hour12</th><td>   1.1651406</td><td>0.4751891508</td><td>2.854722e+00</td></tr>\n",
       "\t<tr><th scope=row>icu_adm_hour13</th><td>   1.8507105</td><td>0.7204659008</td><td>4.776015e+00</td></tr>\n",
       "\t<tr><th scope=row>icu_adm_hour14</th><td>   1.5656688</td><td>0.6591448376</td><td>3.743056e+00</td></tr>\n",
       "\t<tr><th scope=row>⋮</th><td>⋮</td><td>⋮</td><td>⋮</td></tr>\n",
       "\t<tr><th scope=row>icu_adm_hour23</th><td>0.5029423 </td><td>0.20968102</td><td>1.2023420 </td></tr>\n",
       "\t<tr><th scope=row>icd_chf1</th><td>0.6289103 </td><td>0.44438155</td><td>0.8870409 </td></tr>\n",
       "\t<tr><th scope=row>icd_afib1</th><td>1.1314237 </td><td>0.82972887</td><td>1.5414317 </td></tr>\n",
       "\t<tr><th scope=row>icd_renal1</th><td>1.2277848 </td><td>0.80334312</td><td>1.8713213 </td></tr>\n",
       "\t<tr><th scope=row>icd_liver1</th><td>1.6663946 </td><td>1.03656135</td><td>2.6829734 </td></tr>\n",
       "\t<tr><th scope=row>icd_copd1</th><td>1.4917572 </td><td>1.01753121</td><td>2.1816618 </td></tr>\n",
       "\t<tr><th scope=row>icd_cad1</th><td>0.6899737 </td><td>0.45141289</td><td>1.0431975 </td></tr>\n",
       "\t<tr><th scope=row>icd_stroke1</th><td>1.5799434 </td><td>0.89167495</td><td>2.7606598 </td></tr>\n",
       "\t<tr><th scope=row>icd_malignancy1</th><td>1.4406599 </td><td>1.02618794</td><td>2.0212467 </td></tr>\n",
       "\t<tr><th scope=row>vs_temp_first</th><td>0.8965419 </td><td>0.79811654</td><td>1.0008781 </td></tr>\n",
       "\t<tr><th scope=row>vs_map_first</th><td>0.9908418 </td><td>0.98357260</td><td>0.9979735 </td></tr>\n",
       "\t<tr><th scope=row>vs_cvp_first</th><td>0.9967262 </td><td>0.98899368</td><td>1.0032521 </td></tr>\n",
       "\t<tr><th scope=row>vs_heart_rate_first</th><td>1.0070153 </td><td>1.00027798</td><td>1.0138250 </td></tr>\n",
       "\t<tr><th scope=row>lab_hemoglobin_first</th><td>0.9580153 </td><td>0.89374775</td><td>1.0264733 </td></tr>\n",
       "\t<tr><th scope=row>lab_wbc_first</th><td>0.9951785 </td><td>0.98363900</td><td>1.0066419 </td></tr>\n",
       "\t<tr><th scope=row>lab_lactate_first</th><td>1.1469116 </td><td>1.06890028</td><td>1.2327708 </td></tr>\n",
       "\t<tr><th scope=row>lab_po2_first</th><td>0.9989746 </td><td>0.99756881</td><td>1.0003627 </td></tr>\n",
       "\t<tr><th scope=row>lab_troponin_flag1</th><td>1.3506933 </td><td>0.92713829</td><td>1.9774354 </td></tr>\n",
       "\t<tr><th scope=row>lab_potassium_first</th><td>1.1340673 </td><td>0.97852763</td><td>1.3230101 </td></tr>\n",
       "\t<tr><th scope=row>lab_creatinine_kinase_flag1</th><td>0.9421835 </td><td>0.64168289</td><td>1.3770347 </td></tr>\n",
       "\t<tr><th scope=row>lab_creatinine_first</th><td>0.8047134 </td><td>0.69468665</td><td>0.9241470 </td></tr>\n",
       "\t<tr><th scope=row>lab_pco2_first</th><td>0.9993669 </td><td>0.98032078</td><td>1.0189309 </td></tr>\n",
       "\t<tr><th scope=row>lab_bnp_flag1</th><td>1.8250648 </td><td>0.93750749</td><td>3.4922372 </td></tr>\n",
       "\t<tr><th scope=row>lab_bicarbonate_first</th><td>1.0433751 </td><td>0.99125690</td><td>1.0980015 </td></tr>\n",
       "\t<tr><th scope=row>lab_bun_first</th><td>1.0086175 </td><td>1.00186182</td><td>1.0154999 </td></tr>\n",
       "\t<tr><th scope=row>lab_platelet_first</th><td>1.0004325 </td><td>0.99932861</td><td>1.0015303 </td></tr>\n",
       "\t<tr><th scope=row>lab_sodium_first</th><td>0.9882428 </td><td>0.94488292</td><td>1.0336960 </td></tr>\n",
       "\t<tr><th scope=row>lab_chloride_first</th><td>0.9881756 </td><td>0.94798614</td><td>1.0299148 </td></tr>\n",
       "\t<tr><th scope=row>lab_ph_first</th><td>0.3312257 </td><td>0.03330773</td><td>3.3923827 </td></tr>\n",
       "\t<tr><th scope=row>sedative1</th><td>0.8008845 </td><td>0.53083895</td><td>1.2112821 </td></tr>\n",
       "</tbody>\n",
       "</table>\n"
      ],
      "text/latex": [
       "\\begin{tabular}{r|lll}\n",
       "  & OR & 2.5 \\% & 97.5 \\%\\\\\n",
       "\\hline\n",
       "\t(Intercept) & 3917.2721313 & 0.0001096094 & 1.162089e+11\\\\\n",
       "\techo1 &    0.7417337 & 0.5537001114 & 9.931019e-01\\\\\n",
       "\tage &    1.0244215 & 1.0133309067 & 1.035883e+00\\\\\n",
       "\tgender1 &    1.3023431 & 0.9828208020 & 1.727652e+00\\\\\n",
       "\tweight &    0.9919419 & 0.9857148521 & 9.980611e-01\\\\\n",
       "\tsaps &    1.0653379 & 1.0286705483 & 1.103648e+00\\\\\n",
       "\tsofa &    1.1862842 & 1.1270799972 & 1.249862e+00\\\\\n",
       "\telix\\_score &    1.0298355 & 1.0066711605 & 1.053518e+00\\\\\n",
       "\tvent1 &    1.3961019 & 0.8261955832 & 2.360505e+00\\\\\n",
       "\tvaso1 &    0.9921221 & 0.7025945135 & 1.402833e+00\\\\\n",
       "\ticu\\_adm\\_weekday1 &    0.9880809 & 0.5926042731 & 1.646331e+00\\\\\n",
       "\ticu\\_adm\\_weekday2 &    1.1454460 & 0.6960634075 & 1.887284e+00\\\\\n",
       "\ticu\\_adm\\_weekday3 &    1.4088157 & 0.8742856083 & 2.279716e+00\\\\\n",
       "\ticu\\_adm\\_weekday4 &    1.4121615 & 0.8746842320 & 2.288158e+00\\\\\n",
       "\ticu\\_adm\\_weekday5 &    1.1507541 & 0.7006104832 & 1.892025e+00\\\\\n",
       "\ticu\\_adm\\_weekday6 &    1.0023662 & 0.5978182137 & 1.679324e+00\\\\\n",
       "\ticu\\_adm\\_hour1 &    1.0603316 & 0.4067114757 & 2.757946e+00\\\\\n",
       "\ticu\\_adm\\_hour2 &    0.5338660 & 0.1870426224 & 1.471317e+00\\\\\n",
       "\ticu\\_adm\\_hour3 &    0.9257684 & 0.3550717281 & 2.398909e+00\\\\\n",
       "\ticu\\_adm\\_hour4 &    1.6165609 & 0.6354297639 & 4.124357e+00\\\\\n",
       "\ticu\\_adm\\_hour5 &    1.0006889 & 0.3554524405 & 2.754255e+00\\\\\n",
       "\ticu\\_adm\\_hour6 &    0.9983725 & 0.3203198951 & 3.029492e+00\\\\\n",
       "\ticu\\_adm\\_hour7 &    0.3799668 & 0.0700390623 & 1.575494e+00\\\\\n",
       "\ticu\\_adm\\_hour8 &    0.7370983 & 0.1648712609 & 2.819420e+00\\\\\n",
       "\ticu\\_adm\\_hour9 &    1.9426709 & 0.7190178891 & 5.258644e+00\\\\\n",
       "\ticu\\_adm\\_hour10 &    0.6624238 & 0.2119148621 & 1.966496e+00\\\\\n",
       "\ticu\\_adm\\_hour11 &    0.9437201 & 0.3646276581 & 2.428535e+00\\\\\n",
       "\ticu\\_adm\\_hour12 &    1.1651406 & 0.4751891508 & 2.854722e+00\\\\\n",
       "\ticu\\_adm\\_hour13 &    1.8507105 & 0.7204659008 & 4.776015e+00\\\\\n",
       "\ticu\\_adm\\_hour14 &    1.5656688 & 0.6591448376 & 3.743056e+00\\\\\n",
       "\t⋮ & ⋮ & ⋮ & ⋮\\\\\n",
       "\ticu\\_adm\\_hour23 & 0.5029423  & 0.20968102 & 1.2023420 \\\\\n",
       "\ticd\\_chf1 & 0.6289103  & 0.44438155 & 0.8870409 \\\\\n",
       "\ticd\\_afib1 & 1.1314237  & 0.82972887 & 1.5414317 \\\\\n",
       "\ticd\\_renal1 & 1.2277848  & 0.80334312 & 1.8713213 \\\\\n",
       "\ticd\\_liver1 & 1.6663946  & 1.03656135 & 2.6829734 \\\\\n",
       "\ticd\\_copd1 & 1.4917572  & 1.01753121 & 2.1816618 \\\\\n",
       "\ticd\\_cad1 & 0.6899737  & 0.45141289 & 1.0431975 \\\\\n",
       "\ticd\\_stroke1 & 1.5799434  & 0.89167495 & 2.7606598 \\\\\n",
       "\ticd\\_malignancy1 & 1.4406599  & 1.02618794 & 2.0212467 \\\\\n",
       "\tvs\\_temp\\_first & 0.8965419  & 0.79811654 & 1.0008781 \\\\\n",
       "\tvs\\_map\\_first & 0.9908418  & 0.98357260 & 0.9979735 \\\\\n",
       "\tvs\\_cvp\\_first & 0.9967262  & 0.98899368 & 1.0032521 \\\\\n",
       "\tvs\\_heart\\_rate\\_first & 1.0070153  & 1.00027798 & 1.0138250 \\\\\n",
       "\tlab\\_hemoglobin\\_first & 0.9580153  & 0.89374775 & 1.0264733 \\\\\n",
       "\tlab\\_wbc\\_first & 0.9951785  & 0.98363900 & 1.0066419 \\\\\n",
       "\tlab\\_lactate\\_first & 1.1469116  & 1.06890028 & 1.2327708 \\\\\n",
       "\tlab\\_po2\\_first & 0.9989746  & 0.99756881 & 1.0003627 \\\\\n",
       "\tlab\\_troponin\\_flag1 & 1.3506933  & 0.92713829 & 1.9774354 \\\\\n",
       "\tlab\\_potassium\\_first & 1.1340673  & 0.97852763 & 1.3230101 \\\\\n",
       "\tlab\\_creatinine\\_kinase\\_flag1 & 0.9421835  & 0.64168289 & 1.3770347 \\\\\n",
       "\tlab\\_creatinine\\_first & 0.8047134  & 0.69468665 & 0.9241470 \\\\\n",
       "\tlab\\_pco2\\_first & 0.9993669  & 0.98032078 & 1.0189309 \\\\\n",
       "\tlab\\_bnp\\_flag1 & 1.8250648  & 0.93750749 & 3.4922372 \\\\\n",
       "\tlab\\_bicarbonate\\_first & 1.0433751  & 0.99125690 & 1.0980015 \\\\\n",
       "\tlab\\_bun\\_first & 1.0086175  & 1.00186182 & 1.0154999 \\\\\n",
       "\tlab\\_platelet\\_first & 1.0004325  & 0.99932861 & 1.0015303 \\\\\n",
       "\tlab\\_sodium\\_first & 0.9882428  & 0.94488292 & 1.0336960 \\\\\n",
       "\tlab\\_chloride\\_first & 0.9881756  & 0.94798614 & 1.0299148 \\\\\n",
       "\tlab\\_ph\\_first & 0.3312257  & 0.03330773 & 3.3923827 \\\\\n",
       "\tsedative1 & 0.8008845  & 0.53083895 & 1.2112821 \\\\\n",
       "\\end{tabular}\n"
      ],
      "text/markdown": [
       "\n",
       "| <!--/--> | OR | 2.5 % | 97.5 % | \n",
       "|---|---|---|---|---|---|---|---|---|---|---|---|---|---|---|---|---|---|---|---|---|---|---|---|---|---|---|---|---|---|---|---|---|---|---|---|---|---|---|---|---|---|---|---|---|---|---|---|---|---|---|---|---|---|---|---|---|---|---|---|---|\n",
       "| (Intercept) | 3917.2721313 | 0.0001096094 | 1.162089e+11 | \n",
       "| echo1 |    0.7417337 | 0.5537001114 | 9.931019e-01 | \n",
       "| age |    1.0244215 | 1.0133309067 | 1.035883e+00 | \n",
       "| gender1 |    1.3023431 | 0.9828208020 | 1.727652e+00 | \n",
       "| weight |    0.9919419 | 0.9857148521 | 9.980611e-01 | \n",
       "| saps |    1.0653379 | 1.0286705483 | 1.103648e+00 | \n",
       "| sofa |    1.1862842 | 1.1270799972 | 1.249862e+00 | \n",
       "| elix_score |    1.0298355 | 1.0066711605 | 1.053518e+00 | \n",
       "| vent1 |    1.3961019 | 0.8261955832 | 2.360505e+00 | \n",
       "| vaso1 |    0.9921221 | 0.7025945135 | 1.402833e+00 | \n",
       "| icu_adm_weekday1 |    0.9880809 | 0.5926042731 | 1.646331e+00 | \n",
       "| icu_adm_weekday2 |    1.1454460 | 0.6960634075 | 1.887284e+00 | \n",
       "| icu_adm_weekday3 |    1.4088157 | 0.8742856083 | 2.279716e+00 | \n",
       "| icu_adm_weekday4 |    1.4121615 | 0.8746842320 | 2.288158e+00 | \n",
       "| icu_adm_weekday5 |    1.1507541 | 0.7006104832 | 1.892025e+00 | \n",
       "| icu_adm_weekday6 |    1.0023662 | 0.5978182137 | 1.679324e+00 | \n",
       "| icu_adm_hour1 |    1.0603316 | 0.4067114757 | 2.757946e+00 | \n",
       "| icu_adm_hour2 |    0.5338660 | 0.1870426224 | 1.471317e+00 | \n",
       "| icu_adm_hour3 |    0.9257684 | 0.3550717281 | 2.398909e+00 | \n",
       "| icu_adm_hour4 |    1.6165609 | 0.6354297639 | 4.124357e+00 | \n",
       "| icu_adm_hour5 |    1.0006889 | 0.3554524405 | 2.754255e+00 | \n",
       "| icu_adm_hour6 |    0.9983725 | 0.3203198951 | 3.029492e+00 | \n",
       "| icu_adm_hour7 |    0.3799668 | 0.0700390623 | 1.575494e+00 | \n",
       "| icu_adm_hour8 |    0.7370983 | 0.1648712609 | 2.819420e+00 | \n",
       "| icu_adm_hour9 |    1.9426709 | 0.7190178891 | 5.258644e+00 | \n",
       "| icu_adm_hour10 |    0.6624238 | 0.2119148621 | 1.966496e+00 | \n",
       "| icu_adm_hour11 |    0.9437201 | 0.3646276581 | 2.428535e+00 | \n",
       "| icu_adm_hour12 |    1.1651406 | 0.4751891508 | 2.854722e+00 | \n",
       "| icu_adm_hour13 |    1.8507105 | 0.7204659008 | 4.776015e+00 | \n",
       "| icu_adm_hour14 |    1.5656688 | 0.6591448376 | 3.743056e+00 | \n",
       "| ⋮ | ⋮ | ⋮ | ⋮ | \n",
       "| icu_adm_hour23 | 0.5029423  | 0.20968102 | 1.2023420  | \n",
       "| icd_chf1 | 0.6289103  | 0.44438155 | 0.8870409  | \n",
       "| icd_afib1 | 1.1314237  | 0.82972887 | 1.5414317  | \n",
       "| icd_renal1 | 1.2277848  | 0.80334312 | 1.8713213  | \n",
       "| icd_liver1 | 1.6663946  | 1.03656135 | 2.6829734  | \n",
       "| icd_copd1 | 1.4917572  | 1.01753121 | 2.1816618  | \n",
       "| icd_cad1 | 0.6899737  | 0.45141289 | 1.0431975  | \n",
       "| icd_stroke1 | 1.5799434  | 0.89167495 | 2.7606598  | \n",
       "| icd_malignancy1 | 1.4406599  | 1.02618794 | 2.0212467  | \n",
       "| vs_temp_first | 0.8965419  | 0.79811654 | 1.0008781  | \n",
       "| vs_map_first | 0.9908418  | 0.98357260 | 0.9979735  | \n",
       "| vs_cvp_first | 0.9967262  | 0.98899368 | 1.0032521  | \n",
       "| vs_heart_rate_first | 1.0070153  | 1.00027798 | 1.0138250  | \n",
       "| lab_hemoglobin_first | 0.9580153  | 0.89374775 | 1.0264733  | \n",
       "| lab_wbc_first | 0.9951785  | 0.98363900 | 1.0066419  | \n",
       "| lab_lactate_first | 1.1469116  | 1.06890028 | 1.2327708  | \n",
       "| lab_po2_first | 0.9989746  | 0.99756881 | 1.0003627  | \n",
       "| lab_troponin_flag1 | 1.3506933  | 0.92713829 | 1.9774354  | \n",
       "| lab_potassium_first | 1.1340673  | 0.97852763 | 1.3230101  | \n",
       "| lab_creatinine_kinase_flag1 | 0.9421835  | 0.64168289 | 1.3770347  | \n",
       "| lab_creatinine_first | 0.8047134  | 0.69468665 | 0.9241470  | \n",
       "| lab_pco2_first | 0.9993669  | 0.98032078 | 1.0189309  | \n",
       "| lab_bnp_flag1 | 1.8250648  | 0.93750749 | 3.4922372  | \n",
       "| lab_bicarbonate_first | 1.0433751  | 0.99125690 | 1.0980015  | \n",
       "| lab_bun_first | 1.0086175  | 1.00186182 | 1.0154999  | \n",
       "| lab_platelet_first | 1.0004325  | 0.99932861 | 1.0015303  | \n",
       "| lab_sodium_first | 0.9882428  | 0.94488292 | 1.0336960  | \n",
       "| lab_chloride_first | 0.9881756  | 0.94798614 | 1.0299148  | \n",
       "| lab_ph_first | 0.3312257  | 0.03330773 | 3.3923827  | \n",
       "| sedative1 | 0.8008845  | 0.53083895 | 1.2112821  | \n",
       "\n",
       "\n"
      ],
      "text/plain": [
       "                            OR           2.5 %        97.5 %      \n",
       "(Intercept)                 3917.2721313 0.0001096094 1.162089e+11\n",
       "echo1                          0.7417337 0.5537001114 9.931019e-01\n",
       "age                            1.0244215 1.0133309067 1.035883e+00\n",
       "gender1                        1.3023431 0.9828208020 1.727652e+00\n",
       "weight                         0.9919419 0.9857148521 9.980611e-01\n",
       "saps                           1.0653379 1.0286705483 1.103648e+00\n",
       "sofa                           1.1862842 1.1270799972 1.249862e+00\n",
       "elix_score                     1.0298355 1.0066711605 1.053518e+00\n",
       "vent1                          1.3961019 0.8261955832 2.360505e+00\n",
       "vaso1                          0.9921221 0.7025945135 1.402833e+00\n",
       "icu_adm_weekday1               0.9880809 0.5926042731 1.646331e+00\n",
       "icu_adm_weekday2               1.1454460 0.6960634075 1.887284e+00\n",
       "icu_adm_weekday3               1.4088157 0.8742856083 2.279716e+00\n",
       "icu_adm_weekday4               1.4121615 0.8746842320 2.288158e+00\n",
       "icu_adm_weekday5               1.1507541 0.7006104832 1.892025e+00\n",
       "icu_adm_weekday6               1.0023662 0.5978182137 1.679324e+00\n",
       "icu_adm_hour1                  1.0603316 0.4067114757 2.757946e+00\n",
       "icu_adm_hour2                  0.5338660 0.1870426224 1.471317e+00\n",
       "icu_adm_hour3                  0.9257684 0.3550717281 2.398909e+00\n",
       "icu_adm_hour4                  1.6165609 0.6354297639 4.124357e+00\n",
       "icu_adm_hour5                  1.0006889 0.3554524405 2.754255e+00\n",
       "icu_adm_hour6                  0.9983725 0.3203198951 3.029492e+00\n",
       "icu_adm_hour7                  0.3799668 0.0700390623 1.575494e+00\n",
       "icu_adm_hour8                  0.7370983 0.1648712609 2.819420e+00\n",
       "icu_adm_hour9                  1.9426709 0.7190178891 5.258644e+00\n",
       "icu_adm_hour10                 0.6624238 0.2119148621 1.966496e+00\n",
       "icu_adm_hour11                 0.9437201 0.3646276581 2.428535e+00\n",
       "icu_adm_hour12                 1.1651406 0.4751891508 2.854722e+00\n",
       "icu_adm_hour13                 1.8507105 0.7204659008 4.776015e+00\n",
       "icu_adm_hour14                 1.5656688 0.6591448376 3.743056e+00\n",
       "⋮                           ⋮            ⋮            ⋮           \n",
       "icu_adm_hour23              0.5029423    0.20968102   1.2023420   \n",
       "icd_chf1                    0.6289103    0.44438155   0.8870409   \n",
       "icd_afib1                   1.1314237    0.82972887   1.5414317   \n",
       "icd_renal1                  1.2277848    0.80334312   1.8713213   \n",
       "icd_liver1                  1.6663946    1.03656135   2.6829734   \n",
       "icd_copd1                   1.4917572    1.01753121   2.1816618   \n",
       "icd_cad1                    0.6899737    0.45141289   1.0431975   \n",
       "icd_stroke1                 1.5799434    0.89167495   2.7606598   \n",
       "icd_malignancy1             1.4406599    1.02618794   2.0212467   \n",
       "vs_temp_first               0.8965419    0.79811654   1.0008781   \n",
       "vs_map_first                0.9908418    0.98357260   0.9979735   \n",
       "vs_cvp_first                0.9967262    0.98899368   1.0032521   \n",
       "vs_heart_rate_first         1.0070153    1.00027798   1.0138250   \n",
       "lab_hemoglobin_first        0.9580153    0.89374775   1.0264733   \n",
       "lab_wbc_first               0.9951785    0.98363900   1.0066419   \n",
       "lab_lactate_first           1.1469116    1.06890028   1.2327708   \n",
       "lab_po2_first               0.9989746    0.99756881   1.0003627   \n",
       "lab_troponin_flag1          1.3506933    0.92713829   1.9774354   \n",
       "lab_potassium_first         1.1340673    0.97852763   1.3230101   \n",
       "lab_creatinine_kinase_flag1 0.9421835    0.64168289   1.3770347   \n",
       "lab_creatinine_first        0.8047134    0.69468665   0.9241470   \n",
       "lab_pco2_first              0.9993669    0.98032078   1.0189309   \n",
       "lab_bnp_flag1               1.8250648    0.93750749   3.4922372   \n",
       "lab_bicarbonate_first       1.0433751    0.99125690   1.0980015   \n",
       "lab_bun_first               1.0086175    1.00186182   1.0154999   \n",
       "lab_platelet_first          1.0004325    0.99932861   1.0015303   \n",
       "lab_sodium_first            0.9882428    0.94488292   1.0336960   \n",
       "lab_chloride_first          0.9881756    0.94798614   1.0299148   \n",
       "lab_ph_first                0.3312257    0.03330773   3.3923827   \n",
       "sedative1                   0.8008845    0.53083895   1.2112821   "
      ]
     },
     "metadata": {},
     "output_type": "display_data"
    }
   ],
   "source": [
    "unweighted <- glm(as.formula(fml), data = full_data, family = binomial, na.action = na.exclude)\n",
    "summary(unweighted)\n",
    "exp(cbind(OR = coef(unweighted), confint(unweighted)))"
   ]
  },
  {
   "cell_type": "code",
   "execution_count": 15,
   "metadata": {},
   "outputs": [
    {
     "data": {
      "text/html": [
       "'echo_int ~ age + gender + weight + saps + sofa + elix_score + vent + vaso + icu_adm_weekday + icu_adm_hour + icd_chf + icd_afib + icd_renal + icd_liver + icd_copd + icd_cad + icd_stroke + icd_malignancy + vs_temp_first + vs_map_first + vs_cvp_first + vs_heart_rate_first + lab_hemoglobin_first + lab_wbc_first + lab_lactate_first + lab_po2_first + lab_troponin_flag + lab_potassium_first + lab_creatinine_kinase_flag + lab_creatinine_first + lab_pco2_first + lab_bnp_flag + lab_bicarbonate_first + lab_bun_first + lab_platelet_first + lab_sodium_first + lab_chloride_first + lab_ph_first + sedative'"
      ],
      "text/latex": [
       "'echo\\_int \\textasciitilde{} age + gender + weight + saps + sofa + elix\\_score + vent + vaso + icu\\_adm\\_weekday + icu\\_adm\\_hour + icd\\_chf + icd\\_afib + icd\\_renal + icd\\_liver + icd\\_copd + icd\\_cad + icd\\_stroke + icd\\_malignancy + vs\\_temp\\_first + vs\\_map\\_first + vs\\_cvp\\_first + vs\\_heart\\_rate\\_first + lab\\_hemoglobin\\_first + lab\\_wbc\\_first + lab\\_lactate\\_first + lab\\_po2\\_first + lab\\_troponin\\_flag + lab\\_potassium\\_first + lab\\_creatinine\\_kinase\\_flag + lab\\_creatinine\\_first + lab\\_pco2\\_first + lab\\_bnp\\_flag + lab\\_bicarbonate\\_first + lab\\_bun\\_first + lab\\_platelet\\_first + lab\\_sodium\\_first + lab\\_chloride\\_first + lab\\_ph\\_first + sedative'"
      ],
      "text/markdown": [
       "'echo_int ~ age + gender + weight + saps + sofa + elix_score + vent + vaso + icu_adm_weekday + icu_adm_hour + icd_chf + icd_afib + icd_renal + icd_liver + icd_copd + icd_cad + icd_stroke + icd_malignancy + vs_temp_first + vs_map_first + vs_cvp_first + vs_heart_rate_first + lab_hemoglobin_first + lab_wbc_first + lab_lactate_first + lab_po2_first + lab_troponin_flag + lab_potassium_first + lab_creatinine_kinase_flag + lab_creatinine_first + lab_pco2_first + lab_bnp_flag + lab_bicarbonate_first + lab_bun_first + lab_platelet_first + lab_sodium_first + lab_chloride_first + lab_ph_first + sedative'"
      ],
      "text/plain": [
       "[1] \"echo_int ~ age + gender + weight + saps + sofa + elix_score + vent + vaso + icu_adm_weekday + icu_adm_hour + icd_chf + icd_afib + icd_renal + icd_liver + icd_copd + icd_cad + icd_stroke + icd_malignancy + vs_temp_first + vs_map_first + vs_cvp_first + vs_heart_rate_first + lab_hemoglobin_first + lab_wbc_first + lab_lactate_first + lab_po2_first + lab_troponin_flag + lab_potassium_first + lab_creatinine_kinase_flag + lab_creatinine_first + lab_pco2_first + lab_bnp_flag + lab_bicarbonate_first + lab_bun_first + lab_platelet_first + lab_sodium_first + lab_chloride_first + lab_ph_first + sedative\""
      ]
     },
     "metadata": {},
     "output_type": "display_data"
    }
   ],
   "source": [
    "fml <- feature_names %>%\n",
    "    paste(collapse = \" + \") %>%\n",
    "    sprintf(\"echo_int ~ %s\", .)\n",
    "fml"
   ]
  },
  {
   "cell_type": "code",
   "execution_count": 16,
   "metadata": {},
   "outputs": [],
   "source": [
    "echo_ps_ate <- ps(as.formula(fml),\n",
    "                  data = full_data,\n",
    "                  interaction.depth = 2,\n",
    "                  shrinkage = 0.01,\n",
    "                  perm.test.iters = 0,\n",
    "                  estimand = \"ATE\",\n",
    "                  verbose = FALSE,\n",
    "                  stop.method = c(\"es.mean\", \"es.max\", \"ks.mean\", \"ks.max\"),\n",
    "                  n.trees = 10000,\n",
    "                  train.fraction = 0.8,\n",
    "                  cv.folds = 3,\n",
    "                  n.cores = 8)"
   ]
  },
  {
   "cell_type": "code",
   "execution_count": 17,
   "metadata": {},
   "outputs": [
    {
     "data": {
      "text/html": [
       "0.822833542820313"
      ],
      "text/latex": [
       "0.822833542820313"
      ],
      "text/markdown": [
       "0.822833542820313"
      ],
      "text/plain": [
       "[1] 0.8228335"
      ]
     },
     "metadata": {},
     "output_type": "display_data"
    }
   ],
   "source": [
    "pred <- echo_ps_ate$ps$es.mean.ATE\n",
    "full_data <- full_data %>% mutate(ps = pred)\n",
    "ROCR::performance(ROCR::prediction(pred, label), \"auc\")@y.values %>% first"
   ]
  },
  {
   "cell_type": "code",
   "execution_count": 18,
   "metadata": {},
   "outputs": [],
   "source": [
    "ft_importance <- summary(echo_ps_ate$gbm.obj,\n",
    "                         n.trees = echo_ps_ate$desc$es.mean.ATE$n.trees,\n",
    "                         plot = FALSE)"
   ]
  },
  {
   "cell_type": "code",
   "execution_count": 19,
   "metadata": {},
   "outputs": [],
   "source": [
    "full_data <- full_data %>%\n",
    "    mutate(ps_weight = get.weights(echo_ps_ate, stop.method = \"es.mean\"))"
   ]
  },
  {
   "cell_type": "code",
   "execution_count": 20,
   "metadata": {},
   "outputs": [],
   "source": [
    "saveRDS(full_data, file = file.path(data_dir, \"full_data_ps.rds\"))"
   ]
  },
  {
   "cell_type": "code",
   "execution_count": 21,
   "metadata": {},
   "outputs": [],
   "source": [
    "saveRDS(ft_importance, file = file.path(data_dir, \"feature_importance.rds\"))"
   ]
  },
  {
   "cell_type": "code",
   "execution_count": 22,
   "metadata": {},
   "outputs": [
    {
     "name": "stderr",
     "output_type": "stream",
     "text": [
      "Warning message in eval(family$initialize):\n",
      "“non-integer #successes in a binomial glm!”"
     ]
    },
    {
     "data": {
      "text/plain": [
       "\n",
       "Call:\n",
       "glm(formula = mort_28_day ~ echo, family = binomial, data = full_data, \n",
       "    weights = full_data$ps_weight)\n",
       "\n",
       "Deviance Residuals: \n",
       "    Min       1Q   Median       3Q      Max  \n",
       "-2.2889  -1.0691  -0.9428   1.7193   4.6141  \n",
       "\n",
       "Coefficients:\n",
       "            Estimate Std. Error z value Pr(>|z|)    \n",
       "(Intercept) -0.89663    0.02956 -30.335  < 2e-16 ***\n",
       "echo1       -0.18030    0.04259  -4.233 2.31e-05 ***\n",
       "---\n",
       "Signif. codes:  0 ‘***’ 0.001 ‘**’ 0.01 ‘*’ 0.05 ‘.’ 0.1 ‘ ’ 1\n",
       "\n",
       "(Dispersion parameter for binomial family taken to be 1)\n",
       "\n",
       "    Null deviance: 13072  on 6161  degrees of freedom\n",
       "Residual deviance: 13054  on 6160  degrees of freedom\n",
       "AIC: 12688\n",
       "\n",
       "Number of Fisher Scoring iterations: 4\n"
      ]
     },
     "metadata": {},
     "output_type": "display_data"
    },
    {
     "name": "stderr",
     "output_type": "stream",
     "text": [
      "Waiting for profiling to be done...\n",
      "Warning message in eval(family$initialize):\n",
      "“non-integer #successes in a binomial glm!”Warning message in eval(family$initialize):\n",
      "“non-integer #successes in a binomial glm!”Warning message in eval(family$initialize):\n",
      "“non-integer #successes in a binomial glm!”Warning message in eval(family$initialize):\n",
      "“non-integer #successes in a binomial glm!”Warning message in eval(family$initialize):\n",
      "“non-integer #successes in a binomial glm!”Warning message in eval(family$initialize):\n",
      "“non-integer #successes in a binomial glm!”Warning message in eval(family$initialize):\n",
      "“non-integer #successes in a binomial glm!”Warning message in eval(family$initialize):\n",
      "“non-integer #successes in a binomial glm!”Warning message in eval(family$initialize):\n",
      "“non-integer #successes in a binomial glm!”Warning message in eval(family$initialize):\n",
      "“non-integer #successes in a binomial glm!”Warning message in eval(family$initialize):\n",
      "“non-integer #successes in a binomial glm!”Warning message in eval(family$initialize):\n",
      "“non-integer #successes in a binomial glm!”Warning message in eval(family$initialize):\n",
      "“non-integer #successes in a binomial glm!”Warning message in eval(family$initialize):\n",
      "“non-integer #successes in a binomial glm!”Warning message in eval(family$initialize):\n",
      "“non-integer #successes in a binomial glm!”Warning message in eval(family$initialize):\n",
      "“non-integer #successes in a binomial glm!”Warning message in eval(family$initialize):\n",
      "“non-integer #successes in a binomial glm!”Warning message in eval(family$initialize):\n",
      "“non-integer #successes in a binomial glm!”Warning message in eval(family$initialize):\n",
      "“non-integer #successes in a binomial glm!”Warning message in eval(family$initialize):\n",
      "“non-integer #successes in a binomial glm!”Warning message in eval(family$initialize):\n",
      "“non-integer #successes in a binomial glm!”Warning message in eval(family$initialize):\n",
      "“non-integer #successes in a binomial glm!”"
     ]
    },
    {
     "data": {
      "text/html": [
       "<table>\n",
       "<thead><tr><th></th><th scope=col>OR</th><th scope=col>2.5 %</th><th scope=col>97.5 %</th></tr></thead>\n",
       "<tbody>\n",
       "\t<tr><th scope=row>(Intercept)</th><td>0.4079409</td><td>0.3848867</td><td>0.4321723</td></tr>\n",
       "\t<tr><th scope=row>echo1</th><td>0.8350238</td><td>0.7681070</td><td>0.9076970</td></tr>\n",
       "</tbody>\n",
       "</table>\n"
      ],
      "text/latex": [
       "\\begin{tabular}{r|lll}\n",
       "  & OR & 2.5 \\% & 97.5 \\%\\\\\n",
       "\\hline\n",
       "\t(Intercept) & 0.4079409 & 0.3848867 & 0.4321723\\\\\n",
       "\techo1 & 0.8350238 & 0.7681070 & 0.9076970\\\\\n",
       "\\end{tabular}\n"
      ],
      "text/markdown": [
       "\n",
       "| <!--/--> | OR | 2.5 % | 97.5 % | \n",
       "|---|---|\n",
       "| (Intercept) | 0.4079409 | 0.3848867 | 0.4321723 | \n",
       "| echo1 | 0.8350238 | 0.7681070 | 0.9076970 | \n",
       "\n",
       "\n"
      ],
      "text/plain": [
       "            OR        2.5 %     97.5 %   \n",
       "(Intercept) 0.4079409 0.3848867 0.4321723\n",
       "echo1       0.8350238 0.7681070 0.9076970"
      ]
     },
     "metadata": {},
     "output_type": "display_data"
    }
   ],
   "source": [
    "primary_ipw <- glm(mort_28_day ~ echo, data = full_data,\n",
    "                   weights = full_data$ps_weight, family = binomial)\n",
    "summary(primary_ipw)\n",
    "exp(cbind(OR = coef(primary_ipw), confint(primary_ipw)))"
   ]
  },
  {
   "cell_type": "code",
   "execution_count": 23,
   "metadata": {},
   "outputs": [],
   "source": [
    "design_echo_ps_ate <- svydesign(ids = ~ icustay_id, weights = ~ ps_weight, data = full_data)\n",
    "# design_echo_ps_ate <- svydesign(ids = ~ icustay_id, data = full_data)"
   ]
  },
  {
   "cell_type": "code",
   "execution_count": 24,
   "metadata": {},
   "outputs": [
    {
     "data": {
      "text/html": [
       "'mort_28_day ~ echo + age + gender + weight + saps + sofa + elix_score + vent + vaso + icu_adm_weekday + icu_adm_hour + icd_chf + icd_afib + icd_renal + icd_liver + icd_copd + icd_cad + icd_stroke + icd_malignancy + vs_temp_first + vs_map_first + vs_cvp_first + vs_heart_rate_first + lab_hemoglobin_first + lab_wbc_first + lab_lactate_first + lab_po2_first + lab_troponin_flag + lab_potassium_first + lab_creatinine_kinase_flag + lab_creatinine_first + lab_pco2_first + lab_bnp_flag + lab_bicarbonate_first + lab_bun_first + lab_platelet_first + lab_sodium_first + lab_chloride_first + lab_ph_first + sedative'"
      ],
      "text/latex": [
       "'mort\\_28\\_day \\textasciitilde{} echo + age + gender + weight + saps + sofa + elix\\_score + vent + vaso + icu\\_adm\\_weekday + icu\\_adm\\_hour + icd\\_chf + icd\\_afib + icd\\_renal + icd\\_liver + icd\\_copd + icd\\_cad + icd\\_stroke + icd\\_malignancy + vs\\_temp\\_first + vs\\_map\\_first + vs\\_cvp\\_first + vs\\_heart\\_rate\\_first + lab\\_hemoglobin\\_first + lab\\_wbc\\_first + lab\\_lactate\\_first + lab\\_po2\\_first + lab\\_troponin\\_flag + lab\\_potassium\\_first + lab\\_creatinine\\_kinase\\_flag + lab\\_creatinine\\_first + lab\\_pco2\\_first + lab\\_bnp\\_flag + lab\\_bicarbonate\\_first + lab\\_bun\\_first + lab\\_platelet\\_first + lab\\_sodium\\_first + lab\\_chloride\\_first + lab\\_ph\\_first + sedative'"
      ],
      "text/markdown": [
       "'mort_28_day ~ echo + age + gender + weight + saps + sofa + elix_score + vent + vaso + icu_adm_weekday + icu_adm_hour + icd_chf + icd_afib + icd_renal + icd_liver + icd_copd + icd_cad + icd_stroke + icd_malignancy + vs_temp_first + vs_map_first + vs_cvp_first + vs_heart_rate_first + lab_hemoglobin_first + lab_wbc_first + lab_lactate_first + lab_po2_first + lab_troponin_flag + lab_potassium_first + lab_creatinine_kinase_flag + lab_creatinine_first + lab_pco2_first + lab_bnp_flag + lab_bicarbonate_first + lab_bun_first + lab_platelet_first + lab_sodium_first + lab_chloride_first + lab_ph_first + sedative'"
      ],
      "text/plain": [
       "[1] \"mort_28_day ~ echo + age + gender + weight + saps + sofa + elix_score + vent + vaso + icu_adm_weekday + icu_adm_hour + icd_chf + icd_afib + icd_renal + icd_liver + icd_copd + icd_cad + icd_stroke + icd_malignancy + vs_temp_first + vs_map_first + vs_cvp_first + vs_heart_rate_first + lab_hemoglobin_first + lab_wbc_first + lab_lactate_first + lab_po2_first + lab_troponin_flag + lab_potassium_first + lab_creatinine_kinase_flag + lab_creatinine_first + lab_pco2_first + lab_bnp_flag + lab_bicarbonate_first + lab_bun_first + lab_platelet_first + lab_sodium_first + lab_chloride_first + lab_ph_first + sedative\""
      ]
     },
     "metadata": {},
     "output_type": "display_data"
    }
   ],
   "source": [
    "fml <- feature_names %>%\n",
    "    c(label_name, .) %>%\n",
    "    paste(collapse = \" + \") %>%\n",
    "    sprintf(\"mort_28_day ~ %s\", .)\n",
    "fml"
   ]
  },
  {
   "cell_type": "code",
   "execution_count": 25,
   "metadata": {},
   "outputs": [],
   "source": [
    "logi <- svyglm(as.formula(fml),\n",
    "               family = quasibinomial,\n",
    "               design = design_echo_ps_ate)"
   ]
  },
  {
   "cell_type": "code",
   "execution_count": 26,
   "metadata": {},
   "outputs": [
    {
     "data": {
      "text/plain": [
       "\n",
       "Call:\n",
       "svyglm(formula = as.formula(fml), family = quasibinomial, design = design_echo_ps_ate)\n",
       "\n",
       "Survey design:\n",
       "svydesign(ids = ~icustay_id, weights = ~ps_weight, data = full_data)\n",
       "\n",
       "Coefficients:\n",
       "                              Estimate Std. Error t value Pr(>|t|)    \n",
       "(Intercept)                 13.0277014  9.2480994   1.409 0.159139    \n",
       "echo1                       -0.3358510  0.1519932  -2.210 0.027284 *  \n",
       "age                          0.0240723  0.0062279   3.865 0.000116 ***\n",
       "gender1                      0.2022247  0.1568407   1.289 0.197475    \n",
       "weight                      -0.0097747  0.0034972  -2.795 0.005257 ** \n",
       "saps                         0.0544894  0.0193176   2.821 0.004856 ** \n",
       "sofa                         0.1924874  0.0273976   7.026 3.25e-12 ***\n",
       "elix_score                   0.0255830  0.0123188   2.077 0.037999 *  \n",
       "vent1                        0.5547693  0.2896602   1.915 0.055656 .  \n",
       "vaso1                       -0.0448572  0.1860674  -0.241 0.809526    \n",
       "icu_adm_weekday1            -0.0927353  0.2733629  -0.339 0.734478    \n",
       "icu_adm_weekday2             0.1087488  0.2700962   0.403 0.687279    \n",
       "icu_adm_weekday3             0.3691525  0.2586895   1.427 0.153790    \n",
       "icu_adm_weekday4             0.4424220  0.2593420   1.706 0.088231 .  \n",
       "icu_adm_weekday5             0.0848563  0.2774653   0.306 0.759780    \n",
       "icu_adm_weekday6            -0.0400611  0.2801216  -0.143 0.886299    \n",
       "icu_adm_hour1                0.2735519  0.4971251   0.550 0.582220    \n",
       "icu_adm_hour2               -0.7598321  0.5108390  -1.487 0.137119    \n",
       "icu_adm_hour3               -0.2605003  0.5021624  -0.519 0.604008    \n",
       "icu_adm_hour4                0.4044397  0.5006979   0.808 0.419364    \n",
       "icu_adm_hour5               -0.1487535  0.5967540  -0.249 0.803186    \n",
       "icu_adm_hour6               -0.0597565  0.6032250  -0.099 0.921103    \n",
       "icu_adm_hour7               -1.0390180  0.8079256  -1.286 0.198635    \n",
       "icu_adm_hour8               -0.2356668  0.6476601  -0.364 0.716004    \n",
       "icu_adm_hour9                0.6347858  0.4943103   1.284 0.199280    \n",
       "icu_adm_hour10              -0.5886568  0.5485609  -1.073 0.283406    \n",
       "icu_adm_hour11               0.1063657  0.4917018   0.216 0.828767    \n",
       "icu_adm_hour12               0.5645223  0.4481543   1.260 0.207992    \n",
       "icu_adm_hour13               0.6079089  0.4815313   1.262 0.206988    \n",
       "icu_adm_hour14               0.4384163  0.4390593   0.999 0.318185    \n",
       "icu_adm_hour15               0.3836140  0.4043622   0.949 0.342935    \n",
       "icu_adm_hour16               0.1355034  0.4274423   0.317 0.751281    \n",
       "icu_adm_hour17               0.0127094  0.4374912   0.029 0.976828    \n",
       "icu_adm_hour18              -0.0422814  0.4185620  -0.101 0.919552    \n",
       "icu_adm_hour19               0.2341394  0.4108266   0.570 0.568817    \n",
       "icu_adm_hour20               0.6775222  0.3902896   1.736 0.082783 .  \n",
       "icu_adm_hour21               0.4920185  0.3904450   1.260 0.207816    \n",
       "icu_adm_hour22               0.4772957  0.3794618   1.258 0.208656    \n",
       "icu_adm_hour23              -0.3961354  0.4575629  -0.866 0.386769    \n",
       "icd_chf1                    -0.4346222  0.1940506  -2.240 0.025257 *  \n",
       "icd_afib1                    0.2587672  0.1749693   1.479 0.139374    \n",
       "icd_renal1                   0.1241395  0.2314576   0.536 0.591806    \n",
       "icd_liver1                   0.5341654  0.2491747   2.144 0.032218 *  \n",
       "icd_copd1                    0.2066820  0.2072850   0.997 0.318885    \n",
       "icd_cad1                    -0.3992656  0.2317131  -1.723 0.085081 .  \n",
       "icd_stroke1                  0.5969820  0.3485045   1.713 0.086927 .  \n",
       "icd_malignancy1              0.4440129  0.1786516   2.485 0.013053 *  \n",
       "vs_temp_first               -0.0549709  0.0665603  -0.826 0.409006    \n",
       "vs_map_first                -0.0072217  0.0042001  -1.719 0.085746 .  \n",
       "vs_cvp_first                -0.0057020  0.0039306  -1.451 0.147082    \n",
       "vs_heart_rate_first          0.0069218  0.0035594   1.945 0.052003 .  \n",
       "lab_hemoglobin_first        -0.0635513  0.0363299  -1.749 0.080451 .  \n",
       "lab_wbc_first               -0.0034869  0.0056761  -0.614 0.539105    \n",
       "lab_lactate_first            0.1329262  0.0383889   3.463 0.000550 ***\n",
       "lab_po2_first               -0.0012528  0.0008022  -1.562 0.118580    \n",
       "lab_troponin_flag1           0.3032685  0.2080746   1.457 0.145193    \n",
       "lab_potassium_first          0.1643375  0.0953296   1.724 0.084939 .  \n",
       "lab_creatinine_kinase_flag1 -0.0623007  0.2047178  -0.304 0.760923    \n",
       "lab_creatinine_first        -0.2411186  0.0868018  -2.778 0.005542 ** \n",
       "lab_pco2_first              -0.0056702  0.0098632  -0.575 0.565459    \n",
       "lab_bnp_flag1                0.8933297  0.3424399   2.609 0.009181 ** \n",
       "lab_bicarbonate_first        0.0538596  0.0275783   1.953 0.051014 .  \n",
       "lab_bun_first                0.0096517  0.0041003   2.354 0.018709 *  \n",
       "lab_platelet_first           0.0005420  0.0005978   0.907 0.364810    \n",
       "lab_sodium_first            -0.0048184  0.0264323  -0.182 0.855378    \n",
       "lab_chloride_first          -0.0160768  0.0240465  -0.669 0.503875    \n",
       "lab_ph_first                -2.0888484  1.2385524  -1.687 0.091908 .  \n",
       "sedative1                   -0.3133180  0.2325739  -1.347 0.178132    \n",
       "---\n",
       "Signif. codes:  0 ‘***’ 0.001 ‘**’ 0.01 ‘*’ 0.05 ‘.’ 0.1 ‘ ’ 1\n",
       "\n",
       "(Dispersion parameter for quasibinomial family taken to be 1.025822)\n",
       "\n",
       "Number of Fisher Scoring iterations: 5\n"
      ]
     },
     "metadata": {},
     "output_type": "display_data"
    }
   ],
   "source": [
    "summary(logi)"
   ]
  },
  {
   "cell_type": "code",
   "execution_count": 27,
   "metadata": {},
   "outputs": [
    {
     "data": {
      "text/html": [
       "<table>\n",
       "<thead><tr><th></th><th scope=col>OR</th><th scope=col>2.5 %</th><th scope=col>97.5 %</th></tr></thead>\n",
       "<tbody>\n",
       "\t<tr><th scope=row>(Intercept)</th><td>4.548402e+05</td><td>0.006107484 </td><td>3.387313e+13</td></tr>\n",
       "\t<tr><th scope=row>echo1</th><td>7.147296e-01</td><td>0.530597121 </td><td>9.627613e-01</td></tr>\n",
       "\t<tr><th scope=row>age</th><td>1.024364e+00</td><td>1.011936442 </td><td>1.036945e+00</td></tr>\n",
       "\t<tr><th scope=row>gender1</th><td>1.224123e+00</td><td>0.900164795 </td><td>1.664670e+00</td></tr>\n",
       "\t<tr><th scope=row>weight</th><td>9.902730e-01</td><td>0.983508516 </td><td>9.970839e-01</td></tr>\n",
       "\t<tr><th scope=row>saps</th><td>1.056001e+00</td><td>1.016766673 </td><td>1.096750e+00</td></tr>\n",
       "\t<tr><th scope=row>sofa</th><td>1.212261e+00</td><td>1.148881787 </td><td>1.279137e+00</td></tr>\n",
       "\t<tr><th scope=row>elix_score</th><td>1.025913e+00</td><td>1.001439622 </td><td>1.050985e+00</td></tr>\n",
       "\t<tr><th scope=row>vent1</th><td>1.741539e+00</td><td>0.987129314 </td><td>3.072504e+00</td></tr>\n",
       "\t<tr><th scope=row>vaso1</th><td>9.561340e-01</td><td>0.663953880 </td><td>1.376891e+00</td></tr>\n",
       "\t<tr><th scope=row>icu_adm_weekday1</th><td>9.114347e-01</td><td>0.533382400 </td><td>1.557444e+00</td></tr>\n",
       "\t<tr><th scope=row>icu_adm_weekday2</th><td>1.114882e+00</td><td>0.656633007 </td><td>1.892933e+00</td></tr>\n",
       "\t<tr><th scope=row>icu_adm_weekday3</th><td>1.446508e+00</td><td>0.871212219 </td><td>2.401695e+00</td></tr>\n",
       "\t<tr><th scope=row>icu_adm_weekday4</th><td>1.556472e+00</td><td>0.936244070 </td><td>2.587580e+00</td></tr>\n",
       "\t<tr><th scope=row>icu_adm_weekday5</th><td>1.088561e+00</td><td>0.631936952 </td><td>1.875130e+00</td></tr>\n",
       "\t<tr><th scope=row>icu_adm_weekday6</th><td>9.607307e-01</td><td>0.554832254 </td><td>1.663572e+00</td></tr>\n",
       "\t<tr><th scope=row>icu_adm_hour1</th><td>1.314626e+00</td><td>0.496190437 </td><td>3.483018e+00</td></tr>\n",
       "\t<tr><th scope=row>icu_adm_hour2</th><td>4.677449e-01</td><td>0.171862909 </td><td>1.273022e+00</td></tr>\n",
       "\t<tr><th scope=row>icu_adm_hour3</th><td>7.706660e-01</td><td>0.288021425 </td><td>2.062090e+00</td></tr>\n",
       "\t<tr><th scope=row>icu_adm_hour4</th><td>1.498463e+00</td><td>0.561631029 </td><td>3.997982e+00</td></tr>\n",
       "\t<tr><th scope=row>icu_adm_hour5</th><td>8.617816e-01</td><td>0.267571113 </td><td>2.775589e+00</td></tr>\n",
       "\t<tr><th scope=row>icu_adm_hour6</th><td>9.419939e-01</td><td>0.288789948 </td><td>3.072657e+00</td></tr>\n",
       "\t<tr><th scope=row>icu_adm_hour7</th><td>3.538019e-01</td><td>0.072619406 </td><td>1.723724e+00</td></tr>\n",
       "\t<tr><th scope=row>icu_adm_hour8</th><td>7.900438e-01</td><td>0.222004562 </td><td>2.811516e+00</td></tr>\n",
       "\t<tr><th scope=row>icu_adm_hour9</th><td>1.886618e+00</td><td>0.716021774 </td><td>4.970976e+00</td></tr>\n",
       "\t<tr><th scope=row>icu_adm_hour10</th><td>5.550723e-01</td><td>0.189414712 </td><td>1.626618e+00</td></tr>\n",
       "\t<tr><th scope=row>icu_adm_hour11</th><td>1.112229e+00</td><td>0.424284064 </td><td>2.915623e+00</td></tr>\n",
       "\t<tr><th scope=row>icu_adm_hour12</th><td>1.758608e+00</td><td>0.730633058 </td><td>4.232905e+00</td></tr>\n",
       "\t<tr><th scope=row>icu_adm_hour13</th><td>1.836587e+00</td><td>0.714712362 </td><td>4.719453e+00</td></tr>\n",
       "\t<tr><th scope=row>icu_adm_hour14</th><td>1.550250e+00</td><td>0.655652626 </td><td>3.665471e+00</td></tr>\n",
       "\t<tr><th scope=row>⋮</th><td>⋮</td><td>⋮</td><td>⋮</td></tr>\n",
       "\t<tr><th scope=row>icu_adm_hour23</th><td>0.6729156 </td><td>0.27446210</td><td>1.6498285 </td></tr>\n",
       "\t<tr><th scope=row>icd_chf1</th><td>0.6475093 </td><td>0.44265956</td><td>0.9471574 </td></tr>\n",
       "\t<tr><th scope=row>icd_afib1</th><td>1.2953322 </td><td>0.91927827</td><td>1.8252205 </td></tr>\n",
       "\t<tr><th scope=row>icd_renal1</th><td>1.1321738 </td><td>0.71927675</td><td>1.7820924 </td></tr>\n",
       "\t<tr><th scope=row>icd_liver1</th><td>1.7060237 </td><td>1.04685663</td><td>2.7802441 </td></tr>\n",
       "\t<tr><th scope=row>icd_copd1</th><td>1.2295914 </td><td>0.81906717</td><td>1.8458744 </td></tr>\n",
       "\t<tr><th scope=row>icd_cad1</th><td>0.6708125 </td><td>0.42595784</td><td>1.0564178 </td></tr>\n",
       "\t<tr><th scope=row>icd_stroke1</th><td>1.8166279 </td><td>0.91752609</td><td>3.5967772 </td></tr>\n",
       "\t<tr><th scope=row>icd_malignancy1</th><td>1.5589506 </td><td>1.09840842</td><td>2.2125894 </td></tr>\n",
       "\t<tr><th scope=row>vs_temp_first</th><td>0.9465127 </td><td>0.83074978</td><td>1.0784070 </td></tr>\n",
       "\t<tr><th scope=row>vs_map_first</th><td>0.9928043 </td><td>0.98466511</td><td>1.0010108 </td></tr>\n",
       "\t<tr><th scope=row>vs_cvp_first</th><td>0.9943142 </td><td>0.98668370</td><td>1.0020038 </td></tr>\n",
       "\t<tr><th scope=row>vs_heart_rate_first</th><td>1.0069458 </td><td>0.99994563</td><td>1.0139951 </td></tr>\n",
       "\t<tr><th scope=row>lab_hemoglobin_first</th><td>0.9384260 </td><td>0.87392865</td><td>1.0076834 </td></tr>\n",
       "\t<tr><th scope=row>lab_wbc_first</th><td>0.9965192 </td><td>0.98549443</td><td>1.0076673 </td></tr>\n",
       "\t<tr><th scope=row>lab_lactate_first</th><td>1.1421657 </td><td>1.05938153</td><td>1.2314189 </td></tr>\n",
       "\t<tr><th scope=row>lab_po2_first</th><td>0.9987480 </td><td>0.99717881</td><td>1.0003196 </td></tr>\n",
       "\t<tr><th scope=row>lab_troponin_flag1</th><td>1.3542781 </td><td>0.90072963</td><td>2.0362039 </td></tr>\n",
       "\t<tr><th scope=row>lab_potassium_first</th><td>1.1786120 </td><td>0.97774621</td><td>1.4207431 </td></tr>\n",
       "\t<tr><th scope=row>lab_creatinine_kinase_flag1</th><td>0.9396003 </td><td>0.62905275</td><td>1.4034573 </td></tr>\n",
       "\t<tr><th scope=row>lab_creatinine_first</th><td>0.7857484 </td><td>0.66282318</td><td>0.9314711 </td></tr>\n",
       "\t<tr><th scope=row>lab_pco2_first</th><td>0.9943458 </td><td>0.97530820</td><td>1.0137551 </td></tr>\n",
       "\t<tr><th scope=row>lab_bnp_flag1</th><td>2.4432513 </td><td>1.24877085</td><td>4.7802822 </td></tr>\n",
       "\t<tr><th scope=row>lab_bicarbonate_first</th><td>1.0553364 </td><td>0.99980705</td><td>1.1139498 </td></tr>\n",
       "\t<tr><th scope=row>lab_bun_first</th><td>1.0096985 </td><td>1.00161655</td><td>1.0178456 </td></tr>\n",
       "\t<tr><th scope=row>lab_platelet_first</th><td>1.0005421 </td><td>0.99937041</td><td>1.0017152 </td></tr>\n",
       "\t<tr><th scope=row>lab_sodium_first</th><td>0.9951932 </td><td>0.94494859</td><td>1.0481093 </td></tr>\n",
       "\t<tr><th scope=row>lab_chloride_first</th><td>0.9840518 </td><td>0.93874899</td><td>1.0315408 </td></tr>\n",
       "\t<tr><th scope=row>lab_ph_first</th><td>0.1238297 </td><td>0.01092866</td><td>1.4030798 </td></tr>\n",
       "\t<tr><th scope=row>sedative1</th><td>0.7310174 </td><td>0.46340471</td><td>1.1531745 </td></tr>\n",
       "</tbody>\n",
       "</table>\n"
      ],
      "text/latex": [
       "\\begin{tabular}{r|lll}\n",
       "  & OR & 2.5 \\% & 97.5 \\%\\\\\n",
       "\\hline\n",
       "\t(Intercept) & 4.548402e+05 & 0.006107484  & 3.387313e+13\\\\\n",
       "\techo1 & 7.147296e-01 & 0.530597121  & 9.627613e-01\\\\\n",
       "\tage & 1.024364e+00 & 1.011936442  & 1.036945e+00\\\\\n",
       "\tgender1 & 1.224123e+00 & 0.900164795  & 1.664670e+00\\\\\n",
       "\tweight & 9.902730e-01 & 0.983508516  & 9.970839e-01\\\\\n",
       "\tsaps & 1.056001e+00 & 1.016766673  & 1.096750e+00\\\\\n",
       "\tsofa & 1.212261e+00 & 1.148881787  & 1.279137e+00\\\\\n",
       "\telix\\_score & 1.025913e+00 & 1.001439622  & 1.050985e+00\\\\\n",
       "\tvent1 & 1.741539e+00 & 0.987129314  & 3.072504e+00\\\\\n",
       "\tvaso1 & 9.561340e-01 & 0.663953880  & 1.376891e+00\\\\\n",
       "\ticu\\_adm\\_weekday1 & 9.114347e-01 & 0.533382400  & 1.557444e+00\\\\\n",
       "\ticu\\_adm\\_weekday2 & 1.114882e+00 & 0.656633007  & 1.892933e+00\\\\\n",
       "\ticu\\_adm\\_weekday3 & 1.446508e+00 & 0.871212219  & 2.401695e+00\\\\\n",
       "\ticu\\_adm\\_weekday4 & 1.556472e+00 & 0.936244070  & 2.587580e+00\\\\\n",
       "\ticu\\_adm\\_weekday5 & 1.088561e+00 & 0.631936952  & 1.875130e+00\\\\\n",
       "\ticu\\_adm\\_weekday6 & 9.607307e-01 & 0.554832254  & 1.663572e+00\\\\\n",
       "\ticu\\_adm\\_hour1 & 1.314626e+00 & 0.496190437  & 3.483018e+00\\\\\n",
       "\ticu\\_adm\\_hour2 & 4.677449e-01 & 0.171862909  & 1.273022e+00\\\\\n",
       "\ticu\\_adm\\_hour3 & 7.706660e-01 & 0.288021425  & 2.062090e+00\\\\\n",
       "\ticu\\_adm\\_hour4 & 1.498463e+00 & 0.561631029  & 3.997982e+00\\\\\n",
       "\ticu\\_adm\\_hour5 & 8.617816e-01 & 0.267571113  & 2.775589e+00\\\\\n",
       "\ticu\\_adm\\_hour6 & 9.419939e-01 & 0.288789948  & 3.072657e+00\\\\\n",
       "\ticu\\_adm\\_hour7 & 3.538019e-01 & 0.072619406  & 1.723724e+00\\\\\n",
       "\ticu\\_adm\\_hour8 & 7.900438e-01 & 0.222004562  & 2.811516e+00\\\\\n",
       "\ticu\\_adm\\_hour9 & 1.886618e+00 & 0.716021774  & 4.970976e+00\\\\\n",
       "\ticu\\_adm\\_hour10 & 5.550723e-01 & 0.189414712  & 1.626618e+00\\\\\n",
       "\ticu\\_adm\\_hour11 & 1.112229e+00 & 0.424284064  & 2.915623e+00\\\\\n",
       "\ticu\\_adm\\_hour12 & 1.758608e+00 & 0.730633058  & 4.232905e+00\\\\\n",
       "\ticu\\_adm\\_hour13 & 1.836587e+00 & 0.714712362  & 4.719453e+00\\\\\n",
       "\ticu\\_adm\\_hour14 & 1.550250e+00 & 0.655652626  & 3.665471e+00\\\\\n",
       "\t⋮ & ⋮ & ⋮ & ⋮\\\\\n",
       "\ticu\\_adm\\_hour23 & 0.6729156  & 0.27446210 & 1.6498285 \\\\\n",
       "\ticd\\_chf1 & 0.6475093  & 0.44265956 & 0.9471574 \\\\\n",
       "\ticd\\_afib1 & 1.2953322  & 0.91927827 & 1.8252205 \\\\\n",
       "\ticd\\_renal1 & 1.1321738  & 0.71927675 & 1.7820924 \\\\\n",
       "\ticd\\_liver1 & 1.7060237  & 1.04685663 & 2.7802441 \\\\\n",
       "\ticd\\_copd1 & 1.2295914  & 0.81906717 & 1.8458744 \\\\\n",
       "\ticd\\_cad1 & 0.6708125  & 0.42595784 & 1.0564178 \\\\\n",
       "\ticd\\_stroke1 & 1.8166279  & 0.91752609 & 3.5967772 \\\\\n",
       "\ticd\\_malignancy1 & 1.5589506  & 1.09840842 & 2.2125894 \\\\\n",
       "\tvs\\_temp\\_first & 0.9465127  & 0.83074978 & 1.0784070 \\\\\n",
       "\tvs\\_map\\_first & 0.9928043  & 0.98466511 & 1.0010108 \\\\\n",
       "\tvs\\_cvp\\_first & 0.9943142  & 0.98668370 & 1.0020038 \\\\\n",
       "\tvs\\_heart\\_rate\\_first & 1.0069458  & 0.99994563 & 1.0139951 \\\\\n",
       "\tlab\\_hemoglobin\\_first & 0.9384260  & 0.87392865 & 1.0076834 \\\\\n",
       "\tlab\\_wbc\\_first & 0.9965192  & 0.98549443 & 1.0076673 \\\\\n",
       "\tlab\\_lactate\\_first & 1.1421657  & 1.05938153 & 1.2314189 \\\\\n",
       "\tlab\\_po2\\_first & 0.9987480  & 0.99717881 & 1.0003196 \\\\\n",
       "\tlab\\_troponin\\_flag1 & 1.3542781  & 0.90072963 & 2.0362039 \\\\\n",
       "\tlab\\_potassium\\_first & 1.1786120  & 0.97774621 & 1.4207431 \\\\\n",
       "\tlab\\_creatinine\\_kinase\\_flag1 & 0.9396003  & 0.62905275 & 1.4034573 \\\\\n",
       "\tlab\\_creatinine\\_first & 0.7857484  & 0.66282318 & 0.9314711 \\\\\n",
       "\tlab\\_pco2\\_first & 0.9943458  & 0.97530820 & 1.0137551 \\\\\n",
       "\tlab\\_bnp\\_flag1 & 2.4432513  & 1.24877085 & 4.7802822 \\\\\n",
       "\tlab\\_bicarbonate\\_first & 1.0553364  & 0.99980705 & 1.1139498 \\\\\n",
       "\tlab\\_bun\\_first & 1.0096985  & 1.00161655 & 1.0178456 \\\\\n",
       "\tlab\\_platelet\\_first & 1.0005421  & 0.99937041 & 1.0017152 \\\\\n",
       "\tlab\\_sodium\\_first & 0.9951932  & 0.94494859 & 1.0481093 \\\\\n",
       "\tlab\\_chloride\\_first & 0.9840518  & 0.93874899 & 1.0315408 \\\\\n",
       "\tlab\\_ph\\_first & 0.1238297  & 0.01092866 & 1.4030798 \\\\\n",
       "\tsedative1 & 0.7310174  & 0.46340471 & 1.1531745 \\\\\n",
       "\\end{tabular}\n"
      ],
      "text/markdown": [
       "\n",
       "| <!--/--> | OR | 2.5 % | 97.5 % | \n",
       "|---|---|---|---|---|---|---|---|---|---|---|---|---|---|---|---|---|---|---|---|---|---|---|---|---|---|---|---|---|---|---|---|---|---|---|---|---|---|---|---|---|---|---|---|---|---|---|---|---|---|---|---|---|---|---|---|---|---|---|---|---|\n",
       "| (Intercept) | 4.548402e+05 | 0.006107484  | 3.387313e+13 | \n",
       "| echo1 | 7.147296e-01 | 0.530597121  | 9.627613e-01 | \n",
       "| age | 1.024364e+00 | 1.011936442  | 1.036945e+00 | \n",
       "| gender1 | 1.224123e+00 | 0.900164795  | 1.664670e+00 | \n",
       "| weight | 9.902730e-01 | 0.983508516  | 9.970839e-01 | \n",
       "| saps | 1.056001e+00 | 1.016766673  | 1.096750e+00 | \n",
       "| sofa | 1.212261e+00 | 1.148881787  | 1.279137e+00 | \n",
       "| elix_score | 1.025913e+00 | 1.001439622  | 1.050985e+00 | \n",
       "| vent1 | 1.741539e+00 | 0.987129314  | 3.072504e+00 | \n",
       "| vaso1 | 9.561340e-01 | 0.663953880  | 1.376891e+00 | \n",
       "| icu_adm_weekday1 | 9.114347e-01 | 0.533382400  | 1.557444e+00 | \n",
       "| icu_adm_weekday2 | 1.114882e+00 | 0.656633007  | 1.892933e+00 | \n",
       "| icu_adm_weekday3 | 1.446508e+00 | 0.871212219  | 2.401695e+00 | \n",
       "| icu_adm_weekday4 | 1.556472e+00 | 0.936244070  | 2.587580e+00 | \n",
       "| icu_adm_weekday5 | 1.088561e+00 | 0.631936952  | 1.875130e+00 | \n",
       "| icu_adm_weekday6 | 9.607307e-01 | 0.554832254  | 1.663572e+00 | \n",
       "| icu_adm_hour1 | 1.314626e+00 | 0.496190437  | 3.483018e+00 | \n",
       "| icu_adm_hour2 | 4.677449e-01 | 0.171862909  | 1.273022e+00 | \n",
       "| icu_adm_hour3 | 7.706660e-01 | 0.288021425  | 2.062090e+00 | \n",
       "| icu_adm_hour4 | 1.498463e+00 | 0.561631029  | 3.997982e+00 | \n",
       "| icu_adm_hour5 | 8.617816e-01 | 0.267571113  | 2.775589e+00 | \n",
       "| icu_adm_hour6 | 9.419939e-01 | 0.288789948  | 3.072657e+00 | \n",
       "| icu_adm_hour7 | 3.538019e-01 | 0.072619406  | 1.723724e+00 | \n",
       "| icu_adm_hour8 | 7.900438e-01 | 0.222004562  | 2.811516e+00 | \n",
       "| icu_adm_hour9 | 1.886618e+00 | 0.716021774  | 4.970976e+00 | \n",
       "| icu_adm_hour10 | 5.550723e-01 | 0.189414712  | 1.626618e+00 | \n",
       "| icu_adm_hour11 | 1.112229e+00 | 0.424284064  | 2.915623e+00 | \n",
       "| icu_adm_hour12 | 1.758608e+00 | 0.730633058  | 4.232905e+00 | \n",
       "| icu_adm_hour13 | 1.836587e+00 | 0.714712362  | 4.719453e+00 | \n",
       "| icu_adm_hour14 | 1.550250e+00 | 0.655652626  | 3.665471e+00 | \n",
       "| ⋮ | ⋮ | ⋮ | ⋮ | \n",
       "| icu_adm_hour23 | 0.6729156  | 0.27446210 | 1.6498285  | \n",
       "| icd_chf1 | 0.6475093  | 0.44265956 | 0.9471574  | \n",
       "| icd_afib1 | 1.2953322  | 0.91927827 | 1.8252205  | \n",
       "| icd_renal1 | 1.1321738  | 0.71927675 | 1.7820924  | \n",
       "| icd_liver1 | 1.7060237  | 1.04685663 | 2.7802441  | \n",
       "| icd_copd1 | 1.2295914  | 0.81906717 | 1.8458744  | \n",
       "| icd_cad1 | 0.6708125  | 0.42595784 | 1.0564178  | \n",
       "| icd_stroke1 | 1.8166279  | 0.91752609 | 3.5967772  | \n",
       "| icd_malignancy1 | 1.5589506  | 1.09840842 | 2.2125894  | \n",
       "| vs_temp_first | 0.9465127  | 0.83074978 | 1.0784070  | \n",
       "| vs_map_first | 0.9928043  | 0.98466511 | 1.0010108  | \n",
       "| vs_cvp_first | 0.9943142  | 0.98668370 | 1.0020038  | \n",
       "| vs_heart_rate_first | 1.0069458  | 0.99994563 | 1.0139951  | \n",
       "| lab_hemoglobin_first | 0.9384260  | 0.87392865 | 1.0076834  | \n",
       "| lab_wbc_first | 0.9965192  | 0.98549443 | 1.0076673  | \n",
       "| lab_lactate_first | 1.1421657  | 1.05938153 | 1.2314189  | \n",
       "| lab_po2_first | 0.9987480  | 0.99717881 | 1.0003196  | \n",
       "| lab_troponin_flag1 | 1.3542781  | 0.90072963 | 2.0362039  | \n",
       "| lab_potassium_first | 1.1786120  | 0.97774621 | 1.4207431  | \n",
       "| lab_creatinine_kinase_flag1 | 0.9396003  | 0.62905275 | 1.4034573  | \n",
       "| lab_creatinine_first | 0.7857484  | 0.66282318 | 0.9314711  | \n",
       "| lab_pco2_first | 0.9943458  | 0.97530820 | 1.0137551  | \n",
       "| lab_bnp_flag1 | 2.4432513  | 1.24877085 | 4.7802822  | \n",
       "| lab_bicarbonate_first | 1.0553364  | 0.99980705 | 1.1139498  | \n",
       "| lab_bun_first | 1.0096985  | 1.00161655 | 1.0178456  | \n",
       "| lab_platelet_first | 1.0005421  | 0.99937041 | 1.0017152  | \n",
       "| lab_sodium_first | 0.9951932  | 0.94494859 | 1.0481093  | \n",
       "| lab_chloride_first | 0.9840518  | 0.93874899 | 1.0315408  | \n",
       "| lab_ph_first | 0.1238297  | 0.01092866 | 1.4030798  | \n",
       "| sedative1 | 0.7310174  | 0.46340471 | 1.1531745  | \n",
       "\n",
       "\n"
      ],
      "text/plain": [
       "                            OR           2.5 %       97.5 %      \n",
       "(Intercept)                 4.548402e+05 0.006107484 3.387313e+13\n",
       "echo1                       7.147296e-01 0.530597121 9.627613e-01\n",
       "age                         1.024364e+00 1.011936442 1.036945e+00\n",
       "gender1                     1.224123e+00 0.900164795 1.664670e+00\n",
       "weight                      9.902730e-01 0.983508516 9.970839e-01\n",
       "saps                        1.056001e+00 1.016766673 1.096750e+00\n",
       "sofa                        1.212261e+00 1.148881787 1.279137e+00\n",
       "elix_score                  1.025913e+00 1.001439622 1.050985e+00\n",
       "vent1                       1.741539e+00 0.987129314 3.072504e+00\n",
       "vaso1                       9.561340e-01 0.663953880 1.376891e+00\n",
       "icu_adm_weekday1            9.114347e-01 0.533382400 1.557444e+00\n",
       "icu_adm_weekday2            1.114882e+00 0.656633007 1.892933e+00\n",
       "icu_adm_weekday3            1.446508e+00 0.871212219 2.401695e+00\n",
       "icu_adm_weekday4            1.556472e+00 0.936244070 2.587580e+00\n",
       "icu_adm_weekday5            1.088561e+00 0.631936952 1.875130e+00\n",
       "icu_adm_weekday6            9.607307e-01 0.554832254 1.663572e+00\n",
       "icu_adm_hour1               1.314626e+00 0.496190437 3.483018e+00\n",
       "icu_adm_hour2               4.677449e-01 0.171862909 1.273022e+00\n",
       "icu_adm_hour3               7.706660e-01 0.288021425 2.062090e+00\n",
       "icu_adm_hour4               1.498463e+00 0.561631029 3.997982e+00\n",
       "icu_adm_hour5               8.617816e-01 0.267571113 2.775589e+00\n",
       "icu_adm_hour6               9.419939e-01 0.288789948 3.072657e+00\n",
       "icu_adm_hour7               3.538019e-01 0.072619406 1.723724e+00\n",
       "icu_adm_hour8               7.900438e-01 0.222004562 2.811516e+00\n",
       "icu_adm_hour9               1.886618e+00 0.716021774 4.970976e+00\n",
       "icu_adm_hour10              5.550723e-01 0.189414712 1.626618e+00\n",
       "icu_adm_hour11              1.112229e+00 0.424284064 2.915623e+00\n",
       "icu_adm_hour12              1.758608e+00 0.730633058 4.232905e+00\n",
       "icu_adm_hour13              1.836587e+00 0.714712362 4.719453e+00\n",
       "icu_adm_hour14              1.550250e+00 0.655652626 3.665471e+00\n",
       "⋮                           ⋮            ⋮           ⋮           \n",
       "icu_adm_hour23              0.6729156    0.27446210  1.6498285   \n",
       "icd_chf1                    0.6475093    0.44265956  0.9471574   \n",
       "icd_afib1                   1.2953322    0.91927827  1.8252205   \n",
       "icd_renal1                  1.1321738    0.71927675  1.7820924   \n",
       "icd_liver1                  1.7060237    1.04685663  2.7802441   \n",
       "icd_copd1                   1.2295914    0.81906717  1.8458744   \n",
       "icd_cad1                    0.6708125    0.42595784  1.0564178   \n",
       "icd_stroke1                 1.8166279    0.91752609  3.5967772   \n",
       "icd_malignancy1             1.5589506    1.09840842  2.2125894   \n",
       "vs_temp_first               0.9465127    0.83074978  1.0784070   \n",
       "vs_map_first                0.9928043    0.98466511  1.0010108   \n",
       "vs_cvp_first                0.9943142    0.98668370  1.0020038   \n",
       "vs_heart_rate_first         1.0069458    0.99994563  1.0139951   \n",
       "lab_hemoglobin_first        0.9384260    0.87392865  1.0076834   \n",
       "lab_wbc_first               0.9965192    0.98549443  1.0076673   \n",
       "lab_lactate_first           1.1421657    1.05938153  1.2314189   \n",
       "lab_po2_first               0.9987480    0.99717881  1.0003196   \n",
       "lab_troponin_flag1          1.3542781    0.90072963  2.0362039   \n",
       "lab_potassium_first         1.1786120    0.97774621  1.4207431   \n",
       "lab_creatinine_kinase_flag1 0.9396003    0.62905275  1.4034573   \n",
       "lab_creatinine_first        0.7857484    0.66282318  0.9314711   \n",
       "lab_pco2_first              0.9943458    0.97530820  1.0137551   \n",
       "lab_bnp_flag1               2.4432513    1.24877085  4.7802822   \n",
       "lab_bicarbonate_first       1.0553364    0.99980705  1.1139498   \n",
       "lab_bun_first               1.0096985    1.00161655  1.0178456   \n",
       "lab_platelet_first          1.0005421    0.99937041  1.0017152   \n",
       "lab_sodium_first            0.9951932    0.94494859  1.0481093   \n",
       "lab_chloride_first          0.9840518    0.93874899  1.0315408   \n",
       "lab_ph_first                0.1238297    0.01092866  1.4030798   \n",
       "sedative1                   0.7310174    0.46340471  1.1531745   "
      ]
     },
     "metadata": {},
     "output_type": "display_data"
    }
   ],
   "source": [
    "exp(cbind(OR = coef(logi), confint(logi)))"
   ]
  },
  {
   "cell_type": "code",
   "execution_count": 28,
   "metadata": {},
   "outputs": [],
   "source": [
    "ps_matches <- Match(Y = NULL, Tr = full_data$echo_int, X = full_data$ps, M = 1,\n",
    "                    estimand = \"ATT\", caliper = 0.1,\n",
    "                    exact = FALSE, replace = FALSE)"
   ]
  },
  {
   "cell_type": "code",
   "execution_count": 29,
   "metadata": {},
   "outputs": [
    {
     "name": "stdout",
     "output_type": "stream",
     "text": [
      "\n",
      "Estimate...  0 \n",
      "SE.........  0 \n",
      "T-stat.....  NaN \n",
      "p.val......  NA \n",
      "\n",
      "Original number of observations..............  6162 \n",
      "Original number of treated obs...............  3063 \n",
      "Matched number of observations...............  1574 \n",
      "Matched number of observations  (unweighted).  1574 \n",
      "\n",
      "Number of obs dropped by 'exact' or 'caliper'  1489 \n",
      "\n"
     ]
    }
   ],
   "source": [
    "summary(ps_matches)"
   ]
  },
  {
   "cell_type": "code",
   "execution_count": 30,
   "metadata": {},
   "outputs": [
    {
     "data": {
      "text/plain": [
       "    Control\n",
       "Echo   0   1\n",
       "   0 821 361\n",
       "   1 282 110"
      ]
     },
     "metadata": {},
     "output_type": "display_data"
    }
   ],
   "source": [
    "tab <- table(full_data$mort_28_day[ps_matches$index.treated],\n",
    "             full_data$mort_28_day[ps_matches$index.control],\n",
    "             dnn = c(\"Echo\", \"Control\"))\n",
    "tab"
   ]
  },
  {
   "cell_type": "code",
   "execution_count": 31,
   "metadata": {},
   "outputs": [
    {
     "data": {
      "text/plain": [
       "\n",
       "\tFisher's Exact Test for Count Data\n",
       "\n",
       "data:  tab\n",
       "p-value = 0.3732\n",
       "alternative hypothesis: true odds ratio is not equal to 1\n",
       "95 percent confidence interval:\n",
       " 0.6819901 1.1493002\n",
       "sample estimates:\n",
       "odds ratio \n",
       " 0.8871504 \n"
      ]
     },
     "metadata": {},
     "output_type": "display_data"
    }
   ],
   "source": [
    "fisher.test(tab)"
   ]
  },
  {
   "cell_type": "code",
   "execution_count": 32,
   "metadata": {},
   "outputs": [
    {
     "data": {
      "text/plain": [
       "\n",
       "\tMcNemar's Chi-squared test with continuity correction\n",
       "\n",
       "data:  tab\n",
       "McNemar's chi-squared = 9.4619, df = 1, p-value = 0.002098\n"
      ]
     },
     "metadata": {},
     "output_type": "display_data"
    }
   ],
   "source": [
    "mcnemar.test(tab)"
   ]
  }
 ],
 "metadata": {
  "kernelspec": {
   "display_name": "R",
   "language": "R",
   "name": "ir"
  },
  "language_info": {
   "codemirror_mode": "r",
   "file_extension": ".r",
   "mimetype": "text/x-r-source",
   "name": "R",
   "pygments_lexer": "r",
   "version": "3.4.3"
  },
  "varInspector": {
   "cols": {
    "lenName": 16,
    "lenType": 16,
    "lenVar": 40
   },
   "kernels_config": {
    "python": {
     "delete_cmd_postfix": "",
     "delete_cmd_prefix": "del ",
     "library": "var_list.py",
     "varRefreshCmd": "print(var_dic_list())"
    },
    "r": {
     "delete_cmd_postfix": ") ",
     "delete_cmd_prefix": "rm(",
     "library": "var_list.r",
     "varRefreshCmd": "cat(var_dic_list()) "
    }
   },
   "types_to_exclude": [
    "module",
    "function",
    "builtin_function_or_method",
    "instance",
    "_Feature"
   ],
   "window_display": false
  }
 },
 "nbformat": 4,
 "nbformat_minor": 2
}
