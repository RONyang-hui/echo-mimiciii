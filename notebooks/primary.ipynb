{
 "cells": [
  {
   "cell_type": "code",
   "execution_count": 1,
   "metadata": {},
   "outputs": [
    {
     "name": "stderr",
     "output_type": "stream",
     "text": [
      "Loading required package: DBI\n",
      "Loading required package: gbm\n",
      "Loading required package: survival\n",
      "Loading required package: lattice\n",
      "Loading required package: splines\n",
      "Loading required package: parallel\n",
      "Loaded gbm 2.1.3\n",
      "Loading required package: survey\n",
      "Loading required package: grid\n",
      "Loading required package: Matrix\n",
      "\n",
      "Attaching package: ‘survey’\n",
      "\n",
      "The following object is masked from ‘package:graphics’:\n",
      "\n",
      "    dotchart\n",
      "\n",
      "Loading required package: xtable\n",
      "Loading required package: latticeExtra\n",
      "Loading required package: RColorBrewer\n",
      "Loading required package: MASS\n",
      "## \n",
      "##  Matching (Version 4.9-2, Build Date: 2015-12-25)\n",
      "##  See http://sekhon.berkeley.edu/matching for additional documentation.\n",
      "##  Please cite software as:\n",
      "##   Jasjeet S. Sekhon. 2011. ``Multivariate and Propensity Score Matching\n",
      "##   Software with Automated Balance Optimization: The Matching package for R.''\n",
      "##   Journal of Statistical Software, 42(7): 1-52. \n",
      "##\n",
      "\n",
      "── Attaching packages ─────────────────────────────────────── tidyverse 1.2.1 ──\n",
      "✔ ggplot2 2.2.1     ✔ purrr   0.2.4\n",
      "✔ tibble  1.4.2     ✔ dplyr   0.7.4\n",
      "✔ tidyr   0.8.0     ✔ stringr 1.2.0\n",
      "✔ readr   1.1.1     ✔ forcats 0.2.0\n",
      "── Conflicts ────────────────────────────────────────── tidyverse_conflicts() ──\n",
      "✖ tidyr::expand()  masks Matrix::expand()\n",
      "✖ dplyr::filter()  masks stats::filter()\n",
      "✖ dplyr::lag()     masks stats::lag()\n",
      "✖ ggplot2::layer() masks latticeExtra::layer()\n",
      "✖ dplyr::select()  masks MASS::select()\n"
     ]
    }
   ],
   "source": [
    "library(RPostgreSQL)\n",
    "library(twang)\n",
    "library(Matching)\n",
    "library(tidyverse)"
   ]
  },
  {
   "cell_type": "code",
   "execution_count": 2,
   "metadata": {},
   "outputs": [],
   "source": [
    "data_dir <- file.path(\"..\", \"data\")\n",
    "sql_dir <- file.path(\"..\", \"sql\")"
   ]
  },
  {
   "cell_type": "code",
   "execution_count": 3,
   "metadata": {},
   "outputs": [
    {
     "data": {
      "text/plain": [
       "<PostgreSQLResult>"
      ]
     },
     "metadata": {},
     "output_type": "display_data"
    }
   ],
   "source": [
    "drv <- dbDriver(\"PostgreSQL\")\n",
    "con <- dbConnect(drv, dbname = \"mimic\")\n",
    "dbSendQuery(con, \"set search_path=echo,public,mimiciii;\")"
   ]
  },
  {
   "cell_type": "code",
   "execution_count": 4,
   "metadata": {},
   "outputs": [
    {
     "data": {
      "text/html": [
       "<table>\n",
       "<thead><tr><th scope=col>icustay_id</th><th scope=col>hadm_id</th><th scope=col>subject_id</th><th scope=col>first_careunit</th><th scope=col>intime</th><th scope=col>outtime</th><th scope=col>angus</th><th scope=col>age</th><th scope=col>icu_order</th><th scope=col>echo_time</th><th scope=col>⋯</th><th scope=col>lab_sodium_flag</th><th scope=col>lab_bun_flag</th><th scope=col>lab_bicarbonate_flag</th><th scope=col>lab_bnp_flag</th><th scope=col>lab_pco2_flag</th><th scope=col>lab_creatinine_flag</th><th scope=col>lab_potassium_flag</th><th scope=col>lab_troponin_flag</th><th scope=col>lab_po2_flag</th><th scope=col>lab_lactate_flag</th></tr></thead>\n",
       "<tbody>\n",
       "\t<tr><td>228416             </td><td>159895             </td><td> 5491              </td><td>MICU               </td><td>2151-06-29 01:18:27</td><td>2151-07-27 16:00:56</td><td>1                  </td><td>76.58225           </td><td>1                  </td><td>2151-06-30         </td><td>⋯                  </td><td>1                  </td><td>1                  </td><td>1                  </td><td>0                  </td><td>1                  </td><td>1                  </td><td>1                  </td><td>0                  </td><td>1                  </td><td>1                  </td></tr>\n",
       "\t<tr><td>278148             </td><td>169700             </td><td>49395              </td><td>MICU               </td><td>2197-01-09 00:45:42</td><td>2197-01-10 06:46:29</td><td>1                  </td><td>82.72606           </td><td>1                  </td><td>NA                 </td><td>⋯                  </td><td>1                  </td><td>1                  </td><td>1                  </td><td>0                  </td><td>0                  </td><td>1                  </td><td>1                  </td><td>0                  </td><td>0                  </td><td>0                  </td></tr>\n",
       "\t<tr><td>274174             </td><td>103722             </td><td>14855              </td><td>MICU               </td><td>2181-09-08 23:43:13</td><td>2181-09-26 16:52:02</td><td>1                  </td><td>61.84390           </td><td>1                  </td><td>2181-09-11         </td><td>⋯                  </td><td>1                  </td><td>1                  </td><td>1                  </td><td>0                  </td><td>1                  </td><td>1                  </td><td>1                  </td><td>0                  </td><td>1                  </td><td>1                  </td></tr>\n",
       "\t<tr><td>214954             </td><td>170515             </td><td>54642              </td><td>MICU               </td><td>2176-03-11 04:58:23</td><td>2176-03-15 18:00:48</td><td>1                  </td><td>63.86507           </td><td>1                  </td><td>2176-03-11         </td><td>⋯                  </td><td>1                  </td><td>1                  </td><td>1                  </td><td>0                  </td><td>1                  </td><td>1                  </td><td>1                  </td><td>1                  </td><td>1                  </td><td>1                  </td></tr>\n",
       "\t<tr><td>222457             </td><td>183493             </td><td>96815              </td><td>MICU               </td><td>2105-06-04 20:57:55</td><td>2105-06-06 20:01:51</td><td>1                  </td><td>62.84018           </td><td>1                  </td><td>NA                 </td><td>⋯                  </td><td>1                  </td><td>1                  </td><td>1                  </td><td>0                  </td><td>0                  </td><td>1                  </td><td>1                  </td><td>0                  </td><td>0                  </td><td>0                  </td></tr>\n",
       "\t<tr><td>264413             </td><td>134244             </td><td>81436              </td><td>MICU               </td><td>2133-03-27 16:31:37</td><td>2133-04-04 16:15:28</td><td>1                  </td><td>62.60148           </td><td>1                  </td><td>2133-03-31         </td><td>⋯                  </td><td>1                  </td><td>1                  </td><td>1                  </td><td>0                  </td><td>0                  </td><td>1                  </td><td>1                  </td><td>0                  </td><td>0                  </td><td>1                  </td></tr>\n",
       "</tbody>\n",
       "</table>\n"
      ],
      "text/latex": [
       "\\begin{tabular}{r|llllllllllllllllllllllllllllllllllllllllllllllllllllllllllllllllllllllllllllllllllllllllllllllllllllllllllllllllllllllllllllllllll}\n",
       " icustay\\_id & hadm\\_id & subject\\_id & first\\_careunit & intime & outtime & angus & age & icu\\_order & echo\\_time & ⋯ & lab\\_sodium\\_flag & lab\\_bun\\_flag & lab\\_bicarbonate\\_flag & lab\\_bnp\\_flag & lab\\_pco2\\_flag & lab\\_creatinine\\_flag & lab\\_potassium\\_flag & lab\\_troponin\\_flag & lab\\_po2\\_flag & lab\\_lactate\\_flag\\\\\n",
       "\\hline\n",
       "\t 228416              & 159895              &  5491               & MICU                & 2151-06-29 01:18:27 & 2151-07-27 16:00:56 & 1                   & 76.58225            & 1                   & 2151-06-30          & ⋯                   & 1                   & 1                   & 1                   & 0                   & 1                   & 1                   & 1                   & 0                   & 1                   & 1                  \\\\\n",
       "\t 278148              & 169700              & 49395               & MICU                & 2197-01-09 00:45:42 & 2197-01-10 06:46:29 & 1                   & 82.72606            & 1                   & NA                  & ⋯                   & 1                   & 1                   & 1                   & 0                   & 0                   & 1                   & 1                   & 0                   & 0                   & 0                  \\\\\n",
       "\t 274174              & 103722              & 14855               & MICU                & 2181-09-08 23:43:13 & 2181-09-26 16:52:02 & 1                   & 61.84390            & 1                   & 2181-09-11          & ⋯                   & 1                   & 1                   & 1                   & 0                   & 1                   & 1                   & 1                   & 0                   & 1                   & 1                  \\\\\n",
       "\t 214954              & 170515              & 54642               & MICU                & 2176-03-11 04:58:23 & 2176-03-15 18:00:48 & 1                   & 63.86507            & 1                   & 2176-03-11          & ⋯                   & 1                   & 1                   & 1                   & 0                   & 1                   & 1                   & 1                   & 1                   & 1                   & 1                  \\\\\n",
       "\t 222457              & 183493              & 96815               & MICU                & 2105-06-04 20:57:55 & 2105-06-06 20:01:51 & 1                   & 62.84018            & 1                   & NA                  & ⋯                   & 1                   & 1                   & 1                   & 0                   & 0                   & 1                   & 1                   & 0                   & 0                   & 0                  \\\\\n",
       "\t 264413              & 134244              & 81436               & MICU                & 2133-03-27 16:31:37 & 2133-04-04 16:15:28 & 1                   & 62.60148            & 1                   & 2133-03-31          & ⋯                   & 1                   & 1                   & 1                   & 0                   & 0                   & 1                   & 1                   & 0                   & 0                   & 1                  \\\\\n",
       "\\end{tabular}\n"
      ],
      "text/markdown": [
       "\n",
       "icustay_id | hadm_id | subject_id | first_careunit | intime | outtime | angus | age | icu_order | echo_time | ⋯ | lab_sodium_flag | lab_bun_flag | lab_bicarbonate_flag | lab_bnp_flag | lab_pco2_flag | lab_creatinine_flag | lab_potassium_flag | lab_troponin_flag | lab_po2_flag | lab_lactate_flag | \n",
       "|---|---|---|---|---|---|\n",
       "| 228416              | 159895              |  5491               | MICU                | 2151-06-29 01:18:27 | 2151-07-27 16:00:56 | 1                   | 76.58225            | 1                   | 2151-06-30          | ⋯                   | 1                   | 1                   | 1                   | 0                   | 1                   | 1                   | 1                   | 0                   | 1                   | 1                   | \n",
       "| 278148              | 169700              | 49395               | MICU                | 2197-01-09 00:45:42 | 2197-01-10 06:46:29 | 1                   | 82.72606            | 1                   | NA                  | ⋯                   | 1                   | 1                   | 1                   | 0                   | 0                   | 1                   | 1                   | 0                   | 0                   | 0                   | \n",
       "| 274174              | 103722              | 14855               | MICU                | 2181-09-08 23:43:13 | 2181-09-26 16:52:02 | 1                   | 61.84390            | 1                   | 2181-09-11          | ⋯                   | 1                   | 1                   | 1                   | 0                   | 1                   | 1                   | 1                   | 0                   | 1                   | 1                   | \n",
       "| 214954              | 170515              | 54642               | MICU                | 2176-03-11 04:58:23 | 2176-03-15 18:00:48 | 1                   | 63.86507            | 1                   | 2176-03-11          | ⋯                   | 1                   | 1                   | 1                   | 0                   | 1                   | 1                   | 1                   | 1                   | 1                   | 1                   | \n",
       "| 222457              | 183493              | 96815               | MICU                | 2105-06-04 20:57:55 | 2105-06-06 20:01:51 | 1                   | 62.84018            | 1                   | NA                  | ⋯                   | 1                   | 1                   | 1                   | 0                   | 0                   | 1                   | 1                   | 0                   | 0                   | 0                   | \n",
       "| 264413              | 134244              | 81436               | MICU                | 2133-03-27 16:31:37 | 2133-04-04 16:15:28 | 1                   | 62.60148            | 1                   | 2133-03-31          | ⋯                   | 1                   | 1                   | 1                   | 0                   | 0                   | 1                   | 1                   | 0                   | 0                   | 1                   | \n",
       "\n",
       "\n"
      ],
      "text/plain": [
       "  icustay_id hadm_id subject_id first_careunit intime             \n",
       "1 228416     159895   5491      MICU           2151-06-29 01:18:27\n",
       "2 278148     169700  49395      MICU           2197-01-09 00:45:42\n",
       "3 274174     103722  14855      MICU           2181-09-08 23:43:13\n",
       "4 214954     170515  54642      MICU           2176-03-11 04:58:23\n",
       "5 222457     183493  96815      MICU           2105-06-04 20:57:55\n",
       "6 264413     134244  81436      MICU           2133-03-27 16:31:37\n",
       "  outtime             angus age      icu_order echo_time  ⋯ lab_sodium_flag\n",
       "1 2151-07-27 16:00:56 1     76.58225 1         2151-06-30 ⋯ 1              \n",
       "2 2197-01-10 06:46:29 1     82.72606 1         <NA>       ⋯ 1              \n",
       "3 2181-09-26 16:52:02 1     61.84390 1         2181-09-11 ⋯ 1              \n",
       "4 2176-03-15 18:00:48 1     63.86507 1         2176-03-11 ⋯ 1              \n",
       "5 2105-06-06 20:01:51 1     62.84018 1         <NA>       ⋯ 1              \n",
       "6 2133-04-04 16:15:28 1     62.60148 1         2133-03-31 ⋯ 1              \n",
       "  lab_bun_flag lab_bicarbonate_flag lab_bnp_flag lab_pco2_flag\n",
       "1 1            1                    0            1            \n",
       "2 1            1                    0            0            \n",
       "3 1            1                    0            1            \n",
       "4 1            1                    0            1            \n",
       "5 1            1                    0            0            \n",
       "6 1            1                    0            0            \n",
       "  lab_creatinine_flag lab_potassium_flag lab_troponin_flag lab_po2_flag\n",
       "1 1                   1                  0                 1           \n",
       "2 1                   1                  0                 0           \n",
       "3 1                   1                  0                 1           \n",
       "4 1                   1                  1                 1           \n",
       "5 1                   1                  0                 0           \n",
       "6 1                   1                  0                 0           \n",
       "  lab_lactate_flag\n",
       "1 1               \n",
       "2 0               \n",
       "3 1               \n",
       "4 1               \n",
       "5 0               \n",
       "6 1               "
      ]
     },
     "metadata": {},
     "output_type": "display_data"
    }
   ],
   "source": [
    "full_data <- dbGetQuery(con, \"select * from merged_data\")\n",
    "head(full_data)"
   ]
  },
  {
   "cell_type": "code",
   "execution_count": 5,
   "metadata": {},
   "outputs": [
    {
     "data": {
      "text/html": [
       "TRUE"
      ],
      "text/latex": [
       "TRUE"
      ],
      "text/markdown": [
       "TRUE"
      ],
      "text/plain": [
       "[1] TRUE"
      ]
     },
     "metadata": {},
     "output_type": "display_data"
    },
    {
     "data": {
      "text/html": [
       "TRUE"
      ],
      "text/latex": [
       "TRUE"
      ],
      "text/markdown": [
       "TRUE"
      ],
      "text/plain": [
       "[1] TRUE"
      ]
     },
     "metadata": {},
     "output_type": "display_data"
    }
   ],
   "source": [
    "dbDisconnect(con)\n",
    "dbUnloadDriver(drv)"
   ]
  },
  {
   "cell_type": "code",
   "execution_count": 6,
   "metadata": {},
   "outputs": [],
   "source": [
    "to_factor <- function(x) {\n",
    "    if(length(na.omit(unique(x))) <= 1) return(factor(x, levels = c(0, 1)))\n",
    "    return(factor(x))\n",
    "}"
   ]
  },
  {
   "cell_type": "code",
   "execution_count": 7,
   "metadata": {},
   "outputs": [
    {
     "data": {
      "text/html": [
       "<ol class=list-inline>\n",
       "\t<li>'icd_chf'</li>\n",
       "\t<li>'icd_afib'</li>\n",
       "\t<li>'icd_renal'</li>\n",
       "\t<li>'icd_liver'</li>\n",
       "\t<li>'icd_copd'</li>\n",
       "\t<li>'icd_cad'</li>\n",
       "\t<li>'icd_stroke'</li>\n",
       "\t<li>'icd_malignancy'</li>\n",
       "\t<li>'lab_hemoglobin_abnormal'</li>\n",
       "\t<li>'lab_platelet_abnormal'</li>\n",
       "\t<li>'lab_creatinine_kinase_abnormal'</li>\n",
       "\t<li>'lab_wbc_abnormal'</li>\n",
       "\t<li>'lab_ph_abnormal'</li>\n",
       "\t<li>'lab_chloride_abnormal'</li>\n",
       "\t<li>'lab_sodium_abnormal'</li>\n",
       "\t<li>'lab_bun_abnormal'</li>\n",
       "\t<li>'lab_bicarbonate_abnormal'</li>\n",
       "\t<li>'lab_bnp_abnormal'</li>\n",
       "\t<li>'lab_pco2_abnormal'</li>\n",
       "\t<li>'lab_creatinine_abnormal'</li>\n",
       "\t<li>'lab_potassium_abnormal'</li>\n",
       "\t<li>'lab_troponin_abnormal'</li>\n",
       "\t<li>'lab_po2_abnormal'</li>\n",
       "\t<li>'lab_lactate_abnormal'</li>\n",
       "\t<li>'sedative'</li>\n",
       "\t<li>'vs_heart_rate_flag'</li>\n",
       "\t<li>'vs_cvp_flag'</li>\n",
       "\t<li>'vs_map_flag'</li>\n",
       "\t<li>'vs_temp_flag'</li>\n",
       "\t<li>'lab_hemoglobin_flag'</li>\n",
       "\t<li>'lab_platelet_flag'</li>\n",
       "\t<li>'lab_creatinine_kinase_flag'</li>\n",
       "\t<li>'lab_wbc_flag'</li>\n",
       "\t<li>'lab_ph_flag'</li>\n",
       "\t<li>'lab_chloride_flag'</li>\n",
       "\t<li>'lab_sodium_flag'</li>\n",
       "\t<li>'lab_bun_flag'</li>\n",
       "\t<li>'lab_bicarbonate_flag'</li>\n",
       "\t<li>'lab_bnp_flag'</li>\n",
       "\t<li>'lab_pco2_flag'</li>\n",
       "\t<li>'lab_creatinine_flag'</li>\n",
       "\t<li>'lab_potassium_flag'</li>\n",
       "\t<li>'lab_troponin_flag'</li>\n",
       "\t<li>'lab_po2_flag'</li>\n",
       "\t<li>'lab_lactate_flag'</li>\n",
       "\t<li>'gender'</li>\n",
       "\t<li>'first_careunit'</li>\n",
       "\t<li>'echo'</li>\n",
       "\t<li>'vent'</li>\n",
       "\t<li>'vaso'</li>\n",
       "\t<li>'icu_adm_weekday'</li>\n",
       "\t<li>'icu_adm_hour'</li>\n",
       "\t<li>'mort_28_day'</li>\n",
       "</ol>\n"
      ],
      "text/latex": [
       "\\begin{enumerate*}\n",
       "\\item 'icd\\_chf'\n",
       "\\item 'icd\\_afib'\n",
       "\\item 'icd\\_renal'\n",
       "\\item 'icd\\_liver'\n",
       "\\item 'icd\\_copd'\n",
       "\\item 'icd\\_cad'\n",
       "\\item 'icd\\_stroke'\n",
       "\\item 'icd\\_malignancy'\n",
       "\\item 'lab\\_hemoglobin\\_abnormal'\n",
       "\\item 'lab\\_platelet\\_abnormal'\n",
       "\\item 'lab\\_creatinine\\_kinase\\_abnormal'\n",
       "\\item 'lab\\_wbc\\_abnormal'\n",
       "\\item 'lab\\_ph\\_abnormal'\n",
       "\\item 'lab\\_chloride\\_abnormal'\n",
       "\\item 'lab\\_sodium\\_abnormal'\n",
       "\\item 'lab\\_bun\\_abnormal'\n",
       "\\item 'lab\\_bicarbonate\\_abnormal'\n",
       "\\item 'lab\\_bnp\\_abnormal'\n",
       "\\item 'lab\\_pco2\\_abnormal'\n",
       "\\item 'lab\\_creatinine\\_abnormal'\n",
       "\\item 'lab\\_potassium\\_abnormal'\n",
       "\\item 'lab\\_troponin\\_abnormal'\n",
       "\\item 'lab\\_po2\\_abnormal'\n",
       "\\item 'lab\\_lactate\\_abnormal'\n",
       "\\item 'sedative'\n",
       "\\item 'vs\\_heart\\_rate\\_flag'\n",
       "\\item 'vs\\_cvp\\_flag'\n",
       "\\item 'vs\\_map\\_flag'\n",
       "\\item 'vs\\_temp\\_flag'\n",
       "\\item 'lab\\_hemoglobin\\_flag'\n",
       "\\item 'lab\\_platelet\\_flag'\n",
       "\\item 'lab\\_creatinine\\_kinase\\_flag'\n",
       "\\item 'lab\\_wbc\\_flag'\n",
       "\\item 'lab\\_ph\\_flag'\n",
       "\\item 'lab\\_chloride\\_flag'\n",
       "\\item 'lab\\_sodium\\_flag'\n",
       "\\item 'lab\\_bun\\_flag'\n",
       "\\item 'lab\\_bicarbonate\\_flag'\n",
       "\\item 'lab\\_bnp\\_flag'\n",
       "\\item 'lab\\_pco2\\_flag'\n",
       "\\item 'lab\\_creatinine\\_flag'\n",
       "\\item 'lab\\_potassium\\_flag'\n",
       "\\item 'lab\\_troponin\\_flag'\n",
       "\\item 'lab\\_po2\\_flag'\n",
       "\\item 'lab\\_lactate\\_flag'\n",
       "\\item 'gender'\n",
       "\\item 'first\\_careunit'\n",
       "\\item 'echo'\n",
       "\\item 'vent'\n",
       "\\item 'vaso'\n",
       "\\item 'icu\\_adm\\_weekday'\n",
       "\\item 'icu\\_adm\\_hour'\n",
       "\\item 'mort\\_28\\_day'\n",
       "\\end{enumerate*}\n"
      ],
      "text/markdown": [
       "1. 'icd_chf'\n",
       "2. 'icd_afib'\n",
       "3. 'icd_renal'\n",
       "4. 'icd_liver'\n",
       "5. 'icd_copd'\n",
       "6. 'icd_cad'\n",
       "7. 'icd_stroke'\n",
       "8. 'icd_malignancy'\n",
       "9. 'lab_hemoglobin_abnormal'\n",
       "10. 'lab_platelet_abnormal'\n",
       "11. 'lab_creatinine_kinase_abnormal'\n",
       "12. 'lab_wbc_abnormal'\n",
       "13. 'lab_ph_abnormal'\n",
       "14. 'lab_chloride_abnormal'\n",
       "15. 'lab_sodium_abnormal'\n",
       "16. 'lab_bun_abnormal'\n",
       "17. 'lab_bicarbonate_abnormal'\n",
       "18. 'lab_bnp_abnormal'\n",
       "19. 'lab_pco2_abnormal'\n",
       "20. 'lab_creatinine_abnormal'\n",
       "21. 'lab_potassium_abnormal'\n",
       "22. 'lab_troponin_abnormal'\n",
       "23. 'lab_po2_abnormal'\n",
       "24. 'lab_lactate_abnormal'\n",
       "25. 'sedative'\n",
       "26. 'vs_heart_rate_flag'\n",
       "27. 'vs_cvp_flag'\n",
       "28. 'vs_map_flag'\n",
       "29. 'vs_temp_flag'\n",
       "30. 'lab_hemoglobin_flag'\n",
       "31. 'lab_platelet_flag'\n",
       "32. 'lab_creatinine_kinase_flag'\n",
       "33. 'lab_wbc_flag'\n",
       "34. 'lab_ph_flag'\n",
       "35. 'lab_chloride_flag'\n",
       "36. 'lab_sodium_flag'\n",
       "37. 'lab_bun_flag'\n",
       "38. 'lab_bicarbonate_flag'\n",
       "39. 'lab_bnp_flag'\n",
       "40. 'lab_pco2_flag'\n",
       "41. 'lab_creatinine_flag'\n",
       "42. 'lab_potassium_flag'\n",
       "43. 'lab_troponin_flag'\n",
       "44. 'lab_po2_flag'\n",
       "45. 'lab_lactate_flag'\n",
       "46. 'gender'\n",
       "47. 'first_careunit'\n",
       "48. 'echo'\n",
       "49. 'vent'\n",
       "50. 'vaso'\n",
       "51. 'icu_adm_weekday'\n",
       "52. 'icu_adm_hour'\n",
       "53. 'mort_28_day'\n",
       "\n",
       "\n"
      ],
      "text/plain": [
       " [1] \"icd_chf\"                        \"icd_afib\"                      \n",
       " [3] \"icd_renal\"                      \"icd_liver\"                     \n",
       " [5] \"icd_copd\"                       \"icd_cad\"                       \n",
       " [7] \"icd_stroke\"                     \"icd_malignancy\"                \n",
       " [9] \"lab_hemoglobin_abnormal\"        \"lab_platelet_abnormal\"         \n",
       "[11] \"lab_creatinine_kinase_abnormal\" \"lab_wbc_abnormal\"              \n",
       "[13] \"lab_ph_abnormal\"                \"lab_chloride_abnormal\"         \n",
       "[15] \"lab_sodium_abnormal\"            \"lab_bun_abnormal\"              \n",
       "[17] \"lab_bicarbonate_abnormal\"       \"lab_bnp_abnormal\"              \n",
       "[19] \"lab_pco2_abnormal\"              \"lab_creatinine_abnormal\"       \n",
       "[21] \"lab_potassium_abnormal\"         \"lab_troponin_abnormal\"         \n",
       "[23] \"lab_po2_abnormal\"               \"lab_lactate_abnormal\"          \n",
       "[25] \"sedative\"                       \"vs_heart_rate_flag\"            \n",
       "[27] \"vs_cvp_flag\"                    \"vs_map_flag\"                   \n",
       "[29] \"vs_temp_flag\"                   \"lab_hemoglobin_flag\"           \n",
       "[31] \"lab_platelet_flag\"              \"lab_creatinine_kinase_flag\"    \n",
       "[33] \"lab_wbc_flag\"                   \"lab_ph_flag\"                   \n",
       "[35] \"lab_chloride_flag\"              \"lab_sodium_flag\"               \n",
       "[37] \"lab_bun_flag\"                   \"lab_bicarbonate_flag\"          \n",
       "[39] \"lab_bnp_flag\"                   \"lab_pco2_flag\"                 \n",
       "[41] \"lab_creatinine_flag\"            \"lab_potassium_flag\"            \n",
       "[43] \"lab_troponin_flag\"              \"lab_po2_flag\"                  \n",
       "[45] \"lab_lactate_flag\"               \"gender\"                        \n",
       "[47] \"first_careunit\"                 \"echo\"                          \n",
       "[49] \"vent\"                           \"vaso\"                          \n",
       "[51] \"icu_adm_weekday\"                \"icu_adm_hour\"                  \n",
       "[53] \"mort_28_day\"                   "
      ]
     },
     "metadata": {},
     "output_type": "display_data"
    }
   ],
   "source": [
    "factor_vars <- full_data %>%\n",
    "    names %>%\n",
    "    grep(\"flag|abnormal|icd|sedative\", ., value = TRUE) %>%\n",
    "    c(\"gender\", \"first_careunit\", \"echo\", \"vent\", \"vaso\",\n",
    "      \"icu_adm_weekday\", \"icu_adm_hour\", \"mort_28_day\")\n",
    "factor_vars"
   ]
  },
  {
   "cell_type": "code",
   "execution_count": 8,
   "metadata": {},
   "outputs": [
    {
     "data": {
      "text/html": [
       "<ol class=list-inline>\n",
       "\t<li>'sunday'</li>\n",
       "\t<li>'monday'</li>\n",
       "\t<li>'tuesday'</li>\n",
       "\t<li>'wednesday'</li>\n",
       "\t<li>'thursday'</li>\n",
       "\t<li>'friday'</li>\n",
       "\t<li>'saturday'</li>\n",
       "</ol>\n"
      ],
      "text/latex": [
       "\\begin{enumerate*}\n",
       "\\item 'sunday'\n",
       "\\item 'monday'\n",
       "\\item 'tuesday'\n",
       "\\item 'wednesday'\n",
       "\\item 'thursday'\n",
       "\\item 'friday'\n",
       "\\item 'saturday'\n",
       "\\end{enumerate*}\n"
      ],
      "text/markdown": [
       "1. 'sunday'\n",
       "2. 'monday'\n",
       "3. 'tuesday'\n",
       "4. 'wednesday'\n",
       "5. 'thursday'\n",
       "6. 'friday'\n",
       "7. 'saturday'\n",
       "\n",
       "\n"
      ],
      "text/plain": [
       "[1] \"sunday\"    \"monday\"    \"tuesday\"   \"wednesday\" \"thursday\"  \"friday\"   \n",
       "[7] \"saturday\" "
      ]
     },
     "metadata": {},
     "output_type": "display_data"
    }
   ],
   "source": [
    "weekday <- c(\"sun\", \"mon\", \"tues\", \"wednes\", \"thurs\", \"fri\", \"satur\") %>%\n",
    "paste0(\"day\")\n",
    "weekday"
   ]
  },
  {
   "cell_type": "code",
   "execution_count": 9,
   "metadata": {},
   "outputs": [
    {
     "data": {
      "text/html": [
       "<ol class=list-inline>\n",
       "\t<li>1</li>\n",
       "\t<li>0</li>\n",
       "\t<li>1</li>\n",
       "\t<li>1</li>\n",
       "\t<li>0</li>\n",
       "\t<li>1</li>\n",
       "</ol>\n"
      ],
      "text/latex": [
       "\\begin{enumerate*}\n",
       "\\item 1\n",
       "\\item 0\n",
       "\\item 1\n",
       "\\item 1\n",
       "\\item 0\n",
       "\\item 1\n",
       "\\end{enumerate*}\n"
      ],
      "text/markdown": [
       "1. 1\n",
       "2. 0\n",
       "3. 1\n",
       "4. 1\n",
       "5. 0\n",
       "6. 1\n",
       "\n",
       "\n"
      ],
      "text/plain": [
       "[1] 1 0 1 1 0 1\n",
       "Levels: 0 1"
      ]
     },
     "metadata": {},
     "output_type": "display_data"
    }
   ],
   "source": [
    "full_data <- full_data %>%\n",
    "    mutate(echo_int = as.integer(echo)) %>%\n",
    "    mutate(icu_adm_weekday = weekday[icu_adm_weekday + 1]) %>%\n",
    "    mutate(mort_28_day_int = as.integer(mort_28_day)) %>%\n",
    "    mutate_at(factor_vars, to_factor) %>%\n",
    "    mutate(gender = relevel(gender, \"M\")) %>%\n",
    "    mutate(first_careunit = relevel(first_careunit, \"SICU\"))\n",
    "full_data %>% pull(echo) %>% head"
   ]
  },
  {
   "cell_type": "code",
   "execution_count": 10,
   "metadata": {},
   "outputs": [
    {
     "data": {
      "text/html": [
       "<ol class=list-inline>\n",
       "\t<li>'first_careunit'</li>\n",
       "\t<li>'age'</li>\n",
       "\t<li>'gender'</li>\n",
       "\t<li>'weight'</li>\n",
       "\t<li>'saps'</li>\n",
       "\t<li>'sofa'</li>\n",
       "\t<li>'elix_score'</li>\n",
       "\t<li>'vent'</li>\n",
       "\t<li>'vaso'</li>\n",
       "\t<li>'icu_adm_weekday'</li>\n",
       "\t<li>'icu_adm_hour'</li>\n",
       "\t<li>'icd_chf'</li>\n",
       "\t<li>'icd_afib'</li>\n",
       "\t<li>'icd_renal'</li>\n",
       "\t<li>'icd_liver'</li>\n",
       "\t<li>'icd_copd'</li>\n",
       "\t<li>'icd_cad'</li>\n",
       "\t<li>'icd_stroke'</li>\n",
       "\t<li>'icd_malignancy'</li>\n",
       "\t<li>'vs_heart_rate_first'</li>\n",
       "\t<li>'vs_map_first'</li>\n",
       "\t<li>'vs_temp_first'</li>\n",
       "\t<li>'lab_hemoglobin_first'</li>\n",
       "\t<li>'lab_platelet_first'</li>\n",
       "\t<li>'lab_wbc_first'</li>\n",
       "\t<li>'lab_ph_first'</li>\n",
       "\t<li>'lab_chloride_first'</li>\n",
       "\t<li>'lab_sodium_first'</li>\n",
       "\t<li>'lab_bun_first'</li>\n",
       "\t<li>'lab_bicarbonate_first'</li>\n",
       "\t<li>'lab_pco2_first'</li>\n",
       "\t<li>'lab_creatinine_first'</li>\n",
       "\t<li>'lab_potassium_first'</li>\n",
       "\t<li>'lab_po2_first'</li>\n",
       "\t<li>'lab_lactate_first'</li>\n",
       "\t<li>'sedative'</li>\n",
       "\t<li>'vs_cvp_flag'</li>\n",
       "\t<li>'lab_creatinine_kinase_flag'</li>\n",
       "\t<li>'lab_bnp_flag'</li>\n",
       "\t<li>'lab_troponin_flag'</li>\n",
       "</ol>\n"
      ],
      "text/latex": [
       "\\begin{enumerate*}\n",
       "\\item 'first\\_careunit'\n",
       "\\item 'age'\n",
       "\\item 'gender'\n",
       "\\item 'weight'\n",
       "\\item 'saps'\n",
       "\\item 'sofa'\n",
       "\\item 'elix\\_score'\n",
       "\\item 'vent'\n",
       "\\item 'vaso'\n",
       "\\item 'icu\\_adm\\_weekday'\n",
       "\\item 'icu\\_adm\\_hour'\n",
       "\\item 'icd\\_chf'\n",
       "\\item 'icd\\_afib'\n",
       "\\item 'icd\\_renal'\n",
       "\\item 'icd\\_liver'\n",
       "\\item 'icd\\_copd'\n",
       "\\item 'icd\\_cad'\n",
       "\\item 'icd\\_stroke'\n",
       "\\item 'icd\\_malignancy'\n",
       "\\item 'vs\\_heart\\_rate\\_first'\n",
       "\\item 'vs\\_map\\_first'\n",
       "\\item 'vs\\_temp\\_first'\n",
       "\\item 'lab\\_hemoglobin\\_first'\n",
       "\\item 'lab\\_platelet\\_first'\n",
       "\\item 'lab\\_wbc\\_first'\n",
       "\\item 'lab\\_ph\\_first'\n",
       "\\item 'lab\\_chloride\\_first'\n",
       "\\item 'lab\\_sodium\\_first'\n",
       "\\item 'lab\\_bun\\_first'\n",
       "\\item 'lab\\_bicarbonate\\_first'\n",
       "\\item 'lab\\_pco2\\_first'\n",
       "\\item 'lab\\_creatinine\\_first'\n",
       "\\item 'lab\\_potassium\\_first'\n",
       "\\item 'lab\\_po2\\_first'\n",
       "\\item 'lab\\_lactate\\_first'\n",
       "\\item 'sedative'\n",
       "\\item 'vs\\_cvp\\_flag'\n",
       "\\item 'lab\\_creatinine\\_kinase\\_flag'\n",
       "\\item 'lab\\_bnp\\_flag'\n",
       "\\item 'lab\\_troponin\\_flag'\n",
       "\\end{enumerate*}\n"
      ],
      "text/markdown": [
       "1. 'first_careunit'\n",
       "2. 'age'\n",
       "3. 'gender'\n",
       "4. 'weight'\n",
       "5. 'saps'\n",
       "6. 'sofa'\n",
       "7. 'elix_score'\n",
       "8. 'vent'\n",
       "9. 'vaso'\n",
       "10. 'icu_adm_weekday'\n",
       "11. 'icu_adm_hour'\n",
       "12. 'icd_chf'\n",
       "13. 'icd_afib'\n",
       "14. 'icd_renal'\n",
       "15. 'icd_liver'\n",
       "16. 'icd_copd'\n",
       "17. 'icd_cad'\n",
       "18. 'icd_stroke'\n",
       "19. 'icd_malignancy'\n",
       "20. 'vs_heart_rate_first'\n",
       "21. 'vs_map_first'\n",
       "22. 'vs_temp_first'\n",
       "23. 'lab_hemoglobin_first'\n",
       "24. 'lab_platelet_first'\n",
       "25. 'lab_wbc_first'\n",
       "26. 'lab_ph_first'\n",
       "27. 'lab_chloride_first'\n",
       "28. 'lab_sodium_first'\n",
       "29. 'lab_bun_first'\n",
       "30. 'lab_bicarbonate_first'\n",
       "31. 'lab_pco2_first'\n",
       "32. 'lab_creatinine_first'\n",
       "33. 'lab_potassium_first'\n",
       "34. 'lab_po2_first'\n",
       "35. 'lab_lactate_first'\n",
       "36. 'sedative'\n",
       "37. 'vs_cvp_flag'\n",
       "38. 'lab_creatinine_kinase_flag'\n",
       "39. 'lab_bnp_flag'\n",
       "40. 'lab_troponin_flag'\n",
       "\n",
       "\n"
      ],
      "text/plain": [
       " [1] \"first_careunit\"             \"age\"                       \n",
       " [3] \"gender\"                     \"weight\"                    \n",
       " [5] \"saps\"                       \"sofa\"                      \n",
       " [7] \"elix_score\"                 \"vent\"                      \n",
       " [9] \"vaso\"                       \"icu_adm_weekday\"           \n",
       "[11] \"icu_adm_hour\"               \"icd_chf\"                   \n",
       "[13] \"icd_afib\"                   \"icd_renal\"                 \n",
       "[15] \"icd_liver\"                  \"icd_copd\"                  \n",
       "[17] \"icd_cad\"                    \"icd_stroke\"                \n",
       "[19] \"icd_malignancy\"             \"vs_heart_rate_first\"       \n",
       "[21] \"vs_map_first\"               \"vs_temp_first\"             \n",
       "[23] \"lab_hemoglobin_first\"       \"lab_platelet_first\"        \n",
       "[25] \"lab_wbc_first\"              \"lab_ph_first\"              \n",
       "[27] \"lab_chloride_first\"         \"lab_sodium_first\"          \n",
       "[29] \"lab_bun_first\"              \"lab_bicarbonate_first\"     \n",
       "[31] \"lab_pco2_first\"             \"lab_creatinine_first\"      \n",
       "[33] \"lab_potassium_first\"        \"lab_po2_first\"             \n",
       "[35] \"lab_lactate_first\"          \"sedative\"                  \n",
       "[37] \"vs_cvp_flag\"                \"lab_creatinine_kinase_flag\"\n",
       "[39] \"lab_bnp_flag\"               \"lab_troponin_flag\"         "
      ]
     },
     "metadata": {},
     "output_type": "display_data"
    },
    {
     "data": {
      "text/html": [
       "40"
      ],
      "text/latex": [
       "40"
      ],
      "text/markdown": [
       "40"
      ],
      "text/plain": [
       "[1] 40"
      ]
     },
     "metadata": {},
     "output_type": "display_data"
    }
   ],
   "source": [
    "feature_names <- full_data %>%\n",
    "    names %>%\n",
    "    keep(grepl(\"vs|lab|icd|age|gender|weight|saps|sofa|elix_score|vent|vaso|icu_adm|careunit|sedative\", .)) %>%\n",
    "    discard(grepl(\"vs|lab\", .) & grepl(\"flag\", .) & !grepl(\"bnp|troponin|kinase|cvp\", .)) %>%\n",
    "    discard(grepl(\"bnp|troponin|kinase|cvp\", .) & !grepl(\"flag\", .)) %>%\n",
    "    discard(grepl(\"min|max\", .)) %>%\n",
    "    discard(grepl(\"abnormal\", .))\n",
    "feature_names\n",
    "length(feature_names)"
   ]
  },
  {
   "cell_type": "code",
   "execution_count": 11,
   "metadata": {},
   "outputs": [
    {
     "data": {
      "text/html": [
       "<table>\n",
       "<thead><tr><th scope=col>first_careunit</th><th scope=col>age</th><th scope=col>gender</th><th scope=col>weight</th><th scope=col>saps</th><th scope=col>sofa</th><th scope=col>elix_score</th><th scope=col>vent</th><th scope=col>vaso</th><th scope=col>icu_adm_weekday</th><th scope=col>⋯</th><th scope=col>lab_pco2_first</th><th scope=col>lab_creatinine_first</th><th scope=col>lab_potassium_first</th><th scope=col>lab_po2_first</th><th scope=col>lab_lactate_first</th><th scope=col>sedative</th><th scope=col>vs_cvp_flag</th><th scope=col>lab_creatinine_kinase_flag</th><th scope=col>lab_bnp_flag</th><th scope=col>lab_troponin_flag</th></tr></thead>\n",
       "<tbody>\n",
       "\t<tr><td>MICU    </td><td>76.58225</td><td>M       </td><td>  NA    </td><td>24      </td><td>3       </td><td>10      </td><td>1       </td><td>0       </td><td>tuesday </td><td>⋯       </td><td>56      </td><td>1.2     </td><td>4.4     </td><td> 98     </td><td>1.4     </td><td>0       </td><td>0       </td><td>0       </td><td>0       </td><td>0       </td></tr>\n",
       "\t<tr><td>MICU    </td><td>82.72606</td><td>F       </td><td>90.3    </td><td>25      </td><td>8       </td><td>15      </td><td>0       </td><td>0       </td><td>monday  </td><td>⋯       </td><td>NA      </td><td>1.6     </td><td>5.7     </td><td> NA     </td><td> NA     </td><td>0       </td><td>0       </td><td>0       </td><td>0       </td><td>0       </td></tr>\n",
       "\t<tr><td>MICU    </td><td>61.84390</td><td>M       </td><td>53.6    </td><td>20      </td><td>5       </td><td> 6      </td><td>0       </td><td>0       </td><td>saturday</td><td>⋯       </td><td>40      </td><td>2.7     </td><td>4.1     </td><td>110     </td><td>1.6     </td><td>0       </td><td>1       </td><td>0       </td><td>0       </td><td>0       </td></tr>\n",
       "\t<tr><td>MICU    </td><td>63.86507</td><td>M       </td><td>92.9    </td><td>24      </td><td>8       </td><td> 6      </td><td>1       </td><td>1       </td><td>monday  </td><td>⋯       </td><td>42      </td><td>1.3     </td><td>4.2     </td><td> 85     </td><td>3.8     </td><td>1       </td><td>1       </td><td>1       </td><td>0       </td><td>1       </td></tr>\n",
       "\t<tr><td>MICU    </td><td>62.84018</td><td>F       </td><td>75.0    </td><td>10      </td><td>1       </td><td> 6      </td><td>0       </td><td>0       </td><td>thursday</td><td>⋯       </td><td>NA      </td><td>0.9     </td><td>3.5     </td><td> NA     </td><td> NA     </td><td>0       </td><td>0       </td><td>0       </td><td>0       </td><td>0       </td></tr>\n",
       "\t<tr><td>MICU    </td><td>62.60148</td><td>F       </td><td>80.0    </td><td>15      </td><td>4       </td><td> 2      </td><td>0       </td><td>1       </td><td>friday  </td><td>⋯       </td><td>NA      </td><td>0.8     </td><td>3.5     </td><td> NA     </td><td>1.4     </td><td>0       </td><td>1       </td><td>0       </td><td>0       </td><td>0       </td></tr>\n",
       "</tbody>\n",
       "</table>\n"
      ],
      "text/latex": [
       "\\begin{tabular}{r|llllllllllllllllllllllllllllllllllllllll}\n",
       " first\\_careunit & age & gender & weight & saps & sofa & elix\\_score & vent & vaso & icu\\_adm\\_weekday & ⋯ & lab\\_pco2\\_first & lab\\_creatinine\\_first & lab\\_potassium\\_first & lab\\_po2\\_first & lab\\_lactate\\_first & sedative & vs\\_cvp\\_flag & lab\\_creatinine\\_kinase\\_flag & lab\\_bnp\\_flag & lab\\_troponin\\_flag\\\\\n",
       "\\hline\n",
       "\t MICU     & 76.58225 & M        &   NA     & 24       & 3        & 10       & 1        & 0        & tuesday  & ⋯        & 56       & 1.2      & 4.4      &  98      & 1.4      & 0        & 0        & 0        & 0        & 0       \\\\\n",
       "\t MICU     & 82.72606 & F        & 90.3     & 25       & 8        & 15       & 0        & 0        & monday   & ⋯        & NA       & 1.6      & 5.7      &  NA      &  NA      & 0        & 0        & 0        & 0        & 0       \\\\\n",
       "\t MICU     & 61.84390 & M        & 53.6     & 20       & 5        &  6       & 0        & 0        & saturday & ⋯        & 40       & 2.7      & 4.1      & 110      & 1.6      & 0        & 1        & 0        & 0        & 0       \\\\\n",
       "\t MICU     & 63.86507 & M        & 92.9     & 24       & 8        &  6       & 1        & 1        & monday   & ⋯        & 42       & 1.3      & 4.2      &  85      & 3.8      & 1        & 1        & 1        & 0        & 1       \\\\\n",
       "\t MICU     & 62.84018 & F        & 75.0     & 10       & 1        &  6       & 0        & 0        & thursday & ⋯        & NA       & 0.9      & 3.5      &  NA      &  NA      & 0        & 0        & 0        & 0        & 0       \\\\\n",
       "\t MICU     & 62.60148 & F        & 80.0     & 15       & 4        &  2       & 0        & 1        & friday   & ⋯        & NA       & 0.8      & 3.5      &  NA      & 1.4      & 0        & 1        & 0        & 0        & 0       \\\\\n",
       "\\end{tabular}\n"
      ],
      "text/markdown": [
       "\n",
       "first_careunit | age | gender | weight | saps | sofa | elix_score | vent | vaso | icu_adm_weekday | ⋯ | lab_pco2_first | lab_creatinine_first | lab_potassium_first | lab_po2_first | lab_lactate_first | sedative | vs_cvp_flag | lab_creatinine_kinase_flag | lab_bnp_flag | lab_troponin_flag | \n",
       "|---|---|---|---|---|---|\n",
       "| MICU     | 76.58225 | M        |   NA     | 24       | 3        | 10       | 1        | 0        | tuesday  | ⋯        | 56       | 1.2      | 4.4      |  98      | 1.4      | 0        | 0        | 0        | 0        | 0        | \n",
       "| MICU     | 82.72606 | F        | 90.3     | 25       | 8        | 15       | 0        | 0        | monday   | ⋯        | NA       | 1.6      | 5.7      |  NA      |  NA      | 0        | 0        | 0        | 0        | 0        | \n",
       "| MICU     | 61.84390 | M        | 53.6     | 20       | 5        |  6       | 0        | 0        | saturday | ⋯        | 40       | 2.7      | 4.1      | 110      | 1.6      | 0        | 1        | 0        | 0        | 0        | \n",
       "| MICU     | 63.86507 | M        | 92.9     | 24       | 8        |  6       | 1        | 1        | monday   | ⋯        | 42       | 1.3      | 4.2      |  85      | 3.8      | 1        | 1        | 1        | 0        | 1        | \n",
       "| MICU     | 62.84018 | F        | 75.0     | 10       | 1        |  6       | 0        | 0        | thursday | ⋯        | NA       | 0.9      | 3.5      |  NA      |  NA      | 0        | 0        | 0        | 0        | 0        | \n",
       "| MICU     | 62.60148 | F        | 80.0     | 15       | 4        |  2       | 0        | 1        | friday   | ⋯        | NA       | 0.8      | 3.5      |  NA      | 1.4      | 0        | 1        | 0        | 0        | 0        | \n",
       "\n",
       "\n"
      ],
      "text/plain": [
       "  first_careunit age      gender weight saps sofa elix_score vent vaso\n",
       "1 MICU           76.58225 M        NA   24   3    10         1    0   \n",
       "2 MICU           82.72606 F      90.3   25   8    15         0    0   \n",
       "3 MICU           61.84390 M      53.6   20   5     6         0    0   \n",
       "4 MICU           63.86507 M      92.9   24   8     6         1    1   \n",
       "5 MICU           62.84018 F      75.0   10   1     6         0    0   \n",
       "6 MICU           62.60148 F      80.0   15   4     2         0    1   \n",
       "  icu_adm_weekday ⋯ lab_pco2_first lab_creatinine_first lab_potassium_first\n",
       "1 tuesday         ⋯ 56             1.2                  4.4                \n",
       "2 monday          ⋯ NA             1.6                  5.7                \n",
       "3 saturday        ⋯ 40             2.7                  4.1                \n",
       "4 monday          ⋯ 42             1.3                  4.2                \n",
       "5 thursday        ⋯ NA             0.9                  3.5                \n",
       "6 friday          ⋯ NA             0.8                  3.5                \n",
       "  lab_po2_first lab_lactate_first sedative vs_cvp_flag\n",
       "1  98           1.4               0        0          \n",
       "2  NA            NA               0        0          \n",
       "3 110           1.6               0        1          \n",
       "4  85           3.8               1        1          \n",
       "5  NA            NA               0        0          \n",
       "6  NA           1.4               0        1          \n",
       "  lab_creatinine_kinase_flag lab_bnp_flag lab_troponin_flag\n",
       "1 0                          0            0                \n",
       "2 0                          0            0                \n",
       "3 0                          0            0                \n",
       "4 1                          0            1                \n",
       "5 0                          0            0                \n",
       "6 0                          0            0                "
      ]
     },
     "metadata": {},
     "output_type": "display_data"
    }
   ],
   "source": [
    "features <- full_data %>%\n",
    "    select(!!!rlang::syms(feature_names))\n",
    "head(features)"
   ]
  },
  {
   "cell_type": "code",
   "execution_count": 12,
   "metadata": {},
   "outputs": [],
   "source": [
    "label_name <- \"echo\""
   ]
  },
  {
   "cell_type": "code",
   "execution_count": 13,
   "metadata": {},
   "outputs": [
    {
     "name": "stdout",
     "output_type": "stream",
     "text": [
      " Factor w/ 2 levels \"0\",\"1\": 2 1 2 2 1 2 1 1 2 2 ...\n"
     ]
    }
   ],
   "source": [
    "label <- full_data %>% pull(echo)\n",
    "str(label)"
   ]
  },
  {
   "cell_type": "code",
   "execution_count": 14,
   "metadata": {},
   "outputs": [
    {
     "data": {
      "text/html": [
       "'mort_28_day ~ echo + first_careunit + age + gender + weight + saps + sofa + elix_score + vent + vaso + icu_adm_weekday + icu_adm_hour + icd_chf + icd_afib + icd_renal + icd_liver + icd_copd + icd_cad + icd_stroke + icd_malignancy + vs_heart_rate_first + vs_map_first + vs_temp_first + lab_hemoglobin_first + lab_platelet_first + lab_wbc_first + lab_ph_first + lab_chloride_first + lab_sodium_first + lab_bun_first + lab_bicarbonate_first + lab_pco2_first + lab_creatinine_first + lab_potassium_first + lab_po2_first + lab_lactate_first + sedative + vs_cvp_flag + lab_creatinine_kinase_flag + lab_bnp_flag + lab_troponin_flag'"
      ],
      "text/latex": [
       "'mort\\_28\\_day \\textasciitilde{} echo + first\\_careunit + age + gender + weight + saps + sofa + elix\\_score + vent + vaso + icu\\_adm\\_weekday + icu\\_adm\\_hour + icd\\_chf + icd\\_afib + icd\\_renal + icd\\_liver + icd\\_copd + icd\\_cad + icd\\_stroke + icd\\_malignancy + vs\\_heart\\_rate\\_first + vs\\_map\\_first + vs\\_temp\\_first + lab\\_hemoglobin\\_first + lab\\_platelet\\_first + lab\\_wbc\\_first + lab\\_ph\\_first + lab\\_chloride\\_first + lab\\_sodium\\_first + lab\\_bun\\_first + lab\\_bicarbonate\\_first + lab\\_pco2\\_first + lab\\_creatinine\\_first + lab\\_potassium\\_first + lab\\_po2\\_first + lab\\_lactate\\_first + sedative + vs\\_cvp\\_flag + lab\\_creatinine\\_kinase\\_flag + lab\\_bnp\\_flag + lab\\_troponin\\_flag'"
      ],
      "text/markdown": [
       "'mort_28_day ~ echo + first_careunit + age + gender + weight + saps + sofa + elix_score + vent + vaso + icu_adm_weekday + icu_adm_hour + icd_chf + icd_afib + icd_renal + icd_liver + icd_copd + icd_cad + icd_stroke + icd_malignancy + vs_heart_rate_first + vs_map_first + vs_temp_first + lab_hemoglobin_first + lab_platelet_first + lab_wbc_first + lab_ph_first + lab_chloride_first + lab_sodium_first + lab_bun_first + lab_bicarbonate_first + lab_pco2_first + lab_creatinine_first + lab_potassium_first + lab_po2_first + lab_lactate_first + sedative + vs_cvp_flag + lab_creatinine_kinase_flag + lab_bnp_flag + lab_troponin_flag'"
      ],
      "text/plain": [
       "[1] \"mort_28_day ~ echo + first_careunit + age + gender + weight + saps + sofa + elix_score + vent + vaso + icu_adm_weekday + icu_adm_hour + icd_chf + icd_afib + icd_renal + icd_liver + icd_copd + icd_cad + icd_stroke + icd_malignancy + vs_heart_rate_first + vs_map_first + vs_temp_first + lab_hemoglobin_first + lab_platelet_first + lab_wbc_first + lab_ph_first + lab_chloride_first + lab_sodium_first + lab_bun_first + lab_bicarbonate_first + lab_pco2_first + lab_creatinine_first + lab_potassium_first + lab_po2_first + lab_lactate_first + sedative + vs_cvp_flag + lab_creatinine_kinase_flag + lab_bnp_flag + lab_troponin_flag\""
      ]
     },
     "metadata": {},
     "output_type": "display_data"
    }
   ],
   "source": [
    "fml <- feature_names %>%\n",
    "    c(\"echo\", .) %>%\n",
    "    paste(collapse = \" + \") %>%\n",
    "    sprintf(\"mort_28_day ~ %s\", .)\n",
    "fml"
   ]
  },
  {
   "cell_type": "code",
   "execution_count": 15,
   "metadata": {},
   "outputs": [
    {
     "data": {
      "text/plain": [
       "\n",
       "Call:\n",
       "glm(formula = as.formula(fml), family = binomial, data = full_data, \n",
       "    na.action = na.exclude)\n",
       "\n",
       "Deviance Residuals: \n",
       "    Min       1Q   Median       3Q      Max  \n",
       "-2.3687  -0.7486  -0.4555   0.7679   2.6551  \n",
       "\n",
       "Coefficients:\n",
       "                              Estimate Std. Error z value Pr(>|z|)    \n",
       "(Intercept)                  0.7466943  6.1578443   0.121 0.903486    \n",
       "echo1                       -0.4346195  0.1014609  -4.284 1.84e-05 ***\n",
       "first_careunitMICU           0.3322350  0.1260193   2.636 0.008380 ** \n",
       "age                          0.0215216  0.0038762   5.552 2.82e-08 ***\n",
       "genderF                     -0.1602286  0.0993127  -1.613 0.106663    \n",
       "weight                      -0.0082306  0.0021732  -3.787 0.000152 ***\n",
       "saps                         0.0573810  0.0127997   4.483 7.36e-06 ***\n",
       "sofa                         0.1670255  0.0195313   8.552  < 2e-16 ***\n",
       "elix_score                   0.0292912  0.0078026   3.754 0.000174 ***\n",
       "vent1                        0.2739736  0.1658700   1.652 0.098588 .  \n",
       "vaso1                       -0.0206973  0.1206764  -0.172 0.863822    \n",
       "icu_adm_weekdaymonday        0.0836165  0.1747658   0.478 0.632331    \n",
       "icu_adm_weekdaysaturday      0.1045252  0.1782683   0.586 0.557650    \n",
       "icu_adm_weekdaysunday        0.0707244  0.1736022   0.407 0.683719    \n",
       "icu_adm_weekdaythursday      0.1520917  0.1681109   0.905 0.365619    \n",
       "icu_adm_weekdaytuesday       0.0899670  0.1755510   0.512 0.608313    \n",
       "icu_adm_weekdaywednesday     0.1992829  0.1709871   1.165 0.243823    \n",
       "icu_adm_hour1                0.2235088  0.3315624   0.674 0.500243    \n",
       "icu_adm_hour2               -0.2328344  0.3613447  -0.644 0.519345    \n",
       "icu_adm_hour3                0.2872343  0.3432249   0.837 0.402666    \n",
       "icu_adm_hour4                0.4867597  0.3442969   1.414 0.157427    \n",
       "icu_adm_hour5                0.3886831  0.3643061   1.067 0.286011    \n",
       "icu_adm_hour6                0.2596002  0.3935735   0.660 0.509512    \n",
       "icu_adm_hour7               -0.2032434  0.5429590  -0.374 0.708162    \n",
       "icu_adm_hour8               -0.1922032  0.5115994  -0.376 0.707147    \n",
       "icu_adm_hour9                0.5643744  0.3825213   1.475 0.140103    \n",
       "icu_adm_hour10               0.1424143  0.3900166   0.365 0.715000    \n",
       "icu_adm_hour11               0.1379095  0.3324235   0.415 0.678244    \n",
       "icu_adm_hour12               0.3475159  0.3334871   1.042 0.297381    \n",
       "icu_adm_hour13               0.3480869  0.3397049   1.025 0.305517    \n",
       "icu_adm_hour14               0.3075099  0.3140814   0.979 0.327542    \n",
       "icu_adm_hour15               0.4552122  0.3090214   1.473 0.140730    \n",
       "icu_adm_hour16               0.3274453  0.2943328   1.113 0.265923    \n",
       "icu_adm_hour17               0.2998348  0.2931029   1.023 0.306323    \n",
       "icu_adm_hour18               0.0367895  0.2873609   0.128 0.898129    \n",
       "icu_adm_hour19               0.0863859  0.3010282   0.287 0.774136    \n",
       "icu_adm_hour20               0.4047128  0.2785043   1.453 0.146178    \n",
       "icu_adm_hour21               0.2593883  0.2824125   0.918 0.358371    \n",
       "icu_adm_hour22               0.5251137  0.2859013   1.837 0.066255 .  \n",
       "icu_adm_hour23              -0.1140472  0.3069753  -0.372 0.710251    \n",
       "icd_chf1                    -0.2581049  0.1218259  -2.119 0.034121 *  \n",
       "icd_afib1                    0.1275732  0.1107451   1.152 0.249340    \n",
       "icd_renal1                  -0.2514416  0.1460389  -1.722 0.085116 .  \n",
       "icd_liver1                   0.4122158  0.1729604   2.383 0.017158 *  \n",
       "icd_copd1                    0.1655330  0.1284571   1.289 0.197528    \n",
       "icd_cad1                     0.0563051  0.1414842   0.398 0.690659    \n",
       "icd_stroke1                  0.6873325  0.1713108   4.012 6.02e-05 ***\n",
       "icd_malignancy1              0.5509353  0.1158336   4.756 1.97e-06 ***\n",
       "vs_heart_rate_first          0.0070129  0.0024319   2.884 0.003931 ** \n",
       "vs_map_first                -0.0065646  0.0024319  -2.699 0.006946 ** \n",
       "vs_temp_first               -0.0748451  0.0426140  -1.756 0.079028 .  \n",
       "lab_hemoglobin_first        -0.0233302  0.0248061  -0.941 0.346960    \n",
       "lab_platelet_first           0.0004276  0.0003974   1.076 0.281869    \n",
       "lab_wbc_first               -0.0018799  0.0039028  -0.482 0.630028    \n",
       "lab_ph_first                -0.2747881  0.8134318  -0.338 0.735504    \n",
       "lab_chloride_first          -0.0204780  0.0152210  -1.345 0.178503    \n",
       "lab_sodium_first             0.0028539  0.0162067   0.176 0.860221    \n",
       "lab_bun_first                0.0093932  0.0024752   3.795 0.000148 ***\n",
       "lab_bicarbonate_first        0.0147492  0.0178600   0.826 0.408904    \n",
       "lab_pco2_first              -0.0004860  0.0067924  -0.072 0.942954    \n",
       "lab_creatinine_first        -0.2270477  0.0484636  -4.685 2.80e-06 ***\n",
       "lab_potassium_first          0.1017353  0.0578050   1.760 0.078412 .  \n",
       "lab_po2_first               -0.0001178  0.0004897  -0.241 0.809842    \n",
       "lab_lactate_first            0.1234002  0.0272205   4.533 5.81e-06 ***\n",
       "sedative1                   -0.1784478  0.1406194  -1.269 0.204436    \n",
       "vs_cvp_flag1                -0.4852827  0.1096899  -4.424 9.68e-06 ***\n",
       "lab_creatinine_kinase_flag1 -0.0996657  0.1323503  -0.753 0.451423    \n",
       "lab_bnp_flag1               -0.0973191  0.2573351  -0.378 0.705297    \n",
       "lab_troponin_flag1           0.2706414  0.1368630   1.977 0.047989 *  \n",
       "---\n",
       "Signif. codes:  0 ‘***’ 0.001 ‘**’ 0.01 ‘*’ 0.05 ‘.’ 0.1 ‘ ’ 1\n",
       "\n",
       "(Dispersion parameter for binomial family taken to be 1)\n",
       "\n",
       "    Null deviance: 3733.4  on 3020  degrees of freedom\n",
       "Residual deviance: 2903.0  on 2952  degrees of freedom\n",
       "  (3340 observations deleted due to missingness)\n",
       "AIC: 3041\n",
       "\n",
       "Number of Fisher Scoring iterations: 5\n"
      ]
     },
     "metadata": {},
     "output_type": "display_data"
    },
    {
     "name": "stderr",
     "output_type": "stream",
     "text": [
      "Waiting for profiling to be done...\n"
     ]
    },
    {
     "data": {
      "text/html": [
       "<table>\n",
       "<thead><tr><th></th><th scope=col>OR</th><th scope=col>2.5 %</th><th scope=col>97.5 %</th></tr></thead>\n",
       "<tbody>\n",
       "\t<tr><th scope=row>(Intercept)</th><td>2.1100134   </td><td>1.000516e-05</td><td>3.158235e+05</td></tr>\n",
       "\t<tr><th scope=row>echo1</th><td>0.6475110   </td><td>5.305195e-01</td><td>7.897433e-01</td></tr>\n",
       "\t<tr><th scope=row>first_careunitMICU</th><td>1.3940804   </td><td>1.090818e+00</td><td>1.788157e+00</td></tr>\n",
       "\t<tr><th scope=row>age</th><td>1.0217549   </td><td>1.014075e+00</td><td>1.029608e+00</td></tr>\n",
       "\t<tr><th scope=row>genderF</th><td>0.8519490   </td><td>7.010928e-01</td><td>1.034901e+00</td></tr>\n",
       "\t<tr><th scope=row>weight</th><td>0.9918032   </td><td>9.875320e-01</td><td>9.959827e-01</td></tr>\n",
       "\t<tr><th scope=row>saps</th><td>1.0590592   </td><td>1.032877e+00</td><td>1.086046e+00</td></tr>\n",
       "\t<tr><th scope=row>sofa</th><td>1.1817844   </td><td>1.137661e+00</td><td>1.228220e+00</td></tr>\n",
       "\t<tr><th scope=row>elix_score</th><td>1.0297244   </td><td>1.014111e+00</td><td>1.045621e+00</td></tr>\n",
       "\t<tr><th scope=row>vent1</th><td>1.3151800   </td><td>9.498565e-01</td><td>1.820424e+00</td></tr>\n",
       "\t<tr><th scope=row>vaso1</th><td>0.9795154   </td><td>7.728429e-01</td><td>1.240536e+00</td></tr>\n",
       "\t<tr><th scope=row>icu_adm_weekdaymonday</th><td>1.0872119   </td><td>7.717193e-01</td><td>1.531660e+00</td></tr>\n",
       "\t<tr><th scope=row>icu_adm_weekdaysaturday</th><td>1.1101833   </td><td>7.825076e-01</td><td>1.574576e+00</td></tr>\n",
       "\t<tr><th scope=row>icu_adm_weekdaysunday</th><td>1.0732854   </td><td>7.636691e-01</td><td>1.508757e+00</td></tr>\n",
       "\t<tr><th scope=row>icu_adm_weekdaythursday</th><td>1.1642670   </td><td>8.376989e-01</td><td>1.619733e+00</td></tr>\n",
       "\t<tr><th scope=row>icu_adm_weekdaytuesday</th><td>1.0941382   </td><td>7.754934e-01</td><td>1.543896e+00</td></tr>\n",
       "\t<tr><th scope=row>icu_adm_weekdaywednesday</th><td>1.2205272   </td><td>8.732544e-01</td><td>1.707645e+00</td></tr>\n",
       "\t<tr><th scope=row>icu_adm_hour1</th><td>1.2504567   </td><td>6.527733e-01</td><td>2.400018e+00</td></tr>\n",
       "\t<tr><th scope=row>icu_adm_hour2</th><td>0.7922848   </td><td>3.870178e-01</td><td>1.601448e+00</td></tr>\n",
       "\t<tr><th scope=row>icu_adm_hour3</th><td>1.3327365   </td><td>6.789670e-01</td><td>2.614100e+00</td></tr>\n",
       "\t<tr><th scope=row>icu_adm_hour4</th><td>1.6270355   </td><td>8.280910e-01</td><td>3.201648e+00</td></tr>\n",
       "\t<tr><th scope=row>icu_adm_hour5</th><td>1.4750371   </td><td>7.178643e-01</td><td>3.005067e+00</td></tr>\n",
       "\t<tr><th scope=row>icu_adm_hour6</th><td>1.2964117   </td><td>5.944063e-01</td><td>2.792412e+00</td></tr>\n",
       "\t<tr><th scope=row>icu_adm_hour7</th><td>0.8160796   </td><td>2.610729e-01</td><td>2.249716e+00</td></tr>\n",
       "\t<tr><th scope=row>icu_adm_hour8</th><td>0.8251392   </td><td>2.852237e-01</td><td>2.163750e+00</td></tr>\n",
       "\t<tr><th scope=row>icu_adm_hour9</th><td>1.7583474   </td><td>8.264860e-01</td><td>3.714876e+00</td></tr>\n",
       "\t<tr><th scope=row>icu_adm_hour10</th><td>1.1530543   </td><td>5.323486e-01</td><td>2.465258e+00</td></tr>\n",
       "\t<tr><th scope=row>icu_adm_hour11</th><td>1.1478717   </td><td>5.979163e-01</td><td>2.206208e+00</td></tr>\n",
       "\t<tr><th scope=row>icu_adm_hour12</th><td>1.4155469   </td><td>7.360930e-01</td><td>2.727139e+00</td></tr>\n",
       "\t<tr><th scope=row>icu_adm_hour13</th><td>1.4163553   </td><td>7.273610e-01</td><td>2.761578e+00</td></tr>\n",
       "\t<tr><th scope=row>⋮</th><td>⋮</td><td>⋮</td><td>⋮</td></tr>\n",
       "\t<tr><th scope=row>icu_adm_hour23</th><td>0.8922158</td><td>0.4893999</td><td>1.6339010</td></tr>\n",
       "\t<tr><th scope=row>icd_chf1</th><td>0.7725142</td><td>0.6080043</td><td>0.9803382</td></tr>\n",
       "\t<tr><th scope=row>icd_afib1</th><td>1.1360680</td><td>0.9140399</td><td>1.4111181</td></tr>\n",
       "\t<tr><th scope=row>icd_renal1</th><td>0.7776789</td><td>0.5831327</td><td>1.0339965</td></tr>\n",
       "\t<tr><th scope=row>icd_liver1</th><td>1.5101603</td><td>1.0751104</td><td>2.1186622</td></tr>\n",
       "\t<tr><th scope=row>icd_copd1</th><td>1.1800219</td><td>0.9163337</td><td>1.5164957</td></tr>\n",
       "\t<tr><th scope=row>icd_cad1</th><td>1.0579204</td><td>0.8000827</td><td>1.3936430</td></tr>\n",
       "\t<tr><th scope=row>icd_stroke1</th><td>1.9884045</td><td>1.4185706</td><td>2.7783236</td></tr>\n",
       "\t<tr><th scope=row>icd_malignancy1</th><td>1.7348748</td><td>1.3822257</td><td>2.1769486</td></tr>\n",
       "\t<tr><th scope=row>vs_heart_rate_first</th><td>1.0070375</td><td>1.0022560</td><td>1.0118584</td></tr>\n",
       "\t<tr><th scope=row>vs_map_first</th><td>0.9934569</td><td>0.9886867</td><td>0.9981606</td></tr>\n",
       "\t<tr><th scope=row>vs_temp_first</th><td>0.9278872</td><td>0.8529646</td><td>1.0044494</td></tr>\n",
       "\t<tr><th scope=row>lab_hemoglobin_first</th><td>0.9769399</td><td>0.9304882</td><td>1.0255557</td></tr>\n",
       "\t<tr><th scope=row>lab_platelet_first</th><td>1.0004277</td><td>0.9996458</td><td>1.0012050</td></tr>\n",
       "\t<tr><th scope=row>lab_wbc_first</th><td>0.9981219</td><td>0.9905905</td><td>1.0056942</td></tr>\n",
       "\t<tr><th scope=row>lab_ph_first</th><td>0.7597331</td><td>0.1578902</td><td>3.8507671</td></tr>\n",
       "\t<tr><th scope=row>lab_chloride_first</th><td>0.9797303</td><td>0.9508777</td><td>1.0093764</td></tr>\n",
       "\t<tr><th scope=row>lab_sodium_first</th><td>1.0028580</td><td>0.9714990</td><td>1.0352688</td></tr>\n",
       "\t<tr><th scope=row>lab_bun_first</th><td>1.0094375</td><td>1.0045752</td><td>1.0143786</td></tr>\n",
       "\t<tr><th scope=row>lab_bicarbonate_first</th><td>1.0148586</td><td>0.9797505</td><td>1.0508505</td></tr>\n",
       "\t<tr><th scope=row>lab_pco2_first</th><td>0.9995141</td><td>0.9863958</td><td>1.0130472</td></tr>\n",
       "\t<tr><th scope=row>lab_creatinine_first</th><td>0.7968828</td><td>0.7229659</td><td>0.8742986</td></tr>\n",
       "\t<tr><th scope=row>lab_potassium_first</th><td>1.1070904</td><td>0.9883050</td><td>1.2425433</td></tr>\n",
       "\t<tr><th scope=row>lab_po2_first</th><td>0.9998822</td><td>0.9989177</td><td>1.0008384</td></tr>\n",
       "\t<tr><th scope=row>lab_lactate_first</th><td>1.1313371</td><td>1.0730690</td><td>1.1939762</td></tr>\n",
       "\t<tr><th scope=row>sedative1</th><td>0.8365677</td><td>0.6355153</td><td>1.1032077</td></tr>\n",
       "\t<tr><th scope=row>vs_cvp_flag1</th><td>0.6155232</td><td>0.4959402</td><td>0.7624877</td></tr>\n",
       "\t<tr><th scope=row>lab_creatinine_kinase_flag1</th><td>0.9051400</td><td>0.6972666</td><td>1.1717380</td></tr>\n",
       "\t<tr><th scope=row>lab_bnp_flag1</th><td>0.9072664</td><td>0.5398885</td><td>1.4848879</td></tr>\n",
       "\t<tr><th scope=row>lab_troponin_flag1</th><td>1.3108050</td><td>1.0034982</td><td>1.7164334</td></tr>\n",
       "</tbody>\n",
       "</table>\n"
      ],
      "text/latex": [
       "\\begin{tabular}{r|lll}\n",
       "  & OR & 2.5 \\% & 97.5 \\%\\\\\n",
       "\\hline\n",
       "\t(Intercept) & 2.1100134    & 1.000516e-05 & 3.158235e+05\\\\\n",
       "\techo1 & 0.6475110    & 5.305195e-01 & 7.897433e-01\\\\\n",
       "\tfirst\\_careunitMICU & 1.3940804    & 1.090818e+00 & 1.788157e+00\\\\\n",
       "\tage & 1.0217549    & 1.014075e+00 & 1.029608e+00\\\\\n",
       "\tgenderF & 0.8519490    & 7.010928e-01 & 1.034901e+00\\\\\n",
       "\tweight & 0.9918032    & 9.875320e-01 & 9.959827e-01\\\\\n",
       "\tsaps & 1.0590592    & 1.032877e+00 & 1.086046e+00\\\\\n",
       "\tsofa & 1.1817844    & 1.137661e+00 & 1.228220e+00\\\\\n",
       "\telix\\_score & 1.0297244    & 1.014111e+00 & 1.045621e+00\\\\\n",
       "\tvent1 & 1.3151800    & 9.498565e-01 & 1.820424e+00\\\\\n",
       "\tvaso1 & 0.9795154    & 7.728429e-01 & 1.240536e+00\\\\\n",
       "\ticu\\_adm\\_weekdaymonday & 1.0872119    & 7.717193e-01 & 1.531660e+00\\\\\n",
       "\ticu\\_adm\\_weekdaysaturday & 1.1101833    & 7.825076e-01 & 1.574576e+00\\\\\n",
       "\ticu\\_adm\\_weekdaysunday & 1.0732854    & 7.636691e-01 & 1.508757e+00\\\\\n",
       "\ticu\\_adm\\_weekdaythursday & 1.1642670    & 8.376989e-01 & 1.619733e+00\\\\\n",
       "\ticu\\_adm\\_weekdaytuesday & 1.0941382    & 7.754934e-01 & 1.543896e+00\\\\\n",
       "\ticu\\_adm\\_weekdaywednesday & 1.2205272    & 8.732544e-01 & 1.707645e+00\\\\\n",
       "\ticu\\_adm\\_hour1 & 1.2504567    & 6.527733e-01 & 2.400018e+00\\\\\n",
       "\ticu\\_adm\\_hour2 & 0.7922848    & 3.870178e-01 & 1.601448e+00\\\\\n",
       "\ticu\\_adm\\_hour3 & 1.3327365    & 6.789670e-01 & 2.614100e+00\\\\\n",
       "\ticu\\_adm\\_hour4 & 1.6270355    & 8.280910e-01 & 3.201648e+00\\\\\n",
       "\ticu\\_adm\\_hour5 & 1.4750371    & 7.178643e-01 & 3.005067e+00\\\\\n",
       "\ticu\\_adm\\_hour6 & 1.2964117    & 5.944063e-01 & 2.792412e+00\\\\\n",
       "\ticu\\_adm\\_hour7 & 0.8160796    & 2.610729e-01 & 2.249716e+00\\\\\n",
       "\ticu\\_adm\\_hour8 & 0.8251392    & 2.852237e-01 & 2.163750e+00\\\\\n",
       "\ticu\\_adm\\_hour9 & 1.7583474    & 8.264860e-01 & 3.714876e+00\\\\\n",
       "\ticu\\_adm\\_hour10 & 1.1530543    & 5.323486e-01 & 2.465258e+00\\\\\n",
       "\ticu\\_adm\\_hour11 & 1.1478717    & 5.979163e-01 & 2.206208e+00\\\\\n",
       "\ticu\\_adm\\_hour12 & 1.4155469    & 7.360930e-01 & 2.727139e+00\\\\\n",
       "\ticu\\_adm\\_hour13 & 1.4163553    & 7.273610e-01 & 2.761578e+00\\\\\n",
       "\t⋮ & ⋮ & ⋮ & ⋮\\\\\n",
       "\ticu\\_adm\\_hour23 & 0.8922158 & 0.4893999 & 1.6339010\\\\\n",
       "\ticd\\_chf1 & 0.7725142 & 0.6080043 & 0.9803382\\\\\n",
       "\ticd\\_afib1 & 1.1360680 & 0.9140399 & 1.4111181\\\\\n",
       "\ticd\\_renal1 & 0.7776789 & 0.5831327 & 1.0339965\\\\\n",
       "\ticd\\_liver1 & 1.5101603 & 1.0751104 & 2.1186622\\\\\n",
       "\ticd\\_copd1 & 1.1800219 & 0.9163337 & 1.5164957\\\\\n",
       "\ticd\\_cad1 & 1.0579204 & 0.8000827 & 1.3936430\\\\\n",
       "\ticd\\_stroke1 & 1.9884045 & 1.4185706 & 2.7783236\\\\\n",
       "\ticd\\_malignancy1 & 1.7348748 & 1.3822257 & 2.1769486\\\\\n",
       "\tvs\\_heart\\_rate\\_first & 1.0070375 & 1.0022560 & 1.0118584\\\\\n",
       "\tvs\\_map\\_first & 0.9934569 & 0.9886867 & 0.9981606\\\\\n",
       "\tvs\\_temp\\_first & 0.9278872 & 0.8529646 & 1.0044494\\\\\n",
       "\tlab\\_hemoglobin\\_first & 0.9769399 & 0.9304882 & 1.0255557\\\\\n",
       "\tlab\\_platelet\\_first & 1.0004277 & 0.9996458 & 1.0012050\\\\\n",
       "\tlab\\_wbc\\_first & 0.9981219 & 0.9905905 & 1.0056942\\\\\n",
       "\tlab\\_ph\\_first & 0.7597331 & 0.1578902 & 3.8507671\\\\\n",
       "\tlab\\_chloride\\_first & 0.9797303 & 0.9508777 & 1.0093764\\\\\n",
       "\tlab\\_sodium\\_first & 1.0028580 & 0.9714990 & 1.0352688\\\\\n",
       "\tlab\\_bun\\_first & 1.0094375 & 1.0045752 & 1.0143786\\\\\n",
       "\tlab\\_bicarbonate\\_first & 1.0148586 & 0.9797505 & 1.0508505\\\\\n",
       "\tlab\\_pco2\\_first & 0.9995141 & 0.9863958 & 1.0130472\\\\\n",
       "\tlab\\_creatinine\\_first & 0.7968828 & 0.7229659 & 0.8742986\\\\\n",
       "\tlab\\_potassium\\_first & 1.1070904 & 0.9883050 & 1.2425433\\\\\n",
       "\tlab\\_po2\\_first & 0.9998822 & 0.9989177 & 1.0008384\\\\\n",
       "\tlab\\_lactate\\_first & 1.1313371 & 1.0730690 & 1.1939762\\\\\n",
       "\tsedative1 & 0.8365677 & 0.6355153 & 1.1032077\\\\\n",
       "\tvs\\_cvp\\_flag1 & 0.6155232 & 0.4959402 & 0.7624877\\\\\n",
       "\tlab\\_creatinine\\_kinase\\_flag1 & 0.9051400 & 0.6972666 & 1.1717380\\\\\n",
       "\tlab\\_bnp\\_flag1 & 0.9072664 & 0.5398885 & 1.4848879\\\\\n",
       "\tlab\\_troponin\\_flag1 & 1.3108050 & 1.0034982 & 1.7164334\\\\\n",
       "\\end{tabular}\n"
      ],
      "text/markdown": [
       "\n",
       "| <!--/--> | OR | 2.5 % | 97.5 % | \n",
       "|---|---|---|---|---|---|---|---|---|---|---|---|---|---|---|---|---|---|---|---|---|---|---|---|---|---|---|---|---|---|---|---|---|---|---|---|---|---|---|---|---|---|---|---|---|---|---|---|---|---|---|---|---|---|---|---|---|---|---|---|---|\n",
       "| (Intercept) | 2.1100134    | 1.000516e-05 | 3.158235e+05 | \n",
       "| echo1 | 0.6475110    | 5.305195e-01 | 7.897433e-01 | \n",
       "| first_careunitMICU | 1.3940804    | 1.090818e+00 | 1.788157e+00 | \n",
       "| age | 1.0217549    | 1.014075e+00 | 1.029608e+00 | \n",
       "| genderF | 0.8519490    | 7.010928e-01 | 1.034901e+00 | \n",
       "| weight | 0.9918032    | 9.875320e-01 | 9.959827e-01 | \n",
       "| saps | 1.0590592    | 1.032877e+00 | 1.086046e+00 | \n",
       "| sofa | 1.1817844    | 1.137661e+00 | 1.228220e+00 | \n",
       "| elix_score | 1.0297244    | 1.014111e+00 | 1.045621e+00 | \n",
       "| vent1 | 1.3151800    | 9.498565e-01 | 1.820424e+00 | \n",
       "| vaso1 | 0.9795154    | 7.728429e-01 | 1.240536e+00 | \n",
       "| icu_adm_weekdaymonday | 1.0872119    | 7.717193e-01 | 1.531660e+00 | \n",
       "| icu_adm_weekdaysaturday | 1.1101833    | 7.825076e-01 | 1.574576e+00 | \n",
       "| icu_adm_weekdaysunday | 1.0732854    | 7.636691e-01 | 1.508757e+00 | \n",
       "| icu_adm_weekdaythursday | 1.1642670    | 8.376989e-01 | 1.619733e+00 | \n",
       "| icu_adm_weekdaytuesday | 1.0941382    | 7.754934e-01 | 1.543896e+00 | \n",
       "| icu_adm_weekdaywednesday | 1.2205272    | 8.732544e-01 | 1.707645e+00 | \n",
       "| icu_adm_hour1 | 1.2504567    | 6.527733e-01 | 2.400018e+00 | \n",
       "| icu_adm_hour2 | 0.7922848    | 3.870178e-01 | 1.601448e+00 | \n",
       "| icu_adm_hour3 | 1.3327365    | 6.789670e-01 | 2.614100e+00 | \n",
       "| icu_adm_hour4 | 1.6270355    | 8.280910e-01 | 3.201648e+00 | \n",
       "| icu_adm_hour5 | 1.4750371    | 7.178643e-01 | 3.005067e+00 | \n",
       "| icu_adm_hour6 | 1.2964117    | 5.944063e-01 | 2.792412e+00 | \n",
       "| icu_adm_hour7 | 0.8160796    | 2.610729e-01 | 2.249716e+00 | \n",
       "| icu_adm_hour8 | 0.8251392    | 2.852237e-01 | 2.163750e+00 | \n",
       "| icu_adm_hour9 | 1.7583474    | 8.264860e-01 | 3.714876e+00 | \n",
       "| icu_adm_hour10 | 1.1530543    | 5.323486e-01 | 2.465258e+00 | \n",
       "| icu_adm_hour11 | 1.1478717    | 5.979163e-01 | 2.206208e+00 | \n",
       "| icu_adm_hour12 | 1.4155469    | 7.360930e-01 | 2.727139e+00 | \n",
       "| icu_adm_hour13 | 1.4163553    | 7.273610e-01 | 2.761578e+00 | \n",
       "| ⋮ | ⋮ | ⋮ | ⋮ | \n",
       "| icu_adm_hour23 | 0.8922158 | 0.4893999 | 1.6339010 | \n",
       "| icd_chf1 | 0.7725142 | 0.6080043 | 0.9803382 | \n",
       "| icd_afib1 | 1.1360680 | 0.9140399 | 1.4111181 | \n",
       "| icd_renal1 | 0.7776789 | 0.5831327 | 1.0339965 | \n",
       "| icd_liver1 | 1.5101603 | 1.0751104 | 2.1186622 | \n",
       "| icd_copd1 | 1.1800219 | 0.9163337 | 1.5164957 | \n",
       "| icd_cad1 | 1.0579204 | 0.8000827 | 1.3936430 | \n",
       "| icd_stroke1 | 1.9884045 | 1.4185706 | 2.7783236 | \n",
       "| icd_malignancy1 | 1.7348748 | 1.3822257 | 2.1769486 | \n",
       "| vs_heart_rate_first | 1.0070375 | 1.0022560 | 1.0118584 | \n",
       "| vs_map_first | 0.9934569 | 0.9886867 | 0.9981606 | \n",
       "| vs_temp_first | 0.9278872 | 0.8529646 | 1.0044494 | \n",
       "| lab_hemoglobin_first | 0.9769399 | 0.9304882 | 1.0255557 | \n",
       "| lab_platelet_first | 1.0004277 | 0.9996458 | 1.0012050 | \n",
       "| lab_wbc_first | 0.9981219 | 0.9905905 | 1.0056942 | \n",
       "| lab_ph_first | 0.7597331 | 0.1578902 | 3.8507671 | \n",
       "| lab_chloride_first | 0.9797303 | 0.9508777 | 1.0093764 | \n",
       "| lab_sodium_first | 1.0028580 | 0.9714990 | 1.0352688 | \n",
       "| lab_bun_first | 1.0094375 | 1.0045752 | 1.0143786 | \n",
       "| lab_bicarbonate_first | 1.0148586 | 0.9797505 | 1.0508505 | \n",
       "| lab_pco2_first | 0.9995141 | 0.9863958 | 1.0130472 | \n",
       "| lab_creatinine_first | 0.7968828 | 0.7229659 | 0.8742986 | \n",
       "| lab_potassium_first | 1.1070904 | 0.9883050 | 1.2425433 | \n",
       "| lab_po2_first | 0.9998822 | 0.9989177 | 1.0008384 | \n",
       "| lab_lactate_first | 1.1313371 | 1.0730690 | 1.1939762 | \n",
       "| sedative1 | 0.8365677 | 0.6355153 | 1.1032077 | \n",
       "| vs_cvp_flag1 | 0.6155232 | 0.4959402 | 0.7624877 | \n",
       "| lab_creatinine_kinase_flag1 | 0.9051400 | 0.6972666 | 1.1717380 | \n",
       "| lab_bnp_flag1 | 0.9072664 | 0.5398885 | 1.4848879 | \n",
       "| lab_troponin_flag1 | 1.3108050 | 1.0034982 | 1.7164334 | \n",
       "\n",
       "\n"
      ],
      "text/plain": [
       "                            OR        2.5 %        97.5 %      \n",
       "(Intercept)                 2.1100134 1.000516e-05 3.158235e+05\n",
       "echo1                       0.6475110 5.305195e-01 7.897433e-01\n",
       "first_careunitMICU          1.3940804 1.090818e+00 1.788157e+00\n",
       "age                         1.0217549 1.014075e+00 1.029608e+00\n",
       "genderF                     0.8519490 7.010928e-01 1.034901e+00\n",
       "weight                      0.9918032 9.875320e-01 9.959827e-01\n",
       "saps                        1.0590592 1.032877e+00 1.086046e+00\n",
       "sofa                        1.1817844 1.137661e+00 1.228220e+00\n",
       "elix_score                  1.0297244 1.014111e+00 1.045621e+00\n",
       "vent1                       1.3151800 9.498565e-01 1.820424e+00\n",
       "vaso1                       0.9795154 7.728429e-01 1.240536e+00\n",
       "icu_adm_weekdaymonday       1.0872119 7.717193e-01 1.531660e+00\n",
       "icu_adm_weekdaysaturday     1.1101833 7.825076e-01 1.574576e+00\n",
       "icu_adm_weekdaysunday       1.0732854 7.636691e-01 1.508757e+00\n",
       "icu_adm_weekdaythursday     1.1642670 8.376989e-01 1.619733e+00\n",
       "icu_adm_weekdaytuesday      1.0941382 7.754934e-01 1.543896e+00\n",
       "icu_adm_weekdaywednesday    1.2205272 8.732544e-01 1.707645e+00\n",
       "icu_adm_hour1               1.2504567 6.527733e-01 2.400018e+00\n",
       "icu_adm_hour2               0.7922848 3.870178e-01 1.601448e+00\n",
       "icu_adm_hour3               1.3327365 6.789670e-01 2.614100e+00\n",
       "icu_adm_hour4               1.6270355 8.280910e-01 3.201648e+00\n",
       "icu_adm_hour5               1.4750371 7.178643e-01 3.005067e+00\n",
       "icu_adm_hour6               1.2964117 5.944063e-01 2.792412e+00\n",
       "icu_adm_hour7               0.8160796 2.610729e-01 2.249716e+00\n",
       "icu_adm_hour8               0.8251392 2.852237e-01 2.163750e+00\n",
       "icu_adm_hour9               1.7583474 8.264860e-01 3.714876e+00\n",
       "icu_adm_hour10              1.1530543 5.323486e-01 2.465258e+00\n",
       "icu_adm_hour11              1.1478717 5.979163e-01 2.206208e+00\n",
       "icu_adm_hour12              1.4155469 7.360930e-01 2.727139e+00\n",
       "icu_adm_hour13              1.4163553 7.273610e-01 2.761578e+00\n",
       "⋮                           ⋮         ⋮            ⋮           \n",
       "icu_adm_hour23              0.8922158 0.4893999    1.6339010   \n",
       "icd_chf1                    0.7725142 0.6080043    0.9803382   \n",
       "icd_afib1                   1.1360680 0.9140399    1.4111181   \n",
       "icd_renal1                  0.7776789 0.5831327    1.0339965   \n",
       "icd_liver1                  1.5101603 1.0751104    2.1186622   \n",
       "icd_copd1                   1.1800219 0.9163337    1.5164957   \n",
       "icd_cad1                    1.0579204 0.8000827    1.3936430   \n",
       "icd_stroke1                 1.9884045 1.4185706    2.7783236   \n",
       "icd_malignancy1             1.7348748 1.3822257    2.1769486   \n",
       "vs_heart_rate_first         1.0070375 1.0022560    1.0118584   \n",
       "vs_map_first                0.9934569 0.9886867    0.9981606   \n",
       "vs_temp_first               0.9278872 0.8529646    1.0044494   \n",
       "lab_hemoglobin_first        0.9769399 0.9304882    1.0255557   \n",
       "lab_platelet_first          1.0004277 0.9996458    1.0012050   \n",
       "lab_wbc_first               0.9981219 0.9905905    1.0056942   \n",
       "lab_ph_first                0.7597331 0.1578902    3.8507671   \n",
       "lab_chloride_first          0.9797303 0.9508777    1.0093764   \n",
       "lab_sodium_first            1.0028580 0.9714990    1.0352688   \n",
       "lab_bun_first               1.0094375 1.0045752    1.0143786   \n",
       "lab_bicarbonate_first       1.0148586 0.9797505    1.0508505   \n",
       "lab_pco2_first              0.9995141 0.9863958    1.0130472   \n",
       "lab_creatinine_first        0.7968828 0.7229659    0.8742986   \n",
       "lab_potassium_first         1.1070904 0.9883050    1.2425433   \n",
       "lab_po2_first               0.9998822 0.9989177    1.0008384   \n",
       "lab_lactate_first           1.1313371 1.0730690    1.1939762   \n",
       "sedative1                   0.8365677 0.6355153    1.1032077   \n",
       "vs_cvp_flag1                0.6155232 0.4959402    0.7624877   \n",
       "lab_creatinine_kinase_flag1 0.9051400 0.6972666    1.1717380   \n",
       "lab_bnp_flag1               0.9072664 0.5398885    1.4848879   \n",
       "lab_troponin_flag1          1.3108050 1.0034982    1.7164334   "
      ]
     },
     "metadata": {},
     "output_type": "display_data"
    }
   ],
   "source": [
    "unweighted <- glm(as.formula(fml), data = full_data, family = binomial, na.action = na.exclude)\n",
    "summary(unweighted)\n",
    "exp(cbind(OR = coef(unweighted), confint(unweighted)))"
   ]
  },
  {
   "cell_type": "code",
   "execution_count": 16,
   "metadata": {},
   "outputs": [],
   "source": [
    "saveRDS(unweighted, file = file.path(data_dir, \"multivariate_model.rds\"))"
   ]
  },
  {
   "cell_type": "code",
   "execution_count": 17,
   "metadata": {},
   "outputs": [
    {
     "data": {
      "text/html": [
       "'echo_int ~ first_careunit + age + gender + weight + saps + sofa + elix_score + vent + vaso + icu_adm_weekday + icu_adm_hour + icd_chf + icd_afib + icd_renal + icd_liver + icd_copd + icd_cad + icd_stroke + icd_malignancy + vs_heart_rate_first + vs_map_first + vs_temp_first + lab_hemoglobin_first + lab_platelet_first + lab_wbc_first + lab_ph_first + lab_chloride_first + lab_sodium_first + lab_bun_first + lab_bicarbonate_first + lab_pco2_first + lab_creatinine_first + lab_potassium_first + lab_po2_first + lab_lactate_first + sedative + vs_cvp_flag + lab_creatinine_kinase_flag + lab_bnp_flag + lab_troponin_flag'"
      ],
      "text/latex": [
       "'echo\\_int \\textasciitilde{} first\\_careunit + age + gender + weight + saps + sofa + elix\\_score + vent + vaso + icu\\_adm\\_weekday + icu\\_adm\\_hour + icd\\_chf + icd\\_afib + icd\\_renal + icd\\_liver + icd\\_copd + icd\\_cad + icd\\_stroke + icd\\_malignancy + vs\\_heart\\_rate\\_first + vs\\_map\\_first + vs\\_temp\\_first + lab\\_hemoglobin\\_first + lab\\_platelet\\_first + lab\\_wbc\\_first + lab\\_ph\\_first + lab\\_chloride\\_first + lab\\_sodium\\_first + lab\\_bun\\_first + lab\\_bicarbonate\\_first + lab\\_pco2\\_first + lab\\_creatinine\\_first + lab\\_potassium\\_first + lab\\_po2\\_first + lab\\_lactate\\_first + sedative + vs\\_cvp\\_flag + lab\\_creatinine\\_kinase\\_flag + lab\\_bnp\\_flag + lab\\_troponin\\_flag'"
      ],
      "text/markdown": [
       "'echo_int ~ first_careunit + age + gender + weight + saps + sofa + elix_score + vent + vaso + icu_adm_weekday + icu_adm_hour + icd_chf + icd_afib + icd_renal + icd_liver + icd_copd + icd_cad + icd_stroke + icd_malignancy + vs_heart_rate_first + vs_map_first + vs_temp_first + lab_hemoglobin_first + lab_platelet_first + lab_wbc_first + lab_ph_first + lab_chloride_first + lab_sodium_first + lab_bun_first + lab_bicarbonate_first + lab_pco2_first + lab_creatinine_first + lab_potassium_first + lab_po2_first + lab_lactate_first + sedative + vs_cvp_flag + lab_creatinine_kinase_flag + lab_bnp_flag + lab_troponin_flag'"
      ],
      "text/plain": [
       "[1] \"echo_int ~ first_careunit + age + gender + weight + saps + sofa + elix_score + vent + vaso + icu_adm_weekday + icu_adm_hour + icd_chf + icd_afib + icd_renal + icd_liver + icd_copd + icd_cad + icd_stroke + icd_malignancy + vs_heart_rate_first + vs_map_first + vs_temp_first + lab_hemoglobin_first + lab_platelet_first + lab_wbc_first + lab_ph_first + lab_chloride_first + lab_sodium_first + lab_bun_first + lab_bicarbonate_first + lab_pco2_first + lab_creatinine_first + lab_potassium_first + lab_po2_first + lab_lactate_first + sedative + vs_cvp_flag + lab_creatinine_kinase_flag + lab_bnp_flag + lab_troponin_flag\""
      ]
     },
     "metadata": {},
     "output_type": "display_data"
    }
   ],
   "source": [
    "fml <- feature_names %>%\n",
    "    paste(collapse = \" + \") %>%\n",
    "    sprintf(\"echo_int ~ %s\", .)\n",
    "fml"
   ]
  },
  {
   "cell_type": "code",
   "execution_count": 18,
   "metadata": {},
   "outputs": [],
   "source": [
    "echo_ps_ate <- ps(as.formula(fml),\n",
    "                  data = full_data,\n",
    "                  interaction.depth = 2,\n",
    "                  shrinkage = 0.01,\n",
    "                  perm.test.iters = 0,\n",
    "                  estimand = \"ATE\",\n",
    "                  verbose = FALSE,\n",
    "                  stop.method = c(\"es.mean\", \"es.max\", \"ks.mean\", \"ks.max\"),\n",
    "                  n.trees = 10000,\n",
    "                  train.fraction = 0.8,\n",
    "                  cv.folds = 3,\n",
    "                  n.cores = 8)"
   ]
  },
  {
   "cell_type": "code",
   "execution_count": 19,
   "metadata": {},
   "outputs": [
    {
     "data": {
      "text/html": [
       "0.818770873854406"
      ],
      "text/latex": [
       "0.818770873854406"
      ],
      "text/markdown": [
       "0.818770873854406"
      ],
      "text/plain": [
       "[1] 0.8187709"
      ]
     },
     "metadata": {},
     "output_type": "display_data"
    }
   ],
   "source": [
    "pred <- echo_ps_ate$ps$es.mean.ATE\n",
    "full_data <- full_data %>% mutate(ps = pred)\n",
    "ROCR::performance(ROCR::prediction(pred, label), \"auc\")@y.values %>% first"
   ]
  },
  {
   "cell_type": "code",
   "execution_count": 20,
   "metadata": {},
   "outputs": [],
   "source": [
    "ft_importance <- summary(echo_ps_ate$gbm.obj,\n",
    "                         n.trees = echo_ps_ate$desc$es.mean.ATE$n.trees,\n",
    "                         plot = FALSE)"
   ]
  },
  {
   "cell_type": "code",
   "execution_count": 21,
   "metadata": {},
   "outputs": [],
   "source": [
    "full_data <- full_data %>%\n",
    "    mutate(ps_weight = get.weights(echo_ps_ate, stop.method = \"es.mean\"))"
   ]
  },
  {
   "cell_type": "code",
   "execution_count": 22,
   "metadata": {},
   "outputs": [],
   "source": [
    "saveRDS(full_data, file = file.path(data_dir, \"full_data_ps.rds\"))"
   ]
  },
  {
   "cell_type": "code",
   "execution_count": 23,
   "metadata": {},
   "outputs": [],
   "source": [
    "saveRDS(ft_importance, file = file.path(data_dir, \"feature_importance.rds\"))"
   ]
  },
  {
   "cell_type": "code",
   "execution_count": 24,
   "metadata": {},
   "outputs": [
    {
     "name": "stderr",
     "output_type": "stream",
     "text": [
      "Warning message in eval(family$initialize):\n",
      "“non-integer #successes in a binomial glm!”"
     ]
    },
    {
     "data": {
      "text/plain": [
       "\n",
       "Call:\n",
       "glm(formula = mort_28_day ~ echo, family = binomial, data = full_data, \n",
       "    weights = full_data$ps_weight)\n",
       "\n",
       "Deviance Residuals: \n",
       "    Min       1Q   Median       3Q      Max  \n",
       "-2.3814  -1.0784  -0.9486   1.7385   4.4970  \n",
       "\n",
       "Coefficients:\n",
       "            Estimate Std. Error z value Pr(>|z|)    \n",
       "(Intercept) -0.88797    0.02904 -30.574  < 2e-16 ***\n",
       "echo1       -0.16639    0.04167  -3.993 6.53e-05 ***\n",
       "---\n",
       "Signif. codes:  0 ‘***’ 0.001 ‘**’ 0.01 ‘*’ 0.05 ‘.’ 0.1 ‘ ’ 1\n",
       "\n",
       "(Dispersion parameter for binomial family taken to be 1)\n",
       "\n",
       "    Null deviance: 13620  on 6360  degrees of freedom\n",
       "Residual deviance: 13604  on 6359  degrees of freedom\n",
       "AIC: 13246\n",
       "\n",
       "Number of Fisher Scoring iterations: 4\n"
      ]
     },
     "metadata": {},
     "output_type": "display_data"
    },
    {
     "name": "stderr",
     "output_type": "stream",
     "text": [
      "Waiting for profiling to be done...\n",
      "Warning message in eval(family$initialize):\n",
      "“non-integer #successes in a binomial glm!”Warning message in eval(family$initialize):\n",
      "“non-integer #successes in a binomial glm!”Warning message in eval(family$initialize):\n",
      "“non-integer #successes in a binomial glm!”Warning message in eval(family$initialize):\n",
      "“non-integer #successes in a binomial glm!”Warning message in eval(family$initialize):\n",
      "“non-integer #successes in a binomial glm!”Warning message in eval(family$initialize):\n",
      "“non-integer #successes in a binomial glm!”Warning message in eval(family$initialize):\n",
      "“non-integer #successes in a binomial glm!”Warning message in eval(family$initialize):\n",
      "“non-integer #successes in a binomial glm!”Warning message in eval(family$initialize):\n",
      "“non-integer #successes in a binomial glm!”Warning message in eval(family$initialize):\n",
      "“non-integer #successes in a binomial glm!”Warning message in eval(family$initialize):\n",
      "“non-integer #successes in a binomial glm!”Warning message in eval(family$initialize):\n",
      "“non-integer #successes in a binomial glm!”Warning message in eval(family$initialize):\n",
      "“non-integer #successes in a binomial glm!”Warning message in eval(family$initialize):\n",
      "“non-integer #successes in a binomial glm!”Warning message in eval(family$initialize):\n",
      "“non-integer #successes in a binomial glm!”Warning message in eval(family$initialize):\n",
      "“non-integer #successes in a binomial glm!”Warning message in eval(family$initialize):\n",
      "“non-integer #successes in a binomial glm!”Warning message in eval(family$initialize):\n",
      "“non-integer #successes in a binomial glm!”Warning message in eval(family$initialize):\n",
      "“non-integer #successes in a binomial glm!”Warning message in eval(family$initialize):\n",
      "“non-integer #successes in a binomial glm!”Warning message in eval(family$initialize):\n",
      "“non-integer #successes in a binomial glm!”Warning message in eval(family$initialize):\n",
      "“non-integer #successes in a binomial glm!”"
     ]
    },
    {
     "data": {
      "text/html": [
       "<table>\n",
       "<thead><tr><th></th><th scope=col>OR</th><th scope=col>2.5 %</th><th scope=col>97.5 %</th></tr></thead>\n",
       "<tbody>\n",
       "\t<tr><th scope=row>(Intercept)</th><td>0.4114919</td><td>0.3886324</td><td>0.4354995</td></tr>\n",
       "\t<tr><th scope=row>echo1</th><td>0.8467171</td><td>0.7802762</td><td>0.9187552</td></tr>\n",
       "</tbody>\n",
       "</table>\n"
      ],
      "text/latex": [
       "\\begin{tabular}{r|lll}\n",
       "  & OR & 2.5 \\% & 97.5 \\%\\\\\n",
       "\\hline\n",
       "\t(Intercept) & 0.4114919 & 0.3886324 & 0.4354995\\\\\n",
       "\techo1 & 0.8467171 & 0.7802762 & 0.9187552\\\\\n",
       "\\end{tabular}\n"
      ],
      "text/markdown": [
       "\n",
       "| <!--/--> | OR | 2.5 % | 97.5 % | \n",
       "|---|---|\n",
       "| (Intercept) | 0.4114919 | 0.3886324 | 0.4354995 | \n",
       "| echo1 | 0.8467171 | 0.7802762 | 0.9187552 | \n",
       "\n",
       "\n"
      ],
      "text/plain": [
       "            OR        2.5 %     97.5 %   \n",
       "(Intercept) 0.4114919 0.3886324 0.4354995\n",
       "echo1       0.8467171 0.7802762 0.9187552"
      ]
     },
     "metadata": {},
     "output_type": "display_data"
    }
   ],
   "source": [
    "primary_ipw <- glm(mort_28_day ~ echo, data = full_data,\n",
    "                   weights = full_data$ps_weight, family = binomial)\n",
    "summary(primary_ipw)\n",
    "exp(cbind(OR = coef(primary_ipw), confint(primary_ipw)))"
   ]
  },
  {
   "cell_type": "code",
   "execution_count": 25,
   "metadata": {},
   "outputs": [],
   "source": [
    "saveRDS(primary_ipw, file = file.path(data_dir, \"ipw_model.rds\"))"
   ]
  },
  {
   "cell_type": "code",
   "execution_count": 26,
   "metadata": {},
   "outputs": [],
   "source": [
    "ipw_svydesign <- svydesign(ids = ~ icustay_id, weights = ~ ps_weight, data = full_data)"
   ]
  },
  {
   "cell_type": "code",
   "execution_count": 27,
   "metadata": {},
   "outputs": [],
   "source": [
    "saveRDS(ipw_svydesign, file = file.path(data_dir, \"ipw_svydesign.rds\"))"
   ]
  },
  {
   "cell_type": "code",
   "execution_count": 28,
   "metadata": {},
   "outputs": [
    {
     "data": {
      "text/html": [
       "'mort_28_day ~ echo + first_careunit + age + gender + weight + saps + sofa + elix_score + vent + vaso + icu_adm_weekday + icu_adm_hour + icd_chf + icd_afib + icd_renal + icd_liver + icd_copd + icd_cad + icd_stroke + icd_malignancy + vs_heart_rate_first + vs_map_first + vs_temp_first + lab_hemoglobin_first + lab_platelet_first + lab_wbc_first + lab_ph_first + lab_chloride_first + lab_sodium_first + lab_bun_first + lab_bicarbonate_first + lab_pco2_first + lab_creatinine_first + lab_potassium_first + lab_po2_first + lab_lactate_first + sedative + vs_cvp_flag + lab_creatinine_kinase_flag + lab_bnp_flag + lab_troponin_flag'"
      ],
      "text/latex": [
       "'mort\\_28\\_day \\textasciitilde{} echo + first\\_careunit + age + gender + weight + saps + sofa + elix\\_score + vent + vaso + icu\\_adm\\_weekday + icu\\_adm\\_hour + icd\\_chf + icd\\_afib + icd\\_renal + icd\\_liver + icd\\_copd + icd\\_cad + icd\\_stroke + icd\\_malignancy + vs\\_heart\\_rate\\_first + vs\\_map\\_first + vs\\_temp\\_first + lab\\_hemoglobin\\_first + lab\\_platelet\\_first + lab\\_wbc\\_first + lab\\_ph\\_first + lab\\_chloride\\_first + lab\\_sodium\\_first + lab\\_bun\\_first + lab\\_bicarbonate\\_first + lab\\_pco2\\_first + lab\\_creatinine\\_first + lab\\_potassium\\_first + lab\\_po2\\_first + lab\\_lactate\\_first + sedative + vs\\_cvp\\_flag + lab\\_creatinine\\_kinase\\_flag + lab\\_bnp\\_flag + lab\\_troponin\\_flag'"
      ],
      "text/markdown": [
       "'mort_28_day ~ echo + first_careunit + age + gender + weight + saps + sofa + elix_score + vent + vaso + icu_adm_weekday + icu_adm_hour + icd_chf + icd_afib + icd_renal + icd_liver + icd_copd + icd_cad + icd_stroke + icd_malignancy + vs_heart_rate_first + vs_map_first + vs_temp_first + lab_hemoglobin_first + lab_platelet_first + lab_wbc_first + lab_ph_first + lab_chloride_first + lab_sodium_first + lab_bun_first + lab_bicarbonate_first + lab_pco2_first + lab_creatinine_first + lab_potassium_first + lab_po2_first + lab_lactate_first + sedative + vs_cvp_flag + lab_creatinine_kinase_flag + lab_bnp_flag + lab_troponin_flag'"
      ],
      "text/plain": [
       "[1] \"mort_28_day ~ echo + first_careunit + age + gender + weight + saps + sofa + elix_score + vent + vaso + icu_adm_weekday + icu_adm_hour + icd_chf + icd_afib + icd_renal + icd_liver + icd_copd + icd_cad + icd_stroke + icd_malignancy + vs_heart_rate_first + vs_map_first + vs_temp_first + lab_hemoglobin_first + lab_platelet_first + lab_wbc_first + lab_ph_first + lab_chloride_first + lab_sodium_first + lab_bun_first + lab_bicarbonate_first + lab_pco2_first + lab_creatinine_first + lab_potassium_first + lab_po2_first + lab_lactate_first + sedative + vs_cvp_flag + lab_creatinine_kinase_flag + lab_bnp_flag + lab_troponin_flag\""
      ]
     },
     "metadata": {},
     "output_type": "display_data"
    }
   ],
   "source": [
    "fml <- feature_names %>%\n",
    "    c(label_name, .) %>%\n",
    "    paste(collapse = \" + \") %>%\n",
    "    sprintf(\"mort_28_day ~ %s\", .)\n",
    "fml"
   ]
  },
  {
   "cell_type": "code",
   "execution_count": 29,
   "metadata": {},
   "outputs": [],
   "source": [
    "logi <- svyglm(as.formula(fml),\n",
    "               family = quasibinomial,\n",
    "               design = ipw_svydesign)"
   ]
  },
  {
   "cell_type": "code",
   "execution_count": 30,
   "metadata": {},
   "outputs": [
    {
     "data": {
      "text/plain": [
       "\n",
       "Call:\n",
       "svyglm(formula = as.formula(fml), family = quasibinomial, design = ipw_svydesign)\n",
       "\n",
       "Survey design:\n",
       "svydesign(ids = ~icustay_id, weights = ~ps_weight, data = full_data)\n",
       "\n",
       "Coefficients:\n",
       "                              Estimate Std. Error t value Pr(>|t|)    \n",
       "(Intercept)                  2.9066769  6.6676398   0.436 0.662914    \n",
       "echo1                       -0.4479433  0.1045921  -4.283 1.90e-05 ***\n",
       "first_careunitMICU           0.4592459  0.1342266   3.421 0.000631 ***\n",
       "age                          0.0209182  0.0041544   5.035 5.06e-07 ***\n",
       "genderF                     -0.1387174  0.1066699  -1.300 0.193553    \n",
       "weight                      -0.0102176  0.0023507  -4.347 1.43e-05 ***\n",
       "saps                         0.0575511  0.0139018   4.140 3.57e-05 ***\n",
       "sofa                         0.1825633  0.0202617   9.010  < 2e-16 ***\n",
       "elix_score                   0.0272038  0.0081078   3.355 0.000803 ***\n",
       "vent1                        0.3089768  0.1741606   1.774 0.076151 .  \n",
       "vaso1                       -0.0074250  0.1264165  -0.059 0.953168    \n",
       "icu_adm_weekdaymonday        0.0446689  0.1928875   0.232 0.816880    \n",
       "icu_adm_weekdaysaturday      0.1327117  0.1948730   0.681 0.495915    \n",
       "icu_adm_weekdaysunday        0.1279066  0.1872803   0.683 0.494680    \n",
       "icu_adm_weekdaythursday      0.2468991  0.1834162   1.346 0.178369    \n",
       "icu_adm_weekdaytuesday       0.0644212  0.1950583   0.330 0.741222    \n",
       "icu_adm_weekdaywednesday     0.2390555  0.1864754   1.282 0.199954    \n",
       "icu_adm_hour1                0.3951399  0.3289206   1.201 0.229722    \n",
       "icu_adm_hour2               -0.1682979  0.3713776  -0.453 0.650458    \n",
       "icu_adm_hour3                0.3761657  0.3654190   1.029 0.303372    \n",
       "icu_adm_hour4                0.5433216  0.3563766   1.525 0.127473    \n",
       "icu_adm_hour5                0.3868610  0.4056529   0.954 0.340326    \n",
       "icu_adm_hour6                0.3459847  0.4673715   0.740 0.459190    \n",
       "icu_adm_hour7               -0.0931796  0.6190025  -0.151 0.880355    \n",
       "icu_adm_hour8                0.0043773  0.4813154   0.009 0.992744    \n",
       "icu_adm_hour9                0.6313660  0.3555736   1.776 0.075897 .  \n",
       "icu_adm_hour10               0.1448040  0.4274799   0.339 0.734831    \n",
       "icu_adm_hour11               0.2422896  0.3379243   0.717 0.473435    \n",
       "icu_adm_hour12               0.8197406  0.3374708   2.429 0.015197 *  \n",
       "icu_adm_hour13               0.5712483  0.3452623   1.655 0.098125 .  \n",
       "icu_adm_hour14               0.4936480  0.3270532   1.509 0.131308    \n",
       "icu_adm_hour15               0.5815193  0.3079672   1.888 0.059090 .  \n",
       "icu_adm_hour16               0.5128033  0.3085421   1.662 0.096615 .  \n",
       "icu_adm_hour17               0.4741162  0.2943385   1.611 0.107333    \n",
       "icu_adm_hour18               0.1533551  0.2924810   0.524 0.600092    \n",
       "icu_adm_hour19               0.1650745  0.3053965   0.541 0.588876    \n",
       "icu_adm_hour20               0.5477983  0.2789832   1.964 0.049676 *  \n",
       "icu_adm_hour21               0.3106622  0.2866138   1.084 0.278495    \n",
       "icu_adm_hour22               0.7618961  0.2879843   2.646 0.008197 ** \n",
       "icu_adm_hour23               0.1999704  0.3089062   0.647 0.517456    \n",
       "icd_chf1                    -0.2860754  0.1312987  -2.179 0.029424 *  \n",
       "icd_afib1                    0.1723943  0.1204577   1.431 0.152490    \n",
       "icd_renal1                  -0.2508528  0.1558820  -1.609 0.107669    \n",
       "icd_liver1                   0.5246839  0.1817170   2.887 0.003913 ** \n",
       "icd_copd1                    0.1050085  0.1370212   0.766 0.443519    \n",
       "icd_cad1                     0.1132939  0.1535934   0.738 0.460803    \n",
       "icd_stroke1                  0.8657902  0.2021734   4.282 1.91e-05 ***\n",
       "icd_malignancy1              0.5913982  0.1232201   4.800 1.67e-06 ***\n",
       "vs_heart_rate_first          0.0077049  0.0025590   3.011 0.002627 ** \n",
       "vs_map_first                -0.0059033  0.0028318  -2.085 0.037191 *  \n",
       "vs_temp_first               -0.0385717  0.0441724  -0.873 0.382620    \n",
       "lab_hemoglobin_first        -0.0168203  0.0258001  -0.652 0.514486    \n",
       "lab_platelet_first           0.0006046  0.0004136   1.462 0.143898    \n",
       "lab_wbc_first               -0.0019115  0.0037030  -0.516 0.605751    \n",
       "lab_ph_first                -0.8576986  0.8873595  -0.967 0.333836    \n",
       "lab_chloride_first          -0.0175687  0.0164957  -1.065 0.286942    \n",
       "lab_sodium_first             0.0025479  0.0177512   0.144 0.885876    \n",
       "lab_bun_first                0.0103421  0.0027704   3.733 0.000193 ***\n",
       "lab_bicarbonate_first        0.0254726  0.0189855   1.342 0.179800    \n",
       "lab_pco2_first              -0.0050370  0.0073377  -0.686 0.492477    \n",
       "lab_creatinine_first        -0.2476527  0.0550991  -4.495 7.24e-06 ***\n",
       "lab_potassium_first          0.1138494  0.0636441   1.789 0.073742 .  \n",
       "lab_po2_first               -0.0002401  0.0005352  -0.449 0.653714    \n",
       "lab_lactate_first            0.1267248  0.0282861   4.480 7.74e-06 ***\n",
       "sedative1                   -0.1666804  0.1476342  -1.129 0.258986    \n",
       "vs_cvp_flag1                -0.5239473  0.1175060  -4.459 8.55e-06 ***\n",
       "lab_creatinine_kinase_flag1 -0.0971565  0.1375577  -0.706 0.480060    \n",
       "lab_bnp_flag1                0.1287260  0.2944365   0.437 0.662002    \n",
       "lab_troponin_flag1           0.2902283  0.1432229   2.026 0.042813 *  \n",
       "---\n",
       "Signif. codes:  0 ‘***’ 0.001 ‘**’ 0.01 ‘*’ 0.05 ‘.’ 0.1 ‘ ’ 1\n",
       "\n",
       "(Dispersion parameter for quasibinomial family taken to be 1.000856)\n",
       "\n",
       "Number of Fisher Scoring iterations: 5\n"
      ]
     },
     "metadata": {},
     "output_type": "display_data"
    }
   ],
   "source": [
    "summary(logi)"
   ]
  },
  {
   "cell_type": "code",
   "execution_count": 31,
   "metadata": {},
   "outputs": [
    {
     "data": {
      "text/html": [
       "<table>\n",
       "<thead><tr><th></th><th scope=col>OR</th><th scope=col>2.5 %</th><th scope=col>97.5 %</th></tr></thead>\n",
       "<tbody>\n",
       "\t<tr><th scope=row>(Intercept)</th><td>18.2958976  </td><td>3.862322e-05</td><td>8.666804e+06</td></tr>\n",
       "\t<tr><th scope=row>echo1</th><td> 0.6389409  </td><td>5.205132e-01</td><td>7.843134e-01</td></tr>\n",
       "\t<tr><th scope=row>first_careunitMICU</th><td> 1.5828799  </td><td>1.216730e+00</td><td>2.059216e+00</td></tr>\n",
       "\t<tr><th scope=row>age</th><td> 1.0211385  </td><td>1.012858e+00</td><td>1.029487e+00</td></tr>\n",
       "\t<tr><th scope=row>genderF</th><td> 0.8704740  </td><td>7.062497e-01</td><td>1.072885e+00</td></tr>\n",
       "\t<tr><th scope=row>weight</th><td> 0.9898344  </td><td>9.852845e-01</td><td>9.944054e-01</td></tr>\n",
       "\t<tr><th scope=row>saps</th><td> 1.0592393  </td><td>1.030768e+00</td><td>1.088497e+00</td></tr>\n",
       "\t<tr><th scope=row>sofa</th><td> 1.2002901  </td><td>1.153558e+00</td><td>1.248915e+00</td></tr>\n",
       "\t<tr><th scope=row>elix_score</th><td> 1.0275772  </td><td>1.011377e+00</td><td>1.044037e+00</td></tr>\n",
       "\t<tr><th scope=row>vent1</th><td> 1.3620307  </td><td>9.681466e-01</td><td>1.916164e+00</td></tr>\n",
       "\t<tr><th scope=row>vaso1</th><td> 0.9926025  </td><td>7.747640e-01</td><td>1.271690e+00</td></tr>\n",
       "\t<tr><th scope=row>icu_adm_weekdaymonday</th><td> 1.0456816  </td><td>7.164952e-01</td><td>1.526109e+00</td></tr>\n",
       "\t<tr><th scope=row>icu_adm_weekdaysaturday</th><td> 1.1419207  </td><td>7.793988e-01</td><td>1.673062e+00</td></tr>\n",
       "\t<tr><th scope=row>icu_adm_weekdaysunday</th><td> 1.1364468  </td><td>7.872920e-01</td><td>1.640448e+00</td></tr>\n",
       "\t<tr><th scope=row>icu_adm_weekdaythursday</th><td> 1.2800500  </td><td>8.935168e-01</td><td>1.833796e+00</td></tr>\n",
       "\t<tr><th scope=row>icu_adm_weekdaytuesday</th><td> 1.0665416  </td><td>7.276858e-01</td><td>1.563190e+00</td></tr>\n",
       "\t<tr><th scope=row>icu_adm_weekdaywednesday</th><td> 1.2700490  </td><td>8.812363e-01</td><td>1.830411e+00</td></tr>\n",
       "\t<tr><th scope=row>icu_adm_hour1</th><td> 1.4845919  </td><td>7.791648e-01</td><td>2.828687e+00</td></tr>\n",
       "\t<tr><th scope=row>icu_adm_hour2</th><td> 0.8451020  </td><td>4.081238e-01</td><td>1.749953e+00</td></tr>\n",
       "\t<tr><th scope=row>icu_adm_hour3</th><td> 1.4566885  </td><td>7.117402e-01</td><td>2.981343e+00</td></tr>\n",
       "\t<tr><th scope=row>icu_adm_hour4</th><td> 1.7217163  </td><td>8.562750e-01</td><td>3.461863e+00</td></tr>\n",
       "\t<tr><th scope=row>icu_adm_hour5</th><td> 1.4723519  </td><td>6.648432e-01</td><td>3.260648e+00</td></tr>\n",
       "\t<tr><th scope=row>icu_adm_hour6</th><td> 1.4133809  </td><td>5.654990e-01</td><td>3.532536e+00</td></tr>\n",
       "\t<tr><th scope=row>icu_adm_hour7</th><td> 0.9110299  </td><td>2.707926e-01</td><td>3.064986e+00</td></tr>\n",
       "\t<tr><th scope=row>icu_adm_hour8</th><td> 1.0043869  </td><td>3.910251e-01</td><td>2.579868e+00</td></tr>\n",
       "\t<tr><th scope=row>icu_adm_hour9</th><td> 1.8801772  </td><td>9.365564e-01</td><td>3.774536e+00</td></tr>\n",
       "\t<tr><th scope=row>icu_adm_hour10</th><td> 1.1558131  </td><td>5.000530e-01</td><td>2.671525e+00</td></tr>\n",
       "\t<tr><th scope=row>icu_adm_hour11</th><td> 1.2741631  </td><td>6.570271e-01</td><td>2.470966e+00</td></tr>\n",
       "\t<tr><th scope=row>icu_adm_hour12</th><td> 2.2699111  </td><td>1.171529e+00</td><td>4.398094e+00</td></tr>\n",
       "\t<tr><th scope=row>icu_adm_hour13</th><td> 1.7704758  </td><td>8.999165e-01</td><td>3.483195e+00</td></tr>\n",
       "\t<tr><th scope=row>⋮</th><td>⋮</td><td>⋮</td><td>⋮</td></tr>\n",
       "\t<tr><th scope=row>icu_adm_hour23</th><td>1.2213666 </td><td>0.66666030</td><td>2.2376261 </td></tr>\n",
       "\t<tr><th scope=row>icd_chf1</th><td>0.7512059 </td><td>0.58076083</td><td>0.9716743 </td></tr>\n",
       "\t<tr><th scope=row>icd_afib1</th><td>1.1881462 </td><td>0.93828788</td><td>1.5045397 </td></tr>\n",
       "\t<tr><th scope=row>icd_renal1</th><td>0.7781369 </td><td>0.57328297</td><td>1.0561923 </td></tr>\n",
       "\t<tr><th scope=row>icd_liver1</th><td>1.6899246 </td><td>1.18355806</td><td>2.4129321 </td></tr>\n",
       "\t<tr><th scope=row>icd_copd1</th><td>1.1107201 </td><td>0.84912561</td><td>1.4529053 </td></tr>\n",
       "\t<tr><th scope=row>icd_cad1</th><td>1.1199611 </td><td>0.82882713</td><td>1.5133588 </td></tr>\n",
       "\t<tr><th scope=row>icd_stroke1</th><td>2.3768835 </td><td>1.59925454</td><td>3.5326305 </td></tr>\n",
       "\t<tr><th scope=row>icd_malignancy1</th><td>1.8065124 </td><td>1.41891306</td><td>2.2999909 </td></tr>\n",
       "\t<tr><th scope=row>vs_heart_rate_first</th><td>1.0077346 </td><td>1.00269295</td><td>1.0128016 </td></tr>\n",
       "\t<tr><th scope=row>vs_map_first</th><td>0.9941141 </td><td>0.98861180</td><td>0.9996471 </td></tr>\n",
       "\t<tr><th scope=row>vs_temp_first</th><td>0.9621627 </td><td>0.88236623</td><td>1.0491755 </td></tr>\n",
       "\t<tr><th scope=row>lab_hemoglobin_first</th><td>0.9833204 </td><td>0.93483277</td><td>1.0343229 </td></tr>\n",
       "\t<tr><th scope=row>lab_platelet_first</th><td>1.0006048 </td><td>0.99979400</td><td>1.0014162 </td></tr>\n",
       "\t<tr><th scope=row>lab_wbc_first</th><td>0.9980903 </td><td>0.99087272</td><td>1.0053605 </td></tr>\n",
       "\t<tr><th scope=row>lab_ph_first</th><td>0.4241371 </td><td>0.07450483</td><td>2.4145046 </td></tr>\n",
       "\t<tr><th scope=row>lab_chloride_first</th><td>0.9825848 </td><td>0.95132492</td><td>1.0148718 </td></tr>\n",
       "\t<tr><th scope=row>lab_sodium_first</th><td>1.0025512 </td><td>0.96827055</td><td>1.0380455 </td></tr>\n",
       "\t<tr><th scope=row>lab_bun_first</th><td>1.0103958 </td><td>1.00492427</td><td>1.0158971 </td></tr>\n",
       "\t<tr><th scope=row>lab_bicarbonate_first</th><td>1.0257998 </td><td>0.98833040</td><td>1.0646898 </td></tr>\n",
       "\t<tr><th scope=row>lab_pco2_first</th><td>0.9949757 </td><td>0.98076874</td><td>1.0093884 </td></tr>\n",
       "\t<tr><th scope=row>lab_creatinine_first</th><td>0.7806310 </td><td>0.70072140</td><td>0.8696534 </td></tr>\n",
       "\t<tr><th scope=row>lab_potassium_first</th><td>1.1205833 </td><td>0.98916830</td><td>1.2694573 </td></tr>\n",
       "\t<tr><th scope=row>lab_po2_first</th><td>0.9997599 </td><td>0.99871180</td><td>1.0008091 </td></tr>\n",
       "\t<tr><th scope=row>lab_lactate_first</th><td>1.1351046 </td><td>1.07388737</td><td>1.1998116 </td></tr>\n",
       "\t<tr><th scope=row>sedative1</th><td>0.8464701 </td><td>0.63378968</td><td>1.1305195 </td></tr>\n",
       "\t<tr><th scope=row>vs_cvp_flag1</th><td>0.5921784 </td><td>0.47036103</td><td>0.7455450 </td></tr>\n",
       "\t<tr><th scope=row>lab_creatinine_kinase_flag1</th><td>0.9074140 </td><td>0.69297278</td><td>1.1882143 </td></tr>\n",
       "\t<tr><th scope=row>lab_bnp_flag1</th><td>1.1373785 </td><td>0.63867539</td><td>2.0254887 </td></tr>\n",
       "\t<tr><th scope=row>lab_troponin_flag1</th><td>1.3367326 </td><td>1.00956198</td><td>1.7699300 </td></tr>\n",
       "</tbody>\n",
       "</table>\n"
      ],
      "text/latex": [
       "\\begin{tabular}{r|lll}\n",
       "  & OR & 2.5 \\% & 97.5 \\%\\\\\n",
       "\\hline\n",
       "\t(Intercept) & 18.2958976   & 3.862322e-05 & 8.666804e+06\\\\\n",
       "\techo1 &  0.6389409   & 5.205132e-01 & 7.843134e-01\\\\\n",
       "\tfirst\\_careunitMICU &  1.5828799   & 1.216730e+00 & 2.059216e+00\\\\\n",
       "\tage &  1.0211385   & 1.012858e+00 & 1.029487e+00\\\\\n",
       "\tgenderF &  0.8704740   & 7.062497e-01 & 1.072885e+00\\\\\n",
       "\tweight &  0.9898344   & 9.852845e-01 & 9.944054e-01\\\\\n",
       "\tsaps &  1.0592393   & 1.030768e+00 & 1.088497e+00\\\\\n",
       "\tsofa &  1.2002901   & 1.153558e+00 & 1.248915e+00\\\\\n",
       "\telix\\_score &  1.0275772   & 1.011377e+00 & 1.044037e+00\\\\\n",
       "\tvent1 &  1.3620307   & 9.681466e-01 & 1.916164e+00\\\\\n",
       "\tvaso1 &  0.9926025   & 7.747640e-01 & 1.271690e+00\\\\\n",
       "\ticu\\_adm\\_weekdaymonday &  1.0456816   & 7.164952e-01 & 1.526109e+00\\\\\n",
       "\ticu\\_adm\\_weekdaysaturday &  1.1419207   & 7.793988e-01 & 1.673062e+00\\\\\n",
       "\ticu\\_adm\\_weekdaysunday &  1.1364468   & 7.872920e-01 & 1.640448e+00\\\\\n",
       "\ticu\\_adm\\_weekdaythursday &  1.2800500   & 8.935168e-01 & 1.833796e+00\\\\\n",
       "\ticu\\_adm\\_weekdaytuesday &  1.0665416   & 7.276858e-01 & 1.563190e+00\\\\\n",
       "\ticu\\_adm\\_weekdaywednesday &  1.2700490   & 8.812363e-01 & 1.830411e+00\\\\\n",
       "\ticu\\_adm\\_hour1 &  1.4845919   & 7.791648e-01 & 2.828687e+00\\\\\n",
       "\ticu\\_adm\\_hour2 &  0.8451020   & 4.081238e-01 & 1.749953e+00\\\\\n",
       "\ticu\\_adm\\_hour3 &  1.4566885   & 7.117402e-01 & 2.981343e+00\\\\\n",
       "\ticu\\_adm\\_hour4 &  1.7217163   & 8.562750e-01 & 3.461863e+00\\\\\n",
       "\ticu\\_adm\\_hour5 &  1.4723519   & 6.648432e-01 & 3.260648e+00\\\\\n",
       "\ticu\\_adm\\_hour6 &  1.4133809   & 5.654990e-01 & 3.532536e+00\\\\\n",
       "\ticu\\_adm\\_hour7 &  0.9110299   & 2.707926e-01 & 3.064986e+00\\\\\n",
       "\ticu\\_adm\\_hour8 &  1.0043869   & 3.910251e-01 & 2.579868e+00\\\\\n",
       "\ticu\\_adm\\_hour9 &  1.8801772   & 9.365564e-01 & 3.774536e+00\\\\\n",
       "\ticu\\_adm\\_hour10 &  1.1558131   & 5.000530e-01 & 2.671525e+00\\\\\n",
       "\ticu\\_adm\\_hour11 &  1.2741631   & 6.570271e-01 & 2.470966e+00\\\\\n",
       "\ticu\\_adm\\_hour12 &  2.2699111   & 1.171529e+00 & 4.398094e+00\\\\\n",
       "\ticu\\_adm\\_hour13 &  1.7704758   & 8.999165e-01 & 3.483195e+00\\\\\n",
       "\t⋮ & ⋮ & ⋮ & ⋮\\\\\n",
       "\ticu\\_adm\\_hour23 & 1.2213666  & 0.66666030 & 2.2376261 \\\\\n",
       "\ticd\\_chf1 & 0.7512059  & 0.58076083 & 0.9716743 \\\\\n",
       "\ticd\\_afib1 & 1.1881462  & 0.93828788 & 1.5045397 \\\\\n",
       "\ticd\\_renal1 & 0.7781369  & 0.57328297 & 1.0561923 \\\\\n",
       "\ticd\\_liver1 & 1.6899246  & 1.18355806 & 2.4129321 \\\\\n",
       "\ticd\\_copd1 & 1.1107201  & 0.84912561 & 1.4529053 \\\\\n",
       "\ticd\\_cad1 & 1.1199611  & 0.82882713 & 1.5133588 \\\\\n",
       "\ticd\\_stroke1 & 2.3768835  & 1.59925454 & 3.5326305 \\\\\n",
       "\ticd\\_malignancy1 & 1.8065124  & 1.41891306 & 2.2999909 \\\\\n",
       "\tvs\\_heart\\_rate\\_first & 1.0077346  & 1.00269295 & 1.0128016 \\\\\n",
       "\tvs\\_map\\_first & 0.9941141  & 0.98861180 & 0.9996471 \\\\\n",
       "\tvs\\_temp\\_first & 0.9621627  & 0.88236623 & 1.0491755 \\\\\n",
       "\tlab\\_hemoglobin\\_first & 0.9833204  & 0.93483277 & 1.0343229 \\\\\n",
       "\tlab\\_platelet\\_first & 1.0006048  & 0.99979400 & 1.0014162 \\\\\n",
       "\tlab\\_wbc\\_first & 0.9980903  & 0.99087272 & 1.0053605 \\\\\n",
       "\tlab\\_ph\\_first & 0.4241371  & 0.07450483 & 2.4145046 \\\\\n",
       "\tlab\\_chloride\\_first & 0.9825848  & 0.95132492 & 1.0148718 \\\\\n",
       "\tlab\\_sodium\\_first & 1.0025512  & 0.96827055 & 1.0380455 \\\\\n",
       "\tlab\\_bun\\_first & 1.0103958  & 1.00492427 & 1.0158971 \\\\\n",
       "\tlab\\_bicarbonate\\_first & 1.0257998  & 0.98833040 & 1.0646898 \\\\\n",
       "\tlab\\_pco2\\_first & 0.9949757  & 0.98076874 & 1.0093884 \\\\\n",
       "\tlab\\_creatinine\\_first & 0.7806310  & 0.70072140 & 0.8696534 \\\\\n",
       "\tlab\\_potassium\\_first & 1.1205833  & 0.98916830 & 1.2694573 \\\\\n",
       "\tlab\\_po2\\_first & 0.9997599  & 0.99871180 & 1.0008091 \\\\\n",
       "\tlab\\_lactate\\_first & 1.1351046  & 1.07388737 & 1.1998116 \\\\\n",
       "\tsedative1 & 0.8464701  & 0.63378968 & 1.1305195 \\\\\n",
       "\tvs\\_cvp\\_flag1 & 0.5921784  & 0.47036103 & 0.7455450 \\\\\n",
       "\tlab\\_creatinine\\_kinase\\_flag1 & 0.9074140  & 0.69297278 & 1.1882143 \\\\\n",
       "\tlab\\_bnp\\_flag1 & 1.1373785  & 0.63867539 & 2.0254887 \\\\\n",
       "\tlab\\_troponin\\_flag1 & 1.3367326  & 1.00956198 & 1.7699300 \\\\\n",
       "\\end{tabular}\n"
      ],
      "text/markdown": [
       "\n",
       "| <!--/--> | OR | 2.5 % | 97.5 % | \n",
       "|---|---|---|---|---|---|---|---|---|---|---|---|---|---|---|---|---|---|---|---|---|---|---|---|---|---|---|---|---|---|---|---|---|---|---|---|---|---|---|---|---|---|---|---|---|---|---|---|---|---|---|---|---|---|---|---|---|---|---|---|---|\n",
       "| (Intercept) | 18.2958976   | 3.862322e-05 | 8.666804e+06 | \n",
       "| echo1 |  0.6389409   | 5.205132e-01 | 7.843134e-01 | \n",
       "| first_careunitMICU |  1.5828799   | 1.216730e+00 | 2.059216e+00 | \n",
       "| age |  1.0211385   | 1.012858e+00 | 1.029487e+00 | \n",
       "| genderF |  0.8704740   | 7.062497e-01 | 1.072885e+00 | \n",
       "| weight |  0.9898344   | 9.852845e-01 | 9.944054e-01 | \n",
       "| saps |  1.0592393   | 1.030768e+00 | 1.088497e+00 | \n",
       "| sofa |  1.2002901   | 1.153558e+00 | 1.248915e+00 | \n",
       "| elix_score |  1.0275772   | 1.011377e+00 | 1.044037e+00 | \n",
       "| vent1 |  1.3620307   | 9.681466e-01 | 1.916164e+00 | \n",
       "| vaso1 |  0.9926025   | 7.747640e-01 | 1.271690e+00 | \n",
       "| icu_adm_weekdaymonday |  1.0456816   | 7.164952e-01 | 1.526109e+00 | \n",
       "| icu_adm_weekdaysaturday |  1.1419207   | 7.793988e-01 | 1.673062e+00 | \n",
       "| icu_adm_weekdaysunday |  1.1364468   | 7.872920e-01 | 1.640448e+00 | \n",
       "| icu_adm_weekdaythursday |  1.2800500   | 8.935168e-01 | 1.833796e+00 | \n",
       "| icu_adm_weekdaytuesday |  1.0665416   | 7.276858e-01 | 1.563190e+00 | \n",
       "| icu_adm_weekdaywednesday |  1.2700490   | 8.812363e-01 | 1.830411e+00 | \n",
       "| icu_adm_hour1 |  1.4845919   | 7.791648e-01 | 2.828687e+00 | \n",
       "| icu_adm_hour2 |  0.8451020   | 4.081238e-01 | 1.749953e+00 | \n",
       "| icu_adm_hour3 |  1.4566885   | 7.117402e-01 | 2.981343e+00 | \n",
       "| icu_adm_hour4 |  1.7217163   | 8.562750e-01 | 3.461863e+00 | \n",
       "| icu_adm_hour5 |  1.4723519   | 6.648432e-01 | 3.260648e+00 | \n",
       "| icu_adm_hour6 |  1.4133809   | 5.654990e-01 | 3.532536e+00 | \n",
       "| icu_adm_hour7 |  0.9110299   | 2.707926e-01 | 3.064986e+00 | \n",
       "| icu_adm_hour8 |  1.0043869   | 3.910251e-01 | 2.579868e+00 | \n",
       "| icu_adm_hour9 |  1.8801772   | 9.365564e-01 | 3.774536e+00 | \n",
       "| icu_adm_hour10 |  1.1558131   | 5.000530e-01 | 2.671525e+00 | \n",
       "| icu_adm_hour11 |  1.2741631   | 6.570271e-01 | 2.470966e+00 | \n",
       "| icu_adm_hour12 |  2.2699111   | 1.171529e+00 | 4.398094e+00 | \n",
       "| icu_adm_hour13 |  1.7704758   | 8.999165e-01 | 3.483195e+00 | \n",
       "| ⋮ | ⋮ | ⋮ | ⋮ | \n",
       "| icu_adm_hour23 | 1.2213666  | 0.66666030 | 2.2376261  | \n",
       "| icd_chf1 | 0.7512059  | 0.58076083 | 0.9716743  | \n",
       "| icd_afib1 | 1.1881462  | 0.93828788 | 1.5045397  | \n",
       "| icd_renal1 | 0.7781369  | 0.57328297 | 1.0561923  | \n",
       "| icd_liver1 | 1.6899246  | 1.18355806 | 2.4129321  | \n",
       "| icd_copd1 | 1.1107201  | 0.84912561 | 1.4529053  | \n",
       "| icd_cad1 | 1.1199611  | 0.82882713 | 1.5133588  | \n",
       "| icd_stroke1 | 2.3768835  | 1.59925454 | 3.5326305  | \n",
       "| icd_malignancy1 | 1.8065124  | 1.41891306 | 2.2999909  | \n",
       "| vs_heart_rate_first | 1.0077346  | 1.00269295 | 1.0128016  | \n",
       "| vs_map_first | 0.9941141  | 0.98861180 | 0.9996471  | \n",
       "| vs_temp_first | 0.9621627  | 0.88236623 | 1.0491755  | \n",
       "| lab_hemoglobin_first | 0.9833204  | 0.93483277 | 1.0343229  | \n",
       "| lab_platelet_first | 1.0006048  | 0.99979400 | 1.0014162  | \n",
       "| lab_wbc_first | 0.9980903  | 0.99087272 | 1.0053605  | \n",
       "| lab_ph_first | 0.4241371  | 0.07450483 | 2.4145046  | \n",
       "| lab_chloride_first | 0.9825848  | 0.95132492 | 1.0148718  | \n",
       "| lab_sodium_first | 1.0025512  | 0.96827055 | 1.0380455  | \n",
       "| lab_bun_first | 1.0103958  | 1.00492427 | 1.0158971  | \n",
       "| lab_bicarbonate_first | 1.0257998  | 0.98833040 | 1.0646898  | \n",
       "| lab_pco2_first | 0.9949757  | 0.98076874 | 1.0093884  | \n",
       "| lab_creatinine_first | 0.7806310  | 0.70072140 | 0.8696534  | \n",
       "| lab_potassium_first | 1.1205833  | 0.98916830 | 1.2694573  | \n",
       "| lab_po2_first | 0.9997599  | 0.99871180 | 1.0008091  | \n",
       "| lab_lactate_first | 1.1351046  | 1.07388737 | 1.1998116  | \n",
       "| sedative1 | 0.8464701  | 0.63378968 | 1.1305195  | \n",
       "| vs_cvp_flag1 | 0.5921784  | 0.47036103 | 0.7455450  | \n",
       "| lab_creatinine_kinase_flag1 | 0.9074140  | 0.69297278 | 1.1882143  | \n",
       "| lab_bnp_flag1 | 1.1373785  | 0.63867539 | 2.0254887  | \n",
       "| lab_troponin_flag1 | 1.3367326  | 1.00956198 | 1.7699300  | \n",
       "\n",
       "\n"
      ],
      "text/plain": [
       "                            OR         2.5 %        97.5 %      \n",
       "(Intercept)                 18.2958976 3.862322e-05 8.666804e+06\n",
       "echo1                        0.6389409 5.205132e-01 7.843134e-01\n",
       "first_careunitMICU           1.5828799 1.216730e+00 2.059216e+00\n",
       "age                          1.0211385 1.012858e+00 1.029487e+00\n",
       "genderF                      0.8704740 7.062497e-01 1.072885e+00\n",
       "weight                       0.9898344 9.852845e-01 9.944054e-01\n",
       "saps                         1.0592393 1.030768e+00 1.088497e+00\n",
       "sofa                         1.2002901 1.153558e+00 1.248915e+00\n",
       "elix_score                   1.0275772 1.011377e+00 1.044037e+00\n",
       "vent1                        1.3620307 9.681466e-01 1.916164e+00\n",
       "vaso1                        0.9926025 7.747640e-01 1.271690e+00\n",
       "icu_adm_weekdaymonday        1.0456816 7.164952e-01 1.526109e+00\n",
       "icu_adm_weekdaysaturday      1.1419207 7.793988e-01 1.673062e+00\n",
       "icu_adm_weekdaysunday        1.1364468 7.872920e-01 1.640448e+00\n",
       "icu_adm_weekdaythursday      1.2800500 8.935168e-01 1.833796e+00\n",
       "icu_adm_weekdaytuesday       1.0665416 7.276858e-01 1.563190e+00\n",
       "icu_adm_weekdaywednesday     1.2700490 8.812363e-01 1.830411e+00\n",
       "icu_adm_hour1                1.4845919 7.791648e-01 2.828687e+00\n",
       "icu_adm_hour2                0.8451020 4.081238e-01 1.749953e+00\n",
       "icu_adm_hour3                1.4566885 7.117402e-01 2.981343e+00\n",
       "icu_adm_hour4                1.7217163 8.562750e-01 3.461863e+00\n",
       "icu_adm_hour5                1.4723519 6.648432e-01 3.260648e+00\n",
       "icu_adm_hour6                1.4133809 5.654990e-01 3.532536e+00\n",
       "icu_adm_hour7                0.9110299 2.707926e-01 3.064986e+00\n",
       "icu_adm_hour8                1.0043869 3.910251e-01 2.579868e+00\n",
       "icu_adm_hour9                1.8801772 9.365564e-01 3.774536e+00\n",
       "icu_adm_hour10               1.1558131 5.000530e-01 2.671525e+00\n",
       "icu_adm_hour11               1.2741631 6.570271e-01 2.470966e+00\n",
       "icu_adm_hour12               2.2699111 1.171529e+00 4.398094e+00\n",
       "icu_adm_hour13               1.7704758 8.999165e-01 3.483195e+00\n",
       "⋮                           ⋮          ⋮            ⋮           \n",
       "icu_adm_hour23              1.2213666  0.66666030   2.2376261   \n",
       "icd_chf1                    0.7512059  0.58076083   0.9716743   \n",
       "icd_afib1                   1.1881462  0.93828788   1.5045397   \n",
       "icd_renal1                  0.7781369  0.57328297   1.0561923   \n",
       "icd_liver1                  1.6899246  1.18355806   2.4129321   \n",
       "icd_copd1                   1.1107201  0.84912561   1.4529053   \n",
       "icd_cad1                    1.1199611  0.82882713   1.5133588   \n",
       "icd_stroke1                 2.3768835  1.59925454   3.5326305   \n",
       "icd_malignancy1             1.8065124  1.41891306   2.2999909   \n",
       "vs_heart_rate_first         1.0077346  1.00269295   1.0128016   \n",
       "vs_map_first                0.9941141  0.98861180   0.9996471   \n",
       "vs_temp_first               0.9621627  0.88236623   1.0491755   \n",
       "lab_hemoglobin_first        0.9833204  0.93483277   1.0343229   \n",
       "lab_platelet_first          1.0006048  0.99979400   1.0014162   \n",
       "lab_wbc_first               0.9980903  0.99087272   1.0053605   \n",
       "lab_ph_first                0.4241371  0.07450483   2.4145046   \n",
       "lab_chloride_first          0.9825848  0.95132492   1.0148718   \n",
       "lab_sodium_first            1.0025512  0.96827055   1.0380455   \n",
       "lab_bun_first               1.0103958  1.00492427   1.0158971   \n",
       "lab_bicarbonate_first       1.0257998  0.98833040   1.0646898   \n",
       "lab_pco2_first              0.9949757  0.98076874   1.0093884   \n",
       "lab_creatinine_first        0.7806310  0.70072140   0.8696534   \n",
       "lab_potassium_first         1.1205833  0.98916830   1.2694573   \n",
       "lab_po2_first               0.9997599  0.99871180   1.0008091   \n",
       "lab_lactate_first           1.1351046  1.07388737   1.1998116   \n",
       "sedative1                   0.8464701  0.63378968   1.1305195   \n",
       "vs_cvp_flag1                0.5921784  0.47036103   0.7455450   \n",
       "lab_creatinine_kinase_flag1 0.9074140  0.69297278   1.1882143   \n",
       "lab_bnp_flag1               1.1373785  0.63867539   2.0254887   \n",
       "lab_troponin_flag1          1.3367326  1.00956198   1.7699300   "
      ]
     },
     "metadata": {},
     "output_type": "display_data"
    }
   ],
   "source": [
    "exp(cbind(OR = coef(logi), confint(logi)))"
   ]
  },
  {
   "cell_type": "code",
   "execution_count": 32,
   "metadata": {},
   "outputs": [],
   "source": [
    "saveRDS(logi, file = file.path(data_dir, \"doubly_robust_all_model.rds\"))"
   ]
  }
 ],
 "metadata": {
  "kernelspec": {
   "display_name": "R",
   "language": "R",
   "name": "ir"
  },
  "language_info": {
   "codemirror_mode": "r",
   "file_extension": ".r",
   "mimetype": "text/x-r-source",
   "name": "R",
   "pygments_lexer": "r",
   "version": "3.4.3"
  },
  "varInspector": {
   "cols": {
    "lenName": 16,
    "lenType": 16,
    "lenVar": 40
   },
   "kernels_config": {
    "python": {
     "delete_cmd_postfix": "",
     "delete_cmd_prefix": "del ",
     "library": "var_list.py",
     "varRefreshCmd": "print(var_dic_list())"
    },
    "r": {
     "delete_cmd_postfix": ") ",
     "delete_cmd_prefix": "rm(",
     "library": "var_list.r",
     "varRefreshCmd": "cat(var_dic_list()) "
    }
   },
   "types_to_exclude": [
    "module",
    "function",
    "builtin_function_or_method",
    "instance",
    "_Feature"
   ],
   "window_display": false
  }
 },
 "nbformat": 4,
 "nbformat_minor": 2
}
