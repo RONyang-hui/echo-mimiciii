{
 "cells": [
  {
   "cell_type": "code",
   "execution_count": null,
   "metadata": {},
   "outputs": [],
   "source": [
    "library(RPostgreSQL)\n",
    "library(twang)\n",
    "library(Matching)\n",
    "library(tidyverse)"
   ]
  },
  {
   "cell_type": "code",
   "execution_count": null,
   "metadata": {},
   "outputs": [],
   "source": [
    "data_dir <- file.path(\"..\", \"data\")\n",
    "sql_dir <- file.path(\"..\", \"sql\")"
   ]
  },
  {
   "cell_type": "code",
   "execution_count": null,
   "metadata": {},
   "outputs": [],
   "source": [
    "drv <- dbDriver(\"PostgreSQL\")\n",
    "con <- dbConnect(drv, dbname = \"mimic\")\n",
    "dbSendQuery(con, \"set search_path=echo,public,mimiciii;\")"
   ]
  },
  {
   "cell_type": "code",
   "execution_count": null,
   "metadata": {},
   "outputs": [],
   "source": [
    "full_data <- dbGetQuery(con, \"select * from merged_data\")\n",
    "head(full_data)"
   ]
  },
  {
   "cell_type": "code",
   "execution_count": null,
   "metadata": {},
   "outputs": [],
   "source": [
    "dbDisconnect(con)\n",
    "dbUnloadDriver(drv)"
   ]
  },
  {
   "cell_type": "code",
   "execution_count": null,
   "metadata": {},
   "outputs": [],
   "source": [
    "to_factor <- function(x) {\n",
    "    if(length(na.omit(unique(x))) <= 1) return(factor(x, levels = c(0, 1)))\n",
    "    return(factor(x))\n",
    "}"
   ]
  },
  {
   "cell_type": "code",
   "execution_count": null,
   "metadata": {},
   "outputs": [],
   "source": [
    "factor_vars <- full_data %>%\n",
    "    names %>%\n",
    "    grep(\"flag|abnormal|icd|sedative\", ., value = TRUE) %>%\n",
    "    c(\"gender\", \"first_careunit\", \"echo\", \"vent\", \"vaso\",\n",
    "      \"icu_adm_weekday\", \"icu_adm_hour\", \"mort_28_day\")\n",
    "factor_vars"
   ]
  },
  {
   "cell_type": "code",
   "execution_count": null,
   "metadata": {},
   "outputs": [],
   "source": [
    "full_data <- full_data %>%\n",
    "    mutate(echo_int = as.integer(echo)) %>%\n",
    "    mutate(mort_28_day_int = as.integer(mort_28_day)) %>%\n",
    "    mutate_at(factor_vars, to_factor)\n",
    "full_data %>% pull(echo) %>% head"
   ]
  },
  {
   "cell_type": "code",
   "execution_count": null,
   "metadata": {},
   "outputs": [],
   "source": [
    "feature_names <- full_data %>%\n",
    "    names %>%\n",
    "    keep(grepl(\"vs|lab|icd|age|gender|weight|saps|sofa|elix_score|vent|vaso|icu_adm|careunit|sedative\", .)) %>%\n",
    "    discard(grepl(\"vs|lab\", .) & grepl(\"flag\", .) & !grepl(\"bnp|troponin|kinase\", .)) %>%\n",
    "    discard(grepl(\"bnp|troponin|kinase\", .) & !grepl(\"flag\", .)) %>%\n",
    "    discard(grepl(\"min|max\", .)) %>%\n",
    "    discard(grepl(\"abnormal\", .))\n",
    "feature_names\n",
    "length(feature_names)"
   ]
  },
  {
   "cell_type": "code",
   "execution_count": null,
   "metadata": {},
   "outputs": [],
   "source": [
    "features <- full_data %>%\n",
    "    select(!!!rlang::syms(feature_names))\n",
    "head(features)"
   ]
  },
  {
   "cell_type": "code",
   "execution_count": null,
   "metadata": {},
   "outputs": [],
   "source": [
    "label_name <- \"echo\""
   ]
  },
  {
   "cell_type": "code",
   "execution_count": null,
   "metadata": {},
   "outputs": [],
   "source": [
    "label <- full_data %>% pull(echo)\n",
    "str(label)"
   ]
  },
  {
   "cell_type": "code",
   "execution_count": null,
   "metadata": {},
   "outputs": [],
   "source": [
    "fml <- feature_names %>%\n",
    "    c(\"echo\", .) %>%\n",
    "    paste(collapse = \" + \") %>%\n",
    "    sprintf(\"mort_28_day ~ %s\", .)\n",
    "fml"
   ]
  },
  {
   "cell_type": "code",
   "execution_count": null,
   "metadata": {},
   "outputs": [],
   "source": [
    "unweighted <- glm(as.formula(fml), data = full_data, family = binomial, na.action = na.exclude)\n",
    "summary(unweighted)\n",
    "exp(cbind(OR = coef(unweighted), confint(unweighted)))"
   ]
  },
  {
   "cell_type": "code",
   "execution_count": null,
   "metadata": {},
   "outputs": [],
   "source": [
    "saveRDS(unweighted, file = file.path(data_dir, \"multivariate_model.rds\"))"
   ]
  },
  {
   "cell_type": "code",
   "execution_count": null,
   "metadata": {},
   "outputs": [],
   "source": [
    "fml <- feature_names %>%\n",
    "    paste(collapse = \" + \") %>%\n",
    "    sprintf(\"echo_int ~ %s\", .)\n",
    "fml"
   ]
  },
  {
   "cell_type": "code",
   "execution_count": null,
   "metadata": {},
   "outputs": [],
   "source": [
    "echo_ps_ate <- ps(as.formula(fml),\n",
    "                  data = full_data,\n",
    "                  interaction.depth = 2,\n",
    "                  shrinkage = 0.01,\n",
    "                  perm.test.iters = 0,\n",
    "                  estimand = \"ATE\",\n",
    "                  verbose = FALSE,\n",
    "                  stop.method = c(\"es.mean\", \"es.max\", \"ks.mean\", \"ks.max\"),\n",
    "                  n.trees = 100,\n",
    "                  train.fraction = 0.8,\n",
    "                  cv.folds = 3,\n",
    "                  n.cores = 8)"
   ]
  },
  {
   "cell_type": "code",
   "execution_count": null,
   "metadata": {},
   "outputs": [],
   "source": [
    "pred <- echo_ps_ate$ps$es.mean.ATE\n",
    "full_data <- full_data %>% mutate(ps = pred)\n",
    "ROCR::performance(ROCR::prediction(pred, label), \"auc\")@y.values %>% first"
   ]
  },
  {
   "cell_type": "code",
   "execution_count": null,
   "metadata": {},
   "outputs": [],
   "source": [
    "ft_importance <- summary(echo_ps_ate$gbm.obj,\n",
    "                         n.trees = echo_ps_ate$desc$es.mean.ATE$n.trees,\n",
    "                         plot = FALSE)"
   ]
  },
  {
   "cell_type": "code",
   "execution_count": null,
   "metadata": {},
   "outputs": [],
   "source": [
    "full_data <- full_data %>%\n",
    "    mutate(ps_weight = get.weights(echo_ps_ate, stop.method = \"es.mean\"))"
   ]
  },
  {
   "cell_type": "code",
   "execution_count": null,
   "metadata": {},
   "outputs": [],
   "source": [
    "saveRDS(full_data, file = file.path(data_dir, \"full_data_ps.rds\"))"
   ]
  },
  {
   "cell_type": "code",
   "execution_count": null,
   "metadata": {},
   "outputs": [],
   "source": [
    "saveRDS(ft_importance, file = file.path(data_dir, \"feature_importance.rds\"))"
   ]
  },
  {
   "cell_type": "code",
   "execution_count": null,
   "metadata": {},
   "outputs": [],
   "source": [
    "primary_ipw <- glm(mort_28_day ~ echo, data = full_data,\n",
    "                   weights = full_data$ps_weight, family = binomial)\n",
    "summary(primary_ipw)\n",
    "exp(cbind(OR = coef(primary_ipw), confint(primary_ipw)))"
   ]
  },
  {
   "cell_type": "code",
   "execution_count": null,
   "metadata": {},
   "outputs": [],
   "source": [
    "saveRDS(primary_ipw, file = file.path(\"ipw_model.rds\"))"
   ]
  },
  {
   "cell_type": "code",
   "execution_count": null,
   "metadata": {},
   "outputs": [],
   "source": [
    "ipw_svydesign <- svydesign(ids = ~ icustay_id, weights = ~ ps_weight, data = full_data)"
   ]
  },
  {
   "cell_type": "code",
   "execution_count": null,
   "metadata": {},
   "outputs": [],
   "source": [
    "saveRDS(ipw_svydesign, file = file.path(data_dir, \"ipw_svydesign.rds\"))"
   ]
  },
  {
   "cell_type": "code",
   "execution_count": null,
   "metadata": {},
   "outputs": [],
   "source": [
    "fml <- feature_names %>%\n",
    "    c(label_name, .) %>%\n",
    "    paste(collapse = \" + \") %>%\n",
    "    sprintf(\"mort_28_day ~ %s\", .)\n",
    "fml"
   ]
  },
  {
   "cell_type": "code",
   "execution_count": null,
   "metadata": {},
   "outputs": [],
   "source": [
    "logi <- svyglm(as.formula(fml),\n",
    "               family = quasibinomial,\n",
    "               design = design_echo_ps_ate)"
   ]
  },
  {
   "cell_type": "code",
   "execution_count": null,
   "metadata": {},
   "outputs": [],
   "source": [
    "summary(logi)"
   ]
  },
  {
   "cell_type": "code",
   "execution_count": null,
   "metadata": {},
   "outputs": [],
   "source": [
    "exp(cbind(OR = coef(logi), confint(logi)))"
   ]
  },
  {
   "cell_type": "code",
   "execution_count": null,
   "metadata": {},
   "outputs": [],
   "source": [
    "saveRDS(logi, file = file.path(data_dir, \"doubly_robust_all_model.rds\"))"
   ]
  }
 ],
 "metadata": {
  "kernelspec": {
   "display_name": "R",
   "language": "R",
   "name": "ir"
  },
  "language_info": {
   "codemirror_mode": "r",
   "file_extension": ".r",
   "mimetype": "text/x-r-source",
   "name": "R",
   "pygments_lexer": "r",
   "version": "3.4.3"
  },
  "varInspector": {
   "cols": {
    "lenName": 16,
    "lenType": 16,
    "lenVar": 40
   },
   "kernels_config": {
    "python": {
     "delete_cmd_postfix": "",
     "delete_cmd_prefix": "del ",
     "library": "var_list.py",
     "varRefreshCmd": "print(var_dic_list())"
    },
    "r": {
     "delete_cmd_postfix": ") ",
     "delete_cmd_prefix": "rm(",
     "library": "var_list.r",
     "varRefreshCmd": "cat(var_dic_list()) "
    }
   },
   "types_to_exclude": [
    "module",
    "function",
    "builtin_function_or_method",
    "instance",
    "_Feature"
   ],
   "window_display": false
  }
 },
 "nbformat": 4,
 "nbformat_minor": 2
}
