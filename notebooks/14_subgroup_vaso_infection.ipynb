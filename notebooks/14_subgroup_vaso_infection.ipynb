{
 "cells": [
  {
   "cell_type": "code",
   "execution_count": 1,
   "metadata": {},
   "outputs": [
    {
     "name": "stderr",
     "output_type": "stream",
     "text": [
      "Loading required package: DBI\n",
      "── Attaching packages ─────────────────────────────────────── tidyverse 1.2.1 ──\n",
      "✔ ggplot2 2.2.1     ✔ purrr   0.2.4\n",
      "✔ tibble  1.4.2     ✔ dplyr   0.7.4\n",
      "✔ tidyr   0.8.0     ✔ stringr 1.3.0\n",
      "✔ readr   1.1.1     ✔ forcats 0.3.0\n",
      "── Conflicts ────────────────────────────────────────── tidyverse_conflicts() ──\n",
      "✖ dplyr::filter() masks stats::filter()\n",
      "✖ dplyr::lag()    masks stats::lag()\n"
     ]
    }
   ],
   "source": [
    "library(RPostgreSQL)\n",
    "library(tidyverse)"
   ]
  },
  {
   "cell_type": "code",
   "execution_count": 2,
   "metadata": {},
   "outputs": [],
   "source": [
    "data_dir <- file.path(\"..\", \"data\")\n",
    "sql_dir <- file.path(\"..\", \"sql\")"
   ]
  },
  {
   "cell_type": "code",
   "execution_count": 3,
   "metadata": {},
   "outputs": [
    {
     "data": {
      "text/plain": [
       "<PostgreSQLResult>"
      ]
     },
     "metadata": {},
     "output_type": "display_data"
    }
   ],
   "source": [
    "drv <- dbDriver(\"PostgreSQL\")\n",
    "con <- dbConnect(drv, dbname = \"mimic\")\n",
    "dbSendQuery(con, \"set search_path=echo,public,mimiciii;\")"
   ]
  },
  {
   "cell_type": "code",
   "execution_count": 4,
   "metadata": {},
   "outputs": [],
   "source": [
    "sql <-\n",
    "\"\n",
    "with infection as (\n",
    "    select hadm_id,\n",
    "        max(case when icd9_code in ('480', '481', '482', '483', '484', '485', '486', '487', '488') then 1 else 0 end) as infection\n",
    "    from diagnoses_icd\n",
    "    group by hadm_id\n",
    ")\n",
    "\n",
    ", merged_data_infection as (\n",
    "    select *\n",
    "    from merged_data\n",
    "    left join infection using (hadm_id)\n",
    ")\n",
    "\n",
    ", infection_summary_1 as (\n",
    "    select icustay_id,\n",
    "        coalesce(infection, 0) as infection,\n",
    "        echo\n",
    "    from merged_data_infection\n",
    ")\n",
    "\n",
    ", infection_summary as (\n",
    "    select infection,\n",
    "        count(*) as total,\n",
    "        sum(echo) as echo,\n",
    "        sum(echo) * 1.0 / count(*) as proportion\n",
    "    from infection_summary_1\n",
    "    group by infection\n",
    ")\n",
    "\n",
    "select * from infection_summary;\n",
    "\""
   ]
  },
  {
   "cell_type": "code",
   "execution_count": 5,
   "metadata": {},
   "outputs": [
    {
     "data": {
      "text/html": [
       "<table>\n",
       "<thead><tr><th scope=col>infection</th><th scope=col>total</th><th scope=col>echo</th><th scope=col>proportion</th></tr></thead>\n",
       "<tbody>\n",
       "\t<tr><td>0        </td><td>4715     </td><td>2333     </td><td>0.4948038</td></tr>\n",
       "\t<tr><td>1        </td><td>1646     </td><td> 929     </td><td>0.5643985</td></tr>\n",
       "</tbody>\n",
       "</table>\n"
      ],
      "text/latex": [
       "\\begin{tabular}{r|llll}\n",
       " infection & total & echo & proportion\\\\\n",
       "\\hline\n",
       "\t 0         & 4715      & 2333      & 0.4948038\\\\\n",
       "\t 1         & 1646      &  929      & 0.5643985\\\\\n",
       "\\end{tabular}\n"
      ],
      "text/markdown": [
       "\n",
       "infection | total | echo | proportion | \n",
       "|---|---|\n",
       "| 0         | 4715      | 2333      | 0.4948038 | \n",
       "| 1         | 1646      |  929      | 0.5643985 | \n",
       "\n",
       "\n"
      ],
      "text/plain": [
       "  infection total echo proportion\n",
       "1 0         4715  2333 0.4948038 \n",
       "2 1         1646   929 0.5643985 "
      ]
     },
     "metadata": {},
     "output_type": "display_data"
    }
   ],
   "source": [
    "infection <- dbGetQuery(con, sql)\n",
    "infection"
   ]
  },
  {
   "cell_type": "code",
   "execution_count": 6,
   "metadata": {},
   "outputs": [
    {
     "data": {
      "text/html": [
       "TRUE"
      ],
      "text/latex": [
       "TRUE"
      ],
      "text/markdown": [
       "TRUE"
      ],
      "text/plain": [
       "[1] TRUE"
      ]
     },
     "metadata": {},
     "output_type": "display_data"
    },
    {
     "data": {
      "text/html": [
       "TRUE"
      ],
      "text/latex": [
       "TRUE"
      ],
      "text/markdown": [
       "TRUE"
      ],
      "text/plain": [
       "[1] TRUE"
      ]
     },
     "metadata": {},
     "output_type": "display_data"
    }
   ],
   "source": [
    "dbDisconnect(con)\n",
    "dbUnloadDriver(drv)"
   ]
  },
  {
   "cell_type": "code",
   "execution_count": 7,
   "metadata": {},
   "outputs": [],
   "source": [
    "data.table::fwrite(infection, file = file.path(data_dir, \"infection.csv\"))"
   ]
  }
 ],
 "metadata": {
  "kernelspec": {
   "display_name": "R",
   "language": "R",
   "name": "ir"
  },
  "language_info": {
   "codemirror_mode": "r",
   "file_extension": ".r",
   "mimetype": "text/x-r-source",
   "name": "R",
   "pygments_lexer": "r",
   "version": "3.4.4"
  },
  "varInspector": {
   "cols": {
    "lenName": 16,
    "lenType": 16,
    "lenVar": 40
   },
   "kernels_config": {
    "python": {
     "delete_cmd_postfix": "",
     "delete_cmd_prefix": "del ",
     "library": "var_list.py",
     "varRefreshCmd": "print(var_dic_list())"
    },
    "r": {
     "delete_cmd_postfix": ") ",
     "delete_cmd_prefix": "rm(",
     "library": "var_list.r",
     "varRefreshCmd": "cat(var_dic_list()) "
    }
   },
   "types_to_exclude": [
    "module",
    "function",
    "builtin_function_or_method",
    "instance",
    "_Feature"
   ],
   "window_display": false
  }
 },
 "nbformat": 4,
 "nbformat_minor": 2
}
