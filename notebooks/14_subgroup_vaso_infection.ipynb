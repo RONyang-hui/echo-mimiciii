{
 "cells": [
  {
   "cell_type": "code",
   "execution_count": 1,
   "metadata": {},
   "outputs": [
    {
     "name": "stderr",
     "output_type": "stream",
     "text": [
      "Loading required package: DBI\n",
      "── Attaching packages ─────────────────────────────────────── tidyverse 1.2.1 ──\n",
      "✔ ggplot2 2.2.1     ✔ purrr   0.2.4\n",
      "✔ tibble  1.4.2     ✔ dplyr   0.7.4\n",
      "✔ tidyr   0.8.0     ✔ stringr 1.3.0\n",
      "✔ readr   1.1.1     ✔ forcats 0.3.0\n",
      "── Conflicts ────────────────────────────────────────── tidyverse_conflicts() ──\n",
      "✖ dplyr::filter() masks stats::filter()\n",
      "✖ dplyr::lag()    masks stats::lag()\n"
     ]
    }
   ],
   "source": [
    "library(RPostgreSQL)\n",
    "library(tidyverse)"
   ]
  },
  {
   "cell_type": "code",
   "execution_count": 2,
   "metadata": {},
   "outputs": [],
   "source": [
    "data_dir <- file.path(\"..\", \"data\")\n",
    "sql_dir <- file.path(\"..\", \"sql\")"
   ]
  },
  {
   "cell_type": "code",
   "execution_count": 3,
   "metadata": {},
   "outputs": [
    {
     "data": {
      "text/plain": [
       "<PostgreSQLResult>"
      ]
     },
     "metadata": {},
     "output_type": "display_data"
    }
   ],
   "source": [
    "drv <- dbDriver(\"PostgreSQL\")\n",
    "con <- dbConnect(drv, dbname = \"mimic\")\n",
    "dbSendQuery(con, \"set search_path=echo,public,mimiciii;\")"
   ]
  },
  {
   "cell_type": "code",
   "execution_count": 4,
   "metadata": {},
   "outputs": [],
   "source": [
    "sql <-\n",
    "\"\n",
    "with infection_0 as (\n",
    "    select hadm_id,\n",
    "        max(case when icd9_code in ('480', '481', '482', '483', '484', '485', '486', '487', '488') then 1 else 0 end) as infection\n",
    "    from diagnoses_icd\n",
    "    group by hadm_id\n",
    ")\n",
    "\n",
    ", infection_1 as (\n",
    "    select *\n",
    "    from merged_data\n",
    "    left join infection_0 using (hadm_id)\n",
    ")\n",
    "\n",
    ", infection as (\n",
    "    select icustay_id, echo as echo, coalesce(infection, 0) as infection\n",
    "    from infection_1\n",
    ")\n",
    "\n",
    "select * from infection;\n",
    "\""
   ]
  },
  {
   "cell_type": "code",
   "execution_count": 5,
   "metadata": {},
   "outputs": [
    {
     "name": "stdout",
     "output_type": "stream",
     "text": [
      "'data.frame':\t6361 obs. of  3 variables:\n",
      " $ icustay_id: int  293543 280321 250198 245352 256601 240860 249040 209124 254710 288179 ...\n",
      " $ echo      : int  0 0 1 0 1 1 0 0 0 1 ...\n",
      " $ infection : int  0 0 0 0 0 0 0 1 0 0 ...\n"
     ]
    },
    {
     "data": {
      "text/html": [
       "<table>\n",
       "<thead><tr><th scope=col>icustay_id</th><th scope=col>echo</th><th scope=col>infection</th></tr></thead>\n",
       "<tbody>\n",
       "\t<tr><td>293543</td><td>0     </td><td>0     </td></tr>\n",
       "\t<tr><td>280321</td><td>0     </td><td>0     </td></tr>\n",
       "\t<tr><td>250198</td><td>1     </td><td>0     </td></tr>\n",
       "\t<tr><td>245352</td><td>0     </td><td>0     </td></tr>\n",
       "\t<tr><td>256601</td><td>1     </td><td>0     </td></tr>\n",
       "\t<tr><td>240860</td><td>1     </td><td>0     </td></tr>\n",
       "</tbody>\n",
       "</table>\n"
      ],
      "text/latex": [
       "\\begin{tabular}{r|lll}\n",
       " icustay\\_id & echo & infection\\\\\n",
       "\\hline\n",
       "\t 293543 & 0      & 0     \\\\\n",
       "\t 280321 & 0      & 0     \\\\\n",
       "\t 250198 & 1      & 0     \\\\\n",
       "\t 245352 & 0      & 0     \\\\\n",
       "\t 256601 & 1      & 0     \\\\\n",
       "\t 240860 & 1      & 0     \\\\\n",
       "\\end{tabular}\n"
      ],
      "text/markdown": [
       "\n",
       "icustay_id | echo | infection | \n",
       "|---|---|---|---|---|---|\n",
       "| 293543 | 0      | 0      | \n",
       "| 280321 | 0      | 0      | \n",
       "| 250198 | 1      | 0      | \n",
       "| 245352 | 0      | 0      | \n",
       "| 256601 | 1      | 0      | \n",
       "| 240860 | 1      | 0      | \n",
       "\n",
       "\n"
      ],
      "text/plain": [
       "  icustay_id echo infection\n",
       "1 293543     0    0        \n",
       "2 280321     0    0        \n",
       "3 250198     1    0        \n",
       "4 245352     0    0        \n",
       "5 256601     1    0        \n",
       "6 240860     1    0        "
      ]
     },
     "metadata": {},
     "output_type": "display_data"
    }
   ],
   "source": [
    "infection <- dbGetQuery(con, sql)\n",
    "str(infection)\n",
    "head(infection)"
   ]
  },
  {
   "cell_type": "code",
   "execution_count": 6,
   "metadata": {},
   "outputs": [
    {
     "data": {
      "text/html": [
       "<table>\n",
       "<thead><tr><th scope=col>echo</th><th scope=col>n</th><th scope=col>infection</th><th scope=col>p</th></tr></thead>\n",
       "<tbody>\n",
       "\t<tr><td>0        </td><td>3099     </td><td>717      </td><td>0.2313650</td></tr>\n",
       "\t<tr><td>1        </td><td>3262     </td><td>929      </td><td>0.2847946</td></tr>\n",
       "</tbody>\n",
       "</table>\n"
      ],
      "text/latex": [
       "\\begin{tabular}{r|llll}\n",
       " echo & n & infection & p\\\\\n",
       "\\hline\n",
       "\t 0         & 3099      & 717       & 0.2313650\\\\\n",
       "\t 1         & 3262      & 929       & 0.2847946\\\\\n",
       "\\end{tabular}\n"
      ],
      "text/markdown": [
       "\n",
       "echo | n | infection | p | \n",
       "|---|---|\n",
       "| 0         | 3099      | 717       | 0.2313650 | \n",
       "| 1         | 3262      | 929       | 0.2847946 | \n",
       "\n",
       "\n"
      ],
      "text/plain": [
       "  echo n    infection p        \n",
       "1 0    3099 717       0.2313650\n",
       "2 1    3262 929       0.2847946"
      ]
     },
     "metadata": {},
     "output_type": "display_data"
    }
   ],
   "source": [
    "infection %>%\n",
    "group_by(echo) %>%\n",
    "summarise(n = n(), infection = sum(infection)) %>%\n",
    "mutate(p = infection / n)"
   ]
  },
  {
   "cell_type": "code",
   "execution_count": 7,
   "metadata": {},
   "outputs": [
    {
     "data": {
      "text/plain": [
       "\n",
       "\tPearson's Chi-squared test with Yates' continuity correction\n",
       "\n",
       "data:  infection$infection and infection$echo\n",
       "X-squared = 23.375, df = 1, p-value = 1.333e-06\n"
      ]
     },
     "metadata": {},
     "output_type": "display_data"
    }
   ],
   "source": [
    "chisq.test(infection$infection, infection$echo)"
   ]
  },
  {
   "cell_type": "code",
   "execution_count": 8,
   "metadata": {},
   "outputs": [
    {
     "data": {
      "text/html": [
       "<table>\n",
       "<thead><tr><th scope=col>icustay_id</th><th scope=col>group</th><th scope=col>match</th></tr></thead>\n",
       "<tbody>\n",
       "\t<tr><td>262436</td><td>ctrl  </td><td>1     </td></tr>\n",
       "\t<tr><td>244460</td><td>ctrl  </td><td>2     </td></tr>\n",
       "\t<tr><td>298177</td><td>ctrl  </td><td>3     </td></tr>\n",
       "\t<tr><td>290165</td><td>ctrl  </td><td>4     </td></tr>\n",
       "\t<tr><td>278397</td><td>ctrl  </td><td>5     </td></tr>\n",
       "\t<tr><td>212022</td><td>ctrl  </td><td>6     </td></tr>\n",
       "</tbody>\n",
       "</table>\n"
      ],
      "text/latex": [
       "\\begin{tabular}{r|lll}\n",
       " icustay\\_id & group & match\\\\\n",
       "\\hline\n",
       "\t 262436 & ctrl   & 1     \\\\\n",
       "\t 244460 & ctrl   & 2     \\\\\n",
       "\t 298177 & ctrl   & 3     \\\\\n",
       "\t 290165 & ctrl   & 4     \\\\\n",
       "\t 278397 & ctrl   & 5     \\\\\n",
       "\t 212022 & ctrl   & 6     \\\\\n",
       "\\end{tabular}\n"
      ],
      "text/markdown": [
       "\n",
       "icustay_id | group | match | \n",
       "|---|---|---|---|---|---|\n",
       "| 262436 | ctrl   | 1      | \n",
       "| 244460 | ctrl   | 2      | \n",
       "| 298177 | ctrl   | 3      | \n",
       "| 290165 | ctrl   | 4      | \n",
       "| 278397 | ctrl   | 5      | \n",
       "| 212022 | ctrl   | 6      | \n",
       "\n",
       "\n"
      ],
      "text/plain": [
       "  icustay_id group match\n",
       "1 262436     ctrl  1    \n",
       "2 244460     ctrl  2    \n",
       "3 298177     ctrl  3    \n",
       "4 290165     ctrl  4    \n",
       "5 278397     ctrl  5    \n",
       "6 212022     ctrl  6    "
      ]
     },
     "metadata": {},
     "output_type": "display_data"
    }
   ],
   "source": [
    "ps_matches_df <- data.table::fread(file.path(data_dir, \"ps_matches_df.csv\"), data.table = FALSE)\n",
    "\n",
    "head(ps_matches_df)"
   ]
  },
  {
   "cell_type": "code",
   "execution_count": 9,
   "metadata": {},
   "outputs": [
    {
     "data": {
      "text/html": [
       "<table>\n",
       "<thead><tr><th scope=col>icustay_id</th><th scope=col>group</th><th scope=col>match</th><th scope=col>echo</th><th scope=col>infection</th></tr></thead>\n",
       "<tbody>\n",
       "\t<tr><td>262436</td><td>ctrl  </td><td>1     </td><td>0     </td><td>0     </td></tr>\n",
       "\t<tr><td>244460</td><td>ctrl  </td><td>2     </td><td>0     </td><td>0     </td></tr>\n",
       "\t<tr><td>298177</td><td>ctrl  </td><td>3     </td><td>0     </td><td>0     </td></tr>\n",
       "\t<tr><td>290165</td><td>ctrl  </td><td>4     </td><td>0     </td><td>0     </td></tr>\n",
       "\t<tr><td>278397</td><td>ctrl  </td><td>5     </td><td>0     </td><td>0     </td></tr>\n",
       "\t<tr><td>212022</td><td>ctrl  </td><td>6     </td><td>0     </td><td>0     </td></tr>\n",
       "</tbody>\n",
       "</table>\n"
      ],
      "text/latex": [
       "\\begin{tabular}{r|lllll}\n",
       " icustay\\_id & group & match & echo & infection\\\\\n",
       "\\hline\n",
       "\t 262436 & ctrl   & 1      & 0      & 0     \\\\\n",
       "\t 244460 & ctrl   & 2      & 0      & 0     \\\\\n",
       "\t 298177 & ctrl   & 3      & 0      & 0     \\\\\n",
       "\t 290165 & ctrl   & 4      & 0      & 0     \\\\\n",
       "\t 278397 & ctrl   & 5      & 0      & 0     \\\\\n",
       "\t 212022 & ctrl   & 6      & 0      & 0     \\\\\n",
       "\\end{tabular}\n"
      ],
      "text/markdown": [
       "\n",
       "icustay_id | group | match | echo | infection | \n",
       "|---|---|---|---|---|---|\n",
       "| 262436 | ctrl   | 1      | 0      | 0      | \n",
       "| 244460 | ctrl   | 2      | 0      | 0      | \n",
       "| 298177 | ctrl   | 3      | 0      | 0      | \n",
       "| 290165 | ctrl   | 4      | 0      | 0      | \n",
       "| 278397 | ctrl   | 5      | 0      | 0      | \n",
       "| 212022 | ctrl   | 6      | 0      | 0      | \n",
       "\n",
       "\n"
      ],
      "text/plain": [
       "  icustay_id group match echo infection\n",
       "1 262436     ctrl  1     0    0        \n",
       "2 244460     ctrl  2     0    0        \n",
       "3 298177     ctrl  3     0    0        \n",
       "4 290165     ctrl  4     0    0        \n",
       "5 278397     ctrl  5     0    0        \n",
       "6 212022     ctrl  6     0    0        "
      ]
     },
     "metadata": {},
     "output_type": "display_data"
    }
   ],
   "source": [
    "ps_df <-\n",
    "ps_matches_df %>%\n",
    "left_join(infection, by = \"icustay_id\")\n",
    "\n",
    "head(ps_df)"
   ]
  },
  {
   "cell_type": "code",
   "execution_count": 10,
   "metadata": {},
   "outputs": [
    {
     "data": {
      "text/html": [
       "<table>\n",
       "<thead><tr><th scope=col>icustay_id.x</th><th scope=col>group.x</th><th scope=col>match</th><th scope=col>echo.x</th><th scope=col>trtd</th><th scope=col>icustay_id.y</th><th scope=col>group.y</th><th scope=col>echo.y</th><th scope=col>ctrl</th></tr></thead>\n",
       "<tbody>\n",
       "\t<tr><td>228416</td><td>trtd  </td><td>1     </td><td>1     </td><td>0     </td><td>262436</td><td>ctrl  </td><td>0     </td><td>0     </td></tr>\n",
       "\t<tr><td>274174</td><td>trtd  </td><td>2     </td><td>1     </td><td>0     </td><td>244460</td><td>ctrl  </td><td>0     </td><td>0     </td></tr>\n",
       "\t<tr><td>214954</td><td>trtd  </td><td>3     </td><td>1     </td><td>0     </td><td>298177</td><td>ctrl  </td><td>0     </td><td>0     </td></tr>\n",
       "\t<tr><td>264413</td><td>trtd  </td><td>4     </td><td>1     </td><td>0     </td><td>290165</td><td>ctrl  </td><td>0     </td><td>0     </td></tr>\n",
       "\t<tr><td>214106</td><td>trtd  </td><td>5     </td><td>1     </td><td>0     </td><td>278397</td><td>ctrl  </td><td>0     </td><td>0     </td></tr>\n",
       "\t<tr><td>266275</td><td>trtd  </td><td>6     </td><td>1     </td><td>0     </td><td>212022</td><td>ctrl  </td><td>0     </td><td>0     </td></tr>\n",
       "</tbody>\n",
       "</table>\n"
      ],
      "text/latex": [
       "\\begin{tabular}{r|lllllllll}\n",
       " icustay\\_id.x & group.x & match & echo.x & trtd & icustay\\_id.y & group.y & echo.y & ctrl\\\\\n",
       "\\hline\n",
       "\t 228416 & trtd   & 1      & 1      & 0      & 262436 & ctrl   & 0      & 0     \\\\\n",
       "\t 274174 & trtd   & 2      & 1      & 0      & 244460 & ctrl   & 0      & 0     \\\\\n",
       "\t 214954 & trtd   & 3      & 1      & 0      & 298177 & ctrl   & 0      & 0     \\\\\n",
       "\t 264413 & trtd   & 4      & 1      & 0      & 290165 & ctrl   & 0      & 0     \\\\\n",
       "\t 214106 & trtd   & 5      & 1      & 0      & 278397 & ctrl   & 0      & 0     \\\\\n",
       "\t 266275 & trtd   & 6      & 1      & 0      & 212022 & ctrl   & 0      & 0     \\\\\n",
       "\\end{tabular}\n"
      ],
      "text/markdown": [
       "\n",
       "icustay_id.x | group.x | match | echo.x | trtd | icustay_id.y | group.y | echo.y | ctrl | \n",
       "|---|---|---|---|---|---|\n",
       "| 228416 | trtd   | 1      | 1      | 0      | 262436 | ctrl   | 0      | 0      | \n",
       "| 274174 | trtd   | 2      | 1      | 0      | 244460 | ctrl   | 0      | 0      | \n",
       "| 214954 | trtd   | 3      | 1      | 0      | 298177 | ctrl   | 0      | 0      | \n",
       "| 264413 | trtd   | 4      | 1      | 0      | 290165 | ctrl   | 0      | 0      | \n",
       "| 214106 | trtd   | 5      | 1      | 0      | 278397 | ctrl   | 0      | 0      | \n",
       "| 266275 | trtd   | 6      | 1      | 0      | 212022 | ctrl   | 0      | 0      | \n",
       "\n",
       "\n"
      ],
      "text/plain": [
       "  icustay_id.x group.x match echo.x trtd icustay_id.y group.y echo.y ctrl\n",
       "1 228416       trtd    1     1      0    262436       ctrl    0      0   \n",
       "2 274174       trtd    2     1      0    244460       ctrl    0      0   \n",
       "3 214954       trtd    3     1      0    298177       ctrl    0      0   \n",
       "4 264413       trtd    4     1      0    290165       ctrl    0      0   \n",
       "5 214106       trtd    5     1      0    278397       ctrl    0      0   \n",
       "6 266275       trtd    6     1      0    212022       ctrl    0      0   "
      ]
     },
     "metadata": {},
     "output_type": "display_data"
    }
   ],
   "source": [
    "matched <-\n",
    "ps_df %>%\n",
    "filter(echo == 1) %>%\n",
    "rename(trtd = infection) %>%\n",
    "inner_join(ps_df %>%\n",
    "           filter(echo == 0) %>%\n",
    "           rename(ctrl = infection), by = \"match\")\n",
    "\n",
    "head(matched)"
   ]
  },
  {
   "cell_type": "code",
   "execution_count": 11,
   "metadata": {},
   "outputs": [
    {
     "data": {
      "text/plain": [
       "    Non-Echo\n",
       "Echo   0   1\n",
       "   0 879 314\n",
       "   1 332 101"
      ]
     },
     "metadata": {},
     "output_type": "display_data"
    }
   ],
   "source": [
    "tab <- table(matched$trtd, matched$ctrl, dnn = c(\"Echo\", \"Non-Echo\"))\n",
    "tab"
   ]
  },
  {
   "cell_type": "code",
   "execution_count": 12,
   "metadata": {},
   "outputs": [
    {
     "data": {
      "text/html": [
       "1.05732484076433"
      ],
      "text/latex": [
       "1.05732484076433"
      ],
      "text/markdown": [
       "1.05732484076433"
      ],
      "text/plain": [
       "[1] 1.057325"
      ]
     },
     "metadata": {},
     "output_type": "display_data"
    },
    {
     "data": {
      "text/html": [
       "<ol class=list-inline>\n",
       "\t<li>0.9061545</li>\n",
       "\t<li>1.2337143</li>\n",
       "</ol>\n"
      ],
      "text/latex": [
       "\\begin{enumerate*}\n",
       "\\item 0.9061545\n",
       "\\item 1.2337143\n",
       "\\end{enumerate*}\n"
      ],
      "text/markdown": [
       "1. 0.9061545\n",
       "2. 1.2337143\n",
       "\n",
       "\n"
      ],
      "text/plain": [
       "[1] 0.9061545 1.2337143"
      ]
     },
     "metadata": {},
     "output_type": "display_data"
    }
   ],
   "source": [
    "tab[2, 1] / tab[1, 2]\n",
    "round(exp(c(log(tab[2, 1] / tab[1, 2]) - qnorm(0.975) * sqrt(1 / tab[1, 2] + 1 / tab[2, 1]),\n",
    "            log(tab[2, 1] / tab[1, 2]) + qnorm(0.975) * sqrt(1 / tab[1, 2] + 1 / tab[2, 1]))), 7)"
   ]
  },
  {
   "cell_type": "code",
   "execution_count": 13,
   "metadata": {},
   "outputs": [
    {
     "data": {
      "text/plain": [
       "\n",
       "\tMcNemar's Chi-squared test with continuity correction\n",
       "\n",
       "data:  tab\n",
       "McNemar's chi-squared = 0.44737, df = 1, p-value = 0.5036\n"
      ]
     },
     "metadata": {},
     "output_type": "display_data"
    }
   ],
   "source": [
    "mcnemar.test(tab)"
   ]
  },
  {
   "cell_type": "code",
   "execution_count": 14,
   "metadata": {},
   "outputs": [
    {
     "data": {
      "text/html": [
       "TRUE"
      ],
      "text/latex": [
       "TRUE"
      ],
      "text/markdown": [
       "TRUE"
      ],
      "text/plain": [
       "[1] TRUE"
      ]
     },
     "metadata": {},
     "output_type": "display_data"
    },
    {
     "data": {
      "text/html": [
       "TRUE"
      ],
      "text/latex": [
       "TRUE"
      ],
      "text/markdown": [
       "TRUE"
      ],
      "text/plain": [
       "[1] TRUE"
      ]
     },
     "metadata": {},
     "output_type": "display_data"
    }
   ],
   "source": [
    "dbDisconnect(con)\n",
    "dbUnloadDriver(drv)"
   ]
  }
 ],
 "metadata": {
  "kernelspec": {
   "display_name": "R",
   "language": "R",
   "name": "ir"
  },
  "language_info": {
   "codemirror_mode": "r",
   "file_extension": ".r",
   "mimetype": "text/x-r-source",
   "name": "R",
   "pygments_lexer": "r",
   "version": "3.4.4"
  },
  "varInspector": {
   "cols": {
    "lenName": 16,
    "lenType": 16,
    "lenVar": 40
   },
   "kernels_config": {
    "python": {
     "delete_cmd_postfix": "",
     "delete_cmd_prefix": "del ",
     "library": "var_list.py",
     "varRefreshCmd": "print(var_dic_list())"
    },
    "r": {
     "delete_cmd_postfix": ") ",
     "delete_cmd_prefix": "rm(",
     "library": "var_list.r",
     "varRefreshCmd": "cat(var_dic_list()) "
    }
   },
   "types_to_exclude": [
    "module",
    "function",
    "builtin_function_or_method",
    "instance",
    "_Feature"
   ],
   "window_display": false
  }
 },
 "nbformat": 4,
 "nbformat_minor": 2
}
