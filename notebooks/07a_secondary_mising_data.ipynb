{
 "cells": [
  {
   "cell_type": "code",
   "execution_count": 1,
   "metadata": {
    "scrolled": true
   },
   "outputs": [
    {
     "name": "stderr",
     "output_type": "stream",
     "text": [
      "Loading required package: DBI\n",
      "── Attaching packages ─────────────────────────────────────── tidyverse 1.2.1 ──\n",
      "✔ ggplot2 2.2.1     ✔ purrr   0.2.4\n",
      "✔ tibble  1.4.2     ✔ dplyr   0.7.4\n",
      "✔ tidyr   0.8.0     ✔ stringr 1.3.0\n",
      "✔ readr   1.1.1     ✔ forcats 0.3.0\n",
      "── Conflicts ────────────────────────────────────────── tidyverse_conflicts() ──\n",
      "✖ dplyr::filter() masks stats::filter()\n",
      "✖ dplyr::lag()    masks stats::lag()\n"
     ]
    }
   ],
   "source": [
    "library(RPostgreSQL)\n",
    "library(tableone)\n",
    "library(tidyverse)"
   ]
  },
  {
   "cell_type": "code",
   "execution_count": 2,
   "metadata": {},
   "outputs": [],
   "source": [
    "data_dir <- file.path(\"..\", \"data\")"
   ]
  },
  {
   "cell_type": "code",
   "execution_count": 3,
   "metadata": {},
   "outputs": [
    {
     "data": {
      "text/plain": [
       "<PostgreSQLResult>"
      ]
     },
     "metadata": {},
     "output_type": "display_data"
    }
   ],
   "source": [
    "drv <- dbDriver(\"PostgreSQL\")\n",
    "con <- dbConnect(drv, dbname = \"mimic\")\n",
    "dbSendQuery(con, \"set search_path=echo,public,mimiciii;\")"
   ]
  },
  {
   "cell_type": "code",
   "execution_count": 4,
   "metadata": {},
   "outputs": [
    {
     "data": {
      "text/html": [
       "<table>\n",
       "<thead><tr><th scope=col>day1</th><th scope=col>day2</th></tr></thead>\n",
       "<tbody>\n",
       "\t<tr><td>216</td><td>363</td></tr>\n",
       "</tbody>\n",
       "</table>\n"
      ],
      "text/latex": [
       "\\begin{tabular}{r|ll}\n",
       " day1 & day2\\\\\n",
       "\\hline\n",
       "\t 216 & 363\\\\\n",
       "\\end{tabular}\n"
      ],
      "text/markdown": [
       "\n",
       "day1 | day2 | \n",
       "|---|\n",
       "| 216 | 363 | \n",
       "\n",
       "\n"
      ],
      "text/plain": [
       "  day1 day2\n",
       "1 216  363 "
      ]
     },
     "metadata": {},
     "output_type": "display_data"
    }
   ],
   "source": [
    "sql <-\n",
    "\"\n",
    "select\n",
    "sum(case when extract(day from (deathtime - intime)) < 1 then 1 else 0 end) as day1,\n",
    "sum(case when extract(day from (deathtime - intime)) < 2 then 1 else 0 end) as day2\n",
    "from merged_data\n",
    "\"\n",
    "\n",
    "dbGetQuery(con, sql)"
   ]
  },
  {
   "cell_type": "code",
   "execution_count": 5,
   "metadata": {},
   "outputs": [
    {
     "data": {
      "text/html": [
       "<table>\n",
       "<thead><tr><th scope=col>day2</th><th scope=col>day3</th></tr></thead>\n",
       "<tbody>\n",
       "\t<tr><td>8</td><td>8</td></tr>\n",
       "</tbody>\n",
       "</table>\n"
      ],
      "text/latex": [
       "\\begin{tabular}{r|ll}\n",
       " day2 & day3\\\\\n",
       "\\hline\n",
       "\t 8 & 8\\\\\n",
       "\\end{tabular}\n"
      ],
      "text/markdown": [
       "\n",
       "day2 | day3 | \n",
       "|---|\n",
       "| 8 | 8 | \n",
       "\n",
       "\n"
      ],
      "text/plain": [
       "  day2 day3\n",
       "1 8    8   "
      ]
     },
     "metadata": {},
     "output_type": "display_data"
    }
   ],
   "source": [
    "sql <-\n",
    "\"\n",
    "with stg_0 as (\n",
    "    select co.icustay_id, co.deathtime, co.intime, fl.day2, fl.day3\n",
    "    from merged_data co left join fluid fl on co.icustay_id = fl.icustay_id\n",
    ")\n",
    "\n",
    "select\n",
    "sum(case when extract(day from (deathtime - intime)) < 1 and day2 is not null then 1 else 0 end) as day2,\n",
    "sum(case when extract(day from (deathtime - intime)) < 2 and day3 is not null then 1 else 0 end) as day3\n",
    "from stg_0\n",
    "\"\n",
    "\n",
    "dbGetQuery(con, sql)"
   ]
  },
  {
   "cell_type": "code",
   "execution_count": 6,
   "metadata": {},
   "outputs": [
    {
     "data": {
      "text/html": [
       "<table>\n",
       "<thead><tr><th scope=col>day1</th><th scope=col>day2</th><th scope=col>day3</th></tr></thead>\n",
       "<tbody>\n",
       "\t<tr><td>230 </td><td>976 </td><td>2100</td></tr>\n",
       "</tbody>\n",
       "</table>\n"
      ],
      "text/latex": [
       "\\begin{tabular}{r|lll}\n",
       " day1 & day2 & day3\\\\\n",
       "\\hline\n",
       "\t 230  & 976  & 2100\\\\\n",
       "\\end{tabular}\n"
      ],
      "text/markdown": [
       "\n",
       "day1 | day2 | day3 | \n",
       "|---|\n",
       "| 230  | 976  | 2100 | \n",
       "\n",
       "\n"
      ],
      "text/plain": [
       "  day1 day2 day3\n",
       "1 230  976  2100"
      ]
     },
     "metadata": {},
     "output_type": "display_data"
    }
   ],
   "source": [
    "sql <-\n",
    "\"\n",
    "with stg_0 as (\n",
    "    select co.icustay_id, co.deathtime, co.intime, fl.day1, fl.day2, fl.day3\n",
    "    from merged_data co left join fluid fl on co.icustay_id = fl.icustay_id\n",
    ")\n",
    "\n",
    "select\n",
    "sum(case when day1 is null then 1 else 0 end) as day1,\n",
    "sum(case when day2 is null then 1 else 0 end) as day2,\n",
    "sum(case when day3 is null then 1 else 0 end) as day3\n",
    "from stg_0\n",
    "\"\n",
    "\n",
    "dbGetQuery(con, sql)"
   ]
  },
  {
   "cell_type": "code",
   "execution_count": 7,
   "metadata": {},
   "outputs": [
    {
     "data": {
      "text/html": [
       "<table>\n",
       "<thead><tr><th scope=col>count</th></tr></thead>\n",
       "<tbody>\n",
       "\t<tr><td>433</td></tr>\n",
       "</tbody>\n",
       "</table>\n"
      ],
      "text/latex": [
       "\\begin{tabular}{r|l}\n",
       " count\\\\\n",
       "\\hline\n",
       "\t 433\\\\\n",
       "\\end{tabular}\n"
      ],
      "text/markdown": [
       "\n",
       "count | \n",
       "|---|\n",
       "| 433 | \n",
       "\n",
       "\n"
      ],
      "text/plain": [
       "  count\n",
       "1 433  "
      ]
     },
     "metadata": {},
     "output_type": "display_data"
    }
   ],
   "source": [
    "sql <-\n",
    "\"\n",
    "select count(*) from lactate_death\n",
    "\"\n",
    "\n",
    "dbGetQuery(con, sql)"
   ]
  },
  {
   "cell_type": "code",
   "execution_count": 8,
   "metadata": {},
   "outputs": [
    {
     "data": {
      "text/html": [
       "<table>\n",
       "<thead><tr><th scope=col>lactate_diff</th></tr></thead>\n",
       "<tbody>\n",
       "\t<tr><td>4555</td></tr>\n",
       "</tbody>\n",
       "</table>\n"
      ],
      "text/latex": [
       "\\begin{tabular}{r|l}\n",
       " lactate\\_diff\\\\\n",
       "\\hline\n",
       "\t 4555\\\\\n",
       "\\end{tabular}\n"
      ],
      "text/markdown": [
       "\n",
       "lactate_diff | \n",
       "|---|\n",
       "| 4555 | \n",
       "\n",
       "\n"
      ],
      "text/plain": [
       "  lactate_diff\n",
       "1 4555        "
      ]
     },
     "metadata": {},
     "output_type": "display_data"
    }
   ],
   "source": [
    "sql <-\n",
    "\"\n",
    "with stg_0 as (\n",
    "    select co.icustay_id, sr.lactate_diff\n",
    "    from merged_data co left join lactate_diff sr on co.hadm_id = sr.hadm_id\n",
    ")\n",
    "\n",
    "select\n",
    "sum(case when lactate_diff is null then 1 else 0 end) as lactate_diff\n",
    "from stg_0\n",
    "\"\n",
    "\n",
    "dbGetQuery(con, sql)"
   ]
  },
  {
   "cell_type": "code",
   "execution_count": 9,
   "metadata": {},
   "outputs": [
    {
     "data": {
      "text/html": [
       "<table>\n",
       "<thead><tr><th scope=col>lactate_diff</th></tr></thead>\n",
       "<tbody>\n",
       "\t<tr><td>1</td></tr>\n",
       "</tbody>\n",
       "</table>\n"
      ],
      "text/latex": [
       "\\begin{tabular}{r|l}\n",
       " lactate\\_diff\\\\\n",
       "\\hline\n",
       "\t 1\\\\\n",
       "\\end{tabular}\n"
      ],
      "text/markdown": [
       "\n",
       "lactate_diff | \n",
       "|---|\n",
       "| 1 | \n",
       "\n",
       "\n"
      ],
      "text/plain": [
       "  lactate_diff\n",
       "1 1           "
      ]
     },
     "metadata": {},
     "output_type": "display_data"
    }
   ],
   "source": [
    "sql <-\n",
    "\"\n",
    "with stg_0 as (\n",
    "    select co.hadm_id, sr.lactate_diff\n",
    "    from merged_data co left join lactate_diff sr on co.hadm_id = sr.hadm_id\n",
    ")\n",
    "\n",
    "select\n",
    "sum(case when b.death = 1 and a.lactate_diff is not null then 1 else 0 end) as lactate_diff\n",
    "from stg_0 a\n",
    "left join (select hadm_id, 1 as death from lactate_death) b on a.hadm_id = b.hadm_id\n",
    "\"\n",
    "\n",
    "dbGetQuery(con, sql)"
   ]
  },
  {
   "cell_type": "code",
   "execution_count": 10,
   "metadata": {},
   "outputs": [
    {
     "data": {
      "text/html": [
       "<table>\n",
       "<thead><tr><th scope=col>count</th></tr></thead>\n",
       "<tbody>\n",
       "\t<tr><td>1</td></tr>\n",
       "</tbody>\n",
       "</table>\n"
      ],
      "text/latex": [
       "\\begin{tabular}{r|l}\n",
       " count\\\\\n",
       "\\hline\n",
       "\t 1\\\\\n",
       "\\end{tabular}\n"
      ],
      "text/markdown": [
       "\n",
       "count | \n",
       "|---|\n",
       "| 1 | \n",
       "\n",
       "\n"
      ],
      "text/plain": [
       "  count\n",
       "1 1    "
      ]
     },
     "metadata": {},
     "output_type": "display_data"
    }
   ],
   "source": [
    "sql <-\n",
    "\"\n",
    "select count(*)\n",
    "from lactate_diff inner join lactate_death using (hadm_id)\n",
    "\"\n",
    "\n",
    "dbGetQuery(con, sql)"
   ]
  },
  {
   "cell_type": "code",
   "execution_count": 11,
   "metadata": {},
   "outputs": [
    {
     "data": {
      "text/html": [
       "<table>\n",
       "<thead><tr><th scope=col>count</th></tr></thead>\n",
       "<tbody>\n",
       "\t<tr><td>428</td></tr>\n",
       "</tbody>\n",
       "</table>\n"
      ],
      "text/latex": [
       "\\begin{tabular}{r|l}\n",
       " count\\\\\n",
       "\\hline\n",
       "\t 428\\\\\n",
       "\\end{tabular}\n"
      ],
      "text/markdown": [
       "\n",
       "count | \n",
       "|---|\n",
       "| 428 | \n",
       "\n",
       "\n"
      ],
      "text/plain": [
       "  count\n",
       "1 428  "
      ]
     },
     "metadata": {},
     "output_type": "display_data"
    }
   ],
   "source": [
    "sql <-\n",
    "\"\n",
    "select count(*) from creatinine_death\n",
    "\"\n",
    "\n",
    "dbGetQuery(con, sql)"
   ]
  },
  {
   "cell_type": "code",
   "execution_count": 12,
   "metadata": {},
   "outputs": [
    {
     "data": {
      "text/html": [
       "<table>\n",
       "<thead><tr><th scope=col>creatinine_diff</th></tr></thead>\n",
       "<tbody>\n",
       "\t<tr><td>1141</td></tr>\n",
       "</tbody>\n",
       "</table>\n"
      ],
      "text/latex": [
       "\\begin{tabular}{r|l}\n",
       " creatinine\\_diff\\\\\n",
       "\\hline\n",
       "\t 1141\\\\\n",
       "\\end{tabular}\n"
      ],
      "text/markdown": [
       "\n",
       "creatinine_diff | \n",
       "|---|\n",
       "| 1141 | \n",
       "\n",
       "\n"
      ],
      "text/plain": [
       "  creatinine_diff\n",
       "1 1141           "
      ]
     },
     "metadata": {},
     "output_type": "display_data"
    }
   ],
   "source": [
    "sql <-\n",
    "\"\n",
    "with stg_0 as (\n",
    "    select co.icustay_id, sr.creatinine_diff\n",
    "    from merged_data co left join creatinine_diff sr on co.hadm_id = sr.hadm_id\n",
    ")\n",
    "\n",
    "select\n",
    "sum(case when creatinine_diff is null then 1 else 0 end) as creatinine_diff\n",
    "from stg_0\n",
    "\"\n",
    "\n",
    "dbGetQuery(con, sql)"
   ]
  },
  {
   "cell_type": "code",
   "execution_count": 13,
   "metadata": {},
   "outputs": [
    {
     "data": {
      "text/html": [
       "<table>\n",
       "<thead><tr><th scope=col>count</th></tr></thead>\n",
       "<tbody>\n",
       "\t<tr><td>1</td></tr>\n",
       "</tbody>\n",
       "</table>\n"
      ],
      "text/latex": [
       "\\begin{tabular}{r|l}\n",
       " count\\\\\n",
       "\\hline\n",
       "\t 1\\\\\n",
       "\\end{tabular}\n"
      ],
      "text/markdown": [
       "\n",
       "count | \n",
       "|---|\n",
       "| 1 | \n",
       "\n",
       "\n"
      ],
      "text/plain": [
       "  count\n",
       "1 1    "
      ]
     },
     "metadata": {},
     "output_type": "display_data"
    }
   ],
   "source": [
    "sql <-\n",
    "\"\n",
    "select count(*)\n",
    "from creatinine_diff inner join creatinine_death using (hadm_id)\n",
    "\"\n",
    "\n",
    "dbGetQuery(con, sql)"
   ]
  },
  {
   "cell_type": "code",
   "execution_count": 14,
   "metadata": {},
   "outputs": [
    {
     "data": {
      "text/html": [
       "<table>\n",
       "<thead><tr><th scope=col>creatinine_diff</th></tr></thead>\n",
       "<tbody>\n",
       "\t<tr><td>1</td></tr>\n",
       "</tbody>\n",
       "</table>\n"
      ],
      "text/latex": [
       "\\begin{tabular}{r|l}\n",
       " creatinine\\_diff\\\\\n",
       "\\hline\n",
       "\t 1\\\\\n",
       "\\end{tabular}\n"
      ],
      "text/markdown": [
       "\n",
       "creatinine_diff | \n",
       "|---|\n",
       "| 1 | \n",
       "\n",
       "\n"
      ],
      "text/plain": [
       "  creatinine_diff\n",
       "1 1              "
      ]
     },
     "metadata": {},
     "output_type": "display_data"
    }
   ],
   "source": [
    "sql <-\n",
    "\"\n",
    "with stg_0 as (\n",
    "    select co.hadm_id, sr.creatinine_diff\n",
    "    from merged_data co left join creatinine_diff sr on co.hadm_id = sr.hadm_id\n",
    ")\n",
    "\n",
    "select\n",
    "sum(case when b.death = 1 and a.creatinine_diff is not null then 1 else 0 end) as creatinine_diff\n",
    "from stg_0 a\n",
    "left join (select hadm_id, 1 as death from creatinine_death) b on a.hadm_id = b.hadm_id\n",
    "\"\n",
    "\n",
    "dbGetQuery(con, sql)"
   ]
  },
  {
   "cell_type": "code",
   "execution_count": 15,
   "metadata": {},
   "outputs": [
    {
     "data": {
      "text/html": [
       "TRUE"
      ],
      "text/latex": [
       "TRUE"
      ],
      "text/markdown": [
       "TRUE"
      ],
      "text/plain": [
       "[1] TRUE"
      ]
     },
     "metadata": {},
     "output_type": "display_data"
    },
    {
     "data": {
      "text/html": [
       "TRUE"
      ],
      "text/latex": [
       "TRUE"
      ],
      "text/markdown": [
       "TRUE"
      ],
      "text/plain": [
       "[1] TRUE"
      ]
     },
     "metadata": {},
     "output_type": "display_data"
    }
   ],
   "source": [
    "dbDisconnect(con)\n",
    "dbUnloadDriver(drv)"
   ]
  }
 ],
 "metadata": {
  "kernelspec": {
   "display_name": "R",
   "language": "R",
   "name": "ir"
  },
  "language_info": {
   "codemirror_mode": "r",
   "file_extension": ".r",
   "mimetype": "text/x-r-source",
   "name": "R",
   "pygments_lexer": "r",
   "version": "3.4.4"
  },
  "varInspector": {
   "cols": {
    "lenName": 16,
    "lenType": 16,
    "lenVar": 40
   },
   "kernels_config": {
    "python": {
     "delete_cmd_postfix": "",
     "delete_cmd_prefix": "del ",
     "library": "var_list.py",
     "varRefreshCmd": "print(var_dic_list())"
    },
    "r": {
     "delete_cmd_postfix": ") ",
     "delete_cmd_prefix": "rm(",
     "library": "var_list.r",
     "varRefreshCmd": "cat(var_dic_list()) "
    }
   },
   "types_to_exclude": [
    "module",
    "function",
    "builtin_function_or_method",
    "instance",
    "_Feature"
   ],
   "window_display": false
  }
 },
 "nbformat": 4,
 "nbformat_minor": 2
}
