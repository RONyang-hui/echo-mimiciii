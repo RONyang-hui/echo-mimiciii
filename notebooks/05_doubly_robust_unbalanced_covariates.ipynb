{
 "cells": [
  {
   "cell_type": "code",
   "execution_count": 1,
   "metadata": {},
   "outputs": [
    {
     "name": "stderr",
     "output_type": "stream",
     "text": [
      "Loading required package: grid\n",
      "Loading required package: Matrix\n",
      "Loading required package: survival\n",
      "\n",
      "Attaching package: ‘survey’\n",
      "\n",
      "The following object is masked from ‘package:graphics’:\n",
      "\n",
      "    dotchart\n",
      "\n",
      "── Attaching packages ─────────────────────────────────────── tidyverse 1.2.1 ──\n",
      "✔ ggplot2 2.2.1     ✔ purrr   0.2.4\n",
      "✔ tibble  1.4.2     ✔ dplyr   0.7.4\n",
      "✔ tidyr   0.8.0     ✔ stringr 1.2.0\n",
      "✔ readr   1.1.1     ✔ forcats 0.2.0\n",
      "── Conflicts ────────────────────────────────────────── tidyverse_conflicts() ──\n",
      "✖ tidyr::expand() masks Matrix::expand()\n",
      "✖ dplyr::filter() masks stats::filter()\n",
      "✖ dplyr::lag()    masks stats::lag()\n"
     ]
    }
   ],
   "source": [
    "library(survey)\n",
    "library(tidyverse)"
   ]
  },
  {
   "cell_type": "code",
   "execution_count": 2,
   "metadata": {},
   "outputs": [],
   "source": [
    "data_dir <- file.path(\"..\", \"data\")"
   ]
  },
  {
   "cell_type": "code",
   "execution_count": 3,
   "metadata": {},
   "outputs": [
    {
     "data": {
      "text/html": [
       "<table>\n",
       "<thead><tr><th scope=col>icustay_id</th><th scope=col>hadm_id</th><th scope=col>subject_id</th><th scope=col>first_careunit</th><th scope=col>intime</th><th scope=col>outtime</th><th scope=col>angus</th><th scope=col>age</th><th scope=col>icu_order</th><th scope=col>echo_time</th><th scope=col>⋯</th><th scope=col>lab_pco2_flag</th><th scope=col>lab_creatinine_flag</th><th scope=col>lab_potassium_flag</th><th scope=col>lab_troponin_flag</th><th scope=col>lab_po2_flag</th><th scope=col>lab_lactate_flag</th><th scope=col>echo_int</th><th scope=col>mort_28_day_int</th><th scope=col>ps</th><th scope=col>ps_weight</th></tr></thead>\n",
       "<tbody>\n",
       "\t<tr><td>228416             </td><td>159895             </td><td> 5491              </td><td>MICU               </td><td>2151-06-29 01:18:27</td><td>2151-07-27 16:00:56</td><td>1                  </td><td>76.58225           </td><td>1                  </td><td>2151-06-30         </td><td>⋯                  </td><td>1                  </td><td>1                  </td><td>1                  </td><td>0                  </td><td>1                  </td><td>1                  </td><td>1                  </td><td>0                  </td><td>0.5525232          </td><td>1.809879           </td></tr>\n",
       "\t<tr><td>278148             </td><td>169700             </td><td>49395              </td><td>MICU               </td><td>2197-01-09 00:45:42</td><td>2197-01-10 06:46:29</td><td>1                  </td><td>82.72606           </td><td>1                  </td><td>NA                 </td><td>⋯                  </td><td>0                  </td><td>1                  </td><td>1                  </td><td>0                  </td><td>0                  </td><td>0                  </td><td>0                  </td><td>1                  </td><td>0.2804613          </td><td>1.389779           </td></tr>\n",
       "\t<tr><td>274174             </td><td>103722             </td><td>14855              </td><td>MICU               </td><td>2181-09-08 23:43:13</td><td>2181-09-26 16:52:02</td><td>1                  </td><td>61.84390           </td><td>1                  </td><td>2181-09-11         </td><td>⋯                  </td><td>1                  </td><td>1                  </td><td>1                  </td><td>0                  </td><td>1                  </td><td>1                  </td><td>1                  </td><td>0                  </td><td>0.3012020          </td><td>3.320031           </td></tr>\n",
       "\t<tr><td>214954             </td><td>170515             </td><td>54642              </td><td>MICU               </td><td>2176-03-11 04:58:23</td><td>2176-03-15 18:00:48</td><td>1                  </td><td>63.86507           </td><td>1                  </td><td>2176-03-11         </td><td>⋯                  </td><td>1                  </td><td>1                  </td><td>1                  </td><td>1                  </td><td>1                  </td><td>1                  </td><td>1                  </td><td>0                  </td><td>0.7982833          </td><td>1.252688           </td></tr>\n",
       "\t<tr><td>222457             </td><td>183493             </td><td>96815              </td><td>MICU               </td><td>2105-06-04 20:57:55</td><td>2105-06-06 20:01:51</td><td>1                  </td><td>62.84018           </td><td>1                  </td><td>NA                 </td><td>⋯                  </td><td>0                  </td><td>1                  </td><td>1                  </td><td>0                  </td><td>0                  </td><td>0                  </td><td>0                  </td><td>0                  </td><td>0.2244447          </td><td>1.289399           </td></tr>\n",
       "\t<tr><td>264413             </td><td>134244             </td><td>81436              </td><td>MICU               </td><td>2133-03-27 16:31:37</td><td>2133-04-04 16:15:28</td><td>1                  </td><td>62.60148           </td><td>1                  </td><td>2133-03-31         </td><td>⋯                  </td><td>0                  </td><td>1                  </td><td>1                  </td><td>0                  </td><td>0                  </td><td>1                  </td><td>1                  </td><td>0                  </td><td>0.3320492          </td><td>3.011602           </td></tr>\n",
       "</tbody>\n",
       "</table>\n"
      ],
      "text/latex": [
       "\\begin{tabular}{r|llllllllllllllllllllllllllllllllllllllllllllllllllllllllllllllllllllllllllllllllllllllllllllllllllllllllllllllllllllllllllllllllllllll}\n",
       " icustay\\_id & hadm\\_id & subject\\_id & first\\_careunit & intime & outtime & angus & age & icu\\_order & echo\\_time & ⋯ & lab\\_pco2\\_flag & lab\\_creatinine\\_flag & lab\\_potassium\\_flag & lab\\_troponin\\_flag & lab\\_po2\\_flag & lab\\_lactate\\_flag & echo\\_int & mort\\_28\\_day\\_int & ps & ps\\_weight\\\\\n",
       "\\hline\n",
       "\t 228416              & 159895              &  5491               & MICU                & 2151-06-29 01:18:27 & 2151-07-27 16:00:56 & 1                   & 76.58225            & 1                   & 2151-06-30          & ⋯                   & 1                   & 1                   & 1                   & 0                   & 1                   & 1                   & 1                   & 0                   & 0.5525232           & 1.809879           \\\\\n",
       "\t 278148              & 169700              & 49395               & MICU                & 2197-01-09 00:45:42 & 2197-01-10 06:46:29 & 1                   & 82.72606            & 1                   & NA                  & ⋯                   & 0                   & 1                   & 1                   & 0                   & 0                   & 0                   & 0                   & 1                   & 0.2804613           & 1.389779           \\\\\n",
       "\t 274174              & 103722              & 14855               & MICU                & 2181-09-08 23:43:13 & 2181-09-26 16:52:02 & 1                   & 61.84390            & 1                   & 2181-09-11          & ⋯                   & 1                   & 1                   & 1                   & 0                   & 1                   & 1                   & 1                   & 0                   & 0.3012020           & 3.320031           \\\\\n",
       "\t 214954              & 170515              & 54642               & MICU                & 2176-03-11 04:58:23 & 2176-03-15 18:00:48 & 1                   & 63.86507            & 1                   & 2176-03-11          & ⋯                   & 1                   & 1                   & 1                   & 1                   & 1                   & 1                   & 1                   & 0                   & 0.7982833           & 1.252688           \\\\\n",
       "\t 222457              & 183493              & 96815               & MICU                & 2105-06-04 20:57:55 & 2105-06-06 20:01:51 & 1                   & 62.84018            & 1                   & NA                  & ⋯                   & 0                   & 1                   & 1                   & 0                   & 0                   & 0                   & 0                   & 0                   & 0.2244447           & 1.289399           \\\\\n",
       "\t 264413              & 134244              & 81436               & MICU                & 2133-03-27 16:31:37 & 2133-04-04 16:15:28 & 1                   & 62.60148            & 1                   & 2133-03-31          & ⋯                   & 0                   & 1                   & 1                   & 0                   & 0                   & 1                   & 1                   & 0                   & 0.3320492           & 3.011602           \\\\\n",
       "\\end{tabular}\n"
      ],
      "text/markdown": [
       "\n",
       "icustay_id | hadm_id | subject_id | first_careunit | intime | outtime | angus | age | icu_order | echo_time | ⋯ | lab_pco2_flag | lab_creatinine_flag | lab_potassium_flag | lab_troponin_flag | lab_po2_flag | lab_lactate_flag | echo_int | mort_28_day_int | ps | ps_weight | \n",
       "|---|---|---|---|---|---|\n",
       "| 228416              | 159895              |  5491               | MICU                | 2151-06-29 01:18:27 | 2151-07-27 16:00:56 | 1                   | 76.58225            | 1                   | 2151-06-30          | ⋯                   | 1                   | 1                   | 1                   | 0                   | 1                   | 1                   | 1                   | 0                   | 0.5525232           | 1.809879            | \n",
       "| 278148              | 169700              | 49395               | MICU                | 2197-01-09 00:45:42 | 2197-01-10 06:46:29 | 1                   | 82.72606            | 1                   | NA                  | ⋯                   | 0                   | 1                   | 1                   | 0                   | 0                   | 0                   | 0                   | 1                   | 0.2804613           | 1.389779            | \n",
       "| 274174              | 103722              | 14855               | MICU                | 2181-09-08 23:43:13 | 2181-09-26 16:52:02 | 1                   | 61.84390            | 1                   | 2181-09-11          | ⋯                   | 1                   | 1                   | 1                   | 0                   | 1                   | 1                   | 1                   | 0                   | 0.3012020           | 3.320031            | \n",
       "| 214954              | 170515              | 54642               | MICU                | 2176-03-11 04:58:23 | 2176-03-15 18:00:48 | 1                   | 63.86507            | 1                   | 2176-03-11          | ⋯                   | 1                   | 1                   | 1                   | 1                   | 1                   | 1                   | 1                   | 0                   | 0.7982833           | 1.252688            | \n",
       "| 222457              | 183493              | 96815               | MICU                | 2105-06-04 20:57:55 | 2105-06-06 20:01:51 | 1                   | 62.84018            | 1                   | NA                  | ⋯                   | 0                   | 1                   | 1                   | 0                   | 0                   | 0                   | 0                   | 0                   | 0.2244447           | 1.289399            | \n",
       "| 264413              | 134244              | 81436               | MICU                | 2133-03-27 16:31:37 | 2133-04-04 16:15:28 | 1                   | 62.60148            | 1                   | 2133-03-31          | ⋯                   | 0                   | 1                   | 1                   | 0                   | 0                   | 1                   | 1                   | 0                   | 0.3320492           | 3.011602            | \n",
       "\n",
       "\n"
      ],
      "text/plain": [
       "  icustay_id hadm_id subject_id first_careunit intime             \n",
       "1 228416     159895   5491      MICU           2151-06-29 01:18:27\n",
       "2 278148     169700  49395      MICU           2197-01-09 00:45:42\n",
       "3 274174     103722  14855      MICU           2181-09-08 23:43:13\n",
       "4 214954     170515  54642      MICU           2176-03-11 04:58:23\n",
       "5 222457     183493  96815      MICU           2105-06-04 20:57:55\n",
       "6 264413     134244  81436      MICU           2133-03-27 16:31:37\n",
       "  outtime             angus age      icu_order echo_time  ⋯ lab_pco2_flag\n",
       "1 2151-07-27 16:00:56 1     76.58225 1         2151-06-30 ⋯ 1            \n",
       "2 2197-01-10 06:46:29 1     82.72606 1         <NA>       ⋯ 0            \n",
       "3 2181-09-26 16:52:02 1     61.84390 1         2181-09-11 ⋯ 1            \n",
       "4 2176-03-15 18:00:48 1     63.86507 1         2176-03-11 ⋯ 1            \n",
       "5 2105-06-06 20:01:51 1     62.84018 1         <NA>       ⋯ 0            \n",
       "6 2133-04-04 16:15:28 1     62.60148 1         2133-03-31 ⋯ 0            \n",
       "  lab_creatinine_flag lab_potassium_flag lab_troponin_flag lab_po2_flag\n",
       "1 1                   1                  0                 1           \n",
       "2 1                   1                  0                 0           \n",
       "3 1                   1                  0                 1           \n",
       "4 1                   1                  1                 1           \n",
       "5 1                   1                  0                 0           \n",
       "6 1                   1                  0                 0           \n",
       "  lab_lactate_flag echo_int mort_28_day_int ps        ps_weight\n",
       "1 1                1        0               0.5525232 1.809879 \n",
       "2 0                0        1               0.2804613 1.389779 \n",
       "3 1                1        0               0.3012020 3.320031 \n",
       "4 1                1        0               0.7982833 1.252688 \n",
       "5 0                0        0               0.2244447 1.289399 \n",
       "6 1                1        0               0.3320492 3.011602 "
      ]
     },
     "metadata": {},
     "output_type": "display_data"
    }
   ],
   "source": [
    "full_data <- readRDS(file.path(data_dir, \"full_data_ps.rds\"))\n",
    "head(full_data)"
   ]
  },
  {
   "cell_type": "code",
   "execution_count": 4,
   "metadata": {},
   "outputs": [
    {
     "data": {
      "text/html": [
       "<table>\n",
       "<thead><tr><th scope=col>cov</th><th scope=col>pval</th></tr></thead>\n",
       "<tbody>\n",
       "\t<tr><td>age           </td><td>0.076         </td></tr>\n",
       "\t<tr><td>gender        </td><td>0.523         </td></tr>\n",
       "\t<tr><td>first_careunit</td><td>0.178         </td></tr>\n",
       "\t<tr><td>weight        </td><td>0.163         </td></tr>\n",
       "\t<tr><td>saps          </td><td>0.134         </td></tr>\n",
       "\t<tr><td>sofa          </td><td>0.038         </td></tr>\n",
       "</tbody>\n",
       "</table>\n"
      ],
      "text/latex": [
       "\\begin{tabular}{r|ll}\n",
       " cov & pval\\\\\n",
       "\\hline\n",
       "\t age            & 0.076         \\\\\n",
       "\t gender         & 0.523         \\\\\n",
       "\t first\\_careunit & 0.178           \\\\\n",
       "\t weight         & 0.163         \\\\\n",
       "\t saps           & 0.134         \\\\\n",
       "\t sofa           & 0.038         \\\\\n",
       "\\end{tabular}\n"
      ],
      "text/markdown": [
       "\n",
       "cov | pval | \n",
       "|---|---|---|---|---|---|\n",
       "| age            | 0.076          | \n",
       "| gender         | 0.523          | \n",
       "| first_careunit | 0.178          | \n",
       "| weight         | 0.163          | \n",
       "| saps           | 0.134          | \n",
       "| sofa           | 0.038          | \n",
       "\n",
       "\n"
      ],
      "text/plain": [
       "  cov            pval \n",
       "1 age            0.076\n",
       "2 gender         0.523\n",
       "3 first_careunit 0.178\n",
       "4 weight         0.163\n",
       "5 saps           0.134\n",
       "6 sofa           0.038"
      ]
     },
     "metadata": {},
     "output_type": "display_data"
    }
   ],
   "source": [
    "wtd_pval <- data.table::fread(file.path(data_dir, \"wtd_pval.csv\"), data.table = FALSE)\n",
    "head(wtd_pval)"
   ]
  },
  {
   "cell_type": "code",
   "execution_count": 5,
   "metadata": {},
   "outputs": [
    {
     "data": {
      "text/html": [
       "<ol class=list-inline>\n",
       "\t<li>'sofa'</li>\n",
       "\t<li>'vent'</li>\n",
       "\t<li>'vaso'</li>\n",
       "\t<li>'sedative'</li>\n",
       "\t<li>'icd_chf'</li>\n",
       "\t<li>'icd_afib'</li>\n",
       "\t<li>'lab_chloride_first'</li>\n",
       "\t<li>'lab_bnp_flag'</li>\n",
       "\t<li>'lab_troponin_flag'</li>\n",
       "\t<li>'lab_creatinine_kinase_flag'</li>\n",
       "</ol>\n"
      ],
      "text/latex": [
       "\\begin{enumerate*}\n",
       "\\item 'sofa'\n",
       "\\item 'vent'\n",
       "\\item 'vaso'\n",
       "\\item 'sedative'\n",
       "\\item 'icd\\_chf'\n",
       "\\item 'icd\\_afib'\n",
       "\\item 'lab\\_chloride\\_first'\n",
       "\\item 'lab\\_bnp\\_flag'\n",
       "\\item 'lab\\_troponin\\_flag'\n",
       "\\item 'lab\\_creatinine\\_kinase\\_flag'\n",
       "\\end{enumerate*}\n"
      ],
      "text/markdown": [
       "1. 'sofa'\n",
       "2. 'vent'\n",
       "3. 'vaso'\n",
       "4. 'sedative'\n",
       "5. 'icd_chf'\n",
       "6. 'icd_afib'\n",
       "7. 'lab_chloride_first'\n",
       "8. 'lab_bnp_flag'\n",
       "9. 'lab_troponin_flag'\n",
       "10. 'lab_creatinine_kinase_flag'\n",
       "\n",
       "\n"
      ],
      "text/plain": [
       " [1] \"sofa\"                       \"vent\"                      \n",
       " [3] \"vaso\"                       \"sedative\"                  \n",
       " [5] \"icd_chf\"                    \"icd_afib\"                  \n",
       " [7] \"lab_chloride_first\"         \"lab_bnp_flag\"              \n",
       " [9] \"lab_troponin_flag\"          \"lab_creatinine_kinase_flag\""
      ]
     },
     "metadata": {},
     "output_type": "display_data"
    }
   ],
   "source": [
    "wpv <- wtd_pval %>%\n",
    "    filter(pval < 0.05) %>%\n",
    "    pull(cov)\n",
    "\n",
    "wpv"
   ]
  },
  {
   "cell_type": "code",
   "execution_count": 6,
   "metadata": {},
   "outputs": [],
   "source": [
    "ipw_svydesign <- readRDS(file.path(data_dir, \"ipw_svydesign.rds\"))"
   ]
  },
  {
   "cell_type": "code",
   "execution_count": 7,
   "metadata": {},
   "outputs": [
    {
     "data": {
      "text/html": [
       "'mort_28_day ~ echo + sofa + vent + vaso + sedative + icd_chf + icd_afib + lab_chloride_first + lab_bnp_flag + lab_troponin_flag + lab_creatinine_kinase_flag'"
      ],
      "text/latex": [
       "'mort\\_28\\_day \\textasciitilde{} echo + sofa + vent + vaso + sedative + icd\\_chf + icd\\_afib + lab\\_chloride\\_first + lab\\_bnp\\_flag + lab\\_troponin\\_flag + lab\\_creatinine\\_kinase\\_flag'"
      ],
      "text/markdown": [
       "'mort_28_day ~ echo + sofa + vent + vaso + sedative + icd_chf + icd_afib + lab_chloride_first + lab_bnp_flag + lab_troponin_flag + lab_creatinine_kinase_flag'"
      ],
      "text/plain": [
       "[1] \"mort_28_day ~ echo + sofa + vent + vaso + sedative + icd_chf + icd_afib + lab_chloride_first + lab_bnp_flag + lab_troponin_flag + lab_creatinine_kinase_flag\""
      ]
     },
     "metadata": {},
     "output_type": "display_data"
    }
   ],
   "source": [
    "fml <- wpv %>%\n",
    "c(\"echo\", .) %>%\n",
    "paste(collapse = \" + \") %>%\n",
    "sprintf(\"mort_28_day ~ %s\", .)\n",
    "\n",
    "fml"
   ]
  },
  {
   "cell_type": "code",
   "execution_count": 8,
   "metadata": {},
   "outputs": [],
   "source": [
    "logi <- svyglm(as.formula(fml), family = quasibinomial, design = ipw_svydesign)"
   ]
  },
  {
   "cell_type": "code",
   "execution_count": 9,
   "metadata": {},
   "outputs": [
    {
     "data": {
      "text/plain": [
       "\n",
       "Call:\n",
       "svyglm(formula = as.formula(fml), family = quasibinomial, design = ipw_svydesign)\n",
       "\n",
       "Survey design:\n",
       "svydesign(ids = ~icustay_id, weights = ~ps_weight, data = full_data)\n",
       "\n",
       "Coefficients:\n",
       "                             Estimate Std. Error t value Pr(>|t|)    \n",
       "(Intercept)                 -1.460189   0.487908  -2.993 0.002776 ** \n",
       "echo1                       -0.242161   0.069873  -3.466 0.000532 ***\n",
       "sofa                         0.205519   0.010869  18.909  < 2e-16 ***\n",
       "vent1                        0.375468   0.106217   3.535 0.000411 ***\n",
       "vaso1                       -0.002689   0.081124  -0.033 0.973561    \n",
       "sedative1                   -0.453956   0.106009  -4.282 1.88e-05 ***\n",
       "icd_chf1                     0.062836   0.078999   0.795 0.426412    \n",
       "icd_afib1                    0.364925   0.077746   4.694 2.74e-06 ***\n",
       "lab_chloride_first          -0.008111   0.004549  -1.783 0.074614 .  \n",
       "lab_bnp_flag1                0.029601   0.206839   0.143 0.886208    \n",
       "lab_troponin_flag1           0.408919   0.098251   4.162 3.20e-05 ***\n",
       "lab_creatinine_kinase_flag1 -0.207393   0.092376  -2.245 0.024797 *  \n",
       "---\n",
       "Signif. codes:  0 ‘***’ 0.001 ‘**’ 0.01 ‘*’ 0.05 ‘.’ 0.1 ‘ ’ 1\n",
       "\n",
       "(Dispersion parameter for quasibinomial family taken to be 1.014291)\n",
       "\n",
       "Number of Fisher Scoring iterations: 4\n"
      ]
     },
     "metadata": {},
     "output_type": "display_data"
    }
   ],
   "source": [
    "summary(logi)"
   ]
  },
  {
   "cell_type": "code",
   "execution_count": 10,
   "metadata": {},
   "outputs": [
    {
     "data": {
      "text/html": [
       "<table>\n",
       "<thead><tr><th></th><th scope=col>OR</th><th scope=col>2.5 %</th><th scope=col>97.5 %</th></tr></thead>\n",
       "<tbody>\n",
       "\t<tr><th scope=row>(Intercept)</th><td>0.2321925 </td><td>0.08923596</td><td>0.6041661 </td></tr>\n",
       "\t<tr><th scope=row>echo1</th><td>0.7849298 </td><td>0.68447120</td><td>0.9001326 </td></tr>\n",
       "\t<tr><th scope=row>sofa</th><td>1.2281624 </td><td>1.20227667</td><td>1.2546054 </td></tr>\n",
       "\t<tr><th scope=row>vent1</th><td>1.4556719 </td><td>1.18209163</td><td>1.7925689 </td></tr>\n",
       "\t<tr><th scope=row>vaso1</th><td>0.9973149 </td><td>0.85070651</td><td>1.1691893 </td></tr>\n",
       "\t<tr><th scope=row>sedative1</th><td>0.6351107 </td><td>0.51595765</td><td>0.7817803 </td></tr>\n",
       "\t<tr><th scope=row>icd_chf1</th><td>1.0648523 </td><td>0.91210513</td><td>1.2431795 </td></tr>\n",
       "\t<tr><th scope=row>icd_afib1</th><td>1.4404061 </td><td>1.23682268</td><td>1.6774997 </td></tr>\n",
       "\t<tr><th scope=row>lab_chloride_first</th><td>0.9919216 </td><td>0.98311729</td><td>1.0008047 </td></tr>\n",
       "\t<tr><th scope=row>lab_bnp_flag1</th><td>1.0300432 </td><td>0.68674183</td><td>1.5449605 </td></tr>\n",
       "\t<tr><th scope=row>lab_troponin_flag1</th><td>1.5051894 </td><td>1.24153664</td><td>1.8248315 </td></tr>\n",
       "\t<tr><th scope=row>lab_creatinine_kinase_flag1</th><td>0.8127002 </td><td>0.67810997</td><td>0.9740037 </td></tr>\n",
       "</tbody>\n",
       "</table>\n"
      ],
      "text/latex": [
       "\\begin{tabular}{r|lll}\n",
       "  & OR & 2.5 \\% & 97.5 \\%\\\\\n",
       "\\hline\n",
       "\t(Intercept) & 0.2321925  & 0.08923596 & 0.6041661 \\\\\n",
       "\techo1 & 0.7849298  & 0.68447120 & 0.9001326 \\\\\n",
       "\tsofa & 1.2281624  & 1.20227667 & 1.2546054 \\\\\n",
       "\tvent1 & 1.4556719  & 1.18209163 & 1.7925689 \\\\\n",
       "\tvaso1 & 0.9973149  & 0.85070651 & 1.1691893 \\\\\n",
       "\tsedative1 & 0.6351107  & 0.51595765 & 0.7817803 \\\\\n",
       "\ticd\\_chf1 & 1.0648523  & 0.91210513 & 1.2431795 \\\\\n",
       "\ticd\\_afib1 & 1.4404061  & 1.23682268 & 1.6774997 \\\\\n",
       "\tlab\\_chloride\\_first & 0.9919216  & 0.98311729 & 1.0008047 \\\\\n",
       "\tlab\\_bnp\\_flag1 & 1.0300432  & 0.68674183 & 1.5449605 \\\\\n",
       "\tlab\\_troponin\\_flag1 & 1.5051894  & 1.24153664 & 1.8248315 \\\\\n",
       "\tlab\\_creatinine\\_kinase\\_flag1 & 0.8127002  & 0.67810997 & 0.9740037 \\\\\n",
       "\\end{tabular}\n"
      ],
      "text/markdown": [
       "\n",
       "| <!--/--> | OR | 2.5 % | 97.5 % | \n",
       "|---|---|---|---|---|---|---|---|---|---|---|---|\n",
       "| (Intercept) | 0.2321925  | 0.08923596 | 0.6041661  | \n",
       "| echo1 | 0.7849298  | 0.68447120 | 0.9001326  | \n",
       "| sofa | 1.2281624  | 1.20227667 | 1.2546054  | \n",
       "| vent1 | 1.4556719  | 1.18209163 | 1.7925689  | \n",
       "| vaso1 | 0.9973149  | 0.85070651 | 1.1691893  | \n",
       "| sedative1 | 0.6351107  | 0.51595765 | 0.7817803  | \n",
       "| icd_chf1 | 1.0648523  | 0.91210513 | 1.2431795  | \n",
       "| icd_afib1 | 1.4404061  | 1.23682268 | 1.6774997  | \n",
       "| lab_chloride_first | 0.9919216  | 0.98311729 | 1.0008047  | \n",
       "| lab_bnp_flag1 | 1.0300432  | 0.68674183 | 1.5449605  | \n",
       "| lab_troponin_flag1 | 1.5051894  | 1.24153664 | 1.8248315  | \n",
       "| lab_creatinine_kinase_flag1 | 0.8127002  | 0.67810997 | 0.9740037  | \n",
       "\n",
       "\n"
      ],
      "text/plain": [
       "                            OR        2.5 %      97.5 %   \n",
       "(Intercept)                 0.2321925 0.08923596 0.6041661\n",
       "echo1                       0.7849298 0.68447120 0.9001326\n",
       "sofa                        1.2281624 1.20227667 1.2546054\n",
       "vent1                       1.4556719 1.18209163 1.7925689\n",
       "vaso1                       0.9973149 0.85070651 1.1691893\n",
       "sedative1                   0.6351107 0.51595765 0.7817803\n",
       "icd_chf1                    1.0648523 0.91210513 1.2431795\n",
       "icd_afib1                   1.4404061 1.23682268 1.6774997\n",
       "lab_chloride_first          0.9919216 0.98311729 1.0008047\n",
       "lab_bnp_flag1               1.0300432 0.68674183 1.5449605\n",
       "lab_troponin_flag1          1.5051894 1.24153664 1.8248315\n",
       "lab_creatinine_kinase_flag1 0.8127002 0.67810997 0.9740037"
      ]
     },
     "metadata": {},
     "output_type": "display_data"
    }
   ],
   "source": [
    "exp(cbind(OR = coef(logi), confint(logi)))"
   ]
  }
 ],
 "metadata": {
  "kernelspec": {
   "display_name": "R",
   "language": "R",
   "name": "ir"
  },
  "language_info": {
   "codemirror_mode": "r",
   "file_extension": ".r",
   "mimetype": "text/x-r-source",
   "name": "R",
   "pygments_lexer": "r",
   "version": "3.4.3"
  },
  "varInspector": {
   "cols": {
    "lenName": 16,
    "lenType": 16,
    "lenVar": 40
   },
   "kernels_config": {
    "python": {
     "delete_cmd_postfix": "",
     "delete_cmd_prefix": "del ",
     "library": "var_list.py",
     "varRefreshCmd": "print(var_dic_list())"
    },
    "r": {
     "delete_cmd_postfix": ") ",
     "delete_cmd_prefix": "rm(",
     "library": "var_list.r",
     "varRefreshCmd": "cat(var_dic_list()) "
    }
   },
   "types_to_exclude": [
    "module",
    "function",
    "builtin_function_or_method",
    "instance",
    "_Feature"
   ],
   "window_display": false
  }
 },
 "nbformat": 4,
 "nbformat_minor": 2
}
