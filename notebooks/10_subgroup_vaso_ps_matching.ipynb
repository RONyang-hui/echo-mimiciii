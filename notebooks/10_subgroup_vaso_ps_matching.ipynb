{
 "cells": [
  {
   "cell_type": "code",
   "execution_count": 1,
   "metadata": {},
   "outputs": [
    {
     "name": "stderr",
     "output_type": "stream",
     "text": [
      "Loading required package: MASS\n",
      "## \n",
      "##  Matching (Version 4.9-2, Build Date: 2015-12-25)\n",
      "##  See http://sekhon.berkeley.edu/matching for additional documentation.\n",
      "##  Please cite software as:\n",
      "##   Jasjeet S. Sekhon. 2011. ``Multivariate and Propensity Score Matching\n",
      "##   Software with Automated Balance Optimization: The Matching package for R.''\n",
      "##   Journal of Statistical Software, 42(7): 1-52. \n",
      "##\n",
      "\n",
      "── Attaching packages ─────────────────────────────────────── tidyverse 1.2.1 ──\n",
      "✔ ggplot2 2.2.1     ✔ purrr   0.2.4\n",
      "✔ tibble  1.4.2     ✔ dplyr   0.7.4\n",
      "✔ tidyr   0.8.0     ✔ stringr 1.3.0\n",
      "✔ readr   1.1.1     ✔ forcats 0.3.0\n",
      "── Conflicts ────────────────────────────────────────── tidyverse_conflicts() ──\n",
      "✖ dplyr::filter() masks stats::filter()\n",
      "✖ dplyr::lag()    masks stats::lag()\n",
      "✖ dplyr::select() masks MASS::select()\n"
     ]
    }
   ],
   "source": [
    "library(Matching)\n",
    "library(tidyverse)"
   ]
  },
  {
   "cell_type": "code",
   "execution_count": 2,
   "metadata": {},
   "outputs": [],
   "source": [
    "data_dir <- file.path(\"..\", \"data\")"
   ]
  },
  {
   "cell_type": "code",
   "execution_count": 3,
   "metadata": {},
   "outputs": [
    {
     "data": {
      "text/html": [
       "<table>\n",
       "<thead><tr><th scope=col>icustay_id</th><th scope=col>hadm_id</th><th scope=col>subject_id</th><th scope=col>first_careunit</th><th scope=col>intime</th><th scope=col>outtime</th><th scope=col>angus</th><th scope=col>age</th><th scope=col>icu_order</th><th scope=col>echo_time</th><th scope=col>⋯</th><th scope=col>lab_pco2_flag</th><th scope=col>lab_creatinine_flag</th><th scope=col>lab_potassium_flag</th><th scope=col>lab_troponin_flag</th><th scope=col>lab_po2_flag</th><th scope=col>lab_lactate_flag</th><th scope=col>echo_int</th><th scope=col>mort_28_day_int</th><th scope=col>ps</th><th scope=col>ps_weight</th></tr></thead>\n",
       "<tbody>\n",
       "\t<tr><td>214954             </td><td>170515             </td><td>54642              </td><td>MICU               </td><td>2176-03-11 04:58:23</td><td>2176-03-15 18:00:48</td><td>1                  </td><td>63.86507           </td><td>1                  </td><td>2176-03-11         </td><td>⋯                  </td><td>1                  </td><td>1                  </td><td>1                  </td><td>1                  </td><td>1                  </td><td>1                  </td><td>1                  </td><td>0                  </td><td>0.7339584          </td><td>1.362475           </td></tr>\n",
       "\t<tr><td>264413             </td><td>134244             </td><td>81436              </td><td>MICU               </td><td>2133-03-27 16:31:37</td><td>2133-04-04 16:15:28</td><td>1                  </td><td>62.60148           </td><td>1                  </td><td>2133-03-31         </td><td>⋯                  </td><td>0                  </td><td>1                  </td><td>1                  </td><td>0                  </td><td>0                  </td><td>1                  </td><td>1                  </td><td>0                  </td><td>0.3889232          </td><td>2.571202           </td></tr>\n",
       "\t<tr><td>214106             </td><td>123152             </td><td>74869              </td><td>MICU               </td><td>2150-09-05 17:50:32</td><td>2150-09-12 21:40:59</td><td>1                  </td><td>74.13371           </td><td>1                  </td><td>2150-09-07         </td><td>⋯                  </td><td>1                  </td><td>1                  </td><td>1                  </td><td>1                  </td><td>1                  </td><td>1                  </td><td>1                  </td><td>1                  </td><td>0.7721262          </td><td>1.295125           </td></tr>\n",
       "\t<tr><td>254478             </td><td>128652             </td><td>   31              </td><td>MICU               </td><td>2108-08-22 23:28:42</td><td>2108-08-30 21:59:20</td><td>1                  </td><td>72.26709           </td><td>1                  </td><td>NA                 </td><td>⋯                  </td><td>1                  </td><td>1                  </td><td>1                  </td><td>0                  </td><td>1                  </td><td>1                  </td><td>0                  </td><td>1                  </td><td>0.1951075          </td><td>1.242402           </td></tr>\n",
       "\t<tr><td>264446             </td><td>165520             </td><td>10013              </td><td>MICU               </td><td>2125-10-04 23:38:00</td><td>2125-10-07 15:13:52</td><td>1                  </td><td>87.08742           </td><td>1                  </td><td>NA                 </td><td>⋯                  </td><td>1                  </td><td>1                  </td><td>1                  </td><td>0                  </td><td>1                  </td><td>0                  </td><td>0                  </td><td>1                  </td><td>0.4902299          </td><td>1.961669           </td></tr>\n",
       "\t<tr><td>218143             </td><td>122936             </td><td>10370              </td><td>SICU               </td><td>2145-01-15 03:36:30</td><td>2145-01-20 19:00:30</td><td>1                  </td><td>45.06368           </td><td>1                  </td><td>2145-01-14         </td><td>⋯                  </td><td>1                  </td><td>1                  </td><td>1                  </td><td>0                  </td><td>1                  </td><td>1                  </td><td>1                  </td><td>0                  </td><td>0.8799575          </td><td>1.136419           </td></tr>\n",
       "</tbody>\n",
       "</table>\n"
      ],
      "text/latex": [
       "\\begin{tabular}{r|llllllllllllllllllllllllllllllllllllllllllllllllllllllllllllllllllllllllllllllllllllllllllllllllllllllllllllllllllllllllllllllllllllll}\n",
       " icustay\\_id & hadm\\_id & subject\\_id & first\\_careunit & intime & outtime & angus & age & icu\\_order & echo\\_time & ⋯ & lab\\_pco2\\_flag & lab\\_creatinine\\_flag & lab\\_potassium\\_flag & lab\\_troponin\\_flag & lab\\_po2\\_flag & lab\\_lactate\\_flag & echo\\_int & mort\\_28\\_day\\_int & ps & ps\\_weight\\\\\n",
       "\\hline\n",
       "\t 214954              & 170515              & 54642               & MICU                & 2176-03-11 04:58:23 & 2176-03-15 18:00:48 & 1                   & 63.86507            & 1                   & 2176-03-11          & ⋯                   & 1                   & 1                   & 1                   & 1                   & 1                   & 1                   & 1                   & 0                   & 0.7339584           & 1.362475           \\\\\n",
       "\t 264413              & 134244              & 81436               & MICU                & 2133-03-27 16:31:37 & 2133-04-04 16:15:28 & 1                   & 62.60148            & 1                   & 2133-03-31          & ⋯                   & 0                   & 1                   & 1                   & 0                   & 0                   & 1                   & 1                   & 0                   & 0.3889232           & 2.571202           \\\\\n",
       "\t 214106              & 123152              & 74869               & MICU                & 2150-09-05 17:50:32 & 2150-09-12 21:40:59 & 1                   & 74.13371            & 1                   & 2150-09-07          & ⋯                   & 1                   & 1                   & 1                   & 1                   & 1                   & 1                   & 1                   & 1                   & 0.7721262           & 1.295125           \\\\\n",
       "\t 254478              & 128652              &    31               & MICU                & 2108-08-22 23:28:42 & 2108-08-30 21:59:20 & 1                   & 72.26709            & 1                   & NA                  & ⋯                   & 1                   & 1                   & 1                   & 0                   & 1                   & 1                   & 0                   & 1                   & 0.1951075           & 1.242402           \\\\\n",
       "\t 264446              & 165520              & 10013               & MICU                & 2125-10-04 23:38:00 & 2125-10-07 15:13:52 & 1                   & 87.08742            & 1                   & NA                  & ⋯                   & 1                   & 1                   & 1                   & 0                   & 1                   & 0                   & 0                   & 1                   & 0.4902299           & 1.961669           \\\\\n",
       "\t 218143              & 122936              & 10370               & SICU                & 2145-01-15 03:36:30 & 2145-01-20 19:00:30 & 1                   & 45.06368            & 1                   & 2145-01-14          & ⋯                   & 1                   & 1                   & 1                   & 0                   & 1                   & 1                   & 1                   & 0                   & 0.8799575           & 1.136419           \\\\\n",
       "\\end{tabular}\n"
      ],
      "text/markdown": [
       "\n",
       "icustay_id | hadm_id | subject_id | first_careunit | intime | outtime | angus | age | icu_order | echo_time | ⋯ | lab_pco2_flag | lab_creatinine_flag | lab_potassium_flag | lab_troponin_flag | lab_po2_flag | lab_lactate_flag | echo_int | mort_28_day_int | ps | ps_weight | \n",
       "|---|---|---|---|---|---|\n",
       "| 214954              | 170515              | 54642               | MICU                | 2176-03-11 04:58:23 | 2176-03-15 18:00:48 | 1                   | 63.86507            | 1                   | 2176-03-11          | ⋯                   | 1                   | 1                   | 1                   | 1                   | 1                   | 1                   | 1                   | 0                   | 0.7339584           | 1.362475            | \n",
       "| 264413              | 134244              | 81436               | MICU                | 2133-03-27 16:31:37 | 2133-04-04 16:15:28 | 1                   | 62.60148            | 1                   | 2133-03-31          | ⋯                   | 0                   | 1                   | 1                   | 0                   | 0                   | 1                   | 1                   | 0                   | 0.3889232           | 2.571202            | \n",
       "| 214106              | 123152              | 74869               | MICU                | 2150-09-05 17:50:32 | 2150-09-12 21:40:59 | 1                   | 74.13371            | 1                   | 2150-09-07          | ⋯                   | 1                   | 1                   | 1                   | 1                   | 1                   | 1                   | 1                   | 1                   | 0.7721262           | 1.295125            | \n",
       "| 254478              | 128652              |    31               | MICU                | 2108-08-22 23:28:42 | 2108-08-30 21:59:20 | 1                   | 72.26709            | 1                   | NA                  | ⋯                   | 1                   | 1                   | 1                   | 0                   | 1                   | 1                   | 0                   | 1                   | 0.1951075           | 1.242402            | \n",
       "| 264446              | 165520              | 10013               | MICU                | 2125-10-04 23:38:00 | 2125-10-07 15:13:52 | 1                   | 87.08742            | 1                   | NA                  | ⋯                   | 1                   | 1                   | 1                   | 0                   | 1                   | 0                   | 0                   | 1                   | 0.4902299           | 1.961669            | \n",
       "| 218143              | 122936              | 10370               | SICU                | 2145-01-15 03:36:30 | 2145-01-20 19:00:30 | 1                   | 45.06368            | 1                   | 2145-01-14          | ⋯                   | 1                   | 1                   | 1                   | 0                   | 1                   | 1                   | 1                   | 0                   | 0.8799575           | 1.136419            | \n",
       "\n",
       "\n"
      ],
      "text/plain": [
       "  icustay_id hadm_id subject_id first_careunit intime             \n",
       "1 214954     170515  54642      MICU           2176-03-11 04:58:23\n",
       "2 264413     134244  81436      MICU           2133-03-27 16:31:37\n",
       "3 214106     123152  74869      MICU           2150-09-05 17:50:32\n",
       "4 254478     128652     31      MICU           2108-08-22 23:28:42\n",
       "5 264446     165520  10013      MICU           2125-10-04 23:38:00\n",
       "6 218143     122936  10370      SICU           2145-01-15 03:36:30\n",
       "  outtime             angus age      icu_order echo_time  ⋯ lab_pco2_flag\n",
       "1 2176-03-15 18:00:48 1     63.86507 1         2176-03-11 ⋯ 1            \n",
       "2 2133-04-04 16:15:28 1     62.60148 1         2133-03-31 ⋯ 0            \n",
       "3 2150-09-12 21:40:59 1     74.13371 1         2150-09-07 ⋯ 1            \n",
       "4 2108-08-30 21:59:20 1     72.26709 1         <NA>       ⋯ 1            \n",
       "5 2125-10-07 15:13:52 1     87.08742 1         <NA>       ⋯ 1            \n",
       "6 2145-01-20 19:00:30 1     45.06368 1         2145-01-14 ⋯ 1            \n",
       "  lab_creatinine_flag lab_potassium_flag lab_troponin_flag lab_po2_flag\n",
       "1 1                   1                  1                 1           \n",
       "2 1                   1                  0                 0           \n",
       "3 1                   1                  1                 1           \n",
       "4 1                   1                  0                 1           \n",
       "5 1                   1                  0                 1           \n",
       "6 1                   1                  0                 1           \n",
       "  lab_lactate_flag echo_int mort_28_day_int ps        ps_weight\n",
       "1 1                1        0               0.7339584 1.362475 \n",
       "2 1                1        0               0.3889232 2.571202 \n",
       "3 1                1        1               0.7721262 1.295125 \n",
       "4 1                0        1               0.1951075 1.242402 \n",
       "5 0                0        1               0.4902299 1.961669 \n",
       "6 1                1        0               0.8799575 1.136419 "
      ]
     },
     "metadata": {},
     "output_type": "display_data"
    }
   ],
   "source": [
    "full_data <- readRDS(file.path(data_dir, \"full_data_ps_subgroup_vaso.rds\"))\n",
    "head(full_data)"
   ]
  },
  {
   "cell_type": "code",
   "execution_count": 4,
   "metadata": {},
   "outputs": [],
   "source": [
    "set.seed(3485)"
   ]
  },
  {
   "cell_type": "code",
   "execution_count": 5,
   "metadata": {},
   "outputs": [
    {
     "name": "stderr",
     "output_type": "stream",
     "text": [
      "Warning message in Match(Y = full_data$mort_28_day_int, Tr = full_data$echo_int, :\n",
      "“replace==FALSE, but there are more (weighted) treated obs than control obs.  Some treated obs will not be matched.  You may want to estimate ATC instead.”"
     ]
    }
   ],
   "source": [
    "ps_matches <- Match(Y = full_data$mort_28_day_int, Tr = full_data$echo_int,\n",
    "                    X = full_data$ps, M = 1, estimand = \"ATT\", caliper = 0.01,\n",
    "                    exact = FALSE, replace = FALSE, ties = FALSE)"
   ]
  },
  {
   "cell_type": "code",
   "execution_count": 6,
   "metadata": {},
   "outputs": [
    {
     "data": {
      "text/html": [
       "<table>\n",
       "<thead><tr><th scope=col>icustay_id</th><th scope=col>group</th><th scope=col>match</th></tr></thead>\n",
       "<tbody>\n",
       "\t<tr><td>228283</td><td>ctrl  </td><td>1     </td></tr>\n",
       "\t<tr><td>249855</td><td>ctrl  </td><td>2     </td></tr>\n",
       "\t<tr><td>280310</td><td>ctrl  </td><td>3     </td></tr>\n",
       "\t<tr><td>237390</td><td>ctrl  </td><td>4     </td></tr>\n",
       "\t<tr><td>293409</td><td>ctrl  </td><td>5     </td></tr>\n",
       "\t<tr><td>245467</td><td>ctrl  </td><td>6     </td></tr>\n",
       "</tbody>\n",
       "</table>\n"
      ],
      "text/latex": [
       "\\begin{tabular}{r|lll}\n",
       " icustay\\_id & group & match\\\\\n",
       "\\hline\n",
       "\t 228283 & ctrl   & 1     \\\\\n",
       "\t 249855 & ctrl   & 2     \\\\\n",
       "\t 280310 & ctrl   & 3     \\\\\n",
       "\t 237390 & ctrl   & 4     \\\\\n",
       "\t 293409 & ctrl   & 5     \\\\\n",
       "\t 245467 & ctrl   & 6     \\\\\n",
       "\\end{tabular}\n"
      ],
      "text/markdown": [
       "\n",
       "icustay_id | group | match | \n",
       "|---|---|---|---|---|---|\n",
       "| 228283 | ctrl   | 1      | \n",
       "| 249855 | ctrl   | 2      | \n",
       "| 280310 | ctrl   | 3      | \n",
       "| 237390 | ctrl   | 4      | \n",
       "| 293409 | ctrl   | 5      | \n",
       "| 245467 | ctrl   | 6      | \n",
       "\n",
       "\n"
      ],
      "text/plain": [
       "  icustay_id group match\n",
       "1 228283     ctrl  1    \n",
       "2 249855     ctrl  2    \n",
       "3 280310     ctrl  3    \n",
       "4 237390     ctrl  4    \n",
       "5 293409     ctrl  5    \n",
       "6 245467     ctrl  6    "
      ]
     },
     "metadata": {},
     "output_type": "display_data"
    }
   ],
   "source": [
    "ps_matches_df <-\n",
    "full_data[ps_matches$index.treated, \"icustay_id\", drop = FALSE] %>%\n",
    "mutate(match = full_data[ps_matches$index.control, \"icustay_id\"]) %>%\n",
    "rename(trtd = icustay_id, ctrl = match) %>%\n",
    "mutate(match = 1:n()) %>%\n",
    "gather(\"group\", \"icustay_id\", trtd, ctrl) %>%\n",
    "select(icustay_id, group, match) %>%\n",
    "arrange(group, match)\n",
    "\n",
    "head(ps_matches_df)"
   ]
  },
  {
   "cell_type": "code",
   "execution_count": 7,
   "metadata": {},
   "outputs": [],
   "source": [
    "# saveRDS(ps_matches, file = file.path(data_dir, \"ps_matches.rds\"))\n",
    "data.table::fwrite(ps_matches_df, file.path(data_dir, \"ps_matches_df_subgroup_vaso.csv\"))"
   ]
  },
  {
   "cell_type": "code",
   "execution_count": 8,
   "metadata": {},
   "outputs": [
    {
     "data": {
      "text/html": [
       "412"
      ],
      "text/latex": [
       "412"
      ],
      "text/markdown": [
       "412"
      ],
      "text/plain": [
       "[1] 412"
      ]
     },
     "metadata": {},
     "output_type": "display_data"
    },
    {
     "data": {
      "text/html": [
       "<ol class=list-inline>\n",
       "\t<li>228283</li>\n",
       "\t<li>249855</li>\n",
       "\t<li>280310</li>\n",
       "\t<li>237390</li>\n",
       "\t<li>293409</li>\n",
       "\t<li>245467</li>\n",
       "</ol>\n"
      ],
      "text/latex": [
       "\\begin{enumerate*}\n",
       "\\item 228283\n",
       "\\item 249855\n",
       "\\item 280310\n",
       "\\item 237390\n",
       "\\item 293409\n",
       "\\item 245467\n",
       "\\end{enumerate*}\n"
      ],
      "text/markdown": [
       "1. 228283\n",
       "2. 249855\n",
       "3. 280310\n",
       "4. 237390\n",
       "5. 293409\n",
       "6. 245467\n",
       "\n",
       "\n"
      ],
      "text/plain": [
       "[1] 228283 249855 280310 237390 293409 245467"
      ]
     },
     "metadata": {},
     "output_type": "display_data"
    }
   ],
   "source": [
    "ids <- full_data[unlist(ps_matches[c(\"index.control\", \"index.treated\")]), \"icustay_id\"]\n",
    "length(ids) / 2\n",
    "head(ids)"
   ]
  },
  {
   "cell_type": "code",
   "execution_count": 9,
   "metadata": {},
   "outputs": [],
   "source": [
    "data.table::fwrite(data.frame(icustay_id = ids), file = file.path(data_dir, \"ps_icustay_id\"))"
   ]
  },
  {
   "cell_type": "code",
   "execution_count": 10,
   "metadata": {},
   "outputs": [
    {
     "name": "stdout",
     "output_type": "stream",
     "text": [
      "\n",
      "Estimate...  -0.10437 \n",
      "SE.........  0.033501 \n",
      "T-stat.....  -3.1154 \n",
      "p.val......  0.0018373 \n",
      "\n",
      "Original number of observations..............  2067 \n",
      "Original number of treated obs...............  1228 \n",
      "Matched number of observations...............  412 \n",
      "Matched number of observations  (unweighted).  412 \n",
      "\n",
      "Number of obs dropped by 'exact' or 'caliper'  816 \n",
      "\n"
     ]
    }
   ],
   "source": [
    "summary(ps_matches)"
   ]
  },
  {
   "cell_type": "code",
   "execution_count": 11,
   "metadata": {},
   "outputs": [],
   "source": [
    "outcome <- data.frame(echo_pt = full_data$mort_28_day_int[ps_matches$index.treated],\n",
    "                      match_pt = full_data$mort_28_day_int[ps_matches$index.control])"
   ]
  },
  {
   "cell_type": "code",
   "execution_count": 12,
   "metadata": {},
   "outputs": [
    {
     "data": {
      "text/html": [
       "<table>\n",
       "<thead><tr><th scope=col>echo_pt</th><th scope=col>match_pt</th></tr></thead>\n",
       "<tbody>\n",
       "\t<tr><td>0</td><td>0</td></tr>\n",
       "\t<tr><td>0</td><td>0</td></tr>\n",
       "\t<tr><td>1</td><td>1</td></tr>\n",
       "\t<tr><td>0</td><td>1</td></tr>\n",
       "\t<tr><td>1</td><td>0</td></tr>\n",
       "\t<tr><td>1</td><td>1</td></tr>\n",
       "</tbody>\n",
       "</table>\n"
      ],
      "text/latex": [
       "\\begin{tabular}{r|ll}\n",
       " echo\\_pt & match\\_pt\\\\\n",
       "\\hline\n",
       "\t 0 & 0\\\\\n",
       "\t 0 & 0\\\\\n",
       "\t 1 & 1\\\\\n",
       "\t 0 & 1\\\\\n",
       "\t 1 & 0\\\\\n",
       "\t 1 & 1\\\\\n",
       "\\end{tabular}\n"
      ],
      "text/markdown": [
       "\n",
       "echo_pt | match_pt | \n",
       "|---|---|---|---|---|---|\n",
       "| 0 | 0 | \n",
       "| 0 | 0 | \n",
       "| 1 | 1 | \n",
       "| 0 | 1 | \n",
       "| 1 | 0 | \n",
       "| 1 | 1 | \n",
       "\n",
       "\n"
      ],
      "text/plain": [
       "  echo_pt match_pt\n",
       "1 0       0       \n",
       "2 0       0       \n",
       "3 1       1       \n",
       "4 0       1       \n",
       "5 1       0       \n",
       "6 1       1       "
      ]
     },
     "metadata": {},
     "output_type": "display_data"
    }
   ],
   "source": [
    "head(outcome)"
   ]
  },
  {
   "cell_type": "code",
   "execution_count": 13,
   "metadata": {},
   "outputs": [
    {
     "data": {
      "text/plain": [
       "    Non-Echo\n",
       "Echo   0   1\n",
       "   0 156 119\n",
       "   1  76  61"
      ]
     },
     "metadata": {},
     "output_type": "display_data"
    },
    {
     "data": {
      "text/html": [
       "0.638655462184874"
      ],
      "text/latex": [
       "0.638655462184874"
      ],
      "text/markdown": [
       "0.638655462184874"
      ],
      "text/plain": [
       "[1] 0.6386555"
      ]
     },
     "metadata": {},
     "output_type": "display_data"
    },
    {
     "data": {
      "text/html": [
       "<ol class=list-inline>\n",
       "\t<li>'95% Confint 0.4789369'</li>\n",
       "\t<li>'95% Confint 0.8516378'</li>\n",
       "</ol>\n"
      ],
      "text/latex": [
       "\\begin{enumerate*}\n",
       "\\item '95\\% Confint 0.4789369'\n",
       "\\item '95\\% Confint 0.8516378'\n",
       "\\end{enumerate*}\n"
      ],
      "text/markdown": [
       "1. '95% Confint 0.4789369'\n",
       "2. '95% Confint 0.8516378'\n",
       "\n",
       "\n"
      ],
      "text/plain": [
       "[1] \"95% Confint 0.4789369\" \"95% Confint 0.8516378\""
      ]
     },
     "metadata": {},
     "output_type": "display_data"
    },
    {
     "data": {
      "text/plain": [
       "\n",
       "\tMcNemar's Chi-squared test with continuity correction\n",
       "\n",
       "data:  tab\n",
       "McNemar's chi-squared = 9.0462, df = 1, p-value = 0.002632\n"
      ]
     },
     "metadata": {},
     "output_type": "display_data"
    }
   ],
   "source": [
    "tab <- table(outcome$echo_pt, outcome$match_pt, dnn = c(\"Echo\", \"Non-Echo\"))\n",
    "tab\n",
    "tab[2, 1] / tab[1, 2]\n",
    "paste(\"95% Confint\",\n",
    "      round(exp(c(log(tab[2, 1] / tab[1, 2]) - qnorm(0.975) * sqrt(1 / tab[1, 2] + 1 / tab[2, 1]),\n",
    "                  log(tab[2, 1] / tab[1, 2]) + qnorm(0.975) * sqrt(1 / tab[1, 2] + 1 / tab[2, 1]))), 7))\n",
    "mcnemar.test(tab) # for 1-1 pairs"
   ]
  },
  {
   "cell_type": "code",
   "execution_count": 14,
   "metadata": {},
   "outputs": [
    {
     "data": {
      "text/html": [
       "0.436893203883495"
      ],
      "text/latex": [
       "0.436893203883495"
      ],
      "text/markdown": [
       "0.436893203883495"
      ],
      "text/plain": [
       "[1] 0.4368932"
      ]
     },
     "metadata": {},
     "output_type": "display_data"
    },
    {
     "data": {
      "text/html": [
       "0.33252427184466"
      ],
      "text/latex": [
       "0.33252427184466"
      ],
      "text/markdown": [
       "0.33252427184466"
      ],
      "text/plain": [
       "[1] 0.3325243"
      ]
     },
     "metadata": {},
     "output_type": "display_data"
    }
   ],
   "source": [
    "(tab[2, 2] + tab[1, 2]) / sum(tab)\n",
    "(tab[2, 2] + tab[2, 1]) / sum(tab)"
   ]
  },
  {
   "cell_type": "code",
   "execution_count": 15,
   "metadata": {},
   "outputs": [
    {
     "data": {
      "text/html": [
       "<table>\n",
       "<thead><tr><th scope=col>echo</th><th scope=col>mortality</th></tr></thead>\n",
       "<tbody>\n",
       "\t<tr><td>0        </td><td>0.4368932</td></tr>\n",
       "\t<tr><td>1        </td><td>0.3325243</td></tr>\n",
       "</tbody>\n",
       "</table>\n"
      ],
      "text/latex": [
       "\\begin{tabular}{r|ll}\n",
       " echo & mortality\\\\\n",
       "\\hline\n",
       "\t 0         & 0.4368932\\\\\n",
       "\t 1         & 0.3325243\\\\\n",
       "\\end{tabular}\n"
      ],
      "text/markdown": [
       "\n",
       "echo | mortality | \n",
       "|---|---|\n",
       "| 0         | 0.4368932 | \n",
       "| 1         | 0.3325243 | \n",
       "\n",
       "\n"
      ],
      "text/plain": [
       "  echo mortality\n",
       "1 0    0.4368932\n",
       "2 1    0.3325243"
      ]
     },
     "metadata": {},
     "output_type": "display_data"
    }
   ],
   "source": [
    "mortality <- data.frame(echo = c(0, 1),\n",
    "                        mortality = c((tab[2, 2] + tab[1, 2]) / sum(tab),\n",
    "                                      (tab[2, 2] + tab[2, 1]) / sum(tab)))\n",
    "mortality"
   ]
  },
  {
   "cell_type": "code",
   "execution_count": 16,
   "metadata": {},
   "outputs": [
    {
     "data": {
      "text/html": [
       "<table>\n",
       "<thead><tr><th scope=col>Method</th><th scope=col>Echo</th><th scope=col>Non_echo</th></tr></thead>\n",
       "<tbody>\n",
       "\t<tr><td>PS Match </td><td>0.3325243</td><td>0.4368932</td></tr>\n",
       "</tbody>\n",
       "</table>\n"
      ],
      "text/latex": [
       "\\begin{tabular}{r|lll}\n",
       " Method & Echo & Non\\_echo\\\\\n",
       "\\hline\n",
       "\t PS Match  & 0.3325243 & 0.4368932\\\\\n",
       "\\end{tabular}\n"
      ],
      "text/markdown": [
       "\n",
       "Method | Echo | Non_echo | \n",
       "|---|\n",
       "| PS Match  | 0.3325243 | 0.4368932 | \n",
       "\n",
       "\n"
      ],
      "text/plain": [
       "  Method   Echo      Non_echo \n",
       "1 PS Match 0.3325243 0.4368932"
      ]
     },
     "metadata": {},
     "output_type": "display_data"
    }
   ],
   "source": [
    "mort_fmt <- mortality %>%\n",
    "mutate(echo = case_when(\n",
    "    echo == 0 ~ \"Non_echo\",\n",
    "    echo == 1 ~ \"Echo\"\n",
    ")) %>%\n",
    "select(echo, mortality) %>%\n",
    "spread(echo, mortality) %>%\n",
    "mutate(Method = \"PS Match\") %>%\n",
    "select(Method, Echo, Non_echo)\n",
    "mort_fmt"
   ]
  },
  {
   "cell_type": "code",
   "execution_count": 17,
   "metadata": {},
   "outputs": [],
   "source": [
    "data.table::fwrite(mort_fmt, file.path(data_dir, \"mort_ps_subgroup_vaso.csv\"))"
   ]
  }
 ],
 "metadata": {
  "kernelspec": {
   "display_name": "R",
   "language": "R",
   "name": "ir"
  },
  "language_info": {
   "codemirror_mode": "r",
   "file_extension": ".r",
   "mimetype": "text/x-r-source",
   "name": "R",
   "pygments_lexer": "r",
   "version": "3.4.4"
  },
  "varInspector": {
   "cols": {
    "lenName": 16,
    "lenType": 16,
    "lenVar": 40
   },
   "kernels_config": {
    "python": {
     "delete_cmd_postfix": "",
     "delete_cmd_prefix": "del ",
     "library": "var_list.py",
     "varRefreshCmd": "print(var_dic_list())"
    },
    "r": {
     "delete_cmd_postfix": ") ",
     "delete_cmd_prefix": "rm(",
     "library": "var_list.r",
     "varRefreshCmd": "cat(var_dic_list()) "
    }
   },
   "types_to_exclude": [
    "module",
    "function",
    "builtin_function_or_method",
    "instance",
    "_Feature"
   ],
   "window_display": false
  }
 },
 "nbformat": 4,
 "nbformat_minor": 2
}
