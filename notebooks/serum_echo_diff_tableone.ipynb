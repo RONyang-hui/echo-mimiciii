{
 "cells": [
  {
   "cell_type": "code",
   "execution_count": 1,
   "metadata": {
    "scrolled": true
   },
   "outputs": [
    {
     "name": "stderr",
     "output_type": "stream",
     "text": [
      "Loading required package: DBI\n",
      "── Attaching packages ─────────────────────────────────────── tidyverse 1.2.1 ──\n",
      "✔ ggplot2 2.2.1     ✔ purrr   0.2.4\n",
      "✔ tibble  1.3.4     ✔ dplyr   0.7.4\n",
      "✔ tidyr   0.7.2     ✔ stringr 1.2.0\n",
      "✔ readr   1.1.1     ✔ forcats 0.2.0\n",
      "── Conflicts ────────────────────────────────────────── tidyverse_conflicts() ──\n",
      "✖ dplyr::filter() masks stats::filter()\n",
      "✖ dplyr::lag()    masks stats::lag()\n"
     ]
    }
   ],
   "source": [
    "library(RPostgreSQL)\n",
    "library(tableone)\n",
    "library(tidyverse)"
   ]
  },
  {
   "cell_type": "code",
   "execution_count": 2,
   "metadata": {},
   "outputs": [],
   "source": [
    "data_dir <- file.path(\"..\", \"data\")"
   ]
  },
  {
   "cell_type": "code",
   "execution_count": 3,
   "metadata": {},
   "outputs": [
    {
     "data": {
      "text/plain": [
       "<PostgreSQLResult>"
      ]
     },
     "metadata": {},
     "output_type": "display_data"
    }
   ],
   "source": [
    "drv <- dbDriver(\"PostgreSQL\")\n",
    "con <- dbConnect(drv, dbname = \"mimic\")\n",
    "dbSendQuery(con, \"set search_path=echo,public,mimiciii;\")"
   ]
  },
  {
   "cell_type": "code",
   "execution_count": 4,
   "metadata": {},
   "outputs": [
    {
     "data": {
      "text/html": [
       "<table>\n",
       "<thead><tr><th scope=col>hadm_id</th><th scope=col>creatinine_diff</th><th scope=col>lactate_diff</th></tr></thead>\n",
       "<tbody>\n",
       "\t<tr><td>159895</td><td>  NA  </td><td>NA    </td></tr>\n",
       "\t<tr><td>169700</td><td>  NA  </td><td>NA    </td></tr>\n",
       "\t<tr><td>183493</td><td>  NA  </td><td>NA    </td></tr>\n",
       "\t<tr><td>103722</td><td>  NA  </td><td>NA    </td></tr>\n",
       "\t<tr><td>170515</td><td>-0.5  </td><td>NA    </td></tr>\n",
       "\t<tr><td>134244</td><td>  NA  </td><td>NA    </td></tr>\n",
       "</tbody>\n",
       "</table>\n"
      ],
      "text/latex": [
       "\\begin{tabular}{r|lll}\n",
       " hadm\\_id & creatinine\\_diff & lactate\\_diff\\\\\n",
       "\\hline\n",
       "\t 159895 &   NA   & NA    \\\\\n",
       "\t 169700 &   NA   & NA    \\\\\n",
       "\t 183493 &   NA   & NA    \\\\\n",
       "\t 103722 &   NA   & NA    \\\\\n",
       "\t 170515 & -0.5   & NA    \\\\\n",
       "\t 134244 &   NA   & NA    \\\\\n",
       "\\end{tabular}\n"
      ],
      "text/markdown": [
       "\n",
       "hadm_id | creatinine_diff | lactate_diff | \n",
       "|---|---|---|---|---|---|\n",
       "| 159895 |   NA   | NA     | \n",
       "| 169700 |   NA   | NA     | \n",
       "| 183493 |   NA   | NA     | \n",
       "| 103722 |   NA   | NA     | \n",
       "| 170515 | -0.5   | NA     | \n",
       "| 134244 |   NA   | NA     | \n",
       "\n",
       "\n"
      ],
      "text/plain": [
       "  hadm_id creatinine_diff lactate_diff\n",
       "1 159895    NA            NA          \n",
       "2 169700    NA            NA          \n",
       "3 183493    NA            NA          \n",
       "4 103722    NA            NA          \n",
       "5 170515  -0.5            NA          \n",
       "6 134244    NA            NA          "
      ]
     },
     "metadata": {},
     "output_type": "display_data"
    }
   ],
   "source": [
    "df <- dbGetQuery(con, \"select * from serum_echo_diff;\")\n",
    "head(df)"
   ]
  },
  {
   "cell_type": "code",
   "execution_count": 5,
   "metadata": {},
   "outputs": [
    {
     "data": {
      "text/html": [
       "TRUE"
      ],
      "text/latex": [
       "TRUE"
      ],
      "text/markdown": [
       "TRUE"
      ],
      "text/plain": [
       "[1] TRUE"
      ]
     },
     "metadata": {},
     "output_type": "display_data"
    },
    {
     "data": {
      "text/html": [
       "TRUE"
      ],
      "text/latex": [
       "TRUE"
      ],
      "text/markdown": [
       "TRUE"
      ],
      "text/plain": [
       "[1] TRUE"
      ]
     },
     "metadata": {},
     "output_type": "display_data"
    }
   ],
   "source": [
    "dbDisconnect(con)\n",
    "dbUnloadDriver(drv)"
   ]
  },
  {
   "cell_type": "code",
   "execution_count": 6,
   "metadata": {},
   "outputs": [
    {
     "data": {
      "text/html": [
       "<table>\n",
       "<thead><tr><th scope=col>hadm_id</th><th scope=col>key</th><th scope=col>value</th></tr></thead>\n",
       "<tbody>\n",
       "\t<tr><td>159895         </td><td>creatinine_diff</td><td>  NA           </td></tr>\n",
       "\t<tr><td>169700         </td><td>creatinine_diff</td><td>  NA           </td></tr>\n",
       "\t<tr><td>183493         </td><td>creatinine_diff</td><td>  NA           </td></tr>\n",
       "\t<tr><td>103722         </td><td>creatinine_diff</td><td>  NA           </td></tr>\n",
       "\t<tr><td>170515         </td><td>creatinine_diff</td><td>-0.5           </td></tr>\n",
       "\t<tr><td>134244         </td><td>creatinine_diff</td><td>  NA           </td></tr>\n",
       "</tbody>\n",
       "</table>\n"
      ],
      "text/latex": [
       "\\begin{tabular}{r|lll}\n",
       " hadm\\_id & key & value\\\\\n",
       "\\hline\n",
       "\t 159895            & creatinine\\_diff &   NA             \\\\\n",
       "\t 169700            & creatinine\\_diff &   NA             \\\\\n",
       "\t 183493            & creatinine\\_diff &   NA             \\\\\n",
       "\t 103722            & creatinine\\_diff &   NA             \\\\\n",
       "\t 170515            & creatinine\\_diff & -0.5             \\\\\n",
       "\t 134244            & creatinine\\_diff &   NA             \\\\\n",
       "\\end{tabular}\n"
      ],
      "text/markdown": [
       "\n",
       "hadm_id | key | value | \n",
       "|---|---|---|---|---|---|\n",
       "| 159895          | creatinine_diff |   NA            | \n",
       "| 169700          | creatinine_diff |   NA            | \n",
       "| 183493          | creatinine_diff |   NA            | \n",
       "| 103722          | creatinine_diff |   NA            | \n",
       "| 170515          | creatinine_diff | -0.5            | \n",
       "| 134244          | creatinine_diff |   NA            | \n",
       "\n",
       "\n"
      ],
      "text/plain": [
       "  hadm_id key             value\n",
       "1 159895  creatinine_diff   NA \n",
       "2 169700  creatinine_diff   NA \n",
       "3 183493  creatinine_diff   NA \n",
       "4 103722  creatinine_diff   NA \n",
       "5 170515  creatinine_diff -0.5 \n",
       "6 134244  creatinine_diff   NA "
      ]
     },
     "metadata": {},
     "output_type": "display_data"
    }
   ],
   "source": [
    "df_pivot <- df %>% gather(\"key\", \"value\", -hadm_id)\n",
    "head(df_pivot)"
   ]
  },
  {
   "cell_type": "code",
   "execution_count": 7,
   "metadata": {},
   "outputs": [
    {
     "data": {
      "text/html": [
       "<table>\n",
       "<thead><tr><th scope=col>covariate</th><th scope=col>estimate</th><th scope=col>ci</th><th scope=col>p_value</th></tr></thead>\n",
       "<tbody>\n",
       "\t<tr><td>creatinine_diff </td><td>-0.17 (+/- 1.17)</td><td>-0.30 - -0.04   </td><td>0.008           </td></tr>\n",
       "\t<tr><td>lactate_diff    </td><td>-1.24 (+/- 2.50)</td><td>-1.66 - -0.82   </td><td>0.000           </td></tr>\n",
       "</tbody>\n",
       "</table>\n"
      ],
      "text/latex": [
       "\\begin{tabular}{r|llll}\n",
       " covariate & estimate & ci & p\\_value\\\\\n",
       "\\hline\n",
       "\t creatinine\\_diff & -0.17 (+/- 1.17)  & -0.30 - -0.04     & 0.008            \\\\\n",
       "\t lactate\\_diff    & -1.24 (+/- 2.50)  & -1.66 - -0.82     & 0.000            \\\\\n",
       "\\end{tabular}\n"
      ],
      "text/markdown": [
       "\n",
       "covariate | estimate | ci | p_value | \n",
       "|---|---|\n",
       "| creatinine_diff  | -0.17 (+/- 1.17) | -0.30 - -0.04    | 0.008            | \n",
       "| lactate_diff     | -1.24 (+/- 2.50) | -1.66 - -0.82    | 0.000            | \n",
       "\n",
       "\n"
      ],
      "text/plain": [
       "  covariate       estimate         ci            p_value\n",
       "1 creatinine_diff -0.17 (+/- 1.17) -0.30 - -0.04 0.008  \n",
       "2 lactate_diff    -1.24 (+/- 2.50) -1.66 - -0.82 0.000  "
      ]
     },
     "metadata": {},
     "output_type": "display_data"
    }
   ],
   "source": [
    "tab <- df_pivot %>%\n",
    "pull(key) %>%\n",
    "unique %>%\n",
    "map(function(label) {\n",
    "    x <- df_pivot %>% filter(key == label) %>% pull(value)\n",
    "    tt <- t.test(x)\n",
    "    m <- mean(na.omit(x))\n",
    "    s <- sd(na.omit(x))\n",
    "    lo <- tt$conf.int[1]\n",
    "    hi <- tt$conf.int[2]\n",
    "    p_val <- tt$p.value\n",
    "    data.frame(covariate = label, m = m, s = s, lo = lo, hi = hi, p_value = p_val)\n",
    "}) %>%\n",
    "data.table::rbindlist() %>%\n",
    "mutate(estimate = sprintf(\"%.2f (+/- %.2f)\", m, s)) %>%\n",
    "mutate(ci = sprintf(\"%.2f - %.2f\", lo, hi)) %>%\n",
    "mutate(p_value = round(p_value, 4)) %>%\n",
    "select(covariate, estimate, ci, p_value)\n",
    "\n",
    "tab"
   ]
  },
  {
   "cell_type": "code",
   "execution_count": 8,
   "metadata": {},
   "outputs": [],
   "source": [
    "data.table::fwrite(tab, file.path(data_dir, \"serum_echo_diff.csv\"))"
   ]
  }
 ],
 "metadata": {
  "kernelspec": {
   "display_name": "R",
   "language": "R",
   "name": "ir"
  },
  "language_info": {
   "codemirror_mode": "r",
   "file_extension": ".r",
   "mimetype": "text/x-r-source",
   "name": "R",
   "pygments_lexer": "r",
   "version": "3.4.3"
  },
  "varInspector": {
   "cols": {
    "lenName": 16,
    "lenType": 16,
    "lenVar": 40
   },
   "kernels_config": {
    "python": {
     "delete_cmd_postfix": "",
     "delete_cmd_prefix": "del ",
     "library": "var_list.py",
     "varRefreshCmd": "print(var_dic_list())"
    },
    "r": {
     "delete_cmd_postfix": ") ",
     "delete_cmd_prefix": "rm(",
     "library": "var_list.r",
     "varRefreshCmd": "cat(var_dic_list()) "
    }
   },
   "types_to_exclude": [
    "module",
    "function",
    "builtin_function_or_method",
    "instance",
    "_Feature"
   ],
   "window_display": false
  }
 },
 "nbformat": 4,
 "nbformat_minor": 2
}
