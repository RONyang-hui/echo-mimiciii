{
 "cells": [
  {
   "cell_type": "code",
   "execution_count": 1,
   "metadata": {},
   "outputs": [
    {
     "name": "stderr",
     "output_type": "stream",
     "text": [
      "── Attaching packages ─────────────────────────────────────── tidyverse 1.2.1 ──\n",
      "✔ ggplot2 2.2.1     ✔ purrr   0.2.4\n",
      "✔ tibble  1.4.2     ✔ dplyr   0.7.4\n",
      "✔ tidyr   0.8.0     ✔ stringr 1.2.0\n",
      "✔ readr   1.1.1     ✔ forcats 0.2.0\n",
      "── Conflicts ────────────────────────────────────────── tidyverse_conflicts() ──\n",
      "✖ dplyr::filter() masks stats::filter()\n",
      "✖ dplyr::lag()    masks stats::lag()\n",
      "Loading required package: DBI\n"
     ]
    }
   ],
   "source": [
    "library(tidyverse)\n",
    "library(RPostgreSQL)"
   ]
  },
  {
   "cell_type": "code",
   "execution_count": 2,
   "metadata": {},
   "outputs": [
    {
     "data": {
      "text/html": [
       "<ol class=list-inline>\n",
       "\t<li>'basics.sql'</li>\n",
       "\t<li>'cohort.sql'</li>\n",
       "\t<li>'drugs.sql'</li>\n",
       "\t<li>'fluid_input.sql'</li>\n",
       "\t<li>'fluid_output.sql'</li>\n",
       "\t<li>'fluid.sql'</li>\n",
       "\t<li>'icd9.sql'</li>\n",
       "\t<li>'lab_tests.sql'</li>\n",
       "\t<li>'lab_unpivot.sql'</li>\n",
       "\t<li>'merge_data.sql'</li>\n",
       "\t<li>'population.sql'</li>\n",
       "\t<li>'second_day'</li>\n",
       "\t<li>'serum_diff.sql'</li>\n",
       "\t<li>'serum_echo_diff.sql'</li>\n",
       "\t<li>'serum_non_diff.sql'</li>\n",
       "\t<li>'subgroup.sql'</li>\n",
       "\t<li>'third-day'</li>\n",
       "\t<li>'tte-summary.sql'</li>\n",
       "\t<li>'vital_signs_unpivot.sql'</li>\n",
       "\t<li>'vital_signs.sql'</li>\n",
       "</ol>\n"
      ],
      "text/latex": [
       "\\begin{enumerate*}\n",
       "\\item 'basics.sql'\n",
       "\\item 'cohort.sql'\n",
       "\\item 'drugs.sql'\n",
       "\\item 'fluid\\_input.sql'\n",
       "\\item 'fluid\\_output.sql'\n",
       "\\item 'fluid.sql'\n",
       "\\item 'icd9.sql'\n",
       "\\item 'lab\\_tests.sql'\n",
       "\\item 'lab\\_unpivot.sql'\n",
       "\\item 'merge\\_data.sql'\n",
       "\\item 'population.sql'\n",
       "\\item 'second\\_day'\n",
       "\\item 'serum\\_diff.sql'\n",
       "\\item 'serum\\_echo\\_diff.sql'\n",
       "\\item 'serum\\_non\\_diff.sql'\n",
       "\\item 'subgroup.sql'\n",
       "\\item 'third-day'\n",
       "\\item 'tte-summary.sql'\n",
       "\\item 'vital\\_signs\\_unpivot.sql'\n",
       "\\item 'vital\\_signs.sql'\n",
       "\\end{enumerate*}\n"
      ],
      "text/markdown": [
       "1. 'basics.sql'\n",
       "2. 'cohort.sql'\n",
       "3. 'drugs.sql'\n",
       "4. 'fluid_input.sql'\n",
       "5. 'fluid_output.sql'\n",
       "6. 'fluid.sql'\n",
       "7. 'icd9.sql'\n",
       "8. 'lab_tests.sql'\n",
       "9. 'lab_unpivot.sql'\n",
       "10. 'merge_data.sql'\n",
       "11. 'population.sql'\n",
       "12. 'second_day'\n",
       "13. 'serum_diff.sql'\n",
       "14. 'serum_echo_diff.sql'\n",
       "15. 'serum_non_diff.sql'\n",
       "16. 'subgroup.sql'\n",
       "17. 'third-day'\n",
       "18. 'tte-summary.sql'\n",
       "19. 'vital_signs_unpivot.sql'\n",
       "20. 'vital_signs.sql'\n",
       "\n",
       "\n"
      ],
      "text/plain": [
       " [1] \"basics.sql\"              \"cohort.sql\"             \n",
       " [3] \"drugs.sql\"               \"fluid_input.sql\"        \n",
       " [5] \"fluid_output.sql\"        \"fluid.sql\"              \n",
       " [7] \"icd9.sql\"                \"lab_tests.sql\"          \n",
       " [9] \"lab_unpivot.sql\"         \"merge_data.sql\"         \n",
       "[11] \"population.sql\"          \"second_day\"             \n",
       "[13] \"serum_diff.sql\"          \"serum_echo_diff.sql\"    \n",
       "[15] \"serum_non_diff.sql\"      \"subgroup.sql\"           \n",
       "[17] \"third-day\"               \"tte-summary.sql\"        \n",
       "[19] \"vital_signs_unpivot.sql\" \"vital_signs.sql\"        "
      ]
     },
     "metadata": {},
     "output_type": "display_data"
    }
   ],
   "source": [
    "sql_dir <- file.path(\"..\", \"SQL\")\n",
    "list.files(sql_dir)"
   ]
  },
  {
   "cell_type": "code",
   "execution_count": 3,
   "metadata": {},
   "outputs": [
    {
     "data": {
      "text/plain": [
       "<PostgreSQLResult>"
      ]
     },
     "metadata": {},
     "output_type": "display_data"
    }
   ],
   "source": [
    "drv <- dbDriver(\"PostgreSQL\")\n",
    "con <- dbConnect(drv, dbname = \"mimic\")\n",
    "dbSendQuery(con, \"set search_path=echo,public,mimiciii;\")"
   ]
  },
  {
   "cell_type": "markdown",
   "metadata": {},
   "source": [
    "#### Angus cohort"
   ]
  },
  {
   "cell_type": "code",
   "execution_count": 4,
   "metadata": {},
   "outputs": [
    {
     "data": {
      "text/html": [
       "<table>\n",
       "<thead><tr><th scope=col>count</th></tr></thead>\n",
       "<tbody>\n",
       "\t<tr><td>17420</td></tr>\n",
       "</tbody>\n",
       "</table>\n"
      ],
      "text/latex": [
       "\\begin{tabular}{r|l}\n",
       " count\\\\\n",
       "\\hline\n",
       "\t 17420\\\\\n",
       "\\end{tabular}\n"
      ],
      "text/markdown": [
       "\n",
       "count | \n",
       "|---|\n",
       "| 17420 | \n",
       "\n",
       "\n"
      ],
      "text/plain": [
       "  count\n",
       "1 17420"
      ]
     },
     "metadata": {},
     "output_type": "display_data"
    }
   ],
   "source": [
    "dbGetQuery(con, \"select count(*) from population where angus = 1;\")"
   ]
  },
  {
   "cell_type": "markdown",
   "metadata": {},
   "source": [
    "#### Adult in their 1st ICU stay"
   ]
  },
  {
   "cell_type": "code",
   "execution_count": 5,
   "metadata": {},
   "outputs": [
    {
     "data": {
      "text/html": [
       "<table>\n",
       "<thead><tr><th scope=col>count</th></tr></thead>\n",
       "<tbody>\n",
       "\t<tr><td>10566</td></tr>\n",
       "</tbody>\n",
       "</table>\n"
      ],
      "text/latex": [
       "\\begin{tabular}{r|l}\n",
       " count\\\\\n",
       "\\hline\n",
       "\t 10566\\\\\n",
       "\\end{tabular}\n"
      ],
      "text/markdown": [
       "\n",
       "count | \n",
       "|---|\n",
       "| 10566 | \n",
       "\n",
       "\n"
      ],
      "text/plain": [
       "  count\n",
       "1 10566"
      ]
     },
     "metadata": {},
     "output_type": "display_data"
    }
   ],
   "source": [
    "sql <- \"\n",
    "select count(*)\n",
    "  from population\n",
    " where angus = 1\n",
    "   and age >= 18\n",
    "   and icu_order = 1\n",
    "\"\n",
    "dbGetQuery(con, sql)"
   ]
  },
  {
   "cell_type": "markdown",
   "metadata": {},
   "source": [
    "#### MICU/SICU only"
   ]
  },
  {
   "cell_type": "code",
   "execution_count": 6,
   "metadata": {},
   "outputs": [
    {
     "data": {
      "text/html": [
       "<table>\n",
       "<thead><tr><th scope=col>count</th></tr></thead>\n",
       "<tbody>\n",
       "\t<tr><td>7184</td></tr>\n",
       "</tbody>\n",
       "</table>\n"
      ],
      "text/latex": [
       "\\begin{tabular}{r|l}\n",
       " count\\\\\n",
       "\\hline\n",
       "\t 7184\\\\\n",
       "\\end{tabular}\n"
      ],
      "text/markdown": [
       "\n",
       "count | \n",
       "|---|\n",
       "| 7184 | \n",
       "\n",
       "\n"
      ],
      "text/plain": [
       "  count\n",
       "1 7184 "
      ]
     },
     "metadata": {},
     "output_type": "display_data"
    }
   ],
   "source": [
    "sql <- \"\n",
    "select count(*)\n",
    "  from population\n",
    " where angus = 1\n",
    "   and age >= 18\n",
    "   and icu_order = 1\n",
    "   and first_careunit in ('MICU', 'SICU')\n",
    "\"\n",
    "dbGetQuery(con, sql)"
   ]
  },
  {
   "cell_type": "code",
   "execution_count": 7,
   "metadata": {},
   "outputs": [
    {
     "data": {
      "text/html": [
       "<table>\n",
       "<thead><tr><th scope=col>count</th></tr></thead>\n",
       "<tbody>\n",
       "\t<tr><td>6362</td></tr>\n",
       "</tbody>\n",
       "</table>\n"
      ],
      "text/latex": [
       "\\begin{tabular}{r|l}\n",
       " count\\\\\n",
       "\\hline\n",
       "\t 6362\\\\\n",
       "\\end{tabular}\n"
      ],
      "text/markdown": [
       "\n",
       "count | \n",
       "|---|\n",
       "| 6362 | \n",
       "\n",
       "\n"
      ],
      "text/plain": [
       "  count\n",
       "1 6362 "
      ]
     },
     "metadata": {},
     "output_type": "display_data"
    }
   ],
   "source": [
    "sql <- \"\n",
    "select count(*)\n",
    "  from population\n",
    " where angus = 1\n",
    "   and age >= 18\n",
    "   and icu_order = 1\n",
    "   and first_careunit in ('MICU', 'SICU')\n",
    "   and echo_exclude = 0\n",
    "\"\n",
    "dbGetQuery(con, sql)"
   ]
  },
  {
   "cell_type": "code",
   "execution_count": 8,
   "metadata": {},
   "outputs": [
    {
     "data": {
      "text/html": [
       "<table>\n",
       "<thead><tr><th scope=col>count</th></tr></thead>\n",
       "<tbody>\n",
       "\t<tr><td>6361</td></tr>\n",
       "</tbody>\n",
       "</table>\n"
      ],
      "text/latex": [
       "\\begin{tabular}{r|l}\n",
       " count\\\\\n",
       "\\hline\n",
       "\t 6361\\\\\n",
       "\\end{tabular}\n"
      ],
      "text/markdown": [
       "\n",
       "count | \n",
       "|---|\n",
       "| 6361 | \n",
       "\n",
       "\n"
      ],
      "text/plain": [
       "  count\n",
       "1 6361 "
      ]
     },
     "metadata": {},
     "output_type": "display_data"
    }
   ],
   "source": [
    "sql <- \"\n",
    "select count(*)\n",
    "  from population\n",
    " where angus = 1\n",
    "   and age >= 18\n",
    "   and icu_order = 1\n",
    "   and first_careunit in ('MICU', 'SICU')\n",
    "   and echo_include = 1\n",
    "\"\n",
    "dbGetQuery(con, sql)"
   ]
  },
  {
   "cell_type": "code",
   "execution_count": 9,
   "metadata": {},
   "outputs": [
    {
     "data": {
      "text/html": [
       "<table>\n",
       "<thead><tr><th scope=col>count</th></tr></thead>\n",
       "<tbody>\n",
       "\t<tr><td>3262</td></tr>\n",
       "</tbody>\n",
       "</table>\n"
      ],
      "text/latex": [
       "\\begin{tabular}{r|l}\n",
       " count\\\\\n",
       "\\hline\n",
       "\t 3262\\\\\n",
       "\\end{tabular}\n"
      ],
      "text/markdown": [
       "\n",
       "count | \n",
       "|---|\n",
       "| 3262 | \n",
       "\n",
       "\n"
      ],
      "text/plain": [
       "  count\n",
       "1 3262 "
      ]
     },
     "metadata": {},
     "output_type": "display_data"
    }
   ],
   "source": [
    "sql <- \"\n",
    "select count(*)\n",
    "  from population\n",
    " where angus = 1\n",
    "   and age >= 18\n",
    "   and icu_order = 1\n",
    "   and first_careunit in ('MICU', 'SICU')\n",
    "   and echo_time is not null\n",
    "   and echo_include = 1\n",
    "\"\n",
    "dbGetQuery(con, sql)"
   ]
  },
  {
   "cell_type": "code",
   "execution_count": 10,
   "metadata": {},
   "outputs": [],
   "source": [
    "# dbDisconnect(con)\n",
    "# dbUnloadDriver(drv)"
   ]
  }
 ],
 "metadata": {
  "kernelspec": {
   "display_name": "R",
   "language": "R",
   "name": "ir"
  },
  "language_info": {
   "codemirror_mode": "r",
   "file_extension": ".r",
   "mimetype": "text/x-r-source",
   "name": "R",
   "pygments_lexer": "r",
   "version": "3.4.3"
  },
  "varInspector": {
   "cols": {
    "lenName": 16,
    "lenType": 16,
    "lenVar": 40
   },
   "kernels_config": {
    "python": {
     "delete_cmd_postfix": "",
     "delete_cmd_prefix": "del ",
     "library": "var_list.py",
     "varRefreshCmd": "print(var_dic_list())"
    },
    "r": {
     "delete_cmd_postfix": ") ",
     "delete_cmd_prefix": "rm(",
     "library": "var_list.r",
     "varRefreshCmd": "cat(var_dic_list()) "
    }
   },
   "types_to_exclude": [
    "module",
    "function",
    "builtin_function_or_method",
    "instance",
    "_Feature"
   ],
   "window_display": false
  }
 },
 "nbformat": 4,
 "nbformat_minor": 2
}
