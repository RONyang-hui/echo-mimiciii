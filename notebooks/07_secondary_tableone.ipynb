{
 "cells": [
  {
   "cell_type": "code",
   "execution_count": 1,
   "metadata": {
    "scrolled": true
   },
   "outputs": [
    {
     "name": "stderr",
     "output_type": "stream",
     "text": [
      "Loading required package: DBI\n",
      "── Attaching packages ─────────────────────────────────────── tidyverse 1.2.1 ──\n",
      "✔ ggplot2 2.2.1     ✔ purrr   0.2.4\n",
      "✔ tibble  1.4.2     ✔ dplyr   0.7.4\n",
      "✔ tidyr   0.8.0     ✔ stringr 1.3.0\n",
      "✔ readr   1.1.1     ✔ forcats 0.3.0\n",
      "── Conflicts ────────────────────────────────────────── tidyverse_conflicts() ──\n",
      "✖ dplyr::filter() masks stats::filter()\n",
      "✖ dplyr::lag()    masks stats::lag()\n"
     ]
    }
   ],
   "source": [
    "library(RPostgreSQL)\n",
    "library(tableone)\n",
    "library(tidyverse)"
   ]
  },
  {
   "cell_type": "code",
   "execution_count": 2,
   "metadata": {},
   "outputs": [],
   "source": [
    "data_dir <- file.path(\"..\", \"data\")"
   ]
  },
  {
   "cell_type": "code",
   "execution_count": 3,
   "metadata": {},
   "outputs": [
    {
     "data": {
      "text/plain": [
       "<PostgreSQLResult>"
      ]
     },
     "metadata": {},
     "output_type": "display_data"
    }
   ],
   "source": [
    "drv <- dbDriver(\"PostgreSQL\")\n",
    "con <- dbConnect(drv, dbname = \"mimic\")\n",
    "dbSendQuery(con, \"set search_path=echo,public,mimiciii;\")"
   ]
  },
  {
   "cell_type": "code",
   "execution_count": 4,
   "metadata": {},
   "outputs": [],
   "source": [
    "sql <-\n",
    "\"select hadm_id, icustay_id, echo,\n",
    "    intime, outtime, echo_time, deathtime,\n",
    "    norepinephrine_max, dobutamine_flag,\n",
    "    vasofreeday28, ventfreeday28,\n",
    "    sofa, sofa_drop_2, sofa_drop_3,\n",
    "    day1, day2, day3, down2, down3,\n",
    "    lactate_diff, creatinine_diff,\n",
    "    lactate_diff_24, creatinine_diff_24\n",
    "from (select hadm_id, icustay_id, echo, intime, outtime, echo_time, deathtime from merged_data) co\n",
    "left join subgroup using (hadm_id, icustay_id, echo)\n",
    "left join lactate_diff using (hadm_id)\n",
    "left join creatinine_diff using (hadm_id)\n",
    "left join (select hadm_id, lactate_diff as lactate_diff_24 from lactate_diff_24) lt_24 using (hadm_id)\n",
    "left join (select hadm_id, creatinine_diff as creatinine_diff_24 from creatinine_diff_24) cr_24 using (hadm_id)\n",
    "left join (select icustay_id, day1, day2, day3, down2, down3 from fluid) fl using (icustay_id)\""
   ]
  },
  {
   "cell_type": "code",
   "execution_count": 5,
   "metadata": {},
   "outputs": [
    {
     "data": {
      "text/html": [
       "<table>\n",
       "<thead><tr><th scope=col>hadm_id</th><th scope=col>icustay_id</th><th scope=col>echo</th><th scope=col>intime</th><th scope=col>outtime</th><th scope=col>echo_time</th><th scope=col>deathtime</th><th scope=col>norepinephrine_max</th><th scope=col>dobutamine_flag</th><th scope=col>vasofreeday28</th><th scope=col>⋯</th><th scope=col>sofa_drop_3</th><th scope=col>day1</th><th scope=col>day2</th><th scope=col>day3</th><th scope=col>down2</th><th scope=col>down3</th><th scope=col>lactate_diff</th><th scope=col>creatinine_diff</th><th scope=col>lactate_diff_24</th><th scope=col>creatinine_diff_24</th></tr></thead>\n",
       "<tbody>\n",
       "\t<tr><td>165806             </td><td>254496             </td><td>0                  </td><td>2167-09-18 19:40:29</td><td>2167-09-24 15:43:46</td><td>NA                 </td><td>2169-03-17         </td><td>0.0000000          </td><td>0                  </td><td>28.00000           </td><td>⋯                  </td><td>-1                 </td><td>-2816.5000         </td><td> -910.0000         </td><td>  -33.00000        </td><td>-1906.5000         </td><td>-2783.5000         </td><td>  NA               </td><td> 0.0               </td><td>  NA               </td><td> 0.0               </td></tr>\n",
       "\t<tr><td>152852             </td><td>268263             </td><td>0                  </td><td>2181-09-13 09:54:09</td><td>2181-09-16 16:04:14</td><td>NA                 </td><td>NA                 </td><td>0.0000000          </td><td>0                  </td><td>28.00000           </td><td>⋯                  </td><td> 1                 </td><td> 1208.3583         </td><td>-3362.7795         </td><td>-3145.76829        </td><td> 4571.1378         </td><td> 4354.1266         </td><td> 0.8               </td><td> 0.0               </td><td> 0.1               </td><td> 0.1               </td></tr>\n",
       "\t<tr><td>197462             </td><td>251029             </td><td>0                  </td><td>2162-03-19 20:21:26</td><td>2162-03-29 14:50:19</td><td>NA                 </td><td>NA                 </td><td>0.0900000          </td><td>0                  </td><td>27.74306           </td><td>⋯                  </td><td> 9                 </td><td> 3643.7500         </td><td>        NA         </td><td>         NA        </td><td>        NA         </td><td>        NA         </td><td> 1.8               </td><td> 0.2               </td><td> 1.8               </td><td> 0.1               </td></tr>\n",
       "\t<tr><td>168326             </td><td>279644             </td><td>1                  </td><td>2137-12-11 03:54:58</td><td>2137-12-17 22:40:17</td><td>2137-12-11         </td><td>NA                 </td><td>0.0000000          </td><td>0                  </td><td>28.00000           </td><td>⋯                  </td><td> 2                 </td><td>-2011.4037         </td><td>-1734.6338         </td><td>-2263.28116        </td><td> -276.7699         </td><td>  251.8775         </td><td>  NA               </td><td> 0.2               </td><td>  NA               </td><td> 0.1               </td></tr>\n",
       "\t<tr><td>132412             </td><td>254502             </td><td>1                  </td><td>2176-10-14 13:33:51</td><td>2176-10-16 18:41:44</td><td>2176-10-15         </td><td>NA                 </td><td>0.7708239          </td><td>0                  </td><td>27.58472           </td><td>⋯                  </td><td> 9                 </td><td> 8731.9468         </td><td>  557.0153         </td><td>   49.71144        </td><td> 8174.9315         </td><td> 8682.2354         </td><td>-0.4               </td><td>-4.0               </td><td>-0.4               </td><td>-2.5               </td></tr>\n",
       "\t<tr><td>187397             </td><td>278542             </td><td>1                  </td><td>2100-10-12 19:55:30</td><td>2100-10-17 11:02:39</td><td>2100-10-13         </td><td>2100-12-18         </td><td>6.4072400          </td><td>0                  </td><td>26.75903           </td><td>⋯                  </td><td> 5                 </td><td>  694.7761         </td><td>  523.1300         </td><td> -109.58333        </td><td>  171.6461         </td><td>  804.3594         </td><td> 0.3               </td><td> 0.2               </td><td>-1.1               </td><td> 0.1               </td></tr>\n",
       "</tbody>\n",
       "</table>\n"
      ],
      "text/latex": [
       "\\begin{tabular}{r|lllllllllllllllllllllll}\n",
       " hadm\\_id & icustay\\_id & echo & intime & outtime & echo\\_time & deathtime & norepinephrine\\_max & dobutamine\\_flag & vasofreeday28 & ⋯ & sofa\\_drop\\_3 & day1 & day2 & day3 & down2 & down3 & lactate\\_diff & creatinine\\_diff & lactate\\_diff\\_24 & creatinine\\_diff\\_24\\\\\n",
       "\\hline\n",
       "\t 165806              & 254496              & 0                   & 2167-09-18 19:40:29 & 2167-09-24 15:43:46 & NA                  & 2169-03-17          & 0.0000000           & 0                   & 28.00000            & ⋯                   & -1                  & -2816.5000          &  -910.0000          &   -33.00000         & -1906.5000          & -2783.5000          &   NA                &  0.0                &   NA                &  0.0               \\\\\n",
       "\t 152852              & 268263              & 0                   & 2181-09-13 09:54:09 & 2181-09-16 16:04:14 & NA                  & NA                  & 0.0000000           & 0                   & 28.00000            & ⋯                   &  1                  &  1208.3583          & -3362.7795          & -3145.76829         &  4571.1378          &  4354.1266          &  0.8                &  0.0                &  0.1                &  0.1               \\\\\n",
       "\t 197462              & 251029              & 0                   & 2162-03-19 20:21:26 & 2162-03-29 14:50:19 & NA                  & NA                  & 0.0900000           & 0                   & 27.74306            & ⋯                   &  9                  &  3643.7500          &         NA          &          NA         &         NA          &         NA          &  1.8                &  0.2                &  1.8                &  0.1               \\\\\n",
       "\t 168326              & 279644              & 1                   & 2137-12-11 03:54:58 & 2137-12-17 22:40:17 & 2137-12-11          & NA                  & 0.0000000           & 0                   & 28.00000            & ⋯                   &  2                  & -2011.4037          & -1734.6338          & -2263.28116         &  -276.7699          &   251.8775          &   NA                &  0.2                &   NA                &  0.1               \\\\\n",
       "\t 132412              & 254502              & 1                   & 2176-10-14 13:33:51 & 2176-10-16 18:41:44 & 2176-10-15          & NA                  & 0.7708239           & 0                   & 27.58472            & ⋯                   &  9                  &  8731.9468          &   557.0153          &    49.71144         &  8174.9315          &  8682.2354          & -0.4                & -4.0                & -0.4                & -2.5               \\\\\n",
       "\t 187397              & 278542              & 1                   & 2100-10-12 19:55:30 & 2100-10-17 11:02:39 & 2100-10-13          & 2100-12-18          & 6.4072400           & 0                   & 26.75903            & ⋯                   &  5                  &   694.7761          &   523.1300          &  -109.58333         &   171.6461          &   804.3594          &  0.3                &  0.2                & -1.1                &  0.1               \\\\\n",
       "\\end{tabular}\n"
      ],
      "text/markdown": [
       "\n",
       "hadm_id | icustay_id | echo | intime | outtime | echo_time | deathtime | norepinephrine_max | dobutamine_flag | vasofreeday28 | ⋯ | sofa_drop_3 | day1 | day2 | day3 | down2 | down3 | lactate_diff | creatinine_diff | lactate_diff_24 | creatinine_diff_24 | \n",
       "|---|---|---|---|---|---|\n",
       "| 165806              | 254496              | 0                   | 2167-09-18 19:40:29 | 2167-09-24 15:43:46 | NA                  | 2169-03-17          | 0.0000000           | 0                   | 28.00000            | ⋯                   | -1                  | -2816.5000          |  -910.0000          |   -33.00000         | -1906.5000          | -2783.5000          |   NA                |  0.0                |   NA                |  0.0                | \n",
       "| 152852              | 268263              | 0                   | 2181-09-13 09:54:09 | 2181-09-16 16:04:14 | NA                  | NA                  | 0.0000000           | 0                   | 28.00000            | ⋯                   |  1                  |  1208.3583          | -3362.7795          | -3145.76829         |  4571.1378          |  4354.1266          |  0.8                |  0.0                |  0.1                |  0.1                | \n",
       "| 197462              | 251029              | 0                   | 2162-03-19 20:21:26 | 2162-03-29 14:50:19 | NA                  | NA                  | 0.0900000           | 0                   | 27.74306            | ⋯                   |  9                  |  3643.7500          |         NA          |          NA         |         NA          |         NA          |  1.8                |  0.2                |  1.8                |  0.1                | \n",
       "| 168326              | 279644              | 1                   | 2137-12-11 03:54:58 | 2137-12-17 22:40:17 | 2137-12-11          | NA                  | 0.0000000           | 0                   | 28.00000            | ⋯                   |  2                  | -2011.4037          | -1734.6338          | -2263.28116         |  -276.7699          |   251.8775          |   NA                |  0.2                |   NA                |  0.1                | \n",
       "| 132412              | 254502              | 1                   | 2176-10-14 13:33:51 | 2176-10-16 18:41:44 | 2176-10-15          | NA                  | 0.7708239           | 0                   | 27.58472            | ⋯                   |  9                  |  8731.9468          |   557.0153          |    49.71144         |  8174.9315          |  8682.2354          | -0.4                | -4.0                | -0.4                | -2.5                | \n",
       "| 187397              | 278542              | 1                   | 2100-10-12 19:55:30 | 2100-10-17 11:02:39 | 2100-10-13          | 2100-12-18          | 6.4072400           | 0                   | 26.75903            | ⋯                   |  5                  |   694.7761          |   523.1300          |  -109.58333         |   171.6461          |   804.3594          |  0.3                |  0.2                | -1.1                |  0.1                | \n",
       "\n",
       "\n"
      ],
      "text/plain": [
       "  hadm_id icustay_id echo intime              outtime             echo_time \n",
       "1 165806  254496     0    2167-09-18 19:40:29 2167-09-24 15:43:46 <NA>      \n",
       "2 152852  268263     0    2181-09-13 09:54:09 2181-09-16 16:04:14 <NA>      \n",
       "3 197462  251029     0    2162-03-19 20:21:26 2162-03-29 14:50:19 <NA>      \n",
       "4 168326  279644     1    2137-12-11 03:54:58 2137-12-17 22:40:17 2137-12-11\n",
       "5 132412  254502     1    2176-10-14 13:33:51 2176-10-16 18:41:44 2176-10-15\n",
       "6 187397  278542     1    2100-10-12 19:55:30 2100-10-17 11:02:39 2100-10-13\n",
       "  deathtime  norepinephrine_max dobutamine_flag vasofreeday28 ⋯ sofa_drop_3\n",
       "1 2169-03-17 0.0000000          0               28.00000      ⋯ -1         \n",
       "2 <NA>       0.0000000          0               28.00000      ⋯  1         \n",
       "3 <NA>       0.0900000          0               27.74306      ⋯  9         \n",
       "4 <NA>       0.0000000          0               28.00000      ⋯  2         \n",
       "5 <NA>       0.7708239          0               27.58472      ⋯  9         \n",
       "6 2100-12-18 6.4072400          0               26.75903      ⋯  5         \n",
       "  day1       day2       day3        down2      down3      lactate_diff\n",
       "1 -2816.5000  -910.0000   -33.00000 -1906.5000 -2783.5000   NA        \n",
       "2  1208.3583 -3362.7795 -3145.76829  4571.1378  4354.1266  0.8        \n",
       "3  3643.7500         NA          NA         NA         NA  1.8        \n",
       "4 -2011.4037 -1734.6338 -2263.28116  -276.7699   251.8775   NA        \n",
       "5  8731.9468   557.0153    49.71144  8174.9315  8682.2354 -0.4        \n",
       "6   694.7761   523.1300  -109.58333   171.6461   804.3594  0.3        \n",
       "  creatinine_diff lactate_diff_24 creatinine_diff_24\n",
       "1  0.0              NA             0.0              \n",
       "2  0.0             0.1             0.1              \n",
       "3  0.2             1.8             0.1              \n",
       "4  0.2              NA             0.1              \n",
       "5 -4.0            -0.4            -2.5              \n",
       "6  0.2            -1.1             0.1              "
      ]
     },
     "metadata": {},
     "output_type": "display_data"
    }
   ],
   "source": [
    "subgroup <- dbGetQuery(con, sql)\n",
    "head(subgroup)"
   ]
  },
  {
   "cell_type": "code",
   "execution_count": 6,
   "metadata": {},
   "outputs": [
    {
     "data": {
      "text/html": [
       "6361"
      ],
      "text/latex": [
       "6361"
      ],
      "text/markdown": [
       "6361"
      ],
      "text/plain": [
       "[1] 6361"
      ]
     },
     "metadata": {},
     "output_type": "display_data"
    }
   ],
   "source": [
    "nrow(subgroup)"
   ]
  },
  {
   "cell_type": "code",
   "execution_count": 7,
   "metadata": {},
   "outputs": [
    {
     "data": {
      "text/html": [
       "TRUE"
      ],
      "text/latex": [
       "TRUE"
      ],
      "text/markdown": [
       "TRUE"
      ],
      "text/plain": [
       "[1] TRUE"
      ]
     },
     "metadata": {},
     "output_type": "display_data"
    },
    {
     "data": {
      "text/html": [
       "TRUE"
      ],
      "text/latex": [
       "TRUE"
      ],
      "text/markdown": [
       "TRUE"
      ],
      "text/plain": [
       "[1] TRUE"
      ]
     },
     "metadata": {},
     "output_type": "display_data"
    }
   ],
   "source": [
    "dbDisconnect(con)\n",
    "dbUnloadDriver(drv)"
   ]
  },
  {
   "cell_type": "code",
   "execution_count": 8,
   "metadata": {},
   "outputs": [
    {
     "data": {
      "text/html": [
       "<table>\n",
       "<thead><tr><th scope=col>icustay_id</th><th scope=col>hadm_id</th><th scope=col>subject_id</th><th scope=col>first_careunit</th><th scope=col>intime</th><th scope=col>outtime</th><th scope=col>angus</th><th scope=col>age</th><th scope=col>icu_order</th><th scope=col>echo_time</th><th scope=col>⋯</th><th scope=col>lab_pco2_flag</th><th scope=col>lab_creatinine_flag</th><th scope=col>lab_potassium_flag</th><th scope=col>lab_troponin_flag</th><th scope=col>lab_po2_flag</th><th scope=col>lab_lactate_flag</th><th scope=col>echo_int</th><th scope=col>mort_28_day_int</th><th scope=col>ps</th><th scope=col>ps_weight</th></tr></thead>\n",
       "<tbody>\n",
       "\t<tr><td>228416             </td><td>159895             </td><td> 5491              </td><td>MICU               </td><td>2151-06-29 01:18:27</td><td>2151-07-27 16:00:56</td><td>1                  </td><td>76.58225           </td><td>1                  </td><td>2151-06-30         </td><td>⋯                  </td><td>1                  </td><td>1                  </td><td>1                  </td><td>0                  </td><td>1                  </td><td>1                  </td><td>1                  </td><td>0                  </td><td>0.5525232          </td><td>1.809879           </td></tr>\n",
       "\t<tr><td>278148             </td><td>169700             </td><td>49395              </td><td>MICU               </td><td>2197-01-09 00:45:42</td><td>2197-01-10 06:46:29</td><td>1                  </td><td>82.72606           </td><td>1                  </td><td>NA                 </td><td>⋯                  </td><td>0                  </td><td>1                  </td><td>1                  </td><td>0                  </td><td>0                  </td><td>0                  </td><td>0                  </td><td>1                  </td><td>0.2804613          </td><td>1.389779           </td></tr>\n",
       "\t<tr><td>274174             </td><td>103722             </td><td>14855              </td><td>MICU               </td><td>2181-09-08 23:43:13</td><td>2181-09-26 16:52:02</td><td>1                  </td><td>61.84390           </td><td>1                  </td><td>2181-09-11         </td><td>⋯                  </td><td>1                  </td><td>1                  </td><td>1                  </td><td>0                  </td><td>1                  </td><td>1                  </td><td>1                  </td><td>0                  </td><td>0.3012020          </td><td>3.320031           </td></tr>\n",
       "\t<tr><td>214954             </td><td>170515             </td><td>54642              </td><td>MICU               </td><td>2176-03-11 04:58:23</td><td>2176-03-15 18:00:48</td><td>1                  </td><td>63.86507           </td><td>1                  </td><td>2176-03-11         </td><td>⋯                  </td><td>1                  </td><td>1                  </td><td>1                  </td><td>1                  </td><td>1                  </td><td>1                  </td><td>1                  </td><td>0                  </td><td>0.7982833          </td><td>1.252688           </td></tr>\n",
       "\t<tr><td>222457             </td><td>183493             </td><td>96815              </td><td>MICU               </td><td>2105-06-04 20:57:55</td><td>2105-06-06 20:01:51</td><td>1                  </td><td>62.84018           </td><td>1                  </td><td>NA                 </td><td>⋯                  </td><td>0                  </td><td>1                  </td><td>1                  </td><td>0                  </td><td>0                  </td><td>0                  </td><td>0                  </td><td>0                  </td><td>0.2244447          </td><td>1.289399           </td></tr>\n",
       "\t<tr><td>264413             </td><td>134244             </td><td>81436              </td><td>MICU               </td><td>2133-03-27 16:31:37</td><td>2133-04-04 16:15:28</td><td>1                  </td><td>62.60148           </td><td>1                  </td><td>2133-03-31         </td><td>⋯                  </td><td>0                  </td><td>1                  </td><td>1                  </td><td>0                  </td><td>0                  </td><td>1                  </td><td>1                  </td><td>0                  </td><td>0.3320492          </td><td>3.011602           </td></tr>\n",
       "</tbody>\n",
       "</table>\n"
      ],
      "text/latex": [
       "\\begin{tabular}{r|llllllllllllllllllllllllllllllllllllllllllllllllllllllllllllllllllllllllllllllllllllllllllllllllllllllllllllllllllllllllllllllllllllll}\n",
       " icustay\\_id & hadm\\_id & subject\\_id & first\\_careunit & intime & outtime & angus & age & icu\\_order & echo\\_time & ⋯ & lab\\_pco2\\_flag & lab\\_creatinine\\_flag & lab\\_potassium\\_flag & lab\\_troponin\\_flag & lab\\_po2\\_flag & lab\\_lactate\\_flag & echo\\_int & mort\\_28\\_day\\_int & ps & ps\\_weight\\\\\n",
       "\\hline\n",
       "\t 228416              & 159895              &  5491               & MICU                & 2151-06-29 01:18:27 & 2151-07-27 16:00:56 & 1                   & 76.58225            & 1                   & 2151-06-30          & ⋯                   & 1                   & 1                   & 1                   & 0                   & 1                   & 1                   & 1                   & 0                   & 0.5525232           & 1.809879           \\\\\n",
       "\t 278148              & 169700              & 49395               & MICU                & 2197-01-09 00:45:42 & 2197-01-10 06:46:29 & 1                   & 82.72606            & 1                   & NA                  & ⋯                   & 0                   & 1                   & 1                   & 0                   & 0                   & 0                   & 0                   & 1                   & 0.2804613           & 1.389779           \\\\\n",
       "\t 274174              & 103722              & 14855               & MICU                & 2181-09-08 23:43:13 & 2181-09-26 16:52:02 & 1                   & 61.84390            & 1                   & 2181-09-11          & ⋯                   & 1                   & 1                   & 1                   & 0                   & 1                   & 1                   & 1                   & 0                   & 0.3012020           & 3.320031           \\\\\n",
       "\t 214954              & 170515              & 54642               & MICU                & 2176-03-11 04:58:23 & 2176-03-15 18:00:48 & 1                   & 63.86507            & 1                   & 2176-03-11          & ⋯                   & 1                   & 1                   & 1                   & 1                   & 1                   & 1                   & 1                   & 0                   & 0.7982833           & 1.252688           \\\\\n",
       "\t 222457              & 183493              & 96815               & MICU                & 2105-06-04 20:57:55 & 2105-06-06 20:01:51 & 1                   & 62.84018            & 1                   & NA                  & ⋯                   & 0                   & 1                   & 1                   & 0                   & 0                   & 0                   & 0                   & 0                   & 0.2244447           & 1.289399           \\\\\n",
       "\t 264413              & 134244              & 81436               & MICU                & 2133-03-27 16:31:37 & 2133-04-04 16:15:28 & 1                   & 62.60148            & 1                   & 2133-03-31          & ⋯                   & 0                   & 1                   & 1                   & 0                   & 0                   & 1                   & 1                   & 0                   & 0.3320492           & 3.011602           \\\\\n",
       "\\end{tabular}\n"
      ],
      "text/markdown": [
       "\n",
       "icustay_id | hadm_id | subject_id | first_careunit | intime | outtime | angus | age | icu_order | echo_time | ⋯ | lab_pco2_flag | lab_creatinine_flag | lab_potassium_flag | lab_troponin_flag | lab_po2_flag | lab_lactate_flag | echo_int | mort_28_day_int | ps | ps_weight | \n",
       "|---|---|---|---|---|---|\n",
       "| 228416              | 159895              |  5491               | MICU                | 2151-06-29 01:18:27 | 2151-07-27 16:00:56 | 1                   | 76.58225            | 1                   | 2151-06-30          | ⋯                   | 1                   | 1                   | 1                   | 0                   | 1                   | 1                   | 1                   | 0                   | 0.5525232           | 1.809879            | \n",
       "| 278148              | 169700              | 49395               | MICU                | 2197-01-09 00:45:42 | 2197-01-10 06:46:29 | 1                   | 82.72606            | 1                   | NA                  | ⋯                   | 0                   | 1                   | 1                   | 0                   | 0                   | 0                   | 0                   | 1                   | 0.2804613           | 1.389779            | \n",
       "| 274174              | 103722              | 14855               | MICU                | 2181-09-08 23:43:13 | 2181-09-26 16:52:02 | 1                   | 61.84390            | 1                   | 2181-09-11          | ⋯                   | 1                   | 1                   | 1                   | 0                   | 1                   | 1                   | 1                   | 0                   | 0.3012020           | 3.320031            | \n",
       "| 214954              | 170515              | 54642               | MICU                | 2176-03-11 04:58:23 | 2176-03-15 18:00:48 | 1                   | 63.86507            | 1                   | 2176-03-11          | ⋯                   | 1                   | 1                   | 1                   | 1                   | 1                   | 1                   | 1                   | 0                   | 0.7982833           | 1.252688            | \n",
       "| 222457              | 183493              | 96815               | MICU                | 2105-06-04 20:57:55 | 2105-06-06 20:01:51 | 1                   | 62.84018            | 1                   | NA                  | ⋯                   | 0                   | 1                   | 1                   | 0                   | 0                   | 0                   | 0                   | 0                   | 0.2244447           | 1.289399            | \n",
       "| 264413              | 134244              | 81436               | MICU                | 2133-03-27 16:31:37 | 2133-04-04 16:15:28 | 1                   | 62.60148            | 1                   | 2133-03-31          | ⋯                   | 0                   | 1                   | 1                   | 0                   | 0                   | 1                   | 1                   | 0                   | 0.3320492           | 3.011602            | \n",
       "\n",
       "\n"
      ],
      "text/plain": [
       "  icustay_id hadm_id subject_id first_careunit intime             \n",
       "1 228416     159895   5491      MICU           2151-06-29 01:18:27\n",
       "2 278148     169700  49395      MICU           2197-01-09 00:45:42\n",
       "3 274174     103722  14855      MICU           2181-09-08 23:43:13\n",
       "4 214954     170515  54642      MICU           2176-03-11 04:58:23\n",
       "5 222457     183493  96815      MICU           2105-06-04 20:57:55\n",
       "6 264413     134244  81436      MICU           2133-03-27 16:31:37\n",
       "  outtime             angus age      icu_order echo_time  ⋯ lab_pco2_flag\n",
       "1 2151-07-27 16:00:56 1     76.58225 1         2151-06-30 ⋯ 1            \n",
       "2 2197-01-10 06:46:29 1     82.72606 1         <NA>       ⋯ 0            \n",
       "3 2181-09-26 16:52:02 1     61.84390 1         2181-09-11 ⋯ 1            \n",
       "4 2176-03-15 18:00:48 1     63.86507 1         2176-03-11 ⋯ 1            \n",
       "5 2105-06-06 20:01:51 1     62.84018 1         <NA>       ⋯ 0            \n",
       "6 2133-04-04 16:15:28 1     62.60148 1         2133-03-31 ⋯ 0            \n",
       "  lab_creatinine_flag lab_potassium_flag lab_troponin_flag lab_po2_flag\n",
       "1 1                   1                  0                 1           \n",
       "2 1                   1                  0                 0           \n",
       "3 1                   1                  0                 1           \n",
       "4 1                   1                  1                 1           \n",
       "5 1                   1                  0                 0           \n",
       "6 1                   1                  0                 0           \n",
       "  lab_lactate_flag echo_int mort_28_day_int ps        ps_weight\n",
       "1 1                1        0               0.5525232 1.809879 \n",
       "2 0                0        1               0.2804613 1.389779 \n",
       "3 1                1        0               0.3012020 3.320031 \n",
       "4 1                1        0               0.7982833 1.252688 \n",
       "5 0                0        0               0.2244447 1.289399 \n",
       "6 1                1        0               0.3320492 3.011602 "
      ]
     },
     "metadata": {},
     "output_type": "display_data"
    }
   ],
   "source": [
    "full_data <- readRDS(file.path(data_dir, \"full_data_ps.rds\"))\n",
    "head(full_data)"
   ]
  },
  {
   "cell_type": "code",
   "execution_count": 9,
   "metadata": {},
   "outputs": [
    {
     "data": {
      "text/html": [
       "<table>\n",
       "<thead><tr><th scope=col>hadm_id</th><th scope=col>icustay_id</th><th scope=col>echo</th><th scope=col>intime</th><th scope=col>outtime</th><th scope=col>echo_time</th><th scope=col>deathtime</th><th scope=col>norepinephrine_max</th><th scope=col>dobutamine_flag</th><th scope=col>vasofreeday28</th><th scope=col>⋯</th><th scope=col>day2</th><th scope=col>day3</th><th scope=col>down2</th><th scope=col>down3</th><th scope=col>lactate_diff</th><th scope=col>creatinine_diff</th><th scope=col>lactate_diff_24</th><th scope=col>creatinine_diff_24</th><th scope=col>ps_weight</th><th scope=col>ps</th></tr></thead>\n",
       "<tbody>\n",
       "\t<tr><td>165806             </td><td>254496             </td><td>0                  </td><td>2167-09-18 19:40:29</td><td>2167-09-24 15:43:46</td><td>NA                 </td><td>2169-03-17         </td><td>0.0000000          </td><td>0                  </td><td>28.00000           </td><td>⋯                  </td><td> -910.0000         </td><td>  -33.00000        </td><td>-1906.5000         </td><td>-2783.5000         </td><td>  NA               </td><td> 0.0               </td><td>  NA               </td><td> 0.0               </td><td>2.736979           </td><td>0.6346337          </td></tr>\n",
       "\t<tr><td>152852             </td><td>268263             </td><td>0                  </td><td>2181-09-13 09:54:09</td><td>2181-09-16 16:04:14</td><td>NA                 </td><td>NA                 </td><td>0.0000000          </td><td>0                  </td><td>28.00000           </td><td>⋯                  </td><td>-3362.7795         </td><td>-3145.76829        </td><td> 4571.1378         </td><td> 4354.1266         </td><td> 0.8               </td><td> 0.0               </td><td> 0.1               </td><td> 0.1               </td><td>1.613074           </td><td>0.3800656          </td></tr>\n",
       "\t<tr><td>197462             </td><td>251029             </td><td>0                  </td><td>2162-03-19 20:21:26</td><td>2162-03-29 14:50:19</td><td>NA                 </td><td>NA                 </td><td>0.0900000          </td><td>0                  </td><td>27.74306           </td><td>⋯                  </td><td>        NA         </td><td>         NA        </td><td>        NA         </td><td>        NA         </td><td> 1.8               </td><td> 0.2               </td><td> 1.8               </td><td> 0.1               </td><td>1.965442           </td><td>0.4912087          </td></tr>\n",
       "\t<tr><td>168326             </td><td>279644             </td><td>1                  </td><td>2137-12-11 03:54:58</td><td>2137-12-17 22:40:17</td><td>2137-12-11         </td><td>NA                 </td><td>0.0000000          </td><td>0                  </td><td>28.00000           </td><td>⋯                  </td><td>-1734.6338         </td><td>-2263.28116        </td><td> -276.7699         </td><td>  251.8775         </td><td>  NA               </td><td> 0.2               </td><td>  NA               </td><td> 0.1               </td><td>1.157820           </td><td>0.8636923          </td></tr>\n",
       "\t<tr><td>132412             </td><td>254502             </td><td>1                  </td><td>2176-10-14 13:33:51</td><td>2176-10-16 18:41:44</td><td>2176-10-15         </td><td>NA                 </td><td>0.7708239          </td><td>0                  </td><td>27.58472           </td><td>⋯                  </td><td>  557.0153         </td><td>   49.71144        </td><td> 8174.9315         </td><td> 8682.2354         </td><td>-0.4               </td><td>-4.0               </td><td>-0.4               </td><td>-2.5               </td><td>1.336484           </td><td>0.7482317          </td></tr>\n",
       "\t<tr><td>187397             </td><td>278542             </td><td>1                  </td><td>2100-10-12 19:55:30</td><td>2100-10-17 11:02:39</td><td>2100-10-13         </td><td>2100-12-18         </td><td>6.4072400          </td><td>0                  </td><td>26.75903           </td><td>⋯                  </td><td>  523.1300         </td><td> -109.58333        </td><td>  171.6461         </td><td>  804.3594         </td><td> 0.3               </td><td> 0.2               </td><td>-1.1               </td><td> 0.1               </td><td>1.615731           </td><td>0.6189147          </td></tr>\n",
       "</tbody>\n",
       "</table>\n"
      ],
      "text/latex": [
       "\\begin{tabular}{r|lllllllllllllllllllllllll}\n",
       " hadm\\_id & icustay\\_id & echo & intime & outtime & echo\\_time & deathtime & norepinephrine\\_max & dobutamine\\_flag & vasofreeday28 & ⋯ & day2 & day3 & down2 & down3 & lactate\\_diff & creatinine\\_diff & lactate\\_diff\\_24 & creatinine\\_diff\\_24 & ps\\_weight & ps\\\\\n",
       "\\hline\n",
       "\t 165806              & 254496              & 0                   & 2167-09-18 19:40:29 & 2167-09-24 15:43:46 & NA                  & 2169-03-17          & 0.0000000           & 0                   & 28.00000            & ⋯                   &  -910.0000          &   -33.00000         & -1906.5000          & -2783.5000          &   NA                &  0.0                &   NA                &  0.0                & 2.736979            & 0.6346337          \\\\\n",
       "\t 152852              & 268263              & 0                   & 2181-09-13 09:54:09 & 2181-09-16 16:04:14 & NA                  & NA                  & 0.0000000           & 0                   & 28.00000            & ⋯                   & -3362.7795          & -3145.76829         &  4571.1378          &  4354.1266          &  0.8                &  0.0                &  0.1                &  0.1                & 1.613074            & 0.3800656          \\\\\n",
       "\t 197462              & 251029              & 0                   & 2162-03-19 20:21:26 & 2162-03-29 14:50:19 & NA                  & NA                  & 0.0900000           & 0                   & 27.74306            & ⋯                   &         NA          &          NA         &         NA          &         NA          &  1.8                &  0.2                &  1.8                &  0.1                & 1.965442            & 0.4912087          \\\\\n",
       "\t 168326              & 279644              & 1                   & 2137-12-11 03:54:58 & 2137-12-17 22:40:17 & 2137-12-11          & NA                  & 0.0000000           & 0                   & 28.00000            & ⋯                   & -1734.6338          & -2263.28116         &  -276.7699          &   251.8775          &   NA                &  0.2                &   NA                &  0.1                & 1.157820            & 0.8636923          \\\\\n",
       "\t 132412              & 254502              & 1                   & 2176-10-14 13:33:51 & 2176-10-16 18:41:44 & 2176-10-15          & NA                  & 0.7708239           & 0                   & 27.58472            & ⋯                   &   557.0153          &    49.71144         &  8174.9315          &  8682.2354          & -0.4                & -4.0                & -0.4                & -2.5                & 1.336484            & 0.7482317          \\\\\n",
       "\t 187397              & 278542              & 1                   & 2100-10-12 19:55:30 & 2100-10-17 11:02:39 & 2100-10-13          & 2100-12-18          & 6.4072400           & 0                   & 26.75903            & ⋯                   &   523.1300          &  -109.58333         &   171.6461          &   804.3594          &  0.3                &  0.2                & -1.1                &  0.1                & 1.615731            & 0.6189147          \\\\\n",
       "\\end{tabular}\n"
      ],
      "text/markdown": [
       "\n",
       "hadm_id | icustay_id | echo | intime | outtime | echo_time | deathtime | norepinephrine_max | dobutamine_flag | vasofreeday28 | ⋯ | day2 | day3 | down2 | down3 | lactate_diff | creatinine_diff | lactate_diff_24 | creatinine_diff_24 | ps_weight | ps | \n",
       "|---|---|---|---|---|---|\n",
       "| 165806              | 254496              | 0                   | 2167-09-18 19:40:29 | 2167-09-24 15:43:46 | NA                  | 2169-03-17          | 0.0000000           | 0                   | 28.00000            | ⋯                   |  -910.0000          |   -33.00000         | -1906.5000          | -2783.5000          |   NA                |  0.0                |   NA                |  0.0                | 2.736979            | 0.6346337           | \n",
       "| 152852              | 268263              | 0                   | 2181-09-13 09:54:09 | 2181-09-16 16:04:14 | NA                  | NA                  | 0.0000000           | 0                   | 28.00000            | ⋯                   | -3362.7795          | -3145.76829         |  4571.1378          |  4354.1266          |  0.8                |  0.0                |  0.1                |  0.1                | 1.613074            | 0.3800656           | \n",
       "| 197462              | 251029              | 0                   | 2162-03-19 20:21:26 | 2162-03-29 14:50:19 | NA                  | NA                  | 0.0900000           | 0                   | 27.74306            | ⋯                   |         NA          |          NA         |         NA          |         NA          |  1.8                |  0.2                |  1.8                |  0.1                | 1.965442            | 0.4912087           | \n",
       "| 168326              | 279644              | 1                   | 2137-12-11 03:54:58 | 2137-12-17 22:40:17 | 2137-12-11          | NA                  | 0.0000000           | 0                   | 28.00000            | ⋯                   | -1734.6338          | -2263.28116         |  -276.7699          |   251.8775          |   NA                |  0.2                |   NA                |  0.1                | 1.157820            | 0.8636923           | \n",
       "| 132412              | 254502              | 1                   | 2176-10-14 13:33:51 | 2176-10-16 18:41:44 | 2176-10-15          | NA                  | 0.7708239           | 0                   | 27.58472            | ⋯                   |   557.0153          |    49.71144         |  8174.9315          |  8682.2354          | -0.4                | -4.0                | -0.4                | -2.5                | 1.336484            | 0.7482317           | \n",
       "| 187397              | 278542              | 1                   | 2100-10-12 19:55:30 | 2100-10-17 11:02:39 | 2100-10-13          | 2100-12-18          | 6.4072400           | 0                   | 26.75903            | ⋯                   |   523.1300          |  -109.58333         |   171.6461          |   804.3594          |  0.3                |  0.2                | -1.1                |  0.1                | 1.615731            | 0.6189147           | \n",
       "\n",
       "\n"
      ],
      "text/plain": [
       "  hadm_id icustay_id echo intime              outtime             echo_time \n",
       "1 165806  254496     0    2167-09-18 19:40:29 2167-09-24 15:43:46 <NA>      \n",
       "2 152852  268263     0    2181-09-13 09:54:09 2181-09-16 16:04:14 <NA>      \n",
       "3 197462  251029     0    2162-03-19 20:21:26 2162-03-29 14:50:19 <NA>      \n",
       "4 168326  279644     1    2137-12-11 03:54:58 2137-12-17 22:40:17 2137-12-11\n",
       "5 132412  254502     1    2176-10-14 13:33:51 2176-10-16 18:41:44 2176-10-15\n",
       "6 187397  278542     1    2100-10-12 19:55:30 2100-10-17 11:02:39 2100-10-13\n",
       "  deathtime  norepinephrine_max dobutamine_flag vasofreeday28 ⋯ day2      \n",
       "1 2169-03-17 0.0000000          0               28.00000      ⋯  -910.0000\n",
       "2 <NA>       0.0000000          0               28.00000      ⋯ -3362.7795\n",
       "3 <NA>       0.0900000          0               27.74306      ⋯         NA\n",
       "4 <NA>       0.0000000          0               28.00000      ⋯ -1734.6338\n",
       "5 <NA>       0.7708239          0               27.58472      ⋯   557.0153\n",
       "6 2100-12-18 6.4072400          0               26.75903      ⋯   523.1300\n",
       "  day3        down2      down3      lactate_diff creatinine_diff\n",
       "1   -33.00000 -1906.5000 -2783.5000   NA          0.0           \n",
       "2 -3145.76829  4571.1378  4354.1266  0.8          0.0           \n",
       "3          NA         NA         NA  1.8          0.2           \n",
       "4 -2263.28116  -276.7699   251.8775   NA          0.2           \n",
       "5    49.71144  8174.9315  8682.2354 -0.4         -4.0           \n",
       "6  -109.58333   171.6461   804.3594  0.3          0.2           \n",
       "  lactate_diff_24 creatinine_diff_24 ps_weight ps       \n",
       "1   NA             0.0               2.736979  0.6346337\n",
       "2  0.1             0.1               1.613074  0.3800656\n",
       "3  1.8             0.1               1.965442  0.4912087\n",
       "4   NA             0.1               1.157820  0.8636923\n",
       "5 -0.4            -2.5               1.336484  0.7482317\n",
       "6 -1.1             0.1               1.615731  0.6189147"
      ]
     },
     "metadata": {},
     "output_type": "display_data"
    }
   ],
   "source": [
    "subgroup <- subgroup %>%\n",
    "left_join(full_data %>% select(icustay_id, ps_weight, ps), by = \"icustay_id\") %>%\n",
    "mutate(dobutamine_flag = as.factor(dobutamine_flag))\n",
    "head(subgroup)"
   ]
  },
  {
   "cell_type": "code",
   "execution_count": 10,
   "metadata": {},
   "outputs": [
    {
     "data": {
      "text/html": [
       "<ol class=list-inline>\n",
       "\t<li>'ventfreeday28'</li>\n",
       "\t<li>'vasofreeday28'</li>\n",
       "\t<li>'dobutamine_flag'</li>\n",
       "\t<li>'day1'</li>\n",
       "\t<li>'day2'</li>\n",
       "\t<li>'day3'</li>\n",
       "\t<li>'sofa_drop_2'</li>\n",
       "\t<li>'sofa_drop_3'</li>\n",
       "\t<li>'norepinephrine_max'</li>\n",
       "\t<li>'lactate_diff'</li>\n",
       "\t<li>'creatinine_diff'</li>\n",
       "\t<li>'lactate_diff_24'</li>\n",
       "\t<li>'creatinine_diff_24'</li>\n",
       "</ol>\n"
      ],
      "text/latex": [
       "\\begin{enumerate*}\n",
       "\\item 'ventfreeday28'\n",
       "\\item 'vasofreeday28'\n",
       "\\item 'dobutamine\\_flag'\n",
       "\\item 'day1'\n",
       "\\item 'day2'\n",
       "\\item 'day3'\n",
       "\\item 'sofa\\_drop\\_2'\n",
       "\\item 'sofa\\_drop\\_3'\n",
       "\\item 'norepinephrine\\_max'\n",
       "\\item 'lactate\\_diff'\n",
       "\\item 'creatinine\\_diff'\n",
       "\\item 'lactate\\_diff\\_24'\n",
       "\\item 'creatinine\\_diff\\_24'\n",
       "\\end{enumerate*}\n"
      ],
      "text/markdown": [
       "1. 'ventfreeday28'\n",
       "2. 'vasofreeday28'\n",
       "3. 'dobutamine_flag'\n",
       "4. 'day1'\n",
       "5. 'day2'\n",
       "6. 'day3'\n",
       "7. 'sofa_drop_2'\n",
       "8. 'sofa_drop_3'\n",
       "9. 'norepinephrine_max'\n",
       "10. 'lactate_diff'\n",
       "11. 'creatinine_diff'\n",
       "12. 'lactate_diff_24'\n",
       "13. 'creatinine_diff_24'\n",
       "\n",
       "\n"
      ],
      "text/plain": [
       " [1] \"ventfreeday28\"      \"vasofreeday28\"      \"dobutamine_flag\"   \n",
       " [4] \"day1\"               \"day2\"               \"day3\"              \n",
       " [7] \"sofa_drop_2\"        \"sofa_drop_3\"        \"norepinephrine_max\"\n",
       "[10] \"lactate_diff\"       \"creatinine_diff\"    \"lactate_diff_24\"   \n",
       "[13] \"creatinine_diff_24\""
      ]
     },
     "metadata": {},
     "output_type": "display_data"
    }
   ],
   "source": [
    "features <- c(\"ventfreeday28\", \"vasofreeday28\", \"dobutamine_flag\", \"day1\", \"day2\", \"day3\",\n",
    "              \"sofa_drop_2\", \"sofa_drop_3\",\n",
    "              \"norepinephrine_max\", \"lactate_diff\", \"creatinine_diff\",\n",
    "              \"lactate_diff_24\", \"creatinine_diff_24\")\n",
    "features"
   ]
  },
  {
   "cell_type": "code",
   "execution_count": 11,
   "metadata": {},
   "outputs": [
    {
     "data": {
      "text/html": [
       "<table>\n",
       "<thead><tr><th scope=col>cov</th><th scope=col>na</th></tr></thead>\n",
       "<tbody>\n",
       "\t<tr><td>ventfreeday28     </td><td>0%                </td></tr>\n",
       "\t<tr><td>vasofreeday28     </td><td>0%                </td></tr>\n",
       "\t<tr><td>dobutamine_flag   </td><td>0%                </td></tr>\n",
       "\t<tr><td>day1              </td><td>10.7%             </td></tr>\n",
       "\t<tr><td>day2              </td><td>18.9%             </td></tr>\n",
       "\t<tr><td>day3              </td><td>34.4%             </td></tr>\n",
       "\t<tr><td>sofa_drop_2       </td><td>0%                </td></tr>\n",
       "\t<tr><td>sofa_drop_3       </td><td>0%                </td></tr>\n",
       "\t<tr><td>norepinephrine_max</td><td>0%                </td></tr>\n",
       "\t<tr><td>lactate_diff      </td><td>71.6%             </td></tr>\n",
       "\t<tr><td>creatinine_diff   </td><td>17.9%             </td></tr>\n",
       "\t<tr><td>lactate_diff_24   </td><td>65.7%             </td></tr>\n",
       "\t<tr><td>creatinine_diff_24</td><td>13.2%             </td></tr>\n",
       "</tbody>\n",
       "</table>\n"
      ],
      "text/latex": [
       "\\begin{tabular}{r|ll}\n",
       " cov & na\\\\\n",
       "\\hline\n",
       "\t ventfreeday28      & 0\\%              \\\\\n",
       "\t vasofreeday28      & 0\\%              \\\\\n",
       "\t dobutamine\\_flag    & 0\\%                \\\\\n",
       "\t day1               & 10.7\\%           \\\\\n",
       "\t day2               & 18.9\\%           \\\\\n",
       "\t day3               & 34.4\\%           \\\\\n",
       "\t sofa\\_drop\\_2        & 0\\%                  \\\\\n",
       "\t sofa\\_drop\\_3        & 0\\%                  \\\\\n",
       "\t norepinephrine\\_max & 0\\%                \\\\\n",
       "\t lactate\\_diff       & 71.6\\%             \\\\\n",
       "\t creatinine\\_diff    & 17.9\\%             \\\\\n",
       "\t lactate\\_diff\\_24    & 65.7\\%               \\\\\n",
       "\t creatinine\\_diff\\_24 & 13.2\\%               \\\\\n",
       "\\end{tabular}\n"
      ],
      "text/markdown": [
       "\n",
       "cov | na | \n",
       "|---|---|---|---|---|---|---|---|---|---|---|---|---|\n",
       "| ventfreeday28      | 0%                 | \n",
       "| vasofreeday28      | 0%                 | \n",
       "| dobutamine_flag    | 0%                 | \n",
       "| day1               | 10.7%              | \n",
       "| day2               | 18.9%              | \n",
       "| day3               | 34.4%              | \n",
       "| sofa_drop_2        | 0%                 | \n",
       "| sofa_drop_3        | 0%                 | \n",
       "| norepinephrine_max | 0%                 | \n",
       "| lactate_diff       | 71.6%              | \n",
       "| creatinine_diff    | 17.9%              | \n",
       "| lactate_diff_24    | 65.7%              | \n",
       "| creatinine_diff_24 | 13.2%              | \n",
       "\n",
       "\n"
      ],
      "text/plain": [
       "   cov                na   \n",
       "1  ventfreeday28      0%   \n",
       "2  vasofreeday28      0%   \n",
       "3  dobutamine_flag    0%   \n",
       "4  day1               10.7%\n",
       "5  day2               18.9%\n",
       "6  day3               34.4%\n",
       "7  sofa_drop_2        0%   \n",
       "8  sofa_drop_3        0%   \n",
       "9  norepinephrine_max 0%   \n",
       "10 lactate_diff       71.6%\n",
       "11 creatinine_diff    17.9%\n",
       "12 lactate_diff_24    65.7%\n",
       "13 creatinine_diff_24 13.2%"
      ]
     },
     "metadata": {},
     "output_type": "display_data"
    }
   ],
   "source": [
    "missing <- subgroup %>%\n",
    "select(features) %>%\n",
    "summarize_all(funs(sum(is.na(.)) / n())) %>%\n",
    "gather(\"cov\", \"na\") %>%\n",
    "mutate(na = (na * 100) %>% round(1) %>% paste0(\"%\"))\n",
    "\n",
    "missing"
   ]
  },
  {
   "cell_type": "code",
   "execution_count": 12,
   "metadata": {},
   "outputs": [],
   "source": [
    "tab <- CreateTableOne(vars = features, strata = \"echo\",\n",
    "                      data = subgroup,\n",
    "                      argsNormal = list(var.equal = FALSE))\n",
    "capture.output(tab_df <- tab %>%\n",
    "               print(smd = TRUE) %>%\n",
    "               as.data.frame(stringsAsFactors = FALSE) %>%\n",
    "               select(-test)) %>% invisible"
   ]
  },
  {
   "cell_type": "code",
   "execution_count": 13,
   "metadata": {},
   "outputs": [
    {
     "data": {
      "text/html": [
       "<table>\n",
       "<thead><tr><th></th><th scope=col>0</th><th scope=col>1</th><th scope=col>p</th><th scope=col>SMD</th></tr></thead>\n",
       "<tbody>\n",
       "\t<tr><th scope=row>n</th><td>   3099          </td><td>   3262          </td><td>                 </td><td>                 </td></tr>\n",
       "\t<tr><th scope=row>ventfreeday28 (mean (sd))</th><td>  19.09 (13.53)  </td><td>  18.02 (25.13)  </td><td> 0.033           </td><td> 0.053           </td></tr>\n",
       "\t<tr><th scope=row>vasofreeday28 (mean (sd))</th><td>  20.25 (12.61)  </td><td>  20.13 (14.91)  </td><td> 0.741           </td><td> 0.008           </td></tr>\n",
       "\t<tr><th scope=row>dobutamine_flag = 1 (%)</th><td><span style=white-space:pre-wrap>     23 (0.7)    </span></td><td><span style=white-space:pre-wrap>    137 (4.2)    </span></td><td>&lt;0.001                                                </td><td> 0.224                                                   </td></tr>\n",
       "\t<tr><th scope=row>day1 (mean (sd))</th><td>1939.14 (3181.88)</td><td>2456.38 (3853.04)</td><td>&lt;0.001        </td><td> 0.146           </td></tr>\n",
       "\t<tr><th scope=row>day2 (mean (sd))</th><td> 835.26 (2429.91)</td><td>1258.31 (2933.84)</td><td>&lt;0.001        </td><td> 0.157           </td></tr>\n",
       "\t<tr><th scope=row>day3 (mean (sd))</th><td> 256.15 (2108.02)</td><td> 686.71 (2614.29)</td><td>&lt;0.001        </td><td> 0.181           </td></tr>\n",
       "\t<tr><th scope=row>sofa_drop_2 (mean (sd))</th><td>   1.22 (4.34)   </td><td>   0.89 (3.39)   </td><td> 0.001           </td><td> 0.086           </td></tr>\n",
       "\t<tr><th scope=row>sofa_drop_3 (mean (sd))</th><td><span style=white-space:pre-wrap>   2.29 (4.49)   </span></td><td><span style=white-space:pre-wrap>   1.49 (4.07)   </span></td><td>&lt;0.001                                                </td><td> 0.186                                                   </td></tr>\n",
       "\t<tr><th scope=row>norepinephrine_max (mean (sd))</th><td><span style=white-space:pre-wrap>   0.81 (2.39)   </span></td><td><span style=white-space:pre-wrap>   1.78 (5.69)   </span></td><td>&lt;0.001                                                </td><td> 0.221                                                   </td></tr>\n",
       "\t<tr><th scope=row>lactate_diff (mean (sd))</th><td>   0.55 (2.39)   </td><td>   0.27 (1.86)   </td><td> 0.009           </td><td> 0.130           </td></tr>\n",
       "\t<tr><th scope=row>creatinine_diff (mean (sd))</th><td>   0.19 (0.87)   </td><td>   0.13 (0.85)   </td><td> 0.011           </td><td> 0.071           </td></tr>\n",
       "\t<tr><th scope=row>lactate_diff_24 (mean (sd))</th><td><span style=white-space:pre-wrap>   0.48 (2.07)   </span></td><td><span style=white-space:pre-wrap>   0.14 (1.60)   </span></td><td>&lt;0.001                                                </td><td> 0.182                                                   </td></tr>\n",
       "\t<tr><th scope=row>creatinine_diff_24 (mean (sd))</th><td>   0.13 (0.67)   </td><td>   0.03 (2.67)   </td><td> 0.049           </td><td> 0.053           </td></tr>\n",
       "</tbody>\n",
       "</table>\n"
      ],
      "text/latex": [
       "\\begin{tabular}{r|llll}\n",
       "  & 0 & 1 & p & SMD\\\\\n",
       "\\hline\n",
       "\tn &    3099           &    3262           &                   &                  \\\\\n",
       "\tventfreeday28 (mean (sd)) &   19.09 (13.53)   &   18.02 (25.13)   &  0.033            &  0.053           \\\\\n",
       "\tvasofreeday28 (mean (sd)) &   20.25 (12.61)   &   20.13 (14.91)   &  0.741            &  0.008           \\\\\n",
       "\tdobutamine\\_flag = 1 (\\%) &      23 (0.7)     &     137 (4.2)     & <0.001            &  0.224           \\\\\n",
       "\tday1 (mean (sd)) & 1939.14 (3181.88) & 2456.38 (3853.04) & <0.001            &  0.146           \\\\\n",
       "\tday2 (mean (sd)) &  835.26 (2429.91) & 1258.31 (2933.84) & <0.001            &  0.157           \\\\\n",
       "\tday3 (mean (sd)) &  256.15 (2108.02) &  686.71 (2614.29) & <0.001            &  0.181           \\\\\n",
       "\tsofa\\_drop\\_2 (mean (sd)) &    1.22 (4.34)    &    0.89 (3.39)    &  0.001            &  0.086           \\\\\n",
       "\tsofa\\_drop\\_3 (mean (sd)) &    2.29 (4.49)    &    1.49 (4.07)    & <0.001            &  0.186           \\\\\n",
       "\tnorepinephrine\\_max (mean (sd)) &    0.81 (2.39)    &    1.78 (5.69)    & <0.001            &  0.221           \\\\\n",
       "\tlactate\\_diff (mean (sd)) &    0.55 (2.39)    &    0.27 (1.86)    &  0.009            &  0.130           \\\\\n",
       "\tcreatinine\\_diff (mean (sd)) &    0.19 (0.87)    &    0.13 (0.85)    &  0.011            &  0.071           \\\\\n",
       "\tlactate\\_diff\\_24 (mean (sd)) &    0.48 (2.07)    &    0.14 (1.60)    & <0.001            &  0.182           \\\\\n",
       "\tcreatinine\\_diff\\_24 (mean (sd)) &    0.13 (0.67)    &    0.03 (2.67)    &  0.049            &  0.053           \\\\\n",
       "\\end{tabular}\n"
      ],
      "text/markdown": [
       "\n",
       "| <!--/--> | 0 | 1 | p | SMD | \n",
       "|---|---|---|---|---|---|---|---|---|---|---|---|---|---|\n",
       "| n |    3099           |    3262           |                   |                   | \n",
       "| ventfreeday28 (mean (sd)) |   19.09 (13.53)   |   18.02 (25.13)   |  0.033            |  0.053            | \n",
       "| vasofreeday28 (mean (sd)) |   20.25 (12.61)   |   20.13 (14.91)   |  0.741            |  0.008            | \n",
       "| dobutamine_flag = 1 (%) |      23 (0.7)     |     137 (4.2)     | <0.001            |  0.224            | \n",
       "| day1 (mean (sd)) | 1939.14 (3181.88) | 2456.38 (3853.04) | <0.001            |  0.146            | \n",
       "| day2 (mean (sd)) |  835.26 (2429.91) | 1258.31 (2933.84) | <0.001            |  0.157            | \n",
       "| day3 (mean (sd)) |  256.15 (2108.02) |  686.71 (2614.29) | <0.001            |  0.181            | \n",
       "| sofa_drop_2 (mean (sd)) |    1.22 (4.34)    |    0.89 (3.39)    |  0.001            |  0.086            | \n",
       "| sofa_drop_3 (mean (sd)) |    2.29 (4.49)    |    1.49 (4.07)    | <0.001            |  0.186            | \n",
       "| norepinephrine_max (mean (sd)) |    0.81 (2.39)    |    1.78 (5.69)    | <0.001            |  0.221            | \n",
       "| lactate_diff (mean (sd)) |    0.55 (2.39)    |    0.27 (1.86)    |  0.009            |  0.130            | \n",
       "| creatinine_diff (mean (sd)) |    0.19 (0.87)    |    0.13 (0.85)    |  0.011            |  0.071            | \n",
       "| lactate_diff_24 (mean (sd)) |    0.48 (2.07)    |    0.14 (1.60)    | <0.001            |  0.182            | \n",
       "| creatinine_diff_24 (mean (sd)) |    0.13 (0.67)    |    0.03 (2.67)    |  0.049            |  0.053            | \n",
       "\n",
       "\n"
      ],
      "text/plain": [
       "                               0                 1                 p     \n",
       "n                                 3099              3262                 \n",
       "ventfreeday28 (mean (sd))        19.09 (13.53)     18.02 (25.13)    0.033\n",
       "vasofreeday28 (mean (sd))        20.25 (12.61)     20.13 (14.91)    0.741\n",
       "dobutamine_flag = 1 (%)             23 (0.7)         137 (4.2)     <0.001\n",
       "day1 (mean (sd))               1939.14 (3181.88) 2456.38 (3853.04) <0.001\n",
       "day2 (mean (sd))                835.26 (2429.91) 1258.31 (2933.84) <0.001\n",
       "day3 (mean (sd))                256.15 (2108.02)  686.71 (2614.29) <0.001\n",
       "sofa_drop_2 (mean (sd))           1.22 (4.34)       0.89 (3.39)     0.001\n",
       "sofa_drop_3 (mean (sd))           2.29 (4.49)       1.49 (4.07)    <0.001\n",
       "norepinephrine_max (mean (sd))    0.81 (2.39)       1.78 (5.69)    <0.001\n",
       "lactate_diff (mean (sd))          0.55 (2.39)       0.27 (1.86)     0.009\n",
       "creatinine_diff (mean (sd))       0.19 (0.87)       0.13 (0.85)     0.011\n",
       "lactate_diff_24 (mean (sd))       0.48 (2.07)       0.14 (1.60)    <0.001\n",
       "creatinine_diff_24 (mean (sd))    0.13 (0.67)       0.03 (2.67)     0.049\n",
       "                               SMD   \n",
       "n                                    \n",
       "ventfreeday28 (mean (sd))       0.053\n",
       "vasofreeday28 (mean (sd))       0.008\n",
       "dobutamine_flag = 1 (%)         0.224\n",
       "day1 (mean (sd))                0.146\n",
       "day2 (mean (sd))                0.157\n",
       "day3 (mean (sd))                0.181\n",
       "sofa_drop_2 (mean (sd))         0.086\n",
       "sofa_drop_3 (mean (sd))         0.186\n",
       "norepinephrine_max (mean (sd))  0.221\n",
       "lactate_diff (mean (sd))        0.130\n",
       "creatinine_diff (mean (sd))     0.071\n",
       "lactate_diff_24 (mean (sd))     0.182\n",
       "creatinine_diff_24 (mean (sd))  0.053"
      ]
     },
     "metadata": {},
     "output_type": "display_data"
    }
   ],
   "source": [
    "tab_df"
   ]
  },
  {
   "cell_type": "code",
   "execution_count": 14,
   "metadata": {},
   "outputs": [],
   "source": [
    "ipw_svydesign <- survey::svydesign(ids = ~ icustay_id, weights = ~ ps_weight, data = subgroup)"
   ]
  },
  {
   "cell_type": "code",
   "execution_count": 15,
   "metadata": {},
   "outputs": [],
   "source": [
    "tab_wtd <- svyCreateTableOne(vars = features,\n",
    "                             strata = \"echo\",\n",
    "                             data = ipw_svydesign)\n",
    "capture.output(tab_wtd_df <- tab_wtd %>%\n",
    "               print(smd = TRUE) %>%\n",
    "               as.data.frame(stringsAsFactors = FALSE) %>%\n",
    "               select(-test)) %>% invisible"
   ]
  },
  {
   "cell_type": "code",
   "execution_count": 16,
   "metadata": {},
   "outputs": [
    {
     "data": {
      "text/html": [
       "<table>\n",
       "<thead><tr><th></th><th scope=col>0</th><th scope=col>1</th><th scope=col>p</th><th scope=col>SMD</th></tr></thead>\n",
       "<tbody>\n",
       "\t<tr><th scope=row>n</th><td>5739.48          </td><td>5842.36          </td><td>                 </td><td>                 </td></tr>\n",
       "\t<tr><th scope=row>ventfreeday28 (mean (sd))</th><td>  14.96 (16.33)  </td><td>  16.18 (36.90)  </td><td> 0.903           </td><td> 0.003           </td></tr>\n",
       "\t<tr><th scope=row>vasofreeday28 (mean (sd))</th><td>  18.35 (13.77)  </td><td>  19.86 (20.23)  </td><td> 0.047           </td><td> 0.054           </td></tr>\n",
       "\t<tr><th scope=row>dobutamine_flag = 1 (%)</th><td><span style=white-space:pre-wrap>   62.0 (1.1)    </span></td><td><span style=white-space:pre-wrap>  196.3 (3.4)    </span></td><td>&lt;0.001                                                </td><td> 0.155                                                   </td></tr>\n",
       "\t<tr><th scope=row>day1 (mean (sd))</th><td>3523.72 (3747.62)</td><td>3889.22 (4421.38)</td><td> 0.001           </td><td> 0.096           </td></tr>\n",
       "\t<tr><th scope=row>day2 (mean (sd))</th><td>2256.41 (2739.25)</td><td>2484.97 (3305.21)</td><td>&lt;0.001        </td><td> 0.132           </td></tr>\n",
       "\t<tr><th scope=row>day3 (mean (sd))</th><td>1018.42 (2558.93)</td><td>1683.90 (3066.03)</td><td>&lt;0.001        </td><td> 0.179           </td></tr>\n",
       "\t<tr><th scope=row>sofa_drop_2 (mean (sd))</th><td><span style=white-space:pre-wrap>   1.00 (2.84)   </span></td><td><span style=white-space:pre-wrap>   0.55 (3.03)   </span></td><td>&lt;0.001                                                </td><td> 0.128                                                   </td></tr>\n",
       "\t<tr><th scope=row>sofa_drop_3 (mean (sd))</th><td><span style=white-space:pre-wrap>   1.36 (3.05)   </span></td><td><span style=white-space:pre-wrap>   0.78 (3.57)   </span></td><td>&lt;0.001                                                </td><td> 0.247                                                   </td></tr>\n",
       "\t<tr><th scope=row>norepinephrine_max (mean (sd))</th><td><span style=white-space:pre-wrap>   1.76 (3.26)   </span></td><td><span style=white-space:pre-wrap>   3.05 (8.49)   </span></td><td>&lt;0.001                                                </td><td> 0.154                                                   </td></tr>\n",
       "\t<tr><th scope=row>lactate_diff (mean (sd))</th><td>   0.62 (2.08)   </td><td>   0.26 (1.77)   </td><td> 0.009           </td><td> 0.144           </td></tr>\n",
       "\t<tr><th scope=row>creatinine_diff (mean (sd))</th><td>  -0.02 (0.96)   </td><td>   0.06 (0.93)   </td><td> 0.064           </td><td> 0.056           </td></tr>\n",
       "\t<tr><th scope=row>lactate_diff_24 (mean (sd))</th><td><span style=white-space:pre-wrap>   0.54 (1.83)   </span></td><td><span style=white-space:pre-wrap>   0.16 (1.62)   </span></td><td>&lt;0.001                                                </td><td> 0.172                                                   </td></tr>\n",
       "\t<tr><th scope=row>creatinine_diff_24 (mean (sd))</th><td>  -0.01 (0.67)   </td><td>  -0.10 (4.19)   </td><td> 0.055           </td><td> 0.049           </td></tr>\n",
       "</tbody>\n",
       "</table>\n"
      ],
      "text/latex": [
       "\\begin{tabular}{r|llll}\n",
       "  & 0 & 1 & p & SMD\\\\\n",
       "\\hline\n",
       "\tn & 5739.48           & 5842.36           &                   &                  \\\\\n",
       "\tventfreeday28 (mean (sd)) &   14.96 (16.33)   &   16.18 (36.90)   &  0.903            &  0.003           \\\\\n",
       "\tvasofreeday28 (mean (sd)) &   18.35 (13.77)   &   19.86 (20.23)   &  0.047            &  0.054           \\\\\n",
       "\tdobutamine\\_flag = 1 (\\%) &    62.0 (1.1)     &   196.3 (3.4)     & <0.001            &  0.155           \\\\\n",
       "\tday1 (mean (sd)) & 3523.72 (3747.62) & 3889.22 (4421.38) &  0.001            &  0.096           \\\\\n",
       "\tday2 (mean (sd)) & 2256.41 (2739.25) & 2484.97 (3305.21) & <0.001            &  0.132           \\\\\n",
       "\tday3 (mean (sd)) & 1018.42 (2558.93) & 1683.90 (3066.03) & <0.001            &  0.179           \\\\\n",
       "\tsofa\\_drop\\_2 (mean (sd)) &    1.00 (2.84)    &    0.55 (3.03)    & <0.001            &  0.128           \\\\\n",
       "\tsofa\\_drop\\_3 (mean (sd)) &    1.36 (3.05)    &    0.78 (3.57)    & <0.001            &  0.247           \\\\\n",
       "\tnorepinephrine\\_max (mean (sd)) &    1.76 (3.26)    &    3.05 (8.49)    & <0.001            &  0.154           \\\\\n",
       "\tlactate\\_diff (mean (sd)) &    0.62 (2.08)    &    0.26 (1.77)    &  0.009            &  0.144           \\\\\n",
       "\tcreatinine\\_diff (mean (sd)) &   -0.02 (0.96)    &    0.06 (0.93)    &  0.064            &  0.056           \\\\\n",
       "\tlactate\\_diff\\_24 (mean (sd)) &    0.54 (1.83)    &    0.16 (1.62)    & <0.001            &  0.172           \\\\\n",
       "\tcreatinine\\_diff\\_24 (mean (sd)) &   -0.01 (0.67)    &   -0.10 (4.19)    &  0.055            &  0.049           \\\\\n",
       "\\end{tabular}\n"
      ],
      "text/markdown": [
       "\n",
       "| <!--/--> | 0 | 1 | p | SMD | \n",
       "|---|---|---|---|---|---|---|---|---|---|---|---|---|---|\n",
       "| n | 5739.48           | 5842.36           |                   |                   | \n",
       "| ventfreeday28 (mean (sd)) |   14.96 (16.33)   |   16.18 (36.90)   |  0.903            |  0.003            | \n",
       "| vasofreeday28 (mean (sd)) |   18.35 (13.77)   |   19.86 (20.23)   |  0.047            |  0.054            | \n",
       "| dobutamine_flag = 1 (%) |    62.0 (1.1)     |   196.3 (3.4)     | <0.001            |  0.155            | \n",
       "| day1 (mean (sd)) | 3523.72 (3747.62) | 3889.22 (4421.38) |  0.001            |  0.096            | \n",
       "| day2 (mean (sd)) | 2256.41 (2739.25) | 2484.97 (3305.21) | <0.001            |  0.132            | \n",
       "| day3 (mean (sd)) | 1018.42 (2558.93) | 1683.90 (3066.03) | <0.001            |  0.179            | \n",
       "| sofa_drop_2 (mean (sd)) |    1.00 (2.84)    |    0.55 (3.03)    | <0.001            |  0.128            | \n",
       "| sofa_drop_3 (mean (sd)) |    1.36 (3.05)    |    0.78 (3.57)    | <0.001            |  0.247            | \n",
       "| norepinephrine_max (mean (sd)) |    1.76 (3.26)    |    3.05 (8.49)    | <0.001            |  0.154            | \n",
       "| lactate_diff (mean (sd)) |    0.62 (2.08)    |    0.26 (1.77)    |  0.009            |  0.144            | \n",
       "| creatinine_diff (mean (sd)) |   -0.02 (0.96)    |    0.06 (0.93)    |  0.064            |  0.056            | \n",
       "| lactate_diff_24 (mean (sd)) |    0.54 (1.83)    |    0.16 (1.62)    | <0.001            |  0.172            | \n",
       "| creatinine_diff_24 (mean (sd)) |   -0.01 (0.67)    |   -0.10 (4.19)    |  0.055            |  0.049            | \n",
       "\n",
       "\n"
      ],
      "text/plain": [
       "                               0                 1                 p     \n",
       "n                              5739.48           5842.36                 \n",
       "ventfreeday28 (mean (sd))        14.96 (16.33)     16.18 (36.90)    0.903\n",
       "vasofreeday28 (mean (sd))        18.35 (13.77)     19.86 (20.23)    0.047\n",
       "dobutamine_flag = 1 (%)           62.0 (1.1)       196.3 (3.4)     <0.001\n",
       "day1 (mean (sd))               3523.72 (3747.62) 3889.22 (4421.38)  0.001\n",
       "day2 (mean (sd))               2256.41 (2739.25) 2484.97 (3305.21) <0.001\n",
       "day3 (mean (sd))               1018.42 (2558.93) 1683.90 (3066.03) <0.001\n",
       "sofa_drop_2 (mean (sd))           1.00 (2.84)       0.55 (3.03)    <0.001\n",
       "sofa_drop_3 (mean (sd))           1.36 (3.05)       0.78 (3.57)    <0.001\n",
       "norepinephrine_max (mean (sd))    1.76 (3.26)       3.05 (8.49)    <0.001\n",
       "lactate_diff (mean (sd))          0.62 (2.08)       0.26 (1.77)     0.009\n",
       "creatinine_diff (mean (sd))      -0.02 (0.96)       0.06 (0.93)     0.064\n",
       "lactate_diff_24 (mean (sd))       0.54 (1.83)       0.16 (1.62)    <0.001\n",
       "creatinine_diff_24 (mean (sd))   -0.01 (0.67)      -0.10 (4.19)     0.055\n",
       "                               SMD   \n",
       "n                                    \n",
       "ventfreeday28 (mean (sd))       0.003\n",
       "vasofreeday28 (mean (sd))       0.054\n",
       "dobutamine_flag = 1 (%)         0.155\n",
       "day1 (mean (sd))                0.096\n",
       "day2 (mean (sd))                0.132\n",
       "day3 (mean (sd))                0.179\n",
       "sofa_drop_2 (mean (sd))         0.128\n",
       "sofa_drop_3 (mean (sd))         0.247\n",
       "norepinephrine_max (mean (sd))  0.154\n",
       "lactate_diff (mean (sd))        0.144\n",
       "creatinine_diff (mean (sd))     0.056\n",
       "lactate_diff_24 (mean (sd))     0.172\n",
       "creatinine_diff_24 (mean (sd))  0.049"
      ]
     },
     "metadata": {},
     "output_type": "display_data"
    }
   ],
   "source": [
    "tab_wtd_df"
   ]
  },
  {
   "cell_type": "code",
   "execution_count": 17,
   "metadata": {},
   "outputs": [
    {
     "data": {
      "text/html": [
       "<table>\n",
       "<thead><tr><th scope=col>icustay_id</th><th scope=col>group</th><th scope=col>match</th></tr></thead>\n",
       "<tbody>\n",
       "\t<tr><td>262436</td><td>ctrl  </td><td>1     </td></tr>\n",
       "\t<tr><td>244460</td><td>ctrl  </td><td>2     </td></tr>\n",
       "\t<tr><td>298177</td><td>ctrl  </td><td>3     </td></tr>\n",
       "\t<tr><td>290165</td><td>ctrl  </td><td>4     </td></tr>\n",
       "\t<tr><td>278397</td><td>ctrl  </td><td>5     </td></tr>\n",
       "\t<tr><td>212022</td><td>ctrl  </td><td>6     </td></tr>\n",
       "</tbody>\n",
       "</table>\n"
      ],
      "text/latex": [
       "\\begin{tabular}{r|lll}\n",
       " icustay\\_id & group & match\\\\\n",
       "\\hline\n",
       "\t 262436 & ctrl   & 1     \\\\\n",
       "\t 244460 & ctrl   & 2     \\\\\n",
       "\t 298177 & ctrl   & 3     \\\\\n",
       "\t 290165 & ctrl   & 4     \\\\\n",
       "\t 278397 & ctrl   & 5     \\\\\n",
       "\t 212022 & ctrl   & 6     \\\\\n",
       "\\end{tabular}\n"
      ],
      "text/markdown": [
       "\n",
       "icustay_id | group | match | \n",
       "|---|---|---|---|---|---|\n",
       "| 262436 | ctrl   | 1      | \n",
       "| 244460 | ctrl   | 2      | \n",
       "| 298177 | ctrl   | 3      | \n",
       "| 290165 | ctrl   | 4      | \n",
       "| 278397 | ctrl   | 5      | \n",
       "| 212022 | ctrl   | 6      | \n",
       "\n",
       "\n"
      ],
      "text/plain": [
       "  icustay_id group match\n",
       "1 262436     ctrl  1    \n",
       "2 244460     ctrl  2    \n",
       "3 298177     ctrl  3    \n",
       "4 290165     ctrl  4    \n",
       "5 278397     ctrl  5    \n",
       "6 212022     ctrl  6    "
      ]
     },
     "metadata": {},
     "output_type": "display_data"
    }
   ],
   "source": [
    "ps_matches_df <- data.table::fread(file.path(data_dir, \"ps_matches_df.csv\"), data.table = FALSE)\n",
    "head(ps_matches_df)"
   ]
  },
  {
   "cell_type": "code",
   "execution_count": 18,
   "metadata": {},
   "outputs": [
    {
     "data": {
      "text/html": [
       "<table>\n",
       "<thead><tr><th scope=col>icustay_id</th><th scope=col>group</th><th scope=col>match</th><th scope=col>hadm_id</th><th scope=col>echo</th><th scope=col>intime</th><th scope=col>outtime</th><th scope=col>echo_time</th><th scope=col>deathtime</th><th scope=col>norepinephrine_max</th><th scope=col>⋯</th><th scope=col>day2</th><th scope=col>day3</th><th scope=col>down2</th><th scope=col>down3</th><th scope=col>lactate_diff</th><th scope=col>creatinine_diff</th><th scope=col>lactate_diff_24</th><th scope=col>creatinine_diff_24</th><th scope=col>ps_weight</th><th scope=col>ps</th></tr></thead>\n",
       "<tbody>\n",
       "\t<tr><td>262436             </td><td>ctrl               </td><td>1                  </td><td>133275             </td><td>0                  </td><td>2173-12-07 15:36:30</td><td>2173-12-09 21:27:39</td><td>NA                 </td><td>2173-12-09 18:30:00</td><td>4.46880            </td><td>⋯                  </td><td>       NA          </td><td>        NA         </td><td>       NA          </td><td>      NA           </td><td>NA                 </td><td> NA                </td><td>  NA               </td><td>-0.9               </td><td>2.235326           </td><td>0.5526379          </td></tr>\n",
       "\t<tr><td>244460             </td><td>ctrl               </td><td>2                  </td><td>177445             </td><td>0                  </td><td>2143-12-27 20:59:00</td><td>2143-12-29 20:04:00</td><td>NA                 </td><td>NA                 </td><td>3.79920            </td><td>⋯                  </td><td>1665.0000          </td><td>        NA         </td><td> 1457.250          </td><td>      NA           </td><td>NA                 </td><td>0.3                </td><td>  NA               </td><td> 0.3               </td><td>1.430385           </td><td>0.3008876          </td></tr>\n",
       "\t<tr><td>298177             </td><td>ctrl               </td><td>3                  </td><td>133566             </td><td>0                  </td><td>2166-07-17 16:15:16</td><td>2166-07-22 18:41:28</td><td>NA                 </td><td>2166-07-27 00:00:00</td><td>1.50273            </td><td>⋯                  </td><td> 996.6645          </td><td> -52.54445         </td><td> 6913.559          </td><td>7962.768           </td><td>NA                 </td><td>0.1                </td><td>  NA               </td><td> 0.0               </td><td>4.957195           </td><td>0.7982730          </td></tr>\n",
       "\t<tr><td>290165             </td><td>ctrl               </td><td>4                  </td><td>197570             </td><td>0                  </td><td>2129-12-24 05:33:11</td><td>2129-12-29 21:00:19</td><td>NA                 </td><td>NA                 </td><td>0.00000            </td><td>⋯                  </td><td>3867.3365          </td><td>2009.85431         </td><td> 2911.590          </td><td>4769.072           </td><td>NA                 </td><td>0.2                </td><td>  NA               </td><td> 0.2               </td><td>1.498298           </td><td>0.3325758          </td></tr>\n",
       "\t<tr><td>278397             </td><td>ctrl               </td><td>5                  </td><td>194360             </td><td>0                  </td><td>2187-08-28 19:40:43</td><td>2187-08-29 19:18:14</td><td>NA                 </td><td>NA                 </td><td>0.00000            </td><td>⋯                  </td><td>       NA          </td><td>        NA         </td><td>       NA          </td><td>      NA           </td><td>NA                 </td><td>0.4                </td><td>  NA               </td><td> 0.7               </td><td>4.070197           </td><td>0.7543116          </td></tr>\n",
       "\t<tr><td>212022             </td><td>ctrl               </td><td>6                  </td><td>159164             </td><td>0                  </td><td>2141-03-23 19:59:04</td><td>2141-03-26 10:52:57</td><td>NA                 </td><td>2141-04-12 00:02:00</td><td>0.00000            </td><td>⋯                  </td><td>2080.1075          </td><td>-359.61866         </td><td>-1339.657          </td><td>1100.069           </td><td>NA                 </td><td>0.2                </td><td>-1.9               </td><td> 0.3               </td><td>1.372052           </td><td>0.2711645          </td></tr>\n",
       "</tbody>\n",
       "</table>\n"
      ],
      "text/latex": [
       "\\begin{tabular}{r|lllllllllllllllllllllllllll}\n",
       " icustay\\_id & group & match & hadm\\_id & echo & intime & outtime & echo\\_time & deathtime & norepinephrine\\_max & ⋯ & day2 & day3 & down2 & down3 & lactate\\_diff & creatinine\\_diff & lactate\\_diff\\_24 & creatinine\\_diff\\_24 & ps\\_weight & ps\\\\\n",
       "\\hline\n",
       "\t 262436              & ctrl                & 1                   & 133275              & 0                   & 2173-12-07 15:36:30 & 2173-12-09 21:27:39 & NA                  & 2173-12-09 18:30:00 & 4.46880             & ⋯                   &        NA           &         NA          &        NA           &       NA            & NA                  &  NA                 &   NA                & -0.9                & 2.235326            & 0.5526379          \\\\\n",
       "\t 244460              & ctrl                & 2                   & 177445              & 0                   & 2143-12-27 20:59:00 & 2143-12-29 20:04:00 & NA                  & NA                  & 3.79920             & ⋯                   & 1665.0000           &         NA          &  1457.250           &       NA            & NA                  & 0.3                 &   NA                &  0.3                & 1.430385            & 0.3008876          \\\\\n",
       "\t 298177              & ctrl                & 3                   & 133566              & 0                   & 2166-07-17 16:15:16 & 2166-07-22 18:41:28 & NA                  & 2166-07-27 00:00:00 & 1.50273             & ⋯                   &  996.6645           &  -52.54445          &  6913.559           & 7962.768            & NA                  & 0.1                 &   NA                &  0.0                & 4.957195            & 0.7982730          \\\\\n",
       "\t 290165              & ctrl                & 4                   & 197570              & 0                   & 2129-12-24 05:33:11 & 2129-12-29 21:00:19 & NA                  & NA                  & 0.00000             & ⋯                   & 3867.3365           & 2009.85431          &  2911.590           & 4769.072            & NA                  & 0.2                 &   NA                &  0.2                & 1.498298            & 0.3325758          \\\\\n",
       "\t 278397              & ctrl                & 5                   & 194360              & 0                   & 2187-08-28 19:40:43 & 2187-08-29 19:18:14 & NA                  & NA                  & 0.00000             & ⋯                   &        NA           &         NA          &        NA           &       NA            & NA                  & 0.4                 &   NA                &  0.7                & 4.070197            & 0.7543116          \\\\\n",
       "\t 212022              & ctrl                & 6                   & 159164              & 0                   & 2141-03-23 19:59:04 & 2141-03-26 10:52:57 & NA                  & 2141-04-12 00:02:00 & 0.00000             & ⋯                   & 2080.1075           & -359.61866          & -1339.657           & 1100.069            & NA                  & 0.2                 & -1.9                &  0.3                & 1.372052            & 0.2711645          \\\\\n",
       "\\end{tabular}\n"
      ],
      "text/markdown": [
       "\n",
       "icustay_id | group | match | hadm_id | echo | intime | outtime | echo_time | deathtime | norepinephrine_max | ⋯ | day2 | day3 | down2 | down3 | lactate_diff | creatinine_diff | lactate_diff_24 | creatinine_diff_24 | ps_weight | ps | \n",
       "|---|---|---|---|---|---|\n",
       "| 262436              | ctrl                | 1                   | 133275              | 0                   | 2173-12-07 15:36:30 | 2173-12-09 21:27:39 | NA                  | 2173-12-09 18:30:00 | 4.46880             | ⋯                   |        NA           |         NA          |        NA           |       NA            | NA                  |  NA                 |   NA                | -0.9                | 2.235326            | 0.5526379           | \n",
       "| 244460              | ctrl                | 2                   | 177445              | 0                   | 2143-12-27 20:59:00 | 2143-12-29 20:04:00 | NA                  | NA                  | 3.79920             | ⋯                   | 1665.0000           |         NA          |  1457.250           |       NA            | NA                  | 0.3                 |   NA                |  0.3                | 1.430385            | 0.3008876           | \n",
       "| 298177              | ctrl                | 3                   | 133566              | 0                   | 2166-07-17 16:15:16 | 2166-07-22 18:41:28 | NA                  | 2166-07-27 00:00:00 | 1.50273             | ⋯                   |  996.6645           |  -52.54445          |  6913.559           | 7962.768            | NA                  | 0.1                 |   NA                |  0.0                | 4.957195            | 0.7982730           | \n",
       "| 290165              | ctrl                | 4                   | 197570              | 0                   | 2129-12-24 05:33:11 | 2129-12-29 21:00:19 | NA                  | NA                  | 0.00000             | ⋯                   | 3867.3365           | 2009.85431          |  2911.590           | 4769.072            | NA                  | 0.2                 |   NA                |  0.2                | 1.498298            | 0.3325758           | \n",
       "| 278397              | ctrl                | 5                   | 194360              | 0                   | 2187-08-28 19:40:43 | 2187-08-29 19:18:14 | NA                  | NA                  | 0.00000             | ⋯                   |        NA           |         NA          |        NA           |       NA            | NA                  | 0.4                 |   NA                |  0.7                | 4.070197            | 0.7543116           | \n",
       "| 212022              | ctrl                | 6                   | 159164              | 0                   | 2141-03-23 19:59:04 | 2141-03-26 10:52:57 | NA                  | 2141-04-12 00:02:00 | 0.00000             | ⋯                   | 2080.1075           | -359.61866          | -1339.657           | 1100.069            | NA                  | 0.2                 | -1.9                |  0.3                | 1.372052            | 0.2711645           | \n",
       "\n",
       "\n"
      ],
      "text/plain": [
       "  icustay_id group match hadm_id echo intime              outtime            \n",
       "1 262436     ctrl  1     133275  0    2173-12-07 15:36:30 2173-12-09 21:27:39\n",
       "2 244460     ctrl  2     177445  0    2143-12-27 20:59:00 2143-12-29 20:04:00\n",
       "3 298177     ctrl  3     133566  0    2166-07-17 16:15:16 2166-07-22 18:41:28\n",
       "4 290165     ctrl  4     197570  0    2129-12-24 05:33:11 2129-12-29 21:00:19\n",
       "5 278397     ctrl  5     194360  0    2187-08-28 19:40:43 2187-08-29 19:18:14\n",
       "6 212022     ctrl  6     159164  0    2141-03-23 19:59:04 2141-03-26 10:52:57\n",
       "  echo_time deathtime           norepinephrine_max ⋯ day2      day3      \n",
       "1 <NA>      2173-12-09 18:30:00 4.46880            ⋯        NA         NA\n",
       "2 <NA>      <NA>                3.79920            ⋯ 1665.0000         NA\n",
       "3 <NA>      2166-07-27 00:00:00 1.50273            ⋯  996.6645  -52.54445\n",
       "4 <NA>      <NA>                0.00000            ⋯ 3867.3365 2009.85431\n",
       "5 <NA>      <NA>                0.00000            ⋯        NA         NA\n",
       "6 <NA>      2141-04-12 00:02:00 0.00000            ⋯ 2080.1075 -359.61866\n",
       "  down2     down3    lactate_diff creatinine_diff lactate_diff_24\n",
       "1        NA       NA NA            NA               NA           \n",
       "2  1457.250       NA NA           0.3               NA           \n",
       "3  6913.559 7962.768 NA           0.1               NA           \n",
       "4  2911.590 4769.072 NA           0.2               NA           \n",
       "5        NA       NA NA           0.4               NA           \n",
       "6 -1339.657 1100.069 NA           0.2             -1.9           \n",
       "  creatinine_diff_24 ps_weight ps       \n",
       "1 -0.9               2.235326  0.5526379\n",
       "2  0.3               1.430385  0.3008876\n",
       "3  0.0               4.957195  0.7982730\n",
       "4  0.2               1.498298  0.3325758\n",
       "5  0.7               4.070197  0.7543116\n",
       "6  0.3               1.372052  0.2711645"
      ]
     },
     "metadata": {},
     "output_type": "display_data"
    }
   ],
   "source": [
    "ps_df <- ps_matches_df %>% left_join(subgroup, by = \"icustay_id\")\n",
    "head(ps_df)"
   ]
  },
  {
   "cell_type": "code",
   "execution_count": 19,
   "metadata": {},
   "outputs": [
    {
     "data": {
      "text/html": [
       "<table>\n",
       "<thead><tr><th scope=col>cov</th><th scope=col>p value (PS matching)</th></tr></thead>\n",
       "<tbody>\n",
       "\t<tr><td>n                 </td><td>                  </td></tr>\n",
       "\t<tr><td>ventfreeday28     </td><td>0.089             </td></tr>\n",
       "\t<tr><td>vasofreeday28     </td><td>0.004             </td></tr>\n",
       "\t<tr><td>dobutamine_flag   </td><td>0.077             </td></tr>\n",
       "\t<tr><td>day1              </td><td>0.046             </td></tr>\n",
       "\t<tr><td>day2              </td><td>0.002             </td></tr>\n",
       "\t<tr><td><span style=white-space:pre-wrap>day3              </span></td><td>&lt;0.001                                                 </td></tr>\n",
       "\t<tr><td><span style=white-space:pre-wrap>sofa_drop_2       </span></td><td>&lt;0.001                                                 </td></tr>\n",
       "\t<tr><td><span style=white-space:pre-wrap>sofa_drop_3       </span></td><td>&lt;0.001                                                 </td></tr>\n",
       "\t<tr><td>norepinephrine_max</td><td>&lt;0.001         </td></tr>\n",
       "\t<tr><td>lactate_diff      </td><td>0.558             </td></tr>\n",
       "\t<tr><td>creatinine_diff   </td><td>0.33              </td></tr>\n",
       "\t<tr><td>lactate_diff_24   </td><td>0.532             </td></tr>\n",
       "\t<tr><td>creatinine_diff_24</td><td>0.262             </td></tr>\n",
       "</tbody>\n",
       "</table>\n"
      ],
      "text/latex": [
       "\\begin{tabular}{r|ll}\n",
       " cov & p value (PS matching)\\\\\n",
       "\\hline\n",
       "\t n                  &                   \\\\\n",
       "\t ventfreeday28      & 0.089             \\\\\n",
       "\t vasofreeday28      & 0.004             \\\\\n",
       "\t dobutamine\\_flag    & 0.077               \\\\\n",
       "\t day1               & 0.046             \\\\\n",
       "\t day2               & 0.002             \\\\\n",
       "\t day3               & <0.001            \\\\\n",
       "\t sofa\\_drop\\_2        & <0.001                \\\\\n",
       "\t sofa\\_drop\\_3        & <0.001                \\\\\n",
       "\t norepinephrine\\_max & <0.001              \\\\\n",
       "\t lactate\\_diff       & 0.558               \\\\\n",
       "\t creatinine\\_diff    & 0.33                \\\\\n",
       "\t lactate\\_diff\\_24    & 0.532                 \\\\\n",
       "\t creatinine\\_diff\\_24 & 0.262                 \\\\\n",
       "\\end{tabular}\n"
      ],
      "text/markdown": [
       "\n",
       "cov | p value (PS matching) | \n",
       "|---|---|---|---|---|---|---|---|---|---|---|---|---|---|\n",
       "| n                  |                    | \n",
       "| ventfreeday28      | 0.089              | \n",
       "| vasofreeday28      | 0.004              | \n",
       "| dobutamine_flag    | 0.077              | \n",
       "| day1               | 0.046              | \n",
       "| day2               | 0.002              | \n",
       "| day3               | <0.001             | \n",
       "| sofa_drop_2        | <0.001             | \n",
       "| sofa_drop_3        | <0.001             | \n",
       "| norepinephrine_max | <0.001             | \n",
       "| lactate_diff       | 0.558              | \n",
       "| creatinine_diff    | 0.33               | \n",
       "| lactate_diff_24    | 0.532              | \n",
       "| creatinine_diff_24 | 0.262              | \n",
       "\n",
       "\n"
      ],
      "text/plain": [
       "   cov                p value (PS matching)\n",
       "1  n                                       \n",
       "2  ventfreeday28      0.089                \n",
       "3  vasofreeday28      0.004                \n",
       "4  dobutamine_flag    0.077                \n",
       "5  day1               0.046                \n",
       "6  day2               0.002                \n",
       "7  day3               <0.001               \n",
       "8  sofa_drop_2        <0.001               \n",
       "9  sofa_drop_3        <0.001               \n",
       "10 norepinephrine_max <0.001               \n",
       "11 lactate_diff       0.558                \n",
       "12 creatinine_diff    0.33                 \n",
       "13 lactate_diff_24    0.532                \n",
       "14 creatinine_diff_24 0.262                "
      ]
     },
     "metadata": {},
     "output_type": "display_data"
    }
   ],
   "source": [
    "tab_ps_pval_df <- features %>% map(function(feature) {\n",
    "    df <- ps_df %>%\n",
    "    select(!! as.name(feature), match, echo) %>%\n",
    "    filter(!is.na(!! as.name(feature)))\n",
    "    matched <- (df %>% filter(echo == 0) %>% rename(ctrl = (!! as.name(feature))) %>% select(ctrl, match)) %>%\n",
    "    inner_join(df %>% filter(echo == 1) %>% rename(trtd = (!! as.name(feature))) %>% select(trtd, match),\n",
    "              by = \"match\") %>%\n",
    "    filter(!is.na(ctrl), !is.na(trtd))\n",
    "    \n",
    "    if (is.factor(ps_df %>% pull(feature))) {\n",
    "        tab <- table(matched$trtd, matched$ctrl, dnn = c(\"Echo\", \"Non-Echo\"))\n",
    "        tst <- mcnemar.test(tab)\n",
    "    } else {\n",
    "        tst <- t.test(matched$trtd, matched$ctrl, paired = TRUE)\n",
    "    }\n",
    "    \n",
    "    data.frame(cov = feature, pval = tst$p.val, stringsAsFactors = FALSE)\n",
    "}) %>%\n",
    "data.table::rbindlist() %>%\n",
    "as.data.frame(stringsAsFactors = FALSE) %>%\n",
    "mutate(pval = case_when(\n",
    "    pval < 0.001 ~ \"<0.001\",\n",
    "    TRUE ~ as.character(round(pval, 3))\n",
    ")) %>%\n",
    "rbind(data.frame(cov = \"n\", pval = \"\", stringsAsFactors = FALSE), .) %>%\n",
    "setNames(c(\"cov\", \"p value (PS matching)\"))\n",
    "\n",
    "tab_ps_pval_df"
   ]
  },
  {
   "cell_type": "code",
   "execution_count": 20,
   "metadata": {},
   "outputs": [],
   "source": [
    "tab_ps <- CreateTableOne(vars = features, strata = \"echo\", data = ps_df)\n",
    "capture.output(tab_ps_df <- tab_ps %>%\n",
    "               print(smd = TRUE) %>%\n",
    "               as.data.frame(stringsAsFactors = FALSE) %>%\n",
    "               select(-test)) %>% invisible"
   ]
  },
  {
   "cell_type": "code",
   "execution_count": 21,
   "metadata": {},
   "outputs": [
    {
     "data": {
      "text/html": [
       "<table>\n",
       "<thead><tr><th></th><th scope=col>0</th><th scope=col>1</th><th scope=col>p</th><th scope=col>SMD</th></tr></thead>\n",
       "<tbody>\n",
       "\t<tr><th scope=row>n</th><td>   1626          </td><td>   1626          </td><td>                 </td><td>                 </td></tr>\n",
       "\t<tr><th scope=row>ventfreeday28 (mean (sd))</th><td>  18.10 (14.70)  </td><td>  19.60 (32.64)  </td><td> 0.090           </td><td> 0.059           </td></tr>\n",
       "\t<tr><th scope=row>vasofreeday28 (mean (sd))</th><td>  19.31 (12.73)  </td><td>  20.81 (16.95)  </td><td> 0.004           </td><td> 0.100           </td></tr>\n",
       "\t<tr><th scope=row>dobutamine_flag = 1 (%)</th><td>     20 (1.2)    </td><td>     34 (2.1)    </td><td> 0.074           </td><td> 0.067           </td></tr>\n",
       "\t<tr><th scope=row>day1 (mean (sd))</th><td>2112.35 (3372.21)</td><td>2432.62 (3768.74)</td><td> 0.016           </td><td> 0.090           </td></tr>\n",
       "\t<tr><th scope=row>day2 (mean (sd))</th><td> 900.41 (2557.54)</td><td>1275.37 (2872.81)</td><td>&lt;0.001        </td><td> 0.138           </td></tr>\n",
       "\t<tr><th scope=row>day3 (mean (sd))</th><td> 253.25 (2147.55)</td><td> 772.04 (2683.67)</td><td>&lt;0.001        </td><td> 0.213           </td></tr>\n",
       "\t<tr><th scope=row>sofa_drop_2 (mean (sd))</th><td><span style=white-space:pre-wrap>   1.31 (4.55)   </span></td><td><span style=white-space:pre-wrap>   0.68 (3.26)   </span></td><td>&lt;0.001                                                </td><td> 0.159                                                   </td></tr>\n",
       "\t<tr><th scope=row>sofa_drop_3 (mean (sd))</th><td><span style=white-space:pre-wrap>   2.46 (4.76)   </span></td><td><span style=white-space:pre-wrap>   1.15 (3.99)   </span></td><td>&lt;0.001                                                </td><td> 0.299                                                   </td></tr>\n",
       "\t<tr><th scope=row>norepinephrine_max (mean (sd))</th><td>   1.04 (2.68)   </td><td>   1.38 (3.13)   </td><td> 0.001           </td><td> 0.117           </td></tr>\n",
       "\t<tr><th scope=row>lactate_diff (mean (sd))</th><td>   0.53 (2.40)   </td><td>   0.23 (1.94)   </td><td> 0.038           </td><td> 0.138           </td></tr>\n",
       "\t<tr><th scope=row>creatinine_diff (mean (sd))</th><td>   0.17 (0.92)   </td><td>   0.13 (0.73)   </td><td> 0.148           </td><td> 0.056           </td></tr>\n",
       "\t<tr><th scope=row>lactate_diff_24 (mean (sd))</th><td>   0.37 (2.11)   </td><td>   0.12 (1.65)   </td><td> 0.033           </td><td> 0.128           </td></tr>\n",
       "\t<tr><th scope=row>creatinine_diff_24 (mean (sd))</th><td>   0.12 (0.65)   </td><td>   0.08 (0.58)   </td><td> 0.144           </td><td> 0.055           </td></tr>\n",
       "</tbody>\n",
       "</table>\n"
      ],
      "text/latex": [
       "\\begin{tabular}{r|llll}\n",
       "  & 0 & 1 & p & SMD\\\\\n",
       "\\hline\n",
       "\tn &    1626           &    1626           &                   &                  \\\\\n",
       "\tventfreeday28 (mean (sd)) &   18.10 (14.70)   &   19.60 (32.64)   &  0.090            &  0.059           \\\\\n",
       "\tvasofreeday28 (mean (sd)) &   19.31 (12.73)   &   20.81 (16.95)   &  0.004            &  0.100           \\\\\n",
       "\tdobutamine\\_flag = 1 (\\%) &      20 (1.2)     &      34 (2.1)     &  0.074            &  0.067           \\\\\n",
       "\tday1 (mean (sd)) & 2112.35 (3372.21) & 2432.62 (3768.74) &  0.016            &  0.090           \\\\\n",
       "\tday2 (mean (sd)) &  900.41 (2557.54) & 1275.37 (2872.81) & <0.001            &  0.138           \\\\\n",
       "\tday3 (mean (sd)) &  253.25 (2147.55) &  772.04 (2683.67) & <0.001            &  0.213           \\\\\n",
       "\tsofa\\_drop\\_2 (mean (sd)) &    1.31 (4.55)    &    0.68 (3.26)    & <0.001            &  0.159           \\\\\n",
       "\tsofa\\_drop\\_3 (mean (sd)) &    2.46 (4.76)    &    1.15 (3.99)    & <0.001            &  0.299           \\\\\n",
       "\tnorepinephrine\\_max (mean (sd)) &    1.04 (2.68)    &    1.38 (3.13)    &  0.001            &  0.117           \\\\\n",
       "\tlactate\\_diff (mean (sd)) &    0.53 (2.40)    &    0.23 (1.94)    &  0.038            &  0.138           \\\\\n",
       "\tcreatinine\\_diff (mean (sd)) &    0.17 (0.92)    &    0.13 (0.73)    &  0.148            &  0.056           \\\\\n",
       "\tlactate\\_diff\\_24 (mean (sd)) &    0.37 (2.11)    &    0.12 (1.65)    &  0.033            &  0.128           \\\\\n",
       "\tcreatinine\\_diff\\_24 (mean (sd)) &    0.12 (0.65)    &    0.08 (0.58)    &  0.144            &  0.055           \\\\\n",
       "\\end{tabular}\n"
      ],
      "text/markdown": [
       "\n",
       "| <!--/--> | 0 | 1 | p | SMD | \n",
       "|---|---|---|---|---|---|---|---|---|---|---|---|---|---|\n",
       "| n |    1626           |    1626           |                   |                   | \n",
       "| ventfreeday28 (mean (sd)) |   18.10 (14.70)   |   19.60 (32.64)   |  0.090            |  0.059            | \n",
       "| vasofreeday28 (mean (sd)) |   19.31 (12.73)   |   20.81 (16.95)   |  0.004            |  0.100            | \n",
       "| dobutamine_flag = 1 (%) |      20 (1.2)     |      34 (2.1)     |  0.074            |  0.067            | \n",
       "| day1 (mean (sd)) | 2112.35 (3372.21) | 2432.62 (3768.74) |  0.016            |  0.090            | \n",
       "| day2 (mean (sd)) |  900.41 (2557.54) | 1275.37 (2872.81) | <0.001            |  0.138            | \n",
       "| day3 (mean (sd)) |  253.25 (2147.55) |  772.04 (2683.67) | <0.001            |  0.213            | \n",
       "| sofa_drop_2 (mean (sd)) |    1.31 (4.55)    |    0.68 (3.26)    | <0.001            |  0.159            | \n",
       "| sofa_drop_3 (mean (sd)) |    2.46 (4.76)    |    1.15 (3.99)    | <0.001            |  0.299            | \n",
       "| norepinephrine_max (mean (sd)) |    1.04 (2.68)    |    1.38 (3.13)    |  0.001            |  0.117            | \n",
       "| lactate_diff (mean (sd)) |    0.53 (2.40)    |    0.23 (1.94)    |  0.038            |  0.138            | \n",
       "| creatinine_diff (mean (sd)) |    0.17 (0.92)    |    0.13 (0.73)    |  0.148            |  0.056            | \n",
       "| lactate_diff_24 (mean (sd)) |    0.37 (2.11)    |    0.12 (1.65)    |  0.033            |  0.128            | \n",
       "| creatinine_diff_24 (mean (sd)) |    0.12 (0.65)    |    0.08 (0.58)    |  0.144            |  0.055            | \n",
       "\n",
       "\n"
      ],
      "text/plain": [
       "                               0                 1                 p     \n",
       "n                                 1626              1626                 \n",
       "ventfreeday28 (mean (sd))        18.10 (14.70)     19.60 (32.64)    0.090\n",
       "vasofreeday28 (mean (sd))        19.31 (12.73)     20.81 (16.95)    0.004\n",
       "dobutamine_flag = 1 (%)             20 (1.2)          34 (2.1)      0.074\n",
       "day1 (mean (sd))               2112.35 (3372.21) 2432.62 (3768.74)  0.016\n",
       "day2 (mean (sd))                900.41 (2557.54) 1275.37 (2872.81) <0.001\n",
       "day3 (mean (sd))                253.25 (2147.55)  772.04 (2683.67) <0.001\n",
       "sofa_drop_2 (mean (sd))           1.31 (4.55)       0.68 (3.26)    <0.001\n",
       "sofa_drop_3 (mean (sd))           2.46 (4.76)       1.15 (3.99)    <0.001\n",
       "norepinephrine_max (mean (sd))    1.04 (2.68)       1.38 (3.13)     0.001\n",
       "lactate_diff (mean (sd))          0.53 (2.40)       0.23 (1.94)     0.038\n",
       "creatinine_diff (mean (sd))       0.17 (0.92)       0.13 (0.73)     0.148\n",
       "lactate_diff_24 (mean (sd))       0.37 (2.11)       0.12 (1.65)     0.033\n",
       "creatinine_diff_24 (mean (sd))    0.12 (0.65)       0.08 (0.58)     0.144\n",
       "                               SMD   \n",
       "n                                    \n",
       "ventfreeday28 (mean (sd))       0.059\n",
       "vasofreeday28 (mean (sd))       0.100\n",
       "dobutamine_flag = 1 (%)         0.067\n",
       "day1 (mean (sd))                0.090\n",
       "day2 (mean (sd))                0.138\n",
       "day3 (mean (sd))                0.213\n",
       "sofa_drop_2 (mean (sd))         0.159\n",
       "sofa_drop_3 (mean (sd))         0.299\n",
       "norepinephrine_max (mean (sd))  0.117\n",
       "lactate_diff (mean (sd))        0.138\n",
       "creatinine_diff (mean (sd))     0.056\n",
       "lactate_diff_24 (mean (sd))     0.128\n",
       "creatinine_diff_24 (mean (sd))  0.055"
      ]
     },
     "metadata": {},
     "output_type": "display_data"
    }
   ],
   "source": [
    "tab_ps_df"
   ]
  },
  {
   "cell_type": "code",
   "execution_count": 22,
   "metadata": {},
   "outputs": [
    {
     "data": {
      "text/html": [
       "<table>\n",
       "<thead><tr><th scope=col>cov</th><th scope=col>Non-Echo</th><th scope=col>Echo</th><th scope=col>p value</th><th scope=col>SMD</th></tr></thead>\n",
       "<tbody>\n",
       "\t<tr><td>n                             </td><td>   3099                       </td><td>   3262                       </td><td>                              </td><td>                              </td></tr>\n",
       "\t<tr><td>ventfreeday28 (mean (sd))     </td><td>  19.09 (13.53)               </td><td>  18.02 (25.13)               </td><td> 0.033                        </td><td> 0.053                        </td></tr>\n",
       "\t<tr><td>vasofreeday28 (mean (sd))     </td><td>  20.25 (12.61)               </td><td>  20.13 (14.91)               </td><td> 0.741                        </td><td> 0.008                        </td></tr>\n",
       "\t<tr><td><span style=white-space:pre-wrap>dobutamine_flag = 1 (%)       </span></td><td><span style=white-space:pre-wrap>0.7%             </span>             </td><td><span style=white-space:pre-wrap>4.2%             </span>             </td><td>&lt;0.001                                                             </td><td> 0.224                                                                </td></tr>\n",
       "\t<tr><td><span style=white-space:pre-wrap>day1 (mean (sd))              </span></td><td>1939.14 (3181.88)                                                     </td><td>2456.38 (3853.04)                                                     </td><td>&lt;0.001                                                             </td><td> 0.146                                                                </td></tr>\n",
       "\t<tr><td><span style=white-space:pre-wrap>day2 (mean (sd))              </span></td><td> 835.26 (2429.91)                                                     </td><td>1258.31 (2933.84)                                                     </td><td>&lt;0.001                                                             </td><td> 0.157                                                                </td></tr>\n",
       "\t<tr><td><span style=white-space:pre-wrap>day3 (mean (sd))              </span></td><td> 256.15 (2108.02)                                                     </td><td> 686.71 (2614.29)                                                     </td><td>&lt;0.001                                                             </td><td> 0.181                                                                </td></tr>\n",
       "\t<tr><td>sofa_drop_2 (mean (sd))       </td><td>   1.22 (4.34)                </td><td>   0.89 (3.39)                </td><td> 0.001                        </td><td> 0.086                        </td></tr>\n",
       "\t<tr><td><span style=white-space:pre-wrap>sofa_drop_3 (mean (sd))       </span></td><td><span style=white-space:pre-wrap>   2.29 (4.49)   </span>             </td><td><span style=white-space:pre-wrap>   1.49 (4.07)   </span>             </td><td>&lt;0.001                                                             </td><td> 0.186                                                                </td></tr>\n",
       "\t<tr><td>norepinephrine_max (mean (sd))                           </td><td><span style=white-space:pre-wrap>   0.81 (2.39)   </span></td><td><span style=white-space:pre-wrap>   1.78 (5.69)   </span></td><td>&lt;0.001                                                </td><td> 0.221                                                   </td></tr>\n",
       "\t<tr><td>lactate_diff (mean (sd))      </td><td>   0.55 (2.39)                </td><td>   0.27 (1.86)                </td><td> 0.009                        </td><td> 0.130                        </td></tr>\n",
       "\t<tr><td>creatinine_diff (mean (sd))   </td><td>   0.19 (0.87)                </td><td>   0.13 (0.85)                </td><td> 0.011                        </td><td> 0.071                        </td></tr>\n",
       "\t<tr><td><span style=white-space:pre-wrap>lactate_diff_24 (mean (sd))   </span></td><td><span style=white-space:pre-wrap>   0.48 (2.07)   </span>             </td><td><span style=white-space:pre-wrap>   0.14 (1.60)   </span>             </td><td>&lt;0.001                                                             </td><td> 0.182                                                                </td></tr>\n",
       "\t<tr><td>creatinine_diff_24 (mean (sd))</td><td>   0.13 (0.67)                </td><td>   0.03 (2.67)                </td><td> 0.049                        </td><td> 0.053                        </td></tr>\n",
       "</tbody>\n",
       "</table>\n"
      ],
      "text/latex": [
       "\\begin{tabular}{r|lllll}\n",
       " cov & Non-Echo & Echo & p value & SMD\\\\\n",
       "\\hline\n",
       "\t n                              &    3099                        &    3262                        &                                &                               \\\\\n",
       "\t ventfreeday28 (mean (sd))      &   19.09 (13.53)                &   18.02 (25.13)                &  0.033                         &  0.053                        \\\\\n",
       "\t vasofreeday28 (mean (sd))      &   20.25 (12.61)                &   20.13 (14.91)                &  0.741                         &  0.008                        \\\\\n",
       "\t dobutamine\\_flag = 1 (\\%)        & 0.7\\%                             & 4.2\\%                             & <0.001                             &  0.224                            \\\\\n",
       "\t day1 (mean (sd))               & 1939.14 (3181.88)              & 2456.38 (3853.04)              & <0.001                         &  0.146                        \\\\\n",
       "\t day2 (mean (sd))               &  835.26 (2429.91)              & 1258.31 (2933.84)              & <0.001                         &  0.157                        \\\\\n",
       "\t day3 (mean (sd))               &  256.15 (2108.02)              &  686.71 (2614.29)              & <0.001                         &  0.181                        \\\\\n",
       "\t sofa\\_drop\\_2 (mean (sd))        &    1.22 (4.34)                     &    0.89 (3.39)                     &  0.001                             &  0.086                            \\\\\n",
       "\t sofa\\_drop\\_3 (mean (sd))        &    2.29 (4.49)                     &    1.49 (4.07)                     & <0.001                             &  0.186                            \\\\\n",
       "\t norepinephrine\\_max (mean (sd)) &    0.81 (2.39)                   &    1.78 (5.69)                   & <0.001                           &  0.221                          \\\\\n",
       "\t lactate\\_diff (mean (sd))       &    0.55 (2.39)                   &    0.27 (1.86)                   &  0.009                           &  0.130                          \\\\\n",
       "\t creatinine\\_diff (mean (sd))    &    0.19 (0.87)                   &    0.13 (0.85)                   &  0.011                           &  0.071                          \\\\\n",
       "\t lactate\\_diff\\_24 (mean (sd))    &    0.48 (2.07)                     &    0.14 (1.60)                     & <0.001                             &  0.182                            \\\\\n",
       "\t creatinine\\_diff\\_24 (mean (sd)) &    0.13 (0.67)                     &    0.03 (2.67)                     &  0.049                             &  0.053                            \\\\\n",
       "\\end{tabular}\n"
      ],
      "text/markdown": [
       "\n",
       "cov | Non-Echo | Echo | p value | SMD | \n",
       "|---|---|---|---|---|---|---|---|---|---|---|---|---|---|\n",
       "| n                              |    3099                        |    3262                        |                                |                                | \n",
       "| ventfreeday28 (mean (sd))      |   19.09 (13.53)                |   18.02 (25.13)                |  0.033                         |  0.053                         | \n",
       "| vasofreeday28 (mean (sd))      |   20.25 (12.61)                |   20.13 (14.91)                |  0.741                         |  0.008                         | \n",
       "| dobutamine_flag = 1 (%)        | 0.7%                           | 4.2%                           | <0.001                         |  0.224                         | \n",
       "| day1 (mean (sd))               | 1939.14 (3181.88)              | 2456.38 (3853.04)              | <0.001                         |  0.146                         | \n",
       "| day2 (mean (sd))               |  835.26 (2429.91)              | 1258.31 (2933.84)              | <0.001                         |  0.157                         | \n",
       "| day3 (mean (sd))               |  256.15 (2108.02)              |  686.71 (2614.29)              | <0.001                         |  0.181                         | \n",
       "| sofa_drop_2 (mean (sd))        |    1.22 (4.34)                 |    0.89 (3.39)                 |  0.001                         |  0.086                         | \n",
       "| sofa_drop_3 (mean (sd))        |    2.29 (4.49)                 |    1.49 (4.07)                 | <0.001                         |  0.186                         | \n",
       "| norepinephrine_max (mean (sd)) |    0.81 (2.39)                 |    1.78 (5.69)                 | <0.001                         |  0.221                         | \n",
       "| lactate_diff (mean (sd))       |    0.55 (2.39)                 |    0.27 (1.86)                 |  0.009                         |  0.130                         | \n",
       "| creatinine_diff (mean (sd))    |    0.19 (0.87)                 |    0.13 (0.85)                 |  0.011                         |  0.071                         | \n",
       "| lactate_diff_24 (mean (sd))    |    0.48 (2.07)                 |    0.14 (1.60)                 | <0.001                         |  0.182                         | \n",
       "| creatinine_diff_24 (mean (sd)) |    0.13 (0.67)                 |    0.03 (2.67)                 |  0.049                         |  0.053                         | \n",
       "\n",
       "\n"
      ],
      "text/plain": [
       "   cov                            Non-Echo          Echo              p value\n",
       "1  n                                 3099              3262                  \n",
       "2  ventfreeday28 (mean (sd))        19.09 (13.53)     18.02 (25.13)    0.033 \n",
       "3  vasofreeday28 (mean (sd))        20.25 (12.61)     20.13 (14.91)    0.741 \n",
       "4  dobutamine_flag = 1 (%)        0.7%              4.2%              <0.001 \n",
       "5  day1 (mean (sd))               1939.14 (3181.88) 2456.38 (3853.04) <0.001 \n",
       "6  day2 (mean (sd))                835.26 (2429.91) 1258.31 (2933.84) <0.001 \n",
       "7  day3 (mean (sd))                256.15 (2108.02)  686.71 (2614.29) <0.001 \n",
       "8  sofa_drop_2 (mean (sd))           1.22 (4.34)       0.89 (3.39)     0.001 \n",
       "9  sofa_drop_3 (mean (sd))           2.29 (4.49)       1.49 (4.07)    <0.001 \n",
       "10 norepinephrine_max (mean (sd))    0.81 (2.39)       1.78 (5.69)    <0.001 \n",
       "11 lactate_diff (mean (sd))          0.55 (2.39)       0.27 (1.86)     0.009 \n",
       "12 creatinine_diff (mean (sd))       0.19 (0.87)       0.13 (0.85)     0.011 \n",
       "13 lactate_diff_24 (mean (sd))       0.48 (2.07)       0.14 (1.60)    <0.001 \n",
       "14 creatinine_diff_24 (mean (sd))    0.13 (0.67)       0.03 (2.67)     0.049 \n",
       "   SMD   \n",
       "1        \n",
       "2   0.053\n",
       "3   0.008\n",
       "4   0.224\n",
       "5   0.146\n",
       "6   0.157\n",
       "7   0.181\n",
       "8   0.086\n",
       "9   0.186\n",
       "10  0.221\n",
       "11  0.130\n",
       "12  0.071\n",
       "13  0.182\n",
       "14  0.053"
      ]
     },
     "metadata": {},
     "output_type": "display_data"
    }
   ],
   "source": [
    "tab_fmt <- tab_df %>%\n",
    "setNames(c(\"ctrl\", \"trtd\", \"pval\", \"smd\")) %>%\n",
    "mutate(cov = rownames(.)) %>%\n",
    "mutate(ctrl = ifelse((grepl(\"%\", cov) & grepl(\"=\", cov)) | grepl(\"^\\\\s+\", cov),\n",
    "                     str_extract(ctrl, \"\\\\((.*?)\\\\)\") %>% str_replace_all(\"\\\\(|\\\\)\", \"\") %>% sprintf(\"%s%%\", .),\n",
    "                     ctrl)) %>%\n",
    "mutate(trtd = ifelse((grepl(\"%\", cov) & grepl(\"=\", cov)) | grepl(\"^\\\\s+\", cov),\n",
    "                     str_extract(trtd, \"\\\\((.*?)\\\\)\") %>% str_replace_all(\"\\\\(|\\\\)\", \"\") %>% sprintf(\"%s%%\", .),\n",
    "                     trtd)) %>%\n",
    "select(cov, ctrl, trtd, pval, smd) %>%\n",
    "setNames(c(\"cov\", \"Non-Echo\", \"Echo\", \"p value\", \"SMD\"))\n",
    "\n",
    "tab_fmt"
   ]
  },
  {
   "cell_type": "code",
   "execution_count": 23,
   "metadata": {},
   "outputs": [
    {
     "data": {
      "text/html": [
       "<table>\n",
       "<thead><tr><th scope=col>cov</th><th scope=col>Non-Echo (weighted cohort)</th><th scope=col>Echo (weighted cohort)</th><th scope=col>p value (IPW)</th><th scope=col>SMD (weighted cohort)</th></tr></thead>\n",
       "<tbody>\n",
       "\t<tr><td>n                             </td><td>5739.48                       </td><td>5842.36                       </td><td>                              </td><td>                              </td></tr>\n",
       "\t<tr><td>ventfreeday28 (mean (sd))     </td><td>  14.96 (16.33)               </td><td>  16.18 (36.90)               </td><td> 0.903                        </td><td> 0.003                        </td></tr>\n",
       "\t<tr><td>vasofreeday28 (mean (sd))     </td><td>  18.35 (13.77)               </td><td>  19.86 (20.23)               </td><td> 0.047                        </td><td> 0.054                        </td></tr>\n",
       "\t<tr><td><span style=white-space:pre-wrap>dobutamine_flag = 1 (%)       </span></td><td><span style=white-space:pre-wrap>1.1%             </span>             </td><td><span style=white-space:pre-wrap>3.4%             </span>             </td><td>&lt;0.001                                                             </td><td> 0.155                                                                </td></tr>\n",
       "\t<tr><td>day1 (mean (sd))              </td><td>3523.72 (3747.62)             </td><td>3889.22 (4421.38)             </td><td> 0.001                        </td><td> 0.096                        </td></tr>\n",
       "\t<tr><td><span style=white-space:pre-wrap>day2 (mean (sd))              </span></td><td>2256.41 (2739.25)                                                     </td><td>2484.97 (3305.21)                                                     </td><td>&lt;0.001                                                             </td><td> 0.132                                                                </td></tr>\n",
       "\t<tr><td><span style=white-space:pre-wrap>day3 (mean (sd))              </span></td><td>1018.42 (2558.93)                                                     </td><td>1683.90 (3066.03)                                                     </td><td>&lt;0.001                                                             </td><td> 0.179                                                                </td></tr>\n",
       "\t<tr><td><span style=white-space:pre-wrap>sofa_drop_2 (mean (sd))       </span></td><td><span style=white-space:pre-wrap>   1.00 (2.84)   </span>             </td><td><span style=white-space:pre-wrap>   0.55 (3.03)   </span>             </td><td>&lt;0.001                                                             </td><td> 0.128                                                                </td></tr>\n",
       "\t<tr><td><span style=white-space:pre-wrap>sofa_drop_3 (mean (sd))       </span></td><td><span style=white-space:pre-wrap>   1.36 (3.05)   </span>             </td><td><span style=white-space:pre-wrap>   0.78 (3.57)   </span>             </td><td>&lt;0.001                                                             </td><td> 0.247                                                                </td></tr>\n",
       "\t<tr><td>norepinephrine_max (mean (sd))                           </td><td><span style=white-space:pre-wrap>   1.76 (3.26)   </span></td><td><span style=white-space:pre-wrap>   3.05 (8.49)   </span></td><td>&lt;0.001                                                </td><td> 0.154                                                   </td></tr>\n",
       "\t<tr><td>lactate_diff (mean (sd))      </td><td>   0.62 (2.08)                </td><td>   0.26 (1.77)                </td><td> 0.009                        </td><td> 0.144                        </td></tr>\n",
       "\t<tr><td>creatinine_diff (mean (sd))   </td><td>  -0.02 (0.96)                </td><td>   0.06 (0.93)                </td><td> 0.064                        </td><td> 0.056                        </td></tr>\n",
       "\t<tr><td><span style=white-space:pre-wrap>lactate_diff_24 (mean (sd))   </span></td><td><span style=white-space:pre-wrap>   0.54 (1.83)   </span>             </td><td><span style=white-space:pre-wrap>   0.16 (1.62)   </span>             </td><td>&lt;0.001                                                             </td><td> 0.172                                                                </td></tr>\n",
       "\t<tr><td>creatinine_diff_24 (mean (sd))</td><td>  -0.01 (0.67)                </td><td>  -0.10 (4.19)                </td><td> 0.055                        </td><td> 0.049                        </td></tr>\n",
       "</tbody>\n",
       "</table>\n"
      ],
      "text/latex": [
       "\\begin{tabular}{r|lllll}\n",
       " cov & Non-Echo (weighted cohort) & Echo (weighted cohort) & p value (IPW) & SMD (weighted cohort)\\\\\n",
       "\\hline\n",
       "\t n                              & 5739.48                        & 5842.36                        &                                &                               \\\\\n",
       "\t ventfreeday28 (mean (sd))      &   14.96 (16.33)                &   16.18 (36.90)                &  0.903                         &  0.003                        \\\\\n",
       "\t vasofreeday28 (mean (sd))      &   18.35 (13.77)                &   19.86 (20.23)                &  0.047                         &  0.054                        \\\\\n",
       "\t dobutamine\\_flag = 1 (\\%)        & 1.1\\%                             & 3.4\\%                             & <0.001                             &  0.155                            \\\\\n",
       "\t day1 (mean (sd))               & 3523.72 (3747.62)              & 3889.22 (4421.38)              &  0.001                         &  0.096                        \\\\\n",
       "\t day2 (mean (sd))               & 2256.41 (2739.25)              & 2484.97 (3305.21)              & <0.001                         &  0.132                        \\\\\n",
       "\t day3 (mean (sd))               & 1018.42 (2558.93)              & 1683.90 (3066.03)              & <0.001                         &  0.179                        \\\\\n",
       "\t sofa\\_drop\\_2 (mean (sd))        &    1.00 (2.84)                     &    0.55 (3.03)                     & <0.001                             &  0.128                            \\\\\n",
       "\t sofa\\_drop\\_3 (mean (sd))        &    1.36 (3.05)                     &    0.78 (3.57)                     & <0.001                             &  0.247                            \\\\\n",
       "\t norepinephrine\\_max (mean (sd)) &    1.76 (3.26)                   &    3.05 (8.49)                   & <0.001                           &  0.154                          \\\\\n",
       "\t lactate\\_diff (mean (sd))       &    0.62 (2.08)                   &    0.26 (1.77)                   &  0.009                           &  0.144                          \\\\\n",
       "\t creatinine\\_diff (mean (sd))    &   -0.02 (0.96)                   &    0.06 (0.93)                   &  0.064                           &  0.056                          \\\\\n",
       "\t lactate\\_diff\\_24 (mean (sd))    &    0.54 (1.83)                     &    0.16 (1.62)                     & <0.001                             &  0.172                            \\\\\n",
       "\t creatinine\\_diff\\_24 (mean (sd)) &   -0.01 (0.67)                     &   -0.10 (4.19)                     &  0.055                             &  0.049                            \\\\\n",
       "\\end{tabular}\n"
      ],
      "text/markdown": [
       "\n",
       "cov | Non-Echo (weighted cohort) | Echo (weighted cohort) | p value (IPW) | SMD (weighted cohort) | \n",
       "|---|---|---|---|---|---|---|---|---|---|---|---|---|---|\n",
       "| n                              | 5739.48                        | 5842.36                        |                                |                                | \n",
       "| ventfreeday28 (mean (sd))      |   14.96 (16.33)                |   16.18 (36.90)                |  0.903                         |  0.003                         | \n",
       "| vasofreeday28 (mean (sd))      |   18.35 (13.77)                |   19.86 (20.23)                |  0.047                         |  0.054                         | \n",
       "| dobutamine_flag = 1 (%)        | 1.1%                           | 3.4%                           | <0.001                         |  0.155                         | \n",
       "| day1 (mean (sd))               | 3523.72 (3747.62)              | 3889.22 (4421.38)              |  0.001                         |  0.096                         | \n",
       "| day2 (mean (sd))               | 2256.41 (2739.25)              | 2484.97 (3305.21)              | <0.001                         |  0.132                         | \n",
       "| day3 (mean (sd))               | 1018.42 (2558.93)              | 1683.90 (3066.03)              | <0.001                         |  0.179                         | \n",
       "| sofa_drop_2 (mean (sd))        |    1.00 (2.84)                 |    0.55 (3.03)                 | <0.001                         |  0.128                         | \n",
       "| sofa_drop_3 (mean (sd))        |    1.36 (3.05)                 |    0.78 (3.57)                 | <0.001                         |  0.247                         | \n",
       "| norepinephrine_max (mean (sd)) |    1.76 (3.26)                 |    3.05 (8.49)                 | <0.001                         |  0.154                         | \n",
       "| lactate_diff (mean (sd))       |    0.62 (2.08)                 |    0.26 (1.77)                 |  0.009                         |  0.144                         | \n",
       "| creatinine_diff (mean (sd))    |   -0.02 (0.96)                 |    0.06 (0.93)                 |  0.064                         |  0.056                         | \n",
       "| lactate_diff_24 (mean (sd))    |    0.54 (1.83)                 |    0.16 (1.62)                 | <0.001                         |  0.172                         | \n",
       "| creatinine_diff_24 (mean (sd)) |   -0.01 (0.67)                 |   -0.10 (4.19)                 |  0.055                         |  0.049                         | \n",
       "\n",
       "\n"
      ],
      "text/plain": [
       "   cov                            Non-Echo (weighted cohort)\n",
       "1  n                              5739.48                   \n",
       "2  ventfreeday28 (mean (sd))        14.96 (16.33)           \n",
       "3  vasofreeday28 (mean (sd))        18.35 (13.77)           \n",
       "4  dobutamine_flag = 1 (%)        1.1%                      \n",
       "5  day1 (mean (sd))               3523.72 (3747.62)         \n",
       "6  day2 (mean (sd))               2256.41 (2739.25)         \n",
       "7  day3 (mean (sd))               1018.42 (2558.93)         \n",
       "8  sofa_drop_2 (mean (sd))           1.00 (2.84)            \n",
       "9  sofa_drop_3 (mean (sd))           1.36 (3.05)            \n",
       "10 norepinephrine_max (mean (sd))    1.76 (3.26)            \n",
       "11 lactate_diff (mean (sd))          0.62 (2.08)            \n",
       "12 creatinine_diff (mean (sd))      -0.02 (0.96)            \n",
       "13 lactate_diff_24 (mean (sd))       0.54 (1.83)            \n",
       "14 creatinine_diff_24 (mean (sd))   -0.01 (0.67)            \n",
       "   Echo (weighted cohort) p value (IPW) SMD (weighted cohort)\n",
       "1  5842.36                                                   \n",
       "2    16.18 (36.90)         0.903         0.003               \n",
       "3    19.86 (20.23)         0.047         0.054               \n",
       "4  3.4%                   <0.001         0.155               \n",
       "5  3889.22 (4421.38)       0.001         0.096               \n",
       "6  2484.97 (3305.21)      <0.001         0.132               \n",
       "7  1683.90 (3066.03)      <0.001         0.179               \n",
       "8     0.55 (3.03)         <0.001         0.128               \n",
       "9     0.78 (3.57)         <0.001         0.247               \n",
       "10    3.05 (8.49)         <0.001         0.154               \n",
       "11    0.26 (1.77)          0.009         0.144               \n",
       "12    0.06 (0.93)          0.064         0.056               \n",
       "13    0.16 (1.62)         <0.001         0.172               \n",
       "14   -0.10 (4.19)          0.055         0.049               "
      ]
     },
     "metadata": {},
     "output_type": "display_data"
    }
   ],
   "source": [
    "tab_wtd_fmt <- tab_wtd_df %>%\n",
    "setNames(c(\"ctrl\", \"trtd\", \"pval\", \"smd\")) %>%\n",
    "mutate(cov = rownames(.)) %>%\n",
    "mutate(ctrl = ifelse((grepl(\"%\", cov) & grepl(\"=\", cov)) | grepl(\"^\\\\s+\", cov),\n",
    "                     str_extract(ctrl, \"\\\\((.*?)\\\\)\") %>% str_replace_all(\"\\\\(|\\\\)\", \"\") %>% sprintf(\"%s%%\", .),\n",
    "                     ctrl)) %>%\n",
    "mutate(trtd = ifelse((grepl(\"%\", cov) & grepl(\"=\", cov)) | grepl(\"^\\\\s+\", cov),\n",
    "                     str_extract(trtd, \"\\\\((.*?)\\\\)\") %>% str_replace_all(\"\\\\(|\\\\)\", \"\") %>% sprintf(\"%s%%\", .),\n",
    "                     trtd)) %>%\n",
    "select(cov, ctrl, trtd, pval, smd) %>%\n",
    "setNames(c(\"cov\", \"Non-Echo (weighted cohort)\", \"Echo (weighted cohort)\",\n",
    "           \"p value (IPW)\", \"SMD (weighted cohort)\"))\n",
    "\n",
    "tab_wtd_fmt"
   ]
  },
  {
   "cell_type": "code",
   "execution_count": 24,
   "metadata": {},
   "outputs": [
    {
     "data": {
      "text/html": [
       "<table>\n",
       "<thead><tr><th scope=col>cov</th><th scope=col>Non-Echo (PS matching)</th><th scope=col>Echo (PS matching)</th><th scope=col>SMD (PS matching)</th></tr></thead>\n",
       "<tbody>\n",
       "\t<tr><td>n                             </td><td>   1626                       </td><td>   1626                       </td><td>                              </td></tr>\n",
       "\t<tr><td>ventfreeday28 (mean (sd))     </td><td>  18.10 (14.70)               </td><td>  19.60 (32.64)               </td><td> 0.059                        </td></tr>\n",
       "\t<tr><td>vasofreeday28 (mean (sd))     </td><td>  19.31 (12.73)               </td><td>  20.81 (16.95)               </td><td> 0.100                        </td></tr>\n",
       "\t<tr><td>dobutamine_flag = 1 (%)       </td><td>1.2%                          </td><td>2.1%                          </td><td> 0.067                        </td></tr>\n",
       "\t<tr><td>day1 (mean (sd))              </td><td>2112.35 (3372.21)             </td><td>2432.62 (3768.74)             </td><td> 0.090                        </td></tr>\n",
       "\t<tr><td>day2 (mean (sd))              </td><td> 900.41 (2557.54)             </td><td>1275.37 (2872.81)             </td><td> 0.138                        </td></tr>\n",
       "\t<tr><td>day3 (mean (sd))              </td><td> 253.25 (2147.55)             </td><td> 772.04 (2683.67)             </td><td> 0.213                        </td></tr>\n",
       "\t<tr><td>sofa_drop_2 (mean (sd))       </td><td>   1.31 (4.55)                </td><td>   0.68 (3.26)                </td><td> 0.159                        </td></tr>\n",
       "\t<tr><td>sofa_drop_3 (mean (sd))       </td><td>   2.46 (4.76)                </td><td>   1.15 (3.99)                </td><td> 0.299                        </td></tr>\n",
       "\t<tr><td>norepinephrine_max (mean (sd))</td><td>   1.04 (2.68)                </td><td>   1.38 (3.13)                </td><td> 0.117                        </td></tr>\n",
       "\t<tr><td>lactate_diff (mean (sd))      </td><td>   0.53 (2.40)                </td><td>   0.23 (1.94)                </td><td> 0.138                        </td></tr>\n",
       "\t<tr><td>creatinine_diff (mean (sd))   </td><td>   0.17 (0.92)                </td><td>   0.13 (0.73)                </td><td> 0.056                        </td></tr>\n",
       "\t<tr><td>lactate_diff_24 (mean (sd))   </td><td>   0.37 (2.11)                </td><td>   0.12 (1.65)                </td><td> 0.128                        </td></tr>\n",
       "\t<tr><td>creatinine_diff_24 (mean (sd))</td><td>   0.12 (0.65)                </td><td>   0.08 (0.58)                </td><td> 0.055                        </td></tr>\n",
       "</tbody>\n",
       "</table>\n"
      ],
      "text/latex": [
       "\\begin{tabular}{r|llll}\n",
       " cov & Non-Echo (PS matching) & Echo (PS matching) & SMD (PS matching)\\\\\n",
       "\\hline\n",
       "\t n                              &    1626                        &    1626                        &                               \\\\\n",
       "\t ventfreeday28 (mean (sd))      &   18.10 (14.70)                &   19.60 (32.64)                &  0.059                        \\\\\n",
       "\t vasofreeday28 (mean (sd))      &   19.31 (12.73)                &   20.81 (16.95)                &  0.100                        \\\\\n",
       "\t dobutamine\\_flag = 1 (\\%)        & 1.2\\%                             & 2.1\\%                             &  0.067                            \\\\\n",
       "\t day1 (mean (sd))               & 2112.35 (3372.21)              & 2432.62 (3768.74)              &  0.090                        \\\\\n",
       "\t day2 (mean (sd))               &  900.41 (2557.54)              & 1275.37 (2872.81)              &  0.138                        \\\\\n",
       "\t day3 (mean (sd))               &  253.25 (2147.55)              &  772.04 (2683.67)              &  0.213                        \\\\\n",
       "\t sofa\\_drop\\_2 (mean (sd))        &    1.31 (4.55)                     &    0.68 (3.26)                     &  0.159                            \\\\\n",
       "\t sofa\\_drop\\_3 (mean (sd))        &    2.46 (4.76)                     &    1.15 (3.99)                     &  0.299                            \\\\\n",
       "\t norepinephrine\\_max (mean (sd)) &    1.04 (2.68)                   &    1.38 (3.13)                   &  0.117                          \\\\\n",
       "\t lactate\\_diff (mean (sd))       &    0.53 (2.40)                   &    0.23 (1.94)                   &  0.138                          \\\\\n",
       "\t creatinine\\_diff (mean (sd))    &    0.17 (0.92)                   &    0.13 (0.73)                   &  0.056                          \\\\\n",
       "\t lactate\\_diff\\_24 (mean (sd))    &    0.37 (2.11)                     &    0.12 (1.65)                     &  0.128                            \\\\\n",
       "\t creatinine\\_diff\\_24 (mean (sd)) &    0.12 (0.65)                     &    0.08 (0.58)                     &  0.055                            \\\\\n",
       "\\end{tabular}\n"
      ],
      "text/markdown": [
       "\n",
       "cov | Non-Echo (PS matching) | Echo (PS matching) | SMD (PS matching) | \n",
       "|---|---|---|---|---|---|---|---|---|---|---|---|---|---|\n",
       "| n                              |    1626                        |    1626                        |                                | \n",
       "| ventfreeday28 (mean (sd))      |   18.10 (14.70)                |   19.60 (32.64)                |  0.059                         | \n",
       "| vasofreeday28 (mean (sd))      |   19.31 (12.73)                |   20.81 (16.95)                |  0.100                         | \n",
       "| dobutamine_flag = 1 (%)        | 1.2%                           | 2.1%                           |  0.067                         | \n",
       "| day1 (mean (sd))               | 2112.35 (3372.21)              | 2432.62 (3768.74)              |  0.090                         | \n",
       "| day2 (mean (sd))               |  900.41 (2557.54)              | 1275.37 (2872.81)              |  0.138                         | \n",
       "| day3 (mean (sd))               |  253.25 (2147.55)              |  772.04 (2683.67)              |  0.213                         | \n",
       "| sofa_drop_2 (mean (sd))        |    1.31 (4.55)                 |    0.68 (3.26)                 |  0.159                         | \n",
       "| sofa_drop_3 (mean (sd))        |    2.46 (4.76)                 |    1.15 (3.99)                 |  0.299                         | \n",
       "| norepinephrine_max (mean (sd)) |    1.04 (2.68)                 |    1.38 (3.13)                 |  0.117                         | \n",
       "| lactate_diff (mean (sd))       |    0.53 (2.40)                 |    0.23 (1.94)                 |  0.138                         | \n",
       "| creatinine_diff (mean (sd))    |    0.17 (0.92)                 |    0.13 (0.73)                 |  0.056                         | \n",
       "| lactate_diff_24 (mean (sd))    |    0.37 (2.11)                 |    0.12 (1.65)                 |  0.128                         | \n",
       "| creatinine_diff_24 (mean (sd)) |    0.12 (0.65)                 |    0.08 (0.58)                 |  0.055                         | \n",
       "\n",
       "\n"
      ],
      "text/plain": [
       "   cov                            Non-Echo (PS matching) Echo (PS matching)\n",
       "1  n                                 1626                   1626           \n",
       "2  ventfreeday28 (mean (sd))        18.10 (14.70)          19.60 (32.64)   \n",
       "3  vasofreeday28 (mean (sd))        19.31 (12.73)          20.81 (16.95)   \n",
       "4  dobutamine_flag = 1 (%)        1.2%                   2.1%              \n",
       "5  day1 (mean (sd))               2112.35 (3372.21)      2432.62 (3768.74) \n",
       "6  day2 (mean (sd))                900.41 (2557.54)      1275.37 (2872.81) \n",
       "7  day3 (mean (sd))                253.25 (2147.55)       772.04 (2683.67) \n",
       "8  sofa_drop_2 (mean (sd))           1.31 (4.55)            0.68 (3.26)    \n",
       "9  sofa_drop_3 (mean (sd))           2.46 (4.76)            1.15 (3.99)    \n",
       "10 norepinephrine_max (mean (sd))    1.04 (2.68)            1.38 (3.13)    \n",
       "11 lactate_diff (mean (sd))          0.53 (2.40)            0.23 (1.94)    \n",
       "12 creatinine_diff (mean (sd))       0.17 (0.92)            0.13 (0.73)    \n",
       "13 lactate_diff_24 (mean (sd))       0.37 (2.11)            0.12 (1.65)    \n",
       "14 creatinine_diff_24 (mean (sd))    0.12 (0.65)            0.08 (0.58)    \n",
       "   SMD (PS matching)\n",
       "1                   \n",
       "2   0.059           \n",
       "3   0.100           \n",
       "4   0.067           \n",
       "5   0.090           \n",
       "6   0.138           \n",
       "7   0.213           \n",
       "8   0.159           \n",
       "9   0.299           \n",
       "10  0.117           \n",
       "11  0.138           \n",
       "12  0.056           \n",
       "13  0.128           \n",
       "14  0.055           "
      ]
     },
     "metadata": {},
     "output_type": "display_data"
    }
   ],
   "source": [
    "tab_ps_fmt <- tab_ps_df %>%\n",
    "setNames(c(\"ctrl\", \"trtd\", \"pval\", \"smd\")) %>%\n",
    "mutate(cov = rownames(.)) %>%\n",
    "mutate(ctrl = ifelse((grepl(\"%\", cov) & grepl(\"=\", cov)) | grepl(\"^\\\\s+\", cov),\n",
    "                     str_extract(ctrl, \"\\\\((.*?)\\\\)\") %>% str_replace_all(\"\\\\(|\\\\)\", \"\") %>% sprintf(\"%s%%\", .),\n",
    "                     ctrl)) %>%\n",
    "mutate(trtd = ifelse((grepl(\"%\", cov) & grepl(\"=\", cov)) | grepl(\"^\\\\s+\", cov),\n",
    "                     str_extract(trtd, \"\\\\((.*?)\\\\)\") %>% str_replace_all(\"\\\\(|\\\\)\", \"\") %>% sprintf(\"%s%%\", .),\n",
    "                     trtd)) %>%\n",
    "select(cov, ctrl, trtd, smd) %>%\n",
    "setNames(c(\"cov\", \"Non-Echo (PS matching)\", \"Echo (PS matching)\", \"SMD (PS matching)\"))\n",
    "\n",
    "tab_ps_fmt"
   ]
  },
  {
   "cell_type": "code",
   "execution_count": 25,
   "metadata": {},
   "outputs": [
    {
     "data": {
      "text/html": [
       "<table>\n",
       "<thead><tr><th scope=col>cov</th><th scope=col>Non-Echo</th><th scope=col>Echo</th><th scope=col>p value</th><th scope=col>SMD</th><th scope=col>Non-Echo (weighted cohort)</th><th scope=col>Echo (weighted cohort)</th><th scope=col>p value (IPW)</th><th scope=col>SMD (weighted cohort)</th><th scope=col>Non-Echo (PS matching)</th><th scope=col>Echo (PS matching)</th><th scope=col>SMD (PS matching)</th><th scope=col>p value (PS matching)</th><th scope=col>Missing data</th></tr></thead>\n",
       "<tbody>\n",
       "\t<tr><td>n                                     </td><td>3099                                  </td><td>3262                                  </td><td>                                      </td><td>                                      </td><td>5739.48                               </td><td>5842.36                               </td><td>                                      </td><td>                                      </td><td>1626                                  </td><td>1626                                  </td><td>                                      </td><td>                                      </td><td>NA                                    </td></tr>\n",
       "\t<tr><td>Ventilation free days in 28 days      </td><td>19.09 (13.53)                         </td><td>18.02 (25.13)                         </td><td>0.033                                 </td><td>0.053                                 </td><td>14.96 (16.33)                         </td><td>16.18 (36.90)                         </td><td>0.903                                 </td><td>0.003                                 </td><td>18.10 (14.70)                         </td><td>19.60 (32.64)                         </td><td>0.059                                 </td><td>0.089                                 </td><td>0%                                    </td></tr>\n",
       "\t<tr><td>Vasopressor free days in 28 days      </td><td>20.25 (12.61)                         </td><td>20.13 (14.91)                         </td><td>0.741                                 </td><td>0.008                                 </td><td>18.35 (13.77)                         </td><td>19.86 (20.23)                         </td><td>0.047                                 </td><td>0.054                                 </td><td>19.31 (12.73)                         </td><td>20.81 (16.95)                         </td><td>0.100                                 </td><td>0.004                                 </td><td>0%                                    </td></tr>\n",
       "\t<tr><td><span style=white-space:pre-wrap>Dobutamine Use                        </span></td><td><span style=white-space:pre-wrap>0.7%             </span>                     </td><td><span style=white-space:pre-wrap>4.2%             </span>                     </td><td>&lt;0.001                                                                     </td><td>0.224                                                                         </td><td><span style=white-space:pre-wrap>1.1%             </span>                     </td><td><span style=white-space:pre-wrap>3.4%             </span>                     </td><td>&lt;0.001                                                                     </td><td>0.155                                                                         </td><td><span style=white-space:pre-wrap>1.2%             </span>                     </td><td><span style=white-space:pre-wrap>2.1%             </span>                     </td><td>0.067                                                                         </td><td>0.077                                                                         </td><td><span style=white-space:pre-wrap>0%   </span>                                 </td></tr>\n",
       "\t<tr><td><span style=white-space:pre-wrap>IV Fluid Day 1 (mL)                   </span></td><td>1939.14 (3181.88)                                                             </td><td>2456.38 (3853.04)                                                             </td><td>&lt;0.001                                                                     </td><td>0.146                                                                         </td><td>3523.72 (3747.62)                                                             </td><td>3889.22 (4421.38)                                                             </td><td>0.001                                                                         </td><td>0.096                                                                         </td><td>2112.35 (3372.21)                                                             </td><td>2432.62 (3768.74)                                                             </td><td>0.090                                                                         </td><td>0.046                                                                         </td><td>10.7%                                                                         </td></tr>\n",
       "\t<tr><td><span style=white-space:pre-wrap>IV Fluid Day 2 (mL)                   </span></td><td>835.26 (2429.91)                                                              </td><td>1258.31 (2933.84)                                                             </td><td>&lt;0.001                                                                     </td><td>0.157                                                                         </td><td>2256.41 (2739.25)                                                             </td><td>2484.97 (3305.21)                                                             </td><td>&lt;0.001                                                                     </td><td>0.132                                                                         </td><td>900.41 (2557.54)                                                              </td><td>1275.37 (2872.81)                                                             </td><td>0.138                                                                         </td><td>0.002                                                                         </td><td>18.9%                                                                         </td></tr>\n",
       "\t<tr><td><span style=white-space:pre-wrap>IV Fluid Day 3 (mL)                   </span></td><td>256.15 (2108.02)                                                              </td><td>686.71 (2614.29)                                                              </td><td>&lt;0.001                                                                     </td><td>0.181                                                                         </td><td>1018.42 (2558.93)                                                             </td><td>1683.90 (3066.03)                                                             </td><td>&lt;0.001                                                                     </td><td>0.179                                                                         </td><td>253.25 (2147.55)                                                              </td><td>772.04 (2683.67)                                                              </td><td>0.213                                                                         </td><td>&lt;0.001                                                                     </td><td>34.4%                                                                         </td></tr>\n",
       "\t<tr><td><span style=white-space:pre-wrap>SOFA Reduction Day 2                  </span></td><td><span style=white-space:pre-wrap>1.22 (4.34)      </span>                     </td><td><span style=white-space:pre-wrap>0.89 (3.39)      </span>                     </td><td>0.001                                                                         </td><td>0.086                                                                         </td><td><span style=white-space:pre-wrap>1.00 (2.84)      </span>                     </td><td><span style=white-space:pre-wrap>0.55 (3.03)      </span>                     </td><td>&lt;0.001                                                                     </td><td>0.128                                                                         </td><td><span style=white-space:pre-wrap>1.31 (4.55)      </span>                     </td><td><span style=white-space:pre-wrap>0.68 (3.26)      </span>                     </td><td>0.159                                                                         </td><td>&lt;0.001                                                                     </td><td><span style=white-space:pre-wrap>0%   </span>                                 </td></tr>\n",
       "\t<tr><td><span style=white-space:pre-wrap>SOFA Reduction Day 3                  </span></td><td><span style=white-space:pre-wrap>2.29 (4.49)      </span>                     </td><td><span style=white-space:pre-wrap>1.49 (4.07)      </span>                     </td><td>&lt;0.001                                                                     </td><td>0.186                                                                         </td><td><span style=white-space:pre-wrap>1.36 (3.05)      </span>                     </td><td><span style=white-space:pre-wrap>0.78 (3.57)      </span>                     </td><td>&lt;0.001                                                                     </td><td>0.247                                                                         </td><td><span style=white-space:pre-wrap>2.46 (4.76)      </span>                     </td><td><span style=white-space:pre-wrap>1.15 (3.99)      </span>                     </td><td>0.299                                                                         </td><td>&lt;0.001                                                                     </td><td><span style=white-space:pre-wrap>0%   </span>                                 </td></tr>\n",
       "\t<tr><td>Norepinephrine (maximum dosage mg/min)                   </td><td><span style=white-space:pre-wrap>0.81 (2.39)      </span></td><td><span style=white-space:pre-wrap>1.78 (5.69)      </span></td><td>&lt;0.001                                                </td><td>0.221                                                    </td><td><span style=white-space:pre-wrap>1.76 (3.26)      </span></td><td><span style=white-space:pre-wrap>3.05 (8.49)      </span></td><td>&lt;0.001                                                </td><td>0.154                                                    </td><td><span style=white-space:pre-wrap>1.04 (2.68)      </span></td><td><span style=white-space:pre-wrap>1.38 (3.13)      </span></td><td>0.117                                                    </td><td>&lt;0.001                                                </td><td><span style=white-space:pre-wrap>0%   </span>            </td></tr>\n",
       "\t<tr><td>Serum Lactate Reduction (48 hours)    </td><td>0.55 (2.39)                           </td><td>0.27 (1.86)                           </td><td>0.009                                 </td><td>0.130                                 </td><td>0.62 (2.08)                           </td><td>0.26 (1.77)                           </td><td>0.009                                 </td><td>0.144                                 </td><td>0.53 (2.40)                           </td><td>0.23 (1.94)                           </td><td>0.138                                 </td><td>0.558                                 </td><td>71.6%                                 </td></tr>\n",
       "\t<tr><td>Serum Creatinine Reduction (48 hours) </td><td>0.19 (0.87)                           </td><td>0.13 (0.85)                           </td><td>0.011                                 </td><td>0.071                                 </td><td>-0.02 (0.96)                          </td><td>0.06 (0.93)                           </td><td>0.064                                 </td><td>0.056                                 </td><td>0.17 (0.92)                           </td><td>0.13 (0.73)                           </td><td>0.056                                 </td><td>0.33                                  </td><td>17.9%                                 </td></tr>\n",
       "\t<tr><td><span style=white-space:pre-wrap>Serum Lactate Reduction (24 hours)    </span></td><td><span style=white-space:pre-wrap>0.48 (2.07)      </span>                     </td><td><span style=white-space:pre-wrap>0.14 (1.60)      </span>                     </td><td>&lt;0.001                                                                     </td><td>0.182                                                                         </td><td><span style=white-space:pre-wrap>0.54 (1.83)      </span>                     </td><td><span style=white-space:pre-wrap>0.16 (1.62)      </span>                     </td><td>&lt;0.001                                                                     </td><td>0.172                                                                         </td><td><span style=white-space:pre-wrap>0.37 (2.11)      </span>                     </td><td><span style=white-space:pre-wrap>0.12 (1.65)      </span>                     </td><td>0.128                                                                         </td><td>0.532                                                                         </td><td>65.7%                                                                         </td></tr>\n",
       "\t<tr><td>Serum Creatinine Reduction (24 hours) </td><td>0.13 (0.67)                           </td><td>0.03 (2.67)                           </td><td>0.049                                 </td><td>0.053                                 </td><td>-0.01 (0.67)                          </td><td>-0.10 (4.19)                          </td><td>0.055                                 </td><td>0.049                                 </td><td>0.12 (0.65)                           </td><td>0.08 (0.58)                           </td><td>0.055                                 </td><td>0.262                                 </td><td>13.2%                                 </td></tr>\n",
       "</tbody>\n",
       "</table>\n"
      ],
      "text/latex": [
       "\\begin{tabular}{r|llllllllllllll}\n",
       " cov & Non-Echo & Echo & p value & SMD & Non-Echo (weighted cohort) & Echo (weighted cohort) & p value (IPW) & SMD (weighted cohort) & Non-Echo (PS matching) & Echo (PS matching) & SMD (PS matching) & p value (PS matching) & Missing data\\\\\n",
       "\\hline\n",
       "\t n                                      & 3099                                   & 3262                                   &                                        &                                        & 5739.48                                & 5842.36                                &                                        &                                        & 1626                                   & 1626                                   &                                        &                                        & NA                                    \\\\\n",
       "\t Ventilation free days in 28 days       & 19.09 (13.53)                          & 18.02 (25.13)                          & 0.033                                  & 0.053                                  & 14.96 (16.33)                          & 16.18 (36.90)                          & 0.903                                  & 0.003                                  & 18.10 (14.70)                          & 19.60 (32.64)                          & 0.059                                  & 0.089                                  & 0\\%                                  \\\\\n",
       "\t Vasopressor free days in 28 days       & 20.25 (12.61)                          & 20.13 (14.91)                          & 0.741                                  & 0.008                                  & 18.35 (13.77)                          & 19.86 (20.23)                          & 0.047                                  & 0.054                                  & 19.31 (12.73)                          & 20.81 (16.95)                          & 0.100                                  & 0.004                                  & 0\\%                                  \\\\\n",
       "\t Dobutamine Use                         & 0.7\\%                                 & 4.2\\%                                 & <0.001                                 & 0.224                                  & 1.1\\%                                 & 3.4\\%                                 & <0.001                                 & 0.155                                  & 1.2\\%                                 & 2.1\\%                                 & 0.067                                  & 0.077                                  & 0\\%                                  \\\\\n",
       "\t IV Fluid Day 1 (mL)                    & 1939.14 (3181.88)                      & 2456.38 (3853.04)                      & <0.001                                 & 0.146                                  & 3523.72 (3747.62)                      & 3889.22 (4421.38)                      & 0.001                                  & 0.096                                  & 2112.35 (3372.21)                      & 2432.62 (3768.74)                      & 0.090                                  & 0.046                                  & 10.7\\%                               \\\\\n",
       "\t IV Fluid Day 2 (mL)                    & 835.26 (2429.91)                       & 1258.31 (2933.84)                      & <0.001                                 & 0.157                                  & 2256.41 (2739.25)                      & 2484.97 (3305.21)                      & <0.001                                 & 0.132                                  & 900.41 (2557.54)                       & 1275.37 (2872.81)                      & 0.138                                  & 0.002                                  & 18.9\\%                               \\\\\n",
       "\t IV Fluid Day 3 (mL)                    & 256.15 (2108.02)                       & 686.71 (2614.29)                       & <0.001                                 & 0.181                                  & 1018.42 (2558.93)                      & 1683.90 (3066.03)                      & <0.001                                 & 0.179                                  & 253.25 (2147.55)                       & 772.04 (2683.67)                       & 0.213                                  & <0.001                                 & 34.4\\%                               \\\\\n",
       "\t SOFA Reduction Day 2                   & 1.22 (4.34)                            & 0.89 (3.39)                            & 0.001                                  & 0.086                                  & 1.00 (2.84)                            & 0.55 (3.03)                            & <0.001                                 & 0.128                                  & 1.31 (4.55)                            & 0.68 (3.26)                            & 0.159                                  & <0.001                                 & 0\\%                                  \\\\\n",
       "\t SOFA Reduction Day 3                   & 2.29 (4.49)                            & 1.49 (4.07)                            & <0.001                                 & 0.186                                  & 1.36 (3.05)                            & 0.78 (3.57)                            & <0.001                                 & 0.247                                  & 2.46 (4.76)                            & 1.15 (3.99)                            & 0.299                                  & <0.001                                 & 0\\%                                  \\\\\n",
       "\t Norepinephrine (maximum dosage mg/min) & 0.81 (2.39)                            & 1.78 (5.69)                            & <0.001                                 & 0.221                                  & 1.76 (3.26)                            & 3.05 (8.49)                            & <0.001                                 & 0.154                                  & 1.04 (2.68)                            & 1.38 (3.13)                            & 0.117                                  & <0.001                                 & 0\\%                                  \\\\\n",
       "\t Serum Lactate Reduction (48 hours)     & 0.55 (2.39)                            & 0.27 (1.86)                            & 0.009                                  & 0.130                                  & 0.62 (2.08)                            & 0.26 (1.77)                            & 0.009                                  & 0.144                                  & 0.53 (2.40)                            & 0.23 (1.94)                            & 0.138                                  & 0.558                                  & 71.6\\%                               \\\\\n",
       "\t Serum Creatinine Reduction (48 hours)  & 0.19 (0.87)                            & 0.13 (0.85)                            & 0.011                                  & 0.071                                  & -0.02 (0.96)                           & 0.06 (0.93)                            & 0.064                                  & 0.056                                  & 0.17 (0.92)                            & 0.13 (0.73)                            & 0.056                                  & 0.33                                   & 17.9\\%                               \\\\\n",
       "\t Serum Lactate Reduction (24 hours)     & 0.48 (2.07)                            & 0.14 (1.60)                            & <0.001                                 & 0.182                                  & 0.54 (1.83)                            & 0.16 (1.62)                            & <0.001                                 & 0.172                                  & 0.37 (2.11)                            & 0.12 (1.65)                            & 0.128                                  & 0.532                                  & 65.7\\%                               \\\\\n",
       "\t Serum Creatinine Reduction (24 hours)  & 0.13 (0.67)                            & 0.03 (2.67)                            & 0.049                                  & 0.053                                  & -0.01 (0.67)                           & -0.10 (4.19)                           & 0.055                                  & 0.049                                  & 0.12 (0.65)                            & 0.08 (0.58)                            & 0.055                                  & 0.262                                  & 13.2\\%                               \\\\\n",
       "\\end{tabular}\n"
      ],
      "text/markdown": [
       "\n",
       "cov | Non-Echo | Echo | p value | SMD | Non-Echo (weighted cohort) | Echo (weighted cohort) | p value (IPW) | SMD (weighted cohort) | Non-Echo (PS matching) | Echo (PS matching) | SMD (PS matching) | p value (PS matching) | Missing data | \n",
       "|---|---|---|---|---|---|---|---|---|---|---|---|---|---|\n",
       "| n                                      | 3099                                   | 3262                                   |                                        |                                        | 5739.48                                | 5842.36                                |                                        |                                        | 1626                                   | 1626                                   |                                        |                                        | NA                                     | \n",
       "| Ventilation free days in 28 days       | 19.09 (13.53)                          | 18.02 (25.13)                          | 0.033                                  | 0.053                                  | 14.96 (16.33)                          | 16.18 (36.90)                          | 0.903                                  | 0.003                                  | 18.10 (14.70)                          | 19.60 (32.64)                          | 0.059                                  | 0.089                                  | 0%                                     | \n",
       "| Vasopressor free days in 28 days       | 20.25 (12.61)                          | 20.13 (14.91)                          | 0.741                                  | 0.008                                  | 18.35 (13.77)                          | 19.86 (20.23)                          | 0.047                                  | 0.054                                  | 19.31 (12.73)                          | 20.81 (16.95)                          | 0.100                                  | 0.004                                  | 0%                                     | \n",
       "| Dobutamine Use                         | 0.7%                                   | 4.2%                                   | <0.001                                 | 0.224                                  | 1.1%                                   | 3.4%                                   | <0.001                                 | 0.155                                  | 1.2%                                   | 2.1%                                   | 0.067                                  | 0.077                                  | 0%                                     | \n",
       "| IV Fluid Day 1 (mL)                    | 1939.14 (3181.88)                      | 2456.38 (3853.04)                      | <0.001                                 | 0.146                                  | 3523.72 (3747.62)                      | 3889.22 (4421.38)                      | 0.001                                  | 0.096                                  | 2112.35 (3372.21)                      | 2432.62 (3768.74)                      | 0.090                                  | 0.046                                  | 10.7%                                  | \n",
       "| IV Fluid Day 2 (mL)                    | 835.26 (2429.91)                       | 1258.31 (2933.84)                      | <0.001                                 | 0.157                                  | 2256.41 (2739.25)                      | 2484.97 (3305.21)                      | <0.001                                 | 0.132                                  | 900.41 (2557.54)                       | 1275.37 (2872.81)                      | 0.138                                  | 0.002                                  | 18.9%                                  | \n",
       "| IV Fluid Day 3 (mL)                    | 256.15 (2108.02)                       | 686.71 (2614.29)                       | <0.001                                 | 0.181                                  | 1018.42 (2558.93)                      | 1683.90 (3066.03)                      | <0.001                                 | 0.179                                  | 253.25 (2147.55)                       | 772.04 (2683.67)                       | 0.213                                  | <0.001                                 | 34.4%                                  | \n",
       "| SOFA Reduction Day 2                   | 1.22 (4.34)                            | 0.89 (3.39)                            | 0.001                                  | 0.086                                  | 1.00 (2.84)                            | 0.55 (3.03)                            | <0.001                                 | 0.128                                  | 1.31 (4.55)                            | 0.68 (3.26)                            | 0.159                                  | <0.001                                 | 0%                                     | \n",
       "| SOFA Reduction Day 3                   | 2.29 (4.49)                            | 1.49 (4.07)                            | <0.001                                 | 0.186                                  | 1.36 (3.05)                            | 0.78 (3.57)                            | <0.001                                 | 0.247                                  | 2.46 (4.76)                            | 1.15 (3.99)                            | 0.299                                  | <0.001                                 | 0%                                     | \n",
       "| Norepinephrine (maximum dosage mg/min) | 0.81 (2.39)                            | 1.78 (5.69)                            | <0.001                                 | 0.221                                  | 1.76 (3.26)                            | 3.05 (8.49)                            | <0.001                                 | 0.154                                  | 1.04 (2.68)                            | 1.38 (3.13)                            | 0.117                                  | <0.001                                 | 0%                                     | \n",
       "| Serum Lactate Reduction (48 hours)     | 0.55 (2.39)                            | 0.27 (1.86)                            | 0.009                                  | 0.130                                  | 0.62 (2.08)                            | 0.26 (1.77)                            | 0.009                                  | 0.144                                  | 0.53 (2.40)                            | 0.23 (1.94)                            | 0.138                                  | 0.558                                  | 71.6%                                  | \n",
       "| Serum Creatinine Reduction (48 hours)  | 0.19 (0.87)                            | 0.13 (0.85)                            | 0.011                                  | 0.071                                  | -0.02 (0.96)                           | 0.06 (0.93)                            | 0.064                                  | 0.056                                  | 0.17 (0.92)                            | 0.13 (0.73)                            | 0.056                                  | 0.33                                   | 17.9%                                  | \n",
       "| Serum Lactate Reduction (24 hours)     | 0.48 (2.07)                            | 0.14 (1.60)                            | <0.001                                 | 0.182                                  | 0.54 (1.83)                            | 0.16 (1.62)                            | <0.001                                 | 0.172                                  | 0.37 (2.11)                            | 0.12 (1.65)                            | 0.128                                  | 0.532                                  | 65.7%                                  | \n",
       "| Serum Creatinine Reduction (24 hours)  | 0.13 (0.67)                            | 0.03 (2.67)                            | 0.049                                  | 0.053                                  | -0.01 (0.67)                           | -0.10 (4.19)                           | 0.055                                  | 0.049                                  | 0.12 (0.65)                            | 0.08 (0.58)                            | 0.055                                  | 0.262                                  | 13.2%                                  | \n",
       "\n",
       "\n"
      ],
      "text/plain": [
       "   cov                                    Non-Echo          Echo             \n",
       "1  n                                      3099              3262             \n",
       "2  Ventilation free days in 28 days       19.09 (13.53)     18.02 (25.13)    \n",
       "3  Vasopressor free days in 28 days       20.25 (12.61)     20.13 (14.91)    \n",
       "4  Dobutamine Use                         0.7%              4.2%             \n",
       "5  IV Fluid Day 1 (mL)                    1939.14 (3181.88) 2456.38 (3853.04)\n",
       "6  IV Fluid Day 2 (mL)                    835.26 (2429.91)  1258.31 (2933.84)\n",
       "7  IV Fluid Day 3 (mL)                    256.15 (2108.02)  686.71 (2614.29) \n",
       "8  SOFA Reduction Day 2                   1.22 (4.34)       0.89 (3.39)      \n",
       "9  SOFA Reduction Day 3                   2.29 (4.49)       1.49 (4.07)      \n",
       "10 Norepinephrine (maximum dosage mg/min) 0.81 (2.39)       1.78 (5.69)      \n",
       "11 Serum Lactate Reduction (48 hours)     0.55 (2.39)       0.27 (1.86)      \n",
       "12 Serum Creatinine Reduction (48 hours)  0.19 (0.87)       0.13 (0.85)      \n",
       "13 Serum Lactate Reduction (24 hours)     0.48 (2.07)       0.14 (1.60)      \n",
       "14 Serum Creatinine Reduction (24 hours)  0.13 (0.67)       0.03 (2.67)      \n",
       "   p value SMD   Non-Echo (weighted cohort) Echo (weighted cohort)\n",
       "1                5739.48                    5842.36               \n",
       "2  0.033   0.053 14.96 (16.33)              16.18 (36.90)         \n",
       "3  0.741   0.008 18.35 (13.77)              19.86 (20.23)         \n",
       "4  <0.001  0.224 1.1%                       3.4%                  \n",
       "5  <0.001  0.146 3523.72 (3747.62)          3889.22 (4421.38)     \n",
       "6  <0.001  0.157 2256.41 (2739.25)          2484.97 (3305.21)     \n",
       "7  <0.001  0.181 1018.42 (2558.93)          1683.90 (3066.03)     \n",
       "8  0.001   0.086 1.00 (2.84)                0.55 (3.03)           \n",
       "9  <0.001  0.186 1.36 (3.05)                0.78 (3.57)           \n",
       "10 <0.001  0.221 1.76 (3.26)                3.05 (8.49)           \n",
       "11 0.009   0.130 0.62 (2.08)                0.26 (1.77)           \n",
       "12 0.011   0.071 -0.02 (0.96)               0.06 (0.93)           \n",
       "13 <0.001  0.182 0.54 (1.83)                0.16 (1.62)           \n",
       "14 0.049   0.053 -0.01 (0.67)               -0.10 (4.19)          \n",
       "   p value (IPW) SMD (weighted cohort) Non-Echo (PS matching)\n",
       "1                                      1626                  \n",
       "2  0.903         0.003                 18.10 (14.70)         \n",
       "3  0.047         0.054                 19.31 (12.73)         \n",
       "4  <0.001        0.155                 1.2%                  \n",
       "5  0.001         0.096                 2112.35 (3372.21)     \n",
       "6  <0.001        0.132                 900.41 (2557.54)      \n",
       "7  <0.001        0.179                 253.25 (2147.55)      \n",
       "8  <0.001        0.128                 1.31 (4.55)           \n",
       "9  <0.001        0.247                 2.46 (4.76)           \n",
       "10 <0.001        0.154                 1.04 (2.68)           \n",
       "11 0.009         0.144                 0.53 (2.40)           \n",
       "12 0.064         0.056                 0.17 (0.92)           \n",
       "13 <0.001        0.172                 0.37 (2.11)           \n",
       "14 0.055         0.049                 0.12 (0.65)           \n",
       "   Echo (PS matching) SMD (PS matching) p value (PS matching) Missing data\n",
       "1  1626                                                       NA          \n",
       "2  19.60 (32.64)      0.059             0.089                 0%          \n",
       "3  20.81 (16.95)      0.100             0.004                 0%          \n",
       "4  2.1%               0.067             0.077                 0%          \n",
       "5  2432.62 (3768.74)  0.090             0.046                 10.7%       \n",
       "6  1275.37 (2872.81)  0.138             0.002                 18.9%       \n",
       "7  772.04 (2683.67)   0.213             <0.001                34.4%       \n",
       "8  0.68 (3.26)        0.159             <0.001                0%          \n",
       "9  1.15 (3.99)        0.299             <0.001                0%          \n",
       "10 1.38 (3.13)        0.117             <0.001                0%          \n",
       "11 0.23 (1.94)        0.138             0.558                 71.6%       \n",
       "12 0.13 (0.73)        0.056             0.33                  17.9%       \n",
       "13 0.12 (1.65)        0.128             0.532                 65.7%       \n",
       "14 0.08 (0.58)        0.055             0.262                 13.2%       "
      ]
     },
     "metadata": {},
     "output_type": "display_data"
    }
   ],
   "source": [
    "tab_full <-\n",
    "tab_fmt %>%\n",
    "full_join(tab_wtd_fmt, by = \"cov\") %>%\n",
    "full_join(tab_ps_fmt, by = \"cov\") %>%\n",
    "mutate_all(funs(str_replace_all(., \"\\\\s+$|^\\\\s+\", \"\"))) %>%\n",
    "mutate(cov = strsplit(cov, \" \") %>% map_chr(first)) %>%\n",
    "full_join(tab_ps_pval_df, by = \"cov\") %>%\n",
    "full_join(missing %>% setNames(c(\"cov\", \"Missing data\")), by = \"cov\") %>%\n",
    "mutate(cov = case_when(\n",
    "    cov == \"ventfreeday28\" ~ \"Ventilation free days in 28 days\",\n",
    "    cov == \"vasofreeday28\" ~ \"Vasopressor free days in 28 days\",\n",
    "    cov == \"dobutamine_flag\" ~ \"Dobutamine Use\",\n",
    "    cov == \"day1\" ~ \"IV Fluid Day 1 (mL)\",\n",
    "    cov == \"day2\" ~ \"IV Fluid Day 2 (mL)\",\n",
    "    cov == \"day3\" ~ \"IV Fluid Day 3 (mL)\",\n",
    "    cov == \"sofa_drop_2\" ~ \"SOFA Reduction Day 2\",\n",
    "    cov == \"sofa_drop_3\" ~ \"SOFA Reduction Day 3\",\n",
    "    cov == \"norepinephrine_max\" ~ \"Norepinephrine (maximum dosage mg/min)\",\n",
    "    cov == \"lactate_diff\" ~ \"Serum Lactate Reduction (48 hours)\",\n",
    "    cov == \"creatinine_diff\" ~ \"Serum Creatinine Reduction (48 hours)\",\n",
    "    cov == \"lactate_diff_24\" ~ \"Serum Lactate Reduction (24 hours)\",\n",
    "    cov == \"creatinine_diff_24\" ~ \"Serum Creatinine Reduction (24 hours)\",\n",
    "    TRUE ~ cov\n",
    "))\n",
    "\n",
    "tab_full"
   ]
  },
  {
   "cell_type": "code",
   "execution_count": 26,
   "metadata": {},
   "outputs": [
    {
     "data": {
      "text/html": [
       "<table>\n",
       "<thead><tr><th scope=col>cov</th><th scope=col>Non-Echo (PS matching)</th><th scope=col>Echo (PS matching)</th><th scope=col>SMD (PS matching)</th><th scope=col>p value (PS matching)</th></tr></thead>\n",
       "<tbody>\n",
       "\t<tr><td>n                                     </td><td>1626                                  </td><td>1626                                  </td><td>                                      </td><td>                                      </td></tr>\n",
       "\t<tr><td>Ventilation free days in 28 days      </td><td>18.10 (14.70)                         </td><td>19.60 (32.64)                         </td><td>0.059                                 </td><td>0.089                                 </td></tr>\n",
       "\t<tr><td>Vasopressor free days in 28 days      </td><td>19.31 (12.73)                         </td><td>20.81 (16.95)                         </td><td>0.100                                 </td><td>0.004                                 </td></tr>\n",
       "\t<tr><td>Dobutamine Use                        </td><td>1.2%                                  </td><td>2.1%                                  </td><td>0.067                                 </td><td>0.077                                 </td></tr>\n",
       "\t<tr><td>IV Fluid Day 1 (mL)                   </td><td>2112.35 (3372.21)                     </td><td>2432.62 (3768.74)                     </td><td>0.090                                 </td><td>0.046                                 </td></tr>\n",
       "\t<tr><td>IV Fluid Day 2 (mL)                   </td><td>900.41 (2557.54)                      </td><td>1275.37 (2872.81)                     </td><td>0.138                                 </td><td>0.002                                 </td></tr>\n",
       "\t<tr><td><span style=white-space:pre-wrap>IV Fluid Day 3 (mL)                   </span></td><td>253.25 (2147.55)                                                              </td><td>772.04 (2683.67)                                                              </td><td>0.213                                                                         </td><td>&lt;0.001                                                                     </td></tr>\n",
       "\t<tr><td><span style=white-space:pre-wrap>SOFA Reduction Day 2                  </span></td><td><span style=white-space:pre-wrap>1.31 (4.55)      </span>                     </td><td><span style=white-space:pre-wrap>0.68 (3.26)      </span>                     </td><td>0.159                                                                         </td><td>&lt;0.001                                                                     </td></tr>\n",
       "\t<tr><td><span style=white-space:pre-wrap>SOFA Reduction Day 3                  </span></td><td><span style=white-space:pre-wrap>2.46 (4.76)      </span>                     </td><td><span style=white-space:pre-wrap>1.15 (3.99)      </span>                     </td><td>0.299                                                                         </td><td>&lt;0.001                                                                     </td></tr>\n",
       "\t<tr><td>Norepinephrine (maximum dosage mg/min)                   </td><td><span style=white-space:pre-wrap>1.04 (2.68)      </span></td><td><span style=white-space:pre-wrap>1.38 (3.13)      </span></td><td>0.117                                                    </td><td>&lt;0.001                                                </td></tr>\n",
       "\t<tr><td>Serum Lactate Reduction (48 hours)    </td><td>0.53 (2.40)                           </td><td>0.23 (1.94)                           </td><td>0.138                                 </td><td>0.558                                 </td></tr>\n",
       "\t<tr><td>Serum Creatinine Reduction (48 hours) </td><td>0.17 (0.92)                           </td><td>0.13 (0.73)                           </td><td>0.056                                 </td><td>0.33                                  </td></tr>\n",
       "\t<tr><td>Serum Lactate Reduction (24 hours)    </td><td>0.37 (2.11)                           </td><td>0.12 (1.65)                           </td><td>0.128                                 </td><td>0.532                                 </td></tr>\n",
       "\t<tr><td>Serum Creatinine Reduction (24 hours) </td><td>0.12 (0.65)                           </td><td>0.08 (0.58)                           </td><td>0.055                                 </td><td>0.262                                 </td></tr>\n",
       "</tbody>\n",
       "</table>\n"
      ],
      "text/latex": [
       "\\begin{tabular}{r|lllll}\n",
       " cov & Non-Echo (PS matching) & Echo (PS matching) & SMD (PS matching) & p value (PS matching)\\\\\n",
       "\\hline\n",
       "\t n                                      & 1626                                   & 1626                                   &                                        &                                       \\\\\n",
       "\t Ventilation free days in 28 days       & 18.10 (14.70)                          & 19.60 (32.64)                          & 0.059                                  & 0.089                                 \\\\\n",
       "\t Vasopressor free days in 28 days       & 19.31 (12.73)                          & 20.81 (16.95)                          & 0.100                                  & 0.004                                 \\\\\n",
       "\t Dobutamine Use                         & 1.2\\%                                 & 2.1\\%                                 & 0.067                                  & 0.077                                 \\\\\n",
       "\t IV Fluid Day 1 (mL)                    & 2112.35 (3372.21)                      & 2432.62 (3768.74)                      & 0.090                                  & 0.046                                 \\\\\n",
       "\t IV Fluid Day 2 (mL)                    & 900.41 (2557.54)                       & 1275.37 (2872.81)                      & 0.138                                  & 0.002                                 \\\\\n",
       "\t IV Fluid Day 3 (mL)                    & 253.25 (2147.55)                       & 772.04 (2683.67)                       & 0.213                                  & <0.001                                \\\\\n",
       "\t SOFA Reduction Day 2                   & 1.31 (4.55)                            & 0.68 (3.26)                            & 0.159                                  & <0.001                                \\\\\n",
       "\t SOFA Reduction Day 3                   & 2.46 (4.76)                            & 1.15 (3.99)                            & 0.299                                  & <0.001                                \\\\\n",
       "\t Norepinephrine (maximum dosage mg/min) & 1.04 (2.68)                            & 1.38 (3.13)                            & 0.117                                  & <0.001                                \\\\\n",
       "\t Serum Lactate Reduction (48 hours)     & 0.53 (2.40)                            & 0.23 (1.94)                            & 0.138                                  & 0.558                                 \\\\\n",
       "\t Serum Creatinine Reduction (48 hours)  & 0.17 (0.92)                            & 0.13 (0.73)                            & 0.056                                  & 0.33                                  \\\\\n",
       "\t Serum Lactate Reduction (24 hours)     & 0.37 (2.11)                            & 0.12 (1.65)                            & 0.128                                  & 0.532                                 \\\\\n",
       "\t Serum Creatinine Reduction (24 hours)  & 0.12 (0.65)                            & 0.08 (0.58)                            & 0.055                                  & 0.262                                 \\\\\n",
       "\\end{tabular}\n"
      ],
      "text/markdown": [
       "\n",
       "cov | Non-Echo (PS matching) | Echo (PS matching) | SMD (PS matching) | p value (PS matching) | \n",
       "|---|---|---|---|---|---|---|---|---|---|---|---|---|---|\n",
       "| n                                      | 1626                                   | 1626                                   |                                        |                                        | \n",
       "| Ventilation free days in 28 days       | 18.10 (14.70)                          | 19.60 (32.64)                          | 0.059                                  | 0.089                                  | \n",
       "| Vasopressor free days in 28 days       | 19.31 (12.73)                          | 20.81 (16.95)                          | 0.100                                  | 0.004                                  | \n",
       "| Dobutamine Use                         | 1.2%                                   | 2.1%                                   | 0.067                                  | 0.077                                  | \n",
       "| IV Fluid Day 1 (mL)                    | 2112.35 (3372.21)                      | 2432.62 (3768.74)                      | 0.090                                  | 0.046                                  | \n",
       "| IV Fluid Day 2 (mL)                    | 900.41 (2557.54)                       | 1275.37 (2872.81)                      | 0.138                                  | 0.002                                  | \n",
       "| IV Fluid Day 3 (mL)                    | 253.25 (2147.55)                       | 772.04 (2683.67)                       | 0.213                                  | <0.001                                 | \n",
       "| SOFA Reduction Day 2                   | 1.31 (4.55)                            | 0.68 (3.26)                            | 0.159                                  | <0.001                                 | \n",
       "| SOFA Reduction Day 3                   | 2.46 (4.76)                            | 1.15 (3.99)                            | 0.299                                  | <0.001                                 | \n",
       "| Norepinephrine (maximum dosage mg/min) | 1.04 (2.68)                            | 1.38 (3.13)                            | 0.117                                  | <0.001                                 | \n",
       "| Serum Lactate Reduction (48 hours)     | 0.53 (2.40)                            | 0.23 (1.94)                            | 0.138                                  | 0.558                                  | \n",
       "| Serum Creatinine Reduction (48 hours)  | 0.17 (0.92)                            | 0.13 (0.73)                            | 0.056                                  | 0.33                                   | \n",
       "| Serum Lactate Reduction (24 hours)     | 0.37 (2.11)                            | 0.12 (1.65)                            | 0.128                                  | 0.532                                  | \n",
       "| Serum Creatinine Reduction (24 hours)  | 0.12 (0.65)                            | 0.08 (0.58)                            | 0.055                                  | 0.262                                  | \n",
       "\n",
       "\n"
      ],
      "text/plain": [
       "   cov                                    Non-Echo (PS matching)\n",
       "1  n                                      1626                  \n",
       "2  Ventilation free days in 28 days       18.10 (14.70)         \n",
       "3  Vasopressor free days in 28 days       19.31 (12.73)         \n",
       "4  Dobutamine Use                         1.2%                  \n",
       "5  IV Fluid Day 1 (mL)                    2112.35 (3372.21)     \n",
       "6  IV Fluid Day 2 (mL)                    900.41 (2557.54)      \n",
       "7  IV Fluid Day 3 (mL)                    253.25 (2147.55)      \n",
       "8  SOFA Reduction Day 2                   1.31 (4.55)           \n",
       "9  SOFA Reduction Day 3                   2.46 (4.76)           \n",
       "10 Norepinephrine (maximum dosage mg/min) 1.04 (2.68)           \n",
       "11 Serum Lactate Reduction (48 hours)     0.53 (2.40)           \n",
       "12 Serum Creatinine Reduction (48 hours)  0.17 (0.92)           \n",
       "13 Serum Lactate Reduction (24 hours)     0.37 (2.11)           \n",
       "14 Serum Creatinine Reduction (24 hours)  0.12 (0.65)           \n",
       "   Echo (PS matching) SMD (PS matching) p value (PS matching)\n",
       "1  1626                                                      \n",
       "2  19.60 (32.64)      0.059             0.089                \n",
       "3  20.81 (16.95)      0.100             0.004                \n",
       "4  2.1%               0.067             0.077                \n",
       "5  2432.62 (3768.74)  0.090             0.046                \n",
       "6  1275.37 (2872.81)  0.138             0.002                \n",
       "7  772.04 (2683.67)   0.213             <0.001               \n",
       "8  0.68 (3.26)        0.159             <0.001               \n",
       "9  1.15 (3.99)        0.299             <0.001               \n",
       "10 1.38 (3.13)        0.117             <0.001               \n",
       "11 0.23 (1.94)        0.138             0.558                \n",
       "12 0.13 (0.73)        0.056             0.33                 \n",
       "13 0.12 (1.65)        0.128             0.532                \n",
       "14 0.08 (0.58)        0.055             0.262                "
      ]
     },
     "metadata": {},
     "output_type": "display_data"
    }
   ],
   "source": [
    "tab_report <- tab_full %>% select(1, 10, 11, 12, 13)\n",
    "tab_report"
   ]
  },
  {
   "cell_type": "code",
   "execution_count": 27,
   "metadata": {},
   "outputs": [],
   "source": [
    "data.table::fwrite(tab_full, file.path(data_dir, \"subgroup.csv\"))\n",
    "data.table::fwrite(tab_report, file.path(data_dir, \"subgroup_report.csv\"))"
   ]
  }
 ],
 "metadata": {
  "kernelspec": {
   "display_name": "R",
   "language": "R",
   "name": "ir"
  },
  "language_info": {
   "codemirror_mode": "r",
   "file_extension": ".r",
   "mimetype": "text/x-r-source",
   "name": "R",
   "pygments_lexer": "r",
   "version": "3.4.4"
  },
  "varInspector": {
   "cols": {
    "lenName": 16,
    "lenType": 16,
    "lenVar": 40
   },
   "kernels_config": {
    "python": {
     "delete_cmd_postfix": "",
     "delete_cmd_prefix": "del ",
     "library": "var_list.py",
     "varRefreshCmd": "print(var_dic_list())"
    },
    "r": {
     "delete_cmd_postfix": ") ",
     "delete_cmd_prefix": "rm(",
     "library": "var_list.r",
     "varRefreshCmd": "cat(var_dic_list()) "
    }
   },
   "types_to_exclude": [
    "module",
    "function",
    "builtin_function_or_method",
    "instance",
    "_Feature"
   ],
   "window_display": false
  }
 },
 "nbformat": 4,
 "nbformat_minor": 2
}
