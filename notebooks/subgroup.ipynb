{
 "cells": [
  {
   "cell_type": "code",
   "execution_count": 1,
   "metadata": {},
   "outputs": [
    {
     "name": "stderr",
     "output_type": "stream",
     "text": [
      "Loading required package: DBI\n",
      "── Attaching packages ─────────────────────────────────────── tidyverse 1.2.1 ──\n",
      "✔ ggplot2 2.2.1     ✔ purrr   0.2.4\n",
      "✔ tibble  1.4.2     ✔ dplyr   0.7.4\n",
      "✔ tidyr   0.8.0     ✔ stringr 1.2.0\n",
      "✔ readr   1.1.1     ✔ forcats 0.2.0\n",
      "── Conflicts ────────────────────────────────────────── tidyverse_conflicts() ──\n",
      "✖ dplyr::filter() masks stats::filter()\n",
      "✖ dplyr::lag()    masks stats::lag()\n"
     ]
    }
   ],
   "source": [
    "library(RPostgreSQL)\n",
    "library(tidyverse)"
   ]
  },
  {
   "cell_type": "code",
   "execution_count": 2,
   "metadata": {},
   "outputs": [],
   "source": [
    "source(\"utils.R\")"
   ]
  },
  {
   "cell_type": "code",
   "execution_count": 3,
   "metadata": {},
   "outputs": [],
   "source": [
    "sql_dir <- file.path(\"..\", \"sql\")"
   ]
  },
  {
   "cell_type": "code",
   "execution_count": 4,
   "metadata": {},
   "outputs": [
    {
     "data": {
      "text/plain": [
       "<PostgreSQLResult>"
      ]
     },
     "metadata": {},
     "output_type": "display_data"
    }
   ],
   "source": [
    "drv <- dbDriver(\"PostgreSQL\")\n",
    "con <- dbConnect(drv, dbname = \"mimic\")\n",
    "dbSendQuery(con, \"set search_path=echo,public,mimiciii;\")"
   ]
  },
  {
   "cell_type": "code",
   "execution_count": 5,
   "metadata": {},
   "outputs": [
    {
     "data": {
      "text/html": [
       "<ol class=list-inline>\n",
       "\t<li>'vitals.sql'</li>\n",
       "\t<li>'labs.sql'</li>\n",
       "\t<li>'blood-gas.sql'</li>\n",
       "\t<li>'blood-gas-arterial.sql'</li>\n",
       "\t<li>'gcs.sql'</li>\n",
       "\t<li>'urine-output.sql'</li>\n",
       "\t<li>'sofa.sql'</li>\n",
       "</ol>\n"
      ],
      "text/latex": [
       "\\begin{enumerate*}\n",
       "\\item 'vitals.sql'\n",
       "\\item 'labs.sql'\n",
       "\\item 'blood-gas.sql'\n",
       "\\item 'blood-gas-arterial.sql'\n",
       "\\item 'gcs.sql'\n",
       "\\item 'urine-output.sql'\n",
       "\\item 'sofa.sql'\n",
       "\\end{enumerate*}\n"
      ],
      "text/markdown": [
       "1. 'vitals.sql'\n",
       "2. 'labs.sql'\n",
       "3. 'blood-gas.sql'\n",
       "4. 'blood-gas-arterial.sql'\n",
       "5. 'gcs.sql'\n",
       "6. 'urine-output.sql'\n",
       "7. 'sofa.sql'\n",
       "\n",
       "\n"
      ],
      "text/plain": [
       "[1] \"vitals.sql\"             \"labs.sql\"               \"blood-gas.sql\"         \n",
       "[4] \"blood-gas-arterial.sql\" \"gcs.sql\"                \"urine-output.sql\"      \n",
       "[7] \"sofa.sql\"              "
      ]
     },
     "metadata": {},
     "output_type": "display_data"
    }
   ],
   "source": [
    "files <- c(\"vitals\", \"labs\", \"blood-gas\",\n",
    "           \"blood-gas-arterial\", \"gcs\",\n",
    "           \"urine-output\", \"sofa\") %>% paste0(\".sql\")\n",
    "files"
   ]
  },
  {
   "cell_type": "code",
   "execution_count": 6,
   "metadata": {},
   "outputs": [
    {
     "name": "stdout",
     "output_type": "stream",
     "text": [
      "-- Run vitals.sql from second_day --\n",
      "-- Run labs.sql from second_day --\n",
      "-- Run blood-gas.sql from second_day --\n",
      "-- Run blood-gas-arterial.sql from second_day --\n",
      "-- Run gcs.sql from second_day --\n",
      "-- Run urine-output.sql from second_day --\n",
      "-- Run sofa.sql from second_day --\n",
      "-- Run vitals.sql from third_day --\n",
      "-- Run labs.sql from third_day --\n",
      "-- Run blood-gas.sql from third_day --\n",
      "-- Run blood-gas-arterial.sql from third_day --\n",
      "-- Run gcs.sql from third_day --\n",
      "-- Run urine-output.sql from third_day --\n",
      "-- Run sofa.sql from third_day --\n"
     ]
    }
   ],
   "source": [
    "c(\"second_day\", \"third_day\") %>%\n",
    "walk(function(d) {\n",
    "    files %>% walk(function(f) {\n",
    "        cat(sprintf(\"-- Run %s from %s --\\n\", f, d))\n",
    "        \n",
    "        f %>%\n",
    "        file.path(sql_dir, d, .) %>%\n",
    "        readr::read_file() %>%\n",
    "        dbSendQuery(con, .)\n",
    "    })\n",
    "})"
   ]
  },
  {
   "cell_type": "code",
   "execution_count": 9,
   "metadata": {},
   "outputs": [
    {
     "name": "stdout",
     "output_type": "stream",
     "text": [
      "-- Generate fluid data --\n"
     ]
    }
   ],
   "source": [
    "cat(\"-- Generate fluid data --\\n\")\n",
    "\n",
    "c(\"fluid_input\", \"fluid_output\", \"fluid\") %>%\n",
    "walk(function(f) {\n",
    "    f %>%\n",
    "    paste0(\".sql\") %>%\n",
    "    file.path(sql_dir, .) %>%\n",
    "    file_to_sql_view(f) %>%\n",
    "    dbSendQuery(con, .)\n",
    "})"
   ]
  },
  {
   "cell_type": "code",
   "execution_count": 12,
   "metadata": {},
   "outputs": [
    {
     "name": "stdout",
     "output_type": "stream",
     "text": [
      "-- Generate lactate/creatinine reduction data --\n"
     ]
    }
   ],
   "source": [
    "cat(\"-- Generate lactate/creatinine reduction data --\\n\")\n",
    "\n",
    "c(\"serum_non_diff\", \"serum_echo_diff\", \"serum_diff\") %>%\n",
    "walk(function(f) {\n",
    "    f %>%\n",
    "    paste0(\".sql\") %>%\n",
    "    file.path(sql_dir, .) %>%\n",
    "    file_to_sql_view(f) %>%\n",
    "    dbSendQuery(con, .)\n",
    "})"
   ]
  },
  {
   "cell_type": "code",
   "execution_count": 13,
   "metadata": {},
   "outputs": [
    {
     "name": "stdout",
     "output_type": "stream",
     "text": [
      "-- Generate view subgroup --\n"
     ]
    },
    {
     "data": {
      "text/plain": [
       "<PostgreSQLResult>"
      ]
     },
     "metadata": {},
     "output_type": "display_data"
    }
   ],
   "source": [
    "cat(\"-- Generate view subgroup --\\n\")\n",
    "\n",
    "sql <- file_to_sql_view(file.path(sql_dir, \"subgroup.sql\"),\n",
    "                        \"subgroup\")\n",
    "dbSendQuery(con, sql)"
   ]
  },
  {
   "cell_type": "code",
   "execution_count": 14,
   "metadata": {},
   "outputs": [
    {
     "data": {
      "text/html": [
       "TRUE"
      ],
      "text/latex": [
       "TRUE"
      ],
      "text/markdown": [
       "TRUE"
      ],
      "text/plain": [
       "[1] TRUE"
      ]
     },
     "metadata": {},
     "output_type": "display_data"
    },
    {
     "data": {
      "text/html": [
       "TRUE"
      ],
      "text/latex": [
       "TRUE"
      ],
      "text/markdown": [
       "TRUE"
      ],
      "text/plain": [
       "[1] TRUE"
      ]
     },
     "metadata": {},
     "output_type": "display_data"
    }
   ],
   "source": [
    "dbDisconnect(con)\n",
    "dbUnloadDriver(drv)"
   ]
  }
 ],
 "metadata": {
  "kernelspec": {
   "display_name": "R",
   "language": "R",
   "name": "ir"
  },
  "language_info": {
   "codemirror_mode": "r",
   "file_extension": ".r",
   "mimetype": "text/x-r-source",
   "name": "R",
   "pygments_lexer": "r",
   "version": "3.4.3"
  },
  "varInspector": {
   "cols": {
    "lenName": 16,
    "lenType": 16,
    "lenVar": 40
   },
   "kernels_config": {
    "python": {
     "delete_cmd_postfix": "",
     "delete_cmd_prefix": "del ",
     "library": "var_list.py",
     "varRefreshCmd": "print(var_dic_list())"
    },
    "r": {
     "delete_cmd_postfix": ") ",
     "delete_cmd_prefix": "rm(",
     "library": "var_list.r",
     "varRefreshCmd": "cat(var_dic_list()) "
    }
   },
   "types_to_exclude": [
    "module",
    "function",
    "builtin_function_or_method",
    "instance",
    "_Feature"
   ],
   "window_display": false
  }
 },
 "nbformat": 4,
 "nbformat_minor": 2
}
