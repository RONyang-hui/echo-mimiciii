{
 "cells": [
  {
   "cell_type": "code",
   "execution_count": 1,
   "metadata": {
    "scrolled": true
   },
   "outputs": [
    {
     "name": "stderr",
     "output_type": "stream",
     "text": [
      "Loading required package: DBI\n",
      "Loading required package: Hmisc\n",
      "Loading required package: lattice\n",
      "Loading required package: survival\n",
      "Loading required package: Formula\n",
      "Loading required package: ggplot2\n",
      "\n",
      "Attaching package: ‘Hmisc’\n",
      "\n",
      "The following objects are masked from ‘package:base’:\n",
      "\n",
      "    format.pval, units\n",
      "\n",
      "Loading required package: gdata\n",
      "gdata: read.xls support for 'XLS' (Excel 97-2004) files ENABLED.\n",
      "\n",
      "gdata: read.xls support for 'XLSX' (Excel 2007+) files ENABLED.\n",
      "\n",
      "Attaching package: ‘gdata’\n",
      "\n",
      "The following object is masked from ‘package:stats’:\n",
      "\n",
      "    nobs\n",
      "\n",
      "The following object is masked from ‘package:utils’:\n",
      "\n",
      "    object.size\n",
      "\n",
      "The following object is masked from ‘package:base’:\n",
      "\n",
      "    startsWith\n",
      "\n",
      "Loading required package: mice\n",
      "Loading required package: MASS\n",
      "## \n",
      "##  Matching (Version 4.9-2, Build Date: 2015-12-25)\n",
      "##  See http://sekhon.berkeley.edu/matching for additional documentation.\n",
      "##  Please cite software as:\n",
      "##   Jasjeet S. Sekhon. 2011. ``Multivariate and Propensity Score Matching\n",
      "##   Software with Automated Balance Optimization: The Matching package for R.''\n",
      "##   Journal of Statistical Software, 42(7): 1-52. \n",
      "##\n",
      "\n",
      "── Attaching packages ─────────────────────────────────────── tidyverse 1.2.1 ──\n",
      "✔ tibble  1.4.2     ✔ purrr   0.2.4\n",
      "✔ tidyr   0.8.0     ✔ dplyr   0.7.4\n",
      "✔ readr   1.1.1     ✔ stringr 1.2.0\n",
      "✔ tibble  1.4.2     ✔ forcats 0.2.0\n",
      "── Conflicts ────────────────────────────────────────── tidyverse_conflicts() ──\n",
      "✖ dplyr::combine()   masks gdata::combine()\n",
      "✖ tidyr::complete()  masks mice::complete()\n",
      "✖ dplyr::filter()    masks stats::filter()\n",
      "✖ dplyr::first()     masks gdata::first()\n",
      "✖ purrr::keep()      masks gdata::keep()\n",
      "✖ dplyr::lag()       masks stats::lag()\n",
      "✖ dplyr::last()      masks gdata::last()\n",
      "✖ dplyr::select()    masks MASS::select()\n",
      "✖ dplyr::src()       masks Hmisc::src()\n",
      "✖ dplyr::summarize() masks Hmisc::summarize()\n"
     ]
    }
   ],
   "source": [
    "library(RPostgreSQL)\n",
    "library(tableone)\n",
    "library(weights)\n",
    "library(Matching)\n",
    "library(tidyverse)"
   ]
  },
  {
   "cell_type": "code",
   "execution_count": 2,
   "metadata": {},
   "outputs": [],
   "source": [
    "data_dir <- file.path(\"..\", \"data\")"
   ]
  },
  {
   "cell_type": "code",
   "execution_count": 3,
   "metadata": {},
   "outputs": [
    {
     "data": {
      "text/plain": [
       "<PostgreSQLResult>"
      ]
     },
     "metadata": {},
     "output_type": "display_data"
    }
   ],
   "source": [
    "drv <- dbDriver(\"PostgreSQL\")\n",
    "con <- dbConnect(drv, dbname = \"mimic\")\n",
    "dbSendQuery(con, \"set search_path=echo,public,mimiciii;\")"
   ]
  },
  {
   "cell_type": "code",
   "execution_count": 4,
   "metadata": {},
   "outputs": [],
   "source": [
    "sql <-\n",
    "\"\n",
    "select hadm_id, icustay_id, echo,\n",
    "    norepinephrine_max, dobutamine_flag,\n",
    "    vasofreeday28, ventfreeday28,\n",
    "    lactate_reduction, creatinine_reduction,\n",
    "    sofa, sofa_drop_2, sofa_drop_3, day1, day2, day3,\n",
    "    down2, down3,\n",
    "    creatinine_diff,\n",
    "    lactate_diff\n",
    "from (select hadm_id, icustay_id, echo from merged_data) co\n",
    "left join subgroup using (hadm_id, icustay_id, echo)\n",
    "left join serum_diff using (hadm_id)\n",
    "left join (select icustay_id, day1, day2, day3, down2, down3 from fluid) fl using (icustay_id)\n",
    "\""
   ]
  },
  {
   "cell_type": "code",
   "execution_count": 5,
   "metadata": {},
   "outputs": [
    {
     "data": {
      "text/html": [
       "<table>\n",
       "<thead><tr><th scope=col>hadm_id</th><th scope=col>icustay_id</th><th scope=col>echo</th><th scope=col>norepinephrine_max</th><th scope=col>dobutamine_flag</th><th scope=col>vasofreeday28</th><th scope=col>ventfreeday28</th><th scope=col>lactate_reduction</th><th scope=col>creatinine_reduction</th><th scope=col>sofa</th><th scope=col>sofa_drop_2</th><th scope=col>sofa_drop_3</th><th scope=col>day1</th><th scope=col>day2</th><th scope=col>day3</th><th scope=col>down2</th><th scope=col>down3</th><th scope=col>creatinine_diff</th><th scope=col>lactate_diff</th></tr></thead>\n",
       "<tbody>\n",
       "\t<tr><td>159895   </td><td>228416   </td><td>1        </td><td>0.000000 </td><td>0        </td><td>28.00000 </td><td> 7.581632</td><td>0.0      </td><td>1.3      </td><td>3        </td><td>  1      </td><td>0        </td><td>-2110.000</td><td>-1930.000</td><td>-1475.000</td><td>-180.000 </td><td>-635.000 </td><td> NA      </td><td>NA       </td></tr>\n",
       "\t<tr><td>169700   </td><td>278148   </td><td>0        </td><td>0.000000 </td><td>0        </td><td> 0.00000 </td><td> 0.000000</td><td> NA      </td><td>0.1      </td><td>8        </td><td>-16      </td><td>8        </td><td>       NA</td><td>       NA</td><td>       NA</td><td>      NA </td><td>      NA </td><td> NA      </td><td>NA       </td></tr>\n",
       "\t<tr><td>103722   </td><td>274174   </td><td>1        </td><td>0.000000 </td><td>0        </td><td>28.00000 </td><td>28.000000</td><td>0.0      </td><td>2.0      </td><td>5        </td><td>  3      </td><td>2        </td><td> -300.000</td><td>-1827.000</td><td>  -10.000</td><td>1527.000 </td><td>-290.000 </td><td> NA      </td><td>NA       </td></tr>\n",
       "\t<tr><td>170515   </td><td>214954   </td><td>1        </td><td>7.977352 </td><td>0        </td><td>26.04167 </td><td>24.854167</td><td>1.8      </td><td>0.4      </td><td>8        </td><td>  4      </td><td>5        </td><td> 4299.590</td><td> 2899.645</td><td>-1283.263</td><td>1399.945 </td><td>5582.853 </td><td>0.5      </td><td>NA       </td></tr>\n",
       "\t<tr><td>183493   </td><td>222457   </td><td>0        </td><td>0.000000 </td><td>0        </td><td>28.00000 </td><td>28.000000</td><td> NA      </td><td>0.1      </td><td>1        </td><td>  0      </td><td>1        </td><td> 5988.072</td><td> 2102.761</td><td>       NA</td><td>3885.311 </td><td>      NA </td><td> NA      </td><td>NA       </td></tr>\n",
       "\t<tr><td>134244   </td><td>264413   </td><td>1        </td><td>2.748114 </td><td>0        </td><td>27.37778 </td><td>24.250000</td><td>0.5      </td><td>0.1      </td><td>4        </td><td>  2      </td><td>3        </td><td> 1507.392</td><td>-1400.000</td><td>       NA</td><td>2907.392 </td><td>      NA </td><td> NA      </td><td>NA       </td></tr>\n",
       "</tbody>\n",
       "</table>\n"
      ],
      "text/latex": [
       "\\begin{tabular}{r|lllllllllllllllllll}\n",
       " hadm\\_id & icustay\\_id & echo & norepinephrine\\_max & dobutamine\\_flag & vasofreeday28 & ventfreeday28 & lactate\\_reduction & creatinine\\_reduction & sofa & sofa\\_drop\\_2 & sofa\\_drop\\_3 & day1 & day2 & day3 & down2 & down3 & creatinine\\_diff & lactate\\_diff\\\\\n",
       "\\hline\n",
       "\t 159895    & 228416    & 1         & 0.000000  & 0         & 28.00000  &  7.581632 & 0.0       & 1.3       & 3         &   1       & 0         & -2110.000 & -1930.000 & -1475.000 & -180.000  & -635.000  &  NA       & NA       \\\\\n",
       "\t 169700    & 278148    & 0         & 0.000000  & 0         &  0.00000  &  0.000000 &  NA       & 0.1       & 8         & -16       & 8         &        NA &        NA &        NA &       NA  &       NA  &  NA       & NA       \\\\\n",
       "\t 103722    & 274174    & 1         & 0.000000  & 0         & 28.00000  & 28.000000 & 0.0       & 2.0       & 5         &   3       & 2         &  -300.000 & -1827.000 &   -10.000 & 1527.000  & -290.000  &  NA       & NA       \\\\\n",
       "\t 170515    & 214954    & 1         & 7.977352  & 0         & 26.04167  & 24.854167 & 1.8       & 0.4       & 8         &   4       & 5         &  4299.590 &  2899.645 & -1283.263 & 1399.945  & 5582.853  & 0.5       & NA       \\\\\n",
       "\t 183493    & 222457    & 0         & 0.000000  & 0         & 28.00000  & 28.000000 &  NA       & 0.1       & 1         &   0       & 1         &  5988.072 &  2102.761 &        NA & 3885.311  &       NA  &  NA       & NA       \\\\\n",
       "\t 134244    & 264413    & 1         & 2.748114  & 0         & 27.37778  & 24.250000 & 0.5       & 0.1       & 4         &   2       & 3         &  1507.392 & -1400.000 &        NA & 2907.392  &       NA  &  NA       & NA       \\\\\n",
       "\\end{tabular}\n"
      ],
      "text/markdown": [
       "\n",
       "hadm_id | icustay_id | echo | norepinephrine_max | dobutamine_flag | vasofreeday28 | ventfreeday28 | lactate_reduction | creatinine_reduction | sofa | sofa_drop_2 | sofa_drop_3 | day1 | day2 | day3 | down2 | down3 | creatinine_diff | lactate_diff | \n",
       "|---|---|---|---|---|---|\n",
       "| 159895    | 228416    | 1         | 0.000000  | 0         | 28.00000  |  7.581632 | 0.0       | 1.3       | 3         |   1       | 0         | -2110.000 | -1930.000 | -1475.000 | -180.000  | -635.000  |  NA       | NA        | \n",
       "| 169700    | 278148    | 0         | 0.000000  | 0         |  0.00000  |  0.000000 |  NA       | 0.1       | 8         | -16       | 8         |        NA |        NA |        NA |       NA  |       NA  |  NA       | NA        | \n",
       "| 103722    | 274174    | 1         | 0.000000  | 0         | 28.00000  | 28.000000 | 0.0       | 2.0       | 5         |   3       | 2         |  -300.000 | -1827.000 |   -10.000 | 1527.000  | -290.000  |  NA       | NA        | \n",
       "| 170515    | 214954    | 1         | 7.977352  | 0         | 26.04167  | 24.854167 | 1.8       | 0.4       | 8         |   4       | 5         |  4299.590 |  2899.645 | -1283.263 | 1399.945  | 5582.853  | 0.5       | NA        | \n",
       "| 183493    | 222457    | 0         | 0.000000  | 0         | 28.00000  | 28.000000 |  NA       | 0.1       | 1         |   0       | 1         |  5988.072 |  2102.761 |        NA | 3885.311  |       NA  |  NA       | NA        | \n",
       "| 134244    | 264413    | 1         | 2.748114  | 0         | 27.37778  | 24.250000 | 0.5       | 0.1       | 4         |   2       | 3         |  1507.392 | -1400.000 |        NA | 2907.392  |       NA  |  NA       | NA        | \n",
       "\n",
       "\n"
      ],
      "text/plain": [
       "  hadm_id icustay_id echo norepinephrine_max dobutamine_flag vasofreeday28\n",
       "1 159895  228416     1    0.000000           0               28.00000     \n",
       "2 169700  278148     0    0.000000           0                0.00000     \n",
       "3 103722  274174     1    0.000000           0               28.00000     \n",
       "4 170515  214954     1    7.977352           0               26.04167     \n",
       "5 183493  222457     0    0.000000           0               28.00000     \n",
       "6 134244  264413     1    2.748114           0               27.37778     \n",
       "  ventfreeday28 lactate_reduction creatinine_reduction sofa sofa_drop_2\n",
       "1  7.581632     0.0               1.3                  3      1        \n",
       "2  0.000000      NA               0.1                  8    -16        \n",
       "3 28.000000     0.0               2.0                  5      3        \n",
       "4 24.854167     1.8               0.4                  8      4        \n",
       "5 28.000000      NA               0.1                  1      0        \n",
       "6 24.250000     0.5               0.1                  4      2        \n",
       "  sofa_drop_3 day1      day2      day3      down2    down3    creatinine_diff\n",
       "1 0           -2110.000 -1930.000 -1475.000 -180.000 -635.000  NA            \n",
       "2 8                  NA        NA        NA       NA       NA  NA            \n",
       "3 2            -300.000 -1827.000   -10.000 1527.000 -290.000  NA            \n",
       "4 5            4299.590  2899.645 -1283.263 1399.945 5582.853 0.5            \n",
       "5 1            5988.072  2102.761        NA 3885.311       NA  NA            \n",
       "6 3            1507.392 -1400.000        NA 2907.392       NA  NA            \n",
       "  lactate_diff\n",
       "1 NA          \n",
       "2 NA          \n",
       "3 NA          \n",
       "4 NA          \n",
       "5 NA          \n",
       "6 NA          "
      ]
     },
     "metadata": {},
     "output_type": "display_data"
    }
   ],
   "source": [
    "# subgroup <- dbGetQuery(con, \"select * from subgroup left join fluid using (icustay_id) left join serum_diff using (hadm_id);\")\n",
    "subgroup <- dbGetQuery(con, sql)\n",
    "head(subgroup)"
   ]
  },
  {
   "cell_type": "code",
   "execution_count": 6,
   "metadata": {},
   "outputs": [
    {
     "data": {
      "text/html": [
       "6361"
      ],
      "text/latex": [
       "6361"
      ],
      "text/markdown": [
       "6361"
      ],
      "text/plain": [
       "[1] 6361"
      ]
     },
     "metadata": {},
     "output_type": "display_data"
    }
   ],
   "source": [
    "nrow(subgroup)"
   ]
  },
  {
   "cell_type": "code",
   "execution_count": 7,
   "metadata": {},
   "outputs": [
    {
     "data": {
      "text/html": [
       "TRUE"
      ],
      "text/latex": [
       "TRUE"
      ],
      "text/markdown": [
       "TRUE"
      ],
      "text/plain": [
       "[1] TRUE"
      ]
     },
     "metadata": {},
     "output_type": "display_data"
    },
    {
     "data": {
      "text/html": [
       "TRUE"
      ],
      "text/latex": [
       "TRUE"
      ],
      "text/markdown": [
       "TRUE"
      ],
      "text/plain": [
       "[1] TRUE"
      ]
     },
     "metadata": {},
     "output_type": "display_data"
    }
   ],
   "source": [
    "dbDisconnect(con)\n",
    "dbUnloadDriver(drv)"
   ]
  },
  {
   "cell_type": "code",
   "execution_count": 8,
   "metadata": {},
   "outputs": [
    {
     "data": {
      "text/html": [
       "<table>\n",
       "<thead><tr><th scope=col>icustay_id</th><th scope=col>hadm_id</th><th scope=col>subject_id</th><th scope=col>first_careunit</th><th scope=col>intime</th><th scope=col>outtime</th><th scope=col>angus</th><th scope=col>age</th><th scope=col>icu_order</th><th scope=col>echo_time</th><th scope=col>⋯</th><th scope=col>lab_lactate_flag</th><th scope=col>lab_lactate_first</th><th scope=col>lab_lactate_min</th><th scope=col>lab_lactate_max</th><th scope=col>lab_lactate_abnormal</th><th scope=col>sedative</th><th scope=col>echo_int</th><th scope=col>mort_28_day_int</th><th scope=col>ps</th><th scope=col>ps_weight</th></tr></thead>\n",
       "<tbody>\n",
       "\t<tr><td>228416             </td><td>159895             </td><td> 5491              </td><td>MICU               </td><td>2151-06-29 01:18:27</td><td>2151-07-27 16:00:56</td><td>1                  </td><td>76.58225           </td><td>1                  </td><td>2151-06-30         </td><td>⋯                  </td><td>1                  </td><td>1.4                </td><td>1.4                </td><td>1.4                </td><td>0                  </td><td>0                  </td><td>1                  </td><td>0                  </td><td>0.5444486          </td><td>1.836721           </td></tr>\n",
       "\t<tr><td>278148             </td><td>169700             </td><td>49395              </td><td>MICU               </td><td>2197-01-09 00:45:42</td><td>2197-01-10 06:46:29</td><td>1                  </td><td>82.72606           </td><td>1                  </td><td>NA                 </td><td>⋯                  </td><td>0                  </td><td> NA                </td><td> NA                </td><td> NA                </td><td>NA                 </td><td>0                  </td><td>0                  </td><td>1                  </td><td>0.2569337          </td><td>1.345775           </td></tr>\n",
       "\t<tr><td>274174             </td><td>103722             </td><td>14855              </td><td>MICU               </td><td>2181-09-08 23:43:13</td><td>2181-09-26 16:52:02</td><td>1                  </td><td>61.84390           </td><td>1                  </td><td>2181-09-11         </td><td>⋯                  </td><td>1                  </td><td>1.6                </td><td>1.6                </td><td>2.6                </td><td>1                  </td><td>0                  </td><td>1                  </td><td>0                  </td><td>0.3264142          </td><td>3.063592           </td></tr>\n",
       "\t<tr><td>214954             </td><td>170515             </td><td>54642              </td><td>MICU               </td><td>2176-03-11 04:58:23</td><td>2176-03-15 18:00:48</td><td>1                  </td><td>63.86507           </td><td>1                  </td><td>2176-03-11         </td><td>⋯                  </td><td>1                  </td><td>3.8                </td><td>2.2                </td><td>3.8                </td><td>1                  </td><td>1                  </td><td>1                  </td><td>0                  </td><td>0.8063102          </td><td>1.240217           </td></tr>\n",
       "\t<tr><td>222457             </td><td>183493             </td><td>96815              </td><td>MICU               </td><td>2105-06-04 20:57:55</td><td>2105-06-06 20:01:51</td><td>1                  </td><td>62.84018           </td><td>1                  </td><td>NA                 </td><td>⋯                  </td><td>0                  </td><td> NA                </td><td> NA                </td><td> NA                </td><td>NA                 </td><td>0                  </td><td>0                  </td><td>0                  </td><td>0.2239520          </td><td>1.288580           </td></tr>\n",
       "\t<tr><td>264413             </td><td>134244             </td><td>81436              </td><td>MICU               </td><td>2133-03-27 16:31:37</td><td>2133-04-04 16:15:28</td><td>1                  </td><td>62.60148           </td><td>1                  </td><td>2133-03-31         </td><td>⋯                  </td><td>1                  </td><td>1.4                </td><td>1.4                </td><td>1.4                </td><td>0                  </td><td>0                  </td><td>1                  </td><td>0                  </td><td>0.3457691          </td><td>2.892104           </td></tr>\n",
       "</tbody>\n",
       "</table>\n"
      ],
      "text/latex": [
       "\\begin{tabular}{r|llllllllllllllllllllllllllllllllllllllllllllllllllllllllllllllllllllllllllllllllllllllllllllllllllllllllllllllllllllllllllllllllllllll}\n",
       " icustay\\_id & hadm\\_id & subject\\_id & first\\_careunit & intime & outtime & angus & age & icu\\_order & echo\\_time & ⋯ & lab\\_lactate\\_flag & lab\\_lactate\\_first & lab\\_lactate\\_min & lab\\_lactate\\_max & lab\\_lactate\\_abnormal & sedative & echo\\_int & mort\\_28\\_day\\_int & ps & ps\\_weight\\\\\n",
       "\\hline\n",
       "\t 228416              & 159895              &  5491               & MICU                & 2151-06-29 01:18:27 & 2151-07-27 16:00:56 & 1                   & 76.58225            & 1                   & 2151-06-30          & ⋯                   & 1                   & 1.4                 & 1.4                 & 1.4                 & 0                   & 0                   & 1                   & 0                   & 0.5444486           & 1.836721           \\\\\n",
       "\t 278148              & 169700              & 49395               & MICU                & 2197-01-09 00:45:42 & 2197-01-10 06:46:29 & 1                   & 82.72606            & 1                   & NA                  & ⋯                   & 0                   &  NA                 &  NA                 &  NA                 & NA                  & 0                   & 0                   & 1                   & 0.2569337           & 1.345775           \\\\\n",
       "\t 274174              & 103722              & 14855               & MICU                & 2181-09-08 23:43:13 & 2181-09-26 16:52:02 & 1                   & 61.84390            & 1                   & 2181-09-11          & ⋯                   & 1                   & 1.6                 & 1.6                 & 2.6                 & 1                   & 0                   & 1                   & 0                   & 0.3264142           & 3.063592           \\\\\n",
       "\t 214954              & 170515              & 54642               & MICU                & 2176-03-11 04:58:23 & 2176-03-15 18:00:48 & 1                   & 63.86507            & 1                   & 2176-03-11          & ⋯                   & 1                   & 3.8                 & 2.2                 & 3.8                 & 1                   & 1                   & 1                   & 0                   & 0.8063102           & 1.240217           \\\\\n",
       "\t 222457              & 183493              & 96815               & MICU                & 2105-06-04 20:57:55 & 2105-06-06 20:01:51 & 1                   & 62.84018            & 1                   & NA                  & ⋯                   & 0                   &  NA                 &  NA                 &  NA                 & NA                  & 0                   & 0                   & 0                   & 0.2239520           & 1.288580           \\\\\n",
       "\t 264413              & 134244              & 81436               & MICU                & 2133-03-27 16:31:37 & 2133-04-04 16:15:28 & 1                   & 62.60148            & 1                   & 2133-03-31          & ⋯                   & 1                   & 1.4                 & 1.4                 & 1.4                 & 0                   & 0                   & 1                   & 0                   & 0.3457691           & 2.892104           \\\\\n",
       "\\end{tabular}\n"
      ],
      "text/markdown": [
       "\n",
       "icustay_id | hadm_id | subject_id | first_careunit | intime | outtime | angus | age | icu_order | echo_time | ⋯ | lab_lactate_flag | lab_lactate_first | lab_lactate_min | lab_lactate_max | lab_lactate_abnormal | sedative | echo_int | mort_28_day_int | ps | ps_weight | \n",
       "|---|---|---|---|---|---|\n",
       "| 228416              | 159895              |  5491               | MICU                | 2151-06-29 01:18:27 | 2151-07-27 16:00:56 | 1                   | 76.58225            | 1                   | 2151-06-30          | ⋯                   | 1                   | 1.4                 | 1.4                 | 1.4                 | 0                   | 0                   | 1                   | 0                   | 0.5444486           | 1.836721            | \n",
       "| 278148              | 169700              | 49395               | MICU                | 2197-01-09 00:45:42 | 2197-01-10 06:46:29 | 1                   | 82.72606            | 1                   | NA                  | ⋯                   | 0                   |  NA                 |  NA                 |  NA                 | NA                  | 0                   | 0                   | 1                   | 0.2569337           | 1.345775            | \n",
       "| 274174              | 103722              | 14855               | MICU                | 2181-09-08 23:43:13 | 2181-09-26 16:52:02 | 1                   | 61.84390            | 1                   | 2181-09-11          | ⋯                   | 1                   | 1.6                 | 1.6                 | 2.6                 | 1                   | 0                   | 1                   | 0                   | 0.3264142           | 3.063592            | \n",
       "| 214954              | 170515              | 54642               | MICU                | 2176-03-11 04:58:23 | 2176-03-15 18:00:48 | 1                   | 63.86507            | 1                   | 2176-03-11          | ⋯                   | 1                   | 3.8                 | 2.2                 | 3.8                 | 1                   | 1                   | 1                   | 0                   | 0.8063102           | 1.240217            | \n",
       "| 222457              | 183493              | 96815               | MICU                | 2105-06-04 20:57:55 | 2105-06-06 20:01:51 | 1                   | 62.84018            | 1                   | NA                  | ⋯                   | 0                   |  NA                 |  NA                 |  NA                 | NA                  | 0                   | 0                   | 0                   | 0.2239520           | 1.288580            | \n",
       "| 264413              | 134244              | 81436               | MICU                | 2133-03-27 16:31:37 | 2133-04-04 16:15:28 | 1                   | 62.60148            | 1                   | 2133-03-31          | ⋯                   | 1                   | 1.4                 | 1.4                 | 1.4                 | 0                   | 0                   | 1                   | 0                   | 0.3457691           | 2.892104            | \n",
       "\n",
       "\n"
      ],
      "text/plain": [
       "  icustay_id hadm_id subject_id first_careunit intime             \n",
       "1 228416     159895   5491      MICU           2151-06-29 01:18:27\n",
       "2 278148     169700  49395      MICU           2197-01-09 00:45:42\n",
       "3 274174     103722  14855      MICU           2181-09-08 23:43:13\n",
       "4 214954     170515  54642      MICU           2176-03-11 04:58:23\n",
       "5 222457     183493  96815      MICU           2105-06-04 20:57:55\n",
       "6 264413     134244  81436      MICU           2133-03-27 16:31:37\n",
       "  outtime             angus age      icu_order echo_time  ⋯ lab_lactate_flag\n",
       "1 2151-07-27 16:00:56 1     76.58225 1         2151-06-30 ⋯ 1               \n",
       "2 2197-01-10 06:46:29 1     82.72606 1         <NA>       ⋯ 0               \n",
       "3 2181-09-26 16:52:02 1     61.84390 1         2181-09-11 ⋯ 1               \n",
       "4 2176-03-15 18:00:48 1     63.86507 1         2176-03-11 ⋯ 1               \n",
       "5 2105-06-06 20:01:51 1     62.84018 1         <NA>       ⋯ 0               \n",
       "6 2133-04-04 16:15:28 1     62.60148 1         2133-03-31 ⋯ 1               \n",
       "  lab_lactate_first lab_lactate_min lab_lactate_max lab_lactate_abnormal\n",
       "1 1.4               1.4             1.4             0                   \n",
       "2  NA                NA              NA             NA                  \n",
       "3 1.6               1.6             2.6             1                   \n",
       "4 3.8               2.2             3.8             1                   \n",
       "5  NA                NA              NA             NA                  \n",
       "6 1.4               1.4             1.4             0                   \n",
       "  sedative echo_int mort_28_day_int ps        ps_weight\n",
       "1 0        1        0               0.5444486 1.836721 \n",
       "2 0        0        1               0.2569337 1.345775 \n",
       "3 0        1        0               0.3264142 3.063592 \n",
       "4 1        1        0               0.8063102 1.240217 \n",
       "5 0        0        0               0.2239520 1.288580 \n",
       "6 0        1        0               0.3457691 2.892104 "
      ]
     },
     "metadata": {},
     "output_type": "display_data"
    }
   ],
   "source": [
    "full_data <- readRDS(file.path(data_dir, \"full_data_ps.rds\"))\n",
    "head(full_data)"
   ]
  },
  {
   "cell_type": "code",
   "execution_count": 9,
   "metadata": {},
   "outputs": [
    {
     "data": {
      "text/html": [
       "<table>\n",
       "<thead><tr><th scope=col>hadm_id</th><th scope=col>icustay_id</th><th scope=col>echo</th><th scope=col>norepinephrine_max</th><th scope=col>dobutamine_flag</th><th scope=col>vasofreeday28</th><th scope=col>ventfreeday28</th><th scope=col>lactate_reduction</th><th scope=col>creatinine_reduction</th><th scope=col>sofa</th><th scope=col>⋯</th><th scope=col>sofa_drop_3</th><th scope=col>day1</th><th scope=col>day2</th><th scope=col>day3</th><th scope=col>down2</th><th scope=col>down3</th><th scope=col>creatinine_diff</th><th scope=col>lactate_diff</th><th scope=col>ps_weight</th><th scope=col>ps</th></tr></thead>\n",
       "<tbody>\n",
       "\t<tr><td>159895   </td><td>228416   </td><td>1        </td><td>0.000000 </td><td>0        </td><td>28.00000 </td><td> 7.581632</td><td>0.0      </td><td>1.3      </td><td>3        </td><td>⋯        </td><td>0        </td><td>-2110.000</td><td>-1930.000</td><td>-1475.000</td><td>-180.000 </td><td>-635.000 </td><td> NA      </td><td>NA       </td><td>1.836721 </td><td>0.5444486</td></tr>\n",
       "\t<tr><td>169700   </td><td>278148   </td><td>0        </td><td>0.000000 </td><td>0        </td><td> 0.00000 </td><td> 0.000000</td><td> NA      </td><td>0.1      </td><td>8        </td><td>⋯        </td><td>8        </td><td>       NA</td><td>       NA</td><td>       NA</td><td>      NA </td><td>      NA </td><td> NA      </td><td>NA       </td><td>1.345775 </td><td>0.2569337</td></tr>\n",
       "\t<tr><td>103722   </td><td>274174   </td><td>1        </td><td>0.000000 </td><td>0        </td><td>28.00000 </td><td>28.000000</td><td>0.0      </td><td>2.0      </td><td>5        </td><td>⋯        </td><td>2        </td><td> -300.000</td><td>-1827.000</td><td>  -10.000</td><td>1527.000 </td><td>-290.000 </td><td> NA      </td><td>NA       </td><td>3.063592 </td><td>0.3264142</td></tr>\n",
       "\t<tr><td>170515   </td><td>214954   </td><td>1        </td><td>7.977352 </td><td>0        </td><td>26.04167 </td><td>24.854167</td><td>1.8      </td><td>0.4      </td><td>8        </td><td>⋯        </td><td>5        </td><td> 4299.590</td><td> 2899.645</td><td>-1283.263</td><td>1399.945 </td><td>5582.853 </td><td>0.5      </td><td>NA       </td><td>1.240217 </td><td>0.8063102</td></tr>\n",
       "\t<tr><td>183493   </td><td>222457   </td><td>0        </td><td>0.000000 </td><td>0        </td><td>28.00000 </td><td>28.000000</td><td> NA      </td><td>0.1      </td><td>1        </td><td>⋯        </td><td>1        </td><td> 5988.072</td><td> 2102.761</td><td>       NA</td><td>3885.311 </td><td>      NA </td><td> NA      </td><td>NA       </td><td>1.288580 </td><td>0.2239520</td></tr>\n",
       "\t<tr><td>134244   </td><td>264413   </td><td>1        </td><td>2.748114 </td><td>0        </td><td>27.37778 </td><td>24.250000</td><td>0.5      </td><td>0.1      </td><td>4        </td><td>⋯        </td><td>3        </td><td> 1507.392</td><td>-1400.000</td><td>       NA</td><td>2907.392 </td><td>      NA </td><td> NA      </td><td>NA       </td><td>2.892104 </td><td>0.3457691</td></tr>\n",
       "</tbody>\n",
       "</table>\n"
      ],
      "text/latex": [
       "\\begin{tabular}{r|lllllllllllllllllllll}\n",
       " hadm\\_id & icustay\\_id & echo & norepinephrine\\_max & dobutamine\\_flag & vasofreeday28 & ventfreeday28 & lactate\\_reduction & creatinine\\_reduction & sofa & ⋯ & sofa\\_drop\\_3 & day1 & day2 & day3 & down2 & down3 & creatinine\\_diff & lactate\\_diff & ps\\_weight & ps\\\\\n",
       "\\hline\n",
       "\t 159895    & 228416    & 1         & 0.000000  & 0         & 28.00000  &  7.581632 & 0.0       & 1.3       & 3         & ⋯         & 0         & -2110.000 & -1930.000 & -1475.000 & -180.000  & -635.000  &  NA       & NA        & 1.836721  & 0.5444486\\\\\n",
       "\t 169700    & 278148    & 0         & 0.000000  & 0         &  0.00000  &  0.000000 &  NA       & 0.1       & 8         & ⋯         & 8         &        NA &        NA &        NA &       NA  &       NA  &  NA       & NA        & 1.345775  & 0.2569337\\\\\n",
       "\t 103722    & 274174    & 1         & 0.000000  & 0         & 28.00000  & 28.000000 & 0.0       & 2.0       & 5         & ⋯         & 2         &  -300.000 & -1827.000 &   -10.000 & 1527.000  & -290.000  &  NA       & NA        & 3.063592  & 0.3264142\\\\\n",
       "\t 170515    & 214954    & 1         & 7.977352  & 0         & 26.04167  & 24.854167 & 1.8       & 0.4       & 8         & ⋯         & 5         &  4299.590 &  2899.645 & -1283.263 & 1399.945  & 5582.853  & 0.5       & NA        & 1.240217  & 0.8063102\\\\\n",
       "\t 183493    & 222457    & 0         & 0.000000  & 0         & 28.00000  & 28.000000 &  NA       & 0.1       & 1         & ⋯         & 1         &  5988.072 &  2102.761 &        NA & 3885.311  &       NA  &  NA       & NA        & 1.288580  & 0.2239520\\\\\n",
       "\t 134244    & 264413    & 1         & 2.748114  & 0         & 27.37778  & 24.250000 & 0.5       & 0.1       & 4         & ⋯         & 3         &  1507.392 & -1400.000 &        NA & 2907.392  &       NA  &  NA       & NA        & 2.892104  & 0.3457691\\\\\n",
       "\\end{tabular}\n"
      ],
      "text/markdown": [
       "\n",
       "hadm_id | icustay_id | echo | norepinephrine_max | dobutamine_flag | vasofreeday28 | ventfreeday28 | lactate_reduction | creatinine_reduction | sofa | ⋯ | sofa_drop_3 | day1 | day2 | day3 | down2 | down3 | creatinine_diff | lactate_diff | ps_weight | ps | \n",
       "|---|---|---|---|---|---|\n",
       "| 159895    | 228416    | 1         | 0.000000  | 0         | 28.00000  |  7.581632 | 0.0       | 1.3       | 3         | ⋯         | 0         | -2110.000 | -1930.000 | -1475.000 | -180.000  | -635.000  |  NA       | NA        | 1.836721  | 0.5444486 | \n",
       "| 169700    | 278148    | 0         | 0.000000  | 0         |  0.00000  |  0.000000 |  NA       | 0.1       | 8         | ⋯         | 8         |        NA |        NA |        NA |       NA  |       NA  |  NA       | NA        | 1.345775  | 0.2569337 | \n",
       "| 103722    | 274174    | 1         | 0.000000  | 0         | 28.00000  | 28.000000 | 0.0       | 2.0       | 5         | ⋯         | 2         |  -300.000 | -1827.000 |   -10.000 | 1527.000  | -290.000  |  NA       | NA        | 3.063592  | 0.3264142 | \n",
       "| 170515    | 214954    | 1         | 7.977352  | 0         | 26.04167  | 24.854167 | 1.8       | 0.4       | 8         | ⋯         | 5         |  4299.590 |  2899.645 | -1283.263 | 1399.945  | 5582.853  | 0.5       | NA        | 1.240217  | 0.8063102 | \n",
       "| 183493    | 222457    | 0         | 0.000000  | 0         | 28.00000  | 28.000000 |  NA       | 0.1       | 1         | ⋯         | 1         |  5988.072 |  2102.761 |        NA | 3885.311  |       NA  |  NA       | NA        | 1.288580  | 0.2239520 | \n",
       "| 134244    | 264413    | 1         | 2.748114  | 0         | 27.37778  | 24.250000 | 0.5       | 0.1       | 4         | ⋯         | 3         |  1507.392 | -1400.000 |        NA | 2907.392  |       NA  |  NA       | NA        | 2.892104  | 0.3457691 | \n",
       "\n",
       "\n"
      ],
      "text/plain": [
       "  hadm_id icustay_id echo norepinephrine_max dobutamine_flag vasofreeday28\n",
       "1 159895  228416     1    0.000000           0               28.00000     \n",
       "2 169700  278148     0    0.000000           0                0.00000     \n",
       "3 103722  274174     1    0.000000           0               28.00000     \n",
       "4 170515  214954     1    7.977352           0               26.04167     \n",
       "5 183493  222457     0    0.000000           0               28.00000     \n",
       "6 134244  264413     1    2.748114           0               27.37778     \n",
       "  ventfreeday28 lactate_reduction creatinine_reduction sofa ⋯ sofa_drop_3\n",
       "1  7.581632     0.0               1.3                  3    ⋯ 0          \n",
       "2  0.000000      NA               0.1                  8    ⋯ 8          \n",
       "3 28.000000     0.0               2.0                  5    ⋯ 2          \n",
       "4 24.854167     1.8               0.4                  8    ⋯ 5          \n",
       "5 28.000000      NA               0.1                  1    ⋯ 1          \n",
       "6 24.250000     0.5               0.1                  4    ⋯ 3          \n",
       "  day1      day2      day3      down2    down3    creatinine_diff lactate_diff\n",
       "1 -2110.000 -1930.000 -1475.000 -180.000 -635.000  NA             NA          \n",
       "2        NA        NA        NA       NA       NA  NA             NA          \n",
       "3  -300.000 -1827.000   -10.000 1527.000 -290.000  NA             NA          \n",
       "4  4299.590  2899.645 -1283.263 1399.945 5582.853 0.5             NA          \n",
       "5  5988.072  2102.761        NA 3885.311       NA  NA             NA          \n",
       "6  1507.392 -1400.000        NA 2907.392       NA  NA             NA          \n",
       "  ps_weight ps       \n",
       "1 1.836721  0.5444486\n",
       "2 1.345775  0.2569337\n",
       "3 3.063592  0.3264142\n",
       "4 1.240217  0.8063102\n",
       "5 1.288580  0.2239520\n",
       "6 2.892104  0.3457691"
      ]
     },
     "metadata": {},
     "output_type": "display_data"
    }
   ],
   "source": [
    "subgroup <- subgroup %>%\n",
    "left_join(full_data %>% select(icustay_id, ps_weight, ps), by = \"icustay_id\") %>%\n",
    "mutate(dobutamine_flag = as.factor(dobutamine_flag))\n",
    "head(subgroup)"
   ]
  },
  {
   "cell_type": "code",
   "execution_count": 10,
   "metadata": {},
   "outputs": [
    {
     "data": {
      "text/html": [
       "<ol class=list-inline>\n",
       "\t<li>'ventfreeday28'</li>\n",
       "\t<li>'vasofreeday28'</li>\n",
       "\t<li>'dobutamine_flag'</li>\n",
       "\t<li>'day1'</li>\n",
       "\t<li>'day2'</li>\n",
       "\t<li>'day3'</li>\n",
       "\t<li>'sofa_drop_2'</li>\n",
       "\t<li>'sofa_drop_3'</li>\n",
       "\t<li>'norepinephrine_max'</li>\n",
       "\t<li>'lactate_diff'</li>\n",
       "\t<li>'creatinine_diff'</li>\n",
       "</ol>\n"
      ],
      "text/latex": [
       "\\begin{enumerate*}\n",
       "\\item 'ventfreeday28'\n",
       "\\item 'vasofreeday28'\n",
       "\\item 'dobutamine\\_flag'\n",
       "\\item 'day1'\n",
       "\\item 'day2'\n",
       "\\item 'day3'\n",
       "\\item 'sofa\\_drop\\_2'\n",
       "\\item 'sofa\\_drop\\_3'\n",
       "\\item 'norepinephrine\\_max'\n",
       "\\item 'lactate\\_diff'\n",
       "\\item 'creatinine\\_diff'\n",
       "\\end{enumerate*}\n"
      ],
      "text/markdown": [
       "1. 'ventfreeday28'\n",
       "2. 'vasofreeday28'\n",
       "3. 'dobutamine_flag'\n",
       "4. 'day1'\n",
       "5. 'day2'\n",
       "6. 'day3'\n",
       "7. 'sofa_drop_2'\n",
       "8. 'sofa_drop_3'\n",
       "9. 'norepinephrine_max'\n",
       "10. 'lactate_diff'\n",
       "11. 'creatinine_diff'\n",
       "\n",
       "\n"
      ],
      "text/plain": [
       " [1] \"ventfreeday28\"      \"vasofreeday28\"      \"dobutamine_flag\"   \n",
       " [4] \"day1\"               \"day2\"               \"day3\"              \n",
       " [7] \"sofa_drop_2\"        \"sofa_drop_3\"        \"norepinephrine_max\"\n",
       "[10] \"lactate_diff\"       \"creatinine_diff\"   "
      ]
     },
     "metadata": {},
     "output_type": "display_data"
    }
   ],
   "source": [
    "# features <- names(subgroup) %>%\n",
    "#     discard(~ .x %in% c(\"hadm_id\", \"icustay_id\", \"echo\"))\n",
    "features <- c(\"ventfreeday28\", \"vasofreeday28\", \"dobutamine_flag\", \"day1\", \"day2\", \"day3\",\n",
    "              \"sofa_drop_2\", \"sofa_drop_3\",\n",
    "              \"norepinephrine_max\", \"lactate_diff\", \"creatinine_diff\")\n",
    "features"
   ]
  },
  {
   "cell_type": "code",
   "execution_count": 11,
   "metadata": {},
   "outputs": [],
   "source": [
    "tab <- CreateTableOne(vars = features, strata = \"echo\",\n",
    "                      data = subgroup)\n",
    "capture.output(tab_df <- tab %>%\n",
    "               print(smd = TRUE) %>%\n",
    "               as.data.frame(stringsAsFactors = FALSE) %>%\n",
    "               select(-test)) %>% invisible"
   ]
  },
  {
   "cell_type": "code",
   "execution_count": 12,
   "metadata": {},
   "outputs": [
    {
     "data": {
      "text/html": [
       "<table>\n",
       "<thead><tr><th></th><th scope=col>0</th><th scope=col>1</th><th scope=col>p</th><th scope=col>SMD</th></tr></thead>\n",
       "<tbody>\n",
       "\t<tr><th scope=row>n</th><td>   3099          </td><td>   3262          </td><td>                 </td><td>                 </td></tr>\n",
       "\t<tr><th scope=row>ventfreeday28 (mean (sd))</th><td>  19.09 (13.53)  </td><td>  18.02 (25.13)  </td><td> 0.036           </td><td> 0.053           </td></tr>\n",
       "\t<tr><th scope=row>vasofreeday28 (mean (sd))</th><td>  20.25 (12.61)  </td><td>  20.13 (14.91)  </td><td> 0.742           </td><td> 0.008           </td></tr>\n",
       "\t<tr><th scope=row>dobutamine_flag = 1 (%)</th><td><span style=white-space:pre-wrap>     23 (0.7)    </span></td><td><span style=white-space:pre-wrap>    137 (4.2)    </span></td><td>&lt;0.001                                                </td><td> 0.224                                                   </td></tr>\n",
       "\t<tr><th scope=row>day1 (mean (sd))</th><td>1939.14 (3181.88)</td><td>2456.26 (3853.10)</td><td>&lt;0.001        </td><td> 0.146           </td></tr>\n",
       "\t<tr><th scope=row>day2 (mean (sd))</th><td> 835.26 (2429.91)</td><td>1258.22 (2933.92)</td><td>&lt;0.001        </td><td> 0.157           </td></tr>\n",
       "\t<tr><th scope=row>day3 (mean (sd))</th><td> 256.15 (2108.02)</td><td> 686.56 (2614.26)</td><td>&lt;0.001        </td><td> 0.181           </td></tr>\n",
       "\t<tr><th scope=row>sofa_drop_2 (mean (sd))</th><td>   1.22 (4.34)   </td><td>   0.89 (3.39)   </td><td> 0.001           </td><td> 0.086           </td></tr>\n",
       "\t<tr><th scope=row>sofa_drop_3 (mean (sd))</th><td><span style=white-space:pre-wrap>   2.29 (4.49)   </span></td><td><span style=white-space:pre-wrap>   1.49 (4.07)   </span></td><td>&lt;0.001                                                </td><td> 0.186                                                   </td></tr>\n",
       "\t<tr><th scope=row>norepinephrine_max (mean (sd))</th><td><span style=white-space:pre-wrap>   0.81 (2.39)   </span></td><td><span style=white-space:pre-wrap>   1.78 (5.69)   </span></td><td>&lt;0.001                                                </td><td> 0.221                                                   </td></tr>\n",
       "\t<tr><th scope=row>lactate_diff (mean (sd))</th><td>   0.54 (2.44)   </td><td>   1.11 (2.40)   </td><td> 0.006           </td><td> 0.234           </td></tr>\n",
       "\t<tr><th scope=row>creatinine_diff (mean (sd))</th><td>   0.11 (0.80)   </td><td>   0.11 (1.06)   </td><td> 0.952           </td><td> 0.003           </td></tr>\n",
       "</tbody>\n",
       "</table>\n"
      ],
      "text/latex": [
       "\\begin{tabular}{r|llll}\n",
       "  & 0 & 1 & p & SMD\\\\\n",
       "\\hline\n",
       "\tn &    3099           &    3262           &                   &                  \\\\\n",
       "\tventfreeday28 (mean (sd)) &   19.09 (13.53)   &   18.02 (25.13)   &  0.036            &  0.053           \\\\\n",
       "\tvasofreeday28 (mean (sd)) &   20.25 (12.61)   &   20.13 (14.91)   &  0.742            &  0.008           \\\\\n",
       "\tdobutamine\\_flag = 1 (\\%) &      23 (0.7)     &     137 (4.2)     & <0.001            &  0.224           \\\\\n",
       "\tday1 (mean (sd)) & 1939.14 (3181.88) & 2456.26 (3853.10) & <0.001            &  0.146           \\\\\n",
       "\tday2 (mean (sd)) &  835.26 (2429.91) & 1258.22 (2933.92) & <0.001            &  0.157           \\\\\n",
       "\tday3 (mean (sd)) &  256.15 (2108.02) &  686.56 (2614.26) & <0.001            &  0.181           \\\\\n",
       "\tsofa\\_drop\\_2 (mean (sd)) &    1.22 (4.34)    &    0.89 (3.39)    &  0.001            &  0.086           \\\\\n",
       "\tsofa\\_drop\\_3 (mean (sd)) &    2.29 (4.49)    &    1.49 (4.07)    & <0.001            &  0.186           \\\\\n",
       "\tnorepinephrine\\_max (mean (sd)) &    0.81 (2.39)    &    1.78 (5.69)    & <0.001            &  0.221           \\\\\n",
       "\tlactate\\_diff (mean (sd)) &    0.54 (2.44)    &    1.11 (2.40)    &  0.006            &  0.234           \\\\\n",
       "\tcreatinine\\_diff (mean (sd)) &    0.11 (0.80)    &    0.11 (1.06)    &  0.952            &  0.003           \\\\\n",
       "\\end{tabular}\n"
      ],
      "text/markdown": [
       "\n",
       "| <!--/--> | 0 | 1 | p | SMD | \n",
       "|---|---|---|---|---|---|---|---|---|---|---|---|\n",
       "| n |    3099           |    3262           |                   |                   | \n",
       "| ventfreeday28 (mean (sd)) |   19.09 (13.53)   |   18.02 (25.13)   |  0.036            |  0.053            | \n",
       "| vasofreeday28 (mean (sd)) |   20.25 (12.61)   |   20.13 (14.91)   |  0.742            |  0.008            | \n",
       "| dobutamine_flag = 1 (%) |      23 (0.7)     |     137 (4.2)     | <0.001            |  0.224            | \n",
       "| day1 (mean (sd)) | 1939.14 (3181.88) | 2456.26 (3853.10) | <0.001            |  0.146            | \n",
       "| day2 (mean (sd)) |  835.26 (2429.91) | 1258.22 (2933.92) | <0.001            |  0.157            | \n",
       "| day3 (mean (sd)) |  256.15 (2108.02) |  686.56 (2614.26) | <0.001            |  0.181            | \n",
       "| sofa_drop_2 (mean (sd)) |    1.22 (4.34)    |    0.89 (3.39)    |  0.001            |  0.086            | \n",
       "| sofa_drop_3 (mean (sd)) |    2.29 (4.49)    |    1.49 (4.07)    | <0.001            |  0.186            | \n",
       "| norepinephrine_max (mean (sd)) |    0.81 (2.39)    |    1.78 (5.69)    | <0.001            |  0.221            | \n",
       "| lactate_diff (mean (sd)) |    0.54 (2.44)    |    1.11 (2.40)    |  0.006            |  0.234            | \n",
       "| creatinine_diff (mean (sd)) |    0.11 (0.80)    |    0.11 (1.06)    |  0.952            |  0.003            | \n",
       "\n",
       "\n"
      ],
      "text/plain": [
       "                               0                 1                 p     \n",
       "n                                 3099              3262                 \n",
       "ventfreeday28 (mean (sd))        19.09 (13.53)     18.02 (25.13)    0.036\n",
       "vasofreeday28 (mean (sd))        20.25 (12.61)     20.13 (14.91)    0.742\n",
       "dobutamine_flag = 1 (%)             23 (0.7)         137 (4.2)     <0.001\n",
       "day1 (mean (sd))               1939.14 (3181.88) 2456.26 (3853.10) <0.001\n",
       "day2 (mean (sd))                835.26 (2429.91) 1258.22 (2933.92) <0.001\n",
       "day3 (mean (sd))                256.15 (2108.02)  686.56 (2614.26) <0.001\n",
       "sofa_drop_2 (mean (sd))           1.22 (4.34)       0.89 (3.39)     0.001\n",
       "sofa_drop_3 (mean (sd))           2.29 (4.49)       1.49 (4.07)    <0.001\n",
       "norepinephrine_max (mean (sd))    0.81 (2.39)       1.78 (5.69)    <0.001\n",
       "lactate_diff (mean (sd))          0.54 (2.44)       1.11 (2.40)     0.006\n",
       "creatinine_diff (mean (sd))       0.11 (0.80)       0.11 (1.06)     0.952\n",
       "                               SMD   \n",
       "n                                    \n",
       "ventfreeday28 (mean (sd))       0.053\n",
       "vasofreeday28 (mean (sd))       0.008\n",
       "dobutamine_flag = 1 (%)         0.224\n",
       "day1 (mean (sd))                0.146\n",
       "day2 (mean (sd))                0.157\n",
       "day3 (mean (sd))                0.181\n",
       "sofa_drop_2 (mean (sd))         0.086\n",
       "sofa_drop_3 (mean (sd))         0.186\n",
       "norepinephrine_max (mean (sd))  0.221\n",
       "lactate_diff (mean (sd))        0.234\n",
       "creatinine_diff (mean (sd))     0.003"
      ]
     },
     "metadata": {},
     "output_type": "display_data"
    }
   ],
   "source": [
    "tab_df"
   ]
  },
  {
   "cell_type": "code",
   "execution_count": 13,
   "metadata": {},
   "outputs": [],
   "source": [
    "ipw_svydesign <- survey::svydesign(ids = ~ icustay_id, weights = ~ ps_weight, data = subgroup)"
   ]
  },
  {
   "cell_type": "code",
   "execution_count": 14,
   "metadata": {},
   "outputs": [],
   "source": [
    "tab_wtd <- svyCreateTableOne(vars = features,\n",
    "                             strata = \"echo\",\n",
    "                             data = ipw_svydesign)\n",
    "capture.output(tab_wtd_df <- tab_wtd %>%\n",
    "               print %>%\n",
    "               as.data.frame(stringsAsFactors = FALSE) %>%\n",
    "               select(-test)) %>% invisible"
   ]
  },
  {
   "cell_type": "code",
   "execution_count": 15,
   "metadata": {},
   "outputs": [
    {
     "data": {
      "text/html": [
       "<table>\n",
       "<thead><tr><th></th><th scope=col>0</th><th scope=col>1</th><th scope=col>p</th></tr></thead>\n",
       "<tbody>\n",
       "\t<tr><th scope=row>n</th><td>5739.99          </td><td>5845.39          </td><td>                 </td></tr>\n",
       "\t<tr><th scope=row>ventfreeday28 (mean (sd))</th><td>  14.45 (15.99)  </td><td>  19.43 (50.91)  </td><td> 0.927           </td></tr>\n",
       "\t<tr><th scope=row>vasofreeday28 (mean (sd))</th><td>  18.23 (13.77)  </td><td>  18.95 (16.50)  </td><td> 0.050           </td></tr>\n",
       "\t<tr><th scope=row>dobutamine_flag = 1 (%)</th><td><span style=white-space:pre-wrap>   63.2 (1.1)    </span></td><td><span style=white-space:pre-wrap>  195.5 (3.3)    </span></td><td>&lt;0.001                                                </td></tr>\n",
       "\t<tr><th scope=row>day1 (mean (sd))</th><td>3379.90 (3761.82)</td><td>3185.54 (4889.07)</td><td> 0.001           </td></tr>\n",
       "\t<tr><th scope=row>day2 (mean (sd))</th><td>2285.72 (2701.63)</td><td>1517.76 (4083.22)</td><td>&lt;0.001        </td></tr>\n",
       "\t<tr><th scope=row>day3 (mean (sd))</th><td>1113.24 (2594.41)</td><td> 611.07 (2818.82)</td><td>&lt;0.001        </td></tr>\n",
       "\t<tr><th scope=row>sofa_drop_2 (mean (sd))</th><td><span style=white-space:pre-wrap>   0.91 (2.84)   </span></td><td><span style=white-space:pre-wrap>   0.97 (2.67)   </span></td><td>&lt;0.001                                                </td></tr>\n",
       "\t<tr><th scope=row>sofa_drop_3 (mean (sd))</th><td><span style=white-space:pre-wrap>   1.18 (3.05)   </span></td><td><span style=white-space:pre-wrap>   1.14 (3.12)   </span></td><td>&lt;0.001                                                </td></tr>\n",
       "\t<tr><th scope=row>norepinephrine_max (mean (sd))</th><td><span style=white-space:pre-wrap>   1.82 (3.31)   </span></td><td><span style=white-space:pre-wrap>   2.44 (4.22)   </span></td><td>&lt;0.001                                                </td></tr>\n",
       "\t<tr><th scope=row>lactate_diff (mean (sd))</th><td>   0.64 (1.93)   </td><td>   1.04 (2.24)   </td><td> 0.010           </td></tr>\n",
       "\t<tr><th scope=row>creatinine_diff (mean (sd))</th><td>  -0.05 (0.93)   </td><td>   0.09 (1.02)   </td><td> 0.284           </td></tr>\n",
       "</tbody>\n",
       "</table>\n"
      ],
      "text/latex": [
       "\\begin{tabular}{r|lll}\n",
       "  & 0 & 1 & p\\\\\n",
       "\\hline\n",
       "\tn & 5739.99           & 5845.39           &                  \\\\\n",
       "\tventfreeday28 (mean (sd)) &   14.45 (15.99)   &   19.43 (50.91)   &  0.927           \\\\\n",
       "\tvasofreeday28 (mean (sd)) &   18.23 (13.77)   &   18.95 (16.50)   &  0.050           \\\\\n",
       "\tdobutamine\\_flag = 1 (\\%) &    63.2 (1.1)     &   195.5 (3.3)     & <0.001           \\\\\n",
       "\tday1 (mean (sd)) & 3379.90 (3761.82) & 3185.54 (4889.07) &  0.001           \\\\\n",
       "\tday2 (mean (sd)) & 2285.72 (2701.63) & 1517.76 (4083.22) & <0.001           \\\\\n",
       "\tday3 (mean (sd)) & 1113.24 (2594.41) &  611.07 (2818.82) & <0.001           \\\\\n",
       "\tsofa\\_drop\\_2 (mean (sd)) &    0.91 (2.84)    &    0.97 (2.67)    & <0.001           \\\\\n",
       "\tsofa\\_drop\\_3 (mean (sd)) &    1.18 (3.05)    &    1.14 (3.12)    & <0.001           \\\\\n",
       "\tnorepinephrine\\_max (mean (sd)) &    1.82 (3.31)    &    2.44 (4.22)    & <0.001           \\\\\n",
       "\tlactate\\_diff (mean (sd)) &    0.64 (1.93)    &    1.04 (2.24)    &  0.010           \\\\\n",
       "\tcreatinine\\_diff (mean (sd)) &   -0.05 (0.93)    &    0.09 (1.02)    &  0.284           \\\\\n",
       "\\end{tabular}\n"
      ],
      "text/markdown": [
       "\n",
       "| <!--/--> | 0 | 1 | p | \n",
       "|---|---|---|---|---|---|---|---|---|---|---|---|\n",
       "| n | 5739.99           | 5845.39           |                   | \n",
       "| ventfreeday28 (mean (sd)) |   14.45 (15.99)   |   19.43 (50.91)   |  0.927            | \n",
       "| vasofreeday28 (mean (sd)) |   18.23 (13.77)   |   18.95 (16.50)   |  0.050            | \n",
       "| dobutamine_flag = 1 (%) |    63.2 (1.1)     |   195.5 (3.3)     | <0.001            | \n",
       "| day1 (mean (sd)) | 3379.90 (3761.82) | 3185.54 (4889.07) |  0.001            | \n",
       "| day2 (mean (sd)) | 2285.72 (2701.63) | 1517.76 (4083.22) | <0.001            | \n",
       "| day3 (mean (sd)) | 1113.24 (2594.41) |  611.07 (2818.82) | <0.001            | \n",
       "| sofa_drop_2 (mean (sd)) |    0.91 (2.84)    |    0.97 (2.67)    | <0.001            | \n",
       "| sofa_drop_3 (mean (sd)) |    1.18 (3.05)    |    1.14 (3.12)    | <0.001            | \n",
       "| norepinephrine_max (mean (sd)) |    1.82 (3.31)    |    2.44 (4.22)    | <0.001            | \n",
       "| lactate_diff (mean (sd)) |    0.64 (1.93)    |    1.04 (2.24)    |  0.010            | \n",
       "| creatinine_diff (mean (sd)) |   -0.05 (0.93)    |    0.09 (1.02)    |  0.284            | \n",
       "\n",
       "\n"
      ],
      "text/plain": [
       "                               0                 1                 p     \n",
       "n                              5739.99           5845.39                 \n",
       "ventfreeday28 (mean (sd))        14.45 (15.99)     19.43 (50.91)    0.927\n",
       "vasofreeday28 (mean (sd))        18.23 (13.77)     18.95 (16.50)    0.050\n",
       "dobutamine_flag = 1 (%)           63.2 (1.1)       195.5 (3.3)     <0.001\n",
       "day1 (mean (sd))               3379.90 (3761.82) 3185.54 (4889.07)  0.001\n",
       "day2 (mean (sd))               2285.72 (2701.63) 1517.76 (4083.22) <0.001\n",
       "day3 (mean (sd))               1113.24 (2594.41)  611.07 (2818.82) <0.001\n",
       "sofa_drop_2 (mean (sd))           0.91 (2.84)       0.97 (2.67)    <0.001\n",
       "sofa_drop_3 (mean (sd))           1.18 (3.05)       1.14 (3.12)    <0.001\n",
       "norepinephrine_max (mean (sd))    1.82 (3.31)       2.44 (4.22)    <0.001\n",
       "lactate_diff (mean (sd))          0.64 (1.93)       1.04 (2.24)     0.010\n",
       "creatinine_diff (mean (sd))      -0.05 (0.93)       0.09 (1.02)     0.284"
      ]
     },
     "metadata": {},
     "output_type": "display_data"
    }
   ],
   "source": [
    "tab_wtd_df"
   ]
  },
  {
   "cell_type": "code",
   "execution_count": 16,
   "metadata": {},
   "outputs": [],
   "source": [
    "ps_icustay_id <- data.table::fread(file.path(data_dir, \"ps_icustay_id\"),\n",
    "                                   data.table = FALSE) %>% pull(icustay_id)"
   ]
  },
  {
   "cell_type": "code",
   "execution_count": 17,
   "metadata": {},
   "outputs": [],
   "source": [
    "ps_df <- subgroup %>% filter(icustay_id %in% ps_icustay_id)"
   ]
  },
  {
   "cell_type": "code",
   "execution_count": 18,
   "metadata": {},
   "outputs": [],
   "source": [
    "tab_ps <- CreateTableOne(vars = features, strata = \"echo\", data = ps_df)\n",
    "capture.output(tab_ps_df <- tab_ps %>%\n",
    "               print(smd = TRUE) %>%\n",
    "               as.data.frame(stringsAsFactors = FALSE) %>%\n",
    "               select(-test)) %>% invisible"
   ]
  },
  {
   "cell_type": "code",
   "execution_count": 19,
   "metadata": {},
   "outputs": [
    {
     "data": {
      "text/html": [
       "<table>\n",
       "<thead><tr><th></th><th scope=col>0</th><th scope=col>1</th><th scope=col>p</th><th scope=col>SMD</th></tr></thead>\n",
       "<tbody>\n",
       "\t<tr><th scope=row>n</th><td>   1629          </td><td>   1629          </td><td>                 </td><td>                 </td></tr>\n",
       "\t<tr><th scope=row>ventfreeday28 (mean (sd))</th><td>  17.72 (12.46)  </td><td>  19.80 (32.58)  </td><td> 0.016           </td><td> 0.084           </td></tr>\n",
       "\t<tr><th scope=row>vasofreeday28 (mean (sd))</th><td><span style=white-space:pre-wrap>  19.08 (12.82)  </span></td><td><span style=white-space:pre-wrap>  21.11 (16.87)  </span></td><td>&lt;0.001                                                </td><td> 0.136                                                   </td></tr>\n",
       "\t<tr><th scope=row>dobutamine_flag = 1 (%)</th><td>     21 (1.3)    </td><td>     34 (2.1)    </td><td> 0.103           </td><td> 0.062           </td></tr>\n",
       "\t<tr><th scope=row>day1 (mean (sd))</th><td>2131.86 (3377.28)</td><td>2344.77 (3747.93)</td><td> 0.108           </td><td> 0.060           </td></tr>\n",
       "\t<tr><th scope=row>day2 (mean (sd))</th><td> 911.10 (2488.49)</td><td>1264.00 (2870.83)</td><td> 0.001           </td><td> 0.131           </td></tr>\n",
       "\t<tr><th scope=row>day3 (mean (sd))</th><td> 236.50 (2129.40)</td><td> 727.27 (2664.70)</td><td>&lt;0.001        </td><td> 0.203           </td></tr>\n",
       "\t<tr><th scope=row>sofa_drop_2 (mean (sd))</th><td><span style=white-space:pre-wrap>   1.32 (4.52)   </span></td><td><span style=white-space:pre-wrap>   0.71 (3.19)   </span></td><td>&lt;0.001                                                </td><td> 0.157                                                   </td></tr>\n",
       "\t<tr><th scope=row>sofa_drop_3 (mean (sd))</th><td><span style=white-space:pre-wrap>   2.32 (4.88)   </span></td><td><span style=white-space:pre-wrap>   1.13 (3.90)   </span></td><td>&lt;0.001                                                </td><td> 0.269                                                   </td></tr>\n",
       "\t<tr><th scope=row>norepinephrine_max (mean (sd))</th><td>   1.02 (2.63)   </td><td>   1.36 (3.16)   </td><td> 0.001           </td><td> 0.118           </td></tr>\n",
       "\t<tr><th scope=row>lactate_diff (mean (sd))</th><td>   0.50 (2.50)   </td><td>   0.93 (1.92)   </td><td> 0.198           </td><td> 0.192           </td></tr>\n",
       "\t<tr><th scope=row>creatinine_diff (mean (sd))</th><td>   0.09 (0.92)   </td><td>   0.22 (0.88)   </td><td> 0.081           </td><td> 0.143           </td></tr>\n",
       "</tbody>\n",
       "</table>\n"
      ],
      "text/latex": [
       "\\begin{tabular}{r|llll}\n",
       "  & 0 & 1 & p & SMD\\\\\n",
       "\\hline\n",
       "\tn &    1629           &    1629           &                   &                  \\\\\n",
       "\tventfreeday28 (mean (sd)) &   17.72 (12.46)   &   19.80 (32.58)   &  0.016            &  0.084           \\\\\n",
       "\tvasofreeday28 (mean (sd)) &   19.08 (12.82)   &   21.11 (16.87)   & <0.001            &  0.136           \\\\\n",
       "\tdobutamine\\_flag = 1 (\\%) &      21 (1.3)     &      34 (2.1)     &  0.103            &  0.062           \\\\\n",
       "\tday1 (mean (sd)) & 2131.86 (3377.28) & 2344.77 (3747.93) &  0.108            &  0.060           \\\\\n",
       "\tday2 (mean (sd)) &  911.10 (2488.49) & 1264.00 (2870.83) &  0.001            &  0.131           \\\\\n",
       "\tday3 (mean (sd)) &  236.50 (2129.40) &  727.27 (2664.70) & <0.001            &  0.203           \\\\\n",
       "\tsofa\\_drop\\_2 (mean (sd)) &    1.32 (4.52)    &    0.71 (3.19)    & <0.001            &  0.157           \\\\\n",
       "\tsofa\\_drop\\_3 (mean (sd)) &    2.32 (4.88)    &    1.13 (3.90)    & <0.001            &  0.269           \\\\\n",
       "\tnorepinephrine\\_max (mean (sd)) &    1.02 (2.63)    &    1.36 (3.16)    &  0.001            &  0.118           \\\\\n",
       "\tlactate\\_diff (mean (sd)) &    0.50 (2.50)    &    0.93 (1.92)    &  0.198            &  0.192           \\\\\n",
       "\tcreatinine\\_diff (mean (sd)) &    0.09 (0.92)    &    0.22 (0.88)    &  0.081            &  0.143           \\\\\n",
       "\\end{tabular}\n"
      ],
      "text/markdown": [
       "\n",
       "| <!--/--> | 0 | 1 | p | SMD | \n",
       "|---|---|---|---|---|---|---|---|---|---|---|---|\n",
       "| n |    1629           |    1629           |                   |                   | \n",
       "| ventfreeday28 (mean (sd)) |   17.72 (12.46)   |   19.80 (32.58)   |  0.016            |  0.084            | \n",
       "| vasofreeday28 (mean (sd)) |   19.08 (12.82)   |   21.11 (16.87)   | <0.001            |  0.136            | \n",
       "| dobutamine_flag = 1 (%) |      21 (1.3)     |      34 (2.1)     |  0.103            |  0.062            | \n",
       "| day1 (mean (sd)) | 2131.86 (3377.28) | 2344.77 (3747.93) |  0.108            |  0.060            | \n",
       "| day2 (mean (sd)) |  911.10 (2488.49) | 1264.00 (2870.83) |  0.001            |  0.131            | \n",
       "| day3 (mean (sd)) |  236.50 (2129.40) |  727.27 (2664.70) | <0.001            |  0.203            | \n",
       "| sofa_drop_2 (mean (sd)) |    1.32 (4.52)    |    0.71 (3.19)    | <0.001            |  0.157            | \n",
       "| sofa_drop_3 (mean (sd)) |    2.32 (4.88)    |    1.13 (3.90)    | <0.001            |  0.269            | \n",
       "| norepinephrine_max (mean (sd)) |    1.02 (2.63)    |    1.36 (3.16)    |  0.001            |  0.118            | \n",
       "| lactate_diff (mean (sd)) |    0.50 (2.50)    |    0.93 (1.92)    |  0.198            |  0.192            | \n",
       "| creatinine_diff (mean (sd)) |    0.09 (0.92)    |    0.22 (0.88)    |  0.081            |  0.143            | \n",
       "\n",
       "\n"
      ],
      "text/plain": [
       "                               0                 1                 p     \n",
       "n                                 1629              1629                 \n",
       "ventfreeday28 (mean (sd))        17.72 (12.46)     19.80 (32.58)    0.016\n",
       "vasofreeday28 (mean (sd))        19.08 (12.82)     21.11 (16.87)   <0.001\n",
       "dobutamine_flag = 1 (%)             21 (1.3)          34 (2.1)      0.103\n",
       "day1 (mean (sd))               2131.86 (3377.28) 2344.77 (3747.93)  0.108\n",
       "day2 (mean (sd))                911.10 (2488.49) 1264.00 (2870.83)  0.001\n",
       "day3 (mean (sd))                236.50 (2129.40)  727.27 (2664.70) <0.001\n",
       "sofa_drop_2 (mean (sd))           1.32 (4.52)       0.71 (3.19)    <0.001\n",
       "sofa_drop_3 (mean (sd))           2.32 (4.88)       1.13 (3.90)    <0.001\n",
       "norepinephrine_max (mean (sd))    1.02 (2.63)       1.36 (3.16)     0.001\n",
       "lactate_diff (mean (sd))          0.50 (2.50)       0.93 (1.92)     0.198\n",
       "creatinine_diff (mean (sd))       0.09 (0.92)       0.22 (0.88)     0.081\n",
       "                               SMD   \n",
       "n                                    \n",
       "ventfreeday28 (mean (sd))       0.084\n",
       "vasofreeday28 (mean (sd))       0.136\n",
       "dobutamine_flag = 1 (%)         0.062\n",
       "day1 (mean (sd))                0.060\n",
       "day2 (mean (sd))                0.131\n",
       "day3 (mean (sd))                0.203\n",
       "sofa_drop_2 (mean (sd))         0.157\n",
       "sofa_drop_3 (mean (sd))         0.269\n",
       "norepinephrine_max (mean (sd))  0.118\n",
       "lactate_diff (mean (sd))        0.192\n",
       "creatinine_diff (mean (sd))     0.143"
      ]
     },
     "metadata": {},
     "output_type": "display_data"
    }
   ],
   "source": [
    "tab_ps_df"
   ]
  },
  {
   "cell_type": "code",
   "execution_count": null,
   "metadata": {},
   "outputs": [],
   "source": []
  }
 ],
 "metadata": {
  "kernelspec": {
   "display_name": "R",
   "language": "R",
   "name": "ir"
  },
  "language_info": {
   "codemirror_mode": "r",
   "file_extension": ".r",
   "mimetype": "text/x-r-source",
   "name": "R",
   "pygments_lexer": "r",
   "version": "3.4.3"
  },
  "varInspector": {
   "cols": {
    "lenName": 16,
    "lenType": 16,
    "lenVar": 40
   },
   "kernels_config": {
    "python": {
     "delete_cmd_postfix": "",
     "delete_cmd_prefix": "del ",
     "library": "var_list.py",
     "varRefreshCmd": "print(var_dic_list())"
    },
    "r": {
     "delete_cmd_postfix": ") ",
     "delete_cmd_prefix": "rm(",
     "library": "var_list.r",
     "varRefreshCmd": "cat(var_dic_list()) "
    }
   },
   "types_to_exclude": [
    "module",
    "function",
    "builtin_function_or_method",
    "instance",
    "_Feature"
   ],
   "window_display": false
  }
 },
 "nbformat": 4,
 "nbformat_minor": 2
}
