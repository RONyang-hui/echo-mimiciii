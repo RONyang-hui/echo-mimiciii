{
 "cells": [
  {
   "cell_type": "code",
   "execution_count": 1,
   "metadata": {},
   "outputs": [
    {
     "name": "stderr",
     "output_type": "stream",
     "text": [
      "Loading required package: DBI\n",
      "── Attaching packages ─────────────────────────────────────── tidyverse 1.2.1 ──\n",
      "✔ ggplot2 2.2.1     ✔ purrr   0.2.4\n",
      "✔ tibble  1.4.2     ✔ dplyr   0.7.4\n",
      "✔ tidyr   0.8.0     ✔ stringr 1.2.0\n",
      "✔ readr   1.1.1     ✔ forcats 0.2.0\n",
      "── Conflicts ────────────────────────────────────────── tidyverse_conflicts() ──\n",
      "✖ dplyr::filter() masks stats::filter()\n",
      "✖ dplyr::lag()    masks stats::lag()\n"
     ]
    }
   ],
   "source": [
    "library(RPostgreSQL)\n",
    "library(tidyverse)"
   ]
  },
  {
   "cell_type": "code",
   "execution_count": 2,
   "metadata": {},
   "outputs": [],
   "source": [
    "data_dir <- file.path(\"..\", \"data\")\n",
    "sql_dir <- file.path(\"..\", \"sql\")"
   ]
  },
  {
   "cell_type": "code",
   "execution_count": 3,
   "metadata": {},
   "outputs": [
    {
     "data": {
      "text/plain": [
       "<PostgreSQLResult>"
      ]
     },
     "metadata": {},
     "output_type": "display_data"
    }
   ],
   "source": [
    "drv <- dbDriver(\"PostgreSQL\")\n",
    "con <- dbConnect(drv, dbname = \"mimic\")\n",
    "dbSendQuery(con, \"set search_path=echo,public,mimiciii;\")"
   ]
  },
  {
   "cell_type": "code",
   "execution_count": 4,
   "metadata": {},
   "outputs": [
    {
     "data": {
      "text/html": [
       "<table>\n",
       "<thead><tr><th scope=col>icustay_id</th><th scope=col>hadm_id</th><th scope=col>subject_id</th><th scope=col>first_careunit</th><th scope=col>intime</th><th scope=col>outtime</th><th scope=col>angus</th><th scope=col>age</th><th scope=col>icu_order</th><th scope=col>echo_time</th><th scope=col>⋯</th><th scope=col>lab_sodium_flag</th><th scope=col>lab_bun_flag</th><th scope=col>lab_bicarbonate_flag</th><th scope=col>lab_bnp_flag</th><th scope=col>lab_pco2_flag</th><th scope=col>lab_creatinine_flag</th><th scope=col>lab_potassium_flag</th><th scope=col>lab_troponin_flag</th><th scope=col>lab_po2_flag</th><th scope=col>lab_lactate_flag</th></tr></thead>\n",
       "<tbody>\n",
       "\t<tr><td>228416             </td><td>159895             </td><td> 5491              </td><td>MICU               </td><td>2151-06-29 01:18:27</td><td>2151-07-27 16:00:56</td><td>1                  </td><td>76.58225           </td><td>1                  </td><td>2151-06-30         </td><td>⋯                  </td><td>1                  </td><td>1                  </td><td>1                  </td><td>0                  </td><td>1                  </td><td>1                  </td><td>1                  </td><td>0                  </td><td>1                  </td><td>1                  </td></tr>\n",
       "\t<tr><td>278148             </td><td>169700             </td><td>49395              </td><td>MICU               </td><td>2197-01-09 00:45:42</td><td>2197-01-10 06:46:29</td><td>1                  </td><td>82.72606           </td><td>1                  </td><td>NA                 </td><td>⋯                  </td><td>1                  </td><td>1                  </td><td>1                  </td><td>0                  </td><td>0                  </td><td>1                  </td><td>1                  </td><td>0                  </td><td>0                  </td><td>0                  </td></tr>\n",
       "\t<tr><td>274174             </td><td>103722             </td><td>14855              </td><td>MICU               </td><td>2181-09-08 23:43:13</td><td>2181-09-26 16:52:02</td><td>1                  </td><td>61.84390           </td><td>1                  </td><td>2181-09-11         </td><td>⋯                  </td><td>1                  </td><td>1                  </td><td>1                  </td><td>0                  </td><td>1                  </td><td>1                  </td><td>1                  </td><td>0                  </td><td>1                  </td><td>1                  </td></tr>\n",
       "\t<tr><td>214954             </td><td>170515             </td><td>54642              </td><td>MICU               </td><td>2176-03-11 04:58:23</td><td>2176-03-15 18:00:48</td><td>1                  </td><td>63.86507           </td><td>1                  </td><td>2176-03-11         </td><td>⋯                  </td><td>1                  </td><td>1                  </td><td>1                  </td><td>0                  </td><td>1                  </td><td>1                  </td><td>1                  </td><td>1                  </td><td>1                  </td><td>1                  </td></tr>\n",
       "\t<tr><td>222457             </td><td>183493             </td><td>96815              </td><td>MICU               </td><td>2105-06-04 20:57:55</td><td>2105-06-06 20:01:51</td><td>1                  </td><td>62.84018           </td><td>1                  </td><td>NA                 </td><td>⋯                  </td><td>1                  </td><td>1                  </td><td>1                  </td><td>0                  </td><td>0                  </td><td>1                  </td><td>1                  </td><td>0                  </td><td>0                  </td><td>0                  </td></tr>\n",
       "\t<tr><td>264413             </td><td>134244             </td><td>81436              </td><td>MICU               </td><td>2133-03-27 16:31:37</td><td>2133-04-04 16:15:28</td><td>1                  </td><td>62.60148           </td><td>1                  </td><td>2133-03-31         </td><td>⋯                  </td><td>1                  </td><td>1                  </td><td>1                  </td><td>0                  </td><td>0                  </td><td>1                  </td><td>1                  </td><td>0                  </td><td>0                  </td><td>1                  </td></tr>\n",
       "</tbody>\n",
       "</table>\n"
      ],
      "text/latex": [
       "\\begin{tabular}{r|llllllllllllllllllllllllllllllllllllllllllllllllllllllllllllllllllllllllllllllllllllllllllllllllllllllllllllllllllllllllllllllllll}\n",
       " icustay\\_id & hadm\\_id & subject\\_id & first\\_careunit & intime & outtime & angus & age & icu\\_order & echo\\_time & ⋯ & lab\\_sodium\\_flag & lab\\_bun\\_flag & lab\\_bicarbonate\\_flag & lab\\_bnp\\_flag & lab\\_pco2\\_flag & lab\\_creatinine\\_flag & lab\\_potassium\\_flag & lab\\_troponin\\_flag & lab\\_po2\\_flag & lab\\_lactate\\_flag\\\\\n",
       "\\hline\n",
       "\t 228416              & 159895              &  5491               & MICU                & 2151-06-29 01:18:27 & 2151-07-27 16:00:56 & 1                   & 76.58225            & 1                   & 2151-06-30          & ⋯                   & 1                   & 1                   & 1                   & 0                   & 1                   & 1                   & 1                   & 0                   & 1                   & 1                  \\\\\n",
       "\t 278148              & 169700              & 49395               & MICU                & 2197-01-09 00:45:42 & 2197-01-10 06:46:29 & 1                   & 82.72606            & 1                   & NA                  & ⋯                   & 1                   & 1                   & 1                   & 0                   & 0                   & 1                   & 1                   & 0                   & 0                   & 0                  \\\\\n",
       "\t 274174              & 103722              & 14855               & MICU                & 2181-09-08 23:43:13 & 2181-09-26 16:52:02 & 1                   & 61.84390            & 1                   & 2181-09-11          & ⋯                   & 1                   & 1                   & 1                   & 0                   & 1                   & 1                   & 1                   & 0                   & 1                   & 1                  \\\\\n",
       "\t 214954              & 170515              & 54642               & MICU                & 2176-03-11 04:58:23 & 2176-03-15 18:00:48 & 1                   & 63.86507            & 1                   & 2176-03-11          & ⋯                   & 1                   & 1                   & 1                   & 0                   & 1                   & 1                   & 1                   & 1                   & 1                   & 1                  \\\\\n",
       "\t 222457              & 183493              & 96815               & MICU                & 2105-06-04 20:57:55 & 2105-06-06 20:01:51 & 1                   & 62.84018            & 1                   & NA                  & ⋯                   & 1                   & 1                   & 1                   & 0                   & 0                   & 1                   & 1                   & 0                   & 0                   & 0                  \\\\\n",
       "\t 264413              & 134244              & 81436               & MICU                & 2133-03-27 16:31:37 & 2133-04-04 16:15:28 & 1                   & 62.60148            & 1                   & 2133-03-31          & ⋯                   & 1                   & 1                   & 1                   & 0                   & 0                   & 1                   & 1                   & 0                   & 0                   & 1                  \\\\\n",
       "\\end{tabular}\n"
      ],
      "text/markdown": [
       "\n",
       "icustay_id | hadm_id | subject_id | first_careunit | intime | outtime | angus | age | icu_order | echo_time | ⋯ | lab_sodium_flag | lab_bun_flag | lab_bicarbonate_flag | lab_bnp_flag | lab_pco2_flag | lab_creatinine_flag | lab_potassium_flag | lab_troponin_flag | lab_po2_flag | lab_lactate_flag | \n",
       "|---|---|---|---|---|---|\n",
       "| 228416              | 159895              |  5491               | MICU                | 2151-06-29 01:18:27 | 2151-07-27 16:00:56 | 1                   | 76.58225            | 1                   | 2151-06-30          | ⋯                   | 1                   | 1                   | 1                   | 0                   | 1                   | 1                   | 1                   | 0                   | 1                   | 1                   | \n",
       "| 278148              | 169700              | 49395               | MICU                | 2197-01-09 00:45:42 | 2197-01-10 06:46:29 | 1                   | 82.72606            | 1                   | NA                  | ⋯                   | 1                   | 1                   | 1                   | 0                   | 0                   | 1                   | 1                   | 0                   | 0                   | 0                   | \n",
       "| 274174              | 103722              | 14855               | MICU                | 2181-09-08 23:43:13 | 2181-09-26 16:52:02 | 1                   | 61.84390            | 1                   | 2181-09-11          | ⋯                   | 1                   | 1                   | 1                   | 0                   | 1                   | 1                   | 1                   | 0                   | 1                   | 1                   | \n",
       "| 214954              | 170515              | 54642               | MICU                | 2176-03-11 04:58:23 | 2176-03-15 18:00:48 | 1                   | 63.86507            | 1                   | 2176-03-11          | ⋯                   | 1                   | 1                   | 1                   | 0                   | 1                   | 1                   | 1                   | 1                   | 1                   | 1                   | \n",
       "| 222457              | 183493              | 96815               | MICU                | 2105-06-04 20:57:55 | 2105-06-06 20:01:51 | 1                   | 62.84018            | 1                   | NA                  | ⋯                   | 1                   | 1                   | 1                   | 0                   | 0                   | 1                   | 1                   | 0                   | 0                   | 0                   | \n",
       "| 264413              | 134244              | 81436               | MICU                | 2133-03-27 16:31:37 | 2133-04-04 16:15:28 | 1                   | 62.60148            | 1                   | 2133-03-31          | ⋯                   | 1                   | 1                   | 1                   | 0                   | 0                   | 1                   | 1                   | 0                   | 0                   | 1                   | \n",
       "\n",
       "\n"
      ],
      "text/plain": [
       "  icustay_id hadm_id subject_id first_careunit intime             \n",
       "1 228416     159895   5491      MICU           2151-06-29 01:18:27\n",
       "2 278148     169700  49395      MICU           2197-01-09 00:45:42\n",
       "3 274174     103722  14855      MICU           2181-09-08 23:43:13\n",
       "4 214954     170515  54642      MICU           2176-03-11 04:58:23\n",
       "5 222457     183493  96815      MICU           2105-06-04 20:57:55\n",
       "6 264413     134244  81436      MICU           2133-03-27 16:31:37\n",
       "  outtime             angus age      icu_order echo_time  ⋯ lab_sodium_flag\n",
       "1 2151-07-27 16:00:56 1     76.58225 1         2151-06-30 ⋯ 1              \n",
       "2 2197-01-10 06:46:29 1     82.72606 1         <NA>       ⋯ 1              \n",
       "3 2181-09-26 16:52:02 1     61.84390 1         2181-09-11 ⋯ 1              \n",
       "4 2176-03-15 18:00:48 1     63.86507 1         2176-03-11 ⋯ 1              \n",
       "5 2105-06-06 20:01:51 1     62.84018 1         <NA>       ⋯ 1              \n",
       "6 2133-04-04 16:15:28 1     62.60148 1         2133-03-31 ⋯ 1              \n",
       "  lab_bun_flag lab_bicarbonate_flag lab_bnp_flag lab_pco2_flag\n",
       "1 1            1                    0            1            \n",
       "2 1            1                    0            0            \n",
       "3 1            1                    0            1            \n",
       "4 1            1                    0            1            \n",
       "5 1            1                    0            0            \n",
       "6 1            1                    0            0            \n",
       "  lab_creatinine_flag lab_potassium_flag lab_troponin_flag lab_po2_flag\n",
       "1 1                   1                  0                 1           \n",
       "2 1                   1                  0                 0           \n",
       "3 1                   1                  0                 1           \n",
       "4 1                   1                  1                 1           \n",
       "5 1                   1                  0                 0           \n",
       "6 1                   1                  0                 0           \n",
       "  lab_lactate_flag\n",
       "1 1               \n",
       "2 0               \n",
       "3 1               \n",
       "4 1               \n",
       "5 0               \n",
       "6 1               "
      ]
     },
     "metadata": {},
     "output_type": "display_data"
    }
   ],
   "source": [
    "full_data <- dbGetQuery(con, \"select * from merged_data\")\n",
    "head(full_data)"
   ]
  },
  {
   "cell_type": "code",
   "execution_count": 5,
   "metadata": {},
   "outputs": [
    {
     "data": {
      "text/html": [
       "TRUE"
      ],
      "text/latex": [
       "TRUE"
      ],
      "text/markdown": [
       "TRUE"
      ],
      "text/plain": [
       "[1] TRUE"
      ]
     },
     "metadata": {},
     "output_type": "display_data"
    },
    {
     "data": {
      "text/html": [
       "TRUE"
      ],
      "text/latex": [
       "TRUE"
      ],
      "text/markdown": [
       "TRUE"
      ],
      "text/plain": [
       "[1] TRUE"
      ]
     },
     "metadata": {},
     "output_type": "display_data"
    }
   ],
   "source": [
    "dbDisconnect(con)\n",
    "dbUnloadDriver(drv)"
   ]
  },
  {
   "cell_type": "code",
   "execution_count": 6,
   "metadata": {},
   "outputs": [
    {
     "data": {
      "text/html": [
       "<table>\n",
       "<thead><tr><th scope=col>vs_heart_rate_flag</th><th scope=col>vs_cvp_flag</th><th scope=col>vs_map_flag</th><th scope=col>vs_temp_flag</th><th scope=col>lab_hemoglobin_flag</th><th scope=col>lab_platelet_flag</th><th scope=col>lab_creatinine_kinase_flag</th><th scope=col>lab_wbc_flag</th><th scope=col>lab_ph_flag</th><th scope=col>lab_chloride_flag</th><th scope=col>lab_sodium_flag</th><th scope=col>lab_bun_flag</th><th scope=col>lab_bicarbonate_flag</th><th scope=col>lab_bnp_flag</th><th scope=col>lab_pco2_flag</th><th scope=col>lab_creatinine_flag</th><th scope=col>lab_potassium_flag</th><th scope=col>lab_troponin_flag</th><th scope=col>lab_po2_flag</th><th scope=col>lab_lactate_flag</th></tr></thead>\n",
       "<tbody>\n",
       "\t<tr><td>1.210501</td><td>64.48672</td><td>1.210501</td><td>1.556359</td><td>4.008804</td><td>4.087408</td><td>51.45417</td><td>4.13457 </td><td>30.52979</td><td>2.641094</td><td>2.578211</td><td>2.845465</td><td>2.892627</td><td>97.15454</td><td>33.09228</td><td>2.829744</td><td>2.373841</td><td>69.18723</td><td>33.09228</td><td>38.23298</td></tr>\n",
       "</tbody>\n",
       "</table>\n"
      ],
      "text/latex": [
       "\\begin{tabular}{r|llllllllllllllllllll}\n",
       " vs\\_heart\\_rate\\_flag & vs\\_cvp\\_flag & vs\\_map\\_flag & vs\\_temp\\_flag & lab\\_hemoglobin\\_flag & lab\\_platelet\\_flag & lab\\_creatinine\\_kinase\\_flag & lab\\_wbc\\_flag & lab\\_ph\\_flag & lab\\_chloride\\_flag & lab\\_sodium\\_flag & lab\\_bun\\_flag & lab\\_bicarbonate\\_flag & lab\\_bnp\\_flag & lab\\_pco2\\_flag & lab\\_creatinine\\_flag & lab\\_potassium\\_flag & lab\\_troponin\\_flag & lab\\_po2\\_flag & lab\\_lactate\\_flag\\\\\n",
       "\\hline\n",
       "\t 1.210501 & 64.48672 & 1.210501 & 1.556359 & 4.008804 & 4.087408 & 51.45417 & 4.13457  & 30.52979 & 2.641094 & 2.578211 & 2.845465 & 2.892627 & 97.15454 & 33.09228 & 2.829744 & 2.373841 & 69.18723 & 33.09228 & 38.23298\\\\\n",
       "\\end{tabular}\n"
      ],
      "text/markdown": [
       "\n",
       "vs_heart_rate_flag | vs_cvp_flag | vs_map_flag | vs_temp_flag | lab_hemoglobin_flag | lab_platelet_flag | lab_creatinine_kinase_flag | lab_wbc_flag | lab_ph_flag | lab_chloride_flag | lab_sodium_flag | lab_bun_flag | lab_bicarbonate_flag | lab_bnp_flag | lab_pco2_flag | lab_creatinine_flag | lab_potassium_flag | lab_troponin_flag | lab_po2_flag | lab_lactate_flag | \n",
       "|---|\n",
       "| 1.210501 | 64.48672 | 1.210501 | 1.556359 | 4.008804 | 4.087408 | 51.45417 | 4.13457  | 30.52979 | 2.641094 | 2.578211 | 2.845465 | 2.892627 | 97.15454 | 33.09228 | 2.829744 | 2.373841 | 69.18723 | 33.09228 | 38.23298 | \n",
       "\n",
       "\n"
      ],
      "text/plain": [
       "  vs_heart_rate_flag vs_cvp_flag vs_map_flag vs_temp_flag lab_hemoglobin_flag\n",
       "1 1.210501           64.48672    1.210501    1.556359     4.008804           \n",
       "  lab_platelet_flag lab_creatinine_kinase_flag lab_wbc_flag lab_ph_flag\n",
       "1 4.087408          51.45417                   4.13457      30.52979   \n",
       "  lab_chloride_flag lab_sodium_flag lab_bun_flag lab_bicarbonate_flag\n",
       "1 2.641094          2.578211        2.845465     2.892627            \n",
       "  lab_bnp_flag lab_pco2_flag lab_creatinine_flag lab_potassium_flag\n",
       "1 97.15454     33.09228      2.829744            2.373841          \n",
       "  lab_troponin_flag lab_po2_flag lab_lactate_flag\n",
       "1 69.18723          33.09228     38.23298        "
      ]
     },
     "metadata": {},
     "output_type": "display_data"
    }
   ],
   "source": [
    "missing <- full_data %>%\n",
    "select(grep(\"flag\", names(.), value = TRUE)) %>%\n",
    "summarise_all(funs((1 - sum(.) / n()) * 100))\n",
    "\n",
    "head(missing)"
   ]
  }
 ],
 "metadata": {
  "kernelspec": {
   "display_name": "R",
   "language": "R",
   "name": "ir"
  },
  "language_info": {
   "codemirror_mode": "r",
   "file_extension": ".r",
   "mimetype": "text/x-r-source",
   "name": "R",
   "pygments_lexer": "r",
   "version": "3.4.3"
  }
 },
 "nbformat": 4,
 "nbformat_minor": 2
}
